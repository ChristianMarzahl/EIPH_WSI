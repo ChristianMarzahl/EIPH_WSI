{
 "cells": [
  {
   "cell_type": "code",
   "execution_count": 1,
   "metadata": {},
   "outputs": [],
   "source": [
    "%reload_ext autoreload\n",
    "%autoreload 2\n",
    "%matplotlib inline"
   ]
  },
  {
   "cell_type": "code",
   "execution_count": 2,
   "metadata": {},
   "outputs": [],
   "source": [
    "#https://scipython.com/blog/quadtrees-2-implementation-in-python/\n",
    "#https://pydoc.net/openslide-python/1.1.1/openslide/\n",
    "\n",
    "import numpy as np\n",
    "import openslide\n",
    "from probreg import cpd\n",
    "from probreg import transformation as tf\n",
    "import cv2\n",
    "from PIL import Image\n",
    "from pathlib import Path\n",
    "import pandas as pd\n",
    "from tqdm import tqdm\n",
    "import json\n",
    "\n",
    "import pickle"
   ]
  },
  {
   "cell_type": "code",
   "execution_count": 3,
   "metadata": {},
   "outputs": [],
   "source": [
    "## HACK get rid of it\n",
    "import sys\n",
    "sys.path.append(\"..\")\n",
    "from registration_tree import Rect, QuadTree"
   ]
  },
  {
   "cell_type": "markdown",
   "metadata": {},
   "source": [
    "## Unscharf:\n",
    "\n",
    "- Z_BB_569923_1 \n",
    "- Z_BB_574882_1\n",
    "- Z_BB_570370_1\n",
    "- Z_BB_566933L_1"
   ]
  },
  {
   "cell_type": "code",
   "execution_count": 4,
   "metadata": {},
   "outputs": [
    {
     "data": {
      "text/plain": [
       "5"
      ]
     },
     "execution_count": 4,
     "metadata": {},
     "output_type": "execute_result"
    }
   ],
   "source": [
    "source_slide_paths = list(Path(r\"D:\\Datasets\\ScannerStudy\\Aperio\\Cyto\").glob(\"*.svs\"))\n",
    "\n",
    "len(source_slide_paths)"
   ]
  },
  {
   "cell_type": "code",
   "execution_count": 5,
   "metadata": {},
   "outputs": [
    {
     "data": {
      "text/plain": [
       "5"
      ]
     },
     "execution_count": 5,
     "metadata": {},
     "output_type": "execute_result"
    }
   ],
   "source": [
    "target_slide_paths = list(Path(r\"D:\\Datasets\\ScannerStudy\\NanoZoomer2.0HT\\Cyto\").glob(\"*.ndpi\")) \n",
    "\n",
    "len(target_slide_paths)"
   ]
  },
  {
   "cell_type": "code",
   "execution_count": 6,
   "metadata": {},
   "outputs": [
    {
     "data": {
      "text/plain": [
       "dict_keys(['563476', '563479', '568320', '568381', '574162'])"
      ]
     },
     "execution_count": 6,
     "metadata": {},
     "output_type": "execute_result"
    }
   ],
   "source": [
    "source_slide_paths = {name.stem.split(\"_\")[2].split(\"_\")[0] : \n",
    "                      {\"name\": name, \"slide\": openslide.OpenSlide(str(name))}\n",
    "                      for name in source_slide_paths}\n",
    "source_slide_paths.keys()"
   ]
  },
  {
   "cell_type": "code",
   "execution_count": 7,
   "metadata": {},
   "outputs": [
    {
     "data": {
      "text/plain": [
       "dict_keys(['563476', '563479', '568320', '568381', '574162'])"
      ]
     },
     "execution_count": 7,
     "metadata": {},
     "output_type": "execute_result"
    }
   ],
   "source": [
    "target_slide_paths = {name.stem.split(\"_\")[2].split(\"_\")[0] : \n",
    "                      {\"name\": name, \"slide\": openslide.OpenSlide(str(name))}\n",
    "                      for name in target_slide_paths}\n",
    "target_slide_paths.keys()"
   ]
  },
  {
   "cell_type": "code",
   "execution_count": 8,
   "metadata": {},
   "outputs": [],
   "source": [
    "for name in source_slide_paths:\n",
    "    if name not in target_slide_paths:\n",
    "        print(name)"
   ]
  },
  {
   "cell_type": "code",
   "execution_count": 9,
   "metadata": {},
   "outputs": [],
   "source": [
    "for name in target_slide_paths:\n",
    "    if name not in source_slide_paths:\n",
    "        print(name)"
   ]
  },
  {
   "cell_type": "code",
   "execution_count": 10,
   "metadata": {},
   "outputs": [
    {
     "data": {
      "text/html": [
       "<div>\n",
       "<style scoped>\n",
       "    .dataframe tbody tr th:only-of-type {\n",
       "        vertical-align: middle;\n",
       "    }\n",
       "\n",
       "    .dataframe tbody tr th {\n",
       "        vertical-align: top;\n",
       "    }\n",
       "\n",
       "    .dataframe thead th {\n",
       "        text-align: right;\n",
       "    }\n",
       "</style>\n",
       "<table border=\"1\" class=\"dataframe\">\n",
       "  <thead>\n",
       "    <tr style=\"text-align: right;\">\n",
       "      <th></th>\n",
       "      <th>id</th>\n",
       "      <th>image_id</th>\n",
       "      <th>image_set</th>\n",
       "      <th>species</th>\n",
       "      <th>image_name</th>\n",
       "      <th>image_type</th>\n",
       "      <th>grade</th>\n",
       "      <th>vector</th>\n",
       "      <th>user_id</th>\n",
       "      <th>deleted</th>\n",
       "      <th>...</th>\n",
       "      <th>data_set_name</th>\n",
       "      <th>version</th>\n",
       "      <th>x1</th>\n",
       "      <th>y1</th>\n",
       "      <th>x2</th>\n",
       "      <th>y2</th>\n",
       "      <th>center_x</th>\n",
       "      <th>center_y</th>\n",
       "      <th>anno_width</th>\n",
       "      <th>anno_height</th>\n",
       "    </tr>\n",
       "    <tr>\n",
       "      <th>unique_identifier</th>\n",
       "      <th></th>\n",
       "      <th></th>\n",
       "      <th></th>\n",
       "      <th></th>\n",
       "      <th></th>\n",
       "      <th></th>\n",
       "      <th></th>\n",
       "      <th></th>\n",
       "      <th></th>\n",
       "      <th></th>\n",
       "      <th></th>\n",
       "      <th></th>\n",
       "      <th></th>\n",
       "      <th></th>\n",
       "      <th></th>\n",
       "      <th></th>\n",
       "      <th></th>\n",
       "      <th></th>\n",
       "      <th></th>\n",
       "      <th></th>\n",
       "      <th></th>\n",
       "    </tr>\n",
       "  </thead>\n",
       "  <tbody>\n",
       "    <tr>\n",
       "      <th>797adcd7-aeb7-4bb1-bceb-2ee094f91c39</th>\n",
       "      <td>2577504</td>\n",
       "      <td>5232</td>\n",
       "      <td>268</td>\n",
       "      <td>equine</td>\n",
       "      <td>19_EIPH_566933 L Berliner Blau.svs</td>\n",
       "      <td>Prussian</td>\n",
       "      <td>0</td>\n",
       "      <td>{'x1': 22302, 'x2': 22386, 'y1': 15891, 'y2': ...</td>\n",
       "      <td>1</td>\n",
       "      <td>False</td>\n",
       "      <td>...</td>\n",
       "      <td>SDATA</td>\n",
       "      <td>Density</td>\n",
       "      <td>22302</td>\n",
       "      <td>15891</td>\n",
       "      <td>22386</td>\n",
       "      <td>15975</td>\n",
       "      <td>22344.0</td>\n",
       "      <td>15933.0</td>\n",
       "      <td>84</td>\n",
       "      <td>84</td>\n",
       "    </tr>\n",
       "    <tr>\n",
       "      <th>ecf68944-5bf6-44c2-8f01-baa23470939c</th>\n",
       "      <td>2577505</td>\n",
       "      <td>5232</td>\n",
       "      <td>268</td>\n",
       "      <td>equine</td>\n",
       "      <td>19_EIPH_566933 L Berliner Blau.svs</td>\n",
       "      <td>Prussian</td>\n",
       "      <td>0</td>\n",
       "      <td>{'x1': 26391, 'x2': 26480, 'y1': 21617, 'y2': ...</td>\n",
       "      <td>1</td>\n",
       "      <td>False</td>\n",
       "      <td>...</td>\n",
       "      <td>SDATA</td>\n",
       "      <td>Density</td>\n",
       "      <td>26391</td>\n",
       "      <td>21617</td>\n",
       "      <td>26480</td>\n",
       "      <td>21706</td>\n",
       "      <td>26435.5</td>\n",
       "      <td>21661.5</td>\n",
       "      <td>89</td>\n",
       "      <td>89</td>\n",
       "    </tr>\n",
       "    <tr>\n",
       "      <th>0c00d34b-8ad9-43fc-b182-e2afb48204c8</th>\n",
       "      <td>2577506</td>\n",
       "      <td>5232</td>\n",
       "      <td>268</td>\n",
       "      <td>equine</td>\n",
       "      <td>19_EIPH_566933 L Berliner Blau.svs</td>\n",
       "      <td>Prussian</td>\n",
       "      <td>0</td>\n",
       "      <td>{'x1': 30377, 'x2': 30459, 'y1': 12843, 'y2': ...</td>\n",
       "      <td>1</td>\n",
       "      <td>False</td>\n",
       "      <td>...</td>\n",
       "      <td>SDATA</td>\n",
       "      <td>Density</td>\n",
       "      <td>30377</td>\n",
       "      <td>12843</td>\n",
       "      <td>30459</td>\n",
       "      <td>12925</td>\n",
       "      <td>30418.0</td>\n",
       "      <td>12884.0</td>\n",
       "      <td>82</td>\n",
       "      <td>82</td>\n",
       "    </tr>\n",
       "    <tr>\n",
       "      <th>5a980dfd-c77a-4a64-b874-dfb6f0e04285</th>\n",
       "      <td>2577507</td>\n",
       "      <td>5232</td>\n",
       "      <td>268</td>\n",
       "      <td>equine</td>\n",
       "      <td>19_EIPH_566933 L Berliner Blau.svs</td>\n",
       "      <td>Prussian</td>\n",
       "      <td>0</td>\n",
       "      <td>{'x1': 13150, 'x2': 13253, 'y1': 22302, 'y2': ...</td>\n",
       "      <td>1</td>\n",
       "      <td>False</td>\n",
       "      <td>...</td>\n",
       "      <td>SDATA</td>\n",
       "      <td>Density</td>\n",
       "      <td>13150</td>\n",
       "      <td>22302</td>\n",
       "      <td>13253</td>\n",
       "      <td>22406</td>\n",
       "      <td>13201.5</td>\n",
       "      <td>22354.0</td>\n",
       "      <td>103</td>\n",
       "      <td>104</td>\n",
       "    </tr>\n",
       "    <tr>\n",
       "      <th>0d28d4d1-e53e-40fc-88f3-0553d62007e8</th>\n",
       "      <td>2577508</td>\n",
       "      <td>5232</td>\n",
       "      <td>268</td>\n",
       "      <td>equine</td>\n",
       "      <td>19_EIPH_566933 L Berliner Blau.svs</td>\n",
       "      <td>Prussian</td>\n",
       "      <td>0</td>\n",
       "      <td>{'x1': 12288, 'x2': 12338, 'y1': 6693, 'y2': 6...</td>\n",
       "      <td>1</td>\n",
       "      <td>False</td>\n",
       "      <td>...</td>\n",
       "      <td>SDATA</td>\n",
       "      <td>Density</td>\n",
       "      <td>12288</td>\n",
       "      <td>6693</td>\n",
       "      <td>12338</td>\n",
       "      <td>6785</td>\n",
       "      <td>12313.0</td>\n",
       "      <td>6739.0</td>\n",
       "      <td>50</td>\n",
       "      <td>92</td>\n",
       "    </tr>\n",
       "  </tbody>\n",
       "</table>\n",
       "<p>5 rows × 21 columns</p>\n",
       "</div>"
      ],
      "text/plain": [
       "                                           id  image_id  image_set species  \\\n",
       "unique_identifier                                                            \n",
       "797adcd7-aeb7-4bb1-bceb-2ee094f91c39  2577504      5232        268  equine   \n",
       "ecf68944-5bf6-44c2-8f01-baa23470939c  2577505      5232        268  equine   \n",
       "0c00d34b-8ad9-43fc-b182-e2afb48204c8  2577506      5232        268  equine   \n",
       "5a980dfd-c77a-4a64-b874-dfb6f0e04285  2577507      5232        268  equine   \n",
       "0d28d4d1-e53e-40fc-88f3-0553d62007e8  2577508      5232        268  equine   \n",
       "\n",
       "                                                              image_name  \\\n",
       "unique_identifier                                                          \n",
       "797adcd7-aeb7-4bb1-bceb-2ee094f91c39  19_EIPH_566933 L Berliner Blau.svs   \n",
       "ecf68944-5bf6-44c2-8f01-baa23470939c  19_EIPH_566933 L Berliner Blau.svs   \n",
       "0c00d34b-8ad9-43fc-b182-e2afb48204c8  19_EIPH_566933 L Berliner Blau.svs   \n",
       "5a980dfd-c77a-4a64-b874-dfb6f0e04285  19_EIPH_566933 L Berliner Blau.svs   \n",
       "0d28d4d1-e53e-40fc-88f3-0553d62007e8  19_EIPH_566933 L Berliner Blau.svs   \n",
       "\n",
       "                                     image_type  grade  \\\n",
       "unique_identifier                                        \n",
       "797adcd7-aeb7-4bb1-bceb-2ee094f91c39   Prussian      0   \n",
       "ecf68944-5bf6-44c2-8f01-baa23470939c   Prussian      0   \n",
       "0c00d34b-8ad9-43fc-b182-e2afb48204c8   Prussian      0   \n",
       "5a980dfd-c77a-4a64-b874-dfb6f0e04285   Prussian      0   \n",
       "0d28d4d1-e53e-40fc-88f3-0553d62007e8   Prussian      0   \n",
       "\n",
       "                                                                                 vector  \\\n",
       "unique_identifier                                                                         \n",
       "797adcd7-aeb7-4bb1-bceb-2ee094f91c39  {'x1': 22302, 'x2': 22386, 'y1': 15891, 'y2': ...   \n",
       "ecf68944-5bf6-44c2-8f01-baa23470939c  {'x1': 26391, 'x2': 26480, 'y1': 21617, 'y2': ...   \n",
       "0c00d34b-8ad9-43fc-b182-e2afb48204c8  {'x1': 30377, 'x2': 30459, 'y1': 12843, 'y2': ...   \n",
       "5a980dfd-c77a-4a64-b874-dfb6f0e04285  {'x1': 13150, 'x2': 13253, 'y1': 22302, 'y2': ...   \n",
       "0d28d4d1-e53e-40fc-88f3-0553d62007e8  {'x1': 12288, 'x2': 12338, 'y1': 6693, 'y2': 6...   \n",
       "\n",
       "                                      user_id  deleted  ...  data_set_name  \\\n",
       "unique_identifier                                       ...                  \n",
       "797adcd7-aeb7-4bb1-bceb-2ee094f91c39        1    False  ...          SDATA   \n",
       "ecf68944-5bf6-44c2-8f01-baa23470939c        1    False  ...          SDATA   \n",
       "0c00d34b-8ad9-43fc-b182-e2afb48204c8        1    False  ...          SDATA   \n",
       "5a980dfd-c77a-4a64-b874-dfb6f0e04285        1    False  ...          SDATA   \n",
       "0d28d4d1-e53e-40fc-88f3-0553d62007e8        1    False  ...          SDATA   \n",
       "\n",
       "                                      version     x1     y1     x2     y2  \\\n",
       "unique_identifier                                                           \n",
       "797adcd7-aeb7-4bb1-bceb-2ee094f91c39  Density  22302  15891  22386  15975   \n",
       "ecf68944-5bf6-44c2-8f01-baa23470939c  Density  26391  21617  26480  21706   \n",
       "0c00d34b-8ad9-43fc-b182-e2afb48204c8  Density  30377  12843  30459  12925   \n",
       "5a980dfd-c77a-4a64-b874-dfb6f0e04285  Density  13150  22302  13253  22406   \n",
       "0d28d4d1-e53e-40fc-88f3-0553d62007e8  Density  12288   6693  12338   6785   \n",
       "\n",
       "                                      center_x  center_y  anno_width  \\\n",
       "unique_identifier                                                      \n",
       "797adcd7-aeb7-4bb1-bceb-2ee094f91c39   22344.0   15933.0          84   \n",
       "ecf68944-5bf6-44c2-8f01-baa23470939c   26435.5   21661.5          89   \n",
       "0c00d34b-8ad9-43fc-b182-e2afb48204c8   30418.0   12884.0          82   \n",
       "5a980dfd-c77a-4a64-b874-dfb6f0e04285   13201.5   22354.0         103   \n",
       "0d28d4d1-e53e-40fc-88f3-0553d62007e8   12313.0    6739.0          50   \n",
       "\n",
       "                                      anno_height  \n",
       "unique_identifier                                  \n",
       "797adcd7-aeb7-4bb1-bceb-2ee094f91c39           84  \n",
       "ecf68944-5bf6-44c2-8f01-baa23470939c           89  \n",
       "0c00d34b-8ad9-43fc-b182-e2afb48204c8           82  \n",
       "5a980dfd-c77a-4a64-b874-dfb6f0e04285          104  \n",
       "0d28d4d1-e53e-40fc-88f3-0553d62007e8           92  \n",
       "\n",
       "[5 rows x 21 columns]"
      ]
     },
     "execution_count": 10,
     "metadata": {},
     "output_type": "execute_result"
    }
   ],
   "source": [
    "df = pd.read_pickle(\"../../../SDATA/Statistics/SDATA_Final_Annotations.pkl\")\n",
    "df = df[df[\"species\"] == \"equine\"]\n",
    "\n",
    "df[\"x1\"] = [vector['x1'] if type(vector) is dict else 0 for vector in df[\"vector\"]]\n",
    "df[\"y1\"] = [vector['y1'] if type(vector) is dict else 0 for vector in df[\"vector\"]]\n",
    "\n",
    "df[\"x2\"] = [vector['x2'] if type(vector) is dict else 0 for vector in df[\"vector\"]]\n",
    "df[\"y2\"] = [vector['y2'] if type(vector) is dict else 0 for vector in df[\"vector\"]]\n",
    "\n",
    "df[\"center_x\"] = [x1 + ((x2-x1) / 2) for x1, x2 in zip(df[\"x1\"], df[\"x2\"])]\n",
    "df[\"center_y\"] = [y1 + ((y2-y1) / 2) for y1, y2 in zip(df[\"y1\"], df[\"y2\"])]\n",
    "\n",
    "df[\"anno_width\"] = [x2-x1 for x1, x2 in zip(df[\"x1\"], df[\"x2\"])]\n",
    "df[\"anno_height\"]= [y2-y1 for y1, y2 in zip(df[\"y1\"], df[\"y2\"])]\n",
    "\n",
    "df.head()"
   ]
  },
  {
   "cell_type": "code",
   "execution_count": 11,
   "metadata": {},
   "outputs": [
    {
     "name": "stdout",
     "output_type": "stream",
     "text": [
      "Wall time: 55min 50s\n"
     ]
    }
   ],
   "source": [
    "%%time\n",
    "\n",
    "results = {}\n",
    "#target_depth = 2\n",
    "\n",
    "for thumbnail_size in [(1024, 1024), (2048, 2048), (4096, 4096)]:\n",
    "    \n",
    "    for target_depth in [0, 1, 2]:\n",
    "        \n",
    "        result_folder = Path(f\"Depth_{target_depth}/{thumbnail_size[0]}\")\n",
    "\n",
    "        result_folder.mkdir(parents=True, exist_ok=True)\n",
    "    \n",
    "        for name, source in source_slide_paths.items():\n",
    "\n",
    "            parameter = {\n",
    "                # feature extractor parameters\n",
    "                \"point_extractor\": \"sift\",  #orb , sift\n",
    "                \"maxFeatures\": 512, \n",
    "                \"crossCheck\": False, \n",
    "                \"flann\": False,\n",
    "                \"ratio\": 0.5, \n",
    "                \"use_gray\": False,\n",
    "\n",
    "                # QTree parameter \n",
    "                \"homography\": True,\n",
    "                \"filter_outliner\": False,\n",
    "                \"debug\": True,\n",
    "                \"target_depth\": target_depth,\n",
    "                \"run_async\": False,\n",
    "                \"thumbnail_size\": thumbnail_size\n",
    "            }\n",
    "\n",
    "            target = target_slide_paths[name]\n",
    "\n",
    "\n",
    "            source_slide = source[\"slide\"]\n",
    "            target_slide = target[\"slide\"]\n",
    "\n",
    "            source_dimension = Rect.create(Rect, 0, 0, source_slide.dimensions[0], source_slide.dimensions[1])\n",
    "            target_dimension = Rect.create(Rect, 0, 0, target_slide.dimensions[0], target_slide.dimensions[1])\n",
    "\n",
    "            qtree = QuadTree(source_dimension, source_slide, target_dimension, target_slide, **parameter)\n",
    "\n",
    "            results[source[\"name\"]] = qtree\n",
    "            \n",
    "            with open(result_folder / f'{qtree.source_name}-To-{qtree.target_name}.pickle', 'wb') as handle:\n",
    "                pickle.dump(qtree, handle, protocol=pickle.HIGHEST_PROTOCOL)"
   ]
  },
  {
   "cell_type": "code",
   "execution_count": null,
   "metadata": {
    "scrolled": false
   },
   "outputs": [
    {
     "name": "stderr",
     "output_type": "stream",
     "text": [
      "..\\registration_tree.py:442: RuntimeWarning: More than 20 figures have been opened. Figures created through the pyplot interface (`matplotlib.pyplot.figure`) are retained until explicitly closed and may consume too much memory. (To control this warning, see the rcParam `figure.max_open_warning`).\n",
      "  fig = plt.figure(constrained_layout=True, figsize=figsize)\n"
     ]
    }
   ],
   "source": [
    "for path, qtree in results.items():\n",
    "    \n",
    "    df_gt = df[df[\"image_name\"].str.contains(path.stem.split(\"_\")[-2])].sort_values(by=[\"grade\"], ascending=False)\n",
    "    \n",
    "    annos = np.array(df_gt[[\"center_x\", \"center_y\", \"anno_width\", \"anno_height\"]]) \n",
    "    qtree.draw_annotations(annos, num_sub_pic=5, figsize=(10, 10))"
   ]
  },
  {
   "cell_type": "code",
   "execution_count": null,
   "metadata": {},
   "outputs": [],
   "source": []
  }
 ],
 "metadata": {
  "kernelspec": {
   "display_name": "Python 3",
   "language": "python",
   "name": "python3"
  },
  "language_info": {
   "codemirror_mode": {
    "name": "ipython",
    "version": 3
   },
   "file_extension": ".py",
   "mimetype": "text/x-python",
   "name": "python",
   "nbconvert_exporter": "python",
   "pygments_lexer": "ipython3",
   "version": "3.6.10"
  }
 },
 "nbformat": 4,
 "nbformat_minor": 4
}
