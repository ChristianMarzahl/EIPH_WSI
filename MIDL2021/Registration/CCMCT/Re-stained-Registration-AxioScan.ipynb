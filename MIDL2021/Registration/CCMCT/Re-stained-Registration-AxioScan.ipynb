{
 "cells": [
  {
   "cell_type": "code",
   "execution_count": 1,
   "metadata": {},
   "outputs": [],
   "source": [
    "%reload_ext autoreload\n",
    "%autoreload 2\n",
    "%matplotlib inline"
   ]
  },
  {
   "cell_type": "code",
   "execution_count": 2,
   "metadata": {},
   "outputs": [],
   "source": [
    "#https://scipython.com/blog/quadtrees-2-implementation-in-python/\n",
    "#https://pydoc.net/openslide-python/1.1.1/openslide/\n",
    "\n",
    "import numpy as np\n",
    "import openslide\n",
    "from probreg import cpd\n",
    "from probreg import transformation as tf\n",
    "import cv2\n",
    "from PIL import Image\n",
    "from pathlib import Path\n",
    "import pandas as pd\n",
    "from tqdm import tqdm\n",
    "import json\n",
    "\n",
    "import pickle"
   ]
  },
  {
   "cell_type": "code",
   "execution_count": 3,
   "metadata": {},
   "outputs": [],
   "source": [
    "## HACK get rid of it\n",
    "import sys\n",
    "sys.path.append(\"D:/ProgProjekte/Python/Re-stained_WSIs_Registration/src\")\n",
    "\n",
    "from wsi_registration import TissueDetector, MatcherParameters, WSI_Matcher"
   ]
  },
  {
   "cell_type": "code",
   "execution_count": 4,
   "metadata": {},
   "outputs": [
    {
     "data": {
      "text/plain": [
       "5"
      ]
     },
     "execution_count": 4,
     "metadata": {},
     "output_type": "execute_result"
    }
   ],
   "source": [
    "source_slide_paths = list(Path(r\"D:\\Datasets\\ScannerStudy\\Aperio\\CCMCT\").glob(\"*.svs\"))\n",
    "\n",
    "if len(source_slide_paths) == 0:\n",
    "    source_slide_paths = list(Path(r\"/data/ScannerStudy/Aperio/CCMCT\").glob(\"*.svs\"))\n",
    "\n",
    "len(source_slide_paths)"
   ]
  },
  {
   "cell_type": "code",
   "execution_count": 5,
   "metadata": {},
   "outputs": [
    {
     "data": {
      "text/plain": [
       "5"
      ]
     },
     "execution_count": 5,
     "metadata": {},
     "output_type": "execute_result"
    }
   ],
   "source": [
    "target_slide_paths = list(Path(r\"D:\\Datasets\\ScannerStudy\\AxioScan\\CCMCT\").glob(\"*.tif\")) \n",
    "\n",
    "\n",
    "if len(target_slide_paths) == 0:\n",
    "    target_slide_paths = list(Path(r\"/data/ScannerStudy/AxioScan/CCMCT\").glob(\"*.tif\"))\n",
    "\n",
    "len(target_slide_paths)"
   ]
  },
  {
   "cell_type": "code",
   "execution_count": 6,
   "metadata": {},
   "outputs": [
    {
     "data": {
      "text/plain": [
       "dict_keys(['183715A', '22108', '29609B', '380609B', '518711B'])"
      ]
     },
     "execution_count": 6,
     "metadata": {},
     "output_type": "execute_result"
    }
   ],
   "source": [
    "source_slide_paths = {name.stem.split(\"_\")[-2] : \n",
    "                      {\"name\": name, \"slide\": openslide.OpenSlide(str(name))}\n",
    "                      for name in source_slide_paths}\n",
    "source_slide_paths.keys()"
   ]
  },
  {
   "cell_type": "code",
   "execution_count": 7,
   "metadata": {},
   "outputs": [
    {
     "data": {
      "text/plain": [
       "dict_keys(['183715A', '22108', '29609B', '380609B', '518711B'])"
      ]
     },
     "execution_count": 7,
     "metadata": {},
     "output_type": "execute_result"
    }
   ],
   "source": [
    "target_slide_paths = {name.stem.split(\"_\")[-2] : \n",
    "                      {\"name\": name, \"slide\": openslide.OpenSlide(str(name))}\n",
    "                      for name in target_slide_paths}\n",
    "target_slide_paths.keys()"
   ]
  },
  {
   "cell_type": "code",
   "execution_count": 8,
   "metadata": {},
   "outputs": [],
   "source": [
    "for name in source_slide_paths:\n",
    "    if name not in target_slide_paths:\n",
    "        print(name)"
   ]
  },
  {
   "cell_type": "code",
   "execution_count": 9,
   "metadata": {},
   "outputs": [],
   "source": [
    "for name in target_slide_paths:\n",
    "    if name not in source_slide_paths:\n",
    "        print(name)"
   ]
  },
  {
   "cell_type": "code",
   "execution_count": 25,
   "metadata": {},
   "outputs": [
    {
     "name": "stdout",
     "output_type": "stream",
     "text": [
      "Source: D:\\Datasets\\ScannerStudy\\Aperio\\CCMCT\\A_CCMCT_183715A_1.svs \n",
      " Target: D:\\Datasets\\ScannerStudy\\AxioScan\\CCMCT\\Z_CCMCT_183715A_1.tif\n",
      "(-2080.47445740913, -2362.619890345375)\n",
      "(-5463.47445740913, -1682.619890345375)\n",
      "(2426.52554259087, -2161.619890345375)\n",
      "(1153.52554259087, -3542.619890345375)\n",
      "(-2925.47445740913, -1725.619890345375)\n",
      "Wall time: 3min 29s\n"
     ]
    }
   ],
   "source": [
    "%%time\n",
    "\n",
    "for name, source in source_slide_paths.items():\n",
    "    \n",
    "    target = target_slide_paths[name]\n",
    "    \n",
    "    fixed_wsi = source[\"slide\"]._filename\n",
    "    float_wsi = target[\"slide\"]._filename\n",
    "    \n",
    "    print(f\"Source: {fixed_wsi} \\n Target: {float_wsi}\")\n",
    "    \n",
    "    for i in range(5):\n",
    "        tissue_detector = TissueDetector(\"LAB_Threshold\", threshold=80)\n",
    "\n",
    "        matcher_parameters = MatcherParameters() \n",
    "        matcher = WSI_Matcher(tissue_detector, matcher_parameters)\n",
    "\n",
    "        offset = matcher.match(fixed_wsi, float_wsi)\n",
    "\n",
    "        print(f\"{offset}\")\n",
    "    \n",
    "    break\n",
    "    "
   ]
  },
  {
   "cell_type": "code",
   "execution_count": null,
   "metadata": {},
   "outputs": [],
   "source": []
  },
  {
   "cell_type": "code",
   "execution_count": null,
   "metadata": {},
   "outputs": [],
   "source": []
  },
  {
   "cell_type": "code",
   "execution_count": null,
   "metadata": {},
   "outputs": [],
   "source": []
  },
  {
   "cell_type": "code",
   "execution_count": null,
   "metadata": {},
   "outputs": [],
   "source": []
  }
 ],
 "metadata": {
  "kernelspec": {
   "display_name": "Python 3",
   "language": "python",
   "name": "python3"
  },
  "language_info": {
   "codemirror_mode": {
    "name": "ipython",
    "version": 3
   },
   "file_extension": ".py",
   "mimetype": "text/x-python",
   "name": "python",
   "nbconvert_exporter": "python",
   "pygments_lexer": "ipython3",
   "version": "3.6.10"
  }
 },
 "nbformat": 4,
 "nbformat_minor": 4
}
