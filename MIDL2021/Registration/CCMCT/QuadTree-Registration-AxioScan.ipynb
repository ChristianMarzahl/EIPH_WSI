{
 "cells": [
  {
   "cell_type": "code",
   "execution_count": 1,
   "metadata": {},
   "outputs": [],
   "source": [
    "%reload_ext autoreload\n",
    "%autoreload 2\n",
    "%matplotlib inline"
   ]
  },
  {
   "cell_type": "code",
   "execution_count": 2,
   "metadata": {},
   "outputs": [],
   "source": [
    "#https://scipython.com/blog/quadtrees-2-implementation-in-python/\n",
    "#https://pydoc.net/openslide-python/1.1.1/openslide/\n",
    "\n",
    "import numpy as np\n",
    "import openslide\n",
    "from probreg import cpd\n",
    "from probreg import transformation as tf\n",
    "import cv2\n",
    "from PIL import Image\n",
    "from pathlib import Path\n",
    "import pandas as pd\n",
    "from tqdm import tqdm\n",
    "import json"
   ]
  },
  {
   "cell_type": "code",
   "execution_count": 3,
   "metadata": {},
   "outputs": [],
   "source": [
    "## HACK get rid of it\n",
    "import sys\n",
    "sys.path.append(\"..\")\n",
    "from registration_tree import Rect, QuadTree"
   ]
  },
  {
   "cell_type": "code",
   "execution_count": 4,
   "metadata": {},
   "outputs": [
    {
     "data": {
      "text/plain": [
       "5"
      ]
     },
     "execution_count": 4,
     "metadata": {},
     "output_type": "execute_result"
    }
   ],
   "source": [
    "source_slide_paths = list(Path(r\"D:\\Datasets\\ScannerStudy\\Aperio\\CCMCT\").glob(\"*.svs\"))\n",
    "\n",
    "len(source_slide_paths)"
   ]
  },
  {
   "cell_type": "code",
   "execution_count": 5,
   "metadata": {},
   "outputs": [
    {
     "data": {
      "text/plain": [
       "5"
      ]
     },
     "execution_count": 5,
     "metadata": {},
     "output_type": "execute_result"
    }
   ],
   "source": [
    "target_slide_paths = list(Path(r\"D:\\Datasets\\ScannerStudy\\AxioScan\\CCMCT\").glob(\"*.tif\")) \n",
    "\n",
    "len(target_slide_paths)"
   ]
  },
  {
   "cell_type": "code",
   "execution_count": 6,
   "metadata": {},
   "outputs": [
    {
     "data": {
      "text/plain": [
       "dict_keys(['183715A', '22108', '29609B', '380609B', '518711B'])"
      ]
     },
     "execution_count": 6,
     "metadata": {},
     "output_type": "execute_result"
    }
   ],
   "source": [
    "source_slide_paths = {name.stem.split(\"_\")[-2] : \n",
    "                      {\"name\": name, \"slide\": openslide.OpenSlide(str(name))}\n",
    "                      for name in source_slide_paths}\n",
    "source_slide_paths.keys()"
   ]
  },
  {
   "cell_type": "code",
   "execution_count": 7,
   "metadata": {},
   "outputs": [
    {
     "data": {
      "text/plain": [
       "dict_keys(['183715A', '22108', '29609B', '380609B', '518711B'])"
      ]
     },
     "execution_count": 7,
     "metadata": {},
     "output_type": "execute_result"
    }
   ],
   "source": [
    "target_slide_paths = {name.stem.split(\"_\")[-2] : \n",
    "                      {\"name\": name, \"slide\": openslide.OpenSlide(str(name))}\n",
    "                      for name in target_slide_paths}\n",
    "target_slide_paths.keys()"
   ]
  },
  {
   "cell_type": "code",
   "execution_count": 8,
   "metadata": {},
   "outputs": [],
   "source": [
    "for name in source_slide_paths:\n",
    "    if name not in target_slide_paths:\n",
    "        print(name)"
   ]
  },
  {
   "cell_type": "code",
   "execution_count": 9,
   "metadata": {},
   "outputs": [],
   "source": [
    "for name in target_slide_paths:\n",
    "    if name not in source_slide_paths:\n",
    "        print(name)"
   ]
  },
  {
   "cell_type": "code",
   "execution_count": 10,
   "metadata": {},
   "outputs": [
    {
     "data": {
      "text/html": [
       "<div>\n",
       "<style scoped>\n",
       "    .dataframe tbody tr th:only-of-type {\n",
       "        vertical-align: middle;\n",
       "    }\n",
       "\n",
       "    .dataframe tbody tr th {\n",
       "        vertical-align: top;\n",
       "    }\n",
       "\n",
       "    .dataframe thead th {\n",
       "        text-align: right;\n",
       "    }\n",
       "</style>\n",
       "<table border=\"1\" class=\"dataframe\">\n",
       "  <thead>\n",
       "    <tr style=\"text-align: right;\">\n",
       "      <th></th>\n",
       "      <th>image_name</th>\n",
       "      <th>grade</th>\n",
       "      <th>vector</th>\n",
       "    </tr>\n",
       "  </thead>\n",
       "  <tbody>\n",
       "    <tr>\n",
       "      <th>0</th>\n",
       "      <td>A_CCMCT_29609B_1.svs</td>\n",
       "      <td>mitosis</td>\n",
       "      <td>{\"x1\": 57204,\"y1\": 28229,\"x2\": 57254,\"y2\": 28279}</td>\n",
       "    </tr>\n",
       "    <tr>\n",
       "      <th>1</th>\n",
       "      <td>A_CCMCT_29609B_1.svs</td>\n",
       "      <td>mitosis</td>\n",
       "      <td>{\"x1\": 57895,\"y1\": 37440,\"x2\": 57945,\"y2\": 37490}</td>\n",
       "    </tr>\n",
       "    <tr>\n",
       "      <th>2</th>\n",
       "      <td>A_CCMCT_29609B_1.svs</td>\n",
       "      <td>mitosis</td>\n",
       "      <td>{\"x1\": 54810,\"y1\": 37131,\"x2\": 54860,\"y2\": 37181}</td>\n",
       "    </tr>\n",
       "    <tr>\n",
       "      <th>3</th>\n",
       "      <td>A_CCMCT_29609B_1.svs</td>\n",
       "      <td>mitosis</td>\n",
       "      <td>{\"x1\": 54575,\"y1\": 34537,\"x2\": 54625,\"y2\": 34587}</td>\n",
       "    </tr>\n",
       "    <tr>\n",
       "      <th>4</th>\n",
       "      <td>A_CCMCT_29609B_1.svs</td>\n",
       "      <td>mitosis</td>\n",
       "      <td>{\"x1\": 47883,\"y1\": 28677,\"x2\": 47933,\"y2\": 28727}</td>\n",
       "    </tr>\n",
       "  </tbody>\n",
       "</table>\n",
       "</div>"
      ],
      "text/plain": [
       "             image_name    grade  \\\n",
       "0  A_CCMCT_29609B_1.svs  mitosis   \n",
       "1  A_CCMCT_29609B_1.svs  mitosis   \n",
       "2  A_CCMCT_29609B_1.svs  mitosis   \n",
       "3  A_CCMCT_29609B_1.svs  mitosis   \n",
       "4  A_CCMCT_29609B_1.svs  mitosis   \n",
       "\n",
       "                                              vector  \n",
       "0  {\"x1\": 57204,\"y1\": 28229,\"x2\": 57254,\"y2\": 28279}  \n",
       "1  {\"x1\": 57895,\"y1\": 37440,\"x2\": 57945,\"y2\": 37490}  \n",
       "2  {\"x1\": 54810,\"y1\": 37131,\"x2\": 54860,\"y2\": 37181}  \n",
       "3  {\"x1\": 54575,\"y1\": 34537,\"x2\": 54625,\"y2\": 34587}  \n",
       "4  {\"x1\": 47883,\"y1\": 28677,\"x2\": 47933,\"y2\": 28727}  "
      ]
     },
     "execution_count": 10,
     "metadata": {},
     "output_type": "execute_result"
    }
   ],
   "source": [
    "df = pd.read_csv(\"CCMCT.csv\", delimiter=\";\", names=[\"image_name\", \"grade\", \"vector\"])\n",
    "df.head()"
   ]
  },
  {
   "cell_type": "code",
   "execution_count": 11,
   "metadata": {},
   "outputs": [
    {
     "data": {
      "text/html": [
       "<div>\n",
       "<style scoped>\n",
       "    .dataframe tbody tr th:only-of-type {\n",
       "        vertical-align: middle;\n",
       "    }\n",
       "\n",
       "    .dataframe tbody tr th {\n",
       "        vertical-align: top;\n",
       "    }\n",
       "\n",
       "    .dataframe thead th {\n",
       "        text-align: right;\n",
       "    }\n",
       "</style>\n",
       "<table border=\"1\" class=\"dataframe\">\n",
       "  <thead>\n",
       "    <tr style=\"text-align: right;\">\n",
       "      <th></th>\n",
       "      <th>image_name</th>\n",
       "      <th>grade</th>\n",
       "      <th>vector</th>\n",
       "      <th>x1</th>\n",
       "      <th>y1</th>\n",
       "      <th>x2</th>\n",
       "      <th>y2</th>\n",
       "      <th>center_x</th>\n",
       "      <th>center_y</th>\n",
       "      <th>anno_width</th>\n",
       "      <th>anno_height</th>\n",
       "    </tr>\n",
       "  </thead>\n",
       "  <tbody>\n",
       "    <tr>\n",
       "      <th>0</th>\n",
       "      <td>A_CCMCT_29609B_1.svs</td>\n",
       "      <td>mitosis</td>\n",
       "      <td>{'x1': 57204, 'y1': 28229, 'x2': 57254, 'y2': ...</td>\n",
       "      <td>57204</td>\n",
       "      <td>28229</td>\n",
       "      <td>57254</td>\n",
       "      <td>28279</td>\n",
       "      <td>57229.0</td>\n",
       "      <td>28254.0</td>\n",
       "      <td>50</td>\n",
       "      <td>50</td>\n",
       "    </tr>\n",
       "    <tr>\n",
       "      <th>1</th>\n",
       "      <td>A_CCMCT_29609B_1.svs</td>\n",
       "      <td>mitosis</td>\n",
       "      <td>{'x1': 57895, 'y1': 37440, 'x2': 57945, 'y2': ...</td>\n",
       "      <td>57895</td>\n",
       "      <td>37440</td>\n",
       "      <td>57945</td>\n",
       "      <td>37490</td>\n",
       "      <td>57920.0</td>\n",
       "      <td>37465.0</td>\n",
       "      <td>50</td>\n",
       "      <td>50</td>\n",
       "    </tr>\n",
       "    <tr>\n",
       "      <th>2</th>\n",
       "      <td>A_CCMCT_29609B_1.svs</td>\n",
       "      <td>mitosis</td>\n",
       "      <td>{'x1': 54810, 'y1': 37131, 'x2': 54860, 'y2': ...</td>\n",
       "      <td>54810</td>\n",
       "      <td>37131</td>\n",
       "      <td>54860</td>\n",
       "      <td>37181</td>\n",
       "      <td>54835.0</td>\n",
       "      <td>37156.0</td>\n",
       "      <td>50</td>\n",
       "      <td>50</td>\n",
       "    </tr>\n",
       "    <tr>\n",
       "      <th>3</th>\n",
       "      <td>A_CCMCT_29609B_1.svs</td>\n",
       "      <td>mitosis</td>\n",
       "      <td>{'x1': 54575, 'y1': 34537, 'x2': 54625, 'y2': ...</td>\n",
       "      <td>54575</td>\n",
       "      <td>34537</td>\n",
       "      <td>54625</td>\n",
       "      <td>34587</td>\n",
       "      <td>54600.0</td>\n",
       "      <td>34562.0</td>\n",
       "      <td>50</td>\n",
       "      <td>50</td>\n",
       "    </tr>\n",
       "    <tr>\n",
       "      <th>4</th>\n",
       "      <td>A_CCMCT_29609B_1.svs</td>\n",
       "      <td>mitosis</td>\n",
       "      <td>{'x1': 47883, 'y1': 28677, 'x2': 47933, 'y2': ...</td>\n",
       "      <td>47883</td>\n",
       "      <td>28677</td>\n",
       "      <td>47933</td>\n",
       "      <td>28727</td>\n",
       "      <td>47908.0</td>\n",
       "      <td>28702.0</td>\n",
       "      <td>50</td>\n",
       "      <td>50</td>\n",
       "    </tr>\n",
       "  </tbody>\n",
       "</table>\n",
       "</div>"
      ],
      "text/plain": [
       "             image_name    grade  \\\n",
       "0  A_CCMCT_29609B_1.svs  mitosis   \n",
       "1  A_CCMCT_29609B_1.svs  mitosis   \n",
       "2  A_CCMCT_29609B_1.svs  mitosis   \n",
       "3  A_CCMCT_29609B_1.svs  mitosis   \n",
       "4  A_CCMCT_29609B_1.svs  mitosis   \n",
       "\n",
       "                                              vector     x1     y1     x2  \\\n",
       "0  {'x1': 57204, 'y1': 28229, 'x2': 57254, 'y2': ...  57204  28229  57254   \n",
       "1  {'x1': 57895, 'y1': 37440, 'x2': 57945, 'y2': ...  57895  37440  57945   \n",
       "2  {'x1': 54810, 'y1': 37131, 'x2': 54860, 'y2': ...  54810  37131  54860   \n",
       "3  {'x1': 54575, 'y1': 34537, 'x2': 54625, 'y2': ...  54575  34537  54625   \n",
       "4  {'x1': 47883, 'y1': 28677, 'x2': 47933, 'y2': ...  47883  28677  47933   \n",
       "\n",
       "      y2  center_x  center_y  anno_width  anno_height  \n",
       "0  28279   57229.0   28254.0          50           50  \n",
       "1  37490   57920.0   37465.0          50           50  \n",
       "2  37181   54835.0   37156.0          50           50  \n",
       "3  34587   54600.0   34562.0          50           50  \n",
       "4  28727   47908.0   28702.0          50           50  "
      ]
     },
     "execution_count": 11,
     "metadata": {},
     "output_type": "execute_result"
    }
   ],
   "source": [
    "df = pd.read_csv(\"CCMCT.csv\", delimiter=\";\", names=[\"image_name\", \"grade\", \"vector\"])\n",
    "df[\"vector\"] = [json.loads(vector)  for vector in df[\"vector\"]]\n",
    "\n",
    "df[\"x1\"] = [vector['x1'] if type(vector) is dict else 0 for vector in df[\"vector\"]]\n",
    "df[\"y1\"] = [vector['y1'] if type(vector) is dict else 0 for vector in df[\"vector\"]]\n",
    "\n",
    "df[\"x2\"] = [vector['x2'] if type(vector) is dict else 0 for vector in df[\"vector\"]]\n",
    "df[\"y2\"] = [vector['y2'] if type(vector) is dict else 0 for vector in df[\"vector\"]]\n",
    "\n",
    "df[\"center_x\"] = [x1 + ((x2-x1) / 2) for x1, x2 in zip(df[\"x1\"], df[\"x2\"])]\n",
    "df[\"center_y\"] = [y1 + ((y2-y1) / 2) for y1, y2 in zip(df[\"y1\"], df[\"y2\"])]\n",
    "\n",
    "df[\"anno_width\"] = [x2-x1 for x1, x2 in zip(df[\"x1\"], df[\"x2\"])]\n",
    "df[\"anno_height\"]= [y2-y1 for y1, y2 in zip(df[\"y1\"], df[\"y2\"])]\n",
    "\n",
    "df.head()"
   ]
  },
  {
   "cell_type": "code",
   "execution_count": 12,
   "metadata": {},
   "outputs": [
    {
     "ename": "error",
     "evalue": "OpenCV(4.3.0) C:\\projects\\opencv-python\\opencv\\modules\\core\\src\\batch_distance.cpp:275: error: (-215:Assertion failed) type == src2.type() && src1.cols == src2.cols && (type == CV_32F || type == CV_8U) in function 'cv::batchDistance'\n",
     "output_type": "error",
     "traceback": [
      "\u001b[1;31m---------------------------------------------------------------------------\u001b[0m",
      "\u001b[1;31merror\u001b[0m                                     Traceback (most recent call last)",
      "\u001b[1;32m<timed exec>\u001b[0m in \u001b[0;36m<module>\u001b[1;34m\u001b[0m\n",
      "\u001b[1;32mD:\\ProgProjekte\\Python\\EIPH_WSI\\MIDL2021\\Registration\\registration_tree.py\u001b[0m in \u001b[0;36m__init__\u001b[1;34m(self, source_boundary, source_slide, target_boundary, target_slide, depth, target_depth, thumbnail_size, debug, run_async, node_orientation, parent)\u001b[0m\n\u001b[0;32m    152\u001b[0m         \u001b[0mself\u001b[0m\u001b[1;33m.\u001b[0m\u001b[0mnw\u001b[0m\u001b[1;33m,\u001b[0m \u001b[0mself\u001b[0m\u001b[1;33m.\u001b[0m\u001b[0mne\u001b[0m\u001b[1;33m,\u001b[0m \u001b[0mself\u001b[0m\u001b[1;33m.\u001b[0m\u001b[0mse\u001b[0m\u001b[1;33m,\u001b[0m \u001b[0mself\u001b[0m\u001b[1;33m.\u001b[0m\u001b[0msw\u001b[0m \u001b[1;33m=\u001b[0m \u001b[1;32mNone\u001b[0m\u001b[1;33m,\u001b[0m \u001b[1;32mNone\u001b[0m\u001b[1;33m,\u001b[0m \u001b[1;32mNone\u001b[0m\u001b[1;33m,\u001b[0m \u001b[1;32mNone\u001b[0m\u001b[1;33m\u001b[0m\u001b[1;33m\u001b[0m\u001b[0m\n\u001b[0;32m    153\u001b[0m         \u001b[1;32mif\u001b[0m \u001b[0mdepth\u001b[0m \u001b[1;33m<\u001b[0m \u001b[0mtarget_depth\u001b[0m\u001b[1;33m:\u001b[0m\u001b[1;33m\u001b[0m\u001b[1;33m\u001b[0m\u001b[0m\n\u001b[1;32m--> 154\u001b[1;33m             \u001b[0mself\u001b[0m\u001b[1;33m.\u001b[0m\u001b[0mdivide\u001b[0m\u001b[1;33m(\u001b[0m\u001b[1;33m)\u001b[0m\u001b[1;33m\u001b[0m\u001b[1;33m\u001b[0m\u001b[0m\n\u001b[0m\u001b[0;32m    155\u001b[0m \u001b[1;33m\u001b[0m\u001b[0m\n\u001b[0;32m    156\u001b[0m \u001b[1;33m\u001b[0m\u001b[0m\n",
      "\u001b[1;32mD:\\ProgProjekte\\Python\\EIPH_WSI\\MIDL2021\\Registration\\registration_tree.py\u001b[0m in \u001b[0;36mdivide\u001b[1;34m(self)\u001b[0m\n\u001b[0;32m    287\u001b[0m                                         \u001b[0mtarget_sw\u001b[0m\u001b[1;33m,\u001b[0m \u001b[0mself\u001b[0m\u001b[1;33m.\u001b[0m\u001b[0mtarget_slide\u001b[0m\u001b[1;33m,\u001b[0m\u001b[1;33m\u001b[0m\u001b[1;33m\u001b[0m\u001b[0m\n\u001b[0;32m    288\u001b[0m                                         \u001b[0mdepth\u001b[0m\u001b[1;33m=\u001b[0m\u001b[0mself\u001b[0m\u001b[1;33m.\u001b[0m\u001b[0mdepth\u001b[0m \u001b[1;33m+\u001b[0m \u001b[1;36m1\u001b[0m\u001b[1;33m,\u001b[0m \u001b[0mtarget_depth\u001b[0m\u001b[1;33m=\u001b[0m\u001b[0mself\u001b[0m\u001b[1;33m.\u001b[0m\u001b[0mtarget_depth\u001b[0m\u001b[1;33m,\u001b[0m \u001b[0mdebug\u001b[0m\u001b[1;33m=\u001b[0m\u001b[0mself\u001b[0m\u001b[1;33m.\u001b[0m\u001b[0mdebug\u001b[0m\u001b[1;33m,\u001b[0m\u001b[1;33m\u001b[0m\u001b[1;33m\u001b[0m\u001b[0m\n\u001b[1;32m--> 289\u001b[1;33m                                         run_async=self.run_async, node_orientation=NodeOrientation.SOUTH_EAST, parent=self)\n\u001b[0m\u001b[0;32m    290\u001b[0m         \u001b[1;32melse\u001b[0m\u001b[1;33m:\u001b[0m\u001b[1;33m\u001b[0m\u001b[1;33m\u001b[0m\u001b[0m\n\u001b[0;32m    291\u001b[0m             \u001b[1;32mwith\u001b[0m \u001b[0mPool\u001b[0m\u001b[1;33m(\u001b[0m\u001b[1;36m4\u001b[0m\u001b[1;33m)\u001b[0m \u001b[1;32mas\u001b[0m \u001b[0mpool\u001b[0m\u001b[1;33m:\u001b[0m\u001b[1;33m\u001b[0m\u001b[1;33m\u001b[0m\u001b[0m\n",
      "\u001b[1;32mD:\\ProgProjekte\\Python\\EIPH_WSI\\MIDL2021\\Registration\\registration_tree.py\u001b[0m in \u001b[0;36m__init__\u001b[1;34m(self, source_boundary, source_slide, target_boundary, target_slide, depth, target_depth, thumbnail_size, debug, run_async, node_orientation, parent)\u001b[0m\n\u001b[0;32m    152\u001b[0m         \u001b[0mself\u001b[0m\u001b[1;33m.\u001b[0m\u001b[0mnw\u001b[0m\u001b[1;33m,\u001b[0m \u001b[0mself\u001b[0m\u001b[1;33m.\u001b[0m\u001b[0mne\u001b[0m\u001b[1;33m,\u001b[0m \u001b[0mself\u001b[0m\u001b[1;33m.\u001b[0m\u001b[0mse\u001b[0m\u001b[1;33m,\u001b[0m \u001b[0mself\u001b[0m\u001b[1;33m.\u001b[0m\u001b[0msw\u001b[0m \u001b[1;33m=\u001b[0m \u001b[1;32mNone\u001b[0m\u001b[1;33m,\u001b[0m \u001b[1;32mNone\u001b[0m\u001b[1;33m,\u001b[0m \u001b[1;32mNone\u001b[0m\u001b[1;33m,\u001b[0m \u001b[1;32mNone\u001b[0m\u001b[1;33m\u001b[0m\u001b[1;33m\u001b[0m\u001b[0m\n\u001b[0;32m    153\u001b[0m         \u001b[1;32mif\u001b[0m \u001b[0mdepth\u001b[0m \u001b[1;33m<\u001b[0m \u001b[0mtarget_depth\u001b[0m\u001b[1;33m:\u001b[0m\u001b[1;33m\u001b[0m\u001b[1;33m\u001b[0m\u001b[0m\n\u001b[1;32m--> 154\u001b[1;33m             \u001b[0mself\u001b[0m\u001b[1;33m.\u001b[0m\u001b[0mdivide\u001b[0m\u001b[1;33m(\u001b[0m\u001b[1;33m)\u001b[0m\u001b[1;33m\u001b[0m\u001b[1;33m\u001b[0m\u001b[0m\n\u001b[0m\u001b[0;32m    155\u001b[0m \u001b[1;33m\u001b[0m\u001b[0m\n\u001b[0;32m    156\u001b[0m \u001b[1;33m\u001b[0m\u001b[0m\n",
      "\u001b[1;32mD:\\ProgProjekte\\Python\\EIPH_WSI\\MIDL2021\\Registration\\registration_tree.py\u001b[0m in \u001b[0;36mdivide\u001b[1;34m(self)\u001b[0m\n\u001b[0;32m    287\u001b[0m                                         \u001b[0mtarget_sw\u001b[0m\u001b[1;33m,\u001b[0m \u001b[0mself\u001b[0m\u001b[1;33m.\u001b[0m\u001b[0mtarget_slide\u001b[0m\u001b[1;33m,\u001b[0m\u001b[1;33m\u001b[0m\u001b[1;33m\u001b[0m\u001b[0m\n\u001b[0;32m    288\u001b[0m                                         \u001b[0mdepth\u001b[0m\u001b[1;33m=\u001b[0m\u001b[0mself\u001b[0m\u001b[1;33m.\u001b[0m\u001b[0mdepth\u001b[0m \u001b[1;33m+\u001b[0m \u001b[1;36m1\u001b[0m\u001b[1;33m,\u001b[0m \u001b[0mtarget_depth\u001b[0m\u001b[1;33m=\u001b[0m\u001b[0mself\u001b[0m\u001b[1;33m.\u001b[0m\u001b[0mtarget_depth\u001b[0m\u001b[1;33m,\u001b[0m \u001b[0mdebug\u001b[0m\u001b[1;33m=\u001b[0m\u001b[0mself\u001b[0m\u001b[1;33m.\u001b[0m\u001b[0mdebug\u001b[0m\u001b[1;33m,\u001b[0m\u001b[1;33m\u001b[0m\u001b[1;33m\u001b[0m\u001b[0m\n\u001b[1;32m--> 289\u001b[1;33m                                         run_async=self.run_async, node_orientation=NodeOrientation.SOUTH_EAST, parent=self)\n\u001b[0m\u001b[0;32m    290\u001b[0m         \u001b[1;32melse\u001b[0m\u001b[1;33m:\u001b[0m\u001b[1;33m\u001b[0m\u001b[1;33m\u001b[0m\u001b[0m\n\u001b[0;32m    291\u001b[0m             \u001b[1;32mwith\u001b[0m \u001b[0mPool\u001b[0m\u001b[1;33m(\u001b[0m\u001b[1;36m4\u001b[0m\u001b[1;33m)\u001b[0m \u001b[1;32mas\u001b[0m \u001b[0mpool\u001b[0m\u001b[1;33m:\u001b[0m\u001b[1;33m\u001b[0m\u001b[1;33m\u001b[0m\u001b[0m\n",
      "\u001b[1;32mD:\\ProgProjekte\\Python\\EIPH_WSI\\MIDL2021\\Registration\\registration_tree.py\u001b[0m in \u001b[0;36m__init__\u001b[1;34m(self, source_boundary, source_slide, target_boundary, target_slide, depth, target_depth, thumbnail_size, debug, run_async, node_orientation, parent)\u001b[0m\n\u001b[0;32m    134\u001b[0m         \u001b[0mself\u001b[0m\u001b[1;33m.\u001b[0m\u001b[0mtarget_thumbnail\u001b[0m\u001b[1;33m,\u001b[0m \u001b[0mself\u001b[0m\u001b[1;33m.\u001b[0m\u001b[0mtarget_scale\u001b[0m \u001b[1;33m=\u001b[0m \u001b[0mself\u001b[0m\u001b[1;33m.\u001b[0m\u001b[0mget_region_thumbnail\u001b[0m\u001b[1;33m(\u001b[0m\u001b[0mtarget_slide\u001b[0m\u001b[1;33m,\u001b[0m \u001b[0mself\u001b[0m\u001b[1;33m.\u001b[0m\u001b[0mtarget_boundary\u001b[0m\u001b[1;33m,\u001b[0m \u001b[0mself\u001b[0m\u001b[1;33m.\u001b[0m\u001b[0mthumbnail_size\u001b[0m\u001b[1;33m)\u001b[0m\u001b[1;33m\u001b[0m\u001b[1;33m\u001b[0m\u001b[0m\n\u001b[0;32m    135\u001b[0m \u001b[1;33m\u001b[0m\u001b[0m\n\u001b[1;32m--> 136\u001b[1;33m         \u001b[0mself\u001b[0m\u001b[1;33m.\u001b[0m\u001b[0mptsA\u001b[0m\u001b[1;33m,\u001b[0m \u001b[0mself\u001b[0m\u001b[1;33m.\u001b[0m\u001b[0mptsB\u001b[0m\u001b[1;33m,\u001b[0m \u001b[0mself\u001b[0m\u001b[1;33m.\u001b[0m\u001b[0mmatchedVis\u001b[0m \u001b[1;33m=\u001b[0m \u001b[0mself\u001b[0m\u001b[1;33m.\u001b[0m\u001b[0mextract_matching_points_old\u001b[0m\u001b[1;33m(\u001b[0m\u001b[0mself\u001b[0m\u001b[1;33m.\u001b[0m\u001b[0msource_thumbnail\u001b[0m\u001b[1;33m,\u001b[0m \u001b[0mself\u001b[0m\u001b[1;33m.\u001b[0m\u001b[0mtarget_thumbnail\u001b[0m\u001b[1;33m,\u001b[0m \u001b[0mdebug\u001b[0m\u001b[1;33m=\u001b[0m\u001b[0mself\u001b[0m\u001b[1;33m.\u001b[0m\u001b[0mdebug\u001b[0m\u001b[1;33m,\u001b[0m \u001b[0msource_scale\u001b[0m\u001b[1;33m=\u001b[0m\u001b[0mself\u001b[0m\u001b[1;33m.\u001b[0m\u001b[0msource_scale\u001b[0m\u001b[1;33m,\u001b[0m \u001b[0mtarget_scale\u001b[0m\u001b[1;33m=\u001b[0m\u001b[0mself\u001b[0m\u001b[1;33m.\u001b[0m\u001b[0mtarget_scale\u001b[0m\u001b[1;33m)\u001b[0m\u001b[1;33m\u001b[0m\u001b[1;33m\u001b[0m\u001b[0m\n\u001b[0m\u001b[0;32m    137\u001b[0m \u001b[1;33m\u001b[0m\u001b[0m\n\u001b[0;32m    138\u001b[0m         \u001b[0mself\u001b[0m\u001b[1;33m.\u001b[0m\u001b[0mptsA\u001b[0m\u001b[1;33m,\u001b[0m \u001b[0mself\u001b[0m\u001b[1;33m.\u001b[0m\u001b[0mptsB\u001b[0m\u001b[1;33m,\u001b[0m \u001b[0mself\u001b[0m\u001b[1;33m.\u001b[0m\u001b[0mscale_factors\u001b[0m \u001b[1;33m=\u001b[0m \u001b[0mself\u001b[0m\u001b[1;33m.\u001b[0m\u001b[0mfilter_outliner\u001b[0m\u001b[1;33m(\u001b[0m\u001b[0mself\u001b[0m\u001b[1;33m.\u001b[0m\u001b[0mptsA\u001b[0m\u001b[1;33m,\u001b[0m \u001b[0mself\u001b[0m\u001b[1;33m.\u001b[0m\u001b[0mptsB\u001b[0m\u001b[1;33m)\u001b[0m\u001b[1;33m\u001b[0m\u001b[1;33m\u001b[0m\u001b[0m\n",
      "\u001b[1;32mD:\\ProgProjekte\\Python\\EIPH_WSI\\MIDL2021\\Registration\\registration_tree.py\u001b[0m in \u001b[0;36mextract_matching_points_old\u001b[1;34m(self, source_image, target_image, maxFeatures, keepPercent, debug, source_scale, target_scale)\u001b[0m\n\u001b[0;32m    663\u001b[0m         \u001b[0mmethod\u001b[0m \u001b[1;33m=\u001b[0m \u001b[0mcv2\u001b[0m\u001b[1;33m.\u001b[0m\u001b[0mDESCRIPTOR_MATCHER_BRUTEFORCE_HAMMING\u001b[0m\u001b[1;33m\u001b[0m\u001b[1;33m\u001b[0m\u001b[0m\n\u001b[0;32m    664\u001b[0m         \u001b[0mmatcher\u001b[0m \u001b[1;33m=\u001b[0m \u001b[0mcv2\u001b[0m\u001b[1;33m.\u001b[0m\u001b[0mDescriptorMatcher_create\u001b[0m\u001b[1;33m(\u001b[0m\u001b[0mmethod\u001b[0m\u001b[1;33m)\u001b[0m\u001b[1;33m\u001b[0m\u001b[1;33m\u001b[0m\u001b[0m\n\u001b[1;32m--> 665\u001b[1;33m         \u001b[0mmatches\u001b[0m \u001b[1;33m=\u001b[0m \u001b[0mmatcher\u001b[0m\u001b[1;33m.\u001b[0m\u001b[0mmatch\u001b[0m\u001b[1;33m(\u001b[0m\u001b[0mdescsA\u001b[0m\u001b[1;33m,\u001b[0m \u001b[0mdescsB\u001b[0m\u001b[1;33m,\u001b[0m \u001b[1;32mNone\u001b[0m\u001b[1;33m)\u001b[0m\u001b[1;33m\u001b[0m\u001b[1;33m\u001b[0m\u001b[0m\n\u001b[0m\u001b[0;32m    666\u001b[0m \u001b[1;33m\u001b[0m\u001b[0m\n\u001b[0;32m    667\u001b[0m \u001b[1;33m\u001b[0m\u001b[0m\n",
      "\u001b[1;31merror\u001b[0m: OpenCV(4.3.0) C:\\projects\\opencv-python\\opencv\\modules\\core\\src\\batch_distance.cpp:275: error: (-215:Assertion failed) type == src2.type() && src1.cols == src2.cols && (type == CV_32F || type == CV_8U) in function 'cv::batchDistance'\n"
     ]
    }
   ],
   "source": [
    "%%time\n",
    "\n",
    "results = {}\n",
    "target_depth = 2\n",
    "\n",
    "for name, source in source_slide_paths.items():\n",
    "    \n",
    "    target = target_slide_paths[name]\n",
    "      \n",
    "        \n",
    "    source_slide = source[\"slide\"]\n",
    "    target_slide = target[\"slide\"]\n",
    "    \n",
    "    source_dimension = Rect.create(Rect, 0, 0, source_slide.dimensions[0], source_slide.dimensions[1])\n",
    "    target_dimension = Rect.create(Rect, 0, 0, target_slide.dimensions[0], target_slide.dimensions[1])\n",
    "    \n",
    "    qtree = QuadTree(source_dimension, source_slide, target_dimension, target_slide, target_depth=target_depth, debug=True)\n",
    "    \n",
    "    results[source[\"name\"]] = qtree"
   ]
  },
  {
   "cell_type": "code",
   "execution_count": 13,
   "metadata": {},
   "outputs": [],
   "source": [
    "result_folder = Path(f\"Depth_{target_depth}\")\n",
    "\n",
    "result_folder.mkdir(parents=True, exist_ok=True)"
   ]
  },
  {
   "cell_type": "code",
   "execution_count": 14,
   "metadata": {},
   "outputs": [],
   "source": [
    "import pickle\n",
    "\n",
    "for path, qtree in results.items():\n",
    "    \n",
    "    with open(result_folder / f'{qtree.source_name}-To-{qtree.target_name}.pickle', 'wb') as handle:\n",
    "        pickle.dump(qtree, handle, protocol=pickle.HIGHEST_PROTOCOL)"
   ]
  },
  {
   "cell_type": "code",
   "execution_count": 15,
   "metadata": {
    "scrolled": false
   },
   "outputs": [],
   "source": [
    "for path, qtree in results.items():\n",
    "    \n",
    "    df_gt = df[df[\"image_name\"] == path.name]#.sample(n=5, random_state=1)\n",
    "    \n",
    "    annos = np.array(df_gt[[\"center_x\", \"center_y\", \"anno_width\", \"anno_height\"]]) \n",
    "    qtree.draw_annotations(annos, num_sub_pic=5)"
   ]
  },
  {
   "cell_type": "code",
   "execution_count": null,
   "metadata": {},
   "outputs": [],
   "source": []
  },
  {
   "cell_type": "code",
   "execution_count": null,
   "metadata": {},
   "outputs": [],
   "source": []
  }
 ],
 "metadata": {
  "kernelspec": {
   "display_name": "Python 3",
   "language": "python",
   "name": "python3"
  },
  "language_info": {
   "codemirror_mode": {
    "name": "ipython",
    "version": 3
   },
   "file_extension": ".py",
   "mimetype": "text/x-python",
   "name": "python",
   "nbconvert_exporter": "python",
   "pygments_lexer": "ipython3",
   "version": "3.6.10"
  }
 },
 "nbformat": 4,
 "nbformat_minor": 4
}
