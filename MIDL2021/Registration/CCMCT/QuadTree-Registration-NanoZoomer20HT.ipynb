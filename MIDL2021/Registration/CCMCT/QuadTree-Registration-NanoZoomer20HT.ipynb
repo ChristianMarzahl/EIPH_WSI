{
 "cells": [
  {
   "cell_type": "code",
   "execution_count": null,
   "metadata": {},
   "outputs": [],
   "source": [
    "%reload_ext autoreload\n",
    "%autoreload 2\n",
    "%matplotlib inline"
   ]
  },
  {
   "cell_type": "code",
   "execution_count": null,
   "metadata": {},
   "outputs": [],
   "source": [
    "#https://scipython.com/blog/quadtrees-2-implementation-in-python/\n",
    "#https://pydoc.net/openslide-python/1.1.1/openslide/\n",
    "\n",
    "import numpy as np\n",
    "import openslide\n",
    "from probreg import cpd\n",
    "from probreg import transformation as tf\n",
    "import cv2\n",
    "from PIL import Image\n",
    "from pathlib import Path\n",
    "import pandas as pd\n",
    "from tqdm import tqdm\n",
    "import json"
   ]
  },
  {
   "cell_type": "code",
   "execution_count": null,
   "metadata": {},
   "outputs": [],
   "source": [
    "## HACK get rid of it\n",
    "import sys\n",
    "sys.path.append(\"..\")\n",
    "from registration_tree import Rect, QuadTree"
   ]
  },
  {
   "cell_type": "code",
   "execution_count": null,
   "metadata": {},
   "outputs": [],
   "source": [
    "source_slide_paths = list(Path(r\"D:\\Datasets\\ScannerStudy\\Aperio\\CCMCT\").glob(\"*.svs\"))\n",
    "\n",
    "len(source_slide_paths)"
   ]
  },
  {
   "cell_type": "code",
   "execution_count": null,
   "metadata": {},
   "outputs": [],
   "source": [
    "target_slide_paths = list(Path(r\"D:\\Datasets\\ScannerStudy\\NanoZoomer2.0HT\\CCMCT\").glob(\"*.ndpi\")) \n",
    "\n",
    "len(target_slide_paths)"
   ]
  },
  {
   "cell_type": "code",
   "execution_count": null,
   "metadata": {},
   "outputs": [],
   "source": [
    "source_slide_paths = {name.stem.split(\"_\")[-2] : \n",
    "                      {\"name\": name, \"slide\": openslide.OpenSlide(str(name))}\n",
    "                      for name in source_slide_paths}\n",
    "source_slide_paths.keys()"
   ]
  },
  {
   "cell_type": "code",
   "execution_count": null,
   "metadata": {},
   "outputs": [],
   "source": [
    "target_slide_paths = {name.stem.split(\"_\")[-2] : \n",
    "                      {\"name\": name, \"slide\": openslide.OpenSlide(str(name))}\n",
    "                      for name in target_slide_paths}\n",
    "target_slide_paths.keys()"
   ]
  },
  {
   "cell_type": "code",
   "execution_count": null,
   "metadata": {},
   "outputs": [],
   "source": [
    "for name in source_slide_paths:\n",
    "    if name not in target_slide_paths:\n",
    "        print(name)"
   ]
  },
  {
   "cell_type": "code",
   "execution_count": null,
   "metadata": {},
   "outputs": [],
   "source": [
    "for name in target_slide_paths:\n",
    "    if name not in source_slide_paths:\n",
    "        print(name)"
   ]
  },
  {
   "cell_type": "code",
   "execution_count": null,
   "metadata": {},
   "outputs": [],
   "source": [
    "df = pd.read_csv(\"CCMCT.csv\", delimiter=\";\", names=[\"image_name\", \"grade\", \"vector\"])\n",
    "df.head()"
   ]
  },
  {
   "cell_type": "code",
   "execution_count": null,
   "metadata": {},
   "outputs": [],
   "source": [
    "df = pd.read_csv(\"CCMCT.csv\", delimiter=\";\", names=[\"image_name\", \"grade\", \"vector\"])\n",
    "df[\"vector\"] = [json.loads(vector)  for vector in df[\"vector\"]]\n",
    "\n",
    "df[\"x1\"] = [vector['x1'] if type(vector) is dict else 0 for vector in df[\"vector\"]]\n",
    "df[\"y1\"] = [vector['y1'] if type(vector) is dict else 0 for vector in df[\"vector\"]]\n",
    "\n",
    "df[\"x2\"] = [vector['x2'] if type(vector) is dict else 0 for vector in df[\"vector\"]]\n",
    "df[\"y2\"] = [vector['y2'] if type(vector) is dict else 0 for vector in df[\"vector\"]]\n",
    "\n",
    "df[\"center_x\"] = [x1 + ((x2-x1) / 2) for x1, x2 in zip(df[\"x1\"], df[\"x2\"])]\n",
    "df[\"center_y\"] = [y1 + ((y2-y1) / 2) for y1, y2 in zip(df[\"y1\"], df[\"y2\"])]\n",
    "\n",
    "df[\"anno_width\"] = [x2-x1 for x1, x2 in zip(df[\"x1\"], df[\"x2\"])]\n",
    "df[\"anno_height\"]= [y2-y1 for y1, y2 in zip(df[\"y1\"], df[\"y2\"])]\n",
    "\n",
    "df.head()"
   ]
  },
  {
   "cell_type": "code",
   "execution_count": null,
   "metadata": {},
   "outputs": [],
   "source": [
    "%%time\n",
    "\n",
    "results = {}\n",
    "target_depth = 2\n",
    "for name, source in source_slide_paths.items():\n",
    "    \n",
    "    target = target_slide_paths[name]\n",
    "      \n",
    "        \n",
    "    source_slide = source[\"slide\"]\n",
    "    target_slide = target[\"slide\"]\n",
    "    \n",
    "    source_dimension = Rect.create(Rect, 0, 0, source_slide.dimensions[0], source_slide.dimensions[1])\n",
    "    target_dimension = Rect.create(Rect, 0, 0, target_slide.dimensions[0], target_slide.dimensions[1])\n",
    "    \n",
    "    qtree = QuadTree(source_dimension, source_slide, target_dimension, target_slide, target_depth=target_depth, debug=True)\n",
    "    \n",
    "    results[source[\"name\"]] = qtree"
   ]
  },
  {
   "cell_type": "code",
   "execution_count": null,
   "metadata": {},
   "outputs": [],
   "source": [
    "result_folder = Path(f\"Depth_{target_depth}\")\n",
    "\n",
    "result_folder.mkdir(parents=True, exist_ok=True)"
   ]
  },
  {
   "cell_type": "code",
   "execution_count": null,
   "metadata": {},
   "outputs": [],
   "source": [
    "import pickle\n",
    "\n",
    "for path, qtree in results.items():\n",
    "    \n",
    "    with open(result_folder / f'{qtree.source_name}-To-{qtree.target_name}.pickle', 'wb') as handle:\n",
    "        pickle.dump(qtree, handle, protocol=pickle.HIGHEST_PROTOCOL)"
   ]
  },
  {
   "cell_type": "code",
   "execution_count": null,
   "metadata": {
    "scrolled": false
   },
   "outputs": [],
   "source": [
    "for path, qtree in results.items():\n",
    "    \n",
    "    df_gt = df[df[\"image_name\"] == path.name]#.sample(n=5, random_state=1)\n",
    "    \n",
    "    annos = np.array(df_gt[[\"center_x\", \"center_y\", \"anno_width\", \"anno_height\"]]) \n",
    "    qtree.draw_annotations(annos, num_sub_pic=5)"
   ]
  },
  {
   "cell_type": "code",
   "execution_count": null,
   "metadata": {},
   "outputs": [],
   "source": []
  }
 ],
 "metadata": {
  "kernelspec": {
   "display_name": "Python 3",
   "language": "python",
   "name": "python3"
  },
  "language_info": {
   "codemirror_mode": {
    "name": "ipython",
    "version": 3
   },
   "file_extension": ".py",
   "mimetype": "text/x-python",
   "name": "python",
   "nbconvert_exporter": "python",
   "pygments_lexer": "ipython3",
   "version": "3.6.10"
  }
 },
 "nbformat": 4,
 "nbformat_minor": 4
}
