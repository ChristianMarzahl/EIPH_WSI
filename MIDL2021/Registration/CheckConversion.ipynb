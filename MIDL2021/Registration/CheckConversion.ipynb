{
 "cells": [
  {
   "cell_type": "code",
   "execution_count": 1,
   "id": "looking-miracle",
   "metadata": {},
   "outputs": [],
   "source": [
    "%reload_ext autoreload\n",
    "%autoreload 2\n",
    "%matplotlib inline"
   ]
  },
  {
   "cell_type": "code",
   "execution_count": 2,
   "id": "olympic-metallic",
   "metadata": {},
   "outputs": [],
   "source": [
    "import openslide\n",
    "from pathlib import Path\n",
    "import pyvips\n",
    "from tqdm import tqdm"
   ]
  },
  {
   "cell_type": "code",
   "execution_count": 3,
   "id": "thousand-heavy",
   "metadata": {},
   "outputs": [],
   "source": [
    "## HACK get rid of it\n",
    "import sys\n",
    "sys.path.append(\"/home/bronzi/ProgProjekte/Re-stained_WSIs_Registration/src\")\n",
    "\n",
    "from wsi_registration import TissueDetector, MatcherParameters, WSI_Matcher"
   ]
  },
  {
   "cell_type": "markdown",
   "id": "annoying-bandwidth",
   "metadata": {},
   "source": [
    "## Convert Aperio"
   ]
  },
  {
   "cell_type": "code",
   "execution_count": 64,
   "id": "military-custody",
   "metadata": {},
   "outputs": [
    {
     "name": "stderr",
     "output_type": "stream",
     "text": [
      "5it [09:37, 115.43s/it]\n"
     ]
    }
   ],
   "source": [
    "for slide_path in tqdm(Path(\"/mnt/d/Datasets/ScannerStudy/Aperio/CCMCT/\").glob(\"*.svs\")):\n",
    "    image = pyvips.Image.new_from_file(str(slide_path))\n",
    "    if Path(str(slide_path).replace(\"svs\", \"tiff\")).exists():\n",
    "        continue\n",
    "    image.write_to_file(str(slide_path).replace(\"svs\", \"tiff\"), pyramid=True, tile=True, compression=\"jpeg\",Q=85, tile_width=4096,tile_height=4096, bigtiff=True)"
   ]
  },
  {
   "cell_type": "markdown",
   "id": "excess-details",
   "metadata": {},
   "source": [
    "## Convert Axio"
   ]
  },
  {
   "cell_type": "code",
   "execution_count": 65,
   "id": "popular-compromise",
   "metadata": {},
   "outputs": [
    {
     "name": "stderr",
     "output_type": "stream",
     "text": [
      "5it [08:45, 105.04s/it]\n"
     ]
    }
   ],
   "source": [
    "for slide_path in tqdm(Path(\"/mnt/d/Datasets/ScannerStudy/AxioScan/CCMCT/\").glob(\"*.tif\")):\n",
    "    image = pyvips.Image.new_from_file(str(slide_path))\n",
    "    if Path(str(slide_path).replace(\"tif\", \"tiff\")).exists():\n",
    "        continue\n",
    "    image.write_to_file(str(slide_path).replace(\"tif\", \"tiff\"), pyramid=True, tile=True, compression=\"jpeg\",Q=85, tile_width=4096,tile_height=4096, bigtiff=True)"
   ]
  },
  {
   "cell_type": "markdown",
   "id": "vulnerable-expansion",
   "metadata": {},
   "source": [
    "## Convert NanoZoomer2.0HT"
   ]
  },
  {
   "cell_type": "code",
   "execution_count": 66,
   "id": "desirable-virgin",
   "metadata": {},
   "outputs": [
    {
     "name": "stderr",
     "output_type": "stream",
     "text": [
      "5it [19:12, 230.53s/it]\n"
     ]
    }
   ],
   "source": [
    "for slide_path in tqdm(Path(\"/mnt/d/Datasets/ScannerStudy/NanoZoomer2.0HT/CCMCT/\").glob(\"*.ndpi\")):\n",
    "    image = pyvips.Image.new_from_file(str(slide_path))\n",
    "    if Path(str(slide_path).replace(\"ndpi\", \"tiff\")).exists():\n",
    "        continue\n",
    "    image.write_to_file(str(slide_path).replace(\"ndpi\", \"tiff\"), pyramid=True, tile=True, compression=\"jpeg\",Q=85, tile_width=4096,tile_height=4096, bigtiff=True)"
   ]
  },
  {
   "cell_type": "markdown",
   "id": "recognized-integer",
   "metadata": {},
   "source": [
    "## Convert NanoZoomer210"
   ]
  },
  {
   "cell_type": "code",
   "execution_count": 4,
   "id": "understood-military",
   "metadata": {},
   "outputs": [
    {
     "name": "stderr",
     "output_type": "stream",
     "text": [
      "5it [12:28, 149.63s/it]\n"
     ]
    }
   ],
   "source": [
    "for slide_path in tqdm(Path(\"/mnt/d/Datasets/ScannerStudy/NanoZoomers210/CCMCT/\").glob(\"*.ndpi\")):\n",
    "    image = pyvips.Image.new_from_file(str(slide_path))\n",
    "    if Path(str(slide_path).replace(\"ndpi\", \"tiff\")).exists():\n",
    "        continue\n",
    "    image.write_to_file(str(slide_path).replace(\"ndpi\", \"tiff\"), pyramid=True, tile=True, compression=\"jpeg\",Q=85, tile_width=4096,tile_height=4096, bigtiff=True)"
   ]
  },
  {
   "cell_type": "code",
   "execution_count": 29,
   "id": "surface-morning",
   "metadata": {},
   "outputs": [],
   "source": [
    "#image = pyvips.Image.new_from_file(\"/mnt/d/Datasets/ScannerStudy/AxioScan/Cyto/Z_BB_563476_1.tif\")\n",
    "#image.write_to_file(\"/mnt/d/Datasets/ScannerStudy/AxioScan/Cyto/CCMCT/Z_CCMCT_22108_1.tif\", pyramid=True, tile=True, compression=\"jpeg\",Q=85, tile_width=5120,tile_height=5120, bigtiff=True)"
   ]
  },
  {
   "cell_type": "code",
   "execution_count": 57,
   "id": "prime-holocaust",
   "metadata": {},
   "outputs": [
    {
     "data": {
      "text/plain": [
       "(9822.456762868609, -1610.0156824298676)"
      ]
     },
     "execution_count": 57,
     "metadata": {},
     "output_type": "execute_result"
    }
   ],
   "source": [
    "tissue_detector = TissueDetector(\"LAB_Threshold\", threshold=100)\n",
    "\n",
    "matcher_parameters = MatcherParameters() \n",
    "matcher = WSI_Matcher(tissue_detector, matcher_parameters)\n",
    "\n",
    "fixed_wsi = \"/mnt/d/Datasets/ScannerStudy/Aperio/CCMCT/A_CCMCT_22108_1.svs\"\n",
    "float_wsi = \"/mnt/d/Datasets/ScannerStudy/NanoZoomer2.0HT/CCMCT/N2_CCMCT_22108_1.ndpi\"\n",
    "offset = matcher.match(fixed_wsi, float_wsi)\n",
    "offset"
   ]
  },
  {
   "cell_type": "code",
   "execution_count": null,
   "id": "becoming-vintage",
   "metadata": {},
   "outputs": [],
   "source": []
  }
 ],
 "metadata": {
  "kernelspec": {
   "display_name": "Python 3",
   "language": "python",
   "name": "python3"
  },
  "language_info": {
   "codemirror_mode": {
    "name": "ipython",
    "version": 3
   },
   "file_extension": ".py",
   "mimetype": "text/x-python",
   "name": "python",
   "nbconvert_exporter": "python",
   "pygments_lexer": "ipython3",
   "version": "3.8.5"
  }
 },
 "nbformat": 4,
 "nbformat_minor": 5
}
