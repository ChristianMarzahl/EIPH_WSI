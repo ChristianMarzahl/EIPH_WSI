{
 "cells": [
  {
   "cell_type": "code",
   "execution_count": 1,
   "metadata": {},
   "outputs": [],
   "source": [
    "%reload_ext autoreload\n",
    "%autoreload 2\n",
    "%matplotlib inline"
   ]
  },
  {
   "cell_type": "code",
   "execution_count": 2,
   "metadata": {},
   "outputs": [],
   "source": [
    "import numpy as np\n",
    "import openslide\n",
    "from probreg import cpd\n",
    "from probreg import transformation as tf\n",
    "import cv2\n",
    "from PIL import Image\n",
    "from pathlib import Path\n",
    "import pandas as pd\n",
    "from tqdm import tqdm\n",
    "import json\n",
    "import wandb"
   ]
  },
  {
   "cell_type": "code",
   "execution_count": 3,
   "metadata": {},
   "outputs": [],
   "source": [
    "import sys\n",
    "sys.path.append(\"..\")\n",
    "from registration_tree import Rect, QuadTree"
   ]
  },
  {
   "cell_type": "code",
   "execution_count": 4,
   "metadata": {},
   "outputs": [],
   "source": [
    "sweep_config = {\n",
    "    'method': 'random', #'bayes' # 'random'\n",
    "}\n",
    "\n",
    "metric = {\n",
    "    'name': 'dist_mean',\n",
    "    'goal': 'minimise'   \n",
    "    }\n",
    "\n",
    "\n",
    "sweep_config['metric'] = metric"
   ]
  },
  {
   "cell_type": "code",
   "execution_count": 5,
   "metadata": {},
   "outputs": [],
   "source": [
    "parameters_dict = {\n",
    "    'point_extractor': {\n",
    "        'values': [\"sift\"] #'orb', \n",
    "        },\n",
    "    'maxFeatures': {\n",
    "        #'values': [64, 128, 256, 512, 768, 1024, 2048]\n",
    "        'values': [64, 128, 256, 512, 768, 1024, 2048]\n",
    "        },\n",
    "    'crossCheck': {\n",
    "        'values': [False]\n",
    "        },\n",
    "    'flann': {\n",
    "        'values': [False, True]\n",
    "        },\n",
    "    'ratio': {\n",
    "        #'values': [.1, .2, .3, .4, .5, .6, .7, .8, .9]\n",
    "        'values': [.3, .4, .5, .6, .7, .8, .9]\n",
    "        },\n",
    "    'use_gray': {\n",
    "        'values': [True, False]\n",
    "        },\n",
    "    'homography': {\n",
    "        'values': [True]\n",
    "        },\n",
    "    'filter_outliner': {\n",
    "        'values': [False]\n",
    "        },\n",
    "    'target_depth': {\n",
    "        'values': [0]\n",
    "        },\n",
    "    'thumbnail_size': {\n",
    "        #'values': [(1024, 1024), (2048, 2048), (4096, 4096), (8192, 8192)]\n",
    "        'values': [(1024, 1024)] #, (2048, 2048), (4096, 4096)\n",
    "        },    \n",
    "    \n",
    "    'image_type': {\n",
    "        'values': [\"CCMCT\"] #, \"Cyto\"\n",
    "        },\n",
    "    \n",
    "    'source_scanner': {\n",
    "        'values': [\"Aperio\"]\n",
    "        },\n",
    "}\n",
    "sweep_config['parameters'] = parameters_dict"
   ]
  },
  {
   "cell_type": "code",
   "execution_count": 6,
   "metadata": {},
   "outputs": [
    {
     "name": "stderr",
     "output_type": "stream",
     "text": [
      "Failed to query for notebook name, you can set it manually with the WANDB_NOTEBOOK_NAME environment variable\n"
     ]
    },
    {
     "name": "stdout",
     "output_type": "stream",
     "text": [
      "Create sweep with ID: q6j7pg6g\n",
      "Sweep URL: https://wandb.ai/christianml/quadtree/sweeps/q6j7pg6g\n"
     ]
    },
    {
     "data": {
      "text/plain": [
       "'q6j7pg6g'"
      ]
     },
     "execution_count": 6,
     "metadata": {},
     "output_type": "execute_result"
    }
   ],
   "source": [
    "sweep_id = wandb.sweep(sweep_config, project=\"quadtree\")\n",
    "sweep_id"
   ]
  },
  {
   "cell_type": "code",
   "execution_count": 7,
   "metadata": {},
   "outputs": [],
   "source": [
    "def add_help_fields(frame):\n",
    "    \n",
    "    frame[\"image_name_stem\"] = [Path(image_name).stem for image_name in frame[\"image_name\"]]    \n",
    "    frame[\"patient_id\"] = [name.split(\"_\")[2] for name in frame[\"image_name\"]]\n",
    "\n",
    "    frame[\"x1\"] = [json.loads(vector.replace(\"\\'\",\"\\\"\"))['x1'] for vector in frame[\"vector\"]]\n",
    "    frame[\"y1\"] = [json.loads(vector.replace(\"\\'\",\"\\\"\"))['y1'] for vector in frame[\"vector\"]]\n",
    "\n",
    "    frame[\"x2\"] = [json.loads(vector.replace(\"\\'\",\"\\\"\"))['x2'] for vector in frame[\"vector\"]]\n",
    "    frame[\"y2\"] = [json.loads(vector.replace(\"\\'\",\"\\\"\"))['y2'] for vector in frame[\"vector\"]]\n",
    "\n",
    "    frame[\"center_x\"] = [x1 + ((x2-x1) / 2) for x1, x2 in zip(frame[\"x1\"], frame[\"x2\"])]\n",
    "    frame[\"center_y\"] = [y1 + ((y2-y1) / 2) for y1, y2 in zip(frame[\"y1\"], frame[\"y2\"])]\n",
    "    \n",
    "    frame[\"center\"] = [np.array((center_x, center_y)) for center_x, center_y in zip(frame[\"center_x\"], frame[\"center_y\"])]\n",
    "\n",
    "    frame[\"anno_width\"] = [x2-x1 for x1, x2 in zip(frame[\"x1\"], frame[\"x2\"])]\n",
    "    frame[\"anno_height\"]= [y2-y1 for y1, y2 in zip(frame[\"y1\"], frame[\"y2\"])]\n",
    "    \n",
    "    return frame"
   ]
  },
  {
   "cell_type": "code",
   "execution_count": 8,
   "metadata": {},
   "outputs": [],
   "source": [
    "folder = Path(\"..\")\n",
    "\n",
    "slide_files = {path.name: path for path in Path(\"D:/Datasets/ScannerStudy\").glob(\"*/*/*.*\")}"
   ]
  },
  {
   "cell_type": "code",
   "execution_count": 9,
   "metadata": {},
   "outputs": [],
   "source": [
    "def train(config=None):\n",
    "    \n",
    "    # Initialize a new wandb run\n",
    "    with wandb.init(config=config):\n",
    "        # If called by wandb.agent, as below,\n",
    "        # this config will be set by Sweep Controller\n",
    "        config = wandb.config\n",
    "        \n",
    "        annotations = add_help_fields(pd.read_csv(folder / \"Validation/GT.csv\"))\n",
    "        annotations = annotations[annotations[\"image_type\"] == config.image_type]\n",
    "        \n",
    "        source_scanner_annotations = annotations[annotations[\"scanner\"] == config.source_scanner]\n",
    "    \n",
    "        dist_list, q_list, sigma2_list = [], [], []\n",
    "                        \n",
    "        step = 0\n",
    "        for patient_id in tqdm(source_scanner_annotations[\"patient_id\"].unique()):\n",
    "\n",
    "            source_annos = source_scanner_annotations[source_scanner_annotations[\"patient_id\"] == patient_id]\n",
    "            source_anno = source_annos.iloc[0]\n",
    "\n",
    "            target_patient_annotations = annotations[annotations[\"patient_id\"] == patient_id]\n",
    "\n",
    "            for target_image_name in tqdm(target_patient_annotations[\"image_name\"].unique()):\n",
    "                image_dist_list = []\n",
    "\n",
    "                target_annos = target_patient_annotations[target_patient_annotations[\"image_name\"] == target_image_name]\n",
    "                target_anno = target_annos.iloc[0]\n",
    "\n",
    "                source_slide = openslide.OpenSlide(str(slide_files[source_anno.image_name]))\n",
    "                target_slide = openslide.OpenSlide(str(slide_files[target_anno.image_name]))\n",
    "\n",
    "                source_dimension = Rect.create(Rect, 0, 0, source_slide.dimensions[0], source_slide.dimensions[1])\n",
    "                target_dimension = Rect.create(Rect, 0, 0, target_slide.dimensions[0], target_slide.dimensions[1])\n",
    "\n",
    "\n",
    "                qtree = QuadTree(source_dimension, source_slide, target_dimension, target_slide, **config)\n",
    "                                  \n",
    "                q_list.append(qtree.q)\n",
    "                sigma2_list.append(qtree.sigma2)\n",
    "                \n",
    "                intersections = list(set(source_annos[\"type_name\"]).intersection(target_annos[\"type_name\"]))\n",
    "                \n",
    "                for type_name in intersections:\n",
    "\n",
    "                    source_anno = source_annos[source_annos[\"type_name\"] == type_name].iloc[0]\n",
    "                    target_anno = target_annos[target_annos[\"type_name\"] == type_name].iloc[0]\n",
    "\n",
    "                    box = [source_anno.center_x, source_anno.center_y, source_anno.anno_width, source_anno.anno_height]\n",
    "                    target_box = [target_anno.center_x, target_anno.center_y, target_anno.anno_width, target_anno.anno_height]\n",
    "\n",
    "                    trans_box = qtree.transform_boxes(np.array([box]))[0]\n",
    "\n",
    "                    distance = np.linalg.norm(target_box[:2]-trans_box[:2])\n",
    "\n",
    "                    dist_list.append(distance)\n",
    "                    image_dist_list.append(distance)\n",
    "                    \n",
    "                image_dist_list = np.array(image_dist_list)\n",
    "                wandb.log({\n",
    "                    \"dist_mean_image\": image_dist_list.mean(),\n",
    "                    \"dist_mean_image\": image_dist_list.min(),\n",
    "                    \"dist_mean_image\": image_dist_list.max(),\n",
    "                    \"step\": step\n",
    "                })\n",
    "                \n",
    "                step += 1\n",
    "        \n",
    "        dist_list, q_list, sigma2_list = np.array(dist_list), np.array(q_list), np.array(sigma2_list)\n",
    "        \n",
    "        wandb.log({\n",
    "            \"dist_mean\": dist_list.mean(),\n",
    "            \"dist_min\": dist_list.min(),\n",
    "            \"dist_max\": dist_list.max(),\n",
    "            \n",
    "            \"q_mean\": q_list.mean(),\n",
    "            \"q_min\": q_list.min(),\n",
    "            \"q_max\": q_list.max(),\n",
    "            \n",
    "            \"sigma2_mean\": sigma2_list.mean(),\n",
    "            \"sigma2_min\": sigma2_list.min(),\n",
    "            \"sigma2_max\": sigma2_list.max(),\n",
    "        })"
   ]
  },
  {
   "cell_type": "code",
   "execution_count": 10,
   "metadata": {},
   "outputs": [
    {
     "data": {
      "text/plain": [
       "'q6j7pg6g'"
      ]
     },
     "execution_count": 10,
     "metadata": {},
     "output_type": "execute_result"
    }
   ],
   "source": [
    "sweep_id"
   ]
  },
  {
   "cell_type": "code",
   "execution_count": 11,
   "metadata": {
    "scrolled": false
   },
   "outputs": [
    {
     "name": "stderr",
     "output_type": "stream",
     "text": [
      "wandb: Agent Starting Run: aifykvm5 with config:\n",
      "wandb: \tcrossCheck: False\n",
      "wandb: \tfilter_outliner: False\n",
      "wandb: \tflann: True\n",
      "wandb: \thomography: True\n",
      "wandb: \timage_type: CCMCT\n",
      "wandb: \tmaxFeatures: 768\n",
      "wandb: \tpoint_extractor: sift\n",
      "wandb: \tratio: 0.9\n",
      "wandb: \tsource_scanner: Aperio\n",
      "wandb: \ttarget_depth: 0\n",
      "wandb: \tthumbnail_size: [1024, 1024]\n",
      "wandb: \tuse_gray: True\n",
      "Failed to query for notebook name, you can set it manually with the WANDB_NOTEBOOK_NAME environment variable\n",
      "wandb: Currently logged in as: christianml (use `wandb login --relogin` to force relogin)\n",
      "wandb: wandb version 0.10.15 is available!  To upgrade, please run:\n",
      "wandb:  $ pip install wandb --upgrade\n"
     ]
    },
    {
     "data": {
      "text/html": [
       "\n",
       "                Tracking run with wandb version 0.10.14<br/>\n",
       "                Syncing run <strong style=\"color:#cdcd00\">restful-sweep-1</strong> to <a href=\"https://wandb.ai\" target=\"_blank\">Weights & Biases</a> <a href=\"https://docs.wandb.com/integrations/jupyter.html\" target=\"_blank\">(Documentation)</a>.<br/>\n",
       "                Project page: <a href=\"https://wandb.ai/christianml/quadtree\" target=\"_blank\">https://wandb.ai/christianml/quadtree</a><br/>\n",
       "                Sweep page: <a href=\"https://wandb.ai/christianml/quadtree/sweeps/q6j7pg6g\" target=\"_blank\">https://wandb.ai/christianml/quadtree/sweeps/q6j7pg6g</a><br/>\n",
       "Run page: <a href=\"https://wandb.ai/christianml/quadtree/runs/aifykvm5\" target=\"_blank\">https://wandb.ai/christianml/quadtree/runs/aifykvm5</a><br/>\n",
       "                Run data is saved locally in <code>D:\\ProgProjekte\\Python\\EIPH_WSI\\MIDL2021\\Registration\\WandB\\wandb\\run-20210125_141048-aifykvm5</code><br/><br/>\n",
       "            "
      ],
      "text/plain": [
       "<IPython.core.display.HTML object>"
      ]
     },
     "metadata": {},
     "output_type": "display_data"
    },
    {
     "name": "stderr",
     "output_type": "stream",
     "text": [
      "  0%|                                                                                            | 0/5 [00:00<?, ?it/s]\n",
      "  0%|                                                                                            | 0/4 [00:00<?, ?it/s]\u001b[A\n",
      " 25%|█████████████████████                                                               | 1/4 [00:02<00:06,  2.01s/it]\u001b[A\n",
      " 50%|██████████████████████████████████████████                                          | 2/4 [00:04<00:04,  2.28s/it]\u001b[A\n",
      " 75%|███████████████████████████████████████████████████████████████                     | 3/4 [00:07<00:02,  2.37s/it]\u001b[A\n",
      "100%|████████████████████████████████████████████████████████████████████████████████████| 4/4 [00:20<00:00,  5.19s/it]\u001b[A\n",
      " 20%|████████████████▊                                                                   | 1/5 [00:20<01:23, 20.78s/it]\n",
      "  0%|                                                                                            | 0/4 [00:00<?, ?it/s]\u001b[A\n",
      " 25%|█████████████████████                                                               | 1/4 [00:02<00:06,  2.14s/it]\u001b[A\n",
      " 50%|██████████████████████████████████████████                                          | 2/4 [00:05<00:05,  2.59s/it]\u001b[A\n",
      " 75%|███████████████████████████████████████████████████████████████                     | 3/4 [00:09<00:02,  2.88s/it]\u001b[A\n",
      "100%|████████████████████████████████████████████████████████████████████████████████████| 4/4 [00:11<00:00,  2.88s/it]\u001b[A\n",
      " 40%|█████████████████████████████████▌                                                  | 2/5 [00:32<00:54, 18.01s/it]\n",
      "  0%|                                                                                            | 0/4 [00:00<?, ?it/s]\u001b[A\n",
      " 25%|█████████████████████                                                               | 1/4 [00:01<00:03,  1.23s/it]\u001b[A\n",
      " 50%|██████████████████████████████████████████                                          | 2/4 [00:03<00:02,  1.42s/it]\u001b[A\n",
      " 75%|███████████████████████████████████████████████████████████████                     | 3/4 [00:04<00:01,  1.50s/it]\u001b[A\n",
      "100%|████████████████████████████████████████████████████████████████████████████████████| 4/4 [00:13<00:00,  3.40s/it]\u001b[A\n",
      " 60%|██████████████████████████████████████████████████▍                                 | 3/5 [00:45<00:33, 16.69s/it]\n",
      "  0%|                                                                                            | 0/4 [00:00<?, ?it/s]\u001b[A\n",
      " 25%|█████████████████████                                                               | 1/4 [00:01<00:03,  1.26s/it]\u001b[A\n",
      " 50%|██████████████████████████████████████████                                          | 2/4 [00:03<00:02,  1.41s/it]\u001b[A\n",
      " 75%|███████████████████████████████████████████████████████████████                     | 3/4 [00:04<00:01,  1.49s/it]\u001b[A\n",
      "100%|████████████████████████████████████████████████████████████████████████████████████| 4/4 [00:16<00:00,  4.18s/it]\u001b[A\n",
      " 80%|███████████████████████████████████████████████████████████████████▏                | 4/5 [01:02<00:16, 16.70s/it]\n",
      "  0%|                                                                                            | 0/4 [00:00<?, ?it/s]\u001b[A\n",
      " 25%|█████████████████████                                                               | 1/4 [00:01<00:05,  1.81s/it]\u001b[A\n",
      " 50%|██████████████████████████████████████████                                          | 2/4 [00:04<00:04,  2.12s/it]\u001b[A\n",
      " 75%|███████████████████████████████████████████████████████████████                     | 3/4 [00:07<00:02,  2.24s/it]\u001b[A\n",
      "100%|████████████████████████████████████████████████████████████████████████████████████| 4/4 [00:21<00:00,  5.28s/it]\u001b[A\n",
      "100%|████████████████████████████████████████████████████████████████████████████████████| 5/5 [01:23<00:00, 16.75s/it]\n"
     ]
    },
    {
     "data": {
      "text/html": [
       "<br/>Waiting for W&B process to finish, PID 17176<br/>Program ended successfully."
      ],
      "text/plain": [
       "<IPython.core.display.HTML object>"
      ]
     },
     "metadata": {},
     "output_type": "display_data"
    },
    {
     "data": {
      "application/vnd.jupyter.widget-view+json": {
       "model_id": "",
       "version_major": 2,
       "version_minor": 0
      },
      "text/plain": [
       "VBox(children=(Label(value=' 0.00MB of 0.00MB uploaded (0.00MB deduped)\\r'), FloatProgress(value=1.0, max=1.0)…"
      ]
     },
     "metadata": {},
     "output_type": "display_data"
    },
    {
     "data": {
      "text/html": [
       "Find user logs for this run at: <code>D:\\ProgProjekte\\Python\\EIPH_WSI\\MIDL2021\\Registration\\WandB\\wandb\\run-20210125_141048-aifykvm5\\logs\\debug.log</code>"
      ],
      "text/plain": [
       "<IPython.core.display.HTML object>"
      ]
     },
     "metadata": {},
     "output_type": "display_data"
    },
    {
     "data": {
      "text/html": [
       "Find internal logs for this run at: <code>D:\\ProgProjekte\\Python\\EIPH_WSI\\MIDL2021\\Registration\\WandB\\wandb\\run-20210125_141048-aifykvm5\\logs\\debug-internal.log</code>"
      ],
      "text/plain": [
       "<IPython.core.display.HTML object>"
      ]
     },
     "metadata": {},
     "output_type": "display_data"
    },
    {
     "data": {
      "text/html": [
       "<h3>Run summary:</h3><br/><style>\n",
       "    table.wandb td:nth-child(1) { padding: 0 10px; text-align: right }\n",
       "    </style><table class=\"wandb\">\n",
       "<tr><td>dist_mean_image</td><td>34.72339</td></tr><tr><td>step</td><td>19</td></tr><tr><td>_step</td><td>20</td></tr><tr><td>_runtime</td><td>88</td></tr><tr><td>_timestamp</td><td>1611580336</td></tr><tr><td>dist_mean</td><td>3519.76001</td></tr><tr><td>dist_min</td><td>0.0</td></tr><tr><td>dist_max</td><td>115733.39371</td></tr><tr><td>q_mean</td><td>-1.0</td></tr><tr><td>q_min</td><td>-1</td></tr><tr><td>q_max</td><td>-1</td></tr><tr><td>sigma2_mean</td><td>-1.0</td></tr><tr><td>sigma2_min</td><td>-1</td></tr><tr><td>sigma2_max</td><td>-1</td></tr></table>"
      ],
      "text/plain": [
       "<IPython.core.display.HTML object>"
      ]
     },
     "metadata": {},
     "output_type": "display_data"
    },
    {
     "data": {
      "text/html": [
       "<h3>Run history:</h3><br/><style>\n",
       "    table.wandb td:nth-child(1) { padding: 0 10px; text-align: right }\n",
       "    </style><table class=\"wandb\">\n",
       "<tr><td>dist_mean_image</td><td>▁▁▁▁▁▁▁▁▁▁▁▁▁▁▁█▁▁▁▁</td></tr><tr><td>step</td><td>▁▁▂▂▂▃▃▄▄▄▅▅▅▆▆▇▇▇██</td></tr><tr><td>_step</td><td>▁▁▂▂▂▃▃▃▄▄▅▅▅▆▆▆▇▇▇██</td></tr><tr><td>_runtime</td><td>▁▁▁▃▃▃▃▄▄▄▄▅▅▅▅▆▆▇▇██</td></tr><tr><td>_timestamp</td><td>▁▁▁▃▃▃▃▄▄▄▄▅▅▅▅▆▆▇▇██</td></tr><tr><td>dist_mean</td><td>▁</td></tr><tr><td>dist_min</td><td>▁</td></tr><tr><td>dist_max</td><td>▁</td></tr><tr><td>q_mean</td><td>▁</td></tr><tr><td>q_min</td><td>▁</td></tr><tr><td>q_max</td><td>▁</td></tr><tr><td>sigma2_mean</td><td>▁</td></tr><tr><td>sigma2_min</td><td>▁</td></tr><tr><td>sigma2_max</td><td>▁</td></tr></table><br/>"
      ],
      "text/plain": [
       "<IPython.core.display.HTML object>"
      ]
     },
     "metadata": {},
     "output_type": "display_data"
    },
    {
     "data": {
      "text/html": [
       "Synced 5 W&B file(s), 0 media file(s), 0 artifact file(s) and 0 other file(s)"
      ],
      "text/plain": [
       "<IPython.core.display.HTML object>"
      ]
     },
     "metadata": {},
     "output_type": "display_data"
    },
    {
     "data": {
      "text/html": [
       "\n",
       "                    <br/>Synced <strong style=\"color:#cdcd00\">restful-sweep-1</strong>: <a href=\"https://wandb.ai/christianml/quadtree/runs/aifykvm5\" target=\"_blank\">https://wandb.ai/christianml/quadtree/runs/aifykvm5</a><br/>\n",
       "                "
      ],
      "text/plain": [
       "<IPython.core.display.HTML object>"
      ]
     },
     "metadata": {},
     "output_type": "display_data"
    },
    {
     "name": "stderr",
     "output_type": "stream",
     "text": [
      "wandb: Agent Starting Run: sfcke370 with config:\n",
      "wandb: \tcrossCheck: False\n",
      "wandb: \tfilter_outliner: False\n",
      "wandb: \tflann: False\n",
      "wandb: \thomography: True\n",
      "wandb: \timage_type: CCMCT\n",
      "wandb: \tmaxFeatures: 1024\n",
      "wandb: \tpoint_extractor: sift\n",
      "wandb: \tratio: 0.9\n",
      "wandb: \tsource_scanner: Aperio\n",
      "wandb: \ttarget_depth: 0\n",
      "wandb: \tthumbnail_size: [1024, 1024]\n",
      "wandb: \tuse_gray: True\n",
      "Failed to query for notebook name, you can set it manually with the WANDB_NOTEBOOK_NAME environment variable\n",
      "wandb: wandb version 0.10.15 is available!  To upgrade, please run:\n",
      "wandb:  $ pip install wandb --upgrade\n"
     ]
    },
    {
     "data": {
      "text/html": [
       "\n",
       "                Tracking run with wandb version 0.10.14<br/>\n",
       "                Syncing run <strong style=\"color:#cdcd00\">jumping-sweep-2</strong> to <a href=\"https://wandb.ai\" target=\"_blank\">Weights & Biases</a> <a href=\"https://docs.wandb.com/integrations/jupyter.html\" target=\"_blank\">(Documentation)</a>.<br/>\n",
       "                Project page: <a href=\"https://wandb.ai/christianml/quadtree\" target=\"_blank\">https://wandb.ai/christianml/quadtree</a><br/>\n",
       "                Sweep page: <a href=\"https://wandb.ai/christianml/quadtree/sweeps/q6j7pg6g\" target=\"_blank\">https://wandb.ai/christianml/quadtree/sweeps/q6j7pg6g</a><br/>\n",
       "Run page: <a href=\"https://wandb.ai/christianml/quadtree/runs/sfcke370\" target=\"_blank\">https://wandb.ai/christianml/quadtree/runs/sfcke370</a><br/>\n",
       "                Run data is saved locally in <code>D:\\ProgProjekte\\Python\\EIPH_WSI\\MIDL2021\\Registration\\WandB\\wandb\\run-20210125_141221-sfcke370</code><br/><br/>\n",
       "            "
      ],
      "text/plain": [
       "<IPython.core.display.HTML object>"
      ]
     },
     "metadata": {},
     "output_type": "display_data"
    },
    {
     "name": "stderr",
     "output_type": "stream",
     "text": [
      "  0%|                                                                                            | 0/5 [00:00<?, ?it/s]\n",
      "  0%|                                                                                            | 0/4 [00:00<?, ?it/s]\u001b[A\n",
      " 25%|█████████████████████                                                               | 1/4 [00:01<00:05,  1.83s/it]\u001b[A\n",
      " 50%|██████████████████████████████████████████                                          | 2/4 [00:04<00:04,  2.14s/it]\u001b[A\n",
      " 75%|███████████████████████████████████████████████████████████████                     | 3/4 [00:07<00:02,  2.26s/it]\u001b[A\n",
      "100%|████████████████████████████████████████████████████████████████████████████████████| 4/4 [00:20<00:00,  5.23s/it]\u001b[A\n",
      " 20%|████████████████▊                                                                   | 1/5 [00:20<01:23, 20.91s/it]\n",
      "  0%|                                                                                            | 0/4 [00:00<?, ?it/s]\u001b[A\n",
      " 25%|█████████████████████                                                               | 1/4 [00:02<00:06,  2.12s/it]\u001b[A\n",
      " 50%|██████████████████████████████████████████                                          | 2/4 [00:05<00:05,  2.57s/it]\u001b[A\n",
      " 75%|███████████████████████████████████████████████████████████████                     | 3/4 [00:09<00:02,  2.89s/it]\u001b[A\n",
      "100%|████████████████████████████████████████████████████████████████████████████████████| 4/4 [00:11<00:00,  2.91s/it]\u001b[A\n",
      " 40%|█████████████████████████████████▌                                                  | 2/5 [00:32<00:54, 18.13s/it]\n",
      "  0%|                                                                                            | 0/4 [00:00<?, ?it/s]\u001b[A\n",
      " 25%|█████████████████████                                                               | 1/4 [00:01<00:03,  1.28s/it]\u001b[A\n",
      " 50%|██████████████████████████████████████████                                          | 2/4 [00:03<00:02,  1.47s/it]\u001b[A\n",
      " 75%|███████████████████████████████████████████████████████████████                     | 3/4 [00:04<00:01,  1.55s/it]\u001b[A\n",
      "100%|████████████████████████████████████████████████████████████████████████████████████| 4/4 [00:14<00:00,  3.58s/it]\u001b[A\n",
      " 60%|██████████████████████████████████████████████████▍                                 | 3/5 [00:46<00:33, 17.00s/it]\n",
      "  0%|                                                                                            | 0/4 [00:00<?, ?it/s]\u001b[A\n",
      " 25%|█████████████████████                                                               | 1/4 [00:01<00:03,  1.24s/it]\u001b[A\n",
      " 50%|██████████████████████████████████████████                                          | 2/4 [00:03<00:02,  1.44s/it]\u001b[A\n",
      " 75%|███████████████████████████████████████████████████████████████                     | 3/4 [00:04<00:01,  1.54s/it]\u001b[A\n",
      "100%|████████████████████████████████████████████████████████████████████████████████████| 4/4 [00:17<00:00,  4.48s/it]\u001b[A\n",
      " 80%|███████████████████████████████████████████████████████████████████▏                | 4/5 [01:04<00:17, 17.28s/it]\n",
      "  0%|                                                                                            | 0/4 [00:00<?, ?it/s]\u001b[A\n",
      " 25%|█████████████████████                                                               | 1/4 [00:01<00:05,  1.83s/it]\u001b[A\n",
      " 50%|██████████████████████████████████████████                                          | 2/4 [00:04<00:04,  2.12s/it]\u001b[A\n",
      " 75%|███████████████████████████████████████████████████████████████                     | 3/4 [00:07<00:02,  2.21s/it]\u001b[A\n",
      "100%|████████████████████████████████████████████████████████████████████████████████████| 4/4 [00:20<00:00,  5.23s/it]\u001b[A\n",
      "100%|████████████████████████████████████████████████████████████████████████████████████| 5/5 [01:25<00:00, 17.16s/it]\n"
     ]
    },
    {
     "data": {
      "text/html": [
       "<br/>Waiting for W&B process to finish, PID 15716<br/>Program ended successfully."
      ],
      "text/plain": [
       "<IPython.core.display.HTML object>"
      ]
     },
     "metadata": {},
     "output_type": "display_data"
    },
    {
     "data": {
      "application/vnd.jupyter.widget-view+json": {
       "model_id": "",
       "version_major": 2,
       "version_minor": 0
      },
      "text/plain": [
       "VBox(children=(Label(value=' 0.00MB of 0.00MB uploaded (0.00MB deduped)\\r'), FloatProgress(value=1.0, max=1.0)…"
      ]
     },
     "metadata": {},
     "output_type": "display_data"
    },
    {
     "data": {
      "text/html": [
       "Find user logs for this run at: <code>D:\\ProgProjekte\\Python\\EIPH_WSI\\MIDL2021\\Registration\\WandB\\wandb\\run-20210125_141221-sfcke370\\logs\\debug.log</code>"
      ],
      "text/plain": [
       "<IPython.core.display.HTML object>"
      ]
     },
     "metadata": {},
     "output_type": "display_data"
    },
    {
     "data": {
      "text/html": [
       "Find internal logs for this run at: <code>D:\\ProgProjekte\\Python\\EIPH_WSI\\MIDL2021\\Registration\\WandB\\wandb\\run-20210125_141221-sfcke370\\logs\\debug-internal.log</code>"
      ],
      "text/plain": [
       "<IPython.core.display.HTML object>"
      ]
     },
     "metadata": {},
     "output_type": "display_data"
    },
    {
     "data": {
      "text/html": [
       "<h3>Run summary:</h3><br/><style>\n",
       "    table.wandb td:nth-child(1) { padding: 0 10px; text-align: right }\n",
       "    </style><table class=\"wandb\">\n",
       "<tr><td>dist_mean_image</td><td>120.64155</td></tr><tr><td>step</td><td>19</td></tr><tr><td>_step</td><td>20</td></tr><tr><td>_runtime</td><td>91</td></tr><tr><td>_timestamp</td><td>1611580433</td></tr><tr><td>dist_mean</td><td>9678.63646</td></tr><tr><td>dist_min</td><td>0.0</td></tr><tr><td>dist_max</td><td>452663.03333</td></tr><tr><td>q_mean</td><td>-1.0</td></tr><tr><td>q_min</td><td>-1</td></tr><tr><td>q_max</td><td>-1</td></tr><tr><td>sigma2_mean</td><td>-1.0</td></tr><tr><td>sigma2_min</td><td>-1</td></tr><tr><td>sigma2_max</td><td>-1</td></tr></table>"
      ],
      "text/plain": [
       "<IPython.core.display.HTML object>"
      ]
     },
     "metadata": {},
     "output_type": "display_data"
    },
    {
     "data": {
      "text/html": [
       "<h3>Run history:</h3><br/><style>\n",
       "    table.wandb td:nth-child(1) { padding: 0 10px; text-align: right }\n",
       "    </style><table class=\"wandb\">\n",
       "<tr><td>dist_mean_image</td><td>▁▁▁▁▁▁▁▁▁▁▁▁▁▁▁█▁▁▁▁</td></tr><tr><td>step</td><td>▁▁▂▂▂▃▃▄▄▄▅▅▅▆▆▇▇▇██</td></tr><tr><td>_step</td><td>▁▁▂▂▂▃▃▃▄▄▅▅▅▆▆▆▇▇▇██</td></tr><tr><td>_runtime</td><td>▁▁▁▃▃▃▃▃▄▄▄▅▅▅▅▆▆▇▇██</td></tr><tr><td>_timestamp</td><td>▁▁▁▃▃▃▃▃▄▄▄▅▅▅▅▆▆▇▇██</td></tr><tr><td>dist_mean</td><td>▁</td></tr><tr><td>dist_min</td><td>▁</td></tr><tr><td>dist_max</td><td>▁</td></tr><tr><td>q_mean</td><td>▁</td></tr><tr><td>q_min</td><td>▁</td></tr><tr><td>q_max</td><td>▁</td></tr><tr><td>sigma2_mean</td><td>▁</td></tr><tr><td>sigma2_min</td><td>▁</td></tr><tr><td>sigma2_max</td><td>▁</td></tr></table><br/>"
      ],
      "text/plain": [
       "<IPython.core.display.HTML object>"
      ]
     },
     "metadata": {},
     "output_type": "display_data"
    },
    {
     "data": {
      "text/html": [
       "Synced 5 W&B file(s), 0 media file(s), 0 artifact file(s) and 0 other file(s)"
      ],
      "text/plain": [
       "<IPython.core.display.HTML object>"
      ]
     },
     "metadata": {},
     "output_type": "display_data"
    },
    {
     "data": {
      "text/html": [
       "\n",
       "                    <br/>Synced <strong style=\"color:#cdcd00\">jumping-sweep-2</strong>: <a href=\"https://wandb.ai/christianml/quadtree/runs/sfcke370\" target=\"_blank\">https://wandb.ai/christianml/quadtree/runs/sfcke370</a><br/>\n",
       "                "
      ],
      "text/plain": [
       "<IPython.core.display.HTML object>"
      ]
     },
     "metadata": {},
     "output_type": "display_data"
    },
    {
     "name": "stderr",
     "output_type": "stream",
     "text": [
      "wandb: Agent Starting Run: zwf3etlo with config:\n",
      "wandb: \tcrossCheck: False\n",
      "wandb: \tfilter_outliner: False\n",
      "wandb: \tflann: False\n",
      "wandb: \thomography: True\n",
      "wandb: \timage_type: CCMCT\n",
      "wandb: \tmaxFeatures: 64\n",
      "wandb: \tpoint_extractor: sift\n",
      "wandb: \tratio: 0.6\n",
      "wandb: \tsource_scanner: Aperio\n",
      "wandb: \ttarget_depth: 0\n",
      "wandb: \tthumbnail_size: [1024, 1024]\n",
      "wandb: \tuse_gray: False\n",
      "Failed to query for notebook name, you can set it manually with the WANDB_NOTEBOOK_NAME environment variable\n"
     ]
    },
    {
     "data": {
      "text/html": [
       "\n",
       "                Tracking run with wandb version 0.10.14<br/>\n",
       "                Syncing run <strong style=\"color:#cdcd00\">serene-sweep-3</strong> to <a href=\"https://wandb.ai\" target=\"_blank\">Weights & Biases</a> <a href=\"https://docs.wandb.com/integrations/jupyter.html\" target=\"_blank\">(Documentation)</a>.<br/>\n",
       "                Project page: <a href=\"https://wandb.ai/christianml/quadtree\" target=\"_blank\">https://wandb.ai/christianml/quadtree</a><br/>\n",
       "                Sweep page: <a href=\"https://wandb.ai/christianml/quadtree/sweeps/q6j7pg6g\" target=\"_blank\">https://wandb.ai/christianml/quadtree/sweeps/q6j7pg6g</a><br/>\n",
       "Run page: <a href=\"https://wandb.ai/christianml/quadtree/runs/zwf3etlo\" target=\"_blank\">https://wandb.ai/christianml/quadtree/runs/zwf3etlo</a><br/>\n",
       "                Run data is saved locally in <code>D:\\ProgProjekte\\Python\\EIPH_WSI\\MIDL2021\\Registration\\WandB\\wandb\\run-20210125_141400-zwf3etlo</code><br/><br/>\n",
       "            "
      ],
      "text/plain": [
       "<IPython.core.display.HTML object>"
      ]
     },
     "metadata": {},
     "output_type": "display_data"
    },
    {
     "name": "stderr",
     "output_type": "stream",
     "text": [
      "  0%|                                                                                            | 0/5 [00:00<?, ?it/s]\n",
      "  0%|                                                                                            | 0/4 [00:00<?, ?it/s]\u001b[A\n",
      " 25%|█████████████████████                                                               | 1/4 [00:01<00:05,  1.86s/it]\u001b[A\n",
      " 50%|██████████████████████████████████████████                                          | 2/4 [00:04<00:04,  2.16s/it]\u001b[A\n",
      " 75%|███████████████████████████████████████████████████████████████                     | 3/4 [00:07<00:02,  2.32s/it]\u001b[A\n",
      "100%|████████████████████████████████████████████████████████████████████████████████████| 4/4 [00:22<00:00,  5.56s/it]\u001b[A\n",
      " 20%|████████████████▊                                                                   | 1/5 [00:22<01:28, 22.24s/it]\n",
      "  0%|                                                                                            | 0/4 [00:00<?, ?it/s]\u001b[A\n",
      " 25%|█████████████████████                                                               | 1/4 [00:02<00:06,  2.17s/it]\u001b[A\n",
      " 50%|██████████████████████████████████████████                                          | 2/4 [00:05<00:05,  2.60s/it]\u001b[A\n",
      " 75%|███████████████████████████████████████████████████████████████                     | 3/4 [00:09<00:02,  2.86s/it]\u001b[A\n",
      "100%|████████████████████████████████████████████████████████████████████████████████████| 4/4 [00:11<00:00,  2.82s/it]\u001b[A\n",
      " 40%|█████████████████████████████████▌                                                  | 2/5 [00:33<00:56, 18.96s/it]\n",
      "  0%|                                                                                            | 0/4 [00:00<?, ?it/s]\u001b[A\n",
      " 25%|█████████████████████                                                               | 1/4 [00:01<00:03,  1.24s/it]\u001b[A\n",
      " 50%|██████████████████████████████████████████                                          | 2/4 [00:03<00:02,  1.41s/it]\u001b[A\n",
      " 75%|███████████████████████████████████████████████████████████████                     | 3/4 [00:04<00:01,  1.48s/it]\u001b[A\n",
      "100%|████████████████████████████████████████████████████████████████████████████████████| 4/4 [00:14<00:00,  3.51s/it]\u001b[A\n",
      " 60%|██████████████████████████████████████████████████▍                                 | 3/5 [00:47<00:34, 17.48s/it]\n",
      "  0%|                                                                                            | 0/4 [00:00<?, ?it/s]\u001b[A\n",
      " 25%|█████████████████████                                                               | 1/4 [00:01<00:04,  1.35s/it]\u001b[A\n",
      " 50%|██████████████████████████████████████████                                          | 2/4 [00:03<00:02,  1.47s/it]\u001b[A\n",
      " 75%|███████████████████████████████████████████████████████████████                     | 3/4 [00:04<00:01,  1.56s/it]\u001b[A\n",
      "100%|████████████████████████████████████████████████████████████████████████████████████| 4/4 [00:17<00:00,  4.40s/it]\u001b[A\n",
      " 80%|███████████████████████████████████████████████████████████████████▏                | 4/5 [01:05<00:17, 17.52s/it]\n",
      "  0%|                                                                                            | 0/4 [00:00<?, ?it/s]\u001b[A\n",
      " 25%|█████████████████████                                                               | 1/4 [00:01<00:05,  1.78s/it]\u001b[A\n",
      " 50%|██████████████████████████████████████████                                          | 2/4 [00:04<00:04,  2.08s/it]\u001b[A\n",
      " 75%|███████████████████████████████████████████████████████████████                     | 3/4 [00:07<00:02,  2.20s/it]\u001b[A\n",
      "100%|████████████████████████████████████████████████████████████████████████████████████| 4/4 [00:19<00:00,  4.98s/it]\u001b[A\n",
      "100%|████████████████████████████████████████████████████████████████████████████████████| 5/5 [01:25<00:00, 17.02s/it]\n"
     ]
    },
    {
     "data": {
      "text/html": [
       "<br/>Waiting for W&B process to finish, PID 8536<br/>Program ended successfully."
      ],
      "text/plain": [
       "<IPython.core.display.HTML object>"
      ]
     },
     "metadata": {},
     "output_type": "display_data"
    },
    {
     "data": {
      "application/vnd.jupyter.widget-view+json": {
       "model_id": "",
       "version_major": 2,
       "version_minor": 0
      },
      "text/plain": [
       "VBox(children=(Label(value=' 0.00MB of 0.00MB uploaded (0.00MB deduped)\\r'), FloatProgress(value=1.0, max=1.0)…"
      ]
     },
     "metadata": {},
     "output_type": "display_data"
    },
    {
     "data": {
      "text/html": [
       "Find user logs for this run at: <code>D:\\ProgProjekte\\Python\\EIPH_WSI\\MIDL2021\\Registration\\WandB\\wandb\\run-20210125_141400-zwf3etlo\\logs\\debug.log</code>"
      ],
      "text/plain": [
       "<IPython.core.display.HTML object>"
      ]
     },
     "metadata": {},
     "output_type": "display_data"
    },
    {
     "data": {
      "text/html": [
       "Find internal logs for this run at: <code>D:\\ProgProjekte\\Python\\EIPH_WSI\\MIDL2021\\Registration\\WandB\\wandb\\run-20210125_141400-zwf3etlo\\logs\\debug-internal.log</code>"
      ],
      "text/plain": [
       "<IPython.core.display.HTML object>"
      ]
     },
     "metadata": {},
     "output_type": "display_data"
    },
    {
     "data": {
      "text/html": [
       "<h3>Run summary:</h3><br/><style>\n",
       "    table.wandb td:nth-child(1) { padding: 0 10px; text-align: right }\n",
       "    </style><table class=\"wandb\">\n",
       "<tr><td>dist_mean_image</td><td>36.02445</td></tr><tr><td>step</td><td>19</td></tr><tr><td>_step</td><td>20</td></tr><tr><td>_runtime</td><td>93</td></tr><tr><td>_timestamp</td><td>1611580533</td></tr><tr><td>dist_mean</td><td>111.32076</td></tr><tr><td>dist_min</td><td>0.0</td></tr><tr><td>dist_max</td><td>3286.67247</td></tr><tr><td>q_mean</td><td>-1.0</td></tr><tr><td>q_min</td><td>-1</td></tr><tr><td>q_max</td><td>-1</td></tr><tr><td>sigma2_mean</td><td>-1.0</td></tr><tr><td>sigma2_min</td><td>-1</td></tr><tr><td>sigma2_max</td><td>-1</td></tr></table>"
      ],
      "text/plain": [
       "<IPython.core.display.HTML object>"
      ]
     },
     "metadata": {},
     "output_type": "display_data"
    },
    {
     "data": {
      "text/html": [
       "<h3>Run history:</h3><br/><style>\n",
       "    table.wandb td:nth-child(1) { padding: 0 10px; text-align: right }\n",
       "    </style><table class=\"wandb\">\n",
       "<tr><td>dist_mean_image</td><td>▁▁▁▁▂▁▁▁▁▁▁▁▁▁▁█▁▁▂▁</td></tr><tr><td>step</td><td>▁▁▂▂▂▃▃▄▄▄▅▅▅▆▆▇▇▇██</td></tr><tr><td>_step</td><td>▁▁▂▂▂▃▃▃▄▄▅▅▅▆▆▆▇▇▇██</td></tr><tr><td>_runtime</td><td>▁▁▁▃▃▃▃▄▄▄▄▅▅▅▅▆▆▇▇██</td></tr><tr><td>_timestamp</td><td>▁▁▁▃▃▃▃▄▄▄▄▅▅▅▅▆▆▇▇██</td></tr><tr><td>dist_mean</td><td>▁</td></tr><tr><td>dist_min</td><td>▁</td></tr><tr><td>dist_max</td><td>▁</td></tr><tr><td>q_mean</td><td>▁</td></tr><tr><td>q_min</td><td>▁</td></tr><tr><td>q_max</td><td>▁</td></tr><tr><td>sigma2_mean</td><td>▁</td></tr><tr><td>sigma2_min</td><td>▁</td></tr><tr><td>sigma2_max</td><td>▁</td></tr></table><br/>"
      ],
      "text/plain": [
       "<IPython.core.display.HTML object>"
      ]
     },
     "metadata": {},
     "output_type": "display_data"
    },
    {
     "data": {
      "text/html": [
       "Synced 5 W&B file(s), 0 media file(s), 0 artifact file(s) and 0 other file(s)"
      ],
      "text/plain": [
       "<IPython.core.display.HTML object>"
      ]
     },
     "metadata": {},
     "output_type": "display_data"
    },
    {
     "data": {
      "text/html": [
       "\n",
       "                    <br/>Synced <strong style=\"color:#cdcd00\">serene-sweep-3</strong>: <a href=\"https://wandb.ai/christianml/quadtree/runs/zwf3etlo\" target=\"_blank\">https://wandb.ai/christianml/quadtree/runs/zwf3etlo</a><br/>\n",
       "                "
      ],
      "text/plain": [
       "<IPython.core.display.HTML object>"
      ]
     },
     "metadata": {},
     "output_type": "display_data"
    },
    {
     "name": "stderr",
     "output_type": "stream",
     "text": [
      "wandb: Agent Starting Run: vy5uitqd with config:\n",
      "wandb: \tcrossCheck: False\n",
      "wandb: \tfilter_outliner: False\n",
      "wandb: \tflann: False\n",
      "wandb: \thomography: True\n",
      "wandb: \timage_type: CCMCT\n",
      "wandb: \tmaxFeatures: 768\n",
      "wandb: \tpoint_extractor: sift\n",
      "wandb: \tratio: 0.8\n",
      "wandb: \tsource_scanner: Aperio\n",
      "wandb: \ttarget_depth: 0\n",
      "wandb: \tthumbnail_size: [1024, 1024]\n",
      "wandb: \tuse_gray: True\n",
      "Failed to query for notebook name, you can set it manually with the WANDB_NOTEBOOK_NAME environment variable\n"
     ]
    },
    {
     "data": {
      "text/html": [
       "\n",
       "                Tracking run with wandb version 0.10.14<br/>\n",
       "                Syncing run <strong style=\"color:#cdcd00\">smooth-sweep-4</strong> to <a href=\"https://wandb.ai\" target=\"_blank\">Weights & Biases</a> <a href=\"https://docs.wandb.com/integrations/jupyter.html\" target=\"_blank\">(Documentation)</a>.<br/>\n",
       "                Project page: <a href=\"https://wandb.ai/christianml/quadtree\" target=\"_blank\">https://wandb.ai/christianml/quadtree</a><br/>\n",
       "                Sweep page: <a href=\"https://wandb.ai/christianml/quadtree/sweeps/q6j7pg6g\" target=\"_blank\">https://wandb.ai/christianml/quadtree/sweeps/q6j7pg6g</a><br/>\n",
       "Run page: <a href=\"https://wandb.ai/christianml/quadtree/runs/vy5uitqd\" target=\"_blank\">https://wandb.ai/christianml/quadtree/runs/vy5uitqd</a><br/>\n",
       "                Run data is saved locally in <code>D:\\ProgProjekte\\Python\\EIPH_WSI\\MIDL2021\\Registration\\WandB\\wandb\\run-20210125_141538-vy5uitqd</code><br/><br/>\n",
       "            "
      ],
      "text/plain": [
       "<IPython.core.display.HTML object>"
      ]
     },
     "metadata": {},
     "output_type": "display_data"
    },
    {
     "name": "stderr",
     "output_type": "stream",
     "text": [
      "  0%|                                                                                            | 0/5 [00:00<?, ?it/s]\n",
      "  0%|                                                                                            | 0/4 [00:00<?, ?it/s]\u001b[A\n",
      " 25%|█████████████████████                                                               | 1/4 [00:01<00:05,  1.76s/it]\u001b[A\n",
      " 50%|██████████████████████████████████████████                                          | 2/4 [00:04<00:04,  2.11s/it]\u001b[A\n",
      " 75%|███████████████████████████████████████████████████████████████                     | 3/4 [00:07<00:02,  2.24s/it]\u001b[A\n",
      "100%|████████████████████████████████████████████████████████████████████████████████████| 4/4 [00:21<00:00,  5.27s/it]\u001b[A\n",
      " 20%|████████████████▊                                                                   | 1/5 [00:21<01:24, 21.07s/it]\n",
      "  0%|                                                                                            | 0/4 [00:00<?, ?it/s]\u001b[A\n",
      " 25%|█████████████████████                                                               | 1/4 [00:02<00:06,  2.17s/it]\u001b[A\n",
      " 50%|██████████████████████████████████████████                                          | 2/4 [00:05<00:05,  2.66s/it]\u001b[A\n",
      " 75%|███████████████████████████████████████████████████████████████                     | 3/4 [00:09<00:02,  2.94s/it]\u001b[A\n",
      "100%|████████████████████████████████████████████████████████████████████████████████████| 4/4 [00:11<00:00,  2.94s/it]\u001b[A\n",
      " 40%|█████████████████████████████████▌                                                  | 2/5 [00:32<00:54, 18.28s/it]\n",
      "  0%|                                                                                            | 0/4 [00:00<?, ?it/s]\u001b[A\n",
      " 25%|█████████████████████                                                               | 1/4 [00:01<00:03,  1.25s/it]\u001b[A\n",
      " 50%|██████████████████████████████████████████                                          | 2/4 [00:03<00:02,  1.45s/it]\u001b[A\n",
      " 75%|███████████████████████████████████████████████████████████████                     | 3/4 [00:04<00:01,  1.52s/it]\u001b[A\n",
      "100%|████████████████████████████████████████████████████████████████████████████████████| 4/4 [00:14<00:00,  3.58s/it]\u001b[A\n",
      " 60%|██████████████████████████████████████████████████▍                                 | 3/5 [00:47<00:34, 17.10s/it]\n",
      "  0%|                                                                                            | 0/4 [00:00<?, ?it/s]\u001b[A\n",
      " 25%|█████████████████████                                                               | 1/4 [00:01<00:03,  1.29s/it]\u001b[A\n",
      " 50%|██████████████████████████████████████████                                          | 2/4 [00:03<00:02,  1.44s/it]\u001b[A\n",
      " 75%|███████████████████████████████████████████████████████████████                     | 3/4 [00:04<00:01,  1.51s/it]\u001b[A\n",
      "100%|████████████████████████████████████████████████████████████████████████████████████| 4/4 [00:17<00:00,  4.49s/it]\u001b[A\n",
      " 80%|███████████████████████████████████████████████████████████████████▏                | 4/5 [01:05<00:17, 17.36s/it]\n",
      "  0%|                                                                                            | 0/4 [00:00<?, ?it/s]\u001b[A\n",
      " 25%|█████████████████████                                                               | 1/4 [00:01<00:05,  1.90s/it]\u001b[A\n",
      " 50%|██████████████████████████████████████████                                          | 2/4 [00:04<00:04,  2.21s/it]\u001b[A\n",
      " 75%|███████████████████████████████████████████████████████████████                     | 3/4 [00:07<00:02,  2.30s/it]\u001b[A\n",
      "100%|████████████████████████████████████████████████████████████████████████████████████| 4/4 [00:22<00:00,  5.61s/it]\u001b[A\n",
      "100%|████████████████████████████████████████████████████████████████████████████████████| 5/5 [01:27<00:00, 17.52s/it]\n"
     ]
    },
    {
     "data": {
      "text/html": [
       "<br/>Waiting for W&B process to finish, PID 24524<br/>Program ended successfully."
      ],
      "text/plain": [
       "<IPython.core.display.HTML object>"
      ]
     },
     "metadata": {},
     "output_type": "display_data"
    },
    {
     "data": {
      "application/vnd.jupyter.widget-view+json": {
       "model_id": "",
       "version_major": 2,
       "version_minor": 0
      },
      "text/plain": [
       "VBox(children=(Label(value=' 0.00MB of 0.00MB uploaded (0.00MB deduped)\\r'), FloatProgress(value=1.0, max=1.0)…"
      ]
     },
     "metadata": {},
     "output_type": "display_data"
    },
    {
     "data": {
      "text/html": [
       "Find user logs for this run at: <code>D:\\ProgProjekte\\Python\\EIPH_WSI\\MIDL2021\\Registration\\WandB\\wandb\\run-20210125_141538-vy5uitqd\\logs\\debug.log</code>"
      ],
      "text/plain": [
       "<IPython.core.display.HTML object>"
      ]
     },
     "metadata": {},
     "output_type": "display_data"
    },
    {
     "data": {
      "text/html": [
       "Find internal logs for this run at: <code>D:\\ProgProjekte\\Python\\EIPH_WSI\\MIDL2021\\Registration\\WandB\\wandb\\run-20210125_141538-vy5uitqd\\logs\\debug-internal.log</code>"
      ],
      "text/plain": [
       "<IPython.core.display.HTML object>"
      ]
     },
     "metadata": {},
     "output_type": "display_data"
    },
    {
     "data": {
      "text/html": [
       "<h3>Run summary:</h3><br/><style>\n",
       "    table.wandb td:nth-child(1) { padding: 0 10px; text-align: right }\n",
       "    </style><table class=\"wandb\">\n",
       "<tr><td>dist_mean_image</td><td>39.35559</td></tr><tr><td>step</td><td>19</td></tr><tr><td>_step</td><td>20</td></tr><tr><td>_runtime</td><td>94</td></tr><tr><td>_timestamp</td><td>1611580632</td></tr><tr><td>dist_mean</td><td>55.31567</td></tr><tr><td>dist_min</td><td>0.0</td></tr><tr><td>dist_max</td><td>630.63542</td></tr><tr><td>q_mean</td><td>-1.0</td></tr><tr><td>q_min</td><td>-1</td></tr><tr><td>q_max</td><td>-1</td></tr><tr><td>sigma2_mean</td><td>-1.0</td></tr><tr><td>sigma2_min</td><td>-1</td></tr><tr><td>sigma2_max</td><td>-1</td></tr></table>"
      ],
      "text/plain": [
       "<IPython.core.display.HTML object>"
      ]
     },
     "metadata": {},
     "output_type": "display_data"
    },
    {
     "data": {
      "text/html": [
       "<h3>Run history:</h3><br/><style>\n",
       "    table.wandb td:nth-child(1) { padding: 0 10px; text-align: right }\n",
       "    </style><table class=\"wandb\">\n",
       "<tr><td>dist_mean_image</td><td>▁▁▂▂▂▁▂▄▁▁▂▂▂▁▅▄▂▁█▁</td></tr><tr><td>step</td><td>▁▁▂▂▂▃▃▄▄▄▅▅▅▆▆▇▇▇██</td></tr><tr><td>_step</td><td>▁▁▂▂▂▃▃▃▄▄▅▅▅▆▆▆▇▇▇██</td></tr><tr><td>_runtime</td><td>▁▁▁▃▃▃▃▄▄▄▄▅▅▅▅▆▆▇▇██</td></tr><tr><td>_timestamp</td><td>▁▁▁▃▃▃▃▄▄▄▄▅▅▅▅▆▆▇▇██</td></tr><tr><td>dist_mean</td><td>▁</td></tr><tr><td>dist_min</td><td>▁</td></tr><tr><td>dist_max</td><td>▁</td></tr><tr><td>q_mean</td><td>▁</td></tr><tr><td>q_min</td><td>▁</td></tr><tr><td>q_max</td><td>▁</td></tr><tr><td>sigma2_mean</td><td>▁</td></tr><tr><td>sigma2_min</td><td>▁</td></tr><tr><td>sigma2_max</td><td>▁</td></tr></table><br/>"
      ],
      "text/plain": [
       "<IPython.core.display.HTML object>"
      ]
     },
     "metadata": {},
     "output_type": "display_data"
    },
    {
     "data": {
      "text/html": [
       "Synced 5 W&B file(s), 0 media file(s), 0 artifact file(s) and 0 other file(s)"
      ],
      "text/plain": [
       "<IPython.core.display.HTML object>"
      ]
     },
     "metadata": {},
     "output_type": "display_data"
    },
    {
     "data": {
      "text/html": [
       "\n",
       "                    <br/>Synced <strong style=\"color:#cdcd00\">smooth-sweep-4</strong>: <a href=\"https://wandb.ai/christianml/quadtree/runs/vy5uitqd\" target=\"_blank\">https://wandb.ai/christianml/quadtree/runs/vy5uitqd</a><br/>\n",
       "                "
      ],
      "text/plain": [
       "<IPython.core.display.HTML object>"
      ]
     },
     "metadata": {},
     "output_type": "display_data"
    },
    {
     "name": "stderr",
     "output_type": "stream",
     "text": [
      "wandb: Agent Starting Run: ses9f4fs with config:\n",
      "wandb: \tcrossCheck: False\n",
      "wandb: \tfilter_outliner: False\n",
      "wandb: \tflann: False\n",
      "wandb: \thomography: True\n",
      "wandb: \timage_type: CCMCT\n",
      "wandb: \tmaxFeatures: 64\n",
      "wandb: \tpoint_extractor: sift\n",
      "wandb: \tratio: 0.8\n",
      "wandb: \tsource_scanner: Aperio\n",
      "wandb: \ttarget_depth: 0\n",
      "wandb: \tthumbnail_size: [1024, 1024]\n",
      "wandb: \tuse_gray: True\n",
      "Failed to query for notebook name, you can set it manually with the WANDB_NOTEBOOK_NAME environment variable\n",
      "wandb: wandb version 0.10.15 is available!  To upgrade, please run:\n",
      "wandb:  $ pip install wandb --upgrade\n"
     ]
    },
    {
     "data": {
      "text/html": [
       "\n",
       "                Tracking run with wandb version 0.10.14<br/>\n",
       "                Syncing run <strong style=\"color:#cdcd00\">hopeful-sweep-5</strong> to <a href=\"https://wandb.ai\" target=\"_blank\">Weights & Biases</a> <a href=\"https://docs.wandb.com/integrations/jupyter.html\" target=\"_blank\">(Documentation)</a>.<br/>\n",
       "                Project page: <a href=\"https://wandb.ai/christianml/quadtree\" target=\"_blank\">https://wandb.ai/christianml/quadtree</a><br/>\n",
       "                Sweep page: <a href=\"https://wandb.ai/christianml/quadtree/sweeps/q6j7pg6g\" target=\"_blank\">https://wandb.ai/christianml/quadtree/sweeps/q6j7pg6g</a><br/>\n",
       "Run page: <a href=\"https://wandb.ai/christianml/quadtree/runs/ses9f4fs\" target=\"_blank\">https://wandb.ai/christianml/quadtree/runs/ses9f4fs</a><br/>\n",
       "                Run data is saved locally in <code>D:\\ProgProjekte\\Python\\EIPH_WSI\\MIDL2021\\Registration\\WandB\\wandb\\run-20210125_141717-ses9f4fs</code><br/><br/>\n",
       "            "
      ],
      "text/plain": [
       "<IPython.core.display.HTML object>"
      ]
     },
     "metadata": {},
     "output_type": "display_data"
    },
    {
     "name": "stderr",
     "output_type": "stream",
     "text": [
      "  0%|                                                                                            | 0/5 [00:00<?, ?it/s]\n",
      "  0%|                                                                                            | 0/4 [00:00<?, ?it/s]\u001b[A\n",
      " 25%|█████████████████████                                                               | 1/4 [00:01<00:05,  1.91s/it]\u001b[A\n",
      " 50%|██████████████████████████████████████████                                          | 2/4 [00:05<00:04,  2.27s/it]\u001b[A\n",
      " 75%|███████████████████████████████████████████████████████████████                     | 3/4 [00:07<00:02,  2.40s/it]\u001b[A\n",
      "100%|████████████████████████████████████████████████████████████████████████████████████| 4/4 [00:22<00:00,  5.66s/it]\u001b[A\n",
      " 20%|████████████████▊                                                                   | 1/5 [00:22<01:30, 22.64s/it]\n",
      "  0%|                                                                                            | 0/4 [00:00<?, ?it/s]\u001b[A\n",
      " 25%|█████████████████████                                                               | 1/4 [00:02<00:06,  2.22s/it]\u001b[A\n",
      " 50%|██████████████████████████████████████████                                          | 2/4 [00:06<00:05,  2.71s/it]\u001b[A\n",
      " 75%|███████████████████████████████████████████████████████████████                     | 3/4 [00:09<00:02,  2.98s/it]\u001b[A\n",
      "100%|████████████████████████████████████████████████████████████████████████████████████| 4/4 [00:11<00:00,  2.99s/it]\u001b[A\n",
      " 40%|█████████████████████████████████▌                                                  | 2/5 [00:34<00:58, 19.43s/it]\n",
      "  0%|                                                                                            | 0/4 [00:00<?, ?it/s]\u001b[A\n",
      " 25%|█████████████████████                                                               | 1/4 [00:01<00:03,  1.26s/it]\u001b[A\n",
      " 50%|██████████████████████████████████████████                                          | 2/4 [00:03<00:02,  1.48s/it]\u001b[A\n",
      " 75%|███████████████████████████████████████████████████████████████                     | 3/4 [00:04<00:01,  1.55s/it]\u001b[A\n",
      "100%|████████████████████████████████████████████████████████████████████████████████████| 4/4 [00:14<00:00,  3.74s/it]\u001b[A\n",
      " 60%|██████████████████████████████████████████████████▍                                 | 3/5 [00:49<00:36, 18.09s/it]\n",
      "  0%|                                                                                            | 0/4 [00:00<?, ?it/s]\u001b[A\n",
      " 25%|█████████████████████                                                               | 1/4 [00:01<00:03,  1.28s/it]\u001b[A\n",
      " 50%|██████████████████████████████████████████                                          | 2/4 [00:03<00:02,  1.47s/it]\u001b[A\n",
      " 75%|███████████████████████████████████████████████████████████████                     | 3/4 [00:04<00:01,  1.54s/it]\u001b[A\n",
      "100%|████████████████████████████████████████████████████████████████████████████████████| 4/4 [00:18<00:00,  4.57s/it]\u001b[A\n",
      " 80%|███████████████████████████████████████████████████████████████████▏                | 4/5 [01:07<00:18, 18.15s/it]\n",
      "  0%|                                                                                            | 0/4 [00:00<?, ?it/s]\u001b[A\n",
      " 25%|█████████████████████                                                               | 1/4 [00:01<00:05,  1.87s/it]\u001b[A\n",
      " 50%|██████████████████████████████████████████                                          | 2/4 [00:04<00:04,  2.19s/it]\u001b[A\n",
      " 75%|███████████████████████████████████████████████████████████████                     | 3/4 [00:07<00:02,  2.29s/it]\u001b[A\n",
      "100%|████████████████████████████████████████████████████████████████████████████████████| 4/4 [00:20<00:00,  5.23s/it]\u001b[A\n",
      "100%|████████████████████████████████████████████████████████████████████████████████████| 5/5 [01:28<00:00, 17.75s/it]\n"
     ]
    },
    {
     "data": {
      "text/html": [
       "<br/>Waiting for W&B process to finish, PID 13960<br/>Program ended successfully."
      ],
      "text/plain": [
       "<IPython.core.display.HTML object>"
      ]
     },
     "metadata": {},
     "output_type": "display_data"
    },
    {
     "data": {
      "application/vnd.jupyter.widget-view+json": {
       "model_id": "",
       "version_major": 2,
       "version_minor": 0
      },
      "text/plain": [
       "VBox(children=(Label(value=' 0.00MB of 0.00MB uploaded (0.00MB deduped)\\r'), FloatProgress(value=1.0, max=1.0)…"
      ]
     },
     "metadata": {},
     "output_type": "display_data"
    },
    {
     "data": {
      "text/html": [
       "Find user logs for this run at: <code>D:\\ProgProjekte\\Python\\EIPH_WSI\\MIDL2021\\Registration\\WandB\\wandb\\run-20210125_141717-ses9f4fs\\logs\\debug.log</code>"
      ],
      "text/plain": [
       "<IPython.core.display.HTML object>"
      ]
     },
     "metadata": {},
     "output_type": "display_data"
    },
    {
     "data": {
      "text/html": [
       "Find internal logs for this run at: <code>D:\\ProgProjekte\\Python\\EIPH_WSI\\MIDL2021\\Registration\\WandB\\wandb\\run-20210125_141717-ses9f4fs\\logs\\debug-internal.log</code>"
      ],
      "text/plain": [
       "<IPython.core.display.HTML object>"
      ]
     },
     "metadata": {},
     "output_type": "display_data"
    },
    {
     "data": {
      "text/html": [
       "<h3>Run summary:</h3><br/><style>\n",
       "    table.wandb td:nth-child(1) { padding: 0 10px; text-align: right }\n",
       "    </style><table class=\"wandb\">\n",
       "<tr><td>dist_mean_image</td><td>39.35559</td></tr><tr><td>step</td><td>19</td></tr><tr><td>_step</td><td>20</td></tr><tr><td>_runtime</td><td>94</td></tr><tr><td>_timestamp</td><td>1611580731</td></tr><tr><td>dist_mean</td><td>55.31567</td></tr><tr><td>dist_min</td><td>0.0</td></tr><tr><td>dist_max</td><td>630.63542</td></tr><tr><td>q_mean</td><td>-1.0</td></tr><tr><td>q_min</td><td>-1</td></tr><tr><td>q_max</td><td>-1</td></tr><tr><td>sigma2_mean</td><td>-1.0</td></tr><tr><td>sigma2_min</td><td>-1</td></tr><tr><td>sigma2_max</td><td>-1</td></tr></table>"
      ],
      "text/plain": [
       "<IPython.core.display.HTML object>"
      ]
     },
     "metadata": {},
     "output_type": "display_data"
    },
    {
     "data": {
      "text/html": [
       "<h3>Run history:</h3><br/><style>\n",
       "    table.wandb td:nth-child(1) { padding: 0 10px; text-align: right }\n",
       "    </style><table class=\"wandb\">\n",
       "<tr><td>dist_mean_image</td><td>▁▁▂▂▂▁▂▄▁▁▂▂▂▁▅▄▂▁█▁</td></tr><tr><td>step</td><td>▁▁▂▂▂▃▃▄▄▄▅▅▅▆▆▇▇▇██</td></tr><tr><td>_step</td><td>▁▁▂▂▂▃▃▃▄▄▅▅▅▆▆▆▇▇▇██</td></tr><tr><td>_runtime</td><td>▁▁▁▃▃▃▃▄▄▄▄▅▅▅▅▆▆▇▇██</td></tr><tr><td>_timestamp</td><td>▁▁▁▃▃▃▃▄▄▄▄▅▅▅▅▆▆▇▇██</td></tr><tr><td>dist_mean</td><td>▁</td></tr><tr><td>dist_min</td><td>▁</td></tr><tr><td>dist_max</td><td>▁</td></tr><tr><td>q_mean</td><td>▁</td></tr><tr><td>q_min</td><td>▁</td></tr><tr><td>q_max</td><td>▁</td></tr><tr><td>sigma2_mean</td><td>▁</td></tr><tr><td>sigma2_min</td><td>▁</td></tr><tr><td>sigma2_max</td><td>▁</td></tr></table><br/>"
      ],
      "text/plain": [
       "<IPython.core.display.HTML object>"
      ]
     },
     "metadata": {},
     "output_type": "display_data"
    },
    {
     "data": {
      "text/html": [
       "Synced 5 W&B file(s), 0 media file(s), 0 artifact file(s) and 0 other file(s)"
      ],
      "text/plain": [
       "<IPython.core.display.HTML object>"
      ]
     },
     "metadata": {},
     "output_type": "display_data"
    },
    {
     "data": {
      "text/html": [
       "\n",
       "                    <br/>Synced <strong style=\"color:#cdcd00\">hopeful-sweep-5</strong>: <a href=\"https://wandb.ai/christianml/quadtree/runs/ses9f4fs\" target=\"_blank\">https://wandb.ai/christianml/quadtree/runs/ses9f4fs</a><br/>\n",
       "                "
      ],
      "text/plain": [
       "<IPython.core.display.HTML object>"
      ]
     },
     "metadata": {},
     "output_type": "display_data"
    },
    {
     "name": "stderr",
     "output_type": "stream",
     "text": [
      "wandb: Ctrl + C detected. Stopping sweep.\n"
     ]
    }
   ],
   "source": [
    "wandb.agent(sweep_id, train)"
   ]
  },
  {
   "cell_type": "code",
   "execution_count": null,
   "metadata": {},
   "outputs": [],
   "source": []
  }
 ],
 "metadata": {
  "kernelspec": {
   "display_name": "Python 3",
   "language": "python",
   "name": "python3"
  },
  "language_info": {
   "codemirror_mode": {
    "name": "ipython",
    "version": 3
   },
   "file_extension": ".py",
   "mimetype": "text/x-python",
   "name": "python",
   "nbconvert_exporter": "python",
   "pygments_lexer": "ipython3",
   "version": "3.6.10"
  }
 },
 "nbformat": 4,
 "nbformat_minor": 4
}
