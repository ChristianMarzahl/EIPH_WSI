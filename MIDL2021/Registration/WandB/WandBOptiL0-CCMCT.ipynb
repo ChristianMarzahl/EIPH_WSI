{
 "cells": [
  {
   "cell_type": "code",
   "execution_count": 1,
   "metadata": {},
   "outputs": [],
   "source": [
    "%reload_ext autoreload\n",
    "%autoreload 2\n",
    "%matplotlib inline"
   ]
  },
  {
   "cell_type": "code",
   "execution_count": 2,
   "metadata": {},
   "outputs": [],
   "source": [
    "import numpy as np\n",
    "import openslide\n",
    "from probreg import cpd\n",
    "from probreg import transformation as tf\n",
    "import cv2\n",
    "from PIL import Image\n",
    "from pathlib import Path\n",
    "import pandas as pd\n",
    "from tqdm import tqdm\n",
    "import json\n",
    "import wandb\n",
    "import platform"
   ]
  },
  {
   "cell_type": "code",
   "execution_count": 3,
   "metadata": {},
   "outputs": [],
   "source": [
    "import sys\n",
    "sys.path.append(\"..\")\n",
    "from registration_tree import Rect, QuadTree"
   ]
  },
  {
   "cell_type": "code",
   "execution_count": 4,
   "metadata": {},
   "outputs": [],
   "source": [
    "sweep_config = {\n",
    "    'method': 'random', #'bayes' # 'random'\n",
    "}\n",
    "\n",
    "metric = {\n",
    "    'name': 'dist_mean',\n",
    "    'goal': 'minimise'   \n",
    "    }\n",
    "\n",
    "\n",
    "sweep_config['metric'] = metric"
   ]
  },
  {
   "cell_type": "code",
   "execution_count": 5,
   "metadata": {},
   "outputs": [],
   "source": [
    "parameters_dict = {\n",
    "    'point_extractor': {\n",
    "        'values': [\"sift\"] #'orb', \n",
    "        },\n",
    "    'maxFeatures': {\n",
    "        #'values': [64, 128, 256, 512, 768, 1024, 2048]\n",
    "        'values': [64, 128, 256, 512, 768, 1024, 2048]\n",
    "        },\n",
    "    'crossCheck': {\n",
    "        'values': [False]\n",
    "        },\n",
    "    'flann': {\n",
    "        'values': [False, True]\n",
    "        },\n",
    "    'ratio': {\n",
    "        #'values': [.1, .2, .3, .4, .5, .6, .7, .8, .9]\n",
    "        'values': [.3, .4, .5, .6, .7, .8, .9]\n",
    "        },\n",
    "    'use_gray': {\n",
    "        'values': [True, False]\n",
    "        },\n",
    "    'homography': {\n",
    "        'values': [True, False]\n",
    "        },\n",
    "    'filter_outliner': {\n",
    "        'values': [False]\n",
    "        },\n",
    "    'target_depth': {\n",
    "        'values': [0]\n",
    "        },\n",
    "    'thumbnail_size': {\n",
    "        #'values': [(1024, 1024), (2048, 2048), (4096, 4096)]\n",
    "        'values': [(1024, 1024), (2048, 2048), (4096, 4096), (8192, 8192)] #\n",
    "        },    \n",
    "    \n",
    "    'image_type': {\n",
    "        'values': [\"CCMCT\"] #, \"Cyto\"\n",
    "        },\n",
    "    \n",
    "    'source_scanner': {\n",
    "        'values': [\"Aperio\"]\n",
    "        },\n",
    "}\n",
    "sweep_config['parameters'] = parameters_dict"
   ]
  },
  {
   "cell_type": "code",
   "execution_count": 6,
   "metadata": {},
   "outputs": [
    {
     "name": "stdout",
     "output_type": "stream",
     "text": [
      "Create sweep with ID: q5vmb5yu\n",
      "Sweep URL: https://wandb.ai/christianml/quadtree/sweeps/q5vmb5yu\n"
     ]
    },
    {
     "data": {
      "text/plain": [
       "'q5vmb5yu'"
      ]
     },
     "execution_count": 6,
     "metadata": {},
     "output_type": "execute_result"
    }
   ],
   "source": [
    "sweep_id = wandb.sweep(sweep_config, project=\"quadtree\")\n",
    "sweep_id"
   ]
  },
  {
   "cell_type": "code",
   "execution_count": 7,
   "metadata": {},
   "outputs": [],
   "source": [
    "def add_help_fields(frame):\n",
    "    \n",
    "    frame[\"image_name_stem\"] = [Path(image_name).stem for image_name in frame[\"image_name\"]]    \n",
    "    frame[\"patient_id\"] = [name.split(\"_\")[2] for name in frame[\"image_name\"]]\n",
    "\n",
    "    frame[\"x1\"] = [json.loads(vector.replace(\"\\'\",\"\\\"\"))['x1'] for vector in frame[\"vector\"]]\n",
    "    frame[\"y1\"] = [json.loads(vector.replace(\"\\'\",\"\\\"\"))['y1'] for vector in frame[\"vector\"]]\n",
    "\n",
    "    frame[\"x2\"] = [json.loads(vector.replace(\"\\'\",\"\\\"\"))['x2'] for vector in frame[\"vector\"]]\n",
    "    frame[\"y2\"] = [json.loads(vector.replace(\"\\'\",\"\\\"\"))['y2'] for vector in frame[\"vector\"]]\n",
    "\n",
    "    frame[\"center_x\"] = [x1 + ((x2-x1) / 2) for x1, x2 in zip(frame[\"x1\"], frame[\"x2\"])]\n",
    "    frame[\"center_y\"] = [y1 + ((y2-y1) / 2) for y1, y2 in zip(frame[\"y1\"], frame[\"y2\"])]\n",
    "    \n",
    "    frame[\"center\"] = [np.array((center_x, center_y)) for center_x, center_y in zip(frame[\"center_x\"], frame[\"center_y\"])]\n",
    "\n",
    "    frame[\"anno_width\"] = [x2-x1 for x1, x2 in zip(frame[\"x1\"], frame[\"x2\"])]\n",
    "    frame[\"anno_height\"]= [y2-y1 for y1, y2 in zip(frame[\"y1\"], frame[\"y2\"])]\n",
    "    \n",
    "    return frame"
   ]
  },
  {
   "cell_type": "code",
   "execution_count": 8,
   "metadata": {},
   "outputs": [],
   "source": [
    "folder = Path(\"..\")\n",
    "\n",
    "slide_folder = Path(\"D:/Datasets/ScannerStudy\")\n",
    "if slide_folder.exists() == False:\n",
    "    slide_folder = Path(\"/data/ScannerStudy\")\n",
    "if slide_folder.exists() == False:\n",
    "    slide_folder = Path(\"/mnt/d/Datasets/ScannerStudy\")\n",
    "if slide_folder.exists() == False:\n",
    "    slide_folder = Path(\"/data/ScannerStudy\")\n",
    "    \n",
    "slide_files = {path.name: path for path in slide_folder.glob(\"*/*/*.*\")}"
   ]
  },
  {
   "cell_type": "code",
   "execution_count": 9,
   "metadata": {},
   "outputs": [],
   "source": [
    "def train(config=None):\n",
    "    \n",
    "    # Initialize a new wandb run\n",
    "    with wandb.init(config=config):\n",
    "        # If called by wandb.agent, as below,\n",
    "        # this config will be set by Sweep Controller\n",
    "        config = wandb.config\n",
    "        \n",
    "        annotations = add_help_fields(pd.read_csv(folder / \"Validation/GT.csv\"))\n",
    "        annotations = annotations[annotations[\"image_type\"] == config.image_type]\n",
    "        \n",
    "        source_scanner_annotations = annotations[annotations[\"scanner\"] == config.source_scanner]\n",
    "    \n",
    "        dist_list, mean_reg_error_list = [], []\n",
    "                        \n",
    "        step = 0\n",
    "        for patient_id in tqdm(source_scanner_annotations[\"patient_id\"].unique()):\n",
    "\n",
    "            source_annos = source_scanner_annotations[source_scanner_annotations[\"patient_id\"] == patient_id]\n",
    "            source_anno = source_annos.iloc[0]\n",
    "\n",
    "            target_patient_annotations = annotations[annotations[\"patient_id\"] == patient_id]\n",
    "\n",
    "            for target_image_name in tqdm(target_patient_annotations[\"image_name\"].unique()):\n",
    "                image_dist_list = []\n",
    "\n",
    "                target_annos = target_patient_annotations[target_patient_annotations[\"image_name\"] == target_image_name]\n",
    "                target_anno = target_annos.iloc[0]\n",
    "                \n",
    "                if source_anno.scanner == target_anno.scanner:\n",
    "                    continue\n",
    "\n",
    "                source_slide = openslide.OpenSlide(str(slide_files[source_anno.image_name]))\n",
    "                target_slide = openslide.OpenSlide(str(slide_files[target_anno.image_name]))\n",
    "\n",
    "                source_dimension = Rect.create(Rect, 0, 0, source_slide.dimensions[0], source_slide.dimensions[1])\n",
    "                target_dimension = Rect.create(Rect, 0, 0, target_slide.dimensions[0], target_slide.dimensions[1])\n",
    "\n",
    "\n",
    "                qtree = QuadTree(source_dimension, source_slide, target_dimension, target_slide, debug=False, **config)\n",
    "                                  \n",
    "                mean_reg_error_list.append(qtree.mean_reg_error)\n",
    "                \n",
    "                intersections = list(set(source_annos[\"type_name\"]).intersection(target_annos[\"type_name\"]))\n",
    "                \n",
    "                for type_name in intersections:\n",
    "\n",
    "                    source_anno = source_annos[source_annos[\"type_name\"] == type_name].iloc[0]\n",
    "                    target_anno = target_annos[target_annos[\"type_name\"] == type_name].iloc[0]\n",
    "\n",
    "                    box = [source_anno.center_x, source_anno.center_y, source_anno.anno_width, source_anno.anno_height]\n",
    "                    target_box = [target_anno.center_x, target_anno.center_y, target_anno.anno_width, target_anno.anno_height]\n",
    "\n",
    "                    trans_box = qtree.transform_boxes(np.array([box]))[0]\n",
    "\n",
    "                    distance = np.linalg.norm(target_box[:2]-trans_box[:2])\n",
    "\n",
    "                    dist_list.append(distance)\n",
    "                    image_dist_list.append(distance)\n",
    "                    \n",
    "                image_dist_list = np.array(image_dist_list)\n",
    "                wandb.log({\n",
    "                    \"dist_mean_image\": image_dist_list.mean(),\n",
    "                    \"dist_mean_image\": image_dist_list.min(),\n",
    "                    \"dist_mean_image\": image_dist_list.max(),\n",
    "                    \"mean_reg_error_image\": qtree.mean_reg_error,\n",
    "                    \"step\": step,\n",
    "                })\n",
    "                \n",
    "                step += 1\n",
    "        \n",
    "        dist_list, mean_reg_error_list = np.array(dist_list), np.array(mean_reg_error_list),\n",
    "        \n",
    "        wandb.log({\n",
    "            \"dist_mean\": dist_list.mean(),\n",
    "            \"dist_min\": dist_list.min(),\n",
    "            \"dist_max\": dist_list.max(),\n",
    "            \n",
    "            \"mean_reg_error\": mean_reg_error_list.mean(),\n",
    "        })"
   ]
  },
  {
   "cell_type": "code",
   "execution_count": 10,
   "metadata": {},
   "outputs": [
    {
     "data": {
      "text/plain": [
       "'q5vmb5yu'"
      ]
     },
     "execution_count": 10,
     "metadata": {},
     "output_type": "execute_result"
    }
   ],
   "source": [
    "sweep_id"
   ]
  },
  {
   "cell_type": "code",
   "execution_count": null,
   "metadata": {
    "scrolled": false
   },
   "outputs": [
    {
     "name": "stderr",
     "output_type": "stream",
     "text": [
      "INFO - 2021-01-26 15:45:25,144 - pyagent - Starting sweep agent: entity=None, project=None, count=None\n",
      "\u001b[34m\u001b[1mwandb\u001b[0m: Agent Starting Run: yd9g0liy with config:\n",
      "\u001b[34m\u001b[1mwandb\u001b[0m: \tcrossCheck: False\n",
      "\u001b[34m\u001b[1mwandb\u001b[0m: \tfilter_outliner: False\n",
      "\u001b[34m\u001b[1mwandb\u001b[0m: \tflann: True\n",
      "\u001b[34m\u001b[1mwandb\u001b[0m: \thomography: True\n",
      "\u001b[34m\u001b[1mwandb\u001b[0m: \timage_type: CCMCT\n",
      "\u001b[34m\u001b[1mwandb\u001b[0m: \tmaxFeatures: 128\n",
      "\u001b[34m\u001b[1mwandb\u001b[0m: \tpoint_extractor: sift\n",
      "\u001b[34m\u001b[1mwandb\u001b[0m: \tratio: 0.6\n",
      "\u001b[34m\u001b[1mwandb\u001b[0m: \tsource_scanner: Aperio\n",
      "\u001b[34m\u001b[1mwandb\u001b[0m: \ttarget_depth: 0\n",
      "\u001b[34m\u001b[1mwandb\u001b[0m: \tthumbnail_size: [2048, 2048]\n",
      "\u001b[34m\u001b[1mwandb\u001b[0m: \tuse_gray: False\n",
      "\u001b[34m\u001b[1mwandb\u001b[0m: Currently logged in as: \u001b[33mchristianml\u001b[0m (use `wandb login --relogin` to force relogin)\n"
     ]
    },
    {
     "data": {
      "text/html": [
       "\n",
       "                Tracking run with wandb version 0.10.15<br/>\n",
       "                Syncing run <strong style=\"color:#cdcd00\">hopeful-sweep-1</strong> to <a href=\"https://wandb.ai\" target=\"_blank\">Weights & Biases</a> <a href=\"https://docs.wandb.com/integrations/jupyter.html\" target=\"_blank\">(Documentation)</a>.<br/>\n",
       "                Project page: <a href=\"https://wandb.ai/christianml/quadtree\" target=\"_blank\">https://wandb.ai/christianml/quadtree</a><br/>\n",
       "                Sweep page: <a href=\"https://wandb.ai/christianml/quadtree/sweeps/q5vmb5yu\" target=\"_blank\">https://wandb.ai/christianml/quadtree/sweeps/q5vmb5yu</a><br/>\n",
       "Run page: <a href=\"https://wandb.ai/christianml/quadtree/runs/yd9g0liy\" target=\"_blank\">https://wandb.ai/christianml/quadtree/runs/yd9g0liy</a><br/>\n",
       "                Run data is saved locally in <code>/home/bronzi/ProgProjekte/EIPH_WSI/MIDL2021/Registration/WandB/wandb/run-20210126_154526-yd9g0liy</code><br/><br/>\n",
       "            "
      ],
      "text/plain": [
       "<IPython.core.display.HTML object>"
      ]
     },
     "metadata": {},
     "output_type": "display_data"
    },
    {
     "name": "stderr",
     "output_type": "stream",
     "text": [
      "  0%|          | 0/5 [00:00<?, ?it/s]\n",
      "  0%|          | 0/4 [00:00<?, ?it/s]\u001b[A\n",
      " 25%|██▌       | 1/4 [00:05<00:17,  5.89s/it]\u001b[A\n",
      " 75%|███████▌  | 3/4 [00:13<00:04,  4.18s/it]\u001b[A\n",
      "100%|██████████| 4/4 [00:18<00:00,  4.70s/it]\u001b[A\n",
      " 20%|██        | 1/5 [00:18<01:15, 18.81s/it]\n",
      "  0%|          | 0/4 [00:00<?, ?it/s]\u001b[A\n",
      " 25%|██▌       | 1/4 [00:05<00:17,  5.88s/it]\u001b[A\n",
      " 75%|███████▌  | 3/4 [00:14<00:04,  4.87s/it]\u001b[A\n",
      "100%|██████████| 4/4 [00:20<00:00,  5.00s/it]\u001b[A\n",
      " 40%|████      | 2/5 [00:38<00:58, 19.52s/it]\n",
      "  0%|          | 0/4 [00:00<?, ?it/s]\u001b[A\n",
      " 25%|██▌       | 1/4 [00:05<00:17,  5.76s/it]\u001b[A\n",
      " 75%|███████▌  | 3/4 [00:11<00:03,  3.46s/it]\u001b[A\n",
      "100%|██████████| 4/4 [00:16<00:00,  4.03s/it]\u001b[A\n",
      " 60%|██████    | 3/5 [00:54<00:35, 17.97s/it]\n",
      "  0%|          | 0/4 [00:00<?, ?it/s]\u001b[A\n",
      " 25%|██▌       | 1/4 [00:05<00:16,  5.53s/it]\u001b[A\n",
      " 75%|███████▌  | 3/4 [00:10<00:03,  3.30s/it]\u001b[A\n",
      "100%|██████████| 4/4 [00:15<00:00,  3.92s/it]\u001b[A\n",
      " 80%|████████  | 4/5 [01:10<00:17, 17.08s/it]\n",
      "  0%|          | 0/4 [00:00<?, ?it/s]\u001b[A\n",
      " 25%|██▌       | 1/4 [00:08<00:24,  8.04s/it]\u001b[A\n",
      " 75%|███████▌  | 3/4 [00:15<00:04,  4.83s/it]\u001b[A\n",
      "100%|██████████| 4/4 [00:22<00:00,  5.57s/it]\u001b[A\n",
      "100%|██████████| 5/5 [01:32<00:00, 18.59s/it]\n"
     ]
    },
    {
     "data": {
      "text/html": [
       "<br/>Waiting for W&B process to finish, PID 2319<br/>Program ended successfully."
      ],
      "text/plain": [
       "<IPython.core.display.HTML object>"
      ]
     },
     "metadata": {},
     "output_type": "display_data"
    },
    {
     "data": {
      "application/vnd.jupyter.widget-view+json": {
       "model_id": "",
       "version_major": 2,
       "version_minor": 0
      },
      "text/plain": [
       "VBox(children=(Label(value=' 0.00MB of 0.00MB uploaded (0.00MB deduped)\\r'), FloatProgress(value=1.0, max=1.0)…"
      ]
     },
     "metadata": {},
     "output_type": "display_data"
    },
    {
     "data": {
      "text/html": [
       "Find user logs for this run at: <code>/home/bronzi/ProgProjekte/EIPH_WSI/MIDL2021/Registration/WandB/wandb/run-20210126_154526-yd9g0liy/logs/debug.log</code>"
      ],
      "text/plain": [
       "<IPython.core.display.HTML object>"
      ]
     },
     "metadata": {},
     "output_type": "display_data"
    },
    {
     "data": {
      "text/html": [
       "Find internal logs for this run at: <code>/home/bronzi/ProgProjekte/EIPH_WSI/MIDL2021/Registration/WandB/wandb/run-20210126_154526-yd9g0liy/logs/debug-internal.log</code>"
      ],
      "text/plain": [
       "<IPython.core.display.HTML object>"
      ]
     },
     "metadata": {},
     "output_type": "display_data"
    },
    {
     "data": {
      "text/html": [
       "<h3>Run summary:</h3><br/><style>\n",
       "    table.wandb td:nth-child(1) { padding: 0 10px; text-align: right }\n",
       "    </style><table class=\"wandb\">\n",
       "<tr><td>dist_mean_image</td><td>53.89817</td></tr><tr><td>mean_reg_error_image</td><td>79.48373</td></tr><tr><td>step</td><td>14</td></tr><tr><td>_step</td><td>15</td></tr><tr><td>_runtime</td><td>93</td></tr><tr><td>_timestamp</td><td>1611672419</td></tr><tr><td>dist_mean</td><td>39.13293</td></tr><tr><td>dist_min</td><td>1.88646</td></tr><tr><td>dist_max</td><td>371.13988</td></tr><tr><td>mean_reg_error</td><td>76.39026</td></tr></table>"
      ],
      "text/plain": [
       "<IPython.core.display.HTML object>"
      ]
     },
     "metadata": {},
     "output_type": "display_data"
    },
    {
     "data": {
      "text/html": [
       "<h3>Run history:</h3><br/><style>\n",
       "    table.wandb td:nth-child(1) { padding: 0 10px; text-align: right }\n",
       "    </style><table class=\"wandb\">\n",
       "<tr><td>dist_mean_image</td><td>▁▂▂▂▂▂▂▁▂▁▁▁▂█▂</td></tr><tr><td>mean_reg_error_image</td><td>▂▁▁▂▁▁▁▂▄▂▂█▁▆▃</td></tr><tr><td>step</td><td>▁▁▂▃▃▃▄▅▅▅▆▇▇▇█</td></tr><tr><td>_step</td><td>▁▁▂▂▃▃▄▄▅▅▆▆▇▇██</td></tr><tr><td>_runtime</td><td>▁▂▂▃▃▄▄▅▅▅▆▆▇███</td></tr><tr><td>_timestamp</td><td>▁▂▂▃▃▄▄▅▅▅▆▆▇███</td></tr><tr><td>dist_mean</td><td>▁</td></tr><tr><td>dist_min</td><td>▁</td></tr><tr><td>dist_max</td><td>▁</td></tr><tr><td>mean_reg_error</td><td>▁</td></tr></table><br/>"
      ],
      "text/plain": [
       "<IPython.core.display.HTML object>"
      ]
     },
     "metadata": {},
     "output_type": "display_data"
    },
    {
     "data": {
      "text/html": [
       "Synced 5 W&B file(s), 0 media file(s), 0 artifact file(s) and 0 other file(s)"
      ],
      "text/plain": [
       "<IPython.core.display.HTML object>"
      ]
     },
     "metadata": {},
     "output_type": "display_data"
    },
    {
     "data": {
      "text/html": [
       "\n",
       "                    <br/>Synced <strong style=\"color:#cdcd00\">hopeful-sweep-1</strong>: <a href=\"https://wandb.ai/christianml/quadtree/runs/yd9g0liy\" target=\"_blank\">https://wandb.ai/christianml/quadtree/runs/yd9g0liy</a><br/>\n",
       "                "
      ],
      "text/plain": [
       "<IPython.core.display.HTML object>"
      ]
     },
     "metadata": {},
     "output_type": "display_data"
    },
    {
     "name": "stderr",
     "output_type": "stream",
     "text": [
      "\u001b[34m\u001b[1mwandb\u001b[0m: Agent Starting Run: kfr40zvj with config:\n",
      "\u001b[34m\u001b[1mwandb\u001b[0m: \tcrossCheck: False\n",
      "\u001b[34m\u001b[1mwandb\u001b[0m: \tfilter_outliner: False\n",
      "\u001b[34m\u001b[1mwandb\u001b[0m: \tflann: False\n",
      "\u001b[34m\u001b[1mwandb\u001b[0m: \thomography: True\n",
      "\u001b[34m\u001b[1mwandb\u001b[0m: \timage_type: CCMCT\n",
      "\u001b[34m\u001b[1mwandb\u001b[0m: \tmaxFeatures: 128\n",
      "\u001b[34m\u001b[1mwandb\u001b[0m: \tpoint_extractor: sift\n",
      "\u001b[34m\u001b[1mwandb\u001b[0m: \tratio: 0.7\n",
      "\u001b[34m\u001b[1mwandb\u001b[0m: \tsource_scanner: Aperio\n",
      "\u001b[34m\u001b[1mwandb\u001b[0m: \ttarget_depth: 0\n",
      "\u001b[34m\u001b[1mwandb\u001b[0m: \tthumbnail_size: [2048, 2048]\n",
      "\u001b[34m\u001b[1mwandb\u001b[0m: \tuse_gray: True\n"
     ]
    },
    {
     "data": {
      "text/html": [
       "\n",
       "                Tracking run with wandb version 0.10.15<br/>\n",
       "                Syncing run <strong style=\"color:#cdcd00\">wandering-sweep-2</strong> to <a href=\"https://wandb.ai\" target=\"_blank\">Weights & Biases</a> <a href=\"https://docs.wandb.com/integrations/jupyter.html\" target=\"_blank\">(Documentation)</a>.<br/>\n",
       "                Project page: <a href=\"https://wandb.ai/christianml/quadtree\" target=\"_blank\">https://wandb.ai/christianml/quadtree</a><br/>\n",
       "                Sweep page: <a href=\"https://wandb.ai/christianml/quadtree/sweeps/q5vmb5yu\" target=\"_blank\">https://wandb.ai/christianml/quadtree/sweeps/q5vmb5yu</a><br/>\n",
       "Run page: <a href=\"https://wandb.ai/christianml/quadtree/runs/kfr40zvj\" target=\"_blank\">https://wandb.ai/christianml/quadtree/runs/kfr40zvj</a><br/>\n",
       "                Run data is saved locally in <code>/home/bronzi/ProgProjekte/EIPH_WSI/MIDL2021/Registration/WandB/wandb/run-20210126_154704-kfr40zvj</code><br/><br/>\n",
       "            "
      ],
      "text/plain": [
       "<IPython.core.display.HTML object>"
      ]
     },
     "metadata": {},
     "output_type": "display_data"
    },
    {
     "name": "stderr",
     "output_type": "stream",
     "text": [
      "  0%|          | 0/5 [00:00<?, ?it/s]\n",
      "  0%|          | 0/4 [00:00<?, ?it/s]\u001b[A\n",
      " 25%|██▌       | 1/4 [00:07<00:21,  7.10s/it]\u001b[A\n",
      " 75%|███████▌  | 3/4 [00:13<00:04,  4.36s/it]\u001b[A\n",
      "100%|██████████| 4/4 [00:18<00:00,  4.67s/it]\u001b[A\n",
      " 20%|██        | 1/5 [00:18<01:14, 18.67s/it]\n",
      "  0%|          | 0/4 [00:00<?, ?it/s]\u001b[A\n",
      " 25%|██▌       | 1/4 [00:05<00:15,  5.15s/it]\u001b[A\n",
      " 75%|███████▌  | 3/4 [00:12<00:04,  4.22s/it]\u001b[A\n",
      "100%|██████████| 4/4 [00:18<00:00,  4.54s/it]\u001b[A\n",
      " 40%|████      | 2/5 [00:36<00:55, 18.38s/it]\n",
      "  0%|          | 0/4 [00:00<?, ?it/s]\u001b[A\n",
      " 25%|██▌       | 1/4 [00:04<00:12,  4.02s/it]\u001b[A\n",
      " 75%|███████▌  | 3/4 [00:09<00:03,  3.05s/it]\u001b[A\n",
      "100%|██████████| 4/4 [00:14<00:00,  3.56s/it]\u001b[A\n",
      " 60%|██████    | 3/5 [00:51<00:32, 16.50s/it]\n",
      "  0%|          | 0/4 [00:00<?, ?it/s]\u001b[A\n",
      " 25%|██▌       | 1/4 [00:05<00:15,  5.03s/it]\u001b[A\n",
      " 75%|███████▌  | 3/4 [00:10<00:03,  3.23s/it]\u001b[A\n",
      "100%|██████████| 4/4 [00:15<00:00,  3.79s/it]\u001b[A\n",
      " 80%|████████  | 4/5 [01:06<00:15, 15.98s/it]\n",
      "  0%|          | 0/4 [00:00<?, ?it/s]\u001b[A\n",
      " 25%|██▌       | 1/4 [00:07<00:22,  7.45s/it]\u001b[A\n",
      " 75%|███████▌  | 3/4 [00:13<00:04,  4.13s/it]\u001b[A\n",
      "100%|██████████| 4/4 [00:18<00:00,  4.55s/it]\u001b[A\n",
      "100%|██████████| 5/5 [01:24<00:00, 16.90s/it]\n"
     ]
    },
    {
     "data": {
      "text/html": [
       "<br/>Waiting for W&B process to finish, PID 2596<br/>Program ended successfully."
      ],
      "text/plain": [
       "<IPython.core.display.HTML object>"
      ]
     },
     "metadata": {},
     "output_type": "display_data"
    },
    {
     "data": {
      "application/vnd.jupyter.widget-view+json": {
       "model_id": "",
       "version_major": 2,
       "version_minor": 0
      },
      "text/plain": [
       "VBox(children=(Label(value=' 0.00MB of 0.00MB uploaded (0.00MB deduped)\\r'), FloatProgress(value=1.0, max=1.0)…"
      ]
     },
     "metadata": {},
     "output_type": "display_data"
    },
    {
     "data": {
      "text/html": [
       "Find user logs for this run at: <code>/home/bronzi/ProgProjekte/EIPH_WSI/MIDL2021/Registration/WandB/wandb/run-20210126_154704-kfr40zvj/logs/debug.log</code>"
      ],
      "text/plain": [
       "<IPython.core.display.HTML object>"
      ]
     },
     "metadata": {},
     "output_type": "display_data"
    },
    {
     "data": {
      "text/html": [
       "Find internal logs for this run at: <code>/home/bronzi/ProgProjekte/EIPH_WSI/MIDL2021/Registration/WandB/wandb/run-20210126_154704-kfr40zvj/logs/debug-internal.log</code>"
      ],
      "text/plain": [
       "<IPython.core.display.HTML object>"
      ]
     },
     "metadata": {},
     "output_type": "display_data"
    },
    {
     "data": {
      "text/html": [
       "<h3>Run summary:</h3><br/><style>\n",
       "    table.wandb td:nth-child(1) { padding: 0 10px; text-align: right }\n",
       "    </style><table class=\"wandb\">\n",
       "<tr><td>dist_mean_image</td><td>53.77456</td></tr><tr><td>mean_reg_error_image</td><td>264.08382</td></tr><tr><td>step</td><td>14</td></tr><tr><td>_step</td><td>15</td></tr><tr><td>_runtime</td><td>85</td></tr><tr><td>_timestamp</td><td>1611672509</td></tr><tr><td>dist_mean</td><td>37.23689</td></tr><tr><td>dist_min</td><td>1.6595</td></tr><tr><td>dist_max</td><td>264.11193</td></tr><tr><td>mean_reg_error</td><td>311.76503</td></tr></table>"
      ],
      "text/plain": [
       "<IPython.core.display.HTML object>"
      ]
     },
     "metadata": {},
     "output_type": "display_data"
    },
    {
     "data": {
      "text/html": [
       "<h3>Run history:</h3><br/><style>\n",
       "    table.wandb td:nth-child(1) { padding: 0 10px; text-align: right }\n",
       "    </style><table class=\"wandb\">\n",
       "<tr><td>dist_mean_image</td><td>▁▁▁▁▂▂▂▁▂▁▁▁▂█▂</td></tr><tr><td>mean_reg_error_image</td><td>▁▁▁▁▂▂▂▃▄▂▄█▂▃▂</td></tr><tr><td>step</td><td>▁▁▂▃▃▃▄▅▅▅▆▇▇▇█</td></tr><tr><td>_step</td><td>▁▁▂▂▃▃▄▄▅▅▆▆▇▇██</td></tr><tr><td>_runtime</td><td>▁▂▂▃▃▄▄▅▅▅▆▆▇███</td></tr><tr><td>_timestamp</td><td>▁▂▂▃▃▄▄▅▅▅▆▆▇███</td></tr><tr><td>dist_mean</td><td>▁</td></tr><tr><td>dist_min</td><td>▁</td></tr><tr><td>dist_max</td><td>▁</td></tr><tr><td>mean_reg_error</td><td>▁</td></tr></table><br/>"
      ],
      "text/plain": [
       "<IPython.core.display.HTML object>"
      ]
     },
     "metadata": {},
     "output_type": "display_data"
    },
    {
     "data": {
      "text/html": [
       "Synced 5 W&B file(s), 0 media file(s), 0 artifact file(s) and 0 other file(s)"
      ],
      "text/plain": [
       "<IPython.core.display.HTML object>"
      ]
     },
     "metadata": {},
     "output_type": "display_data"
    },
    {
     "data": {
      "text/html": [
       "\n",
       "                    <br/>Synced <strong style=\"color:#cdcd00\">wandering-sweep-2</strong>: <a href=\"https://wandb.ai/christianml/quadtree/runs/kfr40zvj\" target=\"_blank\">https://wandb.ai/christianml/quadtree/runs/kfr40zvj</a><br/>\n",
       "                "
      ],
      "text/plain": [
       "<IPython.core.display.HTML object>"
      ]
     },
     "metadata": {},
     "output_type": "display_data"
    },
    {
     "name": "stderr",
     "output_type": "stream",
     "text": [
      "\u001b[34m\u001b[1mwandb\u001b[0m: Agent Starting Run: zlpmb9r7 with config:\n",
      "\u001b[34m\u001b[1mwandb\u001b[0m: \tcrossCheck: False\n",
      "\u001b[34m\u001b[1mwandb\u001b[0m: \tfilter_outliner: False\n",
      "\u001b[34m\u001b[1mwandb\u001b[0m: \tflann: True\n",
      "\u001b[34m\u001b[1mwandb\u001b[0m: \thomography: True\n",
      "\u001b[34m\u001b[1mwandb\u001b[0m: \timage_type: CCMCT\n",
      "\u001b[34m\u001b[1mwandb\u001b[0m: \tmaxFeatures: 1024\n",
      "\u001b[34m\u001b[1mwandb\u001b[0m: \tpoint_extractor: sift\n",
      "\u001b[34m\u001b[1mwandb\u001b[0m: \tratio: 0.7\n",
      "\u001b[34m\u001b[1mwandb\u001b[0m: \tsource_scanner: Aperio\n",
      "\u001b[34m\u001b[1mwandb\u001b[0m: \ttarget_depth: 0\n",
      "\u001b[34m\u001b[1mwandb\u001b[0m: \tthumbnail_size: [4096, 4096]\n",
      "\u001b[34m\u001b[1mwandb\u001b[0m: \tuse_gray: True\n"
     ]
    },
    {
     "data": {
      "text/html": [
       "\n",
       "                Tracking run with wandb version 0.10.15<br/>\n",
       "                Syncing run <strong style=\"color:#cdcd00\">stellar-sweep-3</strong> to <a href=\"https://wandb.ai\" target=\"_blank\">Weights & Biases</a> <a href=\"https://docs.wandb.com/integrations/jupyter.html\" target=\"_blank\">(Documentation)</a>.<br/>\n",
       "                Project page: <a href=\"https://wandb.ai/christianml/quadtree\" target=\"_blank\">https://wandb.ai/christianml/quadtree</a><br/>\n",
       "                Sweep page: <a href=\"https://wandb.ai/christianml/quadtree/sweeps/q5vmb5yu\" target=\"_blank\">https://wandb.ai/christianml/quadtree/sweeps/q5vmb5yu</a><br/>\n",
       "Run page: <a href=\"https://wandb.ai/christianml/quadtree/runs/zlpmb9r7\" target=\"_blank\">https://wandb.ai/christianml/quadtree/runs/zlpmb9r7</a><br/>\n",
       "                Run data is saved locally in <code>/home/bronzi/ProgProjekte/EIPH_WSI/MIDL2021/Registration/WandB/wandb/run-20210126_154834-zlpmb9r7</code><br/><br/>\n",
       "            "
      ],
      "text/plain": [
       "<IPython.core.display.HTML object>"
      ]
     },
     "metadata": {},
     "output_type": "display_data"
    },
    {
     "name": "stderr",
     "output_type": "stream",
     "text": [
      "  0%|          | 0/5 [00:00<?, ?it/s]\n",
      "  0%|          | 0/4 [00:00<?, ?it/s]\u001b[A\n",
      " 25%|██▌       | 1/4 [00:30<01:30, 30.09s/it]\u001b[A\n",
      " 75%|███████▌  | 3/4 [00:55<00:17, 17.06s/it]\u001b[A\n",
      "100%|██████████| 4/4 [01:18<00:00, 19.57s/it]\u001b[A\n",
      " 20%|██        | 1/5 [01:18<05:13, 78.29s/it]\n",
      "  0%|          | 0/4 [00:00<?, ?it/s]\u001b[A\n",
      " 25%|██▌       | 1/4 [00:31<01:35, 31.75s/it]\u001b[A\n",
      " 75%|███████▌  | 3/4 [00:53<00:16, 16.31s/it]\u001b[A\n",
      "100%|██████████| 4/4 [01:09<00:00, 17.36s/it]\u001b[A\n",
      " 40%|████      | 2/5 [02:27<03:39, 73.09s/it]\n",
      "  0%|          | 0/4 [00:00<?, ?it/s]\u001b[A\n",
      " 25%|██▌       | 1/4 [00:11<00:33, 11.07s/it]\u001b[A\n",
      " 75%|███████▌  | 3/4 [00:41<00:13, 13.99s/it]\u001b[A\n",
      "100%|██████████| 4/4 [00:57<00:00, 14.25s/it]\u001b[A\n",
      " 60%|██████    | 3/5 [03:24<02:11, 65.75s/it]\n",
      "  0%|          | 0/4 [00:00<?, ?it/s]\u001b[A\n",
      " 25%|██▌       | 1/4 [00:12<00:36, 12.23s/it]\u001b[A\n",
      " 75%|███████▌  | 3/4 [00:44<00:15, 15.21s/it]\u001b[A\n",
      "100%|██████████| 4/4 [01:01<00:00, 15.39s/it]\u001b[A\n",
      " 80%|████████  | 4/5 [04:26<01:04, 64.10s/it]\n",
      "  0%|          | 0/4 [00:00<?, ?it/s]\u001b[A\n",
      " 25%|██▌       | 1/4 [00:21<01:04, 21.33s/it]\u001b[A\n",
      " 75%|███████▌  | 3/4 [00:34<00:10, 10.27s/it]\u001b[A\n",
      "100%|██████████| 4/4 [00:48<00:00, 12.19s/it]\u001b[A\n",
      "100%|██████████| 5/5 [05:15<00:00, 63.02s/it]\n"
     ]
    },
    {
     "data": {
      "text/html": [
       "<br/>Waiting for W&B process to finish, PID 2785<br/>Program ended successfully."
      ],
      "text/plain": [
       "<IPython.core.display.HTML object>"
      ]
     },
     "metadata": {},
     "output_type": "display_data"
    },
    {
     "data": {
      "application/vnd.jupyter.widget-view+json": {
       "model_id": "",
       "version_major": 2,
       "version_minor": 0
      },
      "text/plain": [
       "VBox(children=(Label(value=' 0.00MB of 0.00MB uploaded (0.00MB deduped)\\r'), FloatProgress(value=1.0, max=1.0)…"
      ]
     },
     "metadata": {},
     "output_type": "display_data"
    },
    {
     "data": {
      "text/html": [
       "Find user logs for this run at: <code>/home/bronzi/ProgProjekte/EIPH_WSI/MIDL2021/Registration/WandB/wandb/run-20210126_154834-zlpmb9r7/logs/debug.log</code>"
      ],
      "text/plain": [
       "<IPython.core.display.HTML object>"
      ]
     },
     "metadata": {},
     "output_type": "display_data"
    },
    {
     "data": {
      "text/html": [
       "Find internal logs for this run at: <code>/home/bronzi/ProgProjekte/EIPH_WSI/MIDL2021/Registration/WandB/wandb/run-20210126_154834-zlpmb9r7/logs/debug-internal.log</code>"
      ],
      "text/plain": [
       "<IPython.core.display.HTML object>"
      ]
     },
     "metadata": {},
     "output_type": "display_data"
    },
    {
     "data": {
      "text/html": [
       "<h3>Run summary:</h3><br/><style>\n",
       "    table.wandb td:nth-child(1) { padding: 0 10px; text-align: right }\n",
       "    </style><table class=\"wandb\">\n",
       "<tr><td>dist_mean_image</td><td>32.58961</td></tr><tr><td>mean_reg_error_image</td><td>148.97654</td></tr><tr><td>step</td><td>14</td></tr><tr><td>_step</td><td>15</td></tr><tr><td>_runtime</td><td>316</td></tr><tr><td>_timestamp</td><td>1611672830</td></tr><tr><td>dist_mean</td><td>24.76097</td></tr><tr><td>dist_min</td><td>0.70766</td></tr><tr><td>dist_max</td><td>273.37309</td></tr><tr><td>mean_reg_error</td><td>163.08719</td></tr></table>"
      ],
      "text/plain": [
       "<IPython.core.display.HTML object>"
      ]
     },
     "metadata": {},
     "output_type": "display_data"
    },
    {
     "data": {
      "text/html": [
       "<h3>Run history:</h3><br/><style>\n",
       "    table.wandb td:nth-child(1) { padding: 0 10px; text-align: right }\n",
       "    </style><table class=\"wandb\">\n",
       "<tr><td>dist_mean_image</td><td>▁▂▁▂▂▂▁▂▁▁▁▁▁█▁</td></tr><tr><td>mean_reg_error_image</td><td>▁▂▁▂▂▃▁▁▂▂▂█▂▅▂</td></tr><tr><td>step</td><td>▁▁▂▃▃▃▄▅▅▅▆▇▇▇█</td></tr><tr><td>_step</td><td>▁▁▂▂▃▃▄▄▅▅▆▆▇▇██</td></tr><tr><td>_runtime</td><td>▁▂▂▃▄▄▄▅▅▆▆▇▇███</td></tr><tr><td>_timestamp</td><td>▁▂▂▃▄▄▄▅▅▆▆▇▇███</td></tr><tr><td>dist_mean</td><td>▁</td></tr><tr><td>dist_min</td><td>▁</td></tr><tr><td>dist_max</td><td>▁</td></tr><tr><td>mean_reg_error</td><td>▁</td></tr></table><br/>"
      ],
      "text/plain": [
       "<IPython.core.display.HTML object>"
      ]
     },
     "metadata": {},
     "output_type": "display_data"
    },
    {
     "data": {
      "text/html": [
       "Synced 5 W&B file(s), 0 media file(s), 0 artifact file(s) and 0 other file(s)"
      ],
      "text/plain": [
       "<IPython.core.display.HTML object>"
      ]
     },
     "metadata": {},
     "output_type": "display_data"
    },
    {
     "data": {
      "text/html": [
       "\n",
       "                    <br/>Synced <strong style=\"color:#cdcd00\">stellar-sweep-3</strong>: <a href=\"https://wandb.ai/christianml/quadtree/runs/zlpmb9r7\" target=\"_blank\">https://wandb.ai/christianml/quadtree/runs/zlpmb9r7</a><br/>\n",
       "                "
      ],
      "text/plain": [
       "<IPython.core.display.HTML object>"
      ]
     },
     "metadata": {},
     "output_type": "display_data"
    },
    {
     "name": "stderr",
     "output_type": "stream",
     "text": [
      "\u001b[34m\u001b[1mwandb\u001b[0m: Agent Starting Run: kqakt02v with config:\n",
      "\u001b[34m\u001b[1mwandb\u001b[0m: \tcrossCheck: False\n",
      "\u001b[34m\u001b[1mwandb\u001b[0m: \tfilter_outliner: False\n",
      "\u001b[34m\u001b[1mwandb\u001b[0m: \tflann: True\n",
      "\u001b[34m\u001b[1mwandb\u001b[0m: \thomography: False\n",
      "\u001b[34m\u001b[1mwandb\u001b[0m: \timage_type: CCMCT\n",
      "\u001b[34m\u001b[1mwandb\u001b[0m: \tmaxFeatures: 64\n",
      "\u001b[34m\u001b[1mwandb\u001b[0m: \tpoint_extractor: sift\n",
      "\u001b[34m\u001b[1mwandb\u001b[0m: \tratio: 0.4\n",
      "\u001b[34m\u001b[1mwandb\u001b[0m: \tsource_scanner: Aperio\n",
      "\u001b[34m\u001b[1mwandb\u001b[0m: \ttarget_depth: 0\n",
      "\u001b[34m\u001b[1mwandb\u001b[0m: \tthumbnail_size: [4096, 4096]\n",
      "\u001b[34m\u001b[1mwandb\u001b[0m: \tuse_gray: True\n"
     ]
    },
    {
     "data": {
      "text/html": [
       "\n",
       "                Tracking run with wandb version 0.10.15<br/>\n",
       "                Syncing run <strong style=\"color:#cdcd00\">genial-sweep-4</strong> to <a href=\"https://wandb.ai\" target=\"_blank\">Weights & Biases</a> <a href=\"https://docs.wandb.com/integrations/jupyter.html\" target=\"_blank\">(Documentation)</a>.<br/>\n",
       "                Project page: <a href=\"https://wandb.ai/christianml/quadtree\" target=\"_blank\">https://wandb.ai/christianml/quadtree</a><br/>\n",
       "                Sweep page: <a href=\"https://wandb.ai/christianml/quadtree/sweeps/q5vmb5yu\" target=\"_blank\">https://wandb.ai/christianml/quadtree/sweeps/q5vmb5yu</a><br/>\n",
       "Run page: <a href=\"https://wandb.ai/christianml/quadtree/runs/kqakt02v\" target=\"_blank\">https://wandb.ai/christianml/quadtree/runs/kqakt02v</a><br/>\n",
       "                Run data is saved locally in <code>/home/bronzi/ProgProjekte/EIPH_WSI/MIDL2021/Registration/WandB/wandb/run-20210126_155354-kqakt02v</code><br/><br/>\n",
       "            "
      ],
      "text/plain": [
       "<IPython.core.display.HTML object>"
      ]
     },
     "metadata": {},
     "output_type": "display_data"
    },
    {
     "name": "stderr",
     "output_type": "stream",
     "text": [
      "  0%|          | 0/5 [00:00<?, ?it/s]\n",
      "  0%|          | 0/4 [00:00<?, ?it/s]\u001b[A\n",
      " 25%|██▌       | 1/4 [25:22<1:16:06, 1522.11s/it]\u001b[A\n",
      " 75%|███████▌  | 3/4 [29:31<08:07, 487.14s/it]   \u001b[A\n",
      "100%|██████████| 4/4 [42:59<00:00, 644.82s/it]\u001b[A\n",
      " 20%|██        | 1/5 [42:59<2:51:57, 2579.30s/it]\n",
      "  0%|          | 0/4 [00:00<?, ?it/s]\u001b[A\n",
      " 25%|██▌       | 1/4 [10:06<30:20, 606.97s/it]\u001b[A\n",
      " 75%|███████▌  | 3/4 [15:22<04:34, 274.18s/it]\u001b[A\n",
      "100%|██████████| 4/4 [18:55<00:00, 283.86s/it]\u001b[A\n",
      " 40%|████      | 2/5 [1:01:54<1:26:29, 1729.98s/it]\n",
      "  0%|          | 0/4 [00:00<?, ?it/s]\u001b[A\n",
      " 25%|██▌       | 1/4 [02:07<06:22, 127.38s/it]\u001b[A\n",
      " 75%|███████▌  | 3/4 [03:09<00:55, 55.97s/it] \u001b[A\n",
      "100%|██████████| 4/4 [03:47<00:00, 56.78s/it]\u001b[A\n",
      " 60%|██████    | 3/5 [1:05:41<34:47, 1043.76s/it]  \n",
      "  0%|          | 0/4 [00:00<?, ?it/s]\u001b[A\n",
      " 25%|██▌       | 1/4 [01:08<03:24, 68.07s/it]\u001b[A\n",
      " 75%|███████▌  | 3/4 [02:07<00:39, 39.60s/it]\u001b[A\n",
      "100%|██████████| 4/4 [02:32<00:00, 38.13s/it]\u001b[A\n",
      " 80%|████████  | 4/5 [1:08:14<11:31, 691.92s/it] \n",
      "  0%|          | 0/4 [00:00<?, ?it/s]\u001b[A\n",
      " 25%|██▌       | 1/4 [12:48<38:26, 768.90s/it]\u001b[A\n",
      " 75%|███████▌  | 3/4 [15:07<04:10, 250.50s/it]\u001b[A\n",
      "100%|██████████| 4/4 [20:47<00:00, 311.91s/it]\u001b[A\n",
      "100%|██████████| 5/5 [1:29:02<00:00, 1068.42s/it]\n"
     ]
    },
    {
     "data": {
      "text/html": [
       "<br/>Waiting for W&B process to finish, PID 4565<br/>Program ended successfully."
      ],
      "text/plain": [
       "<IPython.core.display.HTML object>"
      ]
     },
     "metadata": {},
     "output_type": "display_data"
    },
    {
     "data": {
      "application/vnd.jupyter.widget-view+json": {
       "model_id": "",
       "version_major": 2,
       "version_minor": 0
      },
      "text/plain": [
       "VBox(children=(Label(value=' 0.00MB of 0.00MB uploaded (0.00MB deduped)\\r'), FloatProgress(value=1.0, max=1.0)…"
      ]
     },
     "metadata": {},
     "output_type": "display_data"
    },
    {
     "data": {
      "text/html": [
       "Find user logs for this run at: <code>/home/bronzi/ProgProjekte/EIPH_WSI/MIDL2021/Registration/WandB/wandb/run-20210126_155354-kqakt02v/logs/debug.log</code>"
      ],
      "text/plain": [
       "<IPython.core.display.HTML object>"
      ]
     },
     "metadata": {},
     "output_type": "display_data"
    },
    {
     "data": {
      "text/html": [
       "Find internal logs for this run at: <code>/home/bronzi/ProgProjekte/EIPH_WSI/MIDL2021/Registration/WandB/wandb/run-20210126_155354-kqakt02v/logs/debug-internal.log</code>"
      ],
      "text/plain": [
       "<IPython.core.display.HTML object>"
      ]
     },
     "metadata": {},
     "output_type": "display_data"
    },
    {
     "data": {
      "text/html": [
       "<h3>Run summary:</h3><br/><style>\n",
       "    table.wandb td:nth-child(1) { padding: 0 10px; text-align: right }\n",
       "    </style><table class=\"wandb\">\n",
       "<tr><td>dist_mean_image</td><td>32.76496</td></tr><tr><td>mean_reg_error_image</td><td>7.06889</td></tr><tr><td>step</td><td>14</td></tr><tr><td>_step</td><td>15</td></tr><tr><td>_runtime</td><td>5343</td></tr><tr><td>_timestamp</td><td>1611678177</td></tr><tr><td>dist_mean</td><td>21.18309</td></tr><tr><td>dist_min</td><td>0.83339</td></tr><tr><td>dist_max</td><td>149.38297</td></tr><tr><td>mean_reg_error</td><td>102.51008</td></tr></table>"
      ],
      "text/plain": [
       "<IPython.core.display.HTML object>"
      ]
     },
     "metadata": {},
     "output_type": "display_data"
    },
    {
     "data": {
      "text/html": [
       "<h3>Run history:</h3><br/><style>\n",
       "    table.wandb td:nth-child(1) { padding: 0 10px; text-align: right }\n",
       "    </style><table class=\"wandb\">\n",
       "<tr><td>dist_mean_image</td><td>▁▂▁▂▂▂▂▂▂▁▁▂▂█▂</td></tr><tr><td>mean_reg_error_image</td><td>█▁▅▁▁▁▁▁▁▁▁▁▁▂▁</td></tr><tr><td>step</td><td>▁▁▂▃▃▃▄▅▅▅▆▇▇▇█</td></tr><tr><td>_step</td><td>▁▁▂▂▃▃▄▄▅▅▆▆▇▇██</td></tr><tr><td>_runtime</td><td>▁▁▃▄▅▅▅▅▅▆▆▆▇▇██</td></tr><tr><td>_timestamp</td><td>▁▁▃▄▅▅▅▅▅▆▆▆▇▇██</td></tr><tr><td>dist_mean</td><td>▁</td></tr><tr><td>dist_min</td><td>▁</td></tr><tr><td>dist_max</td><td>▁</td></tr><tr><td>mean_reg_error</td><td>▁</td></tr></table><br/>"
      ],
      "text/plain": [
       "<IPython.core.display.HTML object>"
      ]
     },
     "metadata": {},
     "output_type": "display_data"
    },
    {
     "data": {
      "text/html": [
       "Synced 5 W&B file(s), 0 media file(s), 0 artifact file(s) and 0 other file(s)"
      ],
      "text/plain": [
       "<IPython.core.display.HTML object>"
      ]
     },
     "metadata": {},
     "output_type": "display_data"
    },
    {
     "data": {
      "text/html": [
       "\n",
       "                    <br/>Synced <strong style=\"color:#cdcd00\">genial-sweep-4</strong>: <a href=\"https://wandb.ai/christianml/quadtree/runs/kqakt02v\" target=\"_blank\">https://wandb.ai/christianml/quadtree/runs/kqakt02v</a><br/>\n",
       "                "
      ],
      "text/plain": [
       "<IPython.core.display.HTML object>"
      ]
     },
     "metadata": {},
     "output_type": "display_data"
    },
    {
     "name": "stderr",
     "output_type": "stream",
     "text": [
      "\u001b[34m\u001b[1mwandb\u001b[0m: Agent Starting Run: ag6wywik with config:\n",
      "\u001b[34m\u001b[1mwandb\u001b[0m: \tcrossCheck: False\n",
      "\u001b[34m\u001b[1mwandb\u001b[0m: \tfilter_outliner: False\n",
      "\u001b[34m\u001b[1mwandb\u001b[0m: \tflann: False\n",
      "\u001b[34m\u001b[1mwandb\u001b[0m: \thomography: False\n",
      "\u001b[34m\u001b[1mwandb\u001b[0m: \timage_type: CCMCT\n",
      "\u001b[34m\u001b[1mwandb\u001b[0m: \tmaxFeatures: 512\n",
      "\u001b[34m\u001b[1mwandb\u001b[0m: \tpoint_extractor: sift\n",
      "\u001b[34m\u001b[1mwandb\u001b[0m: \tratio: 0.8\n",
      "\u001b[34m\u001b[1mwandb\u001b[0m: \tsource_scanner: Aperio\n",
      "\u001b[34m\u001b[1mwandb\u001b[0m: \ttarget_depth: 0\n",
      "\u001b[34m\u001b[1mwandb\u001b[0m: \tthumbnail_size: [2048, 2048]\n",
      "\u001b[34m\u001b[1mwandb\u001b[0m: \tuse_gray: True\n"
     ]
    },
    {
     "data": {
      "text/html": [
       "\n",
       "                Tracking run with wandb version 0.10.15<br/>\n",
       "                Syncing run <strong style=\"color:#cdcd00\">hopeful-sweep-5</strong> to <a href=\"https://wandb.ai\" target=\"_blank\">Weights & Biases</a> <a href=\"https://docs.wandb.com/integrations/jupyter.html\" target=\"_blank\">(Documentation)</a>.<br/>\n",
       "                Project page: <a href=\"https://wandb.ai/christianml/quadtree\" target=\"_blank\">https://wandb.ai/christianml/quadtree</a><br/>\n",
       "                Sweep page: <a href=\"https://wandb.ai/christianml/quadtree/sweeps/q5vmb5yu\" target=\"_blank\">https://wandb.ai/christianml/quadtree/sweeps/q5vmb5yu</a><br/>\n",
       "Run page: <a href=\"https://wandb.ai/christianml/quadtree/runs/ag6wywik\" target=\"_blank\">https://wandb.ai/christianml/quadtree/runs/ag6wywik</a><br/>\n",
       "                Run data is saved locally in <code>/home/bronzi/ProgProjekte/EIPH_WSI/MIDL2021/Registration/WandB/wandb/run-20210126_172302-ag6wywik</code><br/><br/>\n",
       "            "
      ],
      "text/plain": [
       "<IPython.core.display.HTML object>"
      ]
     },
     "metadata": {},
     "output_type": "display_data"
    },
    {
     "name": "stderr",
     "output_type": "stream",
     "text": [
      "  0%|          | 0/5 [00:00<?, ?it/s]\n",
      "  0%|          | 0/4 [00:00<?, ?it/s]\u001b[A\n",
      " 25%|██▌       | 1/4 [03:09<09:27, 189.24s/it]\u001b[A\n",
      " 75%|███████▌  | 3/4 [05:50<01:48, 108.97s/it]\u001b[A\n",
      "100%|██████████| 4/4 [07:35<00:00, 113.83s/it]\u001b[A\n",
      " 20%|██        | 1/5 [07:35<30:21, 455.32s/it]\n",
      "  0%|          | 0/4 [00:00<?, ?it/s]\u001b[A\n",
      " 25%|██▌       | 1/4 [01:02<03:08, 62.78s/it]\u001b[A\n",
      " 75%|███████▌  | 3/4 [02:25<00:47, 47.08s/it]\u001b[A\n",
      "100%|██████████| 4/4 [02:59<00:00, 44.93s/it]\u001b[A\n",
      " 40%|████      | 2/5 [10:35<14:39, 293.20s/it]\n",
      "  0%|          | 0/4 [00:00<?, ?it/s]\u001b[A\n",
      " 25%|██▌       | 1/4 [00:22<01:08, 22.71s/it]\u001b[A\n",
      " 75%|███████▌  | 3/4 [00:50<00:16, 16.04s/it]\u001b[A\n",
      "100%|██████████| 4/4 [01:00<00:00, 15.07s/it]\u001b[A\n",
      " 60%|██████    | 3/5 [11:35<06:13, 186.86s/it]\n",
      "  0%|          | 0/4 [00:00<?, ?it/s]\u001b[A\n",
      " 25%|██▌       | 1/4 [00:14<00:43, 14.66s/it]\u001b[A\n",
      " 75%|███████▌  | 3/4 [00:41<00:13, 13.63s/it]\u001b[A\n",
      "100%|██████████| 4/4 [00:48<00:00, 12.04s/it]\u001b[A\n",
      " 80%|████████  | 4/5 [12:23<02:12, 132.11s/it]\n",
      "  0%|          | 0/4 [00:00<?, ?it/s]\u001b[A\n",
      " 25%|██▌       | 1/4 [01:55<05:45, 115.04s/it]\u001b[A"
     ]
    }
   ],
   "source": [
    "wandb.agent(sweep_id, train)"
   ]
  },
  {
   "cell_type": "code",
   "execution_count": null,
   "metadata": {},
   "outputs": [],
   "source": []
  }
 ],
 "metadata": {
  "kernelspec": {
   "display_name": "Python 3",
   "language": "python",
   "name": "python3"
  },
  "language_info": {
   "codemirror_mode": {
    "name": "ipython",
    "version": 3
   },
   "file_extension": ".py",
   "mimetype": "text/x-python",
   "name": "python",
   "nbconvert_exporter": "python",
   "pygments_lexer": "ipython3",
   "version": "3.8.5"
  }
 },
 "nbformat": 4,
 "nbformat_minor": 4
}
