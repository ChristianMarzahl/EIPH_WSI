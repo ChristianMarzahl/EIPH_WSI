{
 "cells": [
  {
   "cell_type": "code",
   "execution_count": 1,
   "metadata": {},
   "outputs": [],
   "source": [
    "%reload_ext autoreload\n",
    "%autoreload 2\n",
    "%matplotlib inline"
   ]
  },
  {
   "cell_type": "code",
   "execution_count": 2,
   "metadata": {},
   "outputs": [],
   "source": [
    "import numpy as np\n",
    "import openslide\n",
    "from probreg import cpd\n",
    "from probreg import transformation as tf\n",
    "import cv2\n",
    "from PIL import Image\n",
    "from pathlib import Path\n",
    "import pandas as pd\n",
    "from tqdm import tqdm\n",
    "import json\n",
    "import wandb"
   ]
  },
  {
   "cell_type": "code",
   "execution_count": 3,
   "metadata": {},
   "outputs": [],
   "source": [
    "import sys\n",
    "sys.path.append(\"..\")\n",
    "from registration_tree import Rect, QuadTree"
   ]
  },
  {
   "cell_type": "code",
   "execution_count": 8,
   "metadata": {},
   "outputs": [],
   "source": [
    "def add_help_fields(frame):\n",
    "    \n",
    "    frame[\"image_name_stem\"] = [Path(image_name).stem for image_name in frame[\"image_name\"]]    \n",
    "    frame[\"patient_id\"] = [name.split(\"_\")[2] for name in frame[\"image_name\"]]\n",
    "\n",
    "    frame[\"x1\"] = [json.loads(vector.replace(\"\\'\",\"\\\"\"))['x1'] for vector in frame[\"vector\"]]\n",
    "    frame[\"y1\"] = [json.loads(vector.replace(\"\\'\",\"\\\"\"))['y1'] for vector in frame[\"vector\"]]\n",
    "\n",
    "    frame[\"x2\"] = [json.loads(vector.replace(\"\\'\",\"\\\"\"))['x2'] for vector in frame[\"vector\"]]\n",
    "    frame[\"y2\"] = [json.loads(vector.replace(\"\\'\",\"\\\"\"))['y2'] for vector in frame[\"vector\"]]\n",
    "\n",
    "    frame[\"center_x\"] = [x1 + ((x2-x1) / 2) for x1, x2 in zip(frame[\"x1\"], frame[\"x2\"])]\n",
    "    frame[\"center_y\"] = [y1 + ((y2-y1) / 2) for y1, y2 in zip(frame[\"y1\"], frame[\"y2\"])]\n",
    "    \n",
    "    frame[\"center\"] = [np.array((center_x, center_y)) for center_x, center_y in zip(frame[\"center_x\"], frame[\"center_y\"])]\n",
    "\n",
    "    frame[\"anno_width\"] = [x2-x1 for x1, x2 in zip(frame[\"x1\"], frame[\"x2\"])]\n",
    "    frame[\"anno_height\"]= [y2-y1 for y1, y2 in zip(frame[\"y1\"], frame[\"y2\"])]\n",
    "    \n",
    "    return frame"
   ]
  },
  {
   "cell_type": "code",
   "execution_count": 9,
   "metadata": {},
   "outputs": [],
   "source": [
    "folder = Path(\"..\")\n",
    "\n",
    "slide_files = {path.name: path for path in Path(\"D:/Datasets/ScannerStudy\").glob(\"*/*/*.*\")}"
   ]
  },
  {
   "cell_type": "code",
   "execution_count": 13,
   "metadata": {},
   "outputs": [],
   "source": [
    "def train(config=None):\n",
    "    \n",
    "    # Initialize a new wandb run\n",
    "    with wandb.init(config=config):\n",
    "        # If called by wandb.agent, as below,\n",
    "        # this config will be set by Sweep Controller\n",
    "        config = wandb.config\n",
    "        \n",
    "        annotations = add_help_fields(pd.read_csv(folder / \"Validation/GT.csv\"))\n",
    "        annotations = annotations[annotations[\"image_type\"] == config.image_type]\n",
    "        \n",
    "        source_scanner_annotations = annotations[annotations[\"scanner\"] == config.source_scanner]\n",
    "    \n",
    "        dist_list, q_list, sigma2_list = [], [], []\n",
    "                        \n",
    "        step = 0\n",
    "        for patient_id in tqdm(source_scanner_annotations[\"patient_id\"].unique()):\n",
    "\n",
    "            source_annos = source_scanner_annotations[source_scanner_annotations[\"patient_id\"] == patient_id]\n",
    "            source_anno = source_annos.iloc[0]\n",
    "\n",
    "            target_patient_annotations = annotations[annotations[\"patient_id\"] == patient_id]\n",
    "\n",
    "            for target_image_name in tqdm(target_patient_annotations[\"image_name\"].unique()):\n",
    "                image_dist_list = []\n",
    "\n",
    "                target_annos = target_patient_annotations[target_patient_annotations[\"image_name\"] == target_image_name]\n",
    "                target_anno = target_annos.iloc[0]\n",
    "\n",
    "                source_slide = openslide.OpenSlide(str(slide_files[source_anno.image_name]))\n",
    "                target_slide = openslide.OpenSlide(str(slide_files[target_anno.image_name]))\n",
    "\n",
    "                source_dimension = Rect.create(Rect, 0, 0, source_slide.dimensions[0], source_slide.dimensions[1])\n",
    "                target_dimension = Rect.create(Rect, 0, 0, target_slide.dimensions[0], target_slide.dimensions[1])\n",
    "\n",
    "\n",
    "                qtree = QuadTree(source_dimension, source_slide, target_dimension, target_slide, **config)\n",
    "                                  \n",
    "                q_list.append(qtree.q)\n",
    "                sigma2_list.append(qtree.sigma2)\n",
    "                \n",
    "                intersections = list(set(source_annos[\"type_name\"]).intersection(target_annos[\"type_name\"]))\n",
    "                \n",
    "                for type_name in intersections:\n",
    "\n",
    "                    source_anno = source_annos[source_annos[\"type_name\"] == type_name].iloc[0]\n",
    "                    target_anno = target_annos[target_annos[\"type_name\"] == type_name].iloc[0]\n",
    "\n",
    "                    box = [source_anno.center_x, source_anno.center_y, source_anno.anno_width, source_anno.anno_height]\n",
    "                    target_box = [target_anno.center_x, target_anno.center_y, target_anno.anno_width, target_anno.anno_height]\n",
    "\n",
    "                    trans_box = qtree.transform_boxes(np.array([box]))[0]\n",
    "\n",
    "                    distance = np.linalg.norm(target_box[:2]-trans_box[:2])\n",
    "\n",
    "                    dist_list.append(distance)\n",
    "                    image_dist_list.append(distance)\n",
    "                    \n",
    "                image_dist_list = np.array(image_dist_list)\n",
    "                wandb.log({\n",
    "                    \"dist_mean_image\": image_dist_list.mean(),\n",
    "                    \"dist_mean_image\": image_dist_list.min(),\n",
    "                    \"dist_mean_image\": image_dist_list.max(),\n",
    "                    \"step\": step,\n",
    "                })\n",
    "                \n",
    "                step += 1\n",
    "        \n",
    "        dist_list, q_list, sigma2_list = np.array(dist_list), np.array(q_list), np.array(sigma2_list)\n",
    "        \n",
    "        wandb.log({\n",
    "            \"dist_mean\": dist_list.mean(),\n",
    "            \"dist_min\": dist_list.min(),\n",
    "            \"dist_max\": dist_list.max(),\n",
    "            \n",
    "            \"q_mean\": q_list.mean(),\n",
    "            \"q_min\": q_list.min(),\n",
    "            \"q_max\": q_list.max(),\n",
    "            \n",
    "            \"sigma2_mean\": sigma2_list.mean(),\n",
    "            \"sigma2_min\": sigma2_list.min(),\n",
    "            \"sigma2_max\": sigma2_list.max(),\n",
    "        })"
   ]
  },
  {
   "cell_type": "code",
   "execution_count": 14,
   "metadata": {},
   "outputs": [],
   "source": [
    "sweep_id = \"q6j7pg6g\""
   ]
  },
  {
   "cell_type": "code",
   "execution_count": 15,
   "metadata": {
    "scrolled": false
   },
   "outputs": [
    {
     "name": "stderr",
     "output_type": "stream",
     "text": [
      "wandb: Agent Starting Run: 0txsjquq with config:\n",
      "wandb: \tcrossCheck: False\n",
      "wandb: \tfilter_outliner: False\n",
      "wandb: \tflann: True\n",
      "wandb: \thomography: True\n",
      "wandb: \timage_type: CCMCT\n",
      "wandb: \tmaxFeatures: 256\n",
      "wandb: \tpoint_extractor: sift\n",
      "wandb: \tratio: 0.8\n",
      "wandb: \tsource_scanner: Aperio\n",
      "wandb: \ttarget_depth: 0\n",
      "wandb: \tthumbnail_size: [1024, 1024]\n",
      "wandb: \tuse_gray: True\n",
      "Failed to query for notebook name, you can set it manually with the WANDB_NOTEBOOK_NAME environment variable\n",
      "wandb: wandb version 0.10.15 is available!  To upgrade, please run:\n",
      "wandb:  $ pip install wandb --upgrade\n"
     ]
    },
    {
     "data": {
      "text/html": [
       "\n",
       "                Tracking run with wandb version 0.10.14<br/>\n",
       "                Syncing run <strong style=\"color:#cdcd00\">dainty-sweep-9</strong> to <a href=\"https://wandb.ai\" target=\"_blank\">Weights & Biases</a> <a href=\"https://docs.wandb.com/integrations/jupyter.html\" target=\"_blank\">(Documentation)</a>.<br/>\n",
       "                Project page: <a href=\"https://wandb.ai/christianml/quadtree\" target=\"_blank\">https://wandb.ai/christianml/quadtree</a><br/>\n",
       "                Sweep page: <a href=\"https://wandb.ai/christianml/quadtree/sweeps/q6j7pg6g\" target=\"_blank\">https://wandb.ai/christianml/quadtree/sweeps/q6j7pg6g</a><br/>\n",
       "Run page: <a href=\"https://wandb.ai/christianml/quadtree/runs/0txsjquq\" target=\"_blank\">https://wandb.ai/christianml/quadtree/runs/0txsjquq</a><br/>\n",
       "                Run data is saved locally in <code>D:\\ProgProjekte\\Python\\EIPH_WSI\\MIDL2021\\Registration\\WandB\\wandb\\run-20210125_142236-0txsjquq</code><br/><br/>\n",
       "            "
      ],
      "text/plain": [
       "<IPython.core.display.HTML object>"
      ]
     },
     "metadata": {},
     "output_type": "display_data"
    },
    {
     "name": "stderr",
     "output_type": "stream",
     "text": [
      "  0%|                                                                                            | 0/5 [00:00<?, ?it/s]\n",
      "  0%|                                                                                            | 0/4 [00:00<?, ?it/s]\u001b[A\n",
      " 25%|█████████████████████                                                               | 1/4 [00:01<00:05,  1.95s/it]\u001b[A\n",
      " 50%|██████████████████████████████████████████                                          | 2/4 [00:05<00:04,  2.30s/it]\u001b[A\n",
      " 75%|███████████████████████████████████████████████████████████████                     | 3/4 [00:07<00:02,  2.47s/it]\u001b[A\n",
      "100%|████████████████████████████████████████████████████████████████████████████████████| 4/4 [00:24<00:00,  6.06s/it]\u001b[A\n",
      " 20%|████████████████▊                                                                   | 1/5 [00:24<01:36, 24.24s/it]\n",
      "  0%|                                                                                            | 0/4 [00:00<?, ?it/s]\u001b[A\n",
      " 25%|█████████████████████                                                               | 1/4 [00:02<00:07,  2.39s/it]\u001b[A\n",
      " 50%|██████████████████████████████████████████                                          | 2/4 [00:06<00:05,  2.86s/it]\u001b[A\n",
      " 75%|███████████████████████████████████████████████████████████████                     | 3/4 [00:10<00:03,  3.10s/it]\u001b[A\n",
      "100%|████████████████████████████████████████████████████████████████████████████████████| 4/4 [00:12<00:00,  3.06s/it]\u001b[A\n",
      " 40%|█████████████████████████████████▌                                                  | 2/5 [00:36<01:01, 20.65s/it]\n",
      "  0%|                                                                                            | 0/4 [00:00<?, ?it/s]\u001b[A\n",
      " 25%|█████████████████████                                                               | 1/4 [00:01<00:04,  1.34s/it]\u001b[A\n",
      " 50%|██████████████████████████████████████████                                          | 2/4 [00:03<00:03,  1.54s/it]\u001b[A\n",
      " 75%|███████████████████████████████████████████████████████████████                     | 3/4 [00:05<00:01,  1.63s/it]\u001b[A\n",
      "100%|████████████████████████████████████████████████████████████████████████████████████| 4/4 [00:15<00:00,  3.84s/it]\u001b[A\n",
      " 60%|██████████████████████████████████████████████████▍                                 | 3/5 [00:51<00:38, 19.07s/it]\n",
      "  0%|                                                                                            | 0/4 [00:00<?, ?it/s]\u001b[A\n",
      " 25%|█████████████████████                                                               | 1/4 [00:01<00:03,  1.32s/it]\u001b[A\n",
      " 50%|██████████████████████████████████████████                                          | 2/4 [00:03<00:03,  1.50s/it]\u001b[A\n",
      " 75%|███████████████████████████████████████████████████████████████                     | 3/4 [00:05<00:01,  1.61s/it]\u001b[A\n",
      "100%|████████████████████████████████████████████████████████████████████████████████████| 4/4 [00:18<00:00,  4.72s/it]\u001b[A\n",
      " 80%|███████████████████████████████████████████████████████████████████▏                | 4/5 [01:10<00:19, 19.01s/it]\n",
      "  0%|                                                                                            | 0/4 [00:00<?, ?it/s]\u001b[A\n",
      " 25%|█████████████████████                                                               | 1/4 [00:01<00:05,  1.96s/it]\u001b[A\n",
      " 50%|██████████████████████████████████████████                                          | 2/4 [00:04<00:04,  2.28s/it]\u001b[A\n",
      " 75%|███████████████████████████████████████████████████████████████                     | 3/4 [00:07<00:02,  2.38s/it]\u001b[A\n",
      "100%|████████████████████████████████████████████████████████████████████████████████████| 4/4 [00:46<00:00, 11.57s/it]\u001b[A\n",
      "100%|████████████████████████████████████████████████████████████████████████████████████| 5/5 [01:57<00:00, 23.41s/it]\n"
     ]
    },
    {
     "data": {
      "text/html": [
       "<br/>Waiting for W&B process to finish, PID 23888<br/>Program ended successfully."
      ],
      "text/plain": [
       "<IPython.core.display.HTML object>"
      ]
     },
     "metadata": {},
     "output_type": "display_data"
    },
    {
     "data": {
      "application/vnd.jupyter.widget-view+json": {
       "model_id": "",
       "version_major": 2,
       "version_minor": 0
      },
      "text/plain": [
       "VBox(children=(Label(value=' 0.00MB of 0.00MB uploaded (0.00MB deduped)\\r'), FloatProgress(value=1.0, max=1.0)…"
      ]
     },
     "metadata": {},
     "output_type": "display_data"
    },
    {
     "data": {
      "text/html": [
       "Find user logs for this run at: <code>D:\\ProgProjekte\\Python\\EIPH_WSI\\MIDL2021\\Registration\\WandB\\wandb\\run-20210125_142236-0txsjquq\\logs\\debug.log</code>"
      ],
      "text/plain": [
       "<IPython.core.display.HTML object>"
      ]
     },
     "metadata": {},
     "output_type": "display_data"
    },
    {
     "data": {
      "text/html": [
       "Find internal logs for this run at: <code>D:\\ProgProjekte\\Python\\EIPH_WSI\\MIDL2021\\Registration\\WandB\\wandb\\run-20210125_142236-0txsjquq\\logs\\debug-internal.log</code>"
      ],
      "text/plain": [
       "<IPython.core.display.HTML object>"
      ]
     },
     "metadata": {},
     "output_type": "display_data"
    },
    {
     "data": {
      "text/html": [
       "<h3>Run summary:</h3><br/><style>\n",
       "    table.wandb td:nth-child(1) { padding: 0 10px; text-align: right }\n",
       "    </style><table class=\"wandb\">\n",
       "<tr><td>dist_mean_image</td><td>81.87275</td></tr><tr><td>step</td><td>19</td></tr><tr><td>image_name</td><td>N1_CCMCT_22108_1.ndp...</td></tr><tr><td>_step</td><td>20</td></tr><tr><td>_runtime</td><td>122</td></tr><tr><td>_timestamp</td><td>1611581078</td></tr><tr><td>dist_mean</td><td>63.64235</td></tr><tr><td>dist_min</td><td>0.0</td></tr><tr><td>dist_max</td><td>574.64732</td></tr><tr><td>q_mean</td><td>-1.0</td></tr><tr><td>q_min</td><td>-1</td></tr><tr><td>q_max</td><td>-1</td></tr><tr><td>sigma2_mean</td><td>-1.0</td></tr><tr><td>sigma2_min</td><td>-1</td></tr><tr><td>sigma2_max</td><td>-1</td></tr></table>"
      ],
      "text/plain": [
       "<IPython.core.display.HTML object>"
      ]
     },
     "metadata": {},
     "output_type": "display_data"
    },
    {
     "data": {
      "text/html": [
       "<h3>Run history:</h3><br/><style>\n",
       "    table.wandb td:nth-child(1) { padding: 0 10px; text-align: right }\n",
       "    </style><table class=\"wandb\">\n",
       "<tr><td>dist_mean_image</td><td>▂▁▂▁▂▁▂▇▂▁▂▁▂▁▃█▂▁▇▂</td></tr><tr><td>step</td><td>▁▁▂▂▂▃▃▄▄▄▅▅▅▆▆▇▇▇██</td></tr><tr><td>_step</td><td>▁▁▂▂▂▃▃▃▄▄▅▅▅▆▆▆▇▇▇██</td></tr><tr><td>_runtime</td><td>▁▁▁▂▃▃▃▃▃▃▃▄▄▄▄▅▅▆▆██</td></tr><tr><td>_timestamp</td><td>▁▁▁▂▃▃▃▃▃▃▃▄▄▄▄▅▅▆▆██</td></tr><tr><td>dist_mean</td><td>▁</td></tr><tr><td>dist_min</td><td>▁</td></tr><tr><td>dist_max</td><td>▁</td></tr><tr><td>q_mean</td><td>▁</td></tr><tr><td>q_min</td><td>▁</td></tr><tr><td>q_max</td><td>▁</td></tr><tr><td>sigma2_mean</td><td>▁</td></tr><tr><td>sigma2_min</td><td>▁</td></tr><tr><td>sigma2_max</td><td>▁</td></tr></table><br/>"
      ],
      "text/plain": [
       "<IPython.core.display.HTML object>"
      ]
     },
     "metadata": {},
     "output_type": "display_data"
    },
    {
     "data": {
      "text/html": [
       "Synced 5 W&B file(s), 0 media file(s), 0 artifact file(s) and 0 other file(s)"
      ],
      "text/plain": [
       "<IPython.core.display.HTML object>"
      ]
     },
     "metadata": {},
     "output_type": "display_data"
    },
    {
     "data": {
      "text/html": [
       "\n",
       "                    <br/>Synced <strong style=\"color:#cdcd00\">dainty-sweep-9</strong>: <a href=\"https://wandb.ai/christianml/quadtree/runs/0txsjquq\" target=\"_blank\">https://wandb.ai/christianml/quadtree/runs/0txsjquq</a><br/>\n",
       "                "
      ],
      "text/plain": [
       "<IPython.core.display.HTML object>"
      ]
     },
     "metadata": {},
     "output_type": "display_data"
    },
    {
     "name": "stderr",
     "output_type": "stream",
     "text": [
      "wandb: Ctrl + C detected. Stopping sweep.\n"
     ]
    }
   ],
   "source": [
    "wandb.agent(sweep_id, train, project=\"quadtree\")"
   ]
  },
  {
   "cell_type": "code",
   "execution_count": null,
   "metadata": {},
   "outputs": [],
   "source": []
  }
 ],
 "metadata": {
  "kernelspec": {
   "display_name": "Python 3",
   "language": "python",
   "name": "python3"
  },
  "language_info": {
   "codemirror_mode": {
    "name": "ipython",
    "version": 3
   },
   "file_extension": ".py",
   "mimetype": "text/x-python",
   "name": "python",
   "nbconvert_exporter": "python",
   "pygments_lexer": "ipython3",
   "version": "3.6.10"
  }
 },
 "nbformat": 4,
 "nbformat_minor": 4
}
