{
 "cells": [
  {
   "cell_type": "code",
   "execution_count": 1,
   "metadata": {},
   "outputs": [],
   "source": [
    "%reload_ext autoreload\n",
    "%autoreload 2\n",
    "%matplotlib inline"
   ]
  },
  {
   "cell_type": "code",
   "execution_count": 2,
   "metadata": {},
   "outputs": [],
   "source": [
    "import numpy as np\n",
    "import openslide\n",
    "from probreg import cpd\n",
    "from probreg import transformation as tf\n",
    "import cv2\n",
    "from PIL import Image\n",
    "from pathlib import Path\n",
    "import pandas as pd\n",
    "from tqdm import tqdm\n",
    "import json\n",
    "import wandb"
   ]
  },
  {
   "cell_type": "code",
   "execution_count": 3,
   "metadata": {},
   "outputs": [],
   "source": [
    "import sys\n",
    "sys.path.append(\"..\")\n",
    "from registration_tree import Rect, QuadTree"
   ]
  },
  {
   "cell_type": "code",
   "execution_count": 4,
   "metadata": {},
   "outputs": [],
   "source": [
    "def add_help_fields(frame):\n",
    "    \n",
    "    frame[\"image_name_stem\"] = [Path(image_name).stem for image_name in frame[\"image_name\"]]    \n",
    "    frame[\"patient_id\"] = [name.split(\"_\")[2] for name in frame[\"image_name\"]]\n",
    "\n",
    "    frame[\"x1\"] = [json.loads(vector.replace(\"\\'\",\"\\\"\"))['x1'] for vector in frame[\"vector\"]]\n",
    "    frame[\"y1\"] = [json.loads(vector.replace(\"\\'\",\"\\\"\"))['y1'] for vector in frame[\"vector\"]]\n",
    "\n",
    "    frame[\"x2\"] = [json.loads(vector.replace(\"\\'\",\"\\\"\"))['x2'] for vector in frame[\"vector\"]]\n",
    "    frame[\"y2\"] = [json.loads(vector.replace(\"\\'\",\"\\\"\"))['y2'] for vector in frame[\"vector\"]]\n",
    "\n",
    "    frame[\"center_x\"] = [x1 + ((x2-x1) / 2) for x1, x2 in zip(frame[\"x1\"], frame[\"x2\"])]\n",
    "    frame[\"center_y\"] = [y1 + ((y2-y1) / 2) for y1, y2 in zip(frame[\"y1\"], frame[\"y2\"])]\n",
    "    \n",
    "    frame[\"center\"] = [np.array((center_x, center_y)) for center_x, center_y in zip(frame[\"center_x\"], frame[\"center_y\"])]\n",
    "\n",
    "    frame[\"anno_width\"] = [x2-x1 for x1, x2 in zip(frame[\"x1\"], frame[\"x2\"])]\n",
    "    frame[\"anno_height\"]= [y2-y1 for y1, y2 in zip(frame[\"y1\"], frame[\"y2\"])]\n",
    "    \n",
    "    return frame"
   ]
  },
  {
   "cell_type": "code",
   "execution_count": 5,
   "metadata": {},
   "outputs": [],
   "source": [
    "folder = Path(\"..\")\n",
    "\n",
    "slide_folder = Path(\"D:/Datasets/ScannerStudy\")\n",
    "if slide_folder.exists() == False:\n",
    "    slide_folder = Path(\"/data/ScannerStudy\")\n",
    "if slide_folder.exists() == False:\n",
    "    slide_folder = Path(\"/mnt/d/Datasets/ScannerStudy\")\n",
    "if slide_folder.exists() == False:\n",
    "    slide_folder = Path(\"/data/ScannerStudy\")\n",
    "    \n",
    "slide_files = {path.name: path for path in slide_folder.glob(\"*/*/*.*\")}"
   ]
  },
  {
   "cell_type": "code",
   "execution_count": 6,
   "metadata": {},
   "outputs": [],
   "source": [
    "def train(config=None):\n",
    "    \n",
    "    # Initialize a new wandb run\n",
    "    with wandb.init(config=config):\n",
    "        # If called by wandb.agent, as below,\n",
    "        # this config will be set by Sweep Controller\n",
    "        config = wandb.config\n",
    "        \n",
    "        annotations = add_help_fields(pd.read_csv(folder / \"Validation/GT.csv\"))\n",
    "        annotations = annotations[annotations[\"image_type\"] == config.image_type]\n",
    "        \n",
    "        source_scanner_annotations = annotations[annotations[\"scanner\"] == config.source_scanner]\n",
    "    \n",
    "        dist_list, mean_reg_error_list = [], []\n",
    "                        \n",
    "        step = 0\n",
    "        for patient_id in tqdm(source_scanner_annotations[\"patient_id\"].unique()):\n",
    "\n",
    "            source_annos = source_scanner_annotations[source_scanner_annotations[\"patient_id\"] == patient_id]\n",
    "            source_anno = source_annos.iloc[0]\n",
    "\n",
    "            target_patient_annotations = annotations[annotations[\"patient_id\"] == patient_id]\n",
    "\n",
    "            for target_image_name in tqdm(target_patient_annotations[\"image_name\"].unique()):\n",
    "                image_dist_list = []\n",
    "\n",
    "                target_annos = target_patient_annotations[target_patient_annotations[\"image_name\"] == target_image_name]\n",
    "                target_anno = target_annos.iloc[0]\n",
    "                \n",
    "                if source_anno.scanner == target_anno.scanner:\n",
    "                    continue\n",
    "\n",
    "                source_slide = openslide.OpenSlide(str(slide_files[source_anno.image_name]))\n",
    "                target_slide = openslide.OpenSlide(str(slide_files[target_anno.image_name]))\n",
    "\n",
    "                source_dimension = Rect.create(Rect, 0, 0, source_slide.dimensions[0], source_slide.dimensions[1])\n",
    "                target_dimension = Rect.create(Rect, 0, 0, target_slide.dimensions[0], target_slide.dimensions[1])\n",
    "\n",
    "\n",
    "                qtree = QuadTree(source_dimension, source_slide, target_dimension, target_slide, debug=False, **config)\n",
    "                                  \n",
    "                mean_reg_error_list.append(qtree.mean_reg_error)\n",
    "                \n",
    "                intersections = list(set(source_annos[\"type_name\"]).intersection(target_annos[\"type_name\"]))\n",
    "                \n",
    "                for type_name in intersections:\n",
    "\n",
    "                    source_anno = source_annos[source_annos[\"type_name\"] == type_name].iloc[0]\n",
    "                    target_anno = target_annos[target_annos[\"type_name\"] == type_name].iloc[0]\n",
    "\n",
    "                    box = [source_anno.center_x, source_anno.center_y, source_anno.anno_width, source_anno.anno_height]\n",
    "                    target_box = [target_anno.center_x, target_anno.center_y, target_anno.anno_width, target_anno.anno_height]\n",
    "\n",
    "                    trans_box = qtree.transform_boxes(np.array([box]))[0]\n",
    "\n",
    "                    distance = np.linalg.norm(target_box[:2]-trans_box[:2])\n",
    "\n",
    "                    dist_list.append(distance)\n",
    "                    image_dist_list.append(distance)\n",
    "                    \n",
    "                image_dist_list = np.array(image_dist_list)\n",
    "                wandb.log({\n",
    "                    \"dist_mean_image\": image_dist_list.mean(),\n",
    "                    \"dist_mean_image\": image_dist_list.min(),\n",
    "                    \"dist_mean_image\": image_dist_list.max(),\n",
    "                    \"mean_reg_error_image\": qtree.mean_reg_error,\n",
    "                    \"step\": step,\n",
    "                })\n",
    "                \n",
    "                step += 1\n",
    "        \n",
    "        dist_list, mean_reg_error_list = np.array(dist_list), np.array(mean_reg_error_list),\n",
    "        \n",
    "        wandb.log({\n",
    "            \"dist_mean\": dist_list.mean(),\n",
    "            \"dist_min\": dist_list.min(),\n",
    "            \"dist_max\": dist_list.max(),\n",
    "            \n",
    "            \"mean_reg_error\": mean_reg_error_list.mean(),\n",
    "        })"
   ]
  },
  {
   "cell_type": "code",
   "execution_count": 7,
   "metadata": {},
   "outputs": [],
   "source": [
    "sweep_id = \"e22y6790\""
   ]
  },
  {
   "cell_type": "code",
   "execution_count": 8,
   "metadata": {
    "scrolled": false
   },
   "outputs": [
    {
     "name": "stderr",
     "output_type": "stream",
     "text": [
      "INFO - 2021-01-26 18:07:09,985 - pyagent - Starting sweep agent: entity=None, project=quadtree, count=None\n",
      "\u001b[34m\u001b[1mwandb\u001b[0m: Agent Starting Run: cvj7qxbq with config:\n",
      "\u001b[34m\u001b[1mwandb\u001b[0m: \tcrossCheck: False\n",
      "\u001b[34m\u001b[1mwandb\u001b[0m: \tfilter_outliner: False\n",
      "\u001b[34m\u001b[1mwandb\u001b[0m: \tflann: False\n",
      "\u001b[34m\u001b[1mwandb\u001b[0m: \thomography: False\n",
      "\u001b[34m\u001b[1mwandb\u001b[0m: \timage_type: Cyto\n",
      "\u001b[34m\u001b[1mwandb\u001b[0m: \tmaxFeatures: 1024\n",
      "\u001b[34m\u001b[1mwandb\u001b[0m: \tpoint_extractor: sift\n",
      "\u001b[34m\u001b[1mwandb\u001b[0m: \tratio: 0.9\n",
      "\u001b[34m\u001b[1mwandb\u001b[0m: \tsource_scanner: Aperio\n",
      "\u001b[34m\u001b[1mwandb\u001b[0m: \ttarget_depth: 0\n",
      "\u001b[34m\u001b[1mwandb\u001b[0m: \tthumbnail_size: [1024, 1024]\n",
      "\u001b[34m\u001b[1mwandb\u001b[0m: \tuse_gray: False\n",
      "\u001b[34m\u001b[1mwandb\u001b[0m: Currently logged in as: \u001b[33mchristianml\u001b[0m (use `wandb login --relogin` to force relogin)\n"
     ]
    },
    {
     "data": {
      "text/html": [
       "\n",
       "                Tracking run with wandb version 0.10.15<br/>\n",
       "                Syncing run <strong style=\"color:#cdcd00\">gentle-sweep-2</strong> to <a href=\"https://wandb.ai\" target=\"_blank\">Weights & Biases</a> <a href=\"https://docs.wandb.com/integrations/jupyter.html\" target=\"_blank\">(Documentation)</a>.<br/>\n",
       "                Project page: <a href=\"https://wandb.ai/christianml/quadtree\" target=\"_blank\">https://wandb.ai/christianml/quadtree</a><br/>\n",
       "                Sweep page: <a href=\"https://wandb.ai/christianml/quadtree/sweeps/e22y6790\" target=\"_blank\">https://wandb.ai/christianml/quadtree/sweeps/e22y6790</a><br/>\n",
       "Run page: <a href=\"https://wandb.ai/christianml/quadtree/runs/cvj7qxbq\" target=\"_blank\">https://wandb.ai/christianml/quadtree/runs/cvj7qxbq</a><br/>\n",
       "                Run data is saved locally in <code>/home/bronzi/ProgProjekte/EIPH_WSI/MIDL2021/Registration/WandB/wandb/run-20210126_180710-cvj7qxbq</code><br/><br/>\n",
       "            "
      ],
      "text/plain": [
       "<IPython.core.display.HTML object>"
      ]
     },
     "metadata": {},
     "output_type": "display_data"
    },
    {
     "name": "stderr",
     "output_type": "stream",
     "text": [
      "  0%|          | 0/5 [00:00<?, ?it/s]\n",
      "  0%|          | 0/4 [00:00<?, ?it/s]\u001b[A\n",
      " 25%|██▌       | 1/4 [00:03<00:10,  3.34s/it]\u001b[A\n",
      " 75%|███████▌  | 3/4 [00:07<00:02,  2.50s/it]\u001b[A\n",
      "100%|██████████| 4/4 [00:09<00:00,  2.33s/it]\u001b[A\n",
      " 20%|██        | 1/5 [00:09<00:37,  9.32s/it]\n",
      "  0%|          | 0/4 [00:00<?, ?it/s]\u001b[A\n",
      " 25%|██▌       | 1/4 [00:01<00:05,  1.77s/it]\u001b[A\n",
      " 75%|███████▌  | 3/4 [00:04<00:01,  1.64s/it]\u001b[A\n",
      "100%|██████████| 4/4 [00:06<00:00,  1.60s/it]\u001b[A\n",
      " 40%|████      | 2/5 [00:15<00:22,  7.62s/it]\n",
      "  0%|          | 0/4 [00:00<?, ?it/s]\u001b[A\n",
      " 25%|██▌       | 1/4 [00:04<00:13,  4.66s/it]\u001b[A\n",
      " 75%|███████▌  | 3/4 [00:09<00:02,  2.88s/it]\u001b[A\n",
      "100%|██████████| 4/4 [00:12<00:00,  3.01s/it]\u001b[A\n",
      " 60%|██████    | 3/5 [00:27<00:19,  9.63s/it]\n",
      "  0%|          | 0/4 [00:00<?, ?it/s]\u001b[A\n",
      " 25%|██▌       | 1/4 [00:00<00:02,  1.09it/s]\u001b[A\n",
      " 75%|███████▌  | 3/4 [00:02<00:00,  1.13it/s]\u001b[A\n",
      "100%|██████████| 4/4 [00:03<00:00,  1.17it/s]\u001b[A\n",
      " 80%|████████  | 4/5 [00:31<00:07,  7.19s/it]\n",
      "  0%|          | 0/4 [00:00<?, ?it/s]\u001b[A\n",
      " 25%|██▌       | 1/4 [00:02<00:06,  2.28s/it]\u001b[A\n",
      " 75%|███████▌  | 3/4 [00:04<00:01,  1.57s/it]\u001b[A\n",
      "100%|██████████| 4/4 [00:06<00:00,  1.65s/it]\u001b[A\n",
      "100%|██████████| 5/5 [00:37<00:00,  7.57s/it]\n"
     ]
    },
    {
     "data": {
      "text/html": [
       "<br/>Waiting for W&B process to finish, PID 29486<br/>Program ended successfully."
      ],
      "text/plain": [
       "<IPython.core.display.HTML object>"
      ]
     },
     "metadata": {},
     "output_type": "display_data"
    },
    {
     "data": {
      "application/vnd.jupyter.widget-view+json": {
       "model_id": "",
       "version_major": 2,
       "version_minor": 0
      },
      "text/plain": [
       "VBox(children=(Label(value=' 0.00MB of 0.00MB uploaded (0.00MB deduped)\\r'), FloatProgress(value=1.0, max=1.0)…"
      ]
     },
     "metadata": {},
     "output_type": "display_data"
    },
    {
     "data": {
      "text/html": [
       "Find user logs for this run at: <code>/home/bronzi/ProgProjekte/EIPH_WSI/MIDL2021/Registration/WandB/wandb/run-20210126_180710-cvj7qxbq/logs/debug.log</code>"
      ],
      "text/plain": [
       "<IPython.core.display.HTML object>"
      ]
     },
     "metadata": {},
     "output_type": "display_data"
    },
    {
     "data": {
      "text/html": [
       "Find internal logs for this run at: <code>/home/bronzi/ProgProjekte/EIPH_WSI/MIDL2021/Registration/WandB/wandb/run-20210126_180710-cvj7qxbq/logs/debug-internal.log</code>"
      ],
      "text/plain": [
       "<IPython.core.display.HTML object>"
      ]
     },
     "metadata": {},
     "output_type": "display_data"
    },
    {
     "data": {
      "text/html": [
       "<h3>Run summary:</h3><br/><style>\n",
       "    table.wandb td:nth-child(1) { padding: 0 10px; text-align: right }\n",
       "    </style><table class=\"wandb\">\n",
       "<tr><td>dist_mean_image</td><td>38.85395</td></tr><tr><td>mean_reg_error_image</td><td>6373.07629</td></tr><tr><td>step</td><td>14</td></tr><tr><td>_step</td><td>15</td></tr><tr><td>_runtime</td><td>39</td></tr><tr><td>_timestamp</td><td>1611680869</td></tr><tr><td>dist_mean</td><td>125.45839</td></tr><tr><td>dist_min</td><td>0.65812</td></tr><tr><td>dist_max</td><td>3858.84867</td></tr><tr><td>mean_reg_error</td><td>4313.90214</td></tr></table>"
      ],
      "text/plain": [
       "<IPython.core.display.HTML object>"
      ]
     },
     "metadata": {},
     "output_type": "display_data"
    },
    {
     "data": {
      "text/html": [
       "<h3>Run history:</h3><br/><style>\n",
       "    table.wandb td:nth-child(1) { padding: 0 10px; text-align: right }\n",
       "    </style><table class=\"wandb\">\n",
       "<tr><td>dist_mean_image</td><td>▁▁█▁▁▁▁▁▁▁▁▁▁▁▁</td></tr><tr><td>mean_reg_error_image</td><td>▂▃█▁▁▃▁▂▃▄▄▆▂▃▅</td></tr><tr><td>step</td><td>▁▁▂▃▃▃▄▅▅▅▆▇▇▇█</td></tr><tr><td>_step</td><td>▁▁▂▂▃▃▄▄▅▅▆▆▇▇██</td></tr><tr><td>_runtime</td><td>▁▂▂▃▃▄▄▅▆▆▇▇▇███</td></tr><tr><td>_timestamp</td><td>▁▂▂▃▃▄▄▅▆▆▇▇▇███</td></tr><tr><td>dist_mean</td><td>▁</td></tr><tr><td>dist_min</td><td>▁</td></tr><tr><td>dist_max</td><td>▁</td></tr><tr><td>mean_reg_error</td><td>▁</td></tr></table><br/>"
      ],
      "text/plain": [
       "<IPython.core.display.HTML object>"
      ]
     },
     "metadata": {},
     "output_type": "display_data"
    },
    {
     "data": {
      "text/html": [
       "Synced 5 W&B file(s), 0 media file(s), 0 artifact file(s) and 0 other file(s)"
      ],
      "text/plain": [
       "<IPython.core.display.HTML object>"
      ]
     },
     "metadata": {},
     "output_type": "display_data"
    },
    {
     "data": {
      "text/html": [
       "\n",
       "                    <br/>Synced <strong style=\"color:#cdcd00\">gentle-sweep-2</strong>: <a href=\"https://wandb.ai/christianml/quadtree/runs/cvj7qxbq\" target=\"_blank\">https://wandb.ai/christianml/quadtree/runs/cvj7qxbq</a><br/>\n",
       "                "
      ],
      "text/plain": [
       "<IPython.core.display.HTML object>"
      ]
     },
     "metadata": {},
     "output_type": "display_data"
    },
    {
     "name": "stderr",
     "output_type": "stream",
     "text": [
      "\u001b[34m\u001b[1mwandb\u001b[0m: Agent Starting Run: za808ta8 with config:\n",
      "\u001b[34m\u001b[1mwandb\u001b[0m: \tcrossCheck: False\n",
      "\u001b[34m\u001b[1mwandb\u001b[0m: \tfilter_outliner: False\n",
      "\u001b[34m\u001b[1mwandb\u001b[0m: \tflann: True\n",
      "\u001b[34m\u001b[1mwandb\u001b[0m: \thomography: False\n",
      "\u001b[34m\u001b[1mwandb\u001b[0m: \timage_type: Cyto\n",
      "\u001b[34m\u001b[1mwandb\u001b[0m: \tmaxFeatures: 1024\n",
      "\u001b[34m\u001b[1mwandb\u001b[0m: \tpoint_extractor: sift\n",
      "\u001b[34m\u001b[1mwandb\u001b[0m: \tratio: 0.4\n",
      "\u001b[34m\u001b[1mwandb\u001b[0m: \tsource_scanner: Aperio\n",
      "\u001b[34m\u001b[1mwandb\u001b[0m: \ttarget_depth: 0\n",
      "\u001b[34m\u001b[1mwandb\u001b[0m: \tthumbnail_size: [2048, 2048]\n",
      "\u001b[34m\u001b[1mwandb\u001b[0m: \tuse_gray: True\n"
     ]
    },
    {
     "data": {
      "text/html": [
       "\n",
       "                Tracking run with wandb version 0.10.15<br/>\n",
       "                Syncing run <strong style=\"color:#cdcd00\">lunar-sweep-3</strong> to <a href=\"https://wandb.ai\" target=\"_blank\">Weights & Biases</a> <a href=\"https://docs.wandb.com/integrations/jupyter.html\" target=\"_blank\">(Documentation)</a>.<br/>\n",
       "                Project page: <a href=\"https://wandb.ai/christianml/quadtree\" target=\"_blank\">https://wandb.ai/christianml/quadtree</a><br/>\n",
       "                Sweep page: <a href=\"https://wandb.ai/christianml/quadtree/sweeps/e22y6790\" target=\"_blank\">https://wandb.ai/christianml/quadtree/sweeps/e22y6790</a><br/>\n",
       "Run page: <a href=\"https://wandb.ai/christianml/quadtree/runs/za808ta8\" target=\"_blank\">https://wandb.ai/christianml/quadtree/runs/za808ta8</a><br/>\n",
       "                Run data is saved locally in <code>/home/bronzi/ProgProjekte/EIPH_WSI/MIDL2021/Registration/WandB/wandb/run-20210126_180753-za808ta8</code><br/><br/>\n",
       "            "
      ],
      "text/plain": [
       "<IPython.core.display.HTML object>"
      ]
     },
     "metadata": {},
     "output_type": "display_data"
    },
    {
     "name": "stderr",
     "output_type": "stream",
     "text": [
      "  0%|          | 0/5 [00:00<?, ?it/s]\n",
      "  0%|          | 0/4 [00:00<?, ?it/s]\u001b[A\n",
      " 25%|██▌       | 1/4 [00:27<01:21, 27.14s/it]\u001b[A\n",
      " 75%|███████▌  | 3/4 [01:07<00:21, 22.00s/it]\u001b[A\n",
      "100%|██████████| 4/4 [01:15<00:00, 18.97s/it]\u001b[A\n",
      " 20%|██        | 1/5 [01:15<05:03, 75.88s/it]\n",
      "  0%|          | 0/4 [00:00<?, ?it/s]\u001b[A\n",
      " 25%|██▌       | 1/4 [00:04<00:14,  4.74s/it]\u001b[A\n",
      " 75%|███████▌  | 3/4 [00:08<00:02,  2.77s/it]\u001b[A\n",
      "100%|██████████| 4/4 [00:11<00:00,  2.79s/it]\u001b[A\n",
      " 40%|████      | 2/5 [01:27<01:53, 37.81s/it]\n",
      "  0%|          | 0/4 [00:00<?, ?it/s]\u001b[A\n",
      " 25%|██▌       | 1/4 [00:39<01:58, 39.38s/it]\u001b[A\n",
      " 75%|███████▌  | 3/4 [01:10<00:21, 21.59s/it]\u001b[A\n",
      "100%|██████████| 4/4 [01:17<00:00, 19.42s/it]\u001b[A\n",
      " 60%|██████    | 3/5 [02:44<01:52, 56.02s/it]\n",
      "  0%|          | 0/4 [00:00<?, ?it/s]\u001b[A\n",
      " 25%|██▌       | 1/4 [00:02<00:06,  2.33s/it]\u001b[A\n",
      " 75%|███████▌  | 3/4 [00:05<00:01,  1.84s/it]\u001b[A\n",
      "100%|██████████| 4/4 [00:07<00:00,  1.77s/it]\u001b[A\n",
      " 80%|████████  | 4/5 [02:51<00:36, 36.71s/it]\n",
      "  0%|          | 0/4 [00:00<?, ?it/s]\u001b[A\n",
      " 25%|██▌       | 1/4 [00:24<01:14, 24.97s/it]\u001b[A\n",
      " 75%|███████▌  | 3/4 [00:39<00:11, 11.95s/it]\u001b[A\n",
      "100%|██████████| 4/4 [00:48<00:00, 12.16s/it]\u001b[A\n",
      "100%|██████████| 5/5 [03:40<00:00, 44.10s/it]\n"
     ]
    },
    {
     "data": {
      "text/html": [
       "<br/>Waiting for W&B process to finish, PID 29672<br/>Program ended successfully."
      ],
      "text/plain": [
       "<IPython.core.display.HTML object>"
      ]
     },
     "metadata": {},
     "output_type": "display_data"
    },
    {
     "data": {
      "application/vnd.jupyter.widget-view+json": {
       "model_id": "",
       "version_major": 2,
       "version_minor": 0
      },
      "text/plain": [
       "VBox(children=(Label(value=' 0.00MB of 0.00MB uploaded (0.00MB deduped)\\r'), FloatProgress(value=1.0, max=1.0)…"
      ]
     },
     "metadata": {},
     "output_type": "display_data"
    },
    {
     "data": {
      "text/html": [
       "Find user logs for this run at: <code>/home/bronzi/ProgProjekte/EIPH_WSI/MIDL2021/Registration/WandB/wandb/run-20210126_180753-za808ta8/logs/debug.log</code>"
      ],
      "text/plain": [
       "<IPython.core.display.HTML object>"
      ]
     },
     "metadata": {},
     "output_type": "display_data"
    },
    {
     "data": {
      "text/html": [
       "Find internal logs for this run at: <code>/home/bronzi/ProgProjekte/EIPH_WSI/MIDL2021/Registration/WandB/wandb/run-20210126_180753-za808ta8/logs/debug-internal.log</code>"
      ],
      "text/plain": [
       "<IPython.core.display.HTML object>"
      ]
     },
     "metadata": {},
     "output_type": "display_data"
    },
    {
     "data": {
      "text/html": [
       "<h3>Run summary:</h3><br/><style>\n",
       "    table.wandb td:nth-child(1) { padding: 0 10px; text-align: right }\n",
       "    </style><table class=\"wandb\">\n",
       "<tr><td>dist_mean_image</td><td>11.08289</td></tr><tr><td>mean_reg_error_image</td><td>5.08144</td></tr><tr><td>step</td><td>14</td></tr><tr><td>_step</td><td>15</td></tr><tr><td>_runtime</td><td>221</td></tr><tr><td>_timestamp</td><td>1611681094</td></tr><tr><td>dist_mean</td><td>9.83731</td></tr><tr><td>dist_min</td><td>0.46209</td></tr><tr><td>dist_max</td><td>72.56864</td></tr><tr><td>mean_reg_error</td><td>36.37469</td></tr></table>"
      ],
      "text/plain": [
       "<IPython.core.display.HTML object>"
      ]
     },
     "metadata": {},
     "output_type": "display_data"
    },
    {
     "data": {
      "text/html": [
       "<h3>Run history:</h3><br/><style>\n",
       "    table.wandb td:nth-child(1) { padding: 0 10px; text-align: right }\n",
       "    </style><table class=\"wandb\">\n",
       "<tr><td>dist_mean_image</td><td>▂▂▂▃▄▃▂▂▂▃█▄▂▁▂</td></tr><tr><td>mean_reg_error_image</td><td>▅█▁▁▁▁▄▅▁▁▁▁█▂▁</td></tr><tr><td>step</td><td>▁▁▂▃▃▃▄▅▅▅▆▇▇▇█</td></tr><tr><td>_step</td><td>▁▁▂▂▃▃▄▄▅▅▆▆▇▇██</td></tr><tr><td>_runtime</td><td>▁▂▃▃▃▃▅▆▆▆▆▆▇███</td></tr><tr><td>_timestamp</td><td>▁▂▃▃▃▃▅▆▆▆▆▆▇███</td></tr><tr><td>dist_mean</td><td>▁</td></tr><tr><td>dist_min</td><td>▁</td></tr><tr><td>dist_max</td><td>▁</td></tr><tr><td>mean_reg_error</td><td>▁</td></tr></table><br/>"
      ],
      "text/plain": [
       "<IPython.core.display.HTML object>"
      ]
     },
     "metadata": {},
     "output_type": "display_data"
    },
    {
     "data": {
      "text/html": [
       "Synced 5 W&B file(s), 0 media file(s), 0 artifact file(s) and 0 other file(s)"
      ],
      "text/plain": [
       "<IPython.core.display.HTML object>"
      ]
     },
     "metadata": {},
     "output_type": "display_data"
    },
    {
     "data": {
      "text/html": [
       "\n",
       "                    <br/>Synced <strong style=\"color:#cdcd00\">lunar-sweep-3</strong>: <a href=\"https://wandb.ai/christianml/quadtree/runs/za808ta8\" target=\"_blank\">https://wandb.ai/christianml/quadtree/runs/za808ta8</a><br/>\n",
       "                "
      ],
      "text/plain": [
       "<IPython.core.display.HTML object>"
      ]
     },
     "metadata": {},
     "output_type": "display_data"
    },
    {
     "name": "stderr",
     "output_type": "stream",
     "text": [
      "\u001b[34m\u001b[1mwandb\u001b[0m: Agent Starting Run: 4enciwij with config:\n",
      "\u001b[34m\u001b[1mwandb\u001b[0m: \tcrossCheck: False\n",
      "\u001b[34m\u001b[1mwandb\u001b[0m: \tfilter_outliner: False\n",
      "\u001b[34m\u001b[1mwandb\u001b[0m: \tflann: True\n",
      "\u001b[34m\u001b[1mwandb\u001b[0m: \thomography: True\n",
      "\u001b[34m\u001b[1mwandb\u001b[0m: \timage_type: Cyto\n",
      "\u001b[34m\u001b[1mwandb\u001b[0m: \tmaxFeatures: 512\n",
      "\u001b[34m\u001b[1mwandb\u001b[0m: \tpoint_extractor: sift\n",
      "\u001b[34m\u001b[1mwandb\u001b[0m: \tratio: 0.3\n",
      "\u001b[34m\u001b[1mwandb\u001b[0m: \tsource_scanner: Aperio\n",
      "\u001b[34m\u001b[1mwandb\u001b[0m: \ttarget_depth: 0\n",
      "\u001b[34m\u001b[1mwandb\u001b[0m: \tthumbnail_size: [2048, 2048]\n",
      "\u001b[34m\u001b[1mwandb\u001b[0m: \tuse_gray: True\n"
     ]
    },
    {
     "data": {
      "text/html": [
       "\n",
       "                Tracking run with wandb version 0.10.15<br/>\n",
       "                Syncing run <strong style=\"color:#cdcd00\">rose-sweep-4</strong> to <a href=\"https://wandb.ai\" target=\"_blank\">Weights & Biases</a> <a href=\"https://docs.wandb.com/integrations/jupyter.html\" target=\"_blank\">(Documentation)</a>.<br/>\n",
       "                Project page: <a href=\"https://wandb.ai/christianml/quadtree\" target=\"_blank\">https://wandb.ai/christianml/quadtree</a><br/>\n",
       "                Sweep page: <a href=\"https://wandb.ai/christianml/quadtree/sweeps/e22y6790\" target=\"_blank\">https://wandb.ai/christianml/quadtree/sweeps/e22y6790</a><br/>\n",
       "Run page: <a href=\"https://wandb.ai/christianml/quadtree/runs/4enciwij\" target=\"_blank\">https://wandb.ai/christianml/quadtree/runs/4enciwij</a><br/>\n",
       "                Run data is saved locally in <code>/home/bronzi/ProgProjekte/EIPH_WSI/MIDL2021/Registration/WandB/wandb/run-20210126_181139-4enciwij</code><br/><br/>\n",
       "            "
      ],
      "text/plain": [
       "<IPython.core.display.HTML object>"
      ]
     },
     "metadata": {},
     "output_type": "display_data"
    },
    {
     "name": "stderr",
     "output_type": "stream",
     "text": [
      "  0%|          | 0/5 [00:00<?, ?it/s]\n",
      "  0%|          | 0/4 [00:00<?, ?it/s]\u001b[A\n",
      " 25%|██▌       | 1/4 [00:07<00:22,  7.66s/it]\u001b[A\n",
      " 75%|███████▌  | 3/4 [00:23<00:07,  7.95s/it]\u001b[A\n",
      "  0%|          | 0/5 [00:23<?, ?it/s]\n"
     ]
    },
    {
     "data": {
      "text/html": [
       "<br/>Waiting for W&B process to finish, PID 31017<br/>Program failed with code 1.  Press ctrl-c to abort syncing."
      ],
      "text/plain": [
       "<IPython.core.display.HTML object>"
      ]
     },
     "metadata": {},
     "output_type": "display_data"
    },
    {
     "data": {
      "application/vnd.jupyter.widget-view+json": {
       "model_id": "",
       "version_major": 2,
       "version_minor": 0
      },
      "text/plain": [
       "VBox(children=(Label(value=' 0.00MB of 0.00MB uploaded (0.00MB deduped)\\r'), FloatProgress(value=1.0, max=1.0)…"
      ]
     },
     "metadata": {},
     "output_type": "display_data"
    },
    {
     "data": {
      "text/html": [
       "Find user logs for this run at: <code>/home/bronzi/ProgProjekte/EIPH_WSI/MIDL2021/Registration/WandB/wandb/run-20210126_181139-4enciwij/logs/debug.log</code>"
      ],
      "text/plain": [
       "<IPython.core.display.HTML object>"
      ]
     },
     "metadata": {},
     "output_type": "display_data"
    },
    {
     "data": {
      "text/html": [
       "Find internal logs for this run at: <code>/home/bronzi/ProgProjekte/EIPH_WSI/MIDL2021/Registration/WandB/wandb/run-20210126_181139-4enciwij/logs/debug-internal.log</code>"
      ],
      "text/plain": [
       "<IPython.core.display.HTML object>"
      ]
     },
     "metadata": {},
     "output_type": "display_data"
    },
    {
     "data": {
      "text/html": [
       "<h3>Run summary:</h3><br/><style>\n",
       "    table.wandb td:nth-child(1) { padding: 0 10px; text-align: right }\n",
       "    </style><table class=\"wandb\">\n",
       "<tr><td>dist_mean_image</td><td>12.9888</td></tr><tr><td>mean_reg_error_image</td><td>3.43911</td></tr><tr><td>step</td><td>1</td></tr><tr><td>_step</td><td>1</td></tr><tr><td>_runtime</td><td>17</td></tr><tr><td>_timestamp</td><td>1611681116</td></tr></table>"
      ],
      "text/plain": [
       "<IPython.core.display.HTML object>"
      ]
     },
     "metadata": {},
     "output_type": "display_data"
    },
    {
     "data": {
      "text/html": [
       "<h3>Run history:</h3><br/><style>\n",
       "    table.wandb td:nth-child(1) { padding: 0 10px; text-align: right }\n",
       "    </style><table class=\"wandb\">\n",
       "<tr><td>dist_mean_image</td><td>▁█</td></tr><tr><td>mean_reg_error_image</td><td>█▁</td></tr><tr><td>step</td><td>▁█</td></tr><tr><td>_step</td><td>▁█</td></tr><tr><td>_runtime</td><td>▁█</td></tr><tr><td>_timestamp</td><td>▁█</td></tr></table><br/>"
      ],
      "text/plain": [
       "<IPython.core.display.HTML object>"
      ]
     },
     "metadata": {},
     "output_type": "display_data"
    },
    {
     "data": {
      "text/html": [
       "Synced 5 W&B file(s), 0 media file(s), 0 artifact file(s) and 0 other file(s)"
      ],
      "text/plain": [
       "<IPython.core.display.HTML object>"
      ]
     },
     "metadata": {},
     "output_type": "display_data"
    },
    {
     "data": {
      "text/html": [
       "\n",
       "                    <br/>Synced <strong style=\"color:#cdcd00\">rose-sweep-4</strong>: <a href=\"https://wandb.ai/christianml/quadtree/runs/4enciwij\" target=\"_blank\">https://wandb.ai/christianml/quadtree/runs/4enciwij</a><br/>\n",
       "                "
      ],
      "text/plain": [
       "<IPython.core.display.HTML object>"
      ]
     },
     "metadata": {},
     "output_type": "display_data"
    },
    {
     "name": "stderr",
     "output_type": "stream",
     "text": [
      "Run 4enciwij errored: error(\"OpenCV(4.5.1) /tmp/pip-req-build-ms668fyv/opencv/modules/calib3d/src/fundam.cpp:385: error: (-28:Unknown error code -28) The input arrays should have at least 4 corresponding point sets to calculate Homography in function 'findHomography'\\n\")\n",
      "\u001b[34m\u001b[1mwandb\u001b[0m: \u001b[32m\u001b[41mERROR\u001b[0m Run 4enciwij errored: error(\"OpenCV(4.5.1) /tmp/pip-req-build-ms668fyv/opencv/modules/calib3d/src/fundam.cpp:385: error: (-28:Unknown error code -28) The input arrays should have at least 4 corresponding point sets to calculate Homography in function 'findHomography'\\n\")\n",
      "\u001b[34m\u001b[1mwandb\u001b[0m: Agent Starting Run: lz245wa7 with config:\n",
      "\u001b[34m\u001b[1mwandb\u001b[0m: \tcrossCheck: False\n",
      "\u001b[34m\u001b[1mwandb\u001b[0m: \tfilter_outliner: False\n",
      "\u001b[34m\u001b[1mwandb\u001b[0m: \tflann: False\n",
      "\u001b[34m\u001b[1mwandb\u001b[0m: \thomography: True\n",
      "\u001b[34m\u001b[1mwandb\u001b[0m: \timage_type: Cyto\n",
      "\u001b[34m\u001b[1mwandb\u001b[0m: \tmaxFeatures: 64\n",
      "\u001b[34m\u001b[1mwandb\u001b[0m: \tpoint_extractor: sift\n",
      "\u001b[34m\u001b[1mwandb\u001b[0m: \tratio: 0.5\n",
      "\u001b[34m\u001b[1mwandb\u001b[0m: \tsource_scanner: Aperio\n",
      "\u001b[34m\u001b[1mwandb\u001b[0m: \ttarget_depth: 0\n",
      "\u001b[34m\u001b[1mwandb\u001b[0m: \tthumbnail_size: [4096, 4096]\n",
      "\u001b[34m\u001b[1mwandb\u001b[0m: \tuse_gray: False\n"
     ]
    },
    {
     "data": {
      "text/html": [
       "\n",
       "                Tracking run with wandb version 0.10.15<br/>\n",
       "                Syncing run <strong style=\"color:#cdcd00\">sparkling-sweep-5</strong> to <a href=\"https://wandb.ai\" target=\"_blank\">Weights & Biases</a> <a href=\"https://docs.wandb.com/integrations/jupyter.html\" target=\"_blank\">(Documentation)</a>.<br/>\n",
       "                Project page: <a href=\"https://wandb.ai/christianml/quadtree\" target=\"_blank\">https://wandb.ai/christianml/quadtree</a><br/>\n",
       "                Sweep page: <a href=\"https://wandb.ai/christianml/quadtree/sweeps/e22y6790\" target=\"_blank\">https://wandb.ai/christianml/quadtree/sweeps/e22y6790</a><br/>\n",
       "Run page: <a href=\"https://wandb.ai/christianml/quadtree/runs/lz245wa7\" target=\"_blank\">https://wandb.ai/christianml/quadtree/runs/lz245wa7</a><br/>\n",
       "                Run data is saved locally in <code>/home/bronzi/ProgProjekte/EIPH_WSI/MIDL2021/Registration/WandB/wandb/run-20210126_181207-lz245wa7</code><br/><br/>\n",
       "            "
      ],
      "text/plain": [
       "<IPython.core.display.HTML object>"
      ]
     },
     "metadata": {},
     "output_type": "display_data"
    },
    {
     "name": "stderr",
     "output_type": "stream",
     "text": [
      "  0%|          | 0/5 [00:00<?, ?it/s]\n",
      "  0%|          | 0/4 [00:00<?, ?it/s]\u001b[A\n",
      " 25%|██▌       | 1/4 [00:15<00:47, 15.92s/it]\u001b[A\n",
      " 75%|███████▌  | 3/4 [00:31<00:10, 10.05s/it]\u001b[A\n",
      "100%|██████████| 4/4 [00:45<00:00, 11.31s/it]\u001b[A\n",
      " 20%|██        | 1/5 [00:45<03:00, 45.24s/it]\n",
      "  0%|          | 0/4 [00:00<?, ?it/s]\u001b[A\n",
      " 25%|██▌       | 1/4 [00:13<00:41, 13.69s/it]\u001b[A\n",
      " 75%|███████▌  | 3/4 [00:27<00:08,  8.83s/it]\u001b[A\n",
      "100%|██████████| 4/4 [00:42<00:00, 10.58s/it]\u001b[A\n",
      " 40%|████      | 2/5 [01:27<02:10, 43.52s/it]\n",
      "  0%|          | 0/4 [00:00<?, ?it/s]\u001b[A\n",
      " 25%|██▌       | 1/4 [00:24<01:12, 24.15s/it]\u001b[A\n",
      " 75%|███████▌  | 3/4 [00:44<00:13, 13.64s/it]\u001b[A\n",
      "100%|██████████| 4/4 [00:59<00:00, 14.78s/it]\u001b[A\n",
      " 60%|██████    | 3/5 [02:26<01:41, 50.65s/it]\n",
      "  0%|          | 0/4 [00:00<?, ?it/s]\u001b[A\n",
      " 25%|██▌       | 1/4 [00:16<00:48, 16.22s/it]\u001b[A\n",
      " 75%|███████▌  | 3/4 [00:31<00:09,  9.91s/it]\u001b[A\n",
      "100%|██████████| 4/4 [00:45<00:00, 11.49s/it]\u001b[A\n",
      " 80%|████████  | 4/5 [03:12<00:48, 48.80s/it]\n",
      "  0%|          | 0/4 [00:00<?, ?it/s]\u001b[A\n",
      " 25%|██▌       | 1/4 [00:16<00:50, 16.97s/it]\u001b[A\n",
      " 75%|███████▌  | 3/4 [00:33<00:10, 10.62s/it]\u001b[A\n",
      "100%|██████████| 4/4 [00:49<00:00, 12.47s/it]\u001b[A\n",
      "100%|██████████| 5/5 [04:02<00:00, 48.50s/it]\n"
     ]
    },
    {
     "data": {
      "text/html": [
       "<br/>Waiting for W&B process to finish, PID 31113<br/>Program ended successfully."
      ],
      "text/plain": [
       "<IPython.core.display.HTML object>"
      ]
     },
     "metadata": {},
     "output_type": "display_data"
    },
    {
     "data": {
      "application/vnd.jupyter.widget-view+json": {
       "model_id": "",
       "version_major": 2,
       "version_minor": 0
      },
      "text/plain": [
       "VBox(children=(Label(value=' 0.00MB of 0.00MB uploaded (0.00MB deduped)\\r'), FloatProgress(value=1.0, max=1.0)…"
      ]
     },
     "metadata": {},
     "output_type": "display_data"
    },
    {
     "data": {
      "text/html": [
       "Find user logs for this run at: <code>/home/bronzi/ProgProjekte/EIPH_WSI/MIDL2021/Registration/WandB/wandb/run-20210126_181207-lz245wa7/logs/debug.log</code>"
      ],
      "text/plain": [
       "<IPython.core.display.HTML object>"
      ]
     },
     "metadata": {},
     "output_type": "display_data"
    },
    {
     "data": {
      "text/html": [
       "Find internal logs for this run at: <code>/home/bronzi/ProgProjekte/EIPH_WSI/MIDL2021/Registration/WandB/wandb/run-20210126_181207-lz245wa7/logs/debug-internal.log</code>"
      ],
      "text/plain": [
       "<IPython.core.display.HTML object>"
      ]
     },
     "metadata": {},
     "output_type": "display_data"
    },
    {
     "data": {
      "text/html": [
       "<h3>Run summary:</h3><br/><style>\n",
       "    table.wandb td:nth-child(1) { padding: 0 10px; text-align: right }\n",
       "    </style><table class=\"wandb\">\n",
       "<tr><td>dist_mean_image</td><td>26.9471</td></tr><tr><td>mean_reg_error_image</td><td>14.96117</td></tr><tr><td>step</td><td>14</td></tr><tr><td>_step</td><td>15</td></tr><tr><td>_runtime</td><td>244</td></tr><tr><td>_timestamp</td><td>1611681371</td></tr><tr><td>dist_mean</td><td>8.41711</td></tr><tr><td>dist_min</td><td>0.26434</td></tr><tr><td>dist_max</td><td>63.81232</td></tr><tr><td>mean_reg_error</td><td>28.00374</td></tr></table>"
      ],
      "text/plain": [
       "<IPython.core.display.HTML object>"
      ]
     },
     "metadata": {},
     "output_type": "display_data"
    },
    {
     "data": {
      "text/html": [
       "<h3>Run history:</h3><br/><style>\n",
       "    table.wandb td:nth-child(1) { padding: 0 10px; text-align: right }\n",
       "    </style><table class=\"wandb\">\n",
       "<tr><td>dist_mean_image</td><td>▂▂▂▂▅▄▁▂▂▃█▅▂▁▄</td></tr><tr><td>mean_reg_error_image</td><td>▁▁▄▁▂▂▁▁▂▂▄█▁▁▂</td></tr><tr><td>step</td><td>▁▁▂▃▃▃▄▅▅▅▆▇▇▇█</td></tr><tr><td>_step</td><td>▁▁▂▂▃▃▄▄▅▅▆▆▇▇██</td></tr><tr><td>_runtime</td><td>▁▁▂▂▃▃▄▅▅▆▆▆▇███</td></tr><tr><td>_timestamp</td><td>▁▁▂▂▃▃▄▅▅▆▆▆▇███</td></tr><tr><td>dist_mean</td><td>▁</td></tr><tr><td>dist_min</td><td>▁</td></tr><tr><td>dist_max</td><td>▁</td></tr><tr><td>mean_reg_error</td><td>▁</td></tr></table><br/>"
      ],
      "text/plain": [
       "<IPython.core.display.HTML object>"
      ]
     },
     "metadata": {},
     "output_type": "display_data"
    },
    {
     "data": {
      "text/html": [
       "Synced 5 W&B file(s), 0 media file(s), 0 artifact file(s) and 0 other file(s)"
      ],
      "text/plain": [
       "<IPython.core.display.HTML object>"
      ]
     },
     "metadata": {},
     "output_type": "display_data"
    },
    {
     "data": {
      "text/html": [
       "\n",
       "                    <br/>Synced <strong style=\"color:#cdcd00\">sparkling-sweep-5</strong>: <a href=\"https://wandb.ai/christianml/quadtree/runs/lz245wa7\" target=\"_blank\">https://wandb.ai/christianml/quadtree/runs/lz245wa7</a><br/>\n",
       "                "
      ],
      "text/plain": [
       "<IPython.core.display.HTML object>"
      ]
     },
     "metadata": {},
     "output_type": "display_data"
    },
    {
     "name": "stderr",
     "output_type": "stream",
     "text": [
      "\u001b[34m\u001b[1mwandb\u001b[0m: Agent Starting Run: pqd6q4bf with config:\n",
      "\u001b[34m\u001b[1mwandb\u001b[0m: \tcrossCheck: False\n",
      "\u001b[34m\u001b[1mwandb\u001b[0m: \tfilter_outliner: False\n",
      "\u001b[34m\u001b[1mwandb\u001b[0m: \tflann: False\n",
      "\u001b[34m\u001b[1mwandb\u001b[0m: \thomography: False\n",
      "\u001b[34m\u001b[1mwandb\u001b[0m: \timage_type: Cyto\n",
      "\u001b[34m\u001b[1mwandb\u001b[0m: \tmaxFeatures: 2048\n",
      "\u001b[34m\u001b[1mwandb\u001b[0m: \tpoint_extractor: sift\n",
      "\u001b[34m\u001b[1mwandb\u001b[0m: \tratio: 0.4\n",
      "\u001b[34m\u001b[1mwandb\u001b[0m: \tsource_scanner: Aperio\n",
      "\u001b[34m\u001b[1mwandb\u001b[0m: \ttarget_depth: 0\n",
      "\u001b[34m\u001b[1mwandb\u001b[0m: \tthumbnail_size: [1024, 1024]\n",
      "\u001b[34m\u001b[1mwandb\u001b[0m: \tuse_gray: False\n"
     ]
    },
    {
     "data": {
      "text/html": [
       "\n",
       "                Tracking run with wandb version 0.10.15<br/>\n",
       "                Syncing run <strong style=\"color:#cdcd00\">splendid-sweep-6</strong> to <a href=\"https://wandb.ai\" target=\"_blank\">Weights & Biases</a> <a href=\"https://docs.wandb.com/integrations/jupyter.html\" target=\"_blank\">(Documentation)</a>.<br/>\n",
       "                Project page: <a href=\"https://wandb.ai/christianml/quadtree\" target=\"_blank\">https://wandb.ai/christianml/quadtree</a><br/>\n",
       "                Sweep page: <a href=\"https://wandb.ai/christianml/quadtree/sweeps/e22y6790\" target=\"_blank\">https://wandb.ai/christianml/quadtree/sweeps/e22y6790</a><br/>\n",
       "Run page: <a href=\"https://wandb.ai/christianml/quadtree/runs/pqd6q4bf\" target=\"_blank\">https://wandb.ai/christianml/quadtree/runs/pqd6q4bf</a><br/>\n",
       "                Run data is saved locally in <code>/home/bronzi/ProgProjekte/EIPH_WSI/MIDL2021/Registration/WandB/wandb/run-20210126_181615-pqd6q4bf</code><br/><br/>\n",
       "            "
      ],
      "text/plain": [
       "<IPython.core.display.HTML object>"
      ]
     },
     "metadata": {},
     "output_type": "display_data"
    },
    {
     "name": "stderr",
     "output_type": "stream",
     "text": [
      "  0%|          | 0/5 [00:00<?, ?it/s]\n",
      "  0%|          | 0/4 [00:00<?, ?it/s]\u001b[A\n",
      " 25%|██▌       | 1/4 [00:01<00:03,  1.15s/it]\u001b[A\n",
      " 75%|███████▌  | 3/4 [00:03<00:01,  1.13s/it]\u001b[A\n",
      "  0%|          | 0/5 [00:03<?, ?it/s]\n"
     ]
    },
    {
     "data": {
      "text/html": [
       "<br/>Waiting for W&B process to finish, PID 31538<br/>Program failed with code 1.  Press ctrl-c to abort syncing."
      ],
      "text/plain": [
       "<IPython.core.display.HTML object>"
      ]
     },
     "metadata": {},
     "output_type": "display_data"
    },
    {
     "data": {
      "application/vnd.jupyter.widget-view+json": {
       "model_id": "",
       "version_major": 2,
       "version_minor": 0
      },
      "text/plain": [
       "VBox(children=(Label(value=' 0.00MB of 0.00MB uploaded (0.00MB deduped)\\r'), FloatProgress(value=1.0, max=1.0)…"
      ]
     },
     "metadata": {},
     "output_type": "display_data"
    },
    {
     "data": {
      "text/html": [
       "Find user logs for this run at: <code>/home/bronzi/ProgProjekte/EIPH_WSI/MIDL2021/Registration/WandB/wandb/run-20210126_181615-pqd6q4bf/logs/debug.log</code>"
      ],
      "text/plain": [
       "<IPython.core.display.HTML object>"
      ]
     },
     "metadata": {},
     "output_type": "display_data"
    },
    {
     "data": {
      "text/html": [
       "Find internal logs for this run at: <code>/home/bronzi/ProgProjekte/EIPH_WSI/MIDL2021/Registration/WandB/wandb/run-20210126_181615-pqd6q4bf/logs/debug-internal.log</code>"
      ],
      "text/plain": [
       "<IPython.core.display.HTML object>"
      ]
     },
     "metadata": {},
     "output_type": "display_data"
    },
    {
     "data": {
      "text/html": [
       "<h3>Run summary:</h3><br/><style>\n",
       "    table.wandb td:nth-child(1) { padding: 0 10px; text-align: right }\n",
       "    </style><table class=\"wandb\">\n",
       "<tr><td>dist_mean_image</td><td>30.42605</td></tr><tr><td>mean_reg_error_image</td><td>5.92341</td></tr><tr><td>step</td><td>1</td></tr><tr><td>_step</td><td>1</td></tr><tr><td>_runtime</td><td>3</td></tr><tr><td>_timestamp</td><td>1611681378</td></tr></table>"
      ],
      "text/plain": [
       "<IPython.core.display.HTML object>"
      ]
     },
     "metadata": {},
     "output_type": "display_data"
    },
    {
     "data": {
      "text/html": [
       "<h3>Run history:</h3><br/><style>\n",
       "    table.wandb td:nth-child(1) { padding: 0 10px; text-align: right }\n",
       "    </style><table class=\"wandb\">\n",
       "<tr><td>dist_mean_image</td><td>▁█</td></tr><tr><td>mean_reg_error_image</td><td>▁█</td></tr><tr><td>step</td><td>▁█</td></tr><tr><td>_step</td><td>▁█</td></tr><tr><td>_runtime</td><td>▁█</td></tr><tr><td>_timestamp</td><td>▁█</td></tr></table><br/>"
      ],
      "text/plain": [
       "<IPython.core.display.HTML object>"
      ]
     },
     "metadata": {},
     "output_type": "display_data"
    },
    {
     "data": {
      "text/html": [
       "Synced 5 W&B file(s), 0 media file(s), 0 artifact file(s) and 0 other file(s)"
      ],
      "text/plain": [
       "<IPython.core.display.HTML object>"
      ]
     },
     "metadata": {},
     "output_type": "display_data"
    },
    {
     "data": {
      "text/html": [
       "\n",
       "                    <br/>Synced <strong style=\"color:#cdcd00\">splendid-sweep-6</strong>: <a href=\"https://wandb.ai/christianml/quadtree/runs/pqd6q4bf\" target=\"_blank\">https://wandb.ai/christianml/quadtree/runs/pqd6q4bf</a><br/>\n",
       "                "
      ],
      "text/plain": [
       "<IPython.core.display.HTML object>"
      ]
     },
     "metadata": {},
     "output_type": "display_data"
    },
    {
     "name": "stderr",
     "output_type": "stream",
     "text": [
      "Run pqd6q4bf errored: TypeError(\"'NoneType' object is not subscriptable\")\n",
      "\u001b[34m\u001b[1mwandb\u001b[0m: \u001b[32m\u001b[41mERROR\u001b[0m Run pqd6q4bf errored: TypeError(\"'NoneType' object is not subscriptable\")\n",
      "\u001b[34m\u001b[1mwandb\u001b[0m: Agent Starting Run: vhn4ay1u with config:\n",
      "\u001b[34m\u001b[1mwandb\u001b[0m: \tcrossCheck: False\n",
      "\u001b[34m\u001b[1mwandb\u001b[0m: \tfilter_outliner: False\n",
      "\u001b[34m\u001b[1mwandb\u001b[0m: \tflann: False\n",
      "\u001b[34m\u001b[1mwandb\u001b[0m: \thomography: False\n",
      "\u001b[34m\u001b[1mwandb\u001b[0m: \timage_type: Cyto\n",
      "\u001b[34m\u001b[1mwandb\u001b[0m: \tmaxFeatures: 2048\n",
      "\u001b[34m\u001b[1mwandb\u001b[0m: \tpoint_extractor: sift\n",
      "\u001b[34m\u001b[1mwandb\u001b[0m: \tratio: 0.9\n",
      "\u001b[34m\u001b[1mwandb\u001b[0m: \tsource_scanner: Aperio\n",
      "\u001b[34m\u001b[1mwandb\u001b[0m: \ttarget_depth: 0\n",
      "\u001b[34m\u001b[1mwandb\u001b[0m: \tthumbnail_size: [1024, 1024]\n",
      "\u001b[34m\u001b[1mwandb\u001b[0m: \tuse_gray: True\n"
     ]
    },
    {
     "data": {
      "text/html": [
       "\n",
       "                Tracking run with wandb version 0.10.15<br/>\n",
       "                Syncing run <strong style=\"color:#cdcd00\">wandering-sweep-7</strong> to <a href=\"https://wandb.ai\" target=\"_blank\">Weights & Biases</a> <a href=\"https://docs.wandb.com/integrations/jupyter.html\" target=\"_blank\">(Documentation)</a>.<br/>\n",
       "                Project page: <a href=\"https://wandb.ai/christianml/quadtree\" target=\"_blank\">https://wandb.ai/christianml/quadtree</a><br/>\n",
       "                Sweep page: <a href=\"https://wandb.ai/christianml/quadtree/sweeps/e22y6790\" target=\"_blank\">https://wandb.ai/christianml/quadtree/sweeps/e22y6790</a><br/>\n",
       "Run page: <a href=\"https://wandb.ai/christianml/quadtree/runs/vhn4ay1u\" target=\"_blank\">https://wandb.ai/christianml/quadtree/runs/vhn4ay1u</a><br/>\n",
       "                Run data is saved locally in <code>/home/bronzi/ProgProjekte/EIPH_WSI/MIDL2021/Registration/WandB/wandb/run-20210126_181623-vhn4ay1u</code><br/><br/>\n",
       "            "
      ],
      "text/plain": [
       "<IPython.core.display.HTML object>"
      ]
     },
     "metadata": {},
     "output_type": "display_data"
    },
    {
     "name": "stderr",
     "output_type": "stream",
     "text": [
      "  0%|          | 0/5 [00:00<?, ?it/s]\n",
      "  0%|          | 0/4 [00:00<?, ?it/s]\u001b[A\n",
      " 25%|██▌       | 1/4 [00:03<00:09,  3.20s/it]\u001b[A\n",
      " 75%|███████▌  | 3/4 [00:07<00:02,  2.44s/it]\u001b[A\n",
      "100%|██████████| 4/4 [00:09<00:00,  2.31s/it]\u001b[A\n",
      " 20%|██        | 1/5 [00:09<00:37,  9.25s/it]\n",
      "  0%|          | 0/4 [00:00<?, ?it/s]\u001b[A\n",
      " 25%|██▌       | 1/4 [00:02<00:06,  2.25s/it]\u001b[A\n",
      " 75%|███████▌  | 3/4 [00:04<00:01,  1.55s/it]\u001b[A\n",
      "100%|██████████| 4/4 [00:06<00:00,  1.58s/it]\u001b[A\n",
      " 40%|████      | 2/5 [00:15<00:22,  7.53s/it]\n",
      "  0%|          | 0/4 [00:00<?, ?it/s]\u001b[A\n",
      " 25%|██▌       | 1/4 [00:04<00:13,  4.59s/it]\u001b[A\n",
      " 75%|███████▌  | 3/4 [00:09<00:02,  2.88s/it]\u001b[A\n",
      "100%|██████████| 4/4 [00:11<00:00,  2.95s/it]\u001b[A\n",
      " 60%|██████    | 3/5 [00:27<00:18,  9.47s/it]\n",
      "  0%|          | 0/4 [00:00<?, ?it/s]\u001b[A\n",
      " 25%|██▌       | 1/4 [00:01<00:03,  1.04s/it]\u001b[A\n",
      " 75%|███████▌  | 3/4 [00:02<00:00,  1.15it/s]\u001b[A\n",
      "100%|██████████| 4/4 [00:03<00:00,  1.18it/s]\u001b[A\n",
      " 80%|████████  | 4/5 [00:30<00:07,  7.07s/it]\n",
      "  0%|          | 0/4 [00:00<?, ?it/s]\u001b[A\n",
      " 25%|██▌       | 1/4 [00:02<00:07,  2.39s/it]\u001b[A\n",
      " 75%|███████▌  | 3/4 [00:05<00:01,  1.71s/it]\u001b[A\n",
      "100%|██████████| 4/4 [00:07<00:00,  1.86s/it]\u001b[A\n",
      "100%|██████████| 5/5 [00:38<00:00,  7.64s/it]\n"
     ]
    },
    {
     "data": {
      "text/html": [
       "<br/>Waiting for W&B process to finish, PID 31649<br/>Program ended successfully."
      ],
      "text/plain": [
       "<IPython.core.display.HTML object>"
      ]
     },
     "metadata": {},
     "output_type": "display_data"
    },
    {
     "data": {
      "application/vnd.jupyter.widget-view+json": {
       "model_id": "",
       "version_major": 2,
       "version_minor": 0
      },
      "text/plain": [
       "VBox(children=(Label(value=' 0.00MB of 0.00MB uploaded (0.00MB deduped)\\r'), FloatProgress(value=1.0, max=1.0)…"
      ]
     },
     "metadata": {},
     "output_type": "display_data"
    },
    {
     "data": {
      "text/html": [
       "Find user logs for this run at: <code>/home/bronzi/ProgProjekte/EIPH_WSI/MIDL2021/Registration/WandB/wandb/run-20210126_181623-vhn4ay1u/logs/debug.log</code>"
      ],
      "text/plain": [
       "<IPython.core.display.HTML object>"
      ]
     },
     "metadata": {},
     "output_type": "display_data"
    },
    {
     "data": {
      "text/html": [
       "Find internal logs for this run at: <code>/home/bronzi/ProgProjekte/EIPH_WSI/MIDL2021/Registration/WandB/wandb/run-20210126_181623-vhn4ay1u/logs/debug-internal.log</code>"
      ],
      "text/plain": [
       "<IPython.core.display.HTML object>"
      ]
     },
     "metadata": {},
     "output_type": "display_data"
    },
    {
     "data": {
      "text/html": [
       "<h3>Run summary:</h3><br/><style>\n",
       "    table.wandb td:nth-child(1) { padding: 0 10px; text-align: right }\n",
       "    </style><table class=\"wandb\">\n",
       "<tr><td>dist_mean_image</td><td>38.85395</td></tr><tr><td>mean_reg_error_image</td><td>6373.07629</td></tr><tr><td>step</td><td>14</td></tr><tr><td>_step</td><td>15</td></tr><tr><td>_runtime</td><td>39</td></tr><tr><td>_timestamp</td><td>1611681422</td></tr><tr><td>dist_mean</td><td>125.45839</td></tr><tr><td>dist_min</td><td>0.65812</td></tr><tr><td>dist_max</td><td>3858.84867</td></tr><tr><td>mean_reg_error</td><td>4313.90214</td></tr></table>"
      ],
      "text/plain": [
       "<IPython.core.display.HTML object>"
      ]
     },
     "metadata": {},
     "output_type": "display_data"
    },
    {
     "data": {
      "text/html": [
       "<h3>Run history:</h3><br/><style>\n",
       "    table.wandb td:nth-child(1) { padding: 0 10px; text-align: right }\n",
       "    </style><table class=\"wandb\">\n",
       "<tr><td>dist_mean_image</td><td>▁▁█▁▁▁▁▁▁▁▁▁▁▁▁</td></tr><tr><td>mean_reg_error_image</td><td>▂▃█▁▁▃▁▂▃▄▄▆▂▃▅</td></tr><tr><td>step</td><td>▁▁▂▃▃▃▄▅▅▅▆▇▇▇█</td></tr><tr><td>_step</td><td>▁▁▂▂▃▃▄▄▅▅▆▆▇▇██</td></tr><tr><td>_runtime</td><td>▁▂▂▃▃▃▄▅▆▆▆▇▇███</td></tr><tr><td>_timestamp</td><td>▁▂▂▃▃▃▄▅▆▆▆▇▇███</td></tr><tr><td>dist_mean</td><td>▁</td></tr><tr><td>dist_min</td><td>▁</td></tr><tr><td>dist_max</td><td>▁</td></tr><tr><td>mean_reg_error</td><td>▁</td></tr></table><br/>"
      ],
      "text/plain": [
       "<IPython.core.display.HTML object>"
      ]
     },
     "metadata": {},
     "output_type": "display_data"
    },
    {
     "data": {
      "text/html": [
       "Synced 5 W&B file(s), 0 media file(s), 0 artifact file(s) and 0 other file(s)"
      ],
      "text/plain": [
       "<IPython.core.display.HTML object>"
      ]
     },
     "metadata": {},
     "output_type": "display_data"
    },
    {
     "data": {
      "text/html": [
       "\n",
       "                    <br/>Synced <strong style=\"color:#cdcd00\">wandering-sweep-7</strong>: <a href=\"https://wandb.ai/christianml/quadtree/runs/vhn4ay1u\" target=\"_blank\">https://wandb.ai/christianml/quadtree/runs/vhn4ay1u</a><br/>\n",
       "                "
      ],
      "text/plain": [
       "<IPython.core.display.HTML object>"
      ]
     },
     "metadata": {},
     "output_type": "display_data"
    },
    {
     "name": "stderr",
     "output_type": "stream",
     "text": [
      "\u001b[34m\u001b[1mwandb\u001b[0m: Agent Starting Run: 9oo90zms with config:\n",
      "\u001b[34m\u001b[1mwandb\u001b[0m: \tcrossCheck: False\n",
      "\u001b[34m\u001b[1mwandb\u001b[0m: \tfilter_outliner: False\n",
      "\u001b[34m\u001b[1mwandb\u001b[0m: \tflann: True\n",
      "\u001b[34m\u001b[1mwandb\u001b[0m: \thomography: True\n",
      "\u001b[34m\u001b[1mwandb\u001b[0m: \timage_type: Cyto\n",
      "\u001b[34m\u001b[1mwandb\u001b[0m: \tmaxFeatures: 64\n",
      "\u001b[34m\u001b[1mwandb\u001b[0m: \tpoint_extractor: sift\n",
      "\u001b[34m\u001b[1mwandb\u001b[0m: \tratio: 0.7\n",
      "\u001b[34m\u001b[1mwandb\u001b[0m: \tsource_scanner: Aperio\n",
      "\u001b[34m\u001b[1mwandb\u001b[0m: \ttarget_depth: 0\n",
      "\u001b[34m\u001b[1mwandb\u001b[0m: \tthumbnail_size: [1024, 1024]\n",
      "\u001b[34m\u001b[1mwandb\u001b[0m: \tuse_gray: True\n"
     ]
    },
    {
     "data": {
      "text/html": [
       "\n",
       "                Tracking run with wandb version 0.10.15<br/>\n",
       "                Syncing run <strong style=\"color:#cdcd00\">whole-sweep-8</strong> to <a href=\"https://wandb.ai\" target=\"_blank\">Weights & Biases</a> <a href=\"https://docs.wandb.com/integrations/jupyter.html\" target=\"_blank\">(Documentation)</a>.<br/>\n",
       "                Project page: <a href=\"https://wandb.ai/christianml/quadtree\" target=\"_blank\">https://wandb.ai/christianml/quadtree</a><br/>\n",
       "                Sweep page: <a href=\"https://wandb.ai/christianml/quadtree/sweeps/e22y6790\" target=\"_blank\">https://wandb.ai/christianml/quadtree/sweeps/e22y6790</a><br/>\n",
       "Run page: <a href=\"https://wandb.ai/christianml/quadtree/runs/9oo90zms\" target=\"_blank\">https://wandb.ai/christianml/quadtree/runs/9oo90zms</a><br/>\n",
       "                Run data is saved locally in <code>/home/bronzi/ProgProjekte/EIPH_WSI/MIDL2021/Registration/WandB/wandb/run-20210126_181706-9oo90zms</code><br/><br/>\n",
       "            "
      ],
      "text/plain": [
       "<IPython.core.display.HTML object>"
      ]
     },
     "metadata": {},
     "output_type": "display_data"
    },
    {
     "name": "stderr",
     "output_type": "stream",
     "text": [
      "  0%|          | 0/5 [00:00<?, ?it/s]\n",
      "  0%|          | 0/4 [00:00<?, ?it/s]\u001b[A\n",
      " 25%|██▌       | 1/4 [00:00<00:02,  1.39it/s]\u001b[A\n",
      " 75%|███████▌  | 3/4 [00:02<00:00,  1.43it/s]\u001b[A\n",
      "100%|██████████| 4/4 [00:02<00:00,  1.46it/s]\u001b[A\n",
      " 20%|██        | 1/5 [00:02<00:10,  2.74s/it]\n",
      "  0%|          | 0/4 [00:00<?, ?it/s]\u001b[A\n",
      " 25%|██▌       | 1/4 [00:00<00:02,  1.33it/s]\u001b[A\n",
      " 75%|███████▌  | 3/4 [00:01<00:00,  1.53it/s]\u001b[A\n",
      "100%|██████████| 4/4 [00:02<00:00,  1.55it/s]\u001b[A\n",
      " 40%|████      | 2/5 [00:05<00:07,  2.65s/it]\n",
      "  0%|          | 0/4 [00:00<?, ?it/s]\u001b[A\n",
      " 25%|██▌       | 1/4 [00:00<00:01,  1.58it/s]\u001b[A\n",
      " 75%|███████▌  | 3/4 [00:02<00:00,  1.29it/s]\u001b[A\n",
      "100%|██████████| 4/4 [00:02<00:00,  1.35it/s]\u001b[A\n",
      " 60%|██████    | 3/5 [00:08<00:05,  2.79s/it]\n",
      "  0%|          | 0/4 [00:00<?, ?it/s]\u001b[A\n",
      " 25%|██▌       | 1/4 [00:00<00:02,  1.28it/s]\u001b[A\n",
      " 75%|███████▌  | 3/4 [00:02<00:00,  1.37it/s]\u001b[A\n",
      "100%|██████████| 4/4 [00:02<00:00,  1.41it/s]\u001b[A\n",
      " 80%|████████  | 4/5 [00:11<00:02,  2.82s/it]\n",
      "  0%|          | 0/4 [00:00<?, ?it/s]\u001b[A\n",
      " 25%|██▌       | 1/4 [00:00<00:02,  1.32it/s]\u001b[A\n",
      " 75%|███████▌  | 3/4 [00:02<00:00,  1.46it/s]\u001b[A\n",
      "100%|██████████| 4/4 [00:02<00:00,  1.47it/s]\u001b[A\n",
      "100%|██████████| 5/5 [00:13<00:00,  2.78s/it]\n"
     ]
    },
    {
     "data": {
      "text/html": [
       "<br/>Waiting for W&B process to finish, PID 31813<br/>Program ended successfully."
      ],
      "text/plain": [
       "<IPython.core.display.HTML object>"
      ]
     },
     "metadata": {},
     "output_type": "display_data"
    },
    {
     "data": {
      "application/vnd.jupyter.widget-view+json": {
       "model_id": "",
       "version_major": 2,
       "version_minor": 0
      },
      "text/plain": [
       "VBox(children=(Label(value=' 0.00MB of 0.00MB uploaded (0.00MB deduped)\\r'), FloatProgress(value=1.0, max=1.0)…"
      ]
     },
     "metadata": {},
     "output_type": "display_data"
    },
    {
     "data": {
      "text/html": [
       "Find user logs for this run at: <code>/home/bronzi/ProgProjekte/EIPH_WSI/MIDL2021/Registration/WandB/wandb/run-20210126_181706-9oo90zms/logs/debug.log</code>"
      ],
      "text/plain": [
       "<IPython.core.display.HTML object>"
      ]
     },
     "metadata": {},
     "output_type": "display_data"
    },
    {
     "data": {
      "text/html": [
       "Find internal logs for this run at: <code>/home/bronzi/ProgProjekte/EIPH_WSI/MIDL2021/Registration/WandB/wandb/run-20210126_181706-9oo90zms/logs/debug-internal.log</code>"
      ],
      "text/plain": [
       "<IPython.core.display.HTML object>"
      ]
     },
     "metadata": {},
     "output_type": "display_data"
    },
    {
     "data": {
      "text/html": [
       "<h3>Run summary:</h3><br/><style>\n",
       "    table.wandb td:nth-child(1) { padding: 0 10px; text-align: right }\n",
       "    </style><table class=\"wandb\">\n",
       "<tr><td>dist_mean_image</td><td>47.40735</td></tr><tr><td>mean_reg_error_image</td><td>648.72731</td></tr><tr><td>step</td><td>14</td></tr><tr><td>_step</td><td>15</td></tr><tr><td>_runtime</td><td>15</td></tr><tr><td>_timestamp</td><td>1611681441</td></tr><tr><td>dist_mean</td><td>17.59383</td></tr><tr><td>dist_min</td><td>0.97447</td></tr><tr><td>dist_max</td><td>112.14681</td></tr><tr><td>mean_reg_error</td><td>473.0486</td></tr></table>"
      ],
      "text/plain": [
       "<IPython.core.display.HTML object>"
      ]
     },
     "metadata": {},
     "output_type": "display_data"
    },
    {
     "data": {
      "text/html": [
       "<h3>Run history:</h3><br/><style>\n",
       "    table.wandb td:nth-child(1) { padding: 0 10px; text-align: right }\n",
       "    </style><table class=\"wandb\">\n",
       "<tr><td>dist_mean_image</td><td>▁▂█▁▂▃▁▃▁▂▄▄▂▂▃</td></tr><tr><td>mean_reg_error_image</td><td>▁▂▇▁▁▂▁▁▁▅▅█▁▁▄</td></tr><tr><td>step</td><td>▁▁▂▃▃▃▄▅▅▅▆▇▇▇█</td></tr><tr><td>_step</td><td>▁▁▂▂▃▃▄▄▅▅▆▆▇▇██</td></tr><tr><td>_runtime</td><td>▁▂▂▂▃▃▄▄▅▅▆▆▇▇██</td></tr><tr><td>_timestamp</td><td>▁▂▂▂▃▃▄▄▅▅▆▆▇▇██</td></tr><tr><td>dist_mean</td><td>▁</td></tr><tr><td>dist_min</td><td>▁</td></tr><tr><td>dist_max</td><td>▁</td></tr><tr><td>mean_reg_error</td><td>▁</td></tr></table><br/>"
      ],
      "text/plain": [
       "<IPython.core.display.HTML object>"
      ]
     },
     "metadata": {},
     "output_type": "display_data"
    },
    {
     "data": {
      "text/html": [
       "Synced 5 W&B file(s), 0 media file(s), 0 artifact file(s) and 0 other file(s)"
      ],
      "text/plain": [
       "<IPython.core.display.HTML object>"
      ]
     },
     "metadata": {},
     "output_type": "display_data"
    },
    {
     "data": {
      "text/html": [
       "\n",
       "                    <br/>Synced <strong style=\"color:#cdcd00\">whole-sweep-8</strong>: <a href=\"https://wandb.ai/christianml/quadtree/runs/9oo90zms\" target=\"_blank\">https://wandb.ai/christianml/quadtree/runs/9oo90zms</a><br/>\n",
       "                "
      ],
      "text/plain": [
       "<IPython.core.display.HTML object>"
      ]
     },
     "metadata": {},
     "output_type": "display_data"
    },
    {
     "name": "stderr",
     "output_type": "stream",
     "text": [
      "\u001b[34m\u001b[1mwandb\u001b[0m: Agent Starting Run: qs5fx9l0 with config:\n",
      "\u001b[34m\u001b[1mwandb\u001b[0m: \tcrossCheck: False\n",
      "\u001b[34m\u001b[1mwandb\u001b[0m: \tfilter_outliner: False\n",
      "\u001b[34m\u001b[1mwandb\u001b[0m: \tflann: False\n",
      "\u001b[34m\u001b[1mwandb\u001b[0m: \thomography: True\n",
      "\u001b[34m\u001b[1mwandb\u001b[0m: \timage_type: Cyto\n",
      "\u001b[34m\u001b[1mwandb\u001b[0m: \tmaxFeatures: 1024\n",
      "\u001b[34m\u001b[1mwandb\u001b[0m: \tpoint_extractor: sift\n",
      "\u001b[34m\u001b[1mwandb\u001b[0m: \tratio: 0.9\n",
      "\u001b[34m\u001b[1mwandb\u001b[0m: \tsource_scanner: Aperio\n",
      "\u001b[34m\u001b[1mwandb\u001b[0m: \ttarget_depth: 0\n",
      "\u001b[34m\u001b[1mwandb\u001b[0m: \tthumbnail_size: [2048, 2048]\n",
      "\u001b[34m\u001b[1mwandb\u001b[0m: \tuse_gray: False\n"
     ]
    },
    {
     "data": {
      "text/html": [
       "\n",
       "                Tracking run with wandb version 0.10.15<br/>\n",
       "                Syncing run <strong style=\"color:#cdcd00\">royal-sweep-9</strong> to <a href=\"https://wandb.ai\" target=\"_blank\">Weights & Biases</a> <a href=\"https://docs.wandb.com/integrations/jupyter.html\" target=\"_blank\">(Documentation)</a>.<br/>\n",
       "                Project page: <a href=\"https://wandb.ai/christianml/quadtree\" target=\"_blank\">https://wandb.ai/christianml/quadtree</a><br/>\n",
       "                Sweep page: <a href=\"https://wandb.ai/christianml/quadtree/sweeps/e22y6790\" target=\"_blank\">https://wandb.ai/christianml/quadtree/sweeps/e22y6790</a><br/>\n",
       "Run page: <a href=\"https://wandb.ai/christianml/quadtree/runs/qs5fx9l0\" target=\"_blank\">https://wandb.ai/christianml/quadtree/runs/qs5fx9l0</a><br/>\n",
       "                Run data is saved locally in <code>/home/bronzi/ProgProjekte/EIPH_WSI/MIDL2021/Registration/WandB/wandb/run-20210126_181725-qs5fx9l0</code><br/><br/>\n",
       "            "
      ],
      "text/plain": [
       "<IPython.core.display.HTML object>"
      ]
     },
     "metadata": {},
     "output_type": "display_data"
    },
    {
     "name": "stderr",
     "output_type": "stream",
     "text": [
      "  0%|          | 0/5 [00:00<?, ?it/s]\n",
      "  0%|          | 0/4 [00:00<?, ?it/s]\u001b[A\n",
      " 25%|██▌       | 1/4 [00:07<00:23,  7.76s/it]\u001b[A\n",
      " 75%|███████▌  | 3/4 [00:16<00:05,  5.22s/it]\u001b[A\n",
      "100%|██████████| 4/4 [00:24<00:00,  6.03s/it]\u001b[A\n",
      " 20%|██        | 1/5 [00:24<01:36, 24.12s/it]\n",
      "  0%|          | 0/4 [00:00<?, ?it/s]\u001b[A\n",
      " 25%|██▌       | 1/4 [00:01<00:04,  1.59s/it]\u001b[A\n",
      " 75%|███████▌  | 3/4 [00:04<00:01,  1.36s/it]\u001b[A\n",
      "100%|██████████| 4/4 [00:05<00:00,  1.47s/it]\u001b[A\n",
      " 40%|████      | 2/5 [00:29<00:40, 13.38s/it]\n",
      "  0%|          | 0/4 [00:00<?, ?it/s]\u001b[A\n",
      " 25%|██▌       | 1/4 [00:11<00:34, 11.59s/it]\u001b[A\n",
      " 75%|███████▌  | 3/4 [00:21<00:06,  6.54s/it]\u001b[A\n",
      "100%|██████████| 4/4 [00:29<00:00,  7.40s/it]\u001b[A\n",
      " 60%|██████    | 3/5 [00:59<00:41, 20.79s/it]\n",
      "  0%|          | 0/4 [00:00<?, ?it/s]\u001b[A\n",
      " 25%|██▌       | 1/4 [00:01<00:05,  1.71s/it]\u001b[A\n",
      " 75%|███████▌  | 3/4 [00:04<00:01,  1.49s/it]\u001b[A\n",
      "100%|██████████| 4/4 [00:06<00:00,  1.52s/it]\u001b[A\n",
      " 80%|████████  | 4/5 [01:05<00:14, 14.98s/it]\n",
      "  0%|          | 0/4 [00:00<?, ?it/s]\u001b[A\n",
      " 25%|██▌       | 1/4 [00:09<00:27,  9.04s/it]\u001b[A\n",
      " 75%|███████▌  | 3/4 [00:19<00:06,  6.29s/it]\u001b[A\n",
      "100%|██████████| 4/4 [00:28<00:00,  7.08s/it]\u001b[A\n",
      "100%|██████████| 5/5 [01:33<00:00, 18.79s/it]\n"
     ]
    },
    {
     "data": {
      "text/html": [
       "<br/>Waiting for W&B process to finish, PID 31896<br/>Program ended successfully."
      ],
      "text/plain": [
       "<IPython.core.display.HTML object>"
      ]
     },
     "metadata": {},
     "output_type": "display_data"
    },
    {
     "data": {
      "application/vnd.jupyter.widget-view+json": {
       "model_id": "",
       "version_major": 2,
       "version_minor": 0
      },
      "text/plain": [
       "VBox(children=(Label(value=' 0.00MB of 0.00MB uploaded (0.00MB deduped)\\r'), FloatProgress(value=1.0, max=1.0)…"
      ]
     },
     "metadata": {},
     "output_type": "display_data"
    },
    {
     "data": {
      "text/html": [
       "Find user logs for this run at: <code>/home/bronzi/ProgProjekte/EIPH_WSI/MIDL2021/Registration/WandB/wandb/run-20210126_181725-qs5fx9l0/logs/debug.log</code>"
      ],
      "text/plain": [
       "<IPython.core.display.HTML object>"
      ]
     },
     "metadata": {},
     "output_type": "display_data"
    },
    {
     "data": {
      "text/html": [
       "Find internal logs for this run at: <code>/home/bronzi/ProgProjekte/EIPH_WSI/MIDL2021/Registration/WandB/wandb/run-20210126_181725-qs5fx9l0/logs/debug-internal.log</code>"
      ],
      "text/plain": [
       "<IPython.core.display.HTML object>"
      ]
     },
     "metadata": {},
     "output_type": "display_data"
    },
    {
     "data": {
      "text/html": [
       "<h3>Run summary:</h3><br/><style>\n",
       "    table.wandb td:nth-child(1) { padding: 0 10px; text-align: right }\n",
       "    </style><table class=\"wandb\">\n",
       "<tr><td>dist_mean_image</td><td>28.12084</td></tr><tr><td>mean_reg_error_image</td><td>5709.00211</td></tr><tr><td>step</td><td>14</td></tr><tr><td>_step</td><td>15</td></tr><tr><td>_runtime</td><td>94</td></tr><tr><td>_timestamp</td><td>1611681539</td></tr><tr><td>dist_mean</td><td>10.75778</td></tr><tr><td>dist_min</td><td>0.50928</td></tr><tr><td>dist_max</td><td>73.37777</td></tr><tr><td>mean_reg_error</td><td>4200.52429</td></tr></table>"
      ],
      "text/plain": [
       "<IPython.core.display.HTML object>"
      ]
     },
     "metadata": {},
     "output_type": "display_data"
    },
    {
     "data": {
      "text/html": [
       "<h3>Run history:</h3><br/><style>\n",
       "    table.wandb td:nth-child(1) { padding: 0 10px; text-align: right }\n",
       "    </style><table class=\"wandb\">\n",
       "<tr><td>dist_mean_image</td><td>▁▂▃▂▄▃▁▂▂▃█▄▁▁▃</td></tr><tr><td>mean_reg_error_image</td><td>▂▂▇▂▃▄▁▂▃▅▅█▂▂▅</td></tr><tr><td>step</td><td>▁▁▂▃▃▃▄▅▅▅▆▇▇▇█</td></tr><tr><td>_step</td><td>▁▁▂▂▃▃▄▄▅▅▆▆▇▇██</td></tr><tr><td>_runtime</td><td>▁▂▂▂▃▃▄▅▅▅▆▆▆▇██</td></tr><tr><td>_timestamp</td><td>▁▂▂▂▃▃▄▅▅▅▆▆▆▇██</td></tr><tr><td>dist_mean</td><td>▁</td></tr><tr><td>dist_min</td><td>▁</td></tr><tr><td>dist_max</td><td>▁</td></tr><tr><td>mean_reg_error</td><td>▁</td></tr></table><br/>"
      ],
      "text/plain": [
       "<IPython.core.display.HTML object>"
      ]
     },
     "metadata": {},
     "output_type": "display_data"
    },
    {
     "data": {
      "text/html": [
       "Synced 5 W&B file(s), 0 media file(s), 0 artifact file(s) and 0 other file(s)"
      ],
      "text/plain": [
       "<IPython.core.display.HTML object>"
      ]
     },
     "metadata": {},
     "output_type": "display_data"
    },
    {
     "data": {
      "text/html": [
       "\n",
       "                    <br/>Synced <strong style=\"color:#cdcd00\">royal-sweep-9</strong>: <a href=\"https://wandb.ai/christianml/quadtree/runs/qs5fx9l0\" target=\"_blank\">https://wandb.ai/christianml/quadtree/runs/qs5fx9l0</a><br/>\n",
       "                "
      ],
      "text/plain": [
       "<IPython.core.display.HTML object>"
      ]
     },
     "metadata": {},
     "output_type": "display_data"
    },
    {
     "name": "stderr",
     "output_type": "stream",
     "text": [
      "\u001b[34m\u001b[1mwandb\u001b[0m: Agent Starting Run: vrpa8ss4 with config:\n",
      "\u001b[34m\u001b[1mwandb\u001b[0m: \tcrossCheck: False\n",
      "\u001b[34m\u001b[1mwandb\u001b[0m: \tfilter_outliner: False\n",
      "\u001b[34m\u001b[1mwandb\u001b[0m: \tflann: True\n",
      "\u001b[34m\u001b[1mwandb\u001b[0m: \thomography: True\n",
      "\u001b[34m\u001b[1mwandb\u001b[0m: \timage_type: Cyto\n",
      "\u001b[34m\u001b[1mwandb\u001b[0m: \tmaxFeatures: 256\n",
      "\u001b[34m\u001b[1mwandb\u001b[0m: \tpoint_extractor: sift\n",
      "\u001b[34m\u001b[1mwandb\u001b[0m: \tratio: 0.8\n",
      "\u001b[34m\u001b[1mwandb\u001b[0m: \tsource_scanner: Aperio\n",
      "\u001b[34m\u001b[1mwandb\u001b[0m: \ttarget_depth: 0\n",
      "\u001b[34m\u001b[1mwandb\u001b[0m: \tthumbnail_size: [2048, 2048]\n",
      "\u001b[34m\u001b[1mwandb\u001b[0m: \tuse_gray: False\n"
     ]
    },
    {
     "data": {
      "text/html": [
       "\n",
       "                Tracking run with wandb version 0.10.15<br/>\n",
       "                Syncing run <strong style=\"color:#cdcd00\">azure-sweep-10</strong> to <a href=\"https://wandb.ai\" target=\"_blank\">Weights & Biases</a> <a href=\"https://docs.wandb.com/integrations/jupyter.html\" target=\"_blank\">(Documentation)</a>.<br/>\n",
       "                Project page: <a href=\"https://wandb.ai/christianml/quadtree\" target=\"_blank\">https://wandb.ai/christianml/quadtree</a><br/>\n",
       "                Sweep page: <a href=\"https://wandb.ai/christianml/quadtree/sweeps/e22y6790\" target=\"_blank\">https://wandb.ai/christianml/quadtree/sweeps/e22y6790</a><br/>\n",
       "Run page: <a href=\"https://wandb.ai/christianml/quadtree/runs/vrpa8ss4\" target=\"_blank\">https://wandb.ai/christianml/quadtree/runs/vrpa8ss4</a><br/>\n",
       "                Run data is saved locally in <code>/home/bronzi/ProgProjekte/EIPH_WSI/MIDL2021/Registration/WandB/wandb/run-20210126_181904-vrpa8ss4</code><br/><br/>\n",
       "            "
      ],
      "text/plain": [
       "<IPython.core.display.HTML object>"
      ]
     },
     "metadata": {},
     "output_type": "display_data"
    },
    {
     "name": "stderr",
     "output_type": "stream",
     "text": [
      "  0%|          | 0/5 [00:00<?, ?it/s]\n",
      "  0%|          | 0/4 [00:00<?, ?it/s]\u001b[A\n",
      " 25%|██▌       | 1/4 [00:07<00:22,  7.42s/it]\u001b[A\n",
      " 75%|███████▌  | 3/4 [00:18<00:06,  6.00s/it]\u001b[A\n",
      "100%|██████████| 4/4 [00:26<00:00,  6.51s/it]\u001b[A\n",
      " 20%|██        | 1/5 [00:26<01:44, 26.02s/it]\n",
      "  0%|          | 0/4 [00:00<?, ?it/s]\u001b[A\n",
      " 25%|██▌       | 1/4 [00:01<00:04,  1.53s/it]\u001b[A\n",
      " 75%|███████▌  | 3/4 [00:04<00:01,  1.36s/it]\u001b[A\n",
      "100%|██████████| 4/4 [00:05<00:00,  1.43s/it]\u001b[A\n",
      " 40%|████      | 2/5 [00:31<00:42, 14.09s/it]\n",
      "  0%|          | 0/4 [00:00<?, ?it/s]\u001b[A\n",
      " 25%|██▌       | 1/4 [00:08<00:26,  8.84s/it]\u001b[A\n",
      " 75%|███████▌  | 3/4 [00:19<00:06,  6.09s/it]\u001b[A\n",
      "100%|██████████| 4/4 [00:27<00:00,  6.79s/it]\u001b[A\n",
      " 60%|██████    | 3/5 [00:58<00:40, 20.07s/it]\n",
      "  0%|          | 0/4 [00:00<?, ?it/s]\u001b[A\n",
      " 25%|██▌       | 1/4 [00:01<00:05,  1.79s/it]\u001b[A\n",
      " 75%|███████▌  | 3/4 [00:06<00:02,  2.12s/it]\u001b[A\n",
      "100%|██████████| 4/4 [00:07<00:00,  1.97s/it]\u001b[A\n",
      " 80%|████████  | 4/5 [01:06<00:15, 15.26s/it]\n",
      "  0%|          | 0/4 [00:00<?, ?it/s]\u001b[A\n",
      " 25%|██▌       | 1/4 [00:08<00:25,  8.58s/it]\u001b[A\n",
      " 75%|███████▌  | 3/4 [00:18<00:05,  5.75s/it]\u001b[A\n",
      "100%|██████████| 4/4 [00:26<00:00,  6.64s/it]\u001b[A\n",
      "100%|██████████| 5/5 [01:33<00:00, 18.68s/it]\n"
     ]
    },
    {
     "data": {
      "text/html": [
       "<br/>Waiting for W&B process to finish, PID 32097<br/>Program ended successfully."
      ],
      "text/plain": [
       "<IPython.core.display.HTML object>"
      ]
     },
     "metadata": {},
     "output_type": "display_data"
    },
    {
     "data": {
      "application/vnd.jupyter.widget-view+json": {
       "model_id": "",
       "version_major": 2,
       "version_minor": 0
      },
      "text/plain": [
       "VBox(children=(Label(value=' 0.00MB of 0.00MB uploaded (0.00MB deduped)\\r'), FloatProgress(value=1.0, max=1.0)…"
      ]
     },
     "metadata": {},
     "output_type": "display_data"
    },
    {
     "data": {
      "text/html": [
       "Find user logs for this run at: <code>/home/bronzi/ProgProjekte/EIPH_WSI/MIDL2021/Registration/WandB/wandb/run-20210126_181904-vrpa8ss4/logs/debug.log</code>"
      ],
      "text/plain": [
       "<IPython.core.display.HTML object>"
      ]
     },
     "metadata": {},
     "output_type": "display_data"
    },
    {
     "data": {
      "text/html": [
       "Find internal logs for this run at: <code>/home/bronzi/ProgProjekte/EIPH_WSI/MIDL2021/Registration/WandB/wandb/run-20210126_181904-vrpa8ss4/logs/debug-internal.log</code>"
      ],
      "text/plain": [
       "<IPython.core.display.HTML object>"
      ]
     },
     "metadata": {},
     "output_type": "display_data"
    },
    {
     "data": {
      "text/html": [
       "<h3>Run summary:</h3><br/><style>\n",
       "    table.wandb td:nth-child(1) { padding: 0 10px; text-align: right }\n",
       "    </style><table class=\"wandb\">\n",
       "<tr><td>dist_mean_image</td><td>24.81528</td></tr><tr><td>mean_reg_error_image</td><td>2822.10898</td></tr><tr><td>step</td><td>14</td></tr><tr><td>_step</td><td>15</td></tr><tr><td>_runtime</td><td>94</td></tr><tr><td>_timestamp</td><td>1611681638</td></tr><tr><td>dist_mean</td><td>10.10841</td></tr><tr><td>dist_min</td><td>0.70688</td></tr><tr><td>dist_max</td><td>73.13373</td></tr><tr><td>mean_reg_error</td><td>2039.64511</td></tr></table>"
      ],
      "text/plain": [
       "<IPython.core.display.HTML object>"
      ]
     },
     "metadata": {},
     "output_type": "display_data"
    },
    {
     "data": {
      "text/html": [
       "<h3>Run history:</h3><br/><style>\n",
       "    table.wandb td:nth-child(1) { padding: 0 10px; text-align: right }\n",
       "    </style><table class=\"wandb\">\n",
       "<tr><td>dist_mean_image</td><td>▁▂▁▂▄▃▁▂▂▃█▄▁▁▃</td></tr><tr><td>mean_reg_error_image</td><td>▂▂▇▂▂▃▁▁▂▅▄█▂▂▄</td></tr><tr><td>step</td><td>▁▁▂▃▃▃▄▅▅▅▆▇▇▇█</td></tr><tr><td>_step</td><td>▁▁▂▂▃▃▄▄▅▅▆▆▇▇██</td></tr><tr><td>_runtime</td><td>▁▂▃▃▃▃▄▅▅▅▆▆▇▇██</td></tr><tr><td>_timestamp</td><td>▁▂▃▃▃▃▄▅▅▅▆▆▇▇██</td></tr><tr><td>dist_mean</td><td>▁</td></tr><tr><td>dist_min</td><td>▁</td></tr><tr><td>dist_max</td><td>▁</td></tr><tr><td>mean_reg_error</td><td>▁</td></tr></table><br/>"
      ],
      "text/plain": [
       "<IPython.core.display.HTML object>"
      ]
     },
     "metadata": {},
     "output_type": "display_data"
    },
    {
     "data": {
      "text/html": [
       "Synced 5 W&B file(s), 0 media file(s), 0 artifact file(s) and 0 other file(s)"
      ],
      "text/plain": [
       "<IPython.core.display.HTML object>"
      ]
     },
     "metadata": {},
     "output_type": "display_data"
    },
    {
     "data": {
      "text/html": [
       "\n",
       "                    <br/>Synced <strong style=\"color:#cdcd00\">azure-sweep-10</strong>: <a href=\"https://wandb.ai/christianml/quadtree/runs/vrpa8ss4\" target=\"_blank\">https://wandb.ai/christianml/quadtree/runs/vrpa8ss4</a><br/>\n",
       "                "
      ],
      "text/plain": [
       "<IPython.core.display.HTML object>"
      ]
     },
     "metadata": {},
     "output_type": "display_data"
    },
    {
     "name": "stderr",
     "output_type": "stream",
     "text": [
      "\u001b[34m\u001b[1mwandb\u001b[0m: Agent Starting Run: irxvcvod with config:\n",
      "\u001b[34m\u001b[1mwandb\u001b[0m: \tcrossCheck: False\n",
      "\u001b[34m\u001b[1mwandb\u001b[0m: \tfilter_outliner: False\n",
      "\u001b[34m\u001b[1mwandb\u001b[0m: \tflann: True\n",
      "\u001b[34m\u001b[1mwandb\u001b[0m: \thomography: True\n",
      "\u001b[34m\u001b[1mwandb\u001b[0m: \timage_type: Cyto\n",
      "\u001b[34m\u001b[1mwandb\u001b[0m: \tmaxFeatures: 64\n",
      "\u001b[34m\u001b[1mwandb\u001b[0m: \tpoint_extractor: sift\n",
      "\u001b[34m\u001b[1mwandb\u001b[0m: \tratio: 0.5\n",
      "\u001b[34m\u001b[1mwandb\u001b[0m: \tsource_scanner: Aperio\n",
      "\u001b[34m\u001b[1mwandb\u001b[0m: \ttarget_depth: 0\n",
      "\u001b[34m\u001b[1mwandb\u001b[0m: \tthumbnail_size: [4096, 4096]\n",
      "\u001b[34m\u001b[1mwandb\u001b[0m: \tuse_gray: False\n"
     ]
    },
    {
     "data": {
      "text/html": [
       "\n",
       "                Tracking run with wandb version 0.10.15<br/>\n",
       "                Syncing run <strong style=\"color:#cdcd00\">wobbly-sweep-11</strong> to <a href=\"https://wandb.ai\" target=\"_blank\">Weights & Biases</a> <a href=\"https://docs.wandb.com/integrations/jupyter.html\" target=\"_blank\">(Documentation)</a>.<br/>\n",
       "                Project page: <a href=\"https://wandb.ai/christianml/quadtree\" target=\"_blank\">https://wandb.ai/christianml/quadtree</a><br/>\n",
       "                Sweep page: <a href=\"https://wandb.ai/christianml/quadtree/sweeps/e22y6790\" target=\"_blank\">https://wandb.ai/christianml/quadtree/sweeps/e22y6790</a><br/>\n",
       "Run page: <a href=\"https://wandb.ai/christianml/quadtree/runs/irxvcvod\" target=\"_blank\">https://wandb.ai/christianml/quadtree/runs/irxvcvod</a><br/>\n",
       "                Run data is saved locally in <code>/home/bronzi/ProgProjekte/EIPH_WSI/MIDL2021/Registration/WandB/wandb/run-20210126_182042-irxvcvod</code><br/><br/>\n",
       "            "
      ],
      "text/plain": [
       "<IPython.core.display.HTML object>"
      ]
     },
     "metadata": {},
     "output_type": "display_data"
    },
    {
     "name": "stderr",
     "output_type": "stream",
     "text": [
      "  0%|          | 0/5 [00:00<?, ?it/s]\n",
      "  0%|          | 0/4 [00:00<?, ?it/s]\u001b[A\n",
      " 25%|██▌       | 1/4 [00:13<00:40, 13.47s/it]\u001b[A\n",
      " 75%|███████▌  | 3/4 [00:29<00:09,  9.52s/it]\u001b[A\n",
      "100%|██████████| 4/4 [00:42<00:00, 10.70s/it]\u001b[A\n",
      " 20%|██        | 1/5 [00:42<02:51, 42.79s/it]\n",
      "  0%|          | 0/4 [00:00<?, ?it/s]\u001b[A\n",
      " 25%|██▌       | 1/4 [00:17<00:52, 17.58s/it]\u001b[A\n",
      " 75%|███████▌  | 3/4 [00:32<00:10, 10.08s/it]\u001b[A\n",
      "100%|██████████| 4/4 [00:48<00:00, 12.12s/it]\u001b[A\n",
      " 40%|████      | 2/5 [01:31<02:18, 46.14s/it]\n",
      "  0%|          | 0/4 [00:00<?, ?it/s]\u001b[A\n",
      " 25%|██▌       | 1/4 [00:15<00:46, 15.52s/it]\u001b[A\n",
      " 75%|███████▌  | 3/4 [00:35<00:11, 11.50s/it]\u001b[A\n",
      "100%|██████████| 4/4 [00:47<00:00, 12.00s/it]\u001b[A\n",
      " 60%|██████    | 3/5 [02:19<01:33, 46.99s/it]\n",
      "  0%|          | 0/4 [00:00<?, ?it/s]\u001b[A\n",
      " 25%|██▌       | 1/4 [00:14<00:44, 14.94s/it]\u001b[A\n",
      " 75%|███████▌  | 3/4 [00:31<00:09,  9.96s/it]\u001b[A\n",
      "100%|██████████| 4/4 [00:45<00:00, 11.27s/it]\u001b[A\n",
      " 80%|████████  | 4/5 [03:04<00:46, 46.23s/it]\n",
      "  0%|          | 0/4 [00:00<?, ?it/s]\u001b[A\n",
      " 25%|██▌       | 1/4 [00:13<00:41, 13.90s/it]\u001b[A\n",
      " 75%|███████▌  | 3/4 [00:31<00:09,  9.94s/it]\u001b[A\n",
      "100%|██████████| 4/4 [00:44<00:00, 11.08s/it]\u001b[A\n",
      "100%|██████████| 5/5 [03:48<00:00, 45.73s/it]\n"
     ]
    },
    {
     "data": {
      "text/html": [
       "<br/>Waiting for W&B process to finish, PID 32313<br/>Program ended successfully."
      ],
      "text/plain": [
       "<IPython.core.display.HTML object>"
      ]
     },
     "metadata": {},
     "output_type": "display_data"
    },
    {
     "data": {
      "application/vnd.jupyter.widget-view+json": {
       "model_id": "",
       "version_major": 2,
       "version_minor": 0
      },
      "text/plain": [
       "VBox(children=(Label(value=' 0.00MB of 0.00MB uploaded (0.00MB deduped)\\r'), FloatProgress(value=1.0, max=1.0)…"
      ]
     },
     "metadata": {},
     "output_type": "display_data"
    },
    {
     "data": {
      "text/html": [
       "Find user logs for this run at: <code>/home/bronzi/ProgProjekte/EIPH_WSI/MIDL2021/Registration/WandB/wandb/run-20210126_182042-irxvcvod/logs/debug.log</code>"
      ],
      "text/plain": [
       "<IPython.core.display.HTML object>"
      ]
     },
     "metadata": {},
     "output_type": "display_data"
    },
    {
     "data": {
      "text/html": [
       "Find internal logs for this run at: <code>/home/bronzi/ProgProjekte/EIPH_WSI/MIDL2021/Registration/WandB/wandb/run-20210126_182042-irxvcvod/logs/debug-internal.log</code>"
      ],
      "text/plain": [
       "<IPython.core.display.HTML object>"
      ]
     },
     "metadata": {},
     "output_type": "display_data"
    },
    {
     "data": {
      "text/html": [
       "<h3>Run summary:</h3><br/><style>\n",
       "    table.wandb td:nth-child(1) { padding: 0 10px; text-align: right }\n",
       "    </style><table class=\"wandb\">\n",
       "<tr><td>dist_mean_image</td><td>19.58914</td></tr><tr><td>mean_reg_error_image</td><td>29.73761</td></tr><tr><td>step</td><td>14</td></tr><tr><td>_step</td><td>15</td></tr><tr><td>_runtime</td><td>229</td></tr><tr><td>_timestamp</td><td>1611681871</td></tr><tr><td>dist_mean</td><td>8.37445</td></tr><tr><td>dist_min</td><td>0.68732</td></tr><tr><td>dist_max</td><td>61.95404</td></tr><tr><td>mean_reg_error</td><td>37.74347</td></tr></table>"
      ],
      "text/plain": [
       "<IPython.core.display.HTML object>"
      ]
     },
     "metadata": {},
     "output_type": "display_data"
    },
    {
     "data": {
      "text/html": [
       "<h3>Run history:</h3><br/><style>\n",
       "    table.wandb td:nth-child(1) { padding: 0 10px; text-align: right }\n",
       "    </style><table class=\"wandb\">\n",
       "<tr><td>dist_mean_image</td><td>▂▂▂▂▅▃▁▂▂▄█▅▂▁▃</td></tr><tr><td>mean_reg_error_image</td><td>▁▁▃▁▁▁▁▁▁▃▄█▁▁▂</td></tr><tr><td>step</td><td>▁▁▂▃▃▃▄▅▅▅▆▇▇▇█</td></tr><tr><td>_step</td><td>▁▁▂▂▃▃▄▄▅▅▆▆▇▇██</td></tr><tr><td>_runtime</td><td>▁▂▂▃▃▄▄▅▅▆▆▇▇███</td></tr><tr><td>_timestamp</td><td>▁▂▂▃▃▄▄▅▅▆▆▇▇███</td></tr><tr><td>dist_mean</td><td>▁</td></tr><tr><td>dist_min</td><td>▁</td></tr><tr><td>dist_max</td><td>▁</td></tr><tr><td>mean_reg_error</td><td>▁</td></tr></table><br/>"
      ],
      "text/plain": [
       "<IPython.core.display.HTML object>"
      ]
     },
     "metadata": {},
     "output_type": "display_data"
    },
    {
     "data": {
      "text/html": [
       "Synced 5 W&B file(s), 0 media file(s), 0 artifact file(s) and 0 other file(s)"
      ],
      "text/plain": [
       "<IPython.core.display.HTML object>"
      ]
     },
     "metadata": {},
     "output_type": "display_data"
    },
    {
     "data": {
      "text/html": [
       "\n",
       "                    <br/>Synced <strong style=\"color:#cdcd00\">wobbly-sweep-11</strong>: <a href=\"https://wandb.ai/christianml/quadtree/runs/irxvcvod\" target=\"_blank\">https://wandb.ai/christianml/quadtree/runs/irxvcvod</a><br/>\n",
       "                "
      ],
      "text/plain": [
       "<IPython.core.display.HTML object>"
      ]
     },
     "metadata": {},
     "output_type": "display_data"
    },
    {
     "name": "stderr",
     "output_type": "stream",
     "text": [
      "\u001b[34m\u001b[1mwandb\u001b[0m: Agent Starting Run: c7jf95fi with config:\n",
      "\u001b[34m\u001b[1mwandb\u001b[0m: \tcrossCheck: False\n",
      "\u001b[34m\u001b[1mwandb\u001b[0m: \tfilter_outliner: False\n",
      "\u001b[34m\u001b[1mwandb\u001b[0m: \tflann: True\n",
      "\u001b[34m\u001b[1mwandb\u001b[0m: \thomography: False\n",
      "\u001b[34m\u001b[1mwandb\u001b[0m: \timage_type: Cyto\n",
      "\u001b[34m\u001b[1mwandb\u001b[0m: \tmaxFeatures: 512\n",
      "\u001b[34m\u001b[1mwandb\u001b[0m: \tpoint_extractor: sift\n",
      "\u001b[34m\u001b[1mwandb\u001b[0m: \tratio: 0.7\n",
      "\u001b[34m\u001b[1mwandb\u001b[0m: \tsource_scanner: Aperio\n",
      "\u001b[34m\u001b[1mwandb\u001b[0m: \ttarget_depth: 0\n",
      "\u001b[34m\u001b[1mwandb\u001b[0m: \tthumbnail_size: [2048, 2048]\n",
      "\u001b[34m\u001b[1mwandb\u001b[0m: \tuse_gray: False\n"
     ]
    },
    {
     "data": {
      "text/html": [
       "\n",
       "                Tracking run with wandb version 0.10.15<br/>\n",
       "                Syncing run <strong style=\"color:#cdcd00\">atomic-sweep-13</strong> to <a href=\"https://wandb.ai\" target=\"_blank\">Weights & Biases</a> <a href=\"https://docs.wandb.com/integrations/jupyter.html\" target=\"_blank\">(Documentation)</a>.<br/>\n",
       "                Project page: <a href=\"https://wandb.ai/christianml/quadtree\" target=\"_blank\">https://wandb.ai/christianml/quadtree</a><br/>\n",
       "                Sweep page: <a href=\"https://wandb.ai/christianml/quadtree/sweeps/e22y6790\" target=\"_blank\">https://wandb.ai/christianml/quadtree/sweeps/e22y6790</a><br/>\n",
       "Run page: <a href=\"https://wandb.ai/christianml/quadtree/runs/c7jf95fi\" target=\"_blank\">https://wandb.ai/christianml/quadtree/runs/c7jf95fi</a><br/>\n",
       "                Run data is saved locally in <code>/home/bronzi/ProgProjekte/EIPH_WSI/MIDL2021/Registration/WandB/wandb/run-20210126_182436-c7jf95fi</code><br/><br/>\n",
       "            "
      ],
      "text/plain": [
       "<IPython.core.display.HTML object>"
      ]
     },
     "metadata": {},
     "output_type": "display_data"
    },
    {
     "name": "stderr",
     "output_type": "stream",
     "text": [
      "  0%|          | 0/5 [00:00<?, ?it/s]\n",
      "  0%|          | 0/4 [00:00<?, ?it/s]\u001b[A\n",
      " 25%|██▌       | 1/4 [01:19<03:58, 79.38s/it]\u001b[A\n",
      " 75%|███████▌  | 3/4 [02:41<00:50, 50.82s/it]\u001b[A\n",
      "100%|██████████| 4/4 [02:51<00:00, 42.99s/it]\u001b[A\n",
      " 20%|██        | 1/5 [02:51<11:27, 171.96s/it]\n",
      "  0%|          | 0/4 [00:00<?, ?it/s]\u001b[A\n",
      " 25%|██▌       | 1/4 [00:14<00:43, 14.41s/it]\u001b[A\n",
      " 75%|███████▌  | 3/4 [00:26<00:08,  8.24s/it]\u001b[A\n",
      "100%|██████████| 4/4 [00:32<00:00,  8.23s/it]\u001b[A\n",
      " 40%|████      | 2/5 [03:24<04:30, 90.17s/it] \n",
      "  0%|          | 0/4 [00:00<?, ?it/s]\u001b[A\n",
      " 25%|██▌       | 1/4 [01:54<05:44, 114.94s/it]\u001b[A\n",
      " 75%|███████▌  | 3/4 [03:11<00:58, 58.07s/it] \u001b[A\n",
      "100%|██████████| 4/4 [03:32<00:00, 53.07s/it]\u001b[A\n",
      " 60%|██████    | 3/5 [06:57<04:51, 145.93s/it]\n",
      "  0%|          | 0/4 [00:00<?, ?it/s]\u001b[A\n",
      " 25%|██▌       | 1/4 [00:04<00:12,  4.11s/it]\u001b[A\n",
      " 75%|███████▌  | 3/4 [00:09<00:03,  3.18s/it]\u001b[A\n",
      "100%|██████████| 4/4 [00:12<00:00,  3.09s/it]\u001b[A\n",
      " 80%|████████  | 4/5 [07:09<01:33, 93.20s/it] \n",
      "  0%|          | 0/4 [00:00<?, ?it/s]\u001b[A\n",
      " 25%|██▌       | 1/4 [00:50<02:30, 50.27s/it]\u001b[A\n",
      " 75%|███████▌  | 3/4 [01:38<00:30, 30.74s/it]\u001b[A\n",
      "100%|██████████| 4/4 [01:52<00:00, 28.15s/it]\u001b[A\n",
      "100%|██████████| 5/5 [09:02<00:00, 108.43s/it]\n"
     ]
    },
    {
     "data": {
      "text/html": [
       "<br/>Waiting for W&B process to finish, PID 323<br/>Program ended successfully."
      ],
      "text/plain": [
       "<IPython.core.display.HTML object>"
      ]
     },
     "metadata": {},
     "output_type": "display_data"
    },
    {
     "data": {
      "application/vnd.jupyter.widget-view+json": {
       "model_id": "",
       "version_major": 2,
       "version_minor": 0
      },
      "text/plain": [
       "VBox(children=(Label(value=' 0.00MB of 0.00MB uploaded (0.00MB deduped)\\r'), FloatProgress(value=1.0, max=1.0)…"
      ]
     },
     "metadata": {},
     "output_type": "display_data"
    },
    {
     "data": {
      "text/html": [
       "Find user logs for this run at: <code>/home/bronzi/ProgProjekte/EIPH_WSI/MIDL2021/Registration/WandB/wandb/run-20210126_182436-c7jf95fi/logs/debug.log</code>"
      ],
      "text/plain": [
       "<IPython.core.display.HTML object>"
      ]
     },
     "metadata": {},
     "output_type": "display_data"
    },
    {
     "data": {
      "text/html": [
       "Find internal logs for this run at: <code>/home/bronzi/ProgProjekte/EIPH_WSI/MIDL2021/Registration/WandB/wandb/run-20210126_182436-c7jf95fi/logs/debug-internal.log</code>"
      ],
      "text/plain": [
       "<IPython.core.display.HTML object>"
      ]
     },
     "metadata": {},
     "output_type": "display_data"
    },
    {
     "data": {
      "text/html": [
       "<h3>Run summary:</h3><br/><style>\n",
       "    table.wandb td:nth-child(1) { padding: 0 10px; text-align: right }\n",
       "    </style><table class=\"wandb\">\n",
       "<tr><td>dist_mean_image</td><td>20.66578</td></tr><tr><td>mean_reg_error_image</td><td>703.70775</td></tr><tr><td>step</td><td>14</td></tr><tr><td>_step</td><td>15</td></tr><tr><td>_runtime</td><td>542</td></tr><tr><td>_timestamp</td><td>1611682418</td></tr><tr><td>dist_mean</td><td>9.92802</td></tr><tr><td>dist_min</td><td>0.20727</td></tr><tr><td>dist_max</td><td>73.39405</td></tr><tr><td>mean_reg_error</td><td>715.60029</td></tr></table>"
      ],
      "text/plain": [
       "<IPython.core.display.HTML object>"
      ]
     },
     "metadata": {},
     "output_type": "display_data"
    },
    {
     "data": {
      "text/html": [
       "<h3>Run history:</h3><br/><style>\n",
       "    table.wandb td:nth-child(1) { padding: 0 10px; text-align: right }\n",
       "    </style><table class=\"wandb\">\n",
       "<tr><td>dist_mean_image</td><td>▂▂▁▃▄▃▁▂▂▃█▄▂▁▂</td></tr><tr><td>mean_reg_error_image</td><td>▂▂▅▁▁▂▁▁▁▆▄█▂▂▃</td></tr><tr><td>step</td><td>▁▁▂▃▃▃▄▅▅▅▆▇▇▇█</td></tr><tr><td>_step</td><td>▁▁▂▂▃▃▄▄▅▅▆▆▇▇██</td></tr><tr><td>_runtime</td><td>▁▂▂▃▃▃▅▆▆▆▆▆▇███</td></tr><tr><td>_timestamp</td><td>▁▂▂▃▃▃▅▆▆▆▆▆▇███</td></tr><tr><td>dist_mean</td><td>▁</td></tr><tr><td>dist_min</td><td>▁</td></tr><tr><td>dist_max</td><td>▁</td></tr><tr><td>mean_reg_error</td><td>▁</td></tr></table><br/>"
      ],
      "text/plain": [
       "<IPython.core.display.HTML object>"
      ]
     },
     "metadata": {},
     "output_type": "display_data"
    },
    {
     "data": {
      "text/html": [
       "Synced 5 W&B file(s), 0 media file(s), 0 artifact file(s) and 0 other file(s)"
      ],
      "text/plain": [
       "<IPython.core.display.HTML object>"
      ]
     },
     "metadata": {},
     "output_type": "display_data"
    },
    {
     "data": {
      "text/html": [
       "\n",
       "                    <br/>Synced <strong style=\"color:#cdcd00\">atomic-sweep-13</strong>: <a href=\"https://wandb.ai/christianml/quadtree/runs/c7jf95fi\" target=\"_blank\">https://wandb.ai/christianml/quadtree/runs/c7jf95fi</a><br/>\n",
       "                "
      ],
      "text/plain": [
       "<IPython.core.display.HTML object>"
      ]
     },
     "metadata": {},
     "output_type": "display_data"
    },
    {
     "name": "stderr",
     "output_type": "stream",
     "text": [
      "\u001b[34m\u001b[1mwandb\u001b[0m: Agent Starting Run: df8zfa85 with config:\n",
      "\u001b[34m\u001b[1mwandb\u001b[0m: \tcrossCheck: False\n",
      "\u001b[34m\u001b[1mwandb\u001b[0m: \tfilter_outliner: False\n",
      "\u001b[34m\u001b[1mwandb\u001b[0m: \tflann: True\n",
      "\u001b[34m\u001b[1mwandb\u001b[0m: \thomography: False\n",
      "\u001b[34m\u001b[1mwandb\u001b[0m: \timage_type: Cyto\n",
      "\u001b[34m\u001b[1mwandb\u001b[0m: \tmaxFeatures: 512\n",
      "\u001b[34m\u001b[1mwandb\u001b[0m: \tpoint_extractor: sift\n",
      "\u001b[34m\u001b[1mwandb\u001b[0m: \tratio: 0.6\n",
      "\u001b[34m\u001b[1mwandb\u001b[0m: \tsource_scanner: Aperio\n",
      "\u001b[34m\u001b[1mwandb\u001b[0m: \ttarget_depth: 0\n",
      "\u001b[34m\u001b[1mwandb\u001b[0m: \tthumbnail_size: [1024, 1024]\n",
      "\u001b[34m\u001b[1mwandb\u001b[0m: \tuse_gray: True\n"
     ]
    },
    {
     "data": {
      "text/html": [
       "\n",
       "                Tracking run with wandb version 0.10.15<br/>\n",
       "                Syncing run <strong style=\"color:#cdcd00\">wandering-sweep-17</strong> to <a href=\"https://wandb.ai\" target=\"_blank\">Weights & Biases</a> <a href=\"https://docs.wandb.com/integrations/jupyter.html\" target=\"_blank\">(Documentation)</a>.<br/>\n",
       "                Project page: <a href=\"https://wandb.ai/christianml/quadtree\" target=\"_blank\">https://wandb.ai/christianml/quadtree</a><br/>\n",
       "                Sweep page: <a href=\"https://wandb.ai/christianml/quadtree/sweeps/e22y6790\" target=\"_blank\">https://wandb.ai/christianml/quadtree/sweeps/e22y6790</a><br/>\n",
       "Run page: <a href=\"https://wandb.ai/christianml/quadtree/runs/df8zfa85\" target=\"_blank\">https://wandb.ai/christianml/quadtree/runs/df8zfa85</a><br/>\n",
       "                Run data is saved locally in <code>/home/bronzi/ProgProjekte/EIPH_WSI/MIDL2021/Registration/WandB/wandb/run-20210126_183344-df8zfa85</code><br/><br/>\n",
       "            "
      ],
      "text/plain": [
       "<IPython.core.display.HTML object>"
      ]
     },
     "metadata": {},
     "output_type": "display_data"
    },
    {
     "name": "stderr",
     "output_type": "stream",
     "text": [
      "  0%|          | 0/5 [00:00<?, ?it/s]\n",
      "  0%|          | 0/4 [00:00<?, ?it/s]\u001b[A\n",
      " 25%|██▌       | 1/4 [00:02<00:06,  2.10s/it]\u001b[A\n",
      " 75%|███████▌  | 3/4 [00:05<00:01,  1.74s/it]\u001b[A\n",
      "100%|██████████| 4/4 [00:06<00:00,  1.58s/it]\u001b[A\n",
      " 20%|██        | 1/5 [00:06<00:25,  6.33s/it]\n",
      "  0%|          | 0/4 [00:00<?, ?it/s]\u001b[A\n",
      " 25%|██▌       | 1/4 [00:01<00:04,  1.63s/it]\u001b[A\n",
      " 75%|███████▌  | 3/4 [00:04<00:01,  1.38s/it]\u001b[A\n",
      "100%|██████████| 4/4 [00:05<00:00,  1.25s/it]\u001b[A\n",
      " 40%|████      | 2/5 [00:11<00:16,  5.56s/it]\n",
      "  0%|          | 0/4 [00:00<?, ?it/s]\u001b[A\n",
      " 25%|██▌       | 1/4 [00:02<00:07,  2.56s/it]\u001b[A\n",
      " 75%|███████▌  | 3/4 [00:05<00:01,  1.73s/it]\u001b[A\n",
      "100%|██████████| 4/4 [00:06<00:00,  1.53s/it]\u001b[A\n",
      " 60%|██████    | 3/5 [00:17<00:11,  5.81s/it]\n",
      "  0%|          | 0/4 [00:00<?, ?it/s]\u001b[A\n",
      " 25%|██▌       | 1/4 [00:00<00:01,  1.63it/s]\u001b[A\n",
      " 75%|███████▌  | 3/4 [00:02<00:00,  1.12it/s]\u001b[A\n",
      "100%|██████████| 4/4 [00:03<00:00,  1.22it/s]\u001b[A\n",
      " 80%|████████  | 4/5 [00:20<00:04,  4.82s/it]\n",
      "  0%|          | 0/4 [00:00<?, ?it/s]\u001b[A\n",
      " 25%|██▌       | 1/4 [00:01<00:04,  1.42s/it]\u001b[A\n",
      " 75%|███████▌  | 3/4 [00:03<00:01,  1.09s/it]\u001b[A\n",
      "100%|██████████| 4/4 [00:04<00:00,  1.03s/it]\u001b[A\n",
      "100%|██████████| 5/5 [00:24<00:00,  4.98s/it]\n"
     ]
    },
    {
     "data": {
      "text/html": [
       "<br/>Waiting for W&B process to finish, PID 1478<br/>Program ended successfully."
      ],
      "text/plain": [
       "<IPython.core.display.HTML object>"
      ]
     },
     "metadata": {},
     "output_type": "display_data"
    },
    {
     "data": {
      "application/vnd.jupyter.widget-view+json": {
       "model_id": "",
       "version_major": 2,
       "version_minor": 0
      },
      "text/plain": [
       "VBox(children=(Label(value=' 0.00MB of 0.00MB uploaded (0.00MB deduped)\\r'), FloatProgress(value=1.0, max=1.0)…"
      ]
     },
     "metadata": {},
     "output_type": "display_data"
    },
    {
     "data": {
      "text/html": [
       "Find user logs for this run at: <code>/home/bronzi/ProgProjekte/EIPH_WSI/MIDL2021/Registration/WandB/wandb/run-20210126_183344-df8zfa85/logs/debug.log</code>"
      ],
      "text/plain": [
       "<IPython.core.display.HTML object>"
      ]
     },
     "metadata": {},
     "output_type": "display_data"
    },
    {
     "data": {
      "text/html": [
       "Find internal logs for this run at: <code>/home/bronzi/ProgProjekte/EIPH_WSI/MIDL2021/Registration/WandB/wandb/run-20210126_183344-df8zfa85/logs/debug-internal.log</code>"
      ],
      "text/plain": [
       "<IPython.core.display.HTML object>"
      ]
     },
     "metadata": {},
     "output_type": "display_data"
    },
    {
     "data": {
      "text/html": [
       "<h3>Run summary:</h3><br/><style>\n",
       "    table.wandb td:nth-child(1) { padding: 0 10px; text-align: right }\n",
       "    </style><table class=\"wandb\">\n",
       "<tr><td>dist_mean_image</td><td>25.38193</td></tr><tr><td>mean_reg_error_image</td><td>312.29767</td></tr><tr><td>step</td><td>14</td></tr><tr><td>_step</td><td>15</td></tr><tr><td>_runtime</td><td>26</td></tr><tr><td>_timestamp</td><td>1611682450</td></tr><tr><td>dist_mean</td><td>15.68089</td></tr><tr><td>dist_min</td><td>1.1847</td></tr><tr><td>dist_max</td><td>100.47864</td></tr><tr><td>mean_reg_error</td><td>118.53375</td></tr></table>"
      ],
      "text/plain": [
       "<IPython.core.display.HTML object>"
      ]
     },
     "metadata": {},
     "output_type": "display_data"
    },
    {
     "data": {
      "text/html": [
       "<h3>Run history:</h3><br/><style>\n",
       "    table.wandb td:nth-child(1) { padding: 0 10px; text-align: right }\n",
       "    </style><table class=\"wandb\">\n",
       "<tr><td>dist_mean_image</td><td>▂▂▃▂▃▄▂▁▃▂█▃▂▂▂</td></tr><tr><td>mean_reg_error_image</td><td>▁▁▁▂▁▅▁▂▁▁▄█▁▁▅</td></tr><tr><td>step</td><td>▁▁▂▃▃▃▄▅▅▅▆▇▇▇█</td></tr><tr><td>_step</td><td>▁▁▂▂▃▃▄▄▅▅▆▆▇▇██</td></tr><tr><td>_runtime</td><td>▁▂▃▃▄▄▅▆▆▆▆▇▇███</td></tr><tr><td>_timestamp</td><td>▁▂▃▃▄▄▅▆▆▆▆▇▇███</td></tr><tr><td>dist_mean</td><td>▁</td></tr><tr><td>dist_min</td><td>▁</td></tr><tr><td>dist_max</td><td>▁</td></tr><tr><td>mean_reg_error</td><td>▁</td></tr></table><br/>"
      ],
      "text/plain": [
       "<IPython.core.display.HTML object>"
      ]
     },
     "metadata": {},
     "output_type": "display_data"
    },
    {
     "data": {
      "text/html": [
       "Synced 5 W&B file(s), 0 media file(s), 0 artifact file(s) and 0 other file(s)"
      ],
      "text/plain": [
       "<IPython.core.display.HTML object>"
      ]
     },
     "metadata": {},
     "output_type": "display_data"
    },
    {
     "data": {
      "text/html": [
       "\n",
       "                    <br/>Synced <strong style=\"color:#cdcd00\">wandering-sweep-17</strong>: <a href=\"https://wandb.ai/christianml/quadtree/runs/df8zfa85\" target=\"_blank\">https://wandb.ai/christianml/quadtree/runs/df8zfa85</a><br/>\n",
       "                "
      ],
      "text/plain": [
       "<IPython.core.display.HTML object>"
      ]
     },
     "metadata": {},
     "output_type": "display_data"
    },
    {
     "name": "stderr",
     "output_type": "stream",
     "text": [
      "\u001b[34m\u001b[1mwandb\u001b[0m: Agent Starting Run: rd051xrn with config:\n",
      "\u001b[34m\u001b[1mwandb\u001b[0m: \tcrossCheck: False\n",
      "\u001b[34m\u001b[1mwandb\u001b[0m: \tfilter_outliner: False\n",
      "\u001b[34m\u001b[1mwandb\u001b[0m: \tflann: False\n",
      "\u001b[34m\u001b[1mwandb\u001b[0m: \thomography: True\n",
      "\u001b[34m\u001b[1mwandb\u001b[0m: \timage_type: Cyto\n",
      "\u001b[34m\u001b[1mwandb\u001b[0m: \tmaxFeatures: 1024\n",
      "\u001b[34m\u001b[1mwandb\u001b[0m: \tpoint_extractor: sift\n",
      "\u001b[34m\u001b[1mwandb\u001b[0m: \tratio: 0.7\n",
      "\u001b[34m\u001b[1mwandb\u001b[0m: \tsource_scanner: Aperio\n",
      "\u001b[34m\u001b[1mwandb\u001b[0m: \ttarget_depth: 0\n",
      "\u001b[34m\u001b[1mwandb\u001b[0m: \tthumbnail_size: [4096, 4096]\n",
      "\u001b[34m\u001b[1mwandb\u001b[0m: \tuse_gray: True\n"
     ]
    },
    {
     "data": {
      "text/html": [
       "\n",
       "                Tracking run with wandb version 0.10.15<br/>\n",
       "                Syncing run <strong style=\"color:#cdcd00\">blooming-sweep-18</strong> to <a href=\"https://wandb.ai\" target=\"_blank\">Weights & Biases</a> <a href=\"https://docs.wandb.com/integrations/jupyter.html\" target=\"_blank\">(Documentation)</a>.<br/>\n",
       "                Project page: <a href=\"https://wandb.ai/christianml/quadtree\" target=\"_blank\">https://wandb.ai/christianml/quadtree</a><br/>\n",
       "                Sweep page: <a href=\"https://wandb.ai/christianml/quadtree/sweeps/e22y6790\" target=\"_blank\">https://wandb.ai/christianml/quadtree/sweeps/e22y6790</a><br/>\n",
       "Run page: <a href=\"https://wandb.ai/christianml/quadtree/runs/rd051xrn\" target=\"_blank\">https://wandb.ai/christianml/quadtree/runs/rd051xrn</a><br/>\n",
       "                Run data is saved locally in <code>/home/bronzi/ProgProjekte/EIPH_WSI/MIDL2021/Registration/WandB/wandb/run-20210126_183415-rd051xrn</code><br/><br/>\n",
       "            "
      ],
      "text/plain": [
       "<IPython.core.display.HTML object>"
      ]
     },
     "metadata": {},
     "output_type": "display_data"
    },
    {
     "name": "stderr",
     "output_type": "stream",
     "text": [
      "  0%|          | 0/5 [00:00<?, ?it/s]\n",
      "  0%|          | 0/4 [00:00<?, ?it/s]\u001b[A\n",
      " 25%|██▌       | 1/4 [00:17<00:51, 17.23s/it]\u001b[A\n",
      " 75%|███████▌  | 3/4 [00:36<00:11, 11.68s/it]\u001b[A\n",
      "100%|██████████| 4/4 [00:50<00:00, 12.61s/it]\u001b[A\n",
      " 20%|██        | 1/5 [00:50<03:21, 50.43s/it]\n",
      "  0%|          | 0/4 [00:00<?, ?it/s]\u001b[A\n",
      " 25%|██▌       | 1/4 [00:17<00:52, 17.50s/it]\u001b[A\n",
      " 75%|███████▌  | 3/4 [00:32<00:10, 10.09s/it]\u001b[A\n",
      "100%|██████████| 4/4 [00:45<00:00, 11.44s/it]\u001b[A\n",
      " 40%|████      | 2/5 [01:36<02:23, 47.69s/it]\n",
      "  0%|          | 0/4 [00:00<?, ?it/s]\u001b[A\n",
      " 25%|██▌       | 1/4 [00:19<00:57, 19.06s/it]\u001b[A\n",
      " 75%|███████▌  | 3/4 [00:38<00:12, 12.01s/it]\u001b[A\n",
      "100%|██████████| 4/4 [00:53<00:00, 13.43s/it]\u001b[A\n",
      " 60%|██████    | 3/5 [02:29<01:40, 50.45s/it]\n",
      "  0%|          | 0/4 [00:00<?, ?it/s]\u001b[A\n",
      " 25%|██▌       | 1/4 [00:19<00:59, 19.93s/it]\u001b[A\n",
      " 75%|███████▌  | 3/4 [00:37<00:11, 11.71s/it]\u001b[A\n",
      "100%|██████████| 4/4 [00:50<00:00, 12.69s/it]\u001b[A\n",
      " 80%|████████  | 4/5 [03:20<00:50, 50.58s/it]\n",
      "  0%|          | 0/4 [00:00<?, ?it/s]\u001b[A\n",
      " 25%|██▌       | 1/4 [00:21<01:04, 21.41s/it]\u001b[A\n",
      " 75%|███████▌  | 3/4 [00:38<00:11, 11.92s/it]\u001b[A\n",
      "100%|██████████| 4/4 [00:53<00:00, 13.25s/it]\u001b[A\n",
      "100%|██████████| 5/5 [04:13<00:00, 50.75s/it]\n"
     ]
    },
    {
     "data": {
      "text/html": [
       "<br/>Waiting for W&B process to finish, PID 1625<br/>Program ended successfully."
      ],
      "text/plain": [
       "<IPython.core.display.HTML object>"
      ]
     },
     "metadata": {},
     "output_type": "display_data"
    },
    {
     "data": {
      "application/vnd.jupyter.widget-view+json": {
       "model_id": "",
       "version_major": 2,
       "version_minor": 0
      },
      "text/plain": [
       "VBox(children=(Label(value=' 0.00MB of 0.00MB uploaded (0.00MB deduped)\\r'), FloatProgress(value=1.0, max=1.0)…"
      ]
     },
     "metadata": {},
     "output_type": "display_data"
    },
    {
     "data": {
      "text/html": [
       "Find user logs for this run at: <code>/home/bronzi/ProgProjekte/EIPH_WSI/MIDL2021/Registration/WandB/wandb/run-20210126_183415-rd051xrn/logs/debug.log</code>"
      ],
      "text/plain": [
       "<IPython.core.display.HTML object>"
      ]
     },
     "metadata": {},
     "output_type": "display_data"
    },
    {
     "data": {
      "text/html": [
       "Find internal logs for this run at: <code>/home/bronzi/ProgProjekte/EIPH_WSI/MIDL2021/Registration/WandB/wandb/run-20210126_183415-rd051xrn/logs/debug-internal.log</code>"
      ],
      "text/plain": [
       "<IPython.core.display.HTML object>"
      ]
     },
     "metadata": {},
     "output_type": "display_data"
    },
    {
     "data": {
      "text/html": [
       "<h3>Run summary:</h3><br/><style>\n",
       "    table.wandb td:nth-child(1) { padding: 0 10px; text-align: right }\n",
       "    </style><table class=\"wandb\">\n",
       "<tr><td>dist_mean_image</td><td>25.6657</td></tr><tr><td>mean_reg_error_image</td><td>447.86235</td></tr><tr><td>step</td><td>14</td></tr><tr><td>_step</td><td>15</td></tr><tr><td>_runtime</td><td>254</td></tr><tr><td>_timestamp</td><td>1611682709</td></tr><tr><td>dist_mean</td><td>9.25645</td></tr><tr><td>dist_min</td><td>0.29454</td></tr><tr><td>dist_max</td><td>59.47412</td></tr><tr><td>mean_reg_error</td><td>503.31377</td></tr></table>"
      ],
      "text/plain": [
       "<IPython.core.display.HTML object>"
      ]
     },
     "metadata": {},
     "output_type": "display_data"
    },
    {
     "data": {
      "text/html": [
       "<h3>Run history:</h3><br/><style>\n",
       "    table.wandb td:nth-child(1) { padding: 0 10px; text-align: right }\n",
       "    </style><table class=\"wandb\">\n",
       "<tr><td>dist_mean_image</td><td>▂▂▁▂▅▃▁▃▃▃█▆▁▁▃</td></tr><tr><td>mean_reg_error_image</td><td>▁▁▃▁▁▂▁▁▂▂▄█▁▁▂</td></tr><tr><td>step</td><td>▁▁▂▃▃▃▄▅▅▅▆▇▇▇█</td></tr><tr><td>_step</td><td>▁▁▂▂▃▃▄▄▅▅▆▆▇▇██</td></tr><tr><td>_runtime</td><td>▁▂▂▃▃▃▄▄▅▆▆▆▇███</td></tr><tr><td>_timestamp</td><td>▁▂▂▃▃▃▄▄▅▆▆▆▇███</td></tr><tr><td>dist_mean</td><td>▁</td></tr><tr><td>dist_min</td><td>▁</td></tr><tr><td>dist_max</td><td>▁</td></tr><tr><td>mean_reg_error</td><td>▁</td></tr></table><br/>"
      ],
      "text/plain": [
       "<IPython.core.display.HTML object>"
      ]
     },
     "metadata": {},
     "output_type": "display_data"
    },
    {
     "data": {
      "text/html": [
       "Synced 5 W&B file(s), 0 media file(s), 0 artifact file(s) and 0 other file(s)"
      ],
      "text/plain": [
       "<IPython.core.display.HTML object>"
      ]
     },
     "metadata": {},
     "output_type": "display_data"
    },
    {
     "data": {
      "text/html": [
       "\n",
       "                    <br/>Synced <strong style=\"color:#cdcd00\">blooming-sweep-18</strong>: <a href=\"https://wandb.ai/christianml/quadtree/runs/rd051xrn\" target=\"_blank\">https://wandb.ai/christianml/quadtree/runs/rd051xrn</a><br/>\n",
       "                "
      ],
      "text/plain": [
       "<IPython.core.display.HTML object>"
      ]
     },
     "metadata": {},
     "output_type": "display_data"
    },
    {
     "name": "stderr",
     "output_type": "stream",
     "text": [
      "\u001b[34m\u001b[1mwandb\u001b[0m: Agent Starting Run: wvx1ujgq with config:\n",
      "\u001b[34m\u001b[1mwandb\u001b[0m: \tcrossCheck: False\n",
      "\u001b[34m\u001b[1mwandb\u001b[0m: \tfilter_outliner: False\n",
      "\u001b[34m\u001b[1mwandb\u001b[0m: \tflann: False\n",
      "\u001b[34m\u001b[1mwandb\u001b[0m: \thomography: True\n",
      "\u001b[34m\u001b[1mwandb\u001b[0m: \timage_type: Cyto\n",
      "\u001b[34m\u001b[1mwandb\u001b[0m: \tmaxFeatures: 768\n",
      "\u001b[34m\u001b[1mwandb\u001b[0m: \tpoint_extractor: sift\n",
      "\u001b[34m\u001b[1mwandb\u001b[0m: \tratio: 0.9\n",
      "\u001b[34m\u001b[1mwandb\u001b[0m: \tsource_scanner: Aperio\n",
      "\u001b[34m\u001b[1mwandb\u001b[0m: \ttarget_depth: 0\n",
      "\u001b[34m\u001b[1mwandb\u001b[0m: \tthumbnail_size: [4096, 4096]\n",
      "\u001b[34m\u001b[1mwandb\u001b[0m: \tuse_gray: True\n"
     ]
    },
    {
     "data": {
      "text/html": [
       "\n",
       "                Tracking run with wandb version 0.10.15<br/>\n",
       "                Syncing run <strong style=\"color:#cdcd00\">true-sweep-21</strong> to <a href=\"https://wandb.ai\" target=\"_blank\">Weights & Biases</a> <a href=\"https://docs.wandb.com/integrations/jupyter.html\" target=\"_blank\">(Documentation)</a>.<br/>\n",
       "                Project page: <a href=\"https://wandb.ai/christianml/quadtree\" target=\"_blank\">https://wandb.ai/christianml/quadtree</a><br/>\n",
       "                Sweep page: <a href=\"https://wandb.ai/christianml/quadtree/sweeps/e22y6790\" target=\"_blank\">https://wandb.ai/christianml/quadtree/sweeps/e22y6790</a><br/>\n",
       "Run page: <a href=\"https://wandb.ai/christianml/quadtree/runs/wvx1ujgq\" target=\"_blank\">https://wandb.ai/christianml/quadtree/runs/wvx1ujgq</a><br/>\n",
       "                Run data is saved locally in <code>/home/bronzi/ProgProjekte/EIPH_WSI/MIDL2021/Registration/WandB/wandb/run-20210126_183833-wvx1ujgq</code><br/><br/>\n",
       "            "
      ],
      "text/plain": [
       "<IPython.core.display.HTML object>"
      ]
     },
     "metadata": {},
     "output_type": "display_data"
    },
    {
     "name": "stderr",
     "output_type": "stream",
     "text": [
      "  0%|          | 0/5 [00:00<?, ?it/s]\n",
      "  0%|          | 0/4 [00:00<?, ?it/s]\u001b[A\n",
      " 25%|██▌       | 1/4 [00:25<01:15, 25.33s/it]\u001b[A\n",
      " 75%|███████▌  | 3/4 [00:58<00:19, 19.52s/it]\u001b[A\n",
      "  0%|          | 0/5 [00:58<?, ?it/s]\n"
     ]
    },
    {
     "data": {
      "text/html": [
       "<br/>Waiting for W&B process to finish, PID 2232<br/>Program failed with code 1.  Press ctrl-c to abort syncing."
      ],
      "text/plain": [
       "<IPython.core.display.HTML object>"
      ]
     },
     "metadata": {},
     "output_type": "display_data"
    },
    {
     "data": {
      "application/vnd.jupyter.widget-view+json": {
       "model_id": "",
       "version_major": 2,
       "version_minor": 0
      },
      "text/plain": [
       "VBox(children=(Label(value=' 0.00MB of 0.00MB uploaded (0.00MB deduped)\\r'), FloatProgress(value=1.0, max=1.0)…"
      ]
     },
     "metadata": {},
     "output_type": "display_data"
    },
    {
     "data": {
      "text/html": [
       "Find user logs for this run at: <code>/home/bronzi/ProgProjekte/EIPH_WSI/MIDL2021/Registration/WandB/wandb/run-20210126_183833-wvx1ujgq/logs/debug.log</code>"
      ],
      "text/plain": [
       "<IPython.core.display.HTML object>"
      ]
     },
     "metadata": {},
     "output_type": "display_data"
    },
    {
     "data": {
      "text/html": [
       "Find internal logs for this run at: <code>/home/bronzi/ProgProjekte/EIPH_WSI/MIDL2021/Registration/WandB/wandb/run-20210126_183833-wvx1ujgq/logs/debug-internal.log</code>"
      ],
      "text/plain": [
       "<IPython.core.display.HTML object>"
      ]
     },
     "metadata": {},
     "output_type": "display_data"
    },
    {
     "data": {
      "text/html": [
       "<h3>Run summary:</h3><br/><style>\n",
       "    table.wandb td:nth-child(1) { padding: 0 10px; text-align: right }\n",
       "    </style><table class=\"wandb\">\n",
       "<tr><td>dist_mean_image</td><td>14.90307</td></tr><tr><td>mean_reg_error_image</td><td>4697.75289</td></tr><tr><td>step</td><td>1</td></tr><tr><td>_step</td><td>1</td></tr><tr><td>_runtime</td><td>46</td></tr><tr><td>_timestamp</td><td>1611682759</td></tr></table>"
      ],
      "text/plain": [
       "<IPython.core.display.HTML object>"
      ]
     },
     "metadata": {},
     "output_type": "display_data"
    },
    {
     "data": {
      "text/html": [
       "<h3>Run history:</h3><br/><style>\n",
       "    table.wandb td:nth-child(1) { padding: 0 10px; text-align: right }\n",
       "    </style><table class=\"wandb\">\n",
       "<tr><td>dist_mean_image</td><td>▁█</td></tr><tr><td>mean_reg_error_image</td><td>▁█</td></tr><tr><td>step</td><td>▁█</td></tr><tr><td>_step</td><td>▁█</td></tr><tr><td>_runtime</td><td>▁█</td></tr><tr><td>_timestamp</td><td>▁█</td></tr></table><br/>"
      ],
      "text/plain": [
       "<IPython.core.display.HTML object>"
      ]
     },
     "metadata": {},
     "output_type": "display_data"
    },
    {
     "data": {
      "text/html": [
       "Synced 5 W&B file(s), 0 media file(s), 0 artifact file(s) and 0 other file(s)"
      ],
      "text/plain": [
       "<IPython.core.display.HTML object>"
      ]
     },
     "metadata": {},
     "output_type": "display_data"
    },
    {
     "data": {
      "text/html": [
       "\n",
       "                    <br/>Synced <strong style=\"color:#cdcd00\">true-sweep-21</strong>: <a href=\"https://wandb.ai/christianml/quadtree/runs/wvx1ujgq\" target=\"_blank\">https://wandb.ai/christianml/quadtree/runs/wvx1ujgq</a><br/>\n",
       "                "
      ],
      "text/plain": [
       "<IPython.core.display.HTML object>"
      ]
     },
     "metadata": {},
     "output_type": "display_data"
    },
    {
     "name": "stderr",
     "output_type": "stream",
     "text": [
      "Run wvx1ujgq errored: TypeError(\"'NoneType' object is not subscriptable\")\n",
      "\u001b[34m\u001b[1mwandb\u001b[0m: \u001b[32m\u001b[41mERROR\u001b[0m Run wvx1ujgq errored: TypeError(\"'NoneType' object is not subscriptable\")\n",
      "\u001b[34m\u001b[1mwandb\u001b[0m: Agent Starting Run: n9lvp8cm with config:\n",
      "\u001b[34m\u001b[1mwandb\u001b[0m: \tcrossCheck: False\n",
      "\u001b[34m\u001b[1mwandb\u001b[0m: \tfilter_outliner: False\n",
      "\u001b[34m\u001b[1mwandb\u001b[0m: \tflann: False\n",
      "\u001b[34m\u001b[1mwandb\u001b[0m: \thomography: False\n",
      "\u001b[34m\u001b[1mwandb\u001b[0m: \timage_type: Cyto\n",
      "\u001b[34m\u001b[1mwandb\u001b[0m: \tmaxFeatures: 256\n",
      "\u001b[34m\u001b[1mwandb\u001b[0m: \tpoint_extractor: sift\n",
      "\u001b[34m\u001b[1mwandb\u001b[0m: \tratio: 0.8\n",
      "\u001b[34m\u001b[1mwandb\u001b[0m: \tsource_scanner: Aperio\n",
      "\u001b[34m\u001b[1mwandb\u001b[0m: \ttarget_depth: 0\n",
      "\u001b[34m\u001b[1mwandb\u001b[0m: \tthumbnail_size: [4096, 4096]\n",
      "\u001b[34m\u001b[1mwandb\u001b[0m: \tuse_gray: False\n"
     ]
    },
    {
     "data": {
      "text/html": [
       "\n",
       "                Tracking run with wandb version 0.10.15<br/>\n",
       "                Syncing run <strong style=\"color:#cdcd00\">dulcet-sweep-22</strong> to <a href=\"https://wandb.ai\" target=\"_blank\">Weights & Biases</a> <a href=\"https://docs.wandb.com/integrations/jupyter.html\" target=\"_blank\">(Documentation)</a>.<br/>\n",
       "                Project page: <a href=\"https://wandb.ai/christianml/quadtree\" target=\"_blank\">https://wandb.ai/christianml/quadtree</a><br/>\n",
       "                Sweep page: <a href=\"https://wandb.ai/christianml/quadtree/sweeps/e22y6790\" target=\"_blank\">https://wandb.ai/christianml/quadtree/sweeps/e22y6790</a><br/>\n",
       "Run page: <a href=\"https://wandb.ai/christianml/quadtree/runs/n9lvp8cm\" target=\"_blank\">https://wandb.ai/christianml/quadtree/runs/n9lvp8cm</a><br/>\n",
       "                Run data is saved locally in <code>/home/bronzi/ProgProjekte/EIPH_WSI/MIDL2021/Registration/WandB/wandb/run-20210126_183937-n9lvp8cm</code><br/><br/>\n",
       "            "
      ],
      "text/plain": [
       "<IPython.core.display.HTML object>"
      ]
     },
     "metadata": {},
     "output_type": "display_data"
    },
    {
     "name": "stderr",
     "output_type": "stream",
     "text": [
      "  0%|          | 0/5 [00:00<?, ?it/s]\n",
      "  0%|          | 0/4 [00:00<?, ?it/s]\u001b[A\n",
      " 25%|██▌       | 1/4 [12:14<36:44, 734.92s/it]\u001b[A\n",
      " 75%|███████▌  | 3/4 [19:48<05:58, 358.64s/it]\u001b[A\n",
      "100%|██████████| 4/4 [21:34<00:00, 323.57s/it]\u001b[A\n",
      " 20%|██        | 1/5 [21:34<1:26:17, 1294.30s/it]\n",
      "  0%|          | 0/4 [00:00<?, ?it/s]\u001b[A\n",
      " 25%|██▌       | 1/4 [04:29<13:27, 269.31s/it]\u001b[A\n",
      " 75%|███████▌  | 3/4 [06:21<01:51, 111.55s/it]\u001b[A\n",
      "100%|██████████| 4/4 [07:28<00:00, 112.17s/it]\u001b[A\n",
      " 40%|████      | 2/5 [29:02<39:50, 796.88s/it]   \n",
      "  0%|          | 0/4 [00:00<?, ?it/s]\u001b[A\n",
      " 25%|██▌       | 1/4 [23:45<1:11:16, 1425.39s/it]\u001b[A\n",
      " 75%|███████▌  | 3/4 [33:28<09:45, 585.54s/it]   \u001b[A\n",
      "100%|██████████| 4/4 [36:27<00:00, 546.98s/it]\u001b[A\n",
      " 60%|██████    | 3/5 [1:05:30<47:44, 1432.05s/it]\n",
      "  0%|          | 0/4 [00:00<?, ?it/s]\u001b[A\n",
      " 25%|██▌       | 1/4 [01:03<03:09, 63.24s/it]\u001b[A\n",
      " 75%|███████▌  | 3/4 [01:48<00:32, 32.98s/it]\u001b[A\n",
      "100%|██████████| 4/4 [02:19<00:00, 34.89s/it]\u001b[A\n",
      " 80%|████████  | 4/5 [1:07:50<15:21, 921.79s/it] \n",
      "  0%|          | 0/4 [00:00<?, ?it/s]\u001b[A\n",
      " 25%|██▌       | 1/4 [10:22<31:07, 622.51s/it]\u001b[A\n",
      " 75%|███████▌  | 3/4 [14:52<04:21, 261.33s/it]\u001b[A\n",
      "100%|██████████| 4/4 [16:28<00:00, 247.09s/it]\u001b[A\n",
      "100%|██████████| 5/5 [1:24:18<00:00, 1011.77s/it]\n"
     ]
    },
    {
     "data": {
      "text/html": [
       "<br/>Waiting for W&B process to finish, PID 2427<br/>Program ended successfully."
      ],
      "text/plain": [
       "<IPython.core.display.HTML object>"
      ]
     },
     "metadata": {},
     "output_type": "display_data"
    },
    {
     "data": {
      "application/vnd.jupyter.widget-view+json": {
       "model_id": "",
       "version_major": 2,
       "version_minor": 0
      },
      "text/plain": [
       "VBox(children=(Label(value=' 0.00MB of 0.00MB uploaded (0.00MB deduped)\\r'), FloatProgress(value=1.0, max=1.0)…"
      ]
     },
     "metadata": {},
     "output_type": "display_data"
    },
    {
     "data": {
      "text/html": [
       "Find user logs for this run at: <code>/home/bronzi/ProgProjekte/EIPH_WSI/MIDL2021/Registration/WandB/wandb/run-20210126_183937-n9lvp8cm/logs/debug.log</code>"
      ],
      "text/plain": [
       "<IPython.core.display.HTML object>"
      ]
     },
     "metadata": {},
     "output_type": "display_data"
    },
    {
     "data": {
      "text/html": [
       "Find internal logs for this run at: <code>/home/bronzi/ProgProjekte/EIPH_WSI/MIDL2021/Registration/WandB/wandb/run-20210126_183937-n9lvp8cm/logs/debug-internal.log</code>"
      ],
      "text/plain": [
       "<IPython.core.display.HTML object>"
      ]
     },
     "metadata": {},
     "output_type": "display_data"
    },
    {
     "data": {
      "text/html": [
       "<h3>Run summary:</h3><br/><style>\n",
       "    table.wandb td:nth-child(1) { padding: 0 10px; text-align: right }\n",
       "    </style><table class=\"wandb\">\n",
       "<tr><td>dist_mean_image</td><td>25.25914</td></tr><tr><td>mean_reg_error_image</td><td>2403.99419</td></tr><tr><td>step</td><td>14</td></tr><tr><td>_step</td><td>15</td></tr><tr><td>_runtime</td><td>5059</td></tr><tr><td>_timestamp</td><td>1611687836</td></tr><tr><td>dist_mean</td><td>8.92535</td></tr><tr><td>dist_min</td><td>0.55182</td></tr><tr><td>dist_max</td><td>59.44884</td></tr><tr><td>mean_reg_error</td><td>2158.89189</td></tr></table>"
      ],
      "text/plain": [
       "<IPython.core.display.HTML object>"
      ]
     },
     "metadata": {},
     "output_type": "display_data"
    },
    {
     "data": {
      "text/html": [
       "<h3>Run history:</h3><br/><style>\n",
       "    table.wandb td:nth-child(1) { padding: 0 10px; text-align: right }\n",
       "    </style><table class=\"wandb\">\n",
       "<tr><td>dist_mean_image</td><td>▂▂▂▂▆▃▁▃▂▃█▆▁▁▃</td></tr><tr><td>mean_reg_error_image</td><td>▂▂▄▁▂▃▁▁▂▄▅█▁▂▃</td></tr><tr><td>step</td><td>▁▁▂▃▃▃▄▅▅▅▆▇▇▇█</td></tr><tr><td>_step</td><td>▁▁▂▂▃▃▄▄▅▅▆▆▇▇██</td></tr><tr><td>_runtime</td><td>▁▂▂▂▃▃▅▆▆▆▆▆▇███</td></tr><tr><td>_timestamp</td><td>▁▂▂▂▃▃▅▆▆▆▆▆▇███</td></tr><tr><td>dist_mean</td><td>▁</td></tr><tr><td>dist_min</td><td>▁</td></tr><tr><td>dist_max</td><td>▁</td></tr><tr><td>mean_reg_error</td><td>▁</td></tr></table><br/>"
      ],
      "text/plain": [
       "<IPython.core.display.HTML object>"
      ]
     },
     "metadata": {},
     "output_type": "display_data"
    },
    {
     "data": {
      "text/html": [
       "Synced 5 W&B file(s), 0 media file(s), 0 artifact file(s) and 0 other file(s)"
      ],
      "text/plain": [
       "<IPython.core.display.HTML object>"
      ]
     },
     "metadata": {},
     "output_type": "display_data"
    },
    {
     "data": {
      "text/html": [
       "\n",
       "                    <br/>Synced <strong style=\"color:#cdcd00\">dulcet-sweep-22</strong>: <a href=\"https://wandb.ai/christianml/quadtree/runs/n9lvp8cm\" target=\"_blank\">https://wandb.ai/christianml/quadtree/runs/n9lvp8cm</a><br/>\n",
       "                "
      ],
      "text/plain": [
       "<IPython.core.display.HTML object>"
      ]
     },
     "metadata": {},
     "output_type": "display_data"
    },
    {
     "name": "stderr",
     "output_type": "stream",
     "text": [
      "\u001b[34m\u001b[1mwandb\u001b[0m: Agent Starting Run: ysh25ks2 with config:\n",
      "\u001b[34m\u001b[1mwandb\u001b[0m: \tcrossCheck: False\n",
      "\u001b[34m\u001b[1mwandb\u001b[0m: \tfilter_outliner: False\n",
      "\u001b[34m\u001b[1mwandb\u001b[0m: \tflann: True\n",
      "\u001b[34m\u001b[1mwandb\u001b[0m: \thomography: True\n",
      "\u001b[34m\u001b[1mwandb\u001b[0m: \timage_type: Cyto\n",
      "\u001b[34m\u001b[1mwandb\u001b[0m: \tmaxFeatures: 256\n",
      "\u001b[34m\u001b[1mwandb\u001b[0m: \tpoint_extractor: sift\n",
      "\u001b[34m\u001b[1mwandb\u001b[0m: \tratio: 0.6\n",
      "\u001b[34m\u001b[1mwandb\u001b[0m: \tsource_scanner: Aperio\n",
      "\u001b[34m\u001b[1mwandb\u001b[0m: \ttarget_depth: 0\n",
      "\u001b[34m\u001b[1mwandb\u001b[0m: \tthumbnail_size: [1024, 1024]\n",
      "\u001b[34m\u001b[1mwandb\u001b[0m: \tuse_gray: False\n"
     ]
    },
    {
     "data": {
      "text/html": [
       "\n",
       "                Tracking run with wandb version 0.10.15<br/>\n",
       "                Syncing run <strong style=\"color:#cdcd00\">fragrant-sweep-39</strong> to <a href=\"https://wandb.ai\" target=\"_blank\">Weights & Biases</a> <a href=\"https://docs.wandb.com/integrations/jupyter.html\" target=\"_blank\">(Documentation)</a>.<br/>\n",
       "                Project page: <a href=\"https://wandb.ai/christianml/quadtree\" target=\"_blank\">https://wandb.ai/christianml/quadtree</a><br/>\n",
       "                Sweep page: <a href=\"https://wandb.ai/christianml/quadtree/sweeps/e22y6790\" target=\"_blank\">https://wandb.ai/christianml/quadtree/sweeps/e22y6790</a><br/>\n",
       "Run page: <a href=\"https://wandb.ai/christianml/quadtree/runs/ysh25ks2\" target=\"_blank\">https://wandb.ai/christianml/quadtree/runs/ysh25ks2</a><br/>\n",
       "                Run data is saved locally in <code>/home/bronzi/ProgProjekte/EIPH_WSI/MIDL2021/Registration/WandB/wandb/run-20210126_200400-ysh25ks2</code><br/><br/>\n",
       "            "
      ],
      "text/plain": [
       "<IPython.core.display.HTML object>"
      ]
     },
     "metadata": {},
     "output_type": "display_data"
    },
    {
     "name": "stderr",
     "output_type": "stream",
     "text": [
      "  0%|          | 0/5 [00:00<?, ?it/s]\n",
      "  0%|          | 0/4 [00:00<?, ?it/s]\u001b[A\n",
      " 25%|██▌       | 1/4 [00:00<00:01,  1.71it/s]\u001b[A\n",
      " 75%|███████▌  | 3/4 [00:01<00:00,  1.64it/s]\u001b[A\n",
      "100%|██████████| 4/4 [00:02<00:00,  1.69it/s]\u001b[A\n",
      " 20%|██        | 1/5 [00:02<00:09,  2.38s/it]\n",
      "  0%|          | 0/4 [00:00<?, ?it/s]\u001b[A\n",
      " 25%|██▌       | 1/4 [00:00<00:01,  1.76it/s]\u001b[A\n",
      " 75%|███████▌  | 3/4 [00:01<00:00,  1.62it/s]\u001b[A\n",
      "100%|██████████| 4/4 [00:02<00:00,  1.65it/s]\u001b[A\n",
      " 40%|████      | 2/5 [00:04<00:07,  2.41s/it]\n",
      "  0%|          | 0/4 [00:00<?, ?it/s]\u001b[A\n",
      " 25%|██▌       | 1/4 [00:00<00:01,  1.68it/s]\u001b[A\n",
      " 75%|███████▌  | 3/4 [00:02<00:00,  1.36it/s]\u001b[A\n",
      "100%|██████████| 4/4 [00:02<00:00,  1.44it/s]\u001b[A\n",
      " 60%|██████    | 3/5 [00:07<00:05,  2.58s/it]\n",
      "  0%|          | 0/4 [00:00<?, ?it/s]\u001b[A\n",
      " 25%|██▌       | 1/4 [00:00<00:02,  1.34it/s]\u001b[A\n",
      " 75%|███████▌  | 3/4 [00:02<00:00,  1.19it/s]\u001b[A\n",
      "100%|██████████| 4/4 [00:03<00:00,  1.24it/s]\u001b[A\n",
      " 80%|████████  | 4/5 [00:10<00:02,  2.84s/it]\n",
      "  0%|          | 0/4 [00:00<?, ?it/s]\u001b[A\n",
      " 25%|██▌       | 1/4 [00:00<00:02,  1.32it/s]\u001b[A\n",
      " 75%|███████▌  | 3/4 [00:02<00:00,  1.23it/s]\u001b[A\n",
      "100%|██████████| 4/4 [00:03<00:00,  1.32it/s]\u001b[A\n",
      "100%|██████████| 5/5 [00:13<00:00,  2.77s/it]\n"
     ]
    },
    {
     "data": {
      "text/html": [
       "<br/>Waiting for W&B process to finish, PID 14924<br/>Program ended successfully."
      ],
      "text/plain": [
       "<IPython.core.display.HTML object>"
      ]
     },
     "metadata": {},
     "output_type": "display_data"
    },
    {
     "data": {
      "application/vnd.jupyter.widget-view+json": {
       "model_id": "",
       "version_major": 2,
       "version_minor": 0
      },
      "text/plain": [
       "VBox(children=(Label(value=' 0.00MB of 0.00MB uploaded (0.00MB deduped)\\r'), FloatProgress(value=1.0, max=1.0)…"
      ]
     },
     "metadata": {},
     "output_type": "display_data"
    },
    {
     "data": {
      "text/html": [
       "Find user logs for this run at: <code>/home/bronzi/ProgProjekte/EIPH_WSI/MIDL2021/Registration/WandB/wandb/run-20210126_200400-ysh25ks2/logs/debug.log</code>"
      ],
      "text/plain": [
       "<IPython.core.display.HTML object>"
      ]
     },
     "metadata": {},
     "output_type": "display_data"
    },
    {
     "data": {
      "text/html": [
       "Find internal logs for this run at: <code>/home/bronzi/ProgProjekte/EIPH_WSI/MIDL2021/Registration/WandB/wandb/run-20210126_200400-ysh25ks2/logs/debug-internal.log</code>"
      ],
      "text/plain": [
       "<IPython.core.display.HTML object>"
      ]
     },
     "metadata": {},
     "output_type": "display_data"
    },
    {
     "data": {
      "text/html": [
       "<h3>Run summary:</h3><br/><style>\n",
       "    table.wandb td:nth-child(1) { padding: 0 10px; text-align: right }\n",
       "    </style><table class=\"wandb\">\n",
       "<tr><td>dist_mean_image</td><td>25.38193</td></tr><tr><td>mean_reg_error_image</td><td>294.51054</td></tr><tr><td>step</td><td>14</td></tr><tr><td>_step</td><td>15</td></tr><tr><td>_runtime</td><td>15</td></tr><tr><td>_timestamp</td><td>1611687855</td></tr><tr><td>dist_mean</td><td>19.64782</td></tr><tr><td>dist_min</td><td>1.90816</td></tr><tr><td>dist_max</td><td>189.88875</td></tr><tr><td>mean_reg_error</td><td>114.2374</td></tr></table>"
      ],
      "text/plain": [
       "<IPython.core.display.HTML object>"
      ]
     },
     "metadata": {},
     "output_type": "display_data"
    },
    {
     "data": {
      "text/html": [
       "<h3>Run history:</h3><br/><style>\n",
       "    table.wandb td:nth-child(1) { padding: 0 10px; text-align: right }\n",
       "    </style><table class=\"wandb\">\n",
       "<tr><td>dist_mean_image</td><td>▁▂█▁▂▂▁▁▂▁▄▂▂▁▁</td></tr><tr><td>mean_reg_error_image</td><td>▁▁▂▂▁▄▁▂▁▁▄█▁▁▄</td></tr><tr><td>step</td><td>▁▁▂▃▃▃▄▅▅▅▆▇▇▇█</td></tr><tr><td>_step</td><td>▁▁▂▂▃▃▄▄▅▅▆▆▇▇██</td></tr><tr><td>_runtime</td><td>▁▂▂▂▃▃▄▄▅▅▆▆▇▇██</td></tr><tr><td>_timestamp</td><td>▁▂▂▂▃▃▄▄▅▅▆▆▇▇██</td></tr><tr><td>dist_mean</td><td>▁</td></tr><tr><td>dist_min</td><td>▁</td></tr><tr><td>dist_max</td><td>▁</td></tr><tr><td>mean_reg_error</td><td>▁</td></tr></table><br/>"
      ],
      "text/plain": [
       "<IPython.core.display.HTML object>"
      ]
     },
     "metadata": {},
     "output_type": "display_data"
    },
    {
     "data": {
      "text/html": [
       "Synced 5 W&B file(s), 0 media file(s), 0 artifact file(s) and 0 other file(s)"
      ],
      "text/plain": [
       "<IPython.core.display.HTML object>"
      ]
     },
     "metadata": {},
     "output_type": "display_data"
    },
    {
     "data": {
      "text/html": [
       "\n",
       "                    <br/>Synced <strong style=\"color:#cdcd00\">fragrant-sweep-39</strong>: <a href=\"https://wandb.ai/christianml/quadtree/runs/ysh25ks2\" target=\"_blank\">https://wandb.ai/christianml/quadtree/runs/ysh25ks2</a><br/>\n",
       "                "
      ],
      "text/plain": [
       "<IPython.core.display.HTML object>"
      ]
     },
     "metadata": {},
     "output_type": "display_data"
    },
    {
     "name": "stderr",
     "output_type": "stream",
     "text": [
      "\u001b[34m\u001b[1mwandb\u001b[0m: Agent Starting Run: z0mrnu82 with config:\n",
      "\u001b[34m\u001b[1mwandb\u001b[0m: \tcrossCheck: False\n",
      "\u001b[34m\u001b[1mwandb\u001b[0m: \tfilter_outliner: False\n",
      "\u001b[34m\u001b[1mwandb\u001b[0m: \tflann: True\n",
      "\u001b[34m\u001b[1mwandb\u001b[0m: \thomography: False\n",
      "\u001b[34m\u001b[1mwandb\u001b[0m: \timage_type: Cyto\n",
      "\u001b[34m\u001b[1mwandb\u001b[0m: \tmaxFeatures: 128\n",
      "\u001b[34m\u001b[1mwandb\u001b[0m: \tpoint_extractor: sift\n",
      "\u001b[34m\u001b[1mwandb\u001b[0m: \tratio: 0.4\n",
      "\u001b[34m\u001b[1mwandb\u001b[0m: \tsource_scanner: Aperio\n",
      "\u001b[34m\u001b[1mwandb\u001b[0m: \ttarget_depth: 0\n",
      "\u001b[34m\u001b[1mwandb\u001b[0m: \tthumbnail_size: [1024, 1024]\n",
      "\u001b[34m\u001b[1mwandb\u001b[0m: \tuse_gray: False\n"
     ]
    },
    {
     "data": {
      "text/html": [
       "\n",
       "                Tracking run with wandb version 0.10.15<br/>\n",
       "                Syncing run <strong style=\"color:#cdcd00\">true-sweep-40</strong> to <a href=\"https://wandb.ai\" target=\"_blank\">Weights & Biases</a> <a href=\"https://docs.wandb.com/integrations/jupyter.html\" target=\"_blank\">(Documentation)</a>.<br/>\n",
       "                Project page: <a href=\"https://wandb.ai/christianml/quadtree\" target=\"_blank\">https://wandb.ai/christianml/quadtree</a><br/>\n",
       "                Sweep page: <a href=\"https://wandb.ai/christianml/quadtree/sweeps/e22y6790\" target=\"_blank\">https://wandb.ai/christianml/quadtree/sweeps/e22y6790</a><br/>\n",
       "Run page: <a href=\"https://wandb.ai/christianml/quadtree/runs/z0mrnu82\" target=\"_blank\">https://wandb.ai/christianml/quadtree/runs/z0mrnu82</a><br/>\n",
       "                Run data is saved locally in <code>/home/bronzi/ProgProjekte/EIPH_WSI/MIDL2021/Registration/WandB/wandb/run-20210126_200419-z0mrnu82</code><br/><br/>\n",
       "            "
      ],
      "text/plain": [
       "<IPython.core.display.HTML object>"
      ]
     },
     "metadata": {},
     "output_type": "display_data"
    },
    {
     "name": "stderr",
     "output_type": "stream",
     "text": [
      "  0%|          | 0/5 [00:00<?, ?it/s]\n",
      "  0%|          | 0/4 [00:00<?, ?it/s]\u001b[A\n",
      " 25%|██▌       | 1/4 [00:01<00:03,  1.21s/it]\u001b[A\n",
      " 75%|███████▌  | 3/4 [00:03<00:01,  1.14s/it]\u001b[A\n",
      "  0%|          | 0/5 [00:03<?, ?it/s]\n"
     ]
    },
    {
     "data": {
      "text/html": [
       "<br/>Waiting for W&B process to finish, PID 15004<br/>Program failed with code 1.  Press ctrl-c to abort syncing."
      ],
      "text/plain": [
       "<IPython.core.display.HTML object>"
      ]
     },
     "metadata": {},
     "output_type": "display_data"
    },
    {
     "data": {
      "application/vnd.jupyter.widget-view+json": {
       "model_id": "",
       "version_major": 2,
       "version_minor": 0
      },
      "text/plain": [
       "VBox(children=(Label(value=' 0.00MB of 0.00MB uploaded (0.00MB deduped)\\r'), FloatProgress(value=1.0, max=1.0)…"
      ]
     },
     "metadata": {},
     "output_type": "display_data"
    },
    {
     "data": {
      "text/html": [
       "Find user logs for this run at: <code>/home/bronzi/ProgProjekte/EIPH_WSI/MIDL2021/Registration/WandB/wandb/run-20210126_200419-z0mrnu82/logs/debug.log</code>"
      ],
      "text/plain": [
       "<IPython.core.display.HTML object>"
      ]
     },
     "metadata": {},
     "output_type": "display_data"
    },
    {
     "data": {
      "text/html": [
       "Find internal logs for this run at: <code>/home/bronzi/ProgProjekte/EIPH_WSI/MIDL2021/Registration/WandB/wandb/run-20210126_200419-z0mrnu82/logs/debug-internal.log</code>"
      ],
      "text/plain": [
       "<IPython.core.display.HTML object>"
      ]
     },
     "metadata": {},
     "output_type": "display_data"
    },
    {
     "data": {
      "text/html": [
       "<h3>Run summary:</h3><br/><style>\n",
       "    table.wandb td:nth-child(1) { padding: 0 10px; text-align: right }\n",
       "    </style><table class=\"wandb\">\n",
       "<tr><td>dist_mean_image</td><td>30.24679</td></tr><tr><td>mean_reg_error_image</td><td>5.87097</td></tr><tr><td>step</td><td>1</td></tr><tr><td>_step</td><td>1</td></tr><tr><td>_runtime</td><td>4</td></tr><tr><td>_timestamp</td><td>1611687863</td></tr></table>"
      ],
      "text/plain": [
       "<IPython.core.display.HTML object>"
      ]
     },
     "metadata": {},
     "output_type": "display_data"
    },
    {
     "data": {
      "text/html": [
       "<h3>Run history:</h3><br/><style>\n",
       "    table.wandb td:nth-child(1) { padding: 0 10px; text-align: right }\n",
       "    </style><table class=\"wandb\">\n",
       "<tr><td>dist_mean_image</td><td>▁█</td></tr><tr><td>mean_reg_error_image</td><td>▁█</td></tr><tr><td>step</td><td>▁█</td></tr><tr><td>_step</td><td>▁█</td></tr><tr><td>_runtime</td><td>▁█</td></tr><tr><td>_timestamp</td><td>▁█</td></tr></table><br/>"
      ],
      "text/plain": [
       "<IPython.core.display.HTML object>"
      ]
     },
     "metadata": {},
     "output_type": "display_data"
    },
    {
     "data": {
      "text/html": [
       "Synced 5 W&B file(s), 0 media file(s), 0 artifact file(s) and 0 other file(s)"
      ],
      "text/plain": [
       "<IPython.core.display.HTML object>"
      ]
     },
     "metadata": {},
     "output_type": "display_data"
    },
    {
     "data": {
      "text/html": [
       "\n",
       "                    <br/>Synced <strong style=\"color:#cdcd00\">true-sweep-40</strong>: <a href=\"https://wandb.ai/christianml/quadtree/runs/z0mrnu82\" target=\"_blank\">https://wandb.ai/christianml/quadtree/runs/z0mrnu82</a><br/>\n",
       "                "
      ],
      "text/plain": [
       "<IPython.core.display.HTML object>"
      ]
     },
     "metadata": {},
     "output_type": "display_data"
    },
    {
     "name": "stderr",
     "output_type": "stream",
     "text": [
      "Run z0mrnu82 errored: TypeError(\"'NoneType' object is not subscriptable\")\n",
      "\u001b[34m\u001b[1mwandb\u001b[0m: \u001b[32m\u001b[41mERROR\u001b[0m Run z0mrnu82 errored: TypeError(\"'NoneType' object is not subscriptable\")\n",
      "\u001b[34m\u001b[1mwandb\u001b[0m: Agent Starting Run: 9n6hil36 with config:\n",
      "\u001b[34m\u001b[1mwandb\u001b[0m: \tcrossCheck: False\n",
      "\u001b[34m\u001b[1mwandb\u001b[0m: \tfilter_outliner: False\n",
      "\u001b[34m\u001b[1mwandb\u001b[0m: \tflann: True\n",
      "\u001b[34m\u001b[1mwandb\u001b[0m: \thomography: False\n",
      "\u001b[34m\u001b[1mwandb\u001b[0m: \timage_type: Cyto\n",
      "\u001b[34m\u001b[1mwandb\u001b[0m: \tmaxFeatures: 512\n",
      "\u001b[34m\u001b[1mwandb\u001b[0m: \tpoint_extractor: sift\n",
      "\u001b[34m\u001b[1mwandb\u001b[0m: \tratio: 0.4\n",
      "\u001b[34m\u001b[1mwandb\u001b[0m: \tsource_scanner: Aperio\n",
      "\u001b[34m\u001b[1mwandb\u001b[0m: \ttarget_depth: 0\n",
      "\u001b[34m\u001b[1mwandb\u001b[0m: \tthumbnail_size: [1024, 1024]\n",
      "\u001b[34m\u001b[1mwandb\u001b[0m: \tuse_gray: True\n"
     ]
    },
    {
     "data": {
      "text/html": [
       "\n",
       "                Tracking run with wandb version 0.10.15<br/>\n",
       "                Syncing run <strong style=\"color:#cdcd00\">balmy-sweep-41</strong> to <a href=\"https://wandb.ai\" target=\"_blank\">Weights & Biases</a> <a href=\"https://docs.wandb.com/integrations/jupyter.html\" target=\"_blank\">(Documentation)</a>.<br/>\n",
       "                Project page: <a href=\"https://wandb.ai/christianml/quadtree\" target=\"_blank\">https://wandb.ai/christianml/quadtree</a><br/>\n",
       "                Sweep page: <a href=\"https://wandb.ai/christianml/quadtree/sweeps/e22y6790\" target=\"_blank\">https://wandb.ai/christianml/quadtree/sweeps/e22y6790</a><br/>\n",
       "Run page: <a href=\"https://wandb.ai/christianml/quadtree/runs/9n6hil36\" target=\"_blank\">https://wandb.ai/christianml/quadtree/runs/9n6hil36</a><br/>\n",
       "                Run data is saved locally in <code>/home/bronzi/ProgProjekte/EIPH_WSI/MIDL2021/Registration/WandB/wandb/run-20210126_200428-9n6hil36</code><br/><br/>\n",
       "            "
      ],
      "text/plain": [
       "<IPython.core.display.HTML object>"
      ]
     },
     "metadata": {},
     "output_type": "display_data"
    },
    {
     "name": "stderr",
     "output_type": "stream",
     "text": [
      "  0%|          | 0/5 [00:00<?, ?it/s]\n",
      "  0%|          | 0/4 [00:00<?, ?it/s]\u001b[A\n",
      " 25%|██▌       | 1/4 [00:01<00:03,  1.22s/it]\u001b[A\n",
      " 75%|███████▌  | 3/4 [00:03<00:01,  1.20s/it]\u001b[A\n",
      "  0%|          | 0/5 [00:03<?, ?it/s]\n"
     ]
    },
    {
     "data": {
      "text/html": [
       "<br/>Waiting for W&B process to finish, PID 15115<br/>Program failed with code 1.  Press ctrl-c to abort syncing."
      ],
      "text/plain": [
       "<IPython.core.display.HTML object>"
      ]
     },
     "metadata": {},
     "output_type": "display_data"
    },
    {
     "data": {
      "application/vnd.jupyter.widget-view+json": {
       "model_id": "",
       "version_major": 2,
       "version_minor": 0
      },
      "text/plain": [
       "VBox(children=(Label(value=' 0.00MB of 0.00MB uploaded (0.00MB deduped)\\r'), FloatProgress(value=1.0, max=1.0)…"
      ]
     },
     "metadata": {},
     "output_type": "display_data"
    },
    {
     "data": {
      "text/html": [
       "Find user logs for this run at: <code>/home/bronzi/ProgProjekte/EIPH_WSI/MIDL2021/Registration/WandB/wandb/run-20210126_200428-9n6hil36/logs/debug.log</code>"
      ],
      "text/plain": [
       "<IPython.core.display.HTML object>"
      ]
     },
     "metadata": {},
     "output_type": "display_data"
    },
    {
     "data": {
      "text/html": [
       "Find internal logs for this run at: <code>/home/bronzi/ProgProjekte/EIPH_WSI/MIDL2021/Registration/WandB/wandb/run-20210126_200428-9n6hil36/logs/debug-internal.log</code>"
      ],
      "text/plain": [
       "<IPython.core.display.HTML object>"
      ]
     },
     "metadata": {},
     "output_type": "display_data"
    },
    {
     "data": {
      "text/html": [
       "<h3>Run summary:</h3><br/><style>\n",
       "    table.wandb td:nth-child(1) { padding: 0 10px; text-align: right }\n",
       "    </style><table class=\"wandb\">\n",
       "<tr><td>dist_mean_image</td><td>30.24679</td></tr><tr><td>mean_reg_error_image</td><td>5.87097</td></tr><tr><td>step</td><td>1</td></tr><tr><td>_step</td><td>1</td></tr><tr><td>_runtime</td><td>3</td></tr><tr><td>_timestamp</td><td>1611687871</td></tr></table>"
      ],
      "text/plain": [
       "<IPython.core.display.HTML object>"
      ]
     },
     "metadata": {},
     "output_type": "display_data"
    },
    {
     "data": {
      "text/html": [
       "<h3>Run history:</h3><br/><style>\n",
       "    table.wandb td:nth-child(1) { padding: 0 10px; text-align: right }\n",
       "    </style><table class=\"wandb\">\n",
       "<tr><td>dist_mean_image</td><td>▁█</td></tr><tr><td>mean_reg_error_image</td><td>▁█</td></tr><tr><td>step</td><td>▁█</td></tr><tr><td>_step</td><td>▁█</td></tr><tr><td>_runtime</td><td>▁█</td></tr><tr><td>_timestamp</td><td>▁█</td></tr></table><br/>"
      ],
      "text/plain": [
       "<IPython.core.display.HTML object>"
      ]
     },
     "metadata": {},
     "output_type": "display_data"
    },
    {
     "data": {
      "text/html": [
       "Synced 5 W&B file(s), 0 media file(s), 0 artifact file(s) and 0 other file(s)"
      ],
      "text/plain": [
       "<IPython.core.display.HTML object>"
      ]
     },
     "metadata": {},
     "output_type": "display_data"
    },
    {
     "data": {
      "text/html": [
       "\n",
       "                    <br/>Synced <strong style=\"color:#cdcd00\">balmy-sweep-41</strong>: <a href=\"https://wandb.ai/christianml/quadtree/runs/9n6hil36\" target=\"_blank\">https://wandb.ai/christianml/quadtree/runs/9n6hil36</a><br/>\n",
       "                "
      ],
      "text/plain": [
       "<IPython.core.display.HTML object>"
      ]
     },
     "metadata": {},
     "output_type": "display_data"
    },
    {
     "name": "stderr",
     "output_type": "stream",
     "text": [
      "Run 9n6hil36 errored: TypeError(\"'NoneType' object is not subscriptable\")\n",
      "\u001b[34m\u001b[1mwandb\u001b[0m: \u001b[32m\u001b[41mERROR\u001b[0m Run 9n6hil36 errored: TypeError(\"'NoneType' object is not subscriptable\")\n",
      "\u001b[34m\u001b[1mwandb\u001b[0m: Agent Starting Run: rrxu690r with config:\n",
      "\u001b[34m\u001b[1mwandb\u001b[0m: \tcrossCheck: False\n",
      "\u001b[34m\u001b[1mwandb\u001b[0m: \tfilter_outliner: False\n",
      "\u001b[34m\u001b[1mwandb\u001b[0m: \tflann: True\n",
      "\u001b[34m\u001b[1mwandb\u001b[0m: \thomography: False\n",
      "\u001b[34m\u001b[1mwandb\u001b[0m: \timage_type: Cyto\n",
      "\u001b[34m\u001b[1mwandb\u001b[0m: \tmaxFeatures: 768\n",
      "\u001b[34m\u001b[1mwandb\u001b[0m: \tpoint_extractor: sift\n",
      "\u001b[34m\u001b[1mwandb\u001b[0m: \tratio: 0.5\n",
      "\u001b[34m\u001b[1mwandb\u001b[0m: \tsource_scanner: Aperio\n",
      "\u001b[34m\u001b[1mwandb\u001b[0m: \ttarget_depth: 0\n",
      "\u001b[34m\u001b[1mwandb\u001b[0m: \tthumbnail_size: [2048, 2048]\n",
      "\u001b[34m\u001b[1mwandb\u001b[0m: \tuse_gray: True\n"
     ]
    },
    {
     "data": {
      "text/html": [
       "\n",
       "                Tracking run with wandb version 0.10.15<br/>\n",
       "                Syncing run <strong style=\"color:#cdcd00\">misty-sweep-42</strong> to <a href=\"https://wandb.ai\" target=\"_blank\">Weights & Biases</a> <a href=\"https://docs.wandb.com/integrations/jupyter.html\" target=\"_blank\">(Documentation)</a>.<br/>\n",
       "                Project page: <a href=\"https://wandb.ai/christianml/quadtree\" target=\"_blank\">https://wandb.ai/christianml/quadtree</a><br/>\n",
       "                Sweep page: <a href=\"https://wandb.ai/christianml/quadtree/sweeps/e22y6790\" target=\"_blank\">https://wandb.ai/christianml/quadtree/sweeps/e22y6790</a><br/>\n",
       "Run page: <a href=\"https://wandb.ai/christianml/quadtree/runs/rrxu690r\" target=\"_blank\">https://wandb.ai/christianml/quadtree/runs/rrxu690r</a><br/>\n",
       "                Run data is saved locally in <code>/home/bronzi/ProgProjekte/EIPH_WSI/MIDL2021/Registration/WandB/wandb/run-20210126_200436-rrxu690r</code><br/><br/>\n",
       "            "
      ],
      "text/plain": [
       "<IPython.core.display.HTML object>"
      ]
     },
     "metadata": {},
     "output_type": "display_data"
    },
    {
     "name": "stderr",
     "output_type": "stream",
     "text": [
      "  0%|          | 0/5 [00:00<?, ?it/s]\n",
      "  0%|          | 0/4 [00:00<?, ?it/s]\u001b[A\n",
      " 25%|██▌       | 1/4 [00:39<01:59, 39.75s/it]\u001b[A\n",
      " 75%|███████▌  | 3/4 [01:23<00:26, 26.34s/it]\u001b[A\n",
      "100%|██████████| 4/4 [01:30<00:00, 22.68s/it]\u001b[A\n",
      " 20%|██        | 1/5 [01:30<06:02, 90.73s/it]\n",
      "  0%|          | 0/4 [00:00<?, ?it/s]\u001b[A\n",
      " 25%|██▌       | 1/4 [00:07<00:23,  7.99s/it]\u001b[A\n",
      " 75%|███████▌  | 3/4 [00:14<00:04,  4.52s/it]\u001b[A\n",
      "100%|██████████| 4/4 [00:17<00:00,  4.42s/it]\u001b[A\n",
      " 40%|████      | 2/5 [01:48<02:23, 47.76s/it]\n",
      "  0%|          | 0/4 [00:00<?, ?it/s]\u001b[A\n",
      " 25%|██▌       | 1/4 [01:04<03:13, 64.46s/it]\u001b[A\n",
      " 75%|███████▌  | 3/4 [01:50<00:33, 33.82s/it]\u001b[A\n",
      "100%|██████████| 4/4 [01:59<00:00, 30.00s/it]\u001b[A\n",
      " 60%|██████    | 3/5 [03:48<02:41, 80.75s/it]\n",
      "  0%|          | 0/4 [00:00<?, ?it/s]\u001b[A\n",
      " 25%|██▌       | 1/4 [00:02<00:06,  2.12s/it]\u001b[A\n",
      " 75%|███████▌  | 3/4 [00:06<00:01,  1.99s/it]\u001b[A\n",
      "100%|██████████| 4/4 [00:07<00:00,  2.00s/it]\u001b[A\n",
      " 80%|████████  | 4/5 [03:56<00:52, 52.03s/it]\n",
      "  0%|          | 0/4 [00:00<?, ?it/s]\u001b[A\n",
      " 25%|██▌       | 1/4 [00:26<01:19, 26.46s/it]\u001b[A\n",
      " 75%|███████▌  | 3/4 [00:48<00:15, 15.10s/it]\u001b[A\n",
      "100%|██████████| 4/4 [00:57<00:00, 14.43s/it]\u001b[A\n",
      "100%|██████████| 5/5 [04:54<00:00, 58.83s/it]\n"
     ]
    },
    {
     "data": {
      "text/html": [
       "<br/>Waiting for W&B process to finish, PID 15229<br/>Program ended successfully."
      ],
      "text/plain": [
       "<IPython.core.display.HTML object>"
      ]
     },
     "metadata": {},
     "output_type": "display_data"
    },
    {
     "data": {
      "application/vnd.jupyter.widget-view+json": {
       "model_id": "",
       "version_major": 2,
       "version_minor": 0
      },
      "text/plain": [
       "VBox(children=(Label(value=' 0.00MB of 0.00MB uploaded (0.00MB deduped)\\r'), FloatProgress(value=1.0, max=1.0)…"
      ]
     },
     "metadata": {},
     "output_type": "display_data"
    },
    {
     "data": {
      "text/html": [
       "Find user logs for this run at: <code>/home/bronzi/ProgProjekte/EIPH_WSI/MIDL2021/Registration/WandB/wandb/run-20210126_200436-rrxu690r/logs/debug.log</code>"
      ],
      "text/plain": [
       "<IPython.core.display.HTML object>"
      ]
     },
     "metadata": {},
     "output_type": "display_data"
    },
    {
     "data": {
      "text/html": [
       "Find internal logs for this run at: <code>/home/bronzi/ProgProjekte/EIPH_WSI/MIDL2021/Registration/WandB/wandb/run-20210126_200436-rrxu690r/logs/debug-internal.log</code>"
      ],
      "text/plain": [
       "<IPython.core.display.HTML object>"
      ]
     },
     "metadata": {},
     "output_type": "display_data"
    },
    {
     "data": {
      "text/html": [
       "<h3>Run summary:</h3><br/><style>\n",
       "    table.wandb td:nth-child(1) { padding: 0 10px; text-align: right }\n",
       "    </style><table class=\"wandb\">\n",
       "<tr><td>dist_mean_image</td><td>11.50139</td></tr><tr><td>mean_reg_error_image</td><td>5.11844</td></tr><tr><td>step</td><td>14</td></tr><tr><td>_step</td><td>15</td></tr><tr><td>_runtime</td><td>295</td></tr><tr><td>_timestamp</td><td>1611688171</td></tr><tr><td>dist_mean</td><td>9.73805</td></tr><tr><td>dist_min</td><td>0.6065</td></tr><tr><td>dist_max</td><td>77.95309</td></tr><tr><td>mean_reg_error</td><td>83.02223</td></tr></table>"
      ],
      "text/plain": [
       "<IPython.core.display.HTML object>"
      ]
     },
     "metadata": {},
     "output_type": "display_data"
    },
    {
     "data": {
      "text/html": [
       "<h3>Run history:</h3><br/><style>\n",
       "    table.wandb td:nth-child(1) { padding: 0 10px; text-align: right }\n",
       "    </style><table class=\"wandb\">\n",
       "<tr><td>dist_mean_image</td><td>▁▂▂▂▄▂▁▂▂▃█▄▁▁▁</td></tr><tr><td>mean_reg_error_image</td><td>▇█▁▁▁▁▅▆▁▁▃▁▇▇▁</td></tr><tr><td>step</td><td>▁▁▂▃▃▃▄▅▅▅▆▇▇▇█</td></tr><tr><td>_step</td><td>▁▁▂▂▃▃▄▄▅▅▆▆▇▇██</td></tr><tr><td>_runtime</td><td>▁▂▂▃▃▃▅▆▆▆▆▆▇███</td></tr><tr><td>_timestamp</td><td>▁▂▂▃▃▃▅▆▆▆▆▆▇███</td></tr><tr><td>dist_mean</td><td>▁</td></tr><tr><td>dist_min</td><td>▁</td></tr><tr><td>dist_max</td><td>▁</td></tr><tr><td>mean_reg_error</td><td>▁</td></tr></table><br/>"
      ],
      "text/plain": [
       "<IPython.core.display.HTML object>"
      ]
     },
     "metadata": {},
     "output_type": "display_data"
    },
    {
     "data": {
      "text/html": [
       "Synced 5 W&B file(s), 0 media file(s), 0 artifact file(s) and 0 other file(s)"
      ],
      "text/plain": [
       "<IPython.core.display.HTML object>"
      ]
     },
     "metadata": {},
     "output_type": "display_data"
    },
    {
     "data": {
      "text/html": [
       "\n",
       "                    <br/>Synced <strong style=\"color:#cdcd00\">misty-sweep-42</strong>: <a href=\"https://wandb.ai/christianml/quadtree/runs/rrxu690r\" target=\"_blank\">https://wandb.ai/christianml/quadtree/runs/rrxu690r</a><br/>\n",
       "                "
      ],
      "text/plain": [
       "<IPython.core.display.HTML object>"
      ]
     },
     "metadata": {},
     "output_type": "display_data"
    },
    {
     "name": "stderr",
     "output_type": "stream",
     "text": [
      "\u001b[34m\u001b[1mwandb\u001b[0m: Agent Starting Run: 1igsq8l0 with config:\n",
      "\u001b[34m\u001b[1mwandb\u001b[0m: \tcrossCheck: False\n",
      "\u001b[34m\u001b[1mwandb\u001b[0m: \tfilter_outliner: False\n",
      "\u001b[34m\u001b[1mwandb\u001b[0m: \tflann: True\n",
      "\u001b[34m\u001b[1mwandb\u001b[0m: \thomography: False\n",
      "\u001b[34m\u001b[1mwandb\u001b[0m: \timage_type: Cyto\n",
      "\u001b[34m\u001b[1mwandb\u001b[0m: \tmaxFeatures: 256\n",
      "\u001b[34m\u001b[1mwandb\u001b[0m: \tpoint_extractor: sift\n",
      "\u001b[34m\u001b[1mwandb\u001b[0m: \tratio: 0.4\n",
      "\u001b[34m\u001b[1mwandb\u001b[0m: \tsource_scanner: Aperio\n",
      "\u001b[34m\u001b[1mwandb\u001b[0m: \ttarget_depth: 0\n",
      "\u001b[34m\u001b[1mwandb\u001b[0m: \tthumbnail_size: [1024, 1024]\n",
      "\u001b[34m\u001b[1mwandb\u001b[0m: \tuse_gray: False\n"
     ]
    },
    {
     "data": {
      "text/html": [
       "\n",
       "                Tracking run with wandb version 0.10.15<br/>\n",
       "                Syncing run <strong style=\"color:#cdcd00\">lilac-sweep-43</strong> to <a href=\"https://wandb.ai\" target=\"_blank\">Weights & Biases</a> <a href=\"https://docs.wandb.com/integrations/jupyter.html\" target=\"_blank\">(Documentation)</a>.<br/>\n",
       "                Project page: <a href=\"https://wandb.ai/christianml/quadtree\" target=\"_blank\">https://wandb.ai/christianml/quadtree</a><br/>\n",
       "                Sweep page: <a href=\"https://wandb.ai/christianml/quadtree/sweeps/e22y6790\" target=\"_blank\">https://wandb.ai/christianml/quadtree/sweeps/e22y6790</a><br/>\n",
       "Run page: <a href=\"https://wandb.ai/christianml/quadtree/runs/1igsq8l0\" target=\"_blank\">https://wandb.ai/christianml/quadtree/runs/1igsq8l0</a><br/>\n",
       "                Run data is saved locally in <code>/home/bronzi/ProgProjekte/EIPH_WSI/MIDL2021/Registration/WandB/wandb/run-20210126_200935-1igsq8l0</code><br/><br/>\n",
       "            "
      ],
      "text/plain": [
       "<IPython.core.display.HTML object>"
      ]
     },
     "metadata": {},
     "output_type": "display_data"
    },
    {
     "name": "stderr",
     "output_type": "stream",
     "text": [
      "  0%|          | 0/5 [00:00<?, ?it/s]\n",
      "  0%|          | 0/4 [00:00<?, ?it/s]\u001b[A\n",
      " 25%|██▌       | 1/4 [00:01<00:03,  1.29s/it]\u001b[A\n",
      " 75%|███████▌  | 3/4 [00:03<00:01,  1.20s/it]\u001b[A\n",
      "  0%|          | 0/5 [00:03<?, ?it/s]\n"
     ]
    },
    {
     "data": {
      "text/html": [
       "<br/>Waiting for W&B process to finish, PID 15777<br/>Program failed with code 1.  Press ctrl-c to abort syncing."
      ],
      "text/plain": [
       "<IPython.core.display.HTML object>"
      ]
     },
     "metadata": {},
     "output_type": "display_data"
    },
    {
     "data": {
      "application/vnd.jupyter.widget-view+json": {
       "model_id": "",
       "version_major": 2,
       "version_minor": 0
      },
      "text/plain": [
       "VBox(children=(Label(value=' 0.00MB of 0.00MB uploaded (0.00MB deduped)\\r'), FloatProgress(value=1.0, max=1.0)…"
      ]
     },
     "metadata": {},
     "output_type": "display_data"
    },
    {
     "data": {
      "text/html": [
       "Find user logs for this run at: <code>/home/bronzi/ProgProjekte/EIPH_WSI/MIDL2021/Registration/WandB/wandb/run-20210126_200935-1igsq8l0/logs/debug.log</code>"
      ],
      "text/plain": [
       "<IPython.core.display.HTML object>"
      ]
     },
     "metadata": {},
     "output_type": "display_data"
    },
    {
     "data": {
      "text/html": [
       "Find internal logs for this run at: <code>/home/bronzi/ProgProjekte/EIPH_WSI/MIDL2021/Registration/WandB/wandb/run-20210126_200935-1igsq8l0/logs/debug-internal.log</code>"
      ],
      "text/plain": [
       "<IPython.core.display.HTML object>"
      ]
     },
     "metadata": {},
     "output_type": "display_data"
    },
    {
     "data": {
      "text/html": [
       "<h3>Run summary:</h3><br/><style>\n",
       "    table.wandb td:nth-child(1) { padding: 0 10px; text-align: right }\n",
       "    </style><table class=\"wandb\">\n",
       "<tr><td>dist_mean_image</td><td>30.24679</td></tr><tr><td>mean_reg_error_image</td><td>5.87097</td></tr><tr><td>step</td><td>1</td></tr><tr><td>_step</td><td>1</td></tr><tr><td>_runtime</td><td>4</td></tr><tr><td>_timestamp</td><td>1611688179</td></tr></table>"
      ],
      "text/plain": [
       "<IPython.core.display.HTML object>"
      ]
     },
     "metadata": {},
     "output_type": "display_data"
    },
    {
     "data": {
      "text/html": [
       "<h3>Run history:</h3><br/><style>\n",
       "    table.wandb td:nth-child(1) { padding: 0 10px; text-align: right }\n",
       "    </style><table class=\"wandb\">\n",
       "<tr><td>dist_mean_image</td><td>▁█</td></tr><tr><td>mean_reg_error_image</td><td>▁█</td></tr><tr><td>step</td><td>▁█</td></tr><tr><td>_step</td><td>▁█</td></tr><tr><td>_runtime</td><td>▁█</td></tr><tr><td>_timestamp</td><td>▁█</td></tr></table><br/>"
      ],
      "text/plain": [
       "<IPython.core.display.HTML object>"
      ]
     },
     "metadata": {},
     "output_type": "display_data"
    },
    {
     "data": {
      "text/html": [
       "Synced 5 W&B file(s), 0 media file(s), 0 artifact file(s) and 0 other file(s)"
      ],
      "text/plain": [
       "<IPython.core.display.HTML object>"
      ]
     },
     "metadata": {},
     "output_type": "display_data"
    },
    {
     "data": {
      "text/html": [
       "\n",
       "                    <br/>Synced <strong style=\"color:#cdcd00\">lilac-sweep-43</strong>: <a href=\"https://wandb.ai/christianml/quadtree/runs/1igsq8l0\" target=\"_blank\">https://wandb.ai/christianml/quadtree/runs/1igsq8l0</a><br/>\n",
       "                "
      ],
      "text/plain": [
       "<IPython.core.display.HTML object>"
      ]
     },
     "metadata": {},
     "output_type": "display_data"
    },
    {
     "name": "stderr",
     "output_type": "stream",
     "text": [
      "Run 1igsq8l0 errored: TypeError(\"'NoneType' object is not subscriptable\")\n",
      "\u001b[34m\u001b[1mwandb\u001b[0m: \u001b[32m\u001b[41mERROR\u001b[0m Run 1igsq8l0 errored: TypeError(\"'NoneType' object is not subscriptable\")\n",
      "\u001b[34m\u001b[1mwandb\u001b[0m: Agent Starting Run: quaj13ab with config:\n",
      "\u001b[34m\u001b[1mwandb\u001b[0m: \tcrossCheck: False\n",
      "\u001b[34m\u001b[1mwandb\u001b[0m: \tfilter_outliner: False\n",
      "\u001b[34m\u001b[1mwandb\u001b[0m: \tflann: True\n",
      "\u001b[34m\u001b[1mwandb\u001b[0m: \thomography: True\n",
      "\u001b[34m\u001b[1mwandb\u001b[0m: \timage_type: Cyto\n",
      "\u001b[34m\u001b[1mwandb\u001b[0m: \tmaxFeatures: 768\n",
      "\u001b[34m\u001b[1mwandb\u001b[0m: \tpoint_extractor: sift\n",
      "\u001b[34m\u001b[1mwandb\u001b[0m: \tratio: 0.3\n",
      "\u001b[34m\u001b[1mwandb\u001b[0m: \tsource_scanner: Aperio\n",
      "\u001b[34m\u001b[1mwandb\u001b[0m: \ttarget_depth: 0\n",
      "\u001b[34m\u001b[1mwandb\u001b[0m: \tthumbnail_size: [4096, 4096]\n",
      "\u001b[34m\u001b[1mwandb\u001b[0m: \tuse_gray: False\n"
     ]
    },
    {
     "data": {
      "text/html": [
       "\n",
       "                Tracking run with wandb version 0.10.15<br/>\n",
       "                Syncing run <strong style=\"color:#cdcd00\">avid-sweep-44</strong> to <a href=\"https://wandb.ai\" target=\"_blank\">Weights & Biases</a> <a href=\"https://docs.wandb.com/integrations/jupyter.html\" target=\"_blank\">(Documentation)</a>.<br/>\n",
       "                Project page: <a href=\"https://wandb.ai/christianml/quadtree\" target=\"_blank\">https://wandb.ai/christianml/quadtree</a><br/>\n",
       "                Sweep page: <a href=\"https://wandb.ai/christianml/quadtree/sweeps/e22y6790\" target=\"_blank\">https://wandb.ai/christianml/quadtree/sweeps/e22y6790</a><br/>\n",
       "Run page: <a href=\"https://wandb.ai/christianml/quadtree/runs/quaj13ab\" target=\"_blank\">https://wandb.ai/christianml/quadtree/runs/quaj13ab</a><br/>\n",
       "                Run data is saved locally in <code>/home/bronzi/ProgProjekte/EIPH_WSI/MIDL2021/Registration/WandB/wandb/run-20210126_200945-quaj13ab</code><br/><br/>\n",
       "            "
      ],
      "text/plain": [
       "<IPython.core.display.HTML object>"
      ]
     },
     "metadata": {},
     "output_type": "display_data"
    },
    {
     "name": "stderr",
     "output_type": "stream",
     "text": [
      "  0%|          | 0/5 [00:00<?, ?it/s]\n",
      "  0%|          | 0/4 [00:00<?, ?it/s]\u001b[A\n",
      " 25%|██▌       | 1/4 [00:12<00:38, 12.81s/it]\u001b[A\n",
      " 75%|███████▌  | 3/4 [00:25<00:08,  8.07s/it]\u001b[A\n",
      "100%|██████████| 4/4 [00:38<00:00,  9.54s/it]\u001b[A\n",
      " 20%|██        | 1/5 [00:38<02:32, 38.16s/it]\n",
      "  0%|          | 0/4 [00:00<?, ?it/s]\u001b[A\n",
      " 25%|██▌       | 1/4 [00:12<00:38, 12.87s/it]\u001b[A\n",
      " 75%|███████▌  | 3/4 [00:28<00:09,  9.04s/it]\u001b[A\n",
      "100%|██████████| 4/4 [00:41<00:00, 10.38s/it]\u001b[A\n",
      " 40%|████      | 2/5 [01:19<02:00, 40.13s/it]\n",
      "  0%|          | 0/4 [00:00<?, ?it/s]\u001b[A\n",
      " 25%|██▌       | 1/4 [00:14<00:42, 14.15s/it]\u001b[A\n",
      " 75%|███████▌  | 3/4 [00:32<00:10, 10.54s/it]\u001b[A\n",
      "100%|██████████| 4/4 [00:46<00:00, 11.50s/it]\u001b[A\n",
      " 60%|██████    | 3/5 [02:05<01:25, 42.82s/it]\n",
      "  0%|          | 0/4 [00:00<?, ?it/s]\u001b[A\n",
      " 25%|██▌       | 1/4 [00:15<00:45, 15.12s/it]\u001b[A\n",
      " 75%|███████▌  | 3/4 [00:31<00:09,  9.83s/it]\u001b[A\n",
      "100%|██████████| 4/4 [00:46<00:00, 11.68s/it]\u001b[A\n",
      " 80%|████████  | 4/5 [02:52<00:44, 44.36s/it]\n",
      "  0%|          | 0/4 [00:00<?, ?it/s]\u001b[A\n",
      " 25%|██▌       | 1/4 [00:14<00:42, 14.16s/it]\u001b[A\n",
      " 75%|███████▌  | 3/4 [00:28<00:08,  8.98s/it]\u001b[A\n",
      "100%|██████████| 4/4 [00:41<00:00, 10.29s/it]\u001b[A\n",
      "100%|██████████| 5/5 [03:33<00:00, 42.72s/it]\n"
     ]
    },
    {
     "data": {
      "text/html": [
       "<br/>Waiting for W&B process to finish, PID 15891<br/>Program ended successfully."
      ],
      "text/plain": [
       "<IPython.core.display.HTML object>"
      ]
     },
     "metadata": {},
     "output_type": "display_data"
    },
    {
     "data": {
      "application/vnd.jupyter.widget-view+json": {
       "model_id": "",
       "version_major": 2,
       "version_minor": 0
      },
      "text/plain": [
       "VBox(children=(Label(value=' 0.00MB of 0.00MB uploaded (0.00MB deduped)\\r'), FloatProgress(value=1.0, max=1.0)…"
      ]
     },
     "metadata": {},
     "output_type": "display_data"
    },
    {
     "data": {
      "text/html": [
       "Find user logs for this run at: <code>/home/bronzi/ProgProjekte/EIPH_WSI/MIDL2021/Registration/WandB/wandb/run-20210126_200945-quaj13ab/logs/debug.log</code>"
      ],
      "text/plain": [
       "<IPython.core.display.HTML object>"
      ]
     },
     "metadata": {},
     "output_type": "display_data"
    },
    {
     "data": {
      "text/html": [
       "Find internal logs for this run at: <code>/home/bronzi/ProgProjekte/EIPH_WSI/MIDL2021/Registration/WandB/wandb/run-20210126_200945-quaj13ab/logs/debug-internal.log</code>"
      ],
      "text/plain": [
       "<IPython.core.display.HTML object>"
      ]
     },
     "metadata": {},
     "output_type": "display_data"
    },
    {
     "data": {
      "text/html": [
       "<h3>Run summary:</h3><br/><style>\n",
       "    table.wandb td:nth-child(1) { padding: 0 10px; text-align: right }\n",
       "    </style><table class=\"wandb\">\n",
       "<tr><td>dist_mean_image</td><td>31.00571</td></tr><tr><td>mean_reg_error_image</td><td>11.25973</td></tr><tr><td>step</td><td>14</td></tr><tr><td>_step</td><td>15</td></tr><tr><td>_runtime</td><td>214</td></tr><tr><td>_timestamp</td><td>1611688399</td></tr><tr><td>dist_mean</td><td>8.71234</td></tr><tr><td>dist_min</td><td>0.09418</td></tr><tr><td>dist_max</td><td>62.47959</td></tr><tr><td>mean_reg_error</td><td>6.55389</td></tr></table>"
      ],
      "text/plain": [
       "<IPython.core.display.HTML object>"
      ]
     },
     "metadata": {},
     "output_type": "display_data"
    },
    {
     "data": {
      "text/html": [
       "<h3>Run history:</h3><br/><style>\n",
       "    table.wandb td:nth-child(1) { padding: 0 10px; text-align: right }\n",
       "    </style><table class=\"wandb\">\n",
       "<tr><td>dist_mean_image</td><td>▂▂▃▂▅▃▁▂▂▄█▅▂▁▄</td></tr><tr><td>mean_reg_error_image</td><td>▂▁█▃▃▃▃▃▁▃▃▆▂▃▇</td></tr><tr><td>step</td><td>▁▁▂▃▃▃▄▅▅▅▆▇▇▇█</td></tr><tr><td>_step</td><td>▁▁▂▂▃▃▄▄▅▅▆▆▇▇██</td></tr><tr><td>_runtime</td><td>▁▁▂▂▃▃▄▄▅▅▆▇▇███</td></tr><tr><td>_timestamp</td><td>▁▁▂▂▃▃▄▄▅▅▆▇▇███</td></tr><tr><td>dist_mean</td><td>▁</td></tr><tr><td>dist_min</td><td>▁</td></tr><tr><td>dist_max</td><td>▁</td></tr><tr><td>mean_reg_error</td><td>▁</td></tr></table><br/>"
      ],
      "text/plain": [
       "<IPython.core.display.HTML object>"
      ]
     },
     "metadata": {},
     "output_type": "display_data"
    },
    {
     "data": {
      "text/html": [
       "Synced 5 W&B file(s), 0 media file(s), 0 artifact file(s) and 0 other file(s)"
      ],
      "text/plain": [
       "<IPython.core.display.HTML object>"
      ]
     },
     "metadata": {},
     "output_type": "display_data"
    },
    {
     "data": {
      "text/html": [
       "\n",
       "                    <br/>Synced <strong style=\"color:#cdcd00\">avid-sweep-44</strong>: <a href=\"https://wandb.ai/christianml/quadtree/runs/quaj13ab\" target=\"_blank\">https://wandb.ai/christianml/quadtree/runs/quaj13ab</a><br/>\n",
       "                "
      ],
      "text/plain": [
       "<IPython.core.display.HTML object>"
      ]
     },
     "metadata": {},
     "output_type": "display_data"
    },
    {
     "name": "stderr",
     "output_type": "stream",
     "text": [
      "\u001b[34m\u001b[1mwandb\u001b[0m: Agent Starting Run: 1w3u9ymj with config:\n",
      "\u001b[34m\u001b[1mwandb\u001b[0m: \tcrossCheck: False\n",
      "\u001b[34m\u001b[1mwandb\u001b[0m: \tfilter_outliner: False\n",
      "\u001b[34m\u001b[1mwandb\u001b[0m: \tflann: True\n",
      "\u001b[34m\u001b[1mwandb\u001b[0m: \thomography: False\n",
      "\u001b[34m\u001b[1mwandb\u001b[0m: \timage_type: Cyto\n",
      "\u001b[34m\u001b[1mwandb\u001b[0m: \tmaxFeatures: 64\n",
      "\u001b[34m\u001b[1mwandb\u001b[0m: \tpoint_extractor: sift\n",
      "\u001b[34m\u001b[1mwandb\u001b[0m: \tratio: 0.8\n",
      "\u001b[34m\u001b[1mwandb\u001b[0m: \tsource_scanner: Aperio\n",
      "\u001b[34m\u001b[1mwandb\u001b[0m: \ttarget_depth: 0\n",
      "\u001b[34m\u001b[1mwandb\u001b[0m: \tthumbnail_size: [2048, 2048]\n",
      "\u001b[34m\u001b[1mwandb\u001b[0m: \tuse_gray: True\n"
     ]
    },
    {
     "data": {
      "text/html": [
       "\n",
       "                Tracking run with wandb version 0.10.15<br/>\n",
       "                Syncing run <strong style=\"color:#cdcd00\">still-sweep-45</strong> to <a href=\"https://wandb.ai\" target=\"_blank\">Weights & Biases</a> <a href=\"https://docs.wandb.com/integrations/jupyter.html\" target=\"_blank\">(Documentation)</a>.<br/>\n",
       "                Project page: <a href=\"https://wandb.ai/christianml/quadtree\" target=\"_blank\">https://wandb.ai/christianml/quadtree</a><br/>\n",
       "                Sweep page: <a href=\"https://wandb.ai/christianml/quadtree/sweeps/e22y6790\" target=\"_blank\">https://wandb.ai/christianml/quadtree/sweeps/e22y6790</a><br/>\n",
       "Run page: <a href=\"https://wandb.ai/christianml/quadtree/runs/1w3u9ymj\" target=\"_blank\">https://wandb.ai/christianml/quadtree/runs/1w3u9ymj</a><br/>\n",
       "                Run data is saved locally in <code>/home/bronzi/ProgProjekte/EIPH_WSI/MIDL2021/Registration/WandB/wandb/run-20210126_201325-1w3u9ymj</code><br/><br/>\n",
       "            "
      ],
      "text/plain": [
       "<IPython.core.display.HTML object>"
      ]
     },
     "metadata": {},
     "output_type": "display_data"
    },
    {
     "name": "stderr",
     "output_type": "stream",
     "text": [
      "  0%|          | 0/5 [00:00<?, ?it/s]\n",
      "  0%|          | 0/4 [00:00<?, ?it/s]\u001b[A\n",
      " 25%|██▌       | 1/4 [01:45<05:16, 105.63s/it]\u001b[A\n",
      " 75%|███████▌  | 3/4 [03:32<01:06, 66.80s/it] \u001b[A\n",
      "100%|██████████| 4/4 [03:48<00:00, 57.08s/it]\u001b[A\n",
      " 20%|██        | 1/5 [03:48<15:13, 228.34s/it]\n",
      "  0%|          | 0/4 [00:00<?, ?it/s]\u001b[A\n",
      " 25%|██▌       | 1/4 [00:23<01:10, 23.45s/it]\u001b[A\n",
      " 75%|███████▌  | 3/4 [00:43<00:13, 13.49s/it]\u001b[A\n",
      "100%|██████████| 4/4 [00:53<00:00, 13.38s/it]\u001b[A\n",
      " 40%|████      | 2/5 [04:41<06:16, 125.51s/it]\n",
      "  0%|          | 0/4 [00:00<?, ?it/s]\u001b[A\n",
      " 25%|██▌       | 1/4 [01:52<05:38, 112.94s/it]\u001b[A\n",
      " 75%|███████▌  | 3/4 [03:13<00:59, 59.20s/it] \u001b[A\n",
      "100%|██████████| 4/4 [03:43<00:00, 55.80s/it]\u001b[A\n",
      " 60%|██████    | 3/5 [08:25<05:40, 170.12s/it]\n",
      "  0%|          | 0/4 [00:00<?, ?it/s]\u001b[A\n",
      " 25%|██▌       | 1/4 [00:06<00:18,  6.21s/it]\u001b[A\n",
      " 75%|███████▌  | 3/4 [00:14<00:04,  4.84s/it]\u001b[A\n",
      "100%|██████████| 4/4 [00:19<00:00,  4.88s/it]\u001b[A\n",
      " 80%|████████  | 4/5 [08:44<01:50, 110.67s/it]\n",
      "  0%|          | 0/4 [00:00<?, ?it/s]\u001b[A\n",
      " 25%|██▌       | 1/4 [01:02<03:07, 62.41s/it]\u001b[A\n",
      " 75%|███████▌  | 3/4 [02:04<00:39, 39.08s/it]\u001b[A\n",
      "100%|██████████| 4/4 [02:24<00:00, 36.25s/it]\u001b[A\n",
      "100%|██████████| 5/5 [11:09<00:00, 133.92s/it]\n"
     ]
    },
    {
     "data": {
      "text/html": [
       "<br/>Waiting for W&B process to finish, PID 16276<br/>Program ended successfully."
      ],
      "text/plain": [
       "<IPython.core.display.HTML object>"
      ]
     },
     "metadata": {},
     "output_type": "display_data"
    },
    {
     "data": {
      "application/vnd.jupyter.widget-view+json": {
       "model_id": "",
       "version_major": 2,
       "version_minor": 0
      },
      "text/plain": [
       "VBox(children=(Label(value=' 0.00MB of 0.00MB uploaded (0.00MB deduped)\\r'), FloatProgress(value=1.0, max=1.0)…"
      ]
     },
     "metadata": {},
     "output_type": "display_data"
    },
    {
     "data": {
      "text/html": [
       "Find user logs for this run at: <code>/home/bronzi/ProgProjekte/EIPH_WSI/MIDL2021/Registration/WandB/wandb/run-20210126_201325-1w3u9ymj/logs/debug.log</code>"
      ],
      "text/plain": [
       "<IPython.core.display.HTML object>"
      ]
     },
     "metadata": {},
     "output_type": "display_data"
    },
    {
     "data": {
      "text/html": [
       "Find internal logs for this run at: <code>/home/bronzi/ProgProjekte/EIPH_WSI/MIDL2021/Registration/WandB/wandb/run-20210126_201325-1w3u9ymj/logs/debug-internal.log</code>"
      ],
      "text/plain": [
       "<IPython.core.display.HTML object>"
      ]
     },
     "metadata": {},
     "output_type": "display_data"
    },
    {
     "data": {
      "text/html": [
       "<h3>Run summary:</h3><br/><style>\n",
       "    table.wandb td:nth-child(1) { padding: 0 10px; text-align: right }\n",
       "    </style><table class=\"wandb\">\n",
       "<tr><td>dist_mean_image</td><td>24.81528</td></tr><tr><td>mean_reg_error_image</td><td>3048.60854</td></tr><tr><td>step</td><td>14</td></tr><tr><td>_step</td><td>15</td></tr><tr><td>_runtime</td><td>670</td></tr><tr><td>_timestamp</td><td>1611689075</td></tr><tr><td>dist_mean</td><td>10.10841</td></tr><tr><td>dist_min</td><td>0.70688</td></tr><tr><td>dist_max</td><td>73.13373</td></tr><tr><td>mean_reg_error</td><td>2274.01196</td></tr></table>"
      ],
      "text/plain": [
       "<IPython.core.display.HTML object>"
      ]
     },
     "metadata": {},
     "output_type": "display_data"
    },
    {
     "data": {
      "text/html": [
       "<h3>Run history:</h3><br/><style>\n",
       "    table.wandb td:nth-child(1) { padding: 0 10px; text-align: right }\n",
       "    </style><table class=\"wandb\">\n",
       "<tr><td>dist_mean_image</td><td>▁▂▁▂▄▃▁▂▂▃█▄▁▁▃</td></tr><tr><td>mean_reg_error_image</td><td>▂▂▇▁▂▃▁▁▂▅▄█▂▂▄</td></tr><tr><td>step</td><td>▁▁▂▃▃▃▄▅▅▅▆▇▇▇█</td></tr><tr><td>_step</td><td>▁▁▂▂▃▃▄▄▅▅▆▆▇▇██</td></tr><tr><td>_runtime</td><td>▁▂▃▃▃▃▅▆▆▆▆▆▇███</td></tr><tr><td>_timestamp</td><td>▁▂▃▃▃▃▅▆▆▆▆▆▇███</td></tr><tr><td>dist_mean</td><td>▁</td></tr><tr><td>dist_min</td><td>▁</td></tr><tr><td>dist_max</td><td>▁</td></tr><tr><td>mean_reg_error</td><td>▁</td></tr></table><br/>"
      ],
      "text/plain": [
       "<IPython.core.display.HTML object>"
      ]
     },
     "metadata": {},
     "output_type": "display_data"
    },
    {
     "data": {
      "text/html": [
       "Synced 5 W&B file(s), 0 media file(s), 0 artifact file(s) and 0 other file(s)"
      ],
      "text/plain": [
       "<IPython.core.display.HTML object>"
      ]
     },
     "metadata": {},
     "output_type": "display_data"
    },
    {
     "data": {
      "text/html": [
       "\n",
       "                    <br/>Synced <strong style=\"color:#cdcd00\">still-sweep-45</strong>: <a href=\"https://wandb.ai/christianml/quadtree/runs/1w3u9ymj\" target=\"_blank\">https://wandb.ai/christianml/quadtree/runs/1w3u9ymj</a><br/>\n",
       "                "
      ],
      "text/plain": [
       "<IPython.core.display.HTML object>"
      ]
     },
     "metadata": {},
     "output_type": "display_data"
    },
    {
     "name": "stderr",
     "output_type": "stream",
     "text": [
      "\u001b[34m\u001b[1mwandb\u001b[0m: Agent Starting Run: 3c11qui0 with config:\n",
      "\u001b[34m\u001b[1mwandb\u001b[0m: \tcrossCheck: False\n",
      "\u001b[34m\u001b[1mwandb\u001b[0m: \tfilter_outliner: False\n",
      "\u001b[34m\u001b[1mwandb\u001b[0m: \tflann: True\n",
      "\u001b[34m\u001b[1mwandb\u001b[0m: \thomography: False\n",
      "\u001b[34m\u001b[1mwandb\u001b[0m: \timage_type: Cyto\n",
      "\u001b[34m\u001b[1mwandb\u001b[0m: \tmaxFeatures: 2048\n",
      "\u001b[34m\u001b[1mwandb\u001b[0m: \tpoint_extractor: sift\n",
      "\u001b[34m\u001b[1mwandb\u001b[0m: \tratio: 0.9\n",
      "\u001b[34m\u001b[1mwandb\u001b[0m: \tsource_scanner: Aperio\n",
      "\u001b[34m\u001b[1mwandb\u001b[0m: \ttarget_depth: 0\n",
      "\u001b[34m\u001b[1mwandb\u001b[0m: \tthumbnail_size: [4096, 4096]\n",
      "\u001b[34m\u001b[1mwandb\u001b[0m: \tuse_gray: True\n"
     ]
    },
    {
     "data": {
      "text/html": [
       "\n",
       "                Tracking run with wandb version 0.10.15<br/>\n",
       "                Syncing run <strong style=\"color:#cdcd00\">rich-sweep-46</strong> to <a href=\"https://wandb.ai\" target=\"_blank\">Weights & Biases</a> <a href=\"https://docs.wandb.com/integrations/jupyter.html\" target=\"_blank\">(Documentation)</a>.<br/>\n",
       "                Project page: <a href=\"https://wandb.ai/christianml/quadtree\" target=\"_blank\">https://wandb.ai/christianml/quadtree</a><br/>\n",
       "                Sweep page: <a href=\"https://wandb.ai/christianml/quadtree/sweeps/e22y6790\" target=\"_blank\">https://wandb.ai/christianml/quadtree/sweeps/e22y6790</a><br/>\n",
       "Run page: <a href=\"https://wandb.ai/christianml/quadtree/runs/3c11qui0\" target=\"_blank\">https://wandb.ai/christianml/quadtree/runs/3c11qui0</a><br/>\n",
       "                Run data is saved locally in <code>/home/bronzi/ProgProjekte/EIPH_WSI/MIDL2021/Registration/WandB/wandb/run-20210126_202439-3c11qui0</code><br/><br/>\n",
       "            "
      ],
      "text/plain": [
       "<IPython.core.display.HTML object>"
      ]
     },
     "metadata": {},
     "output_type": "display_data"
    },
    {
     "name": "stderr",
     "output_type": "stream",
     "text": [
      "  0%|          | 0/5 [00:00<?, ?it/s]\n",
      "  0%|          | 0/4 [00:00<?, ?it/s]\u001b[A\n",
      " 25%|██▌       | 1/4 [25:46<1:17:18, 1546.27s/it]\u001b[A\n",
      " 75%|███████▌  | 3/4 [59:06<19:42, 1182.27s/it]  \u001b[A\n",
      "  0%|          | 0/5 [59:06<?, ?it/s]\n"
     ]
    },
    {
     "data": {
      "text/html": [
       "<br/>Waiting for W&B process to finish, PID 18325<br/>Program failed with code 1.  Press ctrl-c to abort syncing."
      ],
      "text/plain": [
       "<IPython.core.display.HTML object>"
      ]
     },
     "metadata": {},
     "output_type": "display_data"
    },
    {
     "data": {
      "application/vnd.jupyter.widget-view+json": {
       "model_id": "",
       "version_major": 2,
       "version_minor": 0
      },
      "text/plain": [
       "VBox(children=(Label(value=' 0.00MB of 0.00MB uploaded (0.00MB deduped)\\r'), FloatProgress(value=1.0, max=1.0)…"
      ]
     },
     "metadata": {},
     "output_type": "display_data"
    },
    {
     "data": {
      "text/html": [
       "Find user logs for this run at: <code>/home/bronzi/ProgProjekte/EIPH_WSI/MIDL2021/Registration/WandB/wandb/run-20210126_202439-3c11qui0/logs/debug.log</code>"
      ],
      "text/plain": [
       "<IPython.core.display.HTML object>"
      ]
     },
     "metadata": {},
     "output_type": "display_data"
    },
    {
     "data": {
      "text/html": [
       "Find internal logs for this run at: <code>/home/bronzi/ProgProjekte/EIPH_WSI/MIDL2021/Registration/WandB/wandb/run-20210126_202439-3c11qui0/logs/debug-internal.log</code>"
      ],
      "text/plain": [
       "<IPython.core.display.HTML object>"
      ]
     },
     "metadata": {},
     "output_type": "display_data"
    },
    {
     "data": {
      "text/html": [
       "<h3>Run summary:</h3><br/><style>\n",
       "    table.wandb td:nth-child(1) { padding: 0 10px; text-align: right }\n",
       "    </style><table class=\"wandb\">\n",
       "<tr><td>dist_mean_image</td><td>13.1685</td></tr><tr><td>mean_reg_error_image</td><td>6490.10413</td></tr><tr><td>step</td><td>1</td></tr><tr><td>_step</td><td>1</td></tr><tr><td>_runtime</td><td>2855</td></tr><tr><td>_timestamp</td><td>1611691934</td></tr></table>"
      ],
      "text/plain": [
       "<IPython.core.display.HTML object>"
      ]
     },
     "metadata": {},
     "output_type": "display_data"
    },
    {
     "data": {
      "text/html": [
       "<h3>Run history:</h3><br/><style>\n",
       "    table.wandb td:nth-child(1) { padding: 0 10px; text-align: right }\n",
       "    </style><table class=\"wandb\">\n",
       "<tr><td>dist_mean_image</td><td>█▁</td></tr><tr><td>mean_reg_error_image</td><td>▁█</td></tr><tr><td>step</td><td>▁█</td></tr><tr><td>_step</td><td>▁█</td></tr><tr><td>_runtime</td><td>▁█</td></tr><tr><td>_timestamp</td><td>▁█</td></tr></table><br/>"
      ],
      "text/plain": [
       "<IPython.core.display.HTML object>"
      ]
     },
     "metadata": {},
     "output_type": "display_data"
    },
    {
     "data": {
      "text/html": [
       "Synced 5 W&B file(s), 0 media file(s), 0 artifact file(s) and 0 other file(s)"
      ],
      "text/plain": [
       "<IPython.core.display.HTML object>"
      ]
     },
     "metadata": {},
     "output_type": "display_data"
    },
    {
     "data": {
      "text/html": [
       "\n",
       "                    <br/>Synced <strong style=\"color:#cdcd00\">rich-sweep-46</strong>: <a href=\"https://wandb.ai/christianml/quadtree/runs/3c11qui0\" target=\"_blank\">https://wandb.ai/christianml/quadtree/runs/3c11qui0</a><br/>\n",
       "                "
      ],
      "text/plain": [
       "<IPython.core.display.HTML object>"
      ]
     },
     "metadata": {},
     "output_type": "display_data"
    },
    {
     "name": "stderr",
     "output_type": "stream",
     "text": [
      "Run 3c11qui0 errored: TypeError(\"'NoneType' object is not subscriptable\")\n",
      "\u001b[34m\u001b[1mwandb\u001b[0m: \u001b[32m\u001b[41mERROR\u001b[0m Run 3c11qui0 errored: TypeError(\"'NoneType' object is not subscriptable\")\n",
      "\u001b[34m\u001b[1mwandb\u001b[0m: Agent Starting Run: l94f7b5a with config:\n",
      "\u001b[34m\u001b[1mwandb\u001b[0m: \tcrossCheck: False\n",
      "\u001b[34m\u001b[1mwandb\u001b[0m: \tfilter_outliner: False\n",
      "\u001b[34m\u001b[1mwandb\u001b[0m: \tflann: True\n",
      "\u001b[34m\u001b[1mwandb\u001b[0m: \thomography: False\n",
      "\u001b[34m\u001b[1mwandb\u001b[0m: \timage_type: Cyto\n",
      "\u001b[34m\u001b[1mwandb\u001b[0m: \tmaxFeatures: 256\n",
      "\u001b[34m\u001b[1mwandb\u001b[0m: \tpoint_extractor: sift\n",
      "\u001b[34m\u001b[1mwandb\u001b[0m: \tratio: 0.8\n",
      "\u001b[34m\u001b[1mwandb\u001b[0m: \tsource_scanner: Aperio\n",
      "\u001b[34m\u001b[1mwandb\u001b[0m: \ttarget_depth: 0\n",
      "\u001b[34m\u001b[1mwandb\u001b[0m: \tthumbnail_size: [1024, 1024]\n",
      "\u001b[34m\u001b[1mwandb\u001b[0m: \tuse_gray: False\n"
     ]
    },
    {
     "data": {
      "text/html": [
       "\n",
       "                Tracking run with wandb version 0.10.15<br/>\n",
       "                Syncing run <strong style=\"color:#cdcd00\">legendary-sweep-50</strong> to <a href=\"https://wandb.ai\" target=\"_blank\">Weights & Biases</a> <a href=\"https://docs.wandb.com/integrations/jupyter.html\" target=\"_blank\">(Documentation)</a>.<br/>\n",
       "                Project page: <a href=\"https://wandb.ai/christianml/quadtree\" target=\"_blank\">https://wandb.ai/christianml/quadtree</a><br/>\n",
       "                Sweep page: <a href=\"https://wandb.ai/christianml/quadtree/sweeps/e22y6790\" target=\"_blank\">https://wandb.ai/christianml/quadtree/sweeps/e22y6790</a><br/>\n",
       "Run page: <a href=\"https://wandb.ai/christianml/quadtree/runs/l94f7b5a\" target=\"_blank\">https://wandb.ai/christianml/quadtree/runs/l94f7b5a</a><br/>\n",
       "                Run data is saved locally in <code>/home/bronzi/ProgProjekte/EIPH_WSI/MIDL2021/Registration/WandB/wandb/run-20210126_212351-l94f7b5a</code><br/><br/>\n",
       "            "
      ],
      "text/plain": [
       "<IPython.core.display.HTML object>"
      ]
     },
     "metadata": {},
     "output_type": "display_data"
    },
    {
     "name": "stderr",
     "output_type": "stream",
     "text": [
      "  0%|          | 0/5 [00:00<?, ?it/s]\n",
      "  0%|          | 0/4 [00:00<?, ?it/s]\u001b[A\n",
      " 25%|██▌       | 1/4 [00:03<00:09,  3.02s/it]\u001b[A\n",
      " 75%|███████▌  | 3/4 [00:06<00:01,  1.99s/it]\u001b[A\n",
      "100%|██████████| 4/4 [00:07<00:00,  1.79s/it]\u001b[A\n",
      " 20%|██        | 1/5 [00:07<00:28,  7.18s/it]\n",
      "  0%|          | 0/4 [00:00<?, ?it/s]\u001b[A\n",
      " 25%|██▌       | 1/4 [00:01<00:05,  1.77s/it]\u001b[A\n",
      " 75%|███████▌  | 3/4 [00:04<00:01,  1.44s/it]\u001b[A\n",
      "100%|██████████| 4/4 [00:05<00:00,  1.38s/it]\u001b[A\n",
      " 40%|████      | 2/5 [00:12<00:18,  6.21s/it]\n",
      "  0%|          | 0/4 [00:00<?, ?it/s]\u001b[A\n",
      " 25%|██▌       | 1/4 [00:04<00:13,  4.37s/it]\u001b[A\n",
      " 75%|███████▌  | 3/4 [00:08<00:02,  2.62s/it]\u001b[A\n",
      "100%|██████████| 4/4 [00:09<00:00,  2.45s/it]\u001b[A\n",
      " 60%|██████    | 3/5 [00:22<00:15,  7.86s/it]\n",
      "  0%|          | 0/4 [00:00<?, ?it/s]\u001b[A\n",
      " 25%|██▌       | 1/4 [00:00<00:02,  1.15it/s]\u001b[A\n",
      " 75%|███████▌  | 3/4 [00:02<00:00,  1.18it/s]\u001b[A\n",
      "100%|██████████| 4/4 [00:03<00:00,  1.20it/s]\u001b[A\n",
      " 80%|████████  | 4/5 [00:25<00:06,  6.07s/it]\n",
      "  0%|          | 0/4 [00:00<?, ?it/s]\u001b[A\n",
      " 25%|██▌       | 1/4 [00:02<00:07,  2.64s/it]\u001b[A\n",
      " 75%|███████▌  | 3/4 [00:04<00:01,  1.49s/it]\u001b[A\n",
      "100%|██████████| 4/4 [00:05<00:00,  1.41s/it]\u001b[A\n",
      "100%|██████████| 5/5 [00:31<00:00,  6.30s/it]\n"
     ]
    },
    {
     "data": {
      "text/html": [
       "<br/>Waiting for W&B process to finish, PID 26747<br/>Program ended successfully."
      ],
      "text/plain": [
       "<IPython.core.display.HTML object>"
      ]
     },
     "metadata": {},
     "output_type": "display_data"
    },
    {
     "data": {
      "application/vnd.jupyter.widget-view+json": {
       "model_id": "",
       "version_major": 2,
       "version_minor": 0
      },
      "text/plain": [
       "VBox(children=(Label(value=' 0.00MB of 0.00MB uploaded (0.00MB deduped)\\r'), FloatProgress(value=1.0, max=1.0)…"
      ]
     },
     "metadata": {},
     "output_type": "display_data"
    },
    {
     "data": {
      "text/html": [
       "Find user logs for this run at: <code>/home/bronzi/ProgProjekte/EIPH_WSI/MIDL2021/Registration/WandB/wandb/run-20210126_212351-l94f7b5a/logs/debug.log</code>"
      ],
      "text/plain": [
       "<IPython.core.display.HTML object>"
      ]
     },
     "metadata": {},
     "output_type": "display_data"
    },
    {
     "data": {
      "text/html": [
       "Find internal logs for this run at: <code>/home/bronzi/ProgProjekte/EIPH_WSI/MIDL2021/Registration/WandB/wandb/run-20210126_212351-l94f7b5a/logs/debug-internal.log</code>"
      ],
      "text/plain": [
       "<IPython.core.display.HTML object>"
      ]
     },
     "metadata": {},
     "output_type": "display_data"
    },
    {
     "data": {
      "text/html": [
       "<h3>Run summary:</h3><br/><style>\n",
       "    table.wandb td:nth-child(1) { padding: 0 10px; text-align: right }\n",
       "    </style><table class=\"wandb\">\n",
       "<tr><td>dist_mean_image</td><td>43.82565</td></tr><tr><td>mean_reg_error_image</td><td>2979.25528</td></tr><tr><td>step</td><td>14</td></tr><tr><td>_step</td><td>15</td></tr><tr><td>_runtime</td><td>33</td></tr><tr><td>_timestamp</td><td>1611692664</td></tr><tr><td>dist_mean</td><td>17.32103</td></tr><tr><td>dist_min</td><td>0.92564</td></tr><tr><td>dist_max</td><td>114.17617</td></tr><tr><td>mean_reg_error</td><td>1714.75183</td></tr></table>"
      ],
      "text/plain": [
       "<IPython.core.display.HTML object>"
      ]
     },
     "metadata": {},
     "output_type": "display_data"
    },
    {
     "data": {
      "text/html": [
       "<h3>Run history:</h3><br/><style>\n",
       "    table.wandb td:nth-child(1) { padding: 0 10px; text-align: right }\n",
       "    </style><table class=\"wandb\">\n",
       "<tr><td>dist_mean_image</td><td>▁▂█▁▂▂▁▁▂▂▅▄▁▂▃</td></tr><tr><td>mean_reg_error_image</td><td>▂▂█▁▁▂▁▂▂▄▄▆▂▂▅</td></tr><tr><td>step</td><td>▁▁▂▃▃▃▄▅▅▅▆▇▇▇█</td></tr><tr><td>_step</td><td>▁▁▂▂▃▃▄▄▅▅▆▆▇▇██</td></tr><tr><td>_runtime</td><td>▁▂▂▃▃▃▅▅▆▆▇▇▇███</td></tr><tr><td>_timestamp</td><td>▁▂▂▃▃▃▅▅▆▆▇▇▇███</td></tr><tr><td>dist_mean</td><td>▁</td></tr><tr><td>dist_min</td><td>▁</td></tr><tr><td>dist_max</td><td>▁</td></tr><tr><td>mean_reg_error</td><td>▁</td></tr></table><br/>"
      ],
      "text/plain": [
       "<IPython.core.display.HTML object>"
      ]
     },
     "metadata": {},
     "output_type": "display_data"
    },
    {
     "data": {
      "text/html": [
       "Synced 5 W&B file(s), 0 media file(s), 0 artifact file(s) and 0 other file(s)"
      ],
      "text/plain": [
       "<IPython.core.display.HTML object>"
      ]
     },
     "metadata": {},
     "output_type": "display_data"
    },
    {
     "data": {
      "text/html": [
       "\n",
       "                    <br/>Synced <strong style=\"color:#cdcd00\">legendary-sweep-50</strong>: <a href=\"https://wandb.ai/christianml/quadtree/runs/l94f7b5a\" target=\"_blank\">https://wandb.ai/christianml/quadtree/runs/l94f7b5a</a><br/>\n",
       "                "
      ],
      "text/plain": [
       "<IPython.core.display.HTML object>"
      ]
     },
     "metadata": {},
     "output_type": "display_data"
    },
    {
     "name": "stderr",
     "output_type": "stream",
     "text": [
      "\u001b[34m\u001b[1mwandb\u001b[0m: Agent Starting Run: og55yvl4 with config:\n",
      "\u001b[34m\u001b[1mwandb\u001b[0m: \tcrossCheck: False\n",
      "\u001b[34m\u001b[1mwandb\u001b[0m: \tfilter_outliner: False\n",
      "\u001b[34m\u001b[1mwandb\u001b[0m: \tflann: True\n",
      "\u001b[34m\u001b[1mwandb\u001b[0m: \thomography: True\n",
      "\u001b[34m\u001b[1mwandb\u001b[0m: \timage_type: Cyto\n",
      "\u001b[34m\u001b[1mwandb\u001b[0m: \tmaxFeatures: 768\n",
      "\u001b[34m\u001b[1mwandb\u001b[0m: \tpoint_extractor: sift\n",
      "\u001b[34m\u001b[1mwandb\u001b[0m: \tratio: 0.8\n",
      "\u001b[34m\u001b[1mwandb\u001b[0m: \tsource_scanner: Aperio\n",
      "\u001b[34m\u001b[1mwandb\u001b[0m: \ttarget_depth: 0\n",
      "\u001b[34m\u001b[1mwandb\u001b[0m: \tthumbnail_size: [2048, 2048]\n",
      "\u001b[34m\u001b[1mwandb\u001b[0m: \tuse_gray: False\n"
     ]
    },
    {
     "data": {
      "text/html": [
       "\n",
       "                Tracking run with wandb version 0.10.15<br/>\n",
       "                Syncing run <strong style=\"color:#cdcd00\">crisp-sweep-51</strong> to <a href=\"https://wandb.ai\" target=\"_blank\">Weights & Biases</a> <a href=\"https://docs.wandb.com/integrations/jupyter.html\" target=\"_blank\">(Documentation)</a>.<br/>\n",
       "                Project page: <a href=\"https://wandb.ai/christianml/quadtree\" target=\"_blank\">https://wandb.ai/christianml/quadtree</a><br/>\n",
       "                Sweep page: <a href=\"https://wandb.ai/christianml/quadtree/sweeps/e22y6790\" target=\"_blank\">https://wandb.ai/christianml/quadtree/sweeps/e22y6790</a><br/>\n",
       "Run page: <a href=\"https://wandb.ai/christianml/quadtree/runs/og55yvl4\" target=\"_blank\">https://wandb.ai/christianml/quadtree/runs/og55yvl4</a><br/>\n",
       "                Run data is saved locally in <code>/home/bronzi/ProgProjekte/EIPH_WSI/MIDL2021/Registration/WandB/wandb/run-20210126_212429-og55yvl4</code><br/><br/>\n",
       "            "
      ],
      "text/plain": [
       "<IPython.core.display.HTML object>"
      ]
     },
     "metadata": {},
     "output_type": "display_data"
    },
    {
     "name": "stderr",
     "output_type": "stream",
     "text": [
      "  0%|          | 0/5 [00:00<?, ?it/s]\n",
      "  0%|          | 0/4 [00:00<?, ?it/s]\u001b[A\n",
      " 25%|██▌       | 1/4 [00:10<00:32, 10.92s/it]\u001b[A\n",
      " 75%|███████▌  | 3/4 [00:20<00:06,  6.53s/it]\u001b[A\n",
      "100%|██████████| 4/4 [00:28<00:00,  7.02s/it]\u001b[A\n",
      " 20%|██        | 1/5 [00:28<01:52, 28.10s/it]\n",
      "  0%|          | 0/4 [00:00<?, ?it/s]\u001b[A\n",
      " 25%|██▌       | 1/4 [00:01<00:04,  1.51s/it]\u001b[A\n",
      " 75%|███████▌  | 3/4 [00:04<00:01,  1.39s/it]\u001b[A\n",
      "100%|██████████| 4/4 [00:06<00:00,  1.62s/it]\u001b[A\n",
      " 40%|████      | 2/5 [00:34<00:46, 15.39s/it]\n",
      "  0%|          | 0/4 [00:00<?, ?it/s]\u001b[A\n",
      " 25%|██▌       | 1/4 [00:08<00:24,  8.26s/it]\u001b[A\n",
      " 75%|███████▌  | 3/4 [00:20<00:06,  6.54s/it]\u001b[A\n",
      "100%|██████████| 4/4 [00:27<00:00,  6.86s/it]\u001b[A\n",
      " 60%|██████    | 3/5 [01:02<00:41, 20.89s/it]\n",
      "  0%|          | 0/4 [00:00<?, ?it/s]\u001b[A\n",
      " 25%|██▌       | 1/4 [00:01<00:04,  1.61s/it]\u001b[A\n",
      " 75%|███████▌  | 3/4 [00:04<00:01,  1.32s/it]\u001b[A\n",
      "100%|██████████| 4/4 [00:05<00:00,  1.37s/it]\u001b[A\n",
      " 80%|████████  | 4/5 [01:07<00:14, 14.80s/it]\n",
      "  0%|          | 0/4 [00:00<?, ?it/s]\u001b[A\n",
      " 25%|██▌       | 1/4 [00:08<00:26,  8.80s/it]\u001b[A\n",
      " 75%|███████▌  | 3/4 [00:18<00:05,  5.88s/it]\u001b[A\n",
      "100%|██████████| 4/4 [00:26<00:00,  6.63s/it]\u001b[A\n",
      "100%|██████████| 5/5 [01:34<00:00, 18.80s/it]\n"
     ]
    },
    {
     "data": {
      "text/html": [
       "<br/>Waiting for W&B process to finish, PID 26900<br/>Program ended successfully."
      ],
      "text/plain": [
       "<IPython.core.display.HTML object>"
      ]
     },
     "metadata": {},
     "output_type": "display_data"
    },
    {
     "data": {
      "application/vnd.jupyter.widget-view+json": {
       "model_id": "",
       "version_major": 2,
       "version_minor": 0
      },
      "text/plain": [
       "VBox(children=(Label(value=' 0.00MB of 0.00MB uploaded (0.00MB deduped)\\r'), FloatProgress(value=1.0, max=1.0)…"
      ]
     },
     "metadata": {},
     "output_type": "display_data"
    },
    {
     "data": {
      "text/html": [
       "Find user logs for this run at: <code>/home/bronzi/ProgProjekte/EIPH_WSI/MIDL2021/Registration/WandB/wandb/run-20210126_212429-og55yvl4/logs/debug.log</code>"
      ],
      "text/plain": [
       "<IPython.core.display.HTML object>"
      ]
     },
     "metadata": {},
     "output_type": "display_data"
    },
    {
     "data": {
      "text/html": [
       "Find internal logs for this run at: <code>/home/bronzi/ProgProjekte/EIPH_WSI/MIDL2021/Registration/WandB/wandb/run-20210126_212429-og55yvl4/logs/debug-internal.log</code>"
      ],
      "text/plain": [
       "<IPython.core.display.HTML object>"
      ]
     },
     "metadata": {},
     "output_type": "display_data"
    },
    {
     "data": {
      "text/html": [
       "<h3>Run summary:</h3><br/><style>\n",
       "    table.wandb td:nth-child(1) { padding: 0 10px; text-align: right }\n",
       "    </style><table class=\"wandb\">\n",
       "<tr><td>dist_mean_image</td><td>24.81528</td></tr><tr><td>mean_reg_error_image</td><td>2822.10898</td></tr><tr><td>step</td><td>14</td></tr><tr><td>_step</td><td>15</td></tr><tr><td>_runtime</td><td>94</td></tr><tr><td>_timestamp</td><td>1611692763</td></tr><tr><td>dist_mean</td><td>10.10841</td></tr><tr><td>dist_min</td><td>0.70688</td></tr><tr><td>dist_max</td><td>73.13373</td></tr><tr><td>mean_reg_error</td><td>2039.64511</td></tr></table>"
      ],
      "text/plain": [
       "<IPython.core.display.HTML object>"
      ]
     },
     "metadata": {},
     "output_type": "display_data"
    },
    {
     "data": {
      "text/html": [
       "<h3>Run history:</h3><br/><style>\n",
       "    table.wandb td:nth-child(1) { padding: 0 10px; text-align: right }\n",
       "    </style><table class=\"wandb\">\n",
       "<tr><td>dist_mean_image</td><td>▁▂▁▂▄▃▁▂▂▃█▄▁▁▃</td></tr><tr><td>mean_reg_error_image</td><td>▂▂▇▂▂▃▁▁▂▅▄█▂▂▄</td></tr><tr><td>step</td><td>▁▁▂▃▃▃▄▅▅▅▆▇▇▇█</td></tr><tr><td>_step</td><td>▁▁▂▂▃▃▄▄▅▅▆▆▇▇██</td></tr><tr><td>_runtime</td><td>▁▂▂▃▃▃▄▅▅▅▆▆▇▇██</td></tr><tr><td>_timestamp</td><td>▁▂▂▃▃▃▄▅▅▅▆▆▇▇██</td></tr><tr><td>dist_mean</td><td>▁</td></tr><tr><td>dist_min</td><td>▁</td></tr><tr><td>dist_max</td><td>▁</td></tr><tr><td>mean_reg_error</td><td>▁</td></tr></table><br/>"
      ],
      "text/plain": [
       "<IPython.core.display.HTML object>"
      ]
     },
     "metadata": {},
     "output_type": "display_data"
    },
    {
     "data": {
      "text/html": [
       "Synced 5 W&B file(s), 0 media file(s), 0 artifact file(s) and 0 other file(s)"
      ],
      "text/plain": [
       "<IPython.core.display.HTML object>"
      ]
     },
     "metadata": {},
     "output_type": "display_data"
    },
    {
     "data": {
      "text/html": [
       "\n",
       "                    <br/>Synced <strong style=\"color:#cdcd00\">crisp-sweep-51</strong>: <a href=\"https://wandb.ai/christianml/quadtree/runs/og55yvl4\" target=\"_blank\">https://wandb.ai/christianml/quadtree/runs/og55yvl4</a><br/>\n",
       "                "
      ],
      "text/plain": [
       "<IPython.core.display.HTML object>"
      ]
     },
     "metadata": {},
     "output_type": "display_data"
    },
    {
     "name": "stderr",
     "output_type": "stream",
     "text": [
      "\u001b[34m\u001b[1mwandb\u001b[0m: Agent Starting Run: 11xwxegb with config:\n",
      "\u001b[34m\u001b[1mwandb\u001b[0m: \tcrossCheck: False\n",
      "\u001b[34m\u001b[1mwandb\u001b[0m: \tfilter_outliner: False\n",
      "\u001b[34m\u001b[1mwandb\u001b[0m: \tflann: False\n",
      "\u001b[34m\u001b[1mwandb\u001b[0m: \thomography: False\n",
      "\u001b[34m\u001b[1mwandb\u001b[0m: \timage_type: Cyto\n",
      "\u001b[34m\u001b[1mwandb\u001b[0m: \tmaxFeatures: 256\n",
      "\u001b[34m\u001b[1mwandb\u001b[0m: \tpoint_extractor: sift\n",
      "\u001b[34m\u001b[1mwandb\u001b[0m: \tratio: 0.3\n",
      "\u001b[34m\u001b[1mwandb\u001b[0m: \tsource_scanner: Aperio\n",
      "\u001b[34m\u001b[1mwandb\u001b[0m: \ttarget_depth: 0\n",
      "\u001b[34m\u001b[1mwandb\u001b[0m: \tthumbnail_size: [2048, 2048]\n",
      "\u001b[34m\u001b[1mwandb\u001b[0m: \tuse_gray: True\n"
     ]
    },
    {
     "data": {
      "text/html": [
       "\n",
       "                Tracking run with wandb version 0.10.15<br/>\n",
       "                Syncing run <strong style=\"color:#cdcd00\">comfy-sweep-52</strong> to <a href=\"https://wandb.ai\" target=\"_blank\">Weights & Biases</a> <a href=\"https://docs.wandb.com/integrations/jupyter.html\" target=\"_blank\">(Documentation)</a>.<br/>\n",
       "                Project page: <a href=\"https://wandb.ai/christianml/quadtree\" target=\"_blank\">https://wandb.ai/christianml/quadtree</a><br/>\n",
       "                Sweep page: <a href=\"https://wandb.ai/christianml/quadtree/sweeps/e22y6790\" target=\"_blank\">https://wandb.ai/christianml/quadtree/sweeps/e22y6790</a><br/>\n",
       "Run page: <a href=\"https://wandb.ai/christianml/quadtree/runs/11xwxegb\" target=\"_blank\">https://wandb.ai/christianml/quadtree/runs/11xwxegb</a><br/>\n",
       "                Run data is saved locally in <code>/home/bronzi/ProgProjekte/EIPH_WSI/MIDL2021/Registration/WandB/wandb/run-20210126_212608-11xwxegb</code><br/><br/>\n",
       "            "
      ],
      "text/plain": [
       "<IPython.core.display.HTML object>"
      ]
     },
     "metadata": {},
     "output_type": "display_data"
    },
    {
     "name": "stderr",
     "output_type": "stream",
     "text": [
      "  0%|          | 0/5 [00:00<?, ?it/s]\n",
      "  0%|          | 0/4 [00:00<?, ?it/s]\u001b[A\n",
      " 25%|██▌       | 1/4 [00:12<00:36, 12.30s/it]\u001b[A\n",
      " 75%|███████▌  | 3/4 [00:29<00:09,  9.94s/it]\u001b[A\n",
      "  0%|          | 0/5 [00:29<?, ?it/s]\n"
     ]
    },
    {
     "data": {
      "text/html": [
       "<br/>Waiting for W&B process to finish, PID 27104<br/>Program failed with code 1.  Press ctrl-c to abort syncing."
      ],
      "text/plain": [
       "<IPython.core.display.HTML object>"
      ]
     },
     "metadata": {},
     "output_type": "display_data"
    },
    {
     "data": {
      "application/vnd.jupyter.widget-view+json": {
       "model_id": "",
       "version_major": 2,
       "version_minor": 0
      },
      "text/plain": [
       "VBox(children=(Label(value=' 0.00MB of 0.00MB uploaded (0.00MB deduped)\\r'), FloatProgress(value=1.0, max=1.0)…"
      ]
     },
     "metadata": {},
     "output_type": "display_data"
    },
    {
     "data": {
      "text/html": [
       "Find user logs for this run at: <code>/home/bronzi/ProgProjekte/EIPH_WSI/MIDL2021/Registration/WandB/wandb/run-20210126_212608-11xwxegb/logs/debug.log</code>"
      ],
      "text/plain": [
       "<IPython.core.display.HTML object>"
      ]
     },
     "metadata": {},
     "output_type": "display_data"
    },
    {
     "data": {
      "text/html": [
       "Find internal logs for this run at: <code>/home/bronzi/ProgProjekte/EIPH_WSI/MIDL2021/Registration/WandB/wandb/run-20210126_212608-11xwxegb/logs/debug-internal.log</code>"
      ],
      "text/plain": [
       "<IPython.core.display.HTML object>"
      ]
     },
     "metadata": {},
     "output_type": "display_data"
    },
    {
     "data": {
      "text/html": [
       "<h3>Run summary:</h3><br/><style>\n",
       "    table.wandb td:nth-child(1) { padding: 0 10px; text-align: right }\n",
       "    </style><table class=\"wandb\">\n",
       "<tr><td>dist_mean_image</td><td>13.53525</td></tr><tr><td>mean_reg_error_image</td><td>3.27733</td></tr><tr><td>step</td><td>1</td></tr><tr><td>_step</td><td>1</td></tr><tr><td>_runtime</td><td>24</td></tr><tr><td>_timestamp</td><td>1611692792</td></tr></table>"
      ],
      "text/plain": [
       "<IPython.core.display.HTML object>"
      ]
     },
     "metadata": {},
     "output_type": "display_data"
    },
    {
     "data": {
      "text/html": [
       "<h3>Run history:</h3><br/><style>\n",
       "    table.wandb td:nth-child(1) { padding: 0 10px; text-align: right }\n",
       "    </style><table class=\"wandb\">\n",
       "<tr><td>dist_mean_image</td><td>▁█</td></tr><tr><td>mean_reg_error_image</td><td>█▁</td></tr><tr><td>step</td><td>▁█</td></tr><tr><td>_step</td><td>▁█</td></tr><tr><td>_runtime</td><td>▁█</td></tr><tr><td>_timestamp</td><td>▁█</td></tr></table><br/>"
      ],
      "text/plain": [
       "<IPython.core.display.HTML object>"
      ]
     },
     "metadata": {},
     "output_type": "display_data"
    },
    {
     "data": {
      "text/html": [
       "Synced 5 W&B file(s), 0 media file(s), 0 artifact file(s) and 0 other file(s)"
      ],
      "text/plain": [
       "<IPython.core.display.HTML object>"
      ]
     },
     "metadata": {},
     "output_type": "display_data"
    },
    {
     "data": {
      "text/html": [
       "\n",
       "                    <br/>Synced <strong style=\"color:#cdcd00\">comfy-sweep-52</strong>: <a href=\"https://wandb.ai/christianml/quadtree/runs/11xwxegb\" target=\"_blank\">https://wandb.ai/christianml/quadtree/runs/11xwxegb</a><br/>\n",
       "                "
      ],
      "text/plain": [
       "<IPython.core.display.HTML object>"
      ]
     },
     "metadata": {},
     "output_type": "display_data"
    },
    {
     "name": "stderr",
     "output_type": "stream",
     "text": [
      "Run 11xwxegb errored: LinAlgError('Singular matrix')\n",
      "\u001b[34m\u001b[1mwandb\u001b[0m: \u001b[32m\u001b[41mERROR\u001b[0m Run 11xwxegb errored: LinAlgError('Singular matrix')\n",
      "\u001b[34m\u001b[1mwandb\u001b[0m: Agent Starting Run: 32514yb3 with config:\n",
      "\u001b[34m\u001b[1mwandb\u001b[0m: \tcrossCheck: False\n",
      "\u001b[34m\u001b[1mwandb\u001b[0m: \tfilter_outliner: False\n",
      "\u001b[34m\u001b[1mwandb\u001b[0m: \tflann: True\n",
      "\u001b[34m\u001b[1mwandb\u001b[0m: \thomography: True\n",
      "\u001b[34m\u001b[1mwandb\u001b[0m: \timage_type: Cyto\n",
      "\u001b[34m\u001b[1mwandb\u001b[0m: \tmaxFeatures: 768\n",
      "\u001b[34m\u001b[1mwandb\u001b[0m: \tpoint_extractor: sift\n",
      "\u001b[34m\u001b[1mwandb\u001b[0m: \tratio: 0.3\n",
      "\u001b[34m\u001b[1mwandb\u001b[0m: \tsource_scanner: Aperio\n",
      "\u001b[34m\u001b[1mwandb\u001b[0m: \ttarget_depth: 0\n",
      "\u001b[34m\u001b[1mwandb\u001b[0m: \tthumbnail_size: [1024, 1024]\n",
      "\u001b[34m\u001b[1mwandb\u001b[0m: \tuse_gray: True\n"
     ]
    },
    {
     "data": {
      "text/html": [
       "\n",
       "                Tracking run with wandb version 0.10.15<br/>\n",
       "                Syncing run <strong style=\"color:#cdcd00\">solar-sweep-53</strong> to <a href=\"https://wandb.ai\" target=\"_blank\">Weights & Biases</a> <a href=\"https://docs.wandb.com/integrations/jupyter.html\" target=\"_blank\">(Documentation)</a>.<br/>\n",
       "                Project page: <a href=\"https://wandb.ai/christianml/quadtree\" target=\"_blank\">https://wandb.ai/christianml/quadtree</a><br/>\n",
       "                Sweep page: <a href=\"https://wandb.ai/christianml/quadtree/sweeps/e22y6790\" target=\"_blank\">https://wandb.ai/christianml/quadtree/sweeps/e22y6790</a><br/>\n",
       "Run page: <a href=\"https://wandb.ai/christianml/quadtree/runs/32514yb3\" target=\"_blank\">https://wandb.ai/christianml/quadtree/runs/32514yb3</a><br/>\n",
       "                Run data is saved locally in <code>/home/bronzi/ProgProjekte/EIPH_WSI/MIDL2021/Registration/WandB/wandb/run-20210126_212644-32514yb3</code><br/><br/>\n",
       "            "
      ],
      "text/plain": [
       "<IPython.core.display.HTML object>"
      ]
     },
     "metadata": {},
     "output_type": "display_data"
    },
    {
     "name": "stderr",
     "output_type": "stream",
     "text": [
      "  0%|          | 0/5 [00:00<?, ?it/s]\n",
      "  0%|          | 0/4 [00:00<?, ?it/s]\u001b[A\n",
      " 25%|██▌       | 1/4 [00:00<00:01,  1.77it/s]\u001b[A\n",
      " 75%|███████▌  | 3/4 [00:02<00:00,  1.05it/s]\u001b[A\n",
      "  0%|          | 0/5 [00:02<?, ?it/s]\n"
     ]
    },
    {
     "data": {
      "text/html": [
       "<br/>Waiting for W&B process to finish, PID 27258<br/>Program failed with code 1.  Press ctrl-c to abort syncing."
      ],
      "text/plain": [
       "<IPython.core.display.HTML object>"
      ]
     },
     "metadata": {},
     "output_type": "display_data"
    },
    {
     "data": {
      "application/vnd.jupyter.widget-view+json": {
       "model_id": "",
       "version_major": 2,
       "version_minor": 0
      },
      "text/plain": [
       "VBox(children=(Label(value=' 0.00MB of 0.00MB uploaded (0.00MB deduped)\\r'), FloatProgress(value=1.0, max=1.0)…"
      ]
     },
     "metadata": {},
     "output_type": "display_data"
    },
    {
     "data": {
      "text/html": [
       "Find user logs for this run at: <code>/home/bronzi/ProgProjekte/EIPH_WSI/MIDL2021/Registration/WandB/wandb/run-20210126_212644-32514yb3/logs/debug.log</code>"
      ],
      "text/plain": [
       "<IPython.core.display.HTML object>"
      ]
     },
     "metadata": {},
     "output_type": "display_data"
    },
    {
     "data": {
      "text/html": [
       "Find internal logs for this run at: <code>/home/bronzi/ProgProjekte/EIPH_WSI/MIDL2021/Registration/WandB/wandb/run-20210126_212644-32514yb3/logs/debug-internal.log</code>"
      ],
      "text/plain": [
       "<IPython.core.display.HTML object>"
      ]
     },
     "metadata": {},
     "output_type": "display_data"
    },
    {
     "data": {
      "text/html": [
       "<h3>Run summary:</h3><br/><style>\n",
       "    table.wandb td:nth-child(1) { padding: 0 10px; text-align: right }\n",
       "    </style><table class=\"wandb\">\n",
       "<tr><td>dist_mean_image</td><td>35.21697</td></tr><tr><td>mean_reg_error_image</td><td>6.84955</td></tr><tr><td>step</td><td>1</td></tr><tr><td>_step</td><td>1</td></tr><tr><td>_runtime</td><td>4</td></tr><tr><td>_timestamp</td><td>1611692808</td></tr></table>"
      ],
      "text/plain": [
       "<IPython.core.display.HTML object>"
      ]
     },
     "metadata": {},
     "output_type": "display_data"
    },
    {
     "data": {
      "text/html": [
       "<h3>Run history:</h3><br/><style>\n",
       "    table.wandb td:nth-child(1) { padding: 0 10px; text-align: right }\n",
       "    </style><table class=\"wandb\">\n",
       "<tr><td>dist_mean_image</td><td>▁█</td></tr><tr><td>mean_reg_error_image</td><td>█▁</td></tr><tr><td>step</td><td>▁█</td></tr><tr><td>_step</td><td>▁█</td></tr><tr><td>_runtime</td><td>▁█</td></tr><tr><td>_timestamp</td><td>▁█</td></tr></table><br/>"
      ],
      "text/plain": [
       "<IPython.core.display.HTML object>"
      ]
     },
     "metadata": {},
     "output_type": "display_data"
    },
    {
     "data": {
      "text/html": [
       "Synced 5 W&B file(s), 0 media file(s), 0 artifact file(s) and 0 other file(s)"
      ],
      "text/plain": [
       "<IPython.core.display.HTML object>"
      ]
     },
     "metadata": {},
     "output_type": "display_data"
    },
    {
     "data": {
      "text/html": [
       "\n",
       "                    <br/>Synced <strong style=\"color:#cdcd00\">solar-sweep-53</strong>: <a href=\"https://wandb.ai/christianml/quadtree/runs/32514yb3\" target=\"_blank\">https://wandb.ai/christianml/quadtree/runs/32514yb3</a><br/>\n",
       "                "
      ],
      "text/plain": [
       "<IPython.core.display.HTML object>"
      ]
     },
     "metadata": {},
     "output_type": "display_data"
    },
    {
     "name": "stderr",
     "output_type": "stream",
     "text": [
      "Run 32514yb3 errored: error(\"OpenCV(4.5.1) /tmp/pip-req-build-ms668fyv/opencv/modules/calib3d/src/fundam.cpp:385: error: (-28:Unknown error code -28) The input arrays should have at least 4 corresponding point sets to calculate Homography in function 'findHomography'\\n\")\n",
      "\u001b[34m\u001b[1mwandb\u001b[0m: \u001b[32m\u001b[41mERROR\u001b[0m Run 32514yb3 errored: error(\"OpenCV(4.5.1) /tmp/pip-req-build-ms668fyv/opencv/modules/calib3d/src/fundam.cpp:385: error: (-28:Unknown error code -28) The input arrays should have at least 4 corresponding point sets to calculate Homography in function 'findHomography'\\n\")\n",
      "\u001b[34m\u001b[1mwandb\u001b[0m: Agent Starting Run: 642k95ny with config:\n",
      "\u001b[34m\u001b[1mwandb\u001b[0m: \tcrossCheck: False\n",
      "\u001b[34m\u001b[1mwandb\u001b[0m: \tfilter_outliner: False\n",
      "\u001b[34m\u001b[1mwandb\u001b[0m: \tflann: False\n",
      "\u001b[34m\u001b[1mwandb\u001b[0m: \thomography: False\n",
      "\u001b[34m\u001b[1mwandb\u001b[0m: \timage_type: Cyto\n",
      "\u001b[34m\u001b[1mwandb\u001b[0m: \tmaxFeatures: 512\n",
      "\u001b[34m\u001b[1mwandb\u001b[0m: \tpoint_extractor: sift\n",
      "\u001b[34m\u001b[1mwandb\u001b[0m: \tratio: 0.4\n",
      "\u001b[34m\u001b[1mwandb\u001b[0m: \tsource_scanner: Aperio\n",
      "\u001b[34m\u001b[1mwandb\u001b[0m: \ttarget_depth: 0\n",
      "\u001b[34m\u001b[1mwandb\u001b[0m: \tthumbnail_size: [4096, 4096]\n",
      "\u001b[34m\u001b[1mwandb\u001b[0m: \tuse_gray: True\n"
     ]
    },
    {
     "data": {
      "text/html": [
       "\n",
       "                Tracking run with wandb version 0.10.15<br/>\n",
       "                Syncing run <strong style=\"color:#cdcd00\">lilac-sweep-54</strong> to <a href=\"https://wandb.ai\" target=\"_blank\">Weights & Biases</a> <a href=\"https://docs.wandb.com/integrations/jupyter.html\" target=\"_blank\">(Documentation)</a>.<br/>\n",
       "                Project page: <a href=\"https://wandb.ai/christianml/quadtree\" target=\"_blank\">https://wandb.ai/christianml/quadtree</a><br/>\n",
       "                Sweep page: <a href=\"https://wandb.ai/christianml/quadtree/sweeps/e22y6790\" target=\"_blank\">https://wandb.ai/christianml/quadtree/sweeps/e22y6790</a><br/>\n",
       "Run page: <a href=\"https://wandb.ai/christianml/quadtree/runs/642k95ny\" target=\"_blank\">https://wandb.ai/christianml/quadtree/runs/642k95ny</a><br/>\n",
       "                Run data is saved locally in <code>/home/bronzi/ProgProjekte/EIPH_WSI/MIDL2021/Registration/WandB/wandb/run-20210126_212657-642k95ny</code><br/><br/>\n",
       "            "
      ],
      "text/plain": [
       "<IPython.core.display.HTML object>"
      ]
     },
     "metadata": {},
     "output_type": "display_data"
    },
    {
     "name": "stderr",
     "output_type": "stream",
     "text": [
      "  0%|          | 0/5 [00:00<?, ?it/s]\n",
      "  0%|          | 0/4 [00:00<?, ?it/s]\u001b[A\n",
      " 25%|██▌       | 1/4 [02:02<06:08, 122.85s/it]\u001b[A\n",
      " 75%|███████▌  | 3/4 [02:40<00:45, 45.69s/it] \u001b[A\n",
      "100%|██████████| 4/4 [02:53<00:00, 43.46s/it]\u001b[A\n",
      " 20%|██        | 1/5 [02:53<11:35, 173.83s/it]\n",
      "  0%|          | 0/4 [00:00<?, ?it/s]\u001b[A\n",
      " 25%|██▌       | 1/4 [01:13<03:40, 73.35s/it]\u001b[A\n",
      " 75%|███████▌  | 3/4 [01:32<00:25, 25.97s/it]\u001b[A\n",
      "100%|██████████| 4/4 [01:46<00:00, 26.61s/it]\u001b[A\n",
      " 40%|████      | 2/5 [04:40<06:42, 134.18s/it]\n",
      "  0%|          | 0/4 [00:00<?, ?it/s]\u001b[A\n",
      " 25%|██▌       | 1/4 [06:19<18:58, 379.44s/it]\u001b[A\n",
      " 75%|███████▌  | 3/4 [07:22<02:01, 121.74s/it]\u001b[A\n",
      "100%|██████████| 4/4 [07:37<00:00, 114.49s/it]\u001b[A\n",
      " 60%|██████    | 3/5 [12:18<09:24, 282.03s/it]\n",
      "  0%|          | 0/4 [00:00<?, ?it/s]\u001b[A\n",
      " 25%|██▌       | 1/4 [00:18<00:54, 18.03s/it]\u001b[A\n",
      " 75%|███████▌  | 3/4 [00:33<00:10, 10.56s/it]\u001b[A\n",
      "100%|██████████| 4/4 [00:48<00:00, 12.05s/it]\u001b[A\n",
      " 80%|████████  | 4/5 [13:06<03:09, 189.72s/it]\n",
      "  0%|          | 0/4 [00:00<?, ?it/s]\u001b[A\n",
      " 25%|██▌       | 1/4 [02:01<06:05, 121.68s/it]\u001b[A\n",
      " 75%|███████▌  | 3/4 [02:25<00:40, 40.25s/it] \u001b[A\n",
      "100%|██████████| 4/4 [02:40<00:00, 40.01s/it]\u001b[A\n",
      "100%|██████████| 5/5 [15:46<00:00, 189.30s/it]\n"
     ]
    },
    {
     "data": {
      "text/html": [
       "<br/>Waiting for W&B process to finish, PID 27329<br/>Program ended successfully."
      ],
      "text/plain": [
       "<IPython.core.display.HTML object>"
      ]
     },
     "metadata": {},
     "output_type": "display_data"
    },
    {
     "data": {
      "application/vnd.jupyter.widget-view+json": {
       "model_id": "",
       "version_major": 2,
       "version_minor": 0
      },
      "text/plain": [
       "VBox(children=(Label(value=' 0.00MB of 0.00MB uploaded (0.00MB deduped)\\r'), FloatProgress(value=1.0, max=1.0)…"
      ]
     },
     "metadata": {},
     "output_type": "display_data"
    },
    {
     "data": {
      "text/html": [
       "Find user logs for this run at: <code>/home/bronzi/ProgProjekte/EIPH_WSI/MIDL2021/Registration/WandB/wandb/run-20210126_212657-642k95ny/logs/debug.log</code>"
      ],
      "text/plain": [
       "<IPython.core.display.HTML object>"
      ]
     },
     "metadata": {},
     "output_type": "display_data"
    },
    {
     "data": {
      "text/html": [
       "Find internal logs for this run at: <code>/home/bronzi/ProgProjekte/EIPH_WSI/MIDL2021/Registration/WandB/wandb/run-20210126_212657-642k95ny/logs/debug-internal.log</code>"
      ],
      "text/plain": [
       "<IPython.core.display.HTML object>"
      ]
     },
     "metadata": {},
     "output_type": "display_data"
    },
    {
     "data": {
      "text/html": [
       "<h3>Run summary:</h3><br/><style>\n",
       "    table.wandb td:nth-child(1) { padding: 0 10px; text-align: right }\n",
       "    </style><table class=\"wandb\">\n",
       "<tr><td>dist_mean_image</td><td>11.30399</td></tr><tr><td>mean_reg_error_image</td><td>3.9866</td></tr><tr><td>step</td><td>14</td></tr><tr><td>_step</td><td>15</td></tr><tr><td>_runtime</td><td>947</td></tr><tr><td>_timestamp</td><td>1611693764</td></tr><tr><td>dist_mean</td><td>7.99905</td></tr><tr><td>dist_min</td><td>0.20771</td></tr><tr><td>dist_max</td><td>62.26235</td></tr><tr><td>mean_reg_error</td><td>73.31564</td></tr></table>"
      ],
      "text/plain": [
       "<IPython.core.display.HTML object>"
      ]
     },
     "metadata": {},
     "output_type": "display_data"
    },
    {
     "data": {
      "text/html": [
       "<h3>Run history:</h3><br/><style>\n",
       "    table.wandb td:nth-child(1) { padding: 0 10px; text-align: right }\n",
       "    </style><table class=\"wandb\">\n",
       "<tr><td>dist_mean_image</td><td>▂▂▂▂▅▃▁▂▂▄█▅▂▁▂</td></tr><tr><td>mean_reg_error_image</td><td>▅▃▁▂▁▁▅▃▁▃▁▁█▁▁</td></tr><tr><td>step</td><td>▁▁▂▃▃▃▄▅▅▅▆▇▇▇█</td></tr><tr><td>_step</td><td>▁▁▂▂▃▃▄▄▅▅▆▆▇▇██</td></tr><tr><td>_runtime</td><td>▁▁▁▂▂▂▆▆▆▆▇▇████</td></tr><tr><td>_timestamp</td><td>▁▁▁▂▂▂▆▆▆▆▇▇████</td></tr><tr><td>dist_mean</td><td>▁</td></tr><tr><td>dist_min</td><td>▁</td></tr><tr><td>dist_max</td><td>▁</td></tr><tr><td>mean_reg_error</td><td>▁</td></tr></table><br/>"
      ],
      "text/plain": [
       "<IPython.core.display.HTML object>"
      ]
     },
     "metadata": {},
     "output_type": "display_data"
    },
    {
     "data": {
      "text/html": [
       "Synced 5 W&B file(s), 0 media file(s), 0 artifact file(s) and 0 other file(s)"
      ],
      "text/plain": [
       "<IPython.core.display.HTML object>"
      ]
     },
     "metadata": {},
     "output_type": "display_data"
    },
    {
     "data": {
      "text/html": [
       "\n",
       "                    <br/>Synced <strong style=\"color:#cdcd00\">lilac-sweep-54</strong>: <a href=\"https://wandb.ai/christianml/quadtree/runs/642k95ny\" target=\"_blank\">https://wandb.ai/christianml/quadtree/runs/642k95ny</a><br/>\n",
       "                "
      ],
      "text/plain": [
       "<IPython.core.display.HTML object>"
      ]
     },
     "metadata": {},
     "output_type": "display_data"
    },
    {
     "name": "stderr",
     "output_type": "stream",
     "text": [
      "\u001b[34m\u001b[1mwandb\u001b[0m: Agent Starting Run: v2jwrlcd with config:\n",
      "\u001b[34m\u001b[1mwandb\u001b[0m: \tcrossCheck: False\n",
      "\u001b[34m\u001b[1mwandb\u001b[0m: \tfilter_outliner: False\n",
      "\u001b[34m\u001b[1mwandb\u001b[0m: \tflann: True\n",
      "\u001b[34m\u001b[1mwandb\u001b[0m: \thomography: False\n",
      "\u001b[34m\u001b[1mwandb\u001b[0m: \timage_type: Cyto\n",
      "\u001b[34m\u001b[1mwandb\u001b[0m: \tmaxFeatures: 256\n",
      "\u001b[34m\u001b[1mwandb\u001b[0m: \tpoint_extractor: sift\n",
      "\u001b[34m\u001b[1mwandb\u001b[0m: \tratio: 0.8\n",
      "\u001b[34m\u001b[1mwandb\u001b[0m: \tsource_scanner: Aperio\n",
      "\u001b[34m\u001b[1mwandb\u001b[0m: \ttarget_depth: 0\n",
      "\u001b[34m\u001b[1mwandb\u001b[0m: \tthumbnail_size: [4096, 4096]\n",
      "\u001b[34m\u001b[1mwandb\u001b[0m: \tuse_gray: True\n"
     ]
    },
    {
     "data": {
      "text/html": [
       "\n",
       "                Tracking run with wandb version 0.10.15<br/>\n",
       "                Syncing run <strong style=\"color:#cdcd00\">twilight-sweep-56</strong> to <a href=\"https://wandb.ai\" target=\"_blank\">Weights & Biases</a> <a href=\"https://docs.wandb.com/integrations/jupyter.html\" target=\"_blank\">(Documentation)</a>.<br/>\n",
       "                Project page: <a href=\"https://wandb.ai/christianml/quadtree\" target=\"_blank\">https://wandb.ai/christianml/quadtree</a><br/>\n",
       "                Sweep page: <a href=\"https://wandb.ai/christianml/quadtree/sweeps/e22y6790\" target=\"_blank\">https://wandb.ai/christianml/quadtree/sweeps/e22y6790</a><br/>\n",
       "Run page: <a href=\"https://wandb.ai/christianml/quadtree/runs/v2jwrlcd\" target=\"_blank\">https://wandb.ai/christianml/quadtree/runs/v2jwrlcd</a><br/>\n",
       "                Run data is saved locally in <code>/home/bronzi/ProgProjekte/EIPH_WSI/MIDL2021/Registration/WandB/wandb/run-20210126_214248-v2jwrlcd</code><br/><br/>\n",
       "            "
      ],
      "text/plain": [
       "<IPython.core.display.HTML object>"
      ]
     },
     "metadata": {},
     "output_type": "display_data"
    },
    {
     "name": "stderr",
     "output_type": "stream",
     "text": [
      "  0%|          | 0/5 [00:00<?, ?it/s]\n",
      "  0%|          | 0/4 [00:00<?, ?it/s]\u001b[A\n",
      " 25%|██▌       | 1/4 [12:12<36:36, 732.00s/it]\u001b[A\u001b[34m\u001b[1mwandb\u001b[0m: Ctrl + C detected. Stopping sweep.\n",
      " 50%|█████     | 2/4 [12:09:54<12:09:54, 21897.46s/it]\n",
      "  0%|          | 0/5 [12:09:54<?, ?it/s]\n"
     ]
    },
    {
     "data": {
      "text/html": [
       "<br/>Waiting for W&B process to finish, PID 29274<br/>Program failed with code 1.  Press ctrl-c to abort syncing."
      ],
      "text/plain": [
       "<IPython.core.display.HTML object>"
      ]
     },
     "metadata": {},
     "output_type": "display_data"
    }
   ],
   "source": [
    "wandb.agent(sweep_id, train, project=\"quadtree\")"
   ]
  },
  {
   "cell_type": "code",
   "execution_count": null,
   "metadata": {},
   "outputs": [],
   "source": []
  }
 ],
 "metadata": {
  "kernelspec": {
   "display_name": "Python 3",
   "language": "python",
   "name": "python3"
  },
  "language_info": {
   "codemirror_mode": {
    "name": "ipython",
    "version": 3
   },
   "file_extension": ".py",
   "mimetype": "text/x-python",
   "name": "python",
   "nbconvert_exporter": "python",
   "pygments_lexer": "ipython3",
   "version": "3.8.5"
  }
 },
 "nbformat": 4,
 "nbformat_minor": 4
}
