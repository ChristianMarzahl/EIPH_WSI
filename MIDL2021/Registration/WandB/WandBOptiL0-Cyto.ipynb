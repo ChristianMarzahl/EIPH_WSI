{
 "cells": [
  {
   "cell_type": "code",
   "execution_count": 1,
   "metadata": {},
   "outputs": [],
   "source": [
    "%reload_ext autoreload\n",
    "%autoreload 2\n",
    "%matplotlib inline"
   ]
  },
  {
   "cell_type": "code",
   "execution_count": 2,
   "metadata": {},
   "outputs": [],
   "source": [
    "import numpy as np\n",
    "import openslide\n",
    "from probreg import cpd\n",
    "from probreg import transformation as tf\n",
    "import cv2\n",
    "from PIL import Image\n",
    "from pathlib import Path\n",
    "import pandas as pd\n",
    "from tqdm import tqdm\n",
    "import json\n",
    "import wandb\n",
    "import platform"
   ]
  },
  {
   "cell_type": "code",
   "execution_count": 3,
   "metadata": {},
   "outputs": [],
   "source": [
    "import sys\n",
    "sys.path.append(\"..\")\n",
    "from registration_tree import Rect, QuadTree"
   ]
  },
  {
   "cell_type": "code",
   "execution_count": 4,
   "metadata": {},
   "outputs": [],
   "source": [
    "sweep_config = {\n",
    "    'method': 'random', #'bayes' # 'random'\n",
    "}\n",
    "\n",
    "metric = {\n",
    "    'name': 'dist_mean',\n",
    "    'goal': 'minimise'   \n",
    "    }\n",
    "\n",
    "\n",
    "sweep_config['metric'] = metric"
   ]
  },
  {
   "cell_type": "code",
   "execution_count": 5,
   "metadata": {},
   "outputs": [],
   "source": [
    "parameters_dict = {\n",
    "    'point_extractor': {\n",
    "        'values': [\"sift\"] #'orb', \n",
    "        },\n",
    "    'maxFeatures': {\n",
    "        #'values': [64, 128, 256, 512, 768, 1024, 2048]\n",
    "        'values': [64, 128, 256, 512, 768, 1024, 2048]\n",
    "        },\n",
    "    'crossCheck': {\n",
    "        'values': [False]\n",
    "        },\n",
    "    'flann': {\n",
    "        'values': [False, True]\n",
    "        },\n",
    "    'ratio': {\n",
    "        #'values': [.1, .2, .3, .4, .5, .6, .7, .8, .9]\n",
    "        'values': [.3, .4, .5, .6, .7, .8, .9]\n",
    "        },\n",
    "    'use_gray': {\n",
    "        'values': [True, False]\n",
    "        },\n",
    "    'homography': {\n",
    "        'values': [True]\n",
    "        },\n",
    "    'filter_outliner': {\n",
    "        'values': [False]\n",
    "        },\n",
    "    'target_depth': {\n",
    "        'values': [0]\n",
    "        },\n",
    "    'thumbnail_size': {\n",
    "        #'values': [(1024, 1024), (2048, 2048), (4096, 4096)]\n",
    "        'values': [(1024, 1024), (2048, 2048), (4096, 4096), (8192, 8192)] #\n",
    "        },    \n",
    "    \n",
    "    'image_type': {\n",
    "        'values': [\"Cyto\"] #, \"Cyto\", \"CCMCT\"\n",
    "        },\n",
    "    \n",
    "    'source_scanner': {\n",
    "        'values': [\"Aperio\"]\n",
    "        },\n",
    "}\n",
    "sweep_config['parameters'] = parameters_dict"
   ]
  },
  {
   "cell_type": "code",
   "execution_count": 6,
   "metadata": {},
   "outputs": [
    {
     "name": "stdout",
     "output_type": "stream",
     "text": [
      "Create sweep with ID: jbgxjz4o\n",
      "Sweep URL: https://wandb.ai/christianml/quadtree/sweeps/jbgxjz4o\n"
     ]
    },
    {
     "data": {
      "text/plain": [
       "'jbgxjz4o'"
      ]
     },
     "execution_count": 6,
     "metadata": {},
     "output_type": "execute_result"
    }
   ],
   "source": [
    "sweep_id = wandb.sweep(sweep_config, project=\"quadtree\")\n",
    "sweep_id"
   ]
  },
  {
   "cell_type": "code",
   "execution_count": 7,
   "metadata": {},
   "outputs": [],
   "source": [
    "def add_help_fields(frame):\n",
    "    \n",
    "    frame[\"image_name_stem\"] = [Path(image_name).stem for image_name in frame[\"image_name\"]]    \n",
    "    frame[\"patient_id\"] = [name.split(\"_\")[2] for name in frame[\"image_name\"]]\n",
    "\n",
    "    frame[\"x1\"] = [json.loads(vector.replace(\"\\'\",\"\\\"\"))['x1'] for vector in frame[\"vector\"]]\n",
    "    frame[\"y1\"] = [json.loads(vector.replace(\"\\'\",\"\\\"\"))['y1'] for vector in frame[\"vector\"]]\n",
    "\n",
    "    frame[\"x2\"] = [json.loads(vector.replace(\"\\'\",\"\\\"\"))['x2'] for vector in frame[\"vector\"]]\n",
    "    frame[\"y2\"] = [json.loads(vector.replace(\"\\'\",\"\\\"\"))['y2'] for vector in frame[\"vector\"]]\n",
    "\n",
    "    frame[\"center_x\"] = [x1 + ((x2-x1) / 2) for x1, x2 in zip(frame[\"x1\"], frame[\"x2\"])]\n",
    "    frame[\"center_y\"] = [y1 + ((y2-y1) / 2) for y1, y2 in zip(frame[\"y1\"], frame[\"y2\"])]\n",
    "    \n",
    "    frame[\"center\"] = [np.array((center_x, center_y)) for center_x, center_y in zip(frame[\"center_x\"], frame[\"center_y\"])]\n",
    "\n",
    "    frame[\"anno_width\"] = [x2-x1 for x1, x2 in zip(frame[\"x1\"], frame[\"x2\"])]\n",
    "    frame[\"anno_height\"]= [y2-y1 for y1, y2 in zip(frame[\"y1\"], frame[\"y2\"])]\n",
    "    \n",
    "    return frame"
   ]
  },
  {
   "cell_type": "code",
   "execution_count": 8,
   "metadata": {},
   "outputs": [],
   "source": [
    "folder = Path(\"..\")\n",
    "\n",
    "slide_folder = Path(\"D:/Datasets/ScannerStudy\")\n",
    "if slide_folder.exists() == False:\n",
    "    slide_folder = Path(\"/mnt/d/Datasets/ScannerStudy\")\n",
    "if slide_folder.exists() == False:\n",
    "    slide_folder = Path(\"/data/ScannerStudy\")\n",
    "    \n",
    "slide_files = {path.name: path for path in slide_folder.glob(\"*/*/*.*\")}"
   ]
  },
  {
   "cell_type": "code",
   "execution_count": 9,
   "metadata": {},
   "outputs": [],
   "source": [
    "def train(config=None):\n",
    "    \n",
    "    # Initialize a new wandb run\n",
    "    with wandb.init(config=config):\n",
    "        # If called by wandb.agent, as below,\n",
    "        # this config will be set by Sweep Controller\n",
    "        config = wandb.config\n",
    "        \n",
    "        annotations = add_help_fields(pd.read_csv(folder / \"Validation/GT.csv\"))\n",
    "        annotations = annotations[annotations[\"image_type\"] == config.image_type]\n",
    "        \n",
    "        source_scanner_annotations = annotations[annotations[\"scanner\"] == config.source_scanner]\n",
    "    \n",
    "        dist_list, q_list, sigma2_list = [], [], []\n",
    "                        \n",
    "        step = 0\n",
    "        for patient_id in tqdm(source_scanner_annotations[\"patient_id\"].unique()):\n",
    "\n",
    "            source_annos = source_scanner_annotations[source_scanner_annotations[\"patient_id\"] == patient_id]\n",
    "            source_anno = source_annos.iloc[0]\n",
    "\n",
    "            target_patient_annotations = annotations[annotations[\"patient_id\"] == patient_id]\n",
    "\n",
    "            for target_image_name in tqdm(target_patient_annotations[\"image_name\"].unique()):\n",
    "                image_dist_list = []\n",
    "\n",
    "                target_annos = target_patient_annotations[target_patient_annotations[\"image_name\"] == target_image_name]\n",
    "                target_anno = target_annos.iloc[0]\n",
    "                \n",
    "                if source_anno.scanner == taret_anno.scanner:\n",
    "                    continue\n",
    "\n",
    "                source_slide = openslide.OpenSlide(str(slide_files[source_anno.image_name]))\n",
    "                target_slide = openslide.OpenSlide(str(slide_files[target_anno.image_name]))\n",
    "\n",
    "                source_dimension = Rect.create(Rect, 0, 0, source_slide.dimensions[0], source_slide.dimensions[1])\n",
    "                target_dimension = Rect.create(Rect, 0, 0, target_slide.dimensions[0], target_slide.dimensions[1])\n",
    "\n",
    "\n",
    "                qtree = QuadTree(source_dimension, source_slide, target_dimension, target_slide, debug=False, **config)\n",
    "                                  \n",
    "                q_list.append(qtree.q)\n",
    "                sigma2_list.append(qtree.sigma2)\n",
    "                \n",
    "                intersections = list(set(source_annos[\"type_name\"]).intersection(target_annos[\"type_name\"]))\n",
    "                \n",
    "                for type_name in intersections:\n",
    "\n",
    "                    source_anno = source_annos[source_annos[\"type_name\"] == type_name].iloc[0]\n",
    "                    target_anno = target_annos[target_annos[\"type_name\"] == type_name].iloc[0]\n",
    "\n",
    "                    box = [source_anno.center_x, source_anno.center_y, source_anno.anno_width, source_anno.anno_height]\n",
    "                    target_box = [target_anno.center_x, target_anno.center_y, target_anno.anno_width, target_anno.anno_height]\n",
    "\n",
    "                    trans_box = qtree.transform_boxes(np.array([box]))[0]\n",
    "\n",
    "                    distance = np.linalg.norm(target_box[:2]-trans_box[:2])\n",
    "\n",
    "                    dist_list.append(distance)\n",
    "                    image_dist_list.append(distance)\n",
    "                    \n",
    "                image_dist_list = np.array(image_dist_list)\n",
    "                wandb.log({\n",
    "                    \"dist_mean_image\": image_dist_list.mean(),\n",
    "                    \"dist_mean_image\": image_dist_list.min(),\n",
    "                    \"dist_mean_image\": image_dist_list.max(),\n",
    "                    \"step\": step,\n",
    "                })\n",
    "                \n",
    "                step += 1\n",
    "        \n",
    "        dist_list, q_list, sigma2_list = np.array(dist_list), np.array(q_list), np.array(sigma2_list)\n",
    "        \n",
    "        wandb.log({\n",
    "            \"dist_mean\": dist_list.mean(),\n",
    "            \"dist_min\": dist_list.min(),\n",
    "            \"dist_max\": dist_list.max(),\n",
    "            \n",
    "            \"q_mean\": q_list.mean(),\n",
    "            \"q_min\": q_list.min(),\n",
    "            \"q_max\": q_list.max(),\n",
    "            \n",
    "            \"sigma2_mean\": sigma2_list.mean(),\n",
    "            \"sigma2_min\": sigma2_list.min(),\n",
    "            \"sigma2_max\": sigma2_list.max(),\n",
    "        })"
   ]
  },
  {
   "cell_type": "code",
   "execution_count": 10,
   "metadata": {},
   "outputs": [
    {
     "data": {
      "text/plain": [
       "'jbgxjz4o'"
      ]
     },
     "execution_count": 10,
     "metadata": {},
     "output_type": "execute_result"
    }
   ],
   "source": [
    "sweep_id"
   ]
  },
  {
   "cell_type": "code",
   "execution_count": null,
   "metadata": {
    "scrolled": false
   },
   "outputs": [
    {
     "name": "stderr",
     "output_type": "stream",
     "text": [
      "INFO - 2021-01-25 21:59:20,883 - pyagent - Starting sweep agent: entity=None, project=None, count=None\n",
      "\u001b[34m\u001b[1mwandb\u001b[0m: Agent Starting Run: v9ywxo4h with config:\n",
      "\u001b[34m\u001b[1mwandb\u001b[0m: \tcrossCheck: False\n",
      "\u001b[34m\u001b[1mwandb\u001b[0m: \tfilter_outliner: False\n",
      "\u001b[34m\u001b[1mwandb\u001b[0m: \tflann: True\n",
      "\u001b[34m\u001b[1mwandb\u001b[0m: \thomography: True\n",
      "\u001b[34m\u001b[1mwandb\u001b[0m: \timage_type: Cyto\n",
      "\u001b[34m\u001b[1mwandb\u001b[0m: \tmaxFeatures: 2048\n",
      "\u001b[34m\u001b[1mwandb\u001b[0m: \tpoint_extractor: sift\n",
      "\u001b[34m\u001b[1mwandb\u001b[0m: \tratio: 0.9\n",
      "\u001b[34m\u001b[1mwandb\u001b[0m: \tsource_scanner: Aperio\n",
      "\u001b[34m\u001b[1mwandb\u001b[0m: \ttarget_depth: 0\n",
      "\u001b[34m\u001b[1mwandb\u001b[0m: \tthumbnail_size: [4096, 4096]\n",
      "\u001b[34m\u001b[1mwandb\u001b[0m: \tuse_gray: False\n",
      "\u001b[34m\u001b[1mwandb\u001b[0m: Currently logged in as: \u001b[33mchristianml\u001b[0m (use `wandb login --relogin` to force relogin)\n"
     ]
    },
    {
     "data": {
      "text/html": [
       "\n",
       "                Tracking run with wandb version 0.10.15<br/>\n",
       "                Syncing run <strong style=\"color:#cdcd00\">eager-sweep-1</strong> to <a href=\"https://wandb.ai\" target=\"_blank\">Weights & Biases</a> <a href=\"https://docs.wandb.com/integrations/jupyter.html\" target=\"_blank\">(Documentation)</a>.<br/>\n",
       "                Project page: <a href=\"https://wandb.ai/christianml/quadtree\" target=\"_blank\">https://wandb.ai/christianml/quadtree</a><br/>\n",
       "                Sweep page: <a href=\"https://wandb.ai/christianml/quadtree/sweeps/jbgxjz4o\" target=\"_blank\">https://wandb.ai/christianml/quadtree/sweeps/jbgxjz4o</a><br/>\n",
       "Run page: <a href=\"https://wandb.ai/christianml/quadtree/runs/v9ywxo4h\" target=\"_blank\">https://wandb.ai/christianml/quadtree/runs/v9ywxo4h</a><br/>\n",
       "                Run data is saved locally in <code>/home/bronzi/ProgProjekte/EIPH_WSI/MIDL2021/Registration/WandB/wandb/run-20210125_215921-v9ywxo4h</code><br/><br/>\n",
       "            "
      ],
      "text/plain": [
       "<IPython.core.display.HTML object>"
      ]
     },
     "metadata": {},
     "output_type": "display_data"
    },
    {
     "name": "stderr",
     "output_type": "stream",
     "text": [
      "  0%|          | 0/5 [00:00<?, ?it/s]\n",
      "  0%|          | 0/4 [00:00<?, ?it/s]\u001b[A\n",
      " 25%|██▌       | 1/4 [00:28<01:24, 28.30s/it]\u001b[A\n",
      " 50%|█████     | 2/4 [00:49<00:48, 24.06s/it]\u001b[A\n",
      " 75%|███████▌  | 3/4 [01:04<00:19, 19.87s/it]\u001b[A\n",
      "100%|██████████| 4/4 [01:33<00:00, 23.48s/it]\u001b[A\n",
      " 20%|██        | 1/5 [01:33<06:15, 93.92s/it]\n",
      "  0%|          | 0/4 [00:00<?, ?it/s]\u001b[A\n",
      " 25%|██▌       | 1/4 [00:25<01:15, 25.25s/it]\u001b[A\n",
      " 50%|█████     | 2/4 [00:53<00:54, 27.07s/it]\u001b[A\n",
      " 75%|███████▌  | 3/4 [01:11<00:22, 22.82s/it]\u001b[A\n",
      "100%|██████████| 4/4 [01:37<00:00, 24.48s/it]\u001b[A\n",
      " 40%|████      | 2/5 [03:11<04:48, 96.28s/it]\n",
      "  0%|          | 0/4 [00:00<?, ?it/s]\u001b[A\n",
      " 25%|██▌       | 1/4 [00:31<01:34, 31.64s/it]\u001b[A\n",
      " 50%|█████     | 2/4 [00:59<00:59, 29.60s/it]\u001b[A\n",
      " 75%|███████▌  | 3/4 [01:22<00:26, 26.35s/it]\u001b[A\n",
      "100%|██████████| 4/4 [01:47<00:00, 26.76s/it]\u001b[A\n",
      " 60%|██████    | 3/5 [04:58<03:22, 101.20s/it]\n",
      "  0%|          | 0/4 [00:00<?, ?it/s]\u001b[A\n",
      " 25%|██▌       | 1/4 [00:34<01:44, 34.98s/it]\u001b[A\n",
      " 50%|█████     | 2/4 [01:03<01:01, 30.96s/it]\u001b[A\n",
      " 75%|███████▌  | 3/4 [01:20<00:24, 24.95s/it]\u001b[A\n",
      "100%|██████████| 4/4 [01:49<00:00, 27.42s/it]\u001b[A\n",
      " 80%|████████  | 4/5 [06:48<01:44, 104.55s/it]\n",
      "  0%|          | 0/4 [00:00<?, ?it/s]\u001b[A\n",
      " 25%|██▌       | 1/4 [00:28<01:25, 28.49s/it]\u001b[A\n",
      " 50%|█████     | 2/4 [00:55<00:55, 27.81s/it]\u001b[A\n",
      " 75%|███████▌  | 3/4 [01:13<00:23, 23.03s/it]\u001b[A\n",
      "100%|██████████| 4/4 [01:44<00:00, 26.04s/it]\u001b[A\n",
      "100%|██████████| 5/5 [08:32<00:00, 102.55s/it]\n"
     ]
    },
    {
     "data": {
      "text/html": [
       "<br/>Waiting for W&B process to finish, PID 571<br/>Program ended successfully."
      ],
      "text/plain": [
       "<IPython.core.display.HTML object>"
      ]
     },
     "metadata": {},
     "output_type": "display_data"
    },
    {
     "data": {
      "application/vnd.jupyter.widget-view+json": {
       "model_id": "",
       "version_major": 2,
       "version_minor": 0
      },
      "text/plain": [
       "VBox(children=(Label(value=' 0.00MB of 0.00MB uploaded (0.00MB deduped)\\r'), FloatProgress(value=1.0, max=1.0)…"
      ]
     },
     "metadata": {},
     "output_type": "display_data"
    },
    {
     "data": {
      "text/html": [
       "Find user logs for this run at: <code>/home/bronzi/ProgProjekte/EIPH_WSI/MIDL2021/Registration/WandB/wandb/run-20210125_215921-v9ywxo4h/logs/debug.log</code>"
      ],
      "text/plain": [
       "<IPython.core.display.HTML object>"
      ]
     },
     "metadata": {},
     "output_type": "display_data"
    },
    {
     "data": {
      "text/html": [
       "Find internal logs for this run at: <code>/home/bronzi/ProgProjekte/EIPH_WSI/MIDL2021/Registration/WandB/wandb/run-20210125_215921-v9ywxo4h/logs/debug-internal.log</code>"
      ],
      "text/plain": [
       "<IPython.core.display.HTML object>"
      ]
     },
     "metadata": {},
     "output_type": "display_data"
    },
    {
     "data": {
      "text/html": [
       "<h3>Run summary:</h3><br/><style>\n",
       "    table.wandb td:nth-child(1) { padding: 0 10px; text-align: right }\n",
       "    </style><table class=\"wandb\">\n",
       "<tr><td>dist_mean_image</td><td>39.64882</td></tr><tr><td>step</td><td>19</td></tr><tr><td>_step</td><td>20</td></tr><tr><td>_runtime</td><td>514</td></tr><tr><td>_timestamp</td><td>1611608875</td></tr><tr><td>dist_mean</td><td>9.13597</td></tr><tr><td>dist_min</td><td>0.0</td></tr><tr><td>dist_max</td><td>57.65236</td></tr><tr><td>q_mean</td><td>-1.0</td></tr><tr><td>q_min</td><td>-1</td></tr><tr><td>q_max</td><td>-1</td></tr><tr><td>sigma2_mean</td><td>-1.0</td></tr><tr><td>sigma2_min</td><td>-1</td></tr><tr><td>sigma2_max</td><td>-1</td></tr></table>"
      ],
      "text/plain": [
       "<IPython.core.display.HTML object>"
      ]
     },
     "metadata": {},
     "output_type": "display_data"
    },
    {
     "data": {
      "text/html": [
       "<h3>Run history:</h3><br/><style>\n",
       "    table.wandb td:nth-child(1) { padding: 0 10px; text-align: right }\n",
       "    </style><table class=\"wandb\">\n",
       "<tr><td>dist_mean_image</td><td>▃▁▃▃▃▁▆▄▃▁▃▃▄▁██▂▁▅▆</td></tr><tr><td>step</td><td>▁▁▂▂▂▃▃▄▄▄▅▅▅▆▆▇▇▇██</td></tr><tr><td>_step</td><td>▁▁▂▂▂▃▃▃▄▄▅▅▅▆▆▆▇▇▇██</td></tr><tr><td>_runtime</td><td>▁▁▂▂▂▃▃▃▄▄▅▅▅▆▆▆▇▇███</td></tr><tr><td>_timestamp</td><td>▁▁▂▂▂▃▃▃▄▄▅▅▅▆▆▆▇▇███</td></tr><tr><td>dist_mean</td><td>▁</td></tr><tr><td>dist_min</td><td>▁</td></tr><tr><td>dist_max</td><td>▁</td></tr><tr><td>q_mean</td><td>▁</td></tr><tr><td>q_min</td><td>▁</td></tr><tr><td>q_max</td><td>▁</td></tr><tr><td>sigma2_mean</td><td>▁</td></tr><tr><td>sigma2_min</td><td>▁</td></tr><tr><td>sigma2_max</td><td>▁</td></tr></table><br/>"
      ],
      "text/plain": [
       "<IPython.core.display.HTML object>"
      ]
     },
     "metadata": {},
     "output_type": "display_data"
    },
    {
     "data": {
      "text/html": [
       "Synced 5 W&B file(s), 0 media file(s), 0 artifact file(s) and 0 other file(s)"
      ],
      "text/plain": [
       "<IPython.core.display.HTML object>"
      ]
     },
     "metadata": {},
     "output_type": "display_data"
    },
    {
     "data": {
      "text/html": [
       "\n",
       "                    <br/>Synced <strong style=\"color:#cdcd00\">eager-sweep-1</strong>: <a href=\"https://wandb.ai/christianml/quadtree/runs/v9ywxo4h\" target=\"_blank\">https://wandb.ai/christianml/quadtree/runs/v9ywxo4h</a><br/>\n",
       "                "
      ],
      "text/plain": [
       "<IPython.core.display.HTML object>"
      ]
     },
     "metadata": {},
     "output_type": "display_data"
    },
    {
     "name": "stderr",
     "output_type": "stream",
     "text": [
      "\u001b[34m\u001b[1mwandb\u001b[0m: Agent Starting Run: pc5s1e3q with config:\n",
      "\u001b[34m\u001b[1mwandb\u001b[0m: \tcrossCheck: False\n",
      "\u001b[34m\u001b[1mwandb\u001b[0m: \tfilter_outliner: False\n",
      "\u001b[34m\u001b[1mwandb\u001b[0m: \tflann: False\n",
      "\u001b[34m\u001b[1mwandb\u001b[0m: \thomography: True\n",
      "\u001b[34m\u001b[1mwandb\u001b[0m: \timage_type: Cyto\n",
      "\u001b[34m\u001b[1mwandb\u001b[0m: \tmaxFeatures: 768\n",
      "\u001b[34m\u001b[1mwandb\u001b[0m: \tpoint_extractor: sift\n",
      "\u001b[34m\u001b[1mwandb\u001b[0m: \tratio: 0.8\n",
      "\u001b[34m\u001b[1mwandb\u001b[0m: \tsource_scanner: Aperio\n",
      "\u001b[34m\u001b[1mwandb\u001b[0m: \ttarget_depth: 0\n",
      "\u001b[34m\u001b[1mwandb\u001b[0m: \tthumbnail_size: [2048, 2048]\n",
      "\u001b[34m\u001b[1mwandb\u001b[0m: \tuse_gray: False\n"
     ]
    },
    {
     "data": {
      "text/html": [
       "\n",
       "                Tracking run with wandb version 0.10.15<br/>\n",
       "                Syncing run <strong style=\"color:#cdcd00\">toasty-sweep-4</strong> to <a href=\"https://wandb.ai\" target=\"_blank\">Weights & Biases</a> <a href=\"https://docs.wandb.com/integrations/jupyter.html\" target=\"_blank\">(Documentation)</a>.<br/>\n",
       "                Project page: <a href=\"https://wandb.ai/christianml/quadtree\" target=\"_blank\">https://wandb.ai/christianml/quadtree</a><br/>\n",
       "                Sweep page: <a href=\"https://wandb.ai/christianml/quadtree/sweeps/jbgxjz4o\" target=\"_blank\">https://wandb.ai/christianml/quadtree/sweeps/jbgxjz4o</a><br/>\n",
       "Run page: <a href=\"https://wandb.ai/christianml/quadtree/runs/pc5s1e3q\" target=\"_blank\">https://wandb.ai/christianml/quadtree/runs/pc5s1e3q</a><br/>\n",
       "                Run data is saved locally in <code>/home/bronzi/ProgProjekte/EIPH_WSI/MIDL2021/Registration/WandB/wandb/run-20210125_220801-pc5s1e3q</code><br/><br/>\n",
       "            "
      ],
      "text/plain": [
       "<IPython.core.display.HTML object>"
      ]
     },
     "metadata": {},
     "output_type": "display_data"
    },
    {
     "name": "stderr",
     "output_type": "stream",
     "text": [
      "  0%|          | 0/5 [00:00<?, ?it/s]\n",
      "  0%|          | 0/4 [00:00<?, ?it/s]\u001b[A\n",
      " 25%|██▌       | 1/4 [00:13<00:39, 13.01s/it]\u001b[A\n",
      " 50%|█████     | 2/4 [00:29<00:30, 15.24s/it]\u001b[A\n",
      " 75%|███████▌  | 3/4 [00:40<00:13, 13.16s/it]\u001b[A\n",
      "100%|██████████| 4/4 [01:01<00:00, 15.34s/it]\u001b[A\n",
      " 20%|██        | 1/5 [01:01<04:05, 61.37s/it]\n",
      "  0%|          | 0/4 [00:00<?, ?it/s]\u001b[A\n",
      " 25%|██▌       | 1/4 [00:05<00:15,  5.26s/it]\u001b[A\n",
      " 50%|█████     | 2/4 [00:08<00:07,  3.94s/it]\u001b[A\n",
      " 75%|███████▌  | 3/4 [00:11<00:03,  3.54s/it]\u001b[A\n",
      "100%|██████████| 4/4 [00:21<00:00,  5.25s/it]\u001b[A\n",
      " 40%|████      | 2/5 [01:22<01:52, 37.63s/it]\n",
      "  0%|          | 0/4 [00:00<?, ?it/s]\u001b[A\n",
      " 25%|██▌       | 1/4 [00:40<02:00, 40.16s/it]\u001b[A\n",
      " 50%|█████     | 2/4 [01:13<01:12, 36.15s/it]\u001b[A\n",
      " 75%|███████▌  | 3/4 [01:33<00:28, 28.90s/it]\u001b[A\n",
      "100%|██████████| 4/4 [02:05<00:00, 31.30s/it]\u001b[A\n",
      " 60%|██████    | 3/5 [03:27<02:35, 77.62s/it]\n",
      "  0%|          | 0/4 [00:00<?, ?it/s]\u001b[A\n",
      " 25%|██▌       | 1/4 [00:06<00:18,  6.17s/it]\u001b[A\n",
      " 50%|█████     | 2/4 [00:08<00:08,  4.11s/it]\u001b[A\n",
      " 75%|███████▌  | 3/4 [00:12<00:04,  4.05s/it]\u001b[A\n",
      "100%|██████████| 4/4 [00:20<00:00,  5.02s/it]\u001b[A\n",
      " 80%|████████  | 4/5 [03:47<00:54, 54.91s/it]\n",
      "  0%|          | 0/4 [00:00<?, ?it/s]\u001b[A\n",
      " 25%|██▌       | 1/4 [00:14<00:42, 14.04s/it]\u001b[A\n",
      " 50%|█████     | 2/4 [00:38<00:40, 20.01s/it]\u001b[A\n",
      " 75%|███████▌  | 3/4 [00:49<00:15, 15.86s/it]\u001b[A\n",
      "100%|██████████| 4/4 [01:05<00:00, 16.34s/it]\u001b[A\n",
      "100%|██████████| 5/5 [04:53<00:00, 58.61s/it]\n"
     ]
    },
    {
     "data": {
      "text/html": [
       "<br/>Waiting for W&B process to finish, PID 1166<br/>Program ended successfully."
      ],
      "text/plain": [
       "<IPython.core.display.HTML object>"
      ]
     },
     "metadata": {},
     "output_type": "display_data"
    },
    {
     "data": {
      "application/vnd.jupyter.widget-view+json": {
       "model_id": "",
       "version_major": 2,
       "version_minor": 0
      },
      "text/plain": [
       "VBox(children=(Label(value=' 0.00MB of 0.00MB uploaded (0.00MB deduped)\\r'), FloatProgress(value=1.0, max=1.0)…"
      ]
     },
     "metadata": {},
     "output_type": "display_data"
    },
    {
     "data": {
      "text/html": [
       "Find user logs for this run at: <code>/home/bronzi/ProgProjekte/EIPH_WSI/MIDL2021/Registration/WandB/wandb/run-20210125_220801-pc5s1e3q/logs/debug.log</code>"
      ],
      "text/plain": [
       "<IPython.core.display.HTML object>"
      ]
     },
     "metadata": {},
     "output_type": "display_data"
    },
    {
     "data": {
      "text/html": [
       "Find internal logs for this run at: <code>/home/bronzi/ProgProjekte/EIPH_WSI/MIDL2021/Registration/WandB/wandb/run-20210125_220801-pc5s1e3q/logs/debug-internal.log</code>"
      ],
      "text/plain": [
       "<IPython.core.display.HTML object>"
      ]
     },
     "metadata": {},
     "output_type": "display_data"
    },
    {
     "data": {
      "text/html": [
       "<h3>Run summary:</h3><br/><style>\n",
       "    table.wandb td:nth-child(1) { padding: 0 10px; text-align: right }\n",
       "    </style><table class=\"wandb\">\n",
       "<tr><td>dist_mean_image</td><td>25.77074</td></tr><tr><td>step</td><td>19</td></tr><tr><td>_step</td><td>20</td></tr><tr><td>_runtime</td><td>294</td></tr><tr><td>_timestamp</td><td>1611609175</td></tr><tr><td>dist_mean</td><td>10.41597</td></tr><tr><td>dist_min</td><td>0.0</td></tr><tr><td>dist_max</td><td>107.39027</td></tr><tr><td>q_mean</td><td>-1.0</td></tr><tr><td>q_min</td><td>-1</td></tr><tr><td>q_max</td><td>-1</td></tr><tr><td>sigma2_mean</td><td>-1.0</td></tr><tr><td>sigma2_min</td><td>-1</td></tr><tr><td>sigma2_max</td><td>-1</td></tr></table>"
      ],
      "text/plain": [
       "<IPython.core.display.HTML object>"
      ]
     },
     "metadata": {},
     "output_type": "display_data"
    },
    {
     "data": {
      "text/html": [
       "<h3>Run history:</h3><br/><style>\n",
       "    table.wandb td:nth-child(1) { padding: 0 10px; text-align: right }\n",
       "    </style><table class=\"wandb\">\n",
       "<tr><td>dist_mean_image</td><td>▂▁▃▂▂▁▃▃▂▁▂▂▄▁█▅▂▁▂▃</td></tr><tr><td>step</td><td>▁▁▂▂▂▃▃▄▄▄▅▅▅▆▆▇▇▇██</td></tr><tr><td>_step</td><td>▁▁▂▂▂▃▃▃▄▄▅▅▅▆▆▆▇▇▇██</td></tr><tr><td>_runtime</td><td>▁▁▂▂▂▂▂▃▄▅▅▆▆▆▆▆▇▇███</td></tr><tr><td>_timestamp</td><td>▁▁▂▂▂▂▂▃▄▅▅▆▆▆▆▆▇▇███</td></tr><tr><td>dist_mean</td><td>▁</td></tr><tr><td>dist_min</td><td>▁</td></tr><tr><td>dist_max</td><td>▁</td></tr><tr><td>q_mean</td><td>▁</td></tr><tr><td>q_min</td><td>▁</td></tr><tr><td>q_max</td><td>▁</td></tr><tr><td>sigma2_mean</td><td>▁</td></tr><tr><td>sigma2_min</td><td>▁</td></tr><tr><td>sigma2_max</td><td>▁</td></tr></table><br/>"
      ],
      "text/plain": [
       "<IPython.core.display.HTML object>"
      ]
     },
     "metadata": {},
     "output_type": "display_data"
    },
    {
     "data": {
      "text/html": [
       "Synced 5 W&B file(s), 0 media file(s), 0 artifact file(s) and 0 other file(s)"
      ],
      "text/plain": [
       "<IPython.core.display.HTML object>"
      ]
     },
     "metadata": {},
     "output_type": "display_data"
    },
    {
     "data": {
      "text/html": [
       "\n",
       "                    <br/>Synced <strong style=\"color:#cdcd00\">toasty-sweep-4</strong>: <a href=\"https://wandb.ai/christianml/quadtree/runs/pc5s1e3q\" target=\"_blank\">https://wandb.ai/christianml/quadtree/runs/pc5s1e3q</a><br/>\n",
       "                "
      ],
      "text/plain": [
       "<IPython.core.display.HTML object>"
      ]
     },
     "metadata": {},
     "output_type": "display_data"
    },
    {
     "name": "stderr",
     "output_type": "stream",
     "text": [
      "\u001b[34m\u001b[1mwandb\u001b[0m: Agent Starting Run: qle39i2o with config:\n",
      "\u001b[34m\u001b[1mwandb\u001b[0m: \tcrossCheck: False\n",
      "\u001b[34m\u001b[1mwandb\u001b[0m: \tfilter_outliner: False\n",
      "\u001b[34m\u001b[1mwandb\u001b[0m: \tflann: False\n",
      "\u001b[34m\u001b[1mwandb\u001b[0m: \thomography: True\n",
      "\u001b[34m\u001b[1mwandb\u001b[0m: \timage_type: Cyto\n",
      "\u001b[34m\u001b[1mwandb\u001b[0m: \tmaxFeatures: 512\n",
      "\u001b[34m\u001b[1mwandb\u001b[0m: \tpoint_extractor: sift\n",
      "\u001b[34m\u001b[1mwandb\u001b[0m: \tratio: 0.4\n",
      "\u001b[34m\u001b[1mwandb\u001b[0m: \tsource_scanner: Aperio\n",
      "\u001b[34m\u001b[1mwandb\u001b[0m: \ttarget_depth: 0\n",
      "\u001b[34m\u001b[1mwandb\u001b[0m: \tthumbnail_size: [2048, 2048]\n",
      "\u001b[34m\u001b[1mwandb\u001b[0m: \tuse_gray: False\n"
     ]
    },
    {
     "data": {
      "text/html": [
       "\n",
       "                Tracking run with wandb version 0.10.15<br/>\n",
       "                Syncing run <strong style=\"color:#cdcd00\">rural-sweep-5</strong> to <a href=\"https://wandb.ai\" target=\"_blank\">Weights & Biases</a> <a href=\"https://docs.wandb.com/integrations/jupyter.html\" target=\"_blank\">(Documentation)</a>.<br/>\n",
       "                Project page: <a href=\"https://wandb.ai/christianml/quadtree\" target=\"_blank\">https://wandb.ai/christianml/quadtree</a><br/>\n",
       "                Sweep page: <a href=\"https://wandb.ai/christianml/quadtree/sweeps/jbgxjz4o\" target=\"_blank\">https://wandb.ai/christianml/quadtree/sweeps/jbgxjz4o</a><br/>\n",
       "Run page: <a href=\"https://wandb.ai/christianml/quadtree/runs/qle39i2o\" target=\"_blank\">https://wandb.ai/christianml/quadtree/runs/qle39i2o</a><br/>\n",
       "                Run data is saved locally in <code>/home/bronzi/ProgProjekte/EIPH_WSI/MIDL2021/Registration/WandB/wandb/run-20210125_221258-qle39i2o</code><br/><br/>\n",
       "            "
      ],
      "text/plain": [
       "<IPython.core.display.HTML object>"
      ]
     },
     "metadata": {},
     "output_type": "display_data"
    },
    {
     "name": "stderr",
     "output_type": "stream",
     "text": [
      "  0%|          | 0/5 [00:00<?, ?it/s]\n",
      "  0%|          | 0/4 [00:00<?, ?it/s]\u001b[A\n",
      " 25%|██▌       | 1/4 [00:12<00:36, 12.02s/it]\u001b[A\n",
      " 50%|█████     | 2/4 [00:32<00:33, 16.96s/it]\u001b[A\n",
      " 75%|███████▌  | 3/4 [00:46<00:15, 15.46s/it]\u001b[A\n",
      "100%|██████████| 4/4 [01:07<00:00, 16.85s/it]\u001b[A\n",
      " 20%|██        | 1/5 [01:07<04:29, 67.39s/it]\n",
      "  0%|          | 0/4 [00:00<?, ?it/s]\u001b[A\n",
      " 25%|██▌       | 1/4 [00:06<00:19,  6.48s/it]\u001b[A\n",
      " 50%|█████     | 2/4 [00:09<00:08,  4.42s/it]\u001b[A\n",
      " 75%|███████▌  | 3/4 [00:12<00:04,  4.01s/it]\u001b[A\n",
      "100%|██████████| 4/4 [00:22<00:00,  5.73s/it]\u001b[A\n",
      " 40%|████      | 2/5 [01:30<02:03, 41.24s/it]\n",
      "  0%|          | 0/4 [00:00<?, ?it/s]\u001b[A\n",
      " 25%|██▌       | 1/4 [00:49<02:28, 49.62s/it]\u001b[A\n",
      " 50%|█████     | 2/4 [01:15<01:11, 35.94s/it]\u001b[A\n",
      " 75%|███████▌  | 3/4 [01:30<00:25, 25.95s/it]\u001b[A\n",
      "100%|██████████| 4/4 [01:48<00:00, 27.19s/it]\u001b[A\n",
      " 60%|██████    | 3/5 [03:19<02:24, 72.08s/it]\n",
      "  0%|          | 0/4 [00:00<?, ?it/s]\u001b[A\n",
      " 25%|██▌       | 1/4 [00:05<00:17,  5.95s/it]\u001b[A\n",
      " 50%|█████     | 2/4 [00:09<00:08,  4.36s/it]\u001b[A\n",
      " 75%|███████▌  | 3/4 [00:13<00:04,  4.14s/it]\u001b[A\n",
      "100%|██████████| 4/4 [00:20<00:00,  5.06s/it]\u001b[A\n",
      " 80%|████████  | 4/5 [03:39<00:51, 51.62s/it]\n",
      "  0%|          | 0/4 [00:00<?, ?it/s]\u001b[A\n",
      " 25%|██▌       | 1/4 [00:16<00:48, 16.27s/it]\u001b[A\n",
      " 50%|█████     | 2/4 [00:39<00:40, 20.26s/it]\u001b[A\n",
      " 75%|███████▌  | 3/4 [00:52<00:17, 17.16s/it]\u001b[A\n",
      "100%|██████████| 4/4 [01:11<00:00, 17.82s/it]\u001b[A\n",
      "100%|██████████| 5/5 [04:50<00:00, 58.13s/it]\n"
     ]
    },
    {
     "data": {
      "text/html": [
       "<br/>Waiting for W&B process to finish, PID 1272<br/>Program ended successfully."
      ],
      "text/plain": [
       "<IPython.core.display.HTML object>"
      ]
     },
     "metadata": {},
     "output_type": "display_data"
    },
    {
     "data": {
      "application/vnd.jupyter.widget-view+json": {
       "model_id": "",
       "version_major": 2,
       "version_minor": 0
      },
      "text/plain": [
       "VBox(children=(Label(value=' 0.00MB of 0.00MB uploaded (0.00MB deduped)\\r'), FloatProgress(value=1.0, max=1.0)…"
      ]
     },
     "metadata": {},
     "output_type": "display_data"
    },
    {
     "data": {
      "text/html": [
       "Find user logs for this run at: <code>/home/bronzi/ProgProjekte/EIPH_WSI/MIDL2021/Registration/WandB/wandb/run-20210125_221258-qle39i2o/logs/debug.log</code>"
      ],
      "text/plain": [
       "<IPython.core.display.HTML object>"
      ]
     },
     "metadata": {},
     "output_type": "display_data"
    },
    {
     "data": {
      "text/html": [
       "Find internal logs for this run at: <code>/home/bronzi/ProgProjekte/EIPH_WSI/MIDL2021/Registration/WandB/wandb/run-20210125_221258-qle39i2o/logs/debug-internal.log</code>"
      ],
      "text/plain": [
       "<IPython.core.display.HTML object>"
      ]
     },
     "metadata": {},
     "output_type": "display_data"
    },
    {
     "data": {
      "text/html": [
       "<h3>Run summary:</h3><br/><style>\n",
       "    table.wandb td:nth-child(1) { padding: 0 10px; text-align: right }\n",
       "    </style><table class=\"wandb\">\n",
       "<tr><td>dist_mean_image</td><td>64.39469</td></tr><tr><td>step</td><td>19</td></tr><tr><td>_step</td><td>20</td></tr><tr><td>_runtime</td><td>291</td></tr><tr><td>_timestamp</td><td>1611609470</td></tr><tr><td>dist_mean</td><td>10.62725</td></tr><tr><td>dist_min</td><td>0.0</td></tr><tr><td>dist_max</td><td>75.69334</td></tr><tr><td>q_mean</td><td>-1.0</td></tr><tr><td>q_min</td><td>-1</td></tr><tr><td>q_max</td><td>-1</td></tr><tr><td>sigma2_mean</td><td>-1.0</td></tr><tr><td>sigma2_min</td><td>-1</td></tr><tr><td>sigma2_max</td><td>-1</td></tr></table>"
      ],
      "text/plain": [
       "<IPython.core.display.HTML object>"
      ]
     },
     "metadata": {},
     "output_type": "display_data"
    },
    {
     "data": {
      "text/html": [
       "<h3>Run history:</h3><br/><style>\n",
       "    table.wandb td:nth-child(1) { padding: 0 10px; text-align: right }\n",
       "    </style><table class=\"wandb\">\n",
       "<tr><td>dist_mean_image</td><td>▂▁▃▄▃▁▆▃▁▁▂▄▄▁█▆▅▁▂▇</td></tr><tr><td>step</td><td>▁▁▂▂▂▃▃▄▄▄▅▅▅▆▆▇▇▇██</td></tr><tr><td>_step</td><td>▁▁▂▂▂▃▃▃▄▄▅▅▅▆▆▆▇▇▇██</td></tr><tr><td>_runtime</td><td>▁▂▂▂▃▃▃▃▄▅▅▆▆▆▆▆▇▇███</td></tr><tr><td>_timestamp</td><td>▁▂▂▂▃▃▃▃▄▅▅▆▆▆▆▆▇▇███</td></tr><tr><td>dist_mean</td><td>▁</td></tr><tr><td>dist_min</td><td>▁</td></tr><tr><td>dist_max</td><td>▁</td></tr><tr><td>q_mean</td><td>▁</td></tr><tr><td>q_min</td><td>▁</td></tr><tr><td>q_max</td><td>▁</td></tr><tr><td>sigma2_mean</td><td>▁</td></tr><tr><td>sigma2_min</td><td>▁</td></tr><tr><td>sigma2_max</td><td>▁</td></tr></table><br/>"
      ],
      "text/plain": [
       "<IPython.core.display.HTML object>"
      ]
     },
     "metadata": {},
     "output_type": "display_data"
    },
    {
     "data": {
      "text/html": [
       "Synced 5 W&B file(s), 0 media file(s), 0 artifact file(s) and 0 other file(s)"
      ],
      "text/plain": [
       "<IPython.core.display.HTML object>"
      ]
     },
     "metadata": {},
     "output_type": "display_data"
    },
    {
     "data": {
      "text/html": [
       "\n",
       "                    <br/>Synced <strong style=\"color:#cdcd00\">rural-sweep-5</strong>: <a href=\"https://wandb.ai/christianml/quadtree/runs/qle39i2o\" target=\"_blank\">https://wandb.ai/christianml/quadtree/runs/qle39i2o</a><br/>\n",
       "                "
      ],
      "text/plain": [
       "<IPython.core.display.HTML object>"
      ]
     },
     "metadata": {},
     "output_type": "display_data"
    },
    {
     "name": "stderr",
     "output_type": "stream",
     "text": [
      "\u001b[34m\u001b[1mwandb\u001b[0m: Agent Starting Run: 9jg3783n with config:\n",
      "\u001b[34m\u001b[1mwandb\u001b[0m: \tcrossCheck: False\n",
      "\u001b[34m\u001b[1mwandb\u001b[0m: \tfilter_outliner: False\n",
      "\u001b[34m\u001b[1mwandb\u001b[0m: \tflann: False\n",
      "\u001b[34m\u001b[1mwandb\u001b[0m: \thomography: True\n",
      "\u001b[34m\u001b[1mwandb\u001b[0m: \timage_type: Cyto\n",
      "\u001b[34m\u001b[1mwandb\u001b[0m: \tmaxFeatures: 2048\n",
      "\u001b[34m\u001b[1mwandb\u001b[0m: \tpoint_extractor: sift\n",
      "\u001b[34m\u001b[1mwandb\u001b[0m: \tratio: 0.3\n",
      "\u001b[34m\u001b[1mwandb\u001b[0m: \tsource_scanner: Aperio\n",
      "\u001b[34m\u001b[1mwandb\u001b[0m: \ttarget_depth: 0\n",
      "\u001b[34m\u001b[1mwandb\u001b[0m: \tthumbnail_size: [1024, 1024]\n",
      "\u001b[34m\u001b[1mwandb\u001b[0m: \tuse_gray: False\n"
     ]
    },
    {
     "data": {
      "text/html": [
       "\n",
       "                Tracking run with wandb version 0.10.15<br/>\n",
       "                Syncing run <strong style=\"color:#cdcd00\">amber-sweep-6</strong> to <a href=\"https://wandb.ai\" target=\"_blank\">Weights & Biases</a> <a href=\"https://docs.wandb.com/integrations/jupyter.html\" target=\"_blank\">(Documentation)</a>.<br/>\n",
       "                Project page: <a href=\"https://wandb.ai/christianml/quadtree\" target=\"_blank\">https://wandb.ai/christianml/quadtree</a><br/>\n",
       "                Sweep page: <a href=\"https://wandb.ai/christianml/quadtree/sweeps/jbgxjz4o\" target=\"_blank\">https://wandb.ai/christianml/quadtree/sweeps/jbgxjz4o</a><br/>\n",
       "Run page: <a href=\"https://wandb.ai/christianml/quadtree/runs/9jg3783n\" target=\"_blank\">https://wandb.ai/christianml/quadtree/runs/9jg3783n</a><br/>\n",
       "                Run data is saved locally in <code>/home/bronzi/ProgProjekte/EIPH_WSI/MIDL2021/Registration/WandB/wandb/run-20210125_221754-9jg3783n</code><br/><br/>\n",
       "            "
      ],
      "text/plain": [
       "<IPython.core.display.HTML object>"
      ]
     },
     "metadata": {},
     "output_type": "display_data"
    },
    {
     "name": "stderr",
     "output_type": "stream",
     "text": [
      "  0%|          | 0/5 [00:00<?, ?it/s]\n",
      "  0%|          | 0/4 [00:00<?, ?it/s]\u001b[A\n",
      " 25%|██▌       | 1/4 [00:04<00:14,  4.78s/it]\u001b[A"
     ]
    }
   ],
   "source": [
    "wandb.agent(sweep_id, train)"
   ]
  },
  {
   "cell_type": "code",
   "execution_count": null,
   "metadata": {},
   "outputs": [],
   "source": []
  }
 ],
 "metadata": {
  "kernelspec": {
   "display_name": "Python 3",
   "language": "python",
   "name": "python3"
  },
  "language_info": {
   "codemirror_mode": {
    "name": "ipython",
    "version": 3
   },
   "file_extension": ".py",
   "mimetype": "text/x-python",
   "name": "python",
   "nbconvert_exporter": "python",
   "pygments_lexer": "ipython3",
   "version": "3.8.5"
  }
 },
 "nbformat": 4,
 "nbformat_minor": 4
}
