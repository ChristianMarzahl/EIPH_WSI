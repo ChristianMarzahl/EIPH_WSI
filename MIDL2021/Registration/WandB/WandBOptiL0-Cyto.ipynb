{
 "cells": [
  {
   "cell_type": "code",
   "execution_count": 1,
   "metadata": {},
   "outputs": [],
   "source": [
    "%reload_ext autoreload\n",
    "%autoreload 2\n",
    "%matplotlib inline"
   ]
  },
  {
   "cell_type": "code",
   "execution_count": 2,
   "metadata": {},
   "outputs": [],
   "source": [
    "import numpy as np\n",
    "import openslide\n",
    "from probreg import cpd\n",
    "from probreg import transformation as tf\n",
    "import cv2\n",
    "from PIL import Image\n",
    "from pathlib import Path\n",
    "import pandas as pd\n",
    "from tqdm import tqdm\n",
    "import json\n",
    "import wandb\n",
    "import platform"
   ]
  },
  {
   "cell_type": "code",
   "execution_count": 3,
   "metadata": {},
   "outputs": [],
   "source": [
    "import sys\n",
    "sys.path.append(\"..\")\n",
    "from registration_tree import Rect, QuadTree"
   ]
  },
  {
   "cell_type": "code",
   "execution_count": 4,
   "metadata": {},
   "outputs": [],
   "source": [
    "sweep_config = {\n",
    "    'method': 'random', #'bayes' # 'random'\n",
    "}\n",
    "\n",
    "metric = {\n",
    "    'name': 'dist_mean',\n",
    "    'goal': 'minimise'   \n",
    "    }\n",
    "\n",
    "\n",
    "sweep_config['metric'] = metric"
   ]
  },
  {
   "cell_type": "code",
   "execution_count": 5,
   "metadata": {},
   "outputs": [],
   "source": [
    "parameters_dict = {\n",
    "    'point_extractor': {\n",
    "        'values': [\"sift\"] #'orb', \n",
    "        },\n",
    "    'maxFeatures': {\n",
    "        #'values': [64, 128, 256, 512, 768, 1024, 2048]\n",
    "        'values': [64, 128, 256, 512, 768, 1024, 2048]\n",
    "        },\n",
    "    'crossCheck': {\n",
    "        'values': [False]\n",
    "        },\n",
    "    'flann': {\n",
    "        'values': [False, True]\n",
    "        },\n",
    "    'ratio': {\n",
    "        #'values': [.1, .2, .3, .4, .5, .6, .7, .8, .9]\n",
    "        'values': [.3, .4, .5, .6, .7, .8, .9]\n",
    "        },\n",
    "    'use_gray': {\n",
    "        'values': [True, False]\n",
    "        },\n",
    "    'homography': {\n",
    "        'values': [True, False]\n",
    "        },\n",
    "    'filter_outliner': {\n",
    "        'values': [False]\n",
    "        },\n",
    "    'target_depth': {\n",
    "        'values': [0]\n",
    "        },\n",
    "    'thumbnail_size': {\n",
    "        #'values': [(1024, 1024), (2048, 2048), (4096, 4096)]\n",
    "        'values': [(1024, 1024), (2048, 2048), (4096, 4096)] #, (8192, 8192)\n",
    "        },    \n",
    "    \n",
    "    'image_type': {\n",
    "        'values': [\"Cyto\"] #, \"Cyto\"\n",
    "        },\n",
    "    \n",
    "    'source_scanner': {\n",
    "        'values': [\"Aperio\"]\n",
    "        },\n",
    "}\n",
    "sweep_config['parameters'] = parameters_dict"
   ]
  },
  {
   "cell_type": "code",
   "execution_count": 6,
   "metadata": {},
   "outputs": [
    {
     "name": "stdout",
     "output_type": "stream",
     "text": [
      "Create sweep with ID: e22y6790\n",
      "Sweep URL: https://wandb.ai/christianml/quadtree/sweeps/e22y6790\n"
     ]
    },
    {
     "data": {
      "text/plain": [
       "'e22y6790'"
      ]
     },
     "execution_count": 6,
     "metadata": {},
     "output_type": "execute_result"
    }
   ],
   "source": [
    "sweep_id = wandb.sweep(sweep_config, project=\"quadtree\")\n",
    "sweep_id"
   ]
  },
  {
   "cell_type": "code",
   "execution_count": 7,
   "metadata": {},
   "outputs": [],
   "source": [
    "def add_help_fields(frame):\n",
    "    \n",
    "    frame[\"image_name_stem\"] = [Path(image_name).stem for image_name in frame[\"image_name\"]]    \n",
    "    frame[\"patient_id\"] = [name.split(\"_\")[2] for name in frame[\"image_name\"]]\n",
    "\n",
    "    frame[\"x1\"] = [json.loads(vector.replace(\"\\'\",\"\\\"\"))['x1'] for vector in frame[\"vector\"]]\n",
    "    frame[\"y1\"] = [json.loads(vector.replace(\"\\'\",\"\\\"\"))['y1'] for vector in frame[\"vector\"]]\n",
    "\n",
    "    frame[\"x2\"] = [json.loads(vector.replace(\"\\'\",\"\\\"\"))['x2'] for vector in frame[\"vector\"]]\n",
    "    frame[\"y2\"] = [json.loads(vector.replace(\"\\'\",\"\\\"\"))['y2'] for vector in frame[\"vector\"]]\n",
    "\n",
    "    frame[\"center_x\"] = [x1 + ((x2-x1) / 2) for x1, x2 in zip(frame[\"x1\"], frame[\"x2\"])]\n",
    "    frame[\"center_y\"] = [y1 + ((y2-y1) / 2) for y1, y2 in zip(frame[\"y1\"], frame[\"y2\"])]\n",
    "    \n",
    "    frame[\"center\"] = [np.array((center_x, center_y)) for center_x, center_y in zip(frame[\"center_x\"], frame[\"center_y\"])]\n",
    "\n",
    "    frame[\"anno_width\"] = [x2-x1 for x1, x2 in zip(frame[\"x1\"], frame[\"x2\"])]\n",
    "    frame[\"anno_height\"]= [y2-y1 for y1, y2 in zip(frame[\"y1\"], frame[\"y2\"])]\n",
    "    \n",
    "    return frame"
   ]
  },
  {
   "cell_type": "code",
   "execution_count": 8,
   "metadata": {},
   "outputs": [],
   "source": [
    "folder = Path(\"..\")\n",
    "\n",
    "slide_folder = Path(\"D:/Datasets/ScannerStudy\")\n",
    "if slide_folder.exists() == False:\n",
    "    slide_folder = Path(\"/data/ScannerStudy\")\n",
    "if slide_folder.exists() == False:\n",
    "    slide_folder = Path(\"/mnt/d/Datasets/ScannerStudy\")\n",
    "if slide_folder.exists() == False:\n",
    "    slide_folder = Path(\"/data/ScannerStudy\")\n",
    "    \n",
    "slide_files = {path.name: path for path in slide_folder.glob(\"*/*/*.*\")}"
   ]
  },
  {
   "cell_type": "code",
   "execution_count": 9,
   "metadata": {},
   "outputs": [],
   "source": [
    "def train(config=None):\n",
    "    \n",
    "    # Initialize a new wandb run\n",
    "    with wandb.init(config=config):\n",
    "        # If called by wandb.agent, as below,\n",
    "        # this config will be set by Sweep Controller\n",
    "        config = wandb.config\n",
    "        \n",
    "        annotations = add_help_fields(pd.read_csv(folder / \"Validation/GT.csv\"))\n",
    "        annotations = annotations[annotations[\"image_type\"] == config.image_type]\n",
    "        \n",
    "        source_scanner_annotations = annotations[annotations[\"scanner\"] == config.source_scanner]\n",
    "    \n",
    "        dist_list, mean_reg_error_list = [], []\n",
    "                        \n",
    "        step = 0\n",
    "        for patient_id in tqdm(source_scanner_annotations[\"patient_id\"].unique()):\n",
    "\n",
    "            source_annos = source_scanner_annotations[source_scanner_annotations[\"patient_id\"] == patient_id]\n",
    "            source_anno = source_annos.iloc[0]\n",
    "\n",
    "            target_patient_annotations = annotations[annotations[\"patient_id\"] == patient_id]\n",
    "\n",
    "            for target_image_name in tqdm(target_patient_annotations[\"image_name\"].unique()):\n",
    "                image_dist_list = []\n",
    "\n",
    "                target_annos = target_patient_annotations[target_patient_annotations[\"image_name\"] == target_image_name]\n",
    "                target_anno = target_annos.iloc[0]\n",
    "                \n",
    "                if source_anno.scanner == target_anno.scanner:\n",
    "                    continue\n",
    "\n",
    "                source_slide = openslide.OpenSlide(str(slide_files[source_anno.image_name]))\n",
    "                target_slide = openslide.OpenSlide(str(slide_files[target_anno.image_name]))\n",
    "\n",
    "                source_dimension = Rect.create(Rect, 0, 0, source_slide.dimensions[0], source_slide.dimensions[1])\n",
    "                target_dimension = Rect.create(Rect, 0, 0, target_slide.dimensions[0], target_slide.dimensions[1])\n",
    "\n",
    "\n",
    "                qtree = QuadTree(source_dimension, source_slide, target_dimension, target_slide, debug=False, **config)\n",
    "                                  \n",
    "                mean_reg_error_list.append(qtree.mean_reg_error)\n",
    "                \n",
    "                intersections = list(set(source_annos[\"type_name\"]).intersection(target_annos[\"type_name\"]))\n",
    "                \n",
    "                for type_name in intersections:\n",
    "\n",
    "                    source_anno = source_annos[source_annos[\"type_name\"] == type_name].iloc[0]\n",
    "                    target_anno = target_annos[target_annos[\"type_name\"] == type_name].iloc[0]\n",
    "\n",
    "                    box = [source_anno.center_x, source_anno.center_y, source_anno.anno_width, source_anno.anno_height]\n",
    "                    target_box = [target_anno.center_x, target_anno.center_y, target_anno.anno_width, target_anno.anno_height]\n",
    "\n",
    "                    trans_box = qtree.transform_boxes(np.array([box]))[0]\n",
    "\n",
    "                    distance = np.linalg.norm(target_box[:2]-trans_box[:2])\n",
    "\n",
    "                    dist_list.append(distance)\n",
    "                    image_dist_list.append(distance)\n",
    "                    \n",
    "                image_dist_list = np.array(image_dist_list)\n",
    "                wandb.log({\n",
    "                    \"dist_mean_image\": image_dist_list.mean(),\n",
    "                    \"dist_mean_image\": image_dist_list.min(),\n",
    "                    \"dist_mean_image\": image_dist_list.max(),\n",
    "                    \"mean_reg_error_image\": qtree.mean_reg_error,\n",
    "                    \"step\": step,\n",
    "                })\n",
    "                \n",
    "                step += 1\n",
    "        \n",
    "        dist_list, mean_reg_error_list = np.array(dist_list), np.array(mean_reg_error_list),\n",
    "        \n",
    "        wandb.log({\n",
    "            \"dist_mean\": dist_list.mean(),\n",
    "            \"dist_min\": dist_list.min(),\n",
    "            \"dist_max\": dist_list.max(),\n",
    "            \n",
    "            \"mean_reg_error\": mean_reg_error_list.mean(),\n",
    "        })"
   ]
  },
  {
   "cell_type": "code",
   "execution_count": 10,
   "metadata": {},
   "outputs": [
    {
     "data": {
      "text/plain": [
       "'e22y6790'"
      ]
     },
     "execution_count": 10,
     "metadata": {},
     "output_type": "execute_result"
    }
   ],
   "source": [
    "sweep_id"
   ]
  },
  {
   "cell_type": "code",
   "execution_count": 11,
   "metadata": {
    "scrolled": false
   },
   "outputs": [
    {
     "name": "stderr",
     "output_type": "stream",
     "text": [
      "INFO - 2021-01-26 18:05:38,074 - pyagent - Starting sweep agent: entity=None, project=None, count=None\n",
      "\u001b[34m\u001b[1mwandb\u001b[0m: Agent Starting Run: nmo28b39 with config:\n",
      "\u001b[34m\u001b[1mwandb\u001b[0m: \tcrossCheck: False\n",
      "\u001b[34m\u001b[1mwandb\u001b[0m: \tfilter_outliner: False\n",
      "\u001b[34m\u001b[1mwandb\u001b[0m: \tflann: False\n",
      "\u001b[34m\u001b[1mwandb\u001b[0m: \thomography: False\n",
      "\u001b[34m\u001b[1mwandb\u001b[0m: \timage_type: Cyto\n",
      "\u001b[34m\u001b[1mwandb\u001b[0m: \tmaxFeatures: 64\n",
      "\u001b[34m\u001b[1mwandb\u001b[0m: \tpoint_extractor: sift\n",
      "\u001b[34m\u001b[1mwandb\u001b[0m: \tratio: 0.4\n",
      "\u001b[34m\u001b[1mwandb\u001b[0m: \tsource_scanner: Aperio\n",
      "\u001b[34m\u001b[1mwandb\u001b[0m: \ttarget_depth: 0\n",
      "\u001b[34m\u001b[1mwandb\u001b[0m: \tthumbnail_size: [4096, 4096]\n",
      "\u001b[34m\u001b[1mwandb\u001b[0m: \tuse_gray: False\n",
      "\u001b[34m\u001b[1mwandb\u001b[0m: Currently logged in as: \u001b[33mchristianml\u001b[0m (use `wandb login --relogin` to force relogin)\n"
     ]
    },
    {
     "data": {
      "text/html": [
       "\n",
       "                Tracking run with wandb version 0.10.15<br/>\n",
       "                Syncing run <strong style=\"color:#cdcd00\">comfy-sweep-1</strong> to <a href=\"https://wandb.ai\" target=\"_blank\">Weights & Biases</a> <a href=\"https://docs.wandb.com/integrations/jupyter.html\" target=\"_blank\">(Documentation)</a>.<br/>\n",
       "                Project page: <a href=\"https://wandb.ai/christianml/quadtree\" target=\"_blank\">https://wandb.ai/christianml/quadtree</a><br/>\n",
       "                Sweep page: <a href=\"https://wandb.ai/christianml/quadtree/sweeps/e22y6790\" target=\"_blank\">https://wandb.ai/christianml/quadtree/sweeps/e22y6790</a><br/>\n",
       "Run page: <a href=\"https://wandb.ai/christianml/quadtree/runs/nmo28b39\" target=\"_blank\">https://wandb.ai/christianml/quadtree/runs/nmo28b39</a><br/>\n",
       "                Run data is saved locally in <code>/home/bronzi/ProgProjekte/EIPH_WSI/MIDL2021/Registration/WandB/wandb/run-20210126_180538-nmo28b39</code><br/><br/>\n",
       "            "
      ],
      "text/plain": [
       "<IPython.core.display.HTML object>"
      ]
     },
     "metadata": {},
     "output_type": "display_data"
    },
    {
     "name": "stderr",
     "output_type": "stream",
     "text": [
      "  0%|          | 0/5 [00:00<?, ?it/s]\n",
      "  0%|          | 0/4 [00:00<?, ?it/s]\u001b[A\n",
      " 25%|██▌       | 1/4 [02:07<06:23, 127.76s/it]\u001b[A\n",
      " 50%|█████     | 2/4 [02:07<01:45, 52.75s/it] \u001b[A\n",
      " 75%|███████▌  | 3/4 [02:46<00:46, 46.13s/it]\u001b[A\n",
      "100%|██████████| 4/4 [03:07<00:00, 46.94s/it]\u001b[A\n",
      " 20%|██        | 1/5 [03:07<12:31, 187.77s/it]\n",
      "  0%|          | 0/4 [00:00<?, ?it/s]\u001b[A\n",
      " 25%|██▌       | 1/4 [01:22<04:08, 82.68s/it]\u001b[A\n",
      " 75%|███████▌  | 3/4 [01:41<00:28, 28.47s/it]\u001b[A\n",
      "100%|██████████| 4/4 [01:55<00:00, 28.89s/it]\u001b[A\n",
      " 40%|████      | 2/5 [05:03<07:15, 145.32s/it]\n",
      "  0%|          | 0/4 [00:00<?, ?it/s]\u001b[A\n",
      " 25%|██▌       | 1/4 [07:01<21:04, 421.61s/it]\u001b[A\n",
      " 75%|███████▌  | 3/4 [08:05<02:13, 133.12s/it]\u001b[A\n",
      "100%|██████████| 4/4 [08:21<00:00, 125.49s/it]\u001b[A\n",
      " 60%|██████    | 3/5 [13:25<10:16, 308.18s/it]\n",
      "  0%|          | 0/4 [00:00<?, ?it/s]\u001b[A\n",
      " 25%|██▌       | 1/4 [00:18<00:54, 18.22s/it]\u001b[A\n",
      " 75%|███████▌  | 3/4 [00:34<00:10, 10.74s/it]\u001b[A\n",
      "100%|██████████| 4/4 [00:48<00:00, 12.17s/it]\u001b[A\n",
      " 80%|████████  | 4/5 [14:14<03:25, 205.73s/it]\n",
      "  0%|          | 0/4 [00:00<?, ?it/s]\u001b[A\n",
      " 25%|██▌       | 1/4 [02:00<06:01, 120.56s/it]\u001b[A\n",
      " 75%|███████▌  | 3/4 [02:24<00:40, 40.27s/it] \u001b[A\n",
      "100%|██████████| 4/4 [02:40<00:00, 40.07s/it]\u001b[A\n",
      "100%|██████████| 5/5 [16:54<00:00, 202.86s/it]\n"
     ]
    },
    {
     "data": {
      "text/html": [
       "<br/>Waiting for W&B process to finish, PID 29126<br/>Program ended successfully."
      ],
      "text/plain": [
       "<IPython.core.display.HTML object>"
      ]
     },
     "metadata": {},
     "output_type": "display_data"
    },
    {
     "data": {
      "application/vnd.jupyter.widget-view+json": {
       "model_id": "",
       "version_major": 2,
       "version_minor": 0
      },
      "text/plain": [
       "VBox(children=(Label(value=' 0.00MB of 0.00MB uploaded (0.00MB deduped)\\r'), FloatProgress(value=1.0, max=1.0)…"
      ]
     },
     "metadata": {},
     "output_type": "display_data"
    },
    {
     "data": {
      "text/html": [
       "Find user logs for this run at: <code>/home/bronzi/ProgProjekte/EIPH_WSI/MIDL2021/Registration/WandB/wandb/run-20210126_180538-nmo28b39/logs/debug.log</code>"
      ],
      "text/plain": [
       "<IPython.core.display.HTML object>"
      ]
     },
     "metadata": {},
     "output_type": "display_data"
    },
    {
     "data": {
      "text/html": [
       "Find internal logs for this run at: <code>/home/bronzi/ProgProjekte/EIPH_WSI/MIDL2021/Registration/WandB/wandb/run-20210126_180538-nmo28b39/logs/debug-internal.log</code>"
      ],
      "text/plain": [
       "<IPython.core.display.HTML object>"
      ]
     },
     "metadata": {},
     "output_type": "display_data"
    },
    {
     "data": {
      "text/html": [
       "<h3>Run summary:</h3><br/><style>\n",
       "    table.wandb td:nth-child(1) { padding: 0 10px; text-align: right }\n",
       "    </style><table class=\"wandb\">\n",
       "<tr><td>dist_mean_image</td><td>11.30399</td></tr><tr><td>mean_reg_error_image</td><td>3.9866</td></tr><tr><td>step</td><td>14</td></tr><tr><td>_step</td><td>15</td></tr><tr><td>_runtime</td><td>1015</td></tr><tr><td>_timestamp</td><td>1611681753</td></tr><tr><td>dist_mean</td><td>7.99905</td></tr><tr><td>dist_min</td><td>0.20771</td></tr><tr><td>dist_max</td><td>62.26235</td></tr><tr><td>mean_reg_error</td><td>73.31564</td></tr></table>"
      ],
      "text/plain": [
       "<IPython.core.display.HTML object>"
      ]
     },
     "metadata": {},
     "output_type": "display_data"
    },
    {
     "data": {
      "text/html": [
       "<h3>Run history:</h3><br/><style>\n",
       "    table.wandb td:nth-child(1) { padding: 0 10px; text-align: right }\n",
       "    </style><table class=\"wandb\">\n",
       "<tr><td>dist_mean_image</td><td>▂▂▂▂▅▃▁▂▂▄█▅▂▁▂</td></tr><tr><td>mean_reg_error_image</td><td>▅▃▁▂▁▁▅▃▁▃▁▁█▁▁</td></tr><tr><td>step</td><td>▁▁▂▃▃▃▄▅▅▅▆▇▇▇█</td></tr><tr><td>_step</td><td>▁▁▂▂▃▃▄▄▅▅▆▆▇▇██</td></tr><tr><td>_runtime</td><td>▁▁▁▂▂▂▆▆▆▆▇▇████</td></tr><tr><td>_timestamp</td><td>▁▁▁▂▂▂▆▆▆▆▇▇████</td></tr><tr><td>dist_mean</td><td>▁</td></tr><tr><td>dist_min</td><td>▁</td></tr><tr><td>dist_max</td><td>▁</td></tr><tr><td>mean_reg_error</td><td>▁</td></tr></table><br/>"
      ],
      "text/plain": [
       "<IPython.core.display.HTML object>"
      ]
     },
     "metadata": {},
     "output_type": "display_data"
    },
    {
     "data": {
      "text/html": [
       "Synced 5 W&B file(s), 0 media file(s), 0 artifact file(s) and 0 other file(s)"
      ],
      "text/plain": [
       "<IPython.core.display.HTML object>"
      ]
     },
     "metadata": {},
     "output_type": "display_data"
    },
    {
     "data": {
      "text/html": [
       "\n",
       "                    <br/>Synced <strong style=\"color:#cdcd00\">comfy-sweep-1</strong>: <a href=\"https://wandb.ai/christianml/quadtree/runs/nmo28b39\" target=\"_blank\">https://wandb.ai/christianml/quadtree/runs/nmo28b39</a><br/>\n",
       "                "
      ],
      "text/plain": [
       "<IPython.core.display.HTML object>"
      ]
     },
     "metadata": {},
     "output_type": "display_data"
    },
    {
     "name": "stderr",
     "output_type": "stream",
     "text": [
      "\u001b[34m\u001b[1mwandb\u001b[0m: Agent Starting Run: b11np3wx with config:\n",
      "\u001b[34m\u001b[1mwandb\u001b[0m: \tcrossCheck: False\n",
      "\u001b[34m\u001b[1mwandb\u001b[0m: \tfilter_outliner: False\n",
      "\u001b[34m\u001b[1mwandb\u001b[0m: \tflann: True\n",
      "\u001b[34m\u001b[1mwandb\u001b[0m: \thomography: True\n",
      "\u001b[34m\u001b[1mwandb\u001b[0m: \timage_type: Cyto\n",
      "\u001b[34m\u001b[1mwandb\u001b[0m: \tmaxFeatures: 256\n",
      "\u001b[34m\u001b[1mwandb\u001b[0m: \tpoint_extractor: sift\n",
      "\u001b[34m\u001b[1mwandb\u001b[0m: \tratio: 0.7\n",
      "\u001b[34m\u001b[1mwandb\u001b[0m: \tsource_scanner: Aperio\n",
      "\u001b[34m\u001b[1mwandb\u001b[0m: \ttarget_depth: 0\n",
      "\u001b[34m\u001b[1mwandb\u001b[0m: \tthumbnail_size: [4096, 4096]\n",
      "\u001b[34m\u001b[1mwandb\u001b[0m: \tuse_gray: False\n"
     ]
    },
    {
     "data": {
      "text/html": [
       "\n",
       "                Tracking run with wandb version 0.10.15<br/>\n",
       "                Syncing run <strong style=\"color:#cdcd00\">solar-sweep-12</strong> to <a href=\"https://wandb.ai\" target=\"_blank\">Weights & Biases</a> <a href=\"https://docs.wandb.com/integrations/jupyter.html\" target=\"_blank\">(Documentation)</a>.<br/>\n",
       "                Project page: <a href=\"https://wandb.ai/christianml/quadtree\" target=\"_blank\">https://wandb.ai/christianml/quadtree</a><br/>\n",
       "                Sweep page: <a href=\"https://wandb.ai/christianml/quadtree/sweeps/e22y6790\" target=\"_blank\">https://wandb.ai/christianml/quadtree/sweeps/e22y6790</a><br/>\n",
       "Run page: <a href=\"https://wandb.ai/christianml/quadtree/runs/b11np3wx\" target=\"_blank\">https://wandb.ai/christianml/quadtree/runs/b11np3wx</a><br/>\n",
       "                Run data is saved locally in <code>/home/bronzi/ProgProjekte/EIPH_WSI/MIDL2021/Registration/WandB/wandb/run-20210126_182238-b11np3wx</code><br/><br/>\n",
       "            "
      ],
      "text/plain": [
       "<IPython.core.display.HTML object>"
      ]
     },
     "metadata": {},
     "output_type": "display_data"
    },
    {
     "name": "stderr",
     "output_type": "stream",
     "text": [
      "  0%|          | 0/5 [00:00<?, ?it/s]\n",
      "  0%|          | 0/4 [00:00<?, ?it/s]\u001b[A\n",
      " 25%|██▌       | 1/4 [00:12<00:38, 12.67s/it]\u001b[A\n",
      " 75%|███████▌  | 3/4 [00:29<00:09,  9.39s/it]\u001b[A\n",
      "100%|██████████| 4/4 [00:41<00:00, 10.44s/it]\u001b[A\n",
      " 20%|██        | 1/5 [00:41<02:46, 41.75s/it]\n",
      "  0%|          | 0/4 [00:00<?, ?it/s]\u001b[A\n",
      " 25%|██▌       | 1/4 [00:12<00:36, 12.23s/it]\u001b[A\n",
      " 75%|███████▌  | 3/4 [00:25<00:08,  8.12s/it]\u001b[A\n",
      "100%|██████████| 4/4 [00:38<00:00,  9.66s/it]\u001b[A\n",
      " 40%|████      | 2/5 [01:20<01:59, 39.91s/it]\n",
      "  0%|          | 0/4 [00:00<?, ?it/s]\u001b[A\n",
      " 25%|██▌       | 1/4 [00:15<00:45, 15.12s/it]\u001b[A\n",
      " 75%|███████▌  | 3/4 [00:32<00:10, 10.25s/it]\u001b[A\n",
      "100%|██████████| 4/4 [00:45<00:00, 11.25s/it]\u001b[A\n",
      " 60%|██████    | 3/5 [02:05<01:24, 42.25s/it]\n",
      "  0%|          | 0/4 [00:00<?, ?it/s]\u001b[A\n",
      " 25%|██▌       | 1/4 [00:15<00:46, 15.45s/it]\u001b[A\n",
      " 75%|███████▌  | 3/4 [00:30<00:09,  9.67s/it]\u001b[A\n",
      "100%|██████████| 4/4 [00:45<00:00, 11.43s/it]\u001b[A\n",
      " 80%|████████  | 4/5 [02:51<00:43, 43.63s/it]\n",
      "  0%|          | 0/4 [00:00<?, ?it/s]\u001b[A\n",
      " 25%|██▌       | 1/4 [00:14<00:42, 14.21s/it]\u001b[A\n",
      " 75%|███████▌  | 3/4 [00:28<00:08,  8.93s/it]\u001b[A\n",
      "100%|██████████| 4/4 [00:41<00:00, 10.37s/it]\u001b[A\n",
      "100%|██████████| 5/5 [03:32<00:00, 42.53s/it]\n"
     ]
    },
    {
     "data": {
      "text/html": [
       "<br/>Waiting for W&B process to finish, PID 32542<br/>Program ended successfully."
      ],
      "text/plain": [
       "<IPython.core.display.HTML object>"
      ]
     },
     "metadata": {},
     "output_type": "display_data"
    },
    {
     "data": {
      "application/vnd.jupyter.widget-view+json": {
       "model_id": "",
       "version_major": 2,
       "version_minor": 0
      },
      "text/plain": [
       "VBox(children=(Label(value=' 0.00MB of 0.00MB uploaded (0.00MB deduped)\\r'), FloatProgress(value=1.0, max=1.0)…"
      ]
     },
     "metadata": {},
     "output_type": "display_data"
    },
    {
     "data": {
      "text/html": [
       "Find user logs for this run at: <code>/home/bronzi/ProgProjekte/EIPH_WSI/MIDL2021/Registration/WandB/wandb/run-20210126_182238-b11np3wx/logs/debug.log</code>"
      ],
      "text/plain": [
       "<IPython.core.display.HTML object>"
      ]
     },
     "metadata": {},
     "output_type": "display_data"
    },
    {
     "data": {
      "text/html": [
       "Find internal logs for this run at: <code>/home/bronzi/ProgProjekte/EIPH_WSI/MIDL2021/Registration/WandB/wandb/run-20210126_182238-b11np3wx/logs/debug-internal.log</code>"
      ],
      "text/plain": [
       "<IPython.core.display.HTML object>"
      ]
     },
     "metadata": {},
     "output_type": "display_data"
    },
    {
     "data": {
      "text/html": [
       "<h3>Run summary:</h3><br/><style>\n",
       "    table.wandb td:nth-child(1) { padding: 0 10px; text-align: right }\n",
       "    </style><table class=\"wandb\">\n",
       "<tr><td>dist_mean_image</td><td>25.97445</td></tr><tr><td>mean_reg_error_image</td><td>879.26687</td></tr><tr><td>step</td><td>14</td></tr><tr><td>_step</td><td>15</td></tr><tr><td>_runtime</td><td>213</td></tr><tr><td>_timestamp</td><td>1611681971</td></tr><tr><td>dist_mean</td><td>8.91496</td></tr><tr><td>dist_min</td><td>0.46334</td></tr><tr><td>dist_max</td><td>59.87336</td></tr><tr><td>mean_reg_error</td><td>832.85139</td></tr></table>"
      ],
      "text/plain": [
       "<IPython.core.display.HTML object>"
      ]
     },
     "metadata": {},
     "output_type": "display_data"
    },
    {
     "data": {
      "text/html": [
       "<h3>Run history:</h3><br/><style>\n",
       "    table.wandb td:nth-child(1) { padding: 0 10px; text-align: right }\n",
       "    </style><table class=\"wandb\">\n",
       "<tr><td>dist_mean_image</td><td>▂▂▂▂▅▃▁▂▂▃█▅▁▁▃</td></tr><tr><td>mean_reg_error_image</td><td>▁▂▄▁▁▂▁▁▂▃▄█▁▁▂</td></tr><tr><td>step</td><td>▁▁▂▃▃▃▄▅▅▅▆▇▇▇█</td></tr><tr><td>_step</td><td>▁▁▂▂▃▃▄▄▅▅▆▆▇▇██</td></tr><tr><td>_runtime</td><td>▁▂▂▂▃▃▄▅▅▅▆▇▇███</td></tr><tr><td>_timestamp</td><td>▁▂▂▂▃▃▄▅▅▅▆▇▇███</td></tr><tr><td>dist_mean</td><td>▁</td></tr><tr><td>dist_min</td><td>▁</td></tr><tr><td>dist_max</td><td>▁</td></tr><tr><td>mean_reg_error</td><td>▁</td></tr></table><br/>"
      ],
      "text/plain": [
       "<IPython.core.display.HTML object>"
      ]
     },
     "metadata": {},
     "output_type": "display_data"
    },
    {
     "data": {
      "text/html": [
       "Synced 5 W&B file(s), 0 media file(s), 0 artifact file(s) and 0 other file(s)"
      ],
      "text/plain": [
       "<IPython.core.display.HTML object>"
      ]
     },
     "metadata": {},
     "output_type": "display_data"
    },
    {
     "data": {
      "text/html": [
       "\n",
       "                    <br/>Synced <strong style=\"color:#cdcd00\">solar-sweep-12</strong>: <a href=\"https://wandb.ai/christianml/quadtree/runs/b11np3wx\" target=\"_blank\">https://wandb.ai/christianml/quadtree/runs/b11np3wx</a><br/>\n",
       "                "
      ],
      "text/plain": [
       "<IPython.core.display.HTML object>"
      ]
     },
     "metadata": {},
     "output_type": "display_data"
    },
    {
     "name": "stderr",
     "output_type": "stream",
     "text": [
      "\u001b[34m\u001b[1mwandb\u001b[0m: Agent Starting Run: yf9e9jx3 with config:\n",
      "\u001b[34m\u001b[1mwandb\u001b[0m: \tcrossCheck: False\n",
      "\u001b[34m\u001b[1mwandb\u001b[0m: \tfilter_outliner: False\n",
      "\u001b[34m\u001b[1mwandb\u001b[0m: \tflann: True\n",
      "\u001b[34m\u001b[1mwandb\u001b[0m: \thomography: True\n",
      "\u001b[34m\u001b[1mwandb\u001b[0m: \timage_type: Cyto\n",
      "\u001b[34m\u001b[1mwandb\u001b[0m: \tmaxFeatures: 2048\n",
      "\u001b[34m\u001b[1mwandb\u001b[0m: \tpoint_extractor: sift\n",
      "\u001b[34m\u001b[1mwandb\u001b[0m: \tratio: 0.5\n",
      "\u001b[34m\u001b[1mwandb\u001b[0m: \tsource_scanner: Aperio\n",
      "\u001b[34m\u001b[1mwandb\u001b[0m: \ttarget_depth: 0\n",
      "\u001b[34m\u001b[1mwandb\u001b[0m: \tthumbnail_size: [2048, 2048]\n",
      "\u001b[34m\u001b[1mwandb\u001b[0m: \tuse_gray: False\n"
     ]
    },
    {
     "data": {
      "text/html": [
       "\n",
       "                Tracking run with wandb version 0.10.15<br/>\n",
       "                Syncing run <strong style=\"color:#cdcd00\">jolly-sweep-14</strong> to <a href=\"https://wandb.ai\" target=\"_blank\">Weights & Biases</a> <a href=\"https://docs.wandb.com/integrations/jupyter.html\" target=\"_blank\">(Documentation)</a>.<br/>\n",
       "                Project page: <a href=\"https://wandb.ai/christianml/quadtree\" target=\"_blank\">https://wandb.ai/christianml/quadtree</a><br/>\n",
       "                Sweep page: <a href=\"https://wandb.ai/christianml/quadtree/sweeps/e22y6790\" target=\"_blank\">https://wandb.ai/christianml/quadtree/sweeps/e22y6790</a><br/>\n",
       "Run page: <a href=\"https://wandb.ai/christianml/quadtree/runs/yf9e9jx3\" target=\"_blank\">https://wandb.ai/christianml/quadtree/runs/yf9e9jx3</a><br/>\n",
       "                Run data is saved locally in <code>/home/bronzi/ProgProjekte/EIPH_WSI/MIDL2021/Registration/WandB/wandb/run-20210126_182617-yf9e9jx3</code><br/><br/>\n",
       "            "
      ],
      "text/plain": [
       "<IPython.core.display.HTML object>"
      ]
     },
     "metadata": {},
     "output_type": "display_data"
    },
    {
     "name": "stderr",
     "output_type": "stream",
     "text": [
      "  0%|          | 0/5 [00:00<?, ?it/s]\n",
      "  0%|          | 0/4 [00:00<?, ?it/s]\u001b[A\n",
      " 25%|██▌       | 1/4 [00:08<00:26,  8.77s/it]\u001b[A\n",
      " 75%|███████▌  | 3/4 [00:17<00:05,  5.36s/it]\u001b[A\n",
      "100%|██████████| 4/4 [00:25<00:00,  6.27s/it]\u001b[A\n",
      " 20%|██        | 1/5 [00:25<01:40, 25.09s/it]\n",
      "  0%|          | 0/4 [00:00<?, ?it/s]\u001b[A\n",
      " 25%|██▌       | 1/4 [00:01<00:04,  1.60s/it]\u001b[A\n",
      " 75%|███████▌  | 3/4 [00:03<00:01,  1.27s/it]\u001b[A\n",
      "100%|██████████| 4/4 [00:05<00:00,  1.39s/it]\u001b[A\n",
      " 40%|████      | 2/5 [00:30<00:40, 13.60s/it]\n",
      "  0%|          | 0/4 [00:00<?, ?it/s]\u001b[A\n",
      " 25%|██▌       | 1/4 [00:08<00:24,  8.21s/it]\u001b[A\n",
      " 75%|███████▌  | 3/4 [00:17<00:05,  5.48s/it]\u001b[A\n",
      "100%|██████████| 4/4 [00:25<00:00,  6.37s/it]\u001b[A\n",
      " 60%|██████    | 3/5 [00:56<00:38, 19.03s/it]\n",
      "  0%|          | 0/4 [00:00<?, ?it/s]\u001b[A\n",
      " 25%|██▌       | 1/4 [00:01<00:04,  1.53s/it]\u001b[A\n",
      " 75%|███████▌  | 3/4 [00:04<00:01,  1.36s/it]\u001b[A\n",
      "100%|██████████| 4/4 [00:05<00:00,  1.37s/it]\u001b[A\n",
      " 80%|████████  | 4/5 [01:01<00:13, 13.69s/it]\n",
      "  0%|          | 0/4 [00:00<?, ?it/s]\u001b[A\n",
      " 25%|██▌       | 1/4 [00:09<00:29,  9.73s/it]\u001b[A\n",
      " 75%|███████▌  | 3/4 [00:19<00:06,  6.18s/it]\u001b[A\n",
      "100%|██████████| 4/4 [00:28<00:00,  7.09s/it]\u001b[A\n",
      "100%|██████████| 5/5 [01:30<00:00, 18.00s/it]\n"
     ]
    },
    {
     "data": {
      "text/html": [
       "<br/>Waiting for W&B process to finish, PID 575<br/>Program ended successfully."
      ],
      "text/plain": [
       "<IPython.core.display.HTML object>"
      ]
     },
     "metadata": {},
     "output_type": "display_data"
    },
    {
     "data": {
      "application/vnd.jupyter.widget-view+json": {
       "model_id": "",
       "version_major": 2,
       "version_minor": 0
      },
      "text/plain": [
       "VBox(children=(Label(value=' 0.00MB of 0.00MB uploaded (0.00MB deduped)\\r'), FloatProgress(value=1.0, max=1.0)…"
      ]
     },
     "metadata": {},
     "output_type": "display_data"
    },
    {
     "data": {
      "text/html": [
       "Find user logs for this run at: <code>/home/bronzi/ProgProjekte/EIPH_WSI/MIDL2021/Registration/WandB/wandb/run-20210126_182617-yf9e9jx3/logs/debug.log</code>"
      ],
      "text/plain": [
       "<IPython.core.display.HTML object>"
      ]
     },
     "metadata": {},
     "output_type": "display_data"
    },
    {
     "data": {
      "text/html": [
       "Find internal logs for this run at: <code>/home/bronzi/ProgProjekte/EIPH_WSI/MIDL2021/Registration/WandB/wandb/run-20210126_182617-yf9e9jx3/logs/debug-internal.log</code>"
      ],
      "text/plain": [
       "<IPython.core.display.HTML object>"
      ]
     },
     "metadata": {},
     "output_type": "display_data"
    },
    {
     "data": {
      "text/html": [
       "<h3>Run summary:</h3><br/><style>\n",
       "    table.wandb td:nth-child(1) { padding: 0 10px; text-align: right }\n",
       "    </style><table class=\"wandb\">\n",
       "<tr><td>dist_mean_image</td><td>24.63483</td></tr><tr><td>mean_reg_error_image</td><td>6.63035</td></tr><tr><td>step</td><td>14</td></tr><tr><td>_step</td><td>15</td></tr><tr><td>_runtime</td><td>91</td></tr><tr><td>_timestamp</td><td>1611682068</td></tr><tr><td>dist_mean</td><td>10.98581</td></tr><tr><td>dist_min</td><td>0.6065</td></tr><tr><td>dist_max</td><td>77.95309</td></tr><tr><td>mean_reg_error</td><td>7.17679</td></tr></table>"
      ],
      "text/plain": [
       "<IPython.core.display.HTML object>"
      ]
     },
     "metadata": {},
     "output_type": "display_data"
    },
    {
     "data": {
      "text/html": [
       "<h3>Run history:</h3><br/><style>\n",
       "    table.wandb td:nth-child(1) { padding: 0 10px; text-align: right }\n",
       "    </style><table class=\"wandb\">\n",
       "<tr><td>dist_mean_image</td><td>▁▂▂▂▄▃▁▂▃▃█▅▁▁▃</td></tr><tr><td>mean_reg_error_image</td><td>▂▁▂█▃▂▃▂▄▂▃▄▂▃▃</td></tr><tr><td>step</td><td>▁▁▂▃▃▃▄▅▅▅▆▇▇▇█</td></tr><tr><td>_step</td><td>▁▁▂▂▃▃▄▄▅▅▆▆▇▇██</td></tr><tr><td>_runtime</td><td>▁▂▂▃▃▃▄▄▅▅▅▆▆▇██</td></tr><tr><td>_timestamp</td><td>▁▂▂▃▃▃▄▄▅▅▅▆▆▇██</td></tr><tr><td>dist_mean</td><td>▁</td></tr><tr><td>dist_min</td><td>▁</td></tr><tr><td>dist_max</td><td>▁</td></tr><tr><td>mean_reg_error</td><td>▁</td></tr></table><br/>"
      ],
      "text/plain": [
       "<IPython.core.display.HTML object>"
      ]
     },
     "metadata": {},
     "output_type": "display_data"
    },
    {
     "data": {
      "text/html": [
       "Synced 5 W&B file(s), 0 media file(s), 0 artifact file(s) and 0 other file(s)"
      ],
      "text/plain": [
       "<IPython.core.display.HTML object>"
      ]
     },
     "metadata": {},
     "output_type": "display_data"
    },
    {
     "data": {
      "text/html": [
       "\n",
       "                    <br/>Synced <strong style=\"color:#cdcd00\">jolly-sweep-14</strong>: <a href=\"https://wandb.ai/christianml/quadtree/runs/yf9e9jx3\" target=\"_blank\">https://wandb.ai/christianml/quadtree/runs/yf9e9jx3</a><br/>\n",
       "                "
      ],
      "text/plain": [
       "<IPython.core.display.HTML object>"
      ]
     },
     "metadata": {},
     "output_type": "display_data"
    },
    {
     "name": "stderr",
     "output_type": "stream",
     "text": [
      "\u001b[34m\u001b[1mwandb\u001b[0m: Agent Starting Run: bx23waxq with config:\n",
      "\u001b[34m\u001b[1mwandb\u001b[0m: \tcrossCheck: False\n",
      "\u001b[34m\u001b[1mwandb\u001b[0m: \tfilter_outliner: False\n",
      "\u001b[34m\u001b[1mwandb\u001b[0m: \tflann: False\n",
      "\u001b[34m\u001b[1mwandb\u001b[0m: \thomography: True\n",
      "\u001b[34m\u001b[1mwandb\u001b[0m: \timage_type: Cyto\n",
      "\u001b[34m\u001b[1mwandb\u001b[0m: \tmaxFeatures: 128\n",
      "\u001b[34m\u001b[1mwandb\u001b[0m: \tpoint_extractor: sift\n",
      "\u001b[34m\u001b[1mwandb\u001b[0m: \tratio: 0.8\n",
      "\u001b[34m\u001b[1mwandb\u001b[0m: \tsource_scanner: Aperio\n",
      "\u001b[34m\u001b[1mwandb\u001b[0m: \ttarget_depth: 0\n",
      "\u001b[34m\u001b[1mwandb\u001b[0m: \tthumbnail_size: [4096, 4096]\n",
      "\u001b[34m\u001b[1mwandb\u001b[0m: \tuse_gray: False\n"
     ]
    },
    {
     "data": {
      "text/html": [
       "\n",
       "                Tracking run with wandb version 0.10.15<br/>\n",
       "                Syncing run <strong style=\"color:#cdcd00\">sweet-sweep-15</strong> to <a href=\"https://wandb.ai\" target=\"_blank\">Weights & Biases</a> <a href=\"https://docs.wandb.com/integrations/jupyter.html\" target=\"_blank\">(Documentation)</a>.<br/>\n",
       "                Project page: <a href=\"https://wandb.ai/christianml/quadtree\" target=\"_blank\">https://wandb.ai/christianml/quadtree</a><br/>\n",
       "                Sweep page: <a href=\"https://wandb.ai/christianml/quadtree/sweeps/e22y6790\" target=\"_blank\">https://wandb.ai/christianml/quadtree/sweeps/e22y6790</a><br/>\n",
       "Run page: <a href=\"https://wandb.ai/christianml/quadtree/runs/bx23waxq\" target=\"_blank\">https://wandb.ai/christianml/quadtree/runs/bx23waxq</a><br/>\n",
       "                Run data is saved locally in <code>/home/bronzi/ProgProjekte/EIPH_WSI/MIDL2021/Registration/WandB/wandb/run-20210126_182755-bx23waxq</code><br/><br/>\n",
       "            "
      ],
      "text/plain": [
       "<IPython.core.display.HTML object>"
      ]
     },
     "metadata": {},
     "output_type": "display_data"
    },
    {
     "name": "stderr",
     "output_type": "stream",
     "text": [
      "  0%|          | 0/5 [00:00<?, ?it/s]\n",
      "  0%|          | 0/4 [00:00<?, ?it/s]\u001b[A\n",
      " 25%|██▌       | 1/4 [00:18<00:56, 18.74s/it]\u001b[A\n",
      " 75%|███████▌  | 3/4 [00:35<00:11, 11.06s/it]\u001b[A\n",
      "100%|██████████| 4/4 [00:48<00:00, 12.22s/it]\u001b[A\n",
      " 20%|██        | 1/5 [00:48<03:15, 48.89s/it]\n",
      "  0%|          | 0/4 [00:00<?, ?it/s]\u001b[A\n",
      " 25%|██▌       | 1/4 [00:13<00:40, 13.58s/it]\u001b[A\n",
      " 75%|███████▌  | 3/4 [00:32<00:10, 10.38s/it]\u001b[A\n",
      "100%|██████████| 4/4 [00:45<00:00, 11.43s/it]\u001b[A\n",
      " 40%|████      | 2/5 [01:34<02:21, 47.04s/it]\n",
      "  0%|          | 0/4 [00:00<?, ?it/s]\u001b[A\n",
      " 25%|██▌       | 1/4 [00:20<01:00, 20.05s/it]\u001b[A\n",
      " 75%|███████▌  | 3/4 [00:38<00:12, 12.06s/it]\u001b[A\n",
      "100%|██████████| 4/4 [00:54<00:00, 13.59s/it]\u001b[A\n",
      " 60%|██████    | 3/5 [02:28<01:40, 50.38s/it]\n",
      "  0%|          | 0/4 [00:00<?, ?it/s]\u001b[A\n",
      " 25%|██▌       | 1/4 [00:17<00:51, 17.25s/it]\u001b[A\n",
      " 75%|███████▌  | 3/4 [00:33<00:10, 10.56s/it]\u001b[A\n",
      "100%|██████████| 4/4 [00:49<00:00, 12.33s/it]\u001b[A\n",
      " 80%|████████  | 4/5 [03:18<00:49, 49.97s/it]\n",
      "  0%|          | 0/4 [00:00<?, ?it/s]\u001b[A\n",
      " 25%|██▌       | 1/4 [00:18<00:54, 18.29s/it]\u001b[A\n",
      " 75%|███████▌  | 3/4 [00:37<00:11, 11.94s/it]\u001b[A\n",
      "100%|██████████| 4/4 [00:52<00:00, 13.09s/it]\u001b[A\n",
      "100%|██████████| 5/5 [04:10<00:00, 50.14s/it]\n"
     ]
    },
    {
     "data": {
      "text/html": [
       "<br/>Waiting for W&B process to finish, PID 777<br/>Program ended successfully."
      ],
      "text/plain": [
       "<IPython.core.display.HTML object>"
      ]
     },
     "metadata": {},
     "output_type": "display_data"
    },
    {
     "data": {
      "application/vnd.jupyter.widget-view+json": {
       "model_id": "",
       "version_major": 2,
       "version_minor": 0
      },
      "text/plain": [
       "VBox(children=(Label(value=' 0.00MB of 0.00MB uploaded (0.00MB deduped)\\r'), FloatProgress(value=1.0, max=1.0)…"
      ]
     },
     "metadata": {},
     "output_type": "display_data"
    },
    {
     "data": {
      "text/html": [
       "Find user logs for this run at: <code>/home/bronzi/ProgProjekte/EIPH_WSI/MIDL2021/Registration/WandB/wandb/run-20210126_182755-bx23waxq/logs/debug.log</code>"
      ],
      "text/plain": [
       "<IPython.core.display.HTML object>"
      ]
     },
     "metadata": {},
     "output_type": "display_data"
    },
    {
     "data": {
      "text/html": [
       "Find internal logs for this run at: <code>/home/bronzi/ProgProjekte/EIPH_WSI/MIDL2021/Registration/WandB/wandb/run-20210126_182755-bx23waxq/logs/debug-internal.log</code>"
      ],
      "text/plain": [
       "<IPython.core.display.HTML object>"
      ]
     },
     "metadata": {},
     "output_type": "display_data"
    },
    {
     "data": {
      "text/html": [
       "<h3>Run summary:</h3><br/><style>\n",
       "    table.wandb td:nth-child(1) { padding: 0 10px; text-align: right }\n",
       "    </style><table class=\"wandb\">\n",
       "<tr><td>dist_mean_image</td><td>25.25914</td></tr><tr><td>mean_reg_error_image</td><td>2088.28688</td></tr><tr><td>step</td><td>14</td></tr><tr><td>_step</td><td>15</td></tr><tr><td>_runtime</td><td>252</td></tr><tr><td>_timestamp</td><td>1611682327</td></tr><tr><td>dist_mean</td><td>8.92535</td></tr><tr><td>dist_min</td><td>0.55182</td></tr><tr><td>dist_max</td><td>59.44884</td></tr><tr><td>mean_reg_error</td><td>1849.20913</td></tr></table>"
      ],
      "text/plain": [
       "<IPython.core.display.HTML object>"
      ]
     },
     "metadata": {},
     "output_type": "display_data"
    },
    {
     "data": {
      "text/html": [
       "<h3>Run history:</h3><br/><style>\n",
       "    table.wandb td:nth-child(1) { padding: 0 10px; text-align: right }\n",
       "    </style><table class=\"wandb\">\n",
       "<tr><td>dist_mean_image</td><td>▂▂▂▂▆▃▁▃▂▃█▆▁▁▃</td></tr><tr><td>mean_reg_error_image</td><td>▂▂▄▁▂▃▁▁▂▃▅█▁▂▃</td></tr><tr><td>step</td><td>▁▁▂▃▃▃▄▅▅▅▆▇▇▇█</td></tr><tr><td>_step</td><td>▁▁▂▂▃▃▄▄▅▅▆▆▇▇██</td></tr><tr><td>_runtime</td><td>▁▂▂▂▃▃▄▄▅▅▆▆▇███</td></tr><tr><td>_timestamp</td><td>▁▂▂▂▃▃▄▄▅▅▆▆▇███</td></tr><tr><td>dist_mean</td><td>▁</td></tr><tr><td>dist_min</td><td>▁</td></tr><tr><td>dist_max</td><td>▁</td></tr><tr><td>mean_reg_error</td><td>▁</td></tr></table><br/>"
      ],
      "text/plain": [
       "<IPython.core.display.HTML object>"
      ]
     },
     "metadata": {},
     "output_type": "display_data"
    },
    {
     "data": {
      "text/html": [
       "Synced 5 W&B file(s), 0 media file(s), 0 artifact file(s) and 0 other file(s)"
      ],
      "text/plain": [
       "<IPython.core.display.HTML object>"
      ]
     },
     "metadata": {},
     "output_type": "display_data"
    },
    {
     "data": {
      "text/html": [
       "\n",
       "                    <br/>Synced <strong style=\"color:#cdcd00\">sweet-sweep-15</strong>: <a href=\"https://wandb.ai/christianml/quadtree/runs/bx23waxq\" target=\"_blank\">https://wandb.ai/christianml/quadtree/runs/bx23waxq</a><br/>\n",
       "                "
      ],
      "text/plain": [
       "<IPython.core.display.HTML object>"
      ]
     },
     "metadata": {},
     "output_type": "display_data"
    },
    {
     "name": "stderr",
     "output_type": "stream",
     "text": [
      "\u001b[34m\u001b[1mwandb\u001b[0m: Agent Starting Run: 4trbgeca with config:\n",
      "\u001b[34m\u001b[1mwandb\u001b[0m: \tcrossCheck: False\n",
      "\u001b[34m\u001b[1mwandb\u001b[0m: \tfilter_outliner: False\n",
      "\u001b[34m\u001b[1mwandb\u001b[0m: \tflann: False\n",
      "\u001b[34m\u001b[1mwandb\u001b[0m: \thomography: False\n",
      "\u001b[34m\u001b[1mwandb\u001b[0m: \timage_type: Cyto\n",
      "\u001b[34m\u001b[1mwandb\u001b[0m: \tmaxFeatures: 256\n",
      "\u001b[34m\u001b[1mwandb\u001b[0m: \tpoint_extractor: sift\n",
      "\u001b[34m\u001b[1mwandb\u001b[0m: \tratio: 0.5\n",
      "\u001b[34m\u001b[1mwandb\u001b[0m: \tsource_scanner: Aperio\n",
      "\u001b[34m\u001b[1mwandb\u001b[0m: \ttarget_depth: 0\n",
      "\u001b[34m\u001b[1mwandb\u001b[0m: \tthumbnail_size: [2048, 2048]\n",
      "\u001b[34m\u001b[1mwandb\u001b[0m: \tuse_gray: False\n"
     ]
    },
    {
     "data": {
      "text/html": [
       "\n",
       "                Tracking run with wandb version 0.10.15<br/>\n",
       "                Syncing run <strong style=\"color:#cdcd00\">revived-sweep-16</strong> to <a href=\"https://wandb.ai\" target=\"_blank\">Weights & Biases</a> <a href=\"https://docs.wandb.com/integrations/jupyter.html\" target=\"_blank\">(Documentation)</a>.<br/>\n",
       "                Project page: <a href=\"https://wandb.ai/christianml/quadtree\" target=\"_blank\">https://wandb.ai/christianml/quadtree</a><br/>\n",
       "                Sweep page: <a href=\"https://wandb.ai/christianml/quadtree/sweeps/e22y6790\" target=\"_blank\">https://wandb.ai/christianml/quadtree/sweeps/e22y6790</a><br/>\n",
       "Run page: <a href=\"https://wandb.ai/christianml/quadtree/runs/4trbgeca\" target=\"_blank\">https://wandb.ai/christianml/quadtree/runs/4trbgeca</a><br/>\n",
       "                Run data is saved locally in <code>/home/bronzi/ProgProjekte/EIPH_WSI/MIDL2021/Registration/WandB/wandb/run-20210126_183211-4trbgeca</code><br/><br/>\n",
       "            "
      ],
      "text/plain": [
       "<IPython.core.display.HTML object>"
      ]
     },
     "metadata": {},
     "output_type": "display_data"
    },
    {
     "name": "stderr",
     "output_type": "stream",
     "text": [
      "  0%|          | 0/5 [00:00<?, ?it/s]\n",
      "  0%|          | 0/4 [00:00<?, ?it/s]\u001b[A\n",
      " 25%|██▌       | 1/4 [00:38<01:54, 38.07s/it]\u001b[A\n",
      " 75%|███████▌  | 3/4 [01:17<00:24, 24.56s/it]\u001b[A\n",
      "100%|██████████| 4/4 [01:26<00:00, 21.75s/it]\u001b[A\n",
      " 20%|██        | 1/5 [01:26<05:47, 87.00s/it]\n",
      "  0%|          | 0/4 [00:00<?, ?it/s]\u001b[A\n",
      " 25%|██▌       | 1/4 [00:06<00:19,  6.54s/it]\u001b[A\n",
      " 75%|███████▌  | 3/4 [00:13<00:04,  4.23s/it]\u001b[A\n",
      "100%|██████████| 4/4 [00:16<00:00,  4.06s/it]\u001b[A\n",
      " 40%|████      | 2/5 [01:43<02:16, 45.39s/it]\n",
      "  0%|          | 0/4 [00:00<?, ?it/s]\u001b[A\n",
      " 25%|██▌       | 1/4 [01:05<03:16, 65.37s/it]\u001b[A\n",
      " 75%|███████▌  | 3/4 [01:51<00:33, 33.92s/it]\u001b[A\n",
      "100%|██████████| 4/4 [02:00<00:00, 30.09s/it]\u001b[A\n",
      " 60%|██████    | 3/5 [03:43<02:39, 79.63s/it]\n",
      "  0%|          | 0/4 [00:00<?, ?it/s]\u001b[A\n",
      " 25%|██▌       | 1/4 [00:02<00:06,  2.10s/it]\u001b[A\n",
      " 75%|███████▌  | 3/4 [00:05<00:01,  1.89s/it]\u001b[A\n",
      "100%|██████████| 4/4 [00:07<00:00,  1.82s/it]\u001b[A\n",
      " 80%|████████  | 4/5 [03:50<00:51, 51.08s/it]\n",
      "  0%|          | 0/4 [00:00<?, ?it/s]\u001b[A\n",
      " 25%|██▌       | 1/4 [00:31<01:34, 31.34s/it]\u001b[A\n",
      " 75%|███████▌  | 3/4 [00:53<00:16, 16.36s/it]\u001b[A\n",
      "100%|██████████| 4/4 [01:03<00:00, 15.94s/it]\u001b[A\n",
      "100%|██████████| 5/5 [04:54<00:00, 58.94s/it]\n"
     ]
    },
    {
     "data": {
      "text/html": [
       "<br/>Waiting for W&B process to finish, PID 1239<br/>Program ended successfully."
      ],
      "text/plain": [
       "<IPython.core.display.HTML object>"
      ]
     },
     "metadata": {},
     "output_type": "display_data"
    },
    {
     "data": {
      "application/vnd.jupyter.widget-view+json": {
       "model_id": "",
       "version_major": 2,
       "version_minor": 0
      },
      "text/plain": [
       "VBox(children=(Label(value=' 0.00MB of 0.00MB uploaded (0.00MB deduped)\\r'), FloatProgress(value=1.0, max=1.0)…"
      ]
     },
     "metadata": {},
     "output_type": "display_data"
    },
    {
     "data": {
      "text/html": [
       "Find user logs for this run at: <code>/home/bronzi/ProgProjekte/EIPH_WSI/MIDL2021/Registration/WandB/wandb/run-20210126_183211-4trbgeca/logs/debug.log</code>"
      ],
      "text/plain": [
       "<IPython.core.display.HTML object>"
      ]
     },
     "metadata": {},
     "output_type": "display_data"
    },
    {
     "data": {
      "text/html": [
       "Find internal logs for this run at: <code>/home/bronzi/ProgProjekte/EIPH_WSI/MIDL2021/Registration/WandB/wandb/run-20210126_183211-4trbgeca/logs/debug-internal.log</code>"
      ],
      "text/plain": [
       "<IPython.core.display.HTML object>"
      ]
     },
     "metadata": {},
     "output_type": "display_data"
    },
    {
     "data": {
      "text/html": [
       "<h3>Run summary:</h3><br/><style>\n",
       "    table.wandb td:nth-child(1) { padding: 0 10px; text-align: right }\n",
       "    </style><table class=\"wandb\">\n",
       "<tr><td>dist_mean_image</td><td>11.61034</td></tr><tr><td>mean_reg_error_image</td><td>5.1879</td></tr><tr><td>step</td><td>14</td></tr><tr><td>_step</td><td>15</td></tr><tr><td>_runtime</td><td>296</td></tr><tr><td>_timestamp</td><td>1611682627</td></tr><tr><td>dist_mean</td><td>9.94023</td></tr><tr><td>dist_min</td><td>0.66565</td></tr><tr><td>dist_max</td><td>74.29165</td></tr><tr><td>mean_reg_error</td><td>73.06449</td></tr></table>"
      ],
      "text/plain": [
       "<IPython.core.display.HTML object>"
      ]
     },
     "metadata": {},
     "output_type": "display_data"
    },
    {
     "data": {
      "text/html": [
       "<h3>Run history:</h3><br/><style>\n",
       "    table.wandb td:nth-child(1) { padding: 0 10px; text-align: right }\n",
       "    </style><table class=\"wandb\">\n",
       "<tr><td>dist_mean_image</td><td>▂▂▂▂▄▃▁▃▂▃█▄▁▁▁</td></tr><tr><td>mean_reg_error_image</td><td>▆█▁▁▁▁▅▆▁▁▁▁▇▆▁</td></tr><tr><td>step</td><td>▁▁▂▃▃▃▄▅▅▅▆▇▇▇█</td></tr><tr><td>_step</td><td>▁▁▂▂▃▃▄▄▅▅▆▆▇▇██</td></tr><tr><td>_runtime</td><td>▁▂▂▂▃▃▅▆▆▆▆▆▇███</td></tr><tr><td>_timestamp</td><td>▁▂▂▂▃▃▅▆▆▆▆▆▇███</td></tr><tr><td>dist_mean</td><td>▁</td></tr><tr><td>dist_min</td><td>▁</td></tr><tr><td>dist_max</td><td>▁</td></tr><tr><td>mean_reg_error</td><td>▁</td></tr></table><br/>"
      ],
      "text/plain": [
       "<IPython.core.display.HTML object>"
      ]
     },
     "metadata": {},
     "output_type": "display_data"
    },
    {
     "data": {
      "text/html": [
       "Synced 5 W&B file(s), 0 media file(s), 0 artifact file(s) and 0 other file(s)"
      ],
      "text/plain": [
       "<IPython.core.display.HTML object>"
      ]
     },
     "metadata": {},
     "output_type": "display_data"
    },
    {
     "data": {
      "text/html": [
       "\n",
       "                    <br/>Synced <strong style=\"color:#cdcd00\">revived-sweep-16</strong>: <a href=\"https://wandb.ai/christianml/quadtree/runs/4trbgeca\" target=\"_blank\">https://wandb.ai/christianml/quadtree/runs/4trbgeca</a><br/>\n",
       "                "
      ],
      "text/plain": [
       "<IPython.core.display.HTML object>"
      ]
     },
     "metadata": {},
     "output_type": "display_data"
    },
    {
     "name": "stderr",
     "output_type": "stream",
     "text": [
      "\u001b[34m\u001b[1mwandb\u001b[0m: Agent Starting Run: 4hgcu2z1 with config:\n",
      "\u001b[34m\u001b[1mwandb\u001b[0m: \tcrossCheck: False\n",
      "\u001b[34m\u001b[1mwandb\u001b[0m: \tfilter_outliner: False\n",
      "\u001b[34m\u001b[1mwandb\u001b[0m: \tflann: False\n",
      "\u001b[34m\u001b[1mwandb\u001b[0m: \thomography: True\n",
      "\u001b[34m\u001b[1mwandb\u001b[0m: \timage_type: Cyto\n",
      "\u001b[34m\u001b[1mwandb\u001b[0m: \tmaxFeatures: 256\n",
      "\u001b[34m\u001b[1mwandb\u001b[0m: \tpoint_extractor: sift\n",
      "\u001b[34m\u001b[1mwandb\u001b[0m: \tratio: 0.9\n",
      "\u001b[34m\u001b[1mwandb\u001b[0m: \tsource_scanner: Aperio\n",
      "\u001b[34m\u001b[1mwandb\u001b[0m: \ttarget_depth: 0\n",
      "\u001b[34m\u001b[1mwandb\u001b[0m: \tthumbnail_size: [1024, 1024]\n",
      "\u001b[34m\u001b[1mwandb\u001b[0m: \tuse_gray: True\n"
     ]
    },
    {
     "data": {
      "text/html": [
       "\n",
       "                Tracking run with wandb version 0.10.15<br/>\n",
       "                Syncing run <strong style=\"color:#cdcd00\">jumping-sweep-19</strong> to <a href=\"https://wandb.ai\" target=\"_blank\">Weights & Biases</a> <a href=\"https://docs.wandb.com/integrations/jupyter.html\" target=\"_blank\">(Documentation)</a>.<br/>\n",
       "                Project page: <a href=\"https://wandb.ai/christianml/quadtree\" target=\"_blank\">https://wandb.ai/christianml/quadtree</a><br/>\n",
       "                Sweep page: <a href=\"https://wandb.ai/christianml/quadtree/sweeps/e22y6790\" target=\"_blank\">https://wandb.ai/christianml/quadtree/sweeps/e22y6790</a><br/>\n",
       "Run page: <a href=\"https://wandb.ai/christianml/quadtree/runs/4hgcu2z1\" target=\"_blank\">https://wandb.ai/christianml/quadtree/runs/4hgcu2z1</a><br/>\n",
       "                Run data is saved locally in <code>/home/bronzi/ProgProjekte/EIPH_WSI/MIDL2021/Registration/WandB/wandb/run-20210126_183713-4hgcu2z1</code><br/><br/>\n",
       "            "
      ],
      "text/plain": [
       "<IPython.core.display.HTML object>"
      ]
     },
     "metadata": {},
     "output_type": "display_data"
    },
    {
     "name": "stderr",
     "output_type": "stream",
     "text": [
      "  0%|          | 0/5 [00:00<?, ?it/s]\n",
      "  0%|          | 0/4 [00:00<?, ?it/s]\u001b[A\n",
      " 25%|██▌       | 1/4 [00:00<00:01,  1.78it/s]\u001b[A\n",
      " 75%|███████▌  | 3/4 [00:01<00:00,  1.69it/s]\u001b[A\n",
      "100%|██████████| 4/4 [00:02<00:00,  1.71it/s]\u001b[A\n",
      " 20%|██        | 1/5 [00:02<00:09,  2.35s/it]\n",
      "  0%|          | 0/4 [00:00<?, ?it/s]\u001b[A\n",
      " 25%|██▌       | 1/4 [00:00<00:01,  1.79it/s]\u001b[A\n",
      " 75%|███████▌  | 3/4 [00:01<00:00,  1.50it/s]\u001b[A\n",
      "100%|██████████| 4/4 [00:02<00:00,  1.56it/s]\u001b[A\n",
      " 40%|████      | 2/5 [00:04<00:07,  2.48s/it]\n",
      "  0%|          | 0/4 [00:00<?, ?it/s]\u001b[A\n",
      " 25%|██▌       | 1/4 [00:00<00:01,  1.69it/s]\u001b[A\n",
      " 75%|███████▌  | 3/4 [00:02<00:00,  1.29it/s]\u001b[A\n",
      "100%|██████████| 4/4 [00:02<00:00,  1.40it/s]\u001b[A\n",
      " 60%|██████    | 3/5 [00:07<00:05,  2.65s/it]\n",
      "  0%|          | 0/4 [00:00<?, ?it/s]\u001b[A\n",
      " 25%|██▌       | 1/4 [00:00<00:01,  1.60it/s]\u001b[A\n",
      " 75%|███████▌  | 3/4 [00:02<00:00,  1.13it/s]\u001b[A\n",
      "100%|██████████| 4/4 [00:03<00:00,  1.26it/s]\u001b[A\n",
      " 80%|████████  | 4/5 [00:10<00:02,  2.86s/it]\n",
      "  0%|          | 0/4 [00:00<?, ?it/s]\u001b[A\n",
      " 25%|██▌       | 1/4 [00:00<00:01,  1.62it/s]\u001b[A\n",
      " 75%|███████▌  | 3/4 [00:02<00:00,  1.36it/s]\u001b[A\n",
      "100%|██████████| 4/4 [00:02<00:00,  1.34it/s]\u001b[A\n",
      "100%|██████████| 5/5 [00:13<00:00,  2.79s/it]\n"
     ]
    },
    {
     "data": {
      "text/html": [
       "<br/>Waiting for W&B process to finish, PID 1949<br/>Program ended successfully."
      ],
      "text/plain": [
       "<IPython.core.display.HTML object>"
      ]
     },
     "metadata": {},
     "output_type": "display_data"
    },
    {
     "data": {
      "application/vnd.jupyter.widget-view+json": {
       "model_id": "",
       "version_major": 2,
       "version_minor": 0
      },
      "text/plain": [
       "VBox(children=(Label(value=' 0.00MB of 0.00MB uploaded (0.00MB deduped)\\r'), FloatProgress(value=1.0, max=1.0)…"
      ]
     },
     "metadata": {},
     "output_type": "display_data"
    },
    {
     "data": {
      "text/html": [
       "Find user logs for this run at: <code>/home/bronzi/ProgProjekte/EIPH_WSI/MIDL2021/Registration/WandB/wandb/run-20210126_183713-4hgcu2z1/logs/debug.log</code>"
      ],
      "text/plain": [
       "<IPython.core.display.HTML object>"
      ]
     },
     "metadata": {},
     "output_type": "display_data"
    },
    {
     "data": {
      "text/html": [
       "Find internal logs for this run at: <code>/home/bronzi/ProgProjekte/EIPH_WSI/MIDL2021/Registration/WandB/wandb/run-20210126_183713-4hgcu2z1/logs/debug-internal.log</code>"
      ],
      "text/plain": [
       "<IPython.core.display.HTML object>"
      ]
     },
     "metadata": {},
     "output_type": "display_data"
    },
    {
     "data": {
      "text/html": [
       "<h3>Run summary:</h3><br/><style>\n",
       "    table.wandb td:nth-child(1) { padding: 0 10px; text-align: right }\n",
       "    </style><table class=\"wandb\">\n",
       "<tr><td>dist_mean_image</td><td>38.85395</td></tr><tr><td>mean_reg_error_image</td><td>6332.50871</td></tr><tr><td>step</td><td>14</td></tr><tr><td>_step</td><td>15</td></tr><tr><td>_runtime</td><td>14</td></tr><tr><td>_timestamp</td><td>1611682647</td></tr><tr><td>dist_mean</td><td>1711.60143</td></tr><tr><td>dist_min</td><td>0.65812</td></tr><tr><td>dist_max</td><td>55263.1407</td></tr><tr><td>mean_reg_error</td><td>5565.68366</td></tr></table>"
      ],
      "text/plain": [
       "<IPython.core.display.HTML object>"
      ]
     },
     "metadata": {},
     "output_type": "display_data"
    },
    {
     "data": {
      "text/html": [
       "<h3>Run history:</h3><br/><style>\n",
       "    table.wandb td:nth-child(1) { padding: 0 10px; text-align: right }\n",
       "    </style><table class=\"wandb\">\n",
       "<tr><td>dist_mean_image</td><td>▁▁█▁▁▁▁▁▁▁▁▁▁▁▁</td></tr><tr><td>mean_reg_error_image</td><td>▁▂█▁▁▂▁▁▂▂▂▃▁▂▂</td></tr><tr><td>step</td><td>▁▁▂▃▃▃▄▅▅▅▆▇▇▇█</td></tr><tr><td>_step</td><td>▁▁▂▂▃▃▄▄▅▅▆▆▇▇██</td></tr><tr><td>_runtime</td><td>▁▂▂▂▃▃▄▅▅▅▆▆▇███</td></tr><tr><td>_timestamp</td><td>▁▂▂▂▃▃▄▅▅▅▆▆▇███</td></tr><tr><td>dist_mean</td><td>▁</td></tr><tr><td>dist_min</td><td>▁</td></tr><tr><td>dist_max</td><td>▁</td></tr><tr><td>mean_reg_error</td><td>▁</td></tr></table><br/>"
      ],
      "text/plain": [
       "<IPython.core.display.HTML object>"
      ]
     },
     "metadata": {},
     "output_type": "display_data"
    },
    {
     "data": {
      "text/html": [
       "Synced 5 W&B file(s), 0 media file(s), 0 artifact file(s) and 0 other file(s)"
      ],
      "text/plain": [
       "<IPython.core.display.HTML object>"
      ]
     },
     "metadata": {},
     "output_type": "display_data"
    },
    {
     "data": {
      "text/html": [
       "\n",
       "                    <br/>Synced <strong style=\"color:#cdcd00\">jumping-sweep-19</strong>: <a href=\"https://wandb.ai/christianml/quadtree/runs/4hgcu2z1\" target=\"_blank\">https://wandb.ai/christianml/quadtree/runs/4hgcu2z1</a><br/>\n",
       "                "
      ],
      "text/plain": [
       "<IPython.core.display.HTML object>"
      ]
     },
     "metadata": {},
     "output_type": "display_data"
    },
    {
     "name": "stderr",
     "output_type": "stream",
     "text": [
      "\u001b[34m\u001b[1mwandb\u001b[0m: Agent Starting Run: whasetbj with config:\n",
      "\u001b[34m\u001b[1mwandb\u001b[0m: \tcrossCheck: False\n",
      "\u001b[34m\u001b[1mwandb\u001b[0m: \tfilter_outliner: False\n",
      "\u001b[34m\u001b[1mwandb\u001b[0m: \tflann: False\n",
      "\u001b[34m\u001b[1mwandb\u001b[0m: \thomography: False\n",
      "\u001b[34m\u001b[1mwandb\u001b[0m: \timage_type: Cyto\n",
      "\u001b[34m\u001b[1mwandb\u001b[0m: \tmaxFeatures: 64\n",
      "\u001b[34m\u001b[1mwandb\u001b[0m: \tpoint_extractor: sift\n",
      "\u001b[34m\u001b[1mwandb\u001b[0m: \tratio: 0.7\n",
      "\u001b[34m\u001b[1mwandb\u001b[0m: \tsource_scanner: Aperio\n",
      "\u001b[34m\u001b[1mwandb\u001b[0m: \ttarget_depth: 0\n",
      "\u001b[34m\u001b[1mwandb\u001b[0m: \tthumbnail_size: [2048, 2048]\n",
      "\u001b[34m\u001b[1mwandb\u001b[0m: \tuse_gray: False\n"
     ]
    },
    {
     "data": {
      "text/html": [
       "\n",
       "                Tracking run with wandb version 0.10.15<br/>\n",
       "                Syncing run <strong style=\"color:#cdcd00\">magic-sweep-20</strong> to <a href=\"https://wandb.ai\" target=\"_blank\">Weights & Biases</a> <a href=\"https://docs.wandb.com/integrations/jupyter.html\" target=\"_blank\">(Documentation)</a>.<br/>\n",
       "                Project page: <a href=\"https://wandb.ai/christianml/quadtree\" target=\"_blank\">https://wandb.ai/christianml/quadtree</a><br/>\n",
       "                Sweep page: <a href=\"https://wandb.ai/christianml/quadtree/sweeps/e22y6790\" target=\"_blank\">https://wandb.ai/christianml/quadtree/sweeps/e22y6790</a><br/>\n",
       "Run page: <a href=\"https://wandb.ai/christianml/quadtree/runs/whasetbj\" target=\"_blank\">https://wandb.ai/christianml/quadtree/runs/whasetbj</a><br/>\n",
       "                Run data is saved locally in <code>/home/bronzi/ProgProjekte/EIPH_WSI/MIDL2021/Registration/WandB/wandb/run-20210126_183731-whasetbj</code><br/><br/>\n",
       "            "
      ],
      "text/plain": [
       "<IPython.core.display.HTML object>"
      ]
     },
     "metadata": {},
     "output_type": "display_data"
    },
    {
     "name": "stderr",
     "output_type": "stream",
     "text": [
      "  0%|          | 0/5 [00:00<?, ?it/s]\n",
      "  0%|          | 0/4 [00:00<?, ?it/s]\u001b[A\n",
      " 25%|██▌       | 1/4 [01:36<04:50, 96.96s/it]\u001b[A\n",
      " 75%|███████▌  | 3/4 [03:04<00:57, 57.59s/it]\u001b[A\n",
      "100%|██████████| 4/4 [03:15<00:00, 48.82s/it]\u001b[A\n",
      " 20%|██        | 1/5 [03:15<13:01, 195.27s/it]\n",
      "  0%|          | 0/4 [00:00<?, ?it/s]\u001b[A\n",
      " 25%|██▌       | 1/4 [00:14<00:44, 14.81s/it]\u001b[A\n",
      " 75%|███████▌  | 3/4 [00:27<00:08,  8.59s/it]\u001b[A\n",
      "100%|██████████| 4/4 [00:34<00:00,  8.61s/it]\u001b[A\n",
      " 40%|████      | 2/5 [03:49<05:02, 100.67s/it]\n",
      "  0%|          | 0/4 [00:00<?, ?it/s]\u001b[A\n",
      " 25%|██▌       | 1/4 [01:34<04:43, 94.55s/it]\u001b[A\n",
      " 75%|███████▌  | 3/4 [02:39<00:48, 48.58s/it]\u001b[A\n",
      "100%|██████████| 4/4 [02:57<00:00, 44.46s/it]\u001b[A\n",
      " 60%|██████    | 3/5 [06:47<04:31, 135.90s/it]\n",
      "  0%|          | 0/4 [00:00<?, ?it/s]\u001b[A\n",
      " 25%|██▌       | 1/4 [00:03<00:11,  3.79s/it]\u001b[A\n",
      " 75%|███████▌  | 3/4 [00:10<00:03,  3.41s/it]\u001b[A\n",
      "100%|██████████| 4/4 [00:12<00:00,  3.17s/it]\u001b[A\n",
      " 80%|████████  | 4/5 [07:00<01:27, 87.27s/it] \n",
      "  0%|          | 0/4 [00:00<?, ?it/s]\u001b[A\n",
      " 25%|██▌       | 1/4 [00:46<02:19, 46.54s/it]\u001b[A\n",
      " 75%|███████▌  | 3/4 [01:31<00:28, 28.89s/it]\u001b[A\n",
      "100%|██████████| 4/4 [01:46<00:00, 26.50s/it]\u001b[A\n",
      "100%|██████████| 5/5 [08:46<00:00, 105.26s/it]\n"
     ]
    },
    {
     "data": {
      "text/html": [
       "<br/>Waiting for W&B process to finish, PID 2029<br/>Program ended successfully."
      ],
      "text/plain": [
       "<IPython.core.display.HTML object>"
      ]
     },
     "metadata": {},
     "output_type": "display_data"
    },
    {
     "data": {
      "application/vnd.jupyter.widget-view+json": {
       "model_id": "",
       "version_major": 2,
       "version_minor": 0
      },
      "text/plain": [
       "VBox(children=(Label(value=' 0.00MB of 0.00MB uploaded (0.00MB deduped)\\r'), FloatProgress(value=1.0, max=1.0)…"
      ]
     },
     "metadata": {},
     "output_type": "display_data"
    },
    {
     "data": {
      "text/html": [
       "Find user logs for this run at: <code>/home/bronzi/ProgProjekte/EIPH_WSI/MIDL2021/Registration/WandB/wandb/run-20210126_183731-whasetbj/logs/debug.log</code>"
      ],
      "text/plain": [
       "<IPython.core.display.HTML object>"
      ]
     },
     "metadata": {},
     "output_type": "display_data"
    },
    {
     "data": {
      "text/html": [
       "Find internal logs for this run at: <code>/home/bronzi/ProgProjekte/EIPH_WSI/MIDL2021/Registration/WandB/wandb/run-20210126_183731-whasetbj/logs/debug-internal.log</code>"
      ],
      "text/plain": [
       "<IPython.core.display.HTML object>"
      ]
     },
     "metadata": {},
     "output_type": "display_data"
    },
    {
     "data": {
      "text/html": [
       "<h3>Run summary:</h3><br/><style>\n",
       "    table.wandb td:nth-child(1) { padding: 0 10px; text-align: right }\n",
       "    </style><table class=\"wandb\">\n",
       "<tr><td>dist_mean_image</td><td>22.72346</td></tr><tr><td>mean_reg_error_image</td><td>501.30506</td></tr><tr><td>step</td><td>14</td></tr><tr><td>_step</td><td>15</td></tr><tr><td>_runtime</td><td>527</td></tr><tr><td>_timestamp</td><td>1611683178</td></tr><tr><td>dist_mean</td><td>10.60703</td></tr><tr><td>dist_min</td><td>0.21072</td></tr><tr><td>dist_max</td><td>74.73855</td></tr><tr><td>mean_reg_error</td><td>485.1011</td></tr></table>"
      ],
      "text/plain": [
       "<IPython.core.display.HTML object>"
      ]
     },
     "metadata": {},
     "output_type": "display_data"
    },
    {
     "data": {
      "text/html": [
       "<h3>Run history:</h3><br/><style>\n",
       "    table.wandb td:nth-child(1) { padding: 0 10px; text-align: right }\n",
       "    </style><table class=\"wandb\">\n",
       "<tr><td>dist_mean_image</td><td>▂▂▂▃▄▃▁▄▂▃█▄▁▁▃</td></tr><tr><td>mean_reg_error_image</td><td>▃▃▅▁▁▃▂▂▁▆▆█▃▃▃</td></tr><tr><td>step</td><td>▁▁▂▃▃▃▄▅▅▅▆▇▇▇█</td></tr><tr><td>_step</td><td>▁▁▂▂▃▃▄▄▅▅▆▆▇▇██</td></tr><tr><td>_runtime</td><td>▁▂▃▃▃▃▅▆▆▆▆▆▇███</td></tr><tr><td>_timestamp</td><td>▁▂▃▃▃▃▅▆▆▆▆▆▇███</td></tr><tr><td>dist_mean</td><td>▁</td></tr><tr><td>dist_min</td><td>▁</td></tr><tr><td>dist_max</td><td>▁</td></tr><tr><td>mean_reg_error</td><td>▁</td></tr></table><br/>"
      ],
      "text/plain": [
       "<IPython.core.display.HTML object>"
      ]
     },
     "metadata": {},
     "output_type": "display_data"
    },
    {
     "data": {
      "text/html": [
       "Synced 5 W&B file(s), 0 media file(s), 0 artifact file(s) and 0 other file(s)"
      ],
      "text/plain": [
       "<IPython.core.display.HTML object>"
      ]
     },
     "metadata": {},
     "output_type": "display_data"
    },
    {
     "data": {
      "text/html": [
       "\n",
       "                    <br/>Synced <strong style=\"color:#cdcd00\">magic-sweep-20</strong>: <a href=\"https://wandb.ai/christianml/quadtree/runs/whasetbj\" target=\"_blank\">https://wandb.ai/christianml/quadtree/runs/whasetbj</a><br/>\n",
       "                "
      ],
      "text/plain": [
       "<IPython.core.display.HTML object>"
      ]
     },
     "metadata": {},
     "output_type": "display_data"
    },
    {
     "name": "stderr",
     "output_type": "stream",
     "text": [
      "\u001b[34m\u001b[1mwandb\u001b[0m: Agent Starting Run: gm473zjc with config:\n",
      "\u001b[34m\u001b[1mwandb\u001b[0m: \tcrossCheck: False\n",
      "\u001b[34m\u001b[1mwandb\u001b[0m: \tfilter_outliner: False\n",
      "\u001b[34m\u001b[1mwandb\u001b[0m: \tflann: False\n",
      "\u001b[34m\u001b[1mwandb\u001b[0m: \thomography: False\n",
      "\u001b[34m\u001b[1mwandb\u001b[0m: \timage_type: Cyto\n",
      "\u001b[34m\u001b[1mwandb\u001b[0m: \tmaxFeatures: 512\n",
      "\u001b[34m\u001b[1mwandb\u001b[0m: \tpoint_extractor: sift\n",
      "\u001b[34m\u001b[1mwandb\u001b[0m: \tratio: 0.4\n",
      "\u001b[34m\u001b[1mwandb\u001b[0m: \tsource_scanner: Aperio\n",
      "\u001b[34m\u001b[1mwandb\u001b[0m: \ttarget_depth: 0\n",
      "\u001b[34m\u001b[1mwandb\u001b[0m: \tthumbnail_size: [4096, 4096]\n",
      "\u001b[34m\u001b[1mwandb\u001b[0m: \tuse_gray: True\n"
     ]
    },
    {
     "data": {
      "text/html": [
       "\n",
       "                Tracking run with wandb version 0.10.15<br/>\n",
       "                Syncing run <strong style=\"color:#cdcd00\">celestial-sweep-23</strong> to <a href=\"https://wandb.ai\" target=\"_blank\">Weights & Biases</a> <a href=\"https://docs.wandb.com/integrations/jupyter.html\" target=\"_blank\">(Documentation)</a>.<br/>\n",
       "                Project page: <a href=\"https://wandb.ai/christianml/quadtree\" target=\"_blank\">https://wandb.ai/christianml/quadtree</a><br/>\n",
       "                Sweep page: <a href=\"https://wandb.ai/christianml/quadtree/sweeps/e22y6790\" target=\"_blank\">https://wandb.ai/christianml/quadtree/sweeps/e22y6790</a><br/>\n",
       "Run page: <a href=\"https://wandb.ai/christianml/quadtree/runs/gm473zjc\" target=\"_blank\">https://wandb.ai/christianml/quadtree/runs/gm473zjc</a><br/>\n",
       "                Run data is saved locally in <code>/home/bronzi/ProgProjekte/EIPH_WSI/MIDL2021/Registration/WandB/wandb/run-20210126_184623-gm473zjc</code><br/><br/>\n",
       "            "
      ],
      "text/plain": [
       "<IPython.core.display.HTML object>"
      ]
     },
     "metadata": {},
     "output_type": "display_data"
    },
    {
     "name": "stderr",
     "output_type": "stream",
     "text": [
      "  0%|          | 0/5 [00:00<?, ?it/s]\n",
      "  0%|          | 0/4 [00:00<?, ?it/s]\u001b[A\n",
      " 25%|██▌       | 1/4 [02:12<06:38, 132.75s/it]\u001b[A\n",
      " 75%|███████▌  | 3/4 [02:57<00:51, 51.17s/it] \u001b[A\n",
      "100%|██████████| 4/4 [03:11<00:00, 47.96s/it]\u001b[A\n",
      " 20%|██        | 1/5 [03:11<12:47, 191.85s/it]\n",
      "  0%|          | 0/4 [00:00<?, ?it/s]\u001b[A\n",
      " 25%|██▌       | 1/4 [01:17<03:51, 77.21s/it]\u001b[A\n",
      " 75%|███████▌  | 3/4 [01:48<00:31, 31.49s/it]\u001b[A\n",
      "100%|██████████| 4/4 [02:10<00:00, 32.54s/it]\u001b[A\n",
      " 40%|████      | 2/5 [05:22<07:46, 155.56s/it]\n",
      "  0%|          | 0/4 [00:00<?, ?it/s]\u001b[A\n",
      " 25%|██▌       | 1/4 [07:02<21:08, 422.94s/it]\u001b[A\n",
      " 75%|███████▌  | 3/4 [08:04<02:12, 132.60s/it]\u001b[A\n",
      "100%|██████████| 4/4 [08:24<00:00, 126.09s/it]\u001b[A\n",
      " 60%|██████    | 3/5 [13:46<10:29, 314.84s/it]\n",
      "  0%|          | 0/4 [00:00<?, ?it/s]\u001b[A\n",
      " 25%|██▌       | 1/4 [00:19<00:57, 19.06s/it]\u001b[A\n",
      " 75%|███████▌  | 3/4 [00:35<00:10, 10.99s/it]\u001b[A\n",
      "100%|██████████| 4/4 [00:49<00:00, 12.26s/it]\u001b[A\n",
      " 80%|████████  | 4/5 [14:35<03:29, 209.91s/it]\n",
      "  0%|          | 0/4 [00:00<?, ?it/s]\u001b[A\n",
      " 25%|██▌       | 1/4 [02:01<06:04, 121.56s/it]\u001b[A\n",
      " 75%|███████▌  | 3/4 [02:24<00:39, 39.86s/it] \u001b[A\n",
      "100%|██████████| 4/4 [02:39<00:00, 39.76s/it]\u001b[A\n",
      "100%|██████████| 5/5 [17:14<00:00, 206.90s/it]\n"
     ]
    },
    {
     "data": {
      "text/html": [
       "<br/>Waiting for W&B process to finish, PID 4278<br/>Program ended successfully."
      ],
      "text/plain": [
       "<IPython.core.display.HTML object>"
      ]
     },
     "metadata": {},
     "output_type": "display_data"
    },
    {
     "data": {
      "application/vnd.jupyter.widget-view+json": {
       "model_id": "",
       "version_major": 2,
       "version_minor": 0
      },
      "text/plain": [
       "VBox(children=(Label(value=' 0.00MB of 0.00MB uploaded (0.00MB deduped)\\r'), FloatProgress(value=1.0, max=1.0)…"
      ]
     },
     "metadata": {},
     "output_type": "display_data"
    },
    {
     "data": {
      "text/html": [
       "Find user logs for this run at: <code>/home/bronzi/ProgProjekte/EIPH_WSI/MIDL2021/Registration/WandB/wandb/run-20210126_184623-gm473zjc/logs/debug.log</code>"
      ],
      "text/plain": [
       "<IPython.core.display.HTML object>"
      ]
     },
     "metadata": {},
     "output_type": "display_data"
    },
    {
     "data": {
      "text/html": [
       "Find internal logs for this run at: <code>/home/bronzi/ProgProjekte/EIPH_WSI/MIDL2021/Registration/WandB/wandb/run-20210126_184623-gm473zjc/logs/debug-internal.log</code>"
      ],
      "text/plain": [
       "<IPython.core.display.HTML object>"
      ]
     },
     "metadata": {},
     "output_type": "display_data"
    },
    {
     "data": {
      "text/html": [
       "<h3>Run summary:</h3><br/><style>\n",
       "    table.wandb td:nth-child(1) { padding: 0 10px; text-align: right }\n",
       "    </style><table class=\"wandb\">\n",
       "<tr><td>dist_mean_image</td><td>11.30399</td></tr><tr><td>mean_reg_error_image</td><td>3.9866</td></tr><tr><td>step</td><td>14</td></tr><tr><td>_step</td><td>15</td></tr><tr><td>_runtime</td><td>1035</td></tr><tr><td>_timestamp</td><td>1611684218</td></tr><tr><td>dist_mean</td><td>7.99905</td></tr><tr><td>dist_min</td><td>0.20771</td></tr><tr><td>dist_max</td><td>62.26235</td></tr><tr><td>mean_reg_error</td><td>73.31564</td></tr></table>"
      ],
      "text/plain": [
       "<IPython.core.display.HTML object>"
      ]
     },
     "metadata": {},
     "output_type": "display_data"
    },
    {
     "data": {
      "text/html": [
       "<h3>Run history:</h3><br/><style>\n",
       "    table.wandb td:nth-child(1) { padding: 0 10px; text-align: right }\n",
       "    </style><table class=\"wandb\">\n",
       "<tr><td>dist_mean_image</td><td>▂▂▂▂▅▃▁▂▂▄█▅▂▁▂</td></tr><tr><td>mean_reg_error_image</td><td>▅▃▁▂▁▁▅▃▁▃▁▁█▁▁</td></tr><tr><td>step</td><td>▁▁▂▃▃▃▄▅▅▅▆▇▇▇█</td></tr><tr><td>_step</td><td>▁▁▂▂▃▃▄▄▅▅▆▆▇▇██</td></tr><tr><td>_runtime</td><td>▁▁▁▂▂▂▆▆▆▇▇▇████</td></tr><tr><td>_timestamp</td><td>▁▁▁▂▂▂▆▆▆▇▇▇████</td></tr><tr><td>dist_mean</td><td>▁</td></tr><tr><td>dist_min</td><td>▁</td></tr><tr><td>dist_max</td><td>▁</td></tr><tr><td>mean_reg_error</td><td>▁</td></tr></table><br/>"
      ],
      "text/plain": [
       "<IPython.core.display.HTML object>"
      ]
     },
     "metadata": {},
     "output_type": "display_data"
    },
    {
     "data": {
      "text/html": [
       "Synced 5 W&B file(s), 0 media file(s), 0 artifact file(s) and 0 other file(s)"
      ],
      "text/plain": [
       "<IPython.core.display.HTML object>"
      ]
     },
     "metadata": {},
     "output_type": "display_data"
    },
    {
     "data": {
      "text/html": [
       "\n",
       "                    <br/>Synced <strong style=\"color:#cdcd00\">celestial-sweep-23</strong>: <a href=\"https://wandb.ai/christianml/quadtree/runs/gm473zjc\" target=\"_blank\">https://wandb.ai/christianml/quadtree/runs/gm473zjc</a><br/>\n",
       "                "
      ],
      "text/plain": [
       "<IPython.core.display.HTML object>"
      ]
     },
     "metadata": {},
     "output_type": "display_data"
    },
    {
     "name": "stderr",
     "output_type": "stream",
     "text": [
      "\u001b[34m\u001b[1mwandb\u001b[0m: Agent Starting Run: ta4qtee0 with config:\n",
      "\u001b[34m\u001b[1mwandb\u001b[0m: \tcrossCheck: False\n",
      "\u001b[34m\u001b[1mwandb\u001b[0m: \tfilter_outliner: False\n",
      "\u001b[34m\u001b[1mwandb\u001b[0m: \tflann: False\n",
      "\u001b[34m\u001b[1mwandb\u001b[0m: \thomography: True\n",
      "\u001b[34m\u001b[1mwandb\u001b[0m: \timage_type: Cyto\n",
      "\u001b[34m\u001b[1mwandb\u001b[0m: \tmaxFeatures: 1024\n",
      "\u001b[34m\u001b[1mwandb\u001b[0m: \tpoint_extractor: sift\n",
      "\u001b[34m\u001b[1mwandb\u001b[0m: \tratio: 0.5\n",
      "\u001b[34m\u001b[1mwandb\u001b[0m: \tsource_scanner: Aperio\n",
      "\u001b[34m\u001b[1mwandb\u001b[0m: \ttarget_depth: 0\n",
      "\u001b[34m\u001b[1mwandb\u001b[0m: \tthumbnail_size: [1024, 1024]\n",
      "\u001b[34m\u001b[1mwandb\u001b[0m: \tuse_gray: False\n"
     ]
    },
    {
     "data": {
      "text/html": [
       "\n",
       "                Tracking run with wandb version 0.10.15<br/>\n",
       "                Syncing run <strong style=\"color:#cdcd00\">winter-sweep-24</strong> to <a href=\"https://wandb.ai\" target=\"_blank\">Weights & Biases</a> <a href=\"https://docs.wandb.com/integrations/jupyter.html\" target=\"_blank\">(Documentation)</a>.<br/>\n",
       "                Project page: <a href=\"https://wandb.ai/christianml/quadtree\" target=\"_blank\">https://wandb.ai/christianml/quadtree</a><br/>\n",
       "                Sweep page: <a href=\"https://wandb.ai/christianml/quadtree/sweeps/e22y6790\" target=\"_blank\">https://wandb.ai/christianml/quadtree/sweeps/e22y6790</a><br/>\n",
       "Run page: <a href=\"https://wandb.ai/christianml/quadtree/runs/ta4qtee0\" target=\"_blank\">https://wandb.ai/christianml/quadtree/runs/ta4qtee0</a><br/>\n",
       "                Run data is saved locally in <code>/home/bronzi/ProgProjekte/EIPH_WSI/MIDL2021/Registration/WandB/wandb/run-20210126_190342-ta4qtee0</code><br/><br/>\n",
       "            "
      ],
      "text/plain": [
       "<IPython.core.display.HTML object>"
      ]
     },
     "metadata": {},
     "output_type": "display_data"
    },
    {
     "name": "stderr",
     "output_type": "stream",
     "text": [
      "  0%|          | 0/5 [00:00<?, ?it/s]\n",
      "  0%|          | 0/4 [00:00<?, ?it/s]\u001b[A\n",
      " 25%|██▌       | 1/4 [00:00<00:01,  1.58it/s]\u001b[A\n",
      " 75%|███████▌  | 3/4 [00:01<00:00,  1.52it/s]\u001b[A\n",
      "100%|██████████| 4/4 [00:02<00:00,  1.56it/s]\u001b[A\n",
      " 20%|██        | 1/5 [00:02<00:10,  2.56s/it]\n",
      "  0%|          | 0/4 [00:00<?, ?it/s]\u001b[A\n",
      " 25%|██▌       | 1/4 [00:00<00:02,  1.38it/s]\u001b[A\n",
      " 75%|███████▌  | 3/4 [00:02<00:00,  1.43it/s]\u001b[A\n",
      "100%|██████████| 4/4 [00:02<00:00,  1.49it/s]\u001b[A\n",
      " 40%|████      | 2/5 [00:05<00:07,  2.64s/it]\n",
      "  0%|          | 0/4 [00:00<?, ?it/s]\u001b[A\n",
      " 25%|██▌       | 1/4 [00:00<00:01,  1.64it/s]\u001b[A\n",
      " 75%|███████▌  | 3/4 [00:02<00:00,  1.31it/s]\u001b[A\n",
      "100%|██████████| 4/4 [00:02<00:00,  1.39it/s]\u001b[A\n",
      " 60%|██████    | 3/5 [00:08<00:05,  2.75s/it]\n",
      "  0%|          | 0/4 [00:00<?, ?it/s]\u001b[A\n",
      " 25%|██▌       | 1/4 [00:00<00:02,  1.32it/s]\u001b[A\n",
      " 75%|███████▌  | 3/4 [00:02<00:00,  1.38it/s]\u001b[A\n",
      "100%|██████████| 4/4 [00:02<00:00,  1.44it/s]\u001b[A\n",
      " 80%|████████  | 4/5 [00:10<00:02,  2.76s/it]\n",
      "  0%|          | 0/4 [00:00<?, ?it/s]\u001b[A\n",
      " 25%|██▌       | 1/4 [00:00<00:01,  1.66it/s]\u001b[A\n",
      " 75%|███████▌  | 3/4 [00:01<00:00,  1.51it/s]\u001b[A\n",
      "100%|██████████| 4/4 [00:02<00:00,  1.48it/s]\u001b[A\n",
      "100%|██████████| 5/5 [00:13<00:00,  2.73s/it]\n"
     ]
    },
    {
     "data": {
      "text/html": [
       "<br/>Waiting for W&B process to finish, PID 6281<br/>Program ended successfully."
      ],
      "text/plain": [
       "<IPython.core.display.HTML object>"
      ]
     },
     "metadata": {},
     "output_type": "display_data"
    },
    {
     "data": {
      "application/vnd.jupyter.widget-view+json": {
       "model_id": "",
       "version_major": 2,
       "version_minor": 0
      },
      "text/plain": [
       "VBox(children=(Label(value=' 0.00MB of 0.00MB uploaded (0.00MB deduped)\\r'), FloatProgress(value=1.0, max=1.0)…"
      ]
     },
     "metadata": {},
     "output_type": "display_data"
    },
    {
     "data": {
      "text/html": [
       "Find user logs for this run at: <code>/home/bronzi/ProgProjekte/EIPH_WSI/MIDL2021/Registration/WandB/wandb/run-20210126_190342-ta4qtee0/logs/debug.log</code>"
      ],
      "text/plain": [
       "<IPython.core.display.HTML object>"
      ]
     },
     "metadata": {},
     "output_type": "display_data"
    },
    {
     "data": {
      "text/html": [
       "Find internal logs for this run at: <code>/home/bronzi/ProgProjekte/EIPH_WSI/MIDL2021/Registration/WandB/wandb/run-20210126_190342-ta4qtee0/logs/debug-internal.log</code>"
      ],
      "text/plain": [
       "<IPython.core.display.HTML object>"
      ]
     },
     "metadata": {},
     "output_type": "display_data"
    },
    {
     "data": {
      "text/html": [
       "<h3>Run summary:</h3><br/><style>\n",
       "    table.wandb td:nth-child(1) { padding: 0 10px; text-align: right }\n",
       "    </style><table class=\"wandb\">\n",
       "<tr><td>dist_mean_image</td><td>36.2811</td></tr><tr><td>mean_reg_error_image</td><td>9.99412</td></tr><tr><td>step</td><td>14</td></tr><tr><td>_step</td><td>15</td></tr><tr><td>_runtime</td><td>15</td></tr><tr><td>_timestamp</td><td>1611684237</td></tr><tr><td>dist_mean</td><td>18.40989</td></tr><tr><td>dist_min</td><td>0.46831</td></tr><tr><td>dist_max</td><td>96.70676</td></tr><tr><td>mean_reg_error</td><td>14.58839</td></tr></table>"
      ],
      "text/plain": [
       "<IPython.core.display.HTML object>"
      ]
     },
     "metadata": {},
     "output_type": "display_data"
    },
    {
     "data": {
      "text/html": [
       "<h3>Run history:</h3><br/><style>\n",
       "    table.wandb td:nth-child(1) { padding: 0 10px; text-align: right }\n",
       "    </style><table class=\"wandb\">\n",
       "<tr><td>dist_mean_image</td><td>▁▂▇▂▃▂▁▂▄▂█▄▂▂▃</td></tr><tr><td>mean_reg_error_image</td><td>▁▁█▁▁▂▂▁▆▁▃▂▁▁▂</td></tr><tr><td>step</td><td>▁▁▂▃▃▃▄▅▅▅▆▇▇▇█</td></tr><tr><td>_step</td><td>▁▁▂▂▃▃▄▄▅▅▆▆▇▇██</td></tr><tr><td>_runtime</td><td>▁▂▂▂▃▃▄▅▅▅▆▆▇▇██</td></tr><tr><td>_timestamp</td><td>▁▂▂▂▃▃▄▅▅▅▆▆▇▇██</td></tr><tr><td>dist_mean</td><td>▁</td></tr><tr><td>dist_min</td><td>▁</td></tr><tr><td>dist_max</td><td>▁</td></tr><tr><td>mean_reg_error</td><td>▁</td></tr></table><br/>"
      ],
      "text/plain": [
       "<IPython.core.display.HTML object>"
      ]
     },
     "metadata": {},
     "output_type": "display_data"
    },
    {
     "data": {
      "text/html": [
       "Synced 5 W&B file(s), 0 media file(s), 0 artifact file(s) and 0 other file(s)"
      ],
      "text/plain": [
       "<IPython.core.display.HTML object>"
      ]
     },
     "metadata": {},
     "output_type": "display_data"
    },
    {
     "data": {
      "text/html": [
       "\n",
       "                    <br/>Synced <strong style=\"color:#cdcd00\">winter-sweep-24</strong>: <a href=\"https://wandb.ai/christianml/quadtree/runs/ta4qtee0\" target=\"_blank\">https://wandb.ai/christianml/quadtree/runs/ta4qtee0</a><br/>\n",
       "                "
      ],
      "text/plain": [
       "<IPython.core.display.HTML object>"
      ]
     },
     "metadata": {},
     "output_type": "display_data"
    },
    {
     "name": "stderr",
     "output_type": "stream",
     "text": [
      "\u001b[34m\u001b[1mwandb\u001b[0m: Agent Starting Run: 36em7sle with config:\n",
      "\u001b[34m\u001b[1mwandb\u001b[0m: \tcrossCheck: False\n",
      "\u001b[34m\u001b[1mwandb\u001b[0m: \tfilter_outliner: False\n",
      "\u001b[34m\u001b[1mwandb\u001b[0m: \tflann: True\n",
      "\u001b[34m\u001b[1mwandb\u001b[0m: \thomography: True\n",
      "\u001b[34m\u001b[1mwandb\u001b[0m: \timage_type: Cyto\n",
      "\u001b[34m\u001b[1mwandb\u001b[0m: \tmaxFeatures: 512\n",
      "\u001b[34m\u001b[1mwandb\u001b[0m: \tpoint_extractor: sift\n",
      "\u001b[34m\u001b[1mwandb\u001b[0m: \tratio: 0.8\n",
      "\u001b[34m\u001b[1mwandb\u001b[0m: \tsource_scanner: Aperio\n",
      "\u001b[34m\u001b[1mwandb\u001b[0m: \ttarget_depth: 0\n",
      "\u001b[34m\u001b[1mwandb\u001b[0m: \tthumbnail_size: [1024, 1024]\n",
      "\u001b[34m\u001b[1mwandb\u001b[0m: \tuse_gray: True\n"
     ]
    },
    {
     "data": {
      "text/html": [
       "\n",
       "                Tracking run with wandb version 0.10.15<br/>\n",
       "                Syncing run <strong style=\"color:#cdcd00\">eager-sweep-25</strong> to <a href=\"https://wandb.ai\" target=\"_blank\">Weights & Biases</a> <a href=\"https://docs.wandb.com/integrations/jupyter.html\" target=\"_blank\">(Documentation)</a>.<br/>\n",
       "                Project page: <a href=\"https://wandb.ai/christianml/quadtree\" target=\"_blank\">https://wandb.ai/christianml/quadtree</a><br/>\n",
       "                Sweep page: <a href=\"https://wandb.ai/christianml/quadtree/sweeps/e22y6790\" target=\"_blank\">https://wandb.ai/christianml/quadtree/sweeps/e22y6790</a><br/>\n",
       "Run page: <a href=\"https://wandb.ai/christianml/quadtree/runs/36em7sle\" target=\"_blank\">https://wandb.ai/christianml/quadtree/runs/36em7sle</a><br/>\n",
       "                Run data is saved locally in <code>/home/bronzi/ProgProjekte/EIPH_WSI/MIDL2021/Registration/WandB/wandb/run-20210126_190401-36em7sle</code><br/><br/>\n",
       "            "
      ],
      "text/plain": [
       "<IPython.core.display.HTML object>"
      ]
     },
     "metadata": {},
     "output_type": "display_data"
    },
    {
     "name": "stderr",
     "output_type": "stream",
     "text": [
      "  0%|          | 0/5 [00:00<?, ?it/s]\n",
      "  0%|          | 0/4 [00:00<?, ?it/s]\u001b[A\n",
      " 25%|██▌       | 1/4 [00:00<00:01,  1.64it/s]\u001b[A\n",
      " 75%|███████▌  | 3/4 [00:01<00:00,  1.60it/s]\u001b[A\n",
      "100%|██████████| 4/4 [00:02<00:00,  1.62it/s]\u001b[A\n",
      " 20%|██        | 1/5 [00:02<00:09,  2.48s/it]\n",
      "  0%|          | 0/4 [00:00<?, ?it/s]\u001b[A\n",
      " 25%|██▌       | 1/4 [00:00<00:01,  1.63it/s]\u001b[A\n",
      " 75%|███████▌  | 3/4 [00:01<00:00,  1.58it/s]\u001b[A\n",
      "100%|██████████| 4/4 [00:02<00:00,  1.52it/s]\u001b[A\n",
      " 40%|████      | 2/5 [00:05<00:07,  2.57s/it]\n",
      "  0%|          | 0/4 [00:00<?, ?it/s]\u001b[A\n",
      " 25%|██▌       | 1/4 [00:00<00:01,  1.59it/s]\u001b[A\n",
      " 75%|███████▌  | 3/4 [00:02<00:00,  1.30it/s]\u001b[A\n",
      "100%|██████████| 4/4 [00:02<00:00,  1.36it/s]\u001b[A\n",
      " 60%|██████    | 3/5 [00:08<00:05,  2.74s/it]\n",
      "  0%|          | 0/4 [00:00<?, ?it/s]\u001b[A\n",
      " 25%|██▌       | 1/4 [00:00<00:01,  1.55it/s]\u001b[A\n",
      " 75%|███████▌  | 3/4 [00:02<00:00,  1.33it/s]\u001b[A\n",
      "100%|██████████| 4/4 [00:02<00:00,  1.41it/s]\u001b[A\n",
      " 80%|████████  | 4/5 [00:10<00:02,  2.78s/it]\n",
      "  0%|          | 0/4 [00:00<?, ?it/s]\u001b[A\n",
      " 25%|██▌       | 1/4 [00:00<00:01,  1.60it/s]\u001b[A\n",
      " 75%|███████▌  | 3/4 [00:01<00:00,  1.58it/s]\u001b[A\n",
      "100%|██████████| 4/4 [00:02<00:00,  1.58it/s]\u001b[A\n",
      "100%|██████████| 5/5 [00:13<00:00,  2.68s/it]\n"
     ]
    },
    {
     "data": {
      "text/html": [
       "<br/>Waiting for W&B process to finish, PID 6361<br/>Program ended successfully."
      ],
      "text/plain": [
       "<IPython.core.display.HTML object>"
      ]
     },
     "metadata": {},
     "output_type": "display_data"
    },
    {
     "data": {
      "application/vnd.jupyter.widget-view+json": {
       "model_id": "",
       "version_major": 2,
       "version_minor": 0
      },
      "text/plain": [
       "VBox(children=(Label(value=' 0.00MB of 0.00MB uploaded (0.00MB deduped)\\r'), FloatProgress(value=1.0, max=1.0)…"
      ]
     },
     "metadata": {},
     "output_type": "display_data"
    },
    {
     "data": {
      "text/html": [
       "Find user logs for this run at: <code>/home/bronzi/ProgProjekte/EIPH_WSI/MIDL2021/Registration/WandB/wandb/run-20210126_190401-36em7sle/logs/debug.log</code>"
      ],
      "text/plain": [
       "<IPython.core.display.HTML object>"
      ]
     },
     "metadata": {},
     "output_type": "display_data"
    },
    {
     "data": {
      "text/html": [
       "Find internal logs for this run at: <code>/home/bronzi/ProgProjekte/EIPH_WSI/MIDL2021/Registration/WandB/wandb/run-20210126_190401-36em7sle/logs/debug-internal.log</code>"
      ],
      "text/plain": [
       "<IPython.core.display.HTML object>"
      ]
     },
     "metadata": {},
     "output_type": "display_data"
    },
    {
     "data": {
      "text/html": [
       "<h3>Run summary:</h3><br/><style>\n",
       "    table.wandb td:nth-child(1) { padding: 0 10px; text-align: right }\n",
       "    </style><table class=\"wandb\">\n",
       "<tr><td>dist_mean_image</td><td>43.82565</td></tr><tr><td>mean_reg_error_image</td><td>2941.87749</td></tr><tr><td>step</td><td>14</td></tr><tr><td>_step</td><td>15</td></tr><tr><td>_runtime</td><td>14</td></tr><tr><td>_timestamp</td><td>1611684255</td></tr><tr><td>dist_mean</td><td>17.09311</td></tr><tr><td>dist_min</td><td>0.92564</td></tr><tr><td>dist_max</td><td>114.17617</td></tr><tr><td>mean_reg_error</td><td>1678.79189</td></tr></table>"
      ],
      "text/plain": [
       "<IPython.core.display.HTML object>"
      ]
     },
     "metadata": {},
     "output_type": "display_data"
    },
    {
     "data": {
      "text/html": [
       "<h3>Run history:</h3><br/><style>\n",
       "    table.wandb td:nth-child(1) { padding: 0 10px; text-align: right }\n",
       "    </style><table class=\"wandb\">\n",
       "<tr><td>dist_mean_image</td><td>▁▂█▁▂▂▁▁▂▂▅▄▂▂▃</td></tr><tr><td>mean_reg_error_image</td><td>▂▂█▁▁▂▁▂▂▄▄▆▂▂▅</td></tr><tr><td>step</td><td>▁▁▂▃▃▃▄▅▅▅▆▇▇▇█</td></tr><tr><td>_step</td><td>▁▁▂▂▃▃▄▄▅▅▆▆▇▇██</td></tr><tr><td>_runtime</td><td>▁▂▂▃▃▄▄▅▅▅▆▇▇▇██</td></tr><tr><td>_timestamp</td><td>▁▂▂▃▃▄▄▅▅▅▆▇▇▇██</td></tr><tr><td>dist_mean</td><td>▁</td></tr><tr><td>dist_min</td><td>▁</td></tr><tr><td>dist_max</td><td>▁</td></tr><tr><td>mean_reg_error</td><td>▁</td></tr></table><br/>"
      ],
      "text/plain": [
       "<IPython.core.display.HTML object>"
      ]
     },
     "metadata": {},
     "output_type": "display_data"
    },
    {
     "data": {
      "text/html": [
       "Synced 5 W&B file(s), 0 media file(s), 0 artifact file(s) and 0 other file(s)"
      ],
      "text/plain": [
       "<IPython.core.display.HTML object>"
      ]
     },
     "metadata": {},
     "output_type": "display_data"
    },
    {
     "data": {
      "text/html": [
       "\n",
       "                    <br/>Synced <strong style=\"color:#cdcd00\">eager-sweep-25</strong>: <a href=\"https://wandb.ai/christianml/quadtree/runs/36em7sle\" target=\"_blank\">https://wandb.ai/christianml/quadtree/runs/36em7sle</a><br/>\n",
       "                "
      ],
      "text/plain": [
       "<IPython.core.display.HTML object>"
      ]
     },
     "metadata": {},
     "output_type": "display_data"
    },
    {
     "name": "stderr",
     "output_type": "stream",
     "text": [
      "\u001b[34m\u001b[1mwandb\u001b[0m: Agent Starting Run: mmuy8kw4 with config:\n",
      "\u001b[34m\u001b[1mwandb\u001b[0m: \tcrossCheck: False\n",
      "\u001b[34m\u001b[1mwandb\u001b[0m: \tfilter_outliner: False\n",
      "\u001b[34m\u001b[1mwandb\u001b[0m: \tflann: True\n",
      "\u001b[34m\u001b[1mwandb\u001b[0m: \thomography: True\n",
      "\u001b[34m\u001b[1mwandb\u001b[0m: \timage_type: Cyto\n",
      "\u001b[34m\u001b[1mwandb\u001b[0m: \tmaxFeatures: 1024\n",
      "\u001b[34m\u001b[1mwandb\u001b[0m: \tpoint_extractor: sift\n",
      "\u001b[34m\u001b[1mwandb\u001b[0m: \tratio: 0.7\n",
      "\u001b[34m\u001b[1mwandb\u001b[0m: \tsource_scanner: Aperio\n",
      "\u001b[34m\u001b[1mwandb\u001b[0m: \ttarget_depth: 0\n",
      "\u001b[34m\u001b[1mwandb\u001b[0m: \tthumbnail_size: [2048, 2048]\n",
      "\u001b[34m\u001b[1mwandb\u001b[0m: \tuse_gray: True\n"
     ]
    },
    {
     "data": {
      "text/html": [
       "\n",
       "                Tracking run with wandb version 0.10.15<br/>\n",
       "                Syncing run <strong style=\"color:#cdcd00\">treasured-sweep-26</strong> to <a href=\"https://wandb.ai\" target=\"_blank\">Weights & Biases</a> <a href=\"https://docs.wandb.com/integrations/jupyter.html\" target=\"_blank\">(Documentation)</a>.<br/>\n",
       "                Project page: <a href=\"https://wandb.ai/christianml/quadtree\" target=\"_blank\">https://wandb.ai/christianml/quadtree</a><br/>\n",
       "                Sweep page: <a href=\"https://wandb.ai/christianml/quadtree/sweeps/e22y6790\" target=\"_blank\">https://wandb.ai/christianml/quadtree/sweeps/e22y6790</a><br/>\n",
       "Run page: <a href=\"https://wandb.ai/christianml/quadtree/runs/mmuy8kw4\" target=\"_blank\">https://wandb.ai/christianml/quadtree/runs/mmuy8kw4</a><br/>\n",
       "                Run data is saved locally in <code>/home/bronzi/ProgProjekte/EIPH_WSI/MIDL2021/Registration/WandB/wandb/run-20210126_190419-mmuy8kw4</code><br/><br/>\n",
       "            "
      ],
      "text/plain": [
       "<IPython.core.display.HTML object>"
      ]
     },
     "metadata": {},
     "output_type": "display_data"
    },
    {
     "name": "stderr",
     "output_type": "stream",
     "text": [
      "  0%|          | 0/5 [00:00<?, ?it/s]\n",
      "  0%|          | 0/4 [00:00<?, ?it/s]\u001b[A\n",
      " 25%|██▌       | 1/4 [00:08<00:25,  8.38s/it]\u001b[A\n",
      " 75%|███████▌  | 3/4 [00:16<00:05,  5.29s/it]\u001b[A\n",
      "100%|██████████| 4/4 [00:24<00:00,  6.03s/it]\u001b[A\n",
      " 20%|██        | 1/5 [00:24<01:36, 24.12s/it]\n",
      "  0%|          | 0/4 [00:00<?, ?it/s]\u001b[A\n",
      " 25%|██▌       | 1/4 [00:01<00:04,  1.65s/it]\u001b[A\n",
      " 75%|███████▌  | 3/4 [00:03<00:01,  1.26s/it]\u001b[A\n",
      "100%|██████████| 4/4 [00:05<00:00,  1.35s/it]\u001b[A\n",
      " 40%|████      | 2/5 [00:29<00:39, 13.10s/it]\n",
      "  0%|          | 0/4 [00:00<?, ?it/s]\u001b[A\n",
      " 25%|██▌       | 1/4 [00:08<00:24,  8.10s/it]\u001b[A\n",
      " 75%|███████▌  | 3/4 [00:17<00:05,  5.43s/it]\u001b[A\n",
      "100%|██████████| 4/4 [00:26<00:00,  6.57s/it]\u001b[A\n",
      " 60%|██████    | 3/5 [00:55<00:38, 19.12s/it]\n",
      "  0%|          | 0/4 [00:00<?, ?it/s]\u001b[A\n",
      " 25%|██▌       | 1/4 [00:01<00:04,  1.62s/it]\u001b[A\n",
      " 75%|███████▌  | 3/4 [00:04<00:01,  1.34s/it]\u001b[A\n",
      "100%|██████████| 4/4 [00:05<00:00,  1.42s/it]\u001b[A\n",
      " 80%|████████  | 4/5 [01:01<00:13, 13.82s/it]\n",
      "  0%|          | 0/4 [00:00<?, ?it/s]\u001b[A\n",
      " 25%|██▌       | 1/4 [00:08<00:24,  8.15s/it]\u001b[A\n",
      " 75%|███████▌  | 3/4 [00:17<00:05,  5.49s/it]\u001b[A\n",
      "100%|██████████| 4/4 [00:25<00:00,  6.41s/it]\u001b[A\n",
      "100%|██████████| 5/5 [01:27<00:00, 17.43s/it]\n"
     ]
    },
    {
     "data": {
      "text/html": [
       "<br/>Waiting for W&B process to finish, PID 6443<br/>Program ended successfully."
      ],
      "text/plain": [
       "<IPython.core.display.HTML object>"
      ]
     },
     "metadata": {},
     "output_type": "display_data"
    },
    {
     "data": {
      "application/vnd.jupyter.widget-view+json": {
       "model_id": "",
       "version_major": 2,
       "version_minor": 0
      },
      "text/plain": [
       "VBox(children=(Label(value=' 0.00MB of 0.00MB uploaded (0.00MB deduped)\\r'), FloatProgress(value=1.0, max=1.0)…"
      ]
     },
     "metadata": {},
     "output_type": "display_data"
    },
    {
     "data": {
      "text/html": [
       "Find user logs for this run at: <code>/home/bronzi/ProgProjekte/EIPH_WSI/MIDL2021/Registration/WandB/wandb/run-20210126_190419-mmuy8kw4/logs/debug.log</code>"
      ],
      "text/plain": [
       "<IPython.core.display.HTML object>"
      ]
     },
     "metadata": {},
     "output_type": "display_data"
    },
    {
     "data": {
      "text/html": [
       "Find internal logs for this run at: <code>/home/bronzi/ProgProjekte/EIPH_WSI/MIDL2021/Registration/WandB/wandb/run-20210126_190419-mmuy8kw4/logs/debug-internal.log</code>"
      ],
      "text/plain": [
       "<IPython.core.display.HTML object>"
      ]
     },
     "metadata": {},
     "output_type": "display_data"
    },
    {
     "data": {
      "text/html": [
       "<h3>Run summary:</h3><br/><style>\n",
       "    table.wandb td:nth-child(1) { padding: 0 10px; text-align: right }\n",
       "    </style><table class=\"wandb\">\n",
       "<tr><td>dist_mean_image</td><td>20.66578</td></tr><tr><td>mean_reg_error_image</td><td>664.57322</td></tr><tr><td>step</td><td>14</td></tr><tr><td>_step</td><td>15</td></tr><tr><td>_runtime</td><td>88</td></tr><tr><td>_timestamp</td><td>1611684347</td></tr><tr><td>dist_mean</td><td>9.9185</td></tr><tr><td>dist_min</td><td>0.20727</td></tr><tr><td>dist_max</td><td>73.39405</td></tr><tr><td>mean_reg_error</td><td>526.19908</td></tr></table>"
      ],
      "text/plain": [
       "<IPython.core.display.HTML object>"
      ]
     },
     "metadata": {},
     "output_type": "display_data"
    },
    {
     "data": {
      "text/html": [
       "<h3>Run history:</h3><br/><style>\n",
       "    table.wandb td:nth-child(1) { padding: 0 10px; text-align: right }\n",
       "    </style><table class=\"wandb\">\n",
       "<tr><td>dist_mean_image</td><td>▂▂▁▂▄▃▁▂▂▃█▄▂▁▂</td></tr><tr><td>mean_reg_error_image</td><td>▁▁▄▁▂▃▁▁▁▅▃█▁▂▃</td></tr><tr><td>step</td><td>▁▁▂▃▃▃▄▅▅▅▆▇▇▇█</td></tr><tr><td>_step</td><td>▁▁▂▂▃▃▄▄▅▅▆▆▇▇██</td></tr><tr><td>_runtime</td><td>▁▂▂▃▃▃▄▄▅▅▆▆▆▇██</td></tr><tr><td>_timestamp</td><td>▁▂▂▃▃▃▄▄▅▅▆▆▆▇██</td></tr><tr><td>dist_mean</td><td>▁</td></tr><tr><td>dist_min</td><td>▁</td></tr><tr><td>dist_max</td><td>▁</td></tr><tr><td>mean_reg_error</td><td>▁</td></tr></table><br/>"
      ],
      "text/plain": [
       "<IPython.core.display.HTML object>"
      ]
     },
     "metadata": {},
     "output_type": "display_data"
    },
    {
     "data": {
      "text/html": [
       "Synced 5 W&B file(s), 0 media file(s), 0 artifact file(s) and 0 other file(s)"
      ],
      "text/plain": [
       "<IPython.core.display.HTML object>"
      ]
     },
     "metadata": {},
     "output_type": "display_data"
    },
    {
     "data": {
      "text/html": [
       "\n",
       "                    <br/>Synced <strong style=\"color:#cdcd00\">treasured-sweep-26</strong>: <a href=\"https://wandb.ai/christianml/quadtree/runs/mmuy8kw4\" target=\"_blank\">https://wandb.ai/christianml/quadtree/runs/mmuy8kw4</a><br/>\n",
       "                "
      ],
      "text/plain": [
       "<IPython.core.display.HTML object>"
      ]
     },
     "metadata": {},
     "output_type": "display_data"
    },
    {
     "name": "stderr",
     "output_type": "stream",
     "text": [
      "\u001b[34m\u001b[1mwandb\u001b[0m: Agent Starting Run: vqw92ltq with config:\n",
      "\u001b[34m\u001b[1mwandb\u001b[0m: \tcrossCheck: False\n",
      "\u001b[34m\u001b[1mwandb\u001b[0m: \tfilter_outliner: False\n",
      "\u001b[34m\u001b[1mwandb\u001b[0m: \tflann: True\n",
      "\u001b[34m\u001b[1mwandb\u001b[0m: \thomography: True\n",
      "\u001b[34m\u001b[1mwandb\u001b[0m: \timage_type: Cyto\n",
      "\u001b[34m\u001b[1mwandb\u001b[0m: \tmaxFeatures: 256\n",
      "\u001b[34m\u001b[1mwandb\u001b[0m: \tpoint_extractor: sift\n",
      "\u001b[34m\u001b[1mwandb\u001b[0m: \tratio: 0.8\n",
      "\u001b[34m\u001b[1mwandb\u001b[0m: \tsource_scanner: Aperio\n",
      "\u001b[34m\u001b[1mwandb\u001b[0m: \ttarget_depth: 0\n",
      "\u001b[34m\u001b[1mwandb\u001b[0m: \tthumbnail_size: [1024, 1024]\n",
      "\u001b[34m\u001b[1mwandb\u001b[0m: \tuse_gray: True\n"
     ]
    },
    {
     "data": {
      "text/html": [
       "\n",
       "                Tracking run with wandb version 0.10.15<br/>\n",
       "                Syncing run <strong style=\"color:#cdcd00\">warm-sweep-27</strong> to <a href=\"https://wandb.ai\" target=\"_blank\">Weights & Biases</a> <a href=\"https://docs.wandb.com/integrations/jupyter.html\" target=\"_blank\">(Documentation)</a>.<br/>\n",
       "                Project page: <a href=\"https://wandb.ai/christianml/quadtree\" target=\"_blank\">https://wandb.ai/christianml/quadtree</a><br/>\n",
       "                Sweep page: <a href=\"https://wandb.ai/christianml/quadtree/sweeps/e22y6790\" target=\"_blank\">https://wandb.ai/christianml/quadtree/sweeps/e22y6790</a><br/>\n",
       "Run page: <a href=\"https://wandb.ai/christianml/quadtree/runs/vqw92ltq\" target=\"_blank\">https://wandb.ai/christianml/quadtree/runs/vqw92ltq</a><br/>\n",
       "                Run data is saved locally in <code>/home/bronzi/ProgProjekte/EIPH_WSI/MIDL2021/Registration/WandB/wandb/run-20210126_190552-vqw92ltq</code><br/><br/>\n",
       "            "
      ],
      "text/plain": [
       "<IPython.core.display.HTML object>"
      ]
     },
     "metadata": {},
     "output_type": "display_data"
    },
    {
     "name": "stderr",
     "output_type": "stream",
     "text": [
      "  0%|          | 0/5 [00:00<?, ?it/s]\n",
      "  0%|          | 0/4 [00:00<?, ?it/s]\u001b[A\n",
      " 25%|██▌       | 1/4 [00:00<00:02,  1.12it/s]\u001b[A\n",
      " 75%|███████▌  | 3/4 [00:02<00:00,  1.43it/s]\u001b[A\n",
      "100%|██████████| 4/4 [00:02<00:00,  1.45it/s]\u001b[A\n",
      " 20%|██        | 1/5 [00:02<00:11,  2.76s/it]\n",
      "  0%|          | 0/4 [00:00<?, ?it/s]\u001b[A\n",
      " 25%|██▌       | 1/4 [00:00<00:01,  1.67it/s]\u001b[A\n",
      " 75%|███████▌  | 3/4 [00:01<00:00,  1.57it/s]\u001b[A\n",
      "100%|██████████| 4/4 [00:03<00:00,  1.09it/s]\u001b[A\n",
      " 40%|████      | 2/5 [00:06<00:09,  3.30s/it]\n",
      "  0%|          | 0/4 [00:00<?, ?it/s]\u001b[A\n",
      " 25%|██▌       | 1/4 [00:00<00:02,  1.01it/s]\u001b[A\n",
      " 75%|███████▌  | 3/4 [00:03<00:01,  1.09s/it]\u001b[A\n",
      "100%|██████████| 4/4 [00:03<00:00,  1.04it/s]\u001b[A\n",
      " 60%|██████    | 3/5 [00:10<00:07,  3.56s/it]\n",
      "  0%|          | 0/4 [00:00<?, ?it/s]\u001b[A\n",
      " 25%|██▌       | 1/4 [00:00<00:02,  1.18it/s]\u001b[A\n",
      " 75%|███████▌  | 3/4 [00:02<00:00,  1.34it/s]\u001b[A\n",
      "100%|██████████| 4/4 [00:02<00:00,  1.36it/s]\u001b[A\n",
      " 80%|████████  | 4/5 [00:13<00:03,  3.32s/it]\n",
      "  0%|          | 0/4 [00:00<?, ?it/s]\u001b[A\n",
      " 25%|██▌       | 1/4 [00:00<00:01,  1.60it/s]\u001b[A\n",
      " 75%|███████▌  | 3/4 [00:01<00:00,  1.50it/s]\u001b[A\n",
      "100%|██████████| 4/4 [00:02<00:00,  1.53it/s]\u001b[A\n",
      "100%|██████████| 5/5 [00:15<00:00,  3.18s/it]\n"
     ]
    },
    {
     "data": {
      "text/html": [
       "<br/>Waiting for W&B process to finish, PID 6637<br/>Program ended successfully."
      ],
      "text/plain": [
       "<IPython.core.display.HTML object>"
      ]
     },
     "metadata": {},
     "output_type": "display_data"
    },
    {
     "data": {
      "application/vnd.jupyter.widget-view+json": {
       "model_id": "",
       "version_major": 2,
       "version_minor": 0
      },
      "text/plain": [
       "VBox(children=(Label(value=' 0.00MB of 0.00MB uploaded (0.00MB deduped)\\r'), FloatProgress(value=1.0, max=1.0)…"
      ]
     },
     "metadata": {},
     "output_type": "display_data"
    },
    {
     "data": {
      "text/html": [
       "Find user logs for this run at: <code>/home/bronzi/ProgProjekte/EIPH_WSI/MIDL2021/Registration/WandB/wandb/run-20210126_190552-vqw92ltq/logs/debug.log</code>"
      ],
      "text/plain": [
       "<IPython.core.display.HTML object>"
      ]
     },
     "metadata": {},
     "output_type": "display_data"
    },
    {
     "data": {
      "text/html": [
       "Find internal logs for this run at: <code>/home/bronzi/ProgProjekte/EIPH_WSI/MIDL2021/Registration/WandB/wandb/run-20210126_190552-vqw92ltq/logs/debug-internal.log</code>"
      ],
      "text/plain": [
       "<IPython.core.display.HTML object>"
      ]
     },
     "metadata": {},
     "output_type": "display_data"
    },
    {
     "data": {
      "text/html": [
       "<h3>Run summary:</h3><br/><style>\n",
       "    table.wandb td:nth-child(1) { padding: 0 10px; text-align: right }\n",
       "    </style><table class=\"wandb\">\n",
       "<tr><td>dist_mean_image</td><td>43.82565</td></tr><tr><td>mean_reg_error_image</td><td>2941.87749</td></tr><tr><td>step</td><td>14</td></tr><tr><td>_step</td><td>15</td></tr><tr><td>_runtime</td><td>16</td></tr><tr><td>_timestamp</td><td>1611684368</td></tr><tr><td>dist_mean</td><td>17.09311</td></tr><tr><td>dist_min</td><td>0.92564</td></tr><tr><td>dist_max</td><td>114.17617</td></tr><tr><td>mean_reg_error</td><td>1678.79189</td></tr></table>"
      ],
      "text/plain": [
       "<IPython.core.display.HTML object>"
      ]
     },
     "metadata": {},
     "output_type": "display_data"
    },
    {
     "data": {
      "text/html": [
       "<h3>Run history:</h3><br/><style>\n",
       "    table.wandb td:nth-child(1) { padding: 0 10px; text-align: right }\n",
       "    </style><table class=\"wandb\">\n",
       "<tr><td>dist_mean_image</td><td>▁▂█▁▂▂▁▁▂▂▅▄▂▂▃</td></tr><tr><td>mean_reg_error_image</td><td>▂▂█▁▁▂▁▂▂▄▄▆▂▂▅</td></tr><tr><td>step</td><td>▁▁▂▃▃▃▄▅▅▅▆▇▇▇█</td></tr><tr><td>_step</td><td>▁▁▂▂▃▃▄▄▅▅▆▆▇▇██</td></tr><tr><td>_runtime</td><td>▁▂▂▂▃▄▄▅▆▆▇▇▇███</td></tr><tr><td>_timestamp</td><td>▁▂▂▂▃▄▄▅▆▆▇▇▇███</td></tr><tr><td>dist_mean</td><td>▁</td></tr><tr><td>dist_min</td><td>▁</td></tr><tr><td>dist_max</td><td>▁</td></tr><tr><td>mean_reg_error</td><td>▁</td></tr></table><br/>"
      ],
      "text/plain": [
       "<IPython.core.display.HTML object>"
      ]
     },
     "metadata": {},
     "output_type": "display_data"
    },
    {
     "data": {
      "text/html": [
       "Synced 5 W&B file(s), 0 media file(s), 0 artifact file(s) and 0 other file(s)"
      ],
      "text/plain": [
       "<IPython.core.display.HTML object>"
      ]
     },
     "metadata": {},
     "output_type": "display_data"
    },
    {
     "data": {
      "text/html": [
       "\n",
       "                    <br/>Synced <strong style=\"color:#cdcd00\">warm-sweep-27</strong>: <a href=\"https://wandb.ai/christianml/quadtree/runs/vqw92ltq\" target=\"_blank\">https://wandb.ai/christianml/quadtree/runs/vqw92ltq</a><br/>\n",
       "                "
      ],
      "text/plain": [
       "<IPython.core.display.HTML object>"
      ]
     },
     "metadata": {},
     "output_type": "display_data"
    },
    {
     "name": "stderr",
     "output_type": "stream",
     "text": [
      "\u001b[34m\u001b[1mwandb\u001b[0m: Agent Starting Run: s5is2fpd with config:\n",
      "\u001b[34m\u001b[1mwandb\u001b[0m: \tcrossCheck: False\n",
      "\u001b[34m\u001b[1mwandb\u001b[0m: \tfilter_outliner: False\n",
      "\u001b[34m\u001b[1mwandb\u001b[0m: \tflann: True\n",
      "\u001b[34m\u001b[1mwandb\u001b[0m: \thomography: True\n",
      "\u001b[34m\u001b[1mwandb\u001b[0m: \timage_type: Cyto\n",
      "\u001b[34m\u001b[1mwandb\u001b[0m: \tmaxFeatures: 128\n",
      "\u001b[34m\u001b[1mwandb\u001b[0m: \tpoint_extractor: sift\n",
      "\u001b[34m\u001b[1mwandb\u001b[0m: \tratio: 0.7\n",
      "\u001b[34m\u001b[1mwandb\u001b[0m: \tsource_scanner: Aperio\n",
      "\u001b[34m\u001b[1mwandb\u001b[0m: \ttarget_depth: 0\n",
      "\u001b[34m\u001b[1mwandb\u001b[0m: \tthumbnail_size: [1024, 1024]\n",
      "\u001b[34m\u001b[1mwandb\u001b[0m: \tuse_gray: True\n"
     ]
    },
    {
     "data": {
      "text/html": [
       "\n",
       "                Tracking run with wandb version 0.10.15<br/>\n",
       "                Syncing run <strong style=\"color:#cdcd00\">dauntless-sweep-28</strong> to <a href=\"https://wandb.ai\" target=\"_blank\">Weights & Biases</a> <a href=\"https://docs.wandb.com/integrations/jupyter.html\" target=\"_blank\">(Documentation)</a>.<br/>\n",
       "                Project page: <a href=\"https://wandb.ai/christianml/quadtree\" target=\"_blank\">https://wandb.ai/christianml/quadtree</a><br/>\n",
       "                Sweep page: <a href=\"https://wandb.ai/christianml/quadtree/sweeps/e22y6790\" target=\"_blank\">https://wandb.ai/christianml/quadtree/sweeps/e22y6790</a><br/>\n",
       "Run page: <a href=\"https://wandb.ai/christianml/quadtree/runs/s5is2fpd\" target=\"_blank\">https://wandb.ai/christianml/quadtree/runs/s5is2fpd</a><br/>\n",
       "                Run data is saved locally in <code>/home/bronzi/ProgProjekte/EIPH_WSI/MIDL2021/Registration/WandB/wandb/run-20210126_190612-s5is2fpd</code><br/><br/>\n",
       "            "
      ],
      "text/plain": [
       "<IPython.core.display.HTML object>"
      ]
     },
     "metadata": {},
     "output_type": "display_data"
    },
    {
     "name": "stderr",
     "output_type": "stream",
     "text": [
      "  0%|          | 0/5 [00:00<?, ?it/s]\n",
      "  0%|          | 0/4 [00:00<?, ?it/s]\u001b[A\n",
      " 25%|██▌       | 1/4 [00:00<00:01,  1.59it/s]\u001b[A\n",
      " 75%|███████▌  | 3/4 [00:02<00:00,  1.37it/s]\u001b[A\n",
      "100%|██████████| 4/4 [00:02<00:00,  1.43it/s]\u001b[A\n",
      " 20%|██        | 1/5 [00:02<00:11,  2.80s/it]\n",
      "  0%|          | 0/4 [00:00<?, ?it/s]\u001b[A\n",
      " 25%|██▌       | 1/4 [00:00<00:01,  1.61it/s]\u001b[A\n",
      " 75%|███████▌  | 3/4 [00:01<00:00,  1.56it/s]\u001b[A\n",
      "100%|██████████| 4/4 [00:02<00:00,  1.51it/s]\u001b[A\n",
      " 40%|████      | 2/5 [00:05<00:08,  2.72s/it]\n",
      "  0%|          | 0/4 [00:00<?, ?it/s]\u001b[A\n",
      " 25%|██▌       | 1/4 [00:00<00:02,  1.16it/s]\u001b[A\n",
      " 75%|███████▌  | 3/4 [00:02<00:00,  1.16it/s]\u001b[A\n",
      "100%|██████████| 4/4 [00:03<00:00,  1.25it/s]\u001b[A\n",
      " 60%|██████    | 3/5 [00:08<00:05,  2.94s/it]\n",
      "  0%|          | 0/4 [00:00<?, ?it/s]\u001b[A\n",
      " 25%|██▌       | 1/4 [00:00<00:02,  1.41it/s]\u001b[A\n",
      " 75%|███████▌  | 3/4 [00:02<00:00,  1.34it/s]\u001b[A\n",
      "100%|██████████| 4/4 [00:02<00:00,  1.37it/s]\u001b[A\n",
      " 80%|████████  | 4/5 [00:11<00:02,  2.93s/it]\n",
      "  0%|          | 0/4 [00:00<?, ?it/s]\u001b[A\n",
      " 25%|██▌       | 1/4 [00:00<00:01,  1.63it/s]\u001b[A\n",
      " 75%|███████▌  | 3/4 [00:01<00:00,  1.54it/s]\u001b[A\n",
      "100%|██████████| 4/4 [00:02<00:00,  1.56it/s]\u001b[A\n",
      "100%|██████████| 5/5 [00:14<00:00,  2.83s/it]\n"
     ]
    },
    {
     "data": {
      "text/html": [
       "<br/>Waiting for W&B process to finish, PID 6720<br/>Program ended successfully."
      ],
      "text/plain": [
       "<IPython.core.display.HTML object>"
      ]
     },
     "metadata": {},
     "output_type": "display_data"
    },
    {
     "data": {
      "application/vnd.jupyter.widget-view+json": {
       "model_id": "",
       "version_major": 2,
       "version_minor": 0
      },
      "text/plain": [
       "VBox(children=(Label(value=' 0.00MB of 0.00MB uploaded (0.00MB deduped)\\r'), FloatProgress(value=1.0, max=1.0)…"
      ]
     },
     "metadata": {},
     "output_type": "display_data"
    },
    {
     "data": {
      "text/html": [
       "Find user logs for this run at: <code>/home/bronzi/ProgProjekte/EIPH_WSI/MIDL2021/Registration/WandB/wandb/run-20210126_190612-s5is2fpd/logs/debug.log</code>"
      ],
      "text/plain": [
       "<IPython.core.display.HTML object>"
      ]
     },
     "metadata": {},
     "output_type": "display_data"
    },
    {
     "data": {
      "text/html": [
       "Find internal logs for this run at: <code>/home/bronzi/ProgProjekte/EIPH_WSI/MIDL2021/Registration/WandB/wandb/run-20210126_190612-s5is2fpd/logs/debug-internal.log</code>"
      ],
      "text/plain": [
       "<IPython.core.display.HTML object>"
      ]
     },
     "metadata": {},
     "output_type": "display_data"
    },
    {
     "data": {
      "text/html": [
       "<h3>Run summary:</h3><br/><style>\n",
       "    table.wandb td:nth-child(1) { padding: 0 10px; text-align: right }\n",
       "    </style><table class=\"wandb\">\n",
       "<tr><td>dist_mean_image</td><td>47.40735</td></tr><tr><td>mean_reg_error_image</td><td>648.72731</td></tr><tr><td>step</td><td>14</td></tr><tr><td>_step</td><td>15</td></tr><tr><td>_runtime</td><td>15</td></tr><tr><td>_timestamp</td><td>1611684387</td></tr><tr><td>dist_mean</td><td>17.59383</td></tr><tr><td>dist_min</td><td>0.97447</td></tr><tr><td>dist_max</td><td>112.14681</td></tr><tr><td>mean_reg_error</td><td>473.0486</td></tr></table>"
      ],
      "text/plain": [
       "<IPython.core.display.HTML object>"
      ]
     },
     "metadata": {},
     "output_type": "display_data"
    },
    {
     "data": {
      "text/html": [
       "<h3>Run history:</h3><br/><style>\n",
       "    table.wandb td:nth-child(1) { padding: 0 10px; text-align: right }\n",
       "    </style><table class=\"wandb\">\n",
       "<tr><td>dist_mean_image</td><td>▁▂█▁▂▃▁▃▁▂▄▄▂▂▃</td></tr><tr><td>mean_reg_error_image</td><td>▁▂▇▁▁▂▁▁▁▅▅█▁▁▄</td></tr><tr><td>step</td><td>▁▁▂▃▃▃▄▅▅▅▆▇▇▇█</td></tr><tr><td>_step</td><td>▁▁▂▂▃▃▄▄▅▅▆▆▇▇██</td></tr><tr><td>_runtime</td><td>▁▂▂▂▃▃▄▅▅▅▆▇▇███</td></tr><tr><td>_timestamp</td><td>▁▂▂▂▃▃▄▅▅▅▆▇▇███</td></tr><tr><td>dist_mean</td><td>▁</td></tr><tr><td>dist_min</td><td>▁</td></tr><tr><td>dist_max</td><td>▁</td></tr><tr><td>mean_reg_error</td><td>▁</td></tr></table><br/>"
      ],
      "text/plain": [
       "<IPython.core.display.HTML object>"
      ]
     },
     "metadata": {},
     "output_type": "display_data"
    },
    {
     "data": {
      "text/html": [
       "Synced 5 W&B file(s), 0 media file(s), 0 artifact file(s) and 0 other file(s)"
      ],
      "text/plain": [
       "<IPython.core.display.HTML object>"
      ]
     },
     "metadata": {},
     "output_type": "display_data"
    },
    {
     "data": {
      "text/html": [
       "\n",
       "                    <br/>Synced <strong style=\"color:#cdcd00\">dauntless-sweep-28</strong>: <a href=\"https://wandb.ai/christianml/quadtree/runs/s5is2fpd\" target=\"_blank\">https://wandb.ai/christianml/quadtree/runs/s5is2fpd</a><br/>\n",
       "                "
      ],
      "text/plain": [
       "<IPython.core.display.HTML object>"
      ]
     },
     "metadata": {},
     "output_type": "display_data"
    },
    {
     "name": "stderr",
     "output_type": "stream",
     "text": [
      "\u001b[34m\u001b[1mwandb\u001b[0m: Agent Starting Run: d9juidrr with config:\n",
      "\u001b[34m\u001b[1mwandb\u001b[0m: \tcrossCheck: False\n",
      "\u001b[34m\u001b[1mwandb\u001b[0m: \tfilter_outliner: False\n",
      "\u001b[34m\u001b[1mwandb\u001b[0m: \tflann: False\n",
      "\u001b[34m\u001b[1mwandb\u001b[0m: \thomography: True\n",
      "\u001b[34m\u001b[1mwandb\u001b[0m: \timage_type: Cyto\n",
      "\u001b[34m\u001b[1mwandb\u001b[0m: \tmaxFeatures: 2048\n",
      "\u001b[34m\u001b[1mwandb\u001b[0m: \tpoint_extractor: sift\n",
      "\u001b[34m\u001b[1mwandb\u001b[0m: \tratio: 0.4\n",
      "\u001b[34m\u001b[1mwandb\u001b[0m: \tsource_scanner: Aperio\n",
      "\u001b[34m\u001b[1mwandb\u001b[0m: \ttarget_depth: 0\n",
      "\u001b[34m\u001b[1mwandb\u001b[0m: \tthumbnail_size: [2048, 2048]\n",
      "\u001b[34m\u001b[1mwandb\u001b[0m: \tuse_gray: True\n"
     ]
    },
    {
     "data": {
      "text/html": [
       "\n",
       "                Tracking run with wandb version 0.10.15<br/>\n",
       "                Syncing run <strong style=\"color:#cdcd00\">polar-sweep-29</strong> to <a href=\"https://wandb.ai\" target=\"_blank\">Weights & Biases</a> <a href=\"https://docs.wandb.com/integrations/jupyter.html\" target=\"_blank\">(Documentation)</a>.<br/>\n",
       "                Project page: <a href=\"https://wandb.ai/christianml/quadtree\" target=\"_blank\">https://wandb.ai/christianml/quadtree</a><br/>\n",
       "                Sweep page: <a href=\"https://wandb.ai/christianml/quadtree/sweeps/e22y6790\" target=\"_blank\">https://wandb.ai/christianml/quadtree/sweeps/e22y6790</a><br/>\n",
       "Run page: <a href=\"https://wandb.ai/christianml/quadtree/runs/d9juidrr\" target=\"_blank\">https://wandb.ai/christianml/quadtree/runs/d9juidrr</a><br/>\n",
       "                Run data is saved locally in <code>/home/bronzi/ProgProjekte/EIPH_WSI/MIDL2021/Registration/WandB/wandb/run-20210126_190632-d9juidrr</code><br/><br/>\n",
       "            "
      ],
      "text/plain": [
       "<IPython.core.display.HTML object>"
      ]
     },
     "metadata": {},
     "output_type": "display_data"
    },
    {
     "name": "stderr",
     "output_type": "stream",
     "text": [
      "  0%|          | 0/5 [00:00<?, ?it/s]\n",
      "  0%|          | 0/4 [00:00<?, ?it/s]\u001b[A\n",
      " 25%|██▌       | 1/4 [00:07<00:23,  7.70s/it]\u001b[A\n",
      " 75%|███████▌  | 3/4 [00:16<00:05,  5.11s/it]\u001b[A\n",
      "100%|██████████| 4/4 [00:23<00:00,  5.90s/it]\u001b[A\n",
      " 20%|██        | 1/5 [00:23<01:34, 23.61s/it]\n",
      "  0%|          | 0/4 [00:00<?, ?it/s]\u001b[A\n",
      " 25%|██▌       | 1/4 [00:01<00:04,  1.61s/it]\u001b[A\n",
      " 75%|███████▌  | 3/4 [00:03<00:01,  1.30s/it]\u001b[A\n",
      "100%|██████████| 4/4 [00:05<00:00,  1.36s/it]\u001b[A\n",
      " 40%|████      | 2/5 [00:29<00:38, 12.93s/it]\n",
      "  0%|          | 0/4 [00:00<?, ?it/s]\u001b[A\n",
      " 25%|██▌       | 1/4 [00:08<00:25,  8.37s/it]\u001b[A\n",
      " 75%|███████▌  | 3/4 [00:17<00:05,  5.61s/it]\u001b[A\n",
      "100%|██████████| 4/4 [00:25<00:00,  6.38s/it]\u001b[A\n",
      " 60%|██████    | 3/5 [00:54<00:37, 18.69s/it]\n",
      "  0%|          | 0/4 [00:00<?, ?it/s]\u001b[A\n",
      " 25%|██▌       | 1/4 [00:01<00:05,  1.77s/it]\u001b[A\n",
      " 75%|███████▌  | 3/4 [00:04<00:01,  1.42s/it]\u001b[A\n",
      "100%|██████████| 4/4 [00:05<00:00,  1.43s/it]\u001b[A\n",
      " 80%|████████  | 4/5 [01:00<00:13, 13.57s/it]\n",
      "  0%|          | 0/4 [00:00<?, ?it/s]\u001b[A\n",
      " 25%|██▌       | 1/4 [00:07<00:23,  7.95s/it]\u001b[A\n",
      " 75%|███████▌  | 3/4 [00:18<00:05,  5.81s/it]\u001b[A\n",
      "100%|██████████| 4/4 [00:27<00:00,  7.00s/it]\u001b[A\n",
      "100%|██████████| 5/5 [01:28<00:00, 17.66s/it]\n"
     ]
    },
    {
     "data": {
      "text/html": [
       "<br/>Waiting for W&B process to finish, PID 6803<br/>Program ended successfully."
      ],
      "text/plain": [
       "<IPython.core.display.HTML object>"
      ]
     },
     "metadata": {},
     "output_type": "display_data"
    },
    {
     "data": {
      "application/vnd.jupyter.widget-view+json": {
       "model_id": "",
       "version_major": 2,
       "version_minor": 0
      },
      "text/plain": [
       "VBox(children=(Label(value=' 0.00MB of 0.00MB uploaded (0.00MB deduped)\\r'), FloatProgress(value=1.0, max=1.0)…"
      ]
     },
     "metadata": {},
     "output_type": "display_data"
    },
    {
     "data": {
      "text/html": [
       "Find user logs for this run at: <code>/home/bronzi/ProgProjekte/EIPH_WSI/MIDL2021/Registration/WandB/wandb/run-20210126_190632-d9juidrr/logs/debug.log</code>"
      ],
      "text/plain": [
       "<IPython.core.display.HTML object>"
      ]
     },
     "metadata": {},
     "output_type": "display_data"
    },
    {
     "data": {
      "text/html": [
       "Find internal logs for this run at: <code>/home/bronzi/ProgProjekte/EIPH_WSI/MIDL2021/Registration/WandB/wandb/run-20210126_190632-d9juidrr/logs/debug-internal.log</code>"
      ],
      "text/plain": [
       "<IPython.core.display.HTML object>"
      ]
     },
     "metadata": {},
     "output_type": "display_data"
    },
    {
     "data": {
      "text/html": [
       "<h3>Run summary:</h3><br/><style>\n",
       "    table.wandb td:nth-child(1) { padding: 0 10px; text-align: right }\n",
       "    </style><table class=\"wandb\">\n",
       "<tr><td>dist_mean_image</td><td>28.55706</td></tr><tr><td>mean_reg_error_image</td><td>10.37008</td></tr><tr><td>step</td><td>14</td></tr><tr><td>_step</td><td>15</td></tr><tr><td>_runtime</td><td>89</td></tr><tr><td>_timestamp</td><td>1611684481</td></tr><tr><td>dist_mean</td><td>10.5818</td></tr><tr><td>dist_min</td><td>0.12194</td></tr><tr><td>dist_max</td><td>78.30819</td></tr><tr><td>mean_reg_error</td><td>7.10332</td></tr></table>"
      ],
      "text/plain": [
       "<IPython.core.display.HTML object>"
      ]
     },
     "metadata": {},
     "output_type": "display_data"
    },
    {
     "data": {
      "text/html": [
       "<h3>Run history:</h3><br/><style>\n",
       "    table.wandb td:nth-child(1) { padding: 0 10px; text-align: right }\n",
       "    </style><table class=\"wandb\">\n",
       "<tr><td>dist_mean_image</td><td>▂▂▂▃▄▃▁▂▂▃█▅▂▁▃</td></tr><tr><td>mean_reg_error_image</td><td>▂▁▄▂▃▂▁▅▃▂▃█▂▃▅</td></tr><tr><td>step</td><td>▁▁▂▃▃▃▄▅▅▅▆▇▇▇█</td></tr><tr><td>_step</td><td>▁▁▂▂▃▃▄▄▅▅▆▆▇▇██</td></tr><tr><td>_runtime</td><td>▁▂▂▂▃▃▄▄▅▅▅▆▆▇██</td></tr><tr><td>_timestamp</td><td>▁▂▂▂▃▃▄▄▅▅▅▆▆▇██</td></tr><tr><td>dist_mean</td><td>▁</td></tr><tr><td>dist_min</td><td>▁</td></tr><tr><td>dist_max</td><td>▁</td></tr><tr><td>mean_reg_error</td><td>▁</td></tr></table><br/>"
      ],
      "text/plain": [
       "<IPython.core.display.HTML object>"
      ]
     },
     "metadata": {},
     "output_type": "display_data"
    },
    {
     "data": {
      "text/html": [
       "Synced 5 W&B file(s), 0 media file(s), 0 artifact file(s) and 0 other file(s)"
      ],
      "text/plain": [
       "<IPython.core.display.HTML object>"
      ]
     },
     "metadata": {},
     "output_type": "display_data"
    },
    {
     "data": {
      "text/html": [
       "\n",
       "                    <br/>Synced <strong style=\"color:#cdcd00\">polar-sweep-29</strong>: <a href=\"https://wandb.ai/christianml/quadtree/runs/d9juidrr\" target=\"_blank\">https://wandb.ai/christianml/quadtree/runs/d9juidrr</a><br/>\n",
       "                "
      ],
      "text/plain": [
       "<IPython.core.display.HTML object>"
      ]
     },
     "metadata": {},
     "output_type": "display_data"
    },
    {
     "name": "stderr",
     "output_type": "stream",
     "text": [
      "\u001b[34m\u001b[1mwandb\u001b[0m: Agent Starting Run: zl3vbds7 with config:\n",
      "\u001b[34m\u001b[1mwandb\u001b[0m: \tcrossCheck: False\n",
      "\u001b[34m\u001b[1mwandb\u001b[0m: \tfilter_outliner: False\n",
      "\u001b[34m\u001b[1mwandb\u001b[0m: \tflann: True\n",
      "\u001b[34m\u001b[1mwandb\u001b[0m: \thomography: False\n",
      "\u001b[34m\u001b[1mwandb\u001b[0m: \timage_type: Cyto\n",
      "\u001b[34m\u001b[1mwandb\u001b[0m: \tmaxFeatures: 256\n",
      "\u001b[34m\u001b[1mwandb\u001b[0m: \tpoint_extractor: sift\n",
      "\u001b[34m\u001b[1mwandb\u001b[0m: \tratio: 0.4\n",
      "\u001b[34m\u001b[1mwandb\u001b[0m: \tsource_scanner: Aperio\n",
      "\u001b[34m\u001b[1mwandb\u001b[0m: \ttarget_depth: 0\n",
      "\u001b[34m\u001b[1mwandb\u001b[0m: \tthumbnail_size: [1024, 1024]\n",
      "\u001b[34m\u001b[1mwandb\u001b[0m: \tuse_gray: True\n"
     ]
    },
    {
     "data": {
      "text/html": [
       "\n",
       "                Tracking run with wandb version 0.10.15<br/>\n",
       "                Syncing run <strong style=\"color:#cdcd00\">faithful-sweep-30</strong> to <a href=\"https://wandb.ai\" target=\"_blank\">Weights & Biases</a> <a href=\"https://docs.wandb.com/integrations/jupyter.html\" target=\"_blank\">(Documentation)</a>.<br/>\n",
       "                Project page: <a href=\"https://wandb.ai/christianml/quadtree\" target=\"_blank\">https://wandb.ai/christianml/quadtree</a><br/>\n",
       "                Sweep page: <a href=\"https://wandb.ai/christianml/quadtree/sweeps/e22y6790\" target=\"_blank\">https://wandb.ai/christianml/quadtree/sweeps/e22y6790</a><br/>\n",
       "Run page: <a href=\"https://wandb.ai/christianml/quadtree/runs/zl3vbds7\" target=\"_blank\">https://wandb.ai/christianml/quadtree/runs/zl3vbds7</a><br/>\n",
       "                Run data is saved locally in <code>/home/bronzi/ProgProjekte/EIPH_WSI/MIDL2021/Registration/WandB/wandb/run-20210126_190805-zl3vbds7</code><br/><br/>\n",
       "            "
      ],
      "text/plain": [
       "<IPython.core.display.HTML object>"
      ]
     },
     "metadata": {},
     "output_type": "display_data"
    },
    {
     "name": "stderr",
     "output_type": "stream",
     "text": [
      "  0%|          | 0/5 [00:00<?, ?it/s]\n",
      "  0%|          | 0/4 [00:00<?, ?it/s]\u001b[A\n",
      " 25%|██▌       | 1/4 [00:01<00:04,  1.37s/it]\u001b[A\n",
      " 75%|███████▌  | 3/4 [00:03<00:01,  1.32s/it]\u001b[A\n",
      "  0%|          | 0/5 [00:03<?, ?it/s]\n"
     ]
    },
    {
     "data": {
      "text/html": [
       "<br/>Waiting for W&B process to finish, PID 6997<br/>Program failed with code 1.  Press ctrl-c to abort syncing."
      ],
      "text/plain": [
       "<IPython.core.display.HTML object>"
      ]
     },
     "metadata": {},
     "output_type": "display_data"
    },
    {
     "data": {
      "application/vnd.jupyter.widget-view+json": {
       "model_id": "",
       "version_major": 2,
       "version_minor": 0
      },
      "text/plain": [
       "VBox(children=(Label(value=' 0.00MB of 0.00MB uploaded (0.00MB deduped)\\r'), FloatProgress(value=1.0, max=1.0)…"
      ]
     },
     "metadata": {},
     "output_type": "display_data"
    },
    {
     "data": {
      "text/html": [
       "Find user logs for this run at: <code>/home/bronzi/ProgProjekte/EIPH_WSI/MIDL2021/Registration/WandB/wandb/run-20210126_190805-zl3vbds7/logs/debug.log</code>"
      ],
      "text/plain": [
       "<IPython.core.display.HTML object>"
      ]
     },
     "metadata": {},
     "output_type": "display_data"
    },
    {
     "data": {
      "text/html": [
       "Find internal logs for this run at: <code>/home/bronzi/ProgProjekte/EIPH_WSI/MIDL2021/Registration/WandB/wandb/run-20210126_190805-zl3vbds7/logs/debug-internal.log</code>"
      ],
      "text/plain": [
       "<IPython.core.display.HTML object>"
      ]
     },
     "metadata": {},
     "output_type": "display_data"
    },
    {
     "data": {
      "text/html": [
       "<h3>Run summary:</h3><br/><style>\n",
       "    table.wandb td:nth-child(1) { padding: 0 10px; text-align: right }\n",
       "    </style><table class=\"wandb\">\n",
       "<tr><td>dist_mean_image</td><td>30.24679</td></tr><tr><td>mean_reg_error_image</td><td>5.87097</td></tr><tr><td>step</td><td>1</td></tr><tr><td>_step</td><td>1</td></tr><tr><td>_runtime</td><td>4</td></tr><tr><td>_timestamp</td><td>1611684489</td></tr></table>"
      ],
      "text/plain": [
       "<IPython.core.display.HTML object>"
      ]
     },
     "metadata": {},
     "output_type": "display_data"
    },
    {
     "data": {
      "text/html": [
       "<h3>Run history:</h3><br/><style>\n",
       "    table.wandb td:nth-child(1) { padding: 0 10px; text-align: right }\n",
       "    </style><table class=\"wandb\">\n",
       "<tr><td>dist_mean_image</td><td>▁█</td></tr><tr><td>mean_reg_error_image</td><td>▁█</td></tr><tr><td>step</td><td>▁█</td></tr><tr><td>_step</td><td>▁█</td></tr><tr><td>_runtime</td><td>▁█</td></tr><tr><td>_timestamp</td><td>▁█</td></tr></table><br/>"
      ],
      "text/plain": [
       "<IPython.core.display.HTML object>"
      ]
     },
     "metadata": {},
     "output_type": "display_data"
    },
    {
     "data": {
      "text/html": [
       "Synced 5 W&B file(s), 0 media file(s), 0 artifact file(s) and 0 other file(s)"
      ],
      "text/plain": [
       "<IPython.core.display.HTML object>"
      ]
     },
     "metadata": {},
     "output_type": "display_data"
    },
    {
     "data": {
      "text/html": [
       "\n",
       "                    <br/>Synced <strong style=\"color:#cdcd00\">faithful-sweep-30</strong>: <a href=\"https://wandb.ai/christianml/quadtree/runs/zl3vbds7\" target=\"_blank\">https://wandb.ai/christianml/quadtree/runs/zl3vbds7</a><br/>\n",
       "                "
      ],
      "text/plain": [
       "<IPython.core.display.HTML object>"
      ]
     },
     "metadata": {},
     "output_type": "display_data"
    },
    {
     "name": "stderr",
     "output_type": "stream",
     "text": [
      "Run zl3vbds7 errored: TypeError(\"'NoneType' object is not subscriptable\")\n",
      "\u001b[34m\u001b[1mwandb\u001b[0m: \u001b[32m\u001b[41mERROR\u001b[0m Run zl3vbds7 errored: TypeError(\"'NoneType' object is not subscriptable\")\n",
      "\u001b[34m\u001b[1mwandb\u001b[0m: Agent Starting Run: f2w7gem7 with config:\n",
      "\u001b[34m\u001b[1mwandb\u001b[0m: \tcrossCheck: False\n",
      "\u001b[34m\u001b[1mwandb\u001b[0m: \tfilter_outliner: False\n",
      "\u001b[34m\u001b[1mwandb\u001b[0m: \tflann: True\n",
      "\u001b[34m\u001b[1mwandb\u001b[0m: \thomography: True\n",
      "\u001b[34m\u001b[1mwandb\u001b[0m: \timage_type: Cyto\n",
      "\u001b[34m\u001b[1mwandb\u001b[0m: \tmaxFeatures: 64\n",
      "\u001b[34m\u001b[1mwandb\u001b[0m: \tpoint_extractor: sift\n",
      "\u001b[34m\u001b[1mwandb\u001b[0m: \tratio: 0.6\n",
      "\u001b[34m\u001b[1mwandb\u001b[0m: \tsource_scanner: Aperio\n",
      "\u001b[34m\u001b[1mwandb\u001b[0m: \ttarget_depth: 0\n",
      "\u001b[34m\u001b[1mwandb\u001b[0m: \tthumbnail_size: [4096, 4096]\n",
      "\u001b[34m\u001b[1mwandb\u001b[0m: \tuse_gray: False\n"
     ]
    },
    {
     "data": {
      "text/html": [
       "\n",
       "                Tracking run with wandb version 0.10.15<br/>\n",
       "                Syncing run <strong style=\"color:#cdcd00\">skilled-sweep-31</strong> to <a href=\"https://wandb.ai\" target=\"_blank\">Weights & Biases</a> <a href=\"https://docs.wandb.com/integrations/jupyter.html\" target=\"_blank\">(Documentation)</a>.<br/>\n",
       "                Project page: <a href=\"https://wandb.ai/christianml/quadtree\" target=\"_blank\">https://wandb.ai/christianml/quadtree</a><br/>\n",
       "                Sweep page: <a href=\"https://wandb.ai/christianml/quadtree/sweeps/e22y6790\" target=\"_blank\">https://wandb.ai/christianml/quadtree/sweeps/e22y6790</a><br/>\n",
       "Run page: <a href=\"https://wandb.ai/christianml/quadtree/runs/f2w7gem7\" target=\"_blank\">https://wandb.ai/christianml/quadtree/runs/f2w7gem7</a><br/>\n",
       "                Run data is saved locally in <code>/home/bronzi/ProgProjekte/EIPH_WSI/MIDL2021/Registration/WandB/wandb/run-20210126_190814-f2w7gem7</code><br/><br/>\n",
       "            "
      ],
      "text/plain": [
       "<IPython.core.display.HTML object>"
      ]
     },
     "metadata": {},
     "output_type": "display_data"
    },
    {
     "name": "stderr",
     "output_type": "stream",
     "text": [
      "  0%|          | 0/5 [00:00<?, ?it/s]\n",
      "  0%|          | 0/4 [00:00<?, ?it/s]\u001b[A\n",
      " 25%|██▌       | 1/4 [00:13<00:40, 13.60s/it]\u001b[A\n",
      " 75%|███████▌  | 3/4 [00:26<00:08,  8.36s/it]\u001b[A\n",
      "100%|██████████| 4/4 [00:43<00:00, 10.92s/it]\u001b[A\n",
      " 20%|██        | 1/5 [00:43<02:54, 43.67s/it]\n",
      "  0%|          | 0/4 [00:00<?, ?it/s]\u001b[A\n",
      " 25%|██▌       | 1/4 [00:11<00:35, 11.79s/it]\u001b[A\n",
      " 75%|███████▌  | 3/4 [00:23<00:07,  7.44s/it]\u001b[A\n",
      "100%|██████████| 4/4 [00:38<00:00,  9.73s/it]\u001b[A\n",
      " 40%|████      | 2/5 [01:22<02:02, 40.87s/it]\n",
      "  0%|          | 0/4 [00:00<?, ?it/s]\u001b[A\n",
      " 25%|██▌       | 1/4 [00:13<00:40, 13.37s/it]\u001b[A\n",
      " 75%|███████▌  | 3/4 [00:27<00:08,  8.84s/it]\u001b[A\n",
      "100%|██████████| 4/4 [00:40<00:00, 10.08s/it]\u001b[A\n",
      " 60%|██████    | 3/5 [02:02<01:21, 40.63s/it]\n",
      "  0%|          | 0/4 [00:00<?, ?it/s]\u001b[A\n",
      " 25%|██▌       | 1/4 [00:14<00:43, 14.42s/it]\u001b[A\n",
      " 75%|███████▌  | 3/4 [00:28<00:09,  9.12s/it]\u001b[A\n",
      "100%|██████████| 4/4 [00:43<00:00, 10.75s/it]\u001b[A\n",
      " 80%|████████  | 4/5 [02:45<00:41, 41.57s/it]\n",
      "  0%|          | 0/4 [00:00<?, ?it/s]\u001b[A\n",
      " 25%|██▌       | 1/4 [00:15<00:45, 15.08s/it]\u001b[A\n",
      " 75%|███████▌  | 3/4 [00:30<00:09,  9.49s/it]\u001b[A\n",
      "100%|██████████| 4/4 [00:47<00:00, 11.92s/it]\u001b[A\n",
      "100%|██████████| 5/5 [03:33<00:00, 42.72s/it]\n"
     ]
    },
    {
     "data": {
      "text/html": [
       "<br/>Waiting for W&B process to finish, PID 7108<br/>Program ended successfully."
      ],
      "text/plain": [
       "<IPython.core.display.HTML object>"
      ]
     },
     "metadata": {},
     "output_type": "display_data"
    },
    {
     "data": {
      "application/vnd.jupyter.widget-view+json": {
       "model_id": "",
       "version_major": 2,
       "version_minor": 0
      },
      "text/plain": [
       "VBox(children=(Label(value=' 0.00MB of 0.00MB uploaded (0.00MB deduped)\\r'), FloatProgress(value=1.0, max=1.0)…"
      ]
     },
     "metadata": {},
     "output_type": "display_data"
    },
    {
     "data": {
      "text/html": [
       "Find user logs for this run at: <code>/home/bronzi/ProgProjekte/EIPH_WSI/MIDL2021/Registration/WandB/wandb/run-20210126_190814-f2w7gem7/logs/debug.log</code>"
      ],
      "text/plain": [
       "<IPython.core.display.HTML object>"
      ]
     },
     "metadata": {},
     "output_type": "display_data"
    },
    {
     "data": {
      "text/html": [
       "Find internal logs for this run at: <code>/home/bronzi/ProgProjekte/EIPH_WSI/MIDL2021/Registration/WandB/wandb/run-20210126_190814-f2w7gem7/logs/debug-internal.log</code>"
      ],
      "text/plain": [
       "<IPython.core.display.HTML object>"
      ]
     },
     "metadata": {},
     "output_type": "display_data"
    },
    {
     "data": {
      "text/html": [
       "<h3>Run summary:</h3><br/><style>\n",
       "    table.wandb td:nth-child(1) { padding: 0 10px; text-align: right }\n",
       "    </style><table class=\"wandb\">\n",
       "<tr><td>dist_mean_image</td><td>24.78894</td></tr><tr><td>mean_reg_error_image</td><td>115.31494</td></tr><tr><td>step</td><td>14</td></tr><tr><td>_step</td><td>15</td></tr><tr><td>_runtime</td><td>215</td></tr><tr><td>_timestamp</td><td>1611684709</td></tr><tr><td>dist_mean</td><td>9.53707</td></tr><tr><td>dist_min</td><td>0.76063</td></tr><tr><td>dist_max</td><td>60.05225</td></tr><tr><td>mean_reg_error</td><td>173.38238</td></tr></table>"
      ],
      "text/plain": [
       "<IPython.core.display.HTML object>"
      ]
     },
     "metadata": {},
     "output_type": "display_data"
    },
    {
     "data": {
      "text/html": [
       "<h3>Run history:</h3><br/><style>\n",
       "    table.wandb td:nth-child(1) { padding: 0 10px; text-align: right }\n",
       "    </style><table class=\"wandb\">\n",
       "<tr><td>dist_mean_image</td><td>▂▂▂▂▅▃▁▃▂▃█▆▂▁▃</td></tr><tr><td>mean_reg_error_image</td><td>▁▁▃▁▁▂▁▁▂▂▃█▁▁▂</td></tr><tr><td>step</td><td>▁▁▂▃▃▃▄▅▅▅▆▇▇▇█</td></tr><tr><td>_step</td><td>▁▁▂▂▃▃▄▄▅▅▆▆▇▇██</td></tr><tr><td>_runtime</td><td>▁▁▂▂▃▃▄▄▅▅▆▆▇▇██</td></tr><tr><td>_timestamp</td><td>▁▁▂▂▃▃▄▄▅▅▆▆▇▇██</td></tr><tr><td>dist_mean</td><td>▁</td></tr><tr><td>dist_min</td><td>▁</td></tr><tr><td>dist_max</td><td>▁</td></tr><tr><td>mean_reg_error</td><td>▁</td></tr></table><br/>"
      ],
      "text/plain": [
       "<IPython.core.display.HTML object>"
      ]
     },
     "metadata": {},
     "output_type": "display_data"
    },
    {
     "data": {
      "text/html": [
       "Synced 5 W&B file(s), 0 media file(s), 0 artifact file(s) and 0 other file(s)"
      ],
      "text/plain": [
       "<IPython.core.display.HTML object>"
      ]
     },
     "metadata": {},
     "output_type": "display_data"
    },
    {
     "data": {
      "text/html": [
       "\n",
       "                    <br/>Synced <strong style=\"color:#cdcd00\">skilled-sweep-31</strong>: <a href=\"https://wandb.ai/christianml/quadtree/runs/f2w7gem7\" target=\"_blank\">https://wandb.ai/christianml/quadtree/runs/f2w7gem7</a><br/>\n",
       "                "
      ],
      "text/plain": [
       "<IPython.core.display.HTML object>"
      ]
     },
     "metadata": {},
     "output_type": "display_data"
    },
    {
     "name": "stderr",
     "output_type": "stream",
     "text": [
      "\u001b[34m\u001b[1mwandb\u001b[0m: Agent Starting Run: an5x9b05 with config:\n",
      "\u001b[34m\u001b[1mwandb\u001b[0m: \tcrossCheck: False\n",
      "\u001b[34m\u001b[1mwandb\u001b[0m: \tfilter_outliner: False\n",
      "\u001b[34m\u001b[1mwandb\u001b[0m: \tflann: False\n",
      "\u001b[34m\u001b[1mwandb\u001b[0m: \thomography: True\n",
      "\u001b[34m\u001b[1mwandb\u001b[0m: \timage_type: Cyto\n",
      "\u001b[34m\u001b[1mwandb\u001b[0m: \tmaxFeatures: 512\n",
      "\u001b[34m\u001b[1mwandb\u001b[0m: \tpoint_extractor: sift\n",
      "\u001b[34m\u001b[1mwandb\u001b[0m: \tratio: 0.3\n",
      "\u001b[34m\u001b[1mwandb\u001b[0m: \tsource_scanner: Aperio\n",
      "\u001b[34m\u001b[1mwandb\u001b[0m: \ttarget_depth: 0\n",
      "\u001b[34m\u001b[1mwandb\u001b[0m: \tthumbnail_size: [4096, 4096]\n",
      "\u001b[34m\u001b[1mwandb\u001b[0m: \tuse_gray: False\n"
     ]
    },
    {
     "data": {
      "text/html": [
       "\n",
       "                Tracking run with wandb version 0.10.15<br/>\n",
       "                Syncing run <strong style=\"color:#cdcd00\">peach-sweep-32</strong> to <a href=\"https://wandb.ai\" target=\"_blank\">Weights & Biases</a> <a href=\"https://docs.wandb.com/integrations/jupyter.html\" target=\"_blank\">(Documentation)</a>.<br/>\n",
       "                Project page: <a href=\"https://wandb.ai/christianml/quadtree\" target=\"_blank\">https://wandb.ai/christianml/quadtree</a><br/>\n",
       "                Sweep page: <a href=\"https://wandb.ai/christianml/quadtree/sweeps/e22y6790\" target=\"_blank\">https://wandb.ai/christianml/quadtree/sweeps/e22y6790</a><br/>\n",
       "Run page: <a href=\"https://wandb.ai/christianml/quadtree/runs/an5x9b05\" target=\"_blank\">https://wandb.ai/christianml/quadtree/runs/an5x9b05</a><br/>\n",
       "                Run data is saved locally in <code>/home/bronzi/ProgProjekte/EIPH_WSI/MIDL2021/Registration/WandB/wandb/run-20210126_191153-an5x9b05</code><br/><br/>\n",
       "            "
      ],
      "text/plain": [
       "<IPython.core.display.HTML object>"
      ]
     },
     "metadata": {},
     "output_type": "display_data"
    },
    {
     "name": "stderr",
     "output_type": "stream",
     "text": [
      "  0%|          | 0/5 [00:00<?, ?it/s]\n",
      "  0%|          | 0/4 [00:00<?, ?it/s]\u001b[A\n",
      " 25%|██▌       | 1/4 [00:14<00:44, 14.83s/it]\u001b[A\n",
      " 75%|███████▌  | 3/4 [00:30<00:09,  9.79s/it]\u001b[A\n",
      "100%|██████████| 4/4 [00:43<00:00, 10.85s/it]\u001b[A\n",
      " 20%|██        | 1/5 [00:43<02:53, 43.41s/it]\n",
      "  0%|          | 0/4 [00:00<?, ?it/s]\u001b[A\n",
      " 25%|██▌       | 1/4 [00:19<00:57, 19.03s/it]\u001b[A\n",
      " 75%|███████▌  | 3/4 [00:33<00:10, 10.42s/it]\u001b[A\n",
      "100%|██████████| 4/4 [00:48<00:00, 12.06s/it]\u001b[A\n",
      " 40%|████      | 2/5 [01:31<02:18, 46.25s/it]\n",
      "  0%|          | 0/4 [00:00<?, ?it/s]\u001b[A\n",
      " 25%|██▌       | 1/4 [00:18<00:56, 18.78s/it]\u001b[A\n",
      " 75%|███████▌  | 3/4 [00:36<00:11, 11.25s/it]\u001b[A\n",
      "100%|██████████| 4/4 [00:51<00:00, 12.76s/it]\u001b[A\n",
      " 60%|██████    | 3/5 [02:22<01:36, 48.43s/it]\n",
      "  0%|          | 0/4 [00:00<?, ?it/s]\u001b[A\n",
      " 25%|██▌       | 1/4 [00:14<00:42, 14.25s/it]\u001b[A\n",
      " 75%|███████▌  | 3/4 [00:29<00:09,  9.49s/it]\u001b[A\n",
      "100%|██████████| 4/4 [00:43<00:00, 10.78s/it]\u001b[A\n",
      " 80%|████████  | 4/5 [03:05<00:46, 46.33s/it]\n",
      "  0%|          | 0/4 [00:00<?, ?it/s]\u001b[A\n",
      " 25%|██▌       | 1/4 [00:15<00:47, 15.84s/it]\u001b[A\n",
      " 75%|███████▌  | 3/4 [00:32<00:10, 10.26s/it]\u001b[A\n",
      "100%|██████████| 4/4 [00:47<00:00, 11.76s/it]\u001b[A\n",
      "100%|██████████| 5/5 [03:52<00:00, 46.57s/it]\n"
     ]
    },
    {
     "data": {
      "text/html": [
       "<br/>Waiting for W&B process to finish, PID 7490<br/>Program ended successfully."
      ],
      "text/plain": [
       "<IPython.core.display.HTML object>"
      ]
     },
     "metadata": {},
     "output_type": "display_data"
    },
    {
     "data": {
      "application/vnd.jupyter.widget-view+json": {
       "model_id": "",
       "version_major": 2,
       "version_minor": 0
      },
      "text/plain": [
       "VBox(children=(Label(value=' 0.00MB of 0.00MB uploaded (0.00MB deduped)\\r'), FloatProgress(value=1.0, max=1.0)…"
      ]
     },
     "metadata": {},
     "output_type": "display_data"
    },
    {
     "data": {
      "text/html": [
       "Find user logs for this run at: <code>/home/bronzi/ProgProjekte/EIPH_WSI/MIDL2021/Registration/WandB/wandb/run-20210126_191153-an5x9b05/logs/debug.log</code>"
      ],
      "text/plain": [
       "<IPython.core.display.HTML object>"
      ]
     },
     "metadata": {},
     "output_type": "display_data"
    },
    {
     "data": {
      "text/html": [
       "Find internal logs for this run at: <code>/home/bronzi/ProgProjekte/EIPH_WSI/MIDL2021/Registration/WandB/wandb/run-20210126_191153-an5x9b05/logs/debug-internal.log</code>"
      ],
      "text/plain": [
       "<IPython.core.display.HTML object>"
      ]
     },
     "metadata": {},
     "output_type": "display_data"
    },
    {
     "data": {
      "text/html": [
       "<h3>Run summary:</h3><br/><style>\n",
       "    table.wandb td:nth-child(1) { padding: 0 10px; text-align: right }\n",
       "    </style><table class=\"wandb\">\n",
       "<tr><td>dist_mean_image</td><td>16.67306</td></tr><tr><td>mean_reg_error_image</td><td>6.06673</td></tr><tr><td>step</td><td>14</td></tr><tr><td>_step</td><td>15</td></tr><tr><td>_runtime</td><td>233</td></tr><tr><td>_timestamp</td><td>1611684946</td></tr><tr><td>dist_mean</td><td>9.85672</td></tr><tr><td>dist_min</td><td>0.18225</td></tr><tr><td>dist_max</td><td>66.99622</td></tr><tr><td>mean_reg_error</td><td>7.33475</td></tr></table>"
      ],
      "text/plain": [
       "<IPython.core.display.HTML object>"
      ]
     },
     "metadata": {},
     "output_type": "display_data"
    },
    {
     "data": {
      "text/html": [
       "<h3>Run history:</h3><br/><style>\n",
       "    table.wandb td:nth-child(1) { padding: 0 10px; text-align: right }\n",
       "    </style><table class=\"wandb\">\n",
       "<tr><td>dist_mean_image</td><td>▂▂█▂▅▄▁▂▂▄▇▆▂▁▂</td></tr><tr><td>mean_reg_error_image</td><td>▁▁█▁▂▁▁▁▁▁▂▄▂▂▂</td></tr><tr><td>step</td><td>▁▁▂▃▃▃▄▅▅▅▆▇▇▇█</td></tr><tr><td>_step</td><td>▁▁▂▂▃▃▄▄▅▅▆▆▇▇██</td></tr><tr><td>_runtime</td><td>▁▂▂▃▃▃▄▅▅▆▆▆▇███</td></tr><tr><td>_timestamp</td><td>▁▂▂▃▃▃▄▅▅▆▆▆▇███</td></tr><tr><td>dist_mean</td><td>▁</td></tr><tr><td>dist_min</td><td>▁</td></tr><tr><td>dist_max</td><td>▁</td></tr><tr><td>mean_reg_error</td><td>▁</td></tr></table><br/>"
      ],
      "text/plain": [
       "<IPython.core.display.HTML object>"
      ]
     },
     "metadata": {},
     "output_type": "display_data"
    },
    {
     "data": {
      "text/html": [
       "Synced 5 W&B file(s), 0 media file(s), 0 artifact file(s) and 0 other file(s)"
      ],
      "text/plain": [
       "<IPython.core.display.HTML object>"
      ]
     },
     "metadata": {},
     "output_type": "display_data"
    },
    {
     "data": {
      "text/html": [
       "\n",
       "                    <br/>Synced <strong style=\"color:#cdcd00\">peach-sweep-32</strong>: <a href=\"https://wandb.ai/christianml/quadtree/runs/an5x9b05\" target=\"_blank\">https://wandb.ai/christianml/quadtree/runs/an5x9b05</a><br/>\n",
       "                "
      ],
      "text/plain": [
       "<IPython.core.display.HTML object>"
      ]
     },
     "metadata": {},
     "output_type": "display_data"
    },
    {
     "name": "stderr",
     "output_type": "stream",
     "text": [
      "\u001b[34m\u001b[1mwandb\u001b[0m: Agent Starting Run: zq1qbk2c with config:\n",
      "\u001b[34m\u001b[1mwandb\u001b[0m: \tcrossCheck: False\n",
      "\u001b[34m\u001b[1mwandb\u001b[0m: \tfilter_outliner: False\n",
      "\u001b[34m\u001b[1mwandb\u001b[0m: \tflann: True\n",
      "\u001b[34m\u001b[1mwandb\u001b[0m: \thomography: True\n",
      "\u001b[34m\u001b[1mwandb\u001b[0m: \timage_type: Cyto\n",
      "\u001b[34m\u001b[1mwandb\u001b[0m: \tmaxFeatures: 64\n",
      "\u001b[34m\u001b[1mwandb\u001b[0m: \tpoint_extractor: sift\n",
      "\u001b[34m\u001b[1mwandb\u001b[0m: \tratio: 0.7\n",
      "\u001b[34m\u001b[1mwandb\u001b[0m: \tsource_scanner: Aperio\n",
      "\u001b[34m\u001b[1mwandb\u001b[0m: \ttarget_depth: 0\n",
      "\u001b[34m\u001b[1mwandb\u001b[0m: \tthumbnail_size: [2048, 2048]\n",
      "\u001b[34m\u001b[1mwandb\u001b[0m: \tuse_gray: False\n"
     ]
    },
    {
     "data": {
      "text/html": [
       "\n",
       "                Tracking run with wandb version 0.10.15<br/>\n",
       "                Syncing run <strong style=\"color:#cdcd00\">driven-sweep-33</strong> to <a href=\"https://wandb.ai\" target=\"_blank\">Weights & Biases</a> <a href=\"https://docs.wandb.com/integrations/jupyter.html\" target=\"_blank\">(Documentation)</a>.<br/>\n",
       "                Project page: <a href=\"https://wandb.ai/christianml/quadtree\" target=\"_blank\">https://wandb.ai/christianml/quadtree</a><br/>\n",
       "                Sweep page: <a href=\"https://wandb.ai/christianml/quadtree/sweeps/e22y6790\" target=\"_blank\">https://wandb.ai/christianml/quadtree/sweeps/e22y6790</a><br/>\n",
       "Run page: <a href=\"https://wandb.ai/christianml/quadtree/runs/zq1qbk2c\" target=\"_blank\">https://wandb.ai/christianml/quadtree/runs/zq1qbk2c</a><br/>\n",
       "                Run data is saved locally in <code>/home/bronzi/ProgProjekte/EIPH_WSI/MIDL2021/Registration/WandB/wandb/run-20210126_191551-zq1qbk2c</code><br/><br/>\n",
       "            "
      ],
      "text/plain": [
       "<IPython.core.display.HTML object>"
      ]
     },
     "metadata": {},
     "output_type": "display_data"
    },
    {
     "name": "stderr",
     "output_type": "stream",
     "text": [
      "  0%|          | 0/5 [00:00<?, ?it/s]\n",
      "  0%|          | 0/4 [00:00<?, ?it/s]\u001b[A\n",
      " 25%|██▌       | 1/4 [00:08<00:25,  8.40s/it]\u001b[A\n",
      " 75%|███████▌  | 3/4 [00:17<00:05,  5.54s/it]\u001b[A\n",
      "100%|██████████| 4/4 [00:24<00:00,  6.23s/it]\u001b[A\n",
      " 20%|██        | 1/5 [00:24<01:39, 24.94s/it]\n",
      "  0%|          | 0/4 [00:00<?, ?it/s]\u001b[A\n",
      " 25%|██▌       | 1/4 [00:01<00:04,  1.54s/it]\u001b[A\n",
      " 75%|███████▌  | 3/4 [00:04<00:01,  1.34s/it]\u001b[A\n",
      "100%|██████████| 4/4 [00:05<00:00,  1.39s/it]\u001b[A\n",
      " 40%|████      | 2/5 [00:30<00:40, 13.55s/it]\n",
      "  0%|          | 0/4 [00:00<?, ?it/s]\u001b[A\n",
      " 25%|██▌       | 1/4 [00:08<00:24,  8.19s/it]\u001b[A\n",
      " 75%|███████▌  | 3/4 [00:17<00:05,  5.40s/it]\u001b[A\n",
      "100%|██████████| 4/4 [00:24<00:00,  6.15s/it]\u001b[A\n",
      " 60%|██████    | 3/5 [00:55<00:37, 18.59s/it]\n",
      "  0%|          | 0/4 [00:00<?, ?it/s]\u001b[A\n",
      " 25%|██▌       | 1/4 [00:03<00:07,  2.66s/it]\u001b[A\n",
      " 50%|█████     | 2/4 [00:03<00:02,  1.41s/it]\u001b[A\n",
      " 75%|███████▌  | 3/4 [00:05<00:01,  1.87s/it]\u001b[A\n",
      "100%|██████████| 4/4 [00:07<00:00,  1.76s/it]\u001b[A\n",
      " 80%|████████  | 4/5 [01:02<00:14, 14.03s/it]\n",
      "  0%|          | 0/4 [00:00<?, ?it/s]\u001b[A\n",
      " 25%|██▌       | 1/4 [00:08<00:26,  8.99s/it]\u001b[A\n",
      " 75%|███████▌  | 3/4 [00:17<00:05,  5.51s/it]\u001b[A\n",
      "100%|██████████| 4/4 [00:24<00:00,  6.24s/it]\u001b[A\n",
      "100%|██████████| 5/5 [01:27<00:00, 17.42s/it]\n"
     ]
    },
    {
     "data": {
      "text/html": [
       "<br/>Waiting for W&B process to finish, PID 8824<br/>Program ended successfully."
      ],
      "text/plain": [
       "<IPython.core.display.HTML object>"
      ]
     },
     "metadata": {},
     "output_type": "display_data"
    },
    {
     "data": {
      "application/vnd.jupyter.widget-view+json": {
       "model_id": "",
       "version_major": 2,
       "version_minor": 0
      },
      "text/plain": [
       "VBox(children=(Label(value=' 0.00MB of 0.00MB uploaded (0.00MB deduped)\\r'), FloatProgress(value=1.0, max=1.0)…"
      ]
     },
     "metadata": {},
     "output_type": "display_data"
    },
    {
     "data": {
      "text/html": [
       "Find user logs for this run at: <code>/home/bronzi/ProgProjekte/EIPH_WSI/MIDL2021/Registration/WandB/wandb/run-20210126_191551-zq1qbk2c/logs/debug.log</code>"
      ],
      "text/plain": [
       "<IPython.core.display.HTML object>"
      ]
     },
     "metadata": {},
     "output_type": "display_data"
    },
    {
     "data": {
      "text/html": [
       "Find internal logs for this run at: <code>/home/bronzi/ProgProjekte/EIPH_WSI/MIDL2021/Registration/WandB/wandb/run-20210126_191551-zq1qbk2c/logs/debug-internal.log</code>"
      ],
      "text/plain": [
       "<IPython.core.display.HTML object>"
      ]
     },
     "metadata": {},
     "output_type": "display_data"
    },
    {
     "data": {
      "text/html": [
       "<h3>Run summary:</h3><br/><style>\n",
       "    table.wandb td:nth-child(1) { padding: 0 10px; text-align: right }\n",
       "    </style><table class=\"wandb\">\n",
       "<tr><td>dist_mean_image</td><td>20.66578</td></tr><tr><td>mean_reg_error_image</td><td>664.57322</td></tr><tr><td>step</td><td>14</td></tr><tr><td>_step</td><td>15</td></tr><tr><td>_runtime</td><td>87</td></tr><tr><td>_timestamp</td><td>1611685038</td></tr><tr><td>dist_mean</td><td>9.9185</td></tr><tr><td>dist_min</td><td>0.20727</td></tr><tr><td>dist_max</td><td>73.39405</td></tr><tr><td>mean_reg_error</td><td>526.19908</td></tr></table>"
      ],
      "text/plain": [
       "<IPython.core.display.HTML object>"
      ]
     },
     "metadata": {},
     "output_type": "display_data"
    },
    {
     "data": {
      "text/html": [
       "<h3>Run history:</h3><br/><style>\n",
       "    table.wandb td:nth-child(1) { padding: 0 10px; text-align: right }\n",
       "    </style><table class=\"wandb\">\n",
       "<tr><td>dist_mean_image</td><td>▂▂▁▂▄▃▁▂▂▃█▄▂▁▂</td></tr><tr><td>mean_reg_error_image</td><td>▁▁▄▁▂▃▁▁▁▅▃█▁▂▃</td></tr><tr><td>step</td><td>▁▁▂▃▃▃▄▅▅▅▆▇▇▇█</td></tr><tr><td>_step</td><td>▁▁▂▂▃▃▄▄▅▅▆▆▇▇██</td></tr><tr><td>_runtime</td><td>▁▂▂▃▃▃▄▅▅▅▆▆▇▇██</td></tr><tr><td>_timestamp</td><td>▁▂▂▃▃▃▄▅▅▅▆▆▇▇██</td></tr><tr><td>dist_mean</td><td>▁</td></tr><tr><td>dist_min</td><td>▁</td></tr><tr><td>dist_max</td><td>▁</td></tr><tr><td>mean_reg_error</td><td>▁</td></tr></table><br/>"
      ],
      "text/plain": [
       "<IPython.core.display.HTML object>"
      ]
     },
     "metadata": {},
     "output_type": "display_data"
    },
    {
     "data": {
      "text/html": [
       "Synced 5 W&B file(s), 0 media file(s), 0 artifact file(s) and 0 other file(s)"
      ],
      "text/plain": [
       "<IPython.core.display.HTML object>"
      ]
     },
     "metadata": {},
     "output_type": "display_data"
    },
    {
     "data": {
      "text/html": [
       "\n",
       "                    <br/>Synced <strong style=\"color:#cdcd00\">driven-sweep-33</strong>: <a href=\"https://wandb.ai/christianml/quadtree/runs/zq1qbk2c\" target=\"_blank\">https://wandb.ai/christianml/quadtree/runs/zq1qbk2c</a><br/>\n",
       "                "
      ],
      "text/plain": [
       "<IPython.core.display.HTML object>"
      ]
     },
     "metadata": {},
     "output_type": "display_data"
    },
    {
     "name": "stderr",
     "output_type": "stream",
     "text": [
      "\u001b[34m\u001b[1mwandb\u001b[0m: Agent Starting Run: 51mbos9y with config:\n",
      "\u001b[34m\u001b[1mwandb\u001b[0m: \tcrossCheck: False\n",
      "\u001b[34m\u001b[1mwandb\u001b[0m: \tfilter_outliner: False\n",
      "\u001b[34m\u001b[1mwandb\u001b[0m: \tflann: True\n",
      "\u001b[34m\u001b[1mwandb\u001b[0m: \thomography: True\n",
      "\u001b[34m\u001b[1mwandb\u001b[0m: \timage_type: Cyto\n",
      "\u001b[34m\u001b[1mwandb\u001b[0m: \tmaxFeatures: 64\n",
      "\u001b[34m\u001b[1mwandb\u001b[0m: \tpoint_extractor: sift\n",
      "\u001b[34m\u001b[1mwandb\u001b[0m: \tratio: 0.4\n",
      "\u001b[34m\u001b[1mwandb\u001b[0m: \tsource_scanner: Aperio\n",
      "\u001b[34m\u001b[1mwandb\u001b[0m: \ttarget_depth: 0\n",
      "\u001b[34m\u001b[1mwandb\u001b[0m: \tthumbnail_size: [2048, 2048]\n",
      "\u001b[34m\u001b[1mwandb\u001b[0m: \tuse_gray: False\n"
     ]
    },
    {
     "data": {
      "text/html": [
       "\n",
       "                Tracking run with wandb version 0.10.15<br/>\n",
       "                Syncing run <strong style=\"color:#cdcd00\">mild-sweep-34</strong> to <a href=\"https://wandb.ai\" target=\"_blank\">Weights & Biases</a> <a href=\"https://docs.wandb.com/integrations/jupyter.html\" target=\"_blank\">(Documentation)</a>.<br/>\n",
       "                Project page: <a href=\"https://wandb.ai/christianml/quadtree\" target=\"_blank\">https://wandb.ai/christianml/quadtree</a><br/>\n",
       "                Sweep page: <a href=\"https://wandb.ai/christianml/quadtree/sweeps/e22y6790\" target=\"_blank\">https://wandb.ai/christianml/quadtree/sweeps/e22y6790</a><br/>\n",
       "Run page: <a href=\"https://wandb.ai/christianml/quadtree/runs/51mbos9y\" target=\"_blank\">https://wandb.ai/christianml/quadtree/runs/51mbos9y</a><br/>\n",
       "                Run data is saved locally in <code>/home/bronzi/ProgProjekte/EIPH_WSI/MIDL2021/Registration/WandB/wandb/run-20210126_191725-51mbos9y</code><br/><br/>\n",
       "            "
      ],
      "text/plain": [
       "<IPython.core.display.HTML object>"
      ]
     },
     "metadata": {},
     "output_type": "display_data"
    },
    {
     "name": "stderr",
     "output_type": "stream",
     "text": [
      "  0%|          | 0/5 [00:00<?, ?it/s]\n",
      "  0%|          | 0/4 [00:00<?, ?it/s]\u001b[A\n",
      " 25%|██▌       | 1/4 [00:07<00:22,  7.36s/it]\u001b[A\n",
      " 75%|███████▌  | 3/4 [00:15<00:04,  4.89s/it]\u001b[A\n",
      "100%|██████████| 4/4 [00:22<00:00,  5.70s/it]\u001b[A\n",
      " 20%|██        | 1/5 [00:22<01:31, 22.82s/it]\n",
      "  0%|          | 0/4 [00:00<?, ?it/s]\u001b[A\n",
      " 25%|██▌       | 1/4 [00:01<00:05,  1.96s/it]\u001b[A\n",
      " 75%|███████▌  | 3/4 [00:04<00:01,  1.40s/it]\u001b[A\n",
      "100%|██████████| 4/4 [00:05<00:00,  1.45s/it]\u001b[A\n",
      " 40%|████      | 2/5 [00:28<00:38, 12.82s/it]\n",
      "  0%|          | 0/4 [00:00<?, ?it/s]\u001b[A\n",
      " 25%|██▌       | 1/4 [00:09<00:27,  9.18s/it]\u001b[A\n",
      " 75%|███████▌  | 3/4 [00:17<00:05,  5.59s/it]\u001b[A\n",
      "100%|██████████| 4/4 [00:27<00:00,  6.96s/it]\u001b[A\n",
      " 60%|██████    | 3/5 [00:56<00:39, 19.68s/it]\n",
      "  0%|          | 0/4 [00:00<?, ?it/s]\u001b[A\n",
      " 25%|██▌       | 1/4 [00:01<00:04,  1.58s/it]\u001b[A\n",
      " 75%|███████▌  | 3/4 [00:04<00:01,  1.31s/it]\u001b[A\n",
      "100%|██████████| 4/4 [00:05<00:00,  1.35s/it]\u001b[A\n",
      " 80%|████████  | 4/5 [01:01<00:14, 14.04s/it]\n",
      "  0%|          | 0/4 [00:00<?, ?it/s]\u001b[A\n",
      " 25%|██▌       | 1/4 [00:07<00:23,  7.85s/it]\u001b[A\n",
      " 75%|███████▌  | 3/4 [00:18<00:05,  5.86s/it]\u001b[A\n",
      "100%|██████████| 4/4 [00:26<00:00,  6.73s/it]\u001b[A\n",
      "100%|██████████| 5/5 [01:28<00:00, 17.76s/it]\n"
     ]
    },
    {
     "data": {
      "text/html": [
       "<br/>Waiting for W&B process to finish, PID 9018<br/>Program ended successfully."
      ],
      "text/plain": [
       "<IPython.core.display.HTML object>"
      ]
     },
     "metadata": {},
     "output_type": "display_data"
    },
    {
     "data": {
      "application/vnd.jupyter.widget-view+json": {
       "model_id": "",
       "version_major": 2,
       "version_minor": 0
      },
      "text/plain": [
       "VBox(children=(Label(value=' 0.00MB of 0.00MB uploaded (0.00MB deduped)\\r'), FloatProgress(value=1.0, max=1.0)…"
      ]
     },
     "metadata": {},
     "output_type": "display_data"
    },
    {
     "data": {
      "text/html": [
       "Find user logs for this run at: <code>/home/bronzi/ProgProjekte/EIPH_WSI/MIDL2021/Registration/WandB/wandb/run-20210126_191725-51mbos9y/logs/debug.log</code>"
      ],
      "text/plain": [
       "<IPython.core.display.HTML object>"
      ]
     },
     "metadata": {},
     "output_type": "display_data"
    },
    {
     "data": {
      "text/html": [
       "Find internal logs for this run at: <code>/home/bronzi/ProgProjekte/EIPH_WSI/MIDL2021/Registration/WandB/wandb/run-20210126_191725-51mbos9y/logs/debug-internal.log</code>"
      ],
      "text/plain": [
       "<IPython.core.display.HTML object>"
      ]
     },
     "metadata": {},
     "output_type": "display_data"
    },
    {
     "data": {
      "text/html": [
       "<h3>Run summary:</h3><br/><style>\n",
       "    table.wandb td:nth-child(1) { padding: 0 10px; text-align: right }\n",
       "    </style><table class=\"wandb\">\n",
       "<tr><td>dist_mean_image</td><td>33.42759</td></tr><tr><td>mean_reg_error_image</td><td>12.79306</td></tr><tr><td>step</td><td>14</td></tr><tr><td>_step</td><td>15</td></tr><tr><td>_runtime</td><td>89</td></tr><tr><td>_timestamp</td><td>1611685134</td></tr><tr><td>dist_mean</td><td>11.17275</td></tr><tr><td>dist_min</td><td>0.46209</td></tr><tr><td>dist_max</td><td>77.5559</td></tr><tr><td>mean_reg_error</td><td>7.44868</td></tr></table>"
      ],
      "text/plain": [
       "<IPython.core.display.HTML object>"
      ]
     },
     "metadata": {},
     "output_type": "display_data"
    },
    {
     "data": {
      "text/html": [
       "<h3>Run history:</h3><br/><style>\n",
       "    table.wandb td:nth-child(1) { padding: 0 10px; text-align: right }\n",
       "    </style><table class=\"wandb\">\n",
       "<tr><td>dist_mean_image</td><td>▂▂▂▃▄▃▁▂▂▃█▅▂▁▄</td></tr><tr><td>mean_reg_error_image</td><td>▃▁█▁▃▂▃▂▄▂▃▆▄▃█</td></tr><tr><td>step</td><td>▁▁▂▃▃▃▄▅▅▅▆▇▇▇█</td></tr><tr><td>_step</td><td>▁▁▂▂▃▃▄▄▅▅▆▆▇▇██</td></tr><tr><td>_runtime</td><td>▁▂▂▂▃▃▄▄▅▅▆▆▆▇██</td></tr><tr><td>_timestamp</td><td>▁▂▂▂▃▃▄▄▅▅▆▆▆▇██</td></tr><tr><td>dist_mean</td><td>▁</td></tr><tr><td>dist_min</td><td>▁</td></tr><tr><td>dist_max</td><td>▁</td></tr><tr><td>mean_reg_error</td><td>▁</td></tr></table><br/>"
      ],
      "text/plain": [
       "<IPython.core.display.HTML object>"
      ]
     },
     "metadata": {},
     "output_type": "display_data"
    },
    {
     "data": {
      "text/html": [
       "Synced 5 W&B file(s), 0 media file(s), 0 artifact file(s) and 0 other file(s)"
      ],
      "text/plain": [
       "<IPython.core.display.HTML object>"
      ]
     },
     "metadata": {},
     "output_type": "display_data"
    },
    {
     "data": {
      "text/html": [
       "\n",
       "                    <br/>Synced <strong style=\"color:#cdcd00\">mild-sweep-34</strong>: <a href=\"https://wandb.ai/christianml/quadtree/runs/51mbos9y\" target=\"_blank\">https://wandb.ai/christianml/quadtree/runs/51mbos9y</a><br/>\n",
       "                "
      ],
      "text/plain": [
       "<IPython.core.display.HTML object>"
      ]
     },
     "metadata": {},
     "output_type": "display_data"
    },
    {
     "name": "stderr",
     "output_type": "stream",
     "text": [
      "\u001b[34m\u001b[1mwandb\u001b[0m: Agent Starting Run: 8on2ctcg with config:\n",
      "\u001b[34m\u001b[1mwandb\u001b[0m: \tcrossCheck: False\n",
      "\u001b[34m\u001b[1mwandb\u001b[0m: \tfilter_outliner: False\n",
      "\u001b[34m\u001b[1mwandb\u001b[0m: \tflann: True\n",
      "\u001b[34m\u001b[1mwandb\u001b[0m: \thomography: True\n",
      "\u001b[34m\u001b[1mwandb\u001b[0m: \timage_type: Cyto\n",
      "\u001b[34m\u001b[1mwandb\u001b[0m: \tmaxFeatures: 2048\n",
      "\u001b[34m\u001b[1mwandb\u001b[0m: \tpoint_extractor: sift\n",
      "\u001b[34m\u001b[1mwandb\u001b[0m: \tratio: 0.3\n",
      "\u001b[34m\u001b[1mwandb\u001b[0m: \tsource_scanner: Aperio\n",
      "\u001b[34m\u001b[1mwandb\u001b[0m: \ttarget_depth: 0\n",
      "\u001b[34m\u001b[1mwandb\u001b[0m: \tthumbnail_size: [1024, 1024]\n",
      "\u001b[34m\u001b[1mwandb\u001b[0m: \tuse_gray: False\n"
     ]
    },
    {
     "data": {
      "text/html": [
       "\n",
       "                Tracking run with wandb version 0.10.15<br/>\n",
       "                Syncing run <strong style=\"color:#cdcd00\">amber-sweep-35</strong> to <a href=\"https://wandb.ai\" target=\"_blank\">Weights & Biases</a> <a href=\"https://docs.wandb.com/integrations/jupyter.html\" target=\"_blank\">(Documentation)</a>.<br/>\n",
       "                Project page: <a href=\"https://wandb.ai/christianml/quadtree\" target=\"_blank\">https://wandb.ai/christianml/quadtree</a><br/>\n",
       "                Sweep page: <a href=\"https://wandb.ai/christianml/quadtree/sweeps/e22y6790\" target=\"_blank\">https://wandb.ai/christianml/quadtree/sweeps/e22y6790</a><br/>\n",
       "Run page: <a href=\"https://wandb.ai/christianml/quadtree/runs/8on2ctcg\" target=\"_blank\">https://wandb.ai/christianml/quadtree/runs/8on2ctcg</a><br/>\n",
       "                Run data is saved locally in <code>/home/bronzi/ProgProjekte/EIPH_WSI/MIDL2021/Registration/WandB/wandb/run-20210126_191858-8on2ctcg</code><br/><br/>\n",
       "            "
      ],
      "text/plain": [
       "<IPython.core.display.HTML object>"
      ]
     },
     "metadata": {},
     "output_type": "display_data"
    },
    {
     "name": "stderr",
     "output_type": "stream",
     "text": [
      "  0%|          | 0/5 [00:00<?, ?it/s]\n",
      "  0%|          | 0/4 [00:00<?, ?it/s]\u001b[A\n",
      " 25%|██▌       | 1/4 [00:00<00:01,  1.61it/s]\u001b[A\n",
      " 75%|███████▌  | 3/4 [00:02<00:00,  1.25it/s]\u001b[A\n",
      "  0%|          | 0/5 [00:02<?, ?it/s]\n"
     ]
    },
    {
     "data": {
      "text/html": [
       "<br/>Waiting for W&B process to finish, PID 9322<br/>Program failed with code 1.  Press ctrl-c to abort syncing."
      ],
      "text/plain": [
       "<IPython.core.display.HTML object>"
      ]
     },
     "metadata": {},
     "output_type": "display_data"
    },
    {
     "data": {
      "application/vnd.jupyter.widget-view+json": {
       "model_id": "",
       "version_major": 2,
       "version_minor": 0
      },
      "text/plain": [
       "VBox(children=(Label(value=' 0.00MB of 0.00MB uploaded (0.00MB deduped)\\r'), FloatProgress(value=1.0, max=1.0)…"
      ]
     },
     "metadata": {},
     "output_type": "display_data"
    },
    {
     "data": {
      "text/html": [
       "Find user logs for this run at: <code>/home/bronzi/ProgProjekte/EIPH_WSI/MIDL2021/Registration/WandB/wandb/run-20210126_191858-8on2ctcg/logs/debug.log</code>"
      ],
      "text/plain": [
       "<IPython.core.display.HTML object>"
      ]
     },
     "metadata": {},
     "output_type": "display_data"
    },
    {
     "data": {
      "text/html": [
       "Find internal logs for this run at: <code>/home/bronzi/ProgProjekte/EIPH_WSI/MIDL2021/Registration/WandB/wandb/run-20210126_191858-8on2ctcg/logs/debug-internal.log</code>"
      ],
      "text/plain": [
       "<IPython.core.display.HTML object>"
      ]
     },
     "metadata": {},
     "output_type": "display_data"
    },
    {
     "data": {
      "text/html": [
       "<h3>Run summary:</h3><br/><style>\n",
       "    table.wandb td:nth-child(1) { padding: 0 10px; text-align: right }\n",
       "    </style><table class=\"wandb\">\n",
       "<tr><td>dist_mean_image</td><td>35.21697</td></tr><tr><td>mean_reg_error_image</td><td>6.84955</td></tr><tr><td>step</td><td>1</td></tr><tr><td>_step</td><td>1</td></tr><tr><td>_runtime</td><td>3</td></tr><tr><td>_timestamp</td><td>1611685141</td></tr></table>"
      ],
      "text/plain": [
       "<IPython.core.display.HTML object>"
      ]
     },
     "metadata": {},
     "output_type": "display_data"
    },
    {
     "data": {
      "text/html": [
       "<h3>Run history:</h3><br/><style>\n",
       "    table.wandb td:nth-child(1) { padding: 0 10px; text-align: right }\n",
       "    </style><table class=\"wandb\">\n",
       "<tr><td>dist_mean_image</td><td>▁█</td></tr><tr><td>mean_reg_error_image</td><td>█▁</td></tr><tr><td>step</td><td>▁█</td></tr><tr><td>_step</td><td>▁█</td></tr><tr><td>_runtime</td><td>▁█</td></tr><tr><td>_timestamp</td><td>▁█</td></tr></table><br/>"
      ],
      "text/plain": [
       "<IPython.core.display.HTML object>"
      ]
     },
     "metadata": {},
     "output_type": "display_data"
    },
    {
     "data": {
      "text/html": [
       "Synced 5 W&B file(s), 0 media file(s), 0 artifact file(s) and 0 other file(s)"
      ],
      "text/plain": [
       "<IPython.core.display.HTML object>"
      ]
     },
     "metadata": {},
     "output_type": "display_data"
    },
    {
     "data": {
      "text/html": [
       "\n",
       "                    <br/>Synced <strong style=\"color:#cdcd00\">amber-sweep-35</strong>: <a href=\"https://wandb.ai/christianml/quadtree/runs/8on2ctcg\" target=\"_blank\">https://wandb.ai/christianml/quadtree/runs/8on2ctcg</a><br/>\n",
       "                "
      ],
      "text/plain": [
       "<IPython.core.display.HTML object>"
      ]
     },
     "metadata": {},
     "output_type": "display_data"
    },
    {
     "name": "stderr",
     "output_type": "stream",
     "text": [
      "Run 8on2ctcg errored: error(\"OpenCV(4.5.1) /tmp/pip-req-build-ms668fyv/opencv/modules/calib3d/src/fundam.cpp:385: error: (-28:Unknown error code -28) The input arrays should have at least 4 corresponding point sets to calculate Homography in function 'findHomography'\\n\")\n",
      "\u001b[34m\u001b[1mwandb\u001b[0m: \u001b[32m\u001b[41mERROR\u001b[0m Run 8on2ctcg errored: error(\"OpenCV(4.5.1) /tmp/pip-req-build-ms668fyv/opencv/modules/calib3d/src/fundam.cpp:385: error: (-28:Unknown error code -28) The input arrays should have at least 4 corresponding point sets to calculate Homography in function 'findHomography'\\n\")\n",
      "\u001b[34m\u001b[1mwandb\u001b[0m: Agent Starting Run: sskow6b3 with config:\n",
      "\u001b[34m\u001b[1mwandb\u001b[0m: \tcrossCheck: False\n",
      "\u001b[34m\u001b[1mwandb\u001b[0m: \tfilter_outliner: False\n",
      "\u001b[34m\u001b[1mwandb\u001b[0m: \tflann: False\n",
      "\u001b[34m\u001b[1mwandb\u001b[0m: \thomography: True\n",
      "\u001b[34m\u001b[1mwandb\u001b[0m: \timage_type: Cyto\n",
      "\u001b[34m\u001b[1mwandb\u001b[0m: \tmaxFeatures: 256\n",
      "\u001b[34m\u001b[1mwandb\u001b[0m: \tpoint_extractor: sift\n",
      "\u001b[34m\u001b[1mwandb\u001b[0m: \tratio: 0.7\n",
      "\u001b[34m\u001b[1mwandb\u001b[0m: \tsource_scanner: Aperio\n",
      "\u001b[34m\u001b[1mwandb\u001b[0m: \ttarget_depth: 0\n",
      "\u001b[34m\u001b[1mwandb\u001b[0m: \tthumbnail_size: [4096, 4096]\n",
      "\u001b[34m\u001b[1mwandb\u001b[0m: \tuse_gray: True\n"
     ]
    },
    {
     "data": {
      "text/html": [
       "\n",
       "                Tracking run with wandb version 0.10.15<br/>\n",
       "                Syncing run <strong style=\"color:#cdcd00\">trim-sweep-36</strong> to <a href=\"https://wandb.ai\" target=\"_blank\">Weights & Biases</a> <a href=\"https://docs.wandb.com/integrations/jupyter.html\" target=\"_blank\">(Documentation)</a>.<br/>\n",
       "                Project page: <a href=\"https://wandb.ai/christianml/quadtree\" target=\"_blank\">https://wandb.ai/christianml/quadtree</a><br/>\n",
       "                Sweep page: <a href=\"https://wandb.ai/christianml/quadtree/sweeps/e22y6790\" target=\"_blank\">https://wandb.ai/christianml/quadtree/sweeps/e22y6790</a><br/>\n",
       "Run page: <a href=\"https://wandb.ai/christianml/quadtree/runs/sskow6b3\" target=\"_blank\">https://wandb.ai/christianml/quadtree/runs/sskow6b3</a><br/>\n",
       "                Run data is saved locally in <code>/home/bronzi/ProgProjekte/EIPH_WSI/MIDL2021/Registration/WandB/wandb/run-20210126_191905-sskow6b3</code><br/><br/>\n",
       "            "
      ],
      "text/plain": [
       "<IPython.core.display.HTML object>"
      ]
     },
     "metadata": {},
     "output_type": "display_data"
    },
    {
     "name": "stderr",
     "output_type": "stream",
     "text": [
      "  0%|          | 0/5 [00:00<?, ?it/s]\n",
      "  0%|          | 0/4 [00:00<?, ?it/s]\u001b[A\n",
      " 25%|██▌       | 1/4 [00:17<00:53, 17.76s/it]\u001b[A\n",
      " 75%|███████▌  | 3/4 [00:36<00:11, 11.40s/it]\u001b[A\n",
      "100%|██████████| 4/4 [00:48<00:00, 12.15s/it]\u001b[A\n",
      " 20%|██        | 1/5 [00:48<03:14, 48.61s/it]\n",
      "  0%|          | 0/4 [00:00<?, ?it/s]\u001b[A\n",
      " 25%|██▌       | 1/4 [00:14<00:42, 14.18s/it]\u001b[A\n",
      " 75%|███████▌  | 3/4 [00:33<00:10, 10.68s/it]\u001b[A\n",
      "100%|██████████| 4/4 [00:46<00:00, 11.74s/it]\u001b[A\n",
      " 40%|████      | 2/5 [01:35<02:22, 47.63s/it]\n",
      "  0%|          | 0/4 [00:00<?, ?it/s]\u001b[A\n",
      " 25%|██▌       | 1/4 [00:17<00:52, 17.33s/it]\u001b[A\n",
      " 75%|███████▌  | 3/4 [00:35<00:11, 11.23s/it]\u001b[A\n",
      "100%|██████████| 4/4 [00:49<00:00, 12.42s/it]\u001b[A\n",
      " 60%|██████    | 3/5 [02:25<01:37, 48.57s/it]\n",
      "  0%|          | 0/4 [00:00<?, ?it/s]\u001b[A\n",
      " 25%|██▌       | 1/4 [00:16<00:50, 16.99s/it]\u001b[A\n",
      " 75%|███████▌  | 3/4 [00:36<00:11, 11.56s/it]\u001b[A\n",
      "100%|██████████| 4/4 [00:50<00:00, 12.73s/it]\u001b[A\n",
      " 80%|████████  | 4/5 [03:16<00:49, 49.49s/it]\n",
      "  0%|          | 0/4 [00:00<?, ?it/s]\u001b[A\n",
      " 25%|██▌       | 1/4 [00:15<00:45, 15.15s/it]\u001b[A\n",
      " 75%|███████▌  | 3/4 [00:31<00:10, 10.07s/it]\u001b[A\n",
      "100%|██████████| 4/4 [00:44<00:00, 11.13s/it]\u001b[A\n",
      "100%|██████████| 5/5 [04:00<00:00, 48.14s/it]\n"
     ]
    },
    {
     "data": {
      "text/html": [
       "<br/>Waiting for W&B process to finish, PID 9384<br/>Program ended successfully."
      ],
      "text/plain": [
       "<IPython.core.display.HTML object>"
      ]
     },
     "metadata": {},
     "output_type": "display_data"
    },
    {
     "data": {
      "application/vnd.jupyter.widget-view+json": {
       "model_id": "",
       "version_major": 2,
       "version_minor": 0
      },
      "text/plain": [
       "VBox(children=(Label(value=' 0.00MB of 0.00MB uploaded (0.00MB deduped)\\r'), FloatProgress(value=1.0, max=1.0)…"
      ]
     },
     "metadata": {},
     "output_type": "display_data"
    },
    {
     "data": {
      "text/html": [
       "Find user logs for this run at: <code>/home/bronzi/ProgProjekte/EIPH_WSI/MIDL2021/Registration/WandB/wandb/run-20210126_191905-sskow6b3/logs/debug.log</code>"
      ],
      "text/plain": [
       "<IPython.core.display.HTML object>"
      ]
     },
     "metadata": {},
     "output_type": "display_data"
    },
    {
     "data": {
      "text/html": [
       "Find internal logs for this run at: <code>/home/bronzi/ProgProjekte/EIPH_WSI/MIDL2021/Registration/WandB/wandb/run-20210126_191905-sskow6b3/logs/debug-internal.log</code>"
      ],
      "text/plain": [
       "<IPython.core.display.HTML object>"
      ]
     },
     "metadata": {},
     "output_type": "display_data"
    },
    {
     "data": {
      "text/html": [
       "<h3>Run summary:</h3><br/><style>\n",
       "    table.wandb td:nth-child(1) { padding: 0 10px; text-align: right }\n",
       "    </style><table class=\"wandb\">\n",
       "<tr><td>dist_mean_image</td><td>25.6657</td></tr><tr><td>mean_reg_error_image</td><td>447.86235</td></tr><tr><td>step</td><td>14</td></tr><tr><td>_step</td><td>15</td></tr><tr><td>_runtime</td><td>241</td></tr><tr><td>_timestamp</td><td>1611685386</td></tr><tr><td>dist_mean</td><td>9.25645</td></tr><tr><td>dist_min</td><td>0.29454</td></tr><tr><td>dist_max</td><td>59.47412</td></tr><tr><td>mean_reg_error</td><td>503.31377</td></tr></table>"
      ],
      "text/plain": [
       "<IPython.core.display.HTML object>"
      ]
     },
     "metadata": {},
     "output_type": "display_data"
    },
    {
     "data": {
      "text/html": [
       "<h3>Run history:</h3><br/><style>\n",
       "    table.wandb td:nth-child(1) { padding: 0 10px; text-align: right }\n",
       "    </style><table class=\"wandb\">\n",
       "<tr><td>dist_mean_image</td><td>▂▂▁▂▅▃▁▃▃▃█▆▁▁▃</td></tr><tr><td>mean_reg_error_image</td><td>▁▁▃▁▁▂▁▁▂▂▄█▁▁▂</td></tr><tr><td>step</td><td>▁▁▂▃▃▃▄▅▅▅▆▇▇▇█</td></tr><tr><td>_step</td><td>▁▁▂▂▃▃▄▄▅▅▆▆▇▇██</td></tr><tr><td>_runtime</td><td>▁▂▂▂▃▃▄▅▅▆▆▇▇███</td></tr><tr><td>_timestamp</td><td>▁▂▂▂▃▃▄▅▅▆▆▇▇███</td></tr><tr><td>dist_mean</td><td>▁</td></tr><tr><td>dist_min</td><td>▁</td></tr><tr><td>dist_max</td><td>▁</td></tr><tr><td>mean_reg_error</td><td>▁</td></tr></table><br/>"
      ],
      "text/plain": [
       "<IPython.core.display.HTML object>"
      ]
     },
     "metadata": {},
     "output_type": "display_data"
    },
    {
     "data": {
      "text/html": [
       "Synced 5 W&B file(s), 0 media file(s), 0 artifact file(s) and 0 other file(s)"
      ],
      "text/plain": [
       "<IPython.core.display.HTML object>"
      ]
     },
     "metadata": {},
     "output_type": "display_data"
    },
    {
     "data": {
      "text/html": [
       "\n",
       "                    <br/>Synced <strong style=\"color:#cdcd00\">trim-sweep-36</strong>: <a href=\"https://wandb.ai/christianml/quadtree/runs/sskow6b3\" target=\"_blank\">https://wandb.ai/christianml/quadtree/runs/sskow6b3</a><br/>\n",
       "                "
      ],
      "text/plain": [
       "<IPython.core.display.HTML object>"
      ]
     },
     "metadata": {},
     "output_type": "display_data"
    },
    {
     "name": "stderr",
     "output_type": "stream",
     "text": [
      "\u001b[34m\u001b[1mwandb\u001b[0m: Agent Starting Run: mwv2t9td with config:\n",
      "\u001b[34m\u001b[1mwandb\u001b[0m: \tcrossCheck: False\n",
      "\u001b[34m\u001b[1mwandb\u001b[0m: \tfilter_outliner: False\n",
      "\u001b[34m\u001b[1mwandb\u001b[0m: \tflann: False\n",
      "\u001b[34m\u001b[1mwandb\u001b[0m: \thomography: False\n",
      "\u001b[34m\u001b[1mwandb\u001b[0m: \timage_type: Cyto\n",
      "\u001b[34m\u001b[1mwandb\u001b[0m: \tmaxFeatures: 512\n",
      "\u001b[34m\u001b[1mwandb\u001b[0m: \tpoint_extractor: sift\n",
      "\u001b[34m\u001b[1mwandb\u001b[0m: \tratio: 0.9\n",
      "\u001b[34m\u001b[1mwandb\u001b[0m: \tsource_scanner: Aperio\n",
      "\u001b[34m\u001b[1mwandb\u001b[0m: \ttarget_depth: 0\n",
      "\u001b[34m\u001b[1mwandb\u001b[0m: \tthumbnail_size: [2048, 2048]\n",
      "\u001b[34m\u001b[1mwandb\u001b[0m: \tuse_gray: False\n"
     ]
    },
    {
     "data": {
      "text/html": [
       "\n",
       "                Tracking run with wandb version 0.10.15<br/>\n",
       "                Syncing run <strong style=\"color:#cdcd00\">copper-sweep-37</strong> to <a href=\"https://wandb.ai\" target=\"_blank\">Weights & Biases</a> <a href=\"https://docs.wandb.com/integrations/jupyter.html\" target=\"_blank\">(Documentation)</a>.<br/>\n",
       "                Project page: <a href=\"https://wandb.ai/christianml/quadtree\" target=\"_blank\">https://wandb.ai/christianml/quadtree</a><br/>\n",
       "                Sweep page: <a href=\"https://wandb.ai/christianml/quadtree/sweeps/e22y6790\" target=\"_blank\">https://wandb.ai/christianml/quadtree/sweeps/e22y6790</a><br/>\n",
       "Run page: <a href=\"https://wandb.ai/christianml/quadtree/runs/mwv2t9td\" target=\"_blank\">https://wandb.ai/christianml/quadtree/runs/mwv2t9td</a><br/>\n",
       "                Run data is saved locally in <code>/home/bronzi/ProgProjekte/EIPH_WSI/MIDL2021/Registration/WandB/wandb/run-20210126_192311-mwv2t9td</code><br/><br/>\n",
       "            "
      ],
      "text/plain": [
       "<IPython.core.display.HTML object>"
      ]
     },
     "metadata": {},
     "output_type": "display_data"
    },
    {
     "name": "stderr",
     "output_type": "stream",
     "text": [
      "  0%|          | 0/5 [00:00<?, ?it/s]\n",
      "  0%|          | 0/4 [00:00<?, ?it/s]\u001b[A\n",
      " 25%|██▌       | 1/4 [02:45<08:15, 165.31s/it]\u001b[A\n",
      " 75%|███████▌  | 3/4 [05:35<01:45, 105.85s/it]\u001b[A\n",
      "100%|██████████| 4/4 [06:21<00:00, 95.44s/it] \u001b[A\n",
      " 20%|██        | 1/5 [06:21<25:27, 381.77s/it]\n",
      "  0%|          | 0/4 [00:00<?, ?it/s]\u001b[A\n",
      " 25%|██▌       | 1/4 [00:36<01:49, 36.49s/it]\u001b[A\n",
      " 75%|███████▌  | 3/4 [01:09<00:21, 21.60s/it]\u001b[A\n",
      "100%|██████████| 4/4 [01:29<00:00, 22.44s/it]\u001b[A\n",
      " 40%|████      | 2/5 [07:51<10:30, 210.02s/it]\n",
      "  0%|          | 0/4 [00:00<?, ?it/s]\u001b[A\n",
      " 25%|██▌       | 1/4 [02:37<07:51, 157.31s/it]\u001b[A\n",
      " 75%|███████▌  | 3/4 [04:29<01:22, 82.25s/it] \u001b[A\n",
      "100%|██████████| 4/4 [05:36<00:00, 84.06s/it]\u001b[A\n",
      " 60%|██████    | 3/5 [13:27<08:55, 267.66s/it]\n",
      "  0%|          | 0/4 [00:00<?, ?it/s]\u001b[A\n",
      " 25%|██▌       | 1/4 [00:11<00:35, 11.82s/it]\u001b[A\n",
      " 75%|███████▌  | 3/4 [00:26<00:08,  8.62s/it]\u001b[A\n",
      "100%|██████████| 4/4 [00:35<00:00,  8.90s/it]\u001b[A\n",
      " 80%|████████  | 4/5 [14:03<02:56, 176.05s/it]\n",
      "  0%|          | 0/4 [00:00<?, ?it/s]\u001b[A\n",
      " 25%|██▌       | 1/4 [01:32<04:36, 92.08s/it]\u001b[A\n",
      " 75%|███████▌  | 3/4 [03:05<00:58, 58.56s/it]\u001b[A\n",
      "100%|██████████| 4/4 [03:52<00:00, 58.12s/it]\u001b[A\n",
      "100%|██████████| 5/5 [17:55<00:00, 215.18s/it]\n"
     ]
    },
    {
     "data": {
      "text/html": [
       "<br/>Waiting for W&B process to finish, PID 9812<br/>Program ended successfully."
      ],
      "text/plain": [
       "<IPython.core.display.HTML object>"
      ]
     },
     "metadata": {},
     "output_type": "display_data"
    },
    {
     "data": {
      "application/vnd.jupyter.widget-view+json": {
       "model_id": "",
       "version_major": 2,
       "version_minor": 0
      },
      "text/plain": [
       "VBox(children=(Label(value=' 0.00MB of 0.00MB uploaded (0.00MB deduped)\\r'), FloatProgress(value=1.0, max=1.0)…"
      ]
     },
     "metadata": {},
     "output_type": "display_data"
    },
    {
     "data": {
      "text/html": [
       "Find user logs for this run at: <code>/home/bronzi/ProgProjekte/EIPH_WSI/MIDL2021/Registration/WandB/wandb/run-20210126_192311-mwv2t9td/logs/debug.log</code>"
      ],
      "text/plain": [
       "<IPython.core.display.HTML object>"
      ]
     },
     "metadata": {},
     "output_type": "display_data"
    },
    {
     "data": {
      "text/html": [
       "Find internal logs for this run at: <code>/home/bronzi/ProgProjekte/EIPH_WSI/MIDL2021/Registration/WandB/wandb/run-20210126_192311-mwv2t9td/logs/debug-internal.log</code>"
      ],
      "text/plain": [
       "<IPython.core.display.HTML object>"
      ]
     },
     "metadata": {},
     "output_type": "display_data"
    },
    {
     "data": {
      "text/html": [
       "<h3>Run summary:</h3><br/><style>\n",
       "    table.wandb td:nth-child(1) { padding: 0 10px; text-align: right }\n",
       "    </style><table class=\"wandb\">\n",
       "<tr><td>dist_mean_image</td><td>28.12084</td></tr><tr><td>mean_reg_error_image</td><td>5864.57363</td></tr><tr><td>step</td><td>14</td></tr><tr><td>_step</td><td>15</td></tr><tr><td>_runtime</td><td>1077</td></tr><tr><td>_timestamp</td><td>1611686468</td></tr><tr><td>dist_mean</td><td>10.75778</td></tr><tr><td>dist_min</td><td>0.50928</td></tr><tr><td>dist_max</td><td>73.37777</td></tr><tr><td>mean_reg_error</td><td>4378.14524</td></tr></table>"
      ],
      "text/plain": [
       "<IPython.core.display.HTML object>"
      ]
     },
     "metadata": {},
     "output_type": "display_data"
    },
    {
     "data": {
      "text/html": [
       "<h3>Run history:</h3><br/><style>\n",
       "    table.wandb td:nth-child(1) { padding: 0 10px; text-align: right }\n",
       "    </style><table class=\"wandb\">\n",
       "<tr><td>dist_mean_image</td><td>▁▂▃▂▄▃▁▂▂▃█▄▁▁▃</td></tr><tr><td>mean_reg_error_image</td><td>▂▂█▂▃▄▁▂▃▆▅█▂▂▅</td></tr><tr><td>step</td><td>▁▁▂▃▃▃▄▅▅▅▆▇▇▇█</td></tr><tr><td>_step</td><td>▁▁▂▂▃▃▄▄▅▅▆▆▇▇██</td></tr><tr><td>_runtime</td><td>▁▂▃▃▃▃▅▅▆▆▆▆▇███</td></tr><tr><td>_timestamp</td><td>▁▂▃▃▃▃▅▅▆▆▆▆▇███</td></tr><tr><td>dist_mean</td><td>▁</td></tr><tr><td>dist_min</td><td>▁</td></tr><tr><td>dist_max</td><td>▁</td></tr><tr><td>mean_reg_error</td><td>▁</td></tr></table><br/>"
      ],
      "text/plain": [
       "<IPython.core.display.HTML object>"
      ]
     },
     "metadata": {},
     "output_type": "display_data"
    },
    {
     "data": {
      "text/html": [
       "Synced 5 W&B file(s), 0 media file(s), 0 artifact file(s) and 0 other file(s)"
      ],
      "text/plain": [
       "<IPython.core.display.HTML object>"
      ]
     },
     "metadata": {},
     "output_type": "display_data"
    },
    {
     "data": {
      "text/html": [
       "\n",
       "                    <br/>Synced <strong style=\"color:#cdcd00\">copper-sweep-37</strong>: <a href=\"https://wandb.ai/christianml/quadtree/runs/mwv2t9td\" target=\"_blank\">https://wandb.ai/christianml/quadtree/runs/mwv2t9td</a><br/>\n",
       "                "
      ],
      "text/plain": [
       "<IPython.core.display.HTML object>"
      ]
     },
     "metadata": {},
     "output_type": "display_data"
    },
    {
     "name": "stderr",
     "output_type": "stream",
     "text": [
      "\u001b[34m\u001b[1mwandb\u001b[0m: Agent Starting Run: 4wkwvn0u with config:\n",
      "\u001b[34m\u001b[1mwandb\u001b[0m: \tcrossCheck: False\n",
      "\u001b[34m\u001b[1mwandb\u001b[0m: \tfilter_outliner: False\n",
      "\u001b[34m\u001b[1mwandb\u001b[0m: \tflann: True\n",
      "\u001b[34m\u001b[1mwandb\u001b[0m: \thomography: False\n",
      "\u001b[34m\u001b[1mwandb\u001b[0m: \timage_type: Cyto\n",
      "\u001b[34m\u001b[1mwandb\u001b[0m: \tmaxFeatures: 128\n",
      "\u001b[34m\u001b[1mwandb\u001b[0m: \tpoint_extractor: sift\n",
      "\u001b[34m\u001b[1mwandb\u001b[0m: \tratio: 0.6\n",
      "\u001b[34m\u001b[1mwandb\u001b[0m: \tsource_scanner: Aperio\n",
      "\u001b[34m\u001b[1mwandb\u001b[0m: \ttarget_depth: 0\n",
      "\u001b[34m\u001b[1mwandb\u001b[0m: \tthumbnail_size: [4096, 4096]\n",
      "\u001b[34m\u001b[1mwandb\u001b[0m: \tuse_gray: True\n"
     ]
    },
    {
     "data": {
      "text/html": [
       "\n",
       "                Tracking run with wandb version 0.10.15<br/>\n",
       "                Syncing run <strong style=\"color:#cdcd00\">still-sweep-38</strong> to <a href=\"https://wandb.ai\" target=\"_blank\">Weights & Biases</a> <a href=\"https://docs.wandb.com/integrations/jupyter.html\" target=\"_blank\">(Documentation)</a>.<br/>\n",
       "                Project page: <a href=\"https://wandb.ai/christianml/quadtree\" target=\"_blank\">https://wandb.ai/christianml/quadtree</a><br/>\n",
       "                Sweep page: <a href=\"https://wandb.ai/christianml/quadtree/sweeps/e22y6790\" target=\"_blank\">https://wandb.ai/christianml/quadtree/sweeps/e22y6790</a><br/>\n",
       "Run page: <a href=\"https://wandb.ai/christianml/quadtree/runs/4wkwvn0u\" target=\"_blank\">https://wandb.ai/christianml/quadtree/runs/4wkwvn0u</a><br/>\n",
       "                Run data is saved locally in <code>/home/bronzi/ProgProjekte/EIPH_WSI/MIDL2021/Registration/WandB/wandb/run-20210126_194112-4wkwvn0u</code><br/><br/>\n",
       "            "
      ],
      "text/plain": [
       "<IPython.core.display.HTML object>"
      ]
     },
     "metadata": {},
     "output_type": "display_data"
    },
    {
     "name": "stderr",
     "output_type": "stream",
     "text": [
      "  0%|          | 0/5 [00:00<?, ?it/s]\n",
      "  0%|          | 0/4 [00:00<?, ?it/s]\u001b[A\n",
      " 25%|██▌       | 1/4 [06:28<19:25, 388.40s/it]\u001b[A\n",
      " 75%|███████▌  | 3/4 [09:26<02:46, 166.62s/it]\u001b[A\n",
      "100%|██████████| 4/4 [09:49<00:00, 147.31s/it]\u001b[A\n",
      " 20%|██        | 1/5 [09:49<39:17, 589.27s/it]\n",
      "  0%|          | 0/4 [00:00<?, ?it/s]\u001b[A\n",
      " 25%|██▌       | 1/4 [02:53<08:41, 173.88s/it]\u001b[A\n",
      " 75%|███████▌  | 3/4 [03:46<01:04, 64.68s/it] \u001b[A\n",
      "100%|██████████| 4/4 [04:17<00:00, 64.25s/it]\u001b[A\n",
      " 40%|████      | 2/5 [14:06<19:41, 393.82s/it]\n",
      "  0%|          | 0/4 [00:00<?, ?it/s]\u001b[A\n",
      " 25%|██▌       | 1/4 [16:52<50:37, 1012.47s/it]\u001b[A\n",
      " 75%|███████▌  | 3/4 [21:37<06:08, 368.23s/it] \u001b[A\n",
      "100%|██████████| 4/4 [22:24<00:00, 336.00s/it]\u001b[A\n",
      " 60%|██████    | 3/5 [36:30<27:35, 827.70s/it]\n",
      "  0%|          | 0/4 [00:00<?, ?it/s]\u001b[A\n",
      " 25%|██▌       | 1/4 [00:33<01:40, 33.35s/it]\u001b[A\n",
      " 75%|███████▌  | 3/4 [00:54<00:16, 16.56s/it]\u001b[A\n",
      "100%|██████████| 4/4 [01:11<00:00, 17.79s/it]\u001b[A\n",
      " 80%|████████  | 4/5 [37:41<08:49, 529.03s/it]\n",
      "  0%|          | 0/4 [00:00<?, ?it/s]\u001b[A\n",
      " 25%|██▌       | 1/4 [06:09<18:28, 369.42s/it]\u001b[A\n",
      " 75%|███████▌  | 3/4 [07:57<02:15, 135.69s/it]\u001b[A\n",
      "100%|██████████| 4/4 [08:26<00:00, 126.74s/it]\u001b[A\n",
      "100%|██████████| 5/5 [46:08<00:00, 553.69s/it]\n"
     ]
    },
    {
     "data": {
      "text/html": [
       "<br/>Waiting for W&B process to finish, PID 11833<br/>Program ended successfully."
      ],
      "text/plain": [
       "<IPython.core.display.HTML object>"
      ]
     },
     "metadata": {},
     "output_type": "display_data"
    },
    {
     "data": {
      "application/vnd.jupyter.widget-view+json": {
       "model_id": "",
       "version_major": 2,
       "version_minor": 0
      },
      "text/plain": [
       "VBox(children=(Label(value=' 0.00MB of 0.00MB uploaded (0.00MB deduped)\\r'), FloatProgress(value=1.0, max=1.0)…"
      ]
     },
     "metadata": {},
     "output_type": "display_data"
    },
    {
     "data": {
      "text/html": [
       "Find user logs for this run at: <code>/home/bronzi/ProgProjekte/EIPH_WSI/MIDL2021/Registration/WandB/wandb/run-20210126_194112-4wkwvn0u/logs/debug.log</code>"
      ],
      "text/plain": [
       "<IPython.core.display.HTML object>"
      ]
     },
     "metadata": {},
     "output_type": "display_data"
    },
    {
     "data": {
      "text/html": [
       "Find internal logs for this run at: <code>/home/bronzi/ProgProjekte/EIPH_WSI/MIDL2021/Registration/WandB/wandb/run-20210126_194112-4wkwvn0u/logs/debug-internal.log</code>"
      ],
      "text/plain": [
       "<IPython.core.display.HTML object>"
      ]
     },
     "metadata": {},
     "output_type": "display_data"
    },
    {
     "data": {
      "text/html": [
       "<h3>Run summary:</h3><br/><style>\n",
       "    table.wandb td:nth-child(1) { padding: 0 10px; text-align: right }\n",
       "    </style><table class=\"wandb\">\n",
       "<tr><td>dist_mean_image</td><td>24.78894</td></tr><tr><td>mean_reg_error_image</td><td>315.10404</td></tr><tr><td>step</td><td>14</td></tr><tr><td>_step</td><td>15</td></tr><tr><td>_runtime</td><td>2769</td></tr><tr><td>_timestamp</td><td>1611689241</td></tr><tr><td>dist_mean</td><td>9.46943</td></tr><tr><td>dist_min</td><td>0.40911</td></tr><tr><td>dist_max</td><td>60.05225</td></tr><tr><td>mean_reg_error</td><td>427.00963</td></tr></table>"
      ],
      "text/plain": [
       "<IPython.core.display.HTML object>"
      ]
     },
     "metadata": {},
     "output_type": "display_data"
    },
    {
     "data": {
      "text/html": [
       "<h3>Run history:</h3><br/><style>\n",
       "    table.wandb td:nth-child(1) { padding: 0 10px; text-align: right }\n",
       "    </style><table class=\"wandb\">\n",
       "<tr><td>dist_mean_image</td><td>▂▂▂▂▅▄▁▃▂▃█▆▂▁▃</td></tr><tr><td>mean_reg_error_image</td><td>▂▂▄▂▁▁▂▂▂▄▅█▃▂▂</td></tr><tr><td>step</td><td>▁▁▂▃▃▃▄▅▅▅▆▇▇▇█</td></tr><tr><td>_step</td><td>▁▁▂▂▃▃▄▄▅▅▆▆▇▇██</td></tr><tr><td>_runtime</td><td>▁▂▂▂▂▂▅▆▆▆▆▇████</td></tr><tr><td>_timestamp</td><td>▁▂▂▂▂▂▅▆▆▆▆▇████</td></tr><tr><td>dist_mean</td><td>▁</td></tr><tr><td>dist_min</td><td>▁</td></tr><tr><td>dist_max</td><td>▁</td></tr><tr><td>mean_reg_error</td><td>▁</td></tr></table><br/>"
      ],
      "text/plain": [
       "<IPython.core.display.HTML object>"
      ]
     },
     "metadata": {},
     "output_type": "display_data"
    },
    {
     "data": {
      "text/html": [
       "Synced 5 W&B file(s), 0 media file(s), 0 artifact file(s) and 0 other file(s)"
      ],
      "text/plain": [
       "<IPython.core.display.HTML object>"
      ]
     },
     "metadata": {},
     "output_type": "display_data"
    },
    {
     "data": {
      "text/html": [
       "\n",
       "                    <br/>Synced <strong style=\"color:#cdcd00\">still-sweep-38</strong>: <a href=\"https://wandb.ai/christianml/quadtree/runs/4wkwvn0u\" target=\"_blank\">https://wandb.ai/christianml/quadtree/runs/4wkwvn0u</a><br/>\n",
       "                "
      ],
      "text/plain": [
       "<IPython.core.display.HTML object>"
      ]
     },
     "metadata": {},
     "output_type": "display_data"
    },
    {
     "name": "stderr",
     "output_type": "stream",
     "text": [
      "\u001b[34m\u001b[1mwandb\u001b[0m: Agent Starting Run: txlo4x2x with config:\n",
      "\u001b[34m\u001b[1mwandb\u001b[0m: \tcrossCheck: False\n",
      "\u001b[34m\u001b[1mwandb\u001b[0m: \tfilter_outliner: False\n",
      "\u001b[34m\u001b[1mwandb\u001b[0m: \tflann: False\n",
      "\u001b[34m\u001b[1mwandb\u001b[0m: \thomography: False\n",
      "\u001b[34m\u001b[1mwandb\u001b[0m: \timage_type: Cyto\n",
      "\u001b[34m\u001b[1mwandb\u001b[0m: \tmaxFeatures: 1024\n",
      "\u001b[34m\u001b[1mwandb\u001b[0m: \tpoint_extractor: sift\n",
      "\u001b[34m\u001b[1mwandb\u001b[0m: \tratio: 0.6\n",
      "\u001b[34m\u001b[1mwandb\u001b[0m: \tsource_scanner: Aperio\n",
      "\u001b[34m\u001b[1mwandb\u001b[0m: \ttarget_depth: 0\n",
      "\u001b[34m\u001b[1mwandb\u001b[0m: \tthumbnail_size: [2048, 2048]\n",
      "\u001b[34m\u001b[1mwandb\u001b[0m: \tuse_gray: False\n"
     ]
    },
    {
     "data": {
      "text/html": [
       "\n",
       "                Tracking run with wandb version 0.10.15<br/>\n",
       "                Syncing run <strong style=\"color:#cdcd00\">electric-sweep-47</strong> to <a href=\"https://wandb.ai\" target=\"_blank\">Weights & Biases</a> <a href=\"https://docs.wandb.com/integrations/jupyter.html\" target=\"_blank\">(Documentation)</a>.<br/>\n",
       "                Project page: <a href=\"https://wandb.ai/christianml/quadtree\" target=\"_blank\">https://wandb.ai/christianml/quadtree</a><br/>\n",
       "                Sweep page: <a href=\"https://wandb.ai/christianml/quadtree/sweeps/e22y6790\" target=\"_blank\">https://wandb.ai/christianml/quadtree/sweeps/e22y6790</a><br/>\n",
       "Run page: <a href=\"https://wandb.ai/christianml/quadtree/runs/txlo4x2x\" target=\"_blank\">https://wandb.ai/christianml/quadtree/runs/txlo4x2x</a><br/>\n",
       "                Run data is saved locally in <code>/home/bronzi/ProgProjekte/EIPH_WSI/MIDL2021/Registration/WandB/wandb/run-20210126_202725-txlo4x2x</code><br/><br/>\n",
       "            "
      ],
      "text/plain": [
       "<IPython.core.display.HTML object>"
      ]
     },
     "metadata": {},
     "output_type": "display_data"
    },
    {
     "name": "stderr",
     "output_type": "stream",
     "text": [
      "  0%|          | 0/5 [00:00<?, ?it/s]\n",
      "  0%|          | 0/4 [00:00<?, ?it/s]\u001b[A\n",
      " 25%|██▌       | 1/4 [00:57<02:51, 57.13s/it]\u001b[A\n",
      " 75%|███████▌  | 3/4 [01:58<00:37, 37.65s/it]\u001b[A\n",
      "100%|██████████| 4/4 [02:07<00:00, 31.93s/it]\u001b[A\n",
      " 20%|██        | 1/5 [02:07<08:30, 127.72s/it]\n",
      "  0%|          | 0/4 [00:00<?, ?it/s]\u001b[A\n",
      " 25%|██▌       | 1/4 [00:10<00:31, 10.61s/it]\u001b[A\n",
      " 75%|███████▌  | 3/4 [00:19<00:06,  6.05s/it]\u001b[A\n",
      "100%|██████████| 4/4 [00:23<00:00,  5.80s/it]\u001b[A\n",
      " 40%|████      | 2/5 [02:30<03:18, 66.24s/it] \n",
      "  0%|          | 0/4 [00:00<?, ?it/s]\u001b[A\n",
      " 25%|██▌       | 1/4 [01:19<03:59, 79.92s/it]\u001b[A\n",
      " 75%|███████▌  | 3/4 [02:15<00:41, 41.31s/it]\u001b[A\n",
      "100%|██████████| 4/4 [02:26<00:00, 36.73s/it]\u001b[A\n",
      " 60%|██████    | 3/5 [04:57<03:26, 103.08s/it]\n",
      "  0%|          | 0/4 [00:00<?, ?it/s]\u001b[A\n",
      " 25%|██▌       | 1/4 [00:02<00:07,  2.64s/it]\u001b[A\n",
      " 75%|███████▌  | 3/4 [00:06<00:02,  2.22s/it]\u001b[A\n",
      "100%|██████████| 4/4 [00:08<00:00,  2.08s/it]\u001b[A\n",
      " 80%|████████  | 4/5 [05:06<01:05, 65.68s/it] \n",
      "  0%|          | 0/4 [00:00<?, ?it/s]\u001b[A\n",
      " 25%|██▌       | 1/4 [00:35<01:47, 35.95s/it]\u001b[A\n",
      " 75%|███████▌  | 3/4 [01:09<00:21, 21.64s/it]\u001b[A\n",
      "100%|██████████| 4/4 [01:20<00:00, 20.10s/it]\u001b[A\n",
      "100%|██████████| 5/5 [06:26<00:00, 77.31s/it]\n"
     ]
    },
    {
     "data": {
      "text/html": [
       "<br/>Waiting for W&B process to finish, PID 18878<br/>Program ended successfully."
      ],
      "text/plain": [
       "<IPython.core.display.HTML object>"
      ]
     },
     "metadata": {},
     "output_type": "display_data"
    },
    {
     "data": {
      "application/vnd.jupyter.widget-view+json": {
       "model_id": "",
       "version_major": 2,
       "version_minor": 0
      },
      "text/plain": [
       "VBox(children=(Label(value=' 0.00MB of 0.00MB uploaded (0.00MB deduped)\\r'), FloatProgress(value=1.0, max=1.0)…"
      ]
     },
     "metadata": {},
     "output_type": "display_data"
    },
    {
     "data": {
      "text/html": [
       "Find user logs for this run at: <code>/home/bronzi/ProgProjekte/EIPH_WSI/MIDL2021/Registration/WandB/wandb/run-20210126_202725-txlo4x2x/logs/debug.log</code>"
      ],
      "text/plain": [
       "<IPython.core.display.HTML object>"
      ]
     },
     "metadata": {},
     "output_type": "display_data"
    },
    {
     "data": {
      "text/html": [
       "Find internal logs for this run at: <code>/home/bronzi/ProgProjekte/EIPH_WSI/MIDL2021/Registration/WandB/wandb/run-20210126_202725-txlo4x2x/logs/debug-internal.log</code>"
      ],
      "text/plain": [
       "<IPython.core.display.HTML object>"
      ]
     },
     "metadata": {},
     "output_type": "display_data"
    },
    {
     "data": {
      "text/html": [
       "<h3>Run summary:</h3><br/><style>\n",
       "    table.wandb td:nth-child(1) { padding: 0 10px; text-align: right }\n",
       "    </style><table class=\"wandb\">\n",
       "<tr><td>dist_mean_image</td><td>15.45461</td></tr><tr><td>mean_reg_error_image</td><td>102.33485</td></tr><tr><td>step</td><td>14</td></tr><tr><td>_step</td><td>15</td></tr><tr><td>_runtime</td><td>388</td></tr><tr><td>_timestamp</td><td>1611689633</td></tr><tr><td>dist_mean</td><td>10.40917</td></tr><tr><td>dist_min</td><td>0.34779</td></tr><tr><td>dist_max</td><td>76.28469</td></tr><tr><td>mean_reg_error</td><td>204.51068</td></tr></table>"
      ],
      "text/plain": [
       "<IPython.core.display.HTML object>"
      ]
     },
     "metadata": {},
     "output_type": "display_data"
    },
    {
     "data": {
      "text/html": [
       "<h3>Run history:</h3><br/><style>\n",
       "    table.wandb td:nth-child(1) { padding: 0 10px; text-align: right }\n",
       "    </style><table class=\"wandb\">\n",
       "<tr><td>dist_mean_image</td><td>▂▂▁▂▄▃▁▂▂▃█▄▁▁▂</td></tr><tr><td>mean_reg_error_image</td><td>▄▄█▁▂▂▃▃▁▂▅▅▄▄▂</td></tr><tr><td>step</td><td>▁▁▂▃▃▃▄▅▅▅▆▇▇▇█</td></tr><tr><td>_step</td><td>▁▁▂▂▃▃▄▄▅▅▆▆▇▇██</td></tr><tr><td>_runtime</td><td>▁▂▃▃▃▃▅▆▆▆▆▆▇███</td></tr><tr><td>_timestamp</td><td>▁▂▃▃▃▃▅▆▆▆▆▆▇███</td></tr><tr><td>dist_mean</td><td>▁</td></tr><tr><td>dist_min</td><td>▁</td></tr><tr><td>dist_max</td><td>▁</td></tr><tr><td>mean_reg_error</td><td>▁</td></tr></table><br/>"
      ],
      "text/plain": [
       "<IPython.core.display.HTML object>"
      ]
     },
     "metadata": {},
     "output_type": "display_data"
    },
    {
     "data": {
      "text/html": [
       "Synced 5 W&B file(s), 0 media file(s), 0 artifact file(s) and 0 other file(s)"
      ],
      "text/plain": [
       "<IPython.core.display.HTML object>"
      ]
     },
     "metadata": {},
     "output_type": "display_data"
    },
    {
     "data": {
      "text/html": [
       "\n",
       "                    <br/>Synced <strong style=\"color:#cdcd00\">electric-sweep-47</strong>: <a href=\"https://wandb.ai/christianml/quadtree/runs/txlo4x2x\" target=\"_blank\">https://wandb.ai/christianml/quadtree/runs/txlo4x2x</a><br/>\n",
       "                "
      ],
      "text/plain": [
       "<IPython.core.display.HTML object>"
      ]
     },
     "metadata": {},
     "output_type": "display_data"
    },
    {
     "name": "stderr",
     "output_type": "stream",
     "text": [
      "\u001b[34m\u001b[1mwandb\u001b[0m: Agent Starting Run: dgbtsavn with config:\n",
      "\u001b[34m\u001b[1mwandb\u001b[0m: \tcrossCheck: False\n",
      "\u001b[34m\u001b[1mwandb\u001b[0m: \tfilter_outliner: False\n",
      "\u001b[34m\u001b[1mwandb\u001b[0m: \tflann: True\n",
      "\u001b[34m\u001b[1mwandb\u001b[0m: \thomography: True\n",
      "\u001b[34m\u001b[1mwandb\u001b[0m: \timage_type: Cyto\n",
      "\u001b[34m\u001b[1mwandb\u001b[0m: \tmaxFeatures: 64\n",
      "\u001b[34m\u001b[1mwandb\u001b[0m: \tpoint_extractor: sift\n",
      "\u001b[34m\u001b[1mwandb\u001b[0m: \tratio: 0.9\n",
      "\u001b[34m\u001b[1mwandb\u001b[0m: \tsource_scanner: Aperio\n",
      "\u001b[34m\u001b[1mwandb\u001b[0m: \ttarget_depth: 0\n",
      "\u001b[34m\u001b[1mwandb\u001b[0m: \tthumbnail_size: [2048, 2048]\n",
      "\u001b[34m\u001b[1mwandb\u001b[0m: \tuse_gray: True\n"
     ]
    },
    {
     "data": {
      "text/html": [
       "\n",
       "                Tracking run with wandb version 0.10.15<br/>\n",
       "                Syncing run <strong style=\"color:#cdcd00\">pleasant-sweep-48</strong> to <a href=\"https://wandb.ai\" target=\"_blank\">Weights & Biases</a> <a href=\"https://docs.wandb.com/integrations/jupyter.html\" target=\"_blank\">(Documentation)</a>.<br/>\n",
       "                Project page: <a href=\"https://wandb.ai/christianml/quadtree\" target=\"_blank\">https://wandb.ai/christianml/quadtree</a><br/>\n",
       "                Sweep page: <a href=\"https://wandb.ai/christianml/quadtree/sweeps/e22y6790\" target=\"_blank\">https://wandb.ai/christianml/quadtree/sweeps/e22y6790</a><br/>\n",
       "Run page: <a href=\"https://wandb.ai/christianml/quadtree/runs/dgbtsavn\" target=\"_blank\">https://wandb.ai/christianml/quadtree/runs/dgbtsavn</a><br/>\n",
       "                Run data is saved locally in <code>/home/bronzi/ProgProjekte/EIPH_WSI/MIDL2021/Registration/WandB/wandb/run-20210126_203357-dgbtsavn</code><br/><br/>\n",
       "            "
      ],
      "text/plain": [
       "<IPython.core.display.HTML object>"
      ]
     },
     "metadata": {},
     "output_type": "display_data"
    },
    {
     "name": "stderr",
     "output_type": "stream",
     "text": [
      "  0%|          | 0/5 [00:00<?, ?it/s]\n",
      "  0%|          | 0/4 [00:00<?, ?it/s]\u001b[A\n",
      " 25%|██▌       | 1/4 [00:06<00:20,  6.79s/it]\u001b[A\n",
      " 75%|███████▌  | 3/4 [00:14<00:04,  4.64s/it]\u001b[A\n",
      "100%|██████████| 4/4 [00:22<00:00,  5.61s/it]\u001b[A\n",
      " 20%|██        | 1/5 [00:22<01:29, 22.43s/it]\n",
      "  0%|          | 0/4 [00:00<?, ?it/s]\u001b[A\n",
      " 25%|██▌       | 1/4 [00:01<00:04,  1.45s/it]\u001b[A\n",
      " 75%|███████▌  | 3/4 [00:03<00:01,  1.20s/it]\u001b[A\n",
      "100%|██████████| 4/4 [00:05<00:00,  1.27s/it]\u001b[A\n",
      " 40%|████      | 2/5 [00:27<00:36, 12.24s/it]\n",
      "  0%|          | 0/4 [00:00<?, ?it/s]\u001b[A\n",
      " 25%|██▌       | 1/4 [00:07<00:23,  7.75s/it]\u001b[A\n",
      " 75%|███████▌  | 3/4 [00:17<00:05,  5.54s/it]\u001b[A\n",
      "100%|██████████| 4/4 [00:25<00:00,  6.33s/it]\u001b[A\n",
      " 60%|██████    | 3/5 [00:52<00:36, 18.22s/it]\n",
      "  0%|          | 0/4 [00:00<?, ?it/s]\u001b[A\n",
      " 50%|█████     | 2/4 [00:03<00:03,  1.96s/it]\u001b[A\n",
      " 60%|██████    | 3/5 [00:56<00:37, 18.93s/it]\n"
     ]
    },
    {
     "data": {
      "text/html": [
       "<br/>Waiting for W&B process to finish, PID 19593<br/>Program failed with code 1.  Press ctrl-c to abort syncing."
      ],
      "text/plain": [
       "<IPython.core.display.HTML object>"
      ]
     },
     "metadata": {},
     "output_type": "display_data"
    },
    {
     "data": {
      "application/vnd.jupyter.widget-view+json": {
       "model_id": "",
       "version_major": 2,
       "version_minor": 0
      },
      "text/plain": [
       "VBox(children=(Label(value=' 0.00MB of 0.00MB uploaded (0.00MB deduped)\\r'), FloatProgress(value=1.0, max=1.0)…"
      ]
     },
     "metadata": {},
     "output_type": "display_data"
    },
    {
     "data": {
      "text/html": [
       "Find user logs for this run at: <code>/home/bronzi/ProgProjekte/EIPH_WSI/MIDL2021/Registration/WandB/wandb/run-20210126_203357-dgbtsavn/logs/debug.log</code>"
      ],
      "text/plain": [
       "<IPython.core.display.HTML object>"
      ]
     },
     "metadata": {},
     "output_type": "display_data"
    },
    {
     "data": {
      "text/html": [
       "Find internal logs for this run at: <code>/home/bronzi/ProgProjekte/EIPH_WSI/MIDL2021/Registration/WandB/wandb/run-20210126_203357-dgbtsavn/logs/debug-internal.log</code>"
      ],
      "text/plain": [
       "<IPython.core.display.HTML object>"
      ]
     },
     "metadata": {},
     "output_type": "display_data"
    },
    {
     "data": {
      "text/html": [
       "<h3>Run summary:</h3><br/><style>\n",
       "    table.wandb td:nth-child(1) { padding: 0 10px; text-align: right }\n",
       "    </style><table class=\"wandb\">\n",
       "<tr><td>dist_mean_image</td><td>60.61911</td></tr><tr><td>mean_reg_error_image</td><td>7181.7626</td></tr><tr><td>step</td><td>9</td></tr><tr><td>_step</td><td>9</td></tr><tr><td>_runtime</td><td>55</td></tr><tr><td>_timestamp</td><td>1611689692</td></tr></table>"
      ],
      "text/plain": [
       "<IPython.core.display.HTML object>"
      ]
     },
     "metadata": {},
     "output_type": "display_data"
    },
    {
     "data": {
      "text/html": [
       "<h3>Run history:</h3><br/><style>\n",
       "    table.wandb td:nth-child(1) { padding: 0 10px; text-align: right }\n",
       "    </style><table class=\"wandb\">\n",
       "<tr><td>dist_mean_image</td><td>▂▂▄▃▅▄▁▃▂█</td></tr><tr><td>mean_reg_error_image</td><td>▂▂█▂▃▄▁▂▄▅</td></tr><tr><td>step</td><td>▁▂▃▃▄▅▆▆▇█</td></tr><tr><td>_step</td><td>▁▂▃▃▄▅▆▆▇█</td></tr><tr><td>_runtime</td><td>▁▂▃▃▄▄▅▇██</td></tr><tr><td>_timestamp</td><td>▁▂▃▃▄▄▅▇██</td></tr></table><br/>"
      ],
      "text/plain": [
       "<IPython.core.display.HTML object>"
      ]
     },
     "metadata": {},
     "output_type": "display_data"
    },
    {
     "data": {
      "text/html": [
       "Synced 5 W&B file(s), 0 media file(s), 0 artifact file(s) and 0 other file(s)"
      ],
      "text/plain": [
       "<IPython.core.display.HTML object>"
      ]
     },
     "metadata": {},
     "output_type": "display_data"
    },
    {
     "data": {
      "text/html": [
       "\n",
       "                    <br/>Synced <strong style=\"color:#cdcd00\">pleasant-sweep-48</strong>: <a href=\"https://wandb.ai/christianml/quadtree/runs/dgbtsavn\" target=\"_blank\">https://wandb.ai/christianml/quadtree/runs/dgbtsavn</a><br/>\n",
       "                "
      ],
      "text/plain": [
       "<IPython.core.display.HTML object>"
      ]
     },
     "metadata": {},
     "output_type": "display_data"
    },
    {
     "name": "stderr",
     "output_type": "stream",
     "text": [
      "Run dgbtsavn errored: TypeError(\"'NoneType' object is not subscriptable\")\n",
      "\u001b[34m\u001b[1mwandb\u001b[0m: \u001b[32m\u001b[41mERROR\u001b[0m Run dgbtsavn errored: TypeError(\"'NoneType' object is not subscriptable\")\n",
      "\u001b[34m\u001b[1mwandb\u001b[0m: Agent Starting Run: 1posk92z with config:\n",
      "\u001b[34m\u001b[1mwandb\u001b[0m: \tcrossCheck: False\n",
      "\u001b[34m\u001b[1mwandb\u001b[0m: \tfilter_outliner: False\n",
      "\u001b[34m\u001b[1mwandb\u001b[0m: \tflann: False\n",
      "\u001b[34m\u001b[1mwandb\u001b[0m: \thomography: False\n",
      "\u001b[34m\u001b[1mwandb\u001b[0m: \timage_type: Cyto\n",
      "\u001b[34m\u001b[1mwandb\u001b[0m: \tmaxFeatures: 512\n",
      "\u001b[34m\u001b[1mwandb\u001b[0m: \tpoint_extractor: sift\n",
      "\u001b[34m\u001b[1mwandb\u001b[0m: \tratio: 0.7\n",
      "\u001b[34m\u001b[1mwandb\u001b[0m: \tsource_scanner: Aperio\n",
      "\u001b[34m\u001b[1mwandb\u001b[0m: \ttarget_depth: 0\n",
      "\u001b[34m\u001b[1mwandb\u001b[0m: \tthumbnail_size: [4096, 4096]\n",
      "\u001b[34m\u001b[1mwandb\u001b[0m: \tuse_gray: False\n"
     ]
    },
    {
     "data": {
      "text/html": [
       "\n",
       "                Tracking run with wandb version 0.10.15<br/>\n",
       "                Syncing run <strong style=\"color:#cdcd00\">morning-sweep-49</strong> to <a href=\"https://wandb.ai\" target=\"_blank\">Weights & Biases</a> <a href=\"https://docs.wandb.com/integrations/jupyter.html\" target=\"_blank\">(Documentation)</a>.<br/>\n",
       "                Project page: <a href=\"https://wandb.ai/christianml/quadtree\" target=\"_blank\">https://wandb.ai/christianml/quadtree</a><br/>\n",
       "                Sweep page: <a href=\"https://wandb.ai/christianml/quadtree/sweeps/e22y6790\" target=\"_blank\">https://wandb.ai/christianml/quadtree/sweeps/e22y6790</a><br/>\n",
       "Run page: <a href=\"https://wandb.ai/christianml/quadtree/runs/1posk92z\" target=\"_blank\">https://wandb.ai/christianml/quadtree/runs/1posk92z</a><br/>\n",
       "                Run data is saved locally in <code>/home/bronzi/ProgProjekte/EIPH_WSI/MIDL2021/Registration/WandB/wandb/run-20210126_203458-1posk92z</code><br/><br/>\n",
       "            "
      ],
      "text/plain": [
       "<IPython.core.display.HTML object>"
      ]
     },
     "metadata": {},
     "output_type": "display_data"
    },
    {
     "name": "stderr",
     "output_type": "stream",
     "text": [
      "  0%|          | 0/5 [00:00<?, ?it/s]\n",
      "  0%|          | 0/4 [00:00<?, ?it/s]\u001b[A\n",
      " 25%|██▌       | 1/4 [08:08<24:25, 488.40s/it]\u001b[A\n",
      " 75%|███████▌  | 3/4 [12:30<03:43, 223.54s/it]\u001b[A\n",
      "100%|██████████| 4/4 [13:12<00:00, 198.23s/it]\u001b[A\n",
      " 20%|██        | 1/5 [13:12<52:51, 792.92s/it]\n",
      "  0%|          | 0/4 [00:00<?, ?it/s]\u001b[A\n",
      " 25%|██▌       | 1/4 [03:30<10:32, 210.99s/it]\u001b[A\n",
      " 75%|███████▌  | 3/4 [04:46<01:22, 82.51s/it] \u001b[A\n",
      "100%|██████████| 4/4 [05:27<00:00, 82.00s/it]\u001b[A\n",
      " 40%|████      | 2/5 [18:40<25:58, 519.43s/it]\n",
      "  0%|          | 0/4 [00:00<?, ?it/s]\u001b[A\n",
      " 25%|██▌       | 1/4 [21:40<1:05:01, 1300.62s/it]\u001b[A\n",
      " 75%|███████▌  | 3/4 [28:31<08:09, 489.48s/it]   \u001b[A\n",
      "100%|██████████| 4/4 [29:56<00:00, 449.02s/it]\u001b[A\n",
      " 60%|██████    | 3/5 [48:36<36:44, 1102.37s/it]\n",
      "  0%|          | 0/4 [00:00<?, ?it/s]\u001b[A\n",
      " 25%|██▌       | 1/4 [00:44<02:14, 44.97s/it]\u001b[A\n",
      " 75%|███████▌  | 3/4 [01:11<00:21, 21.64s/it]\u001b[A\n",
      "100%|██████████| 4/4 [01:29<00:00, 22.49s/it]\u001b[A\n",
      " 80%|████████  | 4/5 [50:06<11:42, 702.69s/it] \n",
      "  0%|          | 0/4 [00:00<?, ?it/s]\u001b[A\n",
      " 25%|██▌       | 1/4 [07:54<23:44, 474.79s/it]\u001b[A\n",
      " 75%|███████▌  | 3/4 [10:35<03:02, 182.66s/it]\u001b[A\n",
      "100%|██████████| 4/4 [11:25<00:00, 171.31s/it]\u001b[A\n",
      "100%|██████████| 5/5 [1:01:32<00:00, 738.44s/it]\n"
     ]
    },
    {
     "data": {
      "text/html": [
       "<br/>Waiting for W&B process to finish, PID 19739<br/>Program ended successfully."
      ],
      "text/plain": [
       "<IPython.core.display.HTML object>"
      ]
     },
     "metadata": {},
     "output_type": "display_data"
    },
    {
     "data": {
      "application/vnd.jupyter.widget-view+json": {
       "model_id": "",
       "version_major": 2,
       "version_minor": 0
      },
      "text/plain": [
       "VBox(children=(Label(value=' 0.00MB of 0.00MB uploaded (0.00MB deduped)\\r'), FloatProgress(value=1.0, max=1.0)…"
      ]
     },
     "metadata": {},
     "output_type": "display_data"
    },
    {
     "data": {
      "text/html": [
       "Find user logs for this run at: <code>/home/bronzi/ProgProjekte/EIPH_WSI/MIDL2021/Registration/WandB/wandb/run-20210126_203458-1posk92z/logs/debug.log</code>"
      ],
      "text/plain": [
       "<IPython.core.display.HTML object>"
      ]
     },
     "metadata": {},
     "output_type": "display_data"
    },
    {
     "data": {
      "text/html": [
       "Find internal logs for this run at: <code>/home/bronzi/ProgProjekte/EIPH_WSI/MIDL2021/Registration/WandB/wandb/run-20210126_203458-1posk92z/logs/debug-internal.log</code>"
      ],
      "text/plain": [
       "<IPython.core.display.HTML object>"
      ]
     },
     "metadata": {},
     "output_type": "display_data"
    },
    {
     "data": {
      "text/html": [
       "<h3>Run summary:</h3><br/><style>\n",
       "    table.wandb td:nth-child(1) { padding: 0 10px; text-align: right }\n",
       "    </style><table class=\"wandb\">\n",
       "<tr><td>dist_mean_image</td><td>25.6657</td></tr><tr><td>mean_reg_error_image</td><td>724.14302</td></tr><tr><td>step</td><td>14</td></tr><tr><td>_step</td><td>15</td></tr><tr><td>_runtime</td><td>3693</td></tr><tr><td>_timestamp</td><td>1611693391</td></tr><tr><td>dist_mean</td><td>9.25645</td></tr><tr><td>dist_min</td><td>0.29454</td></tr><tr><td>dist_max</td><td>59.47412</td></tr><tr><td>mean_reg_error</td><td>802.82744</td></tr></table>"
      ],
      "text/plain": [
       "<IPython.core.display.HTML object>"
      ]
     },
     "metadata": {},
     "output_type": "display_data"
    },
    {
     "data": {
      "text/html": [
       "<h3>Run history:</h3><br/><style>\n",
       "    table.wandb td:nth-child(1) { padding: 0 10px; text-align: right }\n",
       "    </style><table class=\"wandb\">\n",
       "<tr><td>dist_mean_image</td><td>▂▂▁▂▅▃▁▃▃▃█▆▁▁▃</td></tr><tr><td>mean_reg_error_image</td><td>▁▂▃▁▁▁▁▁▂▃▄█▂▁▂</td></tr><tr><td>step</td><td>▁▁▂▃▃▃▄▅▅▅▆▇▇▇█</td></tr><tr><td>_step</td><td>▁▁▂▂▃▃▄▄▅▅▆▆▇▇██</td></tr><tr><td>_runtime</td><td>▁▂▂▂▂▂▅▆▆▆▆▇████</td></tr><tr><td>_timestamp</td><td>▁▂▂▂▂▂▅▆▆▆▆▇████</td></tr><tr><td>dist_mean</td><td>▁</td></tr><tr><td>dist_min</td><td>▁</td></tr><tr><td>dist_max</td><td>▁</td></tr><tr><td>mean_reg_error</td><td>▁</td></tr></table><br/>"
      ],
      "text/plain": [
       "<IPython.core.display.HTML object>"
      ]
     },
     "metadata": {},
     "output_type": "display_data"
    },
    {
     "data": {
      "text/html": [
       "Synced 5 W&B file(s), 0 media file(s), 0 artifact file(s) and 0 other file(s)"
      ],
      "text/plain": [
       "<IPython.core.display.HTML object>"
      ]
     },
     "metadata": {},
     "output_type": "display_data"
    },
    {
     "data": {
      "text/html": [
       "\n",
       "                    <br/>Synced <strong style=\"color:#cdcd00\">morning-sweep-49</strong>: <a href=\"https://wandb.ai/christianml/quadtree/runs/1posk92z\" target=\"_blank\">https://wandb.ai/christianml/quadtree/runs/1posk92z</a><br/>\n",
       "                "
      ],
      "text/plain": [
       "<IPython.core.display.HTML object>"
      ]
     },
     "metadata": {},
     "output_type": "display_data"
    },
    {
     "name": "stderr",
     "output_type": "stream",
     "text": [
      "\u001b[34m\u001b[1mwandb\u001b[0m: Agent Starting Run: 4edqqmxg with config:\n",
      "\u001b[34m\u001b[1mwandb\u001b[0m: \tcrossCheck: False\n",
      "\u001b[34m\u001b[1mwandb\u001b[0m: \tfilter_outliner: False\n",
      "\u001b[34m\u001b[1mwandb\u001b[0m: \tflann: True\n",
      "\u001b[34m\u001b[1mwandb\u001b[0m: \thomography: False\n",
      "\u001b[34m\u001b[1mwandb\u001b[0m: \timage_type: Cyto\n",
      "\u001b[34m\u001b[1mwandb\u001b[0m: \tmaxFeatures: 1024\n",
      "\u001b[34m\u001b[1mwandb\u001b[0m: \tpoint_extractor: sift\n",
      "\u001b[34m\u001b[1mwandb\u001b[0m: \tratio: 0.9\n",
      "\u001b[34m\u001b[1mwandb\u001b[0m: \tsource_scanner: Aperio\n",
      "\u001b[34m\u001b[1mwandb\u001b[0m: \ttarget_depth: 0\n",
      "\u001b[34m\u001b[1mwandb\u001b[0m: \tthumbnail_size: [2048, 2048]\n",
      "\u001b[34m\u001b[1mwandb\u001b[0m: \tuse_gray: False\n"
     ]
    },
    {
     "data": {
      "text/html": [
       "\n",
       "                Tracking run with wandb version 0.10.15<br/>\n",
       "                Syncing run <strong style=\"color:#cdcd00\">super-sweep-55</strong> to <a href=\"https://wandb.ai\" target=\"_blank\">Weights & Biases</a> <a href=\"https://docs.wandb.com/integrations/jupyter.html\" target=\"_blank\">(Documentation)</a>.<br/>\n",
       "                Project page: <a href=\"https://wandb.ai/christianml/quadtree\" target=\"_blank\">https://wandb.ai/christianml/quadtree</a><br/>\n",
       "                Sweep page: <a href=\"https://wandb.ai/christianml/quadtree/sweeps/e22y6790\" target=\"_blank\">https://wandb.ai/christianml/quadtree/sweeps/e22y6790</a><br/>\n",
       "Run page: <a href=\"https://wandb.ai/christianml/quadtree/runs/4edqqmxg\" target=\"_blank\">https://wandb.ai/christianml/quadtree/runs/4edqqmxg</a><br/>\n",
       "                Run data is saved locally in <code>/home/bronzi/ProgProjekte/EIPH_WSI/MIDL2021/Registration/WandB/wandb/run-20210126_213635-4edqqmxg</code><br/><br/>\n",
       "            "
      ],
      "text/plain": [
       "<IPython.core.display.HTML object>"
      ]
     },
     "metadata": {},
     "output_type": "display_data"
    },
    {
     "name": "stderr",
     "output_type": "stream",
     "text": [
      "  0%|          | 0/5 [00:00<?, ?it/s]\n",
      "  0%|          | 0/4 [00:00<?, ?it/s]\u001b[A\n",
      " 25%|██▌       | 1/4 [03:18<09:54, 198.31s/it]\u001b[A\n",
      " 75%|███████▌  | 3/4 [06:43<02:07, 127.53s/it]\u001b[A\n",
      "100%|██████████| 4/4 [07:50<00:00, 117.55s/it]\u001b[A\n",
      " 20%|██        | 1/5 [07:50<31:20, 470.22s/it]\n",
      "  0%|          | 0/4 [00:00<?, ?it/s]\u001b[A\n",
      " 25%|██▌       | 1/4 [00:39<01:59, 39.86s/it]\u001b[A\n",
      " 75%|███████▌  | 3/4 [01:19<00:24, 24.87s/it]\u001b[A\n",
      "100%|██████████| 4/4 [01:45<00:00, 26.27s/it]\u001b[A\n",
      " 40%|████      | 2/5 [09:35<12:46, 255.43s/it]\n",
      "  0%|          | 0/4 [00:00<?, ?it/s]\u001b[A\n",
      " 25%|██▌       | 1/4 [02:52<08:36, 172.16s/it]\u001b[A\n",
      " 75%|███████▌  | 3/4 [05:02<01:32, 92.74s/it] \u001b[A\n",
      "100%|██████████| 4/4 [06:15<00:00, 93.96s/it]\u001b[A\n",
      " 60%|██████    | 3/5 [15:51<10:20, 310.42s/it]\n",
      "  0%|          | 0/4 [00:00<?, ?it/s]\u001b[A\n",
      " 50%|█████     | 2/4 [00:35<00:35, 17.58s/it]\u001b[A\n",
      " 60%|██████    | 3/5 [16:26<10:57, 328.77s/it]\n"
     ]
    },
    {
     "data": {
      "text/html": [
       "<br/>Waiting for W&B process to finish, PID 28351<br/>Program failed with code 1.  Press ctrl-c to abort syncing."
      ],
      "text/plain": [
       "<IPython.core.display.HTML object>"
      ]
     },
     "metadata": {},
     "output_type": "display_data"
    },
    {
     "data": {
      "application/vnd.jupyter.widget-view+json": {
       "model_id": "",
       "version_major": 2,
       "version_minor": 0
      },
      "text/plain": [
       "VBox(children=(Label(value=' 0.00MB of 0.00MB uploaded (0.00MB deduped)\\r'), FloatProgress(value=1.0, max=1.0)…"
      ]
     },
     "metadata": {},
     "output_type": "display_data"
    },
    {
     "data": {
      "text/html": [
       "Find user logs for this run at: <code>/home/bronzi/ProgProjekte/EIPH_WSI/MIDL2021/Registration/WandB/wandb/run-20210126_213635-4edqqmxg/logs/debug.log</code>"
      ],
      "text/plain": [
       "<IPython.core.display.HTML object>"
      ]
     },
     "metadata": {},
     "output_type": "display_data"
    },
    {
     "data": {
      "text/html": [
       "Find internal logs for this run at: <code>/home/bronzi/ProgProjekte/EIPH_WSI/MIDL2021/Registration/WandB/wandb/run-20210126_213635-4edqqmxg/logs/debug-internal.log</code>"
      ],
      "text/plain": [
       "<IPython.core.display.HTML object>"
      ]
     },
     "metadata": {},
     "output_type": "display_data"
    },
    {
     "data": {
      "text/html": [
       "<h3>Run summary:</h3><br/><style>\n",
       "    table.wandb td:nth-child(1) { padding: 0 10px; text-align: right }\n",
       "    </style><table class=\"wandb\">\n",
       "<tr><td>dist_mean_image</td><td>60.61911</td></tr><tr><td>mean_reg_error_image</td><td>7262.74861</td></tr><tr><td>step</td><td>9</td></tr><tr><td>_step</td><td>9</td></tr><tr><td>_runtime</td><td>968</td></tr><tr><td>_timestamp</td><td>1611694363</td></tr></table>"
      ],
      "text/plain": [
       "<IPython.core.display.HTML object>"
      ]
     },
     "metadata": {},
     "output_type": "display_data"
    },
    {
     "data": {
      "text/html": [
       "<h3>Run history:</h3><br/><style>\n",
       "    table.wandb td:nth-child(1) { padding: 0 10px; text-align: right }\n",
       "    </style><table class=\"wandb\">\n",
       "<tr><td>dist_mean_image</td><td>▁▁█▁▁▁▁▁▁▁</td></tr><tr><td>mean_reg_error_image</td><td>▂▃█▂▃▅▁▂▄▆</td></tr><tr><td>step</td><td>▁▂▃▃▄▅▆▆▇█</td></tr><tr><td>_step</td><td>▁▂▃▃▄▅▆▆▇█</td></tr><tr><td>_runtime</td><td>▁▃▃▄▄▄▆▇██</td></tr><tr><td>_timestamp</td><td>▁▃▃▄▄▄▆▇██</td></tr></table><br/>"
      ],
      "text/plain": [
       "<IPython.core.display.HTML object>"
      ]
     },
     "metadata": {},
     "output_type": "display_data"
    },
    {
     "data": {
      "text/html": [
       "Synced 5 W&B file(s), 0 media file(s), 0 artifact file(s) and 0 other file(s)"
      ],
      "text/plain": [
       "<IPython.core.display.HTML object>"
      ]
     },
     "metadata": {},
     "output_type": "display_data"
    },
    {
     "data": {
      "text/html": [
       "\n",
       "                    <br/>Synced <strong style=\"color:#cdcd00\">super-sweep-55</strong>: <a href=\"https://wandb.ai/christianml/quadtree/runs/4edqqmxg\" target=\"_blank\">https://wandb.ai/christianml/quadtree/runs/4edqqmxg</a><br/>\n",
       "                "
      ],
      "text/plain": [
       "<IPython.core.display.HTML object>"
      ]
     },
     "metadata": {},
     "output_type": "display_data"
    },
    {
     "name": "stderr",
     "output_type": "stream",
     "text": [
      "Run 4edqqmxg errored: TypeError(\"'NoneType' object is not subscriptable\")\n",
      "\u001b[34m\u001b[1mwandb\u001b[0m: \u001b[32m\u001b[41mERROR\u001b[0m Run 4edqqmxg errored: TypeError(\"'NoneType' object is not subscriptable\")\n",
      "\u001b[34m\u001b[1mwandb\u001b[0m: Agent Starting Run: gvf3kyng with config:\n",
      "\u001b[34m\u001b[1mwandb\u001b[0m: \tcrossCheck: False\n",
      "\u001b[34m\u001b[1mwandb\u001b[0m: \tfilter_outliner: False\n",
      "\u001b[34m\u001b[1mwandb\u001b[0m: \tflann: True\n",
      "\u001b[34m\u001b[1mwandb\u001b[0m: \thomography: False\n",
      "\u001b[34m\u001b[1mwandb\u001b[0m: \timage_type: Cyto\n",
      "\u001b[34m\u001b[1mwandb\u001b[0m: \tmaxFeatures: 256\n",
      "\u001b[34m\u001b[1mwandb\u001b[0m: \tpoint_extractor: sift\n",
      "\u001b[34m\u001b[1mwandb\u001b[0m: \tratio: 0.4\n",
      "\u001b[34m\u001b[1mwandb\u001b[0m: \tsource_scanner: Aperio\n",
      "\u001b[34m\u001b[1mwandb\u001b[0m: \ttarget_depth: 0\n",
      "\u001b[34m\u001b[1mwandb\u001b[0m: \tthumbnail_size: [1024, 1024]\n",
      "\u001b[34m\u001b[1mwandb\u001b[0m: \tuse_gray: False\n"
     ]
    },
    {
     "data": {
      "text/html": [
       "\n",
       "                Tracking run with wandb version 0.10.15<br/>\n",
       "                Syncing run <strong style=\"color:#cdcd00\">neat-sweep-57</strong> to <a href=\"https://wandb.ai\" target=\"_blank\">Weights & Biases</a> <a href=\"https://docs.wandb.com/integrations/jupyter.html\" target=\"_blank\">(Documentation)</a>.<br/>\n",
       "                Project page: <a href=\"https://wandb.ai/christianml/quadtree\" target=\"_blank\">https://wandb.ai/christianml/quadtree</a><br/>\n",
       "                Sweep page: <a href=\"https://wandb.ai/christianml/quadtree/sweeps/e22y6790\" target=\"_blank\">https://wandb.ai/christianml/quadtree/sweeps/e22y6790</a><br/>\n",
       "Run page: <a href=\"https://wandb.ai/christianml/quadtree/runs/gvf3kyng\" target=\"_blank\">https://wandb.ai/christianml/quadtree/runs/gvf3kyng</a><br/>\n",
       "                Run data is saved locally in <code>/home/bronzi/ProgProjekte/EIPH_WSI/MIDL2021/Registration/WandB/wandb/run-20210126_215307-gvf3kyng</code><br/><br/>\n",
       "            "
      ],
      "text/plain": [
       "<IPython.core.display.HTML object>"
      ]
     },
     "metadata": {},
     "output_type": "display_data"
    },
    {
     "name": "stderr",
     "output_type": "stream",
     "text": [
      "  0%|          | 0/5 [00:00<?, ?it/s]\n",
      "  0%|          | 0/4 [00:00<?, ?it/s]\u001b[A\n",
      " 25%|██▌       | 1/4 [00:01<00:03,  1.31s/it]\u001b[A\n",
      " 75%|███████▌  | 3/4 [00:03<00:01,  1.22s/it]\u001b[A\n",
      "  0%|          | 0/5 [00:03<?, ?it/s]\n"
     ]
    },
    {
     "data": {
      "text/html": [
       "<br/>Waiting for W&B process to finish, PID 31303<br/>Program failed with code 1.  Press ctrl-c to abort syncing."
      ],
      "text/plain": [
       "<IPython.core.display.HTML object>"
      ]
     },
     "metadata": {},
     "output_type": "display_data"
    },
    {
     "data": {
      "application/vnd.jupyter.widget-view+json": {
       "model_id": "",
       "version_major": 2,
       "version_minor": 0
      },
      "text/plain": [
       "VBox(children=(Label(value=' 0.00MB of 0.00MB uploaded (0.00MB deduped)\\r'), FloatProgress(value=1.0, max=1.0)…"
      ]
     },
     "metadata": {},
     "output_type": "display_data"
    },
    {
     "data": {
      "text/html": [
       "Find user logs for this run at: <code>/home/bronzi/ProgProjekte/EIPH_WSI/MIDL2021/Registration/WandB/wandb/run-20210126_215307-gvf3kyng/logs/debug.log</code>"
      ],
      "text/plain": [
       "<IPython.core.display.HTML object>"
      ]
     },
     "metadata": {},
     "output_type": "display_data"
    },
    {
     "data": {
      "text/html": [
       "Find internal logs for this run at: <code>/home/bronzi/ProgProjekte/EIPH_WSI/MIDL2021/Registration/WandB/wandb/run-20210126_215307-gvf3kyng/logs/debug-internal.log</code>"
      ],
      "text/plain": [
       "<IPython.core.display.HTML object>"
      ]
     },
     "metadata": {},
     "output_type": "display_data"
    },
    {
     "data": {
      "text/html": [
       "<h3>Run summary:</h3><br/><style>\n",
       "    table.wandb td:nth-child(1) { padding: 0 10px; text-align: right }\n",
       "    </style><table class=\"wandb\">\n",
       "<tr><td>dist_mean_image</td><td>30.24679</td></tr><tr><td>mean_reg_error_image</td><td>5.87097</td></tr><tr><td>step</td><td>1</td></tr><tr><td>_step</td><td>1</td></tr><tr><td>_runtime</td><td>3</td></tr><tr><td>_timestamp</td><td>1611694390</td></tr></table>"
      ],
      "text/plain": [
       "<IPython.core.display.HTML object>"
      ]
     },
     "metadata": {},
     "output_type": "display_data"
    },
    {
     "data": {
      "text/html": [
       "<h3>Run history:</h3><br/><style>\n",
       "    table.wandb td:nth-child(1) { padding: 0 10px; text-align: right }\n",
       "    </style><table class=\"wandb\">\n",
       "<tr><td>dist_mean_image</td><td>▁█</td></tr><tr><td>mean_reg_error_image</td><td>▁█</td></tr><tr><td>step</td><td>▁█</td></tr><tr><td>_step</td><td>▁█</td></tr><tr><td>_runtime</td><td>▁█</td></tr><tr><td>_timestamp</td><td>▁█</td></tr></table><br/>"
      ],
      "text/plain": [
       "<IPython.core.display.HTML object>"
      ]
     },
     "metadata": {},
     "output_type": "display_data"
    },
    {
     "data": {
      "text/html": [
       "Synced 5 W&B file(s), 0 media file(s), 0 artifact file(s) and 0 other file(s)"
      ],
      "text/plain": [
       "<IPython.core.display.HTML object>"
      ]
     },
     "metadata": {},
     "output_type": "display_data"
    },
    {
     "data": {
      "text/html": [
       "\n",
       "                    <br/>Synced <strong style=\"color:#cdcd00\">neat-sweep-57</strong>: <a href=\"https://wandb.ai/christianml/quadtree/runs/gvf3kyng\" target=\"_blank\">https://wandb.ai/christianml/quadtree/runs/gvf3kyng</a><br/>\n",
       "                "
      ],
      "text/plain": [
       "<IPython.core.display.HTML object>"
      ]
     },
     "metadata": {},
     "output_type": "display_data"
    },
    {
     "name": "stderr",
     "output_type": "stream",
     "text": [
      "Run gvf3kyng errored: TypeError(\"'NoneType' object is not subscriptable\")\n",
      "\u001b[34m\u001b[1mwandb\u001b[0m: \u001b[32m\u001b[41mERROR\u001b[0m Run gvf3kyng errored: TypeError(\"'NoneType' object is not subscriptable\")\n",
      "\u001b[34m\u001b[1mwandb\u001b[0m: Agent Starting Run: dqkqo3ry with config:\n",
      "\u001b[34m\u001b[1mwandb\u001b[0m: \tcrossCheck: False\n",
      "\u001b[34m\u001b[1mwandb\u001b[0m: \tfilter_outliner: False\n",
      "\u001b[34m\u001b[1mwandb\u001b[0m: \tflann: False\n",
      "\u001b[34m\u001b[1mwandb\u001b[0m: \thomography: False\n",
      "\u001b[34m\u001b[1mwandb\u001b[0m: \timage_type: Cyto\n",
      "\u001b[34m\u001b[1mwandb\u001b[0m: \tmaxFeatures: 256\n",
      "\u001b[34m\u001b[1mwandb\u001b[0m: \tpoint_extractor: sift\n",
      "\u001b[34m\u001b[1mwandb\u001b[0m: \tratio: 0.3\n",
      "\u001b[34m\u001b[1mwandb\u001b[0m: \tsource_scanner: Aperio\n",
      "\u001b[34m\u001b[1mwandb\u001b[0m: \ttarget_depth: 0\n",
      "\u001b[34m\u001b[1mwandb\u001b[0m: \tthumbnail_size: [2048, 2048]\n",
      "\u001b[34m\u001b[1mwandb\u001b[0m: \tuse_gray: False\n"
     ]
    },
    {
     "data": {
      "text/html": [
       "\n",
       "                Tracking run with wandb version 0.10.15<br/>\n",
       "                Syncing run <strong style=\"color:#cdcd00\">sweet-sweep-58</strong> to <a href=\"https://wandb.ai\" target=\"_blank\">Weights & Biases</a> <a href=\"https://docs.wandb.com/integrations/jupyter.html\" target=\"_blank\">(Documentation)</a>.<br/>\n",
       "                Project page: <a href=\"https://wandb.ai/christianml/quadtree\" target=\"_blank\">https://wandb.ai/christianml/quadtree</a><br/>\n",
       "                Sweep page: <a href=\"https://wandb.ai/christianml/quadtree/sweeps/e22y6790\" target=\"_blank\">https://wandb.ai/christianml/quadtree/sweeps/e22y6790</a><br/>\n",
       "Run page: <a href=\"https://wandb.ai/christianml/quadtree/runs/dqkqo3ry\" target=\"_blank\">https://wandb.ai/christianml/quadtree/runs/dqkqo3ry</a><br/>\n",
       "                Run data is saved locally in <code>/home/bronzi/ProgProjekte/EIPH_WSI/MIDL2021/Registration/WandB/wandb/run-20210126_215315-dqkqo3ry</code><br/><br/>\n",
       "            "
      ],
      "text/plain": [
       "<IPython.core.display.HTML object>"
      ]
     },
     "metadata": {},
     "output_type": "display_data"
    },
    {
     "name": "stderr",
     "output_type": "stream",
     "text": [
      "  0%|          | 0/5 [00:00<?, ?it/s]\n",
      "  0%|          | 0/4 [00:00<?, ?it/s]\u001b[A\n",
      " 25%|██▌       | 1/4 [00:11<00:33, 11.29s/it]\u001b[A\n",
      " 75%|███████▌  | 3/4 [00:29<00:09,  9.91s/it]\u001b[A\n",
      "  0%|          | 0/5 [00:29<?, ?it/s]\n"
     ]
    },
    {
     "data": {
      "text/html": [
       "<br/>Waiting for W&B process to finish, PID 31414<br/>Program failed with code 1.  Press ctrl-c to abort syncing."
      ],
      "text/plain": [
       "<IPython.core.display.HTML object>"
      ]
     },
     "metadata": {},
     "output_type": "display_data"
    },
    {
     "data": {
      "application/vnd.jupyter.widget-view+json": {
       "model_id": "",
       "version_major": 2,
       "version_minor": 0
      },
      "text/plain": [
       "VBox(children=(Label(value=' 0.00MB of 0.00MB uploaded (0.00MB deduped)\\r'), FloatProgress(value=1.0, max=1.0)…"
      ]
     },
     "metadata": {},
     "output_type": "display_data"
    },
    {
     "data": {
      "text/html": [
       "Find user logs for this run at: <code>/home/bronzi/ProgProjekte/EIPH_WSI/MIDL2021/Registration/WandB/wandb/run-20210126_215315-dqkqo3ry/logs/debug.log</code>"
      ],
      "text/plain": [
       "<IPython.core.display.HTML object>"
      ]
     },
     "metadata": {},
     "output_type": "display_data"
    },
    {
     "data": {
      "text/html": [
       "Find internal logs for this run at: <code>/home/bronzi/ProgProjekte/EIPH_WSI/MIDL2021/Registration/WandB/wandb/run-20210126_215315-dqkqo3ry/logs/debug-internal.log</code>"
      ],
      "text/plain": [
       "<IPython.core.display.HTML object>"
      ]
     },
     "metadata": {},
     "output_type": "display_data"
    },
    {
     "data": {
      "text/html": [
       "<h3>Run summary:</h3><br/><style>\n",
       "    table.wandb td:nth-child(1) { padding: 0 10px; text-align: right }\n",
       "    </style><table class=\"wandb\">\n",
       "<tr><td>dist_mean_image</td><td>13.53525</td></tr><tr><td>mean_reg_error_image</td><td>3.27733</td></tr><tr><td>step</td><td>1</td></tr><tr><td>_step</td><td>1</td></tr><tr><td>_runtime</td><td>23</td></tr><tr><td>_timestamp</td><td>1611694418</td></tr></table>"
      ],
      "text/plain": [
       "<IPython.core.display.HTML object>"
      ]
     },
     "metadata": {},
     "output_type": "display_data"
    },
    {
     "data": {
      "text/html": [
       "<h3>Run history:</h3><br/><style>\n",
       "    table.wandb td:nth-child(1) { padding: 0 10px; text-align: right }\n",
       "    </style><table class=\"wandb\">\n",
       "<tr><td>dist_mean_image</td><td>▁█</td></tr><tr><td>mean_reg_error_image</td><td>█▁</td></tr><tr><td>step</td><td>▁█</td></tr><tr><td>_step</td><td>▁█</td></tr><tr><td>_runtime</td><td>▁█</td></tr><tr><td>_timestamp</td><td>▁█</td></tr></table><br/>"
      ],
      "text/plain": [
       "<IPython.core.display.HTML object>"
      ]
     },
     "metadata": {},
     "output_type": "display_data"
    },
    {
     "data": {
      "text/html": [
       "Synced 5 W&B file(s), 0 media file(s), 0 artifact file(s) and 0 other file(s)"
      ],
      "text/plain": [
       "<IPython.core.display.HTML object>"
      ]
     },
     "metadata": {},
     "output_type": "display_data"
    },
    {
     "data": {
      "text/html": [
       "\n",
       "                    <br/>Synced <strong style=\"color:#cdcd00\">sweet-sweep-58</strong>: <a href=\"https://wandb.ai/christianml/quadtree/runs/dqkqo3ry\" target=\"_blank\">https://wandb.ai/christianml/quadtree/runs/dqkqo3ry</a><br/>\n",
       "                "
      ],
      "text/plain": [
       "<IPython.core.display.HTML object>"
      ]
     },
     "metadata": {},
     "output_type": "display_data"
    },
    {
     "name": "stderr",
     "output_type": "stream",
     "text": [
      "Run dqkqo3ry errored: LinAlgError('Singular matrix')\n",
      "\u001b[34m\u001b[1mwandb\u001b[0m: \u001b[32m\u001b[41mERROR\u001b[0m Run dqkqo3ry errored: LinAlgError('Singular matrix')\n",
      "\u001b[34m\u001b[1mwandb\u001b[0m: Agent Starting Run: o0eyv6mq with config:\n",
      "\u001b[34m\u001b[1mwandb\u001b[0m: \tcrossCheck: False\n",
      "\u001b[34m\u001b[1mwandb\u001b[0m: \tfilter_outliner: False\n",
      "\u001b[34m\u001b[1mwandb\u001b[0m: \tflann: False\n",
      "\u001b[34m\u001b[1mwandb\u001b[0m: \thomography: False\n",
      "\u001b[34m\u001b[1mwandb\u001b[0m: \timage_type: Cyto\n",
      "\u001b[34m\u001b[1mwandb\u001b[0m: \tmaxFeatures: 2048\n",
      "\u001b[34m\u001b[1mwandb\u001b[0m: \tpoint_extractor: sift\n",
      "\u001b[34m\u001b[1mwandb\u001b[0m: \tratio: 0.7\n",
      "\u001b[34m\u001b[1mwandb\u001b[0m: \tsource_scanner: Aperio\n",
      "\u001b[34m\u001b[1mwandb\u001b[0m: \ttarget_depth: 0\n",
      "\u001b[34m\u001b[1mwandb\u001b[0m: \tthumbnail_size: [4096, 4096]\n",
      "\u001b[34m\u001b[1mwandb\u001b[0m: \tuse_gray: False\n"
     ]
    },
    {
     "data": {
      "text/html": [
       "\n",
       "                Tracking run with wandb version 0.10.15<br/>\n",
       "                Syncing run <strong style=\"color:#cdcd00\">smart-sweep-59</strong> to <a href=\"https://wandb.ai\" target=\"_blank\">Weights & Biases</a> <a href=\"https://docs.wandb.com/integrations/jupyter.html\" target=\"_blank\">(Documentation)</a>.<br/>\n",
       "                Project page: <a href=\"https://wandb.ai/christianml/quadtree\" target=\"_blank\">https://wandb.ai/christianml/quadtree</a><br/>\n",
       "                Sweep page: <a href=\"https://wandb.ai/christianml/quadtree/sweeps/e22y6790\" target=\"_blank\">https://wandb.ai/christianml/quadtree/sweeps/e22y6790</a><br/>\n",
       "Run page: <a href=\"https://wandb.ai/christianml/quadtree/runs/o0eyv6mq\" target=\"_blank\">https://wandb.ai/christianml/quadtree/runs/o0eyv6mq</a><br/>\n",
       "                Run data is saved locally in <code>/home/bronzi/ProgProjekte/EIPH_WSI/MIDL2021/Registration/WandB/wandb/run-20210126_215352-o0eyv6mq</code><br/><br/>\n",
       "            "
      ],
      "text/plain": [
       "<IPython.core.display.HTML object>"
      ]
     },
     "metadata": {},
     "output_type": "display_data"
    },
    {
     "name": "stderr",
     "output_type": "stream",
     "text": [
      "  0%|          | 0/5 [00:00<?, ?it/s]\n",
      "  0%|          | 0/4 [00:00<?, ?it/s]\u001b[A\u001b[34m\u001b[1mwandb\u001b[0m: Ctrl + C detected. Stopping sweep.\n",
      "  0%|          | 0/4 [11:58:50<?, ?it/s]\n",
      "  0%|          | 0/5 [11:58:50<?, ?it/s]\n"
     ]
    },
    {
     "data": {
      "text/html": [
       "<br/>Waiting for W&B process to finish, PID 31567<br/>Program failed with code 1.  Press ctrl-c to abort syncing."
      ],
      "text/plain": [
       "<IPython.core.display.HTML object>"
      ]
     },
     "metadata": {},
     "output_type": "display_data"
    }
   ],
   "source": [
    "wandb.agent(sweep_id, train)"
   ]
  },
  {
   "cell_type": "code",
   "execution_count": null,
   "metadata": {},
   "outputs": [],
   "source": []
  }
 ],
 "metadata": {
  "kernelspec": {
   "display_name": "Python 3",
   "language": "python",
   "name": "python3"
  },
  "language_info": {
   "codemirror_mode": {
    "name": "ipython",
    "version": 3
   },
   "file_extension": ".py",
   "mimetype": "text/x-python",
   "name": "python",
   "nbconvert_exporter": "python",
   "pygments_lexer": "ipython3",
   "version": "3.6.10"
  }
 },
 "nbformat": 4,
 "nbformat_minor": 4
}
