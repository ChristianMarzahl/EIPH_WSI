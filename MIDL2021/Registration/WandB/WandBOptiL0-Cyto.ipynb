{
 "cells": [
  {
   "cell_type": "code",
   "execution_count": 1,
   "metadata": {},
   "outputs": [],
   "source": [
    "%reload_ext autoreload\n",
    "%autoreload 2\n",
    "%matplotlib inline"
   ]
  },
  {
   "cell_type": "code",
   "execution_count": 2,
   "metadata": {},
   "outputs": [],
   "source": [
    "import numpy as np\n",
    "import openslide\n",
    "from probreg import cpd\n",
    "from probreg import transformation as tf\n",
    "import cv2\n",
    "from PIL import Image\n",
    "from pathlib import Path\n",
    "import pandas as pd\n",
    "from tqdm import tqdm\n",
    "import json\n",
    "import wandb"
   ]
  },
  {
   "cell_type": "code",
   "execution_count": 3,
   "metadata": {},
   "outputs": [],
   "source": [
    "import sys\n",
    "sys.path.append(\"..\")\n",
    "from registration_tree import Rect, QuadTree"
   ]
  },
  {
   "cell_type": "code",
   "execution_count": 4,
   "metadata": {},
   "outputs": [],
   "source": [
    "sweep_config = {\n",
    "    'method': 'random', #'bayes' # 'random'\n",
    "}\n",
    "\n",
    "metric = {\n",
    "    'name': 'dist_mean',\n",
    "    'goal': 'minimise'   \n",
    "    }\n",
    "\n",
    "\n",
    "sweep_config['metric'] = metric"
   ]
  },
  {
   "cell_type": "code",
   "execution_count": 5,
   "metadata": {},
   "outputs": [],
   "source": [
    "parameters_dict = {\n",
    "    'method': {\n",
    "        'values': ['orb', \"sift\"]\n",
    "        },\n",
    "    'maxFeatures': {\n",
    "        #'values': [64, 128, 256, 512, 768, 1024, 2048]\n",
    "        'values': [512, 768, 1024, 2048]\n",
    "        },\n",
    "    'crossCheck': {\n",
    "        'values': [False]\n",
    "        },\n",
    "    'flann': {\n",
    "        'values': [False, True]\n",
    "        },\n",
    "    'ratio': {\n",
    "        #'values': [.1, .2, .3, .4, .5, .6, .7, .8, .9]\n",
    "        'values': [.4, .5, .6, .7]\n",
    "        },\n",
    "    'use_gray': {\n",
    "        'values': [True, False]\n",
    "        },\n",
    "    'target_depth': {\n",
    "        'values': [0]\n",
    "        },\n",
    "    'thumbnail_size': {\n",
    "        #'values': [(128, 128), (256, 256), (512, 512), (768, 768), (1024, 1024), (2048, 2048), (4096, 4096), (8192, 8192)]\n",
    "        'values': [(1024, 1024), (2048, 2048), (4096, 4096), (8192, 8192)]\n",
    "        },    \n",
    "    \n",
    "    'image_type': {\n",
    "        'values': [\"Cyto\"]\n",
    "        },\n",
    "    \n",
    "    'source_scanner': {\n",
    "        'values': [\"Aperio\"]\n",
    "        },\n",
    "}\n",
    "sweep_config['parameters'] = parameters_dict"
   ]
  },
  {
   "cell_type": "code",
   "execution_count": 6,
   "metadata": {},
   "outputs": [
    {
     "name": "stderr",
     "output_type": "stream",
     "text": [
      "Failed to query for notebook name, you can set it manually with the WANDB_NOTEBOOK_NAME environment variable\n"
     ]
    },
    {
     "name": "stdout",
     "output_type": "stream",
     "text": [
      "Create sweep with ID: hy4huvzx\n",
      "Sweep URL: https://wandb.ai/christianml/quadtree/sweeps/hy4huvzx\n"
     ]
    },
    {
     "data": {
      "text/plain": [
       "'hy4huvzx'"
      ]
     },
     "execution_count": 6,
     "metadata": {},
     "output_type": "execute_result"
    }
   ],
   "source": [
    "sweep_id = wandb.sweep(sweep_config, project=\"quadtree\")\n",
    "sweep_id"
   ]
  },
  {
   "cell_type": "code",
   "execution_count": 7,
   "metadata": {},
   "outputs": [],
   "source": [
    "def add_help_fields(frame):\n",
    "    \n",
    "    frame[\"image_name_stem\"] = [Path(image_name).stem for image_name in frame[\"image_name\"]]    \n",
    "    frame[\"patient_id\"] = [name.split(\"_\")[2] for name in frame[\"image_name\"]]\n",
    "\n",
    "    frame[\"x1\"] = [json.loads(vector.replace(\"\\'\",\"\\\"\"))['x1'] for vector in frame[\"vector\"]]\n",
    "    frame[\"y1\"] = [json.loads(vector.replace(\"\\'\",\"\\\"\"))['y1'] for vector in frame[\"vector\"]]\n",
    "\n",
    "    frame[\"x2\"] = [json.loads(vector.replace(\"\\'\",\"\\\"\"))['x2'] for vector in frame[\"vector\"]]\n",
    "    frame[\"y2\"] = [json.loads(vector.replace(\"\\'\",\"\\\"\"))['y2'] for vector in frame[\"vector\"]]\n",
    "\n",
    "    frame[\"center_x\"] = [x1 + ((x2-x1) / 2) for x1, x2 in zip(frame[\"x1\"], frame[\"x2\"])]\n",
    "    frame[\"center_y\"] = [y1 + ((y2-y1) / 2) for y1, y2 in zip(frame[\"y1\"], frame[\"y2\"])]\n",
    "    \n",
    "    frame[\"center\"] = [np.array((center_x, center_y)) for center_x, center_y in zip(frame[\"center_x\"], frame[\"center_y\"])]\n",
    "\n",
    "    frame[\"anno_width\"] = [x2-x1 for x1, x2 in zip(frame[\"x1\"], frame[\"x2\"])]\n",
    "    frame[\"anno_height\"]= [y2-y1 for y1, y2 in zip(frame[\"y1\"], frame[\"y2\"])]\n",
    "    \n",
    "    return frame"
   ]
  },
  {
   "cell_type": "code",
   "execution_count": 8,
   "metadata": {},
   "outputs": [],
   "source": [
    "folder = Path(\"..\")\n",
    "\n",
    "slide_files = {path.name: path for path in Path(\"D:/Datasets/ScannerStudy\").glob(\"*/*/*.*\")}"
   ]
  },
  {
   "cell_type": "code",
   "execution_count": 9,
   "metadata": {},
   "outputs": [],
   "source": [
    "def train(config=None):\n",
    "    \n",
    "    # Initialize a new wandb run\n",
    "    with wandb.init(config=config):\n",
    "        # If called by wandb.agent, as below,\n",
    "        # this config will be set by Sweep Controller\n",
    "        config = wandb.config\n",
    "        \n",
    "        annotations = add_help_fields(pd.read_csv(folder / \"Validation/GT.csv\"))\n",
    "        annotations = annotations[annotations[\"image_type\"] == config.image_type]\n",
    "        \n",
    "        source_scanner_annotations = annotations[annotations[\"scanner\"] == config.source_scanner]\n",
    "    \n",
    "        dist_list, q_list, sigma2_list = [], [], []\n",
    "                                  \n",
    "        for patient_id in tqdm(source_scanner_annotations[\"patient_id\"].unique()):\n",
    "\n",
    "            source_annos = source_scanner_annotations[source_scanner_annotations[\"patient_id\"] == patient_id]\n",
    "            source_anno = source_annos.iloc[0]\n",
    "\n",
    "            target_patient_annotations = annotations[annotations[\"patient_id\"] == patient_id]\n",
    "\n",
    "            for target_image_name in tqdm(target_patient_annotations[\"image_name\"].unique()):\n",
    "\n",
    "                target_annos = target_patient_annotations[target_patient_annotations[\"image_name\"] == target_image_name]\n",
    "                target_anno = target_annos.iloc[0]\n",
    "\n",
    "                source_slide = openslide.OpenSlide(str(slide_files[source_anno.image_name]))\n",
    "                target_slide = openslide.OpenSlide(str(slide_files[target_anno.image_name]))\n",
    "\n",
    "                source_dimension = Rect.create(Rect, 0, 0, source_slide.dimensions[0], source_slide.dimensions[1])\n",
    "                target_dimension = Rect.create(Rect, 0, 0, target_slide.dimensions[0], target_slide.dimensions[1])\n",
    "\n",
    "\n",
    "                qtree = QuadTree(source_dimension, source_slide, target_dimension, target_slide, **config)\n",
    "                                  \n",
    "                q_list.append(qtree.q)\n",
    "                sigma2_list.append(qtree.sigma2)\n",
    "                \n",
    "                for type_name in source_annos[\"type_name\"].unique():\n",
    "\n",
    "                    source_anno = source_annos[source_annos[\"type_name\"] == type_name].iloc[0]\n",
    "                    target_anno = target_annos[target_annos[\"type_name\"] == type_name].iloc[0]\n",
    "\n",
    "                    box = [source_anno.center_x, source_anno.center_y, source_anno.anno_width, source_anno.anno_height]\n",
    "                    target_box = [target_anno.center_x, target_anno.center_y, target_anno.anno_width, target_anno.anno_height]\n",
    "\n",
    "                    trans_box = qtree.transform_boxes(np.array([box]))[0]\n",
    "\n",
    "                    distance = np.linalg.norm(target_box[:2]-trans_box[:2])\n",
    "\n",
    "                    dist_list.append(distance)\n",
    "        \n",
    "        dist_list, q_list, sigma2_list = np.array(dist_list), np.array(q_list), np.array(sigma2_list)\n",
    "        \n",
    "        wandb.log({\n",
    "            \"dist_mean\": dist_list.mean(),\n",
    "            \"dist_min\": dist_list.min(),\n",
    "            \"dist_max\": dist_list.max(),\n",
    "            \n",
    "            \"q_mean\": q_list.mean(),\n",
    "            \"q_min\": q_list.min(),\n",
    "            \"q_max\": q_list.max(),\n",
    "            \n",
    "            \"sigma2_mean\": sigma2_list.mean(),\n",
    "            \"sigma2_min\": sigma2_list.min(),\n",
    "            \"sigma2_max\": sigma2_list.max(),\n",
    "        })"
   ]
  },
  {
   "cell_type": "code",
   "execution_count": 10,
   "metadata": {},
   "outputs": [
    {
     "data": {
      "text/plain": [
       "'hy4huvzx'"
      ]
     },
     "execution_count": 10,
     "metadata": {},
     "output_type": "execute_result"
    }
   ],
   "source": [
    "sweep_id"
   ]
  },
  {
   "cell_type": "code",
   "execution_count": null,
   "metadata": {
    "scrolled": false
   },
   "outputs": [
    {
     "name": "stderr",
     "output_type": "stream",
     "text": [
      "wandb: Agent Starting Run: 1pevcbpp with config:\n",
      "wandb: \tcrossCheck: False\n",
      "wandb: \tflann: False\n",
      "wandb: \timage_type: Cyto\n",
      "wandb: \tmaxFeatures: 768\n",
      "wandb: \tmethod: sift\n",
      "wandb: \tratio: 0.4\n",
      "wandb: \tsource_scanner: Aperio\n",
      "wandb: \ttarget_depth: 0\n",
      "wandb: \tthumbnail_size: [4096, 4096]\n",
      "wandb: \tuse_gray: True\n",
      "Failed to query for notebook name, you can set it manually with the WANDB_NOTEBOOK_NAME environment variable\n",
      "wandb: Currently logged in as: christianml (use `wandb login --relogin` to force relogin)\n"
     ]
    },
    {
     "data": {
      "text/html": [
       "\n",
       "                Tracking run with wandb version 0.10.14<br/>\n",
       "                Syncing run <strong style=\"color:#cdcd00\">breezy-sweep-1</strong> to <a href=\"https://wandb.ai\" target=\"_blank\">Weights & Biases</a> <a href=\"https://docs.wandb.com/integrations/jupyter.html\" target=\"_blank\">(Documentation)</a>.<br/>\n",
       "                Project page: <a href=\"https://wandb.ai/christianml/quadtree\" target=\"_blank\">https://wandb.ai/christianml/quadtree</a><br/>\n",
       "                Sweep page: <a href=\"https://wandb.ai/christianml/quadtree/sweeps/hy4huvzx\" target=\"_blank\">https://wandb.ai/christianml/quadtree/sweeps/hy4huvzx</a><br/>\n",
       "Run page: <a href=\"https://wandb.ai/christianml/quadtree/runs/1pevcbpp\" target=\"_blank\">https://wandb.ai/christianml/quadtree/runs/1pevcbpp</a><br/>\n",
       "                Run data is saved locally in <code>D:\\ProgProjekte\\Python\\EIPH_WSI\\MIDL2021\\Registration\\WandB\\wandb\\run-20210124_195605-1pevcbpp</code><br/><br/>\n",
       "            "
      ],
      "text/plain": [
       "<IPython.core.display.HTML object>"
      ]
     },
     "metadata": {},
     "output_type": "display_data"
    },
    {
     "name": "stderr",
     "output_type": "stream",
     "text": [
      "  0%|                                                                                            | 0/5 [00:00<?, ?it/s]\n",
      "  0%|                                                                                            | 0/4 [00:00<?, ?it/s]\u001b[A\n",
      " 25%|█████████████████████                                                               | 1/4 [00:17<00:53, 17.88s/it]\u001b[A\n",
      " 50%|██████████████████████████████████████████                                          | 2/4 [00:41<00:39, 19.66s/it]\u001b[A\n",
      " 75%|███████████████████████████████████████████████████████████████                     | 3/4 [00:54<00:17, 17.75s/it]\u001b[A\n",
      "100%|████████████████████████████████████████████████████████████████████████████████████| 4/4 [01:12<00:00, 18.14s/it]\u001b[A\n",
      " 20%|████████████████▊                                                                   | 1/5 [01:12<04:50, 72.56s/it]\n",
      "  0%|                                                                                            | 0/4 [00:00<?, ?it/s]\u001b[A\n",
      " 25%|█████████████████████                                                               | 1/4 [00:17<00:52, 17.37s/it]\u001b[A\n",
      " 50%|██████████████████████████████████████████                                          | 2/4 [00:44<00:40, 20.16s/it]\u001b[A\n",
      " 75%|███████████████████████████████████████████████████████████████                     | 3/4 [00:57<00:18, 18.29s/it]\u001b[A\n",
      "100%|████████████████████████████████████████████████████████████████████████████████████| 4/4 [01:15<00:00, 18.79s/it]\u001b[A\n",
      " 40%|█████████████████████████████████▌                                                  | 2/5 [02:27<03:40, 73.34s/it]\n",
      "  0%|                                                                                            | 0/4 [00:00<?, ?it/s]\u001b[A\n",
      " 25%|█████████████████████                                                               | 1/4 [00:17<00:52, 17.65s/it]\u001b[A\n",
      " 50%|██████████████████████████████████████████                                          | 2/4 [00:42<00:39, 19.92s/it]\u001b[A\n",
      " 75%|███████████████████████████████████████████████████████████████                     | 3/4 [00:57<00:18, 18.28s/it]\u001b[A\n",
      "100%|████████████████████████████████████████████████████████████████████████████████████| 4/4 [01:13<00:00, 18.40s/it]\u001b[A\n",
      " 60%|██████████████████████████████████████████████████▍                                 | 3/5 [03:41<02:26, 73.42s/it]\n",
      "  0%|                                                                                            | 0/4 [00:21<?, ?it/s]\u001b[A\n",
      " 60%|██████████████████████████████████████████████████▍                                 | 3/5 [04:02<02:41, 80.99s/it]\n"
     ]
    },
    {
     "data": {
      "text/html": [
       "<br/>Waiting for W&B process to finish, PID 11780<br/>Program failed with code 1.  Press ctrl-c to abort syncing."
      ],
      "text/plain": [
       "<IPython.core.display.HTML object>"
      ]
     },
     "metadata": {},
     "output_type": "display_data"
    },
    {
     "data": {
      "application/vnd.jupyter.widget-view+json": {
       "model_id": "",
       "version_major": 2,
       "version_minor": 0
      },
      "text/plain": [
       "VBox(children=(Label(value=' 0.00MB of 0.00MB uploaded (0.00MB deduped)\\r'), FloatProgress(value=1.0, max=1.0)…"
      ]
     },
     "metadata": {},
     "output_type": "display_data"
    },
    {
     "data": {
      "text/html": [
       "Find user logs for this run at: <code>D:\\ProgProjekte\\Python\\EIPH_WSI\\MIDL2021\\Registration\\WandB\\wandb\\run-20210124_195605-1pevcbpp\\logs\\debug.log</code>"
      ],
      "text/plain": [
       "<IPython.core.display.HTML object>"
      ]
     },
     "metadata": {},
     "output_type": "display_data"
    },
    {
     "data": {
      "text/html": [
       "Find internal logs for this run at: <code>D:\\ProgProjekte\\Python\\EIPH_WSI\\MIDL2021\\Registration\\WandB\\wandb\\run-20210124_195605-1pevcbpp\\logs\\debug-internal.log</code>"
      ],
      "text/plain": [
       "<IPython.core.display.HTML object>"
      ]
     },
     "metadata": {},
     "output_type": "display_data"
    },
    {
     "data": {
      "text/html": [
       "Synced 5 W&B file(s), 0 media file(s), 0 artifact file(s) and 0 other file(s)"
      ],
      "text/plain": [
       "<IPython.core.display.HTML object>"
      ]
     },
     "metadata": {},
     "output_type": "display_data"
    },
    {
     "data": {
      "text/html": [
       "\n",
       "                    <br/>Synced <strong style=\"color:#cdcd00\">breezy-sweep-1</strong>: <a href=\"https://wandb.ai/christianml/quadtree/runs/1pevcbpp\" target=\"_blank\">https://wandb.ai/christianml/quadtree/runs/1pevcbpp</a><br/>\n",
       "                "
      ],
      "text/plain": [
       "<IPython.core.display.HTML object>"
      ]
     },
     "metadata": {},
     "output_type": "display_data"
    },
    {
     "name": "stderr",
     "output_type": "stream",
     "text": [
      "Run 1pevcbpp errored: ValueError('Expected n_neighbors > 0. Got 0',)\n",
      "wandb: ERROR Run 1pevcbpp errored: ValueError('Expected n_neighbors > 0. Got 0',)\n",
      "wandb: Agent Starting Run: 4utuc009 with config:\n",
      "wandb: \tcrossCheck: False\n",
      "wandb: \tflann: True\n",
      "wandb: \timage_type: Cyto\n",
      "wandb: \tmaxFeatures: 1024\n",
      "wandb: \tmethod: sift\n",
      "wandb: \tratio: 0.5\n",
      "wandb: \tsource_scanner: Aperio\n",
      "wandb: \ttarget_depth: 0\n",
      "wandb: \tthumbnail_size: [8192, 8192]\n",
      "wandb: \tuse_gray: False\n",
      "Failed to query for notebook name, you can set it manually with the WANDB_NOTEBOOK_NAME environment variable\n"
     ]
    },
    {
     "data": {
      "text/html": [
       "\n",
       "                Tracking run with wandb version 0.10.14<br/>\n",
       "                Syncing run <strong style=\"color:#cdcd00\">young-sweep-2</strong> to <a href=\"https://wandb.ai\" target=\"_blank\">Weights & Biases</a> <a href=\"https://docs.wandb.com/integrations/jupyter.html\" target=\"_blank\">(Documentation)</a>.<br/>\n",
       "                Project page: <a href=\"https://wandb.ai/christianml/quadtree\" target=\"_blank\">https://wandb.ai/christianml/quadtree</a><br/>\n",
       "                Sweep page: <a href=\"https://wandb.ai/christianml/quadtree/sweeps/hy4huvzx\" target=\"_blank\">https://wandb.ai/christianml/quadtree/sweeps/hy4huvzx</a><br/>\n",
       "Run page: <a href=\"https://wandb.ai/christianml/quadtree/runs/4utuc009\" target=\"_blank\">https://wandb.ai/christianml/quadtree/runs/4utuc009</a><br/>\n",
       "                Run data is saved locally in <code>D:\\ProgProjekte\\Python\\EIPH_WSI\\MIDL2021\\Registration\\WandB\\wandb\\run-20210124_200016-4utuc009</code><br/><br/>\n",
       "            "
      ],
      "text/plain": [
       "<IPython.core.display.HTML object>"
      ]
     },
     "metadata": {},
     "output_type": "display_data"
    },
    {
     "name": "stderr",
     "output_type": "stream",
     "text": [
      "  0%|                                                                                            | 0/5 [00:00<?, ?it/s]\n",
      "  0%|                                                                                            | 0/4 [00:00<?, ?it/s]\u001b[A\n",
      " 25%|████████████████████▊                                                              | 1/4 [01:59<05:57, 119.16s/it]\u001b[A\n",
      " 50%|█████████████████████████████████████████▌                                         | 2/4 [05:42<05:01, 150.52s/it]\u001b[A\n",
      " 75%|██████████████████████████████████████████████████████████████▎                    | 3/4 [08:40<02:38, 158.77s/it]\u001b[A\n",
      "100%|███████████████████████████████████████████████████████████████████████████████████| 4/4 [10:45<00:00, 161.39s/it]\u001b[A\n",
      " 20%|████████████████▌                                                                  | 1/5 [10:45<43:02, 645.58s/it]\n",
      "  0%|                                                                                            | 0/4 [00:00<?, ?it/s]\u001b[A\n",
      " 25%|█████████████████████                                                               | 1/4 [00:22<01:08, 22.68s/it]\u001b[A\n",
      " 50%|██████████████████████████████████████████                                          | 2/4 [00:53<00:50, 25.11s/it]\u001b[A\n",
      " 75%|███████████████████████████████████████████████████████████████                     | 3/4 [01:32<00:29, 29.18s/it]\u001b[A\n",
      "100%|████████████████████████████████████████████████████████████████████████████████████| 4/4 [01:59<00:00, 29.90s/it]\u001b[A\n",
      " 40%|█████████████████████████████████▏                                                 | 2/5 [12:45<24:23, 487.79s/it]\n",
      "  0%|                                                                                            | 0/4 [00:00<?, ?it/s]\u001b[A\n",
      " 25%|████████████████████▊                                                              | 1/4 [02:07<06:22, 127.36s/it]\u001b[A\n",
      " 50%|█████████████████████████████████████████▌                                         | 2/4 [06:07<05:22, 161.32s/it]\u001b[A\n",
      " 75%|██████████████████████████████████████████████████████████████▎                    | 3/4 [08:38<02:38, 158.02s/it]\u001b[A\n",
      "100%|███████████████████████████████████████████████████████████████████████████████████| 4/4 [10:46<00:00, 161.54s/it]\u001b[A\n",
      " 60%|█████████████████████████████████████████████████▊                                 | 3/5 [23:31<17:50, 535.30s/it]\n",
      "  0%|                                                                                            | 0/4 [00:00<?, ?it/s]\u001b[A\n",
      " 25%|█████████████████████                                                               | 1/4 [00:26<01:19, 26.35s/it]\u001b[A\n",
      " 50%|██████████████████████████████████████████                                          | 2/4 [01:05<01:00, 30.15s/it]\u001b[A\n",
      " 75%|███████████████████████████████████████████████████████████████                     | 3/4 [01:36<00:30, 30.33s/it]\u001b[A\n",
      "100%|████████████████████████████████████████████████████████████████████████████████████| 4/4 [02:06<00:00, 31.68s/it]\u001b[A\n",
      " 80%|██████████████████████████████████████████████████████████████████▍                | 4/5 [25:38<06:52, 412.73s/it]\n",
      "  0%|                                                                                            | 0/4 [00:00<?, ?it/s]\u001b[A\n",
      " 25%|████████████████████▊                                                              | 1/4 [02:05<06:15, 125.02s/it]\u001b[A\n",
      " 50%|█████████████████████████████████████████▌                                         | 2/4 [06:02<05:17, 158.90s/it]\u001b[A\n",
      " 75%|██████████████████████████████████████████████████████████████▎                    | 3/4 [08:25<02:33, 153.88s/it]\u001b[A\n",
      "100%|███████████████████████████████████████████████████████████████████████████████████| 4/4 [11:12<00:00, 168.01s/it]\u001b[A\n",
      "100%|███████████████████████████████████████████████████████████████████████████████████| 5/5 [36:50<00:00, 442.03s/it]\n"
     ]
    },
    {
     "data": {
      "text/html": [
       "<br/>Waiting for W&B process to finish, PID 23704<br/>Program ended successfully."
      ],
      "text/plain": [
       "<IPython.core.display.HTML object>"
      ]
     },
     "metadata": {},
     "output_type": "display_data"
    },
    {
     "data": {
      "application/vnd.jupyter.widget-view+json": {
       "model_id": "",
       "version_major": 2,
       "version_minor": 0
      },
      "text/plain": [
       "VBox(children=(Label(value=' 0.00MB of 0.00MB uploaded (0.00MB deduped)\\r'), FloatProgress(value=1.0, max=1.0)…"
      ]
     },
     "metadata": {},
     "output_type": "display_data"
    },
    {
     "data": {
      "text/html": [
       "Find user logs for this run at: <code>D:\\ProgProjekte\\Python\\EIPH_WSI\\MIDL2021\\Registration\\WandB\\wandb\\run-20210124_200016-4utuc009\\logs\\debug.log</code>"
      ],
      "text/plain": [
       "<IPython.core.display.HTML object>"
      ]
     },
     "metadata": {},
     "output_type": "display_data"
    },
    {
     "data": {
      "text/html": [
       "Find internal logs for this run at: <code>D:\\ProgProjekte\\Python\\EIPH_WSI\\MIDL2021\\Registration\\WandB\\wandb\\run-20210124_200016-4utuc009\\logs\\debug-internal.log</code>"
      ],
      "text/plain": [
       "<IPython.core.display.HTML object>"
      ]
     },
     "metadata": {},
     "output_type": "display_data"
    },
    {
     "data": {
      "text/html": [
       "<h3>Run summary:</h3><br/><style>\n",
       "    table.wandb td:nth-child(1) { padding: 0 10px; text-align: right }\n",
       "    </style><table class=\"wandb\">\n",
       "<tr><td>dist_mean</td><td>14.52075</td></tr><tr><td>dist_min</td><td>0.0</td></tr><tr><td>dist_max</td><td>466.92616</td></tr><tr><td>q_mean</td><td>-3873.19111</td></tr><tr><td>q_min</td><td>-16517.00195</td></tr><tr><td>q_max</td><td>586.96357</td></tr><tr><td>sigma2_mean</td><td>12.51853</td></tr><tr><td>sigma2_min</td><td>0.0</td></tr><tr><td>sigma2_max</td><td>26.71781</td></tr><tr><td>_step</td><td>0</td></tr><tr><td>_runtime</td><td>2214</td></tr><tr><td>_timestamp</td><td>1611517031</td></tr></table>"
      ],
      "text/plain": [
       "<IPython.core.display.HTML object>"
      ]
     },
     "metadata": {},
     "output_type": "display_data"
    },
    {
     "data": {
      "text/html": [
       "<h3>Run history:</h3><br/><style>\n",
       "    table.wandb td:nth-child(1) { padding: 0 10px; text-align: right }\n",
       "    </style><table class=\"wandb\">\n",
       "<tr><td>dist_mean</td><td>▁</td></tr><tr><td>dist_min</td><td>▁</td></tr><tr><td>dist_max</td><td>▁</td></tr><tr><td>q_mean</td><td>▁</td></tr><tr><td>q_min</td><td>▁</td></tr><tr><td>q_max</td><td>▁</td></tr><tr><td>sigma2_mean</td><td>▁</td></tr><tr><td>sigma2_min</td><td>▁</td></tr><tr><td>sigma2_max</td><td>▁</td></tr><tr><td>_step</td><td>▁</td></tr><tr><td>_runtime</td><td>▁</td></tr><tr><td>_timestamp</td><td>▁</td></tr></table><br/>"
      ],
      "text/plain": [
       "<IPython.core.display.HTML object>"
      ]
     },
     "metadata": {},
     "output_type": "display_data"
    },
    {
     "data": {
      "text/html": [
       "Synced 5 W&B file(s), 0 media file(s), 0 artifact file(s) and 0 other file(s)"
      ],
      "text/plain": [
       "<IPython.core.display.HTML object>"
      ]
     },
     "metadata": {},
     "output_type": "display_data"
    },
    {
     "data": {
      "text/html": [
       "\n",
       "                    <br/>Synced <strong style=\"color:#cdcd00\">young-sweep-2</strong>: <a href=\"https://wandb.ai/christianml/quadtree/runs/4utuc009\" target=\"_blank\">https://wandb.ai/christianml/quadtree/runs/4utuc009</a><br/>\n",
       "                "
      ],
      "text/plain": [
       "<IPython.core.display.HTML object>"
      ]
     },
     "metadata": {},
     "output_type": "display_data"
    },
    {
     "name": "stderr",
     "output_type": "stream",
     "text": [
      "wandb: Agent Starting Run: hq7a5j60 with config:\n",
      "wandb: \tcrossCheck: False\n",
      "wandb: \tflann: True\n",
      "wandb: \timage_type: Cyto\n",
      "wandb: \tmaxFeatures: 2048\n",
      "wandb: \tmethod: sift\n",
      "wandb: \tratio: 0.6\n",
      "wandb: \tsource_scanner: Aperio\n",
      "wandb: \ttarget_depth: 0\n",
      "wandb: \tthumbnail_size: [4096, 4096]\n",
      "wandb: \tuse_gray: False\n",
      "Failed to query for notebook name, you can set it manually with the WANDB_NOTEBOOK_NAME environment variable\n"
     ]
    },
    {
     "data": {
      "text/html": [
       "\n",
       "                Tracking run with wandb version 0.10.14<br/>\n",
       "                Syncing run <strong style=\"color:#cdcd00\">pleasant-sweep-3</strong> to <a href=\"https://wandb.ai\" target=\"_blank\">Weights & Biases</a> <a href=\"https://docs.wandb.com/integrations/jupyter.html\" target=\"_blank\">(Documentation)</a>.<br/>\n",
       "                Project page: <a href=\"https://wandb.ai/christianml/quadtree\" target=\"_blank\">https://wandb.ai/christianml/quadtree</a><br/>\n",
       "                Sweep page: <a href=\"https://wandb.ai/christianml/quadtree/sweeps/hy4huvzx\" target=\"_blank\">https://wandb.ai/christianml/quadtree/sweeps/hy4huvzx</a><br/>\n",
       "Run page: <a href=\"https://wandb.ai/christianml/quadtree/runs/hq7a5j60\" target=\"_blank\">https://wandb.ai/christianml/quadtree/runs/hq7a5j60</a><br/>\n",
       "                Run data is saved locally in <code>D:\\ProgProjekte\\Python\\EIPH_WSI\\MIDL2021\\Registration\\WandB\\wandb\\run-20210124_203716-hq7a5j60</code><br/><br/>\n",
       "            "
      ],
      "text/plain": [
       "<IPython.core.display.HTML object>"
      ]
     },
     "metadata": {},
     "output_type": "display_data"
    },
    {
     "name": "stderr",
     "output_type": "stream",
     "text": [
      "  0%|                                                                                            | 0/5 [00:00<?, ?it/s]\n",
      "  0%|                                                                                            | 0/4 [00:00<?, ?it/s]\u001b[A\n",
      " 25%|█████████████████████                                                               | 1/4 [00:18<00:54, 18.22s/it]\u001b[A\n",
      " 50%|██████████████████████████████████████████                                          | 2/4 [00:53<00:46, 23.46s/it]\u001b[A\n",
      " 75%|███████████████████████████████████████████████████████████████                     | 3/4 [01:07<00:20, 20.59s/it]\u001b[A\n",
      "100%|████████████████████████████████████████████████████████████████████████████████████| 4/4 [01:25<00:00, 21.32s/it]\u001b[A\n",
      " 20%|████████████████▊                                                                   | 1/5 [01:25<05:41, 85.27s/it]\n",
      "  0%|                                                                                            | 0/4 [00:00<?, ?it/s]\u001b[A\n",
      " 25%|█████████████████████                                                               | 1/4 [00:17<00:53, 17.72s/it]\u001b[A\n",
      " 50%|██████████████████████████████████████████                                          | 2/4 [00:55<00:47, 23.78s/it]\u001b[A\n",
      " 75%|███████████████████████████████████████████████████████████████                     | 3/4 [01:10<00:21, 21.06s/it]\u001b[A\n",
      "100%|████████████████████████████████████████████████████████████████████████████████████| 4/4 [01:27<00:00, 21.93s/it]\u001b[A\n",
      " 40%|█████████████████████████████████▌                                                  | 2/5 [02:53<04:18, 86.01s/it]\n",
      "  0%|                                                                                            | 0/4 [00:00<?, ?it/s]\u001b[A\n",
      " 25%|█████████████████████                                                               | 1/4 [00:18<00:56, 18.94s/it]\u001b[A\n",
      " 50%|██████████████████████████████████████████                                          | 2/4 [00:55<00:48, 24.19s/it]\u001b[A\n",
      " 75%|███████████████████████████████████████████████████████████████                     | 3/4 [01:10<00:21, 21.50s/it]\u001b[A\n",
      "100%|████████████████████████████████████████████████████████████████████████████████████| 4/4 [01:26<00:00, 21.70s/it]\u001b[A\n",
      " 60%|██████████████████████████████████████████████████▍                                 | 3/5 [04:19<02:52, 86.26s/it]\n",
      "  0%|                                                                                            | 0/4 [00:00<?, ?it/s]\u001b[A\n",
      " 25%|█████████████████████                                                               | 1/4 [00:21<01:04, 21.62s/it]\u001b[A\n",
      " 50%|██████████████████████████████████████████                                          | 2/4 [01:06<00:57, 28.59s/it]\u001b[A\n",
      " 75%|███████████████████████████████████████████████████████████████                     | 3/4 [01:24<00:25, 25.38s/it]\u001b[A\n",
      "100%|████████████████████████████████████████████████████████████████████████████████████| 4/4 [01:44<00:00, 26.22s/it]\u001b[A\n",
      " 80%|███████████████████████████████████████████████████████████████████▏                | 4/5 [06:04<01:31, 91.85s/it]\n",
      "  0%|                                                                                            | 0/4 [00:00<?, ?it/s]\u001b[A\n",
      " 25%|█████████████████████                                                               | 1/4 [00:18<00:56, 18.99s/it]\u001b[A\n",
      " 50%|██████████████████████████████████████████                                          | 2/4 [00:55<00:48, 24.35s/it]\u001b[A\n",
      " 75%|███████████████████████████████████████████████████████████████                     | 3/4 [01:10<00:21, 21.38s/it]\u001b[A\n",
      "100%|████████████████████████████████████████████████████████████████████████████████████| 4/4 [01:27<00:00, 21.80s/it]\u001b[A\n",
      "100%|████████████████████████████████████████████████████████████████████████████████████| 5/5 [07:31<00:00, 90.39s/it]\n"
     ]
    },
    {
     "data": {
      "text/html": [
       "<br/>Waiting for W&B process to finish, PID 4164<br/>Program ended successfully."
      ],
      "text/plain": [
       "<IPython.core.display.HTML object>"
      ]
     },
     "metadata": {},
     "output_type": "display_data"
    },
    {
     "data": {
      "application/vnd.jupyter.widget-view+json": {
       "model_id": "",
       "version_major": 2,
       "version_minor": 0
      },
      "text/plain": [
       "VBox(children=(Label(value=' 0.00MB of 0.00MB uploaded (0.00MB deduped)\\r'), FloatProgress(value=1.0, max=1.0)…"
      ]
     },
     "metadata": {},
     "output_type": "display_data"
    },
    {
     "data": {
      "text/html": [
       "Find user logs for this run at: <code>D:\\ProgProjekte\\Python\\EIPH_WSI\\MIDL2021\\Registration\\WandB\\wandb\\run-20210124_203716-hq7a5j60\\logs\\debug.log</code>"
      ],
      "text/plain": [
       "<IPython.core.display.HTML object>"
      ]
     },
     "metadata": {},
     "output_type": "display_data"
    },
    {
     "data": {
      "text/html": [
       "Find internal logs for this run at: <code>D:\\ProgProjekte\\Python\\EIPH_WSI\\MIDL2021\\Registration\\WandB\\wandb\\run-20210124_203716-hq7a5j60\\logs\\debug-internal.log</code>"
      ],
      "text/plain": [
       "<IPython.core.display.HTML object>"
      ]
     },
     "metadata": {},
     "output_type": "display_data"
    },
    {
     "data": {
      "text/html": [
       "<h3>Run summary:</h3><br/><style>\n",
       "    table.wandb td:nth-child(1) { padding: 0 10px; text-align: right }\n",
       "    </style><table class=\"wandb\">\n",
       "<tr><td>dist_mean</td><td>7.88989</td></tr><tr><td>dist_min</td><td>0.0</td></tr><tr><td>dist_max</td><td>68.23503</td></tr><tr><td>q_mean</td><td>-47.4668</td></tr><tr><td>q_min</td><td>-33034.00391</td></tr><tr><td>q_max</td><td>25652.52129</td></tr><tr><td>sigma2_mean</td><td>5124.73106</td></tr><tr><td>sigma2_min</td><td>0.0</td></tr><tr><td>sigma2_max</td><td>101280.0936</td></tr><tr><td>_step</td><td>0</td></tr><tr><td>_runtime</td><td>456</td></tr><tr><td>_timestamp</td><td>1611517492</td></tr></table>"
      ],
      "text/plain": [
       "<IPython.core.display.HTML object>"
      ]
     },
     "metadata": {},
     "output_type": "display_data"
    },
    {
     "data": {
      "text/html": [
       "<h3>Run history:</h3><br/><style>\n",
       "    table.wandb td:nth-child(1) { padding: 0 10px; text-align: right }\n",
       "    </style><table class=\"wandb\">\n",
       "<tr><td>dist_mean</td><td>▁</td></tr><tr><td>dist_min</td><td>▁</td></tr><tr><td>dist_max</td><td>▁</td></tr><tr><td>q_mean</td><td>▁</td></tr><tr><td>q_min</td><td>▁</td></tr><tr><td>q_max</td><td>▁</td></tr><tr><td>sigma2_mean</td><td>▁</td></tr><tr><td>sigma2_min</td><td>▁</td></tr><tr><td>sigma2_max</td><td>▁</td></tr><tr><td>_step</td><td>▁</td></tr><tr><td>_runtime</td><td>▁</td></tr><tr><td>_timestamp</td><td>▁</td></tr></table><br/>"
      ],
      "text/plain": [
       "<IPython.core.display.HTML object>"
      ]
     },
     "metadata": {},
     "output_type": "display_data"
    },
    {
     "data": {
      "text/html": [
       "Synced 5 W&B file(s), 0 media file(s), 0 artifact file(s) and 0 other file(s)"
      ],
      "text/plain": [
       "<IPython.core.display.HTML object>"
      ]
     },
     "metadata": {},
     "output_type": "display_data"
    },
    {
     "data": {
      "text/html": [
       "\n",
       "                    <br/>Synced <strong style=\"color:#cdcd00\">pleasant-sweep-3</strong>: <a href=\"https://wandb.ai/christianml/quadtree/runs/hq7a5j60\" target=\"_blank\">https://wandb.ai/christianml/quadtree/runs/hq7a5j60</a><br/>\n",
       "                "
      ],
      "text/plain": [
       "<IPython.core.display.HTML object>"
      ]
     },
     "metadata": {},
     "output_type": "display_data"
    },
    {
     "name": "stderr",
     "output_type": "stream",
     "text": [
      "wandb: Agent Starting Run: gbscj0mw with config:\n",
      "wandb: \tcrossCheck: False\n",
      "wandb: \tflann: True\n",
      "wandb: \timage_type: Cyto\n",
      "wandb: \tmaxFeatures: 1024\n",
      "wandb: \tmethod: orb\n",
      "wandb: \tratio: 0.4\n",
      "wandb: \tsource_scanner: Aperio\n",
      "wandb: \ttarget_depth: 0\n",
      "wandb: \tthumbnail_size: [4096, 4096]\n",
      "wandb: \tuse_gray: False\n",
      "Failed to query for notebook name, you can set it manually with the WANDB_NOTEBOOK_NAME environment variable\n"
     ]
    },
    {
     "data": {
      "text/html": [
       "\n",
       "                Tracking run with wandb version 0.10.14<br/>\n",
       "                Syncing run <strong style=\"color:#cdcd00\">worthy-sweep-4</strong> to <a href=\"https://wandb.ai\" target=\"_blank\">Weights & Biases</a> <a href=\"https://docs.wandb.com/integrations/jupyter.html\" target=\"_blank\">(Documentation)</a>.<br/>\n",
       "                Project page: <a href=\"https://wandb.ai/christianml/quadtree\" target=\"_blank\">https://wandb.ai/christianml/quadtree</a><br/>\n",
       "                Sweep page: <a href=\"https://wandb.ai/christianml/quadtree/sweeps/hy4huvzx\" target=\"_blank\">https://wandb.ai/christianml/quadtree/sweeps/hy4huvzx</a><br/>\n",
       "Run page: <a href=\"https://wandb.ai/christianml/quadtree/runs/gbscj0mw\" target=\"_blank\">https://wandb.ai/christianml/quadtree/runs/gbscj0mw</a><br/>\n",
       "                Run data is saved locally in <code>D:\\ProgProjekte\\Python\\EIPH_WSI\\MIDL2021\\Registration\\WandB\\wandb\\run-20210124_204456-gbscj0mw</code><br/><br/>\n",
       "            "
      ],
      "text/plain": [
       "<IPython.core.display.HTML object>"
      ]
     },
     "metadata": {},
     "output_type": "display_data"
    },
    {
     "name": "stderr",
     "output_type": "stream",
     "text": [
      "  0%|                                                                                            | 0/5 [00:00<?, ?it/s]\n",
      "  0%|                                                                                            | 0/4 [00:00<?, ?it/s]\u001b[A\n",
      " 25%|█████████████████████                                                               | 1/4 [00:17<00:51, 17.02s/it]\u001b[A\n",
      " 50%|██████████████████████████████████████████                                          | 2/4 [00:43<00:39, 19.86s/it]\u001b[A\n",
      " 75%|███████████████████████████████████████████████████████████████                     | 3/4 [00:56<00:17, 17.85s/it]\u001b[A\n",
      "100%|████████████████████████████████████████████████████████████████████████████████████| 4/4 [01:14<00:00, 18.55s/it]\u001b[A\n",
      " 20%|████████████████▊                                                                   | 1/5 [01:14<04:56, 74.20s/it]\n",
      "  0%|                                                                                            | 0/4 [00:00<?, ?it/s]\u001b[A\n",
      " 25%|█████████████████████                                                               | 1/4 [00:17<00:51, 17.14s/it]\u001b[A\n",
      " 50%|██████████████████████████████████████████                                          | 2/4 [00:44<00:40, 20.19s/it]\u001b[A\n",
      " 75%|███████████████████████████████████████████████████████████████                     | 3/4 [00:58<00:18, 18.36s/it]\u001b[A\n",
      "100%|████████████████████████████████████████████████████████████████████████████████████| 4/4 [01:15<00:00, 18.90s/it]\u001b[A\n",
      " 40%|█████████████████████████████████▌                                                  | 2/5 [02:29<03:43, 74.62s/it]\n",
      "  0%|                                                                                            | 0/4 [00:00<?, ?it/s]\u001b[A\n",
      " 25%|█████████████████████                                                               | 1/4 [00:17<00:52, 17.38s/it]\u001b[A\n",
      " 50%|██████████████████████████████████████████                                          | 2/4 [00:44<00:40, 20.40s/it]\u001b[A\n",
      " 75%|███████████████████████████████████████████████████████████████                     | 3/4 [01:01<00:19, 19.37s/it]\u001b[A\n",
      "100%|████████████████████████████████████████████████████████████████████████████████████| 4/4 [01:52<00:00, 28.18s/it]\u001b[A\n",
      " 60%|██████████████████████████████████████████████████▍                                 | 3/5 [04:22<02:52, 86.06s/it]\n",
      "  0%|                                                                                            | 0/4 [00:00<?, ?it/s]\u001b[A\n",
      " 25%|█████████████████████                                                               | 1/4 [00:29<01:29, 29.68s/it]\u001b[A\n",
      " 50%|██████████████████████████████████████████                                          | 2/4 [01:04<01:02, 31.16s/it]\u001b[A\n",
      " 75%|███████████████████████████████████████████████████████████████                     | 3/4 [01:22<00:27, 27.15s/it]\u001b[A\n",
      "100%|████████████████████████████████████████████████████████████████████████████████████| 4/4 [01:42<00:00, 25.64s/it]\u001b[A\n",
      " 80%|███████████████████████████████████████████████████████████████████▏                | 4/5 [06:05<01:31, 91.01s/it]\n",
      "  0%|                                                                                            | 0/4 [00:00<?, ?it/s]\u001b[A\n",
      " 25%|█████████████████████                                                               | 1/4 [00:18<00:55, 18.41s/it]\u001b[A\n",
      " 50%|██████████████████████████████████████████                                          | 2/4 [00:46<00:42, 21.43s/it]\u001b[A\n",
      " 75%|███████████████████████████████████████████████████████████████                     | 3/4 [01:01<00:19, 19.26s/it]\u001b[A\n",
      "100%|████████████████████████████████████████████████████████████████████████████████████| 4/4 [01:17<00:00, 19.46s/it]\u001b[A\n",
      "100%|████████████████████████████████████████████████████████████████████████████████████| 5/5 [07:22<00:00, 88.59s/it]\n"
     ]
    },
    {
     "data": {
      "text/html": [
       "<br/>Waiting for W&B process to finish, PID 24496<br/>Program ended successfully."
      ],
      "text/plain": [
       "<IPython.core.display.HTML object>"
      ]
     },
     "metadata": {},
     "output_type": "display_data"
    },
    {
     "data": {
      "application/vnd.jupyter.widget-view+json": {
       "model_id": "",
       "version_major": 2,
       "version_minor": 0
      },
      "text/plain": [
       "VBox(children=(Label(value=' 0.00MB of 0.00MB uploaded (0.00MB deduped)\\r'), FloatProgress(value=1.0, max=1.0)…"
      ]
     },
     "metadata": {},
     "output_type": "display_data"
    },
    {
     "data": {
      "text/html": [
       "Find user logs for this run at: <code>D:\\ProgProjekte\\Python\\EIPH_WSI\\MIDL2021\\Registration\\WandB\\wandb\\run-20210124_204456-gbscj0mw\\logs\\debug.log</code>"
      ],
      "text/plain": [
       "<IPython.core.display.HTML object>"
      ]
     },
     "metadata": {},
     "output_type": "display_data"
    },
    {
     "data": {
      "text/html": [
       "Find internal logs for this run at: <code>D:\\ProgProjekte\\Python\\EIPH_WSI\\MIDL2021\\Registration\\WandB\\wandb\\run-20210124_204456-gbscj0mw\\logs\\debug-internal.log</code>"
      ],
      "text/plain": [
       "<IPython.core.display.HTML object>"
      ]
     },
     "metadata": {},
     "output_type": "display_data"
    },
    {
     "data": {
      "text/html": [
       "<h3>Run summary:</h3><br/><style>\n",
       "    table.wandb td:nth-child(1) { padding: 0 10px; text-align: right }\n",
       "    </style><table class=\"wandb\">\n",
       "<tr><td>dist_mean</td><td>1997.45151</td></tr><tr><td>dist_min</td><td>0.0</td></tr><tr><td>dist_max</td><td>79107.46124</td></tr><tr><td>q_mean</td><td>-3596.35897</td></tr><tr><td>q_min</td><td>-16709.00195</td></tr><tr><td>q_max</td><td>582.28033</td></tr><tr><td>sigma2_mean</td><td>29.56416</td></tr><tr><td>sigma2_min</td><td>0.0</td></tr><tr><td>sigma2_max</td><td>101.52807</td></tr><tr><td>_step</td><td>0</td></tr><tr><td>_runtime</td><td>447</td></tr><tr><td>_timestamp</td><td>1611517944</td></tr></table>"
      ],
      "text/plain": [
       "<IPython.core.display.HTML object>"
      ]
     },
     "metadata": {},
     "output_type": "display_data"
    },
    {
     "data": {
      "text/html": [
       "<h3>Run history:</h3><br/><style>\n",
       "    table.wandb td:nth-child(1) { padding: 0 10px; text-align: right }\n",
       "    </style><table class=\"wandb\">\n",
       "<tr><td>dist_mean</td><td>▁</td></tr><tr><td>dist_min</td><td>▁</td></tr><tr><td>dist_max</td><td>▁</td></tr><tr><td>q_mean</td><td>▁</td></tr><tr><td>q_min</td><td>▁</td></tr><tr><td>q_max</td><td>▁</td></tr><tr><td>sigma2_mean</td><td>▁</td></tr><tr><td>sigma2_min</td><td>▁</td></tr><tr><td>sigma2_max</td><td>▁</td></tr><tr><td>_step</td><td>▁</td></tr><tr><td>_runtime</td><td>▁</td></tr><tr><td>_timestamp</td><td>▁</td></tr></table><br/>"
      ],
      "text/plain": [
       "<IPython.core.display.HTML object>"
      ]
     },
     "metadata": {},
     "output_type": "display_data"
    },
    {
     "data": {
      "text/html": [
       "Synced 5 W&B file(s), 0 media file(s), 0 artifact file(s) and 0 other file(s)"
      ],
      "text/plain": [
       "<IPython.core.display.HTML object>"
      ]
     },
     "metadata": {},
     "output_type": "display_data"
    },
    {
     "data": {
      "text/html": [
       "\n",
       "                    <br/>Synced <strong style=\"color:#cdcd00\">worthy-sweep-4</strong>: <a href=\"https://wandb.ai/christianml/quadtree/runs/gbscj0mw\" target=\"_blank\">https://wandb.ai/christianml/quadtree/runs/gbscj0mw</a><br/>\n",
       "                "
      ],
      "text/plain": [
       "<IPython.core.display.HTML object>"
      ]
     },
     "metadata": {},
     "output_type": "display_data"
    },
    {
     "name": "stderr",
     "output_type": "stream",
     "text": [
      "wandb: Agent Starting Run: j0zefihp with config:\n",
      "wandb: \tcrossCheck: False\n",
      "wandb: \tflann: True\n",
      "wandb: \timage_type: Cyto\n",
      "wandb: \tmaxFeatures: 2048\n",
      "wandb: \tmethod: orb\n",
      "wandb: \tratio: 0.6\n",
      "wandb: \tsource_scanner: Aperio\n",
      "wandb: \ttarget_depth: 0\n",
      "wandb: \tthumbnail_size: [2048, 2048]\n",
      "wandb: \tuse_gray: True\n",
      "Failed to query for notebook name, you can set it manually with the WANDB_NOTEBOOK_NAME environment variable\n"
     ]
    },
    {
     "data": {
      "text/html": [
       "\n",
       "                Tracking run with wandb version 0.10.14<br/>\n",
       "                Syncing run <strong style=\"color:#cdcd00\">devout-sweep-5</strong> to <a href=\"https://wandb.ai\" target=\"_blank\">Weights & Biases</a> <a href=\"https://docs.wandb.com/integrations/jupyter.html\" target=\"_blank\">(Documentation)</a>.<br/>\n",
       "                Project page: <a href=\"https://wandb.ai/christianml/quadtree\" target=\"_blank\">https://wandb.ai/christianml/quadtree</a><br/>\n",
       "                Sweep page: <a href=\"https://wandb.ai/christianml/quadtree/sweeps/hy4huvzx\" target=\"_blank\">https://wandb.ai/christianml/quadtree/sweeps/hy4huvzx</a><br/>\n",
       "Run page: <a href=\"https://wandb.ai/christianml/quadtree/runs/j0zefihp\" target=\"_blank\">https://wandb.ai/christianml/quadtree/runs/j0zefihp</a><br/>\n",
       "                Run data is saved locally in <code>D:\\ProgProjekte\\Python\\EIPH_WSI\\MIDL2021\\Registration\\WandB\\wandb\\run-20210124_205230-j0zefihp</code><br/><br/>\n",
       "            "
      ],
      "text/plain": [
       "<IPython.core.display.HTML object>"
      ]
     },
     "metadata": {},
     "output_type": "display_data"
    },
    {
     "name": "stderr",
     "output_type": "stream",
     "text": [
      "  0%|                                                                                            | 0/5 [00:00<?, ?it/s]\n",
      "  0%|                                                                                            | 0/4 [00:00<?, ?it/s]\u001b[A\n",
      " 25%|█████████████████████                                                               | 1/4 [00:12<00:37, 12.42s/it]\u001b[A\n",
      " 50%|██████████████████████████████████████████                                          | 2/4 [00:46<00:37, 18.92s/it]\u001b[A\n",
      " 75%|███████████████████████████████████████████████████████████████                     | 3/4 [00:59<00:17, 17.24s/it]\u001b[A\n",
      "100%|████████████████████████████████████████████████████████████████████████████████████| 4/4 [01:13<00:00, 18.29s/it]\u001b[A\n",
      " 20%|████████████████▊                                                                   | 1/5 [01:13<04:52, 73.18s/it]\n",
      "  0%|                                                                                            | 0/4 [00:00<?, ?it/s]\u001b[A\n",
      " 25%|█████████████████████                                                               | 1/4 [00:02<00:08,  2.84s/it]\u001b[A\n",
      " 50%|██████████████████████████████████████████                                          | 2/4 [00:14<00:11,  5.61s/it]\u001b[A\n",
      " 75%|███████████████████████████████████████████████████████████████                     | 3/4 [00:17<00:04,  4.81s/it]\u001b[A\n",
      "100%|████████████████████████████████████████████████████████████████████████████████████| 4/4 [00:20<00:00,  5.24s/it]\u001b[A\n",
      " 40%|█████████████████████████████████▌                                                  | 2/5 [01:34<02:52, 57.52s/it]\n",
      "  0%|                                                                                            | 0/4 [00:00<?, ?it/s]\u001b[A\n",
      " 25%|█████████████████████                                                               | 1/4 [00:14<00:42, 14.03s/it]\u001b[A\n",
      " 50%|██████████████████████████████████████████                                          | 2/4 [00:49<00:41, 20.57s/it]\u001b[A\n",
      " 75%|███████████████████████████████████████████████████████████████                     | 3/4 [01:04<00:18, 18.68s/it]\u001b[A\n",
      "100%|████████████████████████████████████████████████████████████████████████████████████| 4/4 [01:17<00:00, 19.30s/it]\u001b[A\n",
      " 60%|██████████████████████████████████████████████████▍                                 | 3/5 [02:51<02:06, 63.43s/it]\n",
      "  0%|                                                                                            | 0/4 [00:00<?, ?it/s]\u001b[A\n",
      " 25%|█████████████████████                                                               | 1/4 [00:02<00:07,  2.44s/it]\u001b[A\n",
      " 50%|██████████████████████████████████████████                                          | 2/4 [00:16<00:11,  5.92s/it]\u001b[A\n",
      " 75%|███████████████████████████████████████████████████████████████                     | 3/4 [00:19<00:05,  5.16s/it]\u001b[A\n",
      "100%|████████████████████████████████████████████████████████████████████████████████████| 4/4 [00:22<00:00,  5.75s/it]\u001b[A\n",
      " 80%|███████████████████████████████████████████████████████████████████▏                | 4/5 [03:14<00:51, 51.30s/it]\n",
      "  0%|                                                                                            | 0/4 [00:00<?, ?it/s]\u001b[A\n",
      " 25%|█████████████████████                                                               | 1/4 [00:14<00:43, 14.58s/it]\u001b[A\n",
      " 50%|██████████████████████████████████████████                                          | 2/4 [00:50<00:41, 20.92s/it]\u001b[A\n",
      " 75%|███████████████████████████████████████████████████████████████                     | 3/4 [01:03<00:18, 18.68s/it]\u001b[A\n",
      "100%|████████████████████████████████████████████████████████████████████████████████████| 4/4 [01:17<00:00, 19.43s/it]\u001b[A\n",
      "100%|████████████████████████████████████████████████████████████████████████████████████| 5/5 [04:32<00:00, 54.42s/it]\n"
     ]
    },
    {
     "data": {
      "text/html": [
       "<br/>Waiting for W&B process to finish, PID 23872<br/>Program ended successfully."
      ],
      "text/plain": [
       "<IPython.core.display.HTML object>"
      ]
     },
     "metadata": {},
     "output_type": "display_data"
    },
    {
     "data": {
      "application/vnd.jupyter.widget-view+json": {
       "model_id": "",
       "version_major": 2,
       "version_minor": 0
      },
      "text/plain": [
       "VBox(children=(Label(value=' 0.00MB of 0.00MB uploaded (0.00MB deduped)\\r'), FloatProgress(value=1.0, max=1.0)…"
      ]
     },
     "metadata": {},
     "output_type": "display_data"
    },
    {
     "data": {
      "text/html": [
       "Find user logs for this run at: <code>D:\\ProgProjekte\\Python\\EIPH_WSI\\MIDL2021\\Registration\\WandB\\wandb\\run-20210124_205230-j0zefihp\\logs\\debug.log</code>"
      ],
      "text/plain": [
       "<IPython.core.display.HTML object>"
      ]
     },
     "metadata": {},
     "output_type": "display_data"
    },
    {
     "data": {
      "text/html": [
       "Find internal logs for this run at: <code>D:\\ProgProjekte\\Python\\EIPH_WSI\\MIDL2021\\Registration\\WandB\\wandb\\run-20210124_205230-j0zefihp\\logs\\debug-internal.log</code>"
      ],
      "text/plain": [
       "<IPython.core.display.HTML object>"
      ]
     },
     "metadata": {},
     "output_type": "display_data"
    },
    {
     "data": {
      "text/html": [
       "<h3>Run summary:</h3><br/><style>\n",
       "    table.wandb td:nth-child(1) { padding: 0 10px; text-align: right }\n",
       "    </style><table class=\"wandb\">\n",
       "<tr><td>dist_mean</td><td>41.25811</td></tr><tr><td>dist_min</td><td>0.0</td></tr><tr><td>dist_max</td><td>1123.91092</td></tr><tr><td>q_mean</td><td>-1224.20021</td></tr><tr><td>q_min</td><td>-32906.00391</td></tr><tr><td>q_max</td><td>28150.05113</td></tr><tr><td>sigma2_mean</td><td>53438.87409</td></tr><tr><td>sigma2_min</td><td>0.0</td></tr><tr><td>sigma2_max</td><td>723071.16622</td></tr><tr><td>_step</td><td>0</td></tr><tr><td>_runtime</td><td>276</td></tr><tr><td>_timestamp</td><td>1611518226</td></tr></table>"
      ],
      "text/plain": [
       "<IPython.core.display.HTML object>"
      ]
     },
     "metadata": {},
     "output_type": "display_data"
    },
    {
     "data": {
      "text/html": [
       "<h3>Run history:</h3><br/><style>\n",
       "    table.wandb td:nth-child(1) { padding: 0 10px; text-align: right }\n",
       "    </style><table class=\"wandb\">\n",
       "<tr><td>dist_mean</td><td>▁</td></tr><tr><td>dist_min</td><td>▁</td></tr><tr><td>dist_max</td><td>▁</td></tr><tr><td>q_mean</td><td>▁</td></tr><tr><td>q_min</td><td>▁</td></tr><tr><td>q_max</td><td>▁</td></tr><tr><td>sigma2_mean</td><td>▁</td></tr><tr><td>sigma2_min</td><td>▁</td></tr><tr><td>sigma2_max</td><td>▁</td></tr><tr><td>_step</td><td>▁</td></tr><tr><td>_runtime</td><td>▁</td></tr><tr><td>_timestamp</td><td>▁</td></tr></table><br/>"
      ],
      "text/plain": [
       "<IPython.core.display.HTML object>"
      ]
     },
     "metadata": {},
     "output_type": "display_data"
    },
    {
     "data": {
      "text/html": [
       "Synced 5 W&B file(s), 0 media file(s), 0 artifact file(s) and 0 other file(s)"
      ],
      "text/plain": [
       "<IPython.core.display.HTML object>"
      ]
     },
     "metadata": {},
     "output_type": "display_data"
    },
    {
     "data": {
      "text/html": [
       "\n",
       "                    <br/>Synced <strong style=\"color:#cdcd00\">devout-sweep-5</strong>: <a href=\"https://wandb.ai/christianml/quadtree/runs/j0zefihp\" target=\"_blank\">https://wandb.ai/christianml/quadtree/runs/j0zefihp</a><br/>\n",
       "                "
      ],
      "text/plain": [
       "<IPython.core.display.HTML object>"
      ]
     },
     "metadata": {},
     "output_type": "display_data"
    },
    {
     "name": "stderr",
     "output_type": "stream",
     "text": [
      "wandb: Agent Starting Run: kga3pa14 with config:\n",
      "wandb: \tcrossCheck: False\n",
      "wandb: \tflann: False\n",
      "wandb: \timage_type: Cyto\n",
      "wandb: \tmaxFeatures: 768\n",
      "wandb: \tmethod: orb\n",
      "wandb: \tratio: 0.5\n",
      "wandb: \tsource_scanner: Aperio\n",
      "wandb: \ttarget_depth: 0\n",
      "wandb: \tthumbnail_size: [4096, 4096]\n",
      "wandb: \tuse_gray: True\n",
      "Failed to query for notebook name, you can set it manually with the WANDB_NOTEBOOK_NAME environment variable\n"
     ]
    },
    {
     "data": {
      "text/html": [
       "\n",
       "                Tracking run with wandb version 0.10.14<br/>\n",
       "                Syncing run <strong style=\"color:#cdcd00\">kind-sweep-6</strong> to <a href=\"https://wandb.ai\" target=\"_blank\">Weights & Biases</a> <a href=\"https://docs.wandb.com/integrations/jupyter.html\" target=\"_blank\">(Documentation)</a>.<br/>\n",
       "                Project page: <a href=\"https://wandb.ai/christianml/quadtree\" target=\"_blank\">https://wandb.ai/christianml/quadtree</a><br/>\n",
       "                Sweep page: <a href=\"https://wandb.ai/christianml/quadtree/sweeps/hy4huvzx\" target=\"_blank\">https://wandb.ai/christianml/quadtree/sweeps/hy4huvzx</a><br/>\n",
       "Run page: <a href=\"https://wandb.ai/christianml/quadtree/runs/kga3pa14\" target=\"_blank\">https://wandb.ai/christianml/quadtree/runs/kga3pa14</a><br/>\n",
       "                Run data is saved locally in <code>D:\\ProgProjekte\\Python\\EIPH_WSI\\MIDL2021\\Registration\\WandB\\wandb\\run-20210124_205710-kga3pa14</code><br/><br/>\n",
       "            "
      ],
      "text/plain": [
       "<IPython.core.display.HTML object>"
      ]
     },
     "metadata": {},
     "output_type": "display_data"
    },
    {
     "name": "stderr",
     "output_type": "stream",
     "text": [
      "  0%|                                                                                            | 0/5 [00:00<?, ?it/s]\n",
      "  0%|                                                                                            | 0/4 [00:00<?, ?it/s]\u001b[A\n",
      " 25%|█████████████████████                                                               | 1/4 [00:16<00:50, 16.71s/it]\u001b[A\n",
      " 50%|██████████████████████████████████████████                                          | 2/4 [00:40<00:37, 18.89s/it]\u001b[A\n",
      " 75%|███████████████████████████████████████████████████████████████                     | 3/4 [00:53<00:17, 17.19s/it]\u001b[A\n",
      "100%|████████████████████████████████████████████████████████████████████████████████████| 4/4 [01:11<00:00, 17.90s/it]\u001b[A\n",
      " 20%|████████████████▊                                                                   | 1/5 [01:11<04:46, 71.61s/it]\n",
      "  0%|                                                                                            | 0/4 [00:00<?, ?it/s]\u001b[A\n",
      " 25%|█████████████████████                                                               | 1/4 [00:17<00:53, 17.79s/it]\u001b[A\n",
      " 50%|██████████████████████████████████████████                                          | 2/4 [00:44<00:40, 20.42s/it]\u001b[A\n",
      " 75%|███████████████████████████████████████████████████████████████                     | 3/4 [00:58<00:18, 18.63s/it]\u001b[A\n",
      "100%|████████████████████████████████████████████████████████████████████████████████████| 4/4 [01:16<00:00, 19.16s/it]\u001b[A\n",
      " 40%|█████████████████████████████████▌                                                  | 2/5 [02:28<03:39, 73.12s/it]\n",
      "  0%|                                                                                            | 0/4 [00:00<?, ?it/s]\u001b[A\n",
      " 25%|█████████████████████                                                               | 1/4 [00:20<01:00, 20.03s/it]\u001b[A\n",
      " 50%|██████████████████████████████████████████                                          | 2/4 [00:48<00:44, 22.47s/it]\u001b[A\n",
      " 75%|███████████████████████████████████████████████████████████████                     | 3/4 [01:04<00:20, 20.53s/it]\u001b[A\n",
      "100%|████████████████████████████████████████████████████████████████████████████████████| 4/4 [01:20<00:00, 20.02s/it]\u001b[A\n",
      " 60%|██████████████████████████████████████████████████▍                                 | 3/5 [03:48<02:30, 75.21s/it]\n",
      "  0%|                                                                                            | 0/4 [00:00<?, ?it/s]\u001b[A\n",
      " 25%|█████████████████████                                                               | 1/4 [01:06<03:18, 66.33s/it]\u001b[A\n",
      " 50%|██████████████████████████████████████████                                          | 2/4 [02:08<02:09, 64.96s/it]\u001b[A\n",
      " 75%|███████████████████████████████████████████████████████████████                     | 3/4 [02:26<00:50, 50.85s/it]\u001b[A\n",
      "100%|████████████████████████████████████████████████████████████████████████████████████| 4/4 [02:46<00:00, 41.64s/it]\u001b[A\n",
      " 80%|██████████████████████████████████████████████████████████████████▍                | 4/5 [06:34<01:42, 102.61s/it]\n",
      "  0%|                                                                                            | 0/4 [00:00<?, ?it/s]\u001b[A\n",
      " 25%|█████████████████████                                                               | 1/4 [00:17<00:52, 17.66s/it]\u001b[A\n",
      " 50%|██████████████████████████████████████████                                          | 2/4 [00:44<00:40, 20.34s/it]\u001b[A\n",
      " 75%|███████████████████████████████████████████████████████████████                     | 3/4 [00:58<00:18, 18.54s/it]\u001b[A\n",
      "100%|████████████████████████████████████████████████████████████████████████████████████| 4/4 [01:15<00:00, 18.90s/it]\u001b[A\n",
      "100%|████████████████████████████████████████████████████████████████████████████████████| 5/5 [07:50<00:00, 94.10s/it]\n"
     ]
    },
    {
     "data": {
      "text/html": [
       "<br/>Waiting for W&B process to finish, PID 17292<br/>Program ended successfully."
      ],
      "text/plain": [
       "<IPython.core.display.HTML object>"
      ]
     },
     "metadata": {},
     "output_type": "display_data"
    },
    {
     "data": {
      "application/vnd.jupyter.widget-view+json": {
       "model_id": "",
       "version_major": 2,
       "version_minor": 0
      },
      "text/plain": [
       "VBox(children=(Label(value=' 0.00MB of 0.00MB uploaded (0.00MB deduped)\\r'), FloatProgress(value=1.0, max=1.0)…"
      ]
     },
     "metadata": {},
     "output_type": "display_data"
    },
    {
     "data": {
      "text/html": [
       "Find user logs for this run at: <code>D:\\ProgProjekte\\Python\\EIPH_WSI\\MIDL2021\\Registration\\WandB\\wandb\\run-20210124_205710-kga3pa14\\logs\\debug.log</code>"
      ],
      "text/plain": [
       "<IPython.core.display.HTML object>"
      ]
     },
     "metadata": {},
     "output_type": "display_data"
    },
    {
     "data": {
      "text/html": [
       "Find internal logs for this run at: <code>D:\\ProgProjekte\\Python\\EIPH_WSI\\MIDL2021\\Registration\\WandB\\wandb\\run-20210124_205710-kga3pa14\\logs\\debug-internal.log</code>"
      ],
      "text/plain": [
       "<IPython.core.display.HTML object>"
      ]
     },
     "metadata": {},
     "output_type": "display_data"
    },
    {
     "data": {
      "text/html": [
       "<h3>Run summary:</h3><br/><style>\n",
       "    table.wandb td:nth-child(1) { padding: 0 10px; text-align: right }\n",
       "    </style><table class=\"wandb\">\n",
       "<tr><td>dist_mean</td><td>103005.46336</td></tr><tr><td>dist_min</td><td>0.0</td></tr><tr><td>dist_max</td><td>3962886.97514</td></tr><tr><td>q_mean</td><td>-2867.66549</td></tr><tr><td>q_min</td><td>-12499.75146</td></tr><tr><td>q_max</td><td>703.10932</td></tr><tr><td>sigma2_mean</td><td>38.07754</td></tr><tr><td>sigma2_min</td><td>0.0</td></tr><tr><td>sigma2_max</td><td>109.86169</td></tr><tr><td>_step</td><td>0</td></tr><tr><td>_runtime</td><td>474</td></tr><tr><td>_timestamp</td><td>1611518705</td></tr></table>"
      ],
      "text/plain": [
       "<IPython.core.display.HTML object>"
      ]
     },
     "metadata": {},
     "output_type": "display_data"
    },
    {
     "data": {
      "text/html": [
       "<h3>Run history:</h3><br/><style>\n",
       "    table.wandb td:nth-child(1) { padding: 0 10px; text-align: right }\n",
       "    </style><table class=\"wandb\">\n",
       "<tr><td>dist_mean</td><td>▁</td></tr><tr><td>dist_min</td><td>▁</td></tr><tr><td>dist_max</td><td>▁</td></tr><tr><td>q_mean</td><td>▁</td></tr><tr><td>q_min</td><td>▁</td></tr><tr><td>q_max</td><td>▁</td></tr><tr><td>sigma2_mean</td><td>▁</td></tr><tr><td>sigma2_min</td><td>▁</td></tr><tr><td>sigma2_max</td><td>▁</td></tr><tr><td>_step</td><td>▁</td></tr><tr><td>_runtime</td><td>▁</td></tr><tr><td>_timestamp</td><td>▁</td></tr></table><br/>"
      ],
      "text/plain": [
       "<IPython.core.display.HTML object>"
      ]
     },
     "metadata": {},
     "output_type": "display_data"
    },
    {
     "data": {
      "text/html": [
       "Synced 5 W&B file(s), 0 media file(s), 0 artifact file(s) and 0 other file(s)"
      ],
      "text/plain": [
       "<IPython.core.display.HTML object>"
      ]
     },
     "metadata": {},
     "output_type": "display_data"
    },
    {
     "data": {
      "text/html": [
       "\n",
       "                    <br/>Synced <strong style=\"color:#cdcd00\">kind-sweep-6</strong>: <a href=\"https://wandb.ai/christianml/quadtree/runs/kga3pa14\" target=\"_blank\">https://wandb.ai/christianml/quadtree/runs/kga3pa14</a><br/>\n",
       "                "
      ],
      "text/plain": [
       "<IPython.core.display.HTML object>"
      ]
     },
     "metadata": {},
     "output_type": "display_data"
    },
    {
     "name": "stderr",
     "output_type": "stream",
     "text": [
      "wandb: Agent Starting Run: gckmaphp with config:\n",
      "wandb: \tcrossCheck: False\n",
      "wandb: \tflann: False\n",
      "wandb: \timage_type: Cyto\n",
      "wandb: \tmaxFeatures: 512\n",
      "wandb: \tmethod: orb\n",
      "wandb: \tratio: 0.5\n",
      "wandb: \tsource_scanner: Aperio\n",
      "wandb: \ttarget_depth: 0\n",
      "wandb: \tthumbnail_size: [4096, 4096]\n",
      "wandb: \tuse_gray: False\n",
      "Failed to query for notebook name, you can set it manually with the WANDB_NOTEBOOK_NAME environment variable\n"
     ]
    },
    {
     "data": {
      "text/html": [
       "\n",
       "                Tracking run with wandb version 0.10.14<br/>\n",
       "                Syncing run <strong style=\"color:#cdcd00\">fallen-sweep-7</strong> to <a href=\"https://wandb.ai\" target=\"_blank\">Weights & Biases</a> <a href=\"https://docs.wandb.com/integrations/jupyter.html\" target=\"_blank\">(Documentation)</a>.<br/>\n",
       "                Project page: <a href=\"https://wandb.ai/christianml/quadtree\" target=\"_blank\">https://wandb.ai/christianml/quadtree</a><br/>\n",
       "                Sweep page: <a href=\"https://wandb.ai/christianml/quadtree/sweeps/hy4huvzx\" target=\"_blank\">https://wandb.ai/christianml/quadtree/sweeps/hy4huvzx</a><br/>\n",
       "Run page: <a href=\"https://wandb.ai/christianml/quadtree/runs/gckmaphp\" target=\"_blank\">https://wandb.ai/christianml/quadtree/runs/gckmaphp</a><br/>\n",
       "                Run data is saved locally in <code>D:\\ProgProjekte\\Python\\EIPH_WSI\\MIDL2021\\Registration\\WandB\\wandb\\run-20210124_210511-gckmaphp</code><br/><br/>\n",
       "            "
      ],
      "text/plain": [
       "<IPython.core.display.HTML object>"
      ]
     },
     "metadata": {},
     "output_type": "display_data"
    },
    {
     "name": "stderr",
     "output_type": "stream",
     "text": [
      "  0%|                                                                                            | 0/5 [00:00<?, ?it/s]\n",
      "  0%|                                                                                            | 0/4 [00:00<?, ?it/s]\u001b[A\n",
      " 25%|█████████████████████                                                               | 1/4 [00:16<00:49, 16.58s/it]\u001b[A\n",
      " 50%|██████████████████████████████████████████                                          | 2/4 [00:39<00:36, 18.40s/it]\u001b[A\n",
      " 75%|███████████████████████████████████████████████████████████████                     | 3/4 [00:52<00:16, 16.78s/it]\u001b[A\n",
      "100%|████████████████████████████████████████████████████████████████████████████████████| 4/4 [01:09<00:00, 17.46s/it]\u001b[A\n",
      " 20%|████████████████▊                                                                   | 1/5 [01:09<04:39, 69.85s/it]\n",
      "  0%|                                                                                            | 0/4 [00:00<?, ?it/s]\u001b[A\n",
      " 25%|█████████████████████                                                               | 1/4 [00:17<00:51, 17.25s/it]\u001b[A\n",
      " 50%|██████████████████████████████████████████                                          | 2/4 [00:42<00:39, 19.59s/it]\u001b[A\n",
      " 75%|███████████████████████████████████████████████████████████████                     | 3/4 [00:56<00:17, 17.93s/it]\u001b[A\n",
      "100%|████████████████████████████████████████████████████████████████████████████████████| 4/4 [01:13<00:00, 18.44s/it]\u001b[A\n",
      " 40%|█████████████████████████████████▌                                                  | 2/5 [02:23<03:33, 71.03s/it]\n",
      "  0%|                                                                                            | 0/4 [00:00<?, ?it/s]\u001b[A\n",
      " 25%|█████████████████████                                                               | 1/4 [00:17<00:52, 17.55s/it]\u001b[A\n",
      " 50%|██████████████████████████████████████████                                          | 2/4 [00:42<00:39, 19.68s/it]\u001b[A\n",
      " 75%|███████████████████████████████████████████████████████████████                     | 3/4 [00:56<00:18, 18.12s/it]\u001b[A\n",
      "100%|████████████████████████████████████████████████████████████████████████████████████| 4/4 [01:12<00:00, 18.13s/it]\u001b[A\n",
      " 60%|██████████████████████████████████████████████████▍                                 | 3/5 [03:36<02:22, 71.48s/it]\n",
      "  0%|                                                                                            | 0/4 [00:00<?, ?it/s]\u001b[A\n",
      " 25%|█████████████████████                                                               | 1/4 [00:21<01:04, 21.36s/it]\u001b[A\n",
      " 50%|██████████████████████████████████████████                                          | 2/4 [00:53<00:49, 24.62s/it]\u001b[A\n",
      " 75%|███████████████████████████████████████████████████████████████                     | 3/4 [01:11<00:22, 22.61s/it]\u001b[A\n",
      "100%|████████████████████████████████████████████████████████████████████████████████████| 4/4 [01:32<00:00, 23.05s/it]\u001b[A\n",
      " 80%|███████████████████████████████████████████████████████████████████▏                | 4/5 [05:08<01:17, 77.71s/it]\n",
      "  0%|                                                                                            | 0/4 [00:00<?, ?it/s]\u001b[A\n",
      " 25%|█████████████████████                                                               | 1/4 [00:17<00:52, 17.59s/it]\u001b[A\n",
      " 50%|██████████████████████████████████████████                                          | 2/4 [00:42<00:39, 19.93s/it]\u001b[A\n",
      " 75%|███████████████████████████████████████████████████████████████                     | 3/4 [00:57<00:18, 18.19s/it]\u001b[A\n",
      "100%|████████████████████████████████████████████████████████████████████████████████████| 4/4 [01:13<00:00, 18.44s/it]\u001b[A\n",
      "100%|████████████████████████████████████████████████████████████████████████████████████| 5/5 [06:22<00:00, 76.43s/it]\n"
     ]
    },
    {
     "data": {
      "text/html": [
       "<br/>Waiting for W&B process to finish, PID 1172<br/>Program ended successfully."
      ],
      "text/plain": [
       "<IPython.core.display.HTML object>"
      ]
     },
     "metadata": {},
     "output_type": "display_data"
    },
    {
     "data": {
      "application/vnd.jupyter.widget-view+json": {
       "model_id": "",
       "version_major": 2,
       "version_minor": 0
      },
      "text/plain": [
       "VBox(children=(Label(value=' 0.00MB of 0.00MB uploaded (0.00MB deduped)\\r'), FloatProgress(value=1.0, max=1.0)…"
      ]
     },
     "metadata": {},
     "output_type": "display_data"
    },
    {
     "data": {
      "text/html": [
       "Find user logs for this run at: <code>D:\\ProgProjekte\\Python\\EIPH_WSI\\MIDL2021\\Registration\\WandB\\wandb\\run-20210124_210511-gckmaphp\\logs\\debug.log</code>"
      ],
      "text/plain": [
       "<IPython.core.display.HTML object>"
      ]
     },
     "metadata": {},
     "output_type": "display_data"
    },
    {
     "data": {
      "text/html": [
       "Find internal logs for this run at: <code>D:\\ProgProjekte\\Python\\EIPH_WSI\\MIDL2021\\Registration\\WandB\\wandb\\run-20210124_210511-gckmaphp\\logs\\debug-internal.log</code>"
      ],
      "text/plain": [
       "<IPython.core.display.HTML object>"
      ]
     },
     "metadata": {},
     "output_type": "display_data"
    },
    {
     "data": {
      "text/html": [
       "<h3>Run summary:</h3><br/><style>\n",
       "    table.wandb td:nth-child(1) { padding: 0 10px; text-align: right }\n",
       "    </style><table class=\"wandb\">\n",
       "<tr><td>dist_mean</td><td>6265.59496</td></tr><tr><td>dist_min</td><td>0.0</td></tr><tr><td>dist_max</td><td>323103.33852</td></tr><tr><td>q_mean</td><td>-1903.78573</td></tr><tr><td>q_min</td><td>-8194.50098</td></tr><tr><td>q_max</td><td>444.37268</td></tr><tr><td>sigma2_mean</td><td>31.7381</td></tr><tr><td>sigma2_min</td><td>0.0</td></tr><tr><td>sigma2_max</td><td>83.79499</td></tr><tr><td>_step</td><td>0</td></tr><tr><td>_runtime</td><td>386</td></tr><tr><td>_timestamp</td><td>1611519098</td></tr></table>"
      ],
      "text/plain": [
       "<IPython.core.display.HTML object>"
      ]
     },
     "metadata": {},
     "output_type": "display_data"
    },
    {
     "data": {
      "text/html": [
       "<h3>Run history:</h3><br/><style>\n",
       "    table.wandb td:nth-child(1) { padding: 0 10px; text-align: right }\n",
       "    </style><table class=\"wandb\">\n",
       "<tr><td>dist_mean</td><td>▁</td></tr><tr><td>dist_min</td><td>▁</td></tr><tr><td>dist_max</td><td>▁</td></tr><tr><td>q_mean</td><td>▁</td></tr><tr><td>q_min</td><td>▁</td></tr><tr><td>q_max</td><td>▁</td></tr><tr><td>sigma2_mean</td><td>▁</td></tr><tr><td>sigma2_min</td><td>▁</td></tr><tr><td>sigma2_max</td><td>▁</td></tr><tr><td>_step</td><td>▁</td></tr><tr><td>_runtime</td><td>▁</td></tr><tr><td>_timestamp</td><td>▁</td></tr></table><br/>"
      ],
      "text/plain": [
       "<IPython.core.display.HTML object>"
      ]
     },
     "metadata": {},
     "output_type": "display_data"
    },
    {
     "data": {
      "text/html": [
       "Synced 5 W&B file(s), 0 media file(s), 0 artifact file(s) and 0 other file(s)"
      ],
      "text/plain": [
       "<IPython.core.display.HTML object>"
      ]
     },
     "metadata": {},
     "output_type": "display_data"
    },
    {
     "data": {
      "text/html": [
       "\n",
       "                    <br/>Synced <strong style=\"color:#cdcd00\">fallen-sweep-7</strong>: <a href=\"https://wandb.ai/christianml/quadtree/runs/gckmaphp\" target=\"_blank\">https://wandb.ai/christianml/quadtree/runs/gckmaphp</a><br/>\n",
       "                "
      ],
      "text/plain": [
       "<IPython.core.display.HTML object>"
      ]
     },
     "metadata": {},
     "output_type": "display_data"
    },
    {
     "name": "stderr",
     "output_type": "stream",
     "text": [
      "wandb: Agent Starting Run: sdmqp78w with config:\n",
      "wandb: \tcrossCheck: False\n",
      "wandb: \tflann: True\n",
      "wandb: \timage_type: Cyto\n",
      "wandb: \tmaxFeatures: 2048\n",
      "wandb: \tmethod: sift\n",
      "wandb: \tratio: 0.7\n",
      "wandb: \tsource_scanner: Aperio\n",
      "wandb: \ttarget_depth: 0\n",
      "wandb: \tthumbnail_size: [8192, 8192]\n",
      "wandb: \tuse_gray: False\n",
      "Failed to query for notebook name, you can set it manually with the WANDB_NOTEBOOK_NAME environment variable\n"
     ]
    },
    {
     "data": {
      "text/html": [
       "\n",
       "                Tracking run with wandb version 0.10.14<br/>\n",
       "                Syncing run <strong style=\"color:#cdcd00\">dashing-sweep-8</strong> to <a href=\"https://wandb.ai\" target=\"_blank\">Weights & Biases</a> <a href=\"https://docs.wandb.com/integrations/jupyter.html\" target=\"_blank\">(Documentation)</a>.<br/>\n",
       "                Project page: <a href=\"https://wandb.ai/christianml/quadtree\" target=\"_blank\">https://wandb.ai/christianml/quadtree</a><br/>\n",
       "                Sweep page: <a href=\"https://wandb.ai/christianml/quadtree/sweeps/hy4huvzx\" target=\"_blank\">https://wandb.ai/christianml/quadtree/sweeps/hy4huvzx</a><br/>\n",
       "Run page: <a href=\"https://wandb.ai/christianml/quadtree/runs/sdmqp78w\" target=\"_blank\">https://wandb.ai/christianml/quadtree/runs/sdmqp78w</a><br/>\n",
       "                Run data is saved locally in <code>D:\\ProgProjekte\\Python\\EIPH_WSI\\MIDL2021\\Registration\\WandB\\wandb\\run-20210124_211143-sdmqp78w</code><br/><br/>\n",
       "            "
      ],
      "text/plain": [
       "<IPython.core.display.HTML object>"
      ]
     },
     "metadata": {},
     "output_type": "display_data"
    },
    {
     "name": "stderr",
     "output_type": "stream",
     "text": [
      "  0%|                                                                                            | 0/5 [00:00<?, ?it/s]\n",
      "  0%|                                                                                            | 0/4 [00:00<?, ?it/s]\u001b[A\n",
      " 25%|████████████████████▊                                                              | 1/4 [01:58<05:54, 118.12s/it]\u001b[A\n",
      " 50%|█████████████████████████████████████████▌                                         | 2/4 [05:46<05:02, 151.20s/it]\u001b[A\n",
      " 75%|██████████████████████████████████████████████████████████████▎                    | 3/4 [10:15<03:25, 205.18s/it]\u001b[A\n",
      "  0%|                                                                                            | 0/5 [10:15<?, ?it/s]\n"
     ]
    },
    {
     "data": {
      "text/html": [
       "<br/>Waiting for W&B process to finish, PID 28232<br/>Program failed with code 1.  Press ctrl-c to abort syncing."
      ],
      "text/plain": [
       "<IPython.core.display.HTML object>"
      ]
     },
     "metadata": {},
     "output_type": "display_data"
    },
    {
     "data": {
      "application/vnd.jupyter.widget-view+json": {
       "model_id": "",
       "version_major": 2,
       "version_minor": 0
      },
      "text/plain": [
       "VBox(children=(Label(value=' 0.00MB of 0.00MB uploaded (0.00MB deduped)\\r'), FloatProgress(value=1.0, max=1.0)…"
      ]
     },
     "metadata": {},
     "output_type": "display_data"
    },
    {
     "data": {
      "text/html": [
       "Find user logs for this run at: <code>D:\\ProgProjekte\\Python\\EIPH_WSI\\MIDL2021\\Registration\\WandB\\wandb\\run-20210124_211143-sdmqp78w\\logs\\debug.log</code>"
      ],
      "text/plain": [
       "<IPython.core.display.HTML object>"
      ]
     },
     "metadata": {},
     "output_type": "display_data"
    },
    {
     "data": {
      "text/html": [
       "Find internal logs for this run at: <code>D:\\ProgProjekte\\Python\\EIPH_WSI\\MIDL2021\\Registration\\WandB\\wandb\\run-20210124_211143-sdmqp78w\\logs\\debug-internal.log</code>"
      ],
      "text/plain": [
       "<IPython.core.display.HTML object>"
      ]
     },
     "metadata": {},
     "output_type": "display_data"
    },
    {
     "data": {
      "text/html": [
       "Synced 5 W&B file(s), 0 media file(s), 0 artifact file(s) and 0 other file(s)"
      ],
      "text/plain": [
       "<IPython.core.display.HTML object>"
      ]
     },
     "metadata": {},
     "output_type": "display_data"
    },
    {
     "data": {
      "text/html": [
       "\n",
       "                    <br/>Synced <strong style=\"color:#cdcd00\">dashing-sweep-8</strong>: <a href=\"https://wandb.ai/christianml/quadtree/runs/sdmqp78w\" target=\"_blank\">https://wandb.ai/christianml/quadtree/runs/sdmqp78w</a><br/>\n",
       "                "
      ],
      "text/plain": [
       "<IPython.core.display.HTML object>"
      ]
     },
     "metadata": {},
     "output_type": "display_data"
    },
    {
     "name": "stderr",
     "output_type": "stream",
     "text": [
      "Run sdmqp78w errored: ValueError('Expected n_neighbors > 0. Got 0',)\n",
      "wandb: ERROR Run sdmqp78w errored: ValueError('Expected n_neighbors > 0. Got 0',)\n",
      "wandb: Agent Starting Run: n4rqoe6k with config:\n",
      "wandb: \tcrossCheck: False\n",
      "wandb: \tflann: False\n",
      "wandb: \timage_type: Cyto\n",
      "wandb: \tmaxFeatures: 1024\n",
      "wandb: \tmethod: orb\n",
      "wandb: \tratio: 0.5\n",
      "wandb: \tsource_scanner: Aperio\n",
      "wandb: \ttarget_depth: 0\n",
      "wandb: \tthumbnail_size: [2048, 2048]\n",
      "wandb: \tuse_gray: True\n",
      "Failed to query for notebook name, you can set it manually with the WANDB_NOTEBOOK_NAME environment variable\n"
     ]
    },
    {
     "data": {
      "text/html": [
       "\n",
       "                Tracking run with wandb version 0.10.14<br/>\n",
       "                Syncing run <strong style=\"color:#cdcd00\">driven-sweep-9</strong> to <a href=\"https://wandb.ai\" target=\"_blank\">Weights & Biases</a> <a href=\"https://docs.wandb.com/integrations/jupyter.html\" target=\"_blank\">(Documentation)</a>.<br/>\n",
       "                Project page: <a href=\"https://wandb.ai/christianml/quadtree\" target=\"_blank\">https://wandb.ai/christianml/quadtree</a><br/>\n",
       "                Sweep page: <a href=\"https://wandb.ai/christianml/quadtree/sweeps/hy4huvzx\" target=\"_blank\">https://wandb.ai/christianml/quadtree/sweeps/hy4huvzx</a><br/>\n",
       "Run page: <a href=\"https://wandb.ai/christianml/quadtree/runs/n4rqoe6k\" target=\"_blank\">https://wandb.ai/christianml/quadtree/runs/n4rqoe6k</a><br/>\n",
       "                Run data is saved locally in <code>D:\\ProgProjekte\\Python\\EIPH_WSI\\MIDL2021\\Registration\\WandB\\wandb\\run-20210124_212208-n4rqoe6k</code><br/><br/>\n",
       "            "
      ],
      "text/plain": [
       "<IPython.core.display.HTML object>"
      ]
     },
     "metadata": {},
     "output_type": "display_data"
    },
    {
     "name": "stderr",
     "output_type": "stream",
     "text": [
      "  0%|                                                                                            | 0/5 [00:00<?, ?it/s]\n",
      "  0%|                                                                                            | 0/4 [00:00<?, ?it/s]\u001b[A\n",
      " 25%|█████████████████████                                                               | 1/4 [00:16<00:49, 16.43s/it]\u001b[A\n",
      " 50%|██████████████████████████████████████████                                          | 2/4 [02:05<01:28, 44.19s/it]\u001b[A\n",
      " 75%|███████████████████████████████████████████████████████████████                     | 3/4 [02:20<00:35, 35.55s/it]\u001b[A\n",
      "100%|████████████████████████████████████████████████████████████████████████████████████| 4/4 [02:35<00:00, 38.88s/it]\u001b[A\n",
      " 20%|████████████████▌                                                                  | 1/5 [02:35<10:22, 155.53s/it]\n",
      "  0%|                                                                                            | 0/4 [00:00<?, ?it/s]\u001b[A\n",
      " 25%|█████████████████████                                                               | 1/4 [00:02<00:06,  2.31s/it]\u001b[A\n",
      " 50%|██████████████████████████████████████████                                          | 2/4 [00:07<00:06,  3.13s/it]\u001b[A\n",
      " 75%|███████████████████████████████████████████████████████████████                     | 3/4 [00:09<00:02,  2.91s/it]\u001b[A\n",
      "100%|████████████████████████████████████████████████████████████████████████████████████| 4/4 [00:12<00:00,  3.23s/it]\u001b[A\n",
      " 40%|█████████████████████████████████▏                                                 | 2/5 [02:48<05:38, 112.75s/it]\n",
      "  0%|                                                                                            | 0/4 [00:00<?, ?it/s]\u001b[A\n",
      " 25%|█████████████████████                                                               | 1/4 [00:13<00:39, 13.18s/it]\u001b[A\n",
      " 50%|██████████████████████████████████████████                                          | 2/4 [00:38<00:33, 16.81s/it]\u001b[A\n",
      " 75%|███████████████████████████████████████████████████████████████                     | 3/4 [00:51<00:15, 15.75s/it]\u001b[A\n",
      "100%|████████████████████████████████████████████████████████████████████████████████████| 4/4 [01:04<00:00, 16.07s/it]\u001b[A\n",
      " 60%|██████████████████████████████████████████████████▍                                 | 3/5 [03:52<03:16, 98.21s/it]\n",
      "  0%|                                                                                            | 0/4 [00:00<?, ?it/s]\u001b[A\n",
      " 25%|█████████████████████                                                               | 1/4 [00:02<00:06,  2.29s/it]\u001b[A\n",
      " 50%|██████████████████████████████████████████                                          | 2/4 [00:07<00:06,  3.20s/it]\u001b[A\n",
      " 75%|███████████████████████████████████████████████████████████████                     | 3/4 [00:10<00:03,  3.08s/it]\u001b[A\n",
      "100%|████████████████████████████████████████████████████████████████████████████████████| 4/4 [00:13<00:00,  3.34s/it]\u001b[A\n",
      " 80%|███████████████████████████████████████████████████████████████████▏                | 4/5 [04:06<01:12, 72.75s/it]\n",
      "  0%|                                                                                            | 0/4 [00:00<?, ?it/s]\u001b[A\n",
      " 25%|█████████████████████                                                               | 1/4 [00:12<00:38, 12.88s/it]\u001b[A\n",
      " 50%|██████████████████████████████████████████                                          | 2/4 [00:39<00:33, 16.96s/it]\u001b[A\n",
      " 75%|███████████████████████████████████████████████████████████████                     | 3/4 [00:52<00:15, 15.75s/it]\u001b[A\n",
      "100%|████████████████████████████████████████████████████████████████████████████████████| 4/4 [01:05<00:00, 16.43s/it]\u001b[A\n",
      "100%|████████████████████████████████████████████████████████████████████████████████████| 5/5 [05:11<00:00, 62.37s/it]\n"
     ]
    },
    {
     "data": {
      "text/html": [
       "<br/>Waiting for W&B process to finish, PID 22872<br/>Program ended successfully."
      ],
      "text/plain": [
       "<IPython.core.display.HTML object>"
      ]
     },
     "metadata": {},
     "output_type": "display_data"
    },
    {
     "data": {
      "application/vnd.jupyter.widget-view+json": {
       "model_id": "",
       "version_major": 2,
       "version_minor": 0
      },
      "text/plain": [
       "VBox(children=(Label(value=' 0.00MB of 0.00MB uploaded (0.00MB deduped)\\r'), FloatProgress(value=1.0, max=1.0)…"
      ]
     },
     "metadata": {},
     "output_type": "display_data"
    },
    {
     "data": {
      "text/html": [
       "Find user logs for this run at: <code>D:\\ProgProjekte\\Python\\EIPH_WSI\\MIDL2021\\Registration\\WandB\\wandb\\run-20210124_212208-n4rqoe6k\\logs\\debug.log</code>"
      ],
      "text/plain": [
       "<IPython.core.display.HTML object>"
      ]
     },
     "metadata": {},
     "output_type": "display_data"
    },
    {
     "data": {
      "text/html": [
       "Find internal logs for this run at: <code>D:\\ProgProjekte\\Python\\EIPH_WSI\\MIDL2021\\Registration\\WandB\\wandb\\run-20210124_212208-n4rqoe6k\\logs\\debug-internal.log</code>"
      ],
      "text/plain": [
       "<IPython.core.display.HTML object>"
      ]
     },
     "metadata": {},
     "output_type": "display_data"
    },
    {
     "data": {
      "text/html": [
       "<h3>Run summary:</h3><br/><style>\n",
       "    table.wandb td:nth-child(1) { padding: 0 10px; text-align: right }\n",
       "    </style><table class=\"wandb\">\n",
       "<tr><td>dist_mean</td><td>9.0806</td></tr><tr><td>dist_min</td><td>0.0</td></tr><tr><td>dist_max</td><td>86.86448</td></tr><tr><td>q_mean</td><td>-3664.52756</td></tr><tr><td>q_min</td><td>-16389.00195</td></tr><tr><td>q_max</td><td>1472.17387</td></tr><tr><td>sigma2_mean</td><td>132.35149</td></tr><tr><td>sigma2_min</td><td>0.0</td></tr><tr><td>sigma2_max</td><td>326.03919</td></tr><tr><td>_step</td><td>0</td></tr><tr><td>_runtime</td><td>316</td></tr><tr><td>_timestamp</td><td>1611520044</td></tr></table>"
      ],
      "text/plain": [
       "<IPython.core.display.HTML object>"
      ]
     },
     "metadata": {},
     "output_type": "display_data"
    },
    {
     "data": {
      "text/html": [
       "<h3>Run history:</h3><br/><style>\n",
       "    table.wandb td:nth-child(1) { padding: 0 10px; text-align: right }\n",
       "    </style><table class=\"wandb\">\n",
       "<tr><td>dist_mean</td><td>▁</td></tr><tr><td>dist_min</td><td>▁</td></tr><tr><td>dist_max</td><td>▁</td></tr><tr><td>q_mean</td><td>▁</td></tr><tr><td>q_min</td><td>▁</td></tr><tr><td>q_max</td><td>▁</td></tr><tr><td>sigma2_mean</td><td>▁</td></tr><tr><td>sigma2_min</td><td>▁</td></tr><tr><td>sigma2_max</td><td>▁</td></tr><tr><td>_step</td><td>▁</td></tr><tr><td>_runtime</td><td>▁</td></tr><tr><td>_timestamp</td><td>▁</td></tr></table><br/>"
      ],
      "text/plain": [
       "<IPython.core.display.HTML object>"
      ]
     },
     "metadata": {},
     "output_type": "display_data"
    },
    {
     "data": {
      "text/html": [
       "Synced 5 W&B file(s), 0 media file(s), 0 artifact file(s) and 0 other file(s)"
      ],
      "text/plain": [
       "<IPython.core.display.HTML object>"
      ]
     },
     "metadata": {},
     "output_type": "display_data"
    },
    {
     "data": {
      "text/html": [
       "\n",
       "                    <br/>Synced <strong style=\"color:#cdcd00\">driven-sweep-9</strong>: <a href=\"https://wandb.ai/christianml/quadtree/runs/n4rqoe6k\" target=\"_blank\">https://wandb.ai/christianml/quadtree/runs/n4rqoe6k</a><br/>\n",
       "                "
      ],
      "text/plain": [
       "<IPython.core.display.HTML object>"
      ]
     },
     "metadata": {},
     "output_type": "display_data"
    },
    {
     "name": "stderr",
     "output_type": "stream",
     "text": [
      "wandb: Agent Starting Run: oalw4uor with config:\n",
      "wandb: \tcrossCheck: False\n",
      "wandb: \tflann: True\n",
      "wandb: \timage_type: Cyto\n",
      "wandb: \tmaxFeatures: 2048\n",
      "wandb: \tmethod: sift\n",
      "wandb: \tratio: 0.5\n",
      "wandb: \tsource_scanner: Aperio\n",
      "wandb: \ttarget_depth: 0\n",
      "wandb: \tthumbnail_size: [4096, 4096]\n",
      "wandb: \tuse_gray: True\n",
      "Failed to query for notebook name, you can set it manually with the WANDB_NOTEBOOK_NAME environment variable\n"
     ]
    },
    {
     "data": {
      "text/html": [
       "\n",
       "                Tracking run with wandb version 0.10.14<br/>\n",
       "                Syncing run <strong style=\"color:#cdcd00\">winter-sweep-10</strong> to <a href=\"https://wandb.ai\" target=\"_blank\">Weights & Biases</a> <a href=\"https://docs.wandb.com/integrations/jupyter.html\" target=\"_blank\">(Documentation)</a>.<br/>\n",
       "                Project page: <a href=\"https://wandb.ai/christianml/quadtree\" target=\"_blank\">https://wandb.ai/christianml/quadtree</a><br/>\n",
       "                Sweep page: <a href=\"https://wandb.ai/christianml/quadtree/sweeps/hy4huvzx\" target=\"_blank\">https://wandb.ai/christianml/quadtree/sweeps/hy4huvzx</a><br/>\n",
       "Run page: <a href=\"https://wandb.ai/christianml/quadtree/runs/oalw4uor\" target=\"_blank\">https://wandb.ai/christianml/quadtree/runs/oalw4uor</a><br/>\n",
       "                Run data is saved locally in <code>D:\\ProgProjekte\\Python\\EIPH_WSI\\MIDL2021\\Registration\\WandB\\wandb\\run-20210124_212730-oalw4uor</code><br/><br/>\n",
       "            "
      ],
      "text/plain": [
       "<IPython.core.display.HTML object>"
      ]
     },
     "metadata": {},
     "output_type": "display_data"
    },
    {
     "name": "stderr",
     "output_type": "stream",
     "text": [
      "  0%|                                                                                            | 0/5 [00:00<?, ?it/s]\n",
      "  0%|                                                                                            | 0/4 [00:00<?, ?it/s]\u001b[A\n",
      " 25%|█████████████████████                                                               | 1/4 [00:16<00:50, 16.91s/it]\u001b[A\n",
      " 50%|██████████████████████████████████████████                                          | 2/4 [00:52<00:44, 22.46s/it]\u001b[A\n",
      " 75%|███████████████████████████████████████████████████████████████                     | 3/4 [01:05<00:19, 19.73s/it]\u001b[A\n",
      "100%|████████████████████████████████████████████████████████████████████████████████████| 4/4 [01:23<00:00, 20.86s/it]\u001b[A\n",
      " 20%|████████████████▊                                                                   | 1/5 [01:23<05:33, 83.46s/it]\n",
      "  0%|                                                                                            | 0/4 [00:00<?, ?it/s]\u001b[A\n",
      " 25%|█████████████████████                                                               | 1/4 [00:17<00:52, 17.62s/it]\u001b[A\n",
      " 50%|██████████████████████████████████████████                                          | 2/4 [00:55<00:47, 23.62s/it]\u001b[A\n",
      " 75%|███████████████████████████████████████████████████████████████                     | 3/4 [01:09<00:20, 20.88s/it]\u001b[A\n",
      "100%|████████████████████████████████████████████████████████████████████████████████████| 4/4 [01:27<00:00, 21.83s/it]\u001b[A\n",
      " 40%|█████████████████████████████████▌                                                  | 2/5 [02:50<04:13, 84.63s/it]\n",
      "  0%|                                                                                            | 0/4 [00:00<?, ?it/s]\u001b[A\n",
      " 25%|█████████████████████                                                               | 1/4 [00:18<00:54, 18.27s/it]\u001b[A\n",
      " 50%|██████████████████████████████████████████                                          | 2/4 [00:54<00:47, 23.69s/it]\u001b[A\n",
      " 75%|███████████████████████████████████████████████████████████████                     | 3/4 [01:09<00:21, 21.02s/it]\u001b[A\n",
      "100%|████████████████████████████████████████████████████████████████████████████████████| 4/4 [01:25<00:00, 21.37s/it]\u001b[A\n",
      " 60%|██████████████████████████████████████████████████▍                                 | 3/5 [04:16<02:49, 84.88s/it]\n",
      "  0%|                                                                                            | 0/4 [00:00<?, ?it/s]\u001b[A\n",
      " 25%|█████████████████████                                                               | 1/4 [00:21<01:04, 21.36s/it]\u001b[A\n",
      " 50%|██████████████████████████████████████████                                          | 2/4 [01:07<00:57, 28.87s/it]\u001b[A\n",
      " 75%|███████████████████████████████████████████████████████████████                     | 3/4 [01:28<00:26, 26.46s/it]\u001b[A\n",
      "100%|████████████████████████████████████████████████████████████████████████████████████| 4/4 [01:50<00:00, 27.70s/it]\u001b[A\n",
      " 80%|███████████████████████████████████████████████████████████████████▏                | 4/5 [06:07<01:32, 92.65s/it]\n",
      "  0%|                                                                                            | 0/4 [00:00<?, ?it/s]\u001b[A\n",
      " 25%|█████████████████████                                                               | 1/4 [00:19<00:59, 19.81s/it]\u001b[A\n",
      " 50%|██████████████████████████████████████████                                          | 2/4 [01:06<00:55, 27.83s/it]\u001b[A\n",
      " 75%|███████████████████████████████████████████████████████████████                     | 3/4 [02:21<00:42, 42.09s/it]\u001b[A\n",
      "100%|████████████████████████████████████████████████████████████████████████████████████| 4/4 [03:06<00:00, 46.62s/it]\u001b[A\n",
      "100%|███████████████████████████████████████████████████████████████████████████████████| 5/5 [09:13<00:00, 110.71s/it]\n"
     ]
    },
    {
     "data": {
      "text/html": [
       "<br/>Waiting for W&B process to finish, PID 28104<br/>Program ended successfully."
      ],
      "text/plain": [
       "<IPython.core.display.HTML object>"
      ]
     },
     "metadata": {},
     "output_type": "display_data"
    },
    {
     "data": {
      "application/vnd.jupyter.widget-view+json": {
       "model_id": "",
       "version_major": 2,
       "version_minor": 0
      },
      "text/plain": [
       "VBox(children=(Label(value=' 0.00MB of 0.00MB uploaded (0.00MB deduped)\\r'), FloatProgress(value=1.0, max=1.0)…"
      ]
     },
     "metadata": {},
     "output_type": "display_data"
    },
    {
     "data": {
      "text/html": [
       "Find user logs for this run at: <code>D:\\ProgProjekte\\Python\\EIPH_WSI\\MIDL2021\\Registration\\WandB\\wandb\\run-20210124_212730-oalw4uor\\logs\\debug.log</code>"
      ],
      "text/plain": [
       "<IPython.core.display.HTML object>"
      ]
     },
     "metadata": {},
     "output_type": "display_data"
    },
    {
     "data": {
      "text/html": [
       "Find internal logs for this run at: <code>D:\\ProgProjekte\\Python\\EIPH_WSI\\MIDL2021\\Registration\\WandB\\wandb\\run-20210124_212730-oalw4uor\\logs\\debug-internal.log</code>"
      ],
      "text/plain": [
       "<IPython.core.display.HTML object>"
      ]
     },
     "metadata": {},
     "output_type": "display_data"
    },
    {
     "data": {
      "text/html": [
       "<h3>Run summary:</h3><br/><style>\n",
       "    table.wandb td:nth-child(1) { padding: 0 10px; text-align: right }\n",
       "    </style><table class=\"wandb\">\n",
       "<tr><td>dist_mean</td><td>11.60302</td></tr><tr><td>dist_min</td><td>0.0</td></tr><tr><td>dist_max</td><td>187.45852</td></tr><tr><td>q_mean</td><td>-500.85981</td></tr><tr><td>q_min</td><td>-33034.00391</td></tr><tr><td>q_max</td><td>25652.52129</td></tr><tr><td>sigma2_mean</td><td>5119.48045</td></tr><tr><td>sigma2_min</td><td>0.0</td></tr><tr><td>sigma2_max</td><td>101280.0936</td></tr><tr><td>_step</td><td>0</td></tr><tr><td>_runtime</td><td>558</td></tr><tr><td>_timestamp</td><td>1611520608</td></tr></table>"
      ],
      "text/plain": [
       "<IPython.core.display.HTML object>"
      ]
     },
     "metadata": {},
     "output_type": "display_data"
    },
    {
     "data": {
      "text/html": [
       "<h3>Run history:</h3><br/><style>\n",
       "    table.wandb td:nth-child(1) { padding: 0 10px; text-align: right }\n",
       "    </style><table class=\"wandb\">\n",
       "<tr><td>dist_mean</td><td>▁</td></tr><tr><td>dist_min</td><td>▁</td></tr><tr><td>dist_max</td><td>▁</td></tr><tr><td>q_mean</td><td>▁</td></tr><tr><td>q_min</td><td>▁</td></tr><tr><td>q_max</td><td>▁</td></tr><tr><td>sigma2_mean</td><td>▁</td></tr><tr><td>sigma2_min</td><td>▁</td></tr><tr><td>sigma2_max</td><td>▁</td></tr><tr><td>_step</td><td>▁</td></tr><tr><td>_runtime</td><td>▁</td></tr><tr><td>_timestamp</td><td>▁</td></tr></table><br/>"
      ],
      "text/plain": [
       "<IPython.core.display.HTML object>"
      ]
     },
     "metadata": {},
     "output_type": "display_data"
    },
    {
     "data": {
      "text/html": [
       "Synced 5 W&B file(s), 0 media file(s), 0 artifact file(s) and 0 other file(s)"
      ],
      "text/plain": [
       "<IPython.core.display.HTML object>"
      ]
     },
     "metadata": {},
     "output_type": "display_data"
    },
    {
     "data": {
      "text/html": [
       "\n",
       "                    <br/>Synced <strong style=\"color:#cdcd00\">winter-sweep-10</strong>: <a href=\"https://wandb.ai/christianml/quadtree/runs/oalw4uor\" target=\"_blank\">https://wandb.ai/christianml/quadtree/runs/oalw4uor</a><br/>\n",
       "                "
      ],
      "text/plain": [
       "<IPython.core.display.HTML object>"
      ]
     },
     "metadata": {},
     "output_type": "display_data"
    },
    {
     "name": "stderr",
     "output_type": "stream",
     "text": [
      "wandb: Agent Starting Run: i07rw9vq with config:\n",
      "wandb: \tcrossCheck: False\n",
      "wandb: \tflann: True\n",
      "wandb: \timage_type: Cyto\n",
      "wandb: \tmaxFeatures: 1024\n",
      "wandb: \tmethod: sift\n",
      "wandb: \tratio: 0.7\n",
      "wandb: \tsource_scanner: Aperio\n",
      "wandb: \ttarget_depth: 0\n",
      "wandb: \tthumbnail_size: [4096, 4096]\n",
      "wandb: \tuse_gray: False\n",
      "Failed to query for notebook name, you can set it manually with the WANDB_NOTEBOOK_NAME environment variable\n"
     ]
    },
    {
     "data": {
      "text/html": [
       "\n",
       "                Tracking run with wandb version 0.10.14<br/>\n",
       "                Syncing run <strong style=\"color:#cdcd00\">glad-sweep-11</strong> to <a href=\"https://wandb.ai\" target=\"_blank\">Weights & Biases</a> <a href=\"https://docs.wandb.com/integrations/jupyter.html\" target=\"_blank\">(Documentation)</a>.<br/>\n",
       "                Project page: <a href=\"https://wandb.ai/christianml/quadtree\" target=\"_blank\">https://wandb.ai/christianml/quadtree</a><br/>\n",
       "                Sweep page: <a href=\"https://wandb.ai/christianml/quadtree/sweeps/hy4huvzx\" target=\"_blank\">https://wandb.ai/christianml/quadtree/sweeps/hy4huvzx</a><br/>\n",
       "Run page: <a href=\"https://wandb.ai/christianml/quadtree/runs/i07rw9vq\" target=\"_blank\">https://wandb.ai/christianml/quadtree/runs/i07rw9vq</a><br/>\n",
       "                Run data is saved locally in <code>D:\\ProgProjekte\\Python\\EIPH_WSI\\MIDL2021\\Registration\\WandB\\wandb\\run-20210124_213654-i07rw9vq</code><br/><br/>\n",
       "            "
      ],
      "text/plain": [
       "<IPython.core.display.HTML object>"
      ]
     },
     "metadata": {},
     "output_type": "display_data"
    },
    {
     "name": "stderr",
     "output_type": "stream",
     "text": [
      "  0%|                                                                                            | 0/5 [00:00<?, ?it/s]\n",
      "  0%|                                                                                            | 0/4 [00:00<?, ?it/s]\u001b[A\n",
      " 25%|█████████████████████                                                               | 1/4 [00:16<00:50, 16.86s/it]\u001b[A\n",
      " 50%|██████████████████████████████████████████                                          | 2/4 [00:42<00:39, 19.51s/it]\u001b[A\n",
      " 75%|███████████████████████████████████████████████████████████████                     | 3/4 [00:56<00:17, 17.74s/it]\u001b[A\n",
      "100%|████████████████████████████████████████████████████████████████████████████████████| 4/4 [01:14<00:00, 18.53s/it]\u001b[A\n",
      " 20%|████████████████▊                                                                   | 1/5 [01:14<04:56, 74.14s/it]\n",
      "  0%|                                                                                            | 0/4 [00:00<?, ?it/s]\u001b[A\n",
      " 25%|█████████████████████                                                               | 1/4 [00:17<00:53, 17.76s/it]\u001b[A\n",
      " 50%|██████████████████████████████████████████                                          | 2/4 [00:46<00:42, 21.19s/it]\u001b[A\n",
      " 75%|███████████████████████████████████████████████████████████████                     | 3/4 [01:01<00:19, 19.31s/it]\u001b[A\n",
      "100%|████████████████████████████████████████████████████████████████████████████████████| 4/4 [01:19<00:00, 19.81s/it]\u001b[A\n",
      " 40%|█████████████████████████████████▌                                                  | 2/5 [02:33<03:47, 75.68s/it]\n",
      "  0%|                                                                                            | 0/4 [00:00<?, ?it/s]\u001b[A\n",
      " 25%|█████████████████████                                                               | 1/4 [00:17<00:53, 17.77s/it]\u001b[A\n",
      " 50%|██████████████████████████████████████████                                          | 2/4 [00:45<00:41, 20.75s/it]\u001b[A\n",
      " 75%|███████████████████████████████████████████████████████████████                     | 3/4 [01:00<00:19, 19.14s/it]\u001b[A\n",
      "100%|████████████████████████████████████████████████████████████████████████████████████| 4/4 [01:16<00:00, 19.23s/it]\u001b[A\n",
      " 60%|██████████████████████████████████████████████████▍                                 | 3/5 [03:50<02:32, 76.05s/it]\n",
      "  0%|                                                                                            | 0/4 [00:00<?, ?it/s]\u001b[A\n",
      " 25%|█████████████████████                                                               | 1/4 [00:21<01:04, 21.43s/it]\u001b[A\n",
      " 50%|██████████████████████████████████████████                                          | 2/4 [00:56<00:51, 25.60s/it]\u001b[A\n",
      " 75%|███████████████████████████████████████████████████████████████                     | 3/4 [01:14<00:23, 23.34s/it]\u001b[A\n",
      "100%|████████████████████████████████████████████████████████████████████████████████████| 4/4 [01:35<00:00, 23.90s/it]\u001b[A\n",
      " 80%|███████████████████████████████████████████████████████████████████▏                | 4/5 [05:25<01:21, 81.92s/it]\n",
      "  0%|                                                                                            | 0/4 [00:00<?, ?it/s]\u001b[A\n",
      " 25%|█████████████████████                                                               | 1/4 [00:18<00:54, 18.16s/it]\u001b[A\n",
      " 50%|██████████████████████████████████████████                                          | 2/4 [00:46<00:42, 21.25s/it]\u001b[A\n",
      " 75%|███████████████████████████████████████████████████████████████                     | 3/4 [01:01<00:19, 19.33s/it]\u001b[A\n",
      "100%|████████████████████████████████████████████████████████████████████████████████████| 4/4 [01:18<00:00, 19.61s/it]\u001b[A\n",
      "100%|████████████████████████████████████████████████████████████████████████████████████| 5/5 [06:44<00:00, 80.88s/it]\n"
     ]
    },
    {
     "data": {
      "text/html": [
       "<br/>Waiting for W&B process to finish, PID 26572<br/>Program ended successfully."
      ],
      "text/plain": [
       "<IPython.core.display.HTML object>"
      ]
     },
     "metadata": {},
     "output_type": "display_data"
    },
    {
     "data": {
      "application/vnd.jupyter.widget-view+json": {
       "model_id": "",
       "version_major": 2,
       "version_minor": 0
      },
      "text/plain": [
       "VBox(children=(Label(value=' 0.00MB of 0.00MB uploaded (0.00MB deduped)\\r'), FloatProgress(value=1.0, max=1.0)…"
      ]
     },
     "metadata": {},
     "output_type": "display_data"
    },
    {
     "data": {
      "text/html": [
       "Find user logs for this run at: <code>D:\\ProgProjekte\\Python\\EIPH_WSI\\MIDL2021\\Registration\\WandB\\wandb\\run-20210124_213654-i07rw9vq\\logs\\debug.log</code>"
      ],
      "text/plain": [
       "<IPython.core.display.HTML object>"
      ]
     },
     "metadata": {},
     "output_type": "display_data"
    },
    {
     "data": {
      "text/html": [
       "Find internal logs for this run at: <code>D:\\ProgProjekte\\Python\\EIPH_WSI\\MIDL2021\\Registration\\WandB\\wandb\\run-20210124_213654-i07rw9vq\\logs\\debug-internal.log</code>"
      ],
      "text/plain": [
       "<IPython.core.display.HTML object>"
      ]
     },
     "metadata": {},
     "output_type": "display_data"
    },
    {
     "data": {
      "text/html": [
       "<h3>Run summary:</h3><br/><style>\n",
       "    table.wandb td:nth-child(1) { padding: 0 10px; text-align: right }\n",
       "    </style><table class=\"wandb\">\n",
       "<tr><td>dist_mean</td><td>6.55273</td></tr><tr><td>dist_min</td><td>0.0</td></tr><tr><td>dist_max</td><td>69.96508</td></tr><tr><td>q_mean</td><td>-2998.83857</td></tr><tr><td>q_min</td><td>-16709.00195</td></tr><tr><td>q_max</td><td>1767.19474</td></tr><tr><td>sigma2_mean</td><td>47.66502</td></tr><tr><td>sigma2_min</td><td>0.0</td></tr><tr><td>sigma2_max</td><td>96.1893</td></tr><tr><td>_step</td><td>0</td></tr><tr><td>_runtime</td><td>408</td></tr><tr><td>_timestamp</td><td>1611521023</td></tr></table>"
      ],
      "text/plain": [
       "<IPython.core.display.HTML object>"
      ]
     },
     "metadata": {},
     "output_type": "display_data"
    },
    {
     "data": {
      "text/html": [
       "<h3>Run history:</h3><br/><style>\n",
       "    table.wandb td:nth-child(1) { padding: 0 10px; text-align: right }\n",
       "    </style><table class=\"wandb\">\n",
       "<tr><td>dist_mean</td><td>▁</td></tr><tr><td>dist_min</td><td>▁</td></tr><tr><td>dist_max</td><td>▁</td></tr><tr><td>q_mean</td><td>▁</td></tr><tr><td>q_min</td><td>▁</td></tr><tr><td>q_max</td><td>▁</td></tr><tr><td>sigma2_mean</td><td>▁</td></tr><tr><td>sigma2_min</td><td>▁</td></tr><tr><td>sigma2_max</td><td>▁</td></tr><tr><td>_step</td><td>▁</td></tr><tr><td>_runtime</td><td>▁</td></tr><tr><td>_timestamp</td><td>▁</td></tr></table><br/>"
      ],
      "text/plain": [
       "<IPython.core.display.HTML object>"
      ]
     },
     "metadata": {},
     "output_type": "display_data"
    },
    {
     "data": {
      "text/html": [
       "Synced 5 W&B file(s), 0 media file(s), 0 artifact file(s) and 0 other file(s)"
      ],
      "text/plain": [
       "<IPython.core.display.HTML object>"
      ]
     },
     "metadata": {},
     "output_type": "display_data"
    },
    {
     "data": {
      "text/html": [
       "\n",
       "                    <br/>Synced <strong style=\"color:#cdcd00\">glad-sweep-11</strong>: <a href=\"https://wandb.ai/christianml/quadtree/runs/i07rw9vq\" target=\"_blank\">https://wandb.ai/christianml/quadtree/runs/i07rw9vq</a><br/>\n",
       "                "
      ],
      "text/plain": [
       "<IPython.core.display.HTML object>"
      ]
     },
     "metadata": {},
     "output_type": "display_data"
    },
    {
     "name": "stderr",
     "output_type": "stream",
     "text": [
      "wandb: Agent Starting Run: mmrwwbsg with config:\n",
      "wandb: \tcrossCheck: False\n",
      "wandb: \tflann: True\n",
      "wandb: \timage_type: Cyto\n",
      "wandb: \tmaxFeatures: 512\n",
      "wandb: \tmethod: orb\n",
      "wandb: \tratio: 0.7\n",
      "wandb: \tsource_scanner: Aperio\n",
      "wandb: \ttarget_depth: 0\n",
      "wandb: \tthumbnail_size: [4096, 4096]\n",
      "wandb: \tuse_gray: True\n",
      "Failed to query for notebook name, you can set it manually with the WANDB_NOTEBOOK_NAME environment variable\n"
     ]
    },
    {
     "data": {
      "text/html": [
       "\n",
       "                Tracking run with wandb version 0.10.14<br/>\n",
       "                Syncing run <strong style=\"color:#cdcd00\">spring-sweep-12</strong> to <a href=\"https://wandb.ai\" target=\"_blank\">Weights & Biases</a> <a href=\"https://docs.wandb.com/integrations/jupyter.html\" target=\"_blank\">(Documentation)</a>.<br/>\n",
       "                Project page: <a href=\"https://wandb.ai/christianml/quadtree\" target=\"_blank\">https://wandb.ai/christianml/quadtree</a><br/>\n",
       "                Sweep page: <a href=\"https://wandb.ai/christianml/quadtree/sweeps/hy4huvzx\" target=\"_blank\">https://wandb.ai/christianml/quadtree/sweeps/hy4huvzx</a><br/>\n",
       "Run page: <a href=\"https://wandb.ai/christianml/quadtree/runs/mmrwwbsg\" target=\"_blank\">https://wandb.ai/christianml/quadtree/runs/mmrwwbsg</a><br/>\n",
       "                Run data is saved locally in <code>D:\\ProgProjekte\\Python\\EIPH_WSI\\MIDL2021\\Registration\\WandB\\wandb\\run-20210124_214347-mmrwwbsg</code><br/><br/>\n",
       "            "
      ],
      "text/plain": [
       "<IPython.core.display.HTML object>"
      ]
     },
     "metadata": {},
     "output_type": "display_data"
    },
    {
     "name": "stderr",
     "output_type": "stream",
     "text": [
      "  0%|                                                                                            | 0/5 [00:00<?, ?it/s]\n",
      "  0%|                                                                                            | 0/4 [00:00<?, ?it/s]\u001b[A\n",
      " 25%|█████████████████████                                                               | 1/4 [00:16<00:50, 16.85s/it]\u001b[A\n",
      " 50%|██████████████████████████████████████████                                          | 2/4 [00:39<00:37, 18.62s/it]\u001b[A\n",
      " 75%|███████████████████████████████████████████████████████████████                     | 3/4 [00:52<00:17, 17.02s/it]\u001b[A\n",
      "100%|████████████████████████████████████████████████████████████████████████████████████| 4/4 [01:10<00:00, 17.73s/it]\u001b[A\n",
      " 20%|████████████████▊                                                                   | 1/5 [01:10<04:43, 70.91s/it]\n",
      "  0%|                                                                                            | 0/4 [00:00<?, ?it/s]\u001b[A\n",
      " 25%|█████████████████████                                                               | 1/4 [00:17<00:53, 17.74s/it]\u001b[A\n",
      " 50%|██████████████████████████████████████████                                          | 2/4 [00:42<00:39, 19.92s/it]\u001b[A\n",
      " 75%|███████████████████████████████████████████████████████████████                     | 3/4 [00:56<00:18, 18.21s/it]\u001b[A\n",
      "100%|████████████████████████████████████████████████████████████████████████████████████| 4/4 [01:14<00:00, 18.57s/it]\u001b[A\n",
      " 40%|█████████████████████████████████▌                                                  | 2/5 [02:25<03:35, 71.92s/it]\n",
      "  0%|                                                                                            | 0/4 [00:00<?, ?it/s]\u001b[A\n",
      " 25%|█████████████████████                                                               | 1/4 [00:17<00:53, 17.95s/it]\u001b[A\n",
      " 50%|██████████████████████████████████████████                                          | 2/4 [00:42<00:39, 19.90s/it]\u001b[A\n",
      " 75%|███████████████████████████████████████████████████████████████                     | 3/4 [00:57<00:18, 18.33s/it]\u001b[A\n",
      "100%|████████████████████████████████████████████████████████████████████████████████████| 4/4 [01:12<00:00, 18.24s/it]\u001b[A\n",
      " 60%|██████████████████████████████████████████████████▍                                 | 3/5 [03:38<02:24, 72.24s/it]\n",
      "  0%|                                                                                            | 0/4 [00:00<?, ?it/s]\u001b[A\n",
      " 25%|█████████████████████                                                               | 1/4 [00:21<01:05, 21.71s/it]\u001b[A\n",
      " 50%|██████████████████████████████████████████                                          | 2/4 [00:54<00:49, 24.91s/it]\u001b[A\n",
      " 75%|███████████████████████████████████████████████████████████████                     | 3/4 [01:11<00:22, 22.81s/it]\u001b[A\n",
      "100%|████████████████████████████████████████████████████████████████████████████████████| 4/4 [01:33<00:00, 23.27s/it]\u001b[A\n",
      " 80%|███████████████████████████████████████████████████████████████████▏                | 4/5 [05:11<01:18, 78.49s/it]\n",
      "  0%|                                                                                            | 0/4 [00:00<?, ?it/s]\u001b[A\n",
      " 25%|█████████████████████                                                               | 1/4 [00:17<00:53, 17.88s/it]\u001b[A\n",
      " 50%|██████████████████████████████████████████                                          | 2/4 [00:43<00:40, 20.14s/it]\u001b[A\n",
      " 75%|███████████████████████████████████████████████████████████████                     | 3/4 [00:57<00:18, 18.36s/it]\u001b[A\n",
      "100%|████████████████████████████████████████████████████████████████████████████████████| 4/4 [01:14<00:00, 18.73s/it]\u001b[A\n",
      "100%|████████████████████████████████████████████████████████████████████████████████████| 5/5 [06:26<00:00, 77.23s/it]\n"
     ]
    },
    {
     "data": {
      "text/html": [
       "<br/>Waiting for W&B process to finish, PID 18020<br/>Program ended successfully."
      ],
      "text/plain": [
       "<IPython.core.display.HTML object>"
      ]
     },
     "metadata": {},
     "output_type": "display_data"
    },
    {
     "data": {
      "application/vnd.jupyter.widget-view+json": {
       "model_id": "",
       "version_major": 2,
       "version_minor": 0
      },
      "text/plain": [
       "VBox(children=(Label(value=' 0.00MB of 0.00MB uploaded (0.00MB deduped)\\r'), FloatProgress(value=1.0, max=1.0)…"
      ]
     },
     "metadata": {},
     "output_type": "display_data"
    },
    {
     "data": {
      "text/html": [
       "Find user logs for this run at: <code>D:\\ProgProjekte\\Python\\EIPH_WSI\\MIDL2021\\Registration\\WandB\\wandb\\run-20210124_214347-mmrwwbsg\\logs\\debug.log</code>"
      ],
      "text/plain": [
       "<IPython.core.display.HTML object>"
      ]
     },
     "metadata": {},
     "output_type": "display_data"
    },
    {
     "data": {
      "text/html": [
       "Find internal logs for this run at: <code>D:\\ProgProjekte\\Python\\EIPH_WSI\\MIDL2021\\Registration\\WandB\\wandb\\run-20210124_214347-mmrwwbsg\\logs\\debug-internal.log</code>"
      ],
      "text/plain": [
       "<IPython.core.display.HTML object>"
      ]
     },
     "metadata": {},
     "output_type": "display_data"
    },
    {
     "data": {
      "text/html": [
       "<h3>Run summary:</h3><br/><style>\n",
       "    table.wandb td:nth-child(1) { padding: 0 10px; text-align: right }\n",
       "    </style><table class=\"wandb\">\n",
       "<tr><td>dist_mean</td><td>15.59637</td></tr><tr><td>dist_min</td><td>0.0</td></tr><tr><td>dist_max</td><td>250.53164</td></tr><tr><td>q_mean</td><td>-1643.82186</td></tr><tr><td>q_min</td><td>-8194.50098</td></tr><tr><td>q_max</td><td>821.83715</td></tr><tr><td>sigma2_mean</td><td>17071.46244</td></tr><tr><td>sigma2_min</td><td>0.0</td></tr><tr><td>sigma2_max</td><td>322719.25115</td></tr><tr><td>_step</td><td>0</td></tr><tr><td>_runtime</td><td>390</td></tr><tr><td>_timestamp</td><td>1611521418</td></tr></table>"
      ],
      "text/plain": [
       "<IPython.core.display.HTML object>"
      ]
     },
     "metadata": {},
     "output_type": "display_data"
    },
    {
     "data": {
      "text/html": [
       "<h3>Run history:</h3><br/><style>\n",
       "    table.wandb td:nth-child(1) { padding: 0 10px; text-align: right }\n",
       "    </style><table class=\"wandb\">\n",
       "<tr><td>dist_mean</td><td>▁</td></tr><tr><td>dist_min</td><td>▁</td></tr><tr><td>dist_max</td><td>▁</td></tr><tr><td>q_mean</td><td>▁</td></tr><tr><td>q_min</td><td>▁</td></tr><tr><td>q_max</td><td>▁</td></tr><tr><td>sigma2_mean</td><td>▁</td></tr><tr><td>sigma2_min</td><td>▁</td></tr><tr><td>sigma2_max</td><td>▁</td></tr><tr><td>_step</td><td>▁</td></tr><tr><td>_runtime</td><td>▁</td></tr><tr><td>_timestamp</td><td>▁</td></tr></table><br/>"
      ],
      "text/plain": [
       "<IPython.core.display.HTML object>"
      ]
     },
     "metadata": {},
     "output_type": "display_data"
    },
    {
     "data": {
      "text/html": [
       "Synced 5 W&B file(s), 0 media file(s), 0 artifact file(s) and 0 other file(s)"
      ],
      "text/plain": [
       "<IPython.core.display.HTML object>"
      ]
     },
     "metadata": {},
     "output_type": "display_data"
    },
    {
     "data": {
      "text/html": [
       "\n",
       "                    <br/>Synced <strong style=\"color:#cdcd00\">spring-sweep-12</strong>: <a href=\"https://wandb.ai/christianml/quadtree/runs/mmrwwbsg\" target=\"_blank\">https://wandb.ai/christianml/quadtree/runs/mmrwwbsg</a><br/>\n",
       "                "
      ],
      "text/plain": [
       "<IPython.core.display.HTML object>"
      ]
     },
     "metadata": {},
     "output_type": "display_data"
    },
    {
     "name": "stderr",
     "output_type": "stream",
     "text": [
      "wandb: Agent Starting Run: joqwwfx5 with config:\n",
      "wandb: \tcrossCheck: False\n",
      "wandb: \tflann: False\n",
      "wandb: \timage_type: Cyto\n",
      "wandb: \tmaxFeatures: 1024\n",
      "wandb: \tmethod: sift\n",
      "wandb: \tratio: 0.7\n",
      "wandb: \tsource_scanner: Aperio\n",
      "wandb: \ttarget_depth: 0\n",
      "wandb: \tthumbnail_size: [2048, 2048]\n",
      "wandb: \tuse_gray: False\n",
      "Failed to query for notebook name, you can set it manually with the WANDB_NOTEBOOK_NAME environment variable\n"
     ]
    },
    {
     "data": {
      "text/html": [
       "\n",
       "                Tracking run with wandb version 0.10.14<br/>\n",
       "                Syncing run <strong style=\"color:#cdcd00\">deep-sweep-13</strong> to <a href=\"https://wandb.ai\" target=\"_blank\">Weights & Biases</a> <a href=\"https://docs.wandb.com/integrations/jupyter.html\" target=\"_blank\">(Documentation)</a>.<br/>\n",
       "                Project page: <a href=\"https://wandb.ai/christianml/quadtree\" target=\"_blank\">https://wandb.ai/christianml/quadtree</a><br/>\n",
       "                Sweep page: <a href=\"https://wandb.ai/christianml/quadtree/sweeps/hy4huvzx\" target=\"_blank\">https://wandb.ai/christianml/quadtree/sweeps/hy4huvzx</a><br/>\n",
       "Run page: <a href=\"https://wandb.ai/christianml/quadtree/runs/joqwwfx5\" target=\"_blank\">https://wandb.ai/christianml/quadtree/runs/joqwwfx5</a><br/>\n",
       "                Run data is saved locally in <code>D:\\ProgProjekte\\Python\\EIPH_WSI\\MIDL2021\\Registration\\WandB\\wandb\\run-20210124_215022-joqwwfx5</code><br/><br/>\n",
       "            "
      ],
      "text/plain": [
       "<IPython.core.display.HTML object>"
      ]
     },
     "metadata": {},
     "output_type": "display_data"
    },
    {
     "name": "stderr",
     "output_type": "stream",
     "text": [
      "  0%|                                                                                            | 0/5 [00:00<?, ?it/s]\n",
      "  0%|                                                                                            | 0/4 [00:00<?, ?it/s]\u001b[A\n",
      " 25%|█████████████████████                                                               | 1/4 [00:12<00:36, 12.21s/it]\u001b[A\n",
      " 50%|██████████████████████████████████████████                                          | 2/4 [00:36<00:31, 15.88s/it]\u001b[A\n",
      " 75%|███████████████████████████████████████████████████████████████                     | 3/4 [00:49<00:14, 14.96s/it]\u001b[A\n",
      "100%|████████████████████████████████████████████████████████████████████████████████████| 4/4 [01:02<00:00, 15.70s/it]\u001b[A\n",
      " 20%|████████████████▊                                                                   | 1/5 [01:02<04:11, 62.79s/it]\n",
      "  0%|                                                                                            | 0/4 [00:00<?, ?it/s]\u001b[A\n",
      " 25%|█████████████████████                                                               | 1/4 [00:02<00:06,  2.33s/it]\u001b[A\n",
      " 50%|██████████████████████████████████████████                                          | 2/4 [00:06<00:05,  2.95s/it]\u001b[A\n",
      " 75%|███████████████████████████████████████████████████████████████                     | 3/4 [00:09<00:02,  2.82s/it]\u001b[A\n",
      "100%|████████████████████████████████████████████████████████████████████████████████████| 4/4 [00:12<00:00,  3.15s/it]\u001b[A\n",
      " 40%|█████████████████████████████████▌                                                  | 2/5 [01:15<02:23, 47.73s/it]\n",
      "  0%|                                                                                            | 0/4 [00:00<?, ?it/s]\u001b[A\n",
      " 25%|█████████████████████                                                               | 1/4 [00:13<00:39, 13.17s/it]\u001b[A\n",
      " 50%|██████████████████████████████████████████                                          | 2/4 [00:38<00:33, 16.82s/it]\u001b[A\n",
      " 75%|███████████████████████████████████████████████████████████████                     | 3/4 [00:52<00:15, 15.89s/it]\u001b[A\n",
      "100%|████████████████████████████████████████████████████████████████████████████████████| 4/4 [01:05<00:00, 16.26s/it]\u001b[A\n",
      " 60%|██████████████████████████████████████████████████▍                                 | 3/5 [02:20<01:45, 52.93s/it]\n",
      "  0%|                                                                                            | 0/4 [00:00<?, ?it/s]\u001b[A\n",
      " 25%|█████████████████████                                                               | 1/4 [00:02<00:07,  2.39s/it]\u001b[A\n",
      " 50%|██████████████████████████████████████████                                          | 2/4 [00:07<00:06,  3.28s/it]\u001b[A\n",
      " 75%|███████████████████████████████████████████████████████████████                     | 3/4 [00:11<00:03,  3.33s/it]\u001b[A\n",
      "100%|████████████████████████████████████████████████████████████████████████████████████| 4/4 [00:15<00:00,  3.82s/it]\u001b[A\n",
      " 80%|███████████████████████████████████████████████████████████████████▏                | 4/5 [02:35<00:41, 41.64s/it]\n",
      "  0%|                                                                                            | 0/4 [00:00<?, ?it/s]\u001b[A\n",
      " 25%|█████████████████████                                                               | 1/4 [00:35<01:47, 35.81s/it]\u001b[A\n",
      " 50%|██████████████████████████████████████████                                          | 2/4 [01:24<01:19, 39.62s/it]\u001b[A\n",
      " 75%|███████████████████████████████████████████████████████████████                     | 3/4 [01:37<00:31, 31.72s/it]\u001b[A\n",
      "100%|████████████████████████████████████████████████████████████████████████████████████| 4/4 [01:51<00:00, 27.81s/it]\u001b[A\n",
      "100%|████████████████████████████████████████████████████████████████████████████████████| 5/5 [04:26<00:00, 53.40s/it]\n"
     ]
    },
    {
     "data": {
      "text/html": [
       "<br/>Waiting for W&B process to finish, PID 24332<br/>Program ended successfully."
      ],
      "text/plain": [
       "<IPython.core.display.HTML object>"
      ]
     },
     "metadata": {},
     "output_type": "display_data"
    },
    {
     "data": {
      "application/vnd.jupyter.widget-view+json": {
       "model_id": "",
       "version_major": 2,
       "version_minor": 0
      },
      "text/plain": [
       "VBox(children=(Label(value=' 0.00MB of 0.00MB uploaded (0.00MB deduped)\\r'), FloatProgress(value=1.0, max=1.0)…"
      ]
     },
     "metadata": {},
     "output_type": "display_data"
    },
    {
     "data": {
      "text/html": [
       "Find user logs for this run at: <code>D:\\ProgProjekte\\Python\\EIPH_WSI\\MIDL2021\\Registration\\WandB\\wandb\\run-20210124_215022-joqwwfx5\\logs\\debug.log</code>"
      ],
      "text/plain": [
       "<IPython.core.display.HTML object>"
      ]
     },
     "metadata": {},
     "output_type": "display_data"
    },
    {
     "data": {
      "text/html": [
       "Find internal logs for this run at: <code>D:\\ProgProjekte\\Python\\EIPH_WSI\\MIDL2021\\Registration\\WandB\\wandb\\run-20210124_215022-joqwwfx5\\logs\\debug-internal.log</code>"
      ],
      "text/plain": [
       "<IPython.core.display.HTML object>"
      ]
     },
     "metadata": {},
     "output_type": "display_data"
    },
    {
     "data": {
      "text/html": [
       "<h3>Run summary:</h3><br/><style>\n",
       "    table.wandb td:nth-child(1) { padding: 0 10px; text-align: right }\n",
       "    </style><table class=\"wandb\">\n",
       "<tr><td>dist_mean</td><td>7.02135</td></tr><tr><td>dist_min</td><td>0.0</td></tr><tr><td>dist_max</td><td>73.30178</td></tr><tr><td>q_mean</td><td>-3044.09745</td></tr><tr><td>q_min</td><td>-16389.00195</td></tr><tr><td>q_max</td><td>2352.56211</td></tr><tr><td>sigma2_mean</td><td>147.54548</td></tr><tr><td>sigma2_min</td><td>0.0</td></tr><tr><td>sigma2_max</td><td>268.16384</td></tr><tr><td>_step</td><td>0</td></tr><tr><td>_runtime</td><td>271</td></tr><tr><td>_timestamp</td><td>1611521693</td></tr></table>"
      ],
      "text/plain": [
       "<IPython.core.display.HTML object>"
      ]
     },
     "metadata": {},
     "output_type": "display_data"
    },
    {
     "data": {
      "text/html": [
       "<h3>Run history:</h3><br/><style>\n",
       "    table.wandb td:nth-child(1) { padding: 0 10px; text-align: right }\n",
       "    </style><table class=\"wandb\">\n",
       "<tr><td>dist_mean</td><td>▁</td></tr><tr><td>dist_min</td><td>▁</td></tr><tr><td>dist_max</td><td>▁</td></tr><tr><td>q_mean</td><td>▁</td></tr><tr><td>q_min</td><td>▁</td></tr><tr><td>q_max</td><td>▁</td></tr><tr><td>sigma2_mean</td><td>▁</td></tr><tr><td>sigma2_min</td><td>▁</td></tr><tr><td>sigma2_max</td><td>▁</td></tr><tr><td>_step</td><td>▁</td></tr><tr><td>_runtime</td><td>▁</td></tr><tr><td>_timestamp</td><td>▁</td></tr></table><br/>"
      ],
      "text/plain": [
       "<IPython.core.display.HTML object>"
      ]
     },
     "metadata": {},
     "output_type": "display_data"
    },
    {
     "data": {
      "text/html": [
       "Synced 5 W&B file(s), 0 media file(s), 0 artifact file(s) and 0 other file(s)"
      ],
      "text/plain": [
       "<IPython.core.display.HTML object>"
      ]
     },
     "metadata": {},
     "output_type": "display_data"
    },
    {
     "data": {
      "text/html": [
       "\n",
       "                    <br/>Synced <strong style=\"color:#cdcd00\">deep-sweep-13</strong>: <a href=\"https://wandb.ai/christianml/quadtree/runs/joqwwfx5\" target=\"_blank\">https://wandb.ai/christianml/quadtree/runs/joqwwfx5</a><br/>\n",
       "                "
      ],
      "text/plain": [
       "<IPython.core.display.HTML object>"
      ]
     },
     "metadata": {},
     "output_type": "display_data"
    },
    {
     "name": "stderr",
     "output_type": "stream",
     "text": [
      "wandb: Sweep Agent: Waiting for job.\n",
      "wandb: Job received.\n",
      "wandb: Agent Starting Run: zfh3viff with config:\n",
      "wandb: \tcrossCheck: False\n",
      "wandb: \tflann: True\n",
      "wandb: \timage_type: Cyto\n",
      "wandb: \tmaxFeatures: 2048\n",
      "wandb: \tmethod: orb\n",
      "wandb: \tratio: 0.5\n",
      "wandb: \tsource_scanner: Aperio\n",
      "wandb: \ttarget_depth: 0\n",
      "wandb: \tthumbnail_size: [2048, 2048]\n",
      "wandb: \tuse_gray: False\n",
      "Failed to query for notebook name, you can set it manually with the WANDB_NOTEBOOK_NAME environment variable\n"
     ]
    },
    {
     "data": {
      "text/html": [
       "\n",
       "                Tracking run with wandb version 0.10.14<br/>\n",
       "                Syncing run <strong style=\"color:#cdcd00\">magic-sweep-14</strong> to <a href=\"https://wandb.ai\" target=\"_blank\">Weights & Biases</a> <a href=\"https://docs.wandb.com/integrations/jupyter.html\" target=\"_blank\">(Documentation)</a>.<br/>\n",
       "                Project page: <a href=\"https://wandb.ai/christianml/quadtree\" target=\"_blank\">https://wandb.ai/christianml/quadtree</a><br/>\n",
       "                Sweep page: <a href=\"https://wandb.ai/christianml/quadtree/sweeps/hy4huvzx\" target=\"_blank\">https://wandb.ai/christianml/quadtree/sweeps/hy4huvzx</a><br/>\n",
       "Run page: <a href=\"https://wandb.ai/christianml/quadtree/runs/zfh3viff\" target=\"_blank\">https://wandb.ai/christianml/quadtree/runs/zfh3viff</a><br/>\n",
       "                Run data is saved locally in <code>D:\\ProgProjekte\\Python\\EIPH_WSI\\MIDL2021\\Registration\\WandB\\wandb\\run-20210124_215507-zfh3viff</code><br/><br/>\n",
       "            "
      ],
      "text/plain": [
       "<IPython.core.display.HTML object>"
      ]
     },
     "metadata": {},
     "output_type": "display_data"
    },
    {
     "name": "stderr",
     "output_type": "stream",
     "text": [
      "  0%|                                                                                            | 0/5 [00:00<?, ?it/s]\n",
      "  0%|                                                                                            | 0/4 [00:00<?, ?it/s]\u001b[A\n",
      " 25%|█████████████████████                                                               | 1/4 [00:11<00:35, 11.86s/it]\u001b[A\n",
      " 50%|██████████████████████████████████████████                                          | 2/4 [00:45<00:36, 18.48s/it]\u001b[A\n",
      " 75%|███████████████████████████████████████████████████████████████                     | 3/4 [00:58<00:16, 16.72s/it]\u001b[A\n",
      "100%|████████████████████████████████████████████████████████████████████████████████████| 4/4 [01:11<00:00, 17.90s/it]\u001b[A\n",
      " 20%|████████████████▊                                                                   | 1/5 [01:11<04:46, 71.59s/it]\n",
      "  0%|                                                                                            | 0/4 [00:00<?, ?it/s]\u001b[A\n",
      " 25%|█████████████████████                                                               | 1/4 [00:02<00:07,  2.37s/it]\u001b[A\n",
      " 50%|██████████████████████████████████████████                                          | 2/4 [00:14<00:10,  5.29s/it]\u001b[A\n",
      " 75%|███████████████████████████████████████████████████████████████                     | 3/4 [00:17<00:04,  4.47s/it]\u001b[A\n",
      "100%|████████████████████████████████████████████████████████████████████████████████████| 4/4 [00:20<00:00,  5.02s/it]\u001b[A\n",
      " 40%|█████████████████████████████████▌                                                  | 2/5 [01:31<02:48, 56.14s/it]\n",
      "  0%|                                                                                            | 0/4 [00:00<?, ?it/s]\u001b[A\n",
      " 25%|█████████████████████                                                               | 1/4 [00:13<00:39, 13.28s/it]\u001b[A\n",
      " 50%|██████████████████████████████████████████                                          | 2/4 [00:48<00:39, 19.87s/it]\u001b[A\n",
      " 75%|███████████████████████████████████████████████████████████████                     | 3/4 [01:02<00:17, 17.98s/it]\u001b[A\n",
      "100%|████████████████████████████████████████████████████████████████████████████████████| 4/4 [01:14<00:00, 18.69s/it]\u001b[A\n",
      " 60%|██████████████████████████████████████████████████▍                                 | 3/5 [02:46<02:03, 61.73s/it]\n",
      "  0%|                                                                                            | 0/4 [00:00<?, ?it/s]\u001b[A\n",
      " 25%|█████████████████████                                                               | 1/4 [00:02<00:07,  2.38s/it]\u001b[A\n",
      " 50%|██████████████████████████████████████████                                          | 2/4 [00:16<00:11,  5.85s/it]\u001b[A\n",
      " 75%|███████████████████████████████████████████████████████████████                     | 3/4 [00:19<00:04,  4.95s/it]\u001b[A\n",
      "100%|████████████████████████████████████████████████████████████████████████████████████| 4/4 [00:22<00:00,  5.56s/it]\u001b[A\n",
      " 80%|███████████████████████████████████████████████████████████████████▏                | 4/5 [03:08<00:49, 49.89s/it]\n",
      "  0%|                                                                                            | 0/4 [00:00<?, ?it/s]\u001b[A\n",
      " 25%|█████████████████████                                                               | 1/4 [00:13<00:40, 13.53s/it]\u001b[A\n",
      " 50%|██████████████████████████████████████████                                          | 2/4 [00:50<00:41, 20.63s/it]\u001b[A\n",
      " 75%|███████████████████████████████████████████████████████████████                     | 3/4 [01:03<00:18, 18.35s/it]\u001b[A\n",
      "100%|████████████████████████████████████████████████████████████████████████████████████| 4/4 [01:17<00:00, 19.30s/it]\u001b[A\n",
      "100%|████████████████████████████████████████████████████████████████████████████████████| 5/5 [04:25<00:00, 53.18s/it]\n"
     ]
    },
    {
     "data": {
      "text/html": [
       "<br/>Waiting for W&B process to finish, PID 11324<br/>Program ended successfully."
      ],
      "text/plain": [
       "<IPython.core.display.HTML object>"
      ]
     },
     "metadata": {},
     "output_type": "display_data"
    },
    {
     "data": {
      "application/vnd.jupyter.widget-view+json": {
       "model_id": "",
       "version_major": 2,
       "version_minor": 0
      },
      "text/plain": [
       "VBox(children=(Label(value=' 0.00MB of 0.00MB uploaded (0.00MB deduped)\\r'), FloatProgress(value=1.0, max=1.0)…"
      ]
     },
     "metadata": {},
     "output_type": "display_data"
    },
    {
     "data": {
      "text/html": [
       "Find user logs for this run at: <code>D:\\ProgProjekte\\Python\\EIPH_WSI\\MIDL2021\\Registration\\WandB\\wandb\\run-20210124_215507-zfh3viff\\logs\\debug.log</code>"
      ],
      "text/plain": [
       "<IPython.core.display.HTML object>"
      ]
     },
     "metadata": {},
     "output_type": "display_data"
    },
    {
     "data": {
      "text/html": [
       "Find internal logs for this run at: <code>D:\\ProgProjekte\\Python\\EIPH_WSI\\MIDL2021\\Registration\\WandB\\wandb\\run-20210124_215507-zfh3viff\\logs\\debug-internal.log</code>"
      ],
      "text/plain": [
       "<IPython.core.display.HTML object>"
      ]
     },
     "metadata": {},
     "output_type": "display_data"
    },
    {
     "data": {
      "text/html": [
       "<h3>Run summary:</h3><br/><style>\n",
       "    table.wandb td:nth-child(1) { padding: 0 10px; text-align: right }\n",
       "    </style><table class=\"wandb\">\n",
       "<tr><td>dist_mean</td><td>12.1049</td></tr><tr><td>dist_min</td><td>0.0</td></tr><tr><td>dist_max</td><td>183.92528</td></tr><tr><td>q_mean</td><td>-2011.41934</td></tr><tr><td>q_min</td><td>-32906.00391</td></tr><tr><td>q_max</td><td>28150.05113</td></tr><tr><td>sigma2_mean</td><td>17276.7033</td></tr><tr><td>sigma2_min</td><td>0.0</td></tr><tr><td>sigma2_max</td><td>342882.17557</td></tr><tr><td>_step</td><td>0</td></tr><tr><td>_runtime</td><td>270</td></tr><tr><td>_timestamp</td><td>1611521977</td></tr></table>"
      ],
      "text/plain": [
       "<IPython.core.display.HTML object>"
      ]
     },
     "metadata": {},
     "output_type": "display_data"
    },
    {
     "data": {
      "text/html": [
       "<h3>Run history:</h3><br/><style>\n",
       "    table.wandb td:nth-child(1) { padding: 0 10px; text-align: right }\n",
       "    </style><table class=\"wandb\">\n",
       "<tr><td>dist_mean</td><td>▁</td></tr><tr><td>dist_min</td><td>▁</td></tr><tr><td>dist_max</td><td>▁</td></tr><tr><td>q_mean</td><td>▁</td></tr><tr><td>q_min</td><td>▁</td></tr><tr><td>q_max</td><td>▁</td></tr><tr><td>sigma2_mean</td><td>▁</td></tr><tr><td>sigma2_min</td><td>▁</td></tr><tr><td>sigma2_max</td><td>▁</td></tr><tr><td>_step</td><td>▁</td></tr><tr><td>_runtime</td><td>▁</td></tr><tr><td>_timestamp</td><td>▁</td></tr></table><br/>"
      ],
      "text/plain": [
       "<IPython.core.display.HTML object>"
      ]
     },
     "metadata": {},
     "output_type": "display_data"
    },
    {
     "data": {
      "text/html": [
       "Synced 5 W&B file(s), 0 media file(s), 0 artifact file(s) and 0 other file(s)"
      ],
      "text/plain": [
       "<IPython.core.display.HTML object>"
      ]
     },
     "metadata": {},
     "output_type": "display_data"
    },
    {
     "data": {
      "text/html": [
       "\n",
       "                    <br/>Synced <strong style=\"color:#cdcd00\">magic-sweep-14</strong>: <a href=\"https://wandb.ai/christianml/quadtree/runs/zfh3viff\" target=\"_blank\">https://wandb.ai/christianml/quadtree/runs/zfh3viff</a><br/>\n",
       "                "
      ],
      "text/plain": [
       "<IPython.core.display.HTML object>"
      ]
     },
     "metadata": {},
     "output_type": "display_data"
    },
    {
     "name": "stderr",
     "output_type": "stream",
     "text": [
      "wandb: Agent Starting Run: dq3n2qfi with config:\n",
      "wandb: \tcrossCheck: False\n",
      "wandb: \tflann: False\n",
      "wandb: \timage_type: Cyto\n",
      "wandb: \tmaxFeatures: 768\n",
      "wandb: \tmethod: sift\n",
      "wandb: \tratio: 0.4\n",
      "wandb: \tsource_scanner: Aperio\n",
      "wandb: \ttarget_depth: 0\n",
      "wandb: \tthumbnail_size: [1024, 1024]\n",
      "wandb: \tuse_gray: True\n",
      "Failed to query for notebook name, you can set it manually with the WANDB_NOTEBOOK_NAME environment variable\n"
     ]
    },
    {
     "data": {
      "text/html": [
       "\n",
       "                Tracking run with wandb version 0.10.14<br/>\n",
       "                Syncing run <strong style=\"color:#cdcd00\">colorful-sweep-15</strong> to <a href=\"https://wandb.ai\" target=\"_blank\">Weights & Biases</a> <a href=\"https://docs.wandb.com/integrations/jupyter.html\" target=\"_blank\">(Documentation)</a>.<br/>\n",
       "                Project page: <a href=\"https://wandb.ai/christianml/quadtree\" target=\"_blank\">https://wandb.ai/christianml/quadtree</a><br/>\n",
       "                Sweep page: <a href=\"https://wandb.ai/christianml/quadtree/sweeps/hy4huvzx\" target=\"_blank\">https://wandb.ai/christianml/quadtree/sweeps/hy4huvzx</a><br/>\n",
       "Run page: <a href=\"https://wandb.ai/christianml/quadtree/runs/dq3n2qfi\" target=\"_blank\">https://wandb.ai/christianml/quadtree/runs/dq3n2qfi</a><br/>\n",
       "                Run data is saved locally in <code>D:\\ProgProjekte\\Python\\EIPH_WSI\\MIDL2021\\Registration\\WandB\\wandb\\run-20210124_215943-dq3n2qfi</code><br/><br/>\n",
       "            "
      ],
      "text/plain": [
       "<IPython.core.display.HTML object>"
      ]
     },
     "metadata": {},
     "output_type": "display_data"
    },
    {
     "name": "stderr",
     "output_type": "stream",
     "text": [
      "  0%|                                                                                            | 0/5 [00:00<?, ?it/s]\n",
      "  0%|                                                                                            | 0/4 [00:00<?, ?it/s]\u001b[A\n",
      " 25%|█████████████████████                                                               | 1/4 [00:01<00:05,  1.83s/it]\u001b[A\n",
      " 50%|██████████████████████████████████████████                                          | 2/4 [00:04<00:04,  2.17s/it]\u001b[A\n",
      " 75%|███████████████████████████████████████████████████████████████                     | 3/4 [00:06<00:02,  2.11s/it]\u001b[A\n",
      "100%|████████████████████████████████████████████████████████████████████████████████████| 4/4 [00:08<00:00,  2.18s/it]\u001b[A\n",
      " 20%|████████████████▊                                                                   | 1/5 [00:08<00:34,  8.73s/it]\n",
      "  0%|                                                                                            | 0/4 [00:00<?, ?it/s]\u001b[A\n",
      " 25%|█████████████████████                                                               | 1/4 [00:01<00:05,  1.77s/it]\u001b[A\n",
      " 50%|██████████████████████████████████████████                                          | 2/4 [00:04<00:04,  2.06s/it]\u001b[A\n",
      " 75%|███████████████████████████████████████████████████████████████                     | 3/4 [00:06<00:02,  2.02s/it]\u001b[A\n",
      "100%|████████████████████████████████████████████████████████████████████████████████████| 4/4 [00:08<00:00,  2.02s/it]\u001b[A\n",
      " 40%|█████████████████████████████████▌                                                  | 2/5 [00:16<00:25,  8.54s/it]\n",
      "  0%|                                                                                            | 0/4 [00:00<?, ?it/s]\u001b[A\n",
      " 25%|█████████████████████                                                               | 1/4 [00:01<00:05,  1.99s/it]\u001b[A\n",
      " 50%|██████████████████████████████████████████                                          | 2/4 [00:05<00:04,  2.44s/it]\u001b[A\n",
      " 75%|███████████████████████████████████████████████████████████████                     | 3/4 [00:08<00:02,  2.52s/it]\u001b[A\n",
      "100%|████████████████████████████████████████████████████████████████████████████████████| 4/4 [00:09<00:00,  2.41s/it]\u001b[A\n",
      " 60%|██████████████████████████████████████████████████▍                                 | 3/5 [00:26<00:17,  8.87s/it]\n",
      "  0%|                                                                                            | 0/4 [00:01<?, ?it/s]\u001b[A\n",
      " 60%|██████████████████████████████████████████████████▍                                 | 3/5 [00:28<00:18,  9.49s/it]\n"
     ]
    },
    {
     "data": {
      "text/html": [
       "<br/>Waiting for W&B process to finish, PID 27172<br/>Program failed with code 1.  Press ctrl-c to abort syncing."
      ],
      "text/plain": [
       "<IPython.core.display.HTML object>"
      ]
     },
     "metadata": {},
     "output_type": "display_data"
    },
    {
     "data": {
      "application/vnd.jupyter.widget-view+json": {
       "model_id": "",
       "version_major": 2,
       "version_minor": 0
      },
      "text/plain": [
       "VBox(children=(Label(value=' 0.00MB of 0.00MB uploaded (0.00MB deduped)\\r'), FloatProgress(value=1.0, max=1.0)…"
      ]
     },
     "metadata": {},
     "output_type": "display_data"
    },
    {
     "data": {
      "text/html": [
       "Find user logs for this run at: <code>D:\\ProgProjekte\\Python\\EIPH_WSI\\MIDL2021\\Registration\\WandB\\wandb\\run-20210124_215943-dq3n2qfi\\logs\\debug.log</code>"
      ],
      "text/plain": [
       "<IPython.core.display.HTML object>"
      ]
     },
     "metadata": {},
     "output_type": "display_data"
    },
    {
     "data": {
      "text/html": [
       "Find internal logs for this run at: <code>D:\\ProgProjekte\\Python\\EIPH_WSI\\MIDL2021\\Registration\\WandB\\wandb\\run-20210124_215943-dq3n2qfi\\logs\\debug-internal.log</code>"
      ],
      "text/plain": [
       "<IPython.core.display.HTML object>"
      ]
     },
     "metadata": {},
     "output_type": "display_data"
    },
    {
     "data": {
      "text/html": [
       "Synced 5 W&B file(s), 0 media file(s), 0 artifact file(s) and 0 other file(s)"
      ],
      "text/plain": [
       "<IPython.core.display.HTML object>"
      ]
     },
     "metadata": {},
     "output_type": "display_data"
    },
    {
     "data": {
      "text/html": [
       "\n",
       "                    <br/>Synced <strong style=\"color:#cdcd00\">colorful-sweep-15</strong>: <a href=\"https://wandb.ai/christianml/quadtree/runs/dq3n2qfi\" target=\"_blank\">https://wandb.ai/christianml/quadtree/runs/dq3n2qfi</a><br/>\n",
       "                "
      ],
      "text/plain": [
       "<IPython.core.display.HTML object>"
      ]
     },
     "metadata": {},
     "output_type": "display_data"
    },
    {
     "name": "stderr",
     "output_type": "stream",
     "text": [
      "Run dq3n2qfi errored: ValueError('Expected n_neighbors > 0. Got 0',)\n",
      "wandb: ERROR Run dq3n2qfi errored: ValueError('Expected n_neighbors > 0. Got 0',)\n",
      "wandb: Agent Starting Run: 9z4goxec with config:\n",
      "wandb: \tcrossCheck: False\n",
      "wandb: \tflann: True\n",
      "wandb: \timage_type: Cyto\n",
      "wandb: \tmaxFeatures: 768\n",
      "wandb: \tmethod: sift\n",
      "wandb: \tratio: 0.6\n",
      "wandb: \tsource_scanner: Aperio\n",
      "wandb: \ttarget_depth: 0\n",
      "wandb: \tthumbnail_size: [8192, 8192]\n",
      "wandb: \tuse_gray: True\n",
      "Failed to query for notebook name, you can set it manually with the WANDB_NOTEBOOK_NAME environment variable\n"
     ]
    },
    {
     "data": {
      "text/html": [
       "\n",
       "                Tracking run with wandb version 0.10.14<br/>\n",
       "                Syncing run <strong style=\"color:#cdcd00\">hardy-sweep-16</strong> to <a href=\"https://wandb.ai\" target=\"_blank\">Weights & Biases</a> <a href=\"https://docs.wandb.com/integrations/jupyter.html\" target=\"_blank\">(Documentation)</a>.<br/>\n",
       "                Project page: <a href=\"https://wandb.ai/christianml/quadtree\" target=\"_blank\">https://wandb.ai/christianml/quadtree</a><br/>\n",
       "                Sweep page: <a href=\"https://wandb.ai/christianml/quadtree/sweeps/hy4huvzx\" target=\"_blank\">https://wandb.ai/christianml/quadtree/sweeps/hy4huvzx</a><br/>\n",
       "Run page: <a href=\"https://wandb.ai/christianml/quadtree/runs/9z4goxec\" target=\"_blank\">https://wandb.ai/christianml/quadtree/runs/9z4goxec</a><br/>\n",
       "                Run data is saved locally in <code>D:\\ProgProjekte\\Python\\EIPH_WSI\\MIDL2021\\Registration\\WandB\\wandb\\run-20210124_220020-9z4goxec</code><br/><br/>\n",
       "            "
      ],
      "text/plain": [
       "<IPython.core.display.HTML object>"
      ]
     },
     "metadata": {},
     "output_type": "display_data"
    },
    {
     "name": "stderr",
     "output_type": "stream",
     "text": [
      "  0%|                                                                                            | 0/5 [00:00<?, ?it/s]\n",
      "  0%|                                                                                            | 0/4 [00:00<?, ?it/s]\u001b[A\n",
      " 25%|████████████████████▊                                                              | 1/4 [01:56<05:50, 116.82s/it]\u001b[A\n",
      " 50%|█████████████████████████████████████████▌                                         | 2/4 [05:54<05:06, 153.04s/it]\u001b[A\n",
      " 75%|██████████████████████████████████████████████████████████████▎                    | 3/4 [08:25<02:32, 152.35s/it]\u001b[A\n",
      "100%|███████████████████████████████████████████████████████████████████████████████████| 4/4 [10:56<00:00, 164.05s/it]\u001b[A\n",
      " 20%|████████████████▌                                                                  | 1/5 [10:56<43:44, 656.22s/it]\n",
      "  0%|                                                                                            | 0/4 [00:00<?, ?it/s]\u001b[A\n",
      " 25%|█████████████████████                                                               | 1/4 [00:22<01:07, 22.62s/it]\u001b[A\n",
      " 50%|██████████████████████████████████████████                                          | 2/4 [00:52<00:49, 24.82s/it]\u001b[A\n",
      " 75%|███████████████████████████████████████████████████████████████                     | 3/4 [01:32<00:29, 29.42s/it]\u001b[A\n",
      "100%|████████████████████████████████████████████████████████████████████████████████████| 4/4 [02:01<00:00, 30.29s/it]\u001b[A\n",
      " 40%|█████████████████████████████████▏                                                 | 2/5 [12:57<24:47, 495.70s/it]\n",
      "  0%|                                                                                            | 0/4 [00:00<?, ?it/s]\u001b[A\n",
      " 25%|████████████████████▊                                                              | 1/4 [04:14<12:42, 254.00s/it]\u001b[A\n",
      " 40%|█████████████████████████████████▏                                                 | 2/5 [17:11<25:47, 515.70s/it]\n"
     ]
    },
    {
     "data": {
      "text/html": [
       "<br/>Waiting for W&B process to finish, PID 24148<br/>Program failed with code 1.  Press ctrl-c to abort syncing."
      ],
      "text/plain": [
       "<IPython.core.display.HTML object>"
      ]
     },
     "metadata": {},
     "output_type": "display_data"
    },
    {
     "data": {
      "application/vnd.jupyter.widget-view+json": {
       "model_id": "",
       "version_major": 2,
       "version_minor": 0
      },
      "text/plain": [
       "VBox(children=(Label(value=' 0.00MB of 0.00MB uploaded (0.00MB deduped)\\r'), FloatProgress(value=1.0, max=1.0)…"
      ]
     },
     "metadata": {},
     "output_type": "display_data"
    },
    {
     "data": {
      "text/html": [
       "Find user logs for this run at: <code>D:\\ProgProjekte\\Python\\EIPH_WSI\\MIDL2021\\Registration\\WandB\\wandb\\run-20210124_220020-9z4goxec\\logs\\debug.log</code>"
      ],
      "text/plain": [
       "<IPython.core.display.HTML object>"
      ]
     },
     "metadata": {},
     "output_type": "display_data"
    },
    {
     "data": {
      "text/html": [
       "Find internal logs for this run at: <code>D:\\ProgProjekte\\Python\\EIPH_WSI\\MIDL2021\\Registration\\WandB\\wandb\\run-20210124_220020-9z4goxec\\logs\\debug-internal.log</code>"
      ],
      "text/plain": [
       "<IPython.core.display.HTML object>"
      ]
     },
     "metadata": {},
     "output_type": "display_data"
    },
    {
     "data": {
      "text/html": [
       "Synced 5 W&B file(s), 0 media file(s), 0 artifact file(s) and 0 other file(s)"
      ],
      "text/plain": [
       "<IPython.core.display.HTML object>"
      ]
     },
     "metadata": {},
     "output_type": "display_data"
    },
    {
     "data": {
      "text/html": [
       "\n",
       "                    <br/>Synced <strong style=\"color:#cdcd00\">hardy-sweep-16</strong>: <a href=\"https://wandb.ai/christianml/quadtree/runs/9z4goxec\" target=\"_blank\">https://wandb.ai/christianml/quadtree/runs/9z4goxec</a><br/>\n",
       "                "
      ],
      "text/plain": [
       "<IPython.core.display.HTML object>"
      ]
     },
     "metadata": {},
     "output_type": "display_data"
    },
    {
     "name": "stderr",
     "output_type": "stream",
     "text": [
      "Run 9z4goxec errored: MemoryError()\n",
      "wandb: ERROR Run 9z4goxec errored: MemoryError()\n",
      "wandb: Agent Starting Run: iyed0phq with config:\n",
      "wandb: \tcrossCheck: False\n",
      "wandb: \tflann: False\n",
      "wandb: \timage_type: Cyto\n",
      "wandb: \tmaxFeatures: 512\n",
      "wandb: \tmethod: sift\n",
      "wandb: \tratio: 0.7\n",
      "wandb: \tsource_scanner: Aperio\n",
      "wandb: \ttarget_depth: 0\n",
      "wandb: \tthumbnail_size: [8192, 8192]\n",
      "wandb: \tuse_gray: False\n",
      "Failed to query for notebook name, you can set it manually with the WANDB_NOTEBOOK_NAME environment variable\n"
     ]
    },
    {
     "data": {
      "text/html": [
       "\n",
       "                Tracking run with wandb version 0.10.14<br/>\n",
       "                Syncing run <strong style=\"color:#cdcd00\">zany-sweep-17</strong> to <a href=\"https://wandb.ai\" target=\"_blank\">Weights & Biases</a> <a href=\"https://docs.wandb.com/integrations/jupyter.html\" target=\"_blank\">(Documentation)</a>.<br/>\n",
       "                Project page: <a href=\"https://wandb.ai/christianml/quadtree\" target=\"_blank\">https://wandb.ai/christianml/quadtree</a><br/>\n",
       "                Sweep page: <a href=\"https://wandb.ai/christianml/quadtree/sweeps/hy4huvzx\" target=\"_blank\">https://wandb.ai/christianml/quadtree/sweeps/hy4huvzx</a><br/>\n",
       "Run page: <a href=\"https://wandb.ai/christianml/quadtree/runs/iyed0phq\" target=\"_blank\">https://wandb.ai/christianml/quadtree/runs/iyed0phq</a><br/>\n",
       "                Run data is saved locally in <code>D:\\ProgProjekte\\Python\\EIPH_WSI\\MIDL2021\\Registration\\WandB\\wandb\\run-20210124_221741-iyed0phq</code><br/><br/>\n",
       "            "
      ],
      "text/plain": [
       "<IPython.core.display.HTML object>"
      ]
     },
     "metadata": {},
     "output_type": "display_data"
    },
    {
     "name": "stderr",
     "output_type": "stream",
     "text": [
      "  0%|                                                                                            | 0/5 [00:00<?, ?it/s]\n",
      "  0%|                                                                                            | 0/4 [02:04<?, ?it/s]\u001b[A\n",
      "  0%|                                                                                            | 0/5 [02:04<?, ?it/s]\n"
     ]
    },
    {
     "data": {
      "text/html": [
       "<br/>Waiting for W&B process to finish, PID 25096<br/>Program failed with code 1.  Press ctrl-c to abort syncing."
      ],
      "text/plain": [
       "<IPython.core.display.HTML object>"
      ]
     },
     "metadata": {},
     "output_type": "display_data"
    },
    {
     "data": {
      "application/vnd.jupyter.widget-view+json": {
       "model_id": "",
       "version_major": 2,
       "version_minor": 0
      },
      "text/plain": [
       "VBox(children=(Label(value=' 0.00MB of 0.00MB uploaded (0.00MB deduped)\\r'), FloatProgress(value=1.0, max=1.0)…"
      ]
     },
     "metadata": {},
     "output_type": "display_data"
    },
    {
     "data": {
      "text/html": [
       "Find user logs for this run at: <code>D:\\ProgProjekte\\Python\\EIPH_WSI\\MIDL2021\\Registration\\WandB\\wandb\\run-20210124_221741-iyed0phq\\logs\\debug.log</code>"
      ],
      "text/plain": [
       "<IPython.core.display.HTML object>"
      ]
     },
     "metadata": {},
     "output_type": "display_data"
    },
    {
     "data": {
      "text/html": [
       "Find internal logs for this run at: <code>D:\\ProgProjekte\\Python\\EIPH_WSI\\MIDL2021\\Registration\\WandB\\wandb\\run-20210124_221741-iyed0phq\\logs\\debug-internal.log</code>"
      ],
      "text/plain": [
       "<IPython.core.display.HTML object>"
      ]
     },
     "metadata": {},
     "output_type": "display_data"
    },
    {
     "data": {
      "text/html": [
       "Synced 5 W&B file(s), 0 media file(s), 0 artifact file(s) and 0 other file(s)"
      ],
      "text/plain": [
       "<IPython.core.display.HTML object>"
      ]
     },
     "metadata": {},
     "output_type": "display_data"
    },
    {
     "data": {
      "text/html": [
       "\n",
       "                    <br/>Synced <strong style=\"color:#cdcd00\">zany-sweep-17</strong>: <a href=\"https://wandb.ai/christianml/quadtree/runs/iyed0phq\" target=\"_blank\">https://wandb.ai/christianml/quadtree/runs/iyed0phq</a><br/>\n",
       "                "
      ],
      "text/plain": [
       "<IPython.core.display.HTML object>"
      ]
     },
     "metadata": {},
     "output_type": "display_data"
    },
    {
     "name": "stderr",
     "output_type": "stream",
     "text": [
      "Run iyed0phq errored: MemoryError()\n",
      "wandb: ERROR Run iyed0phq errored: MemoryError()\n",
      "wandb: Agent Starting Run: j7arw4ji with config:\n",
      "wandb: \tcrossCheck: False\n",
      "wandb: \tflann: True\n",
      "wandb: \timage_type: Cyto\n",
      "wandb: \tmaxFeatures: 1024\n",
      "wandb: \tmethod: orb\n",
      "wandb: \tratio: 0.4\n",
      "wandb: \tsource_scanner: Aperio\n",
      "wandb: \ttarget_depth: 0\n",
      "wandb: \tthumbnail_size: [1024, 1024]\n",
      "wandb: \tuse_gray: True\n",
      "Failed to query for notebook name, you can set it manually with the WANDB_NOTEBOOK_NAME environment variable\n"
     ]
    },
    {
     "data": {
      "text/html": [
       "\n",
       "                Tracking run with wandb version 0.10.14<br/>\n",
       "                Syncing run <strong style=\"color:#cdcd00\">rare-sweep-18</strong> to <a href=\"https://wandb.ai\" target=\"_blank\">Weights & Biases</a> <a href=\"https://docs.wandb.com/integrations/jupyter.html\" target=\"_blank\">(Documentation)</a>.<br/>\n",
       "                Project page: <a href=\"https://wandb.ai/christianml/quadtree\" target=\"_blank\">https://wandb.ai/christianml/quadtree</a><br/>\n",
       "                Sweep page: <a href=\"https://wandb.ai/christianml/quadtree/sweeps/hy4huvzx\" target=\"_blank\">https://wandb.ai/christianml/quadtree/sweeps/hy4huvzx</a><br/>\n",
       "Run page: <a href=\"https://wandb.ai/christianml/quadtree/runs/j7arw4ji\" target=\"_blank\">https://wandb.ai/christianml/quadtree/runs/j7arw4ji</a><br/>\n",
       "                Run data is saved locally in <code>D:\\ProgProjekte\\Python\\EIPH_WSI\\MIDL2021\\Registration\\WandB\\wandb\\run-20210124_221959-j7arw4ji</code><br/><br/>\n",
       "            "
      ],
      "text/plain": [
       "<IPython.core.display.HTML object>"
      ]
     },
     "metadata": {},
     "output_type": "display_data"
    },
    {
     "name": "stderr",
     "output_type": "stream",
     "text": [
      "  0%|                                                                                            | 0/5 [00:00<?, ?it/s]\n",
      "  0%|                                                                                            | 0/4 [00:00<?, ?it/s]\u001b[A\n",
      "  0%|                                                                                            | 0/5 [00:00<?, ?it/s]\n"
     ]
    },
    {
     "data": {
      "text/html": [
       "<br/>Waiting for W&B process to finish, PID 16312<br/>Program failed with code 1.  Press ctrl-c to abort syncing."
      ],
      "text/plain": [
       "<IPython.core.display.HTML object>"
      ]
     },
     "metadata": {},
     "output_type": "display_data"
    },
    {
     "data": {
      "application/vnd.jupyter.widget-view+json": {
       "model_id": "",
       "version_major": 2,
       "version_minor": 0
      },
      "text/plain": [
       "VBox(children=(Label(value=' 0.00MB of 0.00MB uploaded (0.00MB deduped)\\r'), FloatProgress(value=1.0, max=1.0)…"
      ]
     },
     "metadata": {},
     "output_type": "display_data"
    },
    {
     "data": {
      "text/html": [
       "Find user logs for this run at: <code>D:\\ProgProjekte\\Python\\EIPH_WSI\\MIDL2021\\Registration\\WandB\\wandb\\run-20210124_221959-j7arw4ji\\logs\\debug.log</code>"
      ],
      "text/plain": [
       "<IPython.core.display.HTML object>"
      ]
     },
     "metadata": {},
     "output_type": "display_data"
    },
    {
     "data": {
      "text/html": [
       "Find internal logs for this run at: <code>D:\\ProgProjekte\\Python\\EIPH_WSI\\MIDL2021\\Registration\\WandB\\wandb\\run-20210124_221959-j7arw4ji\\logs\\debug-internal.log</code>"
      ],
      "text/plain": [
       "<IPython.core.display.HTML object>"
      ]
     },
     "metadata": {},
     "output_type": "display_data"
    },
    {
     "data": {
      "text/html": [
       "Synced 5 W&B file(s), 0 media file(s), 0 artifact file(s) and 0 other file(s)"
      ],
      "text/plain": [
       "<IPython.core.display.HTML object>"
      ]
     },
     "metadata": {},
     "output_type": "display_data"
    },
    {
     "data": {
      "text/html": [
       "\n",
       "                    <br/>Synced <strong style=\"color:#cdcd00\">rare-sweep-18</strong>: <a href=\"https://wandb.ai/christianml/quadtree/runs/j7arw4ji\" target=\"_blank\">https://wandb.ai/christianml/quadtree/runs/j7arw4ji</a><br/>\n",
       "                "
      ],
      "text/plain": [
       "<IPython.core.display.HTML object>"
      ]
     },
     "metadata": {},
     "output_type": "display_data"
    },
    {
     "name": "stderr",
     "output_type": "stream",
     "text": [
      "Run j7arw4ji errored: MemoryError()\n",
      "wandb: ERROR Run j7arw4ji errored: MemoryError()\n",
      "wandb: Agent Starting Run: cbk7cha5 with config:\n",
      "wandb: \tcrossCheck: False\n",
      "wandb: \tflann: False\n",
      "wandb: \timage_type: Cyto\n",
      "wandb: \tmaxFeatures: 512\n",
      "wandb: \tmethod: orb\n",
      "wandb: \tratio: 0.7\n",
      "wandb: \tsource_scanner: Aperio\n",
      "wandb: \ttarget_depth: 0\n",
      "wandb: \tthumbnail_size: [8192, 8192]\n",
      "wandb: \tuse_gray: False\n",
      "Failed to query for notebook name, you can set it manually with the WANDB_NOTEBOOK_NAME environment variable\n"
     ]
    },
    {
     "data": {
      "text/html": [
       "\n",
       "                Tracking run with wandb version 0.10.14<br/>\n",
       "                Syncing run <strong style=\"color:#cdcd00\">deep-sweep-19</strong> to <a href=\"https://wandb.ai\" target=\"_blank\">Weights & Biases</a> <a href=\"https://docs.wandb.com/integrations/jupyter.html\" target=\"_blank\">(Documentation)</a>.<br/>\n",
       "                Project page: <a href=\"https://wandb.ai/christianml/quadtree\" target=\"_blank\">https://wandb.ai/christianml/quadtree</a><br/>\n",
       "                Sweep page: <a href=\"https://wandb.ai/christianml/quadtree/sweeps/hy4huvzx\" target=\"_blank\">https://wandb.ai/christianml/quadtree/sweeps/hy4huvzx</a><br/>\n",
       "Run page: <a href=\"https://wandb.ai/christianml/quadtree/runs/cbk7cha5\" target=\"_blank\">https://wandb.ai/christianml/quadtree/runs/cbk7cha5</a><br/>\n",
       "                Run data is saved locally in <code>D:\\ProgProjekte\\Python\\EIPH_WSI\\MIDL2021\\Registration\\WandB\\wandb\\run-20210124_222013-cbk7cha5</code><br/><br/>\n",
       "            "
      ],
      "text/plain": [
       "<IPython.core.display.HTML object>"
      ]
     },
     "metadata": {},
     "output_type": "display_data"
    },
    {
     "name": "stderr",
     "output_type": "stream",
     "text": [
      "  0%|                                                                                            | 0/5 [00:00<?, ?it/s]\n",
      "  0%|                                                                                            | 0/4 [00:00<?, ?it/s]\u001b[A\n",
      "  0%|                                                                                            | 0/5 [00:00<?, ?it/s]\n"
     ]
    },
    {
     "data": {
      "text/html": [
       "<br/>Waiting for W&B process to finish, PID 5300<br/>Program failed with code 1.  Press ctrl-c to abort syncing."
      ],
      "text/plain": [
       "<IPython.core.display.HTML object>"
      ]
     },
     "metadata": {},
     "output_type": "display_data"
    },
    {
     "data": {
      "application/vnd.jupyter.widget-view+json": {
       "model_id": "",
       "version_major": 2,
       "version_minor": 0
      },
      "text/plain": [
       "VBox(children=(Label(value=' 0.00MB of 0.00MB uploaded (0.00MB deduped)\\r'), FloatProgress(value=1.0, max=1.0)…"
      ]
     },
     "metadata": {},
     "output_type": "display_data"
    },
    {
     "data": {
      "text/html": [
       "Find user logs for this run at: <code>D:\\ProgProjekte\\Python\\EIPH_WSI\\MIDL2021\\Registration\\WandB\\wandb\\run-20210124_222013-cbk7cha5\\logs\\debug.log</code>"
      ],
      "text/plain": [
       "<IPython.core.display.HTML object>"
      ]
     },
     "metadata": {},
     "output_type": "display_data"
    },
    {
     "data": {
      "text/html": [
       "Find internal logs for this run at: <code>D:\\ProgProjekte\\Python\\EIPH_WSI\\MIDL2021\\Registration\\WandB\\wandb\\run-20210124_222013-cbk7cha5\\logs\\debug-internal.log</code>"
      ],
      "text/plain": [
       "<IPython.core.display.HTML object>"
      ]
     },
     "metadata": {},
     "output_type": "display_data"
    },
    {
     "data": {
      "text/html": [
       "Synced 5 W&B file(s), 0 media file(s), 0 artifact file(s) and 0 other file(s)"
      ],
      "text/plain": [
       "<IPython.core.display.HTML object>"
      ]
     },
     "metadata": {},
     "output_type": "display_data"
    },
    {
     "data": {
      "text/html": [
       "\n",
       "                    <br/>Synced <strong style=\"color:#cdcd00\">deep-sweep-19</strong>: <a href=\"https://wandb.ai/christianml/quadtree/runs/cbk7cha5\" target=\"_blank\">https://wandb.ai/christianml/quadtree/runs/cbk7cha5</a><br/>\n",
       "                "
      ],
      "text/plain": [
       "<IPython.core.display.HTML object>"
      ]
     },
     "metadata": {},
     "output_type": "display_data"
    },
    {
     "name": "stderr",
     "output_type": "stream",
     "text": [
      "Run cbk7cha5 errored: MemoryError()\n",
      "wandb: ERROR Run cbk7cha5 errored: MemoryError()\n",
      "wandb: Agent Starting Run: o79fl7ub with config:\n",
      "wandb: \tcrossCheck: False\n",
      "wandb: \tflann: True\n",
      "wandb: \timage_type: Cyto\n",
      "wandb: \tmaxFeatures: 2048\n",
      "wandb: \tmethod: orb\n",
      "wandb: \tratio: 0.5\n",
      "wandb: \tsource_scanner: Aperio\n",
      "wandb: \ttarget_depth: 0\n",
      "wandb: \tthumbnail_size: [2048, 2048]\n",
      "wandb: \tuse_gray: False\n",
      "Failed to query for notebook name, you can set it manually with the WANDB_NOTEBOOK_NAME environment variable\n"
     ]
    }
   ],
   "source": [
    "wandb.agent(sweep_id, train)"
   ]
  },
  {
   "cell_type": "code",
   "execution_count": null,
   "metadata": {},
   "outputs": [],
   "source": []
  }
 ],
 "metadata": {
  "kernelspec": {
   "display_name": "Python 3",
   "language": "python",
   "name": "python3"
  },
  "language_info": {
   "codemirror_mode": {
    "name": "ipython",
    "version": 3
   },
   "file_extension": ".py",
   "mimetype": "text/x-python",
   "name": "python",
   "nbconvert_exporter": "python",
   "pygments_lexer": "ipython3",
   "version": "3.6.10"
  }
 },
 "nbformat": 4,
 "nbformat_minor": 4
}
