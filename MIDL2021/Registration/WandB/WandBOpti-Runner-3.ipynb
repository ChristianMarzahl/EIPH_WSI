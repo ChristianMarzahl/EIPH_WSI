{
 "cells": [
  {
   "cell_type": "code",
   "execution_count": 1,
   "metadata": {},
   "outputs": [],
   "source": [
    "%reload_ext autoreload\n",
    "%autoreload 2\n",
    "%matplotlib inline"
   ]
  },
  {
   "cell_type": "code",
   "execution_count": 2,
   "metadata": {},
   "outputs": [],
   "source": [
    "import numpy as np\n",
    "import openslide\n",
    "from probreg import cpd\n",
    "from probreg import transformation as tf\n",
    "import cv2\n",
    "from PIL import Image\n",
    "from pathlib import Path\n",
    "import pandas as pd\n",
    "from tqdm import tqdm\n",
    "import json\n",
    "import wandb"
   ]
  },
  {
   "cell_type": "code",
   "execution_count": 3,
   "metadata": {},
   "outputs": [],
   "source": [
    "import sys\n",
    "sys.path.append(\"..\")\n",
    "from registration_tree import Rect, QuadTree"
   ]
  },
  {
   "cell_type": "code",
   "execution_count": 4,
   "metadata": {},
   "outputs": [],
   "source": [
    "def add_help_fields(frame):\n",
    "    \n",
    "    frame[\"image_name_stem\"] = [Path(image_name).stem for image_name in frame[\"image_name\"]]    \n",
    "    frame[\"patient_id\"] = [name.split(\"_\")[2] for name in frame[\"image_name\"]]\n",
    "\n",
    "    frame[\"x1\"] = [json.loads(vector.replace(\"\\'\",\"\\\"\"))['x1'] for vector in frame[\"vector\"]]\n",
    "    frame[\"y1\"] = [json.loads(vector.replace(\"\\'\",\"\\\"\"))['y1'] for vector in frame[\"vector\"]]\n",
    "\n",
    "    frame[\"x2\"] = [json.loads(vector.replace(\"\\'\",\"\\\"\"))['x2'] for vector in frame[\"vector\"]]\n",
    "    frame[\"y2\"] = [json.loads(vector.replace(\"\\'\",\"\\\"\"))['y2'] for vector in frame[\"vector\"]]\n",
    "\n",
    "    frame[\"center_x\"] = [x1 + ((x2-x1) / 2) for x1, x2 in zip(frame[\"x1\"], frame[\"x2\"])]\n",
    "    frame[\"center_y\"] = [y1 + ((y2-y1) / 2) for y1, y2 in zip(frame[\"y1\"], frame[\"y2\"])]\n",
    "    \n",
    "    frame[\"center\"] = [np.array((center_x, center_y)) for center_x, center_y in zip(frame[\"center_x\"], frame[\"center_y\"])]\n",
    "\n",
    "    frame[\"anno_width\"] = [x2-x1 for x1, x2 in zip(frame[\"x1\"], frame[\"x2\"])]\n",
    "    frame[\"anno_height\"]= [y2-y1 for y1, y2 in zip(frame[\"y1\"], frame[\"y2\"])]\n",
    "    \n",
    "    return frame"
   ]
  },
  {
   "cell_type": "code",
   "execution_count": 5,
   "metadata": {},
   "outputs": [],
   "source": [
    "folder = Path(\"..\")\n",
    "\n",
    "slide_folder = Path(\"D:/Datasets/ScannerStudy\")\n",
    "if slide_folder.exists() == False:\n",
    "    slide_folder = Path(\"/data/ScannerStudy\")\n",
    "if slide_folder.exists() == False:\n",
    "    slide_folder = Path(\"/mnt/d/Datasets/ScannerStudy\")\n",
    "if slide_folder.exists() == False:\n",
    "    slide_folder = Path(\"/data/ScannerStudy\")\n",
    "    \n",
    "slide_files = {path.name: path for path in slide_folder.glob(\"*/*/*.*\")}"
   ]
  },
  {
   "cell_type": "code",
   "execution_count": 6,
   "metadata": {},
   "outputs": [],
   "source": [
    "def train(config=None):\n",
    "    \n",
    "    # Initialize a new wandb run\n",
    "    with wandb.init(config=config):\n",
    "        # If called by wandb.agent, as below,\n",
    "        # this config will be set by Sweep Controller\n",
    "        config = wandb.config\n",
    "        \n",
    "        annotations = add_help_fields(pd.read_csv(folder / \"Validation/GT.csv\"))\n",
    "        annotations = annotations[annotations[\"image_type\"] == config.image_type]\n",
    "        \n",
    "        source_scanner_annotations = annotations[annotations[\"scanner\"] == config.source_scanner]\n",
    "    \n",
    "        dist_list, q_list, sigma2_list = [], [], []\n",
    "                        \n",
    "        step = 0\n",
    "        for patient_id in tqdm(source_scanner_annotations[\"patient_id\"].unique()):\n",
    "\n",
    "            source_annos = source_scanner_annotations[source_scanner_annotations[\"patient_id\"] == patient_id]\n",
    "            source_anno = source_annos.iloc[0]\n",
    "\n",
    "            target_patient_annotations = annotations[annotations[\"patient_id\"] == patient_id]\n",
    "\n",
    "            for target_image_name in tqdm(target_patient_annotations[\"image_name\"].unique()):\n",
    "                image_dist_list = []\n",
    "\n",
    "                target_annos = target_patient_annotations[target_patient_annotations[\"image_name\"] == target_image_name]\n",
    "                target_anno = target_annos.iloc[0]\n",
    "                \n",
    "                if source_anno.scanner == taret_anno.scanner:\n",
    "                    continue\n",
    "\n",
    "                source_slide = openslide.OpenSlide(str(slide_files[source_anno.image_name]))\n",
    "                target_slide = openslide.OpenSlide(str(slide_files[target_anno.image_name]))\n",
    "\n",
    "                source_dimension = Rect.create(Rect, 0, 0, source_slide.dimensions[0], source_slide.dimensions[1])\n",
    "                target_dimension = Rect.create(Rect, 0, 0, target_slide.dimensions[0], target_slide.dimensions[1])\n",
    "\n",
    "\n",
    "                qtree = QuadTree(source_dimension, source_slide, target_dimension, target_slide, debug=False, **config)\n",
    "                                  \n",
    "                q_list.append(qtree.q)\n",
    "                sigma2_list.append(qtree.sigma2)\n",
    "                \n",
    "                intersections = list(set(source_annos[\"type_name\"]).intersection(target_annos[\"type_name\"]))\n",
    "                \n",
    "                for type_name in intersections:\n",
    "\n",
    "                    source_anno = source_annos[source_annos[\"type_name\"] == type_name].iloc[0]\n",
    "                    target_anno = target_annos[target_annos[\"type_name\"] == type_name].iloc[0]\n",
    "\n",
    "                    box = [source_anno.center_x, source_anno.center_y, source_anno.anno_width, source_anno.anno_height]\n",
    "                    target_box = [target_anno.center_x, target_anno.center_y, target_anno.anno_width, target_anno.anno_height]\n",
    "\n",
    "                    trans_box = qtree.transform_boxes(np.array([box]))[0]\n",
    "\n",
    "                    distance = np.linalg.norm(target_box[:2]-trans_box[:2])\n",
    "\n",
    "                    dist_list.append(distance)\n",
    "                    image_dist_list.append(distance)\n",
    "                    \n",
    "                image_dist_list = np.array(image_dist_list)\n",
    "                wandb.log({\n",
    "                    \"dist_mean_image\": image_dist_list.mean(),\n",
    "                    \"dist_mean_image\": image_dist_list.min(),\n",
    "                    \"dist_mean_image\": image_dist_list.max(),\n",
    "                    \"step\": step,\n",
    "                })\n",
    "                \n",
    "                step += 1\n",
    "        \n",
    "        dist_list, q_list, sigma2_list = np.array(dist_list), np.array(q_list), np.array(sigma2_list)\n",
    "        \n",
    "        wandb.log({\n",
    "            \"dist_mean\": dist_list.mean(),\n",
    "            \"dist_min\": dist_list.min(),\n",
    "            \"dist_max\": dist_list.max(),\n",
    "            \n",
    "            \"q_mean\": q_list.mean(),\n",
    "            \"q_min\": q_list.min(),\n",
    "            \"q_max\": q_list.max(),\n",
    "            \n",
    "            \"sigma2_mean\": sigma2_list.mean(),\n",
    "            \"sigma2_min\": sigma2_list.min(),\n",
    "            \"sigma2_max\": sigma2_list.max(),\n",
    "        })"
   ]
  },
  {
   "cell_type": "code",
   "execution_count": 7,
   "metadata": {},
   "outputs": [],
   "source": [
    "sweep_id = \"jbgxjz4o\""
   ]
  },
  {
   "cell_type": "code",
   "execution_count": 8,
   "metadata": {
    "scrolled": false
   },
   "outputs": [
    {
     "name": "stderr",
     "output_type": "stream",
     "text": [
      "INFO - 2021-01-25 22:33:56,429 - pyagent - Starting sweep agent: entity=None, project=quadtree, count=None\n",
      "\u001b[34m\u001b[1mwandb\u001b[0m: Agent Starting Run: zqfkoisk with config:\n",
      "\u001b[34m\u001b[1mwandb\u001b[0m: \tcrossCheck: False\n",
      "\u001b[34m\u001b[1mwandb\u001b[0m: \tfilter_outliner: False\n",
      "\u001b[34m\u001b[1mwandb\u001b[0m: \tflann: True\n",
      "\u001b[34m\u001b[1mwandb\u001b[0m: \thomography: True\n",
      "\u001b[34m\u001b[1mwandb\u001b[0m: \timage_type: Cyto\n",
      "\u001b[34m\u001b[1mwandb\u001b[0m: \tmaxFeatures: 128\n",
      "\u001b[34m\u001b[1mwandb\u001b[0m: \tpoint_extractor: sift\n",
      "\u001b[34m\u001b[1mwandb\u001b[0m: \tratio: 0.7\n",
      "\u001b[34m\u001b[1mwandb\u001b[0m: \tsource_scanner: Aperio\n",
      "\u001b[34m\u001b[1mwandb\u001b[0m: \ttarget_depth: 0\n",
      "\u001b[34m\u001b[1mwandb\u001b[0m: \tthumbnail_size: [2048, 2048]\n",
      "\u001b[34m\u001b[1mwandb\u001b[0m: \tuse_gray: True\n",
      "\u001b[34m\u001b[1mwandb\u001b[0m: Currently logged in as: \u001b[33mchristianml\u001b[0m (use `wandb login --relogin` to force relogin)\n"
     ]
    },
    {
     "data": {
      "text/html": [
       "\n",
       "                Tracking run with wandb version 0.10.15<br/>\n",
       "                Syncing run <strong style=\"color:#cdcd00\">sandy-sweep-8</strong> to <a href=\"https://wandb.ai\" target=\"_blank\">Weights & Biases</a> <a href=\"https://docs.wandb.com/integrations/jupyter.html\" target=\"_blank\">(Documentation)</a>.<br/>\n",
       "                Project page: <a href=\"https://wandb.ai/christianml/quadtree\" target=\"_blank\">https://wandb.ai/christianml/quadtree</a><br/>\n",
       "                Sweep page: <a href=\"https://wandb.ai/christianml/quadtree/sweeps/jbgxjz4o\" target=\"_blank\">https://wandb.ai/christianml/quadtree/sweeps/jbgxjz4o</a><br/>\n",
       "Run page: <a href=\"https://wandb.ai/christianml/quadtree/runs/zqfkoisk\" target=\"_blank\">https://wandb.ai/christianml/quadtree/runs/zqfkoisk</a><br/>\n",
       "                Run data is saved locally in <code>/home/bronzi/ProgProjekte/EIPH_WSI/MIDL2021/Registration/WandB/wandb/run-20210125_223357-zqfkoisk</code><br/><br/>\n",
       "            "
      ],
      "text/plain": [
       "<IPython.core.display.HTML object>"
      ]
     },
     "metadata": {},
     "output_type": "display_data"
    },
    {
     "name": "stderr",
     "output_type": "stream",
     "text": [
      "  0%|          | 0/5 [00:00<?, ?it/s]\n",
      "  0%|          | 0/4 [00:00<?, ?it/s]\u001b[A\n",
      " 25%|██▌       | 1/4 [00:08<00:24,  8.01s/it]\u001b[A\n",
      " 50%|█████     | 2/4 [00:20<00:21, 10.83s/it]\u001b[A\n",
      " 75%|███████▌  | 3/4 [00:28<00:09,  9.46s/it]\u001b[A\n",
      "100%|██████████| 4/4 [00:36<00:00,  9.06s/it]\u001b[A\n",
      " 20%|██        | 1/5 [00:36<02:25, 36.26s/it]\n",
      "  0%|          | 0/4 [00:00<?, ?it/s]\u001b[A\n",
      " 25%|██▌       | 1/4 [00:01<00:05,  1.71s/it]\u001b[A\n",
      " 50%|█████     | 2/4 [00:03<00:03,  1.81s/it]\u001b[A\n",
      " 75%|███████▌  | 3/4 [00:05<00:02,  2.03s/it]\u001b[A\n",
      "100%|██████████| 4/4 [00:07<00:00,  1.83s/it]\u001b[A\n",
      " 40%|████      | 2/5 [00:43<00:57, 19.24s/it]\n",
      "  0%|          | 0/4 [00:00<?, ?it/s]\u001b[A\n",
      " 25%|██▌       | 1/4 [00:09<00:28,  9.41s/it]\u001b[A\n",
      " 50%|█████     | 2/4 [00:25<00:27, 13.61s/it]\u001b[A\n",
      " 75%|███████▌  | 3/4 [00:36<00:12, 12.28s/it]\u001b[A\n",
      "100%|██████████| 4/4 [00:46<00:00, 11.68s/it]\u001b[A\n",
      " 60%|██████    | 3/5 [01:30<01:03, 31.79s/it]\n",
      "  0%|          | 0/4 [00:00<?, ?it/s]\u001b[A\n",
      " 25%|██▌       | 1/4 [00:01<00:05,  1.90s/it]\u001b[A\n",
      " 50%|█████     | 2/4 [00:03<00:03,  1.77s/it]\u001b[A\n",
      " 75%|███████▌  | 3/4 [00:06<00:02,  2.14s/it]\u001b[A\n",
      "100%|██████████| 4/4 [00:07<00:00,  1.93s/it]\u001b[A\n",
      " 80%|████████  | 4/5 [01:38<00:22, 22.30s/it]\n",
      "  0%|          | 0/4 [00:00<?, ?it/s]\u001b[A\n",
      " 25%|██▌       | 1/4 [00:08<00:26,  8.82s/it]\u001b[A\n",
      " 50%|█████     | 2/4 [00:23<00:24, 12.39s/it]\u001b[A\n",
      " 75%|███████▌  | 3/4 [00:32<00:10, 10.65s/it]\u001b[A\n",
      "100%|██████████| 4/4 [00:46<00:00, 11.65s/it]\u001b[A\n",
      "100%|██████████| 5/5 [02:24<00:00, 28.94s/it]\n"
     ]
    },
    {
     "data": {
      "text/html": [
       "<br/>Waiting for W&B process to finish, PID 828<br/>Program ended successfully."
      ],
      "text/plain": [
       "<IPython.core.display.HTML object>"
      ]
     },
     "metadata": {},
     "output_type": "display_data"
    },
    {
     "data": {
      "application/vnd.jupyter.widget-view+json": {
       "model_id": "",
       "version_major": 2,
       "version_minor": 0
      },
      "text/plain": [
       "VBox(children=(Label(value=' 0.00MB of 0.00MB uploaded (0.00MB deduped)\\r'), FloatProgress(value=1.0, max=1.0)…"
      ]
     },
     "metadata": {},
     "output_type": "display_data"
    },
    {
     "data": {
      "text/html": [
       "Find user logs for this run at: <code>/home/bronzi/ProgProjekte/EIPH_WSI/MIDL2021/Registration/WandB/wandb/run-20210125_223357-zqfkoisk/logs/debug.log</code>"
      ],
      "text/plain": [
       "<IPython.core.display.HTML object>"
      ]
     },
     "metadata": {},
     "output_type": "display_data"
    },
    {
     "data": {
      "text/html": [
       "Find internal logs for this run at: <code>/home/bronzi/ProgProjekte/EIPH_WSI/MIDL2021/Registration/WandB/wandb/run-20210125_223357-zqfkoisk/logs/debug-internal.log</code>"
      ],
      "text/plain": [
       "<IPython.core.display.HTML object>"
      ]
     },
     "metadata": {},
     "output_type": "display_data"
    },
    {
     "data": {
      "text/html": [
       "<h3>Run summary:</h3><br/><style>\n",
       "    table.wandb td:nth-child(1) { padding: 0 10px; text-align: right }\n",
       "    </style><table class=\"wandb\">\n",
       "<tr><td>dist_mean_image</td><td>16.93584</td></tr><tr><td>step</td><td>19</td></tr><tr><td>_step</td><td>20</td></tr><tr><td>_runtime</td><td>145</td></tr><tr><td>_timestamp</td><td>1611610582</td></tr><tr><td>dist_mean</td><td>11.19002</td></tr><tr><td>dist_min</td><td>0.0</td></tr><tr><td>dist_max</td><td>91.68448</td></tr><tr><td>q_mean</td><td>-1.0</td></tr><tr><td>q_min</td><td>-1</td></tr><tr><td>q_max</td><td>-1</td></tr><tr><td>sigma2_mean</td><td>-1.0</td></tr><tr><td>sigma2_min</td><td>-1</td></tr><tr><td>sigma2_max</td><td>-1</td></tr></table>"
      ],
      "text/plain": [
       "<IPython.core.display.HTML object>"
      ]
     },
     "metadata": {},
     "output_type": "display_data"
    },
    {
     "data": {
      "text/html": [
       "<h3>Run history:</h3><br/><style>\n",
       "    table.wandb td:nth-child(1) { padding: 0 10px; text-align: right }\n",
       "    </style><table class=\"wandb\">\n",
       "<tr><td>dist_mean_image</td><td>▃▁▂▂▃▁▅▄▃▁▄▂▃▁█▅▂▁▄▂</td></tr><tr><td>step</td><td>▁▁▂▂▂▃▃▄▄▄▅▅▅▆▆▇▇▇██</td></tr><tr><td>_step</td><td>▁▁▂▂▂▃▃▃▄▄▅▅▅▆▆▆▇▇▇██</td></tr><tr><td>_runtime</td><td>▁▂▂▂▃▃▃▃▃▄▅▅▅▅▆▆▆▇▇██</td></tr><tr><td>_timestamp</td><td>▁▂▂▂▃▃▃▃▃▄▅▅▅▅▆▆▆▇▇██</td></tr><tr><td>dist_mean</td><td>▁</td></tr><tr><td>dist_min</td><td>▁</td></tr><tr><td>dist_max</td><td>▁</td></tr><tr><td>q_mean</td><td>▁</td></tr><tr><td>q_min</td><td>▁</td></tr><tr><td>q_max</td><td>▁</td></tr><tr><td>sigma2_mean</td><td>▁</td></tr><tr><td>sigma2_min</td><td>▁</td></tr><tr><td>sigma2_max</td><td>▁</td></tr></table><br/>"
      ],
      "text/plain": [
       "<IPython.core.display.HTML object>"
      ]
     },
     "metadata": {},
     "output_type": "display_data"
    },
    {
     "data": {
      "text/html": [
       "Synced 5 W&B file(s), 0 media file(s), 0 artifact file(s) and 0 other file(s)"
      ],
      "text/plain": [
       "<IPython.core.display.HTML object>"
      ]
     },
     "metadata": {},
     "output_type": "display_data"
    },
    {
     "data": {
      "text/html": [
       "\n",
       "                    <br/>Synced <strong style=\"color:#cdcd00\">sandy-sweep-8</strong>: <a href=\"https://wandb.ai/christianml/quadtree/runs/zqfkoisk\" target=\"_blank\">https://wandb.ai/christianml/quadtree/runs/zqfkoisk</a><br/>\n",
       "                "
      ],
      "text/plain": [
       "<IPython.core.display.HTML object>"
      ]
     },
     "metadata": {},
     "output_type": "display_data"
    },
    {
     "name": "stderr",
     "output_type": "stream",
     "text": [
      "\u001b[34m\u001b[1mwandb\u001b[0m: Agent Starting Run: 8w2slrcl with config:\n",
      "\u001b[34m\u001b[1mwandb\u001b[0m: \tcrossCheck: False\n",
      "\u001b[34m\u001b[1mwandb\u001b[0m: \tfilter_outliner: False\n",
      "\u001b[34m\u001b[1mwandb\u001b[0m: \tflann: True\n",
      "\u001b[34m\u001b[1mwandb\u001b[0m: \thomography: True\n",
      "\u001b[34m\u001b[1mwandb\u001b[0m: \timage_type: Cyto\n",
      "\u001b[34m\u001b[1mwandb\u001b[0m: \tmaxFeatures: 768\n",
      "\u001b[34m\u001b[1mwandb\u001b[0m: \tpoint_extractor: sift\n",
      "\u001b[34m\u001b[1mwandb\u001b[0m: \tratio: 0.4\n",
      "\u001b[34m\u001b[1mwandb\u001b[0m: \tsource_scanner: Aperio\n",
      "\u001b[34m\u001b[1mwandb\u001b[0m: \ttarget_depth: 0\n",
      "\u001b[34m\u001b[1mwandb\u001b[0m: \tthumbnail_size: [1024, 1024]\n",
      "\u001b[34m\u001b[1mwandb\u001b[0m: \tuse_gray: True\n"
     ]
    },
    {
     "data": {
      "text/html": [
       "\n",
       "                Tracking run with wandb version 0.10.15<br/>\n",
       "                Syncing run <strong style=\"color:#cdcd00\">clean-sweep-9</strong> to <a href=\"https://wandb.ai\" target=\"_blank\">Weights & Biases</a> <a href=\"https://docs.wandb.com/integrations/jupyter.html\" target=\"_blank\">(Documentation)</a>.<br/>\n",
       "                Project page: <a href=\"https://wandb.ai/christianml/quadtree\" target=\"_blank\">https://wandb.ai/christianml/quadtree</a><br/>\n",
       "                Sweep page: <a href=\"https://wandb.ai/christianml/quadtree/sweeps/jbgxjz4o\" target=\"_blank\">https://wandb.ai/christianml/quadtree/sweeps/jbgxjz4o</a><br/>\n",
       "Run page: <a href=\"https://wandb.ai/christianml/quadtree/runs/8w2slrcl\" target=\"_blank\">https://wandb.ai/christianml/quadtree/runs/8w2slrcl</a><br/>\n",
       "                Run data is saved locally in <code>/home/bronzi/ProgProjekte/EIPH_WSI/MIDL2021/Registration/WandB/wandb/run-20210125_223628-8w2slrcl</code><br/><br/>\n",
       "            "
      ],
      "text/plain": [
       "<IPython.core.display.HTML object>"
      ]
     },
     "metadata": {},
     "output_type": "display_data"
    },
    {
     "name": "stderr",
     "output_type": "stream",
     "text": [
      "  0%|          | 0/5 [00:00<?, ?it/s]\n",
      "  0%|          | 0/4 [00:00<?, ?it/s]\u001b[A\n",
      " 25%|██▌       | 1/4 [00:00<00:01,  1.82it/s]\u001b[A\n",
      " 50%|█████     | 2/4 [00:01<00:01,  1.42it/s]\u001b[A\n",
      " 75%|███████▌  | 3/4 [00:02<00:00,  1.07it/s]\u001b[A\n",
      "100%|██████████| 4/4 [00:03<00:00,  1.25it/s]\u001b[A\n",
      " 20%|██        | 1/5 [00:03<00:12,  3.19s/it]\n",
      "  0%|          | 0/4 [00:00<?, ?it/s]\u001b[A\n",
      " 25%|██▌       | 1/4 [00:00<00:02,  1.13it/s]\u001b[A\n",
      " 50%|█████     | 2/4 [00:01<00:01,  1.16it/s]\u001b[A\n",
      " 75%|███████▌  | 3/4 [00:03<00:01,  1.49s/it]\u001b[A\n",
      "100%|██████████| 4/4 [00:06<00:00,  1.68s/it]\u001b[A\n",
      " 40%|████      | 2/5 [00:09<00:15,  5.26s/it]\n",
      "  0%|          | 0/4 [00:00<?, ?it/s]\u001b[A\n",
      " 25%|██▌       | 1/4 [00:05<00:15,  5.08s/it]\u001b[A\n",
      " 50%|█████     | 2/4 [00:11<00:12,  6.01s/it]\u001b[A\n",
      " 75%|███████▌  | 3/4 [00:22<00:08,  8.39s/it]\u001b[A\n",
      "100%|██████████| 4/4 [00:27<00:00,  7.00s/it]\u001b[A\n",
      " 60%|██████    | 3/5 [00:37<00:31, 15.66s/it]\n",
      "  0%|          | 0/4 [00:00<?, ?it/s]\u001b[A\n",
      " 25%|██▌       | 1/4 [00:04<00:13,  4.60s/it]\u001b[A\n",
      " 50%|█████     | 2/4 [00:12<00:13,  6.76s/it]\u001b[A\n",
      " 75%|███████▌  | 3/4 [00:23<00:08,  8.37s/it]\u001b[A\n",
      "100%|██████████| 4/4 [00:27<00:00,  6.93s/it]\u001b[A\n",
      " 80%|████████  | 4/5 [01:05<00:20, 20.45s/it]\n",
      "  0%|          | 0/4 [00:00<?, ?it/s]\u001b[A\n",
      " 25%|██▌       | 1/4 [00:04<00:13,  4.57s/it]\u001b[A\n",
      " 50%|█████     | 2/4 [00:07<00:07,  3.73s/it]\u001b[A\n",
      " 75%|███████▌  | 3/4 [00:11<00:03,  3.96s/it]\u001b[A\n",
      "100%|██████████| 4/4 [00:14<00:00,  3.60s/it]\u001b[A\n",
      "100%|██████████| 5/5 [01:20<00:00, 16.04s/it]\n"
     ]
    },
    {
     "data": {
      "text/html": [
       "<br/>Waiting for W&B process to finish, PID 1375<br/>Program ended successfully."
      ],
      "text/plain": [
       "<IPython.core.display.HTML object>"
      ]
     },
     "metadata": {},
     "output_type": "display_data"
    },
    {
     "data": {
      "application/vnd.jupyter.widget-view+json": {
       "model_id": "",
       "version_major": 2,
       "version_minor": 0
      },
      "text/plain": [
       "VBox(children=(Label(value=' 0.00MB of 0.00MB uploaded (0.00MB deduped)\\r'), FloatProgress(value=1.0, max=1.0)…"
      ]
     },
     "metadata": {},
     "output_type": "display_data"
    },
    {
     "data": {
      "text/html": [
       "Find user logs for this run at: <code>/home/bronzi/ProgProjekte/EIPH_WSI/MIDL2021/Registration/WandB/wandb/run-20210125_223628-8w2slrcl/logs/debug.log</code>"
      ],
      "text/plain": [
       "<IPython.core.display.HTML object>"
      ]
     },
     "metadata": {},
     "output_type": "display_data"
    },
    {
     "data": {
      "text/html": [
       "Find internal logs for this run at: <code>/home/bronzi/ProgProjekte/EIPH_WSI/MIDL2021/Registration/WandB/wandb/run-20210125_223628-8w2slrcl/logs/debug-internal.log</code>"
      ],
      "text/plain": [
       "<IPython.core.display.HTML object>"
      ]
     },
     "metadata": {},
     "output_type": "display_data"
    },
    {
     "data": {
      "text/html": [
       "<h3>Run summary:</h3><br/><style>\n",
       "    table.wandb td:nth-child(1) { padding: 0 10px; text-align: right }\n",
       "    </style><table class=\"wandb\">\n",
       "<tr><td>dist_mean_image</td><td>76.14529</td></tr><tr><td>step</td><td>19</td></tr><tr><td>_step</td><td>20</td></tr><tr><td>_runtime</td><td>81</td></tr><tr><td>_timestamp</td><td>1611610669</td></tr><tr><td>dist_mean</td><td>8210.46327</td></tr><tr><td>dist_min</td><td>0.0</td></tr><tr><td>dist_max</td><td>311208.25673</td></tr><tr><td>q_mean</td><td>-1.0</td></tr><tr><td>q_min</td><td>-1</td></tr><tr><td>q_max</td><td>-1</td></tr><tr><td>sigma2_mean</td><td>-1.0</td></tr><tr><td>sigma2_min</td><td>-1</td></tr><tr><td>sigma2_max</td><td>-1</td></tr></table>"
      ],
      "text/plain": [
       "<IPython.core.display.HTML object>"
      ]
     },
     "metadata": {},
     "output_type": "display_data"
    },
    {
     "data": {
      "text/html": [
       "<h3>Run history:</h3><br/><style>\n",
       "    table.wandb td:nth-child(1) { padding: 0 10px; text-align: right }\n",
       "    </style><table class=\"wandb\">\n",
       "<tr><td>dist_mean_image</td><td>▁▁▁█▁▁▁▁▁▁▁▁▁▁▁▂▁▁▁▁</td></tr><tr><td>step</td><td>▁▁▂▂▂▃▃▄▄▄▅▅▅▆▆▇▇▇██</td></tr><tr><td>_step</td><td>▁▁▂▂▂▃▃▃▄▄▅▅▅▆▆▆▇▇▇██</td></tr><tr><td>_runtime</td><td>▁▁▁▁▁▁▂▂▂▃▄▄▅▅▆▇▇▇███</td></tr><tr><td>_timestamp</td><td>▁▁▁▁▁▁▂▂▂▃▄▄▅▅▆▇▇▇███</td></tr><tr><td>dist_mean</td><td>▁</td></tr><tr><td>dist_min</td><td>▁</td></tr><tr><td>dist_max</td><td>▁</td></tr><tr><td>q_mean</td><td>▁</td></tr><tr><td>q_min</td><td>▁</td></tr><tr><td>q_max</td><td>▁</td></tr><tr><td>sigma2_mean</td><td>▁</td></tr><tr><td>sigma2_min</td><td>▁</td></tr><tr><td>sigma2_max</td><td>▁</td></tr></table><br/>"
      ],
      "text/plain": [
       "<IPython.core.display.HTML object>"
      ]
     },
     "metadata": {},
     "output_type": "display_data"
    },
    {
     "data": {
      "text/html": [
       "Synced 5 W&B file(s), 0 media file(s), 0 artifact file(s) and 0 other file(s)"
      ],
      "text/plain": [
       "<IPython.core.display.HTML object>"
      ]
     },
     "metadata": {},
     "output_type": "display_data"
    },
    {
     "data": {
      "text/html": [
       "\n",
       "                    <br/>Synced <strong style=\"color:#cdcd00\">clean-sweep-9</strong>: <a href=\"https://wandb.ai/christianml/quadtree/runs/8w2slrcl\" target=\"_blank\">https://wandb.ai/christianml/quadtree/runs/8w2slrcl</a><br/>\n",
       "                "
      ],
      "text/plain": [
       "<IPython.core.display.HTML object>"
      ]
     },
     "metadata": {},
     "output_type": "display_data"
    },
    {
     "name": "stderr",
     "output_type": "stream",
     "text": [
      "\u001b[34m\u001b[1mwandb\u001b[0m: Agent Starting Run: o0gr4m1e with config:\n",
      "\u001b[34m\u001b[1mwandb\u001b[0m: \tcrossCheck: False\n",
      "\u001b[34m\u001b[1mwandb\u001b[0m: \tfilter_outliner: False\n",
      "\u001b[34m\u001b[1mwandb\u001b[0m: \tflann: True\n",
      "\u001b[34m\u001b[1mwandb\u001b[0m: \thomography: True\n",
      "\u001b[34m\u001b[1mwandb\u001b[0m: \timage_type: Cyto\n",
      "\u001b[34m\u001b[1mwandb\u001b[0m: \tmaxFeatures: 64\n",
      "\u001b[34m\u001b[1mwandb\u001b[0m: \tpoint_extractor: sift\n",
      "\u001b[34m\u001b[1mwandb\u001b[0m: \tratio: 0.6\n",
      "\u001b[34m\u001b[1mwandb\u001b[0m: \tsource_scanner: Aperio\n",
      "\u001b[34m\u001b[1mwandb\u001b[0m: \ttarget_depth: 0\n",
      "\u001b[34m\u001b[1mwandb\u001b[0m: \tthumbnail_size: [1024, 1024]\n",
      "\u001b[34m\u001b[1mwandb\u001b[0m: \tuse_gray: True\n"
     ]
    },
    {
     "data": {
      "text/html": [
       "\n",
       "                Tracking run with wandb version 0.10.15<br/>\n",
       "                Syncing run <strong style=\"color:#cdcd00\">wandering-sweep-10</strong> to <a href=\"https://wandb.ai\" target=\"_blank\">Weights & Biases</a> <a href=\"https://docs.wandb.com/integrations/jupyter.html\" target=\"_blank\">(Documentation)</a>.<br/>\n",
       "                Project page: <a href=\"https://wandb.ai/christianml/quadtree\" target=\"_blank\">https://wandb.ai/christianml/quadtree</a><br/>\n",
       "                Sweep page: <a href=\"https://wandb.ai/christianml/quadtree/sweeps/jbgxjz4o\" target=\"_blank\">https://wandb.ai/christianml/quadtree/sweeps/jbgxjz4o</a><br/>\n",
       "Run page: <a href=\"https://wandb.ai/christianml/quadtree/runs/o0gr4m1e\" target=\"_blank\">https://wandb.ai/christianml/quadtree/runs/o0gr4m1e</a><br/>\n",
       "                Run data is saved locally in <code>/home/bronzi/ProgProjekte/EIPH_WSI/MIDL2021/Registration/WandB/wandb/run-20210125_223753-o0gr4m1e</code><br/><br/>\n",
       "            "
      ],
      "text/plain": [
       "<IPython.core.display.HTML object>"
      ]
     },
     "metadata": {},
     "output_type": "display_data"
    },
    {
     "name": "stderr",
     "output_type": "stream",
     "text": [
      "  0%|          | 0/5 [00:00<?, ?it/s]\n",
      "  0%|          | 0/4 [00:00<?, ?it/s]\u001b[A\n",
      " 25%|██▌       | 1/4 [00:00<00:02,  1.43it/s]\u001b[A\n",
      " 50%|█████     | 2/4 [00:01<00:01,  1.35it/s]\u001b[A\n",
      " 75%|███████▌  | 3/4 [00:03<00:01,  1.14s/it]\u001b[A\n",
      "100%|██████████| 4/4 [00:03<00:00,  1.10it/s]\u001b[A\n",
      " 20%|██        | 1/5 [00:03<00:14,  3.64s/it]\n",
      "  0%|          | 0/4 [00:00<?, ?it/s]\u001b[A\n",
      " 25%|██▌       | 1/4 [00:01<00:03,  1.27s/it]\u001b[A\n",
      " 50%|█████     | 2/4 [00:03<00:03,  1.96s/it]\u001b[A\n",
      " 75%|███████▌  | 3/4 [00:07<00:02,  3.00s/it]\u001b[A\n",
      "100%|██████████| 4/4 [00:10<00:00,  2.61s/it]\u001b[A\n",
      " 40%|████      | 2/5 [00:14<00:22,  7.64s/it]\n",
      "  0%|          | 0/4 [00:00<?, ?it/s]\u001b[A\n",
      " 25%|██▌       | 1/4 [00:02<00:07,  2.59s/it]\u001b[A\n",
      " 50%|█████     | 2/4 [00:05<00:05,  2.68s/it]\u001b[A\n",
      " 75%|███████▌  | 3/4 [00:08<00:02,  2.79s/it]\u001b[A\n",
      "100%|██████████| 4/4 [00:08<00:00,  2.21s/it]\u001b[A\n",
      " 60%|██████    | 3/5 [00:22<00:16,  8.19s/it]\n",
      "  0%|          | 0/4 [00:00<?, ?it/s]\u001b[A\n",
      " 25%|██▌       | 1/4 [00:00<00:02,  1.50it/s]\u001b[A\n",
      " 50%|█████     | 2/4 [00:01<00:01,  1.26it/s]\u001b[A\n",
      " 75%|███████▌  | 3/4 [00:02<00:01,  1.06s/it]\u001b[A\n",
      "100%|██████████| 4/4 [00:03<00:00,  1.12it/s]\u001b[A\n",
      " 80%|████████  | 4/5 [00:26<00:06,  6.37s/it]\n",
      "  0%|          | 0/4 [00:00<?, ?it/s]\u001b[A\n",
      " 25%|██▌       | 1/4 [00:00<00:01,  1.66it/s]\u001b[A\n",
      " 50%|█████     | 2/4 [00:01<00:01,  1.34it/s]\u001b[A\n",
      " 75%|███████▌  | 3/4 [00:02<00:01,  1.03s/it]\u001b[A\n",
      "100%|██████████| 4/4 [00:03<00:00,  1.18it/s]\u001b[A\n",
      "100%|██████████| 5/5 [00:29<00:00,  5.98s/it]\n"
     ]
    },
    {
     "data": {
      "text/html": [
       "<br/>Waiting for W&B process to finish, PID 1477<br/>Program ended successfully."
      ],
      "text/plain": [
       "<IPython.core.display.HTML object>"
      ]
     },
     "metadata": {},
     "output_type": "display_data"
    },
    {
     "data": {
      "application/vnd.jupyter.widget-view+json": {
       "model_id": "",
       "version_major": 2,
       "version_minor": 0
      },
      "text/plain": [
       "VBox(children=(Label(value=' 0.00MB of 0.00MB uploaded (0.00MB deduped)\\r'), FloatProgress(value=1.0, max=1.0)…"
      ]
     },
     "metadata": {},
     "output_type": "display_data"
    },
    {
     "data": {
      "text/html": [
       "Find user logs for this run at: <code>/home/bronzi/ProgProjekte/EIPH_WSI/MIDL2021/Registration/WandB/wandb/run-20210125_223753-o0gr4m1e/logs/debug.log</code>"
      ],
      "text/plain": [
       "<IPython.core.display.HTML object>"
      ]
     },
     "metadata": {},
     "output_type": "display_data"
    },
    {
     "data": {
      "text/html": [
       "Find internal logs for this run at: <code>/home/bronzi/ProgProjekte/EIPH_WSI/MIDL2021/Registration/WandB/wandb/run-20210125_223753-o0gr4m1e/logs/debug-internal.log</code>"
      ],
      "text/plain": [
       "<IPython.core.display.HTML object>"
      ]
     },
     "metadata": {},
     "output_type": "display_data"
    },
    {
     "data": {
      "text/html": [
       "<h3>Run summary:</h3><br/><style>\n",
       "    table.wandb td:nth-child(1) { padding: 0 10px; text-align: right }\n",
       "    </style><table class=\"wandb\">\n",
       "<tr><td>dist_mean_image</td><td>135.60377</td></tr><tr><td>step</td><td>19</td></tr><tr><td>_step</td><td>20</td></tr><tr><td>_runtime</td><td>31</td></tr><tr><td>_timestamp</td><td>1611610704</td></tr><tr><td>dist_mean</td><td>23.18477</td></tr><tr><td>dist_min</td><td>0.0</td></tr><tr><td>dist_max</td><td>189.88875</td></tr><tr><td>q_mean</td><td>-1.0</td></tr><tr><td>q_min</td><td>-1</td></tr><tr><td>q_max</td><td>-1</td></tr><tr><td>sigma2_mean</td><td>-1.0</td></tr><tr><td>sigma2_min</td><td>-1</td></tr><tr><td>sigma2_max</td><td>-1</td></tr></table>"
      ],
      "text/plain": [
       "<IPython.core.display.HTML object>"
      ]
     },
     "metadata": {},
     "output_type": "display_data"
    },
    {
     "data": {
      "text/html": [
       "<h3>Run history:</h3><br/><style>\n",
       "    table.wandb td:nth-child(1) { padding: 0 10px; text-align: right }\n",
       "    </style><table class=\"wandb\">\n",
       "<tr><td>dist_mean_image</td><td>▂▁▂█▂▁▃▄▂▁▄▃▂▁▆▅▃▁▂▆</td></tr><tr><td>step</td><td>▁▁▂▂▂▃▃▄▄▄▅▅▅▆▆▇▇▇██</td></tr><tr><td>_step</td><td>▁▁▂▂▂▃▃▃▄▄▅▅▅▆▆▆▇▇▇██</td></tr><tr><td>_runtime</td><td>▁▁▂▂▂▃▄▄▅▅▆▆▆▇▇▇▇████</td></tr><tr><td>_timestamp</td><td>▁▁▂▂▂▃▄▄▅▅▆▆▆▇▇▇▇████</td></tr><tr><td>dist_mean</td><td>▁</td></tr><tr><td>dist_min</td><td>▁</td></tr><tr><td>dist_max</td><td>▁</td></tr><tr><td>q_mean</td><td>▁</td></tr><tr><td>q_min</td><td>▁</td></tr><tr><td>q_max</td><td>▁</td></tr><tr><td>sigma2_mean</td><td>▁</td></tr><tr><td>sigma2_min</td><td>▁</td></tr><tr><td>sigma2_max</td><td>▁</td></tr></table><br/>"
      ],
      "text/plain": [
       "<IPython.core.display.HTML object>"
      ]
     },
     "metadata": {},
     "output_type": "display_data"
    },
    {
     "data": {
      "text/html": [
       "Synced 5 W&B file(s), 0 media file(s), 0 artifact file(s) and 0 other file(s)"
      ],
      "text/plain": [
       "<IPython.core.display.HTML object>"
      ]
     },
     "metadata": {},
     "output_type": "display_data"
    },
    {
     "data": {
      "text/html": [
       "\n",
       "                    <br/>Synced <strong style=\"color:#cdcd00\">wandering-sweep-10</strong>: <a href=\"https://wandb.ai/christianml/quadtree/runs/o0gr4m1e\" target=\"_blank\">https://wandb.ai/christianml/quadtree/runs/o0gr4m1e</a><br/>\n",
       "                "
      ],
      "text/plain": [
       "<IPython.core.display.HTML object>"
      ]
     },
     "metadata": {},
     "output_type": "display_data"
    },
    {
     "name": "stderr",
     "output_type": "stream",
     "text": [
      "\u001b[34m\u001b[1mwandb\u001b[0m: Agent Starting Run: 0t0g20dz with config:\n",
      "\u001b[34m\u001b[1mwandb\u001b[0m: \tcrossCheck: False\n",
      "\u001b[34m\u001b[1mwandb\u001b[0m: \tfilter_outliner: False\n",
      "\u001b[34m\u001b[1mwandb\u001b[0m: \tflann: False\n",
      "\u001b[34m\u001b[1mwandb\u001b[0m: \thomography: True\n",
      "\u001b[34m\u001b[1mwandb\u001b[0m: \timage_type: Cyto\n",
      "\u001b[34m\u001b[1mwandb\u001b[0m: \tmaxFeatures: 256\n",
      "\u001b[34m\u001b[1mwandb\u001b[0m: \tpoint_extractor: sift\n",
      "\u001b[34m\u001b[1mwandb\u001b[0m: \tratio: 0.7\n",
      "\u001b[34m\u001b[1mwandb\u001b[0m: \tsource_scanner: Aperio\n",
      "\u001b[34m\u001b[1mwandb\u001b[0m: \ttarget_depth: 0\n",
      "\u001b[34m\u001b[1mwandb\u001b[0m: \tthumbnail_size: [8192, 8192]\n",
      "\u001b[34m\u001b[1mwandb\u001b[0m: \tuse_gray: True\n"
     ]
    },
    {
     "data": {
      "text/html": [
       "\n",
       "                Tracking run with wandb version 0.10.15<br/>\n",
       "                Syncing run <strong style=\"color:#cdcd00\">driven-sweep-11</strong> to <a href=\"https://wandb.ai\" target=\"_blank\">Weights & Biases</a> <a href=\"https://docs.wandb.com/integrations/jupyter.html\" target=\"_blank\">(Documentation)</a>.<br/>\n",
       "                Project page: <a href=\"https://wandb.ai/christianml/quadtree\" target=\"_blank\">https://wandb.ai/christianml/quadtree</a><br/>\n",
       "                Sweep page: <a href=\"https://wandb.ai/christianml/quadtree/sweeps/jbgxjz4o\" target=\"_blank\">https://wandb.ai/christianml/quadtree/sweeps/jbgxjz4o</a><br/>\n",
       "Run page: <a href=\"https://wandb.ai/christianml/quadtree/runs/0t0g20dz\" target=\"_blank\">https://wandb.ai/christianml/quadtree/runs/0t0g20dz</a><br/>\n",
       "                Run data is saved locally in <code>/home/bronzi/ProgProjekte/EIPH_WSI/MIDL2021/Registration/WandB/wandb/run-20210125_223828-0t0g20dz</code><br/><br/>\n",
       "            "
      ],
      "text/plain": [
       "<IPython.core.display.HTML object>"
      ]
     },
     "metadata": {},
     "output_type": "display_data"
    },
    {
     "name": "stderr",
     "output_type": "stream",
     "text": [
      "  0%|          | 0/5 [00:00<?, ?it/s]\n",
      "  0%|          | 0/4 [00:00<?, ?it/s]\u001b[A\n",
      " 25%|██▌       | 1/4 [04:55<14:47, 295.81s/it]\u001b[A\n",
      " 50%|█████     | 2/4 [09:17<09:11, 275.81s/it]\u001b[A\n",
      " 75%|███████▌  | 3/4 [13:35<04:27, 267.82s/it]\u001b[A\n",
      "100%|██████████| 4/4 [16:25<00:00, 246.50s/it]\u001b[A\n",
      " 20%|██        | 1/5 [16:25<1:05:43, 986.00s/it]\n",
      "  0%|          | 0/4 [00:00<?, ?it/s]\u001b[A\n",
      " 25%|██▌       | 1/4 [01:32<04:37, 92.60s/it]\u001b[A\n",
      " 50%|█████     | 2/4 [7:09:00<8:24:09, 15124.88s/it]\u001b[A\n",
      " 75%|███████▌  | 3/4 [7:11:53<2:18:17, 8297.53s/it] \u001b[A\n",
      "100%|██████████| 4/4 [7:15:28<00:00, 6532.16s/it]  \u001b[A\n",
      " 40%|████      | 2/5 [7:31:54<13:08:47, 15775.80s/it]\n",
      "  0%|          | 0/4 [00:00<?, ?it/s]\u001b[A\n",
      " 25%|██▌       | 1/4 [04:42<14:08, 283.00s/it]\u001b[A\n",
      " 50%|█████     | 2/4 [29:03<32:31, 975.84s/it]\u001b[A\n",
      " 75%|███████▌  | 3/4 [39:03<13:24, 804.03s/it]\u001b[A\n",
      "100%|██████████| 4/4 [43:29<00:00, 652.34s/it]\u001b[A\n",
      " 60%|██████    | 3/5 [8:15:24<5:25:27, 9763.73s/it]  \n",
      "  0%|          | 0/4 [00:00<?, ?it/s]\u001b[A\n",
      " 25%|██▌       | 1/4 [00:51<02:33, 51.28s/it]\u001b[A\n",
      " 50%|█████     | 2/4 [01:28<01:25, 42.79s/it]\u001b[A\n",
      " 75%|███████▌  | 3/4 [02:06<00:40, 40.97s/it]\u001b[A\n",
      "100%|██████████| 4/4 [02:36<00:00, 39.19s/it]\u001b[A\n",
      " 80%|████████  | 4/5 [8:18:00<1:39:31, 5971.00s/it]\n",
      "  0%|          | 0/4 [00:00<?, ?it/s]\u001b[A\n",
      " 25%|██▌       | 1/4 [04:07<12:23, 247.70s/it]\u001b[A\n",
      " 50%|█████     | 2/4 [10:01<10:20, 310.30s/it]\u001b[A\n",
      " 75%|███████▌  | 3/4 [13:59<04:37, 277.19s/it]\u001b[A\n",
      "100%|██████████| 4/4 [17:08<00:00, 257.05s/it]\u001b[A\n",
      "100%|██████████| 5/5 [8:35:08<00:00, 6181.79s/it]  \n"
     ]
    },
    {
     "data": {
      "text/html": [
       "<br/>Waiting for W&B process to finish, PID 1583<br/>Program ended successfully."
      ],
      "text/plain": [
       "<IPython.core.display.HTML object>"
      ]
     },
     "metadata": {},
     "output_type": "display_data"
    },
    {
     "data": {
      "application/vnd.jupyter.widget-view+json": {
       "model_id": "",
       "version_major": 2,
       "version_minor": 0
      },
      "text/plain": [
       "VBox(children=(Label(value=' 0.00MB of 0.00MB uploaded (0.00MB deduped)\\r'), FloatProgress(value=1.0, max=1.0)…"
      ]
     },
     "metadata": {},
     "output_type": "display_data"
    },
    {
     "data": {
      "text/html": [
       "Find user logs for this run at: <code>/home/bronzi/ProgProjekte/EIPH_WSI/MIDL2021/Registration/WandB/wandb/run-20210125_223828-0t0g20dz/logs/debug.log</code>"
      ],
      "text/plain": [
       "<IPython.core.display.HTML object>"
      ]
     },
     "metadata": {},
     "output_type": "display_data"
    },
    {
     "data": {
      "text/html": [
       "Find internal logs for this run at: <code>/home/bronzi/ProgProjekte/EIPH_WSI/MIDL2021/Registration/WandB/wandb/run-20210125_223828-0t0g20dz/logs/debug-internal.log</code>"
      ],
      "text/plain": [
       "<IPython.core.display.HTML object>"
      ]
     },
     "metadata": {},
     "output_type": "display_data"
    },
    {
     "data": {
      "text/html": [
       "<h3>Run summary:</h3><br/><style>\n",
       "    table.wandb td:nth-child(1) { padding: 0 10px; text-align: right }\n",
       "    </style><table class=\"wandb\">\n",
       "<tr><td>dist_mean_image</td><td>14.92332</td></tr><tr><td>step</td><td>19</td></tr><tr><td>_step</td><td>20</td></tr><tr><td>_runtime</td><td>30910</td></tr><tr><td>_timestamp</td><td>1611641618</td></tr><tr><td>dist_mean</td><td>7.31983</td></tr><tr><td>dist_min</td><td>0.0</td></tr><tr><td>dist_max</td><td>66.86405</td></tr><tr><td>q_mean</td><td>-1.0</td></tr><tr><td>q_min</td><td>-1</td></tr><tr><td>q_max</td><td>-1</td></tr><tr><td>sigma2_mean</td><td>-1.0</td></tr><tr><td>sigma2_min</td><td>-1</td></tr><tr><td>sigma2_max</td><td>-1</td></tr></table>"
      ],
      "text/plain": [
       "<IPython.core.display.HTML object>"
      ]
     },
     "metadata": {},
     "output_type": "display_data"
    },
    {
     "data": {
      "text/html": [
       "<h3>Run history:</h3><br/><style>\n",
       "    table.wandb td:nth-child(1) { padding: 0 10px; text-align: right }\n",
       "    </style><table class=\"wandb\">\n",
       "<tr><td>dist_mean_image</td><td>▄▁▃▂▃▁▄▄▃▁▃▃▄▁█▆▃▁▂▃</td></tr><tr><td>step</td><td>▁▁▂▂▂▃▃▄▄▄▅▅▅▆▆▇▇▇██</td></tr><tr><td>_step</td><td>▁▁▂▂▂▃▃▃▄▄▅▅▅▆▆▆▇▇▇██</td></tr><tr><td>_runtime</td><td>▁▁▁▁▁▇▇▇▇████████████</td></tr><tr><td>_timestamp</td><td>▁▁▁▁▁▇▇▇▇████████████</td></tr><tr><td>dist_mean</td><td>▁</td></tr><tr><td>dist_min</td><td>▁</td></tr><tr><td>dist_max</td><td>▁</td></tr><tr><td>q_mean</td><td>▁</td></tr><tr><td>q_min</td><td>▁</td></tr><tr><td>q_max</td><td>▁</td></tr><tr><td>sigma2_mean</td><td>▁</td></tr><tr><td>sigma2_min</td><td>▁</td></tr><tr><td>sigma2_max</td><td>▁</td></tr></table><br/>"
      ],
      "text/plain": [
       "<IPython.core.display.HTML object>"
      ]
     },
     "metadata": {},
     "output_type": "display_data"
    },
    {
     "data": {
      "text/html": [
       "Synced 5 W&B file(s), 0 media file(s), 0 artifact file(s) and 0 other file(s)"
      ],
      "text/plain": [
       "<IPython.core.display.HTML object>"
      ]
     },
     "metadata": {},
     "output_type": "display_data"
    },
    {
     "data": {
      "text/html": [
       "\n",
       "                    <br/>Synced <strong style=\"color:#cdcd00\">driven-sweep-11</strong>: <a href=\"https://wandb.ai/christianml/quadtree/runs/0t0g20dz\" target=\"_blank\">https://wandb.ai/christianml/quadtree/runs/0t0g20dz</a><br/>\n",
       "                "
      ],
      "text/plain": [
       "<IPython.core.display.HTML object>"
      ]
     },
     "metadata": {},
     "output_type": "display_data"
    },
    {
     "name": "stderr",
     "output_type": "stream",
     "text": [
      "\u001b[34m\u001b[1mwandb\u001b[0m: Agent Starting Run: m6fyp9l4 with config:\n",
      "\u001b[34m\u001b[1mwandb\u001b[0m: \tcrossCheck: False\n",
      "\u001b[34m\u001b[1mwandb\u001b[0m: \tfilter_outliner: False\n",
      "\u001b[34m\u001b[1mwandb\u001b[0m: \tflann: True\n",
      "\u001b[34m\u001b[1mwandb\u001b[0m: \thomography: True\n",
      "\u001b[34m\u001b[1mwandb\u001b[0m: \timage_type: Cyto\n",
      "\u001b[34m\u001b[1mwandb\u001b[0m: \tmaxFeatures: 1024\n",
      "\u001b[34m\u001b[1mwandb\u001b[0m: \tpoint_extractor: sift\n",
      "\u001b[34m\u001b[1mwandb\u001b[0m: \tratio: 0.7\n",
      "\u001b[34m\u001b[1mwandb\u001b[0m: \tsource_scanner: Aperio\n",
      "\u001b[34m\u001b[1mwandb\u001b[0m: \ttarget_depth: 0\n",
      "\u001b[34m\u001b[1mwandb\u001b[0m: \tthumbnail_size: [2048, 2048]\n",
      "\u001b[34m\u001b[1mwandb\u001b[0m: \tuse_gray: True\n"
     ]
    },
    {
     "data": {
      "text/html": [
       "\n",
       "                Tracking run with wandb version 0.10.15<br/>\n",
       "                Syncing run <strong style=\"color:#cdcd00\">still-sweep-13</strong> to <a href=\"https://wandb.ai\" target=\"_blank\">Weights & Biases</a> <a href=\"https://docs.wandb.com/integrations/jupyter.html\" target=\"_blank\">(Documentation)</a>.<br/>\n",
       "                Project page: <a href=\"https://wandb.ai/christianml/quadtree\" target=\"_blank\">https://wandb.ai/christianml/quadtree</a><br/>\n",
       "                Sweep page: <a href=\"https://wandb.ai/christianml/quadtree/sweeps/jbgxjz4o\" target=\"_blank\">https://wandb.ai/christianml/quadtree/sweeps/jbgxjz4o</a><br/>\n",
       "Run page: <a href=\"https://wandb.ai/christianml/quadtree/runs/m6fyp9l4\" target=\"_blank\">https://wandb.ai/christianml/quadtree/runs/m6fyp9l4</a><br/>\n",
       "                Run data is saved locally in <code>/home/bronzi/ProgProjekte/EIPH_WSI/MIDL2021/Registration/WandB/wandb/run-20210126_071343-m6fyp9l4</code><br/><br/>\n",
       "            "
      ],
      "text/plain": [
       "<IPython.core.display.HTML object>"
      ]
     },
     "metadata": {},
     "output_type": "display_data"
    },
    {
     "name": "stderr",
     "output_type": "stream",
     "text": [
      "  0%|          | 0/5 [00:00<?, ?it/s]\n",
      "  0%|          | 0/4 [00:00<?, ?it/s]\u001b[A\n",
      " 25%|██▌       | 1/4 [00:07<00:22,  7.45s/it]\u001b[A\n",
      " 50%|█████     | 2/4 [00:20<00:21, 10.97s/it]\u001b[A\n",
      " 75%|███████▌  | 3/4 [00:28<00:09,  9.46s/it]\u001b[A\n",
      "100%|██████████| 4/4 [00:35<00:00,  8.87s/it]\u001b[A\n",
      " 20%|██        | 1/5 [00:35<02:22, 35.50s/it]\n",
      "  0%|          | 0/4 [00:00<?, ?it/s]\u001b[A\n",
      " 25%|██▌       | 1/4 [00:01<00:04,  1.41s/it]\u001b[A\n",
      " 50%|█████     | 2/4 [00:03<00:03,  1.85s/it]\u001b[A\n",
      " 75%|███████▌  | 3/4 [00:06<00:02,  2.14s/it]\u001b[A\n",
      "100%|██████████| 4/4 [00:07<00:00,  1.90s/it]\u001b[A\n",
      " 40%|████      | 2/5 [00:43<00:57, 19.10s/it]\n",
      "  0%|          | 0/4 [00:00<?, ?it/s]\u001b[A\n",
      " 25%|██▌       | 1/4 [00:08<00:25,  8.45s/it]\u001b[A\n",
      " 50%|█████     | 2/4 [00:26<00:28, 14.26s/it]\u001b[A\n",
      " 75%|███████▌  | 3/4 [00:38<00:13, 13.00s/it]\u001b[A\n",
      "100%|██████████| 4/4 [00:47<00:00, 11.90s/it]\u001b[A\n",
      " 60%|██████    | 3/5 [01:30<01:04, 32.11s/it]\n",
      "  0%|          | 0/4 [00:00<?, ?it/s]\u001b[A\n",
      " 25%|██▌       | 1/4 [00:01<00:04,  1.66s/it]\u001b[A\n",
      " 50%|█████     | 2/4 [00:03<00:03,  1.93s/it]\u001b[A\n",
      " 75%|███████▌  | 3/4 [00:06<00:02,  2.25s/it]\u001b[A\n",
      "100%|██████████| 4/4 [00:08<00:00,  2.03s/it]\u001b[A\n",
      " 80%|████████  | 4/5 [01:38<00:22, 22.64s/it]\n",
      "  0%|          | 0/4 [00:00<?, ?it/s]\u001b[A\n",
      " 25%|██▌       | 1/4 [00:10<00:31, 10.51s/it]\u001b[A\n",
      " 50%|█████     | 2/4 [00:26<00:27, 13.85s/it]\u001b[A\n",
      " 75%|███████▌  | 3/4 [00:36<00:11, 11.98s/it]\u001b[A\n",
      "100%|██████████| 4/4 [00:44<00:00, 11.22s/it]\u001b[A\n",
      "100%|██████████| 5/5 [02:23<00:00, 28.75s/it]\n"
     ]
    },
    {
     "data": {
      "text/html": [
       "<br/>Waiting for W&B process to finish, PID 2113<br/>Program ended successfully."
      ],
      "text/plain": [
       "<IPython.core.display.HTML object>"
      ]
     },
     "metadata": {},
     "output_type": "display_data"
    },
    {
     "data": {
      "application/vnd.jupyter.widget-view+json": {
       "model_id": "",
       "version_major": 2,
       "version_minor": 0
      },
      "text/plain": [
       "VBox(children=(Label(value=' 0.00MB of 0.00MB uploaded (0.00MB deduped)\\r'), FloatProgress(value=1.0, max=1.0)…"
      ]
     },
     "metadata": {},
     "output_type": "display_data"
    },
    {
     "data": {
      "text/html": [
       "Find user logs for this run at: <code>/home/bronzi/ProgProjekte/EIPH_WSI/MIDL2021/Registration/WandB/wandb/run-20210126_071343-m6fyp9l4/logs/debug.log</code>"
      ],
      "text/plain": [
       "<IPython.core.display.HTML object>"
      ]
     },
     "metadata": {},
     "output_type": "display_data"
    },
    {
     "data": {
      "text/html": [
       "Find internal logs for this run at: <code>/home/bronzi/ProgProjekte/EIPH_WSI/MIDL2021/Registration/WandB/wandb/run-20210126_071343-m6fyp9l4/logs/debug-internal.log</code>"
      ],
      "text/plain": [
       "<IPython.core.display.HTML object>"
      ]
     },
     "metadata": {},
     "output_type": "display_data"
    },
    {
     "data": {
      "text/html": [
       "<h3>Run summary:</h3><br/><style>\n",
       "    table.wandb td:nth-child(1) { padding: 0 10px; text-align: right }\n",
       "    </style><table class=\"wandb\">\n",
       "<tr><td>dist_mean_image</td><td>16.93584</td></tr><tr><td>step</td><td>19</td></tr><tr><td>_step</td><td>20</td></tr><tr><td>_runtime</td><td>144</td></tr><tr><td>_timestamp</td><td>1611641767</td></tr><tr><td>dist_mean</td><td>11.19002</td></tr><tr><td>dist_min</td><td>0.0</td></tr><tr><td>dist_max</td><td>91.68448</td></tr><tr><td>q_mean</td><td>-1.0</td></tr><tr><td>q_min</td><td>-1</td></tr><tr><td>q_max</td><td>-1</td></tr><tr><td>sigma2_mean</td><td>-1.0</td></tr><tr><td>sigma2_min</td><td>-1</td></tr><tr><td>sigma2_max</td><td>-1</td></tr></table>"
      ],
      "text/plain": [
       "<IPython.core.display.HTML object>"
      ]
     },
     "metadata": {},
     "output_type": "display_data"
    },
    {
     "data": {
      "text/html": [
       "<h3>Run history:</h3><br/><style>\n",
       "    table.wandb td:nth-child(1) { padding: 0 10px; text-align: right }\n",
       "    </style><table class=\"wandb\">\n",
       "<tr><td>dist_mean_image</td><td>▃▁▂▂▃▁▅▄▃▁▄▂▃▁█▅▂▁▄▂</td></tr><tr><td>step</td><td>▁▁▂▂▂▃▃▄▄▄▅▅▅▆▆▇▇▇██</td></tr><tr><td>_step</td><td>▁▁▂▂▂▃▃▃▄▄▅▅▅▆▆▆▇▇▇██</td></tr><tr><td>_runtime</td><td>▁▂▂▂▂▃▃▃▃▄▅▅▅▅▆▆▆▇███</td></tr><tr><td>_timestamp</td><td>▁▂▂▂▂▃▃▃▃▄▅▅▅▅▆▆▆▇███</td></tr><tr><td>dist_mean</td><td>▁</td></tr><tr><td>dist_min</td><td>▁</td></tr><tr><td>dist_max</td><td>▁</td></tr><tr><td>q_mean</td><td>▁</td></tr><tr><td>q_min</td><td>▁</td></tr><tr><td>q_max</td><td>▁</td></tr><tr><td>sigma2_mean</td><td>▁</td></tr><tr><td>sigma2_min</td><td>▁</td></tr><tr><td>sigma2_max</td><td>▁</td></tr></table><br/>"
      ],
      "text/plain": [
       "<IPython.core.display.HTML object>"
      ]
     },
     "metadata": {},
     "output_type": "display_data"
    },
    {
     "data": {
      "text/html": [
       "Synced 5 W&B file(s), 0 media file(s), 0 artifact file(s) and 0 other file(s)"
      ],
      "text/plain": [
       "<IPython.core.display.HTML object>"
      ]
     },
     "metadata": {},
     "output_type": "display_data"
    },
    {
     "data": {
      "text/html": [
       "\n",
       "                    <br/>Synced <strong style=\"color:#cdcd00\">still-sweep-13</strong>: <a href=\"https://wandb.ai/christianml/quadtree/runs/m6fyp9l4\" target=\"_blank\">https://wandb.ai/christianml/quadtree/runs/m6fyp9l4</a><br/>\n",
       "                "
      ],
      "text/plain": [
       "<IPython.core.display.HTML object>"
      ]
     },
     "metadata": {},
     "output_type": "display_data"
    },
    {
     "name": "stderr",
     "output_type": "stream",
     "text": [
      "\u001b[34m\u001b[1mwandb\u001b[0m: Agent Starting Run: jpe9xylk with config:\n",
      "\u001b[34m\u001b[1mwandb\u001b[0m: \tcrossCheck: False\n",
      "\u001b[34m\u001b[1mwandb\u001b[0m: \tfilter_outliner: False\n",
      "\u001b[34m\u001b[1mwandb\u001b[0m: \tflann: False\n",
      "\u001b[34m\u001b[1mwandb\u001b[0m: \thomography: True\n",
      "\u001b[34m\u001b[1mwandb\u001b[0m: \timage_type: Cyto\n",
      "\u001b[34m\u001b[1mwandb\u001b[0m: \tmaxFeatures: 64\n",
      "\u001b[34m\u001b[1mwandb\u001b[0m: \tpoint_extractor: sift\n",
      "\u001b[34m\u001b[1mwandb\u001b[0m: \tratio: 0.9\n",
      "\u001b[34m\u001b[1mwandb\u001b[0m: \tsource_scanner: Aperio\n",
      "\u001b[34m\u001b[1mwandb\u001b[0m: \ttarget_depth: 0\n",
      "\u001b[34m\u001b[1mwandb\u001b[0m: \tthumbnail_size: [1024, 1024]\n",
      "\u001b[34m\u001b[1mwandb\u001b[0m: \tuse_gray: False\n"
     ]
    },
    {
     "data": {
      "text/html": [
       "\n",
       "                Tracking run with wandb version 0.10.15<br/>\n",
       "                Syncing run <strong style=\"color:#cdcd00\">stoic-sweep-15</strong> to <a href=\"https://wandb.ai\" target=\"_blank\">Weights & Biases</a> <a href=\"https://docs.wandb.com/integrations/jupyter.html\" target=\"_blank\">(Documentation)</a>.<br/>\n",
       "                Project page: <a href=\"https://wandb.ai/christianml/quadtree\" target=\"_blank\">https://wandb.ai/christianml/quadtree</a><br/>\n",
       "                Sweep page: <a href=\"https://wandb.ai/christianml/quadtree/sweeps/jbgxjz4o\" target=\"_blank\">https://wandb.ai/christianml/quadtree/sweeps/jbgxjz4o</a><br/>\n",
       "Run page: <a href=\"https://wandb.ai/christianml/quadtree/runs/jpe9xylk\" target=\"_blank\">https://wandb.ai/christianml/quadtree/runs/jpe9xylk</a><br/>\n",
       "                Run data is saved locally in <code>/home/bronzi/ProgProjekte/EIPH_WSI/MIDL2021/Registration/WandB/wandb/run-20210126_071611-jpe9xylk</code><br/><br/>\n",
       "            "
      ],
      "text/plain": [
       "<IPython.core.display.HTML object>"
      ]
     },
     "metadata": {},
     "output_type": "display_data"
    },
    {
     "name": "stderr",
     "output_type": "stream",
     "text": [
      "  0%|          | 0/5 [00:00<?, ?it/s]\n",
      "  0%|          | 0/4 [00:00<?, ?it/s]\u001b[A\n",
      " 25%|██▌       | 1/4 [00:00<00:01,  1.74it/s]\u001b[A\n",
      " 50%|█████     | 2/4 [00:02<00:02,  1.25s/it]\u001b[A\n",
      " 75%|███████▌  | 3/4 [00:03<00:01,  1.22s/it]\u001b[A\n",
      "100%|██████████| 4/4 [00:04<00:00,  1.01s/it]\u001b[A\n",
      " 20%|██        | 1/5 [00:04<00:16,  4.04s/it]\n",
      "  0%|          | 0/4 [00:00<?, ?it/s]\u001b[A\n",
      " 25%|██▌       | 1/4 [00:00<00:01,  1.54it/s]\u001b[A\n",
      " 50%|█████     | 2/4 [00:01<00:01,  1.40it/s]\u001b[A\n",
      " 75%|███████▌  | 3/4 [00:02<00:01,  1.08s/it]\u001b[A\n",
      "100%|██████████| 4/4 [00:03<00:00,  1.16it/s]\u001b[A\n",
      " 40%|████      | 2/5 [00:07<00:11,  3.70s/it]\n",
      "  0%|          | 0/4 [00:00<?, ?it/s]\u001b[A\n",
      " 25%|██▌       | 1/4 [00:00<00:01,  1.76it/s]\u001b[A\n",
      " 50%|█████     | 2/4 [00:01<00:01,  1.45it/s]\u001b[A\n",
      " 75%|███████▌  | 3/4 [00:02<00:01,  1.08s/it]\u001b[A\n",
      "100%|██████████| 4/4 [00:03<00:00,  1.16it/s]\u001b[A\n",
      " 60%|██████    | 3/5 [00:10<00:07,  3.59s/it]\n",
      "  0%|          | 0/4 [00:00<?, ?it/s]\u001b[A\n",
      " 25%|██▌       | 1/4 [00:00<00:01,  1.60it/s]\u001b[A\n",
      " 50%|█████     | 2/4 [00:01<00:01,  1.03it/s]\u001b[A\n",
      " 75%|███████▌  | 3/4 [00:05<00:02,  2.02s/it]\u001b[A\n",
      "100%|██████████| 4/4 [00:06<00:00,  1.57s/it]\u001b[A\n",
      " 80%|████████  | 4/5 [00:17<00:04,  4.66s/it]\n",
      "  0%|          | 0/4 [00:00<?, ?it/s]\u001b[A\n",
      " 25%|██▌       | 1/4 [00:00<00:01,  1.60it/s]\u001b[A\n",
      " 50%|█████     | 2/4 [00:01<00:01,  1.33it/s]\u001b[A\n",
      " 75%|███████▌  | 3/4 [00:02<00:01,  1.10s/it]\u001b[A\n",
      "100%|██████████| 4/4 [00:03<00:00,  1.11it/s]\u001b[A\n",
      "100%|██████████| 5/5 [00:20<00:00,  4.18s/it]\n"
     ]
    },
    {
     "data": {
      "text/html": [
       "<br/>Waiting for W&B process to finish, PID 2219<br/>Program ended successfully."
      ],
      "text/plain": [
       "<IPython.core.display.HTML object>"
      ]
     },
     "metadata": {},
     "output_type": "display_data"
    },
    {
     "data": {
      "application/vnd.jupyter.widget-view+json": {
       "model_id": "",
       "version_major": 2,
       "version_minor": 0
      },
      "text/plain": [
       "VBox(children=(Label(value=' 0.00MB of 0.00MB uploaded (0.00MB deduped)\\r'), FloatProgress(value=1.0, max=1.0)…"
      ]
     },
     "metadata": {},
     "output_type": "display_data"
    },
    {
     "data": {
      "text/html": [
       "Find user logs for this run at: <code>/home/bronzi/ProgProjekte/EIPH_WSI/MIDL2021/Registration/WandB/wandb/run-20210126_071611-jpe9xylk/logs/debug.log</code>"
      ],
      "text/plain": [
       "<IPython.core.display.HTML object>"
      ]
     },
     "metadata": {},
     "output_type": "display_data"
    },
    {
     "data": {
      "text/html": [
       "Find internal logs for this run at: <code>/home/bronzi/ProgProjekte/EIPH_WSI/MIDL2021/Registration/WandB/wandb/run-20210126_071611-jpe9xylk/logs/debug-internal.log</code>"
      ],
      "text/plain": [
       "<IPython.core.display.HTML object>"
      ]
     },
     "metadata": {},
     "output_type": "display_data"
    },
    {
     "data": {
      "text/html": [
       "<h3>Run summary:</h3><br/><style>\n",
       "    table.wandb td:nth-child(1) { padding: 0 10px; text-align: right }\n",
       "    </style><table class=\"wandb\">\n",
       "<tr><td>dist_mean_image</td><td>55.22913</td></tr><tr><td>step</td><td>19</td></tr><tr><td>_step</td><td>20</td></tr><tr><td>_runtime</td><td>22</td></tr><tr><td>_timestamp</td><td>1611641793</td></tr><tr><td>dist_mean</td><td>1287.19669</td></tr><tr><td>dist_min</td><td>0.0</td></tr><tr><td>dist_max</td><td>55263.1407</td></tr><tr><td>q_mean</td><td>-1.0</td></tr><tr><td>q_min</td><td>-1</td></tr><tr><td>q_max</td><td>-1</td></tr><tr><td>sigma2_mean</td><td>-1.0</td></tr><tr><td>sigma2_min</td><td>-1</td></tr><tr><td>sigma2_max</td><td>-1</td></tr></table>"
      ],
      "text/plain": [
       "<IPython.core.display.HTML object>"
      ]
     },
     "metadata": {},
     "output_type": "display_data"
    },
    {
     "data": {
      "text/html": [
       "<h3>Run history:</h3><br/><style>\n",
       "    table.wandb td:nth-child(1) { padding: 0 10px; text-align: right }\n",
       "    </style><table class=\"wandb\">\n",
       "<tr><td>dist_mean_image</td><td>▁▁▁█▁▁▁▁▁▁▁▁▁▁▁▁▁▁▁▁</td></tr><tr><td>step</td><td>▁▁▂▂▂▃▃▄▄▄▅▅▅▆▆▇▇▇██</td></tr><tr><td>_step</td><td>▁▁▂▂▂▃▃▃▄▄▅▅▅▆▆▆▇▇▇██</td></tr><tr><td>_runtime</td><td>▁▂▂▂▂▃▃▃▄▄▄▅▅▅▆▇▇▇███</td></tr><tr><td>_timestamp</td><td>▁▂▂▂▂▃▃▃▄▄▄▅▅▅▆▇▇▇███</td></tr><tr><td>dist_mean</td><td>▁</td></tr><tr><td>dist_min</td><td>▁</td></tr><tr><td>dist_max</td><td>▁</td></tr><tr><td>q_mean</td><td>▁</td></tr><tr><td>q_min</td><td>▁</td></tr><tr><td>q_max</td><td>▁</td></tr><tr><td>sigma2_mean</td><td>▁</td></tr><tr><td>sigma2_min</td><td>▁</td></tr><tr><td>sigma2_max</td><td>▁</td></tr></table><br/>"
      ],
      "text/plain": [
       "<IPython.core.display.HTML object>"
      ]
     },
     "metadata": {},
     "output_type": "display_data"
    },
    {
     "data": {
      "text/html": [
       "Synced 5 W&B file(s), 0 media file(s), 0 artifact file(s) and 0 other file(s)"
      ],
      "text/plain": [
       "<IPython.core.display.HTML object>"
      ]
     },
     "metadata": {},
     "output_type": "display_data"
    },
    {
     "data": {
      "text/html": [
       "\n",
       "                    <br/>Synced <strong style=\"color:#cdcd00\">stoic-sweep-15</strong>: <a href=\"https://wandb.ai/christianml/quadtree/runs/jpe9xylk\" target=\"_blank\">https://wandb.ai/christianml/quadtree/runs/jpe9xylk</a><br/>\n",
       "                "
      ],
      "text/plain": [
       "<IPython.core.display.HTML object>"
      ]
     },
     "metadata": {},
     "output_type": "display_data"
    },
    {
     "name": "stderr",
     "output_type": "stream",
     "text": [
      "\u001b[34m\u001b[1mwandb\u001b[0m: Agent Starting Run: hby8diii with config:\n",
      "\u001b[34m\u001b[1mwandb\u001b[0m: \tcrossCheck: False\n",
      "\u001b[34m\u001b[1mwandb\u001b[0m: \tfilter_outliner: False\n",
      "\u001b[34m\u001b[1mwandb\u001b[0m: \tflann: False\n",
      "\u001b[34m\u001b[1mwandb\u001b[0m: \thomography: True\n",
      "\u001b[34m\u001b[1mwandb\u001b[0m: \timage_type: Cyto\n",
      "\u001b[34m\u001b[1mwandb\u001b[0m: \tmaxFeatures: 128\n",
      "\u001b[34m\u001b[1mwandb\u001b[0m: \tpoint_extractor: sift\n",
      "\u001b[34m\u001b[1mwandb\u001b[0m: \tratio: 0.9\n",
      "\u001b[34m\u001b[1mwandb\u001b[0m: \tsource_scanner: Aperio\n",
      "\u001b[34m\u001b[1mwandb\u001b[0m: \ttarget_depth: 0\n",
      "\u001b[34m\u001b[1mwandb\u001b[0m: \tthumbnail_size: [1024, 1024]\n",
      "\u001b[34m\u001b[1mwandb\u001b[0m: \tuse_gray: False\n"
     ]
    },
    {
     "data": {
      "text/html": [
       "\n",
       "                Tracking run with wandb version 0.10.15<br/>\n",
       "                Syncing run <strong style=\"color:#cdcd00\">eternal-sweep-16</strong> to <a href=\"https://wandb.ai\" target=\"_blank\">Weights & Biases</a> <a href=\"https://docs.wandb.com/integrations/jupyter.html\" target=\"_blank\">(Documentation)</a>.<br/>\n",
       "                Project page: <a href=\"https://wandb.ai/christianml/quadtree\" target=\"_blank\">https://wandb.ai/christianml/quadtree</a><br/>\n",
       "                Sweep page: <a href=\"https://wandb.ai/christianml/quadtree/sweeps/jbgxjz4o\" target=\"_blank\">https://wandb.ai/christianml/quadtree/sweeps/jbgxjz4o</a><br/>\n",
       "Run page: <a href=\"https://wandb.ai/christianml/quadtree/runs/hby8diii\" target=\"_blank\">https://wandb.ai/christianml/quadtree/runs/hby8diii</a><br/>\n",
       "                Run data is saved locally in <code>/home/bronzi/ProgProjekte/EIPH_WSI/MIDL2021/Registration/WandB/wandb/run-20210126_071637-hby8diii</code><br/><br/>\n",
       "            "
      ],
      "text/plain": [
       "<IPython.core.display.HTML object>"
      ]
     },
     "metadata": {},
     "output_type": "display_data"
    },
    {
     "name": "stderr",
     "output_type": "stream",
     "text": [
      "  0%|          | 0/5 [00:00<?, ?it/s]\n",
      "  0%|          | 0/4 [00:00<?, ?it/s]\u001b[A\n",
      " 25%|██▌       | 1/4 [00:00<00:01,  1.71it/s]\u001b[A\n",
      " 50%|█████     | 2/4 [00:01<00:01,  1.42it/s]\u001b[A\n",
      " 75%|███████▌  | 3/4 [00:02<00:01,  1.05s/it]\u001b[A\n",
      "100%|██████████| 4/4 [00:03<00:00,  1.07it/s]\u001b[A\n",
      " 20%|██        | 1/5 [00:03<00:14,  3.74s/it]\n",
      "  0%|          | 0/4 [00:00<?, ?it/s]\u001b[A\n",
      " 25%|██▌       | 1/4 [00:01<00:03,  1.03s/it]\u001b[A\n",
      " 50%|█████     | 2/4 [00:02<00:02,  1.08s/it]\u001b[A\n",
      " 75%|███████▌  | 3/4 [00:03<00:01,  1.13s/it]\u001b[A\n",
      "100%|██████████| 4/4 [00:03<00:00,  1.02it/s]\u001b[A\n",
      " 40%|████      | 2/5 [00:07<00:11,  3.85s/it]\n",
      "  0%|          | 0/4 [00:00<?, ?it/s]\u001b[A\n",
      " 25%|██▌       | 1/4 [00:00<00:01,  1.63it/s]\u001b[A\n",
      " 50%|█████     | 2/4 [00:01<00:01,  1.37it/s]\u001b[A\n",
      " 75%|███████▌  | 3/4 [00:02<00:01,  1.11s/it]\u001b[A\n",
      "100%|██████████| 4/4 [00:04<00:00,  1.02s/it]\u001b[A\n",
      " 60%|██████    | 3/5 [00:11<00:07,  3.96s/it]\n",
      "  0%|          | 0/4 [00:00<?, ?it/s]\u001b[A\n",
      " 25%|██▌       | 1/4 [00:01<00:02,  1.00it/s]\u001b[A\n",
      " 50%|█████     | 2/4 [00:01<00:01,  1.05it/s]\u001b[A\n",
      " 75%|███████▌  | 3/4 [00:03<00:01,  1.18s/it]\u001b[A\n",
      "100%|██████████| 4/4 [00:03<00:00,  1.00it/s]\u001b[A\n",
      " 80%|████████  | 4/5 [00:15<00:03,  3.97s/it]\n",
      "  0%|          | 0/4 [00:00<?, ?it/s]\u001b[A\n",
      " 25%|██▌       | 1/4 [00:00<00:01,  1.65it/s]\u001b[A\n",
      " 50%|█████     | 2/4 [00:01<00:01,  1.01it/s]\u001b[A\n",
      " 75%|███████▌  | 3/4 [00:03<00:01,  1.15s/it]\u001b[A\n",
      "100%|██████████| 4/4 [00:03<00:00,  1.04it/s]\u001b[A\n",
      "100%|██████████| 5/5 [00:19<00:00,  3.92s/it]\n"
     ]
    },
    {
     "data": {
      "text/html": [
       "<br/>Waiting for W&B process to finish, PID 2272<br/>Program ended successfully."
      ],
      "text/plain": [
       "<IPython.core.display.HTML object>"
      ]
     },
     "metadata": {},
     "output_type": "display_data"
    },
    {
     "data": {
      "application/vnd.jupyter.widget-view+json": {
       "model_id": "",
       "version_major": 2,
       "version_minor": 0
      },
      "text/plain": [
       "VBox(children=(Label(value=' 0.00MB of 0.00MB uploaded (0.00MB deduped)\\r'), FloatProgress(value=1.0, max=1.0)…"
      ]
     },
     "metadata": {},
     "output_type": "display_data"
    },
    {
     "data": {
      "text/html": [
       "Find user logs for this run at: <code>/home/bronzi/ProgProjekte/EIPH_WSI/MIDL2021/Registration/WandB/wandb/run-20210126_071637-hby8diii/logs/debug.log</code>"
      ],
      "text/plain": [
       "<IPython.core.display.HTML object>"
      ]
     },
     "metadata": {},
     "output_type": "display_data"
    },
    {
     "data": {
      "text/html": [
       "Find internal logs for this run at: <code>/home/bronzi/ProgProjekte/EIPH_WSI/MIDL2021/Registration/WandB/wandb/run-20210126_071637-hby8diii/logs/debug-internal.log</code>"
      ],
      "text/plain": [
       "<IPython.core.display.HTML object>"
      ]
     },
     "metadata": {},
     "output_type": "display_data"
    },
    {
     "data": {
      "text/html": [
       "<h3>Run summary:</h3><br/><style>\n",
       "    table.wandb td:nth-child(1) { padding: 0 10px; text-align: right }\n",
       "    </style><table class=\"wandb\">\n",
       "<tr><td>dist_mean_image</td><td>55.22913</td></tr><tr><td>step</td><td>19</td></tr><tr><td>_step</td><td>20</td></tr><tr><td>_runtime</td><td>20</td></tr><tr><td>_timestamp</td><td>1611641817</td></tr><tr><td>dist_mean</td><td>1287.19669</td></tr><tr><td>dist_min</td><td>0.0</td></tr><tr><td>dist_max</td><td>55263.1407</td></tr><tr><td>q_mean</td><td>-1.0</td></tr><tr><td>q_min</td><td>-1</td></tr><tr><td>q_max</td><td>-1</td></tr><tr><td>sigma2_mean</td><td>-1.0</td></tr><tr><td>sigma2_min</td><td>-1</td></tr><tr><td>sigma2_max</td><td>-1</td></tr></table>"
      ],
      "text/plain": [
       "<IPython.core.display.HTML object>"
      ]
     },
     "metadata": {},
     "output_type": "display_data"
    },
    {
     "data": {
      "text/html": [
       "<h3>Run history:</h3><br/><style>\n",
       "    table.wandb td:nth-child(1) { padding: 0 10px; text-align: right }\n",
       "    </style><table class=\"wandb\">\n",
       "<tr><td>dist_mean_image</td><td>▁▁▁█▁▁▁▁▁▁▁▁▁▁▁▁▁▁▁▁</td></tr><tr><td>step</td><td>▁▁▂▂▂▃▃▄▄▄▅▅▅▆▆▇▇▇██</td></tr><tr><td>_step</td><td>▁▁▂▂▂▃▃▃▄▄▅▅▅▆▆▆▇▇▇██</td></tr><tr><td>_runtime</td><td>▁▁▂▂▂▃▃▄▄▄▅▅▅▆▇▇▇▇███</td></tr><tr><td>_timestamp</td><td>▁▁▂▂▂▃▃▄▄▄▅▅▅▆▇▇▇▇███</td></tr><tr><td>dist_mean</td><td>▁</td></tr><tr><td>dist_min</td><td>▁</td></tr><tr><td>dist_max</td><td>▁</td></tr><tr><td>q_mean</td><td>▁</td></tr><tr><td>q_min</td><td>▁</td></tr><tr><td>q_max</td><td>▁</td></tr><tr><td>sigma2_mean</td><td>▁</td></tr><tr><td>sigma2_min</td><td>▁</td></tr><tr><td>sigma2_max</td><td>▁</td></tr></table><br/>"
      ],
      "text/plain": [
       "<IPython.core.display.HTML object>"
      ]
     },
     "metadata": {},
     "output_type": "display_data"
    },
    {
     "data": {
      "text/html": [
       "Synced 5 W&B file(s), 0 media file(s), 0 artifact file(s) and 0 other file(s)"
      ],
      "text/plain": [
       "<IPython.core.display.HTML object>"
      ]
     },
     "metadata": {},
     "output_type": "display_data"
    },
    {
     "data": {
      "text/html": [
       "\n",
       "                    <br/>Synced <strong style=\"color:#cdcd00\">eternal-sweep-16</strong>: <a href=\"https://wandb.ai/christianml/quadtree/runs/hby8diii\" target=\"_blank\">https://wandb.ai/christianml/quadtree/runs/hby8diii</a><br/>\n",
       "                "
      ],
      "text/plain": [
       "<IPython.core.display.HTML object>"
      ]
     },
     "metadata": {},
     "output_type": "display_data"
    },
    {
     "name": "stderr",
     "output_type": "stream",
     "text": [
      "\u001b[34m\u001b[1mwandb\u001b[0m: Agent Starting Run: ntlgnw47 with config:\n",
      "\u001b[34m\u001b[1mwandb\u001b[0m: \tcrossCheck: False\n",
      "\u001b[34m\u001b[1mwandb\u001b[0m: \tfilter_outliner: False\n",
      "\u001b[34m\u001b[1mwandb\u001b[0m: \tflann: True\n",
      "\u001b[34m\u001b[1mwandb\u001b[0m: \thomography: True\n",
      "\u001b[34m\u001b[1mwandb\u001b[0m: \timage_type: Cyto\n",
      "\u001b[34m\u001b[1mwandb\u001b[0m: \tmaxFeatures: 256\n",
      "\u001b[34m\u001b[1mwandb\u001b[0m: \tpoint_extractor: sift\n",
      "\u001b[34m\u001b[1mwandb\u001b[0m: \tratio: 0.5\n",
      "\u001b[34m\u001b[1mwandb\u001b[0m: \tsource_scanner: Aperio\n",
      "\u001b[34m\u001b[1mwandb\u001b[0m: \ttarget_depth: 0\n",
      "\u001b[34m\u001b[1mwandb\u001b[0m: \tthumbnail_size: [2048, 2048]\n",
      "\u001b[34m\u001b[1mwandb\u001b[0m: \tuse_gray: True\n"
     ]
    },
    {
     "data": {
      "text/html": [
       "\n",
       "                Tracking run with wandb version 0.10.15<br/>\n",
       "                Syncing run <strong style=\"color:#cdcd00\">likely-sweep-17</strong> to <a href=\"https://wandb.ai\" target=\"_blank\">Weights & Biases</a> <a href=\"https://docs.wandb.com/integrations/jupyter.html\" target=\"_blank\">(Documentation)</a>.<br/>\n",
       "                Project page: <a href=\"https://wandb.ai/christianml/quadtree\" target=\"_blank\">https://wandb.ai/christianml/quadtree</a><br/>\n",
       "                Sweep page: <a href=\"https://wandb.ai/christianml/quadtree/sweeps/jbgxjz4o\" target=\"_blank\">https://wandb.ai/christianml/quadtree/sweeps/jbgxjz4o</a><br/>\n",
       "Run page: <a href=\"https://wandb.ai/christianml/quadtree/runs/ntlgnw47\" target=\"_blank\">https://wandb.ai/christianml/quadtree/runs/ntlgnw47</a><br/>\n",
       "                Run data is saved locally in <code>/home/bronzi/ProgProjekte/EIPH_WSI/MIDL2021/Registration/WandB/wandb/run-20210126_071702-ntlgnw47</code><br/><br/>\n",
       "            "
      ],
      "text/plain": [
       "<IPython.core.display.HTML object>"
      ]
     },
     "metadata": {},
     "output_type": "display_data"
    },
    {
     "name": "stderr",
     "output_type": "stream",
     "text": [
      "  0%|          | 0/5 [00:00<?, ?it/s]\n",
      "  0%|          | 0/4 [00:00<?, ?it/s]\u001b[A\n",
      " 25%|██▌       | 1/4 [00:09<00:27,  9.18s/it]\u001b[A\n",
      " 50%|█████     | 2/4 [00:22<00:23, 11.71s/it]\u001b[A\n",
      " 75%|███████▌  | 3/4 [00:34<00:11, 11.80s/it]\u001b[A\n",
      "100%|██████████| 4/4 [00:41<00:00, 10.40s/it]\u001b[A\n",
      " 20%|██        | 1/5 [00:41<02:46, 41.61s/it]\n",
      "  0%|          | 0/4 [00:00<?, ?it/s]\u001b[A\n",
      " 25%|██▌       | 1/4 [00:01<00:04,  1.39s/it]\u001b[A\n",
      " 50%|█████     | 2/4 [00:03<00:03,  1.55s/it]\u001b[A\n",
      " 75%|███████▌  | 3/4 [00:05<00:01,  1.95s/it]\u001b[A\n",
      "100%|██████████| 4/4 [00:06<00:00,  1.72s/it]\u001b[A\n",
      " 40%|████      | 2/5 [00:48<01:03, 21.17s/it]\n",
      "  0%|          | 0/4 [00:00<?, ?it/s]\u001b[A\n",
      " 25%|██▌       | 1/4 [00:10<00:30, 10.19s/it]\u001b[A\n",
      " 50%|█████     | 2/4 [00:26<00:27, 13.84s/it]\u001b[A\n",
      " 75%|███████▌  | 3/4 [00:34<00:11, 11.35s/it]\u001b[A\n",
      "100%|██████████| 4/4 [00:43<00:00, 10.80s/it]\u001b[A\n",
      " 60%|██████    | 3/5 [01:31<01:02, 31.22s/it]\n",
      "  0%|          | 0/4 [00:00<?, ?it/s]\u001b[A\n",
      " 25%|██▌       | 1/4 [00:01<00:04,  1.50s/it]\u001b[A\n",
      " 50%|█████     | 2/4 [00:03<00:03,  1.58s/it]\u001b[A\n",
      " 75%|███████▌  | 3/4 [00:05<00:01,  1.91s/it]\u001b[A\n",
      "100%|██████████| 4/4 [00:06<00:00,  1.75s/it]\u001b[A\n",
      " 80%|████████  | 4/5 [01:38<00:21, 21.66s/it]\n",
      "  0%|          | 0/4 [00:00<?, ?it/s]\u001b[A\n",
      " 25%|██▌       | 1/4 [00:08<00:24,  8.05s/it]\u001b[A\n",
      " 50%|█████     | 2/4 [00:24<00:26, 13.17s/it]\u001b[A\n",
      " 75%|███████▌  | 3/4 [00:34<00:11, 11.56s/it]\u001b[A\n",
      "100%|██████████| 4/4 [00:44<00:00, 11.10s/it]\u001b[A\n",
      "100%|██████████| 5/5 [02:23<00:00, 28.61s/it]\n"
     ]
    },
    {
     "data": {
      "text/html": [
       "<br/>Waiting for W&B process to finish, PID 2325<br/>Program ended successfully."
      ],
      "text/plain": [
       "<IPython.core.display.HTML object>"
      ]
     },
     "metadata": {},
     "output_type": "display_data"
    },
    {
     "data": {
      "application/vnd.jupyter.widget-view+json": {
       "model_id": "",
       "version_major": 2,
       "version_minor": 0
      },
      "text/plain": [
       "VBox(children=(Label(value=' 0.00MB of 0.00MB uploaded (0.00MB deduped)\\r'), FloatProgress(value=1.0, max=1.0)…"
      ]
     },
     "metadata": {},
     "output_type": "display_data"
    },
    {
     "data": {
      "text/html": [
       "Find user logs for this run at: <code>/home/bronzi/ProgProjekte/EIPH_WSI/MIDL2021/Registration/WandB/wandb/run-20210126_071702-ntlgnw47/logs/debug.log</code>"
      ],
      "text/plain": [
       "<IPython.core.display.HTML object>"
      ]
     },
     "metadata": {},
     "output_type": "display_data"
    },
    {
     "data": {
      "text/html": [
       "Find internal logs for this run at: <code>/home/bronzi/ProgProjekte/EIPH_WSI/MIDL2021/Registration/WandB/wandb/run-20210126_071702-ntlgnw47/logs/debug-internal.log</code>"
      ],
      "text/plain": [
       "<IPython.core.display.HTML object>"
      ]
     },
     "metadata": {},
     "output_type": "display_data"
    },
    {
     "data": {
      "text/html": [
       "<h3>Run summary:</h3><br/><style>\n",
       "    table.wandb td:nth-child(1) { padding: 0 10px; text-align: right }\n",
       "    </style><table class=\"wandb\">\n",
       "<tr><td>dist_mean_image</td><td>36.39451</td></tr><tr><td>step</td><td>19</td></tr><tr><td>_step</td><td>20</td></tr><tr><td>_runtime</td><td>145</td></tr><tr><td>_timestamp</td><td>1611641967</td></tr><tr><td>dist_mean</td><td>12.71449</td></tr><tr><td>dist_min</td><td>0.0</td></tr><tr><td>dist_max</td><td>70.53007</td></tr><tr><td>q_mean</td><td>-1.0</td></tr><tr><td>q_min</td><td>-1</td></tr><tr><td>q_max</td><td>-1</td></tr><tr><td>sigma2_mean</td><td>-1.0</td></tr><tr><td>sigma2_min</td><td>-1</td></tr><tr><td>sigma2_max</td><td>-1</td></tr></table>"
      ],
      "text/plain": [
       "<IPython.core.display.HTML object>"
      ]
     },
     "metadata": {},
     "output_type": "display_data"
    },
    {
     "data": {
      "text/html": [
       "<h3>Run history:</h3><br/><style>\n",
       "    table.wandb td:nth-child(1) { padding: 0 10px; text-align: right }\n",
       "    </style><table class=\"wandb\">\n",
       "<tr><td>dist_mean_image</td><td>▂▁▄▆▄▁▅▆▃▁▅▄▃▁█▇▃▁▄▅</td></tr><tr><td>step</td><td>▁▁▂▂▂▃▃▄▄▄▅▅▅▆▆▇▇▇██</td></tr><tr><td>_step</td><td>▁▁▂▂▂▃▃▃▄▄▅▅▅▆▆▆▇▇▇██</td></tr><tr><td>_runtime</td><td>▁▂▂▃▃▃▃▃▄▄▅▅▅▅▆▆▆▇▇██</td></tr><tr><td>_timestamp</td><td>▁▂▂▃▃▃▃▃▄▄▅▅▅▅▆▆▆▇▇██</td></tr><tr><td>dist_mean</td><td>▁</td></tr><tr><td>dist_min</td><td>▁</td></tr><tr><td>dist_max</td><td>▁</td></tr><tr><td>q_mean</td><td>▁</td></tr><tr><td>q_min</td><td>▁</td></tr><tr><td>q_max</td><td>▁</td></tr><tr><td>sigma2_mean</td><td>▁</td></tr><tr><td>sigma2_min</td><td>▁</td></tr><tr><td>sigma2_max</td><td>▁</td></tr></table><br/>"
      ],
      "text/plain": [
       "<IPython.core.display.HTML object>"
      ]
     },
     "metadata": {},
     "output_type": "display_data"
    },
    {
     "data": {
      "text/html": [
       "Synced 5 W&B file(s), 0 media file(s), 0 artifact file(s) and 0 other file(s)"
      ],
      "text/plain": [
       "<IPython.core.display.HTML object>"
      ]
     },
     "metadata": {},
     "output_type": "display_data"
    },
    {
     "data": {
      "text/html": [
       "\n",
       "                    <br/>Synced <strong style=\"color:#cdcd00\">likely-sweep-17</strong>: <a href=\"https://wandb.ai/christianml/quadtree/runs/ntlgnw47\" target=\"_blank\">https://wandb.ai/christianml/quadtree/runs/ntlgnw47</a><br/>\n",
       "                "
      ],
      "text/plain": [
       "<IPython.core.display.HTML object>"
      ]
     },
     "metadata": {},
     "output_type": "display_data"
    },
    {
     "name": "stderr",
     "output_type": "stream",
     "text": [
      "\u001b[34m\u001b[1mwandb\u001b[0m: Agent Starting Run: bfrkrva2 with config:\n",
      "\u001b[34m\u001b[1mwandb\u001b[0m: \tcrossCheck: False\n",
      "\u001b[34m\u001b[1mwandb\u001b[0m: \tfilter_outliner: False\n",
      "\u001b[34m\u001b[1mwandb\u001b[0m: \tflann: False\n",
      "\u001b[34m\u001b[1mwandb\u001b[0m: \thomography: True\n",
      "\u001b[34m\u001b[1mwandb\u001b[0m: \timage_type: Cyto\n",
      "\u001b[34m\u001b[1mwandb\u001b[0m: \tmaxFeatures: 1024\n",
      "\u001b[34m\u001b[1mwandb\u001b[0m: \tpoint_extractor: sift\n",
      "\u001b[34m\u001b[1mwandb\u001b[0m: \tratio: 0.5\n",
      "\u001b[34m\u001b[1mwandb\u001b[0m: \tsource_scanner: Aperio\n",
      "\u001b[34m\u001b[1mwandb\u001b[0m: \ttarget_depth: 0\n",
      "\u001b[34m\u001b[1mwandb\u001b[0m: \tthumbnail_size: [2048, 2048]\n",
      "\u001b[34m\u001b[1mwandb\u001b[0m: \tuse_gray: False\n"
     ]
    },
    {
     "data": {
      "text/html": [
       "\n",
       "                Tracking run with wandb version 0.10.15<br/>\n",
       "                Syncing run <strong style=\"color:#cdcd00\">vivid-sweep-18</strong> to <a href=\"https://wandb.ai\" target=\"_blank\">Weights & Biases</a> <a href=\"https://docs.wandb.com/integrations/jupyter.html\" target=\"_blank\">(Documentation)</a>.<br/>\n",
       "                Project page: <a href=\"https://wandb.ai/christianml/quadtree\" target=\"_blank\">https://wandb.ai/christianml/quadtree</a><br/>\n",
       "                Sweep page: <a href=\"https://wandb.ai/christianml/quadtree/sweeps/jbgxjz4o\" target=\"_blank\">https://wandb.ai/christianml/quadtree/sweeps/jbgxjz4o</a><br/>\n",
       "Run page: <a href=\"https://wandb.ai/christianml/quadtree/runs/bfrkrva2\" target=\"_blank\">https://wandb.ai/christianml/quadtree/runs/bfrkrva2</a><br/>\n",
       "                Run data is saved locally in <code>/home/bronzi/ProgProjekte/EIPH_WSI/MIDL2021/Registration/WandB/wandb/run-20210126_071930-bfrkrva2</code><br/><br/>\n",
       "            "
      ],
      "text/plain": [
       "<IPython.core.display.HTML object>"
      ]
     },
     "metadata": {},
     "output_type": "display_data"
    },
    {
     "name": "stderr",
     "output_type": "stream",
     "text": [
      "  0%|          | 0/5 [00:00<?, ?it/s]\n",
      "  0%|          | 0/4 [00:00<?, ?it/s]\u001b[A\n",
      " 25%|██▌       | 1/4 [00:10<00:32, 10.70s/it]\u001b[A\n",
      " 50%|█████     | 2/4 [00:23<00:24, 12.08s/it]\u001b[A\n",
      " 75%|███████▌  | 3/4 [00:36<00:12, 12.28s/it]\u001b[A\n",
      "100%|██████████| 4/4 [00:43<00:00, 10.88s/it]\u001b[A\n",
      " 20%|██        | 1/5 [00:43<02:54, 43.52s/it]\n",
      "  0%|          | 0/4 [00:00<?, ?it/s]\u001b[A\n",
      " 25%|██▌       | 1/4 [00:01<00:04,  1.56s/it]\u001b[A\n",
      " 50%|█████     | 2/4 [00:03<00:03,  1.82s/it]\u001b[A\n",
      " 75%|███████▌  | 3/4 [00:06<00:02,  2.21s/it]\u001b[A\n",
      "100%|██████████| 4/4 [00:07<00:00,  2.00s/it]\u001b[A\n",
      " 40%|████      | 2/5 [00:51<01:07, 22.62s/it]\n",
      "  0%|          | 0/4 [00:00<?, ?it/s]\u001b[A\n",
      " 25%|██▌       | 1/4 [00:11<00:33, 11.06s/it]\u001b[A\n",
      " 50%|█████     | 2/4 [00:26<00:27, 13.81s/it]\u001b[A\n",
      " 75%|███████▌  | 3/4 [00:36<00:11, 11.95s/it]\u001b[A\n",
      "100%|██████████| 4/4 [00:45<00:00, 11.26s/it]\u001b[A\n",
      " 60%|██████    | 3/5 [01:36<01:05, 32.85s/it]\n",
      "  0%|          | 0/4 [00:00<?, ?it/s]\u001b[A\n",
      " 25%|██▌       | 1/4 [00:01<00:04,  1.51s/it]\u001b[A\n",
      " 50%|█████     | 2/4 [00:03<00:03,  1.54s/it]\u001b[A\n",
      " 75%|███████▌  | 3/4 [00:05<00:01,  1.88s/it]\u001b[A\n",
      "100%|██████████| 4/4 [00:06<00:00,  1.69s/it]\u001b[A\n",
      " 80%|████████  | 4/5 [01:43<00:22, 22.55s/it]\n",
      "  0%|          | 0/4 [00:00<?, ?it/s]\u001b[A\n",
      " 25%|██▌       | 1/4 [00:09<00:27,  9.31s/it]\u001b[A\n",
      " 50%|█████     | 2/4 [00:25<00:27, 13.57s/it]\u001b[A\n",
      " 75%|███████▌  | 3/4 [00:35<00:11, 11.61s/it]\u001b[A\n",
      "100%|██████████| 4/4 [00:44<00:00, 11.01s/it]\u001b[A\n",
      "100%|██████████| 5/5 [02:27<00:00, 29.47s/it]\n"
     ]
    },
    {
     "data": {
      "text/html": [
       "<br/>Waiting for W&B process to finish, PID 2378<br/>Program ended successfully."
      ],
      "text/plain": [
       "<IPython.core.display.HTML object>"
      ]
     },
     "metadata": {},
     "output_type": "display_data"
    },
    {
     "data": {
      "application/vnd.jupyter.widget-view+json": {
       "model_id": "",
       "version_major": 2,
       "version_minor": 0
      },
      "text/plain": [
       "VBox(children=(Label(value=' 0.00MB of 0.00MB uploaded (0.00MB deduped)\\r'), FloatProgress(value=1.0, max=1.0)…"
      ]
     },
     "metadata": {},
     "output_type": "display_data"
    },
    {
     "data": {
      "text/html": [
       "Find user logs for this run at: <code>/home/bronzi/ProgProjekte/EIPH_WSI/MIDL2021/Registration/WandB/wandb/run-20210126_071930-bfrkrva2/logs/debug.log</code>"
      ],
      "text/plain": [
       "<IPython.core.display.HTML object>"
      ]
     },
     "metadata": {},
     "output_type": "display_data"
    },
    {
     "data": {
      "text/html": [
       "Find internal logs for this run at: <code>/home/bronzi/ProgProjekte/EIPH_WSI/MIDL2021/Registration/WandB/wandb/run-20210126_071930-bfrkrva2/logs/debug-internal.log</code>"
      ],
      "text/plain": [
       "<IPython.core.display.HTML object>"
      ]
     },
     "metadata": {},
     "output_type": "display_data"
    },
    {
     "data": {
      "text/html": [
       "<h3>Run summary:</h3><br/><style>\n",
       "    table.wandb td:nth-child(1) { padding: 0 10px; text-align: right }\n",
       "    </style><table class=\"wandb\">\n",
       "<tr><td>dist_mean_image</td><td>53.54207</td></tr><tr><td>step</td><td>19</td></tr><tr><td>_step</td><td>20</td></tr><tr><td>_runtime</td><td>148</td></tr><tr><td>_timestamp</td><td>1611642118</td></tr><tr><td>dist_mean</td><td>12.28538</td></tr><tr><td>dist_min</td><td>0.0</td></tr><tr><td>dist_max</td><td>59.66309</td></tr><tr><td>q_mean</td><td>-1.0</td></tr><tr><td>q_min</td><td>-1</td></tr><tr><td>q_max</td><td>-1</td></tr><tr><td>sigma2_mean</td><td>-1.0</td></tr><tr><td>sigma2_min</td><td>-1</td></tr><tr><td>sigma2_max</td><td>-1</td></tr></table>"
      ],
      "text/plain": [
       "<IPython.core.display.HTML object>"
      ]
     },
     "metadata": {},
     "output_type": "display_data"
    },
    {
     "data": {
      "text/html": [
       "<h3>Run history:</h3><br/><style>\n",
       "    table.wandb td:nth-child(1) { padding: 0 10px; text-align: right }\n",
       "    </style><table class=\"wandb\">\n",
       "<tr><td>dist_mean_image</td><td>▄▁▄▄▃▁▆▄▂▁▅▆▃▁█▇▂▁▇▇</td></tr><tr><td>step</td><td>▁▁▂▂▂▃▃▄▄▄▅▅▅▆▆▇▇▇██</td></tr><tr><td>_step</td><td>▁▁▂▂▂▃▃▃▄▄▅▅▅▆▆▆▇▇▇██</td></tr><tr><td>_runtime</td><td>▁▂▂▃▃▃▃▃▄▄▅▅▅▆▆▆▆▇███</td></tr><tr><td>_timestamp</td><td>▁▂▂▃▃▃▃▃▄▄▅▅▅▆▆▆▆▇███</td></tr><tr><td>dist_mean</td><td>▁</td></tr><tr><td>dist_min</td><td>▁</td></tr><tr><td>dist_max</td><td>▁</td></tr><tr><td>q_mean</td><td>▁</td></tr><tr><td>q_min</td><td>▁</td></tr><tr><td>q_max</td><td>▁</td></tr><tr><td>sigma2_mean</td><td>▁</td></tr><tr><td>sigma2_min</td><td>▁</td></tr><tr><td>sigma2_max</td><td>▁</td></tr></table><br/>"
      ],
      "text/plain": [
       "<IPython.core.display.HTML object>"
      ]
     },
     "metadata": {},
     "output_type": "display_data"
    },
    {
     "data": {
      "text/html": [
       "Synced 5 W&B file(s), 0 media file(s), 0 artifact file(s) and 0 other file(s)"
      ],
      "text/plain": [
       "<IPython.core.display.HTML object>"
      ]
     },
     "metadata": {},
     "output_type": "display_data"
    },
    {
     "data": {
      "text/html": [
       "\n",
       "                    <br/>Synced <strong style=\"color:#cdcd00\">vivid-sweep-18</strong>: <a href=\"https://wandb.ai/christianml/quadtree/runs/bfrkrva2\" target=\"_blank\">https://wandb.ai/christianml/quadtree/runs/bfrkrva2</a><br/>\n",
       "                "
      ],
      "text/plain": [
       "<IPython.core.display.HTML object>"
      ]
     },
     "metadata": {},
     "output_type": "display_data"
    },
    {
     "name": "stderr",
     "output_type": "stream",
     "text": [
      "\u001b[34m\u001b[1mwandb\u001b[0m: Agent Starting Run: pwj527wn with config:\n",
      "\u001b[34m\u001b[1mwandb\u001b[0m: \tcrossCheck: False\n",
      "\u001b[34m\u001b[1mwandb\u001b[0m: \tfilter_outliner: False\n",
      "\u001b[34m\u001b[1mwandb\u001b[0m: \tflann: True\n",
      "\u001b[34m\u001b[1mwandb\u001b[0m: \thomography: True\n",
      "\u001b[34m\u001b[1mwandb\u001b[0m: \timage_type: Cyto\n",
      "\u001b[34m\u001b[1mwandb\u001b[0m: \tmaxFeatures: 1024\n",
      "\u001b[34m\u001b[1mwandb\u001b[0m: \tpoint_extractor: sift\n",
      "\u001b[34m\u001b[1mwandb\u001b[0m: \tratio: 0.4\n",
      "\u001b[34m\u001b[1mwandb\u001b[0m: \tsource_scanner: Aperio\n",
      "\u001b[34m\u001b[1mwandb\u001b[0m: \ttarget_depth: 0\n",
      "\u001b[34m\u001b[1mwandb\u001b[0m: \tthumbnail_size: [4096, 4096]\n",
      "\u001b[34m\u001b[1mwandb\u001b[0m: \tuse_gray: True\n"
     ]
    },
    {
     "data": {
      "text/html": [
       "\n",
       "                Tracking run with wandb version 0.10.15<br/>\n",
       "                Syncing run <strong style=\"color:#cdcd00\">rich-sweep-20</strong> to <a href=\"https://wandb.ai\" target=\"_blank\">Weights & Biases</a> <a href=\"https://docs.wandb.com/integrations/jupyter.html\" target=\"_blank\">(Documentation)</a>.<br/>\n",
       "                Project page: <a href=\"https://wandb.ai/christianml/quadtree\" target=\"_blank\">https://wandb.ai/christianml/quadtree</a><br/>\n",
       "                Sweep page: <a href=\"https://wandb.ai/christianml/quadtree/sweeps/jbgxjz4o\" target=\"_blank\">https://wandb.ai/christianml/quadtree/sweeps/jbgxjz4o</a><br/>\n",
       "Run page: <a href=\"https://wandb.ai/christianml/quadtree/runs/pwj527wn\" target=\"_blank\">https://wandb.ai/christianml/quadtree/runs/pwj527wn</a><br/>\n",
       "                Run data is saved locally in <code>/home/bronzi/ProgProjekte/EIPH_WSI/MIDL2021/Registration/WandB/wandb/run-20210126_072203-pwj527wn</code><br/><br/>\n",
       "            "
      ],
      "text/plain": [
       "<IPython.core.display.HTML object>"
      ]
     },
     "metadata": {},
     "output_type": "display_data"
    },
    {
     "name": "stderr",
     "output_type": "stream",
     "text": [
      "  0%|          | 0/5 [00:00<?, ?it/s]\n",
      "  0%|          | 0/4 [00:00<?, ?it/s]\u001b[A\n",
      " 25%|██▌       | 1/4 [00:12<00:38, 12.70s/it]\u001b[A\n",
      " 50%|█████     | 2/4 [00:30<00:31, 15.74s/it]\u001b[A\n",
      " 75%|███████▌  | 3/4 [00:47<00:16, 16.14s/it]\u001b[A\n",
      "100%|██████████| 4/4 [00:58<00:00, 14.71s/it]\u001b[A\n",
      " 20%|██        | 1/5 [00:58<03:55, 58.84s/it]\n",
      "  0%|          | 0/4 [00:00<?, ?it/s]\u001b[A\n",
      " 25%|██▌       | 1/4 [00:16<00:48, 16.16s/it]\u001b[A\n",
      " 50%|█████     | 2/4 [00:39<00:41, 20.52s/it]\u001b[A\n",
      " 75%|███████▌  | 3/4 [00:53<00:17, 17.40s/it]\u001b[A\n",
      "100%|██████████| 4/4 [01:05<00:00, 16.44s/it]\u001b[A\n",
      " 40%|████      | 2/5 [02:04<03:08, 62.91s/it]\n",
      "  0%|          | 0/4 [00:00<?, ?it/s]\u001b[A\n",
      " 25%|██▌       | 1/4 [00:16<00:48, 16.30s/it]\u001b[A\n",
      " 50%|█████     | 2/4 [00:38<00:40, 20.02s/it]\u001b[A\n",
      " 75%|███████▌  | 3/4 [00:57<00:19, 19.38s/it]\u001b[A\n",
      "100%|██████████| 4/4 [01:10<00:00, 17.54s/it]\u001b[A\n",
      " 60%|██████    | 3/5 [03:14<02:12, 66.23s/it]\n",
      "  0%|          | 0/4 [00:00<?, ?it/s]\u001b[A\n",
      " 25%|██▌       | 1/4 [00:14<00:44, 14.89s/it]\u001b[A\n",
      " 50%|█████     | 2/4 [00:36<00:37, 18.70s/it]\u001b[A\n",
      " 75%|███████▌  | 3/4 [00:51<00:16, 16.96s/it]\u001b[A\n",
      "100%|██████████| 4/4 [01:04<00:00, 16.18s/it]\u001b[A\n",
      " 80%|████████  | 4/5 [04:19<01:05, 65.64s/it]\n",
      "  0%|          | 0/4 [00:00<?, ?it/s]\u001b[A\n",
      " 25%|██▌       | 1/4 [00:19<00:58, 19.41s/it]\u001b[A\n",
      " 50%|█████     | 2/4 [00:45<00:46, 23.10s/it]\u001b[A\n",
      " 75%|███████▌  | 3/4 [00:59<00:18, 18.91s/it]\u001b[A\n",
      "100%|██████████| 4/4 [01:14<00:00, 18.75s/it]\u001b[A\n",
      "100%|██████████| 5/5 [05:34<00:00, 66.90s/it]\n"
     ]
    },
    {
     "data": {
      "text/html": [
       "<br/>Waiting for W&B process to finish, PID 2484<br/>Program ended successfully."
      ],
      "text/plain": [
       "<IPython.core.display.HTML object>"
      ]
     },
     "metadata": {},
     "output_type": "display_data"
    },
    {
     "data": {
      "application/vnd.jupyter.widget-view+json": {
       "model_id": "",
       "version_major": 2,
       "version_minor": 0
      },
      "text/plain": [
       "VBox(children=(Label(value=' 0.00MB of 0.00MB uploaded (0.00MB deduped)\\r'), FloatProgress(value=1.0, max=1.0)…"
      ]
     },
     "metadata": {},
     "output_type": "display_data"
    },
    {
     "data": {
      "text/html": [
       "Find user logs for this run at: <code>/home/bronzi/ProgProjekte/EIPH_WSI/MIDL2021/Registration/WandB/wandb/run-20210126_072203-pwj527wn/logs/debug.log</code>"
      ],
      "text/plain": [
       "<IPython.core.display.HTML object>"
      ]
     },
     "metadata": {},
     "output_type": "display_data"
    },
    {
     "data": {
      "text/html": [
       "Find internal logs for this run at: <code>/home/bronzi/ProgProjekte/EIPH_WSI/MIDL2021/Registration/WandB/wandb/run-20210126_072203-pwj527wn/logs/debug-internal.log</code>"
      ],
      "text/plain": [
       "<IPython.core.display.HTML object>"
      ]
     },
     "metadata": {},
     "output_type": "display_data"
    },
    {
     "data": {
      "text/html": [
       "<h3>Run summary:</h3><br/><style>\n",
       "    table.wandb td:nth-child(1) { padding: 0 10px; text-align: right }\n",
       "    </style><table class=\"wandb\">\n",
       "<tr><td>dist_mean_image</td><td>28.89336</td></tr><tr><td>step</td><td>19</td></tr><tr><td>_step</td><td>20</td></tr><tr><td>_runtime</td><td>335</td></tr><tr><td>_timestamp</td><td>1611642458</td></tr><tr><td>dist_mean</td><td>8.42183</td></tr><tr><td>dist_min</td><td>0.0</td></tr><tr><td>dist_max</td><td>66.27139</td></tr><tr><td>q_mean</td><td>-1.0</td></tr><tr><td>q_min</td><td>-1</td></tr><tr><td>q_max</td><td>-1</td></tr><tr><td>sigma2_mean</td><td>-1.0</td></tr><tr><td>sigma2_min</td><td>-1</td></tr><tr><td>sigma2_max</td><td>-1</td></tr></table>"
      ],
      "text/plain": [
       "<IPython.core.display.HTML object>"
      ]
     },
     "metadata": {},
     "output_type": "display_data"
    },
    {
     "data": {
      "text/html": [
       "<h3>Run history:</h3><br/><style>\n",
       "    table.wandb td:nth-child(1) { padding: 0 10px; text-align: right }\n",
       "    </style><table class=\"wandb\">\n",
       "<tr><td>dist_mean_image</td><td>▃▁▃▃▄▁▅▄▂▁▄▃▃▁█▅▂▁▅▄</td></tr><tr><td>step</td><td>▁▁▂▂▂▃▃▄▄▄▅▅▅▆▆▇▇▇██</td></tr><tr><td>_step</td><td>▁▁▂▂▂▃▃▃▄▄▅▅▅▆▆▆▇▇▇██</td></tr><tr><td>_runtime</td><td>▁▁▂▂▂▃▃▃▄▄▅▅▅▆▆▆▇▇███</td></tr><tr><td>_timestamp</td><td>▁▁▂▂▂▃▃▃▄▄▅▅▅▆▆▆▇▇███</td></tr><tr><td>dist_mean</td><td>▁</td></tr><tr><td>dist_min</td><td>▁</td></tr><tr><td>dist_max</td><td>▁</td></tr><tr><td>q_mean</td><td>▁</td></tr><tr><td>q_min</td><td>▁</td></tr><tr><td>q_max</td><td>▁</td></tr><tr><td>sigma2_mean</td><td>▁</td></tr><tr><td>sigma2_min</td><td>▁</td></tr><tr><td>sigma2_max</td><td>▁</td></tr></table><br/>"
      ],
      "text/plain": [
       "<IPython.core.display.HTML object>"
      ]
     },
     "metadata": {},
     "output_type": "display_data"
    },
    {
     "data": {
      "text/html": [
       "Synced 5 W&B file(s), 0 media file(s), 0 artifact file(s) and 0 other file(s)"
      ],
      "text/plain": [
       "<IPython.core.display.HTML object>"
      ]
     },
     "metadata": {},
     "output_type": "display_data"
    },
    {
     "data": {
      "text/html": [
       "\n",
       "                    <br/>Synced <strong style=\"color:#cdcd00\">rich-sweep-20</strong>: <a href=\"https://wandb.ai/christianml/quadtree/runs/pwj527wn\" target=\"_blank\">https://wandb.ai/christianml/quadtree/runs/pwj527wn</a><br/>\n",
       "                "
      ],
      "text/plain": [
       "<IPython.core.display.HTML object>"
      ]
     },
     "metadata": {},
     "output_type": "display_data"
    },
    {
     "name": "stderr",
     "output_type": "stream",
     "text": [
      "\u001b[34m\u001b[1mwandb\u001b[0m: Agent Starting Run: 5e0o09p1 with config:\n",
      "\u001b[34m\u001b[1mwandb\u001b[0m: \tcrossCheck: False\n",
      "\u001b[34m\u001b[1mwandb\u001b[0m: \tfilter_outliner: False\n",
      "\u001b[34m\u001b[1mwandb\u001b[0m: \tflann: False\n",
      "\u001b[34m\u001b[1mwandb\u001b[0m: \thomography: True\n",
      "\u001b[34m\u001b[1mwandb\u001b[0m: \timage_type: Cyto\n",
      "\u001b[34m\u001b[1mwandb\u001b[0m: \tmaxFeatures: 128\n",
      "\u001b[34m\u001b[1mwandb\u001b[0m: \tpoint_extractor: sift\n",
      "\u001b[34m\u001b[1mwandb\u001b[0m: \tratio: 0.5\n",
      "\u001b[34m\u001b[1mwandb\u001b[0m: \tsource_scanner: Aperio\n",
      "\u001b[34m\u001b[1mwandb\u001b[0m: \ttarget_depth: 0\n",
      "\u001b[34m\u001b[1mwandb\u001b[0m: \tthumbnail_size: [8192, 8192]\n",
      "\u001b[34m\u001b[1mwandb\u001b[0m: \tuse_gray: False\n"
     ]
    },
    {
     "data": {
      "text/html": [
       "\n",
       "                Tracking run with wandb version 0.10.15<br/>\n",
       "                Syncing run <strong style=\"color:#cdcd00\">polished-sweep-22</strong> to <a href=\"https://wandb.ai\" target=\"_blank\">Weights & Biases</a> <a href=\"https://docs.wandb.com/integrations/jupyter.html\" target=\"_blank\">(Documentation)</a>.<br/>\n",
       "                Project page: <a href=\"https://wandb.ai/christianml/quadtree\" target=\"_blank\">https://wandb.ai/christianml/quadtree</a><br/>\n",
       "                Sweep page: <a href=\"https://wandb.ai/christianml/quadtree/sweeps/jbgxjz4o\" target=\"_blank\">https://wandb.ai/christianml/quadtree/sweeps/jbgxjz4o</a><br/>\n",
       "Run page: <a href=\"https://wandb.ai/christianml/quadtree/runs/5e0o09p1\" target=\"_blank\">https://wandb.ai/christianml/quadtree/runs/5e0o09p1</a><br/>\n",
       "                Run data is saved locally in <code>/home/bronzi/ProgProjekte/EIPH_WSI/MIDL2021/Registration/WandB/wandb/run-20210126_072742-5e0o09p1</code><br/><br/>\n",
       "            "
      ],
      "text/plain": [
       "<IPython.core.display.HTML object>"
      ]
     },
     "metadata": {},
     "output_type": "display_data"
    },
    {
     "name": "stderr",
     "output_type": "stream",
     "text": [
      "  0%|          | 0/5 [00:00<?, ?it/s]\n",
      "  0%|          | 0/4 [00:00<?, ?it/s]\u001b[A\n",
      " 25%|██▌       | 1/4 [01:58<05:55, 118.34s/it]\u001b[A\n",
      " 50%|█████     | 2/4 [05:07<05:20, 160.03s/it]\u001b[A\n",
      " 75%|███████▌  | 3/4 [08:12<02:51, 171.54s/it]\u001b[A\n",
      "100%|██████████| 4/4 [10:27<00:00, 156.84s/it]\u001b[A\n",
      " 20%|██        | 1/5 [10:27<41:49, 627.37s/it]\n",
      "  0%|          | 0/4 [00:00<?, ?it/s]\u001b[A\n",
      " 25%|██▌       | 1/4 [02:56<08:49, 176.34s/it]\u001b[A\n",
      " 50%|█████     | 2/4 [05:39<05:36, 168.29s/it]\u001b[A\n",
      " 75%|███████▌  | 3/4 [07:30<02:22, 142.15s/it]\u001b[A\n",
      "100%|██████████| 4/4 [08:22<00:00, 125.53s/it]\u001b[A\n",
      " 40%|████      | 2/5 [18:49<27:41, 553.70s/it]\n",
      "  0%|          | 0/4 [00:00<?, ?it/s]\u001b[A\n",
      " 25%|██▌       | 1/4 [06:13<18:39, 373.12s/it]\u001b[A\n",
      " 50%|█████     | 2/4 [13:36<13:49, 414.58s/it]\u001b[A\n",
      " 75%|███████▌  | 3/4 [19:29<06:26, 386.41s/it]\u001b[A\n",
      "100%|██████████| 4/4 [22:57<00:00, 344.46s/it]\u001b[A\n",
      " 60%|██████    | 3/5 [41:47<31:00, 930.02s/it]\n",
      "  0%|          | 0/4 [00:00<?, ?it/s]\u001b[A\n",
      " 25%|██▌       | 1/4 [01:20<04:00, 80.19s/it]\u001b[A\n",
      " 50%|█████     | 2/4 [02:09<02:04, 62.23s/it]\u001b[A\n",
      " 75%|███████▌  | 3/4 [03:33<01:12, 72.15s/it]\u001b[A\n",
      "100%|██████████| 4/4 [04:11<00:00, 62.82s/it]\u001b[A\n",
      " 80%|████████  | 4/5 [45:58<11:02, 662.06s/it]\n",
      "  0%|          | 0/4 [00:00<?, ?it/s]\u001b[A\n",
      " 25%|██▌       | 1/4 [04:06<12:18, 246.21s/it]\u001b[A\n",
      " 50%|█████     | 2/4 [08:51<08:58, 269.26s/it]\u001b[A\n",
      " 75%|███████▌  | 3/4 [12:22<04:02, 242.60s/it]\u001b[A\n",
      "100%|██████████| 4/4 [15:32<00:00, 233.16s/it]\u001b[A\n",
      "100%|██████████| 5/5 [1:01:31<00:00, 738.26s/it]\n"
     ]
    },
    {
     "data": {
      "text/html": [
       "<br/>Waiting for W&B process to finish, PID 2643<br/>Program ended successfully."
      ],
      "text/plain": [
       "<IPython.core.display.HTML object>"
      ]
     },
     "metadata": {},
     "output_type": "display_data"
    },
    {
     "data": {
      "application/vnd.jupyter.widget-view+json": {
       "model_id": "",
       "version_major": 2,
       "version_minor": 0
      },
      "text/plain": [
       "VBox(children=(Label(value=' 0.00MB of 0.00MB uploaded (0.00MB deduped)\\r'), FloatProgress(value=1.0, max=1.0)…"
      ]
     },
     "metadata": {},
     "output_type": "display_data"
    },
    {
     "data": {
      "text/html": [
       "Find user logs for this run at: <code>/home/bronzi/ProgProjekte/EIPH_WSI/MIDL2021/Registration/WandB/wandb/run-20210126_072742-5e0o09p1/logs/debug.log</code>"
      ],
      "text/plain": [
       "<IPython.core.display.HTML object>"
      ]
     },
     "metadata": {},
     "output_type": "display_data"
    },
    {
     "data": {
      "text/html": [
       "Find internal logs for this run at: <code>/home/bronzi/ProgProjekte/EIPH_WSI/MIDL2021/Registration/WandB/wandb/run-20210126_072742-5e0o09p1/logs/debug-internal.log</code>"
      ],
      "text/plain": [
       "<IPython.core.display.HTML object>"
      ]
     },
     "metadata": {},
     "output_type": "display_data"
    },
    {
     "data": {
      "text/html": [
       "<h3>Run summary:</h3><br/><style>\n",
       "    table.wandb td:nth-child(1) { padding: 0 10px; text-align: right }\n",
       "    </style><table class=\"wandb\">\n",
       "<tr><td>dist_mean_image</td><td>31.18868</td></tr><tr><td>step</td><td>19</td></tr><tr><td>_step</td><td>20</td></tr><tr><td>_runtime</td><td>3692</td></tr><tr><td>_timestamp</td><td>1611646154</td></tr><tr><td>dist_mean</td><td>7.88846</td></tr><tr><td>dist_min</td><td>0.0</td></tr><tr><td>dist_max</td><td>69.44615</td></tr><tr><td>q_mean</td><td>-1.0</td></tr><tr><td>q_min</td><td>-1</td></tr><tr><td>q_max</td><td>-1</td></tr><tr><td>sigma2_mean</td><td>-1.0</td></tr><tr><td>sigma2_min</td><td>-1</td></tr><tr><td>sigma2_max</td><td>-1</td></tr></table>"
      ],
      "text/plain": [
       "<IPython.core.display.HTML object>"
      ]
     },
     "metadata": {},
     "output_type": "display_data"
    },
    {
     "data": {
      "text/html": [
       "<h3>Run history:</h3><br/><style>\n",
       "    table.wandb td:nth-child(1) { padding: 0 10px; text-align: right }\n",
       "    </style><table class=\"wandb\">\n",
       "<tr><td>dist_mean_image</td><td>▃▁▄▃▃▁▅▄▂▁▃▂▅▁▇█▂▁▂▄</td></tr><tr><td>step</td><td>▁▁▂▂▂▃▃▄▄▄▅▅▅▆▆▇▇▇██</td></tr><tr><td>_step</td><td>▁▁▂▂▂▃▃▃▄▄▅▅▅▆▆▆▇▇▇██</td></tr><tr><td>_runtime</td><td>▁▁▂▂▂▃▃▃▄▅▅▆▆▆▆▆▇▇███</td></tr><tr><td>_timestamp</td><td>▁▁▂▂▂▃▃▃▄▅▅▆▆▆▆▆▇▇███</td></tr><tr><td>dist_mean</td><td>▁</td></tr><tr><td>dist_min</td><td>▁</td></tr><tr><td>dist_max</td><td>▁</td></tr><tr><td>q_mean</td><td>▁</td></tr><tr><td>q_min</td><td>▁</td></tr><tr><td>q_max</td><td>▁</td></tr><tr><td>sigma2_mean</td><td>▁</td></tr><tr><td>sigma2_min</td><td>▁</td></tr><tr><td>sigma2_max</td><td>▁</td></tr></table><br/>"
      ],
      "text/plain": [
       "<IPython.core.display.HTML object>"
      ]
     },
     "metadata": {},
     "output_type": "display_data"
    },
    {
     "data": {
      "text/html": [
       "Synced 5 W&B file(s), 0 media file(s), 0 artifact file(s) and 0 other file(s)"
      ],
      "text/plain": [
       "<IPython.core.display.HTML object>"
      ]
     },
     "metadata": {},
     "output_type": "display_data"
    },
    {
     "data": {
      "text/html": [
       "\n",
       "                    <br/>Synced <strong style=\"color:#cdcd00\">polished-sweep-22</strong>: <a href=\"https://wandb.ai/christianml/quadtree/runs/5e0o09p1\" target=\"_blank\">https://wandb.ai/christianml/quadtree/runs/5e0o09p1</a><br/>\n",
       "                "
      ],
      "text/plain": [
       "<IPython.core.display.HTML object>"
      ]
     },
     "metadata": {},
     "output_type": "display_data"
    },
    {
     "name": "stderr",
     "output_type": "stream",
     "text": [
      "\u001b[34m\u001b[1mwandb\u001b[0m: Agent Starting Run: kefj174p with config:\n",
      "\u001b[34m\u001b[1mwandb\u001b[0m: \tcrossCheck: False\n",
      "\u001b[34m\u001b[1mwandb\u001b[0m: \tfilter_outliner: False\n",
      "\u001b[34m\u001b[1mwandb\u001b[0m: \tflann: False\n",
      "\u001b[34m\u001b[1mwandb\u001b[0m: \thomography: True\n",
      "\u001b[34m\u001b[1mwandb\u001b[0m: \timage_type: Cyto\n",
      "\u001b[34m\u001b[1mwandb\u001b[0m: \tmaxFeatures: 64\n",
      "\u001b[34m\u001b[1mwandb\u001b[0m: \tpoint_extractor: sift\n",
      "\u001b[34m\u001b[1mwandb\u001b[0m: \tratio: 0.8\n",
      "\u001b[34m\u001b[1mwandb\u001b[0m: \tsource_scanner: Aperio\n",
      "\u001b[34m\u001b[1mwandb\u001b[0m: \ttarget_depth: 0\n",
      "\u001b[34m\u001b[1mwandb\u001b[0m: \tthumbnail_size: [8192, 8192]\n",
      "\u001b[34m\u001b[1mwandb\u001b[0m: \tuse_gray: False\n"
     ]
    },
    {
     "data": {
      "text/html": [
       "\n",
       "                Tracking run with wandb version 0.10.15<br/>\n",
       "                Syncing run <strong style=\"color:#cdcd00\">easy-sweep-39</strong> to <a href=\"https://wandb.ai\" target=\"_blank\">Weights & Biases</a> <a href=\"https://docs.wandb.com/integrations/jupyter.html\" target=\"_blank\">(Documentation)</a>.<br/>\n",
       "                Project page: <a href=\"https://wandb.ai/christianml/quadtree\" target=\"_blank\">https://wandb.ai/christianml/quadtree</a><br/>\n",
       "                Sweep page: <a href=\"https://wandb.ai/christianml/quadtree/sweeps/jbgxjz4o\" target=\"_blank\">https://wandb.ai/christianml/quadtree/sweeps/jbgxjz4o</a><br/>\n",
       "Run page: <a href=\"https://wandb.ai/christianml/quadtree/runs/kefj174p\" target=\"_blank\">https://wandb.ai/christianml/quadtree/runs/kefj174p</a><br/>\n",
       "                Run data is saved locally in <code>/home/bronzi/ProgProjekte/EIPH_WSI/MIDL2021/Registration/WandB/wandb/run-20210126_082918-kefj174p</code><br/><br/>\n",
       "            "
      ],
      "text/plain": [
       "<IPython.core.display.HTML object>"
      ]
     },
     "metadata": {},
     "output_type": "display_data"
    },
    {
     "name": "stderr",
     "output_type": "stream",
     "text": [
      "  0%|          | 0/5 [00:00<?, ?it/s]\n",
      "  0%|          | 0/4 [00:00<?, ?it/s]\u001b[A\n",
      " 25%|██▌       | 1/4 [02:32<07:37, 152.51s/it]\u001b[A\n",
      " 50%|█████     | 2/4 [06:31<06:46, 203.12s/it]\u001b[A\n",
      " 75%|███████▌  | 3/4 [2:59:18<1:20:44, 4844.50s/it]\u001b[A\n",
      "100%|██████████| 4/4 [3:01:54<00:00, 2728.55s/it]  \u001b[A\n",
      " 20%|██        | 1/5 [3:01:54<12:07:36, 10914.21s/it]\n",
      "  0%|          | 0/4 [00:00<?, ?it/s]\u001b[A\n",
      " 25%|██▌       | 1/4 [01:42<05:06, 102.02s/it]\u001b[A\n",
      " 50%|█████     | 2/4 [04:25<04:36, 138.24s/it]\u001b[A\n",
      " 75%|███████▌  | 3/4 [07:44<02:45, 165.74s/it]\u001b[A\n",
      "100%|██████████| 4/4 [09:41<00:00, 145.30s/it]\u001b[A\n",
      " 40%|████      | 2/5 [3:11:35<4:01:47, 4835.97s/it]  \n",
      "  0%|          | 0/4 [00:00<?, ?it/s]\u001b[A\n",
      " 25%|██▌       | 1/4 [05:24<16:12, 324.18s/it]\u001b[A\n",
      " 50%|█████     | 2/4 [15:23<16:11, 485.76s/it]\u001b[A\n",
      " 75%|███████▌  | 3/4 [22:50<07:48, 468.45s/it]\u001b[A\n",
      "100%|██████████| 4/4 [27:49<00:00, 417.45s/it]\u001b[A\n",
      " 60%|██████    | 3/5 [3:39:25<1:53:00, 3390.24s/it]\n",
      "  0%|          | 0/4 [00:00<?, ?it/s]\u001b[A\n",
      " 25%|██▌       | 1/4 [01:36<04:49, 96.62s/it]\u001b[A\n",
      " 50%|█████     | 2/4 [02:50<02:46, 83.27s/it]\u001b[A\n",
      " 75%|███████▌  | 3/4 [04:14<01:23, 83.62s/it]\u001b[A\n",
      "100%|██████████| 4/4 [04:54<00:00, 73.71s/it]\u001b[A\n",
      " 80%|████████  | 4/5 [3:44:20<36:08, 2168.22s/it]  \n",
      "  0%|          | 0/4 [00:00<?, ?it/s]\u001b[A\n",
      " 25%|██▌       | 1/4 [03:40<11:01, 220.47s/it]\u001b[A\n",
      " 50%|█████     | 2/4 [08:51<09:07, 273.60s/it]\u001b[A\u001b[34m\u001b[1mwandb\u001b[0m: Ctrl + C detected. Stopping sweep.\n"
     ]
    }
   ],
   "source": [
    "wandb.agent(sweep_id, train, project=\"quadtree\")"
   ]
  },
  {
   "cell_type": "code",
   "execution_count": null,
   "metadata": {},
   "outputs": [],
   "source": []
  }
 ],
 "metadata": {
  "kernelspec": {
   "display_name": "Python 3",
   "language": "python",
   "name": "python3"
  },
  "language_info": {
   "codemirror_mode": {
    "name": "ipython",
    "version": 3
   },
   "file_extension": ".py",
   "mimetype": "text/x-python",
   "name": "python",
   "nbconvert_exporter": "python",
   "pygments_lexer": "ipython3",
   "version": "3.8.5"
  }
 },
 "nbformat": 4,
 "nbformat_minor": 4
}
