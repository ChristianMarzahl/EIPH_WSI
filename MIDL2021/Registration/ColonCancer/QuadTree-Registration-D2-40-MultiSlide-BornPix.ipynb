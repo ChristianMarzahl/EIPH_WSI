{
 "cells": [
  {
   "cell_type": "code",
   "execution_count": 1,
   "metadata": {},
   "outputs": [],
   "source": [
    "%reload_ext autoreload\n",
    "%autoreload 2\n",
    "%matplotlib inline"
   ]
  },
  {
   "cell_type": "code",
   "execution_count": 2,
   "metadata": {},
   "outputs": [],
   "source": [
    "#https://scipython.com/blog/quadtrees-2-implementation-in-python/\n",
    "#https://pydoc.net/openslide-python/1.1.1/openslide/\n",
    "\n",
    "import numpy as np\n",
    "import openslide\n",
    "from probreg import cpd\n",
    "from probreg import transformation as tf\n",
    "import cv2\n",
    "from PIL import Image\n",
    "from pathlib import Path\n",
    "import pandas as pd\n",
    "from tqdm import tqdm\n",
    "import json\n",
    "\n",
    "import pickle"
   ]
  },
  {
   "cell_type": "code",
   "execution_count": 3,
   "metadata": {},
   "outputs": [],
   "source": [
    "## HACK get rid of it\n",
    "import sys\n",
    "sys.path.append(\"..\")\n",
    "from registration_tree import Rect, QuadTree"
   ]
  },
  {
   "cell_type": "code",
   "execution_count": 4,
   "metadata": {},
   "outputs": [],
   "source": [
    "source_slide_paths = list(Path(r\"\\\\born_pix.fs-de.local\\born_pix\\CM\\ColonCancer\\exact_1_11\").glob(\"*.tif\"))\n",
    "target_slide_paths  = list(Path(r\"\\\\born_pix.fs-de.local\\born_pix\\CM\\ColonCancer\\exact_1_12\").glob(\"*.tif\"))\n",
    "\n",
    "if len(source_slide_paths) == 0:\n",
    "    source_slide_paths = list(Path(r\"/data/ScannerStudy/MultiSlide/IHC\").glob(\"*.tif\"))\n",
    "\n",
    "if len(target_slide_paths) == 0:\n",
    "    target_slide_paths = list(Path(r\"/data/ScannerStudy/MultiSlide/HE\").glob(\"*.tif\"))"
   ]
  },
  {
   "cell_type": "code",
   "execution_count": 8,
   "metadata": {},
   "outputs": [
    {
     "data": {
      "text/plain": [
       "dict_keys(['01_a', '02_a', '03_a', '03_c', '03_d', '03_e', '03_f', '04_a', '06_a', '06_b', '06_d', '07_a', '07_b', '07_c', '07_d', '07_e', '07_f', '07_g', '09_b', '10_a', '11_a', '11_c', '11_e', '12_a', '13_a'])"
      ]
     },
     "execution_count": 8,
     "metadata": {},
     "output_type": "execute_result"
    }
   ],
   "source": [
    "source_slide_dict = {name.stem: #.replace(\" HE\", \"\"): \n",
    "                      {\"name\": name, \"slide\": openslide.OpenSlide(str(name))}\n",
    "                      for name in source_slide_paths}\n",
    "source_slide_dict.keys()"
   ]
  },
  {
   "cell_type": "code",
   "execution_count": 9,
   "metadata": {},
   "outputs": [
    {
     "data": {
      "text/plain": [
       "dict_keys(['01_a', '02_a', '04_a', '06_a', '06_b', '07_a', '07_b', '07_c', '07_d', '07_e', '07_f', '09_b', '10_a', '11_a', '11_c', '11_e', '12_a', '13_a'])"
      ]
     },
     "execution_count": 9,
     "metadata": {},
     "output_type": "execute_result"
    }
   ],
   "source": [
    "target_slide_dict = {name.stem: #.replace(\" HE\", \"\"):  \n",
    "                      {\"name\": name, \"slide\": openslide.OpenSlide(str(name))}\n",
    "                      for name in target_slide_paths}\n",
    "target_slide_dict.keys()"
   ]
  },
  {
   "cell_type": "code",
   "execution_count": 10,
   "metadata": {},
   "outputs": [
    {
     "name": "stdout",
     "output_type": "stream",
     "text": [
      "03_a\n",
      "03_c\n",
      "03_d\n",
      "03_e\n",
      "03_f\n",
      "06_d\n",
      "07_g\n"
     ]
    }
   ],
   "source": [
    "for name in source_slide_dict:\n",
    "    if name not in target_slide_dict:\n",
    "        print(name)"
   ]
  },
  {
   "cell_type": "code",
   "execution_count": 11,
   "metadata": {},
   "outputs": [],
   "source": [
    "for name in target_slide_dict:\n",
    "    if name not in target_slide_dict:\n",
    "        print(name)"
   ]
  },
  {
   "cell_type": "code",
   "execution_count": 12,
   "metadata": {},
   "outputs": [
    {
     "name": "stdout",
     "output_type": "stream",
     "text": [
      "Wall time: 4min 42s\n"
     ]
    }
   ],
   "source": [
    "%%time\n",
    "\n",
    "results = {}\n",
    "#target_depth = 2\n",
    "\n",
    "for thumbnail_size in [(2048, 2048)]: #(1024, 1024), (2048, 2048), (4096, 4096)\n",
    "    \n",
    "    for target_depth in [0]: # , 1, 2\n",
    "        \n",
    "        result_folder = Path(f\"/MultiSlide/Depth_{target_depth}/{thumbnail_size[0]}\")\n",
    "\n",
    "        result_folder.mkdir(parents=True, exist_ok=True)\n",
    "    \n",
    "        for name, source in source_slide_dict.items():\n",
    "            \n",
    "            if name not in target_slide_dict:\n",
    "                continue\n",
    "\n",
    "            parameter = {\n",
    "                # feature extractor parameters\n",
    "                \"point_extractor\": \"sift\",  #orb , sift\n",
    "                \"maxFeatures\": 2048, \n",
    "                \"crossCheck\": False, \n",
    "                \"flann\": False,\n",
    "                \"ratio\": 0.7, \n",
    "                \"use_gray\": True,\n",
    "\n",
    "                # QTree parameter \n",
    "                \"homography\": True,\n",
    "                \"filter_outliner\": False,\n",
    "                \"debug\": True,\n",
    "                \"target_depth\": target_depth,\n",
    "                \"run_async\": False,\n",
    "                \"thumbnail_size\": thumbnail_size\n",
    "            }\n",
    "\n",
    "            target = target_slide_dict[name]\n",
    "\n",
    "\n",
    "            source_slide = source[\"slide\"]\n",
    "            target_slide = target[\"slide\"]\n",
    "\n",
    "            source_dimension = Rect.create(Rect, 0, 0, source_slide.dimensions[0], source_slide.dimensions[1])\n",
    "            target_dimension = Rect.create(Rect, 0, 0, target_slide.dimensions[0], target_slide.dimensions[1])\n",
    "\n",
    "            qtree = QuadTree(source_dimension, source_slide, target_dimension, target_slide, **parameter)\n",
    "\n",
    "            results[source[\"name\"]] = qtree\n",
    "            \n",
    "            with open(result_folder / f'{qtree.source_name}-To-{qtree.target_name}.pickle', 'wb') as handle:\n",
    "                pickle.dump(qtree, handle, protocol=pickle.HIGHEST_PROTOCOL)"
   ]
  },
  {
   "cell_type": "code",
   "execution_count": 15,
   "metadata": {
    "scrolled": false
   },
   "outputs": [
    {
     "ename": "SyntaxError",
     "evalue": "unexpected EOF while parsing (<ipython-input-15-07cab2da6681>, line 9)",
     "output_type": "error",
     "traceback": [
      "\u001b[1;36m  File \u001b[1;32m\"<ipython-input-15-07cab2da6681>\"\u001b[1;36m, line \u001b[1;32m9\u001b[0m\n\u001b[1;33m    #    break\u001b[0m\n\u001b[1;37m              ^\u001b[0m\n\u001b[1;31mSyntaxError\u001b[0m\u001b[1;31m:\u001b[0m unexpected EOF while parsing\n"
     ]
    }
   ],
   "source": [
    "\n",
    "for idx, (path, qtree) in enumerate(results.items()):\n",
    "    \n",
    "    #if qtree.target_depth != 2:\n",
    "    #    continue\n",
    "    \n",
    "    #qtree.draw_feature_points(num_sub_pic=5, figsize=(12, 12))\n",
    "    \n",
    "    #if idx == 5:\n",
    "    #    break\n"
   ]
  },
  {
   "cell_type": "code",
   "execution_count": 14,
   "metadata": {
    "scrolled": false
   },
   "outputs": [
    {
     "name": "stdout",
     "output_type": "stream",
     "text": [
      "Source: 01_a \n",
      "Target: 01_a \n",
      "Source: (0.00, 0.00, 44768.00, 48000.00) Target: (0.00, 0.00, 44704.00, 48192.00)\n",
      "x: [1.000, -0.002, 405.333], y: [0.002, 1.004, 405.007]] error: 260.685\n",
      "Source: 02_a \n",
      "Target: 02_a \n",
      "Source: (0.00, 0.00, 47856.00, 54512.00) Target: (0.00, 0.00, 51504.00, 57040.00)\n",
      "x: [1.013, -0.005, 936.412], y: [0.003, 0.998, 790.671]] error: 888.716\n",
      "Source: 04_a \n",
      "Target: 04_a \n",
      "Source: (0.00, 0.00, 44704.00, 64352.00) Target: (0.00, 0.00, 44640.00, 64192.00)\n",
      "x: [0.997, -0.001, -118.636], y: [0.008, 1.004, 397.273]] error: 1074.955\n",
      "Source: 06_a \n",
      "Target: 06_a \n",
      "Source: (0.00, 0.00, 54624.00, 70656.00) Target: (0.00, 0.00, 56528.00, 63440.00)\n",
      "x: [0.999, 0.003, -1784.845], y: [-0.003, 1.005, 481.270]] error: 1402.371\n",
      "Source: 06_b \n",
      "Target: 06_b \n",
      "Source: (0.00, 0.00, 53072.00, 62288.00) Target: (0.00, 0.00, 54784.00, 60784.00)\n",
      "x: [0.999, 0.001, -3676.217], y: [-0.000, 1.006, -2131.713]] error: 787.109\n",
      "Source: 07_a \n",
      "Target: 07_a \n",
      "Source: (0.00, 0.00, 43136.00, 68128.00) Target: (0.00, 0.00, 43056.00, 61568.00)\n",
      "x: [0.999, -0.003, -4211.381], y: [0.022, 1.000, -1875.562]] error: 600.305\n",
      "Source: 07_b \n",
      "Target: 07_b \n",
      "Source: (0.00, 0.00, 38176.00, 62464.00) Target: (0.00, 0.00, 37344.00, 60976.00)\n",
      "x: [0.986, -0.002, -4541.442], y: [0.040, 0.990, -2270.621]] error: 387.969\n",
      "Source: 07_c \n",
      "Target: 07_c \n",
      "Source: (0.00, 0.00, 46448.00, 57840.00) Target: (0.00, 0.00, 46336.00, 56032.00)\n",
      "x: [0.998, 0.002, -4407.554], y: [-0.002, 1.001, -1876.792]] error: 334.287\n",
      "Source: 07_d \n",
      "Target: 07_d \n",
      "Source: (0.00, 0.00, 43168.00, 38128.00) Target: (0.00, 0.00, 44624.00, 43648.00)\n",
      "x: [1.045, -0.019, -2255.767], y: [0.037, 1.033, 1324.136]] error: 5362.482\n",
      "Source: 07_e \n",
      "Target: 07_e \n",
      "Source: (0.00, 0.00, 44800.00, 57840.00) Target: (0.00, 0.00, 46464.00, 57008.00)\n",
      "x: [0.999, 0.000, -1724.503], y: [-0.000, 0.999, -600.112]] error: 55.521\n",
      "Source: 07_f \n",
      "Target: 07_f \n",
      "Source: (0.00, 0.00, 43184.00, 47904.00) Target: (0.00, 0.00, 8384.00, 5392.00)\n",
      "x: [0.029, 0.014, -935.385], y: [-0.025, -0.027, 1645.202]] error: 2467.622\n",
      "Source: 09_b \n",
      "Target: 09_b \n",
      "Source: (0.00, 0.00, 54640.00, 58848.00) Target: (0.00, 0.00, 56144.00, 59632.00)\n",
      "x: [0.999, 0.000, -4227.054], y: [-0.001, 1.002, -126.642]] error: 838.624\n",
      "Source: 10_a \n",
      "Target: 10_a \n",
      "Source: (0.00, 0.00, 49808.00, 48256.00) Target: (0.00, 0.00, 52672.00, 60944.00)\n",
      "x: [1.001, -0.001, 2657.393], y: [0.008, 0.998, -9473.034]] error: 2369.148\n",
      "Source: 11_a \n",
      "Target: 11_a \n",
      "Source: (0.00, 0.00, 41488.00, 61296.00) Target: (0.00, 0.00, 44528.00, 53776.00)\n",
      "x: [1.034, -0.003, -4458.034], y: [0.023, 1.013, -7958.630]] error: 1027.231\n",
      "Source: 11_c \n",
      "Target: 11_c \n",
      "Source: (0.00, 0.00, 39776.00, 60160.00) Target: (0.00, 0.00, 39856.00, 41408.00)\n",
      "x: [0.999, 0.003, -4452.928], y: [-0.004, 1.000, -983.224]] error: 470.193\n",
      "Source: 11_e \n",
      "Target: 11_e \n",
      "Source: (0.00, 0.00, 41408.00, 57488.00) Target: (0.00, 0.00, 28368.00, 57600.00)\n",
      "x: [0.999, 0.001, -6827.672], y: [-0.002, 1.000, 235.152]] error: 2781.569\n",
      "Source: 12_a \n",
      "Target: 12_a \n",
      "Source: (0.00, 0.00, 34880.00, 52032.00) Target: (0.00, 0.00, 33360.00, 51936.00)\n",
      "x: [1.000, 0.002, -4567.842], y: [-0.002, 1.000, 73.434]] error: 241.650\n",
      "Source: 13_a \n",
      "Target: 13_a \n",
      "Source: (0.00, 0.00, 48128.00, 55504.00) Target: (0.00, 0.00, 49824.00, 56384.00)\n",
      "x: [1.000, 0.001, -3902.744], y: [-0.003, 1.001, 716.220]] error: 1426.473\n"
     ]
    }
   ],
   "source": [
    "for path, qtree in results.items():\n",
    "        \n",
    "    print(qtree)"
   ]
  },
  {
   "cell_type": "code",
   "execution_count": null,
   "metadata": {},
   "outputs": [],
   "source": []
  }
 ],
 "metadata": {
  "kernelspec": {
   "display_name": "Python 3",
   "language": "python",
   "name": "python3"
  },
  "language_info": {
   "codemirror_mode": {
    "name": "ipython",
    "version": 3
   },
   "file_extension": ".py",
   "mimetype": "text/x-python",
   "name": "python",
   "nbconvert_exporter": "python",
   "pygments_lexer": "ipython3",
   "version": "3.6.10"
  }
 },
 "nbformat": 4,
 "nbformat_minor": 4
}
