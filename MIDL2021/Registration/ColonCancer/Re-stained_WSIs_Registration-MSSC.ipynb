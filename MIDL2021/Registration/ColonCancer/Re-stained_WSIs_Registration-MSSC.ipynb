{
 "cells": [
  {
   "cell_type": "code",
   "execution_count": 1,
   "metadata": {},
   "outputs": [],
   "source": [
    "%reload_ext autoreload\n",
    "%autoreload 2\n",
    "%matplotlib inline"
   ]
  },
  {
   "cell_type": "code",
   "execution_count": 2,
   "metadata": {},
   "outputs": [],
   "source": [
    "from pathlib import Path\n",
    "import openslide"
   ]
  },
  {
   "cell_type": "markdown",
   "metadata": {},
   "source": [
    "https://github.com/smujiang/Re-stained_WSIs_Registration"
   ]
  },
  {
   "cell_type": "code",
   "execution_count": 3,
   "metadata": {},
   "outputs": [],
   "source": [
    "import sys\n",
    "sys.path.append(\"D:/ProgProjekte/Python/Re-stained_WSIs_Registration/src\")\n",
    "\n",
    "from wsi_registration import TissueDetector, MatcherParameters, WSI_Matcher"
   ]
  },
  {
   "cell_type": "code",
   "execution_count": 4,
   "metadata": {},
   "outputs": [],
   "source": [
    "import logging"
   ]
  },
  {
   "cell_type": "code",
   "execution_count": 5,
   "metadata": {},
   "outputs": [],
   "source": [
    "source_slide_paths = list(Path(r\"D:/Datasets/ColonCancer/MultiSlide/HE\").glob(\"*.tif\"))\n",
    "target_slide_paths  = list(Path(r\"D:/Datasets/ColonCancer/MultiSlide/IHC\").glob(\"*.tif\"))\n",
    "\n",
    "if len(source_slide_paths) == 0:\n",
    "    source_slide_paths = list(Path(r\"/data/ScannerStudy/MultiSlide/IHC\").glob(\"*.tif\"))\n",
    "\n",
    "if len(target_slide_paths) == 0:\n",
    "    target_slide_paths = list(Path(r\"/data/ScannerStudy/MultiSlide/HE\").glob(\"*.tif\"))"
   ]
  },
  {
   "cell_type": "code",
   "execution_count": 6,
   "metadata": {},
   "outputs": [
    {
     "data": {
      "text/plain": [
       "dict_keys(['CRC-A1-1', 'CRC-A1-10', 'CRC-A1-13', 'CRC-A1-2', 'CRC-A1-5'])"
      ]
     },
     "execution_count": 6,
     "metadata": {},
     "output_type": "execute_result"
    }
   ],
   "source": [
    "source_slide_dict = {name.stem.replace(\" HE\", \"\"): \n",
    "                      {\"name\": name, \"slide\": openslide.OpenSlide(str(name))}\n",
    "                      for name in source_slide_paths}\n",
    "source_slide_dict.keys()"
   ]
  },
  {
   "cell_type": "code",
   "execution_count": 7,
   "metadata": {},
   "outputs": [
    {
     "data": {
      "text/plain": [
       "dict_keys(['CRC-A1-1', 'CRC-A1-10', 'CRC-A1-13', 'CRC-A1-2', 'CRC-A1-5'])"
      ]
     },
     "execution_count": 7,
     "metadata": {},
     "output_type": "execute_result"
    }
   ],
   "source": [
    "target_slide_dict = {name.stem: #.replace(\" X40 IHC\", \"\"):  \n",
    "                      {\"name\": name, \"slide\": openslide.OpenSlide(str(name))}\n",
    "                      for name in target_slide_paths}\n",
    "target_slide_dict.keys()"
   ]
  },
  {
   "cell_type": "code",
   "execution_count": 8,
   "metadata": {},
   "outputs": [],
   "source": [
    "for name in source_slide_dict:\n",
    "    if name not in target_slide_dict:\n",
    "        print(name)"
   ]
  },
  {
   "cell_type": "code",
   "execution_count": 9,
   "metadata": {},
   "outputs": [],
   "source": [
    "for name in target_slide_dict:\n",
    "    if name not in target_slide_dict:\n",
    "        print(name)"
   ]
  },
  {
   "cell_type": "code",
   "execution_count": 10,
   "metadata": {},
   "outputs": [
    {
     "name": "stderr",
     "output_type": "stream",
     "text": [
      "d:\\anaconda3\\envs\\eiph_wsi\\lib\\site-packages\\numpy\\core\\fromnumeric.py:3373: RuntimeWarning: Mean of empty slice.\n",
      "  out=out, **kwargs)\n",
      "d:\\anaconda3\\envs\\eiph_wsi\\lib\\site-packages\\numpy\\core\\_methods.py:163: RuntimeWarning: invalid value encountered in true_divide\n",
      "  ret, rcount, out=ret, casting='unsafe', subok=False)\n"
     ]
    },
    {
     "name": "stdout",
     "output_type": "stream",
     "text": [
      "S: CRC-A1-1 HE  T: CRC-A1-1 Results: (nan, nan)\n",
      "S: CRC-A1-10 HE  T: CRC-A1-10 Results: (nan, nan)\n",
      "S: CRC-A1-13 HE  T: CRC-A1-13 Results: (7185.429928003097, -14483.539149447766)\n",
      "S: CRC-A1-2 HE  T: CRC-A1-2 Results: (6318.225895064599, -35554.664132960934)\n",
      "S: CRC-A1-5 HE  T: CRC-A1-5 Results: (None, None)\n",
      "Wall time: 7min 43s\n"
     ]
    }
   ],
   "source": [
    "%%time\n",
    "\n",
    "for name, source in source_slide_dict.items():\n",
    "    \n",
    "    if name not in target_slide_dict:\n",
    "        continue\n",
    "        \n",
    "    target = target_slide_dict[name]\n",
    "        \n",
    "    source_slide = source[\"name\"]\n",
    "    target_slide = target[\"name\"]\n",
    "        \n",
    "    tissue_detector = TissueDetector(\"LAB_Threshold\", threshold=90)\n",
    "    matcher_parameters = MatcherParameters() \n",
    "    \n",
    "    try:\n",
    "        matcher = WSI_Matcher(tissue_detector, matcher_parameters)\n",
    "        offset = matcher.match(str(source_slide), str(target_slide))\n",
    "        print(f\"S: {source_slide.stem}  T: {target_slide.stem} Results: {offset}\")\n",
    "    except:\n",
    "         print(f\"S: {source_slide.stem}  T: {target_slide.stem} Results: {None, None}\")"
   ]
  },
  {
   "cell_type": "code",
   "execution_count": 11,
   "metadata": {},
   "outputs": [
    {
     "name": "stderr",
     "output_type": "stream",
     "text": [
      "d:\\anaconda3\\envs\\eiph_wsi\\lib\\site-packages\\numpy\\core\\fromnumeric.py:3373: RuntimeWarning: Mean of empty slice.\n",
      "  out=out, **kwargs)\n",
      "d:\\anaconda3\\envs\\eiph_wsi\\lib\\site-packages\\numpy\\core\\_methods.py:163: RuntimeWarning: invalid value encountered in true_divide\n",
      "  ret, rcount, out=ret, casting='unsafe', subok=False)\n"
     ]
    },
    {
     "name": "stdout",
     "output_type": "stream",
     "text": [
      "S: CRC-A1-1 HE  T: CRC-A1-1 Results: (nan, nan)  TH: 20\n",
      "S: CRC-A1-1 HE  T: CRC-A1-1 Results: (nan, nan)  TH: 30\n",
      "S: CRC-A1-1 HE  T: CRC-A1-1 Results: (nan, nan)  TH: 40\n",
      "S: CRC-A1-1 HE  T: CRC-A1-1 Results: (14397.889758278365, -725.3038143038513)  TH: 50\n",
      "S: CRC-A1-1 HE  T: CRC-A1-1 Results: (14666.053038451126, -2591.367408344656)  TH: 60\n",
      "S: CRC-A1-1 HE  T: CRC-A1-1 Results: (nan, nan)  TH: 70\n",
      "S: CRC-A1-1 HE  T: CRC-A1-1 Results: (13058.602883280264, -42.82795758377199)  TH: 80\n",
      "S: CRC-A1-1 HE  T: CRC-A1-1 Results: (nan, nan)  TH: 90\n",
      "S: CRC-A1-1 HE  T: CRC-A1-1 Results: (nan, nan)  TH: 100\n",
      "S: CRC-A1-1 HE  T: CRC-A1-1 Results: (nan, nan)  TH: 110\n",
      "S: CRC-A1-1 HE  T: CRC-A1-1 Results: (nan, nan)  TH: 120\n",
      "S: CRC-A1-1 HE  T: CRC-A1-1 Results: (nan, nan)  TH: 130\n",
      "S: CRC-A1-10 HE  T: CRC-A1-10 Results: (nan, nan)  TH: 20\n",
      "S: CRC-A1-10 HE  T: CRC-A1-10 Results: (nan, nan)  TH: 30\n",
      "S: CRC-A1-10 HE  T: CRC-A1-10 Results: (nan, nan)  TH: 40\n",
      "S: CRC-A1-10 HE  T: CRC-A1-10 Results: (nan, nan)  TH: 50\n",
      "S: CRC-A1-10 HE  T: CRC-A1-10 Results: (nan, nan)  TH: 60\n",
      "S: CRC-A1-10 HE  T: CRC-A1-10 Results: (nan, nan)  TH: 70\n",
      "S: CRC-A1-10 HE  T: CRC-A1-10 Results: (nan, nan)  TH: 80\n",
      "S: CRC-A1-10 HE  T: CRC-A1-10 Results: (nan, nan)  TH: 90\n",
      "S: CRC-A1-10 HE  T: CRC-A1-10 Results: (nan, nan)  TH: 100\n",
      "S: CRC-A1-10 HE  T: CRC-A1-10 Results: (nan, nan)  TH: 110\n",
      "S: CRC-A1-10 HE  T: CRC-A1-10 Results: (nan, nan)  TH: 120\n",
      "S: CRC-A1-10 HE  T: CRC-A1-10 Results: (nan, nan)  TH: 130\n",
      "S: CRC-A1-13 HE  T: CRC-A1-13 Results: (nan, nan)  TH: 20\n",
      "S: CRC-A1-13 HE  T: CRC-A1-13 Results: (nan, nan)  TH: 30\n",
      "S: CRC-A1-13 HE  T: CRC-A1-13 Results: (56852.4299280031, -14387.539149447766)  TH: 40\n",
      "S: CRC-A1-13 HE  T: CRC-A1-13 Results: (3145.4299280030973, -14181.539149447766)  TH: 50\n",
      "S: CRC-A1-13 HE  T: CRC-A1-13 Results: (4463.429928003097, -14378.539149447766)  TH: 60\n",
      "S: CRC-A1-13 HE  T: CRC-A1-13 Results: (-275.5700719969027, -14506.539149447766)  TH: 70\n",
      "S: CRC-A1-13 HE  T: CRC-A1-13 Results: (3642.4299280030973, -14247.539149447766)  TH: 80\n",
      "S: CRC-A1-13 HE  T: CRC-A1-13 Results: (3353.319188682374, -16036.53979274087)  TH: 90\n",
      "S: CRC-A1-13 HE  T: CRC-A1-13 Results: (4961.429928003097, -14220.539149447766)  TH: 100\n",
      "S: CRC-A1-13 HE  T: CRC-A1-13 Results: (4597.025818840486, -13811.050770641028)  TH: 110\n",
      "S: CRC-A1-13 HE  T: CRC-A1-13 Results: (5684.87877799175, -13678.687145363901)  TH: 120\n"
     ]
    },
    {
     "name": "stderr",
     "output_type": "stream",
     "text": [
      "d:\\anaconda3\\envs\\eiph_wsi\\lib\\site-packages\\numpy\\core\\fromnumeric.py:3373: RuntimeWarning: Mean of empty slice.\n",
      "  out=out, **kwargs)\n",
      "d:\\anaconda3\\envs\\eiph_wsi\\lib\\site-packages\\numpy\\core\\_methods.py:163: RuntimeWarning: invalid value encountered in true_divide\n",
      "  ret, rcount, out=ret, casting='unsafe', subok=False)\n"
     ]
    },
    {
     "name": "stdout",
     "output_type": "stream",
     "text": [
      "S: CRC-A1-13 HE  T: CRC-A1-13 Results: (nan, nan)  TH: 130\n",
      "S: CRC-A1-2 HE  T: CRC-A1-2 Results: (nan, nan)  TH: 20\n",
      "S: CRC-A1-2 HE  T: CRC-A1-2 Results: (nan, nan)  TH: 30\n",
      "S: CRC-A1-2 HE  T: CRC-A1-2 Results: (nan, nan)  TH: 40\n",
      "S: CRC-A1-2 HE  T: CRC-A1-2 Results: (4620.225895064599, -35149.664132960934)  TH: 50\n",
      "S: CRC-A1-2 HE  T: CRC-A1-2 Results: (5145.225895064599, -35025.664132960934)  TH: 60\n",
      "S: CRC-A1-2 HE  T: CRC-A1-2 Results: (2136.2258950645996, -35164.664132960934)  TH: 70\n",
      "S: CRC-A1-2 HE  T: CRC-A1-2 Results: (1966.1499035934166, -36692.35359970639)  TH: 80\n",
      "S: CRC-A1-2 HE  T: CRC-A1-2 Results: (5223.225895064599, -35153.664132960934)  TH: 90\n",
      "S: CRC-A1-2 HE  T: CRC-A1-2 Results: (2266.0004394042917, -35472.16142276575)  TH: 100\n",
      "S: CRC-A1-2 HE  T: CRC-A1-2 Results: (2997.8384317188084, -34978.865886476444)  TH: 110\n"
     ]
    },
    {
     "name": "stderr",
     "output_type": "stream",
     "text": [
      "d:\\anaconda3\\envs\\eiph_wsi\\lib\\site-packages\\numpy\\core\\fromnumeric.py:3373: RuntimeWarning: Mean of empty slice.\n",
      "  out=out, **kwargs)\n",
      "d:\\anaconda3\\envs\\eiph_wsi\\lib\\site-packages\\numpy\\core\\_methods.py:163: RuntimeWarning: invalid value encountered in true_divide\n",
      "  ret, rcount, out=ret, casting='unsafe', subok=False)\n"
     ]
    },
    {
     "name": "stdout",
     "output_type": "stream",
     "text": [
      "S: CRC-A1-2 HE  T: CRC-A1-2 Results: (nan, nan)  TH: 120\n",
      "S: CRC-A1-2 HE  T: CRC-A1-2 Results: (4849.01947553211, -35461.35694256783)  TH: 130\n",
      "S: CRC-A1-5 HE  T: CRC-A1-5 Results: (4849.01947553211, -35461.35694256783)  TH: 20\n",
      "S: CRC-A1-5 HE  T: CRC-A1-5 Results: (4849.01947553211, -35461.35694256783)  TH: 30\n",
      "S: CRC-A1-5 HE  T: CRC-A1-5 Results: (4849.01947553211, -35461.35694256783)  TH: 40\n",
      "S: CRC-A1-5 HE  T: CRC-A1-5 Results: (4849.01947553211, -35461.35694256783)  TH: 50\n",
      "S: CRC-A1-5 HE  T: CRC-A1-5 Results: (4849.01947553211, -35461.35694256783)  TH: 60\n",
      "S: CRC-A1-5 HE  T: CRC-A1-5 Results: (4849.01947553211, -35461.35694256783)  TH: 70\n",
      "S: CRC-A1-5 HE  T: CRC-A1-5 Results: (4849.01947553211, -35461.35694256783)  TH: 80\n",
      "S: CRC-A1-5 HE  T: CRC-A1-5 Results: (4849.01947553211, -35461.35694256783)  TH: 90\n",
      "S: CRC-A1-5 HE  T: CRC-A1-5 Results: (4849.01947553211, -35461.35694256783)  TH: 100\n",
      "S: CRC-A1-5 HE  T: CRC-A1-5 Results: (4849.01947553211, -35461.35694256783)  TH: 110\n",
      "S: CRC-A1-5 HE  T: CRC-A1-5 Results: (4849.01947553211, -35461.35694256783)  TH: 120\n",
      "S: CRC-A1-5 HE  T: CRC-A1-5 Results: (4849.01947553211, -35461.35694256783)  TH: 130\n",
      "Wall time: 1h 25min 6s\n"
     ]
    }
   ],
   "source": [
    "%%time\n",
    "\n",
    "for name, source in source_slide_dict.items():\n",
    "    \n",
    "    if name not in target_slide_dict:\n",
    "        continue\n",
    "        \n",
    "    target = target_slide_dict[name]\n",
    "        \n",
    "    source_slide = source[\"name\"]\n",
    "    target_slide = target[\"name\"]\n",
    "        \n",
    "    for threshold in [20, 30, 40, 50, 60, 70, 80, 90, 100, 110, 120, 130]:\n",
    "        tissue_detector = TissueDetector(\"LAB_Threshold\", threshold=threshold)\n",
    "        matcher_parameters = MatcherParameters() \n",
    "\n",
    "        try:\n",
    "            matcher = WSI_Matcher(tissue_detector, matcher_parameters)\n",
    "            offset = matcher.match(str(source_slide), str(target_slide))\n",
    "            print(f\"S: {source_slide.stem}  T: {target_slide.stem} Results: {offset}  TH: {threshold}\")\n",
    "        except:\n",
    "            print(f\"S: {source_slide.stem}  T: {target_slide.stem} Results: {offset}  TH: {threshold}\")\n",
    "    \n",
    "    "
   ]
  },
  {
   "cell_type": "code",
   "execution_count": null,
   "metadata": {},
   "outputs": [],
   "source": []
  }
 ],
 "metadata": {
  "kernelspec": {
   "display_name": "Python 3",
   "language": "python",
   "name": "python3"
  },
  "language_info": {
   "codemirror_mode": {
    "name": "ipython",
    "version": 3
   },
   "file_extension": ".py",
   "mimetype": "text/x-python",
   "name": "python",
   "nbconvert_exporter": "python",
   "pygments_lexer": "ipython3",
   "version": "3.6.10"
  }
 },
 "nbformat": 4,
 "nbformat_minor": 4
}
