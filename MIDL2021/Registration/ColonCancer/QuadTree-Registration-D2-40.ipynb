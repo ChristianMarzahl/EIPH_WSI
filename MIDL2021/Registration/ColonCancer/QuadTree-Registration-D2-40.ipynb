{
 "cells": [
  {
   "cell_type": "code",
   "execution_count": null,
   "metadata": {},
   "outputs": [],
   "source": [
    "%reload_ext autoreload\n",
    "%autoreload 2\n",
    "%matplotlib inline"
   ]
  },
  {
   "cell_type": "code",
   "execution_count": null,
   "metadata": {},
   "outputs": [],
   "source": [
    "#https://scipython.com/blog/quadtrees-2-implementation-in-python/\n",
    "#https://pydoc.net/openslide-python/1.1.1/openslide/\n",
    "\n",
    "import numpy as np\n",
    "import openslide\n",
    "from probreg import cpd\n",
    "from probreg import transformation as tf\n",
    "import cv2\n",
    "from PIL import Image\n",
    "from pathlib import Path\n",
    "import pandas as pd\n",
    "from tqdm import tqdm\n",
    "import json\n",
    "\n",
    "import pickle"
   ]
  },
  {
   "cell_type": "code",
   "execution_count": null,
   "metadata": {},
   "outputs": [],
   "source": [
    "## HACK get rid of it\n",
    "import sys\n",
    "sys.path.append(\"..\")\n",
    "from registration_tree import Rect, QuadTree"
   ]
  },
  {
   "cell_type": "code",
   "execution_count": null,
   "metadata": {},
   "outputs": [],
   "source": [
    "paths = list(Path(r\"D:/Datasets/ColonCancer/UKSH-HE/\").glob(\"*.tif\"))\n",
    "\n",
    "if len(paths) == 0:\n",
    "    paths = list(Path(r\"/data/ScannerStudy/ColonCancer/UKSH-HE/\").glob(\"*.tif\"))\n",
    "\n",
    "source_slide_paths = [path for path in paths if \"IHC\" in path.stem]\n",
    "target_slide_paths = [path for path in paths if \"IHC\" not in path.stem]"
   ]
  },
  {
   "cell_type": "code",
   "execution_count": null,
   "metadata": {},
   "outputs": [],
   "source": [
    "source_slide_dict = {name.stem.split(\"X40\")[0]\n",
    "                     .replace(\"AI\", \"A1\").replace(\"1D\", \"D1\")\n",
    "                     .replace(\"1F\", \"F1\").replace(\"1E\", \"E1\")\n",
    "                     .replace(\"1G\", \"G1\").replace(\"1H\", \"H1\") \n",
    "                     .replace(\" H \", \" H1 \").replace(\" E \", \" E1 \") \n",
    "                     .replace(\" D \", \" D1 \").replace(\" F \", \" F1 \").replace(\" G \", \" G1 \") \n",
    "                     .replace(\"CRC-A1-1 D1 \", \"CRC-A1-1 \")\n",
    "                     .replace(\"CRC-A1-4 D1 \", \"CRC-A1-4 \")\n",
    "                     .replace(\"CRC-A1-5 D1 \", \"CRC-A1-5 \")\n",
    "                     : \n",
    "                      {\"name\": name, \"slide\": openslide.OpenSlide(str(name))}\n",
    "                      for name in source_slide_paths}\n",
    "source_slide_dict.keys()"
   ]
  },
  {
   "cell_type": "code",
   "execution_count": null,
   "metadata": {},
   "outputs": [],
   "source": [
    "target_slide_dict = {name.stem.split(\"40X\")[0]\n",
    "                     .replace(\"AI\", \"A1\").replace(\"1D\", \"D1\")\n",
    "                     .replace(\"1F\", \"F1\").replace(\"1E\", \"E1\")\n",
    "                     .replace(\"1G\", \"G1\").replace(\"1H\", \"H1\") : \n",
    "                      {\"name\": name, \"slide\": openslide.OpenSlide(str(name))}\n",
    "                      for name in target_slide_paths}\n",
    "target_slide_dict.keys()"
   ]
  },
  {
   "cell_type": "code",
   "execution_count": null,
   "metadata": {},
   "outputs": [],
   "source": [
    "for name in source_slide_dict:\n",
    "    if name not in target_slide_dict:\n",
    "        print(name)"
   ]
  },
  {
   "cell_type": "code",
   "execution_count": null,
   "metadata": {},
   "outputs": [],
   "source": [
    "for name in target_slide_dict:\n",
    "    if name not in target_slide_dict:\n",
    "        print(name)"
   ]
  },
  {
   "cell_type": "code",
   "execution_count": null,
   "metadata": {},
   "outputs": [],
   "source": [
    "df = pd.read_csv(\"CCMCT.csv\", delimiter=\";\", names=[\"image_name\", \"grade\", \"vector\"])\n",
    "df.head()"
   ]
  },
  {
   "cell_type": "code",
   "execution_count": null,
   "metadata": {},
   "outputs": [],
   "source": [
    "df = pd.read_csv(\"CCMCT.csv\", delimiter=\";\", names=[\"image_name\", \"grade\", \"vector\"])\n",
    "df[\"vector\"] = [json.loads(vector)  for vector in df[\"vector\"]]\n",
    "\n",
    "df[\"x1\"] = [vector['x1'] if type(vector) is dict else 0 for vector in df[\"vector\"]]\n",
    "df[\"y1\"] = [vector['y1'] if type(vector) is dict else 0 for vector in df[\"vector\"]]\n",
    "\n",
    "df[\"x2\"] = [vector['x2'] if type(vector) is dict else 0 for vector in df[\"vector\"]]\n",
    "df[\"y2\"] = [vector['y2'] if type(vector) is dict else 0 for vector in df[\"vector\"]]\n",
    "\n",
    "df[\"center_x\"] = [x1 + ((x2-x1) / 2) for x1, x2 in zip(df[\"x1\"], df[\"x2\"])]\n",
    "df[\"center_y\"] = [y1 + ((y2-y1) / 2) for y1, y2 in zip(df[\"y1\"], df[\"y2\"])]\n",
    "\n",
    "df[\"anno_width\"] = [x2-x1 for x1, x2 in zip(df[\"x1\"], df[\"x2\"])]\n",
    "df[\"anno_height\"]= [y2-y1 for y1, y2 in zip(df[\"y1\"], df[\"y2\"])]\n",
    "\n",
    "df.head()"
   ]
  },
  {
   "cell_type": "code",
   "execution_count": null,
   "metadata": {},
   "outputs": [],
   "source": [
    "%%time\n",
    "\n",
    "results = {}\n",
    "#target_depth = 2\n",
    "\n",
    "for thumbnail_size in [(2048, 2048)]: #(1024, 1024), (2048, 2048), (4096, 4096)\n",
    "    \n",
    "    for target_depth in [0, 1, 2]:\n",
    "        \n",
    "        result_folder = Path(f\"Depth_{target_depth}/{thumbnail_size[0]}\")\n",
    "\n",
    "        result_folder.mkdir(parents=True, exist_ok=True)\n",
    "    \n",
    "        for name, source in source_slide_paths.items():\n",
    "\n",
    "            parameter = {\n",
    "                # feature extractor parameters\n",
    "                \"point_extractor\": \"sift\",  #orb , sift\n",
    "                \"maxFeatures\": 512, \n",
    "                \"crossCheck\": False, \n",
    "                \"flann\": False,\n",
    "                \"ratio\": 0.5, \n",
    "                \"use_gray\": False,\n",
    "\n",
    "                # QTree parameter \n",
    "                \"homography\": True,\n",
    "                \"filter_outliner\": False,\n",
    "                \"debug\": True,\n",
    "                \"target_depth\": target_depth,\n",
    "                \"run_async\": False,\n",
    "                \"thumbnail_size\": thumbnail_size\n",
    "            }\n",
    "\n",
    "            target = target_slide_paths[name]\n",
    "\n",
    "\n",
    "            source_slide = source[\"slide\"]\n",
    "            target_slide = target[\"slide\"]\n",
    "\n",
    "            source_dimension = Rect.create(Rect, 0, 0, source_slide.dimensions[0], source_slide.dimensions[1])\n",
    "            target_dimension = Rect.create(Rect, 0, 0, target_slide.dimensions[0], target_slide.dimensions[1])\n",
    "\n",
    "            qtree = QuadTree(source_dimension, source_slide, target_dimension, target_slide, **parameter)\n",
    "\n",
    "            results[source[\"name\"]] = qtree\n",
    "            \n",
    "            with open(result_folder / f'{qtree.source_name}-To-{qtree.target_name}.pickle', 'wb') as handle:\n",
    "                pickle.dump(qtree, handle, protocol=pickle.HIGHEST_PROTOCOL)"
   ]
  },
  {
   "cell_type": "code",
   "execution_count": null,
   "metadata": {
    "scrolled": false
   },
   "outputs": [],
   "source": [
    "for path, qtree in results.items():\n",
    "    \n",
    "    if qtree.target_depth != 2:\n",
    "        continue\n",
    "    \n",
    "    df_gt = df[df[\"image_name\"] == path.name]#.sample(n=5, random_state=1)\n",
    "    \n",
    "    annos = np.array(df_gt[[\"center_x\", \"center_y\", \"anno_width\", \"anno_height\"]]) \n",
    "    qtree.draw_annotations(annos, num_sub_pic=5, figsize=(10, 10))"
   ]
  },
  {
   "cell_type": "code",
   "execution_count": null,
   "metadata": {
    "scrolled": false
   },
   "outputs": [],
   "source": [
    "for path, qtree in results.items():\n",
    "    \n",
    "    if qtree.target_depth != 2:\n",
    "        continue\n",
    "        \n",
    "    print(qtree)"
   ]
  },
  {
   "cell_type": "code",
   "execution_count": null,
   "metadata": {},
   "outputs": [],
   "source": []
  }
 ],
 "metadata": {
  "kernelspec": {
   "display_name": "Python 3",
   "language": "python",
   "name": "python3"
  },
  "language_info": {
   "codemirror_mode": {
    "name": "ipython",
    "version": 3
   },
   "file_extension": ".py",
   "mimetype": "text/x-python",
   "name": "python",
   "nbconvert_exporter": "python",
   "pygments_lexer": "ipython3",
   "version": "3.6.10"
  }
 },
 "nbformat": 4,
 "nbformat_minor": 4
}
