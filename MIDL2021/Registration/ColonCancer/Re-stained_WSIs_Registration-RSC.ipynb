{
 "cells": [
  {
   "cell_type": "code",
   "execution_count": 1,
   "metadata": {},
   "outputs": [],
   "source": [
    "%reload_ext autoreload\n",
    "%autoreload 2\n",
    "%matplotlib inline"
   ]
  },
  {
   "cell_type": "code",
   "execution_count": 2,
   "metadata": {},
   "outputs": [],
   "source": [
    "from pathlib import Path\n",
    "import openslide\n",
    "import pandas as pd"
   ]
  },
  {
   "cell_type": "markdown",
   "metadata": {},
   "source": [
    "https://github.com/smujiang/Re-stained_WSIs_Registration"
   ]
  },
  {
   "cell_type": "code",
   "execution_count": 3,
   "metadata": {},
   "outputs": [],
   "source": [
    "import sys\n",
    "sys.path.append(\"D:/ProgProjekte/Python/Re-stained_WSIs_Registration/src\")\n",
    "\n",
    "from wsi_registration import TissueDetector, MatcherParameters, WSI_Matcher"
   ]
  },
  {
   "cell_type": "code",
   "execution_count": 4,
   "metadata": {},
   "outputs": [],
   "source": [
    "import logging"
   ]
  },
  {
   "cell_type": "code",
   "execution_count": 5,
   "metadata": {},
   "outputs": [],
   "source": [
    "source_slide_paths = list(Path(r\"D:/Datasets/ColonCancer/SingleSlide/HE\").glob(\"*.tif\"))\n",
    "target_slide_paths  = list(Path(r\"D:/Datasets/ColonCancer/SingleSlide/IHC\").glob(\"*.tif\"))\n",
    "\n",
    "if len(source_slide_paths) == 0:\n",
    "    source_slide_paths = list(Path(r\"/data/ScannerStudy/MultiSlide/IHC\").glob(\"*.tif\"))\n",
    "\n",
    "if len(target_slide_paths) == 0:\n",
    "    target_slide_paths = list(Path(r\"/data/ScannerStudy/MultiSlide/HE\").glob(\"*.tif\"))"
   ]
  },
  {
   "cell_type": "code",
   "execution_count": 6,
   "metadata": {},
   "outputs": [
    {
     "data": {
      "text/plain": [
       "dict_keys(['CRC-AI-11 F', 'CRC-AI-14 1G', 'CRC-AI-15', 'CRC-AI-8 E', 'CRC-AI-8 H'])"
      ]
     },
     "execution_count": 6,
     "metadata": {},
     "output_type": "execute_result"
    }
   ],
   "source": [
    "source_slide_dict = {name.stem.replace(\" X40\", \"\"): \n",
    "                      {\"name\": name, \"slide\": openslide.OpenSlide(str(name))}\n",
    "                      for name in source_slide_paths}\n",
    "source_slide_dict.keys()"
   ]
  },
  {
   "cell_type": "code",
   "execution_count": 7,
   "metadata": {},
   "outputs": [
    {
     "data": {
      "text/plain": [
       "dict_keys(['CRC-AI-11 F', 'CRC-AI-14 1G', 'CRC-AI-15', 'CRC-AI-8 E', 'CRC-AI-8 H'])"
      ]
     },
     "execution_count": 7,
     "metadata": {},
     "output_type": "execute_result"
    }
   ],
   "source": [
    "target_slide_dict = {name.stem.replace(\" X40 IHC\", \"\"):  \n",
    "                      {\"name\": name, \"slide\": openslide.OpenSlide(str(name))}\n",
    "                      for name in target_slide_paths}\n",
    "target_slide_dict.keys()"
   ]
  },
  {
   "cell_type": "code",
   "execution_count": 8,
   "metadata": {},
   "outputs": [],
   "source": [
    "for name in source_slide_dict:\n",
    "    if name not in target_slide_dict:\n",
    "        print(name)"
   ]
  },
  {
   "cell_type": "code",
   "execution_count": 9,
   "metadata": {},
   "outputs": [],
   "source": [
    "for name in target_slide_dict:\n",
    "    if name not in target_slide_dict:\n",
    "        print(name)"
   ]
  },
  {
   "cell_type": "code",
   "execution_count": 10,
   "metadata": {},
   "outputs": [
    {
     "name": "stdout",
     "output_type": "stream",
     "text": [
      "S: CRC-AI-11 F X40  T: CRC-AI-11 F X40 IHC Results: (-10471.529660389298, -773.467729323188)\n"
     ]
    },
    {
     "name": "stderr",
     "output_type": "stream",
     "text": [
      "d:\\anaconda3\\envs\\eiph_wsi\\lib\\site-packages\\numpy\\core\\fromnumeric.py:3373: RuntimeWarning: Mean of empty slice.\n",
      "  out=out, **kwargs)\n",
      "d:\\anaconda3\\envs\\eiph_wsi\\lib\\site-packages\\numpy\\core\\_methods.py:163: RuntimeWarning: invalid value encountered in true_divide\n",
      "  ret, rcount, out=ret, casting='unsafe', subok=False)\n"
     ]
    },
    {
     "name": "stdout",
     "output_type": "stream",
     "text": [
      "S: CRC-AI-14 1G X40  T: CRC-AI-14 1G X40 IHC Results: (nan, nan)\n",
      "S: CRC-AI-15 X40  T: CRC-AI-15 X40 IHC Results: (None, None)\n",
      "S: CRC-AI-8 E X40  T: CRC-AI-8 E X40 IHC Results: (None, None)\n",
      "S: CRC-AI-8 H X40  T: CRC-AI-8 H X40 IHC Results: (-12881.449906981761, -2579.249864498956)\n",
      "Wall time: 6min 9s\n"
     ]
    }
   ],
   "source": [
    "%%time\n",
    "\n",
    "for name, source in source_slide_dict.items():\n",
    "    \n",
    "    if name not in target_slide_dict:\n",
    "        continue\n",
    "        \n",
    "    target = target_slide_dict[name]\n",
    "        \n",
    "    source_slide = source[\"name\"]\n",
    "    target_slide = target[\"name\"]\n",
    "        \n",
    "    tissue_detector = TissueDetector(\"LAB_Threshold\", threshold=90)\n",
    "    matcher_parameters = MatcherParameters() \n",
    "    \n",
    "    try:\n",
    "        matcher = WSI_Matcher(tissue_detector, matcher_parameters)\n",
    "        offset = matcher.match(str(source_slide), str(target_slide))\n",
    "        print(f\"S: {source_slide.stem}  T: {target_slide.stem} Results: {offset}\")\n",
    "    except:\n",
    "         print(f\"S: {source_slide.stem}  T: {target_slide.stem} Results: {None, None}\")\n",
    "    \n",
    "    "
   ]
  },
  {
   "cell_type": "code",
   "execution_count": 11,
   "metadata": {},
   "outputs": [
    {
     "name": "stdout",
     "output_type": "stream",
     "text": [
      "S: CRC-AI-11 F X40  T: CRC-AI-11 F X40 IHC Results: (-12881.449906981761, -2579.249864498956)  TH: 20\n",
      "S: CRC-AI-11 F X40  T: CRC-AI-11 F X40 IHC Results: (-12881.449906981761, -2579.249864498956)  TH: 30\n",
      "S: CRC-AI-11 F X40  T: CRC-AI-11 F X40 IHC Results: (-12881.449906981761, -2579.249864498956)  TH: 40\n",
      "S: CRC-AI-11 F X40  T: CRC-AI-11 F X40 IHC Results: (-12881.449906981761, -2579.249864498956)  TH: 50\n",
      "S: CRC-AI-11 F X40  T: CRC-AI-11 F X40 IHC Results: (-10497.33342155597, -816.0838997562856)  TH: 60\n",
      "S: CRC-AI-11 F X40  T: CRC-AI-11 F X40 IHC Results: (-10491.080524616724, -799.8517172167411)  TH: 70\n",
      "S: CRC-AI-11 F X40  T: CRC-AI-11 F X40 IHC Results: (-10472.42778730361, -781.0789411528672)  TH: 80\n",
      "S: CRC-AI-11 F X40  T: CRC-AI-11 F X40 IHC Results: (-10443.068751967532, -745.6069031862601)  TH: 90\n",
      "S: CRC-AI-11 F X40  T: CRC-AI-11 F X40 IHC Results: (-10445.875126132712, -781.3369043527568)  TH: 100\n",
      "S: CRC-AI-11 F X40  T: CRC-AI-11 F X40 IHC Results: (-10461.180342740068, -775.2823465806275)  TH: 110\n",
      "S: CRC-AI-11 F X40  T: CRC-AI-11 F X40 IHC Results: (-10431.827835457934, -720.4308529236507)  TH: 120\n",
      "S: CRC-AI-11 F X40  T: CRC-AI-11 F X40 IHC Results: (-10428.58092063301, -787.0044167798693)  TH: 130\n",
      "S: CRC-AI-14 1G X40  T: CRC-AI-14 1G X40 IHC Results: (-10428.58092063301, -787.0044167798693)  TH: 20\n",
      "S: CRC-AI-14 1G X40  T: CRC-AI-14 1G X40 IHC Results: (-10428.58092063301, -787.0044167798693)  TH: 30\n",
      "S: CRC-AI-14 1G X40  T: CRC-AI-14 1G X40 IHC Results: (-10428.58092063301, -787.0044167798693)  TH: 40\n",
      "S: CRC-AI-14 1G X40  T: CRC-AI-14 1G X40 IHC Results: (-10428.58092063301, -787.0044167798693)  TH: 50\n"
     ]
    },
    {
     "name": "stderr",
     "output_type": "stream",
     "text": [
      "d:\\anaconda3\\envs\\eiph_wsi\\lib\\site-packages\\numpy\\core\\fromnumeric.py:3373: RuntimeWarning: Mean of empty slice.\n",
      "  out=out, **kwargs)\n",
      "d:\\anaconda3\\envs\\eiph_wsi\\lib\\site-packages\\numpy\\core\\_methods.py:163: RuntimeWarning: invalid value encountered in true_divide\n",
      "  ret, rcount, out=ret, casting='unsafe', subok=False)\n"
     ]
    },
    {
     "name": "stdout",
     "output_type": "stream",
     "text": [
      "S: CRC-AI-14 1G X40  T: CRC-AI-14 1G X40 IHC Results: (nan, nan)  TH: 60\n",
      "S: CRC-AI-14 1G X40  T: CRC-AI-14 1G X40 IHC Results: (-415.41668712645344, 1287.0919425792238)  TH: 70\n",
      "S: CRC-AI-14 1G X40  T: CRC-AI-14 1G X40 IHC Results: (-420.9684934834434, 1303.2456389560002)  TH: 80\n",
      "S: CRC-AI-14 1G X40  T: CRC-AI-14 1G X40 IHC Results: (nan, nan)  TH: 90\n",
      "S: CRC-AI-14 1G X40  T: CRC-AI-14 1G X40 IHC Results: (nan, nan)  TH: 100\n",
      "S: CRC-AI-14 1G X40  T: CRC-AI-14 1G X40 IHC Results: (-418.90006540072, 1306.9740034624651)  TH: 110\n",
      "S: CRC-AI-14 1G X40  T: CRC-AI-14 1G X40 IHC Results: (nan, nan)  TH: 120\n",
      "S: CRC-AI-14 1G X40  T: CRC-AI-14 1G X40 IHC Results: (nan, nan)  TH: 130\n",
      "S: CRC-AI-15 X40  T: CRC-AI-15 X40 IHC Results: (nan, nan)  TH: 20\n",
      "S: CRC-AI-15 X40  T: CRC-AI-15 X40 IHC Results: (nan, nan)  TH: 30\n",
      "S: CRC-AI-15 X40  T: CRC-AI-15 X40 IHC Results: (nan, nan)  TH: 40\n",
      "S: CRC-AI-15 X40  T: CRC-AI-15 X40 IHC Results: (nan, nan)  TH: 50\n",
      "S: CRC-AI-15 X40  T: CRC-AI-15 X40 IHC Results: (nan, nan)  TH: 60\n",
      "S: CRC-AI-15 X40  T: CRC-AI-15 X40 IHC Results: (nan, nan)  TH: 70\n",
      "S: CRC-AI-15 X40  T: CRC-AI-15 X40 IHC Results: (nan, nan)  TH: 80\n",
      "S: CRC-AI-15 X40  T: CRC-AI-15 X40 IHC Results: (nan, nan)  TH: 90\n",
      "S: CRC-AI-15 X40  T: CRC-AI-15 X40 IHC Results: (nan, nan)  TH: 100\n",
      "S: CRC-AI-15 X40  T: CRC-AI-15 X40 IHC Results: (nan, nan)  TH: 110\n",
      "S: CRC-AI-15 X40  T: CRC-AI-15 X40 IHC Results: (nan, nan)  TH: 120\n",
      "S: CRC-AI-15 X40  T: CRC-AI-15 X40 IHC Results: (nan, nan)  TH: 130\n",
      "S: CRC-AI-8 E X40  T: CRC-AI-8 E X40 IHC Results: (nan, nan)  TH: 20\n",
      "S: CRC-AI-8 E X40  T: CRC-AI-8 E X40 IHC Results: (nan, nan)  TH: 30\n",
      "S: CRC-AI-8 E X40  T: CRC-AI-8 E X40 IHC Results: (nan, nan)  TH: 40\n",
      "S: CRC-AI-8 E X40  T: CRC-AI-8 E X40 IHC Results: (nan, nan)  TH: 50\n",
      "S: CRC-AI-8 E X40  T: CRC-AI-8 E X40 IHC Results: (nan, nan)  TH: 60\n",
      "S: CRC-AI-8 E X40  T: CRC-AI-8 E X40 IHC Results: (nan, nan)  TH: 70\n",
      "S: CRC-AI-8 E X40  T: CRC-AI-8 E X40 IHC Results: (nan, nan)  TH: 80\n",
      "S: CRC-AI-8 E X40  T: CRC-AI-8 E X40 IHC Results: (nan, nan)  TH: 90\n",
      "S: CRC-AI-8 E X40  T: CRC-AI-8 E X40 IHC Results: (nan, nan)  TH: 100\n",
      "S: CRC-AI-8 E X40  T: CRC-AI-8 E X40 IHC Results: (nan, nan)  TH: 110\n",
      "S: CRC-AI-8 E X40  T: CRC-AI-8 E X40 IHC Results: (nan, nan)  TH: 120\n",
      "S: CRC-AI-8 E X40  T: CRC-AI-8 E X40 IHC Results: (nan, nan)  TH: 130\n",
      "S: CRC-AI-8 H X40  T: CRC-AI-8 H X40 IHC Results: (nan, nan)  TH: 20\n",
      "S: CRC-AI-8 H X40  T: CRC-AI-8 H X40 IHC Results: (nan, nan)  TH: 30\n",
      "S: CRC-AI-8 H X40  T: CRC-AI-8 H X40 IHC Results: (nan, nan)  TH: 40\n",
      "S: CRC-AI-8 H X40  T: CRC-AI-8 H X40 IHC Results: (nan, nan)  TH: 50\n",
      "S: CRC-AI-8 H X40  T: CRC-AI-8 H X40 IHC Results: (-12892.801260773429, -2592.020408660581)  TH: 60\n",
      "S: CRC-AI-8 H X40  T: CRC-AI-8 H X40 IHC Results: (-12884.801260773429, -2584.020408660581)  TH: 70\n",
      "S: CRC-AI-8 H X40  T: CRC-AI-8 H X40 IHC Results: (-12883.066638076176, -2578.2829021315083)  TH: 80\n",
      "S: CRC-AI-8 H X40  T: CRC-AI-8 H X40 IHC Results: (-12881.168223536082, -2579.3574005840774)  TH: 90\n",
      "S: CRC-AI-8 H X40  T: CRC-AI-8 H X40 IHC Results: (-12886.100292946345, -2578.0464372276283)  TH: 100\n",
      "S: CRC-AI-8 H X40  T: CRC-AI-8 H X40 IHC Results: (-12882.794887381177, -2582.5226027283825)  TH: 110\n",
      "S: CRC-AI-8 H X40  T: CRC-AI-8 H X40 IHC Results: (-12883.879565301086, -2577.793356544855)  TH: 120\n",
      "S: CRC-AI-8 H X40  T: CRC-AI-8 H X40 IHC Results: (-12886.379053980769, -2574.683250902474)  TH: 130\n",
      "Wall time: 46min 30s\n"
     ]
    }
   ],
   "source": [
    "%%time\n",
    "\n",
    "for name, source in source_slide_dict.items():\n",
    "    \n",
    "    if name not in target_slide_dict:\n",
    "        continue\n",
    "        \n",
    "    target = target_slide_dict[name]\n",
    "        \n",
    "    source_slide = source[\"name\"]\n",
    "    target_slide = target[\"name\"]\n",
    "        \n",
    "    for threshold in [20, 30, 40, 50, 60, 70, 80, 90, 100, 110, 120, 130]:\n",
    "        tissue_detector = TissueDetector(\"LAB_Threshold\", threshold=threshold)\n",
    "        matcher_parameters = MatcherParameters() \n",
    "\n",
    "        try:\n",
    "            matcher = WSI_Matcher(tissue_detector, matcher_parameters)\n",
    "            offset = matcher.match(str(source_slide), str(target_slide))\n",
    "            print(f\"S: {source_slide.stem}  T: {target_slide.stem} Results: {offset}  TH: {threshold}\")\n",
    "        except:\n",
    "            print(f\"S: {source_slide.stem}  T: {target_slide.stem} Results: {offset}  TH: {threshold}\")\n",
    "    \n",
    "    "
   ]
  },
  {
   "cell_type": "code",
   "execution_count": null,
   "metadata": {},
   "outputs": [],
   "source": []
  }
 ],
 "metadata": {
  "kernelspec": {
   "display_name": "Python 3",
   "language": "python",
   "name": "python3"
  },
  "language_info": {
   "codemirror_mode": {
    "name": "ipython",
    "version": 3
   },
   "file_extension": ".py",
   "mimetype": "text/x-python",
   "name": "python",
   "nbconvert_exporter": "python",
   "pygments_lexer": "ipython3",
   "version": "3.6.10"
  }
 },
 "nbformat": 4,
 "nbformat_minor": 4
}
