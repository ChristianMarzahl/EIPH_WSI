{
 "cells": [
  {
   "cell_type": "code",
   "execution_count": 1,
   "metadata": {},
   "outputs": [],
   "source": [
    "%reload_ext autoreload\n",
    "%autoreload 2\n",
    "%matplotlib inline"
   ]
  },
  {
   "cell_type": "code",
   "execution_count": 2,
   "metadata": {},
   "outputs": [],
   "source": [
    "#https://scipython.com/blog/quadtrees-2-implementation-in-python/\n",
    "#https://pydoc.net/openslide-python/1.1.1/openslide/\n",
    "\n",
    "import numpy as np\n",
    "import openslide\n",
    "from probreg import cpd\n",
    "from probreg import transformation as tf\n",
    "import cv2\n",
    "from PIL import Image\n",
    "from pathlib import Path\n",
    "import pandas as pd\n",
    "from tqdm import tqdm\n",
    "import json\n",
    "\n",
    "import pickle"
   ]
  },
  {
   "cell_type": "code",
   "execution_count": 3,
   "metadata": {},
   "outputs": [],
   "source": [
    "# !pip install  -i https://test.pypi.org/simple/ qt-wsi-registration==0.0.3\n",
    "import qt_wsi_reg.registration_tree as registration"
   ]
  },
  {
   "cell_type": "code",
   "execution_count": 4,
   "metadata": {},
   "outputs": [],
   "source": [
    "source_slide_paths = list(Path(r\"D:/Datasets/ColonCancer/MultiSlide/IHC\").glob(\"*.tif\"))\n",
    "target_slide_paths  = list(Path(r\"D:/Datasets/ColonCancer/MultiSlide/HE\").glob(\"*.tif\"))\n",
    "\n",
    "if len(source_slide_paths) == 0:\n",
    "    source_slide_paths = list(Path(r\"/data/ScannerStudy/MultiSlide/IHC\").glob(\"*.tif\"))\n",
    "\n",
    "if len(target_slide_paths) == 0:\n",
    "    target_slide_paths = list(Path(r\"/data/ScannerStudy/MultiSlide/HE\").glob(\"*.tif\"))"
   ]
  },
  {
   "cell_type": "code",
   "execution_count": 5,
   "metadata": {},
   "outputs": [
    {
     "data": {
      "text/plain": [
       "dict_keys(['CRC-A1-10', 'CRC-A1-5', 'CRC-A1-1', 'CRC-A1-13', 'CRC-A1-2'])"
      ]
     },
     "execution_count": 5,
     "metadata": {},
     "output_type": "execute_result"
    }
   ],
   "source": [
    "source_slide_dict = {name.stem.replace(\" HE\", \"\"): \n",
    "                      {\"name\": name, \"slide\": openslide.OpenSlide(str(name))}\n",
    "                      for name in source_slide_paths}\n",
    "source_slide_dict.keys()"
   ]
  },
  {
   "cell_type": "code",
   "execution_count": 6,
   "metadata": {},
   "outputs": [
    {
     "data": {
      "text/plain": [
       "dict_keys(['CRC-A1-10', 'CRC-A1-5', 'CRC-A1-1', 'CRC-A1-13', 'CRC-A1-2'])"
      ]
     },
     "execution_count": 6,
     "metadata": {},
     "output_type": "execute_result"
    }
   ],
   "source": [
    "target_slide_dict = {name.stem.replace(\" HE\", \"\"):  \n",
    "                      {\"name\": name, \"slide\": openslide.OpenSlide(str(name))}\n",
    "                      for name in target_slide_paths}\n",
    "target_slide_dict.keys()"
   ]
  },
  {
   "cell_type": "code",
   "execution_count": 7,
   "metadata": {},
   "outputs": [],
   "source": [
    "for name in source_slide_dict:\n",
    "    if name not in target_slide_dict:\n",
    "        print(name)"
   ]
  },
  {
   "cell_type": "code",
   "execution_count": 8,
   "metadata": {},
   "outputs": [],
   "source": [
    "for name in target_slide_dict:\n",
    "    if name not in target_slide_dict:\n",
    "        print(name)"
   ]
  },
  {
   "cell_type": "code",
   "execution_count": null,
   "metadata": {},
   "outputs": [],
   "source": [
    "def add_help_fields(frame):\n",
    "    \n",
    "    frame[\"image_name_stem\"] = [Path(image_name).stem for image_name in frame[\"image_name\"]]\n",
    "    \n",
    "    frame[\"patient_id\"] = [name.split(\"_\")[2] for name in frame[\"image_name\"]]\n",
    "\n",
    "    frame[\"x1\"] = [json.loads(vector.replace(\"\\'\",\"\\\"\"))['x1'] for vector in frame[\"vector\"]]\n",
    "    frame[\"y1\"] = [json.loads(vector.replace(\"\\'\",\"\\\"\"))['y1'] for vector in frame[\"vector\"]]\n",
    "\n",
    "    frame[\"x2\"] = [json.loads(vector.replace(\"\\'\",\"\\\"\"))['x2'] for vector in frame[\"vector\"]]\n",
    "    frame[\"y2\"] = [json.loads(vector.replace(\"\\'\",\"\\\"\"))['y2'] for vector in frame[\"vector\"]]\n",
    "\n",
    "    frame[\"center_x\"] = [x1 + ((x2-x1) / 2) for x1, x2 in zip(frame[\"x1\"], frame[\"x2\"])]\n",
    "    frame[\"center_y\"] = [y1 + ((y2-y1) / 2) for y1, y2 in zip(frame[\"y1\"], frame[\"y2\"])]\n",
    "    \n",
    "    frame[\"center\"] = [np.array((center_x, center_y)) for center_x, center_y in zip(frame[\"center_x\"], frame[\"center_y\"])]\n",
    "\n",
    "    frame[\"anno_width\"] = [x2-x1 for x1, x2 in zip(frame[\"x1\"], frame[\"x2\"])]\n",
    "    frame[\"anno_height\"]= [y2-y1 for y1, y2 in zip(frame[\"y1\"], frame[\"y2\"])]\n",
    "    \n",
    "    return frame\n",
    "\n",
    "landmarks = add_help_fields(pd.read_csv(\"../Validation/HE_IHC/GT_D240.csv\"))\n",
    "landmarks.head()"
   ]
  },
  {
   "cell_type": "code",
   "execution_count": 13,
   "metadata": {},
   "outputs": [],
   "source": [
    "%%time\n",
    "\n",
    "results = {}\n",
    "#target_depth = 2\n",
    "\n",
    "for thumbnail_size in [(1024, 1024)]: #(1024, 1024), (2048, 2048), (4096, 4096)\n",
    "    \n",
    "    for target_depth in [2]: # 0, 2\n",
    "        \n",
    "        result_folder = Path(f\"Depth_{target_depth}/{thumbnail_size[0]}\")\n",
    "\n",
    "        result_folder.mkdir(parents=True, exist_ok=True)\n",
    "    \n",
    "        for name, source in source_slide_paths.items():\n",
    "\n",
    "            parameter = {\n",
    "                # feature extractor parameters\n",
    "                \"point_extractor\": \"sift\",  #orb , sift\n",
    "                \"maxFeatures\": 2048, \n",
    "                \"crossCheck\": False, \n",
    "                \"flann\": False,\n",
    "                \"ratio\": 0.7, \n",
    "                \"use_gray\": False,\n",
    "\n",
    "                # QTree parameter \n",
    "                \"homography\": True,\n",
    "                \"filter_outliner\": False,\n",
    "                \"debug\": True,\n",
    "                \"target_depth\": target_depth,\n",
    "                \"run_async\": True,\n",
    "                \"thumbnail_size\": thumbnail_size\n",
    "            }\n",
    "\n",
    "            target = target_slide_paths[name]\n",
    "\n",
    "\n",
    "            source_slide = source[\"slide\"]\n",
    "            target_slide = target[\"slide\"]\n",
    "            \n",
    "            soure_path = source[\"name\"]\n",
    "            targert_path = target[\"name\"]\n",
    "\n",
    "            source_dimension = registration.Rect.create(registration.Rect, 0, 0, source_slide.dimensions[0], source_slide.dimensions[1])\n",
    "            target_dimension = registration.Rect.create(registration.Rect, 0, 0, target_slide.dimensions[0], target_slide.dimensions[1])\n",
    "\n",
    "            qtree = registration.RegistrationQuadTree(source_slide_path=soure_path, target_slide_path=targert_path, **parameter)\n",
    "\n",
    "            results[source[\"name\"]] = qtree\n",
    "            \n",
    "            #with open(result_folder / f'{qtree.source_name}-To-{qtree.target_name}.pickle', 'wb') as handle:\n",
    "            #    pickle.dump(qtree, handle, protocol=pickle.HIGHEST_PROTOCOL)"
   ]
  },
  {
   "cell_type": "code",
   "execution_count": 16,
   "metadata": {
    "scrolled": false
   },
   "outputs": [],
   "source": [
    "for path, qtree in results.items():\n",
    "    \n",
    "    #if qtree.target_depth != 2:\n",
    "    #    continue\n",
    "    \n",
    "    df_gt = landmarks[landmarks[\"image_name\"] == path.name]#.sample(n=5, random_state=1)\n",
    "    \n",
    "    annos = np.array(df_gt[[\"center_x\", \"center_y\", \"anno_width\", \"anno_height\"]]) \n",
    "    result, _ = qtree.draw_annotations(annos, num_sub_pic=5, figsize=(10, 10))\n",
    "    \n",
    "    Path(\"RegResults\").mkdir(exists_ok=True)\n",
    "    result.savefig(f'RegResults/{qtree.source_slide_path.stem}_{qtree.target_slide_path.stem}.pdf')"
   ]
  },
  {
   "cell_type": "code",
   "execution_count": 17,
   "metadata": {
    "scrolled": false
   },
   "outputs": [
    {
     "name": "stdout",
     "output_type": "stream",
     "text": [
      "Source: CRC-A1-1 \n",
      "Target: CRC-A1-1 HE \n",
      "Source: (-0.50, 0.00, 149098.50, 146108.00) Target: (-0.50, -0.50, 140202.50, 146076.50)\n",
      "x: [1.065, 0.006, -16708.524], y: [-0.006, 1.003, 2829.886]] error: 6615.017\n",
      "nw: Source: (-0.50, 0.00, 74549.00, 73054.00) Target: (-0.26, 2828.98, 63076.26, 75649.79)\n",
      "  x: [1.096, -0.011, -16423.440], y: [0.036, 1.027, -3059.340]] error: 5573.612\n",
      "ne: Source: (74549.00, 0.00, 149098.50, 73054.00) Target: (63076.29, 2828.98, 140202.76, 75649.79)\n",
      "  x: [1.013, -0.013, -525.635], y: [-0.039, 1.007, -793.200]] error: 5388.680\n",
      "se: Source: (74549.00, 73054.00, 149098.50, 146108.00) Target: (63076.29, 75649.78, 140202.76, 146076.59)\n",
      "  x: [1.014, 0.037, -1289.913], y: [-0.038, 1.003, -1402.082]] error: 3227.311\n",
      "sw: Source: (-0.50, 73054.00, 74549.00, 146108.00) Target: (-0.26, 75649.78, 63076.26, 146076.59)\n",
      "  x: [1.249, 0.092, -23922.243], y: [0.009, 1.154, -2525.129]] error: 17891.736\n",
      "Source: CRC-A1-10 \n",
      "Target: CRC-A1-10 HE \n",
      "Source: (-0.50, -0.50, 158126.50, 151834.50) Target: (-0.50, 0.00, 155948.50, 142442.00)\n",
      "x: [0.114, 0.518, -47013.025], y: [-0.105, -0.445, 39371.454]] error: 116100.191\n",
      "nw: None\n",
      "ne: None\n",
      "se: None\n",
      "sw: None\n",
      "Source: CRC-A1-13 \n",
      "Target: CRC-A1-13 HE \n",
      "Source: (0.00, 0.00, 117686.00, 148066.00) Target: (-0.50, -0.50, 167358.50, 157452.50)\n",
      "x: [1.004, 0.086, -3997.131], y: [-0.090, 0.993, 16858.073]] error: 22944.758\n",
      "nw: Source: (0.00, 0.00, 58843.00, 74033.00) Target: (-0.14, 16856.65, 61438.14, 85086.49)\n",
      "  x: [0.311, 0.007, 104.355], y: [-0.429, 0.073, 17113.361]] error: 28766.965\n",
      "ne: Source: (58843.00, 0.00, 117686.00, 74033.00) Target: (61437.32, 16856.65, 126873.23, 85086.49)\n",
      "  x: [0.037, -0.249, 15645.519], y: [-0.087, -0.642, 41673.843]] error: 39981.430\n",
      "se: Source: (58843.00, 74033.00, 117686.00, 148066.00) Target: (61437.32, 85086.49, 126873.23, 153316.34)\n",
      "  x: [0.970, 0.073, 604.392], y: [-0.085, 0.923, 2039.622]] error: 8520.973\n",
      "sw: None\n",
      "Source: CRC-A1-2 \n",
      "Target: CRC-A1-2 HE \n",
      "Source: (0.00, 0.00, 122258.00, 142432.00) Target: (-0.50, 0.00, 142526.50, 174232.00)\n",
      "x: [1.025, 0.112, -3277.847], y: [-0.089, 1.041, 46010.551]] error: 32179.854\n",
      "nw: Source: (0.00, 0.00, 61129.00, 71216.00) Target: (-0.75, 46010.42, 67330.75, 114746.69)\n",
      "  x: [0.549, -0.195, 12575.642], y: [-0.251, 0.555, 4563.022]] error: 30513.347\n",
      "ne: Source: (61129.00, 0.00, 122258.00, 71216.00) Target: (67330.58, 46010.42, 137940.43, 114746.69)\n",
      "  x: [-0.054, -0.137, 10807.827], y: [-0.558, -0.261, 33700.906]] error: 49772.687\n",
      "se: Source: (61129.00, 71216.00, 122258.00, 142432.00) Target: (67330.58, 114746.23, 137940.43, 174231.41)\n",
      "  x: [0.476, -0.223, 7184.603], y: [0.270, -0.384, 22208.881]] error: 33357.506\n",
      "sw: Source: (0.00, 71216.00, 61129.00, 142432.00) Target: (-0.75, 114746.23, 67330.75, 174231.41)\n",
      "  x: [0.984, 0.094, 4839.979], y: [-0.091, 0.963, 2541.683]] error: 12319.339\n"
     ]
    }
   ],
   "source": [
    "for path, qtree in results.items():\n",
    "        \n",
    "    print(qtree)"
   ]
  },
  {
   "cell_type": "code",
   "execution_count": null,
   "metadata": {},
   "outputs": [],
   "source": []
  },
  {
   "cell_type": "code",
   "execution_count": null,
   "metadata": {},
   "outputs": [],
   "source": []
  }
 ],
 "metadata": {
  "kernelspec": {
   "display_name": "Python 3",
   "language": "python",
   "name": "python3"
  },
  "language_info": {
   "codemirror_mode": {
    "name": "ipython",
    "version": 3
   },
   "file_extension": ".py",
   "mimetype": "text/x-python",
   "name": "python",
   "nbconvert_exporter": "python",
   "pygments_lexer": "ipython3",
   "version": "3.6.10"
  }
 },
 "nbformat": 4,
 "nbformat_minor": 4
}
