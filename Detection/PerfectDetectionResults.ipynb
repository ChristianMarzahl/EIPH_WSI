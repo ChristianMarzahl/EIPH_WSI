{
 "cells": [
  {
   "cell_type": "code",
   "execution_count": 2,
   "metadata": {},
   "outputs": [],
   "source": [
    "%reload_ext autoreload\n",
    "%autoreload 2\n",
    "%matplotlib inline"
   ]
  },
  {
   "cell_type": "code",
   "execution_count": 3,
   "metadata": {},
   "outputs": [],
   "source": [
    "import warnings\n",
    "warnings.filterwarnings(\"ignore\")"
   ]
  },
  {
   "cell_type": "code",
   "execution_count": 4,
   "metadata": {},
   "outputs": [],
   "source": [
    "import sqlite3\n",
    "import numpy as np\n",
    "from SlideRunner.dataAccess.database import Database\n",
    "from tqdm import tqdm\n",
    "from pathlib import Path\n",
    "import openslide\n",
    "import time\n",
    "import pickle\n",
    "import cv2"
   ]
  },
  {
   "cell_type": "code",
   "execution_count": 5,
   "metadata": {},
   "outputs": [],
   "source": [
    "from fastai import *\n",
    "from fastai.vision import *\n",
    "from fastai.callbacks import *\n",
    "from fastai.data_block import *"
   ]
  },
  {
   "cell_type": "code",
   "execution_count": 6,
   "metadata": {},
   "outputs": [],
   "source": [
    "import matplotlib.pyplot as plt"
   ]
  },
  {
   "cell_type": "code",
   "execution_count": 7,
   "metadata": {},
   "outputs": [],
   "source": [
    "from helper.nms_grid import non_max_suppression_by_grid\n",
    "from helper.nms import non_max_suppression_fast\n",
    "from helper.nms_prob import non_max_suppression\n",
    "from helper.nms_center_distance import non_max_suppression_by_distance"
   ]
  },
  {
   "cell_type": "code",
   "execution_count": 8,
   "metadata": {},
   "outputs": [],
   "source": [
    "from BoundingBox import BoundingBox\n",
    "from BoundingBoxes import BoundingBoxes\n",
    "from Evaluator import *\n",
    "from utils import *"
   ]
  },
  {
   "cell_type": "code",
   "execution_count": 13,
   "metadata": {},
   "outputs": [],
   "source": [
    "path = Path('/data/Datasets/EIPH_WSI/')"
   ]
  },
  {
   "cell_type": "code",
   "execution_count": 14,
   "metadata": {},
   "outputs": [
    {
     "data": {
      "text/plain": [
       "True"
      ]
     },
     "execution_count": 14,
     "metadata": {},
     "output_type": "execute_result"
    }
   ],
   "source": [
    "database = Database()\n",
    "database.open(str(path/'EIPH.sqlite'))"
   ]
  },
  {
   "cell_type": "code",
   "execution_count": 15,
   "metadata": {},
   "outputs": [
    {
     "name": "stderr",
     "output_type": "stream",
     "text": [
      "\r",
      "  0%|          | 0/24 [00:00<?, ?it/s]"
     ]
    },
    {
     "name": "stdout",
     "output_type": "stream",
     "text": [
      "Loading DB into memory ...\n"
     ]
    },
    {
     "name": "stderr",
     "output_type": "stream",
     "text": [
      "\r",
      "  4%|▍         | 1/24 [00:00<00:10,  2.22it/s]"
     ]
    },
    {
     "name": "stdout",
     "output_type": "stream",
     "text": [
      "Loading DB into memory ...\n"
     ]
    },
    {
     "name": "stderr",
     "output_type": "stream",
     "text": [
      "\r",
      "  8%|▊         | 2/24 [00:01<00:15,  1.40it/s]"
     ]
    },
    {
     "name": "stdout",
     "output_type": "stream",
     "text": [
      "Loading DB into memory ...\n"
     ]
    },
    {
     "name": "stderr",
     "output_type": "stream",
     "text": [
      "\r",
      " 12%|█▎        | 3/24 [00:02<00:13,  1.54it/s]"
     ]
    },
    {
     "name": "stdout",
     "output_type": "stream",
     "text": [
      "Loading DB into memory ...\n"
     ]
    },
    {
     "name": "stderr",
     "output_type": "stream",
     "text": [
      " 21%|██        | 5/24 [00:02<00:08,  2.23it/s]"
     ]
    },
    {
     "name": "stdout",
     "output_type": "stream",
     "text": [
      "Loading DB into memory ...\n",
      "Loading DB into memory ...\n",
      "Loading DB into memory ...\n"
     ]
    },
    {
     "name": "stderr",
     "output_type": "stream",
     "text": [
      "\r",
      " 29%|██▉       | 7/24 [00:03<00:06,  2.66it/s]"
     ]
    },
    {
     "name": "stdout",
     "output_type": "stream",
     "text": [
      "Loading DB into memory ...\n"
     ]
    },
    {
     "name": "stderr",
     "output_type": "stream",
     "text": [
      " 38%|███▊      | 9/24 [00:03<00:04,  3.73it/s]"
     ]
    },
    {
     "name": "stdout",
     "output_type": "stream",
     "text": [
      "Loading DB into memory ...\n",
      "Loading DB into memory ...\n",
      "Loading DB into memory ...\n"
     ]
    },
    {
     "name": "stderr",
     "output_type": "stream",
     "text": [
      "\r",
      " 46%|████▌     | 11/24 [00:03<00:02,  4.74it/s]"
     ]
    },
    {
     "name": "stdout",
     "output_type": "stream",
     "text": [
      "Loading DB into memory ...\n"
     ]
    },
    {
     "name": "stderr",
     "output_type": "stream",
     "text": [
      "\r",
      " 50%|█████     | 12/24 [00:04<00:02,  4.20it/s]"
     ]
    },
    {
     "name": "stdout",
     "output_type": "stream",
     "text": [
      "Loading DB into memory ...\n",
      "Loading DB into memory ...\n",
      "Loading DB into memory ...\n",
      "Loading DB into memory ...\n"
     ]
    },
    {
     "name": "stderr",
     "output_type": "stream",
     "text": [
      " 71%|███████   | 17/24 [00:04<00:01,  4.98it/s]"
     ]
    },
    {
     "name": "stdout",
     "output_type": "stream",
     "text": [
      "Loading DB into memory ...\n",
      "Loading DB into memory ...\n"
     ]
    },
    {
     "name": "stderr",
     "output_type": "stream",
     "text": [
      "\r",
      " 79%|███████▉  | 19/24 [00:04<00:00,  6.12it/s]"
     ]
    },
    {
     "name": "stdout",
     "output_type": "stream",
     "text": [
      "Loading DB into memory ...\n",
      "Loading DB into memory ...\n",
      "Loading DB into memory ...\n"
     ]
    },
    {
     "name": "stderr",
     "output_type": "stream",
     "text": [
      "\r",
      " 88%|████████▊ | 21/24 [00:05<00:00,  5.13it/s]"
     ]
    },
    {
     "name": "stdout",
     "output_type": "stream",
     "text": [
      "Loading DB into memory ...\n",
      "Loading DB into memory ...\n"
     ]
    },
    {
     "name": "stderr",
     "output_type": "stream",
     "text": [
      "100%|██████████| 24/24 [00:06<00:00,  3.67it/s]"
     ]
    },
    {
     "name": "stdout",
     "output_type": "stream",
     "text": [
      "Loading DB into memory ...\n"
     ]
    },
    {
     "name": "stderr",
     "output_type": "stream",
     "text": [
      "\n"
     ]
    }
   ],
   "source": [
    "files = []\n",
    "lbl_bbox = []\n",
    "\n",
    "file_paths = []\n",
    "\n",
    "getslides = \"\"\"SELECT uid, filename FROM Slides\"\"\"\n",
    "for currslide, filename in tqdm(database.execute(getslides).fetchall()):\n",
    "    database.loadIntoMemory(currslide)\n",
    "\n",
    "    check = True if 'erliner' in filename else False\n",
    "    slidetype = 'Berliner Blau/' if check else 'Turnbull Blue/'\n",
    "\n",
    "    slide_path = path / slidetype / filename\n",
    "\n",
    "    down_factor = 1\n",
    "\n",
    "    classes = {3: 0, 4: 1, 5: 2, 6: 3, 7: 4}#{3: 1, 4: 2, 5: 3, 6: 4, 7: 5} #\n",
    "    labels, bboxes = [], []\n",
    "    for id, annotation in database.annotations.items():\n",
    "        if annotation.labels[0].classId in classes:\n",
    "            d = 2 * annotation.r / down_factor\n",
    "            x_min = (annotation.x1 - annotation.r) / down_factor\n",
    "            y_min = (annotation.y1 - annotation.r) / down_factor\n",
    "            x_max = x_min + d\n",
    "            y_max = y_min + d\n",
    "            label = classes[annotation.labels[0].classId]\n",
    "\n",
    "            bboxes.append([int(x_min), int(y_min), int(x_max), int(y_max)])\n",
    "            labels.append(label)\n",
    "\n",
    "    if len(bboxes) > 0:\n",
    "        lbl_bbox.append([bboxes, labels])\n",
    "        files.append(slide_path)\n",
    "        \n",
    "        file_paths.append(slide_path)\n",
    "\n",
    "img2bbox = dict(zip(files, np.array(lbl_bbox)))\n",
    "get_y_func = lambda o:img2bbox[o]"
   ]
  },
  {
   "cell_type": "code",
   "execution_count": 16,
   "metadata": {},
   "outputs": [
    {
     "data": {
      "text/plain": [
       "[PosixPath('/data/Datasets/EIPH_WSI/Berliner Blau/01_EIPH_563479 Berliner Blau.svs'),\n",
       " PosixPath('/data/Datasets/EIPH_WSI/Berliner Blau/02_EIPH_574162 berliner blau.svs'),\n",
       " PosixPath('/data/Datasets/EIPH_WSI/Berliner Blau/03_EIPH_566933 R Berliner Blau neu.svs'),\n",
       " PosixPath('/data/Datasets/EIPH_WSI/Berliner Blau/04_EIPH_567017 Berliner Blau.svs'),\n",
       " PosixPath('/data/Datasets/EIPH_WSI/Berliner Blau/05_EIPH_569923 Berliner Blau.svs'),\n",
       " PosixPath('/data/Datasets/EIPH_WSI/Berliner Blau/27_EIPH_571557 berliner blau.svs'),\n",
       " PosixPath('/data/Datasets/EIPH_WSI/Berliner Blau/31_EIPH_568354 Berliner Blau.svs'),\n",
       " PosixPath('/data/Datasets/EIPH_WSI/Berliner Blau/11_EIPH_575697 Berliner Blau.svs'),\n",
       " PosixPath('/data/Datasets/EIPH_WSI/Turnbull Blue/29_EIPH_566481 L Turnbull blue.svs'),\n",
       " PosixPath('/data/Datasets/EIPH_WSI/Turnbull Blue/28_EIPH_569948 L Turnbull blue.svs'),\n",
       " PosixPath('/data/Datasets/EIPH_WSI/Turnbull Blue/14_EIPH_568381 Turnbull blue.svs'),\n",
       " PosixPath('/data/Datasets/EIPH_WSI/Berliner Blau/20_EIPH_576150 berliner blau.svs'),\n",
       " PosixPath('/data/Datasets/EIPH_WSI/Turnbull Blue/07_EIPH_574882 left lung Turnbull blue.svs'),\n",
       " PosixPath('/data/Datasets/EIPH_WSI/Turnbull Blue/08_EIPH_574999 R Turnbull blue.svs'),\n",
       " PosixPath('/data/Datasets/EIPH_WSI/Turnbull Blue/09_EIPH_563417 L Turnbull blue.svs'),\n",
       " PosixPath('/data/Datasets/EIPH_WSI/Turnbull Blue/22_EIPH_575216 Turnbull blue.svs'),\n",
       " PosixPath('/data/Datasets/EIPH_WSI/Berliner Blau/26_EIPH_566482 L Berliner Blau.svs')]"
      ]
     },
     "execution_count": 16,
     "metadata": {},
     "output_type": "execute_result"
    }
   ],
   "source": [
    "file_paths"
   ]
  },
  {
   "cell_type": "code",
   "execution_count": 17,
   "metadata": {},
   "outputs": [],
   "source": [
    "boxes_gt, labels_gt = get_y_func(files[0])\n",
    "boxes_gt, labels_gt = np.array(boxes_gt), np.array(labels_gt)\n",
    "boxes_gt[:, 2:] = boxes_gt[:, 2:] - boxes_gt[:, :2]"
   ]
  },
  {
   "cell_type": "code",
   "execution_count": 18,
   "metadata": {},
   "outputs": [],
   "source": [
    "def calc_ap_fake(boxes_gt, labels_gt, error_percentage:float = 0.2,file:str=\"temp.png\"):\n",
    "    boundingBoxes = BoundingBoxes()\n",
    "    evaluator = Evaluator()\n",
    "    \n",
    "    for box, cla in zip(boxes_gt, labels_gt):\n",
    "        temp = BoundingBox(imageName=str(file), classId=cla, x=box[0],\n",
    "                                       y=box[1],\n",
    "                                       w=box[2], h=box[3], typeCoordinates=CoordinatesType.Absolute,\n",
    "                                       bbType=BBType.GroundTruth, format=BBFormat.XYWH, imgSize=(5000, 5000))\n",
    "        boundingBoxes.addBoundingBox(temp)\n",
    "\n",
    "    for box, cla in zip(boxes_gt, labels_gt):\n",
    "        \n",
    "        if (np.random.choice([0,1], 1, p=[1-error_percentage, error_percentage])[0] == 1):\n",
    "            cla = 2 if cla == 3 else 3\n",
    "        \n",
    "        temp = BoundingBox(imageName=str(file), classId=cla, x=box[0],\n",
    "                                       y=box[1], classConfidence=1,\n",
    "                                       w=box[2], h=box[3], typeCoordinates=CoordinatesType.Absolute,\n",
    "                                       bbType=BBType.Detected, format=BBFormat.XYWH, imgSize=(5000, 5000))\n",
    "        boundingBoxes.addBoundingBox(temp)\n",
    "\n",
    "    metricsPerClass = evaluator.GetPascalVOCMetrics(boundingBoxes, 0.5)\n",
    "    return np.mean([mc['AP'] for mc in metricsPerClass])\n"
   ]
  },
  {
   "cell_type": "code",
   "execution_count": 37,
   "metadata": {},
   "outputs": [
    {
     "data": {
      "text/plain": [
       "0.737509783268065"
      ]
     },
     "execution_count": 37,
     "metadata": {},
     "output_type": "execute_result"
    }
   ],
   "source": [
    "calc_ap_fake(bboxe, labels_gt, error_percentage=0.15)"
   ]
  },
  {
   "cell_type": "code",
   "execution_count": 38,
   "metadata": {},
   "outputs": [
    {
     "data": {
      "text/plain": [
       "0.6804608515344162"
      ]
     },
     "execution_count": 38,
     "metadata": {},
     "output_type": "execute_result"
    }
   ],
   "source": [
    "calc_ap_fake(boxes_gt, labels_gt, error_percentage=0.2)"
   ]
  },
  {
   "cell_type": "code",
   "execution_count": 39,
   "metadata": {},
   "outputs": [
    {
     "data": {
      "text/plain": [
       "0.621609910635306"
      ]
     },
     "execution_count": 39,
     "metadata": {},
     "output_type": "execute_result"
    }
   ],
   "source": [
    "calc_ap_fake(boxes_gt, labels_gt, error_percentage=0.25)"
   ]
  },
  {
   "cell_type": "code",
   "execution_count": 13,
   "metadata": {},
   "outputs": [
    {
     "data": {
      "text/plain": [
       "0.5751201495425893"
      ]
     },
     "execution_count": 13,
     "metadata": {},
     "output_type": "execute_result"
    }
   ],
   "source": [
    "#  68\n",
    "calc_ap_fake(boxes_gt, labels_gt, error_percentage=0.32)"
   ]
  },
  {
   "cell_type": "code",
   "execution_count": 14,
   "metadata": {},
   "outputs": [
    {
     "data": {
      "text/plain": [
       "0.746425555803438"
      ]
     },
     "execution_count": 14,
     "metadata": {},
     "output_type": "execute_result"
    }
   ],
   "source": [
    "# 86\n",
    "calc_ap_fake(boxes_gt, labels_gt, error_percentage=0.14)"
   ]
  },
  {
   "cell_type": "code",
   "execution_count": 15,
   "metadata": {},
   "outputs": [
    {
     "data": {
      "text/plain": [
       "0.5978155286479712"
      ]
     },
     "execution_count": 15,
     "metadata": {},
     "output_type": "execute_result"
    }
   ],
   "source": [
    "# 73\n",
    "calc_ap_fake(boxes_gt, labels_gt, error_percentage=0.27)"
   ]
  },
  {
   "cell_type": "code",
   "execution_count": 21,
   "metadata": {},
   "outputs": [
    {
     "name": "stdout",
     "output_type": "stream",
     "text": [
      "0.555648311300718\n",
      "0.6094898003179081\n",
      "0.5988789197770366\n",
      "0.6422637321865917\n",
      "0.5591384403338612\n",
      "0.5877368885347043\n",
      "0.5713938892068777\n",
      "0.575805047765334\n",
      "0.7567775629667628\n"
     ]
    }
   ],
   "source": [
    "for i in [0.688253, 0.736446, 0.734438, 0.789659, 0.693273, 0.727912, 0.719880, 0.719588, 0.864960]:\n",
    "    print(calc_ap_fake(boxes_gt, labels_gt, error_percentage=1 - i))\n",
    "    "
   ]
  },
  {
   "cell_type": "code",
   "execution_count": 22,
   "metadata": {},
   "outputs": [
    {
     "name": "stdout",
     "output_type": "stream",
     "text": [
      "0.617023167535347\n",
      "0.6466077838032882\n",
      "0.5666047153669802\n",
      "0.5122840233922858\n",
      "0.5974539715114326\n",
      "0.5954900329670574\n",
      "0.6075822364890735\n",
      "0.5946624576835452\n",
      "0.6819706288198658\n"
     ]
    }
   ],
   "source": [
    "for i in [0.742972 ,0.782521, 0.693273, 0.660141, 0.729715, 0.730422, 0.732932, 0.716000, 0.811245]:\n",
    "    print(calc_ap_fake(boxes_gt, labels_gt, error_percentage=1 - i))\n",
    "    \n"
   ]
  },
  {
   "cell_type": "code",
   "execution_count": null,
   "metadata": {},
   "outputs": [],
   "source": []
  }
 ],
 "metadata": {
  "kernelspec": {
   "display_name": "Python 3",
   "language": "python",
   "name": "python3"
  },
  "language_info": {
   "codemirror_mode": {
    "name": "ipython",
    "version": 3
   },
   "file_extension": ".py",
   "mimetype": "text/x-python",
   "name": "python",
   "nbconvert_exporter": "python",
   "pygments_lexer": "ipython3",
   "version": "3.6.7"
  }
 },
 "nbformat": 4,
 "nbformat_minor": 2
}
