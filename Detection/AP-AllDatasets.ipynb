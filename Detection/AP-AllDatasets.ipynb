{
 "cells": [
  {
   "cell_type": "code",
   "execution_count": 1,
   "metadata": {},
   "outputs": [],
   "source": [
    "%reload_ext autoreload\n",
    "%autoreload 2\n",
    "%matplotlib inline"
   ]
  },
  {
   "cell_type": "code",
   "execution_count": 2,
   "metadata": {},
   "outputs": [],
   "source": [
    "import warnings\n",
    "warnings.filterwarnings(\"ignore\")"
   ]
  },
  {
   "cell_type": "code",
   "execution_count": 3,
   "metadata": {},
   "outputs": [],
   "source": [
    "import sqlite3\n",
    "import numpy as np\n",
    "from SlideRunner.dataAccess.database import Database\n",
    "from tqdm import tqdm\n",
    "from pathlib import Path\n",
    "import openslide\n",
    "import time\n",
    "import pickle\n",
    "import cv2"
   ]
  },
  {
   "cell_type": "code",
   "execution_count": 4,
   "metadata": {},
   "outputs": [],
   "source": [
    "import matplotlib.pyplot as plt"
   ]
  },
  {
   "cell_type": "code",
   "execution_count": 5,
   "metadata": {},
   "outputs": [],
   "source": [
    "from helper.nms_center_distance import non_max_suppression_by_distance"
   ]
  },
  {
   "cell_type": "code",
   "execution_count": 6,
   "metadata": {},
   "outputs": [],
   "source": [
    "from BoundingBox import BoundingBox\n",
    "from BoundingBoxes import BoundingBoxes\n",
    "from Evaluator import *\n",
    "from utils import *"
   ]
  },
  {
   "cell_type": "code",
   "execution_count": 7,
   "metadata": {},
   "outputs": [],
   "source": [
    "path = Path('/data/Datasets/EIPH_WSI/')"
   ]
  },
  {
   "cell_type": "code",
   "execution_count": 8,
   "metadata": {},
   "outputs": [
    {
     "data": {
      "text/plain": [
       "True"
      ]
     },
     "execution_count": 8,
     "metadata": {},
     "output_type": "execute_result"
    }
   ],
   "source": [
    "database = Database()\n",
    "database.open(str(path/'EIPH.sqlite'))"
   ]
  },
  {
   "cell_type": "code",
   "execution_count": 9,
   "metadata": {},
   "outputs": [
    {
     "name": "stderr",
     "output_type": "stream",
     "text": [
      "\r",
      "  0%|          | 0/24 [00:00<?, ?it/s]"
     ]
    },
    {
     "name": "stdout",
     "output_type": "stream",
     "text": [
      "Loading DB into memory ...\n"
     ]
    },
    {
     "name": "stderr",
     "output_type": "stream",
     "text": [
      "\r",
      "  4%|▍         | 1/24 [00:00<00:06,  3.35it/s]"
     ]
    },
    {
     "name": "stdout",
     "output_type": "stream",
     "text": [
      "Loading DB into memory ...\n"
     ]
    },
    {
     "name": "stderr",
     "output_type": "stream",
     "text": [
      "\r",
      "  8%|▊         | 2/24 [00:01<00:13,  1.59it/s]"
     ]
    },
    {
     "name": "stdout",
     "output_type": "stream",
     "text": [
      "Loading DB into memory ...\n"
     ]
    },
    {
     "name": "stderr",
     "output_type": "stream",
     "text": [
      "\r",
      " 12%|█▎        | 3/24 [00:02<00:12,  1.74it/s]"
     ]
    },
    {
     "name": "stdout",
     "output_type": "stream",
     "text": [
      "Loading DB into memory ...\n"
     ]
    },
    {
     "name": "stderr",
     "output_type": "stream",
     "text": [
      " 21%|██        | 5/24 [00:02<00:07,  2.43it/s]"
     ]
    },
    {
     "name": "stdout",
     "output_type": "stream",
     "text": [
      "Loading DB into memory ...\n",
      "Loading DB into memory ...\n",
      "Loading DB into memory ...\n"
     ]
    },
    {
     "name": "stderr",
     "output_type": "stream",
     "text": [
      " 33%|███▎      | 8/24 [00:03<00:04,  3.27it/s]"
     ]
    },
    {
     "name": "stdout",
     "output_type": "stream",
     "text": [
      "Loading DB into memory ...\n",
      "Loading DB into memory ...\n"
     ]
    },
    {
     "name": "stderr",
     "output_type": "stream",
     "text": [
      " 46%|████▌     | 11/24 [00:03<00:02,  5.01it/s]"
     ]
    },
    {
     "name": "stdout",
     "output_type": "stream",
     "text": [
      "Loading DB into memory ...\n",
      "Loading DB into memory ...\n",
      "Loading DB into memory ...\n"
     ]
    },
    {
     "name": "stderr",
     "output_type": "stream",
     "text": [
      "\r",
      " 50%|█████     | 12/24 [00:03<00:02,  4.09it/s]"
     ]
    },
    {
     "name": "stdout",
     "output_type": "stream",
     "text": [
      "Loading DB into memory ...\n",
      "Loading DB into memory ...\n",
      "Loading DB into memory ...\n",
      "Loading DB into memory ...\n"
     ]
    },
    {
     "name": "stderr",
     "output_type": "stream",
     "text": [
      "\r",
      " 67%|██████▋   | 16/24 [00:04<00:01,  4.71it/s]"
     ]
    },
    {
     "name": "stdout",
     "output_type": "stream",
     "text": [
      "Loading DB into memory ...\n"
     ]
    },
    {
     "name": "stderr",
     "output_type": "stream",
     "text": [
      " 79%|███████▉  | 19/24 [00:04<00:00,  5.83it/s]"
     ]
    },
    {
     "name": "stdout",
     "output_type": "stream",
     "text": [
      "Loading DB into memory ...\n",
      "Loading DB into memory ...\n",
      "Loading DB into memory ...\n",
      "Loading DB into memory ...\n"
     ]
    },
    {
     "name": "stderr",
     "output_type": "stream",
     "text": [
      "\r",
      " 88%|████████▊ | 21/24 [00:05<00:00,  4.78it/s]"
     ]
    },
    {
     "name": "stdout",
     "output_type": "stream",
     "text": [
      "Loading DB into memory ...\n",
      "Loading DB into memory ...\n"
     ]
    },
    {
     "name": "stderr",
     "output_type": "stream",
     "text": [
      "100%|██████████| 24/24 [00:07<00:00,  3.38it/s]"
     ]
    },
    {
     "name": "stdout",
     "output_type": "stream",
     "text": [
      "Loading DB into memory ...\n"
     ]
    },
    {
     "name": "stderr",
     "output_type": "stream",
     "text": [
      "\n"
     ]
    }
   ],
   "source": [
    "files = []\n",
    "lbl_bbox = []\n",
    "\n",
    "getslides = \"\"\"SELECT uid, filename FROM Slides\"\"\"\n",
    "for currslide, filename in tqdm(database.execute(getslides).fetchall()):\n",
    "    database.loadIntoMemory(currslide)\n",
    "\n",
    "    check = True if 'erliner' in filename else False\n",
    "    slidetype = 'Berliner Blau/' if check else 'Turnbull Blue/'\n",
    "\n",
    "    slide_path = path / slidetype / filename\n",
    "\n",
    "    down_factor = 1\n",
    "\n",
    "    classes = {3: 0, 4: 1, 5: 2, 6: 3, 7: 4}#{3: 1, 4: 2, 5: 3, 6: 4, 7: 5} #\n",
    "    labels, bboxes = [], []\n",
    "    for id, annotation in database.annotations.items():\n",
    "        if annotation.labels[0].classId in classes:\n",
    "            d = 2 * annotation.r / down_factor\n",
    "            x_min = (annotation.x1 - annotation.r) / down_factor\n",
    "            y_min = (annotation.y1 - annotation.r) / down_factor\n",
    "            x_max = x_min + d\n",
    "            y_max = y_min + d\n",
    "            label = classes[annotation.labels[0].classId]\n",
    "\n",
    "            bboxes.append([int(x_min), int(y_min), int(x_max), int(y_max)])\n",
    "            labels.append(label)\n",
    "\n",
    "    if len(bboxes) > 0:\n",
    "        lbl_bbox.append([bboxes, labels])\n",
    "        files.append(slide_path)\n",
    "\n",
    "img2bbox = dict(zip(files, np.array(lbl_bbox)))\n",
    "get_y_func = lambda o:img2bbox[o]"
   ]
  },
  {
   "cell_type": "code",
   "execution_count": 10,
   "metadata": {},
   "outputs": [],
   "source": [
    "def calc_ap(annotations, boxes_gt, labels_gt, file:str=\"temp.png\"):\n",
    "    boundingBoxes = BoundingBoxes()\n",
    "    evaluator = Evaluator()\n",
    "\n",
    "    boxes_pred = annotations[:, [0, 1, 2, 3]]\n",
    "    # change pred from x,y,x2,y2 -> x,y,w,h\n",
    "    boxes_pred[:, 2:] = boxes_pred[:, 2:] - boxes_pred[:, :2]\n",
    "    labels_pred = annotations[:, 4]\n",
    "    score_pred = annotations[:, 5]\n",
    "\n",
    "\n",
    "    for box, cla in zip(boxes_gt, labels_gt):\n",
    "        temp = BoundingBox(imageName=str(file), classId=cla, x=box[0],\n",
    "                                       y=box[1],\n",
    "                                       w=box[2], h=box[3], typeCoordinates=CoordinatesType.Absolute,\n",
    "                                       bbType=BBType.GroundTruth, format=BBFormat.XYWH, imgSize=(5000, 5000))\n",
    "        boundingBoxes.addBoundingBox(temp)\n",
    "\n",
    "    for box, cla, scor in zip(boxes_pred, labels_pred, score_pred):\n",
    "        temp = BoundingBox(imageName=str(file), classId=cla, x=box[0],\n",
    "                                       y=box[1], classConfidence=scor,\n",
    "                                       w=box[2], h=box[3], typeCoordinates=CoordinatesType.Absolute,\n",
    "                                       bbType=BBType.Detected, format=BBFormat.XYWH, imgSize=(5000, 5000))\n",
    "        boundingBoxes.addBoundingBox(temp)\n",
    "\n",
    "    metricsPerClass = evaluator.GetPascalVOCMetrics(boundingBoxes, iou_threshold)\n",
    "    return np.mean([mc['AP'] for mc in metricsPerClass])"
   ]
  },
  {
   "cell_type": "code",
   "execution_count": 11,
   "metadata": {},
   "outputs": [],
   "source": [
    "resultsArchive = pickle.load(open('inference_results_boxes.p','rb'))"
   ]
  },
  {
   "cell_type": "code",
   "execution_count": 17,
   "metadata": {},
   "outputs": [],
   "source": [
    "iou_threshold = 0.25"
   ]
  },
  {
   "cell_type": "code",
   "execution_count": 18,
   "metadata": {},
   "outputs": [
    {
     "name": "stderr",
     "output_type": "stream",
     "text": [
      "100%|██████████| 17/17 [08:12<00:00, 34.90s/it]\n"
     ]
    }
   ],
   "source": [
    "result_dict = {}\n",
    "\n",
    "for file in tqdm(files):\n",
    "    boxes_gt, labels_gt = get_y_func(file)\n",
    "    boxes_gt, labels_gt = np.array(boxes_gt), np.array(labels_gt)\n",
    "    boxes_gt[:, 2:] = boxes_gt[:, 2:] - boxes_gt[:, :2]\n",
    "    \n",
    "    annotations = np.array(resultsArchive[file.stem+\".svs\"])\n",
    "    \n",
    "    annotations_nms_dist = non_max_suppression_by_distance(annotations, annotations[:, 5], radius=50)\n",
    "    ap = calc_ap(annotations_nms_dist, boxes_gt, labels_gt)\n",
    "    \n",
    "    result_dict[file] = ap"
   ]
  },
  {
   "cell_type": "code",
   "execution_count": 20,
   "metadata": {},
   "outputs": [
    {
     "data": {
      "text/plain": [
       "{PosixPath('/data/Datasets/EIPH_WSI/Berliner Blau/01_EIPH_563479 Berliner Blau.svs'): 0.6458146650357519,\n",
       " PosixPath('/data/Datasets/EIPH_WSI/Berliner Blau/02_EIPH_574162 berliner blau.svs'): 0.5010732987350869,\n",
       " PosixPath('/data/Datasets/EIPH_WSI/Berliner Blau/03_EIPH_566933 R Berliner Blau neu.svs'): nan,\n",
       " PosixPath('/data/Datasets/EIPH_WSI/Berliner Blau/04_EIPH_567017 Berliner Blau.svs'): nan,\n",
       " PosixPath('/data/Datasets/EIPH_WSI/Berliner Blau/05_EIPH_569923 Berliner Blau.svs'): nan,\n",
       " PosixPath('/data/Datasets/EIPH_WSI/Berliner Blau/27_EIPH_571557 berliner blau.svs'): nan,\n",
       " PosixPath('/data/Datasets/EIPH_WSI/Berliner Blau/31_EIPH_568354 Berliner Blau.svs'): nan,\n",
       " PosixPath('/data/Datasets/EIPH_WSI/Berliner Blau/11_EIPH_575697 Berliner Blau.svs'): 0.830996757399306,\n",
       " PosixPath('/data/Datasets/EIPH_WSI/Turnbull Blue/29_EIPH_566481 L Turnbull blue.svs'): 0.9003602643718672,\n",
       " PosixPath('/data/Datasets/EIPH_WSI/Turnbull Blue/28_EIPH_569948 L Turnbull blue.svs'): nan,\n",
       " PosixPath('/data/Datasets/EIPH_WSI/Turnbull Blue/14_EIPH_568381 Turnbull blue.svs'): 0.7268287248457559,\n",
       " PosixPath('/data/Datasets/EIPH_WSI/Berliner Blau/20_EIPH_576150 berliner blau.svs'): 0.6993319052203227,\n",
       " PosixPath('/data/Datasets/EIPH_WSI/Turnbull Blue/07_EIPH_574882 left lung Turnbull blue.svs'): nan,\n",
       " PosixPath('/data/Datasets/EIPH_WSI/Turnbull Blue/08_EIPH_574999 R Turnbull blue.svs'): 0.7064646311732796,\n",
       " PosixPath('/data/Datasets/EIPH_WSI/Turnbull Blue/09_EIPH_563417 L Turnbull blue.svs'): nan,\n",
       " PosixPath('/data/Datasets/EIPH_WSI/Turnbull Blue/22_EIPH_575216 Turnbull blue.svs'): 0.7643262955698891,\n",
       " PosixPath('/data/Datasets/EIPH_WSI/Berliner Blau/26_EIPH_566482 L Berliner Blau.svs'): 0.5885902054038523}"
      ]
     },
     "execution_count": 20,
     "metadata": {},
     "output_type": "execute_result"
    }
   ],
   "source": [
    "result_dict"
   ]
  },
  {
   "cell_type": "code",
   "execution_count": 23,
   "metadata": {},
   "outputs": [
    {
     "name": "stderr",
     "output_type": "stream",
     "text": [
      "100%|██████████| 17/17 [08:14<00:00, 35.14s/it]\n"
     ]
    }
   ],
   "source": [
    "iou_threshold = 0.5\n",
    "result_dict_05 = {}\n",
    "\n",
    "for file in tqdm(files):\n",
    "    boxes_gt, labels_gt = get_y_func(file)\n",
    "    boxes_gt, labels_gt = np.array(boxes_gt), np.array(labels_gt)\n",
    "    boxes_gt[:, 2:] = boxes_gt[:, 2:] - boxes_gt[:, :2]\n",
    "    \n",
    "    annotations = np.array(resultsArchive[file.stem+\".svs\"])\n",
    "    \n",
    "    annotations_nms_dist = non_max_suppression_by_distance(annotations, annotations[:, 5], radius=50)\n",
    "    ap = calc_ap(annotations_nms_dist, boxes_gt, labels_gt)\n",
    "    \n",
    "    result_dict_05[file] = ap"
   ]
  },
  {
   "cell_type": "code",
   "execution_count": 24,
   "metadata": {},
   "outputs": [
    {
     "data": {
      "text/plain": [
       "{PosixPath('/data/Datasets/EIPH_WSI/Berliner Blau/01_EIPH_563479 Berliner Blau.svs'): 0.5850261231296516,\n",
       " PosixPath('/data/Datasets/EIPH_WSI/Berliner Blau/02_EIPH_574162 berliner blau.svs'): 0.46807519040943024,\n",
       " PosixPath('/data/Datasets/EIPH_WSI/Berliner Blau/03_EIPH_566933 R Berliner Blau neu.svs'): nan,\n",
       " PosixPath('/data/Datasets/EIPH_WSI/Berliner Blau/04_EIPH_567017 Berliner Blau.svs'): nan,\n",
       " PosixPath('/data/Datasets/EIPH_WSI/Berliner Blau/05_EIPH_569923 Berliner Blau.svs'): nan,\n",
       " PosixPath('/data/Datasets/EIPH_WSI/Berliner Blau/27_EIPH_571557 berliner blau.svs'): nan,\n",
       " PosixPath('/data/Datasets/EIPH_WSI/Berliner Blau/31_EIPH_568354 Berliner Blau.svs'): nan,\n",
       " PosixPath('/data/Datasets/EIPH_WSI/Berliner Blau/11_EIPH_575697 Berliner Blau.svs'): 0.7169832699389385,\n",
       " PosixPath('/data/Datasets/EIPH_WSI/Turnbull Blue/29_EIPH_566481 L Turnbull blue.svs'): 0.7802138092851992,\n",
       " PosixPath('/data/Datasets/EIPH_WSI/Turnbull Blue/28_EIPH_569948 L Turnbull blue.svs'): nan,\n",
       " PosixPath('/data/Datasets/EIPH_WSI/Turnbull Blue/14_EIPH_568381 Turnbull blue.svs'): 0.6651627909352531,\n",
       " PosixPath('/data/Datasets/EIPH_WSI/Berliner Blau/20_EIPH_576150 berliner blau.svs'): 0.6549598649101199,\n",
       " PosixPath('/data/Datasets/EIPH_WSI/Turnbull Blue/07_EIPH_574882 left lung Turnbull blue.svs'): nan,\n",
       " PosixPath('/data/Datasets/EIPH_WSI/Turnbull Blue/08_EIPH_574999 R Turnbull blue.svs'): 0.6317499973224452,\n",
       " PosixPath('/data/Datasets/EIPH_WSI/Turnbull Blue/09_EIPH_563417 L Turnbull blue.svs'): nan,\n",
       " PosixPath('/data/Datasets/EIPH_WSI/Turnbull Blue/22_EIPH_575216 Turnbull blue.svs'): 0.7317177065426254,\n",
       " PosixPath('/data/Datasets/EIPH_WSI/Berliner Blau/26_EIPH_566482 L Berliner Blau.svs'): 0.5271092788774118}"
      ]
     },
     "execution_count": 24,
     "metadata": {},
     "output_type": "execute_result"
    }
   ],
   "source": [
    "result_dict_05"
   ]
  },
  {
   "cell_type": "code",
   "execution_count": 25,
   "metadata": {},
   "outputs": [
    {
     "data": {
      "text/plain": [
       "[0.5850261231296516,\n",
       " 0.46807519040943024,\n",
       " nan,\n",
       " nan,\n",
       " nan,\n",
       " nan,\n",
       " nan,\n",
       " 0.7169832699389385,\n",
       " 0.7802138092851992,\n",
       " nan,\n",
       " 0.6651627909352531,\n",
       " 0.6549598649101199,\n",
       " nan,\n",
       " 0.6317499973224452,\n",
       " nan,\n",
       " 0.7317177065426254,\n",
       " 0.5271092788774118]"
      ]
     },
     "execution_count": 25,
     "metadata": {},
     "output_type": "execute_result"
    }
   ],
   "source": [
    "list(result_dict_05.values())"
   ]
  },
  {
   "cell_type": "code",
   "execution_count": 22,
   "metadata": {},
   "outputs": [
    {
     "data": {
      "text/plain": [
       "[0.6458146650357519,\n",
       " 0.5010732987350869,\n",
       " nan,\n",
       " nan,\n",
       " nan,\n",
       " nan,\n",
       " nan,\n",
       " 0.830996757399306,\n",
       " 0.9003602643718672,\n",
       " nan,\n",
       " 0.7268287248457559,\n",
       " 0.6993319052203227,\n",
       " nan,\n",
       " 0.7064646311732796,\n",
       " nan,\n",
       " 0.7643262955698891,\n",
       " 0.5885902054038523]"
      ]
     },
     "execution_count": 22,
     "metadata": {},
     "output_type": "execute_result"
    }
   ],
   "source": [
    "list(result_dict.values())"
   ]
  },
  {
   "cell_type": "code",
   "execution_count": null,
   "metadata": {},
   "outputs": [],
   "source": []
  }
 ],
 "metadata": {
  "kernelspec": {
   "display_name": "Python 3",
   "language": "python",
   "name": "python3"
  },
  "language_info": {
   "codemirror_mode": {
    "name": "ipython",
    "version": 3
   },
   "file_extension": ".py",
   "mimetype": "text/x-python",
   "name": "python",
   "nbconvert_exporter": "python",
   "pygments_lexer": "ipython3",
   "version": "3.6.7"
  }
 },
 "nbformat": 4,
 "nbformat_minor": 2
}
