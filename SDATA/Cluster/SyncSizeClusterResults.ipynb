{
 "cells": [
  {
   "cell_type": "code",
   "execution_count": 1,
   "metadata": {},
   "outputs": [],
   "source": [
    "%reload_ext autoreload\n",
    "%autoreload 2\n",
    "%matplotlib inline"
   ]
  },
  {
   "cell_type": "code",
   "execution_count": 2,
   "metadata": {},
   "outputs": [],
   "source": [
    "from exact_sync.v1.api.annotations_api import AnnotationsApi\n",
    "from exact_sync.v1.api.images_api import ImagesApi\n",
    "from exact_sync.v1.api.image_sets_api import ImageSetsApi\n",
    "from exact_sync.v1.api.annotation_types_api import AnnotationTypesApi\n",
    "from exact_sync.v1.api.products_api import ProductsApi\n",
    "from exact_sync.v1.api.teams_api import TeamsApi\n",
    "\n",
    "from exact_sync.v1.models import ImageSet, Team, Product, AnnotationType, Image, Annotation, AnnotationMediaFile\n",
    "from exact_sync.v1.rest import ApiException\n",
    "from exact_sync.v1.configuration import Configuration\n",
    "from exact_sync.v1.api_client import ApiClient"
   ]
  },
  {
   "cell_type": "code",
   "execution_count": null,
   "metadata": {},
   "outputs": [],
   "source": [
    "username = 'marzahl'\n",
    "password = '****'\n",
    "host =  \"https://exact.cs.fau.de/\"\n",
    "\n",
    "source_dataset = \"Felidae-EIPH\"\n",
    "target_dataset = \"Felidae-EIPH-Cluster\""
   ]
  },
  {
   "cell_type": "code",
   "execution_count": null,
   "metadata": {},
   "outputs": [],
   "source": [
    "local_configuration = Configuration()\n",
    "local_configuration.username = username\n",
    "local_configuration.password = password\n",
    "local_configuration.host =  host\n",
    "\n",
    "local_client = ApiClient(local_configuration)\n",
    "\n",
    "local_image_sets_api = ImageSetsApi(local_client)\n",
    "local_annotations_api = AnnotationsApi(local_client)\n",
    "local_annotation_types_api = AnnotationTypesApi(local_client)\n",
    "local_images_api = ImagesApi(local_client)\n",
    "local_product_api = ProductsApi(local_client)"
   ]
  },
  {
   "cell_type": "code",
   "execution_count": null,
   "metadata": {},
   "outputs": [],
   "source": [
    "images, images_target = {}, {}\n",
    "\n",
    "\n",
    "for image_set in image_sets.results:\n",
    "    for image in images_api.list_images(pagination=False, image_set=image_set.id).results:\n",
    "        images[image.name.replace(\"tiff\", \"svs\")] = image\n",
    "\n",
    "for image_set in image_sets_target.results:\n",
    "    for image in images_api.list_images(pagination=False, image_set=image_set.id).results:\n",
    "        images_target[image.name] = image"
   ]
  },
  {
   "cell_type": "code",
   "execution_count": null,
   "metadata": {},
   "outputs": [],
   "source": [
    "for image_name in images:\n",
    "    image = images[image_name]\n",
    "    target_image = images_target[image_name]\n",
    "\n",
    "    # load deleted id=338\n",
    "    # load granos id=337\n",
    "    for annotation_type in [338, 337]:\n",
    "        for anno in annotations_api.list_annotations(image=image.id, pagination=False, annotation_type=annotation_type).results:\n",
    "            uuid = anno.unique_identifier\n",
    "\n",
    "            target_annos = annotations_api.list_annotations(image=target_image.id, pagination=False, unique_identifier=uuid).results\n",
    "\n",
    "            for target_anno in target_annos:\n",
    "                annotations_api.partial_update_annotation(id=target_anno.id, deleted=True)"
   ]
  }
 ],
 "metadata": {
  "kernelspec": {
   "display_name": "Python 3",
   "language": "python",
   "name": "python3"
  },
  "language_info": {
   "codemirror_mode": {
    "name": "ipython",
    "version": 3
   },
   "file_extension": ".py",
   "mimetype": "text/x-python",
   "name": "python",
   "nbconvert_exporter": "python",
   "pygments_lexer": "ipython3",
   "version": "3.6.10"
  }
 },
 "nbformat": 4,
 "nbformat_minor": 4
}
