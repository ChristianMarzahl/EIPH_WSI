{
 "cells": [
  {
   "cell_type": "code",
   "execution_count": 1,
   "metadata": {},
   "outputs": [],
   "source": [
    "%reload_ext autoreload\n",
    "%autoreload 2\n",
    "%matplotlib inline"
   ]
  },
  {
   "cell_type": "code",
   "execution_count": 2,
   "metadata": {},
   "outputs": [],
   "source": [
    "from tqdm import tqdm\n",
    "import pandas as pd\n",
    "import numpy as np\n",
    "from pathlib import Path"
   ]
  },
  {
   "cell_type": "markdown",
   "metadata": {},
   "source": [
    "# Load annotation versions"
   ]
  },
  {
   "cell_type": "code",
   "execution_count": 3,
   "metadata": {},
   "outputs": [
    {
     "name": "stdout",
     "output_type": "stream",
     "text": [
      "Inference: 255074\n",
      "Screening: 171955\n",
      "Density: 167876\n"
     ]
    }
   ],
   "source": [
    "species = \"Equine\"\n",
    "\n",
    "v0 = pd.read_pickle(f\"../EIPH_{species}_SDATA_Inference_Annotations.pkl\")\n",
    "print(f\"Inference: {len(v0)}\")\n",
    "\n",
    "v_screening = pd.read_pickle(f\"../EIPH_{species}_SDATA_Screening_Annotations.pkl\")\n",
    "print(f\"Screening: {len(v_screening)}\")\n",
    "\n",
    "v_density = pd.read_pickle(f\"../EIPH_{species}_SDATA_Density_Annotations.pkl\")\n",
    "print(f\"Density: {len(v_density)}\")"
   ]
  },
  {
   "cell_type": "code",
   "execution_count": 4,
   "metadata": {},
   "outputs": [
    {
     "data": {
      "text/html": [
       "<div>\n",
       "<style scoped>\n",
       "    .dataframe tbody tr th:only-of-type {\n",
       "        vertical-align: middle;\n",
       "    }\n",
       "\n",
       "    .dataframe tbody tr th {\n",
       "        vertical-align: top;\n",
       "    }\n",
       "\n",
       "    .dataframe thead th {\n",
       "        text-align: right;\n",
       "    }\n",
       "</style>\n",
       "<table border=\"1\" class=\"dataframe\">\n",
       "  <thead>\n",
       "    <tr style=\"text-align: right;\">\n",
       "      <th></th>\n",
       "      <th>id</th>\n",
       "      <th>image_id</th>\n",
       "      <th>image_set</th>\n",
       "      <th>species</th>\n",
       "      <th>image_name</th>\n",
       "      <th>image_type</th>\n",
       "      <th>grade</th>\n",
       "      <th>vector</th>\n",
       "      <th>unique_identifier</th>\n",
       "      <th>user_id</th>\n",
       "      <th>deleted</th>\n",
       "      <th>last_editor</th>\n",
       "      <th>data_set_name</th>\n",
       "      <th>version</th>\n",
       "    </tr>\n",
       "  </thead>\n",
       "  <tbody>\n",
       "    <tr>\n",
       "      <th>0</th>\n",
       "      <td>1433998</td>\n",
       "      <td>3530</td>\n",
       "      <td>246</td>\n",
       "      <td>equine</td>\n",
       "      <td>07_EIPH_574882 Berliner Blau-001.svs</td>\n",
       "      <td>Prussian</td>\n",
       "      <td>0</td>\n",
       "      <td>{'x1': 22691, 'x2': 22782, 'y1': 9025, 'y2': 9...</td>\n",
       "      <td>927cade0-4579-48e1-a884-a07d88594a0a</td>\n",
       "      <td>1</td>\n",
       "      <td>True</td>\n",
       "      <td>1</td>\n",
       "      <td>SDATA</td>\n",
       "      <td>Inference</td>\n",
       "    </tr>\n",
       "    <tr>\n",
       "      <th>1</th>\n",
       "      <td>1433999</td>\n",
       "      <td>3530</td>\n",
       "      <td>246</td>\n",
       "      <td>equine</td>\n",
       "      <td>07_EIPH_574882 Berliner Blau-001.svs</td>\n",
       "      <td>Prussian</td>\n",
       "      <td>0</td>\n",
       "      <td>{'x1': 32197, 'x2': 32338, 'y1': 15975, 'y2': ...</td>\n",
       "      <td>cafc4aa3-324f-4015-9451-ad7e5bee53f3</td>\n",
       "      <td>1</td>\n",
       "      <td>False</td>\n",
       "      <td>1</td>\n",
       "      <td>SDATA</td>\n",
       "      <td>Inference</td>\n",
       "    </tr>\n",
       "    <tr>\n",
       "      <th>2</th>\n",
       "      <td>1434000</td>\n",
       "      <td>3530</td>\n",
       "      <td>246</td>\n",
       "      <td>equine</td>\n",
       "      <td>07_EIPH_574882 Berliner Blau-001.svs</td>\n",
       "      <td>Prussian</td>\n",
       "      <td>0</td>\n",
       "      <td>{'x1': 23069, 'x2': 23180, 'y1': 11514, 'y2': ...</td>\n",
       "      <td>979ef20e-6228-4cb3-ac9a-aecea6ad75c1</td>\n",
       "      <td>1</td>\n",
       "      <td>False</td>\n",
       "      <td>1</td>\n",
       "      <td>SDATA</td>\n",
       "      <td>Inference</td>\n",
       "    </tr>\n",
       "    <tr>\n",
       "      <th>3</th>\n",
       "      <td>1434001</td>\n",
       "      <td>3530</td>\n",
       "      <td>246</td>\n",
       "      <td>equine</td>\n",
       "      <td>07_EIPH_574882 Berliner Blau-001.svs</td>\n",
       "      <td>Prussian</td>\n",
       "      <td>0</td>\n",
       "      <td>{'x1': 9045, 'x2': 9148, 'y1': 9711, 'y2': 9814}</td>\n",
       "      <td>ef87d780-5e2e-413e-a2ff-0712f6aa1532</td>\n",
       "      <td>1</td>\n",
       "      <td>False</td>\n",
       "      <td>1</td>\n",
       "      <td>SDATA</td>\n",
       "      <td>Inference</td>\n",
       "    </tr>\n",
       "    <tr>\n",
       "      <th>4</th>\n",
       "      <td>1434002</td>\n",
       "      <td>3530</td>\n",
       "      <td>246</td>\n",
       "      <td>equine</td>\n",
       "      <td>07_EIPH_574882 Berliner Blau-001.svs</td>\n",
       "      <td>Prussian</td>\n",
       "      <td>0</td>\n",
       "      <td>{'x1': 10538, 'x2': 10645, 'y1': 10306, 'y2': ...</td>\n",
       "      <td>0f141dc4-5589-4e5a-a504-d77e7ad94683</td>\n",
       "      <td>1</td>\n",
       "      <td>False</td>\n",
       "      <td>1</td>\n",
       "      <td>SDATA</td>\n",
       "      <td>Inference</td>\n",
       "    </tr>\n",
       "  </tbody>\n",
       "</table>\n",
       "</div>"
      ],
      "text/plain": [
       "        id  image_id  image_set species                            image_name  \\\n",
       "0  1433998      3530        246  equine  07_EIPH_574882 Berliner Blau-001.svs   \n",
       "1  1433999      3530        246  equine  07_EIPH_574882 Berliner Blau-001.svs   \n",
       "2  1434000      3530        246  equine  07_EIPH_574882 Berliner Blau-001.svs   \n",
       "3  1434001      3530        246  equine  07_EIPH_574882 Berliner Blau-001.svs   \n",
       "4  1434002      3530        246  equine  07_EIPH_574882 Berliner Blau-001.svs   \n",
       "\n",
       "  image_type  grade                                             vector  \\\n",
       "0   Prussian      0  {'x1': 22691, 'x2': 22782, 'y1': 9025, 'y2': 9...   \n",
       "1   Prussian      0  {'x1': 32197, 'x2': 32338, 'y1': 15975, 'y2': ...   \n",
       "2   Prussian      0  {'x1': 23069, 'x2': 23180, 'y1': 11514, 'y2': ...   \n",
       "3   Prussian      0   {'x1': 9045, 'x2': 9148, 'y1': 9711, 'y2': 9814}   \n",
       "4   Prussian      0  {'x1': 10538, 'x2': 10645, 'y1': 10306, 'y2': ...   \n",
       "\n",
       "                      unique_identifier  user_id  deleted  last_editor  \\\n",
       "0  927cade0-4579-48e1-a884-a07d88594a0a        1     True            1   \n",
       "1  cafc4aa3-324f-4015-9451-ad7e5bee53f3        1    False            1   \n",
       "2  979ef20e-6228-4cb3-ac9a-aecea6ad75c1        1    False            1   \n",
       "3  ef87d780-5e2e-413e-a2ff-0712f6aa1532        1    False            1   \n",
       "4  0f141dc4-5589-4e5a-a504-d77e7ad94683        1    False            1   \n",
       "\n",
       "  data_set_name    version  \n",
       "0         SDATA  Inference  \n",
       "1         SDATA  Inference  \n",
       "2         SDATA  Inference  \n",
       "3         SDATA  Inference  \n",
       "4         SDATA  Inference  "
      ]
     },
     "execution_count": 4,
     "metadata": {},
     "output_type": "execute_result"
    }
   ],
   "source": [
    "v0.head()"
   ]
  },
  {
   "cell_type": "markdown",
   "metadata": {},
   "source": [
    "## Filter images"
   ]
  },
  {
   "cell_type": "code",
   "execution_count": 4,
   "metadata": {},
   "outputs": [],
   "source": [
    "filter_images = ['26_EIPH_566482 L Turnbull blue.svs', '26_EIPH_566482 L Turnbull blue.tiff']\n",
    "\n",
    "v0 = v0[~v0[\"image_name\"].isin(filter_images)]\n",
    "v_screening = v_screening[~v_screening[\"image_name\"].isin(filter_images)]\n",
    "v_density = v_density[~v_density[\"image_name\"].isin(filter_images)]"
   ]
  },
  {
   "cell_type": "markdown",
   "metadata": {},
   "source": [
    "## Global Stats"
   ]
  },
  {
   "cell_type": "code",
   "execution_count": 6,
   "metadata": {},
   "outputs": [],
   "source": [
    "def get_global_stats(frame, dataset , version, species):\n",
    "    \n",
    "    nr_slides = len(frame[\"image_name\"].unique())\n",
    "    total = frame.shape[0]\n",
    "    score = int(frame[\"grade\"].mean() * 100)\n",
    "    _0 = frame[frame[\"grade\"] == 0].shape[0]\n",
    "    _1 = frame[frame[\"grade\"] == 1].shape[0]\n",
    "    _2 = frame[frame[\"grade\"] == 2].shape[0]\n",
    "    _3 = frame[frame[\"grade\"] == 3].shape[0]\n",
    "    _4 = frame[frame[\"grade\"] == 4].shape[0]\n",
    "    mean = frame[\"grade\"].mean()\n",
    "    SD = frame[\"grade\"].std()\n",
    "    \n",
    "    frame = [[species, dataset, nr_slides, version, total, score, _0, _1, _2, _3, _4, mean, SD]]\n",
    "    \n",
    "    return pd.DataFrame(frame, columns=[\"species\", \"dataset\" ,\"slides\", \"version\", \"total\", \"score\", \"0\", \"1\", \"2\", \"3\", \"4\", \"mean\", \"SD\"])"
   ]
  },
  {
   "cell_type": "code",
   "execution_count": 7,
   "metadata": {},
   "outputs": [
    {
     "data": {
      "text/html": [
       "<div>\n",
       "<style scoped>\n",
       "    .dataframe tbody tr th:only-of-type {\n",
       "        vertical-align: middle;\n",
       "    }\n",
       "\n",
       "    .dataframe tbody tr th {\n",
       "        vertical-align: top;\n",
       "    }\n",
       "\n",
       "    .dataframe thead th {\n",
       "        text-align: right;\n",
       "    }\n",
       "</style>\n",
       "<table border=\"1\" class=\"dataframe\">\n",
       "  <thead>\n",
       "    <tr style=\"text-align: right;\">\n",
       "      <th></th>\n",
       "      <th>species</th>\n",
       "      <th>dataset</th>\n",
       "      <th>slides</th>\n",
       "      <th>version</th>\n",
       "      <th>total</th>\n",
       "      <th>score</th>\n",
       "      <th>0</th>\n",
       "      <th>1</th>\n",
       "      <th>2</th>\n",
       "      <th>3</th>\n",
       "      <th>4</th>\n",
       "      <th>mean</th>\n",
       "      <th>SD</th>\n",
       "    </tr>\n",
       "  </thead>\n",
       "  <tbody>\n",
       "    <tr>\n",
       "      <th>0</th>\n",
       "      <td>Equine</td>\n",
       "      <td>SDATA</td>\n",
       "      <td>39</td>\n",
       "      <td>Inference</td>\n",
       "      <td>245397</td>\n",
       "      <td>95</td>\n",
       "      <td>97904</td>\n",
       "      <td>80715</td>\n",
       "      <td>47789</td>\n",
       "      <td>17437</td>\n",
       "      <td>1552</td>\n",
       "      <td>0.956866</td>\n",
       "      <td>0.965915</td>\n",
       "    </tr>\n",
       "    <tr>\n",
       "      <th>0</th>\n",
       "      <td>Equine</td>\n",
       "      <td>SDATA</td>\n",
       "      <td>39</td>\n",
       "      <td>Screening</td>\n",
       "      <td>168333</td>\n",
       "      <td>108</td>\n",
       "      <td>54432</td>\n",
       "      <td>60189</td>\n",
       "      <td>39316</td>\n",
       "      <td>13404</td>\n",
       "      <td>992</td>\n",
       "      <td>1.087137</td>\n",
       "      <td>0.959626</td>\n",
       "    </tr>\n",
       "    <tr>\n",
       "      <th>0</th>\n",
       "      <td>Equine</td>\n",
       "      <td>SDATA</td>\n",
       "      <td>39</td>\n",
       "      <td>Density</td>\n",
       "      <td>164365</td>\n",
       "      <td>101</td>\n",
       "      <td>51797</td>\n",
       "      <td>67798</td>\n",
       "      <td>36339</td>\n",
       "      <td>7810</td>\n",
       "      <td>621</td>\n",
       "      <td>1.012320</td>\n",
       "      <td>0.871861</td>\n",
       "    </tr>\n",
       "  </tbody>\n",
       "</table>\n",
       "</div>"
      ],
      "text/plain": [
       "  species dataset  slides    version   total  score      0      1      2  \\\n",
       "0  Equine   SDATA      39  Inference  245397     95  97904  80715  47789   \n",
       "0  Equine   SDATA      39  Screening  168333    108  54432  60189  39316   \n",
       "0  Equine   SDATA      39    Density  164365    101  51797  67798  36339   \n",
       "\n",
       "       3     4      mean        SD  \n",
       "0  17437  1552  0.956866  0.965915  \n",
       "0  13404   992  1.087137  0.959626  \n",
       "0   7810   621  1.012320  0.871861  "
      ]
     },
     "execution_count": 7,
     "metadata": {},
     "output_type": "execute_result"
    }
   ],
   "source": [
    "v0_meta = get_global_stats(v0, \"SDATA\", \"Inference\", species)\n",
    "v_screening_meta = get_global_stats(v_screening, \"SDATA\", \"Screening\", species)\n",
    "v_density_meta = get_global_stats(v_density, \"SDATA\", \"Density\", species)\n",
    "\n",
    "metaDf = pd.concat([v0_meta, v_screening_meta, v_density_meta])\n",
    "metaDf.head()"
   ]
  },
  {
   "cell_type": "markdown",
   "metadata": {},
   "source": [
    "## Stain"
   ]
  },
  {
   "cell_type": "code",
   "execution_count": 9,
   "metadata": {},
   "outputs": [
    {
     "data": {
      "text/plain": [
       "'BerlinerBlaue: 18'"
      ]
     },
     "execution_count": 9,
     "metadata": {},
     "output_type": "execute_result"
    }
   ],
   "source": [
    "\"BerlinerBlaue: {}\".format(len([name for name in v0[\"image_name\"].unique() if \"erliner\" in name]))"
   ]
  },
  {
   "cell_type": "code",
   "execution_count": 10,
   "metadata": {},
   "outputs": [
    {
     "data": {
      "text/plain": [
       "'TurnbullBlaue: 21'"
      ]
     },
     "execution_count": 10,
     "metadata": {},
     "output_type": "execute_result"
    }
   ],
   "source": [
    "\"TurnbullBlaue: {}\".format(len([name for name in v0[\"image_name\"].unique() if \"erliner\" not in name]))"
   ]
  },
  {
   "cell_type": "markdown",
   "metadata": {},
   "source": [
    "## Animals"
   ]
  },
  {
   "cell_type": "code",
   "execution_count": 9,
   "metadata": {},
   "outputs": [
    {
     "data": {
      "text/plain": [
       "{'563417',\n",
       " '563476',\n",
       " '563479',\n",
       " '566481',\n",
       " '566482',\n",
       " '566933',\n",
       " '567017',\n",
       " '568150',\n",
       " '568320',\n",
       " '568354',\n",
       " '568355',\n",
       " '568381',\n",
       " '569923',\n",
       " '569948',\n",
       " '570370',\n",
       " '571557',\n",
       " '574162',\n",
       " '574882',\n",
       " '574999',\n",
       " '575216',\n",
       " '575697',\n",
       " '575796',\n",
       " '576150',\n",
       " '576172',\n",
       " '576255',\n",
       " '588355'}"
      ]
     },
     "execution_count": 9,
     "metadata": {},
     "output_type": "execute_result"
    }
   ],
   "source": [
    "unique_names = set([name.replace(\" \", \"_\").split(\"_\")[2] for name in v0[\"image_name\"].unique()])\n",
    "unique_names"
   ]
  },
  {
   "cell_type": "code",
   "execution_count": 10,
   "metadata": {},
   "outputs": [
    {
     "data": {
      "text/plain": [
       "26"
      ]
     },
     "execution_count": 10,
     "metadata": {},
     "output_type": "execute_result"
    }
   ],
   "source": [
    "len(unique_names)"
   ]
  },
  {
   "cell_type": "markdown",
   "metadata": {},
   "source": [
    "## Introduced new cells?"
   ]
  },
  {
   "cell_type": "code",
   "execution_count": 11,
   "metadata": {},
   "outputs": [
    {
     "data": {
      "text/plain": [
       "(150, 14)"
      ]
     },
     "execution_count": 11,
     "metadata": {},
     "output_type": "execute_result"
    }
   ],
   "source": [
    "v_screening[v_screening[\"user_id\"]==12].shape"
   ]
  },
  {
   "cell_type": "markdown",
   "metadata": {},
   "source": [
    "## Images"
   ]
  },
  {
   "cell_type": "code",
   "execution_count": 12,
   "metadata": {},
   "outputs": [
    {
     "data": {
      "text/plain": [
       "array(['07_EIPH_574882 Berliner Blau-001.svs',\n",
       "       '08_EIPH_574999 Berliner Blau.svs',\n",
       "       '09_EIPH_563417 L berliner blau.svs',\n",
       "       '10_EIPH_563417 R Berliner Blau.svs',\n",
       "       '13_EIPH_570370 Berliner Blau.svs',\n",
       "       '14_EIPH_568381 berliner blau-001.svs',\n",
       "       '15_EIPH_568320 berliner blau.svs',\n",
       "       '16_EIPH_574882 R Berliner Blau.svs',\n",
       "       '17_EIPH_575796 Berliner Blau.svs',\n",
       "       '18_EIPH_574882 R Berliner Blau.svs',\n",
       "       '19_EIPH_566933 L Berliner Blau.svs',\n",
       "       '22_EIPH_575216 Berliner Blau.svs',\n",
       "       '23_EIPH_563476 Berliner Blau-001.svs',\n",
       "       '24_EIPH_576255 Berliner Blau.svs',\n",
       "       '25_EIPH_568150 Berliner Blau.svs',\n",
       "       '28_EIPH_569948 L berliner blau.svs',\n",
       "       '29_EIPH_566481 L Berliner Blau.svs',\n",
       "       '30_EIPH_588355 Berliner Blau.svs',\n",
       "       '01_EIPH_563479 Turnbull blue.svs',\n",
       "       '02_EIPH_574162 Turnbull blue-001.svs',\n",
       "       '03_EIPH_566933 R Turnbull blue.svs',\n",
       "       '04_EIPH_567017 Turnbull blue-001.svs',\n",
       "       '05_EIPH_569923 Turnbull blue.svs',\n",
       "       '10_EIPH_563417 R Turnbull blue-002.svs',\n",
       "       '11_EIPH_575697 Turnbull blue-002.svs',\n",
       "       '13_EIPH_570370 Turnbull blue-001.svs',\n",
       "       '15_EIPH_568320 Turnbull blue.svs',\n",
       "       '16_EIPH_576172 Turnbull blue-002.svs',\n",
       "       '17_EIPH_575796 Turnbull blue.svs',\n",
       "       '18_EIPH_574882 Turnbull blue-002.svs',\n",
       "       '19_EIPH_566933 L Tunrbull blue.svs',\n",
       "       '20_EIPH_576150 Turnbull blue.svs',\n",
       "       '21_EIPH_566482 R Turnbull blue.svs',\n",
       "       '23_EIPH_563476 Turnbull blue.svs',\n",
       "       '24_EIPH_576255 Turnbull blue.svs',\n",
       "       '25_EIPH_568150 Turnbull blue.svs',\n",
       "       '27_EIPH_571557 Turnbull blue.svs',\n",
       "       '30_EIPH_568355 Turnbull blue.svs',\n",
       "       '31_EIPH_568354 Turnbull blue.svs'], dtype=object)"
      ]
     },
     "execution_count": 12,
     "metadata": {},
     "output_type": "execute_result"
    }
   ],
   "source": [
    "v0[\"image_name\"].unique()"
   ]
  },
  {
   "cell_type": "code",
   "execution_count": 13,
   "metadata": {},
   "outputs": [
    {
     "data": {
      "text/plain": [
       "39"
      ]
     },
     "execution_count": 13,
     "metadata": {},
     "output_type": "execute_result"
    }
   ],
   "source": [
    "len(v0[\"image_name\"].unique())"
   ]
  },
  {
   "cell_type": "code",
   "execution_count": null,
   "metadata": {},
   "outputs": [],
   "source": [
    "3"
   ]
  }
 ],
 "metadata": {
  "kernelspec": {
   "display_name": "Python 3",
   "language": "python",
   "name": "python3"
  },
  "language_info": {
   "codemirror_mode": {
    "name": "ipython",
    "version": 3
   },
   "file_extension": ".py",
   "mimetype": "text/x-python",
   "name": "python",
   "nbconvert_exporter": "python",
   "pygments_lexer": "ipython3",
   "version": "3.6.10"
  }
 },
 "nbformat": 4,
 "nbformat_minor": 4
}
