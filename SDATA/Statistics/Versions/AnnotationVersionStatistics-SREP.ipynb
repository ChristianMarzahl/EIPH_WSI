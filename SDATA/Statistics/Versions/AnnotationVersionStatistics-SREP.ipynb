{
 "cells": [
  {
   "cell_type": "code",
   "execution_count": 1,
   "metadata": {},
   "outputs": [],
   "source": [
    "%reload_ext autoreload\n",
    "%autoreload 2\n",
    "%matplotlib inline"
   ]
  },
  {
   "cell_type": "code",
   "execution_count": 2,
   "metadata": {},
   "outputs": [],
   "source": [
    "from tqdm import tqdm\n",
    "import pandas as pd\n",
    "import numpy as np\n",
    "from pathlib import Path"
   ]
  },
  {
   "cell_type": "markdown",
   "metadata": {},
   "source": [
    "# Load annotation versions"
   ]
  },
  {
   "cell_type": "code",
   "execution_count": 3,
   "metadata": {},
   "outputs": [
    {
     "name": "stdout",
     "output_type": "stream",
     "text": [
      "Initial: 78081\n",
      "Screening: 60316\n",
      "Density: 59318\n"
     ]
    }
   ],
   "source": [
    "v0 = pd.read_pickle(\"../EIPH_Equine_SREP_Annotations.pkl\")\n",
    "print(f\"Initial: {len(v0)}\")\n",
    "\n",
    "v_screening = pd.read_pickle(\"../EIPH_SREP_Screening_Annotations.pkl\")\n",
    "print(f\"Screening: {len(v_screening)}\")\n",
    "\n",
    "v_density = pd.read_pickle(\"../EIPH_SREP_Density_Annotations.pkl\")\n",
    "print(f\"Density: {len(v_density)}\")"
   ]
  },
  {
   "cell_type": "code",
   "execution_count": 4,
   "metadata": {},
   "outputs": [
    {
     "data": {
      "text/html": [
       "<div>\n",
       "<style scoped>\n",
       "    .dataframe tbody tr th:only-of-type {\n",
       "        vertical-align: middle;\n",
       "    }\n",
       "\n",
       "    .dataframe tbody tr th {\n",
       "        vertical-align: top;\n",
       "    }\n",
       "\n",
       "    .dataframe thead th {\n",
       "        text-align: right;\n",
       "    }\n",
       "</style>\n",
       "<table border=\"1\" class=\"dataframe\">\n",
       "  <thead>\n",
       "    <tr style=\"text-align: right;\">\n",
       "      <th></th>\n",
       "      <th>id</th>\n",
       "      <th>image_id</th>\n",
       "      <th>image_set</th>\n",
       "      <th>species</th>\n",
       "      <th>image_name</th>\n",
       "      <th>image_type</th>\n",
       "      <th>grade</th>\n",
       "      <th>vector</th>\n",
       "      <th>unique_identifier</th>\n",
       "      <th>user_id</th>\n",
       "      <th>deleted</th>\n",
       "      <th>last_editor</th>\n",
       "      <th>data_set_name</th>\n",
       "      <th>version</th>\n",
       "    </tr>\n",
       "  </thead>\n",
       "  <tbody>\n",
       "    <tr>\n",
       "      <th>0</th>\n",
       "      <td>241301</td>\n",
       "      <td>231</td>\n",
       "      <td>15</td>\n",
       "      <td>equine</td>\n",
       "      <td>05_EIPH_569923 Berliner Blau.svs</td>\n",
       "      <td>Prussian</td>\n",
       "      <td>0</td>\n",
       "      <td>{'x1': 24170, 'x2': 24312, 'y1': 2791, 'y2': 2...</td>\n",
       "      <td>671c255e-fe6b-4e39-9d9f-5e0c97a76b7a</td>\n",
       "      <td>11</td>\n",
       "      <td>True</td>\n",
       "      <td>1</td>\n",
       "      <td>SREP</td>\n",
       "      <td>SREP</td>\n",
       "    </tr>\n",
       "    <tr>\n",
       "      <th>1</th>\n",
       "      <td>241302</td>\n",
       "      <td>231</td>\n",
       "      <td>15</td>\n",
       "      <td>equine</td>\n",
       "      <td>05_EIPH_569923 Berliner Blau.svs</td>\n",
       "      <td>Prussian</td>\n",
       "      <td>0</td>\n",
       "      <td>{'x1': 19487, 'x2': 19591, 'y1': 7877, 'y2': 7...</td>\n",
       "      <td>dfd15c9e-e166-4bfc-b3e9-8d1faeecc5d4</td>\n",
       "      <td>11</td>\n",
       "      <td>False</td>\n",
       "      <td>1</td>\n",
       "      <td>SREP</td>\n",
       "      <td>SREP</td>\n",
       "    </tr>\n",
       "    <tr>\n",
       "      <th>2</th>\n",
       "      <td>241304</td>\n",
       "      <td>231</td>\n",
       "      <td>15</td>\n",
       "      <td>equine</td>\n",
       "      <td>05_EIPH_569923 Berliner Blau.svs</td>\n",
       "      <td>Prussian</td>\n",
       "      <td>0</td>\n",
       "      <td>{'x1': 19907, 'x2': 20039, 'y1': 7912, 'y2': 8...</td>\n",
       "      <td>e599de1e-7d9a-41e1-9017-31f2088d4b90</td>\n",
       "      <td>11</td>\n",
       "      <td>False</td>\n",
       "      <td>1</td>\n",
       "      <td>SREP</td>\n",
       "      <td>SREP</td>\n",
       "    </tr>\n",
       "    <tr>\n",
       "      <th>3</th>\n",
       "      <td>241305</td>\n",
       "      <td>231</td>\n",
       "      <td>15</td>\n",
       "      <td>equine</td>\n",
       "      <td>05_EIPH_569923 Berliner Blau.svs</td>\n",
       "      <td>Prussian</td>\n",
       "      <td>0</td>\n",
       "      <td>{'x1': 20235, 'x2': 20313, 'y1': 8318, 'y2': 8...</td>\n",
       "      <td>08b33057-c60c-4ff1-a6ca-b3878e2b0647</td>\n",
       "      <td>11</td>\n",
       "      <td>True</td>\n",
       "      <td>1</td>\n",
       "      <td>SREP</td>\n",
       "      <td>SREP</td>\n",
       "    </tr>\n",
       "    <tr>\n",
       "      <th>4</th>\n",
       "      <td>241306</td>\n",
       "      <td>231</td>\n",
       "      <td>15</td>\n",
       "      <td>equine</td>\n",
       "      <td>05_EIPH_569923 Berliner Blau.svs</td>\n",
       "      <td>Prussian</td>\n",
       "      <td>0</td>\n",
       "      <td>{'x1': 20429, 'x2': 20545, 'y1': 8110, 'y2': 8...</td>\n",
       "      <td>62e738d9-6ca9-4962-8c26-f2f518c67bef</td>\n",
       "      <td>11</td>\n",
       "      <td>False</td>\n",
       "      <td>1</td>\n",
       "      <td>SREP</td>\n",
       "      <td>SREP</td>\n",
       "    </tr>\n",
       "  </tbody>\n",
       "</table>\n",
       "</div>"
      ],
      "text/plain": [
       "       id  image_id  image_set species                        image_name  \\\n",
       "0  241301       231         15  equine  05_EIPH_569923 Berliner Blau.svs   \n",
       "1  241302       231         15  equine  05_EIPH_569923 Berliner Blau.svs   \n",
       "2  241304       231         15  equine  05_EIPH_569923 Berliner Blau.svs   \n",
       "3  241305       231         15  equine  05_EIPH_569923 Berliner Blau.svs   \n",
       "4  241306       231         15  equine  05_EIPH_569923 Berliner Blau.svs   \n",
       "\n",
       "  image_type  grade                                             vector  \\\n",
       "0   Prussian      0  {'x1': 24170, 'x2': 24312, 'y1': 2791, 'y2': 2...   \n",
       "1   Prussian      0  {'x1': 19487, 'x2': 19591, 'y1': 7877, 'y2': 7...   \n",
       "2   Prussian      0  {'x1': 19907, 'x2': 20039, 'y1': 7912, 'y2': 8...   \n",
       "3   Prussian      0  {'x1': 20235, 'x2': 20313, 'y1': 8318, 'y2': 8...   \n",
       "4   Prussian      0  {'x1': 20429, 'x2': 20545, 'y1': 8110, 'y2': 8...   \n",
       "\n",
       "                      unique_identifier  user_id  deleted  last_editor  \\\n",
       "0  671c255e-fe6b-4e39-9d9f-5e0c97a76b7a       11     True            1   \n",
       "1  dfd15c9e-e166-4bfc-b3e9-8d1faeecc5d4       11    False            1   \n",
       "2  e599de1e-7d9a-41e1-9017-31f2088d4b90       11    False            1   \n",
       "3  08b33057-c60c-4ff1-a6ca-b3878e2b0647       11     True            1   \n",
       "4  62e738d9-6ca9-4962-8c26-f2f518c67bef       11    False            1   \n",
       "\n",
       "  data_set_name version  \n",
       "0          SREP    SREP  \n",
       "1          SREP    SREP  \n",
       "2          SREP    SREP  \n",
       "3          SREP    SREP  \n",
       "4          SREP    SREP  "
      ]
     },
     "execution_count": 4,
     "metadata": {},
     "output_type": "execute_result"
    }
   ],
   "source": [
    "v0.head()"
   ]
  },
  {
   "cell_type": "markdown",
   "metadata": {},
   "source": [
    "## Filter images"
   ]
  },
  {
   "cell_type": "code",
   "execution_count": 5,
   "metadata": {},
   "outputs": [],
   "source": [
    "filter_images = ['08_EIPH_574999 R Turnbull blue.svs', '08_EIPH_574999 R Turnbull blue.tiff']\n",
    "\n",
    "v0 = v0[~v0[\"image_name\"].isin(filter_images)]\n",
    "v_screening = v_screening[~v_screening[\"image_name\"].isin(filter_images)]\n",
    "v_density = v_density[~v_density[\"image_name\"].isin(filter_images)]"
   ]
  },
  {
   "cell_type": "markdown",
   "metadata": {},
   "source": [
    "## Global Stats"
   ]
  },
  {
   "cell_type": "code",
   "execution_count": 20,
   "metadata": {},
   "outputs": [],
   "source": [
    "def get_global_stats(frame, dataset , version, species):\n",
    "    \n",
    "    nr_slides = len(frame[\"image_name\"].unique())\n",
    "    total = frame.shape[0]\n",
    "    score = int(frame[\"grade\"].mean() * 100)\n",
    "    _0 = frame[frame[\"grade\"] == 0].shape[0]\n",
    "    _1 = frame[frame[\"grade\"] == 1].shape[0]\n",
    "    _2 = frame[frame[\"grade\"] == 2].shape[0]\n",
    "    _3 = frame[frame[\"grade\"] == 3].shape[0]\n",
    "    _4 = frame[frame[\"grade\"] == 4].shape[0]\n",
    "    mean = frame[\"grade\"].mean()\n",
    "    SD = frame[\"grade\"].std()\n",
    "    \n",
    "    frame = [[species, dataset, nr_slides, version, total, score, _0, _1, _2, _3, _4, mean, SD]]\n",
    "    \n",
    "    return pd.DataFrame(frame, columns=[\"species\", \"dataset\" ,\"slides\", \"version\", \"total\", \"score\", \"0\", \"1\", \"2\", \"3\", \"4\", \"mean\", \"SD\"])"
   ]
  },
  {
   "cell_type": "code",
   "execution_count": 22,
   "metadata": {},
   "outputs": [
    {
     "data": {
      "text/html": [
       "<div>\n",
       "<style scoped>\n",
       "    .dataframe tbody tr th:only-of-type {\n",
       "        vertical-align: middle;\n",
       "    }\n",
       "\n",
       "    .dataframe tbody tr th {\n",
       "        vertical-align: top;\n",
       "    }\n",
       "\n",
       "    .dataframe thead th {\n",
       "        text-align: right;\n",
       "    }\n",
       "</style>\n",
       "<table border=\"1\" class=\"dataframe\">\n",
       "  <thead>\n",
       "    <tr style=\"text-align: right;\">\n",
       "      <th></th>\n",
       "      <th>species</th>\n",
       "      <th>dataset</th>\n",
       "      <th>slides</th>\n",
       "      <th>version</th>\n",
       "      <th>total</th>\n",
       "      <th>score</th>\n",
       "      <th>0</th>\n",
       "      <th>1</th>\n",
       "      <th>2</th>\n",
       "      <th>3</th>\n",
       "      <th>4</th>\n",
       "      <th>mean</th>\n",
       "      <th>SD</th>\n",
       "    </tr>\n",
       "  </thead>\n",
       "  <tbody>\n",
       "    <tr>\n",
       "      <th>0</th>\n",
       "      <td>Equine</td>\n",
       "      <td>SREP</td>\n",
       "      <td>16</td>\n",
       "      <td>SREP</td>\n",
       "      <td>77004</td>\n",
       "      <td>102</td>\n",
       "      <td>29017</td>\n",
       "      <td>26810</td>\n",
       "      <td>13178</td>\n",
       "      <td>6577</td>\n",
       "      <td>1422</td>\n",
       "      <td>1.020531</td>\n",
       "      <td>1.027324</td>\n",
       "    </tr>\n",
       "    <tr>\n",
       "      <th>0</th>\n",
       "      <td>Equine</td>\n",
       "      <td>SREP</td>\n",
       "      <td>16</td>\n",
       "      <td>Screening</td>\n",
       "      <td>59954</td>\n",
       "      <td>112</td>\n",
       "      <td>19733</td>\n",
       "      <td>21545</td>\n",
       "      <td>11442</td>\n",
       "      <td>5963</td>\n",
       "      <td>1271</td>\n",
       "      <td>1.124229</td>\n",
       "      <td>1.045563</td>\n",
       "    </tr>\n",
       "    <tr>\n",
       "      <th>0</th>\n",
       "      <td>Equine</td>\n",
       "      <td>SREP</td>\n",
       "      <td>16</td>\n",
       "      <td>Density</td>\n",
       "      <td>58956</td>\n",
       "      <td>109</td>\n",
       "      <td>19246</td>\n",
       "      <td>21595</td>\n",
       "      <td>11829</td>\n",
       "      <td>5552</td>\n",
       "      <td>734</td>\n",
       "      <td>1.099888</td>\n",
       "      <td>1.002928</td>\n",
       "    </tr>\n",
       "  </tbody>\n",
       "</table>\n",
       "</div>"
      ],
      "text/plain": [
       "  species dataset  slides    version  total  score      0      1      2     3  \\\n",
       "0  Equine    SREP      16       SREP  77004    102  29017  26810  13178  6577   \n",
       "0  Equine    SREP      16  Screening  59954    112  19733  21545  11442  5963   \n",
       "0  Equine    SREP      16    Density  58956    109  19246  21595  11829  5552   \n",
       "\n",
       "      4      mean        SD  \n",
       "0  1422  1.020531  1.027324  \n",
       "0  1271  1.124229  1.045563  \n",
       "0   734  1.099888  1.002928  "
      ]
     },
     "execution_count": 22,
     "metadata": {},
     "output_type": "execute_result"
    }
   ],
   "source": [
    "v0_meta = get_global_stats(v0, \"SREP\", \"SREP\", \"Equine\")\n",
    "v_screening_meta = get_global_stats(v_screening, \"SREP\", \"Screening\", \"Equine\")\n",
    "v_density_meta = get_global_stats(v_density, \"SREP\", \"Density\", \"Equine\")\n",
    "\n",
    "metaDf = pd.concat([v0_meta, v_screening_meta, v_density_meta])\n",
    "metaDf.head()"
   ]
  },
  {
   "cell_type": "markdown",
   "metadata": {},
   "source": [
    "## Stain"
   ]
  },
  {
   "cell_type": "code",
   "execution_count": 26,
   "metadata": {},
   "outputs": [
    {
     "data": {
      "text/plain": [
       "'BerlinerBlaue: 10'"
      ]
     },
     "execution_count": 26,
     "metadata": {},
     "output_type": "execute_result"
    }
   ],
   "source": [
    "\"BerlinerBlaue: {}\".format(len([name for name in v0[\"image_name\"].unique() if \"erliner\" in name]))"
   ]
  },
  {
   "cell_type": "code",
   "execution_count": 27,
   "metadata": {},
   "outputs": [
    {
     "data": {
      "text/plain": [
       "'TurnbullBlaue: 6'"
      ]
     },
     "execution_count": 27,
     "metadata": {},
     "output_type": "execute_result"
    }
   ],
   "source": [
    "\"TurnbullBlaue: {}\".format(len([name for name in v0[\"image_name\"].unique() if \"erliner\" not in name]))"
   ]
  },
  {
   "cell_type": "markdown",
   "metadata": {},
   "source": [
    "## Animals"
   ]
  },
  {
   "cell_type": "code",
   "execution_count": 9,
   "metadata": {},
   "outputs": [
    {
     "data": {
      "text/plain": [
       "{'563417',\n",
       " '563479',\n",
       " '566481',\n",
       " '566482',\n",
       " '566933',\n",
       " '567017',\n",
       " '568354',\n",
       " '568381',\n",
       " '569923',\n",
       " '569948',\n",
       " '571557',\n",
       " '574162',\n",
       " '574882',\n",
       " '575216',\n",
       " '575697',\n",
       " '576150'}"
      ]
     },
     "execution_count": 9,
     "metadata": {},
     "output_type": "execute_result"
    }
   ],
   "source": [
    "unique_names = set([name.replace(\" \", \"_\").split(\"_\")[2] for name in v0[\"image_name\"].unique()])\n",
    "unique_names"
   ]
  },
  {
   "cell_type": "code",
   "execution_count": 10,
   "metadata": {},
   "outputs": [
    {
     "data": {
      "text/plain": [
       "16"
      ]
     },
     "execution_count": 10,
     "metadata": {},
     "output_type": "execute_result"
    }
   ],
   "source": [
    "len(unique_names)"
   ]
  },
  {
   "cell_type": "markdown",
   "metadata": {},
   "source": [
    "## Introduced new cells?"
   ]
  },
  {
   "cell_type": "code",
   "execution_count": 28,
   "metadata": {},
   "outputs": [
    {
     "data": {
      "text/plain": [
       "(30, 14)"
      ]
     },
     "execution_count": 28,
     "metadata": {},
     "output_type": "execute_result"
    }
   ],
   "source": [
    "v_screening[v_screening[\"user_id\"]==12].shape"
   ]
  },
  {
   "cell_type": "markdown",
   "metadata": {},
   "source": [
    "## Images"
   ]
  },
  {
   "cell_type": "code",
   "execution_count": 30,
   "metadata": {},
   "outputs": [
    {
     "data": {
      "text/plain": [
       "array(['05_EIPH_569923 Berliner Blau.svs',\n",
       "       '11_EIPH_575697 Berliner Blau.svs',\n",
       "       '02_EIPH_574162 berliner blau.svs',\n",
       "       '26_EIPH_566482 L Berliner Blau.svs',\n",
       "       '31_EIPH_568354 Berliner Blau.svs',\n",
       "       '04_EIPH_567017 Berliner Blau.svs',\n",
       "       '27_EIPH_571557 berliner blau.svs',\n",
       "       '01_EIPH_563479 Berliner Blau.svs',\n",
       "       '03_EIPH_566933 R Berliner Blau neu.svs',\n",
       "       '20_EIPH_576150 berliner blau.svs',\n",
       "       '07_EIPH_574882 left lung Turnbull blue.svs',\n",
       "       '09_EIPH_563417 L Turnbull blue.svs',\n",
       "       '14_EIPH_568381 Turnbull blue.svs',\n",
       "       '22_EIPH_575216 Turnbull blue.svs',\n",
       "       '28_EIPH_569948 L Turnbull blue.svs',\n",
       "       '29_EIPH_566481 L Turnbull blue.svs'], dtype=object)"
      ]
     },
     "execution_count": 30,
     "metadata": {},
     "output_type": "execute_result"
    }
   ],
   "source": [
    "v0[\"image_name\"].unique()"
   ]
  },
  {
   "cell_type": "code",
   "execution_count": 31,
   "metadata": {},
   "outputs": [
    {
     "data": {
      "text/plain": [
       "16"
      ]
     },
     "execution_count": 31,
     "metadata": {},
     "output_type": "execute_result"
    }
   ],
   "source": [
    "len(v0[\"image_name\"].unique())"
   ]
  },
  {
   "cell_type": "markdown",
   "metadata": {},
   "source": [
    "## Density changes"
   ]
  },
  {
   "cell_type": "code",
   "execution_count": 7,
   "metadata": {},
   "outputs": [],
   "source": [
    "screening_changes = {source_uuid: source_grade for source_uuid, source_grade in \n",
    "                     zip(v_screening[\"unique_identifier\"], v_screening[\"grade\"])}\n",
    "\n",
    "density_changes = {density_uuid: density_grade for density_uuid, density_grade in \n",
    "                     zip(v_density[\"unique_identifier\"], v_density[\"grade\"])}"
   ]
  },
  {
   "cell_type": "code",
   "execution_count": 8,
   "metadata": {},
   "outputs": [
    {
     "data": {
      "text/plain": [
       "7798"
      ]
     },
     "execution_count": 8,
     "metadata": {},
     "output_type": "execute_result"
    }
   ],
   "source": [
    "total_changes = 0\n",
    "up_changes = {}\n",
    "down_changes = {}\n",
    "grade_one_error = 0\n",
    "\n",
    "for source_uuid, source_grade in screening_changes.items():\n",
    "    \n",
    "    if source_uuid in density_changes:\n",
    "        \n",
    "        density_grade = density_changes[source_uuid]\n",
    "        if source_grade != density_grade:\n",
    "            name = f\"{source_grade} -> {density_grade}\"\n",
    "            \n",
    "            if source_grade < density_grade:\n",
    "                if name not in up_changes:\n",
    "                    up_changes[name] = 0\n",
    "                up_changes[name] += 1\n",
    "                total_changes += 1\n",
    "                \n",
    "            if source_grade > density_grade:\n",
    "                if name not in down_changes:\n",
    "                    down_changes[name] = 0\n",
    "                down_changes[name] += 1\n",
    "                total_changes += 1\n",
    "                \n",
    "            if abs(density_grade - source_grade) == 1:\n",
    "                grade_one_error += 1\n",
    "                \n",
    "total_changes"
   ]
  },
  {
   "cell_type": "code",
   "execution_count": 9,
   "metadata": {},
   "outputs": [
    {
     "data": {
      "text/plain": [
       "7789"
      ]
     },
     "execution_count": 9,
     "metadata": {},
     "output_type": "execute_result"
    }
   ],
   "source": [
    "grade_one_error"
   ]
  },
  {
   "cell_type": "code",
   "execution_count": 10,
   "metadata": {},
   "outputs": [
    {
     "data": {
      "text/plain": [
       "{'0 -> 1': 1346,\n",
       " '1 -> 2': 1139,\n",
       " '2 -> 3': 585,\n",
       " '3 -> 4': 87,\n",
       " '0 -> 3': 1,\n",
       " '0 -> 2': 4,\n",
       " '1 -> 3': 1}"
      ]
     },
     "execution_count": 10,
     "metadata": {},
     "output_type": "execute_result"
    }
   ],
   "source": [
    "up_changes"
   ]
  },
  {
   "cell_type": "code",
   "execution_count": 11,
   "metadata": {},
   "outputs": [
    {
     "data": {
      "text/plain": [
       "'Total Up: 3163'"
      ]
     },
     "execution_count": 11,
     "metadata": {},
     "output_type": "execute_result"
    }
   ],
   "source": [
    "f\"Total Up: {sum(up_changes.values())}\" "
   ]
  },
  {
   "cell_type": "code",
   "execution_count": 12,
   "metadata": {},
   "outputs": [
    {
     "data": {
      "text/plain": [
       "{'1 -> 0': 1262,\n",
       " '2 -> 1': 1427,\n",
       " '3 -> 2': 1395,\n",
       " '4 -> 3': 548,\n",
       " '3 -> 1': 1,\n",
       " '2 -> 0': 2}"
      ]
     },
     "execution_count": 12,
     "metadata": {},
     "output_type": "execute_result"
    }
   ],
   "source": [
    "down_changes"
   ]
  },
  {
   "cell_type": "code",
   "execution_count": 13,
   "metadata": {},
   "outputs": [
    {
     "data": {
      "text/plain": [
       "'Total Down: 4635'"
      ]
     },
     "execution_count": 13,
     "metadata": {},
     "output_type": "execute_result"
    }
   ],
   "source": [
    "f\"Total Down: {sum(down_changes.values())}\" "
   ]
  },
  {
   "cell_type": "code",
   "execution_count": null,
   "metadata": {},
   "outputs": [],
   "source": []
  }
 ],
 "metadata": {
  "kernelspec": {
   "display_name": "Python 3",
   "language": "python",
   "name": "python3"
  },
  "language_info": {
   "codemirror_mode": {
    "name": "ipython",
    "version": 3
   },
   "file_extension": ".py",
   "mimetype": "text/x-python",
   "name": "python",
   "nbconvert_exporter": "python",
   "pygments_lexer": "ipython3",
   "version": "3.6.10"
  }
 },
 "nbformat": 4,
 "nbformat_minor": 4
}
