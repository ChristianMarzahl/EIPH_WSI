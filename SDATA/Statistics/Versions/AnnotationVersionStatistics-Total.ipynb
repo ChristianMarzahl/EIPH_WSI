{
 "cells": [
  {
   "cell_type": "code",
   "execution_count": 1,
   "metadata": {},
   "outputs": [],
   "source": [
    "%reload_ext autoreload\n",
    "%autoreload 2\n",
    "%matplotlib inline"
   ]
  },
  {
   "cell_type": "code",
   "execution_count": 2,
   "metadata": {},
   "outputs": [],
   "source": [
    "from tqdm import tqdm\n",
    "import pandas as pd\n",
    "import numpy as np\n",
    "from pathlib import Path"
   ]
  },
  {
   "cell_type": "markdown",
   "metadata": {},
   "source": [
    "## Screened images"
   ]
  },
  {
   "cell_type": "code",
   "execution_count": 16,
   "metadata": {},
   "outputs": [],
   "source": [
    "screened_files = list(set(['26_EIPH_566482 L Berliner Blau.svs',\n",
    "                 '22_EIPH_575216 Berliner Blau.svs',\n",
    "                 '25_EIPH_568150 Berliner Blau.svs',\n",
    "                 '20_EIPH_576150 berliner blau.svs',\n",
    "                 '15_EIPH_568320 berliner blau.svs',\n",
    "                 '02_EIPH_574162 berliner blau.svs',\n",
    "                 '18_EIPH_574882 R Berliner Blau.svs',\n",
    "                 '13_EIPH_570370 Berliner Blau.svs',\n",
    "                 '16_EIPH_576172 Turnbull blue-002.svs',\n",
    "                 '19_EIPH_566933 L Berliner Blau.svs',\n",
    "                 '04_EIPH_567017 Turnbull blue-001.svs',\n",
    "                 '29_EIPH_566481 L Turnbull blue.svs',\n",
    "                 '09_EIPH_563417 L berliner blau.svs',\n",
    "                 '29_EIPH_566481 L Berliner Blau.svs',\n",
    "                 '20_EIPH_576150 Turnbull blue.svs',\n",
    "                 '27_EIPH_571557 berliner blau.svs',\n",
    "                 '11_EIPH_575697 Turnbull blue-002.svs',\n",
    "                 '31_EIPH_568354 Berliner Blau.svs',\n",
    "                 '07_EIPH_574882 Berliner Blau-001.svs',\n",
    "\n",
    "                 '14_EIPH_568381 berliner blau-001.svs',\n",
    "                 '01_EIPH_563479 Berliner Blau.svs',\n",
    "                 '08_EIPH_574999 Berliner Blau.svs',\n",
    "                 '16_EIPH_574882 R Berliner Blau.svs',\n",
    "                 '17_EIPH_575796 Berliner Blau.svs',\n",
    "                 '11_EIPH_575697 Berliner Blau.svs',\n",
    "                 '23_EIPH_563476 Turnbull blue.svs',\n",
    "                 '01_EIPH_563479 Turnbull blue.svs',\n",
    "                 '24_EIPH_576255 Turnbull blue.svs',\n",
    "                 '02_EIPH_574162 Turnbull blue-001.svs',\n",
    "                 '27_EIPH_571557 Turnbull blue.svs',\n",
    "                 '10_EIPH_563417 R Berliner Blau.svs',\n",
    "                 '25_EIPH_568150 Turnbull blue.svs',\n",
    "                 '21_EIPH_566482 R Turnbull blue.svs',\n",
    "                 '09_EIPH_563417 L Turnbull blue.svs',\n",
    "                 '05_EIPH_569923 Berliner Blau.svs',\n",
    "                 '05_EIPH_569923 Turnbull blue.svs',\n",
    "                 '04_EIPH_567017 Berliner Blau.svs',\n",
    "\n",
    "                 '14_EIPH_568381 Turnbull blue.svs',\n",
    "                 '23_EIPH_563476 Berliner Blau-001.svs',\n",
    "                 '24_EIPH_576255 Berliner Blau.svs',\n",
    "                 '30_EIPH_588355 Berliner Blau.svs',\n",
    "                 '18_EIPH_574882 Turnbull blue-002.svs',\n",
    "                 '15_EIPH_568320 Turnbull blue.svs',\n",
    "                 '17_EIPH_575796 Turnbull blue.svs',\n",
    "                 '30_EIPH_568355 Turnbull blue.svs',\n",
    "                 '22_EIPH_575216 Turnbull blue.svs',\n",
    "                 '13_EIPH_570370 Turnbull blue-001.svs',\n",
    "                 '31_EIPH_568354 Turnbull blue.svs',\n",
    "                 '03_EIPH_566933 R Berliner Blau neu.svs',\n",
    "                 '28_EIPH_569948 L berliner blau.svs',\n",
    "                 '07_EIPH_574882 left lung Turnbull blue.svs',\n",
    "                 '19_EIPH_566933 L Tunrbull blue.svs',\n",
    "                 '28_EIPH_569948 L Turnbull blue.svs',\n",
    "                 '10_EIPH_563417 R Turnbull blue-002.svs',\n",
    "                 '03_EIPH_566933 R Turnbull blue.svs',\n",
    "                 \n",
    "                # Cat\n",
    "                \"BAL_Cat_Turnbull blue_13.svs\", \n",
    "                \"BAL_Cat_Turnbull blue_6.svs\", \n",
    "                \"BAL_Cat_Turnbull blue_1.svs\", \n",
    "                \"BAL_Cat_Turnbull blue_12.svs\", \n",
    "                \"BAL_Cat_Turnbull blue_14.svs\", \n",
    "                \"BAL_Cat_Turnbull blue_10.svs\", \n",
    "                \"BAL_Cat_Turnbull blue_2.svs\",\n",
    "\n",
    "\n",
    "                # Human\n",
    "                \"10835_19 humane BAL Turnbull Blau.svs\",\n",
    "                \"10120_19 humane BAL Berliner Blau.svs\",\n",
    "                \"10052_19 humane BAL Berliner Blau-001.svs\",\n",
    "                \"10080_19 humane BAL Berliner Blau-001.svs\",\n",
    "                \"2707_20 TB BAL Human neu.svs\",\n",
    "                \"10835_19 humane BAL Berliner Blau.svs\",\n",
    "                \"10227_19 humane BAL Berliner Blau.svs\",\n",
    "                \"11480_19 humane BAL Berliner Blau.svs\",\n",
    "                \"11323_19 humane BAL Berliner Blau.svs\",\n",
    "                \"2702_20 BB Human BAL-001.svs\",\n",
    "                \"10672_19 humane BAL Berliner Blau.svs\",\n",
    "                \"10672_19 humane BAL Turnbull Blau.svs\",]))"
   ]
  },
  {
   "cell_type": "code",
   "execution_count": 18,
   "metadata": {},
   "outputs": [],
   "source": [
    "screened_tiff_files = list(set(['26_EIPH_566482 L Berliner Blau.tiff',\n",
    "                 '22_EIPH_575216 Berliner Blau.tiff',\n",
    "                 '25_EIPH_568150 Berliner Blau.tiff',\n",
    "                 '20_EIPH_576150 berliner blau.tiff',\n",
    "                 '15_EIPH_568320 berliner blau.tiff',\n",
    "                 '02_EIPH_574162 berliner blau.tiff',\n",
    "                 '18_EIPH_574882 R Berliner Blau.tiff',\n",
    "                 '13_EIPH_570370 Berliner Blau.tiff',\n",
    "                 '16_EIPH_576172 Turnbull blue-002.tiff',\n",
    "                 '19_EIPH_566933 L Berliner Blau.tiff',\n",
    "                 '04_EIPH_567017 Turnbull blue-001.tiff',\n",
    "                 '29_EIPH_566481 L Turnbull blue.tiff',\n",
    "                 '09_EIPH_563417 L berliner blau.tiff',\n",
    "                 '29_EIPH_566481 L Berliner Blau.tiff',\n",
    "                 '20_EIPH_576150 Turnbull blue.tiff',\n",
    "                 '27_EIPH_571557 berliner blau.tiff',\n",
    "                 '11_EIPH_575697 Turnbull blue-002.tiff',\n",
    "                 '31_EIPH_568354 Berliner Blau.tiff',\n",
    "                 '07_EIPH_574882 Berliner Blau-001.tiff',\n",
    "\n",
    "                 '14_EIPH_568381 berliner blau-001.tiff',\n",
    "                 '01_EIPH_563479 Berliner Blau.tiff',\n",
    "                 '08_EIPH_574999 Berliner Blau.tiff',\n",
    "                 '16_EIPH_574882 R Berliner Blau.tiff',\n",
    "                 '17_EIPH_575796 Berliner Blau.tiff',\n",
    "                 '11_EIPH_575697 Berliner Blau.tiff',\n",
    "                 '23_EIPH_563476 Turnbull blue.tiff',\n",
    "                 '01_EIPH_563479 Turnbull blue.tiff',\n",
    "                 '24_EIPH_576255 Turnbull blue.tiff',\n",
    "                 '02_EIPH_574162 Turnbull blue-001.tiff',\n",
    "                 '27_EIPH_571557 Turnbull blue.tiff',\n",
    "                 '10_EIPH_563417 R Berliner Blau.tiff',\n",
    "                 '25_EIPH_568150 Turnbull blue.tiff',\n",
    "                 '21_EIPH_566482 R Turnbull blue.tiff',\n",
    "                 '09_EIPH_563417 L Turnbull blue.tiff',\n",
    "                 '05_EIPH_569923 Berliner Blau.tiff',\n",
    "                 '05_EIPH_569923 Turnbull blue.tiff',\n",
    "                 '04_EIPH_567017 Berliner Blau.tiff',\n",
    "\n",
    "                 '14_EIPH_568381 Turnbull blue.tiff',\n",
    "                 '23_EIPH_563476 Berliner Blau-001.tiff',\n",
    "                 '24_EIPH_576255 Berliner Blau.tiff',\n",
    "                 '30_EIPH_588355 Berliner Blau.tiff',\n",
    "                 '18_EIPH_574882 Turnbull blue-002.tiff',\n",
    "                 '15_EIPH_568320 Turnbull blue.tiff',\n",
    "                 '17_EIPH_575796 Turnbull blue.tiff',\n",
    "                 '30_EIPH_568355 Turnbull blue.tiff',\n",
    "                 '22_EIPH_575216 Turnbull blue.tiff',\n",
    "                 '13_EIPH_570370 Turnbull blue-001.tiff',\n",
    "                 '31_EIPH_568354 Turnbull blue.tiff',\n",
    "                 '03_EIPH_566933 R Berliner Blau neu.tiff',\n",
    "                 '28_EIPH_569948 L berliner blau.tiff',\n",
    "                 '07_EIPH_574882 left lung Turnbull blue.tiff',\n",
    "                 '19_EIPH_566933 L Tunrbull blue.tiff',\n",
    "                 '28_EIPH_569948 L Turnbull blue.tiff',\n",
    "                 '10_EIPH_563417 R Turnbull blue-002.tiff',\n",
    "                 '03_EIPH_566933 R Turnbull blue.tiff',\n",
    "                 \n",
    "                # Cat\n",
    "                \"BAL_Cat_Turnbull blue_13.tiff\", \n",
    "                \"BAL_Cat_Turnbull blue_6.tiff\", \n",
    "                \"BAL_Cat_Turnbull blue_1.tiff\", \n",
    "                \"BAL_Cat_Turnbull blue_12.tiff\", \n",
    "                \"BAL_Cat_Turnbull blue_14.tiff\", \n",
    "                \"BAL_Cat_Turnbull blue_10.tiff\", \n",
    "                \"BAL_Cat_Turnbull blue_2.tiff\",\n",
    "\n",
    "\n",
    "                # Human\n",
    "                \"10835_19 humane BAL Turnbull Blau.tiff\",\n",
    "                \"10120_19 humane BAL Berliner Blau.tiff\",\n",
    "                \"10052_19 humane BAL Berliner Blau-001.tiff\",\n",
    "                \"10080_19 humane BAL Berliner Blau-001.tiff\",\n",
    "                \"2707_20 TB BAL Human neu.tiff\",\n",
    "                \"10835_19 humane BAL Berliner Blau.tiff\",\n",
    "                \"10227_19 humane BAL Berliner Blau.tiff\",\n",
    "                \"11480_19 humane BAL Berliner Blau.tiff\",\n",
    "                \"11323_19 humane BAL Berliner Blau.tiff\",\n",
    "                \"2702_20 BB Human BAL-001.tiff\",\n",
    "                \"10672_19 humane BAL Berliner Blau.tiff\",\n",
    "                \"10672_19 humane BAL Turnbull Blau.tiff\",]))"
   ]
  },
  {
   "cell_type": "markdown",
   "metadata": {},
   "source": [
    "# Load annotation versions"
   ]
  },
  {
   "cell_type": "code",
   "execution_count": 3,
   "metadata": {},
   "outputs": [],
   "source": [
    "def set_additional_fields(frame):\n",
    "    \n",
    "    frame[\"width\"] = [vector[\"x2\"] - vector[\"x1\"] for vector in frame['vector']]\n",
    "    frame[\"height\"] = [vector[\"y2\"] - vector[\"y1\"] for vector in frame['vector']]\n",
    "    frame[\"scales\"] = frame[\"width\"] / frame[\"height\"]\n",
    "    \n",
    "    return frame"
   ]
  },
  {
   "cell_type": "code",
   "execution_count": 25,
   "metadata": {},
   "outputs": [
    {
     "name": "stdout",
     "output_type": "stream",
     "text": [
      "Inference: 585600\n",
      "Cluster: 128012\n",
      "Screening: 303289\n",
      "Density: 297383\n"
     ]
    }
   ],
   "source": [
    "#species = \"Cat\", \"Equine\", \"Human\"\n",
    "\n",
    "v0 = pd.concat([\n",
    "    pd.read_pickle(f\"../EIPH_Cat_SDATA_Inference_Annotations.pkl\"),\n",
    "    pd.read_pickle(f\"../EIPH_Human_SDATA_Inference_Annotations.pkl\"),\n",
    "    pd.read_pickle(f\"../EIPH_Equine_SDATA_Inference_Annotations.pkl\"),\n",
    "    pd.read_pickle(f\"../EIPH_Equine_SREP_Annotations.pkl\")\n",
    "])\n",
    "v0 = v0[v0[\"image_name\"].isin(screened_files)]\n",
    "v0 = set_additional_fields(v0)\n",
    "print(f\"Inference: {len(v0)}\")\n",
    "\n",
    "v_cluster = pd.concat([\n",
    "    pd.read_pickle(f\"../EIPH_Cat_SDATA_Cluster_Annotations.pkl\"),\n",
    "    pd.read_pickle(f\"../EIPH_Human_SDATA_Cluster_Annotations.pkl\"),\n",
    "])\n",
    "v_cluster = v_cluster[v_cluster[\"image_name\"].isin(screened_files)]\n",
    "v_cluster = set_additional_fields(v_cluster)\n",
    "print(f\"Cluster: {len(v_cluster)}\")\n",
    "\n",
    "v_screening = pd.concat([\n",
    "    pd.read_pickle(f\"../EIPH_Cat_SDATA_Screening_Annotations.pkl\"),\n",
    "    pd.read_pickle(f\"../EIPH_Human_SDATA_Screening_Annotations.pkl\"),\n",
    "    pd.read_pickle(f\"../EIPH_Equine_SDATA_Screening_Annotations.pkl\"),\n",
    "    pd.read_pickle(f\"../EIPH_SREP_Screening_Annotations.pkl\"),\n",
    "])\n",
    "v_screening = v_screening[v_screening[\"image_name\"].isin(screened_files)]\n",
    "v_screening = set_additional_fields(v_screening)\n",
    "print(f\"Screening: {len(v_screening)}\")\n",
    "\n",
    "v_density = pd.concat([\n",
    "    pd.read_pickle(f\"../EIPH_Cat_SDATA_Density_Annotations.pkl\"),\n",
    "    pd.read_pickle(f\"../EIPH_Human_SDATA_Density_Annotations.pkl\"),\n",
    "    pd.read_pickle(f\"../EIPH_Equine_SDATA_Density_Annotations.pkl\"),\n",
    "    pd.read_pickle(f\"../EIPH_SREP_Density_Annotations.pkl\"),\n",
    "])\n",
    "v_density = v_density[v_density[\"image_name\"].isin(screened_tiff_files)]\n",
    "print(f\"Density: {len(v_density)}\")"
   ]
  },
  {
   "cell_type": "code",
   "execution_count": 5,
   "metadata": {},
   "outputs": [
    {
     "data": {
      "text/html": [
       "<div>\n",
       "<style scoped>\n",
       "    .dataframe tbody tr th:only-of-type {\n",
       "        vertical-align: middle;\n",
       "    }\n",
       "\n",
       "    .dataframe tbody tr th {\n",
       "        vertical-align: top;\n",
       "    }\n",
       "\n",
       "    .dataframe thead th {\n",
       "        text-align: right;\n",
       "    }\n",
       "</style>\n",
       "<table border=\"1\" class=\"dataframe\">\n",
       "  <thead>\n",
       "    <tr style=\"text-align: right;\">\n",
       "      <th></th>\n",
       "      <th>id</th>\n",
       "      <th>image_id</th>\n",
       "      <th>image_set</th>\n",
       "      <th>species</th>\n",
       "      <th>image_name</th>\n",
       "      <th>image_type</th>\n",
       "      <th>grade</th>\n",
       "      <th>vector</th>\n",
       "      <th>unique_identifier</th>\n",
       "      <th>user_id</th>\n",
       "      <th>deleted</th>\n",
       "      <th>last_editor</th>\n",
       "      <th>data_set_name</th>\n",
       "      <th>version</th>\n",
       "      <th>width</th>\n",
       "      <th>height</th>\n",
       "      <th>scales</th>\n",
       "    </tr>\n",
       "  </thead>\n",
       "  <tbody>\n",
       "    <tr>\n",
       "      <th>0</th>\n",
       "      <td>1049539</td>\n",
       "      <td>3512</td>\n",
       "      <td>222</td>\n",
       "      <td>Cat</td>\n",
       "      <td>BAL_Cat_Turnbull blue_1.svs</td>\n",
       "      <td>Turnbull</td>\n",
       "      <td>0</td>\n",
       "      <td>{'x1': 9903.0, 'x2': 10029.0, 'y1': 5508.0, 'y...</td>\n",
       "      <td>875aab61-3f1f-429a-a053-f87aba6c99da</td>\n",
       "      <td>1</td>\n",
       "      <td>False</td>\n",
       "      <td>1</td>\n",
       "      <td>SDATA</td>\n",
       "      <td>Inference</td>\n",
       "      <td>126.0</td>\n",
       "      <td>129.0</td>\n",
       "      <td>0.976744</td>\n",
       "    </tr>\n",
       "    <tr>\n",
       "      <th>1</th>\n",
       "      <td>1049540</td>\n",
       "      <td>3512</td>\n",
       "      <td>222</td>\n",
       "      <td>Cat</td>\n",
       "      <td>BAL_Cat_Turnbull blue_1.svs</td>\n",
       "      <td>Turnbull</td>\n",
       "      <td>0</td>\n",
       "      <td>{'x1': 26435, 'x2': 26544, 'y1': 24003, 'y2': ...</td>\n",
       "      <td>37e8ad72-ba58-4608-aeab-cfdf004d1f00</td>\n",
       "      <td>1</td>\n",
       "      <td>True</td>\n",
       "      <td>12</td>\n",
       "      <td>SDATA</td>\n",
       "      <td>Inference</td>\n",
       "      <td>109.0</td>\n",
       "      <td>109.0</td>\n",
       "      <td>1.000000</td>\n",
       "    </tr>\n",
       "    <tr>\n",
       "      <th>2</th>\n",
       "      <td>1049542</td>\n",
       "      <td>3512</td>\n",
       "      <td>222</td>\n",
       "      <td>Cat</td>\n",
       "      <td>BAL_Cat_Turnbull blue_1.svs</td>\n",
       "      <td>Turnbull</td>\n",
       "      <td>0</td>\n",
       "      <td>{'x1': 18462, 'x2': 18588, 'y1': 10556, 'y2': ...</td>\n",
       "      <td>37f441f4-39ec-478c-9718-c04c4a11c914</td>\n",
       "      <td>1</td>\n",
       "      <td>True</td>\n",
       "      <td>12</td>\n",
       "      <td>SDATA</td>\n",
       "      <td>Inference</td>\n",
       "      <td>126.0</td>\n",
       "      <td>126.0</td>\n",
       "      <td>1.000000</td>\n",
       "    </tr>\n",
       "    <tr>\n",
       "      <th>3</th>\n",
       "      <td>1049545</td>\n",
       "      <td>3512</td>\n",
       "      <td>222</td>\n",
       "      <td>Cat</td>\n",
       "      <td>BAL_Cat_Turnbull blue_1.svs</td>\n",
       "      <td>Turnbull</td>\n",
       "      <td>0</td>\n",
       "      <td>{'x1': 23213.0, 'x2': 23359.0, 'y1': 5401.0, '...</td>\n",
       "      <td>74862e27-5881-41d8-90f3-5eb305d35e41</td>\n",
       "      <td>1</td>\n",
       "      <td>True</td>\n",
       "      <td>1</td>\n",
       "      <td>SDATA</td>\n",
       "      <td>Inference</td>\n",
       "      <td>146.0</td>\n",
       "      <td>104.0</td>\n",
       "      <td>1.403846</td>\n",
       "    </tr>\n",
       "    <tr>\n",
       "      <th>4</th>\n",
       "      <td>1049548</td>\n",
       "      <td>3512</td>\n",
       "      <td>222</td>\n",
       "      <td>Cat</td>\n",
       "      <td>BAL_Cat_Turnbull blue_1.svs</td>\n",
       "      <td>Turnbull</td>\n",
       "      <td>0</td>\n",
       "      <td>{'x1': 12243.0, 'x2': 12375.0, 'y1': 14740.0, ...</td>\n",
       "      <td>d718f087-7a46-4e22-8610-ba5f82d04818</td>\n",
       "      <td>1</td>\n",
       "      <td>False</td>\n",
       "      <td>1</td>\n",
       "      <td>SDATA</td>\n",
       "      <td>Inference</td>\n",
       "      <td>132.0</td>\n",
       "      <td>132.0</td>\n",
       "      <td>1.000000</td>\n",
       "    </tr>\n",
       "  </tbody>\n",
       "</table>\n",
       "</div>"
      ],
      "text/plain": [
       "        id  image_id  image_set species                   image_name  \\\n",
       "0  1049539      3512        222     Cat  BAL_Cat_Turnbull blue_1.svs   \n",
       "1  1049540      3512        222     Cat  BAL_Cat_Turnbull blue_1.svs   \n",
       "2  1049542      3512        222     Cat  BAL_Cat_Turnbull blue_1.svs   \n",
       "3  1049545      3512        222     Cat  BAL_Cat_Turnbull blue_1.svs   \n",
       "4  1049548      3512        222     Cat  BAL_Cat_Turnbull blue_1.svs   \n",
       "\n",
       "  image_type  grade                                             vector  \\\n",
       "0   Turnbull      0  {'x1': 9903.0, 'x2': 10029.0, 'y1': 5508.0, 'y...   \n",
       "1   Turnbull      0  {'x1': 26435, 'x2': 26544, 'y1': 24003, 'y2': ...   \n",
       "2   Turnbull      0  {'x1': 18462, 'x2': 18588, 'y1': 10556, 'y2': ...   \n",
       "3   Turnbull      0  {'x1': 23213.0, 'x2': 23359.0, 'y1': 5401.0, '...   \n",
       "4   Turnbull      0  {'x1': 12243.0, 'x2': 12375.0, 'y1': 14740.0, ...   \n",
       "\n",
       "                      unique_identifier  user_id  deleted  last_editor  \\\n",
       "0  875aab61-3f1f-429a-a053-f87aba6c99da        1    False            1   \n",
       "1  37e8ad72-ba58-4608-aeab-cfdf004d1f00        1     True           12   \n",
       "2  37f441f4-39ec-478c-9718-c04c4a11c914        1     True           12   \n",
       "3  74862e27-5881-41d8-90f3-5eb305d35e41        1     True            1   \n",
       "4  d718f087-7a46-4e22-8610-ba5f82d04818        1    False            1   \n",
       "\n",
       "  data_set_name    version  width  height    scales  \n",
       "0         SDATA  Inference  126.0   129.0  0.976744  \n",
       "1         SDATA  Inference  109.0   109.0  1.000000  \n",
       "2         SDATA  Inference  126.0   126.0  1.000000  \n",
       "3         SDATA  Inference  146.0   104.0  1.403846  \n",
       "4         SDATA  Inference  132.0   132.0  1.000000  "
      ]
     },
     "execution_count": 5,
     "metadata": {},
     "output_type": "execute_result"
    }
   ],
   "source": [
    "v0.head()"
   ]
  },
  {
   "cell_type": "markdown",
   "metadata": {},
   "source": [
    "## Global Stats"
   ]
  },
  {
   "cell_type": "code",
   "execution_count": 26,
   "metadata": {},
   "outputs": [],
   "source": [
    "def get_global_stats(frame, dataset , version, species):\n",
    "    \n",
    "    nr_slides = len(frame[\"image_name\"].unique())\n",
    "    total = frame.shape[0]\n",
    "    score = int(frame[\"grade\"].mean() * 100)\n",
    "    _0 = frame[frame[\"grade\"] == 0].shape[0]\n",
    "    _1 = frame[frame[\"grade\"] == 1].shape[0]\n",
    "    _2 = frame[frame[\"grade\"] == 2].shape[0]\n",
    "    _3 = frame[frame[\"grade\"] == 3].shape[0]\n",
    "    _4 = frame[frame[\"grade\"] == 4].shape[0]\n",
    "    mean = frame[\"grade\"].mean()\n",
    "    SD = frame[\"grade\"].std()\n",
    "    \n",
    "    frame = [[species, dataset, nr_slides, version, total, score, _0, _1, _2, _3, _4, mean, SD]]\n",
    "    \n",
    "    return pd.DataFrame(frame, columns=[\"species\", \"dataset\" ,\"slides\", \"version\", \"total\", \"score\", \"0\", \"1\", \"2\", \"3\", \"4\", \"mean\", \"SD\"])"
   ]
  },
  {
   "cell_type": "code",
   "execution_count": 27,
   "metadata": {},
   "outputs": [
    {
     "data": {
      "text/html": [
       "<div>\n",
       "<style scoped>\n",
       "    .dataframe tbody tr th:only-of-type {\n",
       "        vertical-align: middle;\n",
       "    }\n",
       "\n",
       "    .dataframe tbody tr th {\n",
       "        vertical-align: top;\n",
       "    }\n",
       "\n",
       "    .dataframe thead th {\n",
       "        text-align: right;\n",
       "    }\n",
       "</style>\n",
       "<table border=\"1\" class=\"dataframe\">\n",
       "  <thead>\n",
       "    <tr style=\"text-align: right;\">\n",
       "      <th></th>\n",
       "      <th>species</th>\n",
       "      <th>dataset</th>\n",
       "      <th>slides</th>\n",
       "      <th>version</th>\n",
       "      <th>total</th>\n",
       "      <th>score</th>\n",
       "      <th>0</th>\n",
       "      <th>1</th>\n",
       "      <th>2</th>\n",
       "      <th>3</th>\n",
       "      <th>4</th>\n",
       "      <th>mean</th>\n",
       "      <th>SD</th>\n",
       "    </tr>\n",
       "  </thead>\n",
       "  <tbody>\n",
       "    <tr>\n",
       "      <th>0</th>\n",
       "      <td>Total</td>\n",
       "      <td>Total</td>\n",
       "      <td>74</td>\n",
       "      <td>Inference</td>\n",
       "      <td>585600</td>\n",
       "      <td>98</td>\n",
       "      <td>216835</td>\n",
       "      <td>208017</td>\n",
       "      <td>119409</td>\n",
       "      <td>36798</td>\n",
       "      <td>4541</td>\n",
       "      <td>0.982570</td>\n",
       "      <td>0.946059</td>\n",
       "    </tr>\n",
       "    <tr>\n",
       "      <th>0</th>\n",
       "      <td>Total</td>\n",
       "      <td>Total</td>\n",
       "      <td>12</td>\n",
       "      <td>Cluster</td>\n",
       "      <td>128012</td>\n",
       "      <td>133</td>\n",
       "      <td>21532</td>\n",
       "      <td>53704</td>\n",
       "      <td>42553</td>\n",
       "      <td>8932</td>\n",
       "      <td>1291</td>\n",
       "      <td>1.334016</td>\n",
       "      <td>0.871160</td>\n",
       "    </tr>\n",
       "    <tr>\n",
       "      <th>0</th>\n",
       "      <td>Total</td>\n",
       "      <td>Total</td>\n",
       "      <td>74</td>\n",
       "      <td>Screening</td>\n",
       "      <td>303289</td>\n",
       "      <td>113</td>\n",
       "      <td>92522</td>\n",
       "      <td>109169</td>\n",
       "      <td>74122</td>\n",
       "      <td>24459</td>\n",
       "      <td>3017</td>\n",
       "      <td>1.130466</td>\n",
       "      <td>0.971879</td>\n",
       "    </tr>\n",
       "    <tr>\n",
       "      <th>0</th>\n",
       "      <td>Total</td>\n",
       "      <td>Total</td>\n",
       "      <td>74</td>\n",
       "      <td>Density</td>\n",
       "      <td>297383</td>\n",
       "      <td>109</td>\n",
       "      <td>86551</td>\n",
       "      <td>116789</td>\n",
       "      <td>74766</td>\n",
       "      <td>17795</td>\n",
       "      <td>1482</td>\n",
       "      <td>1.094999</td>\n",
       "      <td>0.904234</td>\n",
       "    </tr>\n",
       "  </tbody>\n",
       "</table>\n",
       "</div>"
      ],
      "text/plain": [
       "  species dataset  slides    version   total  score       0       1       2  \\\n",
       "0   Total   Total      74  Inference  585600     98  216835  208017  119409   \n",
       "0   Total   Total      12    Cluster  128012    133   21532   53704   42553   \n",
       "0   Total   Total      74  Screening  303289    113   92522  109169   74122   \n",
       "0   Total   Total      74    Density  297383    109   86551  116789   74766   \n",
       "\n",
       "       3     4      mean        SD  \n",
       "0  36798  4541  0.982570  0.946059  \n",
       "0   8932  1291  1.334016  0.871160  \n",
       "0  24459  3017  1.130466  0.971879  \n",
       "0  17795  1482  1.094999  0.904234  "
      ]
     },
     "execution_count": 27,
     "metadata": {},
     "output_type": "execute_result"
    }
   ],
   "source": [
    "v0_meta = get_global_stats(v0, \"Total\", \"Inference\", \"Total\")\n",
    "v_cluster_meta = get_global_stats(v_cluster, \"Total\", \"Cluster\", \"Total\")\n",
    "v_screening_meta = get_global_stats(v_screening, \"Total\", \"Screening\", \"Total\")\n",
    "v_density_meta = get_global_stats(v_density, \"Total\", \"Density\", \"Total\")\n",
    "\n",
    "metaDf = pd.concat([v0_meta, v_cluster_meta, v_screening_meta, v_density_meta])\n",
    "metaDf.head()"
   ]
  },
  {
   "cell_type": "markdown",
   "metadata": {},
   "source": [
    "## Stain "
   ]
  },
  {
   "cell_type": "code",
   "execution_count": 10,
   "metadata": {},
   "outputs": [
    {
     "data": {
      "text/plain": [
       "'BerlinerBlaue: 0'"
      ]
     },
     "execution_count": 10,
     "metadata": {},
     "output_type": "execute_result"
    }
   ],
   "source": [
    "\"BerlinerBlaue: {}\".format(len([name for name in v0[\"image_name\"].unique() if \"erliner\" in name]))"
   ]
  },
  {
   "cell_type": "code",
   "execution_count": 11,
   "metadata": {},
   "outputs": [
    {
     "data": {
      "text/plain": [
       "'TurnbullBlaue: 7'"
      ]
     },
     "execution_count": 11,
     "metadata": {},
     "output_type": "execute_result"
    }
   ],
   "source": [
    "\"TurnbullBlaue: {}\".format(len([name for name in v0[\"image_name\"].unique() if \"erliner\" not in name]))"
   ]
  },
  {
   "cell_type": "markdown",
   "metadata": {},
   "source": [
    "## Introduced new cells?"
   ]
  },
  {
   "cell_type": "code",
   "execution_count": 12,
   "metadata": {},
   "outputs": [
    {
     "data": {
      "text/plain": [
       "188"
      ]
     },
     "execution_count": 12,
     "metadata": {},
     "output_type": "execute_result"
    }
   ],
   "source": [
    "188"
   ]
  },
  {
   "cell_type": "markdown",
   "metadata": {},
   "source": [
    "## Images"
   ]
  },
  {
   "cell_type": "code",
   "execution_count": 13,
   "metadata": {},
   "outputs": [
    {
     "data": {
      "text/plain": [
       "array(['BAL_Cat_Turnbull blue_1.svs', 'BAL_Cat_Turnbull blue_2.svs',\n",
       "       'BAL_Cat_Turnbull blue_6.svs', 'BAL_Cat_Turnbull blue_10.svs',\n",
       "       'BAL_Cat_Turnbull blue_12.svs', 'BAL_Cat_Turnbull blue_13.svs',\n",
       "       'BAL_Cat_Turnbull blue_14.svs'], dtype=object)"
      ]
     },
     "execution_count": 13,
     "metadata": {},
     "output_type": "execute_result"
    }
   ],
   "source": [
    "v0[\"image_name\"].unique()"
   ]
  },
  {
   "cell_type": "code",
   "execution_count": 14,
   "metadata": {},
   "outputs": [
    {
     "data": {
      "text/plain": [
       "7"
      ]
     },
     "execution_count": 14,
     "metadata": {},
     "output_type": "execute_result"
    }
   ],
   "source": [
    "len(v0[\"image_name\"].unique())"
   ]
  }
 ],
 "metadata": {
  "kernelspec": {
   "display_name": "Python 3",
   "language": "python",
   "name": "python3"
  },
  "language_info": {
   "codemirror_mode": {
    "name": "ipython",
    "version": 3
   },
   "file_extension": ".py",
   "mimetype": "text/x-python",
   "name": "python",
   "nbconvert_exporter": "python",
   "pygments_lexer": "ipython3",
   "version": "3.6.10"
  }
 },
 "nbformat": 4,
 "nbformat_minor": 4
}
