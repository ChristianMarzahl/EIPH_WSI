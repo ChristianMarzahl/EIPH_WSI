{
 "cells": [
  {
   "cell_type": "code",
   "execution_count": 2,
   "metadata": {},
   "outputs": [],
   "source": [
    "%reload_ext autoreload\n",
    "%autoreload 2\n",
    "%matplotlib inline"
   ]
  },
  {
   "cell_type": "code",
   "execution_count": 3,
   "metadata": {},
   "outputs": [],
   "source": [
    "from tqdm import tqdm\n",
    "import pandas as pd\n",
    "import numpy as np\n",
    "from pathlib import Path"
   ]
  },
  {
   "cell_type": "markdown",
   "metadata": {},
   "source": [
    "# Load annotation versions"
   ]
  },
  {
   "cell_type": "code",
   "execution_count": 4,
   "metadata": {},
   "outputs": [],
   "source": [
    "def set_additional_fields(frame):\n",
    "    \n",
    "    frame[\"width\"] = [vector[\"x2\"] - vector[\"x1\"] for vector in frame['vector']]\n",
    "    frame[\"height\"] = [vector[\"y2\"] - vector[\"y1\"] for vector in frame['vector']]\n",
    "    frame[\"scales\"] = frame[\"width\"] / frame[\"height\"]\n",
    "    \n",
    "    return frame"
   ]
  },
  {
   "cell_type": "code",
   "execution_count": 5,
   "metadata": {},
   "outputs": [
    {
     "name": "stdout",
     "output_type": "stream",
     "text": [
      "Inference: 94788\n",
      "Cluster: 88848\n",
      "Screening: 20422\n",
      "Density: 20198\n"
     ]
    }
   ],
   "source": [
    "species = \"Cat\"\n",
    "\n",
    "v0 = pd.read_pickle(f\"../EIPH_{species}_SDATA_Inference_Annotations.pkl\")\n",
    "v0 = set_additional_fields(v0)\n",
    "print(f\"Inference: {len(v0)}\")\n",
    "\n",
    "v_cluster = pd.read_pickle(f\"../EIPH_{species}_SDATA_Cluster_Annotations.pkl\")\n",
    "v_cluster = set_additional_fields(v_cluster)\n",
    "print(f\"Cluster: {len(v_cluster)}\")\n",
    "\n",
    "v_screening = pd.read_pickle(f\"../EIPH_{species}_SDATA_Screening_Annotations.pkl\")\n",
    "v_screening = set_additional_fields(v_screening)\n",
    "print(f\"Screening: {len(v_screening)}\")\n",
    "\n",
    "v_density = pd.read_pickle(f\"../EIPH_{species}_SDATA_Density_Annotations.pkl\")\n",
    "print(f\"Density: {len(v_density)}\")"
   ]
  },
  {
   "cell_type": "code",
   "execution_count": 6,
   "metadata": {},
   "outputs": [
    {
     "data": {
      "text/html": [
       "<div>\n",
       "<style scoped>\n",
       "    .dataframe tbody tr th:only-of-type {\n",
       "        vertical-align: middle;\n",
       "    }\n",
       "\n",
       "    .dataframe tbody tr th {\n",
       "        vertical-align: top;\n",
       "    }\n",
       "\n",
       "    .dataframe thead th {\n",
       "        text-align: right;\n",
       "    }\n",
       "</style>\n",
       "<table border=\"1\" class=\"dataframe\">\n",
       "  <thead>\n",
       "    <tr style=\"text-align: right;\">\n",
       "      <th></th>\n",
       "      <th>id</th>\n",
       "      <th>image_id</th>\n",
       "      <th>image_set</th>\n",
       "      <th>species</th>\n",
       "      <th>image_name</th>\n",
       "      <th>image_type</th>\n",
       "      <th>grade</th>\n",
       "      <th>vector</th>\n",
       "      <th>unique_identifier</th>\n",
       "      <th>user_id</th>\n",
       "      <th>deleted</th>\n",
       "      <th>last_editor</th>\n",
       "      <th>data_set_name</th>\n",
       "      <th>version</th>\n",
       "      <th>width</th>\n",
       "      <th>height</th>\n",
       "      <th>scales</th>\n",
       "    </tr>\n",
       "  </thead>\n",
       "  <tbody>\n",
       "    <tr>\n",
       "      <th>0</th>\n",
       "      <td>1049539</td>\n",
       "      <td>3512</td>\n",
       "      <td>222</td>\n",
       "      <td>Cat</td>\n",
       "      <td>BAL_Cat_Turnbull blue_1.svs</td>\n",
       "      <td>Turnbull</td>\n",
       "      <td>0</td>\n",
       "      <td>{'x1': 9903.0, 'x2': 10029.0, 'y1': 5508.0, 'y...</td>\n",
       "      <td>875aab61-3f1f-429a-a053-f87aba6c99da</td>\n",
       "      <td>1</td>\n",
       "      <td>False</td>\n",
       "      <td>1</td>\n",
       "      <td>SDATA</td>\n",
       "      <td>Inference</td>\n",
       "      <td>126.0</td>\n",
       "      <td>129.0</td>\n",
       "      <td>0.976744</td>\n",
       "    </tr>\n",
       "    <tr>\n",
       "      <th>1</th>\n",
       "      <td>1049540</td>\n",
       "      <td>3512</td>\n",
       "      <td>222</td>\n",
       "      <td>Cat</td>\n",
       "      <td>BAL_Cat_Turnbull blue_1.svs</td>\n",
       "      <td>Turnbull</td>\n",
       "      <td>0</td>\n",
       "      <td>{'x1': 26435, 'x2': 26544, 'y1': 24003, 'y2': ...</td>\n",
       "      <td>37e8ad72-ba58-4608-aeab-cfdf004d1f00</td>\n",
       "      <td>1</td>\n",
       "      <td>True</td>\n",
       "      <td>12</td>\n",
       "      <td>SDATA</td>\n",
       "      <td>Inference</td>\n",
       "      <td>109.0</td>\n",
       "      <td>109.0</td>\n",
       "      <td>1.000000</td>\n",
       "    </tr>\n",
       "    <tr>\n",
       "      <th>2</th>\n",
       "      <td>1049542</td>\n",
       "      <td>3512</td>\n",
       "      <td>222</td>\n",
       "      <td>Cat</td>\n",
       "      <td>BAL_Cat_Turnbull blue_1.svs</td>\n",
       "      <td>Turnbull</td>\n",
       "      <td>0</td>\n",
       "      <td>{'x1': 18462, 'x2': 18588, 'y1': 10556, 'y2': ...</td>\n",
       "      <td>37f441f4-39ec-478c-9718-c04c4a11c914</td>\n",
       "      <td>1</td>\n",
       "      <td>True</td>\n",
       "      <td>12</td>\n",
       "      <td>SDATA</td>\n",
       "      <td>Inference</td>\n",
       "      <td>126.0</td>\n",
       "      <td>126.0</td>\n",
       "      <td>1.000000</td>\n",
       "    </tr>\n",
       "    <tr>\n",
       "      <th>3</th>\n",
       "      <td>1049545</td>\n",
       "      <td>3512</td>\n",
       "      <td>222</td>\n",
       "      <td>Cat</td>\n",
       "      <td>BAL_Cat_Turnbull blue_1.svs</td>\n",
       "      <td>Turnbull</td>\n",
       "      <td>0</td>\n",
       "      <td>{'x1': 23213.0, 'x2': 23359.0, 'y1': 5401.0, '...</td>\n",
       "      <td>74862e27-5881-41d8-90f3-5eb305d35e41</td>\n",
       "      <td>1</td>\n",
       "      <td>True</td>\n",
       "      <td>1</td>\n",
       "      <td>SDATA</td>\n",
       "      <td>Inference</td>\n",
       "      <td>146.0</td>\n",
       "      <td>104.0</td>\n",
       "      <td>1.403846</td>\n",
       "    </tr>\n",
       "    <tr>\n",
       "      <th>4</th>\n",
       "      <td>1049548</td>\n",
       "      <td>3512</td>\n",
       "      <td>222</td>\n",
       "      <td>Cat</td>\n",
       "      <td>BAL_Cat_Turnbull blue_1.svs</td>\n",
       "      <td>Turnbull</td>\n",
       "      <td>0</td>\n",
       "      <td>{'x1': 12243.0, 'x2': 12375.0, 'y1': 14740.0, ...</td>\n",
       "      <td>d718f087-7a46-4e22-8610-ba5f82d04818</td>\n",
       "      <td>1</td>\n",
       "      <td>False</td>\n",
       "      <td>1</td>\n",
       "      <td>SDATA</td>\n",
       "      <td>Inference</td>\n",
       "      <td>132.0</td>\n",
       "      <td>132.0</td>\n",
       "      <td>1.000000</td>\n",
       "    </tr>\n",
       "  </tbody>\n",
       "</table>\n",
       "</div>"
      ],
      "text/plain": [
       "        id  image_id  image_set species                   image_name  \\\n",
       "0  1049539      3512        222     Cat  BAL_Cat_Turnbull blue_1.svs   \n",
       "1  1049540      3512        222     Cat  BAL_Cat_Turnbull blue_1.svs   \n",
       "2  1049542      3512        222     Cat  BAL_Cat_Turnbull blue_1.svs   \n",
       "3  1049545      3512        222     Cat  BAL_Cat_Turnbull blue_1.svs   \n",
       "4  1049548      3512        222     Cat  BAL_Cat_Turnbull blue_1.svs   \n",
       "\n",
       "  image_type  grade                                             vector  \\\n",
       "0   Turnbull      0  {'x1': 9903.0, 'x2': 10029.0, 'y1': 5508.0, 'y...   \n",
       "1   Turnbull      0  {'x1': 26435, 'x2': 26544, 'y1': 24003, 'y2': ...   \n",
       "2   Turnbull      0  {'x1': 18462, 'x2': 18588, 'y1': 10556, 'y2': ...   \n",
       "3   Turnbull      0  {'x1': 23213.0, 'x2': 23359.0, 'y1': 5401.0, '...   \n",
       "4   Turnbull      0  {'x1': 12243.0, 'x2': 12375.0, 'y1': 14740.0, ...   \n",
       "\n",
       "                      unique_identifier  user_id  deleted  last_editor  \\\n",
       "0  875aab61-3f1f-429a-a053-f87aba6c99da        1    False            1   \n",
       "1  37e8ad72-ba58-4608-aeab-cfdf004d1f00        1     True           12   \n",
       "2  37f441f4-39ec-478c-9718-c04c4a11c914        1     True           12   \n",
       "3  74862e27-5881-41d8-90f3-5eb305d35e41        1     True            1   \n",
       "4  d718f087-7a46-4e22-8610-ba5f82d04818        1    False            1   \n",
       "\n",
       "  data_set_name    version  width  height    scales  \n",
       "0         SDATA  Inference  126.0   129.0  0.976744  \n",
       "1         SDATA  Inference  109.0   109.0  1.000000  \n",
       "2         SDATA  Inference  126.0   126.0  1.000000  \n",
       "3         SDATA  Inference  146.0   104.0  1.403846  \n",
       "4         SDATA  Inference  132.0   132.0  1.000000  "
      ]
     },
     "execution_count": 6,
     "metadata": {},
     "output_type": "execute_result"
    }
   ],
   "source": [
    "v0.head()"
   ]
  },
  {
   "cell_type": "markdown",
   "metadata": {},
   "source": [
    "## Filter images"
   ]
  },
  {
   "cell_type": "code",
   "execution_count": 7,
   "metadata": {},
   "outputs": [],
   "source": [
    "screened = [\n",
    "    'BAL_Cat_Turnbull blue_1.svs',\n",
    "    'BAL_Cat_Turnbull blue_2.svs',\n",
    "    'BAL_Cat_Turnbull blue_6.svs',\n",
    "    'BAL_Cat_Turnbull blue_10.svs',\n",
    "    'BAL_Cat_Turnbull blue_12.svs',\n",
    "    'BAL_Cat_Turnbull blue_13.svs',\n",
    "    'BAL_Cat_Turnbull blue_14.svs',\n",
    "    \n",
    "    'BAL_Cat_Turnbull blue_1.tiff',\n",
    "    'BAL_Cat_Turnbull blue_2.tiff',\n",
    "    'BAL_Cat_Turnbull blue_6.tiff',\n",
    "    'BAL_Cat_Turnbull blue_10.tiff',\n",
    "    'BAL_Cat_Turnbull blue_12.tiff',\n",
    "    'BAL_Cat_Turnbull blue_13.tiff',\n",
    "    'BAL_Cat_Turnbull blue_14.tiff',\n",
    "]\n",
    "\n",
    "v0 = v0[v0[\"image_name\"].isin(screened)]\n",
    "v_cluster = v_cluster[v_cluster[\"image_name\"].isin(screened)]\n",
    "v_screening = v_screening[v_screening[\"image_name\"].isin(screened)]\n",
    "v_density = v_density[v_density[\"image_name\"].isin(screened)]"
   ]
  },
  {
   "cell_type": "code",
   "execution_count": 7,
   "metadata": {},
   "outputs": [
    {
     "data": {
      "text/html": [
       "<div>\n",
       "<style scoped>\n",
       "    .dataframe tbody tr th:only-of-type {\n",
       "        vertical-align: middle;\n",
       "    }\n",
       "\n",
       "    .dataframe tbody tr th {\n",
       "        vertical-align: top;\n",
       "    }\n",
       "\n",
       "    .dataframe thead th {\n",
       "        text-align: right;\n",
       "    }\n",
       "</style>\n",
       "<table border=\"1\" class=\"dataframe\">\n",
       "  <thead>\n",
       "    <tr style=\"text-align: right;\">\n",
       "      <th></th>\n",
       "      <th>id</th>\n",
       "      <th>image_id</th>\n",
       "      <th>image_set</th>\n",
       "      <th>species</th>\n",
       "      <th>image_name</th>\n",
       "      <th>image_type</th>\n",
       "      <th>grade</th>\n",
       "      <th>vector</th>\n",
       "      <th>unique_identifier</th>\n",
       "      <th>user_id</th>\n",
       "      <th>deleted</th>\n",
       "      <th>last_editor</th>\n",
       "      <th>data_set_name</th>\n",
       "      <th>version</th>\n",
       "      <th>width</th>\n",
       "      <th>height</th>\n",
       "      <th>scales</th>\n",
       "    </tr>\n",
       "  </thead>\n",
       "  <tbody>\n",
       "    <tr>\n",
       "      <th>0</th>\n",
       "      <td>1049539</td>\n",
       "      <td>3512</td>\n",
       "      <td>222</td>\n",
       "      <td>Cat</td>\n",
       "      <td>BAL_Cat_Turnbull blue_1.svs</td>\n",
       "      <td>Turnbull</td>\n",
       "      <td>0</td>\n",
       "      <td>{'x1': 9903.0, 'x2': 10029.0, 'y1': 5508.0, 'y...</td>\n",
       "      <td>875aab61-3f1f-429a-a053-f87aba6c99da</td>\n",
       "      <td>1</td>\n",
       "      <td>False</td>\n",
       "      <td>1</td>\n",
       "      <td>SDATA</td>\n",
       "      <td>Screened</td>\n",
       "      <td>126.0</td>\n",
       "      <td>129.0</td>\n",
       "      <td>0.976744</td>\n",
       "    </tr>\n",
       "    <tr>\n",
       "      <th>1</th>\n",
       "      <td>1049548</td>\n",
       "      <td>3512</td>\n",
       "      <td>222</td>\n",
       "      <td>Cat</td>\n",
       "      <td>BAL_Cat_Turnbull blue_1.svs</td>\n",
       "      <td>Turnbull</td>\n",
       "      <td>0</td>\n",
       "      <td>{'x1': 12243.0, 'x2': 12375.0, 'y1': 14740.0, ...</td>\n",
       "      <td>d718f087-7a46-4e22-8610-ba5f82d04818</td>\n",
       "      <td>1</td>\n",
       "      <td>False</td>\n",
       "      <td>1</td>\n",
       "      <td>SDATA</td>\n",
       "      <td>Screened</td>\n",
       "      <td>132.0</td>\n",
       "      <td>132.0</td>\n",
       "      <td>1.000000</td>\n",
       "    </tr>\n",
       "    <tr>\n",
       "      <th>2</th>\n",
       "      <td>1049551</td>\n",
       "      <td>3512</td>\n",
       "      <td>222</td>\n",
       "      <td>Cat</td>\n",
       "      <td>BAL_Cat_Turnbull blue_1.svs</td>\n",
       "      <td>Turnbull</td>\n",
       "      <td>0</td>\n",
       "      <td>{'x1': 20253.0, 'x2': 20366.0, 'y1': 4149.0, '...</td>\n",
       "      <td>7e9cc21f-4a51-4d12-99dd-daffa3e6f368</td>\n",
       "      <td>1</td>\n",
       "      <td>False</td>\n",
       "      <td>1</td>\n",
       "      <td>SDATA</td>\n",
       "      <td>Screened</td>\n",
       "      <td>113.0</td>\n",
       "      <td>114.0</td>\n",
       "      <td>0.991228</td>\n",
       "    </tr>\n",
       "    <tr>\n",
       "      <th>3</th>\n",
       "      <td>1049568</td>\n",
       "      <td>3512</td>\n",
       "      <td>222</td>\n",
       "      <td>Cat</td>\n",
       "      <td>BAL_Cat_Turnbull blue_1.svs</td>\n",
       "      <td>Turnbull</td>\n",
       "      <td>0</td>\n",
       "      <td>{'x1': 2906.0, 'x2': 3030.0, 'y1': 16767.0, 'y...</td>\n",
       "      <td>0a546034-021b-4739-82bf-b09c7a5226d5</td>\n",
       "      <td>1</td>\n",
       "      <td>False</td>\n",
       "      <td>1</td>\n",
       "      <td>SDATA</td>\n",
       "      <td>Screened</td>\n",
       "      <td>124.0</td>\n",
       "      <td>124.0</td>\n",
       "      <td>1.000000</td>\n",
       "    </tr>\n",
       "    <tr>\n",
       "      <th>4</th>\n",
       "      <td>1049624</td>\n",
       "      <td>3512</td>\n",
       "      <td>222</td>\n",
       "      <td>Cat</td>\n",
       "      <td>BAL_Cat_Turnbull blue_1.svs</td>\n",
       "      <td>Turnbull</td>\n",
       "      <td>0</td>\n",
       "      <td>{'x1': 11203.0, 'x2': 11328.0, 'y1': 7867.0, '...</td>\n",
       "      <td>52536c1e-32f3-4a15-9c08-0350c0ad1b2b</td>\n",
       "      <td>1</td>\n",
       "      <td>False</td>\n",
       "      <td>1</td>\n",
       "      <td>SDATA</td>\n",
       "      <td>Screened</td>\n",
       "      <td>125.0</td>\n",
       "      <td>125.0</td>\n",
       "      <td>1.000000</td>\n",
       "    </tr>\n",
       "    <tr>\n",
       "      <th>...</th>\n",
       "      <td>...</td>\n",
       "      <td>...</td>\n",
       "      <td>...</td>\n",
       "      <td>...</td>\n",
       "      <td>...</td>\n",
       "      <td>...</td>\n",
       "      <td>...</td>\n",
       "      <td>...</td>\n",
       "      <td>...</td>\n",
       "      <td>...</td>\n",
       "      <td>...</td>\n",
       "      <td>...</td>\n",
       "      <td>...</td>\n",
       "      <td>...</td>\n",
       "      <td>...</td>\n",
       "      <td>...</td>\n",
       "      <td>...</td>\n",
       "    </tr>\n",
       "    <tr>\n",
       "      <th>20417</th>\n",
       "      <td>2325303</td>\n",
       "      <td>3544</td>\n",
       "      <td>222</td>\n",
       "      <td>Cat</td>\n",
       "      <td>BAL_Cat_Turnbull blue_14.svs</td>\n",
       "      <td>Turnbull</td>\n",
       "      <td>1</td>\n",
       "      <td>{'x1': 18334, 'x2': 18458, 'y1': 27196, 'y2': ...</td>\n",
       "      <td>cb298f85-3464-401c-a587-977c3a7db8ed</td>\n",
       "      <td>12</td>\n",
       "      <td>False</td>\n",
       "      <td>12</td>\n",
       "      <td>SDATA</td>\n",
       "      <td>Screened</td>\n",
       "      <td>124.0</td>\n",
       "      <td>145.0</td>\n",
       "      <td>0.855172</td>\n",
       "    </tr>\n",
       "    <tr>\n",
       "      <th>20418</th>\n",
       "      <td>2325306</td>\n",
       "      <td>3544</td>\n",
       "      <td>222</td>\n",
       "      <td>Cat</td>\n",
       "      <td>BAL_Cat_Turnbull blue_14.svs</td>\n",
       "      <td>Turnbull</td>\n",
       "      <td>1</td>\n",
       "      <td>{'x1': 17441, 'x2': 17563, 'y1': 27776, 'y2': ...</td>\n",
       "      <td>0a92e74c-8988-4437-a34f-d14acfc27287</td>\n",
       "      <td>12</td>\n",
       "      <td>False</td>\n",
       "      <td>12</td>\n",
       "      <td>SDATA</td>\n",
       "      <td>Screened</td>\n",
       "      <td>122.0</td>\n",
       "      <td>127.0</td>\n",
       "      <td>0.960630</td>\n",
       "    </tr>\n",
       "    <tr>\n",
       "      <th>20419</th>\n",
       "      <td>2325308</td>\n",
       "      <td>3544</td>\n",
       "      <td>222</td>\n",
       "      <td>Cat</td>\n",
       "      <td>BAL_Cat_Turnbull blue_14.svs</td>\n",
       "      <td>Turnbull</td>\n",
       "      <td>1</td>\n",
       "      <td>{'x1': 17036, 'x2': 17168, 'y1': 26942, 'y2': ...</td>\n",
       "      <td>6fa9e0ef-c84a-47d4-8cae-b004b72b7a1c</td>\n",
       "      <td>12</td>\n",
       "      <td>False</td>\n",
       "      <td>12</td>\n",
       "      <td>SDATA</td>\n",
       "      <td>Screened</td>\n",
       "      <td>132.0</td>\n",
       "      <td>123.0</td>\n",
       "      <td>1.073171</td>\n",
       "    </tr>\n",
       "    <tr>\n",
       "      <th>20420</th>\n",
       "      <td>778606</td>\n",
       "      <td>3544</td>\n",
       "      <td>222</td>\n",
       "      <td>Cat</td>\n",
       "      <td>BAL_Cat_Turnbull blue_14.svs</td>\n",
       "      <td>Turnbull</td>\n",
       "      <td>2</td>\n",
       "      <td>{'x1': 25225, 'x2': 25335, 'y1': 7969, 'y2': 8...</td>\n",
       "      <td>f436d337-cfe7-42b6-9ffe-c9349b7731f4</td>\n",
       "      <td>1</td>\n",
       "      <td>False</td>\n",
       "      <td>12</td>\n",
       "      <td>SDATA</td>\n",
       "      <td>Screened</td>\n",
       "      <td>110.0</td>\n",
       "      <td>116.0</td>\n",
       "      <td>0.948276</td>\n",
       "    </tr>\n",
       "    <tr>\n",
       "      <th>20421</th>\n",
       "      <td>2325309</td>\n",
       "      <td>3544</td>\n",
       "      <td>222</td>\n",
       "      <td>Cat</td>\n",
       "      <td>BAL_Cat_Turnbull blue_14.svs</td>\n",
       "      <td>Turnbull</td>\n",
       "      <td>2</td>\n",
       "      <td>{'x1': 17734, 'x2': 17872, 'y1': 26611, 'y2': ...</td>\n",
       "      <td>9a6d933e-2a4e-4879-97d5-1fe64890643c</td>\n",
       "      <td>12</td>\n",
       "      <td>False</td>\n",
       "      <td>12</td>\n",
       "      <td>SDATA</td>\n",
       "      <td>Screened</td>\n",
       "      <td>138.0</td>\n",
       "      <td>135.0</td>\n",
       "      <td>1.022222</td>\n",
       "    </tr>\n",
       "  </tbody>\n",
       "</table>\n",
       "<p>20422 rows × 17 columns</p>\n",
       "</div>"
      ],
      "text/plain": [
       "            id  image_id  image_set species                    image_name  \\\n",
       "0      1049539      3512        222     Cat   BAL_Cat_Turnbull blue_1.svs   \n",
       "1      1049548      3512        222     Cat   BAL_Cat_Turnbull blue_1.svs   \n",
       "2      1049551      3512        222     Cat   BAL_Cat_Turnbull blue_1.svs   \n",
       "3      1049568      3512        222     Cat   BAL_Cat_Turnbull blue_1.svs   \n",
       "4      1049624      3512        222     Cat   BAL_Cat_Turnbull blue_1.svs   \n",
       "...        ...       ...        ...     ...                           ...   \n",
       "20417  2325303      3544        222     Cat  BAL_Cat_Turnbull blue_14.svs   \n",
       "20418  2325306      3544        222     Cat  BAL_Cat_Turnbull blue_14.svs   \n",
       "20419  2325308      3544        222     Cat  BAL_Cat_Turnbull blue_14.svs   \n",
       "20420   778606      3544        222     Cat  BAL_Cat_Turnbull blue_14.svs   \n",
       "20421  2325309      3544        222     Cat  BAL_Cat_Turnbull blue_14.svs   \n",
       "\n",
       "      image_type  grade                                             vector  \\\n",
       "0       Turnbull      0  {'x1': 9903.0, 'x2': 10029.0, 'y1': 5508.0, 'y...   \n",
       "1       Turnbull      0  {'x1': 12243.0, 'x2': 12375.0, 'y1': 14740.0, ...   \n",
       "2       Turnbull      0  {'x1': 20253.0, 'x2': 20366.0, 'y1': 4149.0, '...   \n",
       "3       Turnbull      0  {'x1': 2906.0, 'x2': 3030.0, 'y1': 16767.0, 'y...   \n",
       "4       Turnbull      0  {'x1': 11203.0, 'x2': 11328.0, 'y1': 7867.0, '...   \n",
       "...          ...    ...                                                ...   \n",
       "20417   Turnbull      1  {'x1': 18334, 'x2': 18458, 'y1': 27196, 'y2': ...   \n",
       "20418   Turnbull      1  {'x1': 17441, 'x2': 17563, 'y1': 27776, 'y2': ...   \n",
       "20419   Turnbull      1  {'x1': 17036, 'x2': 17168, 'y1': 26942, 'y2': ...   \n",
       "20420   Turnbull      2  {'x1': 25225, 'x2': 25335, 'y1': 7969, 'y2': 8...   \n",
       "20421   Turnbull      2  {'x1': 17734, 'x2': 17872, 'y1': 26611, 'y2': ...   \n",
       "\n",
       "                          unique_identifier  user_id  deleted  last_editor  \\\n",
       "0      875aab61-3f1f-429a-a053-f87aba6c99da        1    False            1   \n",
       "1      d718f087-7a46-4e22-8610-ba5f82d04818        1    False            1   \n",
       "2      7e9cc21f-4a51-4d12-99dd-daffa3e6f368        1    False            1   \n",
       "3      0a546034-021b-4739-82bf-b09c7a5226d5        1    False            1   \n",
       "4      52536c1e-32f3-4a15-9c08-0350c0ad1b2b        1    False            1   \n",
       "...                                     ...      ...      ...          ...   \n",
       "20417  cb298f85-3464-401c-a587-977c3a7db8ed       12    False           12   \n",
       "20418  0a92e74c-8988-4437-a34f-d14acfc27287       12    False           12   \n",
       "20419  6fa9e0ef-c84a-47d4-8cae-b004b72b7a1c       12    False           12   \n",
       "20420  f436d337-cfe7-42b6-9ffe-c9349b7731f4        1    False           12   \n",
       "20421  9a6d933e-2a4e-4879-97d5-1fe64890643c       12    False           12   \n",
       "\n",
       "      data_set_name   version  width  height    scales  \n",
       "0             SDATA  Screened  126.0   129.0  0.976744  \n",
       "1             SDATA  Screened  132.0   132.0  1.000000  \n",
       "2             SDATA  Screened  113.0   114.0  0.991228  \n",
       "3             SDATA  Screened  124.0   124.0  1.000000  \n",
       "4             SDATA  Screened  125.0   125.0  1.000000  \n",
       "...             ...       ...    ...     ...       ...  \n",
       "20417         SDATA  Screened  124.0   145.0  0.855172  \n",
       "20418         SDATA  Screened  122.0   127.0  0.960630  \n",
       "20419         SDATA  Screened  132.0   123.0  1.073171  \n",
       "20420         SDATA  Screened  110.0   116.0  0.948276  \n",
       "20421         SDATA  Screened  138.0   135.0  1.022222  \n",
       "\n",
       "[20422 rows x 17 columns]"
      ]
     },
     "execution_count": 7,
     "metadata": {},
     "output_type": "execute_result"
    }
   ],
   "source": [
    "v_screening[v_screening[\"image_name\"].isin(screened)]"
   ]
  },
  {
   "cell_type": "markdown",
   "metadata": {},
   "source": [
    "## Global Stats"
   ]
  },
  {
   "cell_type": "code",
   "execution_count": 8,
   "metadata": {},
   "outputs": [],
   "source": [
    "def get_global_stats(frame, dataset , version, species):\n",
    "    \n",
    "    nr_slides = len(frame[\"image_name\"].unique())\n",
    "    total = frame.shape[0]\n",
    "    score = int(frame[\"grade\"].mean() * 100)\n",
    "    _0 = frame[frame[\"grade\"] == 0].shape[0]\n",
    "    _1 = frame[frame[\"grade\"] == 1].shape[0]\n",
    "    _2 = frame[frame[\"grade\"] == 2].shape[0]\n",
    "    _3 = frame[frame[\"grade\"] == 3].shape[0]\n",
    "    _4 = frame[frame[\"grade\"] == 4].shape[0]\n",
    "    mean = frame[\"grade\"].mean()\n",
    "    SD = frame[\"grade\"].std()\n",
    "    \n",
    "    frame = [[species, dataset, nr_slides, version, total, score, _0, _1, _2, _3, _4, mean, SD]]\n",
    "    \n",
    "    return pd.DataFrame(frame, columns=[\"species\", \"dataset\" ,\"slides\", \"version\", \"total\", \"score\", \"0\", \"1\", \"2\", \"3\", \"4\", \"mean\", \"SD\"])"
   ]
  },
  {
   "cell_type": "code",
   "execution_count": 9,
   "metadata": {},
   "outputs": [
    {
     "data": {
      "text/html": [
       "<div>\n",
       "<style scoped>\n",
       "    .dataframe tbody tr th:only-of-type {\n",
       "        vertical-align: middle;\n",
       "    }\n",
       "\n",
       "    .dataframe tbody tr th {\n",
       "        vertical-align: top;\n",
       "    }\n",
       "\n",
       "    .dataframe thead th {\n",
       "        text-align: right;\n",
       "    }\n",
       "</style>\n",
       "<table border=\"1\" class=\"dataframe\">\n",
       "  <thead>\n",
       "    <tr style=\"text-align: right;\">\n",
       "      <th></th>\n",
       "      <th>species</th>\n",
       "      <th>dataset</th>\n",
       "      <th>slides</th>\n",
       "      <th>version</th>\n",
       "      <th>total</th>\n",
       "      <th>score</th>\n",
       "      <th>0</th>\n",
       "      <th>1</th>\n",
       "      <th>2</th>\n",
       "      <th>3</th>\n",
       "      <th>4</th>\n",
       "      <th>mean</th>\n",
       "      <th>SD</th>\n",
       "    </tr>\n",
       "  </thead>\n",
       "  <tbody>\n",
       "    <tr>\n",
       "      <th>0</th>\n",
       "      <td>Cat</td>\n",
       "      <td>SDATA</td>\n",
       "      <td>7</td>\n",
       "      <td>Inference</td>\n",
       "      <td>94788</td>\n",
       "      <td>38</td>\n",
       "      <td>58879</td>\n",
       "      <td>35659</td>\n",
       "      <td>122</td>\n",
       "      <td>8</td>\n",
       "      <td>120</td>\n",
       "      <td>0.384089</td>\n",
       "      <td>0.504816</td>\n",
       "    </tr>\n",
       "    <tr>\n",
       "      <th>0</th>\n",
       "      <td>Cat</td>\n",
       "      <td>SDATA</td>\n",
       "      <td>7</td>\n",
       "      <td>Cluster</td>\n",
       "      <td>88848</td>\n",
       "      <td>38</td>\n",
       "      <td>54867</td>\n",
       "      <td>33868</td>\n",
       "      <td>103</td>\n",
       "      <td>5</td>\n",
       "      <td>5</td>\n",
       "      <td>0.383903</td>\n",
       "      <td>0.489751</td>\n",
       "    </tr>\n",
       "    <tr>\n",
       "      <th>0</th>\n",
       "      <td>Cat</td>\n",
       "      <td>SDATA</td>\n",
       "      <td>7</td>\n",
       "      <td>Screening</td>\n",
       "      <td>20422</td>\n",
       "      <td>33</td>\n",
       "      <td>13631</td>\n",
       "      <td>6747</td>\n",
       "      <td>41</td>\n",
       "      <td>2</td>\n",
       "      <td>1</td>\n",
       "      <td>0.334884</td>\n",
       "      <td>0.477429</td>\n",
       "    </tr>\n",
       "    <tr>\n",
       "      <th>0</th>\n",
       "      <td>Cat</td>\n",
       "      <td>SDATA</td>\n",
       "      <td>7</td>\n",
       "      <td>Density</td>\n",
       "      <td>20198</td>\n",
       "      <td>45</td>\n",
       "      <td>11124</td>\n",
       "      <td>9039</td>\n",
       "      <td>35</td>\n",
       "      <td>0</td>\n",
       "      <td>0</td>\n",
       "      <td>0.450985</td>\n",
       "      <td>0.501075</td>\n",
       "    </tr>\n",
       "  </tbody>\n",
       "</table>\n",
       "</div>"
      ],
      "text/plain": [
       "  species dataset  slides    version  total  score      0      1    2  3    4  \\\n",
       "0     Cat   SDATA       7  Inference  94788     38  58879  35659  122  8  120   \n",
       "0     Cat   SDATA       7    Cluster  88848     38  54867  33868  103  5    5   \n",
       "0     Cat   SDATA       7  Screening  20422     33  13631   6747   41  2    1   \n",
       "0     Cat   SDATA       7    Density  20198     45  11124   9039   35  0    0   \n",
       "\n",
       "       mean        SD  \n",
       "0  0.384089  0.504816  \n",
       "0  0.383903  0.489751  \n",
       "0  0.334884  0.477429  \n",
       "0  0.450985  0.501075  "
      ]
     },
     "execution_count": 9,
     "metadata": {},
     "output_type": "execute_result"
    }
   ],
   "source": [
    "v0_meta = get_global_stats(v0, \"SDATA\", \"Inference\", species)\n",
    "v_cluster_meta = get_global_stats(v_cluster, \"SDATA\", \"Cluster\", species)\n",
    "v_screening_meta = get_global_stats(v_screening, \"SDATA\", \"Screening\", species)\n",
    "v_density_meta = get_global_stats(v_density, \"SDATA\", \"Density\", species)\n",
    "\n",
    "metaDf = pd.concat([v0_meta, v_cluster_meta, v_screening_meta, v_density_meta])\n",
    "metaDf.head()"
   ]
  },
  {
   "cell_type": "markdown",
   "metadata": {},
   "source": [
    "## Stain "
   ]
  },
  {
   "cell_type": "code",
   "execution_count": 10,
   "metadata": {},
   "outputs": [
    {
     "data": {
      "text/plain": [
       "'BerlinerBlaue: 0'"
      ]
     },
     "execution_count": 10,
     "metadata": {},
     "output_type": "execute_result"
    }
   ],
   "source": [
    "\"BerlinerBlaue: {}\".format(len([name for name in v0[\"image_name\"].unique() if \"erliner\" in name]))"
   ]
  },
  {
   "cell_type": "code",
   "execution_count": 11,
   "metadata": {},
   "outputs": [
    {
     "data": {
      "text/plain": [
       "'TurnbullBlaue: 7'"
      ]
     },
     "execution_count": 11,
     "metadata": {},
     "output_type": "execute_result"
    }
   ],
   "source": [
    "\"TurnbullBlaue: {}\".format(len([name for name in v0[\"image_name\"].unique() if \"erliner\" not in name]))"
   ]
  },
  {
   "cell_type": "markdown",
   "metadata": {},
   "source": [
    "## Introduced new cells?"
   ]
  },
  {
   "cell_type": "code",
   "execution_count": 12,
   "metadata": {},
   "outputs": [
    {
     "data": {
      "text/plain": [
       "188"
      ]
     },
     "execution_count": 12,
     "metadata": {},
     "output_type": "execute_result"
    }
   ],
   "source": [
    "188"
   ]
  },
  {
   "cell_type": "markdown",
   "metadata": {},
   "source": [
    "## Images"
   ]
  },
  {
   "cell_type": "code",
   "execution_count": 13,
   "metadata": {},
   "outputs": [
    {
     "data": {
      "text/plain": [
       "array(['BAL_Cat_Turnbull blue_1.svs', 'BAL_Cat_Turnbull blue_2.svs',\n",
       "       'BAL_Cat_Turnbull blue_6.svs', 'BAL_Cat_Turnbull blue_10.svs',\n",
       "       'BAL_Cat_Turnbull blue_12.svs', 'BAL_Cat_Turnbull blue_13.svs',\n",
       "       'BAL_Cat_Turnbull blue_14.svs'], dtype=object)"
      ]
     },
     "execution_count": 13,
     "metadata": {},
     "output_type": "execute_result"
    }
   ],
   "source": [
    "v0[\"image_name\"].unique()"
   ]
  },
  {
   "cell_type": "code",
   "execution_count": 14,
   "metadata": {},
   "outputs": [
    {
     "data": {
      "text/plain": [
       "7"
      ]
     },
     "execution_count": 14,
     "metadata": {},
     "output_type": "execute_result"
    }
   ],
   "source": [
    "len(v0[\"image_name\"].unique())"
   ]
  },
  {
   "cell_type": "markdown",
   "metadata": {},
   "source": [
    "## Density changes"
   ]
  },
  {
   "cell_type": "code",
   "execution_count": 8,
   "metadata": {},
   "outputs": [],
   "source": [
    "screening_changes = {source_uuid: source_grade for source_uuid, source_grade in \n",
    "                     zip(v_screening[\"unique_identifier\"], v_screening[\"grade\"])}\n",
    "\n",
    "density_changes = {density_uuid: density_grade for density_uuid, density_grade in \n",
    "                     zip(v_density[\"unique_identifier\"], v_density[\"grade\"])}"
   ]
  },
  {
   "cell_type": "code",
   "execution_count": 17,
   "metadata": {},
   "outputs": [
    {
     "data": {
      "text/plain": [
       "2957"
      ]
     },
     "execution_count": 17,
     "metadata": {},
     "output_type": "execute_result"
    }
   ],
   "source": [
    "total_changes = 0\n",
    "up_changes = {}\n",
    "down_changes = {}\n",
    "grade_one_error = 0\n",
    "\n",
    "for source_uuid, source_grade in screening_changes.items():\n",
    "    \n",
    "    if source_uuid in density_changes:\n",
    "        \n",
    "        density_grade = density_changes[source_uuid]\n",
    "        if source_grade != density_grade:\n",
    "            name = f\"{source_grade} -> {density_grade}\"\n",
    "            \n",
    "            if source_grade < density_grade:\n",
    "                if name not in up_changes:\n",
    "                    up_changes[name] = 0\n",
    "                up_changes[name] += 1\n",
    "                total_changes += 1\n",
    "                \n",
    "            if source_grade > density_grade:\n",
    "                if name not in down_changes:\n",
    "                    down_changes[name] = 0\n",
    "                down_changes[name] += 1\n",
    "                total_changes += 1\n",
    "                \n",
    "            if abs(density_grade - source_grade) == 1:\n",
    "                grade_one_error += 1\n",
    "                \n",
    "total_changes"
   ]
  },
  {
   "cell_type": "code",
   "execution_count": 18,
   "metadata": {},
   "outputs": [
    {
     "data": {
      "text/plain": [
       "2956"
      ]
     },
     "execution_count": 18,
     "metadata": {},
     "output_type": "execute_result"
    }
   ],
   "source": [
    "grade_one_error"
   ]
  },
  {
   "cell_type": "code",
   "execution_count": 10,
   "metadata": {},
   "outputs": [
    {
     "data": {
      "text/plain": [
       "{'0 -> 1': 2654, '1 -> 2': 25}"
      ]
     },
     "execution_count": 10,
     "metadata": {},
     "output_type": "execute_result"
    }
   ],
   "source": [
    "up_changes"
   ]
  },
  {
   "cell_type": "code",
   "execution_count": 15,
   "metadata": {},
   "outputs": [
    {
     "data": {
      "text/plain": [
       "'Total Up: 2679'"
      ]
     },
     "execution_count": 15,
     "metadata": {},
     "output_type": "execute_result"
    }
   ],
   "source": [
    "f\"Total Up: {sum(up_changes.values())}\" "
   ]
  },
  {
   "cell_type": "code",
   "execution_count": 11,
   "metadata": {},
   "outputs": [
    {
     "data": {
      "text/plain": [
       "{'4 -> 0': 1, '1 -> 0': 252, '2 -> 1': 24, '3 -> 2': 1}"
      ]
     },
     "execution_count": 11,
     "metadata": {},
     "output_type": "execute_result"
    }
   ],
   "source": [
    "down_changes"
   ]
  },
  {
   "cell_type": "code",
   "execution_count": 16,
   "metadata": {},
   "outputs": [
    {
     "data": {
      "text/plain": [
       "'Total Down: 278'"
      ]
     },
     "execution_count": 16,
     "metadata": {},
     "output_type": "execute_result"
    }
   ],
   "source": [
    "f\"Total Down: {sum(down_changes.values())}\" "
   ]
  },
  {
   "cell_type": "code",
   "execution_count": null,
   "metadata": {},
   "outputs": [],
   "source": []
  }
 ],
 "metadata": {
  "kernelspec": {
   "display_name": "Python 3 (ipykernel)",
   "language": "python",
   "name": "python3"
  },
  "language_info": {
   "codemirror_mode": {
    "name": "ipython",
    "version": 3
   },
   "file_extension": ".py",
   "mimetype": "text/x-python",
   "name": "python",
   "nbconvert_exporter": "python",
   "pygments_lexer": "ipython3",
   "version": "3.9.7"
  }
 },
 "nbformat": 4,
 "nbformat_minor": 4
}
