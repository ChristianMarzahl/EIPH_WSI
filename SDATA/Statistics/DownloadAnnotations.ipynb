{
 "cells": [
  {
   "cell_type": "code",
   "execution_count": 1,
   "metadata": {},
   "outputs": [],
   "source": [
    "%reload_ext autoreload\n",
    "%autoreload 2\n",
    "%matplotlib inline"
   ]
  },
  {
   "cell_type": "code",
   "execution_count": 229,
   "metadata": {},
   "outputs": [],
   "source": [
    "from tqdm import tqdm\n",
    "import pandas as pd\n",
    "import numpy as np\n",
    "from pathlib import Path"
   ]
  },
  {
   "cell_type": "code",
   "execution_count": 2,
   "metadata": {},
   "outputs": [],
   "source": [
    "from exact_sync.v1.api.annotations_api import AnnotationsApi\n",
    "from exact_sync.v1.api.images_api import ImagesApi\n",
    "from exact_sync.v1.api.image_sets_api import ImageSetsApi\n",
    "from exact_sync.v1.api.annotation_types_api import AnnotationTypesApi\n",
    "from exact_sync.v1.api.products_api import ProductsApi\n",
    "from exact_sync.v1.api.teams_api import TeamsApi\n",
    "\n",
    "from exact_sync.v1.models import ImageSet, Team, Product, AnnotationType, Image, Annotation, AnnotationMediaFile\n",
    "from exact_sync.v1.rest import ApiException\n",
    "from exact_sync.v1.configuration import Configuration\n",
    "from exact_sync.v1.api_client import ApiClient"
   ]
  },
  {
   "cell_type": "code",
   "execution_count": 5,
   "metadata": {},
   "outputs": [],
   "source": [
    "configuration = Configuration()\n",
    "configuration.username = 'marzahl'\n",
    "configuration.password = '***'\n",
    "configuration.host =  \"https://exact.cs.fau.de/\"\n",
    "\n",
    "image_set_ids = [246, 245, 251, 15, 222, 247]"
   ]
  },
  {
   "cell_type": "code",
   "execution_count": 4,
   "metadata": {},
   "outputs": [],
   "source": [
    "client = ApiClient(configuration)\n",
    "\n",
    "image_sets_api = ImageSetsApi(client)\n",
    "annotations_api = AnnotationsApi(client)\n",
    "annotation_types_api = AnnotationTypesApi(client)\n",
    "images_api = ImagesApi(client)\n",
    "product_api = ProductsApi(client)"
   ]
  },
  {
   "cell_type": "code",
   "execution_count": 6,
   "metadata": {},
   "outputs": [],
   "source": [
    "images = {}\n",
    "annotation_types = {}\n",
    "\n",
    "for image_set in image_set_ids:\n",
    "    for image in images_api.list_images(pagination=False, image_set=image_set).results:\n",
    "        images[image.id] = image\n",
    "    for product in product_api.list_products(imagesets=image_set).results:\n",
    "        for anno_type in annotation_types_api.list_annotation_types(product=product.id).results:\n",
    "            annotation_types[anno_type.id] = anno_type"
   ]
  },
  {
   "cell_type": "code",
   "execution_count": 12,
   "metadata": {},
   "outputs": [],
   "source": [
    "def set_species(image_set_id):\n",
    "    \n",
    "    species = \"equine\"\n",
    "    if image.image_set == 251:\n",
    "        species = \"human\"\n",
    "    if image.image_set == 222:\n",
    "        species = \"felis catus\"\n",
    "        \n",
    "    return species"
   ]
  },
  {
   "cell_type": "code",
   "execution_count": 13,
   "metadata": {},
   "outputs": [],
   "source": [
    "def data_set(image_set_id):\n",
    "    \n",
    "    data_set = \"SREP\"\n",
    "    if image_set_id not in [245, 15]:\n",
    "        data_set = \"SDATA\"\n",
    "    return data_set"
   ]
  },
  {
   "cell_type": "code",
   "execution_count": 14,
   "metadata": {},
   "outputs": [],
   "source": [
    "def set_version(data_set, deleted, last_editor):\n",
    "    \n",
    "    version = \"SREP\"\n",
    "    \n",
    "    if data_set == \"SREP\" and deleted == False:\n",
    "        version = \"SREP_V2\"\n",
    "        \n",
    "    if data_set != \"SREP\":\n",
    "        version = \"Inference\"\n",
    "        \n",
    "        if deleted:\n",
    "            if last_editor == 1:\n",
    "                version = \"Cluster\"\n",
    "            else:\n",
    "                version = \"Screening\"\n",
    "        elif last_editor != 1 and deleted ==  False:\n",
    "            version = \"DensityMap\"\n",
    "    return version\n",
    "            "
   ]
  },
  {
   "cell_type": "code",
   "execution_count": 188,
   "metadata": {},
   "outputs": [],
   "source": [
    "rows = []\n",
    "\n",
    "for annotation_type_id in [338, 337]:\n",
    "    annotation_type_name = \"Granulozyten\" if  annotation_type_id == 337 else \"Delete\"\n",
    "    for anno in annotations_api.list_annotations(annotation_type=annotation_type_id, pagination=False, fields=\"id,unique_identifier,annotation_type,vector,user,deleted,last_editor\").results:\n",
    "        \n",
    "        \n",
    "        \n",
    "        species = \"felis catus\"\n",
    "        data_set_name = \"SDATA\"\n",
    "        version = \"Cluster\"\n",
    "        image_type = \"Turnbull\"\n",
    "        if anno.vector is not None: \n",
    "            rows.append([anno.id, anno.image, 249, species, image_type, annotation_type_name, anno.vector, anno.unique_identifier, anno.user, anno.deleted, anno.last_editor, data_set_name, version])\n",
    "            \n",
    "    dfCC = pd.DataFrame(rows, columns=['id', 'image_id', 'image_set', 'species' , 'image_type', 'name', 'vector', 'unique_identifier', 'user_id', 'deleted', 'last_editor', 'data_set_name', 'version'])\n",
    "    dfCC.to_pickle(\"EIPH_ClusterFilter_Annotations.pkl\")"
   ]
  },
  {
   "cell_type": "code",
   "execution_count": 16,
   "metadata": {},
   "outputs": [
    {
     "name": "stderr",
     "output_type": "stream",
     "text": [
      "100%|████████████████████████████████████████████████████████████████████████████████| 91/91 [2:04:27<00:00, 82.06s/it]\n"
     ]
    }
   ],
   "source": [
    "rows = []\n",
    "for image_id, image in tqdm(images.items()):\n",
    "\n",
    "    for annotation_type_id, annotation_type in annotation_types.items():\n",
    "\n",
    "        for anno in annotations_api.list_annotations(annotation_type=annotation_type_id, image=image_id, pagination=False, fields=\"id,unique_identifier,annotation_type,vector,user,deleted,last_editor\").results:\n",
    "                  \n",
    "            species = set_species(image.image_set)\n",
    "            data_set_name = data_set(image.image_set)\n",
    "            version = set_version(data_set_name, anno.deleted, anno.last_editor)\n",
    "            \n",
    "            # anno_id, image_id, image_name, anno_type_name, vector, user_id, user_name\n",
    "            image_type = \"Prussian\" if \"erliner\" in image.name else \"Turnbull\"\n",
    "            if anno.vector is not None and anno.user in [1, 11, 12]:\n",
    "                rows.append([anno.id, image_id, image.image_set, species, image.name, image_type, int(annotation_type.name), anno.vector, anno.unique_identifier, anno.user, anno.deleted, anno.last_editor, data_set_name, version])\n",
    "\n",
    "    df = pd.DataFrame(rows, columns=['id', 'image_id', 'image_set', 'species' ,'image_name', 'image_type', 'grade', 'vector', 'unique_identifier', 'user_id', 'deleted', 'last_editor', 'data_set_name', 'version'])\n",
    "    df.to_pickle(\"EIPH_Annotations.pkl\")"
   ]
  }
 ],
 "metadata": {
  "kernelspec": {
   "display_name": "Python 3",
   "language": "python",
   "name": "python3"
  },
  "language_info": {
   "codemirror_mode": {
    "name": "ipython",
    "version": 3
   },
   "file_extension": ".py",
   "mimetype": "text/x-python",
   "name": "python",
   "nbconvert_exporter": "python",
   "pygments_lexer": "ipython3",
   "version": "3.6.10"
  }
 },
 "nbformat": 4,
 "nbformat_minor": 4
}
