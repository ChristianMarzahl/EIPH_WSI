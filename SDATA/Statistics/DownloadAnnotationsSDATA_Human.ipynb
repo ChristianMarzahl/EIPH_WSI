{
 "cells": [
  {
   "cell_type": "code",
   "execution_count": 1,
   "metadata": {},
   "outputs": [],
   "source": [
    "%reload_ext autoreload\n",
    "%autoreload 2\n",
    "%matplotlib inline"
   ]
  },
  {
   "cell_type": "code",
   "execution_count": 2,
   "metadata": {},
   "outputs": [],
   "source": [
    "from tqdm import tqdm\n",
    "import pandas as pd\n",
    "import numpy as np\n",
    "from pathlib import Path"
   ]
  },
  {
   "cell_type": "code",
   "execution_count": 3,
   "metadata": {},
   "outputs": [],
   "source": [
    "from exact_sync.v1.api.annotations_api import AnnotationsApi\n",
    "from exact_sync.v1.api.images_api import ImagesApi\n",
    "from exact_sync.v1.api.image_sets_api import ImageSetsApi\n",
    "from exact_sync.v1.api.annotation_types_api import AnnotationTypesApi\n",
    "from exact_sync.v1.api.products_api import ProductsApi\n",
    "from exact_sync.v1.api.teams_api import TeamsApi\n",
    "\n",
    "from exact_sync.v1.models import ImageSet, Team, Product, AnnotationType, Image, Annotation, AnnotationMediaFile\n",
    "from exact_sync.v1.rest import ApiException\n",
    "from exact_sync.v1.configuration import Configuration\n",
    "from exact_sync.v1.api_client import ApiClient"
   ]
  },
  {
   "cell_type": "code",
   "execution_count": 4,
   "metadata": {},
   "outputs": [],
   "source": [
    "configuration = Configuration()\n",
    "configuration.username = 'marzahl'\n",
    "configuration.password = '****'\n",
    "configuration.host =  \"https://exact.cs.fau.de/\"\n",
    "\n",
    "image_set_ids = [251]"
   ]
  },
  {
   "cell_type": "code",
   "execution_count": 5,
   "metadata": {},
   "outputs": [],
   "source": [
    "client = ApiClient(configuration)\n",
    "\n",
    "image_sets_api = ImageSetsApi(client)\n",
    "annotations_api = AnnotationsApi(client)\n",
    "annotation_types_api = AnnotationTypesApi(client)\n",
    "images_api = ImagesApi(client)\n",
    "product_api = ProductsApi(client)"
   ]
  },
  {
   "cell_type": "code",
   "execution_count": 6,
   "metadata": {},
   "outputs": [],
   "source": [
    "screened = [\n",
    "    '10052_19 humane BAL Berliner Blau-001.svs',\n",
    "    '10080_19 humane BAL Berliner Blau-001.svs',\n",
    "    '10120_19 humane BAL Berliner Blau.svs',\n",
    "    '10227_19 humane BAL Berliner Blau.svs',\n",
    "    '10672_19 humane BAL Berliner Blau.svs',\n",
    "    '10672_19 humane BAL Turnbull Blau.svs',\n",
    "    '10835_19 humane BAL Berliner Blau.svs',\n",
    "    '10835_19 humane BAL Turnbull Blau.svs',\n",
    "    '11323_19 humane BAL Berliner Blau.svs',\n",
    "    '11480_19 humane BAL Berliner Blau.svs',\n",
    "    '2707_20 TB BAL Human neu.svs',\n",
    "    '2702_20 BB Human BAL-001.svs'\n",
    "]"
   ]
  },
  {
   "cell_type": "code",
   "execution_count": 7,
   "metadata": {},
   "outputs": [],
   "source": [
    "images = {}\n",
    "annotation_types = {}\n",
    "\n",
    "for image_set in image_set_ids:\n",
    "    for image in images_api.list_images(pagination=False, image_set=image_set).results:\n",
    "        \n",
    "        if image.name not in screened:\n",
    "            continue\n",
    "        \n",
    "        images[image.id] = image\n",
    "    for product in product_api.list_products(imagesets=image_set).results:\n",
    "        for anno_type in annotation_types_api.list_annotation_types(product=product.id).results:\n",
    "            annotation_types[anno_type.id] = anno_type"
   ]
  },
  {
   "cell_type": "code",
   "execution_count": 11,
   "metadata": {},
   "outputs": [
    {
     "name": "stderr",
     "output_type": "stream",
     "text": [
      "100%|██████████████████████████████████████████████████████████████████████████████████| 12/12 [18:48<00:00, 94.00s/it]\n"
     ]
    }
   ],
   "source": [
    "rows = []\n",
    "for image_id, image in tqdm(images.items()):\n",
    "\n",
    "    for annotation_type_id, annotation_type in annotation_types.items():\n",
    "\n",
    "        for anno in annotations_api.list_annotations(annotation_type=annotation_type_id, image=image_id, pagination=False, fields=\"id,unique_identifier,annotation_type,vector,user,deleted,last_editor\").results:\n",
    "            \n",
    "            species = \"Human\"\n",
    "            data_set_name = \"SDATA\"\n",
    "            version = \"Inference\"\n",
    "            \n",
    "            # anno_id, image_id, image_name, anno_type_name, vector, user_id, user_name\n",
    "            image_type = \"Prussian\" if \"erliner\" in image.name else \"Turnbull\"\n",
    "            if  \" TB \" in image.name:\n",
    "                image_type = \"Turnbull\"\n",
    "            if \" BB \" in image.name:\n",
    "                image_type = \"Prussian\"\n",
    "                \n",
    "            if anno.vector is not None and anno.user in [1, 11, 12]:\n",
    "                rows.append([anno.id, image_id, image.image_set, species, image.name, image_type, int(annotation_type.name), anno.vector, anno.unique_identifier, anno.user, anno.deleted, anno.last_editor, data_set_name, version])\n",
    "\n",
    "    df = pd.DataFrame(rows, columns=['id', 'image_id', 'image_set', 'species' ,'image_name', 'image_type', 'grade', 'vector', 'unique_identifier', 'user_id', 'deleted', 'last_editor', 'data_set_name', 'version'])\n",
    "    df.to_pickle(\"EIPH_Human_SDATA_Inference_Annotations.pkl\")"
   ]
  },
  {
   "cell_type": "code",
   "execution_count": 12,
   "metadata": {},
   "outputs": [
    {
     "name": "stderr",
     "output_type": "stream",
     "text": [
      "100%|██████████████████████████████████████████████████████████████████████████████████| 12/12 [06:43<00:00, 33.61s/it]\n"
     ]
    }
   ],
   "source": [
    "rows = []\n",
    "for image_id, image in tqdm(images.items()):\n",
    "\n",
    "    for annotation_type_id, annotation_type in annotation_types.items():\n",
    "\n",
    "        for anno in annotations_api.list_annotations(annotation_type=annotation_type_id, \n",
    "                                                     image=image_id, pagination=False, deleted=False,\n",
    "                                                     fields=\"id,unique_identifier,annotation_type,vector,user,deleted,last_editor\").results:\n",
    "            \n",
    "            species = \"Human\"\n",
    "            data_set_name = \"SDATA\"\n",
    "            version = \"Screened\"\n",
    "            \n",
    "            # anno_id, image_id, image_name, anno_type_name, vector, user_id, user_name\n",
    "            image_type = \"Prussian\" if \"erliner\" in image.name else \"Turnbull\"\n",
    "            if  \" TB \" in image.name:\n",
    "                image_type = \"Turnbull\"\n",
    "            if \" BB \" in image.name:\n",
    "                image_type = \"Prussian\"\n",
    "            \n",
    "            if anno.vector is not None and anno.user in [1, 11, 12]:\n",
    "                rows.append([anno.id, image_id, image.image_set, species, image.name, image_type, int(annotation_type.name), anno.vector, anno.unique_identifier, anno.user, anno.deleted, anno.last_editor, data_set_name, version])\n",
    "\n",
    "    df = pd.DataFrame(rows, columns=['id', 'image_id', 'image_set', 'species' ,'image_name', 'image_type', 'grade', 'vector', 'unique_identifier', 'user_id', 'deleted', 'last_editor', 'data_set_name', 'version'])\n",
    "    df.to_pickle(\"EIPH_Human_SDATA_Screening_Annotations.pkl\")"
   ]
  },
  {
   "cell_type": "code",
   "execution_count": 8,
   "metadata": {},
   "outputs": [
    {
     "name": "stderr",
     "output_type": "stream",
     "text": [
      "100%|██████████████████████████████████████████████████████████████████████████████████| 12/12 [04:31<00:00, 22.59s/it]\n"
     ]
    }
   ],
   "source": [
    "rows = []\n",
    "for image_set in [283]:\n",
    "    for image in tqdm(images_api.list_images(pagination=False, image_set=image_set).results):\n",
    "\n",
    "        for annotation_type_id, annotation_type in annotation_types.items():\n",
    "\n",
    "            for anno in annotations_api.list_annotations(annotation_type=annotation_type_id, \n",
    "                                                         image=image.id, pagination=False, deleted=False,\n",
    "                                                         fields=\"id,unique_identifier,annotation_type,vector,user,deleted,last_editor\").results:\n",
    "\n",
    "                species = \"Human\"\n",
    "                data_set_name = \"SDATA\"\n",
    "                version = \"Density\"\n",
    "\n",
    "                # anno_id, image_id, image_name, anno_type_name, vector, user_id, user_name\n",
    "                image_type = \"Prussian\" if \"erliner\" in image.name else \"Turnbull\"\n",
    "                if  \" TB \" in image.name:\n",
    "                    image_type = \"Turnbull\"\n",
    "                if \" BB \" in image.name:\n",
    "                    image_type = \"Prussian\"\n",
    "                \n",
    "                if anno.vector is not None and anno.user in [1, 11, 12]:\n",
    "                    rows.append([anno.id, image.id, image.image_set, species, image.name, image_type, int(annotation_type.name), anno.vector, anno.unique_identifier, anno.user, anno.deleted, anno.last_editor, data_set_name, version])\n",
    "\n",
    "        df = pd.DataFrame(rows, columns=['id', 'image_id', 'image_set', 'species' ,'image_name', 'image_type', 'grade', 'vector', 'unique_identifier', 'user_id', 'deleted', 'last_editor', 'data_set_name', 'version'])\n",
    "        df.to_pickle(\"EIPH_Human_SDATA_Density_Annotations.pkl\")"
   ]
  },
  {
   "cell_type": "code",
   "execution_count": null,
   "metadata": {},
   "outputs": [],
   "source": []
  }
 ],
 "metadata": {
  "kernelspec": {
   "display_name": "Python 3 (ipykernel)",
   "language": "python",
   "name": "python3"
  },
  "language_info": {
   "codemirror_mode": {
    "name": "ipython",
    "version": 3
   },
   "file_extension": ".py",
   "mimetype": "text/x-python",
   "name": "python",
   "nbconvert_exporter": "python",
   "pygments_lexer": "ipython3",
   "version": "3.9.7"
  }
 },
 "nbformat": 4,
 "nbformat_minor": 4
}
