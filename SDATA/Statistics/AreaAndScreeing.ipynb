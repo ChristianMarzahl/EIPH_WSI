{
 "cells": [
  {
   "cell_type": "code",
   "execution_count": 1,
   "metadata": {},
   "outputs": [],
   "source": [
    "%reload_ext autoreload\n",
    "%autoreload 2\n",
    "%matplotlib inline"
   ]
  },
  {
   "cell_type": "code",
   "execution_count": 2,
   "metadata": {},
   "outputs": [],
   "source": [
    "import pandas as pd\n",
    "from tqdm import tqdm"
   ]
  },
  {
   "cell_type": "code",
   "execution_count": 3,
   "metadata": {},
   "outputs": [],
   "source": [
    "from exact_sync.v1.api.images_api import ImagesApi\n",
    "from exact_sync.v1.api.image_sets_api import ImageSetsApi\n",
    "from exact_sync.v1.api.screening_modes_api import ScreeningModesApi\n",
    "\n",
    "from exact_sync.v1.models import ImageSet, Team, Image, ScreeningMode\n",
    "from exact_sync.v1.rest import ApiException\n",
    "from exact_sync.v1.configuration import Configuration\n",
    "from exact_sync.v1.api_client import ApiClient"
   ]
  },
  {
   "cell_type": "code",
   "execution_count": 4,
   "metadata": {},
   "outputs": [],
   "source": [
    "configuration = Configuration()\n",
    "configuration.username = 'marzahl'\n",
    "configuration.password = '****'\n",
    "configuration.host =  \"https://exact.cs.fau.de/\""
   ]
  },
  {
   "cell_type": "code",
   "execution_count": 5,
   "metadata": {},
   "outputs": [],
   "source": [
    "client = ApiClient(configuration)\n",
    "\n",
    "image_sets_api = ImageSetsApi(client)\n",
    "images_api = ImagesApi(client)\n",
    "screening_api = ScreeningModesApi(client)"
   ]
  },
  {
   "cell_type": "code",
   "execution_count": 13,
   "metadata": {},
   "outputs": [],
   "source": [
    "screened_images = [\n",
    "    # SREP\n",
    "       '05_EIPH_569923 Berliner Blau.svs',\n",
    "       '11_EIPH_575697 Berliner Blau.svs',\n",
    "       '02_EIPH_574162 berliner blau.svs',\n",
    "       '26_EIPH_566482 L Berliner Blau.svs',\n",
    "       '31_EIPH_568354 Berliner Blau.svs',\n",
    "       '04_EIPH_567017 Berliner Blau.svs',\n",
    "       '27_EIPH_571557 berliner blau.svs',\n",
    "       '01_EIPH_563479 Berliner Blau.svs',\n",
    "       '03_EIPH_566933 R Berliner Blau neu.svs',\n",
    "       '20_EIPH_576150 berliner blau.svs',\n",
    "       '07_EIPH_574882 left lung Turnbull blue.svs',\n",
    "       '09_EIPH_563417 L Turnbull blue.svs',\n",
    "       '14_EIPH_568381 Turnbull blue.svs',\n",
    "       '22_EIPH_575216 Turnbull blue.svs',\n",
    "       '28_EIPH_569948 L Turnbull blue.svs',\n",
    "       '29_EIPH_566481 L Turnbull blue.svs',\n",
    "    # SDATA Equine\n",
    "        '07_EIPH_574882 Berliner Blau-001.svs',\n",
    "           '08_EIPH_574999 Berliner Blau.svs',\n",
    "           '09_EIPH_563417 L berliner blau.svs',\n",
    "           '10_EIPH_563417 R Berliner Blau.svs',\n",
    "           '13_EIPH_570370 Berliner Blau.svs',\n",
    "           '14_EIPH_568381 berliner blau-001.svs',\n",
    "           '15_EIPH_568320 berliner blau.svs',\n",
    "           '16_EIPH_574882 R Berliner Blau.svs',\n",
    "           '17_EIPH_575796 Berliner Blau.svs',\n",
    "           '18_EIPH_574882 R Berliner Blau.svs',\n",
    "           '19_EIPH_566933 L Berliner Blau.svs',\n",
    "           '22_EIPH_575216 Berliner Blau.svs',\n",
    "           '23_EIPH_563476 Berliner Blau-001.svs',\n",
    "           '24_EIPH_576255 Berliner Blau.svs',\n",
    "           '25_EIPH_568150 Berliner Blau.svs',\n",
    "           '28_EIPH_569948 L berliner blau.svs',\n",
    "           '29_EIPH_566481 L Berliner Blau.svs',\n",
    "           '30_EIPH_588355 Berliner Blau.svs',\n",
    "           '01_EIPH_563479 Turnbull blue.svs',\n",
    "           '02_EIPH_574162 Turnbull blue-001.svs',\n",
    "           '03_EIPH_566933 R Turnbull blue.svs',\n",
    "           '04_EIPH_567017 Turnbull blue-001.svs',\n",
    "           '05_EIPH_569923 Turnbull blue.svs',\n",
    "           '10_EIPH_563417 R Turnbull blue-002.svs',\n",
    "           '11_EIPH_575697 Turnbull blue-002.svs',\n",
    "           '13_EIPH_570370 Turnbull blue-001.svs',\n",
    "           '15_EIPH_568320 Turnbull blue.svs',\n",
    "           '16_EIPH_576172 Turnbull blue-002.svs',\n",
    "           '17_EIPH_575796 Turnbull blue.svs',\n",
    "           '18_EIPH_574882 Turnbull blue-002.svs',\n",
    "           '19_EIPH_566933 L Tunrbull blue.svs',\n",
    "           '20_EIPH_576150 Turnbull blue.svs',\n",
    "           '21_EIPH_566482 R Turnbull blue.svs',\n",
    "           '23_EIPH_563476 Turnbull blue.svs',\n",
    "           '24_EIPH_576255 Turnbull blue.svs',\n",
    "           '25_EIPH_568150 Turnbull blue.svs',\n",
    "           '27_EIPH_571557 Turnbull blue.svs',\n",
    "           '30_EIPH_568355 Turnbull blue.svs',\n",
    "           '31_EIPH_568354 Turnbull blue.svs',\n",
    "    # SDATA-Cat\n",
    "'BAL_Cat_Turnbull blue_1.svs', 'BAL_Cat_Turnbull blue_2.svs',\n",
    "       'BAL_Cat_Turnbull blue_6.svs', 'BAL_Cat_Turnbull blue_10.svs',\n",
    "       'BAL_Cat_Turnbull blue_12.svs', 'BAL_Cat_Turnbull blue_13.svs',\n",
    "       'BAL_Cat_Turnbull blue_14.svs',\n",
    "    #SDATA-Human\n",
    "'2702_20 BB Human BAL-001.svs', '2707_20 TB BAL Human neu.svs',\n",
    "       '10052_19 humane BAL Berliner Blau-001.svs',\n",
    "       '10080_19 humane BAL Berliner Blau-001.svs',\n",
    "       '10120_19 humane BAL Berliner Blau.svs',\n",
    "       '10227_19 humane BAL Berliner Blau.svs',\n",
    "       '10672_19 humane BAL Berliner Blau.svs',\n",
    "       '10672_19 humane BAL Turnbull Blau.svs',\n",
    "       '10835_19 humane BAL Berliner Blau.svs',\n",
    "       '10835_19 humane BAL Turnbull Blau.svs',\n",
    "       '11323_19 humane BAL Berliner Blau.svs',\n",
    "       '11480_19 humane BAL Berliner Blau.svs'\n",
    "    \n",
    "]"
   ]
  },
  {
   "cell_type": "code",
   "execution_count": 14,
   "metadata": {},
   "outputs": [
    {
     "data": {
      "text/plain": [
       "74"
      ]
     },
     "execution_count": 14,
     "metadata": {},
     "output_type": "execute_result"
    }
   ],
   "source": [
    "len(screened_images)"
   ]
  },
  {
   "cell_type": "code",
   "execution_count": 15,
   "metadata": {},
   "outputs": [
    {
     "name": "stderr",
     "output_type": "stream",
     "text": [
      "100%|████████████████████████████████████████████████████████████████████████████████████| 6/6 [00:15<00:00,  2.50s/it]\n"
     ]
    },
    {
     "data": {
      "text/html": [
       "<div>\n",
       "<style scoped>\n",
       "    .dataframe tbody tr th:only-of-type {\n",
       "        vertical-align: middle;\n",
       "    }\n",
       "\n",
       "    .dataframe tbody tr th {\n",
       "        vertical-align: top;\n",
       "    }\n",
       "\n",
       "    .dataframe thead th {\n",
       "        text-align: right;\n",
       "    }\n",
       "</style>\n",
       "<table border=\"1\" class=\"dataframe\">\n",
       "  <thead>\n",
       "    <tr style=\"text-align: right;\">\n",
       "      <th></th>\n",
       "      <th>name</th>\n",
       "      <th>id</th>\n",
       "      <th>image_set</th>\n",
       "      <th>height</th>\n",
       "      <th>width</th>\n",
       "      <th>x_steps</th>\n",
       "      <th>y_steps</th>\n",
       "      <th>patches</th>\n",
       "      <th>area</th>\n",
       "    </tr>\n",
       "  </thead>\n",
       "  <tbody>\n",
       "    <tr>\n",
       "      <th>0</th>\n",
       "      <td>07_EIPH_574882 Berliner Blau-001.svs</td>\n",
       "      <td>3530</td>\n",
       "      <td>246</td>\n",
       "      <td>32990</td>\n",
       "      <td>37799</td>\n",
       "      <td>22</td>\n",
       "      <td>33</td>\n",
       "      <td>726</td>\n",
       "      <td>77.936813</td>\n",
       "    </tr>\n",
       "    <tr>\n",
       "      <th>1</th>\n",
       "      <td>08_EIPH_574999 Berliner Blau.svs</td>\n",
       "      <td>3536</td>\n",
       "      <td>246</td>\n",
       "      <td>36678</td>\n",
       "      <td>37799</td>\n",
       "      <td>22</td>\n",
       "      <td>36</td>\n",
       "      <td>792</td>\n",
       "      <td>86.649483</td>\n",
       "    </tr>\n",
       "    <tr>\n",
       "      <th>2</th>\n",
       "      <td>09_EIPH_563417 L berliner blau.svs</td>\n",
       "      <td>3539</td>\n",
       "      <td>246</td>\n",
       "      <td>40195</td>\n",
       "      <td>41399</td>\n",
       "      <td>24</td>\n",
       "      <td>40</td>\n",
       "      <td>960</td>\n",
       "      <td>104.002050</td>\n",
       "    </tr>\n",
       "    <tr>\n",
       "      <th>3</th>\n",
       "      <td>10_EIPH_563417 R Berliner Blau.svs</td>\n",
       "      <td>3543</td>\n",
       "      <td>246</td>\n",
       "      <td>37633</td>\n",
       "      <td>39599</td>\n",
       "      <td>23</td>\n",
       "      <td>37</td>\n",
       "      <td>851</td>\n",
       "      <td>93.139323</td>\n",
       "    </tr>\n",
       "    <tr>\n",
       "      <th>4</th>\n",
       "      <td>13_EIPH_570370 Berliner Blau.svs</td>\n",
       "      <td>3545</td>\n",
       "      <td>246</td>\n",
       "      <td>32358</td>\n",
       "      <td>34200</td>\n",
       "      <td>20</td>\n",
       "      <td>32</td>\n",
       "      <td>640</td>\n",
       "      <td>69.165225</td>\n",
       "    </tr>\n",
       "    <tr>\n",
       "      <th>...</th>\n",
       "      <td>...</td>\n",
       "      <td>...</td>\n",
       "      <td>...</td>\n",
       "      <td>...</td>\n",
       "      <td>...</td>\n",
       "      <td>...</td>\n",
       "      <td>...</td>\n",
       "      <td>...</td>\n",
       "      <td>...</td>\n",
       "    </tr>\n",
       "    <tr>\n",
       "      <th>69</th>\n",
       "      <td>24_EIPH_576255 Turnbull blue.svs</td>\n",
       "      <td>3567</td>\n",
       "      <td>247</td>\n",
       "      <td>33641</td>\n",
       "      <td>34200</td>\n",
       "      <td>14</td>\n",
       "      <td>22</td>\n",
       "      <td>308</td>\n",
       "      <td>71.907638</td>\n",
       "    </tr>\n",
       "    <tr>\n",
       "      <th>70</th>\n",
       "      <td>25_EIPH_568150 Turnbull blue.svs</td>\n",
       "      <td>3569</td>\n",
       "      <td>247</td>\n",
       "      <td>32365</td>\n",
       "      <td>32399</td>\n",
       "      <td>13</td>\n",
       "      <td>22</td>\n",
       "      <td>286</td>\n",
       "      <td>65.537102</td>\n",
       "    </tr>\n",
       "    <tr>\n",
       "      <th>71</th>\n",
       "      <td>27_EIPH_571557 Turnbull blue.svs</td>\n",
       "      <td>3572</td>\n",
       "      <td>247</td>\n",
       "      <td>31881</td>\n",
       "      <td>32399</td>\n",
       "      <td>19</td>\n",
       "      <td>32</td>\n",
       "      <td>608</td>\n",
       "      <td>64.557032</td>\n",
       "    </tr>\n",
       "    <tr>\n",
       "      <th>72</th>\n",
       "      <td>30_EIPH_568355 Turnbull blue.svs</td>\n",
       "      <td>3574</td>\n",
       "      <td>247</td>\n",
       "      <td>31878</td>\n",
       "      <td>34200</td>\n",
       "      <td>14</td>\n",
       "      <td>21</td>\n",
       "      <td>294</td>\n",
       "      <td>68.139225</td>\n",
       "    </tr>\n",
       "    <tr>\n",
       "      <th>73</th>\n",
       "      <td>31_EIPH_568354 Turnbull blue.svs</td>\n",
       "      <td>3575</td>\n",
       "      <td>247</td>\n",
       "      <td>34435</td>\n",
       "      <td>37799</td>\n",
       "      <td>22</td>\n",
       "      <td>34</td>\n",
       "      <td>748</td>\n",
       "      <td>81.350535</td>\n",
       "    </tr>\n",
       "  </tbody>\n",
       "</table>\n",
       "<p>74 rows × 9 columns</p>\n",
       "</div>"
      ],
      "text/plain": [
       "                                    name    id  image_set  height  width  \\\n",
       "0   07_EIPH_574882 Berliner Blau-001.svs  3530        246   32990  37799   \n",
       "1       08_EIPH_574999 Berliner Blau.svs  3536        246   36678  37799   \n",
       "2     09_EIPH_563417 L berliner blau.svs  3539        246   40195  41399   \n",
       "3     10_EIPH_563417 R Berliner Blau.svs  3543        246   37633  39599   \n",
       "4       13_EIPH_570370 Berliner Blau.svs  3545        246   32358  34200   \n",
       "..                                   ...   ...        ...     ...    ...   \n",
       "69      24_EIPH_576255 Turnbull blue.svs  3567        247   33641  34200   \n",
       "70      25_EIPH_568150 Turnbull blue.svs  3569        247   32365  32399   \n",
       "71      27_EIPH_571557 Turnbull blue.svs  3572        247   31881  32399   \n",
       "72      30_EIPH_568355 Turnbull blue.svs  3574        247   31878  34200   \n",
       "73      31_EIPH_568354 Turnbull blue.svs  3575        247   34435  37799   \n",
       "\n",
       "    x_steps  y_steps  patches        area  \n",
       "0        22       33      726   77.936813  \n",
       "1        22       36      792   86.649483  \n",
       "2        24       40      960  104.002050  \n",
       "3        23       37      851   93.139323  \n",
       "4        20       32      640   69.165225  \n",
       "..      ...      ...      ...         ...  \n",
       "69       14       22      308   71.907638  \n",
       "70       13       22      286   65.537102  \n",
       "71       19       32      608   64.557032  \n",
       "72       14       21      294   68.139225  \n",
       "73       22       34      748   81.350535  \n",
       "\n",
       "[74 rows x 9 columns]"
      ]
     },
     "execution_count": 15,
     "metadata": {},
     "output_type": "execute_result"
    }
   ],
   "source": [
    "data = []\n",
    "µm_pixel = 0.25\n",
    "\n",
    "for image_set_id in tqdm([246, 245, 251, 15, 222, 247]):\n",
    "    for image in images_api.list_images(pagination=False, image_set=image_set_id).results:\n",
    "        \n",
    "        if image.name not in screened_images:\n",
    "            continue\n",
    "        \n",
    "        area = (image.width * image.height) / 1000000 * (µm_pixel * µm_pixel)\n",
    "        \n",
    "        row = None\n",
    "        for screening in screening_api.list_screening_modes(image=image.id, user=12, omit=\"screening_tiles\").results:         \n",
    "            row = [image.name, image.id, image_set_id, image.height, \n",
    "                         image.width, screening.x_steps, screening.y_steps, screening.x_steps * screening.y_steps, area]\n",
    "            \n",
    "            break\n",
    "        if row is None:\n",
    "            row = [image.name, image.id, image_set_id, image.height, \n",
    "                         image.width, 0, 0, 0, area]\n",
    "        \n",
    "        data.append(row)\n",
    "        \n",
    "imageStat = pd.DataFrame(data, columns=[\"name\", \"id\", \"image_set\", \"height\", \"width\", \"x_steps\", \"y_steps\", \"patches\", \"area\"])\n",
    "imageStat    "
   ]
  },
  {
   "cell_type": "code",
   "execution_count": 16,
   "metadata": {},
   "outputs": [
    {
     "data": {
      "text/plain": [
       "51110"
      ]
     },
     "execution_count": 16,
     "metadata": {},
     "output_type": "execute_result"
    }
   ],
   "source": [
    "imageStat[\"patches\"].sum()"
   ]
  },
  {
   "cell_type": "code",
   "execution_count": 17,
   "metadata": {},
   "outputs": [
    {
     "data": {
      "text/plain": [
       "5196.172132562499"
      ]
     },
     "execution_count": 17,
     "metadata": {},
     "output_type": "execute_result"
    }
   ],
   "source": [
    "imageStat[\"area\"].sum()"
   ]
  },
  {
   "cell_type": "code",
   "execution_count": 18,
   "metadata": {},
   "outputs": [
    {
     "data": {
      "text/plain": [
       "(74, 9)"
      ]
     },
     "execution_count": 18,
     "metadata": {},
     "output_type": "execute_result"
    }
   ],
   "source": [
    "imageStat.shape"
   ]
  },
  {
   "cell_type": "code",
   "execution_count": null,
   "metadata": {},
   "outputs": [],
   "source": []
  }
 ],
 "metadata": {
  "kernelspec": {
   "display_name": "Python 3",
   "language": "python",
   "name": "python3"
  },
  "language_info": {
   "codemirror_mode": {
    "name": "ipython",
    "version": 3
   },
   "file_extension": ".py",
   "mimetype": "text/x-python",
   "name": "python",
   "nbconvert_exporter": "python",
   "pygments_lexer": "ipython3",
   "version": "3.6.10"
  }
 },
 "nbformat": 4,
 "nbformat_minor": 4
}
