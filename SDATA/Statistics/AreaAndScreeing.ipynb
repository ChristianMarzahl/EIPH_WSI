{
 "cells": [
  {
   "cell_type": "code",
   "execution_count": 1,
   "metadata": {},
   "outputs": [],
   "source": [
    "%reload_ext autoreload\n",
    "%autoreload 2\n",
    "%matplotlib inline"
   ]
  },
  {
   "cell_type": "code",
   "execution_count": 21,
   "metadata": {},
   "outputs": [],
   "source": [
    "import pandas as pd\n",
    "from tqdm import tqdm"
   ]
  },
  {
   "cell_type": "code",
   "execution_count": 2,
   "metadata": {},
   "outputs": [],
   "source": [
    "from exact_sync.v1.api.images_api import ImagesApi\n",
    "from exact_sync.v1.api.image_sets_api import ImageSetsApi\n",
    "from exact_sync.v1.api.screening_modes_api import ScreeningModesApi\n",
    "\n",
    "from exact_sync.v1.models import ImageSet, Team, Image, ScreeningMode\n",
    "from exact_sync.v1.rest import ApiException\n",
    "from exact_sync.v1.configuration import Configuration\n",
    "from exact_sync.v1.api_client import ApiClient"
   ]
  },
  {
   "cell_type": "code",
   "execution_count": 4,
   "metadata": {},
   "outputs": [],
   "source": [
    "configuration = Configuration()\n",
    "configuration.username = 'marzahl'\n",
    "configuration.password = 'imagetagger'\n",
    "configuration.host =  \"https://exact.cs.fau.de/\""
   ]
  },
  {
   "cell_type": "code",
   "execution_count": 6,
   "metadata": {},
   "outputs": [],
   "source": [
    "client = ApiClient(configuration)\n",
    "\n",
    "image_sets_api = ImageSetsApi(client)\n",
    "images_api = ImagesApi(client)\n",
    "screening_api = ScreeningModesApi(client)"
   ]
  },
  {
   "cell_type": "code",
   "execution_count": 22,
   "metadata": {},
   "outputs": [
    {
     "name": "stderr",
     "output_type": "stream",
     "text": [
      "100%|████████████████████████████████████████████████████████████████████████████████████| 6/6 [00:20<00:00,  3.34s/it]\n"
     ]
    },
    {
     "data": {
      "text/html": [
       "<div>\n",
       "<style scoped>\n",
       "    .dataframe tbody tr th:only-of-type {\n",
       "        vertical-align: middle;\n",
       "    }\n",
       "\n",
       "    .dataframe tbody tr th {\n",
       "        vertical-align: top;\n",
       "    }\n",
       "\n",
       "    .dataframe thead th {\n",
       "        text-align: right;\n",
       "    }\n",
       "</style>\n",
       "<table border=\"1\" class=\"dataframe\">\n",
       "  <thead>\n",
       "    <tr style=\"text-align: right;\">\n",
       "      <th></th>\n",
       "      <th>name</th>\n",
       "      <th>id</th>\n",
       "      <th>image_set</th>\n",
       "      <th>height</th>\n",
       "      <th>width</th>\n",
       "      <th>x_steps</th>\n",
       "      <th>y_steps</th>\n",
       "      <th>patches</th>\n",
       "      <th>area</th>\n",
       "    </tr>\n",
       "  </thead>\n",
       "  <tbody>\n",
       "    <tr>\n",
       "      <th>0</th>\n",
       "      <td>07_EIPH_574882 Berliner Blau-001.svs</td>\n",
       "      <td>3530</td>\n",
       "      <td>246</td>\n",
       "      <td>32990</td>\n",
       "      <td>37799</td>\n",
       "      <td>22</td>\n",
       "      <td>33</td>\n",
       "      <td>726</td>\n",
       "      <td>77.936813</td>\n",
       "    </tr>\n",
       "    <tr>\n",
       "      <th>1</th>\n",
       "      <td>08_EIPH_574999 Berliner Blau.svs</td>\n",
       "      <td>3536</td>\n",
       "      <td>246</td>\n",
       "      <td>36678</td>\n",
       "      <td>37799</td>\n",
       "      <td>22</td>\n",
       "      <td>36</td>\n",
       "      <td>792</td>\n",
       "      <td>86.649483</td>\n",
       "    </tr>\n",
       "    <tr>\n",
       "      <th>2</th>\n",
       "      <td>09_EIPH_563417 L berliner blau.svs</td>\n",
       "      <td>3539</td>\n",
       "      <td>246</td>\n",
       "      <td>40195</td>\n",
       "      <td>41399</td>\n",
       "      <td>24</td>\n",
       "      <td>40</td>\n",
       "      <td>960</td>\n",
       "      <td>104.002050</td>\n",
       "    </tr>\n",
       "    <tr>\n",
       "      <th>3</th>\n",
       "      <td>10_EIPH_563417 R Berliner Blau.svs</td>\n",
       "      <td>3543</td>\n",
       "      <td>246</td>\n",
       "      <td>37633</td>\n",
       "      <td>39599</td>\n",
       "      <td>23</td>\n",
       "      <td>37</td>\n",
       "      <td>851</td>\n",
       "      <td>93.139323</td>\n",
       "    </tr>\n",
       "    <tr>\n",
       "      <th>4</th>\n",
       "      <td>13_EIPH_570370 Berliner Blau.svs</td>\n",
       "      <td>3545</td>\n",
       "      <td>246</td>\n",
       "      <td>32358</td>\n",
       "      <td>34200</td>\n",
       "      <td>20</td>\n",
       "      <td>32</td>\n",
       "      <td>640</td>\n",
       "      <td>69.165225</td>\n",
       "    </tr>\n",
       "    <tr>\n",
       "      <th>...</th>\n",
       "      <td>...</td>\n",
       "      <td>...</td>\n",
       "      <td>...</td>\n",
       "      <td>...</td>\n",
       "      <td>...</td>\n",
       "      <td>...</td>\n",
       "      <td>...</td>\n",
       "      <td>...</td>\n",
       "      <td>...</td>\n",
       "    </tr>\n",
       "    <tr>\n",
       "      <th>62</th>\n",
       "      <td>25_EIPH_568150 Turnbull blue.svs</td>\n",
       "      <td>3569</td>\n",
       "      <td>247</td>\n",
       "      <td>32365</td>\n",
       "      <td>32399</td>\n",
       "      <td>13</td>\n",
       "      <td>22</td>\n",
       "      <td>286</td>\n",
       "      <td>65.537102</td>\n",
       "    </tr>\n",
       "    <tr>\n",
       "      <th>63</th>\n",
       "      <td>26_EIPH_566482 L Turnbull blue.svs</td>\n",
       "      <td>3570</td>\n",
       "      <td>247</td>\n",
       "      <td>33163</td>\n",
       "      <td>32399</td>\n",
       "      <td>14</td>\n",
       "      <td>24</td>\n",
       "      <td>336</td>\n",
       "      <td>67.153002</td>\n",
       "    </tr>\n",
       "    <tr>\n",
       "      <th>64</th>\n",
       "      <td>27_EIPH_571557 Turnbull blue.svs</td>\n",
       "      <td>3572</td>\n",
       "      <td>247</td>\n",
       "      <td>31881</td>\n",
       "      <td>32399</td>\n",
       "      <td>19</td>\n",
       "      <td>32</td>\n",
       "      <td>608</td>\n",
       "      <td>64.557032</td>\n",
       "    </tr>\n",
       "    <tr>\n",
       "      <th>65</th>\n",
       "      <td>30_EIPH_568355 Turnbull blue.svs</td>\n",
       "      <td>3574</td>\n",
       "      <td>247</td>\n",
       "      <td>31878</td>\n",
       "      <td>34200</td>\n",
       "      <td>14</td>\n",
       "      <td>21</td>\n",
       "      <td>294</td>\n",
       "      <td>68.139225</td>\n",
       "    </tr>\n",
       "    <tr>\n",
       "      <th>66</th>\n",
       "      <td>31_EIPH_568354 Turnbull blue.svs</td>\n",
       "      <td>3575</td>\n",
       "      <td>247</td>\n",
       "      <td>34435</td>\n",
       "      <td>37799</td>\n",
       "      <td>22</td>\n",
       "      <td>34</td>\n",
       "      <td>748</td>\n",
       "      <td>81.350535</td>\n",
       "    </tr>\n",
       "  </tbody>\n",
       "</table>\n",
       "<p>67 rows × 9 columns</p>\n",
       "</div>"
      ],
      "text/plain": [
       "                                    name    id  image_set  height  width  \\\n",
       "0   07_EIPH_574882 Berliner Blau-001.svs  3530        246   32990  37799   \n",
       "1       08_EIPH_574999 Berliner Blau.svs  3536        246   36678  37799   \n",
       "2     09_EIPH_563417 L berliner blau.svs  3539        246   40195  41399   \n",
       "3     10_EIPH_563417 R Berliner Blau.svs  3543        246   37633  39599   \n",
       "4       13_EIPH_570370 Berliner Blau.svs  3545        246   32358  34200   \n",
       "..                                   ...   ...        ...     ...    ...   \n",
       "62      25_EIPH_568150 Turnbull blue.svs  3569        247   32365  32399   \n",
       "63    26_EIPH_566482 L Turnbull blue.svs  3570        247   33163  32399   \n",
       "64      27_EIPH_571557 Turnbull blue.svs  3572        247   31881  32399   \n",
       "65      30_EIPH_568355 Turnbull blue.svs  3574        247   31878  34200   \n",
       "66      31_EIPH_568354 Turnbull blue.svs  3575        247   34435  37799   \n",
       "\n",
       "    x_steps  y_steps  patches        area  \n",
       "0        22       33      726   77.936813  \n",
       "1        22       36      792   86.649483  \n",
       "2        24       40      960  104.002050  \n",
       "3        23       37      851   93.139323  \n",
       "4        20       32      640   69.165225  \n",
       "..      ...      ...      ...         ...  \n",
       "62       13       22      286   65.537102  \n",
       "63       14       24      336   67.153002  \n",
       "64       19       32      608   64.557032  \n",
       "65       14       21      294   68.139225  \n",
       "66       22       34      748   81.350535  \n",
       "\n",
       "[67 rows x 9 columns]"
      ]
     },
     "execution_count": 22,
     "metadata": {},
     "output_type": "execute_result"
    }
   ],
   "source": [
    "data = []\n",
    "µm_pixel = 0.25\n",
    "\n",
    "for image_set_id in tqdm([246, 245, 251, 15, 222, 247]):\n",
    "    for image in images_api.list_images(pagination=False, image_set=image_set_id).results:\n",
    "        \n",
    "        area = (image.width * image.height) / 1000000 * (µm_pixel * µm_pixel)\n",
    "        for screening in screening_api.list_screening_modes(image=image.id, user=12, omit=\"screening_tiles\").results:         \n",
    "            data.append([image.name, image.id, image_set_id, image.height, \n",
    "                         image.width, screening.x_steps, screening.y_steps, screening.x_steps * screening.y_steps, area])\n",
    "            \n",
    "            break\n",
    "        \n",
    "imageStat = pd.DataFrame(data, columns=[\"name\", \"id\", \"image_set\", \"height\", \"width\", \"x_steps\", \"y_steps\", \"patches\", \"area\"])\n",
    "imageStat    "
   ]
  },
  {
   "cell_type": "code",
   "execution_count": 23,
   "metadata": {},
   "outputs": [
    {
     "data": {
      "text/plain": [
       "42909"
      ]
     },
     "execution_count": 23,
     "metadata": {},
     "output_type": "execute_result"
    }
   ],
   "source": [
    "imageStat[\"patches\"].sum()"
   ]
  },
  {
   "cell_type": "code",
   "execution_count": 24,
   "metadata": {},
   "outputs": [
    {
     "data": {
      "text/plain": [
       "4726.012673125"
      ]
     },
     "execution_count": 24,
     "metadata": {},
     "output_type": "execute_result"
    }
   ],
   "source": [
    "imageStat[\"area\"].sum()"
   ]
  },
  {
   "cell_type": "code",
   "execution_count": null,
   "metadata": {},
   "outputs": [],
   "source": []
  }
 ],
 "metadata": {
  "kernelspec": {
   "display_name": "Python 3",
   "language": "python",
   "name": "python3"
  },
  "language_info": {
   "codemirror_mode": {
    "name": "ipython",
    "version": 3
   },
   "file_extension": ".py",
   "mimetype": "text/x-python",
   "name": "python",
   "nbconvert_exporter": "python",
   "pygments_lexer": "ipython3",
   "version": "3.6.10"
  }
 },
 "nbformat": 4,
 "nbformat_minor": 4
}
