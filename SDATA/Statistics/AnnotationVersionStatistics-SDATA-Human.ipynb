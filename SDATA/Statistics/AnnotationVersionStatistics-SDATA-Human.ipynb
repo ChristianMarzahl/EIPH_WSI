{
 "cells": [
  {
   "cell_type": "code",
   "execution_count": 1,
   "metadata": {},
   "outputs": [],
   "source": [
    "%reload_ext autoreload\n",
    "%autoreload 2\n",
    "%matplotlib inline"
   ]
  },
  {
   "cell_type": "code",
   "execution_count": 2,
   "metadata": {},
   "outputs": [],
   "source": [
    "from tqdm import tqdm\n",
    "import pandas as pd\n",
    "import numpy as np\n",
    "from pathlib import Path"
   ]
  },
  {
   "cell_type": "markdown",
   "metadata": {},
   "source": [
    "# Load annotation versions"
   ]
  },
  {
   "cell_type": "code",
   "execution_count": 3,
   "metadata": {},
   "outputs": [],
   "source": [
    "def set_additional_fields(frame):\n",
    "    \n",
    "    frame[\"width\"] = [vector[\"x2\"] - vector[\"x1\"] for vector in frame['vector']]\n",
    "    frame[\"height\"] = [vector[\"y2\"] - vector[\"y1\"] for vector in frame['vector']]\n",
    "    frame[\"scales\"] = frame[\"width\"] / frame[\"height\"]\n",
    "    \n",
    "    return frame"
   ]
  },
  {
   "cell_type": "code",
   "execution_count": 9,
   "metadata": {},
   "outputs": [
    {
     "name": "stdout",
     "output_type": "stream",
     "text": [
      "Inference: 168411\n",
      "Cluster: 128012\n",
      "Screening: 54580\n",
      "Density: 53864\n"
     ]
    }
   ],
   "source": [
    "species = \"Human\"\n",
    "\n",
    "v0 = pd.read_pickle(f\"EIPH_{species}_SDATA_Inference_Annotations.pkl\")\n",
    "v0 = set_additional_fields(v0)\n",
    "print(f\"Inference: {len(v0)}\")\n",
    "\n",
    "v_cluster = pd.read_pickle(f\"EIPH_{species}_SDATA_Cluster_Annotations.pkl\")\n",
    "v_cluster = set_additional_fields(v_cluster)\n",
    "print(f\"Cluster: {len(v_cluster)}\")\n",
    "\n",
    "v_screening = pd.read_pickle(f\"EIPH_{species}_SDATA_Screening_Annotations.pkl\")\n",
    "v_screening = set_additional_fields(v_screening)\n",
    "print(f\"Screening: {len(v_screening)}\")\n",
    "\n",
    "v_density = pd.read_pickle(f\"EIPH_{species}_SDATA_Density_Annotations.pkl\")\n",
    "print(f\"Density: {len(v_density)}\")"
   ]
  },
  {
   "cell_type": "markdown",
   "metadata": {},
   "source": [
    "## Filter images"
   ]
  },
  {
   "cell_type": "code",
   "execution_count": 10,
   "metadata": {},
   "outputs": [],
   "source": [
    "screened = [\n",
    "    '10052_19 humane BAL Berliner Blau-001.svs',\n",
    "    '10080_19 humane BAL Berliner Blau-001.svs',\n",
    "    '10120_19 humane BAL Berliner Blau.svs',\n",
    "    '10227_19 humane BAL Berliner Blau.svs',\n",
    "    '10672_19 humane BAL Berliner Blau.svs',\n",
    "    '10672_19 humane BAL Turnbull Blau.svs',\n",
    "    '10835_19 humane BAL Berliner Blau.svs',\n",
    "    '10835_19 humane BAL Turnbull Blau.svs',\n",
    "    '11323_19 humane BAL Berliner Blau.svs',\n",
    "    '11480_19 humane BAL Berliner Blau.svs',\n",
    "    '2707_20 TB BAL Human neu.svs',\n",
    "    '2702_20 BB Human BAL-001.svs', \n",
    "    \n",
    "    '10052_19 humane BAL Berliner Blau-001.tiff',\n",
    "    '10080_19 humane BAL Berliner Blau-001.tiff',\n",
    "    '10120_19 humane BAL Berliner Blau.tiff',\n",
    "    '10227_19 humane BAL Berliner Blau.tiff',\n",
    "    '10672_19 humane BAL Berliner Blau.tiff',\n",
    "    '10672_19 humane BAL Turnbull Blau.tiff',\n",
    "    '10835_19 humane BAL Berliner Blau.tiff',\n",
    "    '10835_19 humane BAL Turnbull Blau.tiff',\n",
    "    '11323_19 humane BAL Berliner Blau.tiff',\n",
    "    '11480_19 humane BAL Berliner Blau.tiff',\n",
    "    '2707_20 TB BAL Human neu.tiff',\n",
    "    '2702_20 BB Human BAL-001.tiff', \n",
    "]\n",
    "\n",
    "v0 = v0[v0[\"image_name\"].isin(screened)]\n",
    "v_screening = v_screening[v_screening[\"image_name\"].isin(screened)]\n",
    "v_density = v_density[v_density[\"image_name\"].isin(screened)]"
   ]
  },
  {
   "cell_type": "code",
   "execution_count": 11,
   "metadata": {},
   "outputs": [
    {
     "data": {
      "text/html": [
       "<div>\n",
       "<style scoped>\n",
       "    .dataframe tbody tr th:only-of-type {\n",
       "        vertical-align: middle;\n",
       "    }\n",
       "\n",
       "    .dataframe tbody tr th {\n",
       "        vertical-align: top;\n",
       "    }\n",
       "\n",
       "    .dataframe thead th {\n",
       "        text-align: right;\n",
       "    }\n",
       "</style>\n",
       "<table border=\"1\" class=\"dataframe\">\n",
       "  <thead>\n",
       "    <tr style=\"text-align: right;\">\n",
       "      <th></th>\n",
       "      <th>id</th>\n",
       "      <th>image_id</th>\n",
       "      <th>image_set</th>\n",
       "      <th>species</th>\n",
       "      <th>image_name</th>\n",
       "      <th>image_type</th>\n",
       "      <th>grade</th>\n",
       "      <th>vector</th>\n",
       "      <th>unique_identifier</th>\n",
       "      <th>user_id</th>\n",
       "      <th>deleted</th>\n",
       "      <th>last_editor</th>\n",
       "      <th>data_set_name</th>\n",
       "      <th>version</th>\n",
       "      <th>width</th>\n",
       "      <th>height</th>\n",
       "      <th>scales</th>\n",
       "    </tr>\n",
       "  </thead>\n",
       "  <tbody>\n",
       "    <tr>\n",
       "      <th>0</th>\n",
       "      <td>2309984</td>\n",
       "      <td>3627</td>\n",
       "      <td>251</td>\n",
       "      <td>Human</td>\n",
       "      <td>2702_20 BB Human BAL-001.svs</td>\n",
       "      <td>Turnbull</td>\n",
       "      <td>0</td>\n",
       "      <td>{'x1': 18095, 'x2': 18249, 'y1': 19519, 'y2': ...</td>\n",
       "      <td>e1776329-eb06-486e-bc08-1eb55c9df633</td>\n",
       "      <td>1</td>\n",
       "      <td>False</td>\n",
       "      <td>1</td>\n",
       "      <td>SDATA</td>\n",
       "      <td>Screened</td>\n",
       "      <td>154</td>\n",
       "      <td>152</td>\n",
       "      <td>1.013158</td>\n",
       "    </tr>\n",
       "    <tr>\n",
       "      <th>1</th>\n",
       "      <td>2309988</td>\n",
       "      <td>3627</td>\n",
       "      <td>251</td>\n",
       "      <td>Human</td>\n",
       "      <td>2702_20 BB Human BAL-001.svs</td>\n",
       "      <td>Turnbull</td>\n",
       "      <td>0</td>\n",
       "      <td>{'x1': 16350, 'x2': 16475, 'y1': 10500, 'y2': ...</td>\n",
       "      <td>d54087bb-5634-46ba-81e7-6d9440321cf8</td>\n",
       "      <td>1</td>\n",
       "      <td>False</td>\n",
       "      <td>1</td>\n",
       "      <td>SDATA</td>\n",
       "      <td>Screened</td>\n",
       "      <td>125</td>\n",
       "      <td>115</td>\n",
       "      <td>1.086957</td>\n",
       "    </tr>\n",
       "    <tr>\n",
       "      <th>2</th>\n",
       "      <td>2309989</td>\n",
       "      <td>3627</td>\n",
       "      <td>251</td>\n",
       "      <td>Human</td>\n",
       "      <td>2702_20 BB Human BAL-001.svs</td>\n",
       "      <td>Turnbull</td>\n",
       "      <td>0</td>\n",
       "      <td>{'x1': 14468, 'x2': 14618, 'y1': 22371, 'y2': ...</td>\n",
       "      <td>77c564d3-a151-4658-87d6-7bf74c74f7d0</td>\n",
       "      <td>1</td>\n",
       "      <td>False</td>\n",
       "      <td>1</td>\n",
       "      <td>SDATA</td>\n",
       "      <td>Screened</td>\n",
       "      <td>150</td>\n",
       "      <td>149</td>\n",
       "      <td>1.006711</td>\n",
       "    </tr>\n",
       "    <tr>\n",
       "      <th>3</th>\n",
       "      <td>2309990</td>\n",
       "      <td>3627</td>\n",
       "      <td>251</td>\n",
       "      <td>Human</td>\n",
       "      <td>2702_20 BB Human BAL-001.svs</td>\n",
       "      <td>Turnbull</td>\n",
       "      <td>0</td>\n",
       "      <td>{'x1': 18821, 'x2': 18965, 'y1': 22047, 'y2': ...</td>\n",
       "      <td>5c537e27-4967-47e3-8a0a-5be32f0f4a6d</td>\n",
       "      <td>1</td>\n",
       "      <td>False</td>\n",
       "      <td>1</td>\n",
       "      <td>SDATA</td>\n",
       "      <td>Screened</td>\n",
       "      <td>144</td>\n",
       "      <td>144</td>\n",
       "      <td>1.000000</td>\n",
       "    </tr>\n",
       "    <tr>\n",
       "      <th>4</th>\n",
       "      <td>2309992</td>\n",
       "      <td>3627</td>\n",
       "      <td>251</td>\n",
       "      <td>Human</td>\n",
       "      <td>2702_20 BB Human BAL-001.svs</td>\n",
       "      <td>Turnbull</td>\n",
       "      <td>0</td>\n",
       "      <td>{'x1': 7846, 'x2': 7990, 'y1': 20329, 'y2': 20...</td>\n",
       "      <td>ba0a81f7-8122-45b2-bde1-3980b2485a3a</td>\n",
       "      <td>1</td>\n",
       "      <td>False</td>\n",
       "      <td>1</td>\n",
       "      <td>SDATA</td>\n",
       "      <td>Screened</td>\n",
       "      <td>144</td>\n",
       "      <td>144</td>\n",
       "      <td>1.000000</td>\n",
       "    </tr>\n",
       "    <tr>\n",
       "      <th>...</th>\n",
       "      <td>...</td>\n",
       "      <td>...</td>\n",
       "      <td>...</td>\n",
       "      <td>...</td>\n",
       "      <td>...</td>\n",
       "      <td>...</td>\n",
       "      <td>...</td>\n",
       "      <td>...</td>\n",
       "      <td>...</td>\n",
       "      <td>...</td>\n",
       "      <td>...</td>\n",
       "      <td>...</td>\n",
       "      <td>...</td>\n",
       "      <td>...</td>\n",
       "      <td>...</td>\n",
       "      <td>...</td>\n",
       "      <td>...</td>\n",
       "    </tr>\n",
       "    <tr>\n",
       "      <th>54575</th>\n",
       "      <td>1933562</td>\n",
       "      <td>3614</td>\n",
       "      <td>251</td>\n",
       "      <td>Human</td>\n",
       "      <td>11480_19 humane BAL Berliner Blau.svs</td>\n",
       "      <td>Prussian</td>\n",
       "      <td>3</td>\n",
       "      <td>{'x1': 12407, 'x2': 12523, 'y1': 14277, 'y2': ...</td>\n",
       "      <td>6420f133-49b0-424e-b3c4-a4061e877571</td>\n",
       "      <td>1</td>\n",
       "      <td>False</td>\n",
       "      <td>1</td>\n",
       "      <td>SDATA</td>\n",
       "      <td>Screened</td>\n",
       "      <td>116</td>\n",
       "      <td>116</td>\n",
       "      <td>1.000000</td>\n",
       "    </tr>\n",
       "    <tr>\n",
       "      <th>54576</th>\n",
       "      <td>1935049</td>\n",
       "      <td>3614</td>\n",
       "      <td>251</td>\n",
       "      <td>Human</td>\n",
       "      <td>11480_19 humane BAL Berliner Blau.svs</td>\n",
       "      <td>Prussian</td>\n",
       "      <td>3</td>\n",
       "      <td>{'x1': 12285, 'x2': 12416, 'y1': 15108, 'y2': ...</td>\n",
       "      <td>e534d92e-faad-4e0f-b570-1950c6e41b01</td>\n",
       "      <td>1</td>\n",
       "      <td>False</td>\n",
       "      <td>1</td>\n",
       "      <td>SDATA</td>\n",
       "      <td>Screened</td>\n",
       "      <td>131</td>\n",
       "      <td>130</td>\n",
       "      <td>1.007692</td>\n",
       "    </tr>\n",
       "    <tr>\n",
       "      <th>54577</th>\n",
       "      <td>1936265</td>\n",
       "      <td>3614</td>\n",
       "      <td>251</td>\n",
       "      <td>Human</td>\n",
       "      <td>11480_19 humane BAL Berliner Blau.svs</td>\n",
       "      <td>Prussian</td>\n",
       "      <td>3</td>\n",
       "      <td>{'x1': 11038, 'x2': 11171, 'y1': 9964, 'y2': 1...</td>\n",
       "      <td>f81bc55c-3ef8-4530-b6b0-87f68b4ec6d2</td>\n",
       "      <td>1</td>\n",
       "      <td>False</td>\n",
       "      <td>1</td>\n",
       "      <td>SDATA</td>\n",
       "      <td>Screened</td>\n",
       "      <td>133</td>\n",
       "      <td>133</td>\n",
       "      <td>1.000000</td>\n",
       "    </tr>\n",
       "    <tr>\n",
       "      <th>54578</th>\n",
       "      <td>1936514</td>\n",
       "      <td>3614</td>\n",
       "      <td>251</td>\n",
       "      <td>Human</td>\n",
       "      <td>11480_19 humane BAL Berliner Blau.svs</td>\n",
       "      <td>Prussian</td>\n",
       "      <td>3</td>\n",
       "      <td>{'x1': 12064, 'x2': 12214, 'y1': 18239, 'y2': ...</td>\n",
       "      <td>656b5b04-f2a1-47b5-9ce6-40181b32e202</td>\n",
       "      <td>1</td>\n",
       "      <td>False</td>\n",
       "      <td>1</td>\n",
       "      <td>SDATA</td>\n",
       "      <td>Screened</td>\n",
       "      <td>150</td>\n",
       "      <td>149</td>\n",
       "      <td>1.006711</td>\n",
       "    </tr>\n",
       "    <tr>\n",
       "      <th>54579</th>\n",
       "      <td>1938284</td>\n",
       "      <td>3614</td>\n",
       "      <td>251</td>\n",
       "      <td>Human</td>\n",
       "      <td>11480_19 humane BAL Berliner Blau.svs</td>\n",
       "      <td>Prussian</td>\n",
       "      <td>3</td>\n",
       "      <td>{'x1': 6736, 'x2': 6872, 'y1': 9516, 'y2': 9661}</td>\n",
       "      <td>7f8342b3-099a-4161-8ee4-0ff329dd4660</td>\n",
       "      <td>1</td>\n",
       "      <td>False</td>\n",
       "      <td>12</td>\n",
       "      <td>SDATA</td>\n",
       "      <td>Screened</td>\n",
       "      <td>136</td>\n",
       "      <td>145</td>\n",
       "      <td>0.937931</td>\n",
       "    </tr>\n",
       "  </tbody>\n",
       "</table>\n",
       "<p>54580 rows × 17 columns</p>\n",
       "</div>"
      ],
      "text/plain": [
       "            id  image_id  image_set species  \\\n",
       "0      2309984      3627        251   Human   \n",
       "1      2309988      3627        251   Human   \n",
       "2      2309989      3627        251   Human   \n",
       "3      2309990      3627        251   Human   \n",
       "4      2309992      3627        251   Human   \n",
       "...        ...       ...        ...     ...   \n",
       "54575  1933562      3614        251   Human   \n",
       "54576  1935049      3614        251   Human   \n",
       "54577  1936265      3614        251   Human   \n",
       "54578  1936514      3614        251   Human   \n",
       "54579  1938284      3614        251   Human   \n",
       "\n",
       "                                  image_name image_type  grade  \\\n",
       "0               2702_20 BB Human BAL-001.svs   Turnbull      0   \n",
       "1               2702_20 BB Human BAL-001.svs   Turnbull      0   \n",
       "2               2702_20 BB Human BAL-001.svs   Turnbull      0   \n",
       "3               2702_20 BB Human BAL-001.svs   Turnbull      0   \n",
       "4               2702_20 BB Human BAL-001.svs   Turnbull      0   \n",
       "...                                      ...        ...    ...   \n",
       "54575  11480_19 humane BAL Berliner Blau.svs   Prussian      3   \n",
       "54576  11480_19 humane BAL Berliner Blau.svs   Prussian      3   \n",
       "54577  11480_19 humane BAL Berliner Blau.svs   Prussian      3   \n",
       "54578  11480_19 humane BAL Berliner Blau.svs   Prussian      3   \n",
       "54579  11480_19 humane BAL Berliner Blau.svs   Prussian      3   \n",
       "\n",
       "                                                  vector  \\\n",
       "0      {'x1': 18095, 'x2': 18249, 'y1': 19519, 'y2': ...   \n",
       "1      {'x1': 16350, 'x2': 16475, 'y1': 10500, 'y2': ...   \n",
       "2      {'x1': 14468, 'x2': 14618, 'y1': 22371, 'y2': ...   \n",
       "3      {'x1': 18821, 'x2': 18965, 'y1': 22047, 'y2': ...   \n",
       "4      {'x1': 7846, 'x2': 7990, 'y1': 20329, 'y2': 20...   \n",
       "...                                                  ...   \n",
       "54575  {'x1': 12407, 'x2': 12523, 'y1': 14277, 'y2': ...   \n",
       "54576  {'x1': 12285, 'x2': 12416, 'y1': 15108, 'y2': ...   \n",
       "54577  {'x1': 11038, 'x2': 11171, 'y1': 9964, 'y2': 1...   \n",
       "54578  {'x1': 12064, 'x2': 12214, 'y1': 18239, 'y2': ...   \n",
       "54579   {'x1': 6736, 'x2': 6872, 'y1': 9516, 'y2': 9661}   \n",
       "\n",
       "                          unique_identifier  user_id  deleted  last_editor  \\\n",
       "0      e1776329-eb06-486e-bc08-1eb55c9df633        1    False            1   \n",
       "1      d54087bb-5634-46ba-81e7-6d9440321cf8        1    False            1   \n",
       "2      77c564d3-a151-4658-87d6-7bf74c74f7d0        1    False            1   \n",
       "3      5c537e27-4967-47e3-8a0a-5be32f0f4a6d        1    False            1   \n",
       "4      ba0a81f7-8122-45b2-bde1-3980b2485a3a        1    False            1   \n",
       "...                                     ...      ...      ...          ...   \n",
       "54575  6420f133-49b0-424e-b3c4-a4061e877571        1    False            1   \n",
       "54576  e534d92e-faad-4e0f-b570-1950c6e41b01        1    False            1   \n",
       "54577  f81bc55c-3ef8-4530-b6b0-87f68b4ec6d2        1    False            1   \n",
       "54578  656b5b04-f2a1-47b5-9ce6-40181b32e202        1    False            1   \n",
       "54579  7f8342b3-099a-4161-8ee4-0ff329dd4660        1    False           12   \n",
       "\n",
       "      data_set_name   version  width  height    scales  \n",
       "0             SDATA  Screened    154     152  1.013158  \n",
       "1             SDATA  Screened    125     115  1.086957  \n",
       "2             SDATA  Screened    150     149  1.006711  \n",
       "3             SDATA  Screened    144     144  1.000000  \n",
       "4             SDATA  Screened    144     144  1.000000  \n",
       "...             ...       ...    ...     ...       ...  \n",
       "54575         SDATA  Screened    116     116  1.000000  \n",
       "54576         SDATA  Screened    131     130  1.007692  \n",
       "54577         SDATA  Screened    133     133  1.000000  \n",
       "54578         SDATA  Screened    150     149  1.006711  \n",
       "54579         SDATA  Screened    136     145  0.937931  \n",
       "\n",
       "[54580 rows x 17 columns]"
      ]
     },
     "execution_count": 11,
     "metadata": {},
     "output_type": "execute_result"
    }
   ],
   "source": [
    "v_screening[v_screening[\"image_name\"].isin(screened)]"
   ]
  },
  {
   "cell_type": "markdown",
   "metadata": {},
   "source": [
    "## Global Stats"
   ]
  },
  {
   "cell_type": "code",
   "execution_count": 12,
   "metadata": {},
   "outputs": [],
   "source": [
    "def get_global_stats(frame, dataset , version, species):\n",
    "    \n",
    "    nr_slides = len(frame[\"image_name\"].unique())\n",
    "    total = frame.shape[0]\n",
    "    score = int(frame[\"grade\"].mean() * 100)\n",
    "    _0 = frame[frame[\"grade\"] == 0].shape[0]\n",
    "    _1 = frame[frame[\"grade\"] == 1].shape[0]\n",
    "    _2 = frame[frame[\"grade\"] == 2].shape[0]\n",
    "    _3 = frame[frame[\"grade\"] == 3].shape[0]\n",
    "    _4 = frame[frame[\"grade\"] == 4].shape[0]\n",
    "    mean = frame[\"grade\"].mean()\n",
    "    SD = frame[\"grade\"].std()\n",
    "    \n",
    "    frame = [[species, dataset, nr_slides, version, total, score, _0, _1, _2, _3, _4, mean, SD]]\n",
    "    \n",
    "    return pd.DataFrame(frame, columns=[\"species\", \"dataset\" ,\"slides\", \"version\", \"total\", \"score\", \"0\", \"1\", \"2\", \"3\", \"4\", \"mean\", \"SD\"])"
   ]
  },
  {
   "cell_type": "code",
   "execution_count": 13,
   "metadata": {},
   "outputs": [
    {
     "data": {
      "text/html": [
       "<div>\n",
       "<style scoped>\n",
       "    .dataframe tbody tr th:only-of-type {\n",
       "        vertical-align: middle;\n",
       "    }\n",
       "\n",
       "    .dataframe tbody tr th {\n",
       "        vertical-align: top;\n",
       "    }\n",
       "\n",
       "    .dataframe thead th {\n",
       "        text-align: right;\n",
       "    }\n",
       "</style>\n",
       "<table border=\"1\" class=\"dataframe\">\n",
       "  <thead>\n",
       "    <tr style=\"text-align: right;\">\n",
       "      <th></th>\n",
       "      <th>species</th>\n",
       "      <th>dataset</th>\n",
       "      <th>slides</th>\n",
       "      <th>version</th>\n",
       "      <th>total</th>\n",
       "      <th>score</th>\n",
       "      <th>0</th>\n",
       "      <th>1</th>\n",
       "      <th>2</th>\n",
       "      <th>3</th>\n",
       "      <th>4</th>\n",
       "      <th>mean</th>\n",
       "      <th>SD</th>\n",
       "    </tr>\n",
       "  </thead>\n",
       "  <tbody>\n",
       "    <tr>\n",
       "      <th>0</th>\n",
       "      <td>Human</td>\n",
       "      <td>SDATA</td>\n",
       "      <td>12</td>\n",
       "      <td>Inference</td>\n",
       "      <td>168411</td>\n",
       "      <td>133</td>\n",
       "      <td>31035</td>\n",
       "      <td>64833</td>\n",
       "      <td>58320</td>\n",
       "      <td>12776</td>\n",
       "      <td>1447</td>\n",
       "      <td>1.339515</td>\n",
       "      <td>0.892238</td>\n",
       "    </tr>\n",
       "    <tr>\n",
       "      <th>0</th>\n",
       "      <td>Human</td>\n",
       "      <td>SDATA</td>\n",
       "      <td>12</td>\n",
       "      <td>Cluster</td>\n",
       "      <td>128012</td>\n",
       "      <td>133</td>\n",
       "      <td>21532</td>\n",
       "      <td>53704</td>\n",
       "      <td>42553</td>\n",
       "      <td>8932</td>\n",
       "      <td>1291</td>\n",
       "      <td>1.334016</td>\n",
       "      <td>0.871160</td>\n",
       "    </tr>\n",
       "    <tr>\n",
       "      <th>0</th>\n",
       "      <td>Human</td>\n",
       "      <td>SDATA</td>\n",
       "      <td>12</td>\n",
       "      <td>Screening</td>\n",
       "      <td>54580</td>\n",
       "      <td>156</td>\n",
       "      <td>4726</td>\n",
       "      <td>20688</td>\n",
       "      <td>23323</td>\n",
       "      <td>5090</td>\n",
       "      <td>753</td>\n",
       "      <td>1.568633</td>\n",
       "      <td>0.829320</td>\n",
       "    </tr>\n",
       "    <tr>\n",
       "      <th>0</th>\n",
       "      <td>Human</td>\n",
       "      <td>SDATA</td>\n",
       "      <td>12</td>\n",
       "      <td>Density</td>\n",
       "      <td>53864</td>\n",
       "      <td>158</td>\n",
       "      <td>4384</td>\n",
       "      <td>18357</td>\n",
       "      <td>26563</td>\n",
       "      <td>4433</td>\n",
       "      <td>127</td>\n",
       "      <td>1.583432</td>\n",
       "      <td>0.764576</td>\n",
       "    </tr>\n",
       "  </tbody>\n",
       "</table>\n",
       "</div>"
      ],
      "text/plain": [
       "  species dataset  slides    version   total  score      0      1      2  \\\n",
       "0   Human   SDATA      12  Inference  168411    133  31035  64833  58320   \n",
       "0   Human   SDATA      12    Cluster  128012    133  21532  53704  42553   \n",
       "0   Human   SDATA      12  Screening   54580    156   4726  20688  23323   \n",
       "0   Human   SDATA      12    Density   53864    158   4384  18357  26563   \n",
       "\n",
       "       3     4      mean        SD  \n",
       "0  12776  1447  1.339515  0.892238  \n",
       "0   8932  1291  1.334016  0.871160  \n",
       "0   5090   753  1.568633  0.829320  \n",
       "0   4433   127  1.583432  0.764576  "
      ]
     },
     "execution_count": 13,
     "metadata": {},
     "output_type": "execute_result"
    }
   ],
   "source": [
    "v0_meta = get_global_stats(v0, \"SDATA\", \"Inference\", species)\n",
    "v_cluster_meta = get_global_stats(v_cluster, \"SDATA\", \"Cluster\", species)\n",
    "v_screening_meta = get_global_stats(v_screening, \"SDATA\", \"Screening\", species)\n",
    "v_density_meta = get_global_stats(v_density, \"SDATA\", \"Density\", species)\n",
    "\n",
    "metaDf = pd.concat([v0_meta, v_cluster_meta, v_screening_meta, v_density_meta])\n",
    "metaDf.head()"
   ]
  },
  {
   "cell_type": "markdown",
   "metadata": {},
   "source": [
    "## Stain"
   ]
  },
  {
   "cell_type": "code",
   "execution_count": 14,
   "metadata": {},
   "outputs": [
    {
     "data": {
      "text/plain": [
       "array(['2702_20 BB Human BAL-001.svs', '2707_20 TB BAL Human neu.svs',\n",
       "       '10052_19 humane BAL Berliner Blau-001.svs',\n",
       "       '10080_19 humane BAL Berliner Blau-001.svs',\n",
       "       '10120_19 humane BAL Berliner Blau.svs',\n",
       "       '10227_19 humane BAL Berliner Blau.svs',\n",
       "       '10672_19 humane BAL Berliner Blau.svs',\n",
       "       '10672_19 humane BAL Turnbull Blau.svs',\n",
       "       '10835_19 humane BAL Berliner Blau.svs',\n",
       "       '10835_19 humane BAL Turnbull Blau.svs',\n",
       "       '11323_19 humane BAL Berliner Blau.svs',\n",
       "       '11480_19 humane BAL Berliner Blau.svs'], dtype=object)"
      ]
     },
     "execution_count": 14,
     "metadata": {},
     "output_type": "execute_result"
    }
   ],
   "source": [
    "v0[\"image_name\"].unique()"
   ]
  },
  {
   "cell_type": "code",
   "execution_count": 15,
   "metadata": {},
   "outputs": [
    {
     "data": {
      "text/plain": [
       "'BerlinerBlaue: 8'"
      ]
     },
     "execution_count": 15,
     "metadata": {},
     "output_type": "execute_result"
    }
   ],
   "source": [
    "\"BerlinerBlaue: {}\".format(len([name for name in v0[\"image_name\"].unique() if (\"erliner\" or \"BB\") in name]))"
   ]
  },
  {
   "cell_type": "code",
   "execution_count": 16,
   "metadata": {},
   "outputs": [
    {
     "data": {
      "text/plain": [
       "'TurnbullBlaue: 4'"
      ]
     },
     "execution_count": 16,
     "metadata": {},
     "output_type": "execute_result"
    }
   ],
   "source": [
    "\"TurnbullBlaue: {}\".format(len([name for name in v0[\"image_name\"].unique() if (\"erliner\" or \"BB\") not in name]))"
   ]
  },
  {
   "cell_type": "markdown",
   "metadata": {},
   "source": [
    "## Introduced new cells?"
   ]
  },
  {
   "cell_type": "code",
   "execution_count": 17,
   "metadata": {},
   "outputs": [
    {
     "data": {
      "text/plain": [
       "(192, 17)"
      ]
     },
     "execution_count": 17,
     "metadata": {},
     "output_type": "execute_result"
    }
   ],
   "source": [
    "v_screening[v_screening[\"user_id\"]==12].shape"
   ]
  },
  {
   "cell_type": "markdown",
   "metadata": {},
   "source": [
    "## Images"
   ]
  },
  {
   "cell_type": "code",
   "execution_count": 18,
   "metadata": {},
   "outputs": [
    {
     "data": {
      "text/plain": [
       "array(['2702_20 BB Human BAL-001.svs', '2707_20 TB BAL Human neu.svs',\n",
       "       '10052_19 humane BAL Berliner Blau-001.svs',\n",
       "       '10080_19 humane BAL Berliner Blau-001.svs',\n",
       "       '10120_19 humane BAL Berliner Blau.svs',\n",
       "       '10227_19 humane BAL Berliner Blau.svs',\n",
       "       '10672_19 humane BAL Berliner Blau.svs',\n",
       "       '10672_19 humane BAL Turnbull Blau.svs',\n",
       "       '10835_19 humane BAL Berliner Blau.svs',\n",
       "       '10835_19 humane BAL Turnbull Blau.svs',\n",
       "       '11323_19 humane BAL Berliner Blau.svs',\n",
       "       '11480_19 humane BAL Berliner Blau.svs'], dtype=object)"
      ]
     },
     "execution_count": 18,
     "metadata": {},
     "output_type": "execute_result"
    }
   ],
   "source": [
    "v0[\"image_name\"].unique()"
   ]
  },
  {
   "cell_type": "code",
   "execution_count": 19,
   "metadata": {},
   "outputs": [
    {
     "data": {
      "text/plain": [
       "12"
      ]
     },
     "execution_count": 19,
     "metadata": {},
     "output_type": "execute_result"
    }
   ],
   "source": [
    "len(v0[\"image_name\"].unique())"
   ]
  },
  {
   "cell_type": "code",
   "execution_count": null,
   "metadata": {},
   "outputs": [],
   "source": []
  }
 ],
 "metadata": {
  "kernelspec": {
   "display_name": "Python 3",
   "language": "python",
   "name": "python3"
  },
  "language_info": {
   "codemirror_mode": {
    "name": "ipython",
    "version": 3
   },
   "file_extension": ".py",
   "mimetype": "text/x-python",
   "name": "python",
   "nbconvert_exporter": "python",
   "pygments_lexer": "ipython3",
   "version": "3.6.10"
  }
 },
 "nbformat": 4,
 "nbformat_minor": 4
}
