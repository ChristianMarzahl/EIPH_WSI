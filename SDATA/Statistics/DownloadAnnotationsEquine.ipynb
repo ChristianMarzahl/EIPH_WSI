{
 "cells": [
  {
   "cell_type": "code",
   "execution_count": 1,
   "metadata": {},
   "outputs": [],
   "source": [
    "%reload_ext autoreload\n",
    "%autoreload 2\n",
    "%matplotlib inline"
   ]
  },
  {
   "cell_type": "code",
   "execution_count": 2,
   "metadata": {},
   "outputs": [],
   "source": [
    "from tqdm import tqdm\n",
    "import pandas as pd\n",
    "import numpy as np\n",
    "from pathlib import Path"
   ]
  },
  {
   "cell_type": "code",
   "execution_count": 3,
   "metadata": {},
   "outputs": [],
   "source": [
    "from exact_sync.v1.api.annotations_api import AnnotationsApi\n",
    "from exact_sync.v1.api.images_api import ImagesApi\n",
    "from exact_sync.v1.api.image_sets_api import ImageSetsApi\n",
    "from exact_sync.v1.api.annotation_types_api import AnnotationTypesApi\n",
    "from exact_sync.v1.api.products_api import ProductsApi\n",
    "from exact_sync.v1.api.teams_api import TeamsApi\n",
    "\n",
    "from exact_sync.v1.models import ImageSet, Team, Product, AnnotationType, Image, Annotation, AnnotationMediaFile\n",
    "from exact_sync.v1.rest import ApiException\n",
    "from exact_sync.v1.configuration import Configuration\n",
    "from exact_sync.v1.api_client import ApiClient"
   ]
  },
  {
   "cell_type": "code",
   "execution_count": 4,
   "metadata": {},
   "outputs": [],
   "source": [
    "configuration = Configuration()\n",
    "configuration.username = 'marzahl'\n",
    "configuration.password = '***'\n",
    "configuration.host =  \"https://exact.cs.fau.de/\"\n",
    "\n",
    "image_set_ids = [246, 245, 15, 247]"
   ]
  },
  {
   "cell_type": "code",
   "execution_count": 5,
   "metadata": {},
   "outputs": [],
   "source": [
    "client = ApiClient(configuration)\n",
    "\n",
    "image_sets_api = ImageSetsApi(client)\n",
    "annotations_api = AnnotationsApi(client)\n",
    "annotation_types_api = AnnotationTypesApi(client)\n",
    "images_api = ImagesApi(client)\n",
    "product_api = ProductsApi(client)"
   ]
  },
  {
   "cell_type": "code",
   "execution_count": 6,
   "metadata": {},
   "outputs": [],
   "source": [
    "images = {}\n",
    "annotation_types = {}\n",
    "\n",
    "for image_set in image_set_ids:\n",
    "    for image in images_api.list_images(pagination=False, image_set=image_set).results:\n",
    "        images[image.id] = image\n",
    "    for product in product_api.list_products(imagesets=image_set).results:\n",
    "        for anno_type in annotation_types_api.list_annotation_types(product=product.id).results:\n",
    "            annotation_types[anno_type.id] = anno_type"
   ]
  },
  {
   "cell_type": "code",
   "execution_count": 7,
   "metadata": {},
   "outputs": [
    {
     "name": "stderr",
     "output_type": "stream",
     "text": [
      "100%|██████████████████████████████████████████████████████████████████████████████████| 57/57 [17:23<00:00, 18.31s/it]\n"
     ]
    }
   ],
   "source": [
    "rows = []\n",
    "for image_id, image in tqdm(images.items()):\n",
    "\n",
    "    for annotation_type_id, annotation_type in annotation_types.items():\n",
    "\n",
    "        for anno in annotations_api.list_annotations(annotation_type=annotation_type_id, deleted=False, image=image_id, pagination=False, fields=\"id,unique_identifier,annotation_type,vector,user,deleted\").results:\n",
    "            \n",
    "            if anno.vector is not None:\n",
    "                rows.append([anno.id, image_id, image.image_set, image.name, int(annotation_type.name), anno.vector, anno.unique_identifier, anno.user, anno.deleted])\n",
    "\n",
    "    df = pd.DataFrame(rows, columns=['id', 'image_id', 'image_set','image_name', 'grade', 'vector', 'unique_identifier', 'user_id', 'deleted'])\n",
    "    df.to_pickle(\"EIPH_Annotations_Equine.pkl\")"
   ]
  },
  {
   "cell_type": "code",
   "execution_count": null,
   "metadata": {},
   "outputs": [],
   "source": []
  }
 ],
 "metadata": {
  "kernelspec": {
   "display_name": "Python 3",
   "language": "python",
   "name": "python3"
  },
  "language_info": {
   "codemirror_mode": {
    "name": "ipython",
    "version": 3
   },
   "file_extension": ".py",
   "mimetype": "text/x-python",
   "name": "python",
   "nbconvert_exporter": "python",
   "pygments_lexer": "ipython3",
   "version": "3.6.10"
  }
 },
 "nbformat": 4,
 "nbformat_minor": 4
}
