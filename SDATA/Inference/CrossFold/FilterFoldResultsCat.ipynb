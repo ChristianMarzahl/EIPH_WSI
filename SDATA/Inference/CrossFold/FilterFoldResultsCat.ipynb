{
 "cells": [
  {
   "cell_type": "code",
   "execution_count": 1,
   "metadata": {},
   "outputs": [],
   "source": [
    "%reload_ext autoreload\n",
    "%autoreload 2\n",
    "%matplotlib inline"
   ]
  },
  {
   "cell_type": "code",
   "execution_count": 2,
   "metadata": {},
   "outputs": [],
   "source": [
    "import pickle\n",
    "from object_detection_fastai.helper.nms_center_distance import non_max_suppression_by_distance\n",
    "from tqdm import tqdm\n",
    "from pathlib import Path\n",
    "import numpy as np\n",
    "import pandas as pd\n",
    "import math"
   ]
  },
  {
   "cell_type": "code",
   "execution_count": 3,
   "metadata": {},
   "outputs": [],
   "source": [
    "cat_slides = [\n",
    "                \"BAL_Cat_Turnbull blue_13.svs\", \n",
    "                \"BAL_Cat_Turnbull blue_6.svs\", \n",
    "                \"BAL_Cat_Turnbull blue_1.svs\", \n",
    "                \"BAL_Cat_Turnbull blue_12.svs\", \n",
    "                \"BAL_Cat_Turnbull blue_14.svs\", \n",
    "                \"BAL_Cat_Turnbull blue_10.svs\", \n",
    "                \"BAL_Cat_Turnbull blue_2.svs\",]"
   ]
  },
  {
   "cell_type": "code",
   "execution_count": 4,
   "metadata": {},
   "outputs": [],
   "source": [
    "fold_1 = pickle.load(open(str(\"inference_results_Equine-Fold-1.p\"),'rb'))\n",
    "fold_2 = pickle.load(open(str(\"inference_results_Equine-Fold-2.p\"),'rb'))\n",
    "fold_3 = pickle.load(open(str(\"inference_results_Equine-Fold-3.p\"),'rb'))"
   ]
  },
  {
   "cell_type": "code",
   "execution_count": 5,
   "metadata": {},
   "outputs": [
    {
     "name": "stderr",
     "output_type": "stream",
     "text": [
      "100%|██████████| 7/7 [00:30<00:00,  3.30s/it]\n"
     ]
    }
   ],
   "source": [
    "folds = {}\n",
    "nms_thresh = 40\n",
    "thresh = 0.35\n",
    "\n",
    "\n",
    "for file_name in tqdm(cat_slides):\n",
    "    \n",
    "    boxes1 = np.array(fold_1[file_name])\n",
    "    boxes2 = np.array(fold_2[file_name])\n",
    "    boxes3 = np.array(fold_3[file_name])\n",
    "    \n",
    "    boxes = np.concatenate([boxes1, boxes2, boxes3])\n",
    "    init_shape = boxes.shape\n",
    "    \n",
    "    scales = ((boxes[:, 2] - boxes[:, 0]) / (boxes[:, 3] - boxes[:, 1]))\n",
    "    boxes = boxes[(scales < 1.1) & (scales > 0.9)]\n",
    "    \n",
    "    annos = non_max_suppression_by_distance(boxes, boxes[:, 5], nms_thresh)\n",
    "    annos = annos[annos[:, 5] > thresh]\n",
    "    final_shape = annos.shape    \n",
    "    \n",
    "    #print(\"Input: {}  Output: {}\".format(init_shape, final_shape))\n",
    "    \n",
    "    folds[file_name] = annos"
   ]
  },
  {
   "cell_type": "code",
   "execution_count": 6,
   "metadata": {},
   "outputs": [],
   "source": [
    "pickle.dump(folds, open(str(\"InferenceAnnotationsCatV2.p\"), \"wb\"))"
   ]
  },
  {
   "cell_type": "code",
   "execution_count": null,
   "metadata": {},
   "outputs": [],
   "source": []
  }
 ],
 "metadata": {
  "kernelspec": {
   "display_name": "Python 3",
   "language": "python",
   "name": "python3"
  },
  "language_info": {
   "codemirror_mode": {
    "name": "ipython",
    "version": 3
   },
   "file_extension": ".py",
   "mimetype": "text/x-python",
   "name": "python",
   "nbconvert_exporter": "python",
   "pygments_lexer": "ipython3",
   "version": "3.6.4"
  }
 },
 "nbformat": 4,
 "nbformat_minor": 4
}
