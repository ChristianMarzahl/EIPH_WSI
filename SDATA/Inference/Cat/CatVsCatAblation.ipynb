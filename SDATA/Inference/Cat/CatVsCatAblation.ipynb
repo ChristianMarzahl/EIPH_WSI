{
 "cells": [
  {
   "cell_type": "code",
   "execution_count": 1,
   "metadata": {},
   "outputs": [],
   "source": [
    "%reload_ext autoreload\n",
    "%autoreload 2\n",
    "%matplotlib inline"
   ]
  },
  {
   "cell_type": "code",
   "execution_count": 3,
   "metadata": {},
   "outputs": [],
   "source": [
    "import warnings\n",
    "warnings.filterwarnings(\"ignore\", category=UserWarning)"
   ]
  },
  {
   "cell_type": "code",
   "execution_count": 5,
   "metadata": {},
   "outputs": [],
   "source": [
    "import numpy as np\n",
    "from tqdm import tqdm\n",
    "from pathlib import Path\n",
    "import openslide\n",
    "import pandas as pd\n",
    "import pickle"
   ]
  },
  {
   "cell_type": "code",
   "execution_count": 6,
   "metadata": {},
   "outputs": [],
   "source": [
    "from fastai.callbacks.csv_logger import CSVLogger"
   ]
  },
  {
   "cell_type": "code",
   "execution_count": 7,
   "metadata": {},
   "outputs": [],
   "source": [
    "from object_detection_fastai.helper.object_detection_helper import *\n",
    "from object_detection_fastai.helper.wsi_loader import *\n",
    "from object_detection_fastai.loss.RetinaNetFocalLoss import RetinaNetFocalLoss\n",
    "from object_detection_fastai.models.RetinaNet import RetinaNet\n",
    "from object_detection_fastai.callbacks.callbacks import BBLossMetrics, BBMetrics, PascalVOCMetric, PascalVOCMetricByDistance"
   ]
  },
  {
   "cell_type": "code",
   "execution_count": 9,
   "metadata": {},
   "outputs": [],
   "source": [
    "slides_train = list(set([\"BAL_Cat_Turnbull blue_13.svs\", \n",
    "                         \"BAL_Cat_Turnbull blue_6.svs\", \n",
    "                         \"BAL_Cat_Turnbull blue_12.svs\", \n",
    "                         \"BAL_Cat_Turnbull blue_14.svs\", \n",
    "                         \"BAL_Cat_Turnbull blue_2.svs\", ]))\n",
    "\n",
    "slides_val = list(set([\"BAL_Cat_Turnbull blue_1.svs\", \"BAL_Cat_Turnbull blue_10.svs\"]))"
   ]
  },
  {
   "cell_type": "code",
   "execution_count": 10,
   "metadata": {},
   "outputs": [
    {
     "data": {
      "text/html": [
       "<div>\n",
       "<style scoped>\n",
       "    .dataframe tbody tr th:only-of-type {\n",
       "        vertical-align: middle;\n",
       "    }\n",
       "\n",
       "    .dataframe tbody tr th {\n",
       "        vertical-align: top;\n",
       "    }\n",
       "\n",
       "    .dataframe thead th {\n",
       "        text-align: right;\n",
       "    }\n",
       "</style>\n",
       "<table border=\"1\" class=\"dataframe\">\n",
       "  <thead>\n",
       "    <tr style=\"text-align: right;\">\n",
       "      <th></th>\n",
       "      <th>id</th>\n",
       "      <th>image_id</th>\n",
       "      <th>image_set</th>\n",
       "      <th>species</th>\n",
       "      <th>image_name</th>\n",
       "      <th>image_type</th>\n",
       "      <th>grade</th>\n",
       "      <th>vector</th>\n",
       "      <th>unique_identifier</th>\n",
       "      <th>user_id</th>\n",
       "      <th>deleted</th>\n",
       "      <th>last_editor</th>\n",
       "      <th>data_set_name</th>\n",
       "      <th>version</th>\n",
       "    </tr>\n",
       "  </thead>\n",
       "  <tbody>\n",
       "    <tr>\n",
       "      <th>100398</th>\n",
       "      <td>1421918</td>\n",
       "      <td>3518</td>\n",
       "      <td>245</td>\n",
       "      <td>equine</td>\n",
       "      <td>07_EIPH_574882 left lung Turnbull blue.svs</td>\n",
       "      <td>TurnbullBlue</td>\n",
       "      <td>0</td>\n",
       "      <td>{'x1': 19619, 'x2': 19747, 'y1': 3009, 'y2': 3...</td>\n",
       "      <td>87e3870c-2316-4689-beaf-d2d6ddf22c28</td>\n",
       "      <td>1</td>\n",
       "      <td>True</td>\n",
       "      <td>1</td>\n",
       "      <td>SREP</td>\n",
       "      <td>SREP</td>\n",
       "    </tr>\n",
       "    <tr>\n",
       "      <th>100399</th>\n",
       "      <td>1421919</td>\n",
       "      <td>3518</td>\n",
       "      <td>245</td>\n",
       "      <td>equine</td>\n",
       "      <td>07_EIPH_574882 left lung Turnbull blue.svs</td>\n",
       "      <td>TurnbullBlue</td>\n",
       "      <td>0</td>\n",
       "      <td>{'x1': 20116, 'x2': 20202, 'y1': 3309, 'y2': 3...</td>\n",
       "      <td>ff289b7a-2fce-4d37-9feb-74b592d842d9</td>\n",
       "      <td>1</td>\n",
       "      <td>True</td>\n",
       "      <td>1</td>\n",
       "      <td>SREP</td>\n",
       "      <td>SREP</td>\n",
       "    </tr>\n",
       "    <tr>\n",
       "      <th>100400</th>\n",
       "      <td>1421922</td>\n",
       "      <td>3518</td>\n",
       "      <td>245</td>\n",
       "      <td>equine</td>\n",
       "      <td>07_EIPH_574882 left lung Turnbull blue.svs</td>\n",
       "      <td>TurnbullBlue</td>\n",
       "      <td>0</td>\n",
       "      <td>{'x1': 14193, 'x2': 14279, 'y1': 3885, 'y2': 3...</td>\n",
       "      <td>6ffcd9c4-1e54-4b9b-b593-4f2c9e85704d</td>\n",
       "      <td>1</td>\n",
       "      <td>True</td>\n",
       "      <td>1</td>\n",
       "      <td>SREP</td>\n",
       "      <td>SREP</td>\n",
       "    </tr>\n",
       "    <tr>\n",
       "      <th>100401</th>\n",
       "      <td>1421923</td>\n",
       "      <td>3518</td>\n",
       "      <td>245</td>\n",
       "      <td>equine</td>\n",
       "      <td>07_EIPH_574882 left lung Turnbull blue.svs</td>\n",
       "      <td>TurnbullBlue</td>\n",
       "      <td>0</td>\n",
       "      <td>{'x1': 14271, 'x2': 14347, 'y1': 3767, 'y2': 3...</td>\n",
       "      <td>1c3cb4f8-fad5-4b13-8859-5b83f31e450a</td>\n",
       "      <td>1</td>\n",
       "      <td>True</td>\n",
       "      <td>1</td>\n",
       "      <td>SREP</td>\n",
       "      <td>SREP</td>\n",
       "    </tr>\n",
       "    <tr>\n",
       "      <th>100402</th>\n",
       "      <td>1421924</td>\n",
       "      <td>3518</td>\n",
       "      <td>245</td>\n",
       "      <td>equine</td>\n",
       "      <td>07_EIPH_574882 left lung Turnbull blue.svs</td>\n",
       "      <td>TurnbullBlue</td>\n",
       "      <td>0</td>\n",
       "      <td>{'x1': 14782, 'x2': 14860, 'y1': 3853, 'y2': 3...</td>\n",
       "      <td>682b6be5-664a-4bd0-ae5a-12a7963a2dd4</td>\n",
       "      <td>1</td>\n",
       "      <td>True</td>\n",
       "      <td>1</td>\n",
       "      <td>SREP</td>\n",
       "      <td>SREP</td>\n",
       "    </tr>\n",
       "  </tbody>\n",
       "</table>\n",
       "</div>"
      ],
      "text/plain": [
       "             id  image_id  image_set species  \\\n",
       "100398  1421918      3518        245  equine   \n",
       "100399  1421919      3518        245  equine   \n",
       "100400  1421922      3518        245  equine   \n",
       "100401  1421923      3518        245  equine   \n",
       "100402  1421924      3518        245  equine   \n",
       "\n",
       "                                        image_name    image_type  grade  \\\n",
       "100398  07_EIPH_574882 left lung Turnbull blue.svs  TurnbullBlue      0   \n",
       "100399  07_EIPH_574882 left lung Turnbull blue.svs  TurnbullBlue      0   \n",
       "100400  07_EIPH_574882 left lung Turnbull blue.svs  TurnbullBlue      0   \n",
       "100401  07_EIPH_574882 left lung Turnbull blue.svs  TurnbullBlue      0   \n",
       "100402  07_EIPH_574882 left lung Turnbull blue.svs  TurnbullBlue      0   \n",
       "\n",
       "                                                   vector  \\\n",
       "100398  {'x1': 19619, 'x2': 19747, 'y1': 3009, 'y2': 3...   \n",
       "100399  {'x1': 20116, 'x2': 20202, 'y1': 3309, 'y2': 3...   \n",
       "100400  {'x1': 14193, 'x2': 14279, 'y1': 3885, 'y2': 3...   \n",
       "100401  {'x1': 14271, 'x2': 14347, 'y1': 3767, 'y2': 3...   \n",
       "100402  {'x1': 14782, 'x2': 14860, 'y1': 3853, 'y2': 3...   \n",
       "\n",
       "                           unique_identifier  user_id  deleted  last_editor  \\\n",
       "100398  87e3870c-2316-4689-beaf-d2d6ddf22c28        1     True            1   \n",
       "100399  ff289b7a-2fce-4d37-9feb-74b592d842d9        1     True            1   \n",
       "100400  6ffcd9c4-1e54-4b9b-b593-4f2c9e85704d        1     True            1   \n",
       "100401  1c3cb4f8-fad5-4b13-8859-5b83f31e450a        1     True            1   \n",
       "100402  682b6be5-664a-4bd0-ae5a-12a7963a2dd4        1     True            1   \n",
       "\n",
       "       data_set_name version  \n",
       "100398          SREP    SREP  \n",
       "100399          SREP    SREP  \n",
       "100400          SREP    SREP  \n",
       "100401          SREP    SREP  \n",
       "100402          SREP    SREP  "
      ]
     },
     "execution_count": 10,
     "metadata": {},
     "output_type": "execute_result"
    }
   ],
   "source": [
    "grade_list = [0, 1]\n",
    "annotations_path = Path(\"../../Statistics/EIPH_Annotations.pkl\")\n",
    "annotations = pd.read_pickle(annotations_path)\n",
    "annotations[\"image_name\"] = [name.replace(\"tiff\",\"svs\") for name in annotations[\"image_name\"]]\n",
    "annotations = annotations[annotations[\"grade\"].isin(grade_list)]\n",
    "annotations_train = annotations[annotations[\"image_name\"].isin(slides_train)]\n",
    "annotations_val = annotations[annotations[\"image_name\"].isin(slides_val)]\n",
    "annotations_train.head()"
   ]
  },
  {
   "cell_type": "code",
   "execution_count": 12,
   "metadata": {},
   "outputs": [
    {
     "data": {
      "text/plain": [
       "{'01_EIPH_563479 Berliner Blau.svs': WindowsPath('D:/Datasets/EIPH WSI/Pferd/Berliner Blau/01_EIPH_563479 Berliner Blau.svs'),\n",
       " '02_EIPH_574162 berliner blau.svs': WindowsPath('D:/Datasets/EIPH WSI/Pferd/Berliner Blau/02_EIPH_574162 berliner blau.svs'),\n",
       " '03_EIPH_566933 R Berliner Blau neu.svs': WindowsPath('D:/Datasets/EIPH WSI/Pferd/Berliner Blau/03_EIPH_566933 R Berliner Blau neu.svs'),\n",
       " '04_EIPH_567017 Berliner Blau.svs': WindowsPath('D:/Datasets/EIPH WSI/Pferd/Berliner Blau/04_EIPH_567017 Berliner Blau.svs'),\n",
       " '05_EIPH_569923 Berliner Blau.svs': WindowsPath('D:/Datasets/EIPH WSI/Pferd/Berliner Blau/05_EIPH_569923 Berliner Blau.svs'),\n",
       " '11_EIPH_575697 Berliner Blau.svs': WindowsPath('D:/Datasets/EIPH WSI/Pferd/Berliner Blau/11_EIPH_575697 Berliner Blau.svs'),\n",
       " '20_EIPH_576150 berliner blau.svs': WindowsPath('D:/Datasets/EIPH WSI/Pferd/Berliner Blau/20_EIPH_576150 berliner blau.svs'),\n",
       " '26_EIPH_566482 L Berliner Blau.svs': WindowsPath('D:/Datasets/EIPH WSI/Pferd/Berliner Blau/26_EIPH_566482 L Berliner Blau.svs'),\n",
       " '27_EIPH_571557 berliner blau.svs': WindowsPath('D:/Datasets/EIPH WSI/Pferd/Berliner Blau/27_EIPH_571557 berliner blau.svs'),\n",
       " '31_EIPH_568354 Berliner Blau.svs': WindowsPath('D:/Datasets/EIPH WSI/Pferd/Berliner Blau/31_EIPH_568354 Berliner Blau.svs'),\n",
       " '07_EIPH_574882 left lung Turnbull blue.svs': WindowsPath('D:/Datasets/EIPH WSI/Pferd/Turnbull Blue/07_EIPH_574882 left lung Turnbull blue.svs'),\n",
       " '08_EIPH_574999 R Turnbull blue.svs': WindowsPath('D:/Datasets/EIPH WSI/Pferd/Turnbull Blue/08_EIPH_574999 R Turnbull blue.svs'),\n",
       " '09_EIPH_563417 L Turnbull blue.svs': WindowsPath('D:/Datasets/EIPH WSI/Pferd/Turnbull Blue/09_EIPH_563417 L Turnbull blue.svs'),\n",
       " '14_EIPH_568381 Turnbull blue.svs': WindowsPath('D:/Datasets/EIPH WSI/Pferd/Turnbull Blue/14_EIPH_568381 Turnbull blue.svs'),\n",
       " '22_EIPH_575216 Turnbull blue.svs': WindowsPath('D:/Datasets/EIPH WSI/Pferd/Turnbull Blue/22_EIPH_575216 Turnbull blue.svs'),\n",
       " '28_EIPH_569948 L Turnbull blue.svs': WindowsPath('D:/Datasets/EIPH WSI/Pferd/Turnbull Blue/28_EIPH_569948 L Turnbull blue.svs'),\n",
       " '29_EIPH_566481 L Turnbull blue.svs': WindowsPath('D:/Datasets/EIPH WSI/Pferd/Turnbull Blue/29_EIPH_566481 L Turnbull blue.svs')}"
      ]
     },
     "execution_count": 12,
     "metadata": {},
     "output_type": "execute_result"
    }
   ],
   "source": [
    "slides_path = Path(\"../../Slides\")\n",
    "files = {slide.name: slide for slide in slides_path.rglob(\"*.svs\")  if slide.name in slides_train + slides_val}\n",
    "files"
   ]
  },
  {
   "cell_type": "code",
   "execution_count": 15,
   "metadata": {},
   "outputs": [
    {
     "data": {
      "text/plain": [
       "([RandTransform(tfm=TfmCrop (crop_pad), kwargs={'row_pct': (0, 1), 'col_pct': (0, 1), 'padding_mode': 'reflection'}, p=1.0, resolved={}, do_run=True, is_random=True, use_on_y=True),\n",
       "  RandTransform(tfm=TfmAffine (dihedral_affine), kwargs={}, p=1.0, resolved={}, do_run=True, is_random=True, use_on_y=True),\n",
       "  RandTransform(tfm=TfmAffine (rotate), kwargs={'degrees': (-10.0, 10.0)}, p=0.5, resolved={}, do_run=True, is_random=True, use_on_y=True)],\n",
       " [RandTransform(tfm=TfmCrop (crop_pad), kwargs={}, p=1.0, resolved={}, do_run=True, is_random=True, use_on_y=True)])"
      ]
     },
     "execution_count": 15,
     "metadata": {},
     "output_type": "execute_result"
    }
   ],
   "source": [
    "tfms = get_transforms(do_flip=True,\n",
    "                      flip_vert=True,\n",
    "                      #max_rotate=90,\n",
    "                      max_lighting=0.0,\n",
    "                      max_zoom=1.,\n",
    "                      max_warp=0.0,\n",
    "                      p_affine=0.5,\n",
    "                      p_lighting=0.0,\n",
    "                      #xtra_tfms=xtra_tfms,\n",
    "                     )\n",
    "tfms"
   ]
  },
  {
   "cell_type": "code",
   "execution_count": 13,
   "metadata": {},
   "outputs": [],
   "source": [
    "size = 1024 \n",
    "level = 0\n",
    "bs = 16\n",
    "train_images = 2500\n",
    "val_images = 1500"
   ]
  },
  {
   "cell_type": "code",
   "execution_count": 3,
   "metadata": {},
   "outputs": [
    {
     "data": {
      "text/plain": [
       "[0, 1, 2, 3, 4, 5, 6, 7, 8, 9]"
      ]
     },
     "execution_count": 3,
     "metadata": {},
     "output_type": "execute_result"
    }
   ],
   "source": [
    "def get_y_func(x):\n",
    "    return x.y"
   ]
  },
  {
   "cell_type": "code",
   "execution_count": null,
   "metadata": {},
   "outputs": [],
   "source": [
    "anchors = create_anchors(sizes=[(32,32)], ratios=[1], scales=[0.6, 0.7, 0.9, 1.25, 1.5])"
   ]
  },
  {
   "cell_type": "code",
   "execution_count": 14,
   "metadata": {},
   "outputs": [],
   "source": [
    "for i in range(len(slides_train)):\n",
    "\n",
    "    train_files = []\n",
    "    val_files = []\n",
    "    \n",
    "    experiment_name = \"CatVsCat-Ablation_{}\".format(i)\n",
    "\n",
    "    for image_name in srep_slides_train[:i+1]:\n",
    "\n",
    "        annotations = annotations_train[annotations_train[\"image_name\"] == image_name]\n",
    "        annotations = annotations[annotations[\"deleted\"] == False]\n",
    "\n",
    "        slide_path = files[image_name]\n",
    "        labels =  list(annotations[\"grade\"])\n",
    "        bboxes = [[vector[\"x1\"], vector[\"y1\"], vector[\"x2\"], vector[\"y2\"]] for vector in annotations[\"vector\"]]\n",
    "\n",
    "        train_files.append(SlideContainer(slide_path, y=[bboxes, labels],  level=level, width=size, height=size))\n",
    "\n",
    "    for image_name in annotations_val[\"image_name\"].unique():\n",
    "\n",
    "        annotations = annotations_val[annotations_val[\"image_name\"] == image_name]\n",
    "        annotations = annotations[annotations[\"deleted\"] == False]\n",
    "\n",
    "        slide_path = files[image_name]\n",
    "        labels =  list(annotations[\"grade\"])\n",
    "        bboxes = [[vector[\"x1\"], vector[\"y1\"], vector[\"x2\"], vector[\"y2\"]] for vector in annotations[\"vector\"]]\n",
    "\n",
    "        val_files.append(SlideContainer(slide_path, y=[bboxes, labels],  level=level, width=size, height=size))\n",
    "    \n",
    "    train_files = list(np.random.choice(train_files, train_images))\n",
    "    valid_files = list(np.random.choice(val_files, val_images))\n",
    "    \n",
    "    train =  ObjectItemListSlide(train_files, path=slides_path)\n",
    "    valid = ObjectItemListSlide(valid_files, path=slides_path)\n",
    "    item_list = ItemLists(slides_path, train, valid)\n",
    "    lls = item_list.label_from_func(get_y_func, label_cls=SlideObjectCategoryList) #\n",
    "    lls = lls.transform(tfms, tfm_y=True, size=size)\n",
    "    data = lls.databunch(bs=bs, collate_fn=bb_pad_collate, num_workers=0).normalize()\n",
    "    \n",
    "    crit = RetinaNetFocalLoss(anchors)\n",
    "    encoder = create_body(models.resnet18, True, -2)\n",
    "    model = RetinaNet(encoder, n_classes=data.train_ds.c, n_anchors=5, sizes=[32], chs=128, final_bias=-4., n_conv=3)\n",
    "    \n",
    "    voc = PascalVOCMetricByDistance(anchors, size, [str(i) for i in data.train_ds.y.classes[1:]], radius=25)\n",
    "    learn = Learner(data, model, loss_func=crit, callback_fns=[BBMetrics, partial(CSVLogger, append=False, filename=experiment_name)], #BBMetrics, ShowGraph\n",
    "                    metrics=[voc])\n",
    "\n",
    "    learn.split([model.encoder[6], model.c5top5])\n",
    "    learn.freeze_to(-2)\n",
    "    \n",
    "    \n",
    "    learn.unfreeze()\n",
    "    learn.fit_one_cycle(10, 1e-3)\n",
    "    \n",
    "    stats = {\"anchors\": anchors,\n",
    "         \"mean\": to_np(data.stats[0]),\n",
    "         \"std\": to_np(data.stats[1]),\n",
    "         \"size\": size,\n",
    "         \"n_classes\": 6,\n",
    "         \"n_anchors\": 5,\n",
    "         \"sizes\": [32],\n",
    "         \"chs\": 128,\n",
    "         \"encoder\": \"RN-18\",\n",
    "         \"n_conv\": 3,\n",
    "         \"level\": 0,\n",
    "         \"model\": get_model(learn.model).state_dict()\n",
    "        }\n",
    "\n",
    "    torch.save(stats, \"{}.p\".format(experiment_name))"
   ]
  },
  {
   "cell_type": "code",
   "execution_count": null,
   "metadata": {},
   "outputs": [],
   "source": [
    "slide_object_result(learn, anchors, detect_thresh=0.3, nms_thresh=0.2, image_count=20)"
   ]
  }
 ],
 "metadata": {
  "kernelspec": {
   "display_name": "Python 3",
   "language": "python",
   "name": "python3"
  },
  "language_info": {
   "codemirror_mode": {
    "name": "ipython",
    "version": 3
   },
   "file_extension": ".py",
   "mimetype": "text/x-python",
   "name": "python",
   "nbconvert_exporter": "python",
   "pygments_lexer": "ipython3",
   "version": "3.6.10"
  }
 },
 "nbformat": 4,
 "nbformat_minor": 4
}
