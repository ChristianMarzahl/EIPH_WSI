{
 "cells": [
  {
   "cell_type": "code",
   "execution_count": 1,
   "metadata": {},
   "outputs": [],
   "source": [
    "%reload_ext autoreload\n",
    "%autoreload 2\n",
    "%matplotlib inline"
   ]
  },
  {
   "cell_type": "code",
   "execution_count": 2,
   "metadata": {},
   "outputs": [],
   "source": [
    "import warnings\n",
    "warnings.filterwarnings(\"ignore\", category=UserWarning)"
   ]
  },
  {
   "cell_type": "code",
   "execution_count": 3,
   "metadata": {},
   "outputs": [],
   "source": [
    "import numpy as np\n",
    "from tqdm import tqdm\n",
    "from pathlib import Path\n",
    "import openslide\n",
    "import pandas as pd\n",
    "import pickle"
   ]
  },
  {
   "cell_type": "code",
   "execution_count": 4,
   "metadata": {},
   "outputs": [],
   "source": [
    "from fastai.callbacks.csv_logger import CSVLogger"
   ]
  },
  {
   "cell_type": "code",
   "execution_count": 5,
   "metadata": {},
   "outputs": [],
   "source": [
    "from object_detection_fastai.helper.object_detection_helper import *\n",
    "from object_detection_fastai.helper.wsi_loader import *\n",
    "from object_detection_fastai.loss.RetinaNetFocalLoss import RetinaNetFocalLoss\n",
    "from object_detection_fastai.models.RetinaNet import RetinaNet\n",
    "from object_detection_fastai.callbacks.callbacks import BBLossMetrics, BBMetrics, PascalVOCMetric, PascalVOCMetricByDistance"
   ]
  },
  {
   "cell_type": "code",
   "execution_count": 6,
   "metadata": {},
   "outputs": [],
   "source": [
    "slides_train = list(set([\"BAL_Cat_Turnbull blue_13.svs\", \n",
    "                         \"BAL_Cat_Turnbull blue_6.svs\", \n",
    "                         \"BAL_Cat_Turnbull blue_12.svs\", \n",
    "                         \"BAL_Cat_Turnbull blue_14.svs\", \n",
    "                         \"BAL_Cat_Turnbull blue_2.svs\", ]))\n",
    "\n",
    "slides_val = list(set([\"BAL_Cat_Turnbull blue_1.svs\", \"BAL_Cat_Turnbull blue_10.svs\"]))"
   ]
  },
  {
   "cell_type": "code",
   "execution_count": 7,
   "metadata": {},
   "outputs": [
    {
     "data": {
      "text/html": [
       "<div>\n",
       "<style scoped>\n",
       "    .dataframe tbody tr th:only-of-type {\n",
       "        vertical-align: middle;\n",
       "    }\n",
       "\n",
       "    .dataframe tbody tr th {\n",
       "        vertical-align: top;\n",
       "    }\n",
       "\n",
       "    .dataframe thead th {\n",
       "        text-align: right;\n",
       "    }\n",
       "</style>\n",
       "<table border=\"1\" class=\"dataframe\">\n",
       "  <thead>\n",
       "    <tr style=\"text-align: right;\">\n",
       "      <th></th>\n",
       "      <th>id</th>\n",
       "      <th>image_id</th>\n",
       "      <th>image_set</th>\n",
       "      <th>species</th>\n",
       "      <th>image_name</th>\n",
       "      <th>image_type</th>\n",
       "      <th>grade</th>\n",
       "      <th>vector</th>\n",
       "      <th>unique_identifier</th>\n",
       "      <th>user_id</th>\n",
       "      <th>deleted</th>\n",
       "      <th>last_editor</th>\n",
       "      <th>data_set_name</th>\n",
       "      <th>version</th>\n",
       "    </tr>\n",
       "  </thead>\n",
       "  <tbody>\n",
       "    <tr>\n",
       "      <th>586433</th>\n",
       "      <td>1037786</td>\n",
       "      <td>3513</td>\n",
       "      <td>222</td>\n",
       "      <td>felis catus</td>\n",
       "      <td>BAL_Cat_Turnbull blue_2.svs</td>\n",
       "      <td>TurnbullBlue</td>\n",
       "      <td>0</td>\n",
       "      <td>{'x1': 8181.0, 'x2': 8278.0, 'y1': 11788.0, 'y...</td>\n",
       "      <td>dcf518a4-2a1c-46e7-a0f2-a8f2229a90d4</td>\n",
       "      <td>1</td>\n",
       "      <td>False</td>\n",
       "      <td>1</td>\n",
       "      <td>SDATA</td>\n",
       "      <td>Inference</td>\n",
       "    </tr>\n",
       "    <tr>\n",
       "      <th>586434</th>\n",
       "      <td>1037787</td>\n",
       "      <td>3513</td>\n",
       "      <td>222</td>\n",
       "      <td>felis catus</td>\n",
       "      <td>BAL_Cat_Turnbull blue_2.svs</td>\n",
       "      <td>TurnbullBlue</td>\n",
       "      <td>0</td>\n",
       "      <td>{'x1': 17584.0, 'x2': 17683.0, 'y1': 19241.0, ...</td>\n",
       "      <td>56d064cf-ee23-451e-9ec4-6108462069d3</td>\n",
       "      <td>1</td>\n",
       "      <td>False</td>\n",
       "      <td>1</td>\n",
       "      <td>SDATA</td>\n",
       "      <td>Inference</td>\n",
       "    </tr>\n",
       "    <tr>\n",
       "      <th>586435</th>\n",
       "      <td>1037797</td>\n",
       "      <td>3513</td>\n",
       "      <td>222</td>\n",
       "      <td>felis catus</td>\n",
       "      <td>BAL_Cat_Turnbull blue_2.svs</td>\n",
       "      <td>TurnbullBlue</td>\n",
       "      <td>0</td>\n",
       "      <td>{'x1': 14359.0, 'x2': 14449.0, 'y1': 19827.0, ...</td>\n",
       "      <td>2d2d7d9c-6487-4b02-8160-1577810a79e1</td>\n",
       "      <td>1</td>\n",
       "      <td>False</td>\n",
       "      <td>1</td>\n",
       "      <td>SDATA</td>\n",
       "      <td>Inference</td>\n",
       "    </tr>\n",
       "    <tr>\n",
       "      <th>586436</th>\n",
       "      <td>1037803</td>\n",
       "      <td>3513</td>\n",
       "      <td>222</td>\n",
       "      <td>felis catus</td>\n",
       "      <td>BAL_Cat_Turnbull blue_2.svs</td>\n",
       "      <td>TurnbullBlue</td>\n",
       "      <td>0</td>\n",
       "      <td>{'x1': 18231.0, 'x2': 18347.0, 'y1': 30236.0, ...</td>\n",
       "      <td>0e21b183-d6e4-4db2-8d23-51f15b7c5fce</td>\n",
       "      <td>1</td>\n",
       "      <td>False</td>\n",
       "      <td>1</td>\n",
       "      <td>SDATA</td>\n",
       "      <td>Inference</td>\n",
       "    </tr>\n",
       "    <tr>\n",
       "      <th>586437</th>\n",
       "      <td>1037805</td>\n",
       "      <td>3513</td>\n",
       "      <td>222</td>\n",
       "      <td>felis catus</td>\n",
       "      <td>BAL_Cat_Turnbull blue_2.svs</td>\n",
       "      <td>TurnbullBlue</td>\n",
       "      <td>0</td>\n",
       "      <td>{'x1': 12171.0, 'x2': 12276.0, 'y1': 18811.0, ...</td>\n",
       "      <td>1164e973-1084-4d50-91a4-3c8f5bff8e3f</td>\n",
       "      <td>1</td>\n",
       "      <td>False</td>\n",
       "      <td>1</td>\n",
       "      <td>SDATA</td>\n",
       "      <td>Inference</td>\n",
       "    </tr>\n",
       "  </tbody>\n",
       "</table>\n",
       "</div>"
      ],
      "text/plain": [
       "             id  image_id  image_set      species  \\\n",
       "586433  1037786      3513        222  felis catus   \n",
       "586434  1037787      3513        222  felis catus   \n",
       "586435  1037797      3513        222  felis catus   \n",
       "586436  1037803      3513        222  felis catus   \n",
       "586437  1037805      3513        222  felis catus   \n",
       "\n",
       "                         image_name    image_type  grade  \\\n",
       "586433  BAL_Cat_Turnbull blue_2.svs  TurnbullBlue      0   \n",
       "586434  BAL_Cat_Turnbull blue_2.svs  TurnbullBlue      0   \n",
       "586435  BAL_Cat_Turnbull blue_2.svs  TurnbullBlue      0   \n",
       "586436  BAL_Cat_Turnbull blue_2.svs  TurnbullBlue      0   \n",
       "586437  BAL_Cat_Turnbull blue_2.svs  TurnbullBlue      0   \n",
       "\n",
       "                                                   vector  \\\n",
       "586433  {'x1': 8181.0, 'x2': 8278.0, 'y1': 11788.0, 'y...   \n",
       "586434  {'x1': 17584.0, 'x2': 17683.0, 'y1': 19241.0, ...   \n",
       "586435  {'x1': 14359.0, 'x2': 14449.0, 'y1': 19827.0, ...   \n",
       "586436  {'x1': 18231.0, 'x2': 18347.0, 'y1': 30236.0, ...   \n",
       "586437  {'x1': 12171.0, 'x2': 12276.0, 'y1': 18811.0, ...   \n",
       "\n",
       "                           unique_identifier  user_id  deleted  last_editor  \\\n",
       "586433  dcf518a4-2a1c-46e7-a0f2-a8f2229a90d4        1    False            1   \n",
       "586434  56d064cf-ee23-451e-9ec4-6108462069d3        1    False            1   \n",
       "586435  2d2d7d9c-6487-4b02-8160-1577810a79e1        1    False            1   \n",
       "586436  0e21b183-d6e4-4db2-8d23-51f15b7c5fce        1    False            1   \n",
       "586437  1164e973-1084-4d50-91a4-3c8f5bff8e3f        1    False            1   \n",
       "\n",
       "       data_set_name    version  \n",
       "586433         SDATA  Inference  \n",
       "586434         SDATA  Inference  \n",
       "586435         SDATA  Inference  \n",
       "586436         SDATA  Inference  \n",
       "586437         SDATA  Inference  "
      ]
     },
     "execution_count": 7,
     "metadata": {},
     "output_type": "execute_result"
    }
   ],
   "source": [
    "grade_list = [0, 1]\n",
    "annotations_path = Path(\"../../Statistics/EIPH_Annotations.pkl\")\n",
    "annotations = pd.read_pickle(annotations_path)\n",
    "annotations[\"image_name\"] = [name.replace(\"tiff\",\"svs\") for name in annotations[\"image_name\"]]\n",
    "annotations = annotations[annotations[\"grade\"].isin(grade_list)]\n",
    "annotations_train = annotations[annotations[\"image_name\"].isin(slides_train)]\n",
    "annotations_val = annotations[annotations[\"image_name\"].isin(slides_val)]\n",
    "annotations_train.head()"
   ]
  },
  {
   "cell_type": "code",
   "execution_count": 8,
   "metadata": {},
   "outputs": [
    {
     "data": {
      "text/plain": [
       "{'BAL_Cat_Turnbull blue_1.svs': PosixPath('../../../Slides/Cat/BAL_Cat_Turnbull blue_1.svs'),\n",
       " 'BAL_Cat_Turnbull blue_10.svs': PosixPath('../../../Slides/Cat/BAL_Cat_Turnbull blue_10.svs'),\n",
       " 'BAL_Cat_Turnbull blue_12.svs': PosixPath('../../../Slides/Cat/BAL_Cat_Turnbull blue_12.svs'),\n",
       " 'BAL_Cat_Turnbull blue_13.svs': PosixPath('../../../Slides/Cat/BAL_Cat_Turnbull blue_13.svs'),\n",
       " 'BAL_Cat_Turnbull blue_14.svs': PosixPath('../../../Slides/Cat/BAL_Cat_Turnbull blue_14.svs'),\n",
       " 'BAL_Cat_Turnbull blue_2.svs': PosixPath('../../../Slides/Cat/BAL_Cat_Turnbull blue_2.svs'),\n",
       " 'BAL_Cat_Turnbull blue_6.svs': PosixPath('../../../Slides/Cat/BAL_Cat_Turnbull blue_6.svs')}"
      ]
     },
     "execution_count": 8,
     "metadata": {},
     "output_type": "execute_result"
    }
   ],
   "source": [
    "slides_path = Path(\"../../../Slides\")\n",
    "files = {slide.name: slide for slide in slides_path.rglob(\"*.svs\")  if slide.name in slides_train + slides_val}\n",
    "files"
   ]
  },
  {
   "cell_type": "code",
   "execution_count": 9,
   "metadata": {},
   "outputs": [
    {
     "data": {
      "text/plain": [
       "([RandTransform(tfm=TfmCrop (crop_pad), kwargs={'row_pct': (0, 1), 'col_pct': (0, 1), 'padding_mode': 'reflection'}, p=1.0, resolved={}, do_run=True, is_random=True),\n",
       "  RandTransform(tfm=TfmAffine (dihedral_affine), kwargs={}, p=1.0, resolved={}, do_run=True, is_random=True),\n",
       "  RandTransform(tfm=TfmAffine (rotate), kwargs={'degrees': (-10.0, 10.0)}, p=0.5, resolved={}, do_run=True, is_random=True)],\n",
       " [RandTransform(tfm=TfmCrop (crop_pad), kwargs={}, p=1.0, resolved={}, do_run=True, is_random=True)])"
      ]
     },
     "execution_count": 9,
     "metadata": {},
     "output_type": "execute_result"
    }
   ],
   "source": [
    "tfms = get_transforms(do_flip=True,\n",
    "                      flip_vert=True,\n",
    "                      #max_rotate=90,\n",
    "                      max_lighting=0.0,\n",
    "                      max_zoom=1.,\n",
    "                      max_warp=0.0,\n",
    "                      p_affine=0.5,\n",
    "                      p_lighting=0.0,\n",
    "                      #xtra_tfms=xtra_tfms,\n",
    "                     )\n",
    "tfms"
   ]
  },
  {
   "cell_type": "code",
   "execution_count": 10,
   "metadata": {},
   "outputs": [],
   "source": [
    "size = 1024 \n",
    "level = 0\n",
    "bs = 16\n",
    "train_images = 2500\n",
    "val_images = 1500"
   ]
  },
  {
   "cell_type": "code",
   "execution_count": 11,
   "metadata": {},
   "outputs": [],
   "source": [
    "def get_y_func(x):\n",
    "    return x.y"
   ]
  },
  {
   "cell_type": "code",
   "execution_count": null,
   "metadata": {},
   "outputs": [],
   "source": [
    "anchors = create_anchors(sizes=[(32,32)], ratios=[1], scales=[0.6, 0.7, 0.9, 1.25, 1.5])"
   ]
  },
  {
   "cell_type": "code",
   "execution_count": null,
   "metadata": {},
   "outputs": [
    {
     "data": {
      "text/html": [
       "\n",
       "    <div>\n",
       "        <style>\n",
       "            /* Turns off some styling */\n",
       "            progress {\n",
       "                /* gets rid of default border in Firefox and Opera. */\n",
       "                border: none;\n",
       "                /* Needs to be in here for Safari polyfill so background images work as expected. */\n",
       "                background-size: auto;\n",
       "            }\n",
       "            .progress-bar-interrupted, .progress-bar-interrupted::-webkit-progress-bar {\n",
       "                background: #F44336;\n",
       "            }\n",
       "        </style>\n",
       "      <progress value='0' class='' max='10', style='width:300px; height:20px; vertical-align: middle;'></progress>\n",
       "      0.00% [0/10 00:00<00:00]\n",
       "    </div>\n",
       "    \n",
       "<table border=\"1\" class=\"dataframe\">\n",
       "  <thead>\n",
       "    <tr style=\"text-align: left;\">\n",
       "      <th>epoch</th>\n",
       "      <th>train_loss</th>\n",
       "      <th>valid_loss</th>\n",
       "      <th>pascal_voc_metric_by_distance</th>\n",
       "      <th>BBloss</th>\n",
       "      <th>focal_loss</th>\n",
       "      <th>AP-0</th>\n",
       "      <th>AP-1</th>\n",
       "      <th>time</th>\n",
       "    </tr>\n",
       "  </thead>\n",
       "  <tbody>\n",
       "  </tbody>\n",
       "</table><p>\n",
       "\n",
       "    <div>\n",
       "        <style>\n",
       "            /* Turns off some styling */\n",
       "            progress {\n",
       "                /* gets rid of default border in Firefox and Opera. */\n",
       "                border: none;\n",
       "                /* Needs to be in here for Safari polyfill so background images work as expected. */\n",
       "                background-size: auto;\n",
       "            }\n",
       "            .progress-bar-interrupted, .progress-bar-interrupted::-webkit-progress-bar {\n",
       "                background: #F44336;\n",
       "            }\n",
       "        </style>\n",
       "      <progress value='104' class='' max='156', style='width:300px; height:20px; vertical-align: middle;'></progress>\n",
       "      66.67% [104/156 01:59<00:59 0.6128]\n",
       "    </div>\n",
       "    "
      ],
      "text/plain": [
       "<IPython.core.display.HTML object>"
      ]
     },
     "metadata": {},
     "output_type": "display_data"
    }
   ],
   "source": [
    "for i in range(len(slides_train)):\n",
    "\n",
    "    train_files = []\n",
    "    val_files = []\n",
    "    \n",
    "    experiment_name = \"CatVsCat-Ablation_{}\".format(i)\n",
    "\n",
    "    for image_name in slides_train[:i+1]:\n",
    "\n",
    "        annotations = annotations_train[annotations_train[\"image_name\"] == image_name]\n",
    "        annotations = annotations[annotations[\"deleted\"] == False]\n",
    "\n",
    "        slide_path = files[image_name]\n",
    "        labels =  list(annotations[\"grade\"])\n",
    "        bboxes = [[vector[\"x1\"], vector[\"y1\"], vector[\"x2\"], vector[\"y2\"]] for vector in annotations[\"vector\"]]\n",
    "\n",
    "        train_files.append(SlideContainer(slide_path, y=[bboxes, labels],  level=level, width=size, height=size))\n",
    "\n",
    "    for image_name in annotations_val[\"image_name\"].unique():\n",
    "\n",
    "        annotations = annotations_val[annotations_val[\"image_name\"] == image_name]\n",
    "        annotations = annotations[annotations[\"deleted\"] == False]\n",
    "\n",
    "        slide_path = files[image_name]\n",
    "        labels =  list(annotations[\"grade\"])\n",
    "        bboxes = [[vector[\"x1\"], vector[\"y1\"], vector[\"x2\"], vector[\"y2\"]] for vector in annotations[\"vector\"]]\n",
    "\n",
    "        val_files.append(SlideContainer(slide_path, y=[bboxes, labels],  level=level, width=size, height=size))\n",
    "    \n",
    "    train_files = list(np.random.choice(train_files, train_images))\n",
    "    valid_files = list(np.random.choice(val_files, val_images))\n",
    "    \n",
    "    train =  ObjectItemListSlide(train_files, path=slides_path)\n",
    "    valid = ObjectItemListSlide(valid_files, path=slides_path)\n",
    "    item_list = ItemLists(slides_path, train, valid)\n",
    "    lls = item_list.label_from_func(get_y_func, label_cls=SlideObjectCategoryList) #\n",
    "    lls = lls.transform(tfms, tfm_y=True, size=size)\n",
    "    data = lls.databunch(bs=bs, collate_fn=bb_pad_collate).normalize()  #, num_workers=0\n",
    "    \n",
    "    crit = RetinaNetFocalLoss(anchors)\n",
    "    encoder = create_body(models.resnet18, True, -2)\n",
    "    model = RetinaNet(encoder, n_classes=data.train_ds.c, n_anchors=5, sizes=[32], chs=128, final_bias=-4., n_conv=3)\n",
    "    \n",
    "    voc = PascalVOCMetricByDistance(anchors, size, [str(i) for i in data.train_ds.y.classes[1:]], radius=40)\n",
    "    learn = Learner(data, model, loss_func=crit, callback_fns=[BBMetrics, partial(CSVLogger, append=False, filename=experiment_name)], #BBMetrics, ShowGraph\n",
    "                    metrics=[voc])\n",
    "\n",
    "    learn.split([model.encoder[6], model.c5top5])\n",
    "    learn.freeze_to(-2)\n",
    "    \n",
    "    \n",
    "    learn.unfreeze()\n",
    "    learn.fit_one_cycle(10, 1e-3)\n",
    "    \n",
    "    stats = {\"anchors\": anchors,\n",
    "         \"mean\": to_np(data.stats[0]),\n",
    "         \"std\": to_np(data.stats[1]),\n",
    "         \"size\": size,\n",
    "         \"n_classes\": 6,\n",
    "         \"n_anchors\": 5,\n",
    "         \"sizes\": [32],\n",
    "         \"chs\": 128,\n",
    "         \"encoder\": \"RN-18\",\n",
    "         \"n_conv\": 3,\n",
    "         \"level\": 0,\n",
    "         \"model\": get_model(learn.model).state_dict()\n",
    "        }\n",
    "\n",
    "    torch.save(stats, \"{}.p\".format(experiment_name))"
   ]
  },
  {
   "cell_type": "code",
   "execution_count": null,
   "metadata": {},
   "outputs": [],
   "source": [
    "slide_object_result(learn, anchors, detect_thresh=0.3, nms_thresh=0.2, image_count=20)"
   ]
  },
  {
   "cell_type": "code",
   "execution_count": null,
   "metadata": {},
   "outputs": [],
   "source": []
  }
 ],
 "metadata": {
  "kernelspec": {
   "display_name": "Python 3",
   "language": "python",
   "name": "python3"
  },
  "language_info": {
   "codemirror_mode": {
    "name": "ipython",
    "version": 3
   },
   "file_extension": ".py",
   "mimetype": "text/x-python",
   "name": "python",
   "nbconvert_exporter": "python",
   "pygments_lexer": "ipython3",
   "version": "3.6.4"
  }
 },
 "nbformat": 4,
 "nbformat_minor": 4
}
