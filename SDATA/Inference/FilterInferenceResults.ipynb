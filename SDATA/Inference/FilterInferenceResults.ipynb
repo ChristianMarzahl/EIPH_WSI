{
 "cells": [
  {
   "cell_type": "code",
   "execution_count": 1,
   "metadata": {},
   "outputs": [],
   "source": [
    "%reload_ext autoreload\n",
    "%autoreload 2\n",
    "%matplotlib inline"
   ]
  },
  {
   "cell_type": "code",
   "execution_count": 2,
   "metadata": {},
   "outputs": [],
   "source": [
    "import pickle\n",
    "import numpy as np\n",
    "from pathlib import Path\n",
    "from tqdm import tqdm\n",
    "import json\n",
    "\n",
    "from sklearn import svm, metrics; \n",
    "from sklearn.model_selection import train_test_split\n",
    "\n",
    "from object_detection_fastai.helper.nms_center_distance import non_max_suppression_by_distance\n",
    "from exact_sync.v1.api.annotations_api import AnnotationsApi\n",
    "\n",
    "from exact_sync.v1.models import ImageSet, Team, Product, AnnotationType, Image, Annotation, AnnotationMediaFile\n",
    "from exact_sync.v1.rest import ApiException\n",
    "from exact_sync.v1.configuration import Configuration\n",
    "from exact_sync.v1.api_client import ApiClient"
   ]
  },
  {
   "cell_type": "code",
   "execution_count": 3,
   "metadata": {},
   "outputs": [],
   "source": [
    "username = 'marzahl'\n",
    "password = '****'\n",
    "host =  \"https://exact.cs.fau.de/\"\n",
    "inference_source = Path('D:/Datasets/EIPH WSI/Humane/inference_results_boxes_all_human.p')\n",
    "inference_target = Path('D:/Datasets/EIPH WSI/Humane/Human_04_035.p')\n",
    "inference_target_exact = Path('D:/Datasets/EIPH WSI/Humane/Human_label.txt')"
   ]
  },
  {
   "cell_type": "code",
   "execution_count": null,
   "metadata": {},
   "outputs": [],
   "source": [
    "configuration = Configuration()\n",
    "configuration.username = username\n",
    "configuration.password = password\n",
    "configuration.host =  host\n",
    "\n",
    "client = ApiClient(configuration)\n",
    "annotations_api = AnnotationsApi(client)"
   ]
  },
  {
   "cell_type": "code",
   "execution_count": null,
   "metadata": {},
   "outputs": [],
   "source": [
    "inputArchive = pickle.load(open(str(inference_source),'rb'))\n",
    "nms_thresh = 40 \n",
    "thresh = 0.35"
   ]
  },
  {
   "cell_type": "code",
   "execution_count": null,
   "metadata": {},
   "outputs": [],
   "source": [
    "results = {}\n",
    "\n",
    "exact_lines = []\n",
    "for file in inputArchive:\n",
    "    boxes = np.array(inputArchive[file])\n",
    "\n",
    "    scales = ((boxes[:, 2] - boxes[:, 0]) / (boxes[:, 3] - boxes[:, 1]))\n",
    "    boxes = boxes[(scales < 1.1) & (scales > 0.9)]\n",
    "    annos = non_max_suppression_by_distance(boxes, boxes[:, 5], nms_thresh)\n",
    "    annos = annos[annos[:, 5] > thresh]\n",
    "\n",
    "    for anno in annos:\n",
    "        box_dict = json.dumps({\"x1\":max(0,anno[0]), \"y1\": max(0, anno[1]), \"x2\": anno[2], \"y2\": anno[3]})\n",
    "\n",
    "\n",
    "        row = \"{0}|{1}|\".format(file, int(anno[4])) + box_dict + \"\\n\"\n",
    "        exact_lines.append(row)\n",
    "\n",
    "    results[file] = annos\n",
    "\n",
    "with open(str(inference_target_exact), 'w') as f:\n",
    "    f.writelines(exact_lines)\n",
    "\n",
    "pickle.dump(results, open(str(inference_target), \"wb\" ))"
   ]
  }
 ],
 "metadata": {
  "kernelspec": {
   "display_name": "Python 3",
   "language": "python",
   "name": "python3"
  },
  "language_info": {
   "codemirror_mode": {
    "name": "ipython",
    "version": 3
   },
   "file_extension": ".py",
   "mimetype": "text/x-python",
   "name": "python",
   "nbconvert_exporter": "python",
   "pygments_lexer": "ipython3",
   "version": "3.6.10"
  }
 },
 "nbformat": 4,
 "nbformat_minor": 4
}
