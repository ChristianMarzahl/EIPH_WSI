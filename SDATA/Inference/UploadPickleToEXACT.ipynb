{
 "cells": [
  {
   "cell_type": "code",
   "execution_count": 1,
   "metadata": {},
   "outputs": [],
   "source": [
    "%reload_ext autoreload\n",
    "%autoreload 2\n",
    "%matplotlib inline"
   ]
  },
  {
   "cell_type": "code",
   "execution_count": null,
   "metadata": {},
   "outputs": [],
   "source": [
    "import pickle\n",
    "from pathlib import Path"
   ]
  },
  {
   "cell_type": "code",
   "execution_count": null,
   "metadata": {},
   "outputs": [],
   "source": [
    "from exact_sync.v1.api.annotations_api import AnnotationsApi\n",
    "from exact_sync.v1.api.images_api import ImagesApi\n",
    "from exact_sync.v1.api.image_sets_api import ImageSetsApi\n",
    "from exact_sync.v1.api.annotation_types_api import AnnotationTypesApi"
   ]
  },
  {
   "cell_type": "code",
   "execution_count": null,
   "metadata": {},
   "outputs": [],
   "source": [
    "username = 'marzahl'\n",
    "password = '****'\n",
    "host =  \"https://exact.cs.fau.de/\"\n",
    "inference_results = Path('D:/Datasets/EIPH WSI/Humane/inference_results_boxes_all_human.p')"
   ]
  },
  {
   "cell_type": "code",
   "execution_count": null,
   "metadata": {},
   "outputs": [],
   "source": [
    "client = ApiClient(configuration)\n",
    "\n",
    "image_sets_api = ImageSetsApi(client)\n",
    "annotations_api = AnnotationsApi(client)\n",
    "annotation_types_api = AnnotationTypesApi(client)\n",
    "images_api = ImagesApi(client)\n",
    "\n",
    "image_sets = image_sets_api.list_image_sets(name__contains=\"-Algorithm\")\n",
    "images = {}\n",
    "annotation_types = {}"
   ]
  },
  {
   "cell_type": "code",
   "execution_count": null,
   "metadata": {},
   "outputs": [],
   "source": [
    "for image_set in image_sets.results:\n",
    "    for image in images_api.list_images(pagination=False, image_set=image_set.id).results:\n",
    "        if len(image.annotations) == 0:\n",
    "            images[image.name] = image\n",
    "    for product in image_set.product_set:\n",
    "        for anno_type in annotation_types_api.list_annotation_types(product=product).results:\n",
    "            annotation_types[anno_type.name] = anno_type"
   ]
  },
  {
   "cell_type": "code",
   "execution_count": null,
   "metadata": {},
   "outputs": [],
   "source": [
    "resultsArchive = pickle.load(open(str(inference_results),'rb'))"
   ]
  },
  {
   "cell_type": "code",
   "execution_count": null,
   "metadata": {},
   "outputs": [],
   "source": [
    "threads = []\n",
    "for image_name in images:\n",
    "    image = images[image_name]\n",
    "\n",
    "    file_annotations = resultsArchive[image.name][resultsArchive[image.name][:,5].argsort()]\n",
    "    for idx in range(len(file_annotations)):\n",
    "        row = file_annotations[idx]\n",
    "        \n",
    "        x_min = int(row[0]) \n",
    "        y_min = int(row[1]) \n",
    "        x_max = int(row[2]) \n",
    "        y_max = int(row[3])\n",
    "        label = int(row[4]) \n",
    "\n",
    "        if x_max - x_min < 10 or y_max - y_min < 10:\n",
    "            continue\n",
    "\n",
    "        vector = {\"x1\": x_min, \"y1\": y_min, \"x2\": x_max, \"y2\": y_max}\n",
    "        annotation_type = annotation_types[str(label)]\n",
    "\n",
    "        annotation = Annotation(annotation_type=annotation_type.id, vector=vector, image=image.id)\n",
    "        thread = annotations_api.create_annotation(body=annotation, async_req=True)\n",
    "        threads.append(thread)"
   ]
  },
  {
   "cell_type": "code",
   "execution_count": null,
   "metadata": {},
   "outputs": [],
   "source": [
    "from time import sleep\n",
    "while (len(threads) > 0):\n",
    "    for thread in threads:\n",
    "        if thread.ready():\n",
    "            threads.remove(thread)\n",
    "    sleep(0.25)"
   ]
  }
 ],
 "metadata": {
  "kernelspec": {
   "display_name": "Python 3",
   "language": "python",
   "name": "python3"
  },
  "language_info": {
   "codemirror_mode": {
    "name": "ipython",
    "version": 3
   },
   "file_extension": ".py",
   "mimetype": "text/x-python",
   "name": "python",
   "nbconvert_exporter": "python",
   "pygments_lexer": "ipython3",
   "version": "3.6.10"
  }
 },
 "nbformat": 4,
 "nbformat_minor": 4
}
