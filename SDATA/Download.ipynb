{
 "cells": [
  {
   "cell_type": "code",
   "execution_count": 1,
   "metadata": {},
   "outputs": [],
   "source": [
    "import urllib.request\n",
    "import os\n",
    "from tqdm import tqdm\n",
    "from pathlib import Path"
   ]
  },
  {
   "cell_type": "markdown",
   "metadata": {},
   "source": [
    "## Download Equine Data"
   ]
  },
  {
   "cell_type": "code",
   "execution_count": 2,
   "metadata": {},
   "outputs": [
    {
     "name": "stderr",
     "output_type": "stream",
     "text": [
      "100%|██████████| 55/55 [05:42<00:00,  6.22s/it]\n"
     ]
    }
   ],
   "source": [
    "equine_path = Path(\"../Slides/Equine\")\n",
    "equine_path.mkdir(parents=True, exist_ok=True)\n",
    "\n",
    "files = {\n",
    "    \"01_EIPH_563479 Turnbull blue.svs\" : 'https://figshare.com/ndownloader/files/28882074?private_link=d48f0520b4fa164043b5',\n",
    "    \"02_EIPH_574162 Turnbull blue-001.svs\" : 'https://figshare.com/ndownloader/files/28882113?private_link=d48f0520b4fa164043b5',\n",
    "    \"03_EIPH_566933 R Turnbull blue.svs\" : 'https://figshare.com/ndownloader/files/28882101?private_link=d48f0520b4fa164043b5',\n",
    "    \"04_EIPH_567017 Turnbull blue-001.svs\" : 'https://figshare.com/ndownloader/files/28882077?private_link=d48f0520b4fa164043b5',\n",
    "    \"05_EIPH_569923 Turnbull blue.svs\" : 'https://figshare.com/ndownloader/files/28882104?private_link=d48f0520b4fa164043b5',\n",
    "    \"07_EIPH_574882 Berliner Blau-001.svs\" : 'https://figshare.com/ndownloader/files/28882134?private_link=d48f0520b4fa164043b5',\n",
    "    \"08_EIPH_574999 Berliner Blau.svs\" : 'https://figshare.com/ndownloader/files/28882128?private_link=d48f0520b4fa164043b5',\n",
    "    \"09_EIPH_563417 L berliner blau.svs\" : 'https://figshare.com/ndownloader/files/28882098?private_link=d48f0520b4fa164043b5',\n",
    "    \"10_EIPH_563417 R Berliner Blau.svs\" : 'https://figshare.com/ndownloader/files/28882125?private_link=d48f0520b4fa164043b5',\n",
    "    \"10_EIPH_563417 R Turnbull blue-002.svs\" : 'https://figshare.com/ndownloader/files/28882149?private_link=d48f0520b4fa164043b5',\n",
    "    \"11_EIPH_575697 Turnbull blue-002.svs\" : 'https://figshare.com/ndownloader/files/28882152?private_link=d48f0520b4fa164043b5',\n",
    "    \"13_EIPH_570370 Berliner Blau.svs\" : 'https://figshare.com/ndownloader/files/28882137?private_link=d48f0520b4fa164043b5',\n",
    "    \"13_EIPH_570370 Turnbull blue-001.svs\" : 'https://figshare.com/ndownloader/files/28882206?private_link=d48f0520b4fa164043b5',\n",
    "    \"14_EIPH_568381 berliner blau-001.svs\" : 'https://figshare.com/ndownloader/files/28882140?private_link=d48f0520b4fa164043b5',\n",
    "    \"15_EIPH_568320 Turnbull blue.svs\" : 'https://figshare.com/ndownloader/files/28882176?private_link=d48f0520b4fa164043b5',\n",
    "    \"15_EIPH_568320 berliner blau.svs\" : 'https://figshare.com/ndownloader/files/28882146?private_link=d48f0520b4fa164043b5',\n",
    "    \"16_EIPH_574882 R Berliner Blau.svs\" : 'https://figshare.com/ndownloader/files/28882173?private_link=d48f0520b4fa164043b5',\n",
    "    \"16_EIPH_576172 Turnbull blue-002.svs\" : 'https://figshare.com/ndownloader/files/28882188?private_link=d48f0520b4fa164043b5',\n",
    "    \"17_EIPH_575796 Berliner Blau.svs\" : 'https://figshare.com/ndownloader/files/28882185?private_link=d48f0520b4fa164043b5',\n",
    "    \"17_EIPH_575796 Turnbull blue.svs\" : 'https://figshare.com/ndownloader/files/28882155?private_link=d48f0520b4fa164043b5',\n",
    "    \"18_EIPH_574882 R Berliner Blau.svs\" : 'https://figshare.com/ndownloader/files/28882179?private_link=d48f0520b4fa164043b5',\n",
    "    \"18_EIPH_574882 Turnbull blue-002.svs\" : 'https://figshare.com/ndownloader/files/28882167?private_link=d48f0520b4fa164043b5',\n",
    "    \"19_EIPH_566933 L Berliner Blau.svs\" : 'https://figshare.com/ndownloader/files/28882212?private_link=d48f0520b4fa164043b5',\n",
    "    \"19_EIPH_566933 L Tunrbull blue.svs\" : 'https://figshare.com/ndownloader/files/28882158?private_link=d48f0520b4fa164043b5',\n",
    "    \"20_EIPH_576150 Turnbull blue.svs\" : 'https://figshare.com/ndownloader/files/28882197?private_link=d48f0520b4fa164043b5',\n",
    "    \"21_EIPH_566482 R Turnbull blue.svs\" : 'https://figshare.com/ndownloader/files/28882227?private_link=d48f0520b4fa164043b5',\n",
    "    \"22_EIPH_575216 Berliner Blau.svs\" : 'https://figshare.com/ndownloader/files/28882194?private_link=d48f0520b4fa164043b5',\n",
    "    \"23_EIPH_563476 Berliner Blau-001.svs\" : 'https://figshare.com/ndownloader/files/28882209?private_link=d48f0520b4fa164043b5',\n",
    "    \"23_EIPH_563476 Turnbull blue.svs\" : 'https://figshare.com/ndownloader/files/28882254?private_link=d48f0520b4fa164043b5',\n",
    "    \"24_EIPH_576255 Berliner Blau.svs\" : 'https://figshare.com/ndownloader/files/28882203?private_link=d48f0520b4fa164043b5',\n",
    "    \"24_EIPH_576255 Turnbull blue.svs\" : 'https://figshare.com/ndownloader/files/28882239?private_link=d48f0520b4fa164043b5',\n",
    "    \"25_EIPH_568150 Berliner Blau.svs\" : 'https://figshare.com/ndownloader/files/28882218?private_link=d48f0520b4fa164043b5',\n",
    "    \"25_EIPH_568150 Turnbull blue.svs\" : 'https://figshare.com/ndownloader/files/28882260?private_link=d48f0520b4fa164043b5',\n",
    "    \"27_EIPH_571557 Turnbull blue.svs\" : 'https://figshare.com/ndownloader/files/28882224?private_link=d48f0520b4fa164043b5',\n",
    "    \"28_EIPH_569948 L berliner blau.svs\" : 'https://figshare.com/ndownloader/files/28882257?private_link=d48f0520b4fa164043b5',\n",
    "    \"29_EIPH_566481 L Berliner Blau.svs\" : 'https://figshare.com/ndownloader/files/28882269?private_link=d48f0520b4fa164043b5',\n",
    "    \"30_EIPH_568355 Turnbull blue.svs\" : 'https://figshare.com/ndownloader/files/28882272?private_link=d48f0520b4fa164043b5',\n",
    "    \"30_EIPH_588355 Berliner Blau.svs\" : 'https://figshare.com/ndownloader/files/28882251?private_link=d48f0520b4fa164043b5',\n",
    "    \"31_EIPH_568354 Turnbull blue.svs\" : 'https://figshare.com/ndownloader/files/28882245?private_link=d48f0520b4fa164043b5',\n",
    "    \"01_EIPH_563479 Berliner Blau.svs\" : 'https://figshare.com/ndownloader/files/28882122?private_link=d48f0520b4fa164043b5',\n",
    "    \"02_EIPH_574162 berliner blau.svs\" : 'https://figshare.com/ndownloader/files/28882131?private_link=d48f0520b4fa164043b5',\n",
    "    \"03_EIPH_566933 R Berliner Blau neu.svs\" : 'https://figshare.com/ndownloader/files/28882107?private_link=d48f0520b4fa164043b5',\n",
    "    \"04_EIPH_567017 Berliner Blau.svs\" : 'https://figshare.com/ndownloader/files/28882086?private_link=d48f0520b4fa164043b5',\n",
    "    \"05_EIPH_569923 Berliner Blau.svs\" : 'https://figshare.com/ndownloader/files/28882119?private_link=d48f0520b4fa164043b5',\n",
    "    \"07_EIPH_574882 left lung Turnbull blue.svs\" : 'https://figshare.com/ndownloader/files/28882092?private_link=d48f0520b4fa164043b5',\n",
    "    \"09_EIPH_563417 L Turnbull blue.svs\" : 'https://figshare.com/ndownloader/files/28882110?private_link=d48f0520b4fa164043b5',\n",
    "    \"11_EIPH_575697 Berliner Blau.svs\" : 'https://figshare.com/ndownloader/files/28882143?private_link=d48f0520b4fa164043b5',\n",
    "    \"14_EIPH_568381 Turnbull blue.svs\" : 'https://figshare.com/ndownloader/files/28882164?private_link=d48f0520b4fa164043b5',\n",
    "    \"20_EIPH_576150 berliner blau.svs\" : 'https://figshare.com/ndownloader/files/28882215?private_link=d48f0520b4fa164043b5',\n",
    "    \"22_EIPH_575216 Turnbull blue.svs\" : 'https://figshare.com/ndownloader/files/28882230?private_link=d48f0520b4fa164043b5',\n",
    "    \"26_EIPH_566482 L Berliner Blau.svs\" : 'https://figshare.com/ndownloader/files/28882221?private_link=d48f0520b4fa164043b5',\n",
    "    \"27_EIPH_571557 berliner blau.svs\" : 'https://figshare.com/ndownloader/files/28882263?private_link=d48f0520b4fa164043b5',\n",
    "    \"28_EIPH_569948 L Turnbull blue.svs\" : 'https://figshare.com/ndownloader/files/28882242?private_link=d48f0520b4fa164043b5',\n",
    "    \"29_EIPH_566481 L Turnbull blue.svs\" : 'https://figshare.com/ndownloader/files/28882236?private_link=d48f0520b4fa164043b5',\n",
    "    \"31_EIPH_568354 Berliner Blau.svs\" : 'https://figshare.com/ndownloader/files/28882275?private_link=d48f0520b4fa164043b5',\n",
    "}\n",
    "\n",
    "for fname, url in tqdm(files.items()):\n",
    "    urllib.request.urlretrieve(url, str(equine_path/fname))"
   ]
  },
  {
   "cell_type": "markdown",
   "metadata": {},
   "source": [
    "## Download Human Data"
   ]
  },
  {
   "cell_type": "code",
   "execution_count": 3,
   "metadata": {},
   "outputs": [
    {
     "name": "stderr",
     "output_type": "stream",
     "text": [
      "100%|██████████| 12/12 [00:51<00:00,  4.26s/it]\n"
     ]
    }
   ],
   "source": [
    "human_path = Path(\"../Slides/Human\")\n",
    "human_path.mkdir(parents=True, exist_ok=True)\n",
    "\n",
    "files = {\n",
    "    \"10052_19 humane BAL Berliner Blau-001.svs\" : 'https://figshare.com/ndownloader/files/28882305?private_link=d48f0520b4fa164043b5',\n",
    "    \"10080_19 humane BAL Berliner Blau-001.svs\" : 'https://figshare.com/ndownloader/files/28882287?private_link=d48f0520b4fa164043b5',\n",
    "    \"10120_19 humane BAL Berliner Blau.svs\" : 'https://figshare.com/ndownloader/files/28882290?private_link=d48f0520b4fa164043b5',\n",
    "    \"10227_19 humane BAL Berliner Blau.svs\" : 'https://figshare.com/ndownloader/files/28882281?private_link=d48f0520b4fa164043b5',\n",
    "    \"10672_19 humane BAL Berliner Blau.svs\" : 'https://figshare.com/ndownloader/files/28882284?private_link=d48f0520b4fa164043b5',\n",
    "    \"10672_19 humane BAL Turnbull Blau.svs\" : 'https://figshare.com/ndownloader/files/28882302?private_link=d48f0520b4fa164043b5',\n",
    "    \"10835_19 humane BAL Berliner Blau.svs\" : 'https://figshare.com/ndownloader/files/28882299?private_link=d48f0520b4fa164043b5',\n",
    "    \"10835_19 humane BAL Turnbull Blau.svs\" : 'https://figshare.com/ndownloader/files/28882317?private_link=d48f0520b4fa164043b5',\n",
    "    \"11323_19 humane BAL Berliner Blau.svs\" : 'https://figshare.com/ndownloader/files/28882308?private_link=d48f0520b4fa164043b5',\n",
    "    \"11480_19 humane BAL Berliner Blau.svs\" : 'https://figshare.com/ndownloader/files/28882293?private_link=d48f0520b4fa164043b5',\n",
    "    \"2702_20 BB Human BAL-001.svs\" : 'https://figshare.com/ndownloader/files/28882278?private_link=d48f0520b4fa164043b5',\n",
    "    \"2707_20 TB BAL Human neu.svs\" : 'https://figshare.com/ndownloader/files/28882314?private_link=d48f0520b4fa164043b5',\n",
    "\n",
    "}\n",
    "\n",
    "for fname, url in tqdm(files.items()):\n",
    "    urllib.request.urlretrieve(url, str(human_path/fname))"
   ]
  },
  {
   "cell_type": "markdown",
   "metadata": {},
   "source": [
    "## Download Cat Data"
   ]
  },
  {
   "cell_type": "code",
   "execution_count": 4,
   "metadata": {},
   "outputs": [
    {
     "name": "stderr",
     "output_type": "stream",
     "text": [
      "100%|██████████| 7/7 [00:45<00:00,  6.48s/it]\n"
     ]
    }
   ],
   "source": [
    "cat_path = Path(\"../Slides/Cat\")\n",
    "cat_path.mkdir(parents=True, exist_ok=True)\n",
    "\n",
    "files = {\n",
    "    \"BAL_Cat_Turnbull blue_1.svs\" : 'https://figshare.com/ndownloader/files/28882053?private_link=d48f0520b4fa164043b5',\n",
    "    \"BAL_Cat_Turnbull blue_10.svs\" : 'https://figshare.com/ndownloader/files/28882023?private_link=d48f0520b4fa164043b5',\n",
    "    \"BAL_Cat_Turnbull blue_12.svs\" : 'https://figshare.com/ndownloader/files/28882041?private_link=d48f0520b4fa164043b5',\n",
    "    \"BAL_Cat_Turnbull blue_13.svs\" : 'https://figshare.com/ndownloader/files/28882050?private_link=d48f0520b4fa164043b5',\n",
    "    \"BAL_Cat_Turnbull blue_14.svs\" : 'https://figshare.com/ndownloader/files/28882044?private_link=d48f0520b4fa164043b5',\n",
    "    \"BAL_Cat_Turnbull blue_2.svs\" : 'https://figshare.com/ndownloader/files/28882032?private_link=d48f0520b4fa164043b5',\n",
    "    \"BAL_Cat_Turnbull blue_6.svs\" : 'https://figshare.com/ndownloader/files/28882035?private_link=d48f0520b4fa164043b5',\n",
    "\n",
    "}\n",
    "\n",
    "for fname, url in tqdm(files.items()):\n",
    "    urllib.request.urlretrieve(url, str(cat_path/fname))"
   ]
  }
 ],
 "metadata": {
  "kernelspec": {
   "display_name": "Python 3 (ipykernel)",
   "language": "python",
   "name": "python3"
  },
  "language_info": {
   "codemirror_mode": {
    "name": "ipython",
    "version": 3
   },
   "file_extension": ".py",
   "mimetype": "text/x-python",
   "name": "python",
   "nbconvert_exporter": "python",
   "pygments_lexer": "ipython3",
   "version": "3.9.7"
  }
 },
 "nbformat": 4,
 "nbformat_minor": 4
}
