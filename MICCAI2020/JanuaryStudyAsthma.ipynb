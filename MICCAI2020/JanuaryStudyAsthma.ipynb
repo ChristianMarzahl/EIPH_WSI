{
 "cells": [
  {
   "cell_type": "markdown",
   "metadata": {},
   "source": [
    "# Asthma"
   ]
  },
  {
   "cell_type": "markdown",
   "metadata": {},
   "source": [
    "## Imports"
   ]
  },
  {
   "cell_type": "code",
   "execution_count": 1,
   "metadata": {},
   "outputs": [],
   "source": [
    "%reload_ext autoreload\n",
    "%autoreload 2\n",
    "%matplotlib inline"
   ]
  },
  {
   "cell_type": "code",
   "execution_count": 2,
   "metadata": {},
   "outputs": [],
   "source": [
    "import numpy as np\n",
    "from glob import glob\n",
    "from pathlib import Path\n",
    "import matplotlib.pyplot as plt\n",
    "import pandas as pd \n",
    "import seaborn as sns\n",
    "import matplotlib\n",
    "from math import pow, sqrt, ceil\n",
    "from collections import OrderedDict\n",
    "\n",
    "from sklearn.metrics import accuracy_score, cohen_kappa_score, confusion_matrix"
   ]
  },
  {
   "cell_type": "code",
   "execution_count": 3,
   "metadata": {},
   "outputs": [],
   "source": [
    "from Analysis.annotations import Annotation\n",
    "from Analysis.image import Image\n",
    "from Analysis.expert import Expert, DatasetType, ProjectType"
   ]
  },
  {
   "cell_type": "code",
   "execution_count": 4,
   "metadata": {},
   "outputs": [],
   "source": [
    "from utils import *"
   ]
  },
  {
   "cell_type": "markdown",
   "metadata": {},
   "source": [
    "## Load Annotations"
   ]
  },
  {
   "cell_type": "code",
   "execution_count": 5,
   "metadata": {},
   "outputs": [],
   "source": [
    "path = Path(\"Results/Asthma/\")\n",
    "files = glob(str(path)+\"/*/Participants/*.txt\")\n",
    "gt_path = str(path)+\"/FirstRound/GT/ground truth.txt\"\n",
    "\n",
    "users_first_round = {}\n",
    "users_second_round = {}\n",
    "\n",
    "ground_truth = Expert(\"GT\", BBType.GroundTruth, DatasetType.EIPH_Exact, ProjectType.GroundTruth)\n",
    "ground_truth.add_file(gt_path)\n",
    "\n",
    "deleted_path = str(path)+\"/FirstRound/GT/deleted.txt\"\n",
    "changed_path = str(path)+\"/FirstRound/GT/changed.txt\"\n",
    "nms_path = str(path)+\"/FirstRound/GT/nms.txt\"\n",
    "\n",
    "\n",
    "deleted_eiph = Expert(\"deleted\", BBType.GroundTruth, DatasetType.EIPH_Exact, ProjectType.GroundTruth)\n",
    "deleted_eiph.add_file(deleted_path)\n",
    "\n",
    "changed_eiph = Expert(\"changed\", BBType.GroundTruth, DatasetType.EIPH_Exact, ProjectType.GroundTruth)\n",
    "changed_eiph.add_file(changed_path)\n",
    "\n",
    "nms_eiph = Expert(\"changed\", BBType.GroundTruth, DatasetType.EIPH_Exact, ProjectType.GroundTruth)\n",
    "nms_eiph.add_file(nms_path)\n",
    "\n",
    "for file_name in files:\n",
    "    participant = \"Expert_\" + Path(file_name).stem.split(\"_\")[-1]\n",
    "    \n",
    "    if \"FirstRound\" in file_name:\n",
    "        expert = Expert(participant, BBType.Detected, DatasetType.EIPH_Exact, ProjectType.Annotation)\n",
    "        expert.add_file(file_name)\n",
    "        \n",
    "        users_first_round[expert.expert] = expert\n",
    "    else:\n",
    "        expert = Expert(participant, BBType.Detected, DatasetType.EIPH_Exact, ProjectType.ExpertAlgorithm)\n",
    "        expert.add_file(file_name)\n",
    "        \n",
    "        users_second_round[expert.expert] = expert"
   ]
  },
  {
   "cell_type": "markdown",
   "metadata": {},
   "source": [
    "## Statistics"
   ]
  },
  {
   "cell_type": "code",
   "execution_count": 6,
   "metadata": {},
   "outputs": [
    {
     "name": "stdout",
     "output_type": "stream",
     "text": [
      "First Round\n",
      "Expert_8:  Annos: 408 Seconds: 114.5 Type: EIPH_Exact Project: Annotation mIoU: 0.765555282730989\n",
      "Expert_9:  Annos: 410 Seconds: 164.76190476190476 Type: EIPH_Exact Project: Annotation mIoU: 0.7422009626832827\n",
      "Expert_10:  Annos: 402 Seconds: 113.38095238095238 Type: EIPH_Exact Project: Annotation mIoU: 0.7753388947263968\n",
      "Expert_1:  Annos: 397 Seconds: 56.2 Type: EIPH_Exact Project: Annotation mIoU: 0.5641239801706175\n",
      "Expert_2:  Annos: 413 Seconds: 140.25 Type: EIPH_Exact Project: Annotation mIoU: 0.7774293463099948\n",
      "Expert_3:  Annos: 406 Seconds: 96.6 Type: EIPH_Exact Project: Annotation mIoU: 0.8226910144113211\n",
      "Expert_4:  Annos: 402 Seconds: 72.8 Type: EIPH_Exact Project: Annotation mIoU: 0.7835845035027322\n",
      "Expert_5:  Annos: 409 Seconds: 95.8 Type: EIPH_Exact Project: Annotation mIoU: 0.5932228978718947\n",
      "Expert_6:  Annos: 410 Seconds: 85.15 Type: EIPH_Exact Project: Annotation mIoU: 0.7490406825045358\n",
      "Expert_7:  Annos: 406 Seconds: 126.5 Type: EIPH_Exact Project: Annotation mIoU: 0.7678581580808641\n",
      "\n",
      "Second Round\n",
      "Expert_8:  Annos: 410 Seconds: 17.95 Type: EIPH_Exact Project: ExpertAlgorithm mIoU: 0.8380418851249664\n",
      "Expert_9:  Annos: 419 Seconds: 25.05 Type: EIPH_Exact Project: ExpertAlgorithm mIoU: 0.858337834423029\n",
      "Expert_10:  Annos: 412 Seconds: 3.5 Type: EIPH_Exact Project: ExpertAlgorithm mIoU: 0.8365857466027542\n",
      "Expert_1:  Annos: 419 Seconds: 12.428571428571429 Type: EIPH_Exact Project: ExpertAlgorithm mIoU: 0.8529328052906779\n",
      "Expert_2:  Annos: 414 Seconds: 12.55 Type: EIPH_Exact Project: ExpertAlgorithm mIoU: 0.8427345856948791\n",
      "Expert_3:  Annos: 404 Seconds: 18.1 Type: EIPH_Exact Project: ExpertAlgorithm mIoU: 0.8562703223306123\n",
      "Expert_4:  Annos: 408 Seconds: 12.5 Type: EIPH_Exact Project: ExpertAlgorithm mIoU: 0.8479118718672343\n",
      "Expert_5:  Annos: 418 Seconds: 2.85 Type: EIPH_Exact Project: ExpertAlgorithm mIoU: 0.8296375839317758\n",
      "Expert_6:  Annos: 414 Seconds: 20.8 Type: EIPH_Exact Project: ExpertAlgorithm mIoU: 0.8311519526006345\n",
      "Expert_7:  Annos: 412 Seconds: 29.45 Type: EIPH_Exact Project: ExpertAlgorithm mIoU: 0.8167034603921912\n"
     ]
    }
   ],
   "source": [
    "print(\"First Round\")\n",
    "for user in users_first_round.values():\n",
    "    print(str(user) + \" mIoU: {}\".format(user.calc_MIoU(ground_truth)))\n",
    "    \n",
    "print(\"\\nSecond Round\")    \n",
    "for user in users_second_round.values():\n",
    "    print(str(user) + \" mIoU: {}\".format(user.calc_MIoU(ground_truth)))"
   ]
  },
  {
   "cell_type": "code",
   "execution_count": 7,
   "metadata": {},
   "outputs": [
    {
     "data": {
      "text/plain": [
       "{'Expert_1',\n",
       " 'Expert_10',\n",
       " 'Expert_2',\n",
       " 'Expert_3',\n",
       " 'Expert_4',\n",
       " 'Expert_5',\n",
       " 'Expert_6',\n",
       " 'Expert_7',\n",
       " 'Expert_8',\n",
       " 'Expert_9'}"
      ]
     },
     "execution_count": 7,
     "metadata": {},
     "output_type": "execute_result"
    }
   ],
   "source": [
    "expert_names = set([expert for expert in users_first_round] + [expert for expert in users_second_round])\n",
    "expert_names"
   ]
  },
  {
   "cell_type": "code",
   "execution_count": 8,
   "metadata": {},
   "outputs": [
    {
     "name": "stderr",
     "output_type": "stream",
     "text": [
      "D:\\ProgProjekte\\Python\\Object-Detection-Metrics\\lib\\Evaluator.py:126: RuntimeWarning: invalid value encountered in true_divide\n",
      "  rec = acc_TP / npos\n"
     ]
    }
   ],
   "source": [
    "metrics_changed = []\n",
    "metrics_deleted = []\n",
    "metrics_nms = []\n",
    "\n",
    "for expert_name in expert_names:\n",
    "    \n",
    "    first_round_expert = users_first_round[expert_name]\n",
    "    second_round_expert = users_second_round[expert_name] if expert_name in users_second_round else None\n",
    "    \n",
    "    total_changed_cells = 0\n",
    "    total_deleted_cells = 0\n",
    "    total_nms_cells = 0\n",
    "    \n",
    "    first_round_changed_cells = 0\n",
    "    first_round_deleted_cells = 0\n",
    "    first_round_nms_cells = 0\n",
    "    \n",
    "    second_round_changed_cells = 0\n",
    "    second_round_deleted_cells = 0\n",
    "    second_round_nms_cells = 0\n",
    "    \n",
    "    if first_round_expert:\n",
    "        for metric in first_round_expert.calc_metrics(changed_eiph):\n",
    "            total_changed_cells += int(metric['total positives'])\n",
    "            first_round_changed_cells += int(metric['total TP'])\n",
    "            \n",
    "        for metric in first_round_expert.calc_metrics(deleted_eiph):\n",
    "            total_deleted_cells += int(metric['total positives'])\n",
    "            first_round_deleted_cells += int(metric['total TP'])\n",
    "    \n",
    "        for metric in user.calc_metrics(nms_eiph):\n",
    "            total_nms_cells += int(metric['total positives'])\n",
    "            first_round_nms_cells += int(metric['total TP'])\n",
    "            \n",
    "    if second_round_expert:\n",
    "        for metric in second_round_expert.calc_metrics(changed_eiph):\n",
    "            second_round_changed_cells += int(metric['total TP'])\n",
    "            \n",
    "        for metric in second_round_expert.calc_metrics(deleted_eiph):\n",
    "            second_round_deleted_cells += int(metric['total TP'])\n",
    "            \n",
    "        for metric in second_round_expert.calc_metrics(nms_eiph):\n",
    "            second_round_nms_cells += int(metric['total TP'])\n",
    "            \n",
    "    metrics_changed.append([expert_name, total_changed_cells, first_round_changed_cells, second_round_changed_cells])\n",
    "    metrics_deleted.append([expert_name, total_deleted_cells, first_round_deleted_cells, second_round_deleted_cells])\n",
    "    metrics_nms.append([expert_name, total_nms_cells, first_round_nms_cells, second_round_nms_cells])\n",
    "\n",
    "#metrics_changed.append([\"Total\"] + [sum([row[i] for row in metrics_changed]) for i in range(1, 4)])\n",
    "#metrics_deleted.append([\"Total\"] + [sum([row[i] for row in metrics_deleted]) for i in range(1, 4)])\n",
    "#metrics_nms.append([\"Total\"] + [sum([row[i] for row in metrics_nms]) for i in range(1, 4)])\n",
    "\n",
    "\n",
    "metrics_changed = pd.DataFrame(metrics_changed, columns=['Name','Total Changed', \"Annotation\", \"ExpertAlgorithm\"])\n",
    "\n",
    "metrics_deleted = pd.DataFrame(metrics_deleted, columns=['Name',\"Total Deleted\", \"Annotation\", \"ExpertAlgorithm\"])\n",
    "\n",
    "metrics_nms = pd.DataFrame(metrics_nms, columns=['Name', \"Total NMS\", \"Annotation\", \"ExpertAlgorithm\"])"
   ]
  },
  {
   "cell_type": "markdown",
   "metadata": {},
   "source": [
    "### Changed Cells"
   ]
  },
  {
   "cell_type": "code",
   "execution_count": 9,
   "metadata": {},
   "outputs": [
    {
     "data": {
      "text/html": [
       "<div>\n",
       "<style scoped>\n",
       "    .dataframe tbody tr th:only-of-type {\n",
       "        vertical-align: middle;\n",
       "    }\n",
       "\n",
       "    .dataframe tbody tr th {\n",
       "        vertical-align: top;\n",
       "    }\n",
       "\n",
       "    .dataframe thead th {\n",
       "        text-align: right;\n",
       "    }\n",
       "</style>\n",
       "<table border=\"1\" class=\"dataframe\">\n",
       "  <thead>\n",
       "    <tr style=\"text-align: right;\">\n",
       "      <th></th>\n",
       "      <th>Name</th>\n",
       "      <th>Total Changed</th>\n",
       "      <th>Annotation</th>\n",
       "      <th>ExpertAlgorithm</th>\n",
       "    </tr>\n",
       "  </thead>\n",
       "  <tbody>\n",
       "    <tr>\n",
       "      <th>0</th>\n",
       "      <td>Expert_9</td>\n",
       "      <td>15</td>\n",
       "      <td>13</td>\n",
       "      <td>12</td>\n",
       "    </tr>\n",
       "    <tr>\n",
       "      <th>1</th>\n",
       "      <td>Expert_5</td>\n",
       "      <td>15</td>\n",
       "      <td>11</td>\n",
       "      <td>3</td>\n",
       "    </tr>\n",
       "    <tr>\n",
       "      <th>2</th>\n",
       "      <td>Expert_10</td>\n",
       "      <td>15</td>\n",
       "      <td>15</td>\n",
       "      <td>9</td>\n",
       "    </tr>\n",
       "    <tr>\n",
       "      <th>3</th>\n",
       "      <td>Expert_3</td>\n",
       "      <td>15</td>\n",
       "      <td>12</td>\n",
       "      <td>14</td>\n",
       "    </tr>\n",
       "    <tr>\n",
       "      <th>4</th>\n",
       "      <td>Expert_6</td>\n",
       "      <td>15</td>\n",
       "      <td>12</td>\n",
       "      <td>15</td>\n",
       "    </tr>\n",
       "    <tr>\n",
       "      <th>5</th>\n",
       "      <td>Expert_2</td>\n",
       "      <td>15</td>\n",
       "      <td>14</td>\n",
       "      <td>15</td>\n",
       "    </tr>\n",
       "    <tr>\n",
       "      <th>6</th>\n",
       "      <td>Expert_1</td>\n",
       "      <td>15</td>\n",
       "      <td>13</td>\n",
       "      <td>13</td>\n",
       "    </tr>\n",
       "    <tr>\n",
       "      <th>7</th>\n",
       "      <td>Expert_4</td>\n",
       "      <td>15</td>\n",
       "      <td>13</td>\n",
       "      <td>12</td>\n",
       "    </tr>\n",
       "    <tr>\n",
       "      <th>8</th>\n",
       "      <td>Expert_7</td>\n",
       "      <td>15</td>\n",
       "      <td>13</td>\n",
       "      <td>13</td>\n",
       "    </tr>\n",
       "    <tr>\n",
       "      <th>9</th>\n",
       "      <td>Expert_8</td>\n",
       "      <td>15</td>\n",
       "      <td>13</td>\n",
       "      <td>12</td>\n",
       "    </tr>\n",
       "  </tbody>\n",
       "</table>\n",
       "</div>"
      ],
      "text/plain": [
       "        Name  Total Changed  Annotation  ExpertAlgorithm\n",
       "0   Expert_9             15          13               12\n",
       "1   Expert_5             15          11                3\n",
       "2  Expert_10             15          15                9\n",
       "3   Expert_3             15          12               14\n",
       "4   Expert_6             15          12               15\n",
       "5   Expert_2             15          14               15\n",
       "6   Expert_1             15          13               13\n",
       "7   Expert_4             15          13               12\n",
       "8   Expert_7             15          13               13\n",
       "9   Expert_8             15          13               12"
      ]
     },
     "execution_count": 9,
     "metadata": {},
     "output_type": "execute_result"
    }
   ],
   "source": [
    "metrics_changed"
   ]
  },
  {
   "cell_type": "code",
   "execution_count": 10,
   "metadata": {},
   "outputs": [
    {
     "name": "stdout",
     "output_type": "stream",
     "text": [
      "Annotation: 86.0%\n"
     ]
    }
   ],
   "source": [
    "print(\"Annotation: {0}%\".format(((np.sum(metrics_changed['Annotation']) / (np.mean(metrics_changed['Total Changed']) * len(users_first_round))) * 100)))"
   ]
  },
  {
   "cell_type": "code",
   "execution_count": 11,
   "metadata": {},
   "outputs": [
    {
     "name": "stdout",
     "output_type": "stream",
     "text": [
      "ExpertAlgorithm: 78.66666666666666%\n"
     ]
    }
   ],
   "source": [
    "print(\"ExpertAlgorithm: {0}%\".format(((np.sum(metrics_changed['ExpertAlgorithm']) / (np.mean(metrics_changed['Total Changed']) * len(users_second_round))) * 100)))"
   ]
  },
  {
   "cell_type": "markdown",
   "metadata": {},
   "source": [
    "### Deleted Cells"
   ]
  },
  {
   "cell_type": "code",
   "execution_count": 12,
   "metadata": {},
   "outputs": [
    {
     "data": {
      "text/html": [
       "<div>\n",
       "<style scoped>\n",
       "    .dataframe tbody tr th:only-of-type {\n",
       "        vertical-align: middle;\n",
       "    }\n",
       "\n",
       "    .dataframe tbody tr th {\n",
       "        vertical-align: top;\n",
       "    }\n",
       "\n",
       "    .dataframe thead th {\n",
       "        text-align: right;\n",
       "    }\n",
       "</style>\n",
       "<table border=\"1\" class=\"dataframe\">\n",
       "  <thead>\n",
       "    <tr style=\"text-align: right;\">\n",
       "      <th></th>\n",
       "      <th>Name</th>\n",
       "      <th>Total Deleted</th>\n",
       "      <th>Annotation</th>\n",
       "      <th>ExpertAlgorithm</th>\n",
       "    </tr>\n",
       "  </thead>\n",
       "  <tbody>\n",
       "    <tr>\n",
       "      <th>0</th>\n",
       "      <td>Expert_9</td>\n",
       "      <td>5</td>\n",
       "      <td>4</td>\n",
       "      <td>4</td>\n",
       "    </tr>\n",
       "    <tr>\n",
       "      <th>1</th>\n",
       "      <td>Expert_5</td>\n",
       "      <td>5</td>\n",
       "      <td>4</td>\n",
       "      <td>1</td>\n",
       "    </tr>\n",
       "    <tr>\n",
       "      <th>2</th>\n",
       "      <td>Expert_10</td>\n",
       "      <td>5</td>\n",
       "      <td>3</td>\n",
       "      <td>3</td>\n",
       "    </tr>\n",
       "    <tr>\n",
       "      <th>3</th>\n",
       "      <td>Expert_3</td>\n",
       "      <td>5</td>\n",
       "      <td>5</td>\n",
       "      <td>4</td>\n",
       "    </tr>\n",
       "    <tr>\n",
       "      <th>4</th>\n",
       "      <td>Expert_6</td>\n",
       "      <td>5</td>\n",
       "      <td>3</td>\n",
       "      <td>4</td>\n",
       "    </tr>\n",
       "    <tr>\n",
       "      <th>5</th>\n",
       "      <td>Expert_2</td>\n",
       "      <td>5</td>\n",
       "      <td>3</td>\n",
       "      <td>5</td>\n",
       "    </tr>\n",
       "    <tr>\n",
       "      <th>6</th>\n",
       "      <td>Expert_1</td>\n",
       "      <td>5</td>\n",
       "      <td>5</td>\n",
       "      <td>5</td>\n",
       "    </tr>\n",
       "    <tr>\n",
       "      <th>7</th>\n",
       "      <td>Expert_4</td>\n",
       "      <td>5</td>\n",
       "      <td>5</td>\n",
       "      <td>4</td>\n",
       "    </tr>\n",
       "    <tr>\n",
       "      <th>8</th>\n",
       "      <td>Expert_7</td>\n",
       "      <td>5</td>\n",
       "      <td>5</td>\n",
       "      <td>5</td>\n",
       "    </tr>\n",
       "    <tr>\n",
       "      <th>9</th>\n",
       "      <td>Expert_8</td>\n",
       "      <td>5</td>\n",
       "      <td>5</td>\n",
       "      <td>4</td>\n",
       "    </tr>\n",
       "  </tbody>\n",
       "</table>\n",
       "</div>"
      ],
      "text/plain": [
       "        Name  Total Deleted  Annotation  ExpertAlgorithm\n",
       "0   Expert_9              5           4                4\n",
       "1   Expert_5              5           4                1\n",
       "2  Expert_10              5           3                3\n",
       "3   Expert_3              5           5                4\n",
       "4   Expert_6              5           3                4\n",
       "5   Expert_2              5           3                5\n",
       "6   Expert_1              5           5                5\n",
       "7   Expert_4              5           5                4\n",
       "8   Expert_7              5           5                5\n",
       "9   Expert_8              5           5                4"
      ]
     },
     "execution_count": 12,
     "metadata": {},
     "output_type": "execute_result"
    }
   ],
   "source": [
    "metrics_deleted"
   ]
  },
  {
   "cell_type": "code",
   "execution_count": 13,
   "metadata": {},
   "outputs": [
    {
     "name": "stdout",
     "output_type": "stream",
     "text": [
      "Annotation: 84.0%\n"
     ]
    }
   ],
   "source": [
    "print(\"Annotation: {0}%\".format(((np.sum(metrics_deleted['Annotation']) / (np.mean(metrics_deleted['Total Deleted']) * len(users_first_round))) * 100)))"
   ]
  },
  {
   "cell_type": "code",
   "execution_count": 14,
   "metadata": {},
   "outputs": [
    {
     "name": "stdout",
     "output_type": "stream",
     "text": [
      "ExpertAlgorithm: 78.0%\n"
     ]
    }
   ],
   "source": [
    "print(\"ExpertAlgorithm: {0}%\".format(((np.sum(metrics_deleted['ExpertAlgorithm']) / (np.mean(metrics_deleted['Total Deleted']) * len(users_second_round))) * 100)))"
   ]
  },
  {
   "cell_type": "markdown",
   "metadata": {},
   "source": [
    "### NMS Cells"
   ]
  },
  {
   "cell_type": "code",
   "execution_count": 15,
   "metadata": {},
   "outputs": [
    {
     "data": {
      "text/html": [
       "<div>\n",
       "<style scoped>\n",
       "    .dataframe tbody tr th:only-of-type {\n",
       "        vertical-align: middle;\n",
       "    }\n",
       "\n",
       "    .dataframe tbody tr th {\n",
       "        vertical-align: top;\n",
       "    }\n",
       "\n",
       "    .dataframe thead th {\n",
       "        text-align: right;\n",
       "    }\n",
       "</style>\n",
       "<table border=\"1\" class=\"dataframe\">\n",
       "  <thead>\n",
       "    <tr style=\"text-align: right;\">\n",
       "      <th></th>\n",
       "      <th>Name</th>\n",
       "      <th>Total NMS</th>\n",
       "      <th>Annotation</th>\n",
       "      <th>ExpertAlgorithm</th>\n",
       "    </tr>\n",
       "  </thead>\n",
       "  <tbody>\n",
       "    <tr>\n",
       "      <th>0</th>\n",
       "      <td>Expert_9</td>\n",
       "      <td>8</td>\n",
       "      <td>5</td>\n",
       "      <td>6</td>\n",
       "    </tr>\n",
       "    <tr>\n",
       "      <th>1</th>\n",
       "      <td>Expert_5</td>\n",
       "      <td>8</td>\n",
       "      <td>5</td>\n",
       "      <td>8</td>\n",
       "    </tr>\n",
       "    <tr>\n",
       "      <th>2</th>\n",
       "      <td>Expert_10</td>\n",
       "      <td>8</td>\n",
       "      <td>5</td>\n",
       "      <td>6</td>\n",
       "    </tr>\n",
       "    <tr>\n",
       "      <th>3</th>\n",
       "      <td>Expert_3</td>\n",
       "      <td>8</td>\n",
       "      <td>5</td>\n",
       "      <td>4</td>\n",
       "    </tr>\n",
       "    <tr>\n",
       "      <th>4</th>\n",
       "      <td>Expert_6</td>\n",
       "      <td>8</td>\n",
       "      <td>5</td>\n",
       "      <td>6</td>\n",
       "    </tr>\n",
       "    <tr>\n",
       "      <th>5</th>\n",
       "      <td>Expert_2</td>\n",
       "      <td>8</td>\n",
       "      <td>5</td>\n",
       "      <td>4</td>\n",
       "    </tr>\n",
       "    <tr>\n",
       "      <th>6</th>\n",
       "      <td>Expert_1</td>\n",
       "      <td>8</td>\n",
       "      <td>5</td>\n",
       "      <td>7</td>\n",
       "    </tr>\n",
       "    <tr>\n",
       "      <th>7</th>\n",
       "      <td>Expert_4</td>\n",
       "      <td>8</td>\n",
       "      <td>5</td>\n",
       "      <td>4</td>\n",
       "    </tr>\n",
       "    <tr>\n",
       "      <th>8</th>\n",
       "      <td>Expert_7</td>\n",
       "      <td>8</td>\n",
       "      <td>5</td>\n",
       "      <td>5</td>\n",
       "    </tr>\n",
       "    <tr>\n",
       "      <th>9</th>\n",
       "      <td>Expert_8</td>\n",
       "      <td>8</td>\n",
       "      <td>5</td>\n",
       "      <td>4</td>\n",
       "    </tr>\n",
       "  </tbody>\n",
       "</table>\n",
       "</div>"
      ],
      "text/plain": [
       "        Name  Total NMS  Annotation  ExpertAlgorithm\n",
       "0   Expert_9          8           5                6\n",
       "1   Expert_5          8           5                8\n",
       "2  Expert_10          8           5                6\n",
       "3   Expert_3          8           5                4\n",
       "4   Expert_6          8           5                6\n",
       "5   Expert_2          8           5                4\n",
       "6   Expert_1          8           5                7\n",
       "7   Expert_4          8           5                4\n",
       "8   Expert_7          8           5                5\n",
       "9   Expert_8          8           5                4"
      ]
     },
     "execution_count": 15,
     "metadata": {},
     "output_type": "execute_result"
    }
   ],
   "source": [
    "metrics_nms"
   ]
  },
  {
   "cell_type": "code",
   "execution_count": 16,
   "metadata": {},
   "outputs": [
    {
     "name": "stdout",
     "output_type": "stream",
     "text": [
      "Annotation: 62.5%\n"
     ]
    }
   ],
   "source": [
    "print(\"Annotation: {0}%\".format(((np.sum(metrics_nms['Annotation']) / (np.mean(metrics_nms['Total NMS']) * len(users_first_round))) * 100)))"
   ]
  },
  {
   "cell_type": "code",
   "execution_count": 17,
   "metadata": {},
   "outputs": [
    {
     "name": "stdout",
     "output_type": "stream",
     "text": [
      "ExpertAlgorithm: 67.5%\n"
     ]
    }
   ],
   "source": [
    "print(\"ExpertAlgorithm: {0}%\".format(((np.sum(metrics_nms['ExpertAlgorithm']) / (np.mean(metrics_nms['Total NMS']) * len(users_second_round))) * 100)))"
   ]
  },
  {
   "cell_type": "code",
   "execution_count": null,
   "metadata": {},
   "outputs": [],
   "source": []
  }
 ],
 "metadata": {
  "kernelspec": {
   "display_name": "Python 3",
   "language": "python",
   "name": "python3"
  },
  "language_info": {
   "codemirror_mode": {
    "name": "ipython",
    "version": 3
   },
   "file_extension": ".py",
   "mimetype": "text/x-python",
   "name": "python",
   "nbconvert_exporter": "python",
   "pygments_lexer": "ipython3",
   "version": "3.6.7"
  }
 },
 "nbformat": 4,
 "nbformat_minor": 4
}
