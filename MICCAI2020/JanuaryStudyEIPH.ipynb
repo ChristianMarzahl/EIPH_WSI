{
 "cells": [
  {
   "cell_type": "markdown",
   "metadata": {},
   "source": [
    "# EIPH"
   ]
  },
  {
   "cell_type": "markdown",
   "metadata": {},
   "source": [
    "## Imports "
   ]
  },
  {
   "cell_type": "code",
   "execution_count": 19,
   "metadata": {},
   "outputs": [],
   "source": [
    "%reload_ext autoreload\n",
    "%autoreload 2\n",
    "%matplotlib inline"
   ]
  },
  {
   "cell_type": "code",
   "execution_count": 20,
   "metadata": {},
   "outputs": [],
   "source": [
    "import numpy as np\n",
    "from glob import glob\n",
    "from pathlib import Path\n",
    "import matplotlib.pyplot as plt\n",
    "import pandas as pd \n",
    "import seaborn as sns\n",
    "import matplotlib\n",
    "from math import pow, sqrt, ceil\n",
    "from collections import OrderedDict\n",
    "\n",
    "from sklearn.metrics import accuracy_score, cohen_kappa_score, confusion_matrix"
   ]
  },
  {
   "cell_type": "code",
   "execution_count": 21,
   "metadata": {},
   "outputs": [],
   "source": [
    "from Analysis.annotations import Annotation\n",
    "from Analysis.image import Image\n",
    "from Analysis.expert import Expert, DatasetType, ProjectType"
   ]
  },
  {
   "cell_type": "code",
   "execution_count": 22,
   "metadata": {},
   "outputs": [],
   "source": [
    "from utils import *"
   ]
  },
  {
   "cell_type": "markdown",
   "metadata": {},
   "source": [
    "## Load Annotations"
   ]
  },
  {
   "cell_type": "code",
   "execution_count": 24,
   "metadata": {},
   "outputs": [],
   "source": [
    "path = Path(\"Results/EIPH/\")\n",
    "files = glob(str(path)+\"/*/Participants/*.txt\")\n",
    "gt_path = str(path)+\"/FirstRound/GT/ground truth.txt\"\n",
    "\n",
    "users_first_round = {}\n",
    "users_second_round = {}\n",
    "\n",
    "ground_truth = Expert(\"GT\", BBType.GroundTruth, DatasetType.EIPH_Exact, ProjectType.GroundTruth)\n",
    "ground_truth.add_file(gt_path)\n",
    "\n",
    "deleted_path = str(path)+\"/FirstRound/GT/deleted.txt\"\n",
    "changed_path = str(path)+\"/FirstRound/GT/changed.txt\"\n",
    "nms_path = str(path)+\"/FirstRound/GT/nms.txt\"\n",
    "\n",
    "\n",
    "deleted_eiph = Expert(\"deleted\", BBType.GroundTruth, DatasetType.EIPH_Exact, ProjectType.GroundTruth)\n",
    "deleted_eiph.add_file(deleted_path)\n",
    "\n",
    "changed_eiph = Expert(\"changed\", BBType.GroundTruth, DatasetType.EIPH_Exact, ProjectType.GroundTruth)\n",
    "changed_eiph.add_file(changed_path)\n",
    "\n",
    "nms_eiph = Expert(\"changed\", BBType.GroundTruth, DatasetType.EIPH_Exact, ProjectType.GroundTruth)\n",
    "nms_eiph.add_file(nms_path)\n",
    "\n",
    "for file_name in files:\n",
    "    participant = \"Expert_\" + Path(file_name).stem.split(\"_\")[-1]\n",
    "    \n",
    "    if \"FirstRound\" in file_name:\n",
    "        expert = Expert(participant, BBType.Detected, DatasetType.EIPH_Exact, ProjectType.Annotation)\n",
    "        expert.add_file(file_name)\n",
    "        \n",
    "        users_first_round[expert.expert] = expert\n",
    "    else:\n",
    "        expert = Expert(participant, BBType.Detected, DatasetType.EIPH_Exact, ProjectType.ExpertAlgorithm)\n",
    "        expert.add_file(file_name)\n",
    "        \n",
    "        users_second_round[expert.expert] = expert"
   ]
  },
  {
   "cell_type": "code",
   "execution_count": 25,
   "metadata": {},
   "outputs": [
    {
     "data": {
      "text/plain": [
       "GT:  Annos: 237 Seconds: 0.0 Type: EIPH_Exact Project: GroundTruth"
      ]
     },
     "execution_count": 25,
     "metadata": {},
     "output_type": "execute_result"
    }
   ],
   "source": [
    "ground_truth"
   ]
  },
  {
   "cell_type": "markdown",
   "metadata": {},
   "source": [
    "## Statistics"
   ]
  },
  {
   "cell_type": "code",
   "execution_count": 26,
   "metadata": {},
   "outputs": [
    {
     "name": "stdout",
     "output_type": "stream",
     "text": [
      "First Round\n",
      "Expert_8:  Annos: 220 Seconds: 57.25 Type: EIPH_Exact Project: Annotation mIoU: 0.4726323367046443\n",
      "Expert_9:  Annos: 232 Seconds: 68.55 Type: EIPH_Exact Project: Annotation mIoU: 0.4784520856740563\n",
      "Expert_10:  Annos: 180 Seconds: 55.9 Type: EIPH_Exact Project: Annotation mIoU: 0.458651975765022\n",
      "Expert_1:  Annos: 213 Seconds: 29.75 Type: EIPH_Exact Project: Annotation mIoU: 0.4010948335671599\n",
      "Expert_2:  Annos: 236 Seconds: 99.55 Type: EIPH_Exact Project: Annotation mIoU: 0.5981276645470117\n",
      "Expert_3:  Annos: 190 Seconds: 36.0 Type: EIPH_Exact Project: Annotation mIoU: 0.5147334479279967\n",
      "Expert_4:  Annos: 199 Seconds: 43.75 Type: EIPH_Exact Project: Annotation mIoU: 0.5335422857216442\n",
      "Expert_5:  Annos: 212 Seconds: 34.25 Type: EIPH_Exact Project: Annotation mIoU: 0.42720048144293327\n",
      "Expert_6:  Annos: 197 Seconds: 29.8 Type: EIPH_Exact Project: Annotation mIoU: 0.3879706578366469\n",
      "Expert_7:  Annos: 182 Seconds: 56.9 Type: EIPH_Exact Project: Annotation mIoU: 0.4483804825988937\n",
      "\n",
      "Second Round\n",
      "Expert_8:  Annos: 234 Seconds: 31.2 Type: EIPH_Exact Project: ExpertAlgorithm mIoU: 0.6674284086122448\n",
      "Expert_9:  Annos: 241 Seconds: 48.7 Type: EIPH_Exact Project: ExpertAlgorithm mIoU: 0.7492108946242648\n",
      "Expert_10:  Annos: 229 Seconds: 19.15 Type: EIPH_Exact Project: ExpertAlgorithm mIoU: 0.6387815356168589\n",
      "Expert_1:  Annos: 239 Seconds: 30.85 Type: EIPH_Exact Project: ExpertAlgorithm mIoU: 0.5419339367414467\n",
      "Expert_2:  Annos: 235 Seconds: 30.6 Type: EIPH_Exact Project: ExpertAlgorithm mIoU: 0.7833784103784474\n",
      "Expert_3:  Annos: 189 Seconds: 48.35 Type: EIPH_Exact Project: ExpertAlgorithm mIoU: 0.5886928116514534\n",
      "Expert_4:  Annos: 230 Seconds: 76.0 Type: EIPH_Exact Project: ExpertAlgorithm mIoU: 0.5813291875861182\n",
      "Expert_5:  Annos: 239 Seconds: 0.1 Type: EIPH_Exact Project: ExpertAlgorithm mIoU: 0.6381530202608661\n",
      "Expert_6:  Annos: 231 Seconds: 27.3 Type: EIPH_Exact Project: ExpertAlgorithm mIoU: 0.5306687270057022\n",
      "Expert_7:  Annos: 214 Seconds: 44.15 Type: EIPH_Exact Project: ExpertAlgorithm mIoU: 0.5999703109819663\n"
     ]
    }
   ],
   "source": [
    "print(\"First Round\")\n",
    "for user in users_first_round.values():\n",
    "    print(str(user) + \" mIoU: {}\".format(user.calc_MIoU(ground_truth)))\n",
    "    \n",
    "print(\"\\nSecond Round\")    \n",
    "for user in users_second_round.values():\n",
    "    print(str(user) + \" mIoU: {}\".format(user.calc_MIoU(ground_truth)))"
   ]
  },
  {
   "cell_type": "code",
   "execution_count": 27,
   "metadata": {},
   "outputs": [
    {
     "data": {
      "text/plain": [
       "{'Expert_1',\n",
       " 'Expert_10',\n",
       " 'Expert_2',\n",
       " 'Expert_3',\n",
       " 'Expert_4',\n",
       " 'Expert_5',\n",
       " 'Expert_6',\n",
       " 'Expert_7',\n",
       " 'Expert_8',\n",
       " 'Expert_9'}"
      ]
     },
     "execution_count": 27,
     "metadata": {},
     "output_type": "execute_result"
    }
   ],
   "source": [
    "expert_names = set([expert for expert in users_first_round] + [expert for expert in users_second_round])\n",
    "expert_names"
   ]
  },
  {
   "cell_type": "code",
   "execution_count": 28,
   "metadata": {},
   "outputs": [
    {
     "name": "stderr",
     "output_type": "stream",
     "text": [
      "D:\\ProgProjekte\\Python\\Object-Detection-Metrics\\lib\\Evaluator.py:126: RuntimeWarning: invalid value encountered in true_divide\n",
      "  rec = acc_TP / npos\n"
     ]
    }
   ],
   "source": [
    "metrics_changed = []\n",
    "metrics_deleted = []\n",
    "metrics_nms = []\n",
    "\n",
    "for expert_name in expert_names:\n",
    "    \n",
    "    first_round_expert = users_first_round[expert_name]\n",
    "    second_round_expert = users_second_round[expert_name] if expert_name in users_second_round else None\n",
    "    \n",
    "    total_changed_cells = 0\n",
    "    total_deleted_cells = 0\n",
    "    total_nms_cells = 0\n",
    "    \n",
    "    first_round_changed_cells = 0\n",
    "    first_round_deleted_cells = 0\n",
    "    first_round_nms_cells = 0\n",
    "    \n",
    "    second_round_changed_cells = 0\n",
    "    second_round_deleted_cells = 0\n",
    "    second_round_nms_cells = 0\n",
    "    \n",
    "    if first_round_expert:\n",
    "        for metric in first_round_expert.calc_metrics(changed_eiph):\n",
    "            total_changed_cells += int(metric['total positives'])\n",
    "            first_round_changed_cells += int(metric['total TP'])\n",
    "            \n",
    "        for metric in first_round_expert.calc_metrics(deleted_eiph):\n",
    "            total_deleted_cells += int(metric['total positives'])\n",
    "            first_round_deleted_cells += int(metric['total TP'])\n",
    "    \n",
    "        for metric in user.calc_metrics(nms_eiph):\n",
    "            total_nms_cells += int(metric['total positives'])\n",
    "            first_round_nms_cells += int(metric['total TP'])\n",
    "            \n",
    "    if second_round_expert:\n",
    "        for metric in second_round_expert.calc_metrics(changed_eiph):\n",
    "            second_round_changed_cells += int(metric['total TP'])\n",
    "            \n",
    "        for metric in second_round_expert.calc_metrics(deleted_eiph):\n",
    "            second_round_deleted_cells += int(metric['total TP'])\n",
    "            \n",
    "        for metric in second_round_expert.calc_metrics(nms_eiph):\n",
    "            second_round_nms_cells += int(metric['total TP'])\n",
    "            \n",
    "    metrics_changed.append([expert_name, total_changed_cells, first_round_changed_cells, second_round_changed_cells])\n",
    "    metrics_deleted.append([expert_name, total_deleted_cells, first_round_deleted_cells, second_round_deleted_cells])\n",
    "    metrics_nms.append([expert_name, total_nms_cells, first_round_nms_cells, second_round_nms_cells])\n",
    "\n",
    "#metrics_changed.append([\"Total\"] + [sum([row[i] for row in metrics_changed]) for i in range(1, 4)])\n",
    "#metrics_deleted.append([\"Total\"] + [sum([row[i] for row in metrics_deleted]) for i in range(1, 4)])\n",
    "#metrics_nms.append([\"Total\"] + [sum([row[i] for row in metrics_nms]) for i in range(1, 4)])\n",
    "\n",
    "metrics_changed = pd.DataFrame(metrics_changed, columns=['Name','Total Changed', \"Annotation\", \"ExpertAlgorithm\"])\n",
    "\n",
    "metrics_deleted = pd.DataFrame(metrics_deleted, columns=['Name',\"Total Deleted\", \"Annotation\", \"ExpertAlgorithm\"])\n",
    "\n",
    "metrics_nms = pd.DataFrame(metrics_nms, columns=['Name', \"Total NMS\", \"Annotation\", \"ExpertAlgorithm\"])"
   ]
  },
  {
   "cell_type": "markdown",
   "metadata": {},
   "source": [
    "### Changed Cells"
   ]
  },
  {
   "cell_type": "code",
   "execution_count": 29,
   "metadata": {},
   "outputs": [
    {
     "data": {
      "text/html": [
       "<div>\n",
       "<style scoped>\n",
       "    .dataframe tbody tr th:only-of-type {\n",
       "        vertical-align: middle;\n",
       "    }\n",
       "\n",
       "    .dataframe tbody tr th {\n",
       "        vertical-align: top;\n",
       "    }\n",
       "\n",
       "    .dataframe thead th {\n",
       "        text-align: right;\n",
       "    }\n",
       "</style>\n",
       "<table border=\"1\" class=\"dataframe\">\n",
       "  <thead>\n",
       "    <tr style=\"text-align: right;\">\n",
       "      <th></th>\n",
       "      <th>Name</th>\n",
       "      <th>Total Changed</th>\n",
       "      <th>Annotation</th>\n",
       "      <th>ExpertAlgorithm</th>\n",
       "    </tr>\n",
       "  </thead>\n",
       "  <tbody>\n",
       "    <tr>\n",
       "      <th>0</th>\n",
       "      <td>Expert_6</td>\n",
       "      <td>60</td>\n",
       "      <td>22</td>\n",
       "      <td>28</td>\n",
       "    </tr>\n",
       "    <tr>\n",
       "      <th>1</th>\n",
       "      <td>Expert_8</td>\n",
       "      <td>60</td>\n",
       "      <td>42</td>\n",
       "      <td>43</td>\n",
       "    </tr>\n",
       "    <tr>\n",
       "      <th>2</th>\n",
       "      <td>Expert_9</td>\n",
       "      <td>60</td>\n",
       "      <td>34</td>\n",
       "      <td>39</td>\n",
       "    </tr>\n",
       "    <tr>\n",
       "      <th>3</th>\n",
       "      <td>Expert_10</td>\n",
       "      <td>60</td>\n",
       "      <td>37</td>\n",
       "      <td>36</td>\n",
       "    </tr>\n",
       "    <tr>\n",
       "      <th>4</th>\n",
       "      <td>Expert_4</td>\n",
       "      <td>60</td>\n",
       "      <td>41</td>\n",
       "      <td>39</td>\n",
       "    </tr>\n",
       "    <tr>\n",
       "      <th>5</th>\n",
       "      <td>Expert_5</td>\n",
       "      <td>60</td>\n",
       "      <td>34</td>\n",
       "      <td>7</td>\n",
       "    </tr>\n",
       "    <tr>\n",
       "      <th>6</th>\n",
       "      <td>Expert_3</td>\n",
       "      <td>60</td>\n",
       "      <td>39</td>\n",
       "      <td>43</td>\n",
       "    </tr>\n",
       "    <tr>\n",
       "      <th>7</th>\n",
       "      <td>Expert_2</td>\n",
       "      <td>60</td>\n",
       "      <td>44</td>\n",
       "      <td>49</td>\n",
       "    </tr>\n",
       "    <tr>\n",
       "      <th>8</th>\n",
       "      <td>Expert_7</td>\n",
       "      <td>60</td>\n",
       "      <td>35</td>\n",
       "      <td>29</td>\n",
       "    </tr>\n",
       "    <tr>\n",
       "      <th>9</th>\n",
       "      <td>Expert_1</td>\n",
       "      <td>60</td>\n",
       "      <td>31</td>\n",
       "      <td>31</td>\n",
       "    </tr>\n",
       "  </tbody>\n",
       "</table>\n",
       "</div>"
      ],
      "text/plain": [
       "        Name  Total Changed  Annotation  ExpertAlgorithm\n",
       "0   Expert_6             60          22               28\n",
       "1   Expert_8             60          42               43\n",
       "2   Expert_9             60          34               39\n",
       "3  Expert_10             60          37               36\n",
       "4   Expert_4             60          41               39\n",
       "5   Expert_5             60          34                7\n",
       "6   Expert_3             60          39               43\n",
       "7   Expert_2             60          44               49\n",
       "8   Expert_7             60          35               29\n",
       "9   Expert_1             60          31               31"
      ]
     },
     "execution_count": 29,
     "metadata": {},
     "output_type": "execute_result"
    }
   ],
   "source": [
    "metrics_changed"
   ]
  },
  {
   "cell_type": "code",
   "execution_count": 30,
   "metadata": {},
   "outputs": [
    {
     "name": "stdout",
     "output_type": "stream",
     "text": [
      "Annotation: 59.833333333333336%\n"
     ]
    }
   ],
   "source": [
    "print(\"Annotation: {0}%\".format(((np.sum(metrics_changed['Annotation']) / (np.mean(metrics_changed['Total Changed']) * len(users_first_round))) * 100)))"
   ]
  },
  {
   "cell_type": "code",
   "execution_count": 31,
   "metadata": {},
   "outputs": [
    {
     "name": "stdout",
     "output_type": "stream",
     "text": [
      "ExpertAlgorithm: 57.333333333333336%\n"
     ]
    }
   ],
   "source": [
    "print(\"ExpertAlgorithm: {0}%\".format(((np.sum(metrics_changed['ExpertAlgorithm']) / (np.mean(metrics_changed['Total Changed']) * len(users_second_round))) * 100)))"
   ]
  },
  {
   "cell_type": "markdown",
   "metadata": {},
   "source": [
    "### Deleted Cells"
   ]
  },
  {
   "cell_type": "code",
   "execution_count": 32,
   "metadata": {},
   "outputs": [
    {
     "data": {
      "text/html": [
       "<div>\n",
       "<style scoped>\n",
       "    .dataframe tbody tr th:only-of-type {\n",
       "        vertical-align: middle;\n",
       "    }\n",
       "\n",
       "    .dataframe tbody tr th {\n",
       "        vertical-align: top;\n",
       "    }\n",
       "\n",
       "    .dataframe thead th {\n",
       "        text-align: right;\n",
       "    }\n",
       "</style>\n",
       "<table border=\"1\" class=\"dataframe\">\n",
       "  <thead>\n",
       "    <tr style=\"text-align: right;\">\n",
       "      <th></th>\n",
       "      <th>Name</th>\n",
       "      <th>Total Deleted</th>\n",
       "      <th>Annotation</th>\n",
       "      <th>ExpertAlgorithm</th>\n",
       "    </tr>\n",
       "  </thead>\n",
       "  <tbody>\n",
       "    <tr>\n",
       "      <th>0</th>\n",
       "      <td>Expert_6</td>\n",
       "      <td>5</td>\n",
       "      <td>1</td>\n",
       "      <td>0</td>\n",
       "    </tr>\n",
       "    <tr>\n",
       "      <th>1</th>\n",
       "      <td>Expert_8</td>\n",
       "      <td>5</td>\n",
       "      <td>2</td>\n",
       "      <td>0</td>\n",
       "    </tr>\n",
       "    <tr>\n",
       "      <th>2</th>\n",
       "      <td>Expert_9</td>\n",
       "      <td>5</td>\n",
       "      <td>1</td>\n",
       "      <td>1</td>\n",
       "    </tr>\n",
       "    <tr>\n",
       "      <th>3</th>\n",
       "      <td>Expert_10</td>\n",
       "      <td>5</td>\n",
       "      <td>1</td>\n",
       "      <td>0</td>\n",
       "    </tr>\n",
       "    <tr>\n",
       "      <th>4</th>\n",
       "      <td>Expert_4</td>\n",
       "      <td>5</td>\n",
       "      <td>2</td>\n",
       "      <td>2</td>\n",
       "    </tr>\n",
       "    <tr>\n",
       "      <th>5</th>\n",
       "      <td>Expert_5</td>\n",
       "      <td>5</td>\n",
       "      <td>0</td>\n",
       "      <td>0</td>\n",
       "    </tr>\n",
       "    <tr>\n",
       "      <th>6</th>\n",
       "      <td>Expert_3</td>\n",
       "      <td>5</td>\n",
       "      <td>0</td>\n",
       "      <td>0</td>\n",
       "    </tr>\n",
       "    <tr>\n",
       "      <th>7</th>\n",
       "      <td>Expert_2</td>\n",
       "      <td>5</td>\n",
       "      <td>3</td>\n",
       "      <td>2</td>\n",
       "    </tr>\n",
       "    <tr>\n",
       "      <th>8</th>\n",
       "      <td>Expert_7</td>\n",
       "      <td>5</td>\n",
       "      <td>4</td>\n",
       "      <td>0</td>\n",
       "    </tr>\n",
       "    <tr>\n",
       "      <th>9</th>\n",
       "      <td>Expert_1</td>\n",
       "      <td>5</td>\n",
       "      <td>0</td>\n",
       "      <td>0</td>\n",
       "    </tr>\n",
       "  </tbody>\n",
       "</table>\n",
       "</div>"
      ],
      "text/plain": [
       "        Name  Total Deleted  Annotation  ExpertAlgorithm\n",
       "0   Expert_6              5           1                0\n",
       "1   Expert_8              5           2                0\n",
       "2   Expert_9              5           1                1\n",
       "3  Expert_10              5           1                0\n",
       "4   Expert_4              5           2                2\n",
       "5   Expert_5              5           0                0\n",
       "6   Expert_3              5           0                0\n",
       "7   Expert_2              5           3                2\n",
       "8   Expert_7              5           4                0\n",
       "9   Expert_1              5           0                0"
      ]
     },
     "execution_count": 32,
     "metadata": {},
     "output_type": "execute_result"
    }
   ],
   "source": [
    "metrics_deleted"
   ]
  },
  {
   "cell_type": "code",
   "execution_count": 33,
   "metadata": {},
   "outputs": [
    {
     "name": "stdout",
     "output_type": "stream",
     "text": [
      "Annotation: 28.000000000000004%\n"
     ]
    }
   ],
   "source": [
    "print(\"Annotation: {0}%\".format(((np.sum(metrics_deleted['Annotation']) / (np.mean(metrics_deleted['Total Deleted']) * len(users_first_round))) * 100)))"
   ]
  },
  {
   "cell_type": "code",
   "execution_count": 34,
   "metadata": {},
   "outputs": [
    {
     "name": "stdout",
     "output_type": "stream",
     "text": [
      "ExpertAlgorithm: 10.0%\n"
     ]
    }
   ],
   "source": [
    "print(\"ExpertAlgorithm: {0}%\".format(((np.sum(metrics_deleted['ExpertAlgorithm']) / (np.mean(metrics_deleted['Total Deleted']) * len(users_second_round))) * 100)))"
   ]
  },
  {
   "cell_type": "markdown",
   "metadata": {},
   "source": [
    "### NMS Cells"
   ]
  },
  {
   "cell_type": "code",
   "execution_count": 35,
   "metadata": {},
   "outputs": [
    {
     "data": {
      "text/html": [
       "<div>\n",
       "<style scoped>\n",
       "    .dataframe tbody tr th:only-of-type {\n",
       "        vertical-align: middle;\n",
       "    }\n",
       "\n",
       "    .dataframe tbody tr th {\n",
       "        vertical-align: top;\n",
       "    }\n",
       "\n",
       "    .dataframe thead th {\n",
       "        text-align: right;\n",
       "    }\n",
       "</style>\n",
       "<table border=\"1\" class=\"dataframe\">\n",
       "  <thead>\n",
       "    <tr style=\"text-align: right;\">\n",
       "      <th></th>\n",
       "      <th>Name</th>\n",
       "      <th>Total NMS</th>\n",
       "      <th>Annotation</th>\n",
       "      <th>ExpertAlgorithm</th>\n",
       "    </tr>\n",
       "  </thead>\n",
       "  <tbody>\n",
       "    <tr>\n",
       "      <th>0</th>\n",
       "      <td>Expert_6</td>\n",
       "      <td>10</td>\n",
       "      <td>2</td>\n",
       "      <td>6</td>\n",
       "    </tr>\n",
       "    <tr>\n",
       "      <th>1</th>\n",
       "      <td>Expert_8</td>\n",
       "      <td>10</td>\n",
       "      <td>2</td>\n",
       "      <td>5</td>\n",
       "    </tr>\n",
       "    <tr>\n",
       "      <th>2</th>\n",
       "      <td>Expert_9</td>\n",
       "      <td>10</td>\n",
       "      <td>2</td>\n",
       "      <td>8</td>\n",
       "    </tr>\n",
       "    <tr>\n",
       "      <th>3</th>\n",
       "      <td>Expert_10</td>\n",
       "      <td>10</td>\n",
       "      <td>2</td>\n",
       "      <td>5</td>\n",
       "    </tr>\n",
       "    <tr>\n",
       "      <th>4</th>\n",
       "      <td>Expert_4</td>\n",
       "      <td>10</td>\n",
       "      <td>2</td>\n",
       "      <td>4</td>\n",
       "    </tr>\n",
       "    <tr>\n",
       "      <th>5</th>\n",
       "      <td>Expert_5</td>\n",
       "      <td>10</td>\n",
       "      <td>2</td>\n",
       "      <td>10</td>\n",
       "    </tr>\n",
       "    <tr>\n",
       "      <th>6</th>\n",
       "      <td>Expert_3</td>\n",
       "      <td>10</td>\n",
       "      <td>2</td>\n",
       "      <td>1</td>\n",
       "    </tr>\n",
       "    <tr>\n",
       "      <th>7</th>\n",
       "      <td>Expert_2</td>\n",
       "      <td>10</td>\n",
       "      <td>2</td>\n",
       "      <td>5</td>\n",
       "    </tr>\n",
       "    <tr>\n",
       "      <th>8</th>\n",
       "      <td>Expert_7</td>\n",
       "      <td>10</td>\n",
       "      <td>2</td>\n",
       "      <td>2</td>\n",
       "    </tr>\n",
       "    <tr>\n",
       "      <th>9</th>\n",
       "      <td>Expert_1</td>\n",
       "      <td>10</td>\n",
       "      <td>2</td>\n",
       "      <td>8</td>\n",
       "    </tr>\n",
       "  </tbody>\n",
       "</table>\n",
       "</div>"
      ],
      "text/plain": [
       "        Name  Total NMS  Annotation  ExpertAlgorithm\n",
       "0   Expert_6         10           2                6\n",
       "1   Expert_8         10           2                5\n",
       "2   Expert_9         10           2                8\n",
       "3  Expert_10         10           2                5\n",
       "4   Expert_4         10           2                4\n",
       "5   Expert_5         10           2               10\n",
       "6   Expert_3         10           2                1\n",
       "7   Expert_2         10           2                5\n",
       "8   Expert_7         10           2                2\n",
       "9   Expert_1         10           2                8"
      ]
     },
     "execution_count": 35,
     "metadata": {},
     "output_type": "execute_result"
    }
   ],
   "source": [
    "metrics_nms"
   ]
  },
  {
   "cell_type": "code",
   "execution_count": 36,
   "metadata": {},
   "outputs": [
    {
     "name": "stdout",
     "output_type": "stream",
     "text": [
      "Annotation: 20.0%\n"
     ]
    }
   ],
   "source": [
    "print(\"Annotation: {0}%\".format(((np.sum(metrics_nms['Annotation']) / (np.mean(metrics_nms['Total NMS']) * len(users_first_round))) * 100)))"
   ]
  },
  {
   "cell_type": "code",
   "execution_count": 37,
   "metadata": {},
   "outputs": [
    {
     "name": "stdout",
     "output_type": "stream",
     "text": [
      "ExpertAlgorithm: 54.0%\n"
     ]
    }
   ],
   "source": [
    "print(\"ExpertAlgorithm: {0}%\".format(((np.sum(metrics_nms['ExpertAlgorithm']) / (np.mean(metrics_nms['Total NMS']) * len(users_second_round))) * 100)))"
   ]
  },
  {
   "cell_type": "code",
   "execution_count": null,
   "metadata": {},
   "outputs": [],
   "source": []
  }
 ],
 "metadata": {
  "kernelspec": {
   "display_name": "Python 3",
   "language": "python",
   "name": "python3"
  },
  "language_info": {
   "codemirror_mode": {
    "name": "ipython",
    "version": 3
   },
   "file_extension": ".py",
   "mimetype": "text/x-python",
   "name": "python",
   "nbconvert_exporter": "python",
   "pygments_lexer": "ipython3",
   "version": "3.6.7"
  },
  "toc-autonumbering": true,
  "toc-showmarkdowntxt": false,
  "toc-showtags": false
 },
 "nbformat": 4,
 "nbformat_minor": 4
}
