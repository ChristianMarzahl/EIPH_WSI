{
 "cells": [
  {
   "cell_type": "code",
   "execution_count": 1,
   "metadata": {},
   "outputs": [],
   "source": [
    "%reload_ext autoreload\n",
    "%autoreload 2\n",
    "%matplotlib inline"
   ]
  },
  {
   "cell_type": "code",
   "execution_count": 2,
   "metadata": {},
   "outputs": [],
   "source": [
    "import numpy as np\n",
    "from glob import glob\n",
    "from pathlib import Path\n",
    "import matplotlib.pyplot as plt\n",
    "import pandas as pd \n",
    "import seaborn as sns\n",
    "import matplotlib"
   ]
  },
  {
   "cell_type": "code",
   "execution_count": 3,
   "metadata": {},
   "outputs": [],
   "source": [
    "from sklearn.metrics import accuracy_score, cohen_kappa_score"
   ]
  },
  {
   "cell_type": "code",
   "execution_count": 7,
   "metadata": {},
   "outputs": [],
   "source": [
    "path = Path(\"/data/Datasets/EIPH_WSI/HumanExpert/Predictions/\")\n",
    "gt_path = Path(\"/data/Datasets/EIPH_WSI/HumanExpert/GT/\")"
   ]
  },
  {
   "cell_type": "code",
   "execution_count": 8,
   "metadata": {},
   "outputs": [],
   "source": [
    "file_to_id = {}\n",
    "id = 0\n",
    "\n",
    "gt = []\n",
    "for file in glob(str(gt_path/'*/*.bmp')):\n",
    "    file = Path(file)\n",
    "\n",
    "    label = int(file.parent.stem)\n",
    "    gt.append(label)\n",
    "\n",
    "    file_to_id[file.stem] = id\n",
    "    id += 1\n",
    "\n",
    "gt = np.array(gt)"
   ]
  },
  {
   "cell_type": "code",
   "execution_count": 9,
   "metadata": {},
   "outputs": [],
   "source": [
    "results_vo = {}\n",
    "results_v1 = {}\n",
    "\n",
    "for file in glob(str(path/'*')):\n",
    "    file = Path(file)\n",
    "    reviewer = file.name\n",
    "    \n",
    "    results_vo[reviewer] = np.zeros_like(gt)\n",
    "    results_v1[reviewer] = np.zeros_like(gt)\n",
    "\n",
    "    for cell_path in glob(str(file/'v0/*/*.bmp')):\n",
    "        cell_path = Path(cell_path)\n",
    "\n",
    "        id = file_to_id[cell_path.stem]\n",
    "        results_vo[file.stem][id] = int(cell_path.parent.stem)\n",
    "        \n",
    "    for cell_path in glob(str(file/'v1/*/*.bmp')):\n",
    "        cell_path = Path(cell_path)\n",
    "\n",
    "        id = file_to_id[cell_path.stem]\n",
    "        results_v1[file.stem][id] = int(cell_path.parent.stem)"
   ]
  },
  {
   "cell_type": "markdown",
   "metadata": {},
   "source": [
    "### ACC"
   ]
  },
  {
   "cell_type": "code",
   "execution_count": 10,
   "metadata": {},
   "outputs": [
    {
     "data": {
      "text/plain": [
       "1.4775"
      ]
     },
     "execution_count": 10,
     "metadata": {},
     "output_type": "execute_result"
    }
   ],
   "source": [
    "regression_gt = np.mean(gt)\n",
    "regression_gt"
   ]
  },
  {
   "cell_type": "code",
   "execution_count": 11,
   "metadata": {},
   "outputs": [
    {
     "data": {
      "text/plain": [
       "[['DL_Regression', 0.847, 0.847, 1.0],\n",
       " ['DL_Classification', 0.848, 0.848, 1.0],\n",
       " ['Jabari_Samir', 0.7865, 0.273, 0.0],\n",
       " ['Svenja', 0.6855, 0.273, 0.0],\n",
       " ['JensK', 0.7335, 0.273, 0.0]]"
      ]
     },
     "execution_count": 11,
     "metadata": {},
     "output_type": "execute_result"
    }
   ],
   "source": [
    "data_acc = []\n",
    "data_regression = []\n",
    "\n",
    "for reviewer in results_vo:\n",
    "    prediction_vo = results_vo[reviewer]\n",
    "    prediction_v1 = results_v1[reviewer]\n",
    "    \n",
    "    score_v0 = np.mean(prediction_vo) - regression_gt\n",
    "    score_v1 = np.mean(prediction_v1) - regression_gt\n",
    "    \n",
    "    data_acc.append([reviewer, accuracy_score(gt, prediction_vo), accuracy_score(gt, prediction_v1), cohen_kappa_score(prediction_vo, prediction_v1)])\n",
    "    data_regression.append([reviewer, score_v0, score_v1])\n",
    "    \n",
    " \n",
    "data_acc"
   ]
  },
  {
   "cell_type": "code",
   "execution_count": 12,
   "metadata": {},
   "outputs": [
    {
     "data": {
      "text/html": [
       "<div>\n",
       "<style scoped>\n",
       "    .dataframe tbody tr th:only-of-type {\n",
       "        vertical-align: middle;\n",
       "    }\n",
       "\n",
       "    .dataframe tbody tr th {\n",
       "        vertical-align: top;\n",
       "    }\n",
       "\n",
       "    .dataframe thead th {\n",
       "        text-align: right;\n",
       "    }\n",
       "</style>\n",
       "<table border=\"1\" class=\"dataframe\">\n",
       "  <thead>\n",
       "    <tr style=\"text-align: right;\">\n",
       "      <th></th>\n",
       "      <th>Name</th>\n",
       "      <th>V0</th>\n",
       "      <th>V1</th>\n",
       "      <th>Kappa</th>\n",
       "    </tr>\n",
       "  </thead>\n",
       "  <tbody>\n",
       "    <tr>\n",
       "      <th>0</th>\n",
       "      <td>DL_Regression</td>\n",
       "      <td>0.8470</td>\n",
       "      <td>0.847</td>\n",
       "      <td>1.0</td>\n",
       "    </tr>\n",
       "    <tr>\n",
       "      <th>1</th>\n",
       "      <td>DL_Classification</td>\n",
       "      <td>0.8480</td>\n",
       "      <td>0.848</td>\n",
       "      <td>1.0</td>\n",
       "    </tr>\n",
       "    <tr>\n",
       "      <th>2</th>\n",
       "      <td>Jabari_Samir</td>\n",
       "      <td>0.7865</td>\n",
       "      <td>0.273</td>\n",
       "      <td>0.0</td>\n",
       "    </tr>\n",
       "    <tr>\n",
       "      <th>3</th>\n",
       "      <td>Svenja</td>\n",
       "      <td>0.6855</td>\n",
       "      <td>0.273</td>\n",
       "      <td>0.0</td>\n",
       "    </tr>\n",
       "    <tr>\n",
       "      <th>4</th>\n",
       "      <td>JensK</td>\n",
       "      <td>0.7335</td>\n",
       "      <td>0.273</td>\n",
       "      <td>0.0</td>\n",
       "    </tr>\n",
       "  </tbody>\n",
       "</table>\n",
       "</div>"
      ],
      "text/plain": [
       "                Name      V0     V1  Kappa\n",
       "0      DL_Regression  0.8470  0.847    1.0\n",
       "1  DL_Classification  0.8480  0.848    1.0\n",
       "2       Jabari_Samir  0.7865  0.273    0.0\n",
       "3             Svenja  0.6855  0.273    0.0\n",
       "4              JensK  0.7335  0.273    0.0"
      ]
     },
     "execution_count": 12,
     "metadata": {},
     "output_type": "execute_result"
    }
   ],
   "source": [
    "df_acc = pd.DataFrame(data_acc, columns = ['Name', 'V0', 'V1', 'Kappa']) \n",
    "df_reg = pd.DataFrame(data_regression, columns = ['Name', 'V0', 'V1']) \n",
    "df_acc"
   ]
  },
  {
   "cell_type": "code",
   "execution_count": 13,
   "metadata": {},
   "outputs": [
    {
     "data": {
      "text/html": [
       "<div>\n",
       "<style scoped>\n",
       "    .dataframe tbody tr th:only-of-type {\n",
       "        vertical-align: middle;\n",
       "    }\n",
       "\n",
       "    .dataframe tbody tr th {\n",
       "        vertical-align: top;\n",
       "    }\n",
       "\n",
       "    .dataframe thead th {\n",
       "        text-align: right;\n",
       "    }\n",
       "</style>\n",
       "<table border=\"1\" class=\"dataframe\">\n",
       "  <thead>\n",
       "    <tr style=\"text-align: right;\">\n",
       "      <th></th>\n",
       "      <th>Name</th>\n",
       "      <th>V0</th>\n",
       "      <th>V1</th>\n",
       "    </tr>\n",
       "  </thead>\n",
       "  <tbody>\n",
       "    <tr>\n",
       "      <th>0</th>\n",
       "      <td>DL_Regression</td>\n",
       "      <td>0.028</td>\n",
       "      <td>0.0280</td>\n",
       "    </tr>\n",
       "    <tr>\n",
       "      <th>1</th>\n",
       "      <td>DL_Classification</td>\n",
       "      <td>0.010</td>\n",
       "      <td>0.0100</td>\n",
       "    </tr>\n",
       "    <tr>\n",
       "      <th>2</th>\n",
       "      <td>Jabari_Samir</td>\n",
       "      <td>0.056</td>\n",
       "      <td>-1.4775</td>\n",
       "    </tr>\n",
       "    <tr>\n",
       "      <th>3</th>\n",
       "      <td>Svenja</td>\n",
       "      <td>0.275</td>\n",
       "      <td>-1.4775</td>\n",
       "    </tr>\n",
       "    <tr>\n",
       "      <th>4</th>\n",
       "      <td>JensK</td>\n",
       "      <td>0.205</td>\n",
       "      <td>-1.4775</td>\n",
       "    </tr>\n",
       "  </tbody>\n",
       "</table>\n",
       "</div>"
      ],
      "text/plain": [
       "                Name     V0      V1\n",
       "0      DL_Regression  0.028  0.0280\n",
       "1  DL_Classification  0.010  0.0100\n",
       "2       Jabari_Samir  0.056 -1.4775\n",
       "3             Svenja  0.275 -1.4775\n",
       "4              JensK  0.205 -1.4775"
      ]
     },
     "execution_count": 13,
     "metadata": {},
     "output_type": "execute_result"
    }
   ],
   "source": [
    "df_reg"
   ]
  },
  {
   "cell_type": "code",
   "execution_count": 14,
   "metadata": {},
   "outputs": [
    {
     "data": {
      "text/plain": [
       "[['DL_Regression', 0.847, 0.847, 1.0],\n",
       " ['DL_Classification', 0.848, 0.848, 1.0],\n",
       " ['Jabari_Samir', 0.7865, 0.273, 0.0],\n",
       " ['Svenja', 0.6855, 0.273, 0.0],\n",
       " ['JensK', 0.7335, 0.273, 0.0]]"
      ]
     },
     "execution_count": 14,
     "metadata": {},
     "output_type": "execute_result"
    }
   ],
   "source": [
    "df_acc.values.tolist()"
   ]
  },
  {
   "cell_type": "code",
   "execution_count": 15,
   "metadata": {},
   "outputs": [],
   "source": [
    "symbols = {\"Jabari_Samir\": \"4\",  \n",
    "           \"DL_Regression\": \"<\",\n",
    "           \"DL_Classification\": \">\",\n",
    "           \"Svenja\": 'D',\n",
    "              \"JensK\": 'D',}\n",
    "\n",
    "color = {\"Jabari_Samir\": \"r\",  \n",
    "           \"DL_Regression\": \"b\",\n",
    "           \"DL_Classification\": \"b\",\n",
    "           \"Svenja\": 'm',\n",
    "            \"JensK\": 'm',}\n",
    "\n"
   ]
  },
  {
   "cell_type": "code",
   "execution_count": 16,
   "metadata": {},
   "outputs": [
    {
     "data": {
      "text/html": [
       "<div>\n",
       "<style scoped>\n",
       "    .dataframe tbody tr th:only-of-type {\n",
       "        vertical-align: middle;\n",
       "    }\n",
       "\n",
       "    .dataframe tbody tr th {\n",
       "        vertical-align: top;\n",
       "    }\n",
       "\n",
       "    .dataframe thead th {\n",
       "        text-align: right;\n",
       "    }\n",
       "</style>\n",
       "<table border=\"1\" class=\"dataframe\">\n",
       "  <thead>\n",
       "    <tr style=\"text-align: right;\">\n",
       "      <th></th>\n",
       "      <th>variable</th>\n",
       "      <th>value</th>\n",
       "    </tr>\n",
       "  </thead>\n",
       "  <tbody>\n",
       "    <tr>\n",
       "      <th>0</th>\n",
       "      <td>V0</td>\n",
       "      <td>0.8470</td>\n",
       "    </tr>\n",
       "    <tr>\n",
       "      <th>1</th>\n",
       "      <td>V0</td>\n",
       "      <td>0.8480</td>\n",
       "    </tr>\n",
       "    <tr>\n",
       "      <th>2</th>\n",
       "      <td>V0</td>\n",
       "      <td>0.7865</td>\n",
       "    </tr>\n",
       "    <tr>\n",
       "      <th>3</th>\n",
       "      <td>V0</td>\n",
       "      <td>0.6855</td>\n",
       "    </tr>\n",
       "    <tr>\n",
       "      <th>4</th>\n",
       "      <td>V0</td>\n",
       "      <td>0.7335</td>\n",
       "    </tr>\n",
       "    <tr>\n",
       "      <th>5</th>\n",
       "      <td>V1</td>\n",
       "      <td>0.8470</td>\n",
       "    </tr>\n",
       "    <tr>\n",
       "      <th>6</th>\n",
       "      <td>V1</td>\n",
       "      <td>0.8480</td>\n",
       "    </tr>\n",
       "    <tr>\n",
       "      <th>7</th>\n",
       "      <td>V1</td>\n",
       "      <td>0.2730</td>\n",
       "    </tr>\n",
       "    <tr>\n",
       "      <th>8</th>\n",
       "      <td>V1</td>\n",
       "      <td>0.2730</td>\n",
       "    </tr>\n",
       "    <tr>\n",
       "      <th>9</th>\n",
       "      <td>V1</td>\n",
       "      <td>0.2730</td>\n",
       "    </tr>\n",
       "  </tbody>\n",
       "</table>\n",
       "</div>"
      ],
      "text/plain": [
       "  variable   value\n",
       "0       V0  0.8470\n",
       "1       V0  0.8480\n",
       "2       V0  0.7865\n",
       "3       V0  0.6855\n",
       "4       V0  0.7335\n",
       "5       V1  0.8470\n",
       "6       V1  0.8480\n",
       "7       V1  0.2730\n",
       "8       V1  0.2730\n",
       "9       V1  0.2730"
      ]
     },
     "execution_count": 16,
     "metadata": {},
     "output_type": "execute_result"
    }
   ],
   "source": [
    "temp_data = pd.melt(df_acc[['V0', 'V1']])\n",
    "temp_data = temp_data.astype({\"value\": float, \"variable\": str})\n",
    "temp_data"
   ]
  },
  {
   "cell_type": "code",
   "execution_count": 17,
   "metadata": {},
   "outputs": [
    {
     "name": "stderr",
     "output_type": "stream",
     "text": [
      "/home/c.marzahl@de.eu.local/anaconda3/lib/python3.6/site-packages/matplotlib/font_manager.py:1320: UserWarning: findfont: Font family ['Times New Roman'] not found. Falling back to DejaVu Sans\n",
      "  (prop.get_family(), self.defaultFamily[fontext]))\n"
     ]
    },
    {
     "data": {
      "image/png": "[encoded data removed]",
      "text/plain": [
       "<matplotlib.figure.Figure at 0x7efd6295d6a0>"
      ]
     },
     "metadata": {},
     "output_type": "display_data"
    }
   ],
   "source": [
    "plt.rcParams[\"font.family\"] = \"Times New Roman\"\n",
    "\n",
    "f, ax = plt.subplots(figsize=(3, 5))\n",
    "\n",
    "temp_data = pd.melt(df_acc[['V0']]) #, 'V1'\n",
    "ax = sns.boxplot(x=\"variable\", y=\"value\", data=temp_data, width=.3)\n",
    "\n",
    "for index, row in enumerate(df_acc.values.tolist()):\n",
    "    name = row[0]\n",
    "    acc_0 = row[1]\n",
    "    acc_1 = row[2]\n",
    "    \n",
    "    plt.scatter(x=0, y=acc_0,marker=symbols[name], label=name, s=100, c=color[name])\n",
    "    plt.scatter(x=1, y=acc_1,marker=symbols[name], s=100, c=color[name])\n",
    "\n",
    "\n",
    "#ax.xaxis.grid(True)\n",
    "#ax.yaxis.grid(True)\n",
    "ax.legend(bbox_to_anchor=(1.05, 0.8), prop={'size': 15}, frameon=False)\n",
    "\n",
    "ax.set(ylabel=\"Accuracy\", xlabel=\"Trail\")\n",
    "sns.despine(left=True)\n",
    "\n",
    "plt.savefig(\"AccuracyExperts.pdf\", transparent=True)"
   ]
  },
  {
   "cell_type": "code",
   "execution_count": 18,
   "metadata": {},
   "outputs": [
    {
     "data": {
      "text/html": [
       "<div>\n",
       "<style scoped>\n",
       "    .dataframe tbody tr th:only-of-type {\n",
       "        vertical-align: middle;\n",
       "    }\n",
       "\n",
       "    .dataframe tbody tr th {\n",
       "        vertical-align: top;\n",
       "    }\n",
       "\n",
       "    .dataframe thead th {\n",
       "        text-align: right;\n",
       "    }\n",
       "</style>\n",
       "<table border=\"1\" class=\"dataframe\">\n",
       "  <thead>\n",
       "    <tr style=\"text-align: right;\">\n",
       "      <th></th>\n",
       "      <th>Kappa</th>\n",
       "    </tr>\n",
       "  </thead>\n",
       "  <tbody>\n",
       "    <tr>\n",
       "      <th>0</th>\n",
       "      <td>1.0</td>\n",
       "    </tr>\n",
       "    <tr>\n",
       "      <th>1</th>\n",
       "      <td>1.0</td>\n",
       "    </tr>\n",
       "    <tr>\n",
       "      <th>2</th>\n",
       "      <td>0.0</td>\n",
       "    </tr>\n",
       "    <tr>\n",
       "      <th>3</th>\n",
       "      <td>0.0</td>\n",
       "    </tr>\n",
       "    <tr>\n",
       "      <th>4</th>\n",
       "      <td>0.0</td>\n",
       "    </tr>\n",
       "  </tbody>\n",
       "</table>\n",
       "</div>"
      ],
      "text/plain": [
       "   Kappa\n",
       "0    1.0\n",
       "1    1.0\n",
       "2    0.0\n",
       "3    0.0\n",
       "4    0.0"
      ]
     },
     "execution_count": 18,
     "metadata": {},
     "output_type": "execute_result"
    }
   ],
   "source": [
    "df_acc[['Kappa']]"
   ]
  },
  {
   "cell_type": "code",
   "execution_count": 19,
   "metadata": {},
   "outputs": [
    {
     "name": "stderr",
     "output_type": "stream",
     "text": [
      "/home/c.marzahl@de.eu.local/anaconda3/lib/python3.6/site-packages/matplotlib/font_manager.py:1320: UserWarning: findfont: Font family ['Times New Roman'] not found. Falling back to DejaVu Sans\n",
      "  (prop.get_family(), self.defaultFamily[fontext]))\n"
     ]
    },
    {
     "data": {
      "image/png": "[encoded data removed]",
      "text/plain": [
       "<matplotlib.figure.Figure at 0x7efd62845da0>"
      ]
     },
     "metadata": {},
     "output_type": "display_data"
    }
   ],
   "source": [
    "f, ax = plt.subplots(figsize=(3, 5))\n",
    "\n",
    "temp_data = pd.melt(df_acc[['Kappa']])\n",
    "ax = sns.boxplot(x=\"variable\", y=\"value\", data=temp_data, width=.15)\n",
    "\n",
    "for index, row in enumerate(df_acc.values.tolist()):\n",
    "    name = row[0]\n",
    "    kappa = row[3]\n",
    "    \n",
    "    plt.scatter(x=0, y=kappa, marker=symbols[name], label=name, s=100, c=color[name])\n",
    "\n",
    "\n",
    "#ax.xaxis.grid(True)\n",
    "#ax.yaxis.grid(True)\n",
    "ax.legend(bbox_to_anchor=(1.05, 0.8), prop={'size': 15}, frameon=False)\n",
    "\n",
    "ax.set(ylabel=\"Score\", xlabel=\"\")\n",
    "sns.despine(left=True)\n",
    "\n",
    "plt.savefig(\"KappaScore.pdf\", transparent=True)"
   ]
  },
  {
   "cell_type": "code",
   "execution_count": 20,
   "metadata": {},
   "outputs": [
    {
     "data": {
      "text/plain": [
       "1.4775"
      ]
     },
     "execution_count": 20,
     "metadata": {},
     "output_type": "execute_result"
    }
   ],
   "source": [
    "regression_gt"
   ]
  },
  {
   "cell_type": "code",
   "execution_count": 21,
   "metadata": {},
   "outputs": [
    {
     "data": {
      "text/html": [
       "<div>\n",
       "<style scoped>\n",
       "    .dataframe tbody tr th:only-of-type {\n",
       "        vertical-align: middle;\n",
       "    }\n",
       "\n",
       "    .dataframe tbody tr th {\n",
       "        vertical-align: top;\n",
       "    }\n",
       "\n",
       "    .dataframe thead th {\n",
       "        text-align: right;\n",
       "    }\n",
       "</style>\n",
       "<table border=\"1\" class=\"dataframe\">\n",
       "  <thead>\n",
       "    <tr style=\"text-align: right;\">\n",
       "      <th></th>\n",
       "      <th>Name</th>\n",
       "      <th>V0</th>\n",
       "      <th>V1</th>\n",
       "    </tr>\n",
       "  </thead>\n",
       "  <tbody>\n",
       "    <tr>\n",
       "      <th>0</th>\n",
       "      <td>DL_Regression</td>\n",
       "      <td>0.028</td>\n",
       "      <td>0.0280</td>\n",
       "    </tr>\n",
       "    <tr>\n",
       "      <th>1</th>\n",
       "      <td>DL_Classification</td>\n",
       "      <td>0.010</td>\n",
       "      <td>0.0100</td>\n",
       "    </tr>\n",
       "    <tr>\n",
       "      <th>2</th>\n",
       "      <td>Jabari_Samir</td>\n",
       "      <td>0.056</td>\n",
       "      <td>-1.4775</td>\n",
       "    </tr>\n",
       "    <tr>\n",
       "      <th>3</th>\n",
       "      <td>Svenja</td>\n",
       "      <td>0.275</td>\n",
       "      <td>-1.4775</td>\n",
       "    </tr>\n",
       "    <tr>\n",
       "      <th>4</th>\n",
       "      <td>JensK</td>\n",
       "      <td>0.205</td>\n",
       "      <td>-1.4775</td>\n",
       "    </tr>\n",
       "  </tbody>\n",
       "</table>\n",
       "</div>"
      ],
      "text/plain": [
       "                Name     V0      V1\n",
       "0      DL_Regression  0.028  0.0280\n",
       "1  DL_Classification  0.010  0.0100\n",
       "2       Jabari_Samir  0.056 -1.4775\n",
       "3             Svenja  0.275 -1.4775\n",
       "4              JensK  0.205 -1.4775"
      ]
     },
     "execution_count": 21,
     "metadata": {},
     "output_type": "execute_result"
    }
   ],
   "source": [
    "df_reg"
   ]
  },
  {
   "cell_type": "code",
   "execution_count": 22,
   "metadata": {},
   "outputs": [
    {
     "name": "stderr",
     "output_type": "stream",
     "text": [
      "/home/c.marzahl@de.eu.local/anaconda3/lib/python3.6/site-packages/matplotlib/font_manager.py:1320: UserWarning: findfont: Font family ['Times New Roman'] not found. Falling back to DejaVu Sans\n",
      "  (prop.get_family(), self.defaultFamily[fontext]))\n"
     ]
    },
    {
     "data": {
      "image/png": "[encoded data removed]",
      "text/plain": [
       "<matplotlib.figure.Figure at 0x7efd4872d3c8>"
      ]
     },
     "metadata": {},
     "output_type": "display_data"
    }
   ],
   "source": [
    "f, ax = plt.subplots(figsize=(3, 5))\n",
    "\n",
    "temp_data = pd.melt(df_reg[['V0']])# , 'V1'\n",
    "ax = sns.boxplot(x=\"variable\", y=\"value\", data=temp_data, width=.3)\n",
    "\n",
    "for index, row in enumerate(df_reg.values.tolist()):\n",
    "    name = row[0]\n",
    "    acc_0 = row[1]\n",
    "    acc_1 = row[2]\n",
    "    \n",
    "    plt.scatter(x=0, y=acc_0,marker=symbols[name], label=name, s=100, c=color[name])\n",
    "    plt.scatter(x=1, y=acc_1,marker=symbols[name], s=100, c=color[name])\n",
    "\n",
    "\n",
    "#ax.xaxis.grid(True)\n",
    "#ax.yaxis.grid(True)\n",
    "ax.legend(bbox_to_anchor=(1.05, 0.8), prop={'size': 15},frameon=False)\n",
    "\n",
    "ax.set(ylabel=\"Error\", xlabel=\"Trail\")\n",
    "sns.despine(left=True)\n",
    "\n",
    "plt.savefig(\"RegressionError.pdf\", transparent=True)"
   ]
  },
  {
   "cell_type": "code",
   "execution_count": null,
   "metadata": {},
   "outputs": [],
   "source": []
  },
  {
   "cell_type": "code",
   "execution_count": null,
   "metadata": {},
   "outputs": [],
   "source": []
  }
 ],
 "metadata": {
  "kernelspec": {
   "display_name": "Python 3",
   "language": "python",
   "name": "python3"
  },
  "language_info": {
   "codemirror_mode": {
    "name": "ipython",
    "version": 3
   },
   "file_extension": ".py",
   "mimetype": "text/x-python",
   "name": "python",
   "nbconvert_exporter": "python",
   "pygments_lexer": "ipython3",
   "version": "3.6.4"
  }
 },
 "nbformat": 4,
 "nbformat_minor": 2
}
