{
 "cells": [
  {
   "cell_type": "code",
   "execution_count": 1,
   "metadata": {},
   "outputs": [],
   "source": [
    "%reload_ext autoreload\n",
    "%autoreload 2\n",
    "%matplotlib inline"
   ]
  },
  {
   "cell_type": "code",
   "execution_count": 2,
   "metadata": {},
   "outputs": [],
   "source": [
    "from tqdm import tqdm\n",
    "from SlideRunner.dataAccess.database import *\n",
    "from pathlib import Path\n",
    "import pandas as pd\n",
    "import json\n",
    "import sys"
   ]
  },
  {
   "cell_type": "code",
   "execution_count": 3,
   "metadata": {},
   "outputs": [
    {
     "data": {
      "text/plain": [
       "94"
      ]
     },
     "execution_count": 3,
     "metadata": {},
     "output_type": "execute_result"
    }
   ],
   "source": [
    "slides_path = Path(\"\")\n",
    "files = {slide.name: slide for slide in slides_path.rglob(\"*.svs\")}\n",
    "len(files)"
   ]
  },
  {
   "cell_type": "code",
   "execution_count": 4,
   "metadata": {},
   "outputs": [
    {
     "data": {
      "text/html": [
       "<div>\n",
       "<style scoped>\n",
       "    .dataframe tbody tr th:only-of-type {\n",
       "        vertical-align: middle;\n",
       "    }\n",
       "\n",
       "    .dataframe tbody tr th {\n",
       "        vertical-align: top;\n",
       "    }\n",
       "\n",
       "    .dataframe thead th {\n",
       "        text-align: right;\n",
       "    }\n",
       "</style>\n",
       "<table border=\"1\" class=\"dataframe\">\n",
       "  <thead>\n",
       "    <tr style=\"text-align: right;\">\n",
       "      <th></th>\n",
       "      <th>id</th>\n",
       "      <th>image_id</th>\n",
       "      <th>image_set</th>\n",
       "      <th>species</th>\n",
       "      <th>image_name</th>\n",
       "      <th>image_type</th>\n",
       "      <th>grade</th>\n",
       "      <th>vector</th>\n",
       "      <th>user_id</th>\n",
       "      <th>deleted</th>\n",
       "      <th>last_editor</th>\n",
       "      <th>data_set_name</th>\n",
       "      <th>version</th>\n",
       "    </tr>\n",
       "    <tr>\n",
       "      <th>unique_identifier</th>\n",
       "      <th></th>\n",
       "      <th></th>\n",
       "      <th></th>\n",
       "      <th></th>\n",
       "      <th></th>\n",
       "      <th></th>\n",
       "      <th></th>\n",
       "      <th></th>\n",
       "      <th></th>\n",
       "      <th></th>\n",
       "      <th></th>\n",
       "      <th></th>\n",
       "      <th></th>\n",
       "    </tr>\n",
       "  </thead>\n",
       "  <tbody>\n",
       "    <tr>\n",
       "      <th>58c6d630-9031-47be-b0f6-a74d8531041d</th>\n",
       "      <td>2643954</td>\n",
       "      <td>6910</td>\n",
       "      <td>284</td>\n",
       "      <td>Cat</td>\n",
       "      <td>BAL_Cat_Turnbull blue_14.svs</td>\n",
       "      <td>Turnbull</td>\n",
       "      <td>0</td>\n",
       "      <td>{'x1': 24446.0, 'x2': 24593.0, 'y1': 23891.0, ...</td>\n",
       "      <td>1</td>\n",
       "      <td>False</td>\n",
       "      <td>1</td>\n",
       "      <td>SDATA</td>\n",
       "      <td>Density</td>\n",
       "    </tr>\n",
       "    <tr>\n",
       "      <th>aadd3497-a7bb-4e91-82b1-b2fbfdc08d6d</th>\n",
       "      <td>2643955</td>\n",
       "      <td>6910</td>\n",
       "      <td>284</td>\n",
       "      <td>Cat</td>\n",
       "      <td>BAL_Cat_Turnbull blue_14.svs</td>\n",
       "      <td>Turnbull</td>\n",
       "      <td>0</td>\n",
       "      <td>{'x1': 15457.0, 'x2': 15578.0, 'y1': 24909.0, ...</td>\n",
       "      <td>1</td>\n",
       "      <td>False</td>\n",
       "      <td>1</td>\n",
       "      <td>SDATA</td>\n",
       "      <td>Density</td>\n",
       "    </tr>\n",
       "    <tr>\n",
       "      <th>f535a6f4-9311-43e8-8ff3-674f232dc515</th>\n",
       "      <td>2643956</td>\n",
       "      <td>6910</td>\n",
       "      <td>284</td>\n",
       "      <td>Cat</td>\n",
       "      <td>BAL_Cat_Turnbull blue_14.svs</td>\n",
       "      <td>Turnbull</td>\n",
       "      <td>0</td>\n",
       "      <td>{'x1': 20301.0, 'x2': 20410.0, 'y1': 13917.0, ...</td>\n",
       "      <td>1</td>\n",
       "      <td>False</td>\n",
       "      <td>1</td>\n",
       "      <td>SDATA</td>\n",
       "      <td>Density</td>\n",
       "    </tr>\n",
       "    <tr>\n",
       "      <th>c2853048-9036-41cd-8598-dcf2db65f834</th>\n",
       "      <td>2643957</td>\n",
       "      <td>6910</td>\n",
       "      <td>284</td>\n",
       "      <td>Cat</td>\n",
       "      <td>BAL_Cat_Turnbull blue_14.svs</td>\n",
       "      <td>Turnbull</td>\n",
       "      <td>0</td>\n",
       "      <td>{'x1': 26649.0, 'x2': 26791.0, 'y1': 13089.0, ...</td>\n",
       "      <td>1</td>\n",
       "      <td>False</td>\n",
       "      <td>1</td>\n",
       "      <td>SDATA</td>\n",
       "      <td>Density</td>\n",
       "    </tr>\n",
       "    <tr>\n",
       "      <th>1b1549b0-4a44-4f12-b167-fdc2f7429843</th>\n",
       "      <td>2643958</td>\n",
       "      <td>6910</td>\n",
       "      <td>284</td>\n",
       "      <td>Cat</td>\n",
       "      <td>BAL_Cat_Turnbull blue_14.svs</td>\n",
       "      <td>Turnbull</td>\n",
       "      <td>0</td>\n",
       "      <td>{'x1': 14791.0, 'x2': 14941.0, 'y1': 11796.0, ...</td>\n",
       "      <td>1</td>\n",
       "      <td>False</td>\n",
       "      <td>1</td>\n",
       "      <td>SDATA</td>\n",
       "      <td>Density</td>\n",
       "    </tr>\n",
       "  </tbody>\n",
       "</table>\n",
       "</div>"
      ],
      "text/plain": [
       "                                           id  image_id  image_set species  \\\n",
       "unique_identifier                                                            \n",
       "58c6d630-9031-47be-b0f6-a74d8531041d  2643954      6910        284     Cat   \n",
       "aadd3497-a7bb-4e91-82b1-b2fbfdc08d6d  2643955      6910        284     Cat   \n",
       "f535a6f4-9311-43e8-8ff3-674f232dc515  2643956      6910        284     Cat   \n",
       "c2853048-9036-41cd-8598-dcf2db65f834  2643957      6910        284     Cat   \n",
       "1b1549b0-4a44-4f12-b167-fdc2f7429843  2643958      6910        284     Cat   \n",
       "\n",
       "                                                        image_name image_type  \\\n",
       "unique_identifier                                                               \n",
       "58c6d630-9031-47be-b0f6-a74d8531041d  BAL_Cat_Turnbull blue_14.svs   Turnbull   \n",
       "aadd3497-a7bb-4e91-82b1-b2fbfdc08d6d  BAL_Cat_Turnbull blue_14.svs   Turnbull   \n",
       "f535a6f4-9311-43e8-8ff3-674f232dc515  BAL_Cat_Turnbull blue_14.svs   Turnbull   \n",
       "c2853048-9036-41cd-8598-dcf2db65f834  BAL_Cat_Turnbull blue_14.svs   Turnbull   \n",
       "1b1549b0-4a44-4f12-b167-fdc2f7429843  BAL_Cat_Turnbull blue_14.svs   Turnbull   \n",
       "\n",
       "                                      grade  \\\n",
       "unique_identifier                             \n",
       "58c6d630-9031-47be-b0f6-a74d8531041d      0   \n",
       "aadd3497-a7bb-4e91-82b1-b2fbfdc08d6d      0   \n",
       "f535a6f4-9311-43e8-8ff3-674f232dc515      0   \n",
       "c2853048-9036-41cd-8598-dcf2db65f834      0   \n",
       "1b1549b0-4a44-4f12-b167-fdc2f7429843      0   \n",
       "\n",
       "                                                                                 vector  \\\n",
       "unique_identifier                                                                         \n",
       "58c6d630-9031-47be-b0f6-a74d8531041d  {'x1': 24446.0, 'x2': 24593.0, 'y1': 23891.0, ...   \n",
       "aadd3497-a7bb-4e91-82b1-b2fbfdc08d6d  {'x1': 15457.0, 'x2': 15578.0, 'y1': 24909.0, ...   \n",
       "f535a6f4-9311-43e8-8ff3-674f232dc515  {'x1': 20301.0, 'x2': 20410.0, 'y1': 13917.0, ...   \n",
       "c2853048-9036-41cd-8598-dcf2db65f834  {'x1': 26649.0, 'x2': 26791.0, 'y1': 13089.0, ...   \n",
       "1b1549b0-4a44-4f12-b167-fdc2f7429843  {'x1': 14791.0, 'x2': 14941.0, 'y1': 11796.0, ...   \n",
       "\n",
       "                                      user_id  deleted  last_editor  \\\n",
       "unique_identifier                                                     \n",
       "58c6d630-9031-47be-b0f6-a74d8531041d        1    False            1   \n",
       "aadd3497-a7bb-4e91-82b1-b2fbfdc08d6d        1    False            1   \n",
       "f535a6f4-9311-43e8-8ff3-674f232dc515        1    False            1   \n",
       "c2853048-9036-41cd-8598-dcf2db65f834        1    False            1   \n",
       "1b1549b0-4a44-4f12-b167-fdc2f7429843        1    False            1   \n",
       "\n",
       "                                     data_set_name  version  \n",
       "unique_identifier                                            \n",
       "58c6d630-9031-47be-b0f6-a74d8531041d         SDATA  Density  \n",
       "aadd3497-a7bb-4e91-82b1-b2fbfdc08d6d         SDATA  Density  \n",
       "f535a6f4-9311-43e8-8ff3-674f232dc515         SDATA  Density  \n",
       "c2853048-9036-41cd-8598-dcf2db65f834         SDATA  Density  \n",
       "1b1549b0-4a44-4f12-b167-fdc2f7429843         SDATA  Density  "
      ]
     },
     "execution_count": 4,
     "metadata": {},
     "output_type": "execute_result"
    }
   ],
   "source": [
    "df = pd.read_pickle(\"../SDATA/Statistics/SDATA_Final_Annotations.pkl\")\n",
    "df.head()"
   ]
  },
  {
   "cell_type": "code",
   "execution_count": 5,
   "metadata": {},
   "outputs": [],
   "source": [
    "DB = Database()"
   ]
  },
  {
   "cell_type": "code",
   "execution_count": 6,
   "metadata": {},
   "outputs": [
    {
     "data": {
      "text/plain": [
       "<SlideRunner.dataAccess.database.Database at 0x152b251b940>"
      ]
     },
     "execution_count": 6,
     "metadata": {},
     "output_type": "execute_result"
    }
   ],
   "source": [
    "DB.create(\"SDATA_Final_Annotations.sqlite\")"
   ]
  },
  {
   "cell_type": "code",
   "execution_count": 7,
   "metadata": {},
   "outputs": [
    {
     "data": {
      "text/plain": [
       "1"
      ]
     },
     "execution_count": 7,
     "metadata": {},
     "output_type": "execute_result"
    }
   ],
   "source": [
    "DB.insertAnnotator('EXACT')"
   ]
  },
  {
   "cell_type": "code",
   "execution_count": 8,
   "metadata": {},
   "outputs": [],
   "source": [
    "DB.insertClass('0')\n",
    "DB.insertClass('1')\n",
    "DB.insertClass('2')\n",
    "DB.insertClass('3')\n",
    "DB.insertClass('4')"
   ]
  },
  {
   "cell_type": "code",
   "execution_count": 9,
   "metadata": {},
   "outputs": [
    {
     "data": {
      "text/plain": [
       "{'0': 1, '1': 2, '2': 3, '3': 4, '4': 5}"
      ]
     },
     "execution_count": 9,
     "metadata": {},
     "output_type": "execute_result"
    }
   ],
   "source": [
    "classes = DB.getAllClasses()\n",
    "classes = {name:id for name, id in  classes}\n",
    "classes"
   ]
  },
  {
   "cell_type": "code",
   "execution_count": 10,
   "metadata": {},
   "outputs": [
    {
     "name": "stderr",
     "output_type": "stream",
     "text": [
      "100%|███████████████████████████████████████████████████████████████████████████████| 74/74 [3:43:27<00:00, 181.19s/it]\n"
     ]
    }
   ],
   "source": [
    "t = 0\n",
    "for slide in tqdm(df[\"image_name\"].unique()):\n",
    "    \n",
    "    imageDf = df[df[\"image_name\"]==slide]\n",
    "    \n",
    "    image_path = str(files[slide])\n",
    "    \n",
    "    image_id = DB.insertNewSlide(slide,image_path)\n",
    "    image_id = DB.findSlideWithFilename(slide,image_path)\n",
    "    \n",
    "    for label, vector in zip(imageDf['grade'], imageDf['vector']):\n",
    "        \n",
    "        try:\n",
    "        \n",
    "            label_id = classes[str(label)]\n",
    "            vector = json.loads(vector) if type(vector) is str else  vector\n",
    "\n",
    "            DB.insertNewAreaAnnotation(x1=int(vector['x1']),\n",
    "                                       y1=int(vector['y1']),\n",
    "                                       x2=int(vector['x2']),\n",
    "                                       y2=int(vector['y2']), \n",
    "                                       slideUID=image_id, \n",
    "                                       classID=label_id, \n",
    "                                       annotator=1) \n",
    "        except :\n",
    "            t += 1\n",
    "    \n",
    "    "
   ]
  },
  {
   "cell_type": "code",
   "execution_count": null,
   "metadata": {},
   "outputs": [],
   "source": []
  }
 ],
 "metadata": {
  "kernelspec": {
   "display_name": "Python 3",
   "language": "python",
   "name": "python3"
  },
  "language_info": {
   "codemirror_mode": {
    "name": "ipython",
    "version": 3
   },
   "file_extension": ".py",
   "mimetype": "text/x-python",
   "name": "python",
   "nbconvert_exporter": "python",
   "pygments_lexer": "ipython3",
   "version": "3.6.10"
  }
 },
 "nbformat": 4,
 "nbformat_minor": 4
}
